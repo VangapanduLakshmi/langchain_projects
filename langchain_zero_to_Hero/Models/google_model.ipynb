{
  "cells": [
    {
      "cell_type": "code",
      "execution_count": 1,
      "metadata": {
        "id": "ztFbHg1kq50M",
        "colab": {
          "base_uri": "https://localhost:8080/"
        },
        "outputId": "1410eda9-fbaa-40df-e589-9764fb7cc854"
      },
      "outputs": [
        {
          "output_type": "stream",
          "name": "stdout",
          "text": [
            "\u001b[31mERROR: Could not find a version that satisfies the requirement langchain==0.3.30 (from versions: 0.0.1, 0.0.2, 0.0.3, 0.0.4, 0.0.5, 0.0.6, 0.0.7, 0.0.8, 0.0.9, 0.0.10, 0.0.11, 0.0.12, 0.0.13, 0.0.14, 0.0.15, 0.0.16, 0.0.17, 0.0.18, 0.0.19, 0.0.20, 0.0.21, 0.0.22, 0.0.23, 0.0.24, 0.0.25, 0.0.26, 0.0.27, 0.0.28, 0.0.29, 0.0.30, 0.0.31, 0.0.32, 0.0.33, 0.0.34, 0.0.35, 0.0.36, 0.0.37, 0.0.38, 0.0.39, 0.0.40, 0.0.41, 0.0.42, 0.0.43, 0.0.44, 0.0.45, 0.0.46, 0.0.47, 0.0.48, 0.0.49, 0.0.50, 0.0.51, 0.0.52, 0.0.53, 0.0.54, 0.0.55, 0.0.56, 0.0.57, 0.0.58, 0.0.59, 0.0.60, 0.0.61, 0.0.63, 0.0.64, 0.0.65, 0.0.66, 0.0.67, 0.0.68, 0.0.69, 0.0.70, 0.0.71, 0.0.72, 0.0.73, 0.0.74, 0.0.75, 0.0.76, 0.0.77, 0.0.78, 0.0.79, 0.0.80, 0.0.81, 0.0.82, 0.0.83, 0.0.84, 0.0.85, 0.0.86, 0.0.87, 0.0.88, 0.0.89, 0.0.90, 0.0.91, 0.0.92, 0.0.93, 0.0.94, 0.0.95, 0.0.96, 0.0.97, 0.0.98, 0.0.99rc0, 0.0.99, 0.0.100, 0.0.101rc0, 0.0.101, 0.0.102rc0, 0.0.102, 0.0.103, 0.0.104, 0.0.105, 0.0.106, 0.0.107, 0.0.108, 0.0.109, 0.0.110, 0.0.111, 0.0.112, 0.0.113, 0.0.114, 0.0.115, 0.0.116, 0.0.117, 0.0.118, 0.0.119, 0.0.120, 0.0.121, 0.0.122, 0.0.123, 0.0.124, 0.0.125, 0.0.126, 0.0.127, 0.0.128, 0.0.129, 0.0.130, 0.0.131, 0.0.132, 0.0.133, 0.0.134, 0.0.135, 0.0.136, 0.0.137, 0.0.138, 0.0.139, 0.0.140, 0.0.141, 0.0.142, 0.0.143, 0.0.144, 0.0.145, 0.0.146, 0.0.147, 0.0.148, 0.0.149, 0.0.150, 0.0.151, 0.0.152, 0.0.153, 0.0.154, 0.0.155, 0.0.156, 0.0.157, 0.0.158, 0.0.159, 0.0.160, 0.0.161, 0.0.162, 0.0.163, 0.0.164, 0.0.165, 0.0.166, 0.0.167, 0.0.168, 0.0.169, 0.0.170, 0.0.171, 0.0.172, 0.0.173, 0.0.174, 0.0.175, 0.0.176, 0.0.177, 0.0.178, 0.0.179, 0.0.180, 0.0.181, 0.0.182, 0.0.183, 0.0.184, 0.0.185, 0.0.186, 0.0.187, 0.0.188, 0.0.189, 0.0.190, 0.0.191, 0.0.192, 0.0.193, 0.0.194, 0.0.195, 0.0.196, 0.0.197, 0.0.198, 0.0.199, 0.0.200, 0.0.201, 0.0.202, 0.0.203, 0.0.204, 0.0.205, 0.0.206, 0.0.207, 0.0.208, 0.0.209, 0.0.210, 0.0.211, 0.0.212, 0.0.213, 0.0.214, 0.0.215, 0.0.216, 0.0.217, 0.0.218, 0.0.219, 0.0.220, 0.0.221, 0.0.222, 0.0.223, 0.0.224, 0.0.225, 0.0.226, 0.0.227, 0.0.228, 0.0.229, 0.0.230, 0.0.231, 0.0.232, 0.0.233, 0.0.234, 0.0.235, 0.0.236, 0.0.237, 0.0.238, 0.0.239, 0.0.240rc0, 0.0.240rc1, 0.0.240rc4, 0.0.240, 0.0.242, 0.0.243, 0.0.244, 0.0.245, 0.0.246, 0.0.247, 0.0.248, 0.0.249, 0.0.250, 0.0.251, 0.0.252, 0.0.253, 0.0.254, 0.0.255, 0.0.256, 0.0.257, 0.0.258, 0.0.259, 0.0.260, 0.0.261, 0.0.262, 0.0.263, 0.0.264, 0.0.265, 0.0.266, 0.0.267, 0.0.268, 0.0.269, 0.0.270, 0.0.271, 0.0.272, 0.0.273, 0.0.274, 0.0.275, 0.0.276, 0.0.277, 0.0.278, 0.0.279, 0.0.281, 0.0.283, 0.0.284, 0.0.285, 0.0.286, 0.0.287, 0.0.288, 0.0.289, 0.0.290, 0.0.291, 0.0.292, 0.0.293, 0.0.294, 0.0.295, 0.0.296, 0.0.297, 0.0.298, 0.0.299, 0.0.300, 0.0.301, 0.0.302, 0.0.303, 0.0.304, 0.0.305, 0.0.306, 0.0.307, 0.0.308, 0.0.309, 0.0.310, 0.0.311, 0.0.312, 0.0.313, 0.0.314, 0.0.315, 0.0.316, 0.0.317, 0.0.318, 0.0.319, 0.0.320, 0.0.321, 0.0.322, 0.0.323, 0.0.324, 0.0.325, 0.0.326, 0.0.327, 0.0.329, 0.0.330, 0.0.331rc0, 0.0.331rc1, 0.0.331rc2, 0.0.331rc3, 0.0.331, 0.0.332, 0.0.333, 0.0.334, 0.0.335, 0.0.336, 0.0.337, 0.0.338, 0.0.339rc0, 0.0.339rc1, 0.0.339rc2, 0.0.339rc3, 0.0.339, 0.0.340, 0.0.341, 0.0.342, 0.0.343, 0.0.344, 0.0.345, 0.0.346, 0.0.347, 0.0.348, 0.0.349rc1, 0.0.349rc2, 0.0.349, 0.0.350, 0.0.351, 0.0.352, 0.0.353, 0.0.354, 0.1.0, 0.1.1, 0.1.2, 0.1.3, 0.1.4, 0.1.5, 0.1.6, 0.1.7, 0.1.8, 0.1.9, 0.1.10, 0.1.11, 0.1.12, 0.1.13, 0.1.14, 0.1.15, 0.1.16, 0.1.17rc1, 0.1.17, 0.1.19, 0.1.20, 0.2.0rc1, 0.2.0rc2, 0.2.0, 0.2.1, 0.2.2, 0.2.3, 0.2.4, 0.2.5, 0.2.6, 0.2.7, 0.2.8, 0.2.9, 0.2.10, 0.2.11, 0.2.12, 0.2.13, 0.2.14, 0.2.15, 0.2.16, 0.2.17, 0.3.0.dev1, 0.3.0.dev2, 0.3.0, 0.3.1, 0.3.2, 0.3.3, 0.3.4, 0.3.5, 0.3.6, 0.3.7, 0.3.8, 0.3.9, 0.3.10, 0.3.11, 0.3.12, 0.3.13, 0.3.14, 0.3.15, 0.3.16, 0.3.17, 0.3.18rc1)\u001b[0m\u001b[31m\n",
            "\u001b[0m\u001b[31mERROR: No matching distribution found for langchain==0.3.30\u001b[0m\u001b[31m\n",
            "\u001b[0mCollecting langchain==0.3.14\n",
            "  Downloading langchain-0.3.14-py3-none-any.whl.metadata (7.1 kB)\n",
            "Requirement already satisfied: PyYAML>=5.3 in /usr/local/lib/python3.11/dist-packages (from langchain==0.3.14) (6.0.2)\n",
            "Requirement already satisfied: SQLAlchemy<3,>=1.4 in /usr/local/lib/python3.11/dist-packages (from langchain==0.3.14) (2.0.37)\n",
            "Requirement already satisfied: aiohttp<4.0.0,>=3.8.3 in /usr/local/lib/python3.11/dist-packages (from langchain==0.3.14) (3.11.11)\n",
            "Requirement already satisfied: langchain-core<0.4.0,>=0.3.29 in /usr/local/lib/python3.11/dist-packages (from langchain==0.3.14) (0.3.32)\n",
            "Requirement already satisfied: langchain-text-splitters<0.4.0,>=0.3.3 in /usr/local/lib/python3.11/dist-packages (from langchain==0.3.14) (0.3.5)\n",
            "Collecting langsmith<0.3,>=0.1.17 (from langchain==0.3.14)\n",
            "  Downloading langsmith-0.2.11-py3-none-any.whl.metadata (14 kB)\n",
            "Requirement already satisfied: numpy<2,>=1.22.4 in /usr/local/lib/python3.11/dist-packages (from langchain==0.3.14) (1.26.4)\n",
            "Requirement already satisfied: pydantic<3.0.0,>=2.7.4 in /usr/local/lib/python3.11/dist-packages (from langchain==0.3.14) (2.10.6)\n",
            "Requirement already satisfied: requests<3,>=2 in /usr/local/lib/python3.11/dist-packages (from langchain==0.3.14) (2.32.3)\n",
            "Requirement already satisfied: tenacity!=8.4.0,<10,>=8.1.0 in /usr/local/lib/python3.11/dist-packages (from langchain==0.3.14) (9.0.0)\n",
            "Requirement already satisfied: aiohappyeyeballs>=2.3.0 in /usr/local/lib/python3.11/dist-packages (from aiohttp<4.0.0,>=3.8.3->langchain==0.3.14) (2.4.4)\n",
            "Requirement already satisfied: aiosignal>=1.1.2 in /usr/local/lib/python3.11/dist-packages (from aiohttp<4.0.0,>=3.8.3->langchain==0.3.14) (1.3.2)\n",
            "Requirement already satisfied: attrs>=17.3.0 in /usr/local/lib/python3.11/dist-packages (from aiohttp<4.0.0,>=3.8.3->langchain==0.3.14) (25.1.0)\n",
            "Requirement already satisfied: frozenlist>=1.1.1 in /usr/local/lib/python3.11/dist-packages (from aiohttp<4.0.0,>=3.8.3->langchain==0.3.14) (1.5.0)\n",
            "Requirement already satisfied: multidict<7.0,>=4.5 in /usr/local/lib/python3.11/dist-packages (from aiohttp<4.0.0,>=3.8.3->langchain==0.3.14) (6.1.0)\n",
            "Requirement already satisfied: propcache>=0.2.0 in /usr/local/lib/python3.11/dist-packages (from aiohttp<4.0.0,>=3.8.3->langchain==0.3.14) (0.2.1)\n",
            "Requirement already satisfied: yarl<2.0,>=1.17.0 in /usr/local/lib/python3.11/dist-packages (from aiohttp<4.0.0,>=3.8.3->langchain==0.3.14) (1.18.3)\n",
            "Requirement already satisfied: jsonpatch<2.0,>=1.33 in /usr/local/lib/python3.11/dist-packages (from langchain-core<0.4.0,>=0.3.29->langchain==0.3.14) (1.33)\n",
            "Requirement already satisfied: packaging<25,>=23.2 in /usr/local/lib/python3.11/dist-packages (from langchain-core<0.4.0,>=0.3.29->langchain==0.3.14) (24.2)\n",
            "Requirement already satisfied: typing-extensions>=4.7 in /usr/local/lib/python3.11/dist-packages (from langchain-core<0.4.0,>=0.3.29->langchain==0.3.14) (4.12.2)\n",
            "Requirement already satisfied: httpx<1,>=0.23.0 in /usr/local/lib/python3.11/dist-packages (from langsmith<0.3,>=0.1.17->langchain==0.3.14) (0.28.1)\n",
            "Requirement already satisfied: orjson<4.0.0,>=3.9.14 in /usr/local/lib/python3.11/dist-packages (from langsmith<0.3,>=0.1.17->langchain==0.3.14) (3.10.15)\n",
            "Requirement already satisfied: requests-toolbelt<2.0.0,>=1.0.0 in /usr/local/lib/python3.11/dist-packages (from langsmith<0.3,>=0.1.17->langchain==0.3.14) (1.0.0)\n",
            "Requirement already satisfied: annotated-types>=0.6.0 in /usr/local/lib/python3.11/dist-packages (from pydantic<3.0.0,>=2.7.4->langchain==0.3.14) (0.7.0)\n",
            "Requirement already satisfied: pydantic-core==2.27.2 in /usr/local/lib/python3.11/dist-packages (from pydantic<3.0.0,>=2.7.4->langchain==0.3.14) (2.27.2)\n",
            "Requirement already satisfied: charset-normalizer<4,>=2 in /usr/local/lib/python3.11/dist-packages (from requests<3,>=2->langchain==0.3.14) (3.4.1)\n",
            "Requirement already satisfied: idna<4,>=2.5 in /usr/local/lib/python3.11/dist-packages (from requests<3,>=2->langchain==0.3.14) (3.10)\n",
            "Requirement already satisfied: urllib3<3,>=1.21.1 in /usr/local/lib/python3.11/dist-packages (from requests<3,>=2->langchain==0.3.14) (2.3.0)\n",
            "Requirement already satisfied: certifi>=2017.4.17 in /usr/local/lib/python3.11/dist-packages (from requests<3,>=2->langchain==0.3.14) (2024.12.14)\n",
            "Requirement already satisfied: greenlet!=0.4.17 in /usr/local/lib/python3.11/dist-packages (from SQLAlchemy<3,>=1.4->langchain==0.3.14) (3.1.1)\n",
            "Requirement already satisfied: anyio in /usr/local/lib/python3.11/dist-packages (from httpx<1,>=0.23.0->langsmith<0.3,>=0.1.17->langchain==0.3.14) (3.7.1)\n",
            "Requirement already satisfied: httpcore==1.* in /usr/local/lib/python3.11/dist-packages (from httpx<1,>=0.23.0->langsmith<0.3,>=0.1.17->langchain==0.3.14) (1.0.7)\n",
            "Requirement already satisfied: h11<0.15,>=0.13 in /usr/local/lib/python3.11/dist-packages (from httpcore==1.*->httpx<1,>=0.23.0->langsmith<0.3,>=0.1.17->langchain==0.3.14) (0.14.0)\n",
            "Requirement already satisfied: jsonpointer>=1.9 in /usr/local/lib/python3.11/dist-packages (from jsonpatch<2.0,>=1.33->langchain-core<0.4.0,>=0.3.29->langchain==0.3.14) (3.0.0)\n",
            "Requirement already satisfied: sniffio>=1.1 in /usr/local/lib/python3.11/dist-packages (from anyio->httpx<1,>=0.23.0->langsmith<0.3,>=0.1.17->langchain==0.3.14) (1.3.1)\n",
            "Downloading langchain-0.3.14-py3-none-any.whl (1.0 MB)\n",
            "\u001b[2K   \u001b[90m━━━━━━━━━━━━━━━━━━━━━━━━━━━━━━━━━━━━━━━━\u001b[0m \u001b[32m1.0/1.0 MB\u001b[0m \u001b[31m41.0 MB/s\u001b[0m eta \u001b[36m0:00:00\u001b[0m\n",
            "\u001b[?25hDownloading langsmith-0.2.11-py3-none-any.whl (326 kB)\n",
            "\u001b[2K   \u001b[90m━━━━━━━━━━━━━━━━━━━━━━━━━━━━━━━━━━━━━━━━\u001b[0m \u001b[32m326.9/326.9 kB\u001b[0m \u001b[31m18.3 MB/s\u001b[0m eta \u001b[36m0:00:00\u001b[0m\n",
            "\u001b[?25hInstalling collected packages: langsmith, langchain\n",
            "  Attempting uninstall: langsmith\n",
            "    Found existing installation: langsmith 0.3.2\n",
            "    Uninstalling langsmith-0.3.2:\n",
            "      Successfully uninstalled langsmith-0.3.2\n",
            "  Attempting uninstall: langchain\n",
            "    Found existing installation: langchain 0.3.16\n",
            "    Uninstalling langchain-0.3.16:\n",
            "      Successfully uninstalled langchain-0.3.16\n",
            "Successfully installed langchain-0.3.14 langsmith-0.2.11\n",
            "Collecting langchain-openai==0.3.0\n",
            "  Downloading langchain_openai-0.3.0-py3-none-any.whl.metadata (2.7 kB)\n",
            "Requirement already satisfied: langchain-core<0.4.0,>=0.3.29 in /usr/local/lib/python3.11/dist-packages (from langchain-openai==0.3.0) (0.3.32)\n",
            "Requirement already satisfied: openai<2.0.0,>=1.58.1 in /usr/local/lib/python3.11/dist-packages (from langchain-openai==0.3.0) (1.59.9)\n",
            "Collecting tiktoken<1,>=0.7 (from langchain-openai==0.3.0)\n",
            "  Downloading tiktoken-0.8.0-cp311-cp311-manylinux_2_17_x86_64.manylinux2014_x86_64.whl.metadata (6.6 kB)\n",
            "Requirement already satisfied: PyYAML>=5.3 in /usr/local/lib/python3.11/dist-packages (from langchain-core<0.4.0,>=0.3.29->langchain-openai==0.3.0) (6.0.2)\n",
            "Requirement already satisfied: jsonpatch<2.0,>=1.33 in /usr/local/lib/python3.11/dist-packages (from langchain-core<0.4.0,>=0.3.29->langchain-openai==0.3.0) (1.33)\n",
            "Requirement already satisfied: langsmith<0.4,>=0.1.125 in /usr/local/lib/python3.11/dist-packages (from langchain-core<0.4.0,>=0.3.29->langchain-openai==0.3.0) (0.2.11)\n",
            "Requirement already satisfied: packaging<25,>=23.2 in /usr/local/lib/python3.11/dist-packages (from langchain-core<0.4.0,>=0.3.29->langchain-openai==0.3.0) (24.2)\n",
            "Requirement already satisfied: pydantic<3.0.0,>=2.5.2 in /usr/local/lib/python3.11/dist-packages (from langchain-core<0.4.0,>=0.3.29->langchain-openai==0.3.0) (2.10.6)\n",
            "Requirement already satisfied: tenacity!=8.4.0,<10.0.0,>=8.1.0 in /usr/local/lib/python3.11/dist-packages (from langchain-core<0.4.0,>=0.3.29->langchain-openai==0.3.0) (9.0.0)\n",
            "Requirement already satisfied: typing-extensions>=4.7 in /usr/local/lib/python3.11/dist-packages (from langchain-core<0.4.0,>=0.3.29->langchain-openai==0.3.0) (4.12.2)\n",
            "Requirement already satisfied: anyio<5,>=3.5.0 in /usr/local/lib/python3.11/dist-packages (from openai<2.0.0,>=1.58.1->langchain-openai==0.3.0) (3.7.1)\n",
            "Requirement already satisfied: distro<2,>=1.7.0 in /usr/local/lib/python3.11/dist-packages (from openai<2.0.0,>=1.58.1->langchain-openai==0.3.0) (1.9.0)\n",
            "Requirement already satisfied: httpx<1,>=0.23.0 in /usr/local/lib/python3.11/dist-packages (from openai<2.0.0,>=1.58.1->langchain-openai==0.3.0) (0.28.1)\n",
            "Requirement already satisfied: jiter<1,>=0.4.0 in /usr/local/lib/python3.11/dist-packages (from openai<2.0.0,>=1.58.1->langchain-openai==0.3.0) (0.8.2)\n",
            "Requirement already satisfied: sniffio in /usr/local/lib/python3.11/dist-packages (from openai<2.0.0,>=1.58.1->langchain-openai==0.3.0) (1.3.1)\n",
            "Requirement already satisfied: tqdm>4 in /usr/local/lib/python3.11/dist-packages (from openai<2.0.0,>=1.58.1->langchain-openai==0.3.0) (4.67.1)\n",
            "Requirement already satisfied: regex>=2022.1.18 in /usr/local/lib/python3.11/dist-packages (from tiktoken<1,>=0.7->langchain-openai==0.3.0) (2024.11.6)\n",
            "Requirement already satisfied: requests>=2.26.0 in /usr/local/lib/python3.11/dist-packages (from tiktoken<1,>=0.7->langchain-openai==0.3.0) (2.32.3)\n",
            "Requirement already satisfied: idna>=2.8 in /usr/local/lib/python3.11/dist-packages (from anyio<5,>=3.5.0->openai<2.0.0,>=1.58.1->langchain-openai==0.3.0) (3.10)\n",
            "Requirement already satisfied: certifi in /usr/local/lib/python3.11/dist-packages (from httpx<1,>=0.23.0->openai<2.0.0,>=1.58.1->langchain-openai==0.3.0) (2024.12.14)\n",
            "Requirement already satisfied: httpcore==1.* in /usr/local/lib/python3.11/dist-packages (from httpx<1,>=0.23.0->openai<2.0.0,>=1.58.1->langchain-openai==0.3.0) (1.0.7)\n",
            "Requirement already satisfied: h11<0.15,>=0.13 in /usr/local/lib/python3.11/dist-packages (from httpcore==1.*->httpx<1,>=0.23.0->openai<2.0.0,>=1.58.1->langchain-openai==0.3.0) (0.14.0)\n",
            "Requirement already satisfied: jsonpointer>=1.9 in /usr/local/lib/python3.11/dist-packages (from jsonpatch<2.0,>=1.33->langchain-core<0.4.0,>=0.3.29->langchain-openai==0.3.0) (3.0.0)\n",
            "Requirement already satisfied: orjson<4.0.0,>=3.9.14 in /usr/local/lib/python3.11/dist-packages (from langsmith<0.4,>=0.1.125->langchain-core<0.4.0,>=0.3.29->langchain-openai==0.3.0) (3.10.15)\n",
            "Requirement already satisfied: requests-toolbelt<2.0.0,>=1.0.0 in /usr/local/lib/python3.11/dist-packages (from langsmith<0.4,>=0.1.125->langchain-core<0.4.0,>=0.3.29->langchain-openai==0.3.0) (1.0.0)\n",
            "Requirement already satisfied: annotated-types>=0.6.0 in /usr/local/lib/python3.11/dist-packages (from pydantic<3.0.0,>=2.5.2->langchain-core<0.4.0,>=0.3.29->langchain-openai==0.3.0) (0.7.0)\n",
            "Requirement already satisfied: pydantic-core==2.27.2 in /usr/local/lib/python3.11/dist-packages (from pydantic<3.0.0,>=2.5.2->langchain-core<0.4.0,>=0.3.29->langchain-openai==0.3.0) (2.27.2)\n",
            "Requirement already satisfied: charset-normalizer<4,>=2 in /usr/local/lib/python3.11/dist-packages (from requests>=2.26.0->tiktoken<1,>=0.7->langchain-openai==0.3.0) (3.4.1)\n",
            "Requirement already satisfied: urllib3<3,>=1.21.1 in /usr/local/lib/python3.11/dist-packages (from requests>=2.26.0->tiktoken<1,>=0.7->langchain-openai==0.3.0) (2.3.0)\n",
            "Downloading langchain_openai-0.3.0-py3-none-any.whl (54 kB)\n",
            "\u001b[2K   \u001b[90m━━━━━━━━━━━━━━━━━━━━━━━━━━━━━━━━━━━━━━━━\u001b[0m \u001b[32m54.2/54.2 kB\u001b[0m \u001b[31m3.6 MB/s\u001b[0m eta \u001b[36m0:00:00\u001b[0m\n",
            "\u001b[?25hDownloading tiktoken-0.8.0-cp311-cp311-manylinux_2_17_x86_64.manylinux2014_x86_64.whl (1.2 MB)\n",
            "\u001b[2K   \u001b[90m━━━━━━━━━━━━━━━━━━━━━━━━━━━━━━━━━━━━━━━━\u001b[0m \u001b[32m1.2/1.2 MB\u001b[0m \u001b[31m50.0 MB/s\u001b[0m eta \u001b[36m0:00:00\u001b[0m\n",
            "\u001b[?25hInstalling collected packages: tiktoken, langchain-openai\n",
            "Successfully installed langchain-openai-0.3.0 tiktoken-0.8.0\n",
            "Collecting langchain-community==0.3.14\n",
            "  Downloading langchain_community-0.3.14-py3-none-any.whl.metadata (2.9 kB)\n",
            "Requirement already satisfied: PyYAML>=5.3 in /usr/local/lib/python3.11/dist-packages (from langchain-community==0.3.14) (6.0.2)\n",
            "Requirement already satisfied: SQLAlchemy<3,>=1.4 in /usr/local/lib/python3.11/dist-packages (from langchain-community==0.3.14) (2.0.37)\n",
            "Requirement already satisfied: aiohttp<4.0.0,>=3.8.3 in /usr/local/lib/python3.11/dist-packages (from langchain-community==0.3.14) (3.11.11)\n",
            "Collecting dataclasses-json<0.7,>=0.5.7 (from langchain-community==0.3.14)\n",
            "  Downloading dataclasses_json-0.6.7-py3-none-any.whl.metadata (25 kB)\n",
            "Collecting httpx-sse<0.5.0,>=0.4.0 (from langchain-community==0.3.14)\n",
            "  Downloading httpx_sse-0.4.0-py3-none-any.whl.metadata (9.0 kB)\n",
            "Requirement already satisfied: langchain<0.4.0,>=0.3.14 in /usr/local/lib/python3.11/dist-packages (from langchain-community==0.3.14) (0.3.14)\n",
            "Requirement already satisfied: langchain-core<0.4.0,>=0.3.29 in /usr/local/lib/python3.11/dist-packages (from langchain-community==0.3.14) (0.3.32)\n",
            "Requirement already satisfied: langsmith<0.3,>=0.1.125 in /usr/local/lib/python3.11/dist-packages (from langchain-community==0.3.14) (0.2.11)\n",
            "Requirement already satisfied: numpy<2,>=1.22.4 in /usr/local/lib/python3.11/dist-packages (from langchain-community==0.3.14) (1.26.4)\n",
            "Collecting pydantic-settings<3.0.0,>=2.4.0 (from langchain-community==0.3.14)\n",
            "  Downloading pydantic_settings-2.7.1-py3-none-any.whl.metadata (3.5 kB)\n",
            "Requirement already satisfied: requests<3,>=2 in /usr/local/lib/python3.11/dist-packages (from langchain-community==0.3.14) (2.32.3)\n",
            "Requirement already satisfied: tenacity!=8.4.0,<10,>=8.1.0 in /usr/local/lib/python3.11/dist-packages (from langchain-community==0.3.14) (9.0.0)\n",
            "Requirement already satisfied: aiohappyeyeballs>=2.3.0 in /usr/local/lib/python3.11/dist-packages (from aiohttp<4.0.0,>=3.8.3->langchain-community==0.3.14) (2.4.4)\n",
            "Requirement already satisfied: aiosignal>=1.1.2 in /usr/local/lib/python3.11/dist-packages (from aiohttp<4.0.0,>=3.8.3->langchain-community==0.3.14) (1.3.2)\n",
            "Requirement already satisfied: attrs>=17.3.0 in /usr/local/lib/python3.11/dist-packages (from aiohttp<4.0.0,>=3.8.3->langchain-community==0.3.14) (25.1.0)\n",
            "Requirement already satisfied: frozenlist>=1.1.1 in /usr/local/lib/python3.11/dist-packages (from aiohttp<4.0.0,>=3.8.3->langchain-community==0.3.14) (1.5.0)\n",
            "Requirement already satisfied: multidict<7.0,>=4.5 in /usr/local/lib/python3.11/dist-packages (from aiohttp<4.0.0,>=3.8.3->langchain-community==0.3.14) (6.1.0)\n",
            "Requirement already satisfied: propcache>=0.2.0 in /usr/local/lib/python3.11/dist-packages (from aiohttp<4.0.0,>=3.8.3->langchain-community==0.3.14) (0.2.1)\n",
            "Requirement already satisfied: yarl<2.0,>=1.17.0 in /usr/local/lib/python3.11/dist-packages (from aiohttp<4.0.0,>=3.8.3->langchain-community==0.3.14) (1.18.3)\n",
            "Collecting marshmallow<4.0.0,>=3.18.0 (from dataclasses-json<0.7,>=0.5.7->langchain-community==0.3.14)\n",
            "  Downloading marshmallow-3.26.1-py3-none-any.whl.metadata (7.3 kB)\n",
            "Collecting typing-inspect<1,>=0.4.0 (from dataclasses-json<0.7,>=0.5.7->langchain-community==0.3.14)\n",
            "  Downloading typing_inspect-0.9.0-py3-none-any.whl.metadata (1.5 kB)\n",
            "Requirement already satisfied: langchain-text-splitters<0.4.0,>=0.3.3 in /usr/local/lib/python3.11/dist-packages (from langchain<0.4.0,>=0.3.14->langchain-community==0.3.14) (0.3.5)\n",
            "Requirement already satisfied: pydantic<3.0.0,>=2.7.4 in /usr/local/lib/python3.11/dist-packages (from langchain<0.4.0,>=0.3.14->langchain-community==0.3.14) (2.10.6)\n",
            "Requirement already satisfied: jsonpatch<2.0,>=1.33 in /usr/local/lib/python3.11/dist-packages (from langchain-core<0.4.0,>=0.3.29->langchain-community==0.3.14) (1.33)\n",
            "Requirement already satisfied: packaging<25,>=23.2 in /usr/local/lib/python3.11/dist-packages (from langchain-core<0.4.0,>=0.3.29->langchain-community==0.3.14) (24.2)\n",
            "Requirement already satisfied: typing-extensions>=4.7 in /usr/local/lib/python3.11/dist-packages (from langchain-core<0.4.0,>=0.3.29->langchain-community==0.3.14) (4.12.2)\n",
            "Requirement already satisfied: httpx<1,>=0.23.0 in /usr/local/lib/python3.11/dist-packages (from langsmith<0.3,>=0.1.125->langchain-community==0.3.14) (0.28.1)\n",
            "Requirement already satisfied: orjson<4.0.0,>=3.9.14 in /usr/local/lib/python3.11/dist-packages (from langsmith<0.3,>=0.1.125->langchain-community==0.3.14) (3.10.15)\n",
            "Requirement already satisfied: requests-toolbelt<2.0.0,>=1.0.0 in /usr/local/lib/python3.11/dist-packages (from langsmith<0.3,>=0.1.125->langchain-community==0.3.14) (1.0.0)\n",
            "Collecting python-dotenv>=0.21.0 (from pydantic-settings<3.0.0,>=2.4.0->langchain-community==0.3.14)\n",
            "  Downloading python_dotenv-1.0.1-py3-none-any.whl.metadata (23 kB)\n",
            "Requirement already satisfied: charset-normalizer<4,>=2 in /usr/local/lib/python3.11/dist-packages (from requests<3,>=2->langchain-community==0.3.14) (3.4.1)\n",
            "Requirement already satisfied: idna<4,>=2.5 in /usr/local/lib/python3.11/dist-packages (from requests<3,>=2->langchain-community==0.3.14) (3.10)\n",
            "Requirement already satisfied: urllib3<3,>=1.21.1 in /usr/local/lib/python3.11/dist-packages (from requests<3,>=2->langchain-community==0.3.14) (2.3.0)\n",
            "Requirement already satisfied: certifi>=2017.4.17 in /usr/local/lib/python3.11/dist-packages (from requests<3,>=2->langchain-community==0.3.14) (2024.12.14)\n",
            "Requirement already satisfied: greenlet!=0.4.17 in /usr/local/lib/python3.11/dist-packages (from SQLAlchemy<3,>=1.4->langchain-community==0.3.14) (3.1.1)\n",
            "Requirement already satisfied: anyio in /usr/local/lib/python3.11/dist-packages (from httpx<1,>=0.23.0->langsmith<0.3,>=0.1.125->langchain-community==0.3.14) (3.7.1)\n",
            "Requirement already satisfied: httpcore==1.* in /usr/local/lib/python3.11/dist-packages (from httpx<1,>=0.23.0->langsmith<0.3,>=0.1.125->langchain-community==0.3.14) (1.0.7)\n",
            "Requirement already satisfied: h11<0.15,>=0.13 in /usr/local/lib/python3.11/dist-packages (from httpcore==1.*->httpx<1,>=0.23.0->langsmith<0.3,>=0.1.125->langchain-community==0.3.14) (0.14.0)\n",
            "Requirement already satisfied: jsonpointer>=1.9 in /usr/local/lib/python3.11/dist-packages (from jsonpatch<2.0,>=1.33->langchain-core<0.4.0,>=0.3.29->langchain-community==0.3.14) (3.0.0)\n",
            "Requirement already satisfied: annotated-types>=0.6.0 in /usr/local/lib/python3.11/dist-packages (from pydantic<3.0.0,>=2.7.4->langchain<0.4.0,>=0.3.14->langchain-community==0.3.14) (0.7.0)\n",
            "Requirement already satisfied: pydantic-core==2.27.2 in /usr/local/lib/python3.11/dist-packages (from pydantic<3.0.0,>=2.7.4->langchain<0.4.0,>=0.3.14->langchain-community==0.3.14) (2.27.2)\n",
            "Collecting mypy-extensions>=0.3.0 (from typing-inspect<1,>=0.4.0->dataclasses-json<0.7,>=0.5.7->langchain-community==0.3.14)\n",
            "  Downloading mypy_extensions-1.0.0-py3-none-any.whl.metadata (1.1 kB)\n",
            "Requirement already satisfied: sniffio>=1.1 in /usr/local/lib/python3.11/dist-packages (from anyio->httpx<1,>=0.23.0->langsmith<0.3,>=0.1.125->langchain-community==0.3.14) (1.3.1)\n",
            "Downloading langchain_community-0.3.14-py3-none-any.whl (2.5 MB)\n",
            "\u001b[2K   \u001b[90m━━━━━━━━━━━━━━━━━━━━━━━━━━━━━━━━━━━━━━━━\u001b[0m \u001b[32m2.5/2.5 MB\u001b[0m \u001b[31m65.3 MB/s\u001b[0m eta \u001b[36m0:00:00\u001b[0m\n",
            "\u001b[?25hDownloading dataclasses_json-0.6.7-py3-none-any.whl (28 kB)\n",
            "Downloading httpx_sse-0.4.0-py3-none-any.whl (7.8 kB)\n",
            "Downloading pydantic_settings-2.7.1-py3-none-any.whl (29 kB)\n",
            "Downloading marshmallow-3.26.1-py3-none-any.whl (50 kB)\n",
            "\u001b[2K   \u001b[90m━━━━━━━━━━━━━━━━━━━━━━━━━━━━━━━━━━━━━━━━\u001b[0m \u001b[32m50.9/50.9 kB\u001b[0m \u001b[31m4.5 MB/s\u001b[0m eta \u001b[36m0:00:00\u001b[0m\n",
            "\u001b[?25hDownloading python_dotenv-1.0.1-py3-none-any.whl (19 kB)\n",
            "Downloading typing_inspect-0.9.0-py3-none-any.whl (8.8 kB)\n",
            "Downloading mypy_extensions-1.0.0-py3-none-any.whl (4.7 kB)\n",
            "Installing collected packages: python-dotenv, mypy-extensions, marshmallow, httpx-sse, typing-inspect, pydantic-settings, dataclasses-json, langchain-community\n",
            "Successfully installed dataclasses-json-0.6.7 httpx-sse-0.4.0 langchain-community-0.3.14 marshmallow-3.26.1 mypy-extensions-1.0.0 pydantic-settings-2.7.1 python-dotenv-1.0.1 typing-inspect-0.9.0\n",
            "Collecting langchain-huggingface==0.1.2\n",
            "  Downloading langchain_huggingface-0.1.2-py3-none-any.whl.metadata (1.3 kB)\n",
            "Requirement already satisfied: huggingface-hub>=0.23.0 in /usr/local/lib/python3.11/dist-packages (from langchain-huggingface==0.1.2) (0.27.1)\n",
            "Requirement already satisfied: langchain-core<0.4.0,>=0.3.15 in /usr/local/lib/python3.11/dist-packages (from langchain-huggingface==0.1.2) (0.3.32)\n",
            "Requirement already satisfied: sentence-transformers>=2.6.0 in /usr/local/lib/python3.11/dist-packages (from langchain-huggingface==0.1.2) (3.3.1)\n",
            "Requirement already satisfied: tokenizers>=0.19.1 in /usr/local/lib/python3.11/dist-packages (from langchain-huggingface==0.1.2) (0.21.0)\n",
            "Requirement already satisfied: transformers>=4.39.0 in /usr/local/lib/python3.11/dist-packages (from langchain-huggingface==0.1.2) (4.47.1)\n",
            "Requirement already satisfied: filelock in /usr/local/lib/python3.11/dist-packages (from huggingface-hub>=0.23.0->langchain-huggingface==0.1.2) (3.17.0)\n",
            "Requirement already satisfied: fsspec>=2023.5.0 in /usr/local/lib/python3.11/dist-packages (from huggingface-hub>=0.23.0->langchain-huggingface==0.1.2) (2024.10.0)\n",
            "Requirement already satisfied: packaging>=20.9 in /usr/local/lib/python3.11/dist-packages (from huggingface-hub>=0.23.0->langchain-huggingface==0.1.2) (24.2)\n",
            "Requirement already satisfied: pyyaml>=5.1 in /usr/local/lib/python3.11/dist-packages (from huggingface-hub>=0.23.0->langchain-huggingface==0.1.2) (6.0.2)\n",
            "Requirement already satisfied: requests in /usr/local/lib/python3.11/dist-packages (from huggingface-hub>=0.23.0->langchain-huggingface==0.1.2) (2.32.3)\n",
            "Requirement already satisfied: tqdm>=4.42.1 in /usr/local/lib/python3.11/dist-packages (from huggingface-hub>=0.23.0->langchain-huggingface==0.1.2) (4.67.1)\n",
            "Requirement already satisfied: typing-extensions>=3.7.4.3 in /usr/local/lib/python3.11/dist-packages (from huggingface-hub>=0.23.0->langchain-huggingface==0.1.2) (4.12.2)\n",
            "Requirement already satisfied: jsonpatch<2.0,>=1.33 in /usr/local/lib/python3.11/dist-packages (from langchain-core<0.4.0,>=0.3.15->langchain-huggingface==0.1.2) (1.33)\n",
            "Requirement already satisfied: langsmith<0.4,>=0.1.125 in /usr/local/lib/python3.11/dist-packages (from langchain-core<0.4.0,>=0.3.15->langchain-huggingface==0.1.2) (0.2.11)\n",
            "Requirement already satisfied: pydantic<3.0.0,>=2.5.2 in /usr/local/lib/python3.11/dist-packages (from langchain-core<0.4.0,>=0.3.15->langchain-huggingface==0.1.2) (2.10.6)\n",
            "Requirement already satisfied: tenacity!=8.4.0,<10.0.0,>=8.1.0 in /usr/local/lib/python3.11/dist-packages (from langchain-core<0.4.0,>=0.3.15->langchain-huggingface==0.1.2) (9.0.0)\n",
            "Requirement already satisfied: torch>=1.11.0 in /usr/local/lib/python3.11/dist-packages (from sentence-transformers>=2.6.0->langchain-huggingface==0.1.2) (2.5.1+cu124)\n",
            "Requirement already satisfied: scikit-learn in /usr/local/lib/python3.11/dist-packages (from sentence-transformers>=2.6.0->langchain-huggingface==0.1.2) (1.6.1)\n",
            "Requirement already satisfied: scipy in /usr/local/lib/python3.11/dist-packages (from sentence-transformers>=2.6.0->langchain-huggingface==0.1.2) (1.13.1)\n",
            "Requirement already satisfied: Pillow in /usr/local/lib/python3.11/dist-packages (from sentence-transformers>=2.6.0->langchain-huggingface==0.1.2) (11.1.0)\n",
            "Requirement already satisfied: numpy>=1.17 in /usr/local/lib/python3.11/dist-packages (from transformers>=4.39.0->langchain-huggingface==0.1.2) (1.26.4)\n",
            "Requirement already satisfied: regex!=2019.12.17 in /usr/local/lib/python3.11/dist-packages (from transformers>=4.39.0->langchain-huggingface==0.1.2) (2024.11.6)\n",
            "Requirement already satisfied: safetensors>=0.4.1 in /usr/local/lib/python3.11/dist-packages (from transformers>=4.39.0->langchain-huggingface==0.1.2) (0.5.2)\n",
            "Requirement already satisfied: jsonpointer>=1.9 in /usr/local/lib/python3.11/dist-packages (from jsonpatch<2.0,>=1.33->langchain-core<0.4.0,>=0.3.15->langchain-huggingface==0.1.2) (3.0.0)\n",
            "Requirement already satisfied: httpx<1,>=0.23.0 in /usr/local/lib/python3.11/dist-packages (from langsmith<0.4,>=0.1.125->langchain-core<0.4.0,>=0.3.15->langchain-huggingface==0.1.2) (0.28.1)\n",
            "Requirement already satisfied: orjson<4.0.0,>=3.9.14 in /usr/local/lib/python3.11/dist-packages (from langsmith<0.4,>=0.1.125->langchain-core<0.4.0,>=0.3.15->langchain-huggingface==0.1.2) (3.10.15)\n",
            "Requirement already satisfied: requests-toolbelt<2.0.0,>=1.0.0 in /usr/local/lib/python3.11/dist-packages (from langsmith<0.4,>=0.1.125->langchain-core<0.4.0,>=0.3.15->langchain-huggingface==0.1.2) (1.0.0)\n",
            "Requirement already satisfied: annotated-types>=0.6.0 in /usr/local/lib/python3.11/dist-packages (from pydantic<3.0.0,>=2.5.2->langchain-core<0.4.0,>=0.3.15->langchain-huggingface==0.1.2) (0.7.0)\n",
            "Requirement already satisfied: pydantic-core==2.27.2 in /usr/local/lib/python3.11/dist-packages (from pydantic<3.0.0,>=2.5.2->langchain-core<0.4.0,>=0.3.15->langchain-huggingface==0.1.2) (2.27.2)\n",
            "Requirement already satisfied: charset-normalizer<4,>=2 in /usr/local/lib/python3.11/dist-packages (from requests->huggingface-hub>=0.23.0->langchain-huggingface==0.1.2) (3.4.1)\n",
            "Requirement already satisfied: idna<4,>=2.5 in /usr/local/lib/python3.11/dist-packages (from requests->huggingface-hub>=0.23.0->langchain-huggingface==0.1.2) (3.10)\n",
            "Requirement already satisfied: urllib3<3,>=1.21.1 in /usr/local/lib/python3.11/dist-packages (from requests->huggingface-hub>=0.23.0->langchain-huggingface==0.1.2) (2.3.0)\n",
            "Requirement already satisfied: certifi>=2017.4.17 in /usr/local/lib/python3.11/dist-packages (from requests->huggingface-hub>=0.23.0->langchain-huggingface==0.1.2) (2024.12.14)\n",
            "Requirement already satisfied: networkx in /usr/local/lib/python3.11/dist-packages (from torch>=1.11.0->sentence-transformers>=2.6.0->langchain-huggingface==0.1.2) (3.4.2)\n",
            "Requirement already satisfied: jinja2 in /usr/local/lib/python3.11/dist-packages (from torch>=1.11.0->sentence-transformers>=2.6.0->langchain-huggingface==0.1.2) (3.1.5)\n",
            "Collecting nvidia-cuda-nvrtc-cu12==12.4.127 (from torch>=1.11.0->sentence-transformers>=2.6.0->langchain-huggingface==0.1.2)\n",
            "  Downloading nvidia_cuda_nvrtc_cu12-12.4.127-py3-none-manylinux2014_x86_64.whl.metadata (1.5 kB)\n",
            "Collecting nvidia-cuda-runtime-cu12==12.4.127 (from torch>=1.11.0->sentence-transformers>=2.6.0->langchain-huggingface==0.1.2)\n",
            "  Downloading nvidia_cuda_runtime_cu12-12.4.127-py3-none-manylinux2014_x86_64.whl.metadata (1.5 kB)\n",
            "Collecting nvidia-cuda-cupti-cu12==12.4.127 (from torch>=1.11.0->sentence-transformers>=2.6.0->langchain-huggingface==0.1.2)\n",
            "  Downloading nvidia_cuda_cupti_cu12-12.4.127-py3-none-manylinux2014_x86_64.whl.metadata (1.6 kB)\n",
            "Collecting nvidia-cudnn-cu12==9.1.0.70 (from torch>=1.11.0->sentence-transformers>=2.6.0->langchain-huggingface==0.1.2)\n",
            "  Downloading nvidia_cudnn_cu12-9.1.0.70-py3-none-manylinux2014_x86_64.whl.metadata (1.6 kB)\n",
            "Collecting nvidia-cublas-cu12==12.4.5.8 (from torch>=1.11.0->sentence-transformers>=2.6.0->langchain-huggingface==0.1.2)\n",
            "  Downloading nvidia_cublas_cu12-12.4.5.8-py3-none-manylinux2014_x86_64.whl.metadata (1.5 kB)\n",
            "Collecting nvidia-cufft-cu12==11.2.1.3 (from torch>=1.11.0->sentence-transformers>=2.6.0->langchain-huggingface==0.1.2)\n",
            "  Downloading nvidia_cufft_cu12-11.2.1.3-py3-none-manylinux2014_x86_64.whl.metadata (1.5 kB)\n",
            "Collecting nvidia-curand-cu12==10.3.5.147 (from torch>=1.11.0->sentence-transformers>=2.6.0->langchain-huggingface==0.1.2)\n",
            "  Downloading nvidia_curand_cu12-10.3.5.147-py3-none-manylinux2014_x86_64.whl.metadata (1.5 kB)\n",
            "Collecting nvidia-cusolver-cu12==11.6.1.9 (from torch>=1.11.0->sentence-transformers>=2.6.0->langchain-huggingface==0.1.2)\n",
            "  Downloading nvidia_cusolver_cu12-11.6.1.9-py3-none-manylinux2014_x86_64.whl.metadata (1.6 kB)\n",
            "Collecting nvidia-cusparse-cu12==12.3.1.170 (from torch>=1.11.0->sentence-transformers>=2.6.0->langchain-huggingface==0.1.2)\n",
            "  Downloading nvidia_cusparse_cu12-12.3.1.170-py3-none-manylinux2014_x86_64.whl.metadata (1.6 kB)\n",
            "Requirement already satisfied: nvidia-nccl-cu12==2.21.5 in /usr/local/lib/python3.11/dist-packages (from torch>=1.11.0->sentence-transformers>=2.6.0->langchain-huggingface==0.1.2) (2.21.5)\n",
            "Requirement already satisfied: nvidia-nvtx-cu12==12.4.127 in /usr/local/lib/python3.11/dist-packages (from torch>=1.11.0->sentence-transformers>=2.6.0->langchain-huggingface==0.1.2) (12.4.127)\n",
            "Collecting nvidia-nvjitlink-cu12==12.4.127 (from torch>=1.11.0->sentence-transformers>=2.6.0->langchain-huggingface==0.1.2)\n",
            "  Downloading nvidia_nvjitlink_cu12-12.4.127-py3-none-manylinux2014_x86_64.whl.metadata (1.5 kB)\n",
            "Requirement already satisfied: triton==3.1.0 in /usr/local/lib/python3.11/dist-packages (from torch>=1.11.0->sentence-transformers>=2.6.0->langchain-huggingface==0.1.2) (3.1.0)\n",
            "Requirement already satisfied: sympy==1.13.1 in /usr/local/lib/python3.11/dist-packages (from torch>=1.11.0->sentence-transformers>=2.6.0->langchain-huggingface==0.1.2) (1.13.1)\n",
            "Requirement already satisfied: mpmath<1.4,>=1.1.0 in /usr/local/lib/python3.11/dist-packages (from sympy==1.13.1->torch>=1.11.0->sentence-transformers>=2.6.0->langchain-huggingface==0.1.2) (1.3.0)\n",
            "Requirement already satisfied: joblib>=1.2.0 in /usr/local/lib/python3.11/dist-packages (from scikit-learn->sentence-transformers>=2.6.0->langchain-huggingface==0.1.2) (1.4.2)\n",
            "Requirement already satisfied: threadpoolctl>=3.1.0 in /usr/local/lib/python3.11/dist-packages (from scikit-learn->sentence-transformers>=2.6.0->langchain-huggingface==0.1.2) (3.5.0)\n",
            "Requirement already satisfied: anyio in /usr/local/lib/python3.11/dist-packages (from httpx<1,>=0.23.0->langsmith<0.4,>=0.1.125->langchain-core<0.4.0,>=0.3.15->langchain-huggingface==0.1.2) (3.7.1)\n",
            "Requirement already satisfied: httpcore==1.* in /usr/local/lib/python3.11/dist-packages (from httpx<1,>=0.23.0->langsmith<0.4,>=0.1.125->langchain-core<0.4.0,>=0.3.15->langchain-huggingface==0.1.2) (1.0.7)\n",
            "Requirement already satisfied: h11<0.15,>=0.13 in /usr/local/lib/python3.11/dist-packages (from httpcore==1.*->httpx<1,>=0.23.0->langsmith<0.4,>=0.1.125->langchain-core<0.4.0,>=0.3.15->langchain-huggingface==0.1.2) (0.14.0)\n",
            "Requirement already satisfied: MarkupSafe>=2.0 in /usr/local/lib/python3.11/dist-packages (from jinja2->torch>=1.11.0->sentence-transformers>=2.6.0->langchain-huggingface==0.1.2) (3.0.2)\n",
            "Requirement already satisfied: sniffio>=1.1 in /usr/local/lib/python3.11/dist-packages (from anyio->httpx<1,>=0.23.0->langsmith<0.4,>=0.1.125->langchain-core<0.4.0,>=0.3.15->langchain-huggingface==0.1.2) (1.3.1)\n",
            "Downloading langchain_huggingface-0.1.2-py3-none-any.whl (21 kB)\n",
            "Downloading nvidia_cublas_cu12-12.4.5.8-py3-none-manylinux2014_x86_64.whl (363.4 MB)\n",
            "\u001b[2K   \u001b[90m━━━━━━━━━━━━━━━━━━━━━━━━━━━━━━━━━━━━━━━━\u001b[0m \u001b[32m363.4/363.4 MB\u001b[0m \u001b[31m3.3 MB/s\u001b[0m eta \u001b[36m0:00:00\u001b[0m\n",
            "\u001b[?25hDownloading nvidia_cuda_cupti_cu12-12.4.127-py3-none-manylinux2014_x86_64.whl (13.8 MB)\n",
            "\u001b[2K   \u001b[90m━━━━━━━━━━━━━━━━━━━━━━━━━━━━━━━━━━━━━━━━\u001b[0m \u001b[32m13.8/13.8 MB\u001b[0m \u001b[31m76.8 MB/s\u001b[0m eta \u001b[36m0:00:00\u001b[0m\n",
            "\u001b[?25hDownloading nvidia_cuda_nvrtc_cu12-12.4.127-py3-none-manylinux2014_x86_64.whl (24.6 MB)\n",
            "\u001b[2K   \u001b[90m━━━━━━━━━━━━━━━━━━━━━━━━━━━━━━━━━━━━━━━━\u001b[0m \u001b[32m24.6/24.6 MB\u001b[0m \u001b[31m63.8 MB/s\u001b[0m eta \u001b[36m0:00:00\u001b[0m\n",
            "\u001b[?25hDownloading nvidia_cuda_runtime_cu12-12.4.127-py3-none-manylinux2014_x86_64.whl (883 kB)\n",
            "\u001b[2K   \u001b[90m━━━━━━━━━━━━━━━━━━━━━━━━━━━━━━━━━━━━━━━━\u001b[0m \u001b[32m883.7/883.7 kB\u001b[0m \u001b[31m39.1 MB/s\u001b[0m eta \u001b[36m0:00:00\u001b[0m\n",
            "\u001b[?25hDownloading nvidia_cudnn_cu12-9.1.0.70-py3-none-manylinux2014_x86_64.whl (664.8 MB)\n",
            "\u001b[2K   \u001b[90m━━━━━━━━━━━━━━━━━━━━━━━━━━━━━━━━━━━━━━━━\u001b[0m \u001b[32m664.8/664.8 MB\u001b[0m \u001b[31m2.6 MB/s\u001b[0m eta \u001b[36m0:00:00\u001b[0m\n",
            "\u001b[?25hDownloading nvidia_cufft_cu12-11.2.1.3-py3-none-manylinux2014_x86_64.whl (211.5 MB)\n",
            "\u001b[2K   \u001b[90m━━━━━━━━━━━━━━━━━━━━━━━━━━━━━━━━━━━━━━━━\u001b[0m \u001b[32m211.5/211.5 MB\u001b[0m \u001b[31m6.2 MB/s\u001b[0m eta \u001b[36m0:00:00\u001b[0m\n",
            "\u001b[?25hDownloading nvidia_curand_cu12-10.3.5.147-py3-none-manylinux2014_x86_64.whl (56.3 MB)\n",
            "\u001b[2K   \u001b[90m━━━━━━━━━━━━━━━━━━━━━━━━━━━━━━━━━━━━━━━━\u001b[0m \u001b[32m56.3/56.3 MB\u001b[0m \u001b[31m11.1 MB/s\u001b[0m eta \u001b[36m0:00:00\u001b[0m\n",
            "\u001b[?25hDownloading nvidia_cusolver_cu12-11.6.1.9-py3-none-manylinux2014_x86_64.whl (127.9 MB)\n",
            "\u001b[2K   \u001b[90m━━━━━━━━━━━━━━━━━━━━━━━━━━━━━━━━━━━━━━━━\u001b[0m \u001b[32m127.9/127.9 MB\u001b[0m \u001b[31m7.9 MB/s\u001b[0m eta \u001b[36m0:00:00\u001b[0m\n",
            "\u001b[?25hDownloading nvidia_cusparse_cu12-12.3.1.170-py3-none-manylinux2014_x86_64.whl (207.5 MB)\n",
            "\u001b[2K   \u001b[90m━━━━━━━━━━━━━━━━━━━━━━━━━━━━━━━━━━━━━━━━\u001b[0m \u001b[32m207.5/207.5 MB\u001b[0m \u001b[31m5.7 MB/s\u001b[0m eta \u001b[36m0:00:00\u001b[0m\n",
            "\u001b[?25hDownloading nvidia_nvjitlink_cu12-12.4.127-py3-none-manylinux2014_x86_64.whl (21.1 MB)\n",
            "\u001b[2K   \u001b[90m━━━━━━━━━━━━━━━━━━━━━━━━━━━━━━━━━━━━━━━━\u001b[0m \u001b[32m21.1/21.1 MB\u001b[0m \u001b[31m79.4 MB/s\u001b[0m eta \u001b[36m0:00:00\u001b[0m\n",
            "\u001b[?25hInstalling collected packages: nvidia-nvjitlink-cu12, nvidia-curand-cu12, nvidia-cufft-cu12, nvidia-cuda-runtime-cu12, nvidia-cuda-nvrtc-cu12, nvidia-cuda-cupti-cu12, nvidia-cublas-cu12, nvidia-cusparse-cu12, nvidia-cudnn-cu12, nvidia-cusolver-cu12, langchain-huggingface\n",
            "  Attempting uninstall: nvidia-nvjitlink-cu12\n",
            "    Found existing installation: nvidia-nvjitlink-cu12 12.5.82\n",
            "    Uninstalling nvidia-nvjitlink-cu12-12.5.82:\n",
            "      Successfully uninstalled nvidia-nvjitlink-cu12-12.5.82\n",
            "  Attempting uninstall: nvidia-curand-cu12\n",
            "    Found existing installation: nvidia-curand-cu12 10.3.6.82\n",
            "    Uninstalling nvidia-curand-cu12-10.3.6.82:\n",
            "      Successfully uninstalled nvidia-curand-cu12-10.3.6.82\n",
            "  Attempting uninstall: nvidia-cufft-cu12\n",
            "    Found existing installation: nvidia-cufft-cu12 11.2.3.61\n",
            "    Uninstalling nvidia-cufft-cu12-11.2.3.61:\n",
            "      Successfully uninstalled nvidia-cufft-cu12-11.2.3.61\n",
            "  Attempting uninstall: nvidia-cuda-runtime-cu12\n",
            "    Found existing installation: nvidia-cuda-runtime-cu12 12.5.82\n",
            "    Uninstalling nvidia-cuda-runtime-cu12-12.5.82:\n",
            "      Successfully uninstalled nvidia-cuda-runtime-cu12-12.5.82\n",
            "  Attempting uninstall: nvidia-cuda-nvrtc-cu12\n",
            "    Found existing installation: nvidia-cuda-nvrtc-cu12 12.5.82\n",
            "    Uninstalling nvidia-cuda-nvrtc-cu12-12.5.82:\n",
            "      Successfully uninstalled nvidia-cuda-nvrtc-cu12-12.5.82\n",
            "  Attempting uninstall: nvidia-cuda-cupti-cu12\n",
            "    Found existing installation: nvidia-cuda-cupti-cu12 12.5.82\n",
            "    Uninstalling nvidia-cuda-cupti-cu12-12.5.82:\n",
            "      Successfully uninstalled nvidia-cuda-cupti-cu12-12.5.82\n",
            "  Attempting uninstall: nvidia-cublas-cu12\n",
            "    Found existing installation: nvidia-cublas-cu12 12.5.3.2\n",
            "    Uninstalling nvidia-cublas-cu12-12.5.3.2:\n",
            "      Successfully uninstalled nvidia-cublas-cu12-12.5.3.2\n",
            "  Attempting uninstall: nvidia-cusparse-cu12\n",
            "    Found existing installation: nvidia-cusparse-cu12 12.5.1.3\n",
            "    Uninstalling nvidia-cusparse-cu12-12.5.1.3:\n",
            "      Successfully uninstalled nvidia-cusparse-cu12-12.5.1.3\n",
            "  Attempting uninstall: nvidia-cudnn-cu12\n",
            "    Found existing installation: nvidia-cudnn-cu12 9.3.0.75\n",
            "    Uninstalling nvidia-cudnn-cu12-9.3.0.75:\n",
            "      Successfully uninstalled nvidia-cudnn-cu12-9.3.0.75\n",
            "  Attempting uninstall: nvidia-cusolver-cu12\n",
            "    Found existing installation: nvidia-cusolver-cu12 11.6.3.83\n",
            "    Uninstalling nvidia-cusolver-cu12-11.6.3.83:\n",
            "      Successfully uninstalled nvidia-cusolver-cu12-11.6.3.83\n",
            "Successfully installed langchain-huggingface-0.1.2 nvidia-cublas-cu12-12.4.5.8 nvidia-cuda-cupti-cu12-12.4.127 nvidia-cuda-nvrtc-cu12-12.4.127 nvidia-cuda-runtime-cu12-12.4.127 nvidia-cudnn-cu12-9.1.0.70 nvidia-cufft-cu12-11.2.1.3 nvidia-curand-cu12-10.3.5.147 nvidia-cusolver-cu12-11.6.1.9 nvidia-cusparse-cu12-12.3.1.170 nvidia-nvjitlink-cu12-12.4.127\n"
          ]
        }
      ],
      "source": [
        "!pip install langchain==0.3.30\n",
        "!pip install langchain==0.3.14\n",
        "!pip install langchain-openai==0.3.0\n",
        "!pip install langchain-community==0.3.14\n",
        "!pip install langchain-huggingface==0.1.2"
      ]
    },
    {
      "cell_type": "markdown",
      "metadata": {
        "id": "QdmrXiFUsQdP"
      },
      "source": [
        "**ChatGoogleGenerativeAI**\n",
        "\n",
        "Import the `ChatGoogleGenerativeA`I class from the `langchain_google_genai` package.\n",
        "\n",
        "The `ChatGoogleGenerativeAI` class is used to implement conversational AI systems using Google’s Generative AI models. Through this class, users can interact with Google’s conversational AI model. Conversations with the model take place in a chat format, and the model generates appropriate responses based on user input.\n",
        "\n",
        "Because the `ChatGoogleGenerativeAI` class is integrated with the LangChain framework, it can be used alongside other LangChain components."
      ]
    },
    {
      "cell_type": "code",
      "source": [
        "!pip install langchain-google-genai"
      ],
      "metadata": {
        "id": "nTmQm9u9u3aO",
        "colab": {
          "base_uri": "https://localhost:8080/"
        },
        "outputId": "d7f5b4f5-b0fe-48d8-c790-0abb717d9fc9"
      },
      "execution_count": 5,
      "outputs": [
        {
          "output_type": "stream",
          "name": "stdout",
          "text": [
            "Requirement already satisfied: langchain-google-genai in /usr/local/lib/python3.11/dist-packages (2.0.9)\n",
            "Requirement already satisfied: filetype<2.0.0,>=1.2.0 in /usr/local/lib/python3.11/dist-packages (from langchain-google-genai) (1.2.0)\n",
            "Requirement already satisfied: google-generativeai<0.9.0,>=0.8.0 in /usr/local/lib/python3.11/dist-packages (from langchain-google-genai) (0.8.4)\n",
            "Requirement already satisfied: langchain-core<0.4.0,>=0.3.27 in /usr/local/lib/python3.11/dist-packages (from langchain-google-genai) (0.3.32)\n",
            "Requirement already satisfied: pydantic<3,>=2 in /usr/local/lib/python3.11/dist-packages (from langchain-google-genai) (2.10.6)\n",
            "Requirement already satisfied: google-ai-generativelanguage==0.6.15 in /usr/local/lib/python3.11/dist-packages (from google-generativeai<0.9.0,>=0.8.0->langchain-google-genai) (0.6.15)\n",
            "Requirement already satisfied: google-api-core in /usr/local/lib/python3.11/dist-packages (from google-generativeai<0.9.0,>=0.8.0->langchain-google-genai) (2.19.2)\n",
            "Requirement already satisfied: google-api-python-client in /usr/local/lib/python3.11/dist-packages (from google-generativeai<0.9.0,>=0.8.0->langchain-google-genai) (2.155.0)\n",
            "Requirement already satisfied: google-auth>=2.15.0 in /usr/local/lib/python3.11/dist-packages (from google-generativeai<0.9.0,>=0.8.0->langchain-google-genai) (2.27.0)\n",
            "Requirement already satisfied: protobuf in /usr/local/lib/python3.11/dist-packages (from google-generativeai<0.9.0,>=0.8.0->langchain-google-genai) (4.25.6)\n",
            "Requirement already satisfied: tqdm in /usr/local/lib/python3.11/dist-packages (from google-generativeai<0.9.0,>=0.8.0->langchain-google-genai) (4.67.1)\n",
            "Requirement already satisfied: typing-extensions in /usr/local/lib/python3.11/dist-packages (from google-generativeai<0.9.0,>=0.8.0->langchain-google-genai) (4.12.2)\n",
            "Requirement already satisfied: proto-plus<2.0.0dev,>=1.22.3 in /usr/local/lib/python3.11/dist-packages (from google-ai-generativelanguage==0.6.15->google-generativeai<0.9.0,>=0.8.0->langchain-google-genai) (1.26.0)\n",
            "Requirement already satisfied: PyYAML>=5.3 in /usr/local/lib/python3.11/dist-packages (from langchain-core<0.4.0,>=0.3.27->langchain-google-genai) (6.0.2)\n",
            "Requirement already satisfied: jsonpatch<2.0,>=1.33 in /usr/local/lib/python3.11/dist-packages (from langchain-core<0.4.0,>=0.3.27->langchain-google-genai) (1.33)\n",
            "Requirement already satisfied: langsmith<0.4,>=0.1.125 in /usr/local/lib/python3.11/dist-packages (from langchain-core<0.4.0,>=0.3.27->langchain-google-genai) (0.2.11)\n",
            "Requirement already satisfied: packaging<25,>=23.2 in /usr/local/lib/python3.11/dist-packages (from langchain-core<0.4.0,>=0.3.27->langchain-google-genai) (24.2)\n",
            "Requirement already satisfied: tenacity!=8.4.0,<10.0.0,>=8.1.0 in /usr/local/lib/python3.11/dist-packages (from langchain-core<0.4.0,>=0.3.27->langchain-google-genai) (9.0.0)\n",
            "Requirement already satisfied: annotated-types>=0.6.0 in /usr/local/lib/python3.11/dist-packages (from pydantic<3,>=2->langchain-google-genai) (0.7.0)\n",
            "Requirement already satisfied: pydantic-core==2.27.2 in /usr/local/lib/python3.11/dist-packages (from pydantic<3,>=2->langchain-google-genai) (2.27.2)\n",
            "Requirement already satisfied: googleapis-common-protos<2.0.dev0,>=1.56.2 in /usr/local/lib/python3.11/dist-packages (from google-api-core->google-generativeai<0.9.0,>=0.8.0->langchain-google-genai) (1.66.0)\n",
            "Requirement already satisfied: requests<3.0.0.dev0,>=2.18.0 in /usr/local/lib/python3.11/dist-packages (from google-api-core->google-generativeai<0.9.0,>=0.8.0->langchain-google-genai) (2.32.3)\n",
            "Requirement already satisfied: cachetools<6.0,>=2.0.0 in /usr/local/lib/python3.11/dist-packages (from google-auth>=2.15.0->google-generativeai<0.9.0,>=0.8.0->langchain-google-genai) (5.5.1)\n",
            "Requirement already satisfied: pyasn1-modules>=0.2.1 in /usr/local/lib/python3.11/dist-packages (from google-auth>=2.15.0->google-generativeai<0.9.0,>=0.8.0->langchain-google-genai) (0.4.1)\n",
            "Requirement already satisfied: rsa<5,>=3.1.4 in /usr/local/lib/python3.11/dist-packages (from google-auth>=2.15.0->google-generativeai<0.9.0,>=0.8.0->langchain-google-genai) (4.9)\n",
            "Requirement already satisfied: jsonpointer>=1.9 in /usr/local/lib/python3.11/dist-packages (from jsonpatch<2.0,>=1.33->langchain-core<0.4.0,>=0.3.27->langchain-google-genai) (3.0.0)\n",
            "Requirement already satisfied: httpx<1,>=0.23.0 in /usr/local/lib/python3.11/dist-packages (from langsmith<0.4,>=0.1.125->langchain-core<0.4.0,>=0.3.27->langchain-google-genai) (0.28.1)\n",
            "Requirement already satisfied: orjson<4.0.0,>=3.9.14 in /usr/local/lib/python3.11/dist-packages (from langsmith<0.4,>=0.1.125->langchain-core<0.4.0,>=0.3.27->langchain-google-genai) (3.10.15)\n",
            "Requirement already satisfied: requests-toolbelt<2.0.0,>=1.0.0 in /usr/local/lib/python3.11/dist-packages (from langsmith<0.4,>=0.1.125->langchain-core<0.4.0,>=0.3.27->langchain-google-genai) (1.0.0)\n",
            "Requirement already satisfied: httplib2<1.dev0,>=0.19.0 in /usr/local/lib/python3.11/dist-packages (from google-api-python-client->google-generativeai<0.9.0,>=0.8.0->langchain-google-genai) (0.22.0)\n",
            "Requirement already satisfied: google-auth-httplib2<1.0.0,>=0.2.0 in /usr/local/lib/python3.11/dist-packages (from google-api-python-client->google-generativeai<0.9.0,>=0.8.0->langchain-google-genai) (0.2.0)\n",
            "Requirement already satisfied: uritemplate<5,>=3.0.1 in /usr/local/lib/python3.11/dist-packages (from google-api-python-client->google-generativeai<0.9.0,>=0.8.0->langchain-google-genai) (4.1.1)\n",
            "Requirement already satisfied: grpcio<2.0dev,>=1.33.2 in /usr/local/lib/python3.11/dist-packages (from google-api-core[grpc]!=2.0.*,!=2.1.*,!=2.10.*,!=2.2.*,!=2.3.*,!=2.4.*,!=2.5.*,!=2.6.*,!=2.7.*,!=2.8.*,!=2.9.*,<3.0.0dev,>=1.34.1->google-ai-generativelanguage==0.6.15->google-generativeai<0.9.0,>=0.8.0->langchain-google-genai) (1.70.0)\n",
            "Requirement already satisfied: grpcio-status<2.0.dev0,>=1.33.2 in /usr/local/lib/python3.11/dist-packages (from google-api-core[grpc]!=2.0.*,!=2.1.*,!=2.10.*,!=2.2.*,!=2.3.*,!=2.4.*,!=2.5.*,!=2.6.*,!=2.7.*,!=2.8.*,!=2.9.*,<3.0.0dev,>=1.34.1->google-ai-generativelanguage==0.6.15->google-generativeai<0.9.0,>=0.8.0->langchain-google-genai) (1.62.3)\n",
            "Requirement already satisfied: pyparsing!=3.0.0,!=3.0.1,!=3.0.2,!=3.0.3,<4,>=2.4.2 in /usr/local/lib/python3.11/dist-packages (from httplib2<1.dev0,>=0.19.0->google-api-python-client->google-generativeai<0.9.0,>=0.8.0->langchain-google-genai) (3.2.1)\n",
            "Requirement already satisfied: anyio in /usr/local/lib/python3.11/dist-packages (from httpx<1,>=0.23.0->langsmith<0.4,>=0.1.125->langchain-core<0.4.0,>=0.3.27->langchain-google-genai) (3.7.1)\n",
            "Requirement already satisfied: certifi in /usr/local/lib/python3.11/dist-packages (from httpx<1,>=0.23.0->langsmith<0.4,>=0.1.125->langchain-core<0.4.0,>=0.3.27->langchain-google-genai) (2024.12.14)\n",
            "Requirement already satisfied: httpcore==1.* in /usr/local/lib/python3.11/dist-packages (from httpx<1,>=0.23.0->langsmith<0.4,>=0.1.125->langchain-core<0.4.0,>=0.3.27->langchain-google-genai) (1.0.7)\n",
            "Requirement already satisfied: idna in /usr/local/lib/python3.11/dist-packages (from httpx<1,>=0.23.0->langsmith<0.4,>=0.1.125->langchain-core<0.4.0,>=0.3.27->langchain-google-genai) (3.10)\n",
            "Requirement already satisfied: h11<0.15,>=0.13 in /usr/local/lib/python3.11/dist-packages (from httpcore==1.*->httpx<1,>=0.23.0->langsmith<0.4,>=0.1.125->langchain-core<0.4.0,>=0.3.27->langchain-google-genai) (0.14.0)\n",
            "Requirement already satisfied: pyasn1<0.7.0,>=0.4.6 in /usr/local/lib/python3.11/dist-packages (from pyasn1-modules>=0.2.1->google-auth>=2.15.0->google-generativeai<0.9.0,>=0.8.0->langchain-google-genai) (0.6.1)\n",
            "Requirement already satisfied: charset-normalizer<4,>=2 in /usr/local/lib/python3.11/dist-packages (from requests<3.0.0.dev0,>=2.18.0->google-api-core->google-generativeai<0.9.0,>=0.8.0->langchain-google-genai) (3.4.1)\n",
            "Requirement already satisfied: urllib3<3,>=1.21.1 in /usr/local/lib/python3.11/dist-packages (from requests<3.0.0.dev0,>=2.18.0->google-api-core->google-generativeai<0.9.0,>=0.8.0->langchain-google-genai) (2.3.0)\n",
            "Requirement already satisfied: sniffio>=1.1 in /usr/local/lib/python3.11/dist-packages (from anyio->httpx<1,>=0.23.0->langsmith<0.4,>=0.1.125->langchain-core<0.4.0,>=0.3.27->langchain-google-genai) (1.3.1)\n"
          ]
        }
      ]
    },
    {
      "cell_type": "code",
      "execution_count": 6,
      "metadata": {
        "id": "cFGElI66tNDR"
      },
      "outputs": [],
      "source": [
        "from langchain_google_genai import ChatGoogleGenerativeAI"
      ]
    },
    {
      "cell_type": "code",
      "source": [
        "from getpass import getpass"
      ],
      "metadata": {
        "id": "AlkwWB00weNP"
      },
      "execution_count": 7,
      "outputs": []
    },
    {
      "cell_type": "code",
      "source": [
        "api_key = getpass(\"enter api_key\")"
      ],
      "metadata": {
        "id": "9wyJ1jDqwhhx",
        "colab": {
          "base_uri": "https://localhost:8080/"
        },
        "outputId": "4262a49f-0390-4052-8c1e-452c1b06d5a0"
      },
      "execution_count": 8,
      "outputs": [
        {
          "name": "stdout",
          "output_type": "stream",
          "text": [
            "enter api_key··········\n"
          ]
        }
      ]
    },
    {
      "cell_type": "code",
      "source": [
        "llm = ChatGoogleGenerativeAI(model=\"gemini-1.5-flash\", api_key= api_key)"
      ],
      "metadata": {
        "id": "FYiNLqgGvk_E"
      },
      "execution_count": 33,
      "outputs": []
    },
    {
      "cell_type": "code",
      "source": [
        "from langchain_core.prompts import PromptTemplate"
      ],
      "metadata": {
        "id": "UYHg5klZwHbu"
      },
      "execution_count": 34,
      "outputs": []
    },
    {
      "cell_type": "code",
      "source": [
        "template = \"Please explain about Langchain{in three lines}\"\n",
        "obj = PromptTemplate.from_template(template)"
      ],
      "metadata": {
        "id": "zN2We2C1w8tG"
      },
      "execution_count": null,
      "outputs": []
    },
    {
      "cell_type": "code",
      "source": [
        "obj"
      ],
      "metadata": {
        "colab": {
          "base_uri": "https://localhost:8080/"
        },
        "id": "20LlbHcixqS1",
        "outputId": "9c22fe22-e714-43ed-ec3d-bed415d2353d"
      },
      "execution_count": null,
      "outputs": [
        {
          "output_type": "execute_result",
          "data": {
            "text/plain": [
              "PromptTemplate(input_variables=['in three lines'], input_types={}, partial_variables={}, template='Please explain about Langchain{in three lines}')"
            ]
          },
          "metadata": {},
          "execution_count": 23
        }
      ]
    },
    {
      "cell_type": "code",
      "source": [
        "chain = llm | obj"
      ],
      "metadata": {
        "id": "BhNZkMjOxup7"
      },
      "execution_count": null,
      "outputs": []
    },
    {
      "cell_type": "code",
      "source": [
        "chain.invoke(\"in two lines\")"
      ],
      "metadata": {
        "colab": {
          "base_uri": "https://localhost:8080/"
        },
        "id": "-IPUM6YSxxk1",
        "outputId": "36961243-4f4d-48b4-948b-b5bc978c790e"
      },
      "execution_count": null,
      "outputs": [
        {
          "output_type": "execute_result",
          "data": {
            "text/plain": [
              "StringPromptValue(text=\"Please explain about Langchaincontent='Please provide me with the context or instructions.  I need more information to give you a two-line response.' additional_kwargs={} response_metadata={'prompt_feedback': {'block_reason': 0, 'safety_ratings': []}, 'finish_reason': 'STOP', 'safety_ratings': []} id='run-07d5daaf-cf40-4d31-afdb-ffda0a6ebc01-0' usage_metadata={'input_tokens': 3, 'output_tokens': 24, 'total_tokens': 27, 'input_token_details': {'cache_read': 0}}\")"
            ]
          },
          "metadata": {},
          "execution_count": 25
        }
      ]
    },
    {
      "cell_type": "code",
      "source": [
        "for i in llm.stream(\"explaine transisters in vlsi\"):\n",
        "  print(i.content)"
      ],
      "metadata": {
        "colab": {
          "base_uri": "https://localhost:8080/"
        },
        "id": "HZHi4ADax2Yr",
        "outputId": "2ec231a6-449f-4e3d-eae5-5ba27eeb2f0d"
      },
      "execution_count": 35,
      "outputs": [
        {
          "output_type": "stream",
          "name": "stdout",
          "text": [
            "In\n",
            " VLSI (Very-Large-Scale Integration), transistors are the fundamental building blocks\n",
            ".  They are tiny semiconductor switches that control the flow of electrical current, enabling\n",
            " the creation of complex logic circuits and memory elements.  Unlike the macroscopic switches we're familiar with, transistors operate at the nanoscale, allowing billions to be\n",
            " integrated onto a single chip.\n",
            "\n",
            "Here's a breakdown of their role in VLSI:\n",
            "\n",
            "**1. Types of Transistors in VLSI:**\n",
            "The dominant transistor type in modern VLSI is the **Metal-Oxide-Semiconductor Field-Effect Transistor (MOSFET)**.  There are two main types of MOSFETs:\n",
            "\n",
            "* **NMOS (N-type MOSFET):\n",
            "**  These transistors conduct current when a positive voltage is applied to the gate.  They are \"on\" with a high gate voltage and \"off\" with a low gate voltage.\n",
            "\n",
            "* **PMOS (P-type MOSFET):\n",
            "** These transistors conduct current when a negative voltage (or a low voltage relative to the source) is applied to the gate. They are \"on\" with a low gate voltage and \"off\" with a high gate voltage.\n",
            "\n",
            "These complementary types (NMOS and PMOS) are crucial for building CMOS (Complementary\n",
            " Metal-Oxide-Semiconductor) logic, the standard for modern VLSI.\n",
            "\n",
            "**2. CMOS Logic:**\n",
            "\n",
            "CMOS logic utilizes both NMOS and PMOS transistors in a complementary configuration to create logic gates (AND, OR, NOT, NAND, NOR, XOR, etc.).  The key advantage of CMOS\n",
            " is its low power consumption.  In a CMOS gate, only one type of transistor is \"on\" at any given time, minimizing current leakage and power dissipation.  This is a critical factor for the high density and low power requirements of VLSI circuits.\n",
            "\n",
            "**3. Transistor Scaling:**\n",
            "\n",
            "As VLSI technology\n",
            " progresses, transistors are continuously miniaturized (scaled down).  This scaling allows for higher integration density (more transistors per unit area), faster switching speeds, and lower power consumption.  However, scaling introduces challenges like:\n",
            "\n",
            "* **Short-channel effects:**  As transistors shrink, their behavior deviates from the ideal\n",
            " model, leading to performance degradation and increased leakage current.\n",
            "* **Leakage current:**  Even when \"off,\" transistors can leak small amounts of current, which becomes significant with billions of transistors.\n",
            "* **Process variations:**  The manufacturing process introduces variations in transistor characteristics, affecting circuit performance and reliability.\n",
            "\n",
            "**\n",
            "4. Transistor Fabrication:**\n",
            "\n",
            "Transistors are fabricated using complex photolithographic processes on silicon wafers.  Multiple layers of materials (silicon, silicon dioxide, metal) are deposited, patterned, and etched to create the intricate three-dimensional structures of the transistors and their interconnections.  This process involves sophisticated techniques like ion\n",
            " implantation, chemical vapor deposition, and etching.\n",
            "\n",
            "**5. Beyond CMOS:**\n",
            "\n",
            "While CMOS is dominant, research continues on alternative transistor technologies to overcome the limitations of CMOS scaling.  These include:\n",
            "\n",
            "* **FinFETs (Fin Field-Effect Transistors):**  These have a three-dimensional structure to\n",
            " improve control over the channel and reduce short-channel effects.\n",
            "* **Nanowire transistors:**  These utilize nanowires as the channel, offering potential for further miniaturization.\n",
            "* **Other emerging technologies:**  Research explores materials and structures beyond silicon, like graphene and carbon nanotubes.\n",
            "\n",
            "\n",
            "In summary,\n",
            " transistors are the fundamental building blocks of VLSI circuits.  Their miniaturization and innovative designs are crucial for the continuous improvement of computing technology.  Understanding transistors and their behavior is essential for designing and analyzing VLSI systems.\n"
          ]
        }
      ]
    },
    {
      "cell_type": "code",
      "source": [
        "llm.invoke(\"Please explain about Langchain in three lines\")"
      ],
      "metadata": {
        "colab": {
          "base_uri": "https://localhost:8080/"
        },
        "id": "obBPvU9oyfqR",
        "outputId": "3368a42c-2a6c-4bc2-862c-26c7aa72db6b"
      },
      "execution_count": null,
      "outputs": [
        {
          "output_type": "execute_result",
          "data": {
            "text/plain": [
              "AIMessage(content='LangChain is a framework for developing applications powered by large language models (LLMs).  It simplifies building chains of LLMs with other tools, like databases or APIs.  This enables complex and interactive applications beyond simple prompt-response interactions.', additional_kwargs={}, response_metadata={'prompt_feedback': {'block_reason': 0, 'safety_ratings': []}, 'finish_reason': 'STOP', 'safety_ratings': []}, id='run-a4be00d8-0995-46aa-bafe-8cade6adc116-0', usage_metadata={'input_tokens': 8, 'output_tokens': 49, 'total_tokens': 57, 'input_token_details': {'cache_read': 0}})"
            ]
          },
          "metadata": {},
          "execution_count": 29
        }
      ]
    },
    {
      "cell_type": "code",
      "source": [
        "prompt = PromptTemplate.from_template(\"Answer with Yes or No. Is {question} a fruit?\")\n",
        "\n",
        "# Create the chain\n",
        "chain = prompt | llm\n",
        "\n",
        "# Print the result\n",
        "response = chain.invoke({\"question\": \"Apple\"})\n",
        "print(response.content)"
      ],
      "metadata": {
        "colab": {
          "base_uri": "https://localhost:8080/"
        },
        "id": "Aypq9Hcbyw6a",
        "outputId": "63de6826-00e5-447a-8c8f-33af07eb225d"
      },
      "execution_count": null,
      "outputs": [
        {
          "output_type": "stream",
          "name": "stdout",
          "text": [
            "Yes\n"
          ]
        }
      ]
    },
    {
      "cell_type": "code",
      "source": [
        "response = chain.invoke({\"question\": \"gova\"})"
      ],
      "metadata": {
        "id": "bq83Wd0yzaCp"
      },
      "execution_count": null,
      "outputs": []
    },
    {
      "cell_type": "code",
      "source": [
        "response.content"
      ],
      "metadata": {
        "colab": {
          "base_uri": "https://localhost:8080/",
          "height": 36
        },
        "id": "qQfNFiBfzjeG",
        "outputId": "8350d3c2-ab19-46df-9a60-be49428736e7"
      },
      "execution_count": null,
      "outputs": [
        {
          "output_type": "execute_result",
          "data": {
            "text/plain": [
              "'No'"
            ],
            "application/vnd.google.colaboratory.intrinsic+json": {
              "type": "string"
            }
          },
          "metadata": {},
          "execution_count": 32
        }
      ]
    },
    {
      "cell_type": "code",
      "source": [
        "response = chain.invoke({\"question\": \"grape\"})"
      ],
      "metadata": {
        "id": "cwyeJcYczl__"
      },
      "execution_count": null,
      "outputs": []
    },
    {
      "cell_type": "code",
      "source": [
        "response.content"
      ],
      "metadata": {
        "colab": {
          "base_uri": "https://localhost:8080/",
          "height": 36
        },
        "id": "-jE_O-w9zrmm",
        "outputId": "25127bd8-0997-42d4-dc8a-ba50c2c35618"
      },
      "execution_count": null,
      "outputs": [
        {
          "output_type": "execute_result",
          "data": {
            "text/plain": [
              "'Yes'"
            ],
            "application/vnd.google.colaboratory.intrinsic+json": {
              "type": "string"
            }
          },
          "metadata": {},
          "execution_count": 36
        }
      ]
    },
    {
      "cell_type": "code",
      "source": [],
      "metadata": {
        "id": "5fIFvsFX07PR"
      },
      "execution_count": null,
      "outputs": []
    },
    {
      "cell_type": "code",
      "source": [],
      "metadata": {
        "id": "WtJjNmf207SF"
      },
      "execution_count": null,
      "outputs": []
    },
    {
      "cell_type": "code",
      "source": [],
      "metadata": {
        "id": "Mj3auNmG07Vg"
      },
      "execution_count": null,
      "outputs": []
    },
    {
      "cell_type": "markdown",
      "source": [
        "**Multimodeal Model**\n",
        "\n",
        "To provide an image, pass a `human message` with `contents of type List[dict],` where each dict contains either an image value (type of image_url) or a text (type of text) value. The value of image_url can be any of the following:\n",
        "\n",
        "A public image URL\n",
        "\n",
        "An accessible gcs file (e.g., \"gcs://path/to/file.png\")\n",
        "\n",
        "A local file path\n",
        "\n",
        "A base64 encoded image (e.g., data:image/png;base64,\n",
        "abcd124)\n",
        "\n",
        "A PIL image"
      ],
      "metadata": {
        "id": "Xo323KZ_07vG"
      }
    },
    {
      "cell_type": "code",
      "source": [
        "image_url = \"https://media.gettyimages.com/id/638620778/photo/group-of-small-kids-having-fun-while-playing-in-nature.jpg?s=612x612&w=gi&k=20&c=uWbjQmgURv1oVEwIZi7WpkddETRH97fUqK4ZBrf4dAA=\""
      ],
      "metadata": {
        "id": "g6DoL581ztHz"
      },
      "execution_count": 20,
      "outputs": []
    },
    {
      "cell_type": "code",
      "source": [
        "import requests\n",
        "from IPython.display import Image\n",
        "\n",
        "content = requests.get(image_url).content\n",
        "Image(content)"
      ],
      "metadata": {
        "colab": {
          "base_uri": "https://localhost:8080/",
          "height": 426
        },
        "id": "O3Q9_Mse1GU1",
        "outputId": "890df3f0-5259-4ca9-fdcc-e48405414e33"
      },
      "execution_count": 21,
      "outputs": [
        {
          "output_type": "execute_result",
          "data": {
            "image/jpeg": "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\n",
            "text/plain": [
              "<IPython.core.display.Image object>"
            ]
          },
          "metadata": {},
          "execution_count": 21
        }
      ]
    },
    {
      "cell_type": "code",
      "source": [
        "from langchain_core.messages import HumanMessage"
      ],
      "metadata": {
        "id": "KVhz9YcL04E7"
      },
      "execution_count": 22,
      "outputs": []
    },
    {
      "cell_type": "code",
      "source": [
        "message = HumanMessage(\n",
        "    content = [\n",
        "        {\"type\": \"text\", \"text\":\"how many childrens are there in image and give dress color\"},\n",
        "        {\"type\": \"image_url\", \"image_url\":image_url},\n",
        "\n",
        "    ]\n",
        ")"
      ],
      "metadata": {
        "id": "k0QC45w114H5"
      },
      "execution_count": 30,
      "outputs": []
    },
    {
      "cell_type": "code",
      "source": [
        "response = llm.invoke([message])"
      ],
      "metadata": {
        "id": "EZ1nvt3u2keX"
      },
      "execution_count": 31,
      "outputs": []
    },
    {
      "cell_type": "code",
      "source": [
        "print(response.content)"
      ],
      "metadata": {
        "colab": {
          "base_uri": "https://localhost:8080/"
        },
        "id": "hdUkL1-g2rQq",
        "outputId": "53a70d7b-b2a4-4f53-c135-78c3afe19e18"
      },
      "execution_count": 32,
      "outputs": [
        {
          "output_type": "stream",
          "name": "stdout",
          "text": [
            "There are nine children in the image.  Their clothing colors include:\n",
            "\n",
            "* **Blue:** One child is wearing a blue shirt.\n",
            "* **Orange:** One child is wearing an orange shirt.\n",
            "* **Pink/Purple:** Two children are wearing pink and purple dresses.\n",
            "* **Green/Yellow:** One child is wearing a yellow/green top.\n",
            "* **Multicolored:** Several children are wearing dresses or shirts with multiple colors.\n"
          ]
        }
      ]
    },
    {
      "cell_type": "code",
      "source": [
        "response.content"
      ],
      "metadata": {
        "colab": {
          "base_uri": "https://localhost:8080/",
          "height": 36
        },
        "id": "kEgIx11R3ID1",
        "outputId": "dc39a377-ed7e-4f80-e59a-c1c3f5f92200"
      },
      "execution_count": 29,
      "outputs": [
        {
          "output_type": "execute_result",
          "data": {
            "text/plain": [
              "'There are nine children in the image.'"
            ],
            "application/vnd.google.colaboratory.intrinsic+json": {
              "type": "string"
            }
          },
          "metadata": {},
          "execution_count": 29
        }
      ]
    },
    {
      "cell_type": "code",
      "source": [],
      "metadata": {
        "id": "LXVK_5GV3OxZ"
      },
      "execution_count": null,
      "outputs": []
    }
  ],
  "metadata": {
    "colab": {
      "provenance": [],
      "gpuType": "T4"
    },
    "kernelspec": {
      "display_name": "Python 3",
      "name": "python3"
    },
    "language_info": {
      "name": "python"
    },
    "accelerator": "GPU"
  },
  "nbformat": 4,
  "nbformat_minor": 0
}




#https://aistudio.google.com/app/apikey?hl=en
