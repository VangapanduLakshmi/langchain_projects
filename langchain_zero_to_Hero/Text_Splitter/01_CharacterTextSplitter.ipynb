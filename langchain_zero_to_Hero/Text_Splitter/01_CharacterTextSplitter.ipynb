{
  "cells": [
    {
      "cell_type": "markdown",
      "metadata": {
        "id": "VUSl2Yk5g7ve"
      },
      "source": [
        "# Character Text Splitter\n",
        "\n",
        "- Author: [hellohotkey](https://github.com/hellohotkey)\n",
        "- Design:\n",
        "- Peer Review : [fastjw](https://github.com/fastjw), [heewung song](https://github.com/kofsitho87)\n",
        "- This is a part of [LangChain Open Tutorial](https://github.com/LangChain-OpenTutorial/LangChain-OpenTutorial)\n",
        "\n",
        "[![Open in Colab](https://colab.research.google.com/assets/colab-badge.svg)](https://colab.research.google.com/github/LangChain-OpenTutorial/LangChain-OpenTutorial/blob/main/07-TextSplitter/01-CharacterTextSplitter.ipynb) [![Open in GitHub](https://img.shields.io/badge/Open%20in%20GitHub-181717?style=flat-square&logo=github&logoColor=white)](https://github.com/LangChain-OpenTutorial/LangChain-OpenTutorial/blob/main/07-TextSplitter/01-CharacterTextSplitter.ipynb)\n",
        "\n",
        "## Overview\n",
        "\n",
        "Text splitting is a crucial step in document processing with LangChain.\n",
        "\n",
        "The `CharacterTextSplitter` offers efficient text chunking that provides several key benefits:\n",
        "\n",
        "- **Token Limits:** Overcomes LLM context window size restrictions\n",
        "- **Search Optimization:** Enables more precise chunk-level retrieval\n",
        "- **Memory Efficiency:** Processes large documents effectively\n",
        "- **Context Preservation:** Maintains textual coherence through `chunk_overlap`\n",
        "\n",
        "This tutorial explores practical implementation of text splitting through core methods like `split_text()` and `create_documents()`, including advanced features such as metadata handling.\n",
        "\n",
        "### Table of Contents\n",
        "\n",
        "- [Overview](#overview)\n",
        "- [Environement Setup](#environment-setup)\n",
        "- [CharacterTextSplitter Example](#charactertextsplitter-example)\n",
        "\n",
        "\n",
        "### References\n",
        "\n",
        "- [LangChain TextSplitter](https://python.langchain.com/api_reference/text_splitters/base/langchain_text_splitters.base.TextSplitter.html)\n",
        "- [LangChain CharacterTextSplitter](https://python.langchain.com/api_reference/text_splitters/character/langchain_text_splitters.character.CharacterTextSplitter.html)\n",
        "----"
      ]
    },
    {
      "cell_type": "markdown",
      "metadata": {
        "id": "EFUHXk7Lg7vl"
      },
      "source": [
        "## Environment Setup\n",
        "\n",
        "Set up the environment. You may refer to [Environment Setup](https://wikidocs.net/257836) for more details.\n",
        "\n",
        "**[Note]**\n",
        "- `langchain-opentutorial` is a package that provides a set of easy-to-use environment setup, useful functions and utilities for tutorials.\n",
        "- You can checkout the [`langchain-opentutorial`](https://github.com/LangChain-OpenTutorial/langchain-opentutorial-pypi) for more details."
      ]
    },
    {
      "cell_type": "code",
      "execution_count": 1,
      "metadata": {
        "id": "euteFRBcg7vm"
      },
      "outputs": [],
      "source": [
        "%%capture --no-stderr\n",
        "%pip install langchain-opentutorial"
      ]
    },
    {
      "cell_type": "code",
      "execution_count": 2,
      "metadata": {
        "id": "dOwSQXOkg7vo"
      },
      "outputs": [],
      "source": [
        "# Install required packages\n",
        "from langchain_opentutorial import package\n",
        "\n",
        "package.install(\n",
        "    [\n",
        "        \"langchain_text_splitters\",\n",
        "    ],\n",
        "    verbose=False,\n",
        "    upgrade=False,\n",
        ")"
      ]
    },
    {
      "cell_type": "markdown",
      "metadata": {
        "id": "sf5j1zxsg7vt"
      },
      "source": [
        "## CharacterTextSplitter Example\n",
        "\n",
        "Read and store contents from keywords file\n",
        "* Open `./data/appendix-keywords.txt` file and read its contents.\n",
        "* Store the read contents in the `file` variable"
      ]
    },
    {
      "cell_type": "code",
      "execution_count": 3,
      "metadata": {
        "id": "2zMm1gmtg7vu"
      },
      "outputs": [],
      "source": [
        "with open(\"/content/appendix-keywords.txt\", encoding=\"utf-8\") as f:\n",
        "   file = f.read()"
      ]
    },
    {
      "cell_type": "markdown",
      "metadata": {
        "id": "8iFmuyNkg7vv"
      },
      "source": [
        "Print the first 500 characters of the file contents."
      ]
    },
    {
      "cell_type": "code",
      "execution_count": 4,
      "metadata": {
        "colab": {
          "base_uri": "https://localhost:8080/"
        },
        "id": "9zlWzVVyg7vw",
        "outputId": "00f38351-073f-4d5a-ce3c-855d349788fc"
      },
      "outputs": [
        {
          "output_type": "stream",
          "name": "stdout",
          "text": [
            "Semantic Search\n",
            "\n",
            "Definition: A vector store is a system that stores data converted to vector format. It is used for search, classification, and other data analysis tasks.\n",
            "Example: Vectors of word embeddings can be stored in a database for quick access.\n",
            "Related keywords: embedding, database, vectorization, vectorization\n",
            "\n",
            "Embedding\n",
            "\n",
            "Definition: Embedding is the process of converting textual data, such as words or sentences, into a low-dimensional, continuous vector. This allows computers to unders\n"
          ]
        }
      ],
      "source": [
        "print(file[:500])"
      ]
    },
    {
      "cell_type": "markdown",
      "metadata": {
        "id": "XPSrQ39dg7vx"
      },
      "source": [
        "Create `CharacterTextSplitter` with parameters:\n",
        "\n",
        "**Parameters**\n",
        "\n",
        "* `separator`: String to split text on (e.g., newlines, spaces, custom delimiters)\n",
        "* `chunk_size`: Maximum size of chunks to return\n",
        "* `chunk_overlap`: Overlap in characters between chunks\n",
        "* `length_function`: Function that measures the length of given chunks\n",
        "* `is_separator_regex`: Boolean indicating whether separator should be treated as a regex pattern"
      ]
    },
    {
      "cell_type": "code",
      "execution_count": 5,
      "metadata": {
        "id": "zCEbzHckg7vx"
      },
      "outputs": [],
      "source": [
        "from langchain_text_splitters import CharacterTextSplitter\n",
        "\n",
        "text_splitter = CharacterTextSplitter(\n",
        "   separator=\" \",           # Splits whenever a space is encountered in text\n",
        "   chunk_size=250,          # Each chunk contains maximum 250 characters\n",
        "   chunk_overlap=50,        # Two consecutive chunks share 50 characters\n",
        "   length_function=len,     # Counts total characters in each chunk\n",
        "   is_separator_regex=False # Uses space as literal separator, not as regex\n",
        ")"
      ]
    },
    {
      "cell_type": "markdown",
      "metadata": {
        "id": "4x5g0r2Yg7v1"
      },
      "source": [
        "Split text using the `split_text()` method.\n",
        "* `text_splitter.split_text(file)[0]` returns the first chunk of the split text"
      ]
    },
    {
      "cell_type": "code",
      "source": [
        "res = text_splitter.split_text(file)\n",
        "for i in range(len(res)):\n",
        "  print(f\"{i}:{res[i]}\")\n",
        "  print(len(res[i]))\n",
        "  print(\"*\"*10)"
      ],
      "metadata": {
        "colab": {
          "base_uri": "https://localhost:8080/"
        },
        "id": "65ohrCRMjt4v",
        "outputId": "e7d06aec-3ade-47a4-a788-344a9f0443a0"
      },
      "execution_count": 16,
      "outputs": [
        {
          "output_type": "stream",
          "name": "stdout",
          "text": [
            "0:Semantic Search\n",
            "\n",
            "Definition: A vector store is a system that stores data converted to vector format. It is used for search, classification, and other data analysis tasks.\n",
            "Example: Vectors of word embeddings can be stored in a database for quick\n",
            "244\n",
            "**********\n",
            "1:embeddings can be stored in a database for quick access.\n",
            "Related keywords: embedding, database, vectorization, vectorization\n",
            "\n",
            "Embedding\n",
            "\n",
            "Definition: Embedding is the process of converting textual data, such as words or sentences, into a\n",
            "236\n",
            "**********\n",
            "2:textual data, such as words or sentences, into a low-dimensional, continuous vector. This allows computers to understand and process the text.\n",
            "Example: Represent the word “apple” as a vector such as [0.65, -0.23, 0.17].\n",
            "Related keywords: natural\n",
            "245\n",
            "**********\n",
            "3:as [0.65, -0.23, 0.17].\n",
            "Related keywords: natural language processing, vectorization, deep learning\n",
            "\n",
            "Token\n",
            "\n",
            "Definition: A token is a breakup of text into smaller units. These can typically be words, sentences, or phrases.\n",
            "Example: Split the sentence\n",
            "249\n",
            "**********\n",
            "4:sentences, or phrases.\n",
            "Example: Split the sentence “I am going to school” into “I am”, “to school”, and “going”.\n",
            "Associated keywords: tokenization, natural language processing, parsing\n",
            "\n",
            "Tokenizer\n",
            "\n",
            "Definition: A tokenizer is a tool that splits text\n",
            "247\n",
            "**********\n",
            "5:A tokenizer is a tool that splits text data into tokens. It is used to preprocess data in natural language processing.\n",
            "Example: Split the sentence “I love programming.” into [“I”, “love”, “programming”, “.”].\n",
            "Associated keywords: tokenization,\n",
            "243\n",
            "**********\n",
            "6:“.”].\n",
            "Associated keywords: tokenization, natural language processing, parsing\n",
            "\n",
            "VectorStore\n",
            "\n",
            "Definition: A vector store is a system that stores data converted to vector format. It is used for search, classification, and other data analysis\n",
            "238\n",
            "**********\n",
            "7:search, classification, and other data analysis tasks.\n",
            "Example: Vectors of word embeddings can be stored in a database for quick access.\n",
            "Related keywords: embedding, database, vectorization, vectorization\n",
            "\n",
            "SQL\n",
            "\n",
            "Definition: SQL(Structured Query\n",
            "243\n",
            "**********\n",
            "8:SQL(Structured Query Language) is a programming language for managing data in a database. You can query, modify, insert, delete, and more data.\n",
            "Example: SELECT * FROM users WHERE age > 18; looks up information about users who are 18 years old or\n",
            "245\n",
            "**********\n",
            "9:up information about users who are 18 years old or older.\n",
            "Associated keywords: database, query, data management, data management\n",
            "\n",
            "CSV\n",
            "\n",
            "Definition: CSV(Comma-Separated Values) is a file format for storing data, where each data value is separated by a\n",
            "249\n",
            "**********\n",
            "10:data, where each data value is separated by a comma. It is used for simple storage and exchange of tabular data.\n",
            "Example: A CSV file with the headers Name, Age, and Occupation might contain data such as Hong Gil-dong, 30, Developer.\n",
            "Related keywords:\n",
            "250\n",
            "**********\n",
            "11:as Hong Gil-dong, 30, Developer.\n",
            "Related keywords: data format, file processing, data exchange\n",
            "\n",
            "JSON\n",
            "\n",
            "Definition: JSON(JavaScript Object Notation) is a lightweight data interchange format that represents data objects using text that is readable to\n",
            "247\n",
            "**********\n",
            "12:data objects using text that is readable to both humans and machines.\n",
            "Example: {“Name”: “HongGilDong”, ‘Age’: 30, “Occupation”: “Developer\"} is data in JSON format.\n",
            "Related keywords: data exchange, web development, APIs\n",
            "\n",
            "Transformer\n",
            "\n",
            "Definition:\n",
            "245\n",
            "**********\n",
            "13:web development, APIs\n",
            "\n",
            "Transformer\n",
            "\n",
            "Definition: Transformers are a type of deep learning model used in natural language processing, mainly for translation, summarization, text generation, etc. It is based on the Attention mechanism.\n",
            "Example: Google\n",
            "248\n",
            "**********\n",
            "14:based on the Attention mechanism.\n",
            "Example: Google Translator uses transformer models to perform translations between different languages.\n",
            "Related keywords: Deep learning, Natural language processing, Attention\n",
            "\n",
            "HuggingFace\n",
            "\n",
            "Definition: HuggingFace is\n",
            "250\n",
            "**********\n",
            "15:Attention\n",
            "\n",
            "HuggingFace\n",
            "\n",
            "Definition: HuggingFace is a library that provides a variety of pre-trained models and tools for natural language processing. It helps researchers and developers to easily perform NLP tasks.\n",
            "Example: You can use HuggingFace's\n",
            "249\n",
            "**********\n",
            "16:NLP tasks.\n",
            "Example: You can use HuggingFace's Transformers library to perform tasks such as sentiment analysis, text generation, and more.\n",
            "Related keywords: natural language processing, deep learning, libraries\n",
            "\n",
            "Digital Transformation\n",
            "\n",
            "Definition:\n",
            "247\n",
            "**********\n",
            "17:libraries\n",
            "\n",
            "Digital Transformation\n",
            "\n",
            "Definition: Digital transformation is the process of leveraging technology to transform a company's services, culture, and operations. It focuses on improving business models and increasing competitiveness through\n",
            "248\n",
            "**********\n",
            "18:models and increasing competitiveness through digital technologies.\n",
            "Example: When a company adopts cloud computing to revolutionize data storage and processing, it's an example of digital transformation.\n",
            "Related keywords: transformation, technology,\n",
            "249\n",
            "**********\n",
            "19:keywords: transformation, technology, business model\n",
            "\n",
            "Crawling\n",
            "\n",
            "Definition: Crawling is the process of visiting web pages in an automated way to collect data. It is often used for search engine optimization or data analysis.\n",
            "Example: When the Google\n",
            "249\n",
            "**********\n",
            "20:or data analysis.\n",
            "Example: When the Google search engine visits websites on the internet to collect and index content, it is crawling.\n",
            "Related keywords: data collection, web scraping, search engine\n",
            "\n",
            "Word2Vec\n",
            "\n",
            "Definition: Word2Vec is a natural\n",
            "242\n",
            "**********\n",
            "21:Word2Vec is a natural language processing technique that maps words to a vector space to represent semantic relationships between words. It generates vectors based on the contextual similarity of words.\n",
            "Example: In a Word2Vec model, “king” and\n",
            "243\n",
            "**********\n",
            "22:of words.\n",
            "Example: In a Word2Vec model, “king” and “queen” are represented as vectors in close proximity to each other.\n",
            "Related keywords: natural language processing, embeddings, semantic similarity\n",
            "\n",
            "LLM (Large Language Model)\n",
            "\n",
            "Definition: LLM refers\n",
            "250\n",
            "**********\n",
            "23:(Large Language Model)\n",
            "\n",
            "Definition: LLM refers to large-scale language models trained on large amounts of textual data. These models are used for a variety of natural language understanding and generation tasks.\n",
            "Example: OpenAI's GPT series is a\n",
            "245\n",
            "**********\n",
            "24:tasks.\n",
            "Example: OpenAI's GPT series is a typical large-scale language model.\n",
            "Related keywords: natural language processing, deep learning, text generation\n",
            "\n",
            "FAISS (Facebook AI Similarity Search)\n",
            "\n",
            "Definition: FAISS is a fast similarity search library\n",
            "248\n",
            "**********\n",
            "25:FAISS is a fast similarity search library developed by Facebook, specifically designed to efficiently search for similar vectors in large vector sets.\n",
            "Example: FAISS can be used to quickly find similar images among millions of image vectors.\n",
            "Related\n",
            "249\n",
            "**********\n",
            "26:images among millions of image vectors.\n",
            "Related keywords: vector search, machine learning, database optimization\n",
            "\n",
            "Open Source\n",
            "\n",
            "Definition: Open source refers to software whose source code is publicly available and can be freely used, modified, and\n",
            "247\n",
            "**********\n",
            "27:available and can be freely used, modified, and distributed by anyone. This plays an important role in fostering collaboration and innovation.\n",
            "Example: The Linux operating system is a prominent open source project.\n",
            "Related keywords: software\n",
            "241\n",
            "**********\n",
            "28:open source project.\n",
            "Related keywords: software development, community, technical collaboration\n",
            "\n",
            "Structured Data\n",
            "\n",
            "Definition: Structured data is data that is organized according to a set format or schema. It can be easily searched and analyzed in\n",
            "246\n",
            "**********\n",
            "29:schema. It can be easily searched and analyzed in databases, spreadsheets, etc.\n",
            "Example: A table of customer information stored in a relational database is an example of structured data.\n",
            "Related keywords: database, data analysis, data modeling, data\n",
            "249\n",
            "**********\n",
            "30:database, data analysis, data modeling, data modeling\n",
            "\n",
            "Parser\n",
            "\n",
            "Definition: A parser is a tool that analyzes given data (strings, files, etc.) and converts it into a structured form. It is used for parsing programming languages or processing file\n",
            "245\n",
            "**********\n",
            "31:parsing programming languages or processing file data.\n",
            "Example: Parsing an HTML document to generate the DOM structure of a web page is an example of parsing.\n",
            "Associated keywords: parsing, compiler, data processing\n",
            "\n",
            "TF-IDF (Term Frequency-Inverse\n",
            "246\n",
            "**********\n",
            "32:data processing\n",
            "\n",
            "TF-IDF (Term Frequency-Inverse Document Frequency)\n",
            "\n",
            "Definition: TF-IDF is a statistical measure used to evaluate the importance of a word within a document. It takes into account the frequency of the word within the document and the\n",
            "249\n",
            "**********\n",
            "33:frequency of the word within the document and the sparsity of the word in the entire document set.\n",
            "Example: A word that occurs infrequently in many documents has a high TF-IDF value.\n",
            "Related keywords: natural language processing, information\n",
            "241\n",
            "**********\n",
            "34:keywords: natural language processing, information retrieval, data mining\n",
            "\n",
            "Deep Learning\n",
            "\n",
            "Definition: Deep learning is a branch of machine learning that uses artificial neural networks to solve complex problems. It focuses on learning high-level\n",
            "245\n",
            "**********\n",
            "35:problems. It focuses on learning high-level representations from data.\n",
            "Examples: Deep learning models are used in image recognition, speech recognition, natural language processing, and more.\n",
            "Related keywords: Artificial neural networks, machine\n",
            "245\n",
            "**********\n",
            "36:keywords: Artificial neural networks, machine learning, data analytics\n",
            "\n",
            "Schema\n",
            "\n",
            "Definition: A schema defines the structure of a database or file, providing a blueprint for how data is stored and organized.\n",
            "Example: The table schema of a relational\n",
            "247\n",
            "**********\n",
            "37:The table schema of a relational database defines column names, data types, key constraints, and more.\n",
            "Related keywords: database, data modeling, data management, data management\n",
            "\n",
            "DataFrame\n",
            "\n",
            "Definition: A DataFrame is a table-like data structure with\n",
            "250\n",
            "**********\n",
            "38:A DataFrame is a table-like data structure with rows and columns, primarily used for data analysis and processing.\n",
            "Example: In the Pandas library, a DataFrame can have columns of different data types and facilitates data manipulation and\n",
            "237\n",
            "**********\n",
            "39:data types and facilitates data manipulation and analysis.\n",
            "Related keywords: data analytics, Pandas, data processing\n",
            "\n",
            "Attention mechanisms\n",
            "\n",
            "Definition: Attention mechanisms are techniques that allow deep learning to pay more “attention” to important\n",
            "249\n",
            "**********\n",
            "40:deep learning to pay more “attention” to important information. They are often used with sequential data (e.g., text, time series data).\n",
            "Example: In a translation model, the Attention mechanism focuses more on the important parts of the input\n",
            "242\n",
            "**********\n",
            "41:focuses more on the important parts of the input sentence to produce an accurate translation.\n",
            "Associated keywords: deep learning, natural language processing, sequence modeling\n",
            "\n",
            "Pandas\n",
            "\n",
            "Definition: Pandas is a library that provides data analysis and\n",
            "249\n",
            "**********\n",
            "42:is a library that provides data analysis and manipulation tools for the Python programming language. It enables you to perform data analysis tasks efficiently.\n",
            "Example: You can use Pandas to read CSV files, cleanse data, and perform various\n",
            "240\n",
            "**********\n",
            "43:read CSV files, cleanse data, and perform various analyses.\n",
            "Related keywords: Data analysis, Python, Data processing\n",
            "\n",
            "GPT (Generative Pretrained Transformer)\n",
            "\n",
            "Definition: GPTs are generative language models pre-trained on large datasets and utilized\n",
            "249\n",
            "**********\n",
            "44:models pre-trained on large datasets and utilized for a variety of text-based tasks. It can generate natural language based on input text.\n",
            "Example: A chatbot that generates detailed answers to user-supplied questions can use a GPT model.\n",
            "Related\n",
            "245\n",
            "**********\n",
            "45:questions can use a GPT model.\n",
            "Related keywords: natural language processing, text generation, deep learning\n",
            "\n",
            "InstructGPT\n",
            "\n",
            "Definition: InstructGPT is a GPT model optimized to perform specific tasks based on user instructions. The model is designed to\n",
            "250\n",
            "**********\n",
            "46:on user instructions. The model is designed to produce more accurate and relevant results.\n",
            "Example: If a user provides a specific instruction, such as “draft an email,” InstructGPT will create an email based on relevant content.\n",
            "Related keywords:\n",
            "246\n",
            "**********\n",
            "47:email based on relevant content.\n",
            "Related keywords: artificial intelligence, natural language understanding, command-based processing\n",
            "\n",
            "Keyword Search\n",
            "\n",
            "Definition: Keyword search is the process of finding information based on keywords entered by a\n",
            "245\n",
            "**********\n",
            "48:finding information based on keywords entered by a user. It is the primary search method used by most search engines and database systems.\n",
            "Example: If a user searches for “coffee shops Seoul”, a list of relevant coffee shops is returned.\n",
            "Related\n",
            "245\n",
            "**********\n",
            "49:list of relevant coffee shops is returned.\n",
            "Related keywords: search engine, data search, information search\n",
            "\n",
            "Page Rank\n",
            "\n",
            "Definition: PageRank is an algorithm that evaluates the importance of a web page and is primarily used to determine its ranking in\n",
            "250\n",
            "**********\n",
            "50:and is primarily used to determine its ranking in search engine results. It is evaluated by analyzing the link structure between web pages.\n",
            "Example: The Google search engine uses the PageRank algorithm to rank search results.\n",
            "Related keywords: search\n",
            "250\n",
            "**********\n",
            "51:to rank search results.\n",
            "Related keywords: search engine optimization, web analytics, link analysis\n",
            "\n",
            "Data Mining\n",
            "\n",
            "Definition: Data mining is the process of uncovering useful information from large amounts of data. It leverages techniques such as\n",
            "244\n",
            "**********\n",
            "52:amounts of data. It leverages techniques such as statistics, machine learning, and pattern recognition.\n",
            "Example: When a retailer analyzes customer purchase data to create a sales strategy, it's an example of data mining.\n",
            "Related keywords: big data,\n",
            "248\n",
            "**********\n",
            "53:of data mining.\n",
            "Related keywords: big data, pattern recognition, predictive analytics\n",
            "\n",
            "Multimodal (Multimodal)\n",
            "\n",
            "Definition: Multimodal is a technique that combines and processes multiple modes of data (e.g., text, images, sound, etc.). It is used to\n",
            "249\n",
            "**********\n",
            "54:(e.g., text, images, sound, etc.). It is used to extract or predict richer and more accurate information through the interaction between different forms of data.\n",
            "Example: A system that analyzes images and descriptive text together to perform more\n",
            "246\n",
            "**********\n",
            "55:and descriptive text together to perform more accurate image classification is an example of multimodal technology.\n",
            "Related keywords: data fusion, artificial intelligence, deep learning\n",
            "185\n",
            "**********\n"
          ]
        }
      ]
    },
    {
      "cell_type": "code",
      "source": [
        "s = \"embeddings can be stored in a database for quick\"\n",
        "print(len(s))"
      ],
      "metadata": {
        "colab": {
          "base_uri": "https://localhost:8080/"
        },
        "id": "QJAIP4zcpZ7w",
        "outputId": "9f1216ad-4c54-4cdc-d109-4ca1899b80d0"
      },
      "execution_count": 18,
      "outputs": [
        {
          "output_type": "stream",
          "name": "stdout",
          "text": [
            "48\n"
          ]
        }
      ]
    },
    {
      "cell_type": "markdown",
      "metadata": {
        "id": "CxMVe2KVg7vy"
      },
      "source": [
        "Create document objects from chunks and display the first one"
      ]
    },
    {
      "cell_type": "code",
      "execution_count": 19,
      "metadata": {
        "colab": {
          "base_uri": "https://localhost:8080/"
        },
        "id": "bcyWOOavg7vz",
        "outputId": "d38b39a6-67a5-415e-d616-6284a50e5758"
      },
      "outputs": [
        {
          "output_type": "stream",
          "name": "stdout",
          "text": [
            "page_content='Semantic Search\n",
            "\n",
            "Definition: A vector store is a system that stores data converted to vector format. It is used for search, classification, and other data analysis tasks.\n",
            "Example: Vectors of word embeddings can be stored in a database for quick'\n"
          ]
        }
      ],
      "source": [
        "chunks = text_splitter.create_documents([file])\n",
        "print(chunks[0])"
      ]
    },
    {
      "cell_type": "markdown",
      "metadata": {
        "id": "9QHXCD9sg7v0"
      },
      "source": [
        "Demonstrate metadata handling during document creation:\n",
        "\n",
        "* `create_documents` accepts both text data and metadata lists\n",
        "* Each chunk inherits metadata from its source document"
      ]
    },
    {
      "cell_type": "code",
      "execution_count": 24,
      "metadata": {
        "colab": {
          "base_uri": "https://localhost:8080/"
        },
        "id": "5PQCKy_jg7v0",
        "outputId": "0bc78f44-0bac-4b57-fa78-129097b6353e"
      },
      "outputs": [
        {
          "output_type": "stream",
          "name": "stdout",
          "text": [
            "page_content='Semantic Search\n",
            "\n",
            "Definition: A vector store is a system that stores data converted to vector format. It is used for search, classification, and other data analysis tasks.\n",
            "Example: Vectors of word embeddings can be stored in a database for quick' metadata={'document': 1}\n"
          ]
        }
      ],
      "source": [
        "# Define metadata for each document\n",
        "metadatas = [\n",
        "   {\"document\": 1},\n",
        "   {\"document\": 2},\n",
        "]\n",
        "\n",
        "# Create documents with metadata\n",
        "documents = text_splitter.create_documents(\n",
        "   [file],  # List of texts to split\n",
        "   metadatas=metadatas,  # Corresponding metadata\n",
        ")\n",
        "\n",
        "print(documents[0])  # Display first document with metadata\n"
      ]
    },
    {
      "cell_type": "code",
      "source": [
        "documents"
      ],
      "metadata": {
        "colab": {
          "base_uri": "https://localhost:8080/"
        },
        "id": "OAg6PTDHp9Yf",
        "outputId": "b04b5cf1-1735-4fe0-9481-c4cb727c610c"
      },
      "execution_count": 25,
      "outputs": [
        {
          "output_type": "execute_result",
          "data": {
            "text/plain": [
              "[Document(metadata={'document': 1}, page_content='Semantic Search\\n\\nDefinition: A vector store is a system that stores data converted to vector format. It is used for search, classification, and other data analysis tasks.\\nExample: Vectors of word embeddings can be stored in a database for quick'),\n",
              " Document(metadata={'document': 1}, page_content='embeddings can be stored in a database for quick access.\\nRelated keywords: embedding, database, vectorization, vectorization\\n\\nEmbedding\\n\\nDefinition: Embedding is the process of converting textual data, such as words or sentences, into a'),\n",
              " Document(metadata={'document': 1}, page_content='textual data, such as words or sentences, into a low-dimensional, continuous vector. This allows computers to understand and process the text.\\nExample: Represent the word “apple” as a vector such as [0.65, -0.23, 0.17].\\nRelated keywords: natural'),\n",
              " Document(metadata={'document': 1}, page_content='as [0.65, -0.23, 0.17].\\nRelated keywords: natural language processing, vectorization, deep learning\\n\\nToken\\n\\nDefinition: A token is a breakup of text into smaller units. These can typically be words, sentences, or phrases.\\nExample: Split the sentence'),\n",
              " Document(metadata={'document': 1}, page_content='sentences, or phrases.\\nExample: Split the sentence “I am going to school” into “I am”, “to school”, and “going”.\\nAssociated keywords: tokenization, natural language processing, parsing\\n\\nTokenizer\\n\\nDefinition: A tokenizer is a tool that splits text'),\n",
              " Document(metadata={'document': 1}, page_content='A tokenizer is a tool that splits text data into tokens. It is used to preprocess data in natural language processing.\\nExample: Split the sentence “I love programming.” into [“I”, “love”, “programming”, “.”].\\nAssociated keywords: tokenization,'),\n",
              " Document(metadata={'document': 1}, page_content='“.”].\\nAssociated keywords: tokenization, natural language processing, parsing\\n\\nVectorStore\\n\\nDefinition: A vector store is a system that stores data converted to vector format. It is used for search, classification, and other data analysis'),\n",
              " Document(metadata={'document': 1}, page_content='search, classification, and other data analysis tasks.\\nExample: Vectors of word embeddings can be stored in a database for quick access.\\nRelated keywords: embedding, database, vectorization, vectorization\\n\\nSQL\\n\\nDefinition: SQL(Structured Query'),\n",
              " Document(metadata={'document': 1}, page_content='SQL(Structured Query Language) is a programming language for managing data in a database. You can query, modify, insert, delete, and more data.\\nExample: SELECT * FROM users WHERE age > 18; looks up information about users who are 18 years old or'),\n",
              " Document(metadata={'document': 1}, page_content='up information about users who are 18 years old or older.\\nAssociated keywords: database, query, data management, data management\\n\\nCSV\\n\\nDefinition: CSV(Comma-Separated Values) is a file format for storing data, where each data value is separated by a'),\n",
              " Document(metadata={'document': 1}, page_content='data, where each data value is separated by a comma. It is used for simple storage and exchange of tabular data.\\nExample: A CSV file with the headers Name, Age, and Occupation might contain data such as Hong Gil-dong, 30, Developer.\\nRelated keywords:'),\n",
              " Document(metadata={'document': 1}, page_content='as Hong Gil-dong, 30, Developer.\\nRelated keywords: data format, file processing, data exchange\\n\\nJSON\\n\\nDefinition: JSON(JavaScript Object Notation) is a lightweight data interchange format that represents data objects using text that is readable to'),\n",
              " Document(metadata={'document': 1}, page_content='data objects using text that is readable to both humans and machines.\\nExample: {“Name”: “HongGilDong”, ‘Age’: 30, “Occupation”: “Developer\"} is data in JSON format.\\nRelated keywords: data exchange, web development, APIs\\n\\nTransformer\\n\\nDefinition:'),\n",
              " Document(metadata={'document': 1}, page_content='web development, APIs\\n\\nTransformer\\n\\nDefinition: Transformers are a type of deep learning model used in natural language processing, mainly for translation, summarization, text generation, etc. It is based on the Attention mechanism.\\nExample: Google'),\n",
              " Document(metadata={'document': 1}, page_content='based on the Attention mechanism.\\nExample: Google Translator uses transformer models to perform translations between different languages.\\nRelated keywords: Deep learning, Natural language processing, Attention\\n\\nHuggingFace\\n\\nDefinition: HuggingFace is'),\n",
              " Document(metadata={'document': 1}, page_content=\"Attention\\n\\nHuggingFace\\n\\nDefinition: HuggingFace is a library that provides a variety of pre-trained models and tools for natural language processing. It helps researchers and developers to easily perform NLP tasks.\\nExample: You can use HuggingFace's\"),\n",
              " Document(metadata={'document': 1}, page_content=\"NLP tasks.\\nExample: You can use HuggingFace's Transformers library to perform tasks such as sentiment analysis, text generation, and more.\\nRelated keywords: natural language processing, deep learning, libraries\\n\\nDigital Transformation\\n\\nDefinition:\"),\n",
              " Document(metadata={'document': 1}, page_content=\"libraries\\n\\nDigital Transformation\\n\\nDefinition: Digital transformation is the process of leveraging technology to transform a company's services, culture, and operations. It focuses on improving business models and increasing competitiveness through\"),\n",
              " Document(metadata={'document': 1}, page_content=\"models and increasing competitiveness through digital technologies.\\nExample: When a company adopts cloud computing to revolutionize data storage and processing, it's an example of digital transformation.\\nRelated keywords: transformation, technology,\"),\n",
              " Document(metadata={'document': 1}, page_content='keywords: transformation, technology, business model\\n\\nCrawling\\n\\nDefinition: Crawling is the process of visiting web pages in an automated way to collect data. It is often used for search engine optimization or data analysis.\\nExample: When the Google'),\n",
              " Document(metadata={'document': 1}, page_content='or data analysis.\\nExample: When the Google search engine visits websites on the internet to collect and index content, it is crawling.\\nRelated keywords: data collection, web scraping, search engine\\n\\nWord2Vec\\n\\nDefinition: Word2Vec is a natural'),\n",
              " Document(metadata={'document': 1}, page_content='Word2Vec is a natural language processing technique that maps words to a vector space to represent semantic relationships between words. It generates vectors based on the contextual similarity of words.\\nExample: In a Word2Vec model, “king” and'),\n",
              " Document(metadata={'document': 1}, page_content='of words.\\nExample: In a Word2Vec model, “king” and “queen” are represented as vectors in close proximity to each other.\\nRelated keywords: natural language processing, embeddings, semantic similarity\\n\\nLLM (Large Language Model)\\n\\nDefinition: LLM refers'),\n",
              " Document(metadata={'document': 1}, page_content=\"(Large Language Model)\\n\\nDefinition: LLM refers to large-scale language models trained on large amounts of textual data. These models are used for a variety of natural language understanding and generation tasks.\\nExample: OpenAI's GPT series is a\"),\n",
              " Document(metadata={'document': 1}, page_content=\"tasks.\\nExample: OpenAI's GPT series is a typical large-scale language model.\\nRelated keywords: natural language processing, deep learning, text generation\\n\\nFAISS (Facebook AI Similarity Search)\\n\\nDefinition: FAISS is a fast similarity search library\"),\n",
              " Document(metadata={'document': 1}, page_content='FAISS is a fast similarity search library developed by Facebook, specifically designed to efficiently search for similar vectors in large vector sets.\\nExample: FAISS can be used to quickly find similar images among millions of image vectors.\\nRelated'),\n",
              " Document(metadata={'document': 1}, page_content='images among millions of image vectors.\\nRelated keywords: vector search, machine learning, database optimization\\n\\nOpen Source\\n\\nDefinition: Open source refers to software whose source code is publicly available and can be freely used, modified, and'),\n",
              " Document(metadata={'document': 1}, page_content='available and can be freely used, modified, and distributed by anyone. This plays an important role in fostering collaboration and innovation.\\nExample: The Linux operating system is a prominent open source project.\\nRelated keywords: software'),\n",
              " Document(metadata={'document': 1}, page_content='open source project.\\nRelated keywords: software development, community, technical collaboration\\n\\nStructured Data\\n\\nDefinition: Structured data is data that is organized according to a set format or schema. It can be easily searched and analyzed in'),\n",
              " Document(metadata={'document': 1}, page_content='schema. It can be easily searched and analyzed in databases, spreadsheets, etc.\\nExample: A table of customer information stored in a relational database is an example of structured data.\\nRelated keywords: database, data analysis, data modeling, data'),\n",
              " Document(metadata={'document': 1}, page_content='database, data analysis, data modeling, data modeling\\n\\nParser\\n\\nDefinition: A parser is a tool that analyzes given data (strings, files, etc.) and converts it into a structured form. It is used for parsing programming languages or processing file'),\n",
              " Document(metadata={'document': 1}, page_content='parsing programming languages or processing file data.\\nExample: Parsing an HTML document to generate the DOM structure of a web page is an example of parsing.\\nAssociated keywords: parsing, compiler, data processing\\n\\nTF-IDF (Term Frequency-Inverse'),\n",
              " Document(metadata={'document': 1}, page_content='data processing\\n\\nTF-IDF (Term Frequency-Inverse Document Frequency)\\n\\nDefinition: TF-IDF is a statistical measure used to evaluate the importance of a word within a document. It takes into account the frequency of the word within the document and the'),\n",
              " Document(metadata={'document': 1}, page_content='frequency of the word within the document and the sparsity of the word in the entire document set.\\nExample: A word that occurs infrequently in many documents has a high TF-IDF value.\\nRelated keywords: natural language processing, information'),\n",
              " Document(metadata={'document': 1}, page_content='keywords: natural language processing, information retrieval, data mining\\n\\nDeep Learning\\n\\nDefinition: Deep learning is a branch of machine learning that uses artificial neural networks to solve complex problems. It focuses on learning high-level'),\n",
              " Document(metadata={'document': 1}, page_content='problems. It focuses on learning high-level representations from data.\\nExamples: Deep learning models are used in image recognition, speech recognition, natural language processing, and more.\\nRelated keywords: Artificial neural networks, machine'),\n",
              " Document(metadata={'document': 1}, page_content='keywords: Artificial neural networks, machine learning, data analytics\\n\\nSchema\\n\\nDefinition: A schema defines the structure of a database or file, providing a blueprint for how data is stored and organized.\\nExample: The table schema of a relational'),\n",
              " Document(metadata={'document': 1}, page_content='The table schema of a relational database defines column names, data types, key constraints, and more.\\nRelated keywords: database, data modeling, data management, data management\\n\\nDataFrame\\n\\nDefinition: A DataFrame is a table-like data structure with'),\n",
              " Document(metadata={'document': 1}, page_content='A DataFrame is a table-like data structure with rows and columns, primarily used for data analysis and processing.\\nExample: In the Pandas library, a DataFrame can have columns of different data types and facilitates data manipulation and'),\n",
              " Document(metadata={'document': 1}, page_content='data types and facilitates data manipulation and analysis.\\nRelated keywords: data analytics, Pandas, data processing\\n\\nAttention mechanisms\\n\\nDefinition: Attention mechanisms are techniques that allow deep learning to pay more “attention” to important'),\n",
              " Document(metadata={'document': 1}, page_content='deep learning to pay more “attention” to important information. They are often used with sequential data (e.g., text, time series data).\\nExample: In a translation model, the Attention mechanism focuses more on the important parts of the input'),\n",
              " Document(metadata={'document': 1}, page_content='focuses more on the important parts of the input sentence to produce an accurate translation.\\nAssociated keywords: deep learning, natural language processing, sequence modeling\\n\\nPandas\\n\\nDefinition: Pandas is a library that provides data analysis and'),\n",
              " Document(metadata={'document': 1}, page_content='is a library that provides data analysis and manipulation tools for the Python programming language. It enables you to perform data analysis tasks efficiently.\\nExample: You can use Pandas to read CSV files, cleanse data, and perform various'),\n",
              " Document(metadata={'document': 1}, page_content='read CSV files, cleanse data, and perform various analyses.\\nRelated keywords: Data analysis, Python, Data processing\\n\\nGPT (Generative Pretrained Transformer)\\n\\nDefinition: GPTs are generative language models pre-trained on large datasets and utilized'),\n",
              " Document(metadata={'document': 1}, page_content='models pre-trained on large datasets and utilized for a variety of text-based tasks. It can generate natural language based on input text.\\nExample: A chatbot that generates detailed answers to user-supplied questions can use a GPT model.\\nRelated'),\n",
              " Document(metadata={'document': 1}, page_content='questions can use a GPT model.\\nRelated keywords: natural language processing, text generation, deep learning\\n\\nInstructGPT\\n\\nDefinition: InstructGPT is a GPT model optimized to perform specific tasks based on user instructions. The model is designed to'),\n",
              " Document(metadata={'document': 1}, page_content='on user instructions. The model is designed to produce more accurate and relevant results.\\nExample: If a user provides a specific instruction, such as “draft an email,” InstructGPT will create an email based on relevant content.\\nRelated keywords:'),\n",
              " Document(metadata={'document': 1}, page_content='email based on relevant content.\\nRelated keywords: artificial intelligence, natural language understanding, command-based processing\\n\\nKeyword Search\\n\\nDefinition: Keyword search is the process of finding information based on keywords entered by a'),\n",
              " Document(metadata={'document': 1}, page_content='finding information based on keywords entered by a user. It is the primary search method used by most search engines and database systems.\\nExample: If a user searches for “coffee shops Seoul”, a list of relevant coffee shops is returned.\\nRelated'),\n",
              " Document(metadata={'document': 1}, page_content='list of relevant coffee shops is returned.\\nRelated keywords: search engine, data search, information search\\n\\nPage Rank\\n\\nDefinition: PageRank is an algorithm that evaluates the importance of a web page and is primarily used to determine its ranking in'),\n",
              " Document(metadata={'document': 1}, page_content='and is primarily used to determine its ranking in search engine results. It is evaluated by analyzing the link structure between web pages.\\nExample: The Google search engine uses the PageRank algorithm to rank search results.\\nRelated keywords: search'),\n",
              " Document(metadata={'document': 1}, page_content='to rank search results.\\nRelated keywords: search engine optimization, web analytics, link analysis\\n\\nData Mining\\n\\nDefinition: Data mining is the process of uncovering useful information from large amounts of data. It leverages techniques such as'),\n",
              " Document(metadata={'document': 1}, page_content=\"amounts of data. It leverages techniques such as statistics, machine learning, and pattern recognition.\\nExample: When a retailer analyzes customer purchase data to create a sales strategy, it's an example of data mining.\\nRelated keywords: big data,\"),\n",
              " Document(metadata={'document': 1}, page_content='of data mining.\\nRelated keywords: big data, pattern recognition, predictive analytics\\n\\nMultimodal (Multimodal)\\n\\nDefinition: Multimodal is a technique that combines and processes multiple modes of data (e.g., text, images, sound, etc.). It is used to'),\n",
              " Document(metadata={'document': 1}, page_content='(e.g., text, images, sound, etc.). It is used to extract or predict richer and more accurate information through the interaction between different forms of data.\\nExample: A system that analyzes images and descriptive text together to perform more'),\n",
              " Document(metadata={'document': 1}, page_content='and descriptive text together to perform more accurate image classification is an example of multimodal technology.\\nRelated keywords: data fusion, artificial intelligence, deep learning')]"
            ]
          },
          "metadata": {},
          "execution_count": 25
        }
      ]
    },
    {
      "cell_type": "code",
      "source": [
        "# Define metadata for each document\n",
        "metadatas = [\n",
        "   {\"document\": 1},\n",
        "   {\"document\": 2},\n",
        "]\n",
        "\n",
        "# Create documents with metadata\n",
        "documents = text_splitter.create_documents(\n",
        "   [file, file],  # List of texts to split\n",
        "   metadatas=metadatas,  # Corresponding metadata\n",
        ")\n",
        "\n",
        "print(documents[0])  # Display first document with metadata\n"
      ],
      "metadata": {
        "colab": {
          "base_uri": "https://localhost:8080/"
        },
        "id": "QTf3_1ssqcaF",
        "outputId": "f949e6dd-b196-4353-d94c-4fdf87a111da"
      },
      "execution_count": 26,
      "outputs": [
        {
          "output_type": "stream",
          "name": "stdout",
          "text": [
            "page_content='Semantic Search\n",
            "\n",
            "Definition: A vector store is a system that stores data converted to vector format. It is used for search, classification, and other data analysis tasks.\n",
            "Example: Vectors of word embeddings can be stored in a database for quick' metadata={'document': 1}\n"
          ]
        }
      ]
    },
    {
      "cell_type": "code",
      "source": [
        "documents"
      ],
      "metadata": {
        "colab": {
          "base_uri": "https://localhost:8080/"
        },
        "id": "DnNO0qSGqfJh",
        "outputId": "203f2f01-c6b3-4b8a-9e9f-32c6e3617fce"
      },
      "execution_count": 27,
      "outputs": [
        {
          "output_type": "execute_result",
          "data": {
            "text/plain": [
              "[Document(metadata={'document': 1}, page_content='Semantic Search\\n\\nDefinition: A vector store is a system that stores data converted to vector format. It is used for search, classification, and other data analysis tasks.\\nExample: Vectors of word embeddings can be stored in a database for quick'),\n",
              " Document(metadata={'document': 1}, page_content='embeddings can be stored in a database for quick access.\\nRelated keywords: embedding, database, vectorization, vectorization\\n\\nEmbedding\\n\\nDefinition: Embedding is the process of converting textual data, such as words or sentences, into a'),\n",
              " Document(metadata={'document': 1}, page_content='textual data, such as words or sentences, into a low-dimensional, continuous vector. This allows computers to understand and process the text.\\nExample: Represent the word “apple” as a vector such as [0.65, -0.23, 0.17].\\nRelated keywords: natural'),\n",
              " Document(metadata={'document': 1}, page_content='as [0.65, -0.23, 0.17].\\nRelated keywords: natural language processing, vectorization, deep learning\\n\\nToken\\n\\nDefinition: A token is a breakup of text into smaller units. These can typically be words, sentences, or phrases.\\nExample: Split the sentence'),\n",
              " Document(metadata={'document': 1}, page_content='sentences, or phrases.\\nExample: Split the sentence “I am going to school” into “I am”, “to school”, and “going”.\\nAssociated keywords: tokenization, natural language processing, parsing\\n\\nTokenizer\\n\\nDefinition: A tokenizer is a tool that splits text'),\n",
              " Document(metadata={'document': 1}, page_content='A tokenizer is a tool that splits text data into tokens. It is used to preprocess data in natural language processing.\\nExample: Split the sentence “I love programming.” into [“I”, “love”, “programming”, “.”].\\nAssociated keywords: tokenization,'),\n",
              " Document(metadata={'document': 1}, page_content='“.”].\\nAssociated keywords: tokenization, natural language processing, parsing\\n\\nVectorStore\\n\\nDefinition: A vector store is a system that stores data converted to vector format. It is used for search, classification, and other data analysis'),\n",
              " Document(metadata={'document': 1}, page_content='search, classification, and other data analysis tasks.\\nExample: Vectors of word embeddings can be stored in a database for quick access.\\nRelated keywords: embedding, database, vectorization, vectorization\\n\\nSQL\\n\\nDefinition: SQL(Structured Query'),\n",
              " Document(metadata={'document': 1}, page_content='SQL(Structured Query Language) is a programming language for managing data in a database. You can query, modify, insert, delete, and more data.\\nExample: SELECT * FROM users WHERE age > 18; looks up information about users who are 18 years old or'),\n",
              " Document(metadata={'document': 1}, page_content='up information about users who are 18 years old or older.\\nAssociated keywords: database, query, data management, data management\\n\\nCSV\\n\\nDefinition: CSV(Comma-Separated Values) is a file format for storing data, where each data value is separated by a'),\n",
              " Document(metadata={'document': 1}, page_content='data, where each data value is separated by a comma. It is used for simple storage and exchange of tabular data.\\nExample: A CSV file with the headers Name, Age, and Occupation might contain data such as Hong Gil-dong, 30, Developer.\\nRelated keywords:'),\n",
              " Document(metadata={'document': 1}, page_content='as Hong Gil-dong, 30, Developer.\\nRelated keywords: data format, file processing, data exchange\\n\\nJSON\\n\\nDefinition: JSON(JavaScript Object Notation) is a lightweight data interchange format that represents data objects using text that is readable to'),\n",
              " Document(metadata={'document': 1}, page_content='data objects using text that is readable to both humans and machines.\\nExample: {“Name”: “HongGilDong”, ‘Age’: 30, “Occupation”: “Developer\"} is data in JSON format.\\nRelated keywords: data exchange, web development, APIs\\n\\nTransformer\\n\\nDefinition:'),\n",
              " Document(metadata={'document': 1}, page_content='web development, APIs\\n\\nTransformer\\n\\nDefinition: Transformers are a type of deep learning model used in natural language processing, mainly for translation, summarization, text generation, etc. It is based on the Attention mechanism.\\nExample: Google'),\n",
              " Document(metadata={'document': 1}, page_content='based on the Attention mechanism.\\nExample: Google Translator uses transformer models to perform translations between different languages.\\nRelated keywords: Deep learning, Natural language processing, Attention\\n\\nHuggingFace\\n\\nDefinition: HuggingFace is'),\n",
              " Document(metadata={'document': 1}, page_content=\"Attention\\n\\nHuggingFace\\n\\nDefinition: HuggingFace is a library that provides a variety of pre-trained models and tools for natural language processing. It helps researchers and developers to easily perform NLP tasks.\\nExample: You can use HuggingFace's\"),\n",
              " Document(metadata={'document': 1}, page_content=\"NLP tasks.\\nExample: You can use HuggingFace's Transformers library to perform tasks such as sentiment analysis, text generation, and more.\\nRelated keywords: natural language processing, deep learning, libraries\\n\\nDigital Transformation\\n\\nDefinition:\"),\n",
              " Document(metadata={'document': 1}, page_content=\"libraries\\n\\nDigital Transformation\\n\\nDefinition: Digital transformation is the process of leveraging technology to transform a company's services, culture, and operations. It focuses on improving business models and increasing competitiveness through\"),\n",
              " Document(metadata={'document': 1}, page_content=\"models and increasing competitiveness through digital technologies.\\nExample: When a company adopts cloud computing to revolutionize data storage and processing, it's an example of digital transformation.\\nRelated keywords: transformation, technology,\"),\n",
              " Document(metadata={'document': 1}, page_content='keywords: transformation, technology, business model\\n\\nCrawling\\n\\nDefinition: Crawling is the process of visiting web pages in an automated way to collect data. It is often used for search engine optimization or data analysis.\\nExample: When the Google'),\n",
              " Document(metadata={'document': 1}, page_content='or data analysis.\\nExample: When the Google search engine visits websites on the internet to collect and index content, it is crawling.\\nRelated keywords: data collection, web scraping, search engine\\n\\nWord2Vec\\n\\nDefinition: Word2Vec is a natural'),\n",
              " Document(metadata={'document': 1}, page_content='Word2Vec is a natural language processing technique that maps words to a vector space to represent semantic relationships between words. It generates vectors based on the contextual similarity of words.\\nExample: In a Word2Vec model, “king” and'),\n",
              " Document(metadata={'document': 1}, page_content='of words.\\nExample: In a Word2Vec model, “king” and “queen” are represented as vectors in close proximity to each other.\\nRelated keywords: natural language processing, embeddings, semantic similarity\\n\\nLLM (Large Language Model)\\n\\nDefinition: LLM refers'),\n",
              " Document(metadata={'document': 1}, page_content=\"(Large Language Model)\\n\\nDefinition: LLM refers to large-scale language models trained on large amounts of textual data. These models are used for a variety of natural language understanding and generation tasks.\\nExample: OpenAI's GPT series is a\"),\n",
              " Document(metadata={'document': 1}, page_content=\"tasks.\\nExample: OpenAI's GPT series is a typical large-scale language model.\\nRelated keywords: natural language processing, deep learning, text generation\\n\\nFAISS (Facebook AI Similarity Search)\\n\\nDefinition: FAISS is a fast similarity search library\"),\n",
              " Document(metadata={'document': 1}, page_content='FAISS is a fast similarity search library developed by Facebook, specifically designed to efficiently search for similar vectors in large vector sets.\\nExample: FAISS can be used to quickly find similar images among millions of image vectors.\\nRelated'),\n",
              " Document(metadata={'document': 1}, page_content='images among millions of image vectors.\\nRelated keywords: vector search, machine learning, database optimization\\n\\nOpen Source\\n\\nDefinition: Open source refers to software whose source code is publicly available and can be freely used, modified, and'),\n",
              " Document(metadata={'document': 1}, page_content='available and can be freely used, modified, and distributed by anyone. This plays an important role in fostering collaboration and innovation.\\nExample: The Linux operating system is a prominent open source project.\\nRelated keywords: software'),\n",
              " Document(metadata={'document': 1}, page_content='open source project.\\nRelated keywords: software development, community, technical collaboration\\n\\nStructured Data\\n\\nDefinition: Structured data is data that is organized according to a set format or schema. It can be easily searched and analyzed in'),\n",
              " Document(metadata={'document': 1}, page_content='schema. It can be easily searched and analyzed in databases, spreadsheets, etc.\\nExample: A table of customer information stored in a relational database is an example of structured data.\\nRelated keywords: database, data analysis, data modeling, data'),\n",
              " Document(metadata={'document': 1}, page_content='database, data analysis, data modeling, data modeling\\n\\nParser\\n\\nDefinition: A parser is a tool that analyzes given data (strings, files, etc.) and converts it into a structured form. It is used for parsing programming languages or processing file'),\n",
              " Document(metadata={'document': 1}, page_content='parsing programming languages or processing file data.\\nExample: Parsing an HTML document to generate the DOM structure of a web page is an example of parsing.\\nAssociated keywords: parsing, compiler, data processing\\n\\nTF-IDF (Term Frequency-Inverse'),\n",
              " Document(metadata={'document': 1}, page_content='data processing\\n\\nTF-IDF (Term Frequency-Inverse Document Frequency)\\n\\nDefinition: TF-IDF is a statistical measure used to evaluate the importance of a word within a document. It takes into account the frequency of the word within the document and the'),\n",
              " Document(metadata={'document': 1}, page_content='frequency of the word within the document and the sparsity of the word in the entire document set.\\nExample: A word that occurs infrequently in many documents has a high TF-IDF value.\\nRelated keywords: natural language processing, information'),\n",
              " Document(metadata={'document': 1}, page_content='keywords: natural language processing, information retrieval, data mining\\n\\nDeep Learning\\n\\nDefinition: Deep learning is a branch of machine learning that uses artificial neural networks to solve complex problems. It focuses on learning high-level'),\n",
              " Document(metadata={'document': 1}, page_content='problems. It focuses on learning high-level representations from data.\\nExamples: Deep learning models are used in image recognition, speech recognition, natural language processing, and more.\\nRelated keywords: Artificial neural networks, machine'),\n",
              " Document(metadata={'document': 1}, page_content='keywords: Artificial neural networks, machine learning, data analytics\\n\\nSchema\\n\\nDefinition: A schema defines the structure of a database or file, providing a blueprint for how data is stored and organized.\\nExample: The table schema of a relational'),\n",
              " Document(metadata={'document': 1}, page_content='The table schema of a relational database defines column names, data types, key constraints, and more.\\nRelated keywords: database, data modeling, data management, data management\\n\\nDataFrame\\n\\nDefinition: A DataFrame is a table-like data structure with'),\n",
              " Document(metadata={'document': 1}, page_content='A DataFrame is a table-like data structure with rows and columns, primarily used for data analysis and processing.\\nExample: In the Pandas library, a DataFrame can have columns of different data types and facilitates data manipulation and'),\n",
              " Document(metadata={'document': 1}, page_content='data types and facilitates data manipulation and analysis.\\nRelated keywords: data analytics, Pandas, data processing\\n\\nAttention mechanisms\\n\\nDefinition: Attention mechanisms are techniques that allow deep learning to pay more “attention” to important'),\n",
              " Document(metadata={'document': 1}, page_content='deep learning to pay more “attention” to important information. They are often used with sequential data (e.g., text, time series data).\\nExample: In a translation model, the Attention mechanism focuses more on the important parts of the input'),\n",
              " Document(metadata={'document': 1}, page_content='focuses more on the important parts of the input sentence to produce an accurate translation.\\nAssociated keywords: deep learning, natural language processing, sequence modeling\\n\\nPandas\\n\\nDefinition: Pandas is a library that provides data analysis and'),\n",
              " Document(metadata={'document': 1}, page_content='is a library that provides data analysis and manipulation tools for the Python programming language. It enables you to perform data analysis tasks efficiently.\\nExample: You can use Pandas to read CSV files, cleanse data, and perform various'),\n",
              " Document(metadata={'document': 1}, page_content='read CSV files, cleanse data, and perform various analyses.\\nRelated keywords: Data analysis, Python, Data processing\\n\\nGPT (Generative Pretrained Transformer)\\n\\nDefinition: GPTs are generative language models pre-trained on large datasets and utilized'),\n",
              " Document(metadata={'document': 1}, page_content='models pre-trained on large datasets and utilized for a variety of text-based tasks. It can generate natural language based on input text.\\nExample: A chatbot that generates detailed answers to user-supplied questions can use a GPT model.\\nRelated'),\n",
              " Document(metadata={'document': 1}, page_content='questions can use a GPT model.\\nRelated keywords: natural language processing, text generation, deep learning\\n\\nInstructGPT\\n\\nDefinition: InstructGPT is a GPT model optimized to perform specific tasks based on user instructions. The model is designed to'),\n",
              " Document(metadata={'document': 1}, page_content='on user instructions. The model is designed to produce more accurate and relevant results.\\nExample: If a user provides a specific instruction, such as “draft an email,” InstructGPT will create an email based on relevant content.\\nRelated keywords:'),\n",
              " Document(metadata={'document': 1}, page_content='email based on relevant content.\\nRelated keywords: artificial intelligence, natural language understanding, command-based processing\\n\\nKeyword Search\\n\\nDefinition: Keyword search is the process of finding information based on keywords entered by a'),\n",
              " Document(metadata={'document': 1}, page_content='finding information based on keywords entered by a user. It is the primary search method used by most search engines and database systems.\\nExample: If a user searches for “coffee shops Seoul”, a list of relevant coffee shops is returned.\\nRelated'),\n",
              " Document(metadata={'document': 1}, page_content='list of relevant coffee shops is returned.\\nRelated keywords: search engine, data search, information search\\n\\nPage Rank\\n\\nDefinition: PageRank is an algorithm that evaluates the importance of a web page and is primarily used to determine its ranking in'),\n",
              " Document(metadata={'document': 1}, page_content='and is primarily used to determine its ranking in search engine results. It is evaluated by analyzing the link structure between web pages.\\nExample: The Google search engine uses the PageRank algorithm to rank search results.\\nRelated keywords: search'),\n",
              " Document(metadata={'document': 1}, page_content='to rank search results.\\nRelated keywords: search engine optimization, web analytics, link analysis\\n\\nData Mining\\n\\nDefinition: Data mining is the process of uncovering useful information from large amounts of data. It leverages techniques such as'),\n",
              " Document(metadata={'document': 1}, page_content=\"amounts of data. It leverages techniques such as statistics, machine learning, and pattern recognition.\\nExample: When a retailer analyzes customer purchase data to create a sales strategy, it's an example of data mining.\\nRelated keywords: big data,\"),\n",
              " Document(metadata={'document': 1}, page_content='of data mining.\\nRelated keywords: big data, pattern recognition, predictive analytics\\n\\nMultimodal (Multimodal)\\n\\nDefinition: Multimodal is a technique that combines and processes multiple modes of data (e.g., text, images, sound, etc.). It is used to'),\n",
              " Document(metadata={'document': 1}, page_content='(e.g., text, images, sound, etc.). It is used to extract or predict richer and more accurate information through the interaction between different forms of data.\\nExample: A system that analyzes images and descriptive text together to perform more'),\n",
              " Document(metadata={'document': 1}, page_content='and descriptive text together to perform more accurate image classification is an example of multimodal technology.\\nRelated keywords: data fusion, artificial intelligence, deep learning'),\n",
              " Document(metadata={'document': 2}, page_content='Semantic Search\\n\\nDefinition: A vector store is a system that stores data converted to vector format. It is used for search, classification, and other data analysis tasks.\\nExample: Vectors of word embeddings can be stored in a database for quick'),\n",
              " Document(metadata={'document': 2}, page_content='embeddings can be stored in a database for quick access.\\nRelated keywords: embedding, database, vectorization, vectorization\\n\\nEmbedding\\n\\nDefinition: Embedding is the process of converting textual data, such as words or sentences, into a'),\n",
              " Document(metadata={'document': 2}, page_content='textual data, such as words or sentences, into a low-dimensional, continuous vector. This allows computers to understand and process the text.\\nExample: Represent the word “apple” as a vector such as [0.65, -0.23, 0.17].\\nRelated keywords: natural'),\n",
              " Document(metadata={'document': 2}, page_content='as [0.65, -0.23, 0.17].\\nRelated keywords: natural language processing, vectorization, deep learning\\n\\nToken\\n\\nDefinition: A token is a breakup of text into smaller units. These can typically be words, sentences, or phrases.\\nExample: Split the sentence'),\n",
              " Document(metadata={'document': 2}, page_content='sentences, or phrases.\\nExample: Split the sentence “I am going to school” into “I am”, “to school”, and “going”.\\nAssociated keywords: tokenization, natural language processing, parsing\\n\\nTokenizer\\n\\nDefinition: A tokenizer is a tool that splits text'),\n",
              " Document(metadata={'document': 2}, page_content='A tokenizer is a tool that splits text data into tokens. It is used to preprocess data in natural language processing.\\nExample: Split the sentence “I love programming.” into [“I”, “love”, “programming”, “.”].\\nAssociated keywords: tokenization,'),\n",
              " Document(metadata={'document': 2}, page_content='“.”].\\nAssociated keywords: tokenization, natural language processing, parsing\\n\\nVectorStore\\n\\nDefinition: A vector store is a system that stores data converted to vector format. It is used for search, classification, and other data analysis'),\n",
              " Document(metadata={'document': 2}, page_content='search, classification, and other data analysis tasks.\\nExample: Vectors of word embeddings can be stored in a database for quick access.\\nRelated keywords: embedding, database, vectorization, vectorization\\n\\nSQL\\n\\nDefinition: SQL(Structured Query'),\n",
              " Document(metadata={'document': 2}, page_content='SQL(Structured Query Language) is a programming language for managing data in a database. You can query, modify, insert, delete, and more data.\\nExample: SELECT * FROM users WHERE age > 18; looks up information about users who are 18 years old or'),\n",
              " Document(metadata={'document': 2}, page_content='up information about users who are 18 years old or older.\\nAssociated keywords: database, query, data management, data management\\n\\nCSV\\n\\nDefinition: CSV(Comma-Separated Values) is a file format for storing data, where each data value is separated by a'),\n",
              " Document(metadata={'document': 2}, page_content='data, where each data value is separated by a comma. It is used for simple storage and exchange of tabular data.\\nExample: A CSV file with the headers Name, Age, and Occupation might contain data such as Hong Gil-dong, 30, Developer.\\nRelated keywords:'),\n",
              " Document(metadata={'document': 2}, page_content='as Hong Gil-dong, 30, Developer.\\nRelated keywords: data format, file processing, data exchange\\n\\nJSON\\n\\nDefinition: JSON(JavaScript Object Notation) is a lightweight data interchange format that represents data objects using text that is readable to'),\n",
              " Document(metadata={'document': 2}, page_content='data objects using text that is readable to both humans and machines.\\nExample: {“Name”: “HongGilDong”, ‘Age’: 30, “Occupation”: “Developer\"} is data in JSON format.\\nRelated keywords: data exchange, web development, APIs\\n\\nTransformer\\n\\nDefinition:'),\n",
              " Document(metadata={'document': 2}, page_content='web development, APIs\\n\\nTransformer\\n\\nDefinition: Transformers are a type of deep learning model used in natural language processing, mainly for translation, summarization, text generation, etc. It is based on the Attention mechanism.\\nExample: Google'),\n",
              " Document(metadata={'document': 2}, page_content='based on the Attention mechanism.\\nExample: Google Translator uses transformer models to perform translations between different languages.\\nRelated keywords: Deep learning, Natural language processing, Attention\\n\\nHuggingFace\\n\\nDefinition: HuggingFace is'),\n",
              " Document(metadata={'document': 2}, page_content=\"Attention\\n\\nHuggingFace\\n\\nDefinition: HuggingFace is a library that provides a variety of pre-trained models and tools for natural language processing. It helps researchers and developers to easily perform NLP tasks.\\nExample: You can use HuggingFace's\"),\n",
              " Document(metadata={'document': 2}, page_content=\"NLP tasks.\\nExample: You can use HuggingFace's Transformers library to perform tasks such as sentiment analysis, text generation, and more.\\nRelated keywords: natural language processing, deep learning, libraries\\n\\nDigital Transformation\\n\\nDefinition:\"),\n",
              " Document(metadata={'document': 2}, page_content=\"libraries\\n\\nDigital Transformation\\n\\nDefinition: Digital transformation is the process of leveraging technology to transform a company's services, culture, and operations. It focuses on improving business models and increasing competitiveness through\"),\n",
              " Document(metadata={'document': 2}, page_content=\"models and increasing competitiveness through digital technologies.\\nExample: When a company adopts cloud computing to revolutionize data storage and processing, it's an example of digital transformation.\\nRelated keywords: transformation, technology,\"),\n",
              " Document(metadata={'document': 2}, page_content='keywords: transformation, technology, business model\\n\\nCrawling\\n\\nDefinition: Crawling is the process of visiting web pages in an automated way to collect data. It is often used for search engine optimization or data analysis.\\nExample: When the Google'),\n",
              " Document(metadata={'document': 2}, page_content='or data analysis.\\nExample: When the Google search engine visits websites on the internet to collect and index content, it is crawling.\\nRelated keywords: data collection, web scraping, search engine\\n\\nWord2Vec\\n\\nDefinition: Word2Vec is a natural'),\n",
              " Document(metadata={'document': 2}, page_content='Word2Vec is a natural language processing technique that maps words to a vector space to represent semantic relationships between words. It generates vectors based on the contextual similarity of words.\\nExample: In a Word2Vec model, “king” and'),\n",
              " Document(metadata={'document': 2}, page_content='of words.\\nExample: In a Word2Vec model, “king” and “queen” are represented as vectors in close proximity to each other.\\nRelated keywords: natural language processing, embeddings, semantic similarity\\n\\nLLM (Large Language Model)\\n\\nDefinition: LLM refers'),\n",
              " Document(metadata={'document': 2}, page_content=\"(Large Language Model)\\n\\nDefinition: LLM refers to large-scale language models trained on large amounts of textual data. These models are used for a variety of natural language understanding and generation tasks.\\nExample: OpenAI's GPT series is a\"),\n",
              " Document(metadata={'document': 2}, page_content=\"tasks.\\nExample: OpenAI's GPT series is a typical large-scale language model.\\nRelated keywords: natural language processing, deep learning, text generation\\n\\nFAISS (Facebook AI Similarity Search)\\n\\nDefinition: FAISS is a fast similarity search library\"),\n",
              " Document(metadata={'document': 2}, page_content='FAISS is a fast similarity search library developed by Facebook, specifically designed to efficiently search for similar vectors in large vector sets.\\nExample: FAISS can be used to quickly find similar images among millions of image vectors.\\nRelated'),\n",
              " Document(metadata={'document': 2}, page_content='images among millions of image vectors.\\nRelated keywords: vector search, machine learning, database optimization\\n\\nOpen Source\\n\\nDefinition: Open source refers to software whose source code is publicly available and can be freely used, modified, and'),\n",
              " Document(metadata={'document': 2}, page_content='available and can be freely used, modified, and distributed by anyone. This plays an important role in fostering collaboration and innovation.\\nExample: The Linux operating system is a prominent open source project.\\nRelated keywords: software'),\n",
              " Document(metadata={'document': 2}, page_content='open source project.\\nRelated keywords: software development, community, technical collaboration\\n\\nStructured Data\\n\\nDefinition: Structured data is data that is organized according to a set format or schema. It can be easily searched and analyzed in'),\n",
              " Document(metadata={'document': 2}, page_content='schema. It can be easily searched and analyzed in databases, spreadsheets, etc.\\nExample: A table of customer information stored in a relational database is an example of structured data.\\nRelated keywords: database, data analysis, data modeling, data'),\n",
              " Document(metadata={'document': 2}, page_content='database, data analysis, data modeling, data modeling\\n\\nParser\\n\\nDefinition: A parser is a tool that analyzes given data (strings, files, etc.) and converts it into a structured form. It is used for parsing programming languages or processing file'),\n",
              " Document(metadata={'document': 2}, page_content='parsing programming languages or processing file data.\\nExample: Parsing an HTML document to generate the DOM structure of a web page is an example of parsing.\\nAssociated keywords: parsing, compiler, data processing\\n\\nTF-IDF (Term Frequency-Inverse'),\n",
              " Document(metadata={'document': 2}, page_content='data processing\\n\\nTF-IDF (Term Frequency-Inverse Document Frequency)\\n\\nDefinition: TF-IDF is a statistical measure used to evaluate the importance of a word within a document. It takes into account the frequency of the word within the document and the'),\n",
              " Document(metadata={'document': 2}, page_content='frequency of the word within the document and the sparsity of the word in the entire document set.\\nExample: A word that occurs infrequently in many documents has a high TF-IDF value.\\nRelated keywords: natural language processing, information'),\n",
              " Document(metadata={'document': 2}, page_content='keywords: natural language processing, information retrieval, data mining\\n\\nDeep Learning\\n\\nDefinition: Deep learning is a branch of machine learning that uses artificial neural networks to solve complex problems. It focuses on learning high-level'),\n",
              " Document(metadata={'document': 2}, page_content='problems. It focuses on learning high-level representations from data.\\nExamples: Deep learning models are used in image recognition, speech recognition, natural language processing, and more.\\nRelated keywords: Artificial neural networks, machine'),\n",
              " Document(metadata={'document': 2}, page_content='keywords: Artificial neural networks, machine learning, data analytics\\n\\nSchema\\n\\nDefinition: A schema defines the structure of a database or file, providing a blueprint for how data is stored and organized.\\nExample: The table schema of a relational'),\n",
              " Document(metadata={'document': 2}, page_content='The table schema of a relational database defines column names, data types, key constraints, and more.\\nRelated keywords: database, data modeling, data management, data management\\n\\nDataFrame\\n\\nDefinition: A DataFrame is a table-like data structure with'),\n",
              " Document(metadata={'document': 2}, page_content='A DataFrame is a table-like data structure with rows and columns, primarily used for data analysis and processing.\\nExample: In the Pandas library, a DataFrame can have columns of different data types and facilitates data manipulation and'),\n",
              " Document(metadata={'document': 2}, page_content='data types and facilitates data manipulation and analysis.\\nRelated keywords: data analytics, Pandas, data processing\\n\\nAttention mechanisms\\n\\nDefinition: Attention mechanisms are techniques that allow deep learning to pay more “attention” to important'),\n",
              " Document(metadata={'document': 2}, page_content='deep learning to pay more “attention” to important information. They are often used with sequential data (e.g., text, time series data).\\nExample: In a translation model, the Attention mechanism focuses more on the important parts of the input'),\n",
              " Document(metadata={'document': 2}, page_content='focuses more on the important parts of the input sentence to produce an accurate translation.\\nAssociated keywords: deep learning, natural language processing, sequence modeling\\n\\nPandas\\n\\nDefinition: Pandas is a library that provides data analysis and'),\n",
              " Document(metadata={'document': 2}, page_content='is a library that provides data analysis and manipulation tools for the Python programming language. It enables you to perform data analysis tasks efficiently.\\nExample: You can use Pandas to read CSV files, cleanse data, and perform various'),\n",
              " Document(metadata={'document': 2}, page_content='read CSV files, cleanse data, and perform various analyses.\\nRelated keywords: Data analysis, Python, Data processing\\n\\nGPT (Generative Pretrained Transformer)\\n\\nDefinition: GPTs are generative language models pre-trained on large datasets and utilized'),\n",
              " Document(metadata={'document': 2}, page_content='models pre-trained on large datasets and utilized for a variety of text-based tasks. It can generate natural language based on input text.\\nExample: A chatbot that generates detailed answers to user-supplied questions can use a GPT model.\\nRelated'),\n",
              " Document(metadata={'document': 2}, page_content='questions can use a GPT model.\\nRelated keywords: natural language processing, text generation, deep learning\\n\\nInstructGPT\\n\\nDefinition: InstructGPT is a GPT model optimized to perform specific tasks based on user instructions. The model is designed to'),\n",
              " Document(metadata={'document': 2}, page_content='on user instructions. The model is designed to produce more accurate and relevant results.\\nExample: If a user provides a specific instruction, such as “draft an email,” InstructGPT will create an email based on relevant content.\\nRelated keywords:'),\n",
              " Document(metadata={'document': 2}, page_content='email based on relevant content.\\nRelated keywords: artificial intelligence, natural language understanding, command-based processing\\n\\nKeyword Search\\n\\nDefinition: Keyword search is the process of finding information based on keywords entered by a'),\n",
              " Document(metadata={'document': 2}, page_content='finding information based on keywords entered by a user. It is the primary search method used by most search engines and database systems.\\nExample: If a user searches for “coffee shops Seoul”, a list of relevant coffee shops is returned.\\nRelated'),\n",
              " Document(metadata={'document': 2}, page_content='list of relevant coffee shops is returned.\\nRelated keywords: search engine, data search, information search\\n\\nPage Rank\\n\\nDefinition: PageRank is an algorithm that evaluates the importance of a web page and is primarily used to determine its ranking in'),\n",
              " Document(metadata={'document': 2}, page_content='and is primarily used to determine its ranking in search engine results. It is evaluated by analyzing the link structure between web pages.\\nExample: The Google search engine uses the PageRank algorithm to rank search results.\\nRelated keywords: search'),\n",
              " Document(metadata={'document': 2}, page_content='to rank search results.\\nRelated keywords: search engine optimization, web analytics, link analysis\\n\\nData Mining\\n\\nDefinition: Data mining is the process of uncovering useful information from large amounts of data. It leverages techniques such as'),\n",
              " Document(metadata={'document': 2}, page_content=\"amounts of data. It leverages techniques such as statistics, machine learning, and pattern recognition.\\nExample: When a retailer analyzes customer purchase data to create a sales strategy, it's an example of data mining.\\nRelated keywords: big data,\"),\n",
              " Document(metadata={'document': 2}, page_content='of data mining.\\nRelated keywords: big data, pattern recognition, predictive analytics\\n\\nMultimodal (Multimodal)\\n\\nDefinition: Multimodal is a technique that combines and processes multiple modes of data (e.g., text, images, sound, etc.). It is used to'),\n",
              " Document(metadata={'document': 2}, page_content='(e.g., text, images, sound, etc.). It is used to extract or predict richer and more accurate information through the interaction between different forms of data.\\nExample: A system that analyzes images and descriptive text together to perform more'),\n",
              " Document(metadata={'document': 2}, page_content='and descriptive text together to perform more accurate image classification is an example of multimodal technology.\\nRelated keywords: data fusion, artificial intelligence, deep learning')]"
            ]
          },
          "metadata": {},
          "execution_count": 27
        }
      ]
    },
    {
      "cell_type": "code",
      "source": [],
      "metadata": {
        "id": "GcVhsdCvqiE2"
      },
      "execution_count": null,
      "outputs": []
    }
  ],
  "metadata": {
    "kernelspec": {
      "display_name": "langchain-opentutorial-BBeXTkJT-py3.11",
      "language": "python",
      "name": "python3"
    },
    "language_info": {
      "codemirror_mode": {
        "name": "ipython",
        "version": 3
      },
      "file_extension": ".py",
      "mimetype": "text/x-python",
      "name": "python",
      "nbconvert_exporter": "python",
      "pygments_lexer": "ipython3",
      "version": "3.11.9"
    },
    "colab": {
      "provenance": []
    }
  },
  "nbformat": 4,
  "nbformat_minor": 0
}