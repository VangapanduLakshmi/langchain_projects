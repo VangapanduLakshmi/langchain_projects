{
  "cells": [
    {
      "cell_type": "markdown",
      "id": "635d8ebb",
      "metadata": {
        "id": "635d8ebb"
      },
      "source": [
        "# Document & Document Loader\n",
        "\n",
        "\n",
        "## Overview\n",
        "\n",
        "This tutorial covers the fundamental methods for loading Documents.\n",
        "\n",
        "By completing this tutorial, you will learn how to load Documents and check their content and associated metadata.\n",
        "\n",
        "### Table of Contents\n",
        "\n",
        "- [Overview](#overview)\n",
        "- [Environment Setup](#environment-setup)\n",
        "- [Document](#document)\n",
        "- [Document Loader](#document-loader)\n"
      ]
    },
    {
      "cell_type": "markdown",
      "id": "c6c7aba4",
      "metadata": {
        "id": "c6c7aba4"
      },
      "source": [
        "## Environment Setup\n",
        "\n",
        "Set up the environment. You may refer to [Environment Setup](https://wikidocs.net/257836) for more details.\n",
        "\n",
        "**[Note]**\n",
        "- `langchain-opentutorial` is a package that provides a set of easy-to-use environment setup, useful functions and utilities for tutorials.\n",
        "- You can check out the [`langchain-opentutorial`](https://github.com/LangChain-OpenTutorial/langchain-opentutorial-pypi) for more details."
      ]
    },
    {
      "cell_type": "code",
      "execution_count": 1,
      "id": "21943adb",
      "metadata": {
        "id": "21943adb"
      },
      "outputs": [],
      "source": [
        "%%capture --no-stderr\n",
        "%pip install langchain-opentutorial"
      ]
    },
    {
      "cell_type": "code",
      "execution_count": 2,
      "id": "f25ec196",
      "metadata": {
        "id": "f25ec196"
      },
      "outputs": [],
      "source": [
        "# Install required packages\n",
        "from langchain_opentutorial import package\n",
        "\n",
        "package.install(\n",
        "    [\n",
        "        \"langsmith\",\n",
        "        \"langchain_core\",\n",
        "        \"langchain_community\",\n",
        "        \"langchain_text_splitters\",\n",
        "        \"pypdf\",\n",
        "    ],\n",
        "    verbose=False,\n",
        "    upgrade=False,\n",
        ")"
      ]
    },
    {
      "cell_type": "markdown",
      "id": "aa00c3f4",
      "metadata": {
        "id": "aa00c3f4"
      },
      "source": [
        "## Document\n",
        "\n",
        "Class for storing a piece of text and its associated metadata.\n",
        "\n",
        "- `page_content` (Required): Stores a piece of text as a string.\n",
        "- `metadata` (Optional): Stores metadata related to `page_content` as a dictionary."
      ]
    },
    {
      "cell_type": "code",
      "execution_count": 3,
      "id": "69cb77da",
      "metadata": {
        "colab": {
          "base_uri": "https://localhost:8080/"
        },
        "id": "69cb77da",
        "outputId": "e4b132f3-31bd-47da-a7dc-512cbf69975b"
      },
      "outputs": [
        {
          "output_type": "execute_result",
          "data": {
            "text/plain": [
              "{'id': None,\n",
              " 'metadata': {},\n",
              " 'page_content': 'Hello, welcome to LangChain Open Tutorial!',\n",
              " 'type': 'Document'}"
            ]
          },
          "metadata": {},
          "execution_count": 3
        }
      ],
      "source": [
        "from langchain_core.documents import Document\n",
        "\n",
        "document = Document(page_content=\"Hello, welcome to LangChain Open Tutorial!\")\n",
        "\n",
        "# Check the attributes using __dict__\n",
        "document.__dict__"
      ]
    },
    {
      "cell_type": "markdown",
      "id": "95bbfbd9",
      "metadata": {
        "id": "95bbfbd9"
      },
      "source": [
        "The metadata is empty. Let's add some values."
      ]
    },
    {
      "cell_type": "code",
      "execution_count": 4,
      "id": "838f297b",
      "metadata": {
        "colab": {
          "base_uri": "https://localhost:8080/"
        },
        "id": "838f297b",
        "outputId": "6e13d52a-c899-4f77-c7d6-aaa8176faec6"
      },
      "outputs": [
        {
          "output_type": "execute_result",
          "data": {
            "text/plain": [
              "{'source': './example-file.pdf', 'page': 0}"
            ]
          },
          "metadata": {},
          "execution_count": 4
        }
      ],
      "source": [
        "# Add metadata\n",
        "document.metadata[\"source\"] = \"./example-file.pdf\"\n",
        "document.metadata[\"page\"] = 0\n",
        "\n",
        "# Check metadata\n",
        "document.metadata"
      ]
    },
    {
      "cell_type": "markdown",
      "id": "81057073",
      "metadata": {
        "id": "81057073"
      },
      "source": [
        "## Document Loader\n",
        "\n",
        "Document Loader is a class that loads Documents from various sources.\n",
        "\n",
        "Listed below are some examples of Document Loaders.\n",
        "\n",
        "- `PyPDFLoader` : Loads PDF files\n",
        "- `CSVLoader` : Loads CSV files\n",
        "- `UnstructuredHTMLLoader` : Loads HTML files\n",
        "- `JSONLoader` : Loads JSON files\n",
        "- `TextLoader` : Loads text files\n",
        "- `DirectoryLoader` : Loads documents from a directory"
      ]
    },
    {
      "cell_type": "markdown",
      "id": "9a8531ee",
      "metadata": {
        "id": "9a8531ee"
      },
      "source": [
        "Now, let's learn how to load Documents ."
      ]
    },
    {
      "cell_type": "code",
      "execution_count": 7,
      "id": "4ddeb585",
      "metadata": {
        "id": "4ddeb585"
      },
      "outputs": [],
      "source": [
        "# Example file path\n",
        "FILE_PATH = \"/content/01-document-loader-sample.pdf\""
      ]
    },
    {
      "cell_type": "code",
      "execution_count": 16,
      "id": "d2de758b",
      "metadata": {
        "id": "d2de758b"
      },
      "outputs": [],
      "source": [
        "from langchain_community.document_loaders import PyPDFLoader\n",
        "\n",
        "# Set up the loader\n",
        "loader = PyPDFLoader(FILE_PATH)"
      ]
    },
    {
      "cell_type": "markdown",
      "id": "62fe6355",
      "metadata": {
        "id": "62fe6355"
      },
      "source": [
        "### load()\n",
        "\n",
        "- Loads Documents and returns them as a `list[Document]` ."
      ]
    },
    {
      "cell_type": "code",
      "execution_count": 17,
      "id": "c9fd2af3",
      "metadata": {
        "id": "c9fd2af3"
      },
      "outputs": [],
      "source": [
        "# Load Documents\n",
        "docs = loader.load()"
      ]
    },
    {
      "cell_type": "code",
      "execution_count": 18,
      "id": "5f88fc7d",
      "metadata": {
        "colab": {
          "base_uri": "https://localhost:8080/"
        },
        "id": "5f88fc7d",
        "outputId": "14ccd1ba-18cf-4625-cc90-0d4211d8cc7f"
      },
      "outputs": [
        {
          "output_type": "execute_result",
          "data": {
            "text/plain": [
              "48"
            ]
          },
          "metadata": {},
          "execution_count": 18
        }
      ],
      "source": [
        "# Check the number of loaded Documents\n",
        "len(docs)"
      ]
    },
    {
      "cell_type": "code",
      "execution_count": 19,
      "id": "e3dcbd75",
      "metadata": {
        "colab": {
          "base_uri": "https://localhost:8080/"
        },
        "id": "e3dcbd75",
        "outputId": "d04771b4-c71e-4e60-9678-77b87c803470"
      },
      "outputs": [
        {
          "output_type": "execute_result",
          "data": {
            "text/plain": [
              "[Document(metadata={'producer': 'Microsoft® Word 2010', 'creator': 'Microsoft® Word 2010', 'creationdate': '2016-10-11T15:32:07-04:00', 'author': 'NITRD AI Task Force', 'keywords': 'Artificial Intelligence, AI, Machine Learning, ML, Deep Learning, DL, Neural Networks,', 'moddate': '2016-10-11T20:19:58-04:00', 'title': 'The National Artificial Intelligence Research and Development Strategic Plan', 'source': '/content/01-document-loader-sample.pdf', 'total_pages': 48, 'page': 0, 'page_label': '1'}, page_content='October 2016 \\n \\n \\n \\n \\n \\n \\n \\n \\n \\nTHE NATIONAL  \\nARTIFICIAL INTELLIGENCE \\nRESEARCH AND DEVELOPMENT \\nSTRATEGIC PLAN  \\nNational Science and Technology Council \\n \\nNetworking and Information Technology \\nResearch and Development Subcommittee'),\n",
              " Document(metadata={'producer': 'Microsoft® Word 2010', 'creator': 'Microsoft® Word 2010', 'creationdate': '2016-10-11T15:32:07-04:00', 'author': 'NITRD AI Task Force', 'keywords': 'Artificial Intelligence, AI, Machine Learning, ML, Deep Learning, DL, Neural Networks,', 'moddate': '2016-10-11T20:19:58-04:00', 'title': 'The National Artificial Intelligence Research and Development Strategic Plan', 'source': '/content/01-document-loader-sample.pdf', 'total_pages': 48, 'page': 1, 'page_label': '2'}, page_content='ii')]"
            ]
          },
          "metadata": {},
          "execution_count": 19
        }
      ],
      "source": [
        "# Check Documents\n",
        "docs[0:2]"
      ]
    },
    {
      "cell_type": "markdown",
      "id": "d4a23e2c",
      "metadata": {
        "id": "d4a23e2c"
      },
      "source": [
        "### aload()\n",
        "\n",
        "- Asynchronously loads Documents and returns them as a `list[Document]` ."
      ]
    },
    {
      "cell_type": "code",
      "execution_count": 26,
      "id": "7541b1c3",
      "metadata": {
        "id": "7541b1c3"
      },
      "outputs": [],
      "source": [
        "# Load Documents asynchronously\n",
        "docs = await loader.aload()"
      ]
    },
    {
      "cell_type": "code",
      "source": [
        "len(docs)"
      ],
      "metadata": {
        "colab": {
          "base_uri": "https://localhost:8080/"
        },
        "id": "ZU0OHP8DFYKm",
        "outputId": "25055f1e-75d4-470f-b0b2-ad54cd40ffc7"
      },
      "id": "ZU0OHP8DFYKm",
      "execution_count": 21,
      "outputs": [
        {
          "output_type": "execute_result",
          "data": {
            "text/plain": [
              "48"
            ]
          },
          "metadata": {},
          "execution_count": 21
        }
      ]
    },
    {
      "cell_type": "code",
      "source": [
        "docs[0:2]"
      ],
      "metadata": {
        "colab": {
          "base_uri": "https://localhost:8080/"
        },
        "id": "ieirZHYMFlL_",
        "outputId": "ada1f202-32cf-42e8-edca-7fb9e0450ce0"
      },
      "id": "ieirZHYMFlL_",
      "execution_count": 22,
      "outputs": [
        {
          "output_type": "execute_result",
          "data": {
            "text/plain": [
              "[Document(metadata={'producer': 'Microsoft® Word 2010', 'creator': 'Microsoft® Word 2010', 'creationdate': '2016-10-11T15:32:07-04:00', 'author': 'NITRD AI Task Force', 'keywords': 'Artificial Intelligence, AI, Machine Learning, ML, Deep Learning, DL, Neural Networks,', 'moddate': '2016-10-11T20:19:58-04:00', 'title': 'The National Artificial Intelligence Research and Development Strategic Plan', 'source': '/content/01-document-loader-sample.pdf', 'total_pages': 48, 'page': 0, 'page_label': '1'}, page_content='October 2016 \\n \\n \\n \\n \\n \\n \\n \\n \\n \\nTHE NATIONAL  \\nARTIFICIAL INTELLIGENCE \\nRESEARCH AND DEVELOPMENT \\nSTRATEGIC PLAN  \\nNational Science and Technology Council \\n \\nNetworking and Information Technology \\nResearch and Development Subcommittee'),\n",
              " Document(metadata={'producer': 'Microsoft® Word 2010', 'creator': 'Microsoft® Word 2010', 'creationdate': '2016-10-11T15:32:07-04:00', 'author': 'NITRD AI Task Force', 'keywords': 'Artificial Intelligence, AI, Machine Learning, ML, Deep Learning, DL, Neural Networks,', 'moddate': '2016-10-11T20:19:58-04:00', 'title': 'The National Artificial Intelligence Research and Development Strategic Plan', 'source': '/content/01-document-loader-sample.pdf', 'total_pages': 48, 'page': 1, 'page_label': '2'}, page_content='ii')]"
            ]
          },
          "metadata": {},
          "execution_count": 22
        }
      ]
    },
    {
      "cell_type": "markdown",
      "id": "f7aa2885",
      "metadata": {
        "id": "f7aa2885"
      },
      "source": [
        "### load_and_split()\n",
        "\n",
        "- Loads Documents and automatically splits them into chunks using TextSplitter , and returns them as a `list[Document]` ."
      ]
    },
    {
      "cell_type": "code",
      "execution_count": null,
      "id": "1773f6f4",
      "metadata": {
        "id": "1773f6f4"
      },
      "outputs": [],
      "source": [
        "from langchain_text_splitters import RecursiveCharacterTextSplitter\n",
        "\n",
        "# Set up the TextSplitter\n",
        "text_splitter = RecursiveCharacterTextSplitter(chunk_size=128, chunk_overlap=0)\n",
        "\n",
        "# Split Documents into chunks\n",
        "docs = loader.load_and_split(text_splitter=text_splitter)"
      ]
    },
    {
      "cell_type": "code",
      "execution_count": null,
      "id": "7c565b98",
      "metadata": {
        "id": "7c565b98",
        "outputId": "cb70f789-51c8-45be-8538-93b5b30ba5c6"
      },
      "outputs": [
        {
          "data": {
            "text/plain": [
              "1441"
            ]
          },
          "execution_count": 14,
          "metadata": {},
          "output_type": "execute_result"
        }
      ],
      "source": [
        "# Check the number of loaded Documents\n",
        "len(docs)"
      ]
    },
    {
      "cell_type": "code",
      "execution_count": null,
      "id": "daad3b83",
      "metadata": {
        "id": "daad3b83",
        "outputId": "b401f51d-055d-4c9b-b894-3d33720b3675"
      },
      "outputs": [
        {
          "data": {
            "text/plain": [
              "[Document(metadata={'source': './data/01-document-loader-sample.pdf', 'page': 0}, page_content='October  2016 \\n \\n \\n \\n \\n \\n \\n \\n \\n \\nTHE NATIONAL  \\nARTIFICIAL INTELLIGENCE \\nRESEARCH AND DEVELOPMENT \\nSTRATEGIC PLAN'),\n",
              " Document(metadata={'source': './data/01-document-loader-sample.pdf', 'page': 0}, page_content='National Science and Technology Council  \\n \\nNetworking and Information Technology \\nResearch and Development Subcommittee'),\n",
              " Document(metadata={'source': './data/01-document-loader-sample.pdf', 'page': 1}, page_content='ii'),\n",
              " Document(metadata={'source': './data/01-document-loader-sample.pdf', 'page': 2}, page_content='iii About the National Science and Technology Council'),\n",
              " Document(metadata={'source': './data/01-document-loader-sample.pdf', 'page': 2}, page_content='The National Science and Technology Council (NSTC) is the principal means by which the Executive'),\n",
              " Document(metadata={'source': './data/01-document-loader-sample.pdf', 'page': 2}, page_content='Branch coordinates science and technology policy across the diverse entities that make up the Federal'),\n",
              " Document(metadata={'source': './data/01-document-loader-sample.pdf', 'page': 2}, page_content='research and development (R&D) enterprise . One of the NSTC’s primary objectives is establishing clear'),\n",
              " Document(metadata={'source': './data/01-document-loader-sample.pdf', 'page': 2}, page_content='national goal s for Federal science and technology investments . The NSTC prepares R&D packages aimed'),\n",
              " Document(metadata={'source': './data/01-document-loader-sample.pdf', 'page': 2}, page_content='at accomplishing multiple national goals . The NSTC’s work is organized under five committees:'),\n",
              " Document(metadata={'source': './data/01-document-loader-sample.pdf', 'page': 2}, page_content='Environment, Natural Resources, and Sustainability; Homeland and National S ecurity; Science,')]"
            ]
          },
          "execution_count": 15,
          "metadata": {},
          "output_type": "execute_result"
        }
      ],
      "source": [
        "# Check Documents\n",
        "docs[0:10]"
      ]
    },
    {
      "cell_type": "markdown",
      "id": "0380ecf7",
      "metadata": {
        "id": "0380ecf7"
      },
      "source": [
        "### lazy_load()\n",
        "\n",
        "- Loads Documents sequentially and returns them as an `Iterator[Document]` ."
      ]
    },
    {
      "cell_type": "code",
      "execution_count": null,
      "id": "19f15834",
      "metadata": {
        "id": "19f15834",
        "outputId": "5db63256-7f29-4d8d-b70f-24e9c2af82f2"
      },
      "outputs": [
        {
          "data": {
            "text/plain": [
              "<generator object PyPDFLoader.lazy_load at 0x000001902A0117B0>"
            ]
          },
          "execution_count": 16,
          "metadata": {},
          "output_type": "execute_result"
        }
      ],
      "source": [
        "loader.lazy_load()"
      ]
    },
    {
      "cell_type": "markdown",
      "id": "bcfbab23",
      "metadata": {
        "id": "bcfbab23"
      },
      "source": [
        "It can be observed that this method operates as a `generator` . This is a special type of iterator that produces values on-the-fly, without storing them all in memory at once."
      ]
    },
    {
      "cell_type": "code",
      "execution_count": null,
      "id": "c825d1e1",
      "metadata": {
        "id": "c825d1e1",
        "outputId": "5553cdae-1273-4c33-c16d-9ec0849473bd"
      },
      "outputs": [
        {
          "name": "stdout",
          "output_type": "stream",
          "text": [
            "{'source': './data/01-document-loader-sample.pdf', 'page': 0}\n"
          ]
        }
      ],
      "source": [
        "# Load Documents sequentially\n",
        "docs = loader.lazy_load()\n",
        "for doc in docs:\n",
        "    print(doc.metadata)\n",
        "    break  # Used to limit the output length"
      ]
    },
    {
      "cell_type": "markdown",
      "id": "bf69e6c3",
      "metadata": {
        "id": "bf69e6c3"
      },
      "source": [
        "### alazy_load()\n",
        "\n",
        "- Asynchronously loads Documents sequentially and returns them as an `AsyncIterator[Document]` ."
      ]
    },
    {
      "cell_type": "code",
      "execution_count": null,
      "id": "5ec31495",
      "metadata": {
        "id": "5ec31495",
        "outputId": "391bbbbd-ff0c-432e-f3bf-ab931d058942"
      },
      "outputs": [
        {
          "data": {
            "text/plain": [
              "<async_generator object BaseLoader.alazy_load at 0x000001902A00B140>"
            ]
          },
          "execution_count": 18,
          "metadata": {},
          "output_type": "execute_result"
        }
      ],
      "source": [
        "loader.alazy_load()"
      ]
    },
    {
      "cell_type": "markdown",
      "id": "9039f4b9",
      "metadata": {
        "id": "9039f4b9"
      },
      "source": [
        "It can be observed that this method operates as an `async_generator` . This is a special type of asynchronous iterator that produces values on-the-fly, without storing them all in memory at once."
      ]
    },
    {
      "cell_type": "code",
      "execution_count": 27,
      "id": "f8f1db31",
      "metadata": {
        "colab": {
          "base_uri": "https://localhost:8080/"
        },
        "id": "f8f1db31",
        "outputId": "a772bb39-2fbf-4d70-d345-89a631c91ed8"
      },
      "outputs": [
        {
          "output_type": "stream",
          "name": "stdout",
          "text": [
            "{'producer': 'Microsoft® Word 2010', 'creator': 'Microsoft® Word 2010', 'creationdate': '2016-10-11T15:32:07-04:00', 'author': 'NITRD AI Task Force', 'keywords': 'Artificial Intelligence, AI, Machine Learning, ML, Deep Learning, DL, Neural Networks,', 'moddate': '2016-10-11T20:19:58-04:00', 'title': 'The National Artificial Intelligence Research and Development Strategic Plan', 'source': '/content/01-document-loader-sample.pdf', 'total_pages': 48, 'page': 0, 'page_label': '1'}\n"
          ]
        }
      ],
      "source": [
        "# Load Documents asynchronously and sequentially\n",
        "docs = loader.alazy_load()\n",
        "async for doc in docs:\n",
        "    print(doc.metadata)\n",
        "    break  # Used to limit the output length"
      ]
    },
    {
      "cell_type": "code",
      "source": [
        "\n",
        "\n",
        "\n",
        "\n"
      ],
      "metadata": {
        "id": "Rn7GVwGmIY7P"
      },
      "id": "Rn7GVwGmIY7P",
      "execution_count": null,
      "outputs": []
    }
  ],
  "metadata": {
    "kernelspec": {
      "display_name": "langchain-kr-lwwSZlnu-py3.11",
      "language": "python",
      "name": "python3"
    },
    "language_info": {
      "codemirror_mode": {
        "name": "ipython",
        "version": 3
      },
      "file_extension": ".py",
      "mimetype": "text/x-python",
      "name": "python",
      "nbconvert_exporter": "python",
      "pygments_lexer": "ipython3",
      "version": "3.11.9"
    },
    "colab": {
      "provenance": []
    }
  },
  "nbformat": 4,
  "nbformat_minor": 5
}