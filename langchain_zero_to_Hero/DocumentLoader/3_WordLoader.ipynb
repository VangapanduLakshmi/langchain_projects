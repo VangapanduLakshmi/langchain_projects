{
  "cells": [
    {
      "cell_type": "markdown",
      "id": "a4c6f58b-b8ca-468b-98bc-6e2c82c0ff2c",
      "metadata": {
        "id": "a4c6f58b-b8ca-468b-98bc-6e2c82c0ff2c"
      },
      "source": [
        "# Microsoft Word(doc, docx) With Langchain\n",
        "\n",
        "\n",
        "## Overview\n",
        "\n",
        "This tutorial covers two methods for loading `Microsoft Word` documents into a document format that can be used in RAG.\n",
        "\n",
        "\n",
        "We will demonstrate the usage of `Docx2txtLoader` and `UnstructuredWordDocumentLoader` , exploring their functionalities to process and load .docx files effectively.\n",
        "\n",
        "\n",
        "Additionally, we provide a comparison to help users choose the appropriate loader for their requirements.\n",
        "\n",
        "### Table of Contents\n",
        "\n",
        "- [Overview](#overview)\n",
        "- [Environment Setup](#environment-setup)\n",
        "- [Comparison of DOCX Loading Methods](#Comparison-of-DOCX-Loading-Methods)\n",
        "- [Docx2txtLoader](#Docx2txtLoader)\n",
        "- [UnstructuredWordDocumentLoader](#UnstructuredWordDocumentLoader)\n",
        "\n",
        "### References\n",
        "\n",
        "- [UnstructuredWordDocumentLoader Documentation](https://python.langchain.com/api_reference/community/document_loaders/langchain_community.document_loaders.word_document.UnstructuredWordDocumentLoader.html#langchain_community.document_loaders.word_document.UnstructuredWordDocumentLoader/)\n",
        "- [Docx2txtLoader Documentation](https://python.langchain.com/api_reference/community/document_loaders/langchain_community.document_loaders.word_document.Docx2txtLoader.html/)\n",
        "\n",
        "----"
      ]
    },
    {
      "cell_type": "markdown",
      "id": "daa5727b-f972-4f31-ad76-5f059accbdd5",
      "metadata": {
        "id": "daa5727b-f972-4f31-ad76-5f059accbdd5"
      },
      "source": [
        "## Environment Setup\n",
        "\n",
        "Set up the environment. You may refer to [Environment Setup](https://wikidocs.net/257836) for more details.\n",
        "\n",
        "**[Note]**\n",
        "- `langchain-opentutorial` is a package that provides a set of easy-to-use environment setup, useful functions and utilities for tutorials.\n",
        "- You can checkout the [`langchain-opentutorial`](https://github.com/LangChain-OpenTutorial/langchain-opentutorial-pypi) for more details."
      ]
    },
    {
      "cell_type": "code",
      "execution_count": 1,
      "id": "654e2691-9f7b-4f67-a170-ae4ac8ea80af",
      "metadata": {
        "id": "654e2691-9f7b-4f67-a170-ae4ac8ea80af"
      },
      "outputs": [],
      "source": [
        "%%capture --no-stderr\n",
        "%pip install langchain-opentutorial"
      ]
    },
    {
      "cell_type": "code",
      "execution_count": 29,
      "id": "4079c6b2-f3c8-46d9-9025-44c6f9d56daa",
      "metadata": {
        "id": "4079c6b2-f3c8-46d9-9025-44c6f9d56daa"
      },
      "outputs": [],
      "source": [
        "# Install required packages\n",
        "from langchain_opentutorial import package\n",
        "\n",
        "package.install(\n",
        "    [\"langchain\", \"langchain_community\", \"docx2txt\", \"unstructured\", \"python-docx\"],\n",
        "    verbose=False,\n",
        "    upgrade=False,\n",
        ")"
      ]
    },
    {
      "cell_type": "markdown",
      "id": "8814528b-612c-41b9-b3b1-080222ba0eb7",
      "metadata": {
        "id": "8814528b-612c-41b9-b3b1-080222ba0eb7"
      },
      "source": [
        "## Comparison of docx Loading Methods\n",
        "\n",
        "| **Feature**           | **Docx2txtLoader**      | **UnstructuredWordDocumentLoader**    |\n",
        "|-----------------------|-------------------------|---------------------------------------|\n",
        "| **Base Library**      | docx2txt               | Unstructured                         |\n",
        "| **Speed**             | Fast                   | Relatively slow                      |\n",
        "| **Memory Usage**      | Efficient              | Relatively high                      |\n",
        "| **Installation Dependencies** | Lightweight (only requires docx2txt) | Heavy (requires multiple dependency packages) |"
      ]
    },
    {
      "cell_type": "markdown",
      "id": "12f6148c-9f5d-4290-9097-47c605a53dcb",
      "metadata": {
        "id": "12f6148c-9f5d-4290-9097-47c605a53dcb"
      },
      "source": [
        "## Docx2txtLoader\n",
        "\n",
        "**Used Library** : A lightweight Python module such as `docx2txt` for text extraction.\n",
        "\n",
        "**Key Features** :\n",
        "- Extracts text from `.docx` files quickly and simply.\n",
        "- Suitable for efficient and straightforward tasks.\n",
        "\n",
        "**Use Case** :\n",
        "- When you need to quickly retrieve text data from `.docx` files."
      ]
    },
    {
      "cell_type": "code",
      "execution_count": 3,
      "id": "05cda175-42f0-4102-b336-702d30f1b49e",
      "metadata": {
        "scrolled": true,
        "colab": {
          "base_uri": "https://localhost:8080/"
        },
        "id": "05cda175-42f0-4102-b336-702d30f1b49e",
        "outputId": "d7e1576a-973f-4742-a852-830d59254294"
      },
      "outputs": [
        {
          "output_type": "stream",
          "name": "stdout",
          "text": [
            "Document Count: 1\n",
            "\n",
            "Type of loader: <class 'langchain_community.document_loaders.word_document.Docx2txtLoader'>\n",
            "\n",
            "Document Metadata: {'source': '/content/text_data.docx'}\n",
            "\n",
            "Document Content\n",
            "page_content='KLERCIDE 70/30 STERILE IPA SPRAY 1LX6/pk KLERCIDE 70/30 STERILE IPA SPRAY 1LX6/pk SEROLOGICAL PIPETTES 25mL CORNING 250mL STERILE CONTAINERS CORNING 125mL STERILE CONTAINERS R2A MEDIUM 10 PLATES SHARPS BIN SQUARE 4.5L SHARPS BIN SQUARE 4.5L SHARPS BIN SQUARE 12.5L SHARPS BIN SQUARE 12.5L sodium hydrogen carbonate ENDOSAFE PTS CARTIDGE, 0.05-5.0EU/mL ENDOSAFE PTS CARTIDGE, 0.01-1.0 EU/mL CARBON DIOXIDE MEDICAL G SIZE Not Provided ACETIC ACID GLACIAL DRW CITRIC ACID MONOHYDRATE DRW SODIUM ACETATE TRIHYDRATE DRW SODIUM ACETATE TRIHYDRATE DRW Sodium Hydroxide Pellets DRW SODIUM PHOSPHATE DIBASIC DIHYDRATE DRW Sodium Chloride DRW RESIN CAPTO Q AKTA READY GRADIENT HIGH FLOW SECTION SUCROSE (FF) NON-CATALOG Medium Dulbecco's Modified SENSOR IRRADIATED SINGLE USE - 1\" Tubing, Silicone Platinum-cured size 16 Tubing, Silicone (Platinum-cured), NON-CATALOG Cartridges Endosafe PTS/MC BAG ASSEMBLY, 500L MIXING W/REINFORCED DOUBLE PUMP LINE L24 COLUMN PREPACKED POROS 50HS - DRW Hemostats, Sterile, Double Pouched 5.5\" Scissors, Double Pouched, Sterile 5.5\" N Vial, Crystal Zenith, 2mL, E-Beam Irrad Vial, Crystal Zenith, 5mL, E-Beam Irrad Vial, Crystal Zenith, 10mL, E-Beam Irrad FILTER VIRAL PLANOVA BIOEX 1.0 M2 GALACTOSE, PLANT-DERIVED-DR STEP DOWN LINE W/DAC FILTER ASSEMBLY DOUBLE XLT10 0.4/0.22 Connector, 3/8\" Coupling Body (250 pk) Connector, 3/8\" Coupling Body (250 pk) Y-SAMPLING ASSEMBLY 10% ADCF Antifoam Solution Irradiated T84 Chemical Resistant Resin Ribbon Chemical Resistant Polyester Labels Libero Temperature Logger - Drew Farusa Shipment Box - Drew MED - Cellca Choko Feed Medium A MED - Cellca Choko Feed Medium B MED - Cellca Choko Production Medium Laser Cryo-Tags 1.69x0.75\", 1040/pk, Whi MEDIUM CELLCA CHOKO PRECULTURE Diaphragm - Radial 0.5\" EPDM ASEPCO Diaphragm - DN10 EPDM HPV-AQ Hydrogen Peroxide Solution, 5L Kit, ELISA, Insect Cell Host Cell Protei Reagent, Bovine Serum Albumin-30% in DPB Standard, SF9, HCP Antigen Concentrate Cable Tie, 3.9 In, Black, Pk100 Filter Opticap XLT20 Durapore 0.1µm Cable Tie, 7.9 In, Black, Pk100 Cable Tie, 11 In, Natural, Pk100 Filter Millistak+ HC ProPod XOSP, 1.1m2 Filter Millistak+ HC ProPod DOSP, 0.77m2 Filter Millistak+ HC ProPod DOSP, 0.77m2 ASSEMBLY JUMPER 4 DAC MANIFOLD Hose Clamp, Turn Key, SS 1/2\" x 1-1/4\" Hose Clamp, Turn Key, SS 1/4\" x 5/8\" Anit-Fog Spray, BioClean BAFS-601 Clipster Aseptic Disconnector Size XS NON-CATALOG Filter Sterile CultiBag ST ReadyMate DAC 500 1/2\" barb, 10pk Sensor - Sumoflo, 1\" TC, Mass, Gamma Irr Sensor - Sumoflo, 1\" TC, Mass, Gamma Irr Media, BioCapt Single-Use, Tryptone Soya SCD Wafers SARTOBIND STIC PA AE MEMBRANE TRIS HCL TRIS HCL SORBITOL \"FF\" SORBITOL \"FF\" Long R3IGF-I Sartopure GF Plus 30\" Sodium Acetate Anhydrous Disodium Hydrogen Phosphate Dodechyd Filter Unit Bottletop 500mL Nylon, Ster. BalanCD CHO Growth A, 1L Liquid L-Glutamic Acid SODIUM HYDROXIDE PELLETS L-METHIONINE FF DR-1 Sodium Sulphate - DR1 Succinic Acid Crystal FF Sodium Dihyd Phosphate MonoHydrate Di-SodiumHydrogenPhospHeptahydrate - DR1 D(+) - Glucose anhydrous - DR1 FILTER 30\" Supor EX ECV 1L PET PHARMATAINER Poloxamer 188 Expert Cell Culture Optimi L-Alanyl -L-Glutamine XCell ATF 10 Single Use Tube Set Kit XCell ATF 10 SingleUse .2Um PES Hollow FILTER OPTICAP XLT20\" Capsule Durapore FILTER OPTICAP XLT30\" Capsule Durapore DI-SODIUM HYDROGEN PHOSPHATE DIHYDRATE Filter Sartopore 2 XLG Sz 2 1.5\" Tri-Cla Filter, 50-mL Steriflip Sodium Succinate Anhydrous ZW1 (FF) BAG BIOREACTOR XDR-500 CUSTOM Perfusion Manifold Kit StaxDistributionPlates1 1/2 Filter Planova 35N 0.3m� Filter Planova 35N 0.12m� NON-CATALOG Stopper B2-40 RUV 20mm Stopper, B2-40 RUV 13mm Vial, Crystal Zenith, 0.5mL, E-Beam Irra NON-CATALOG Seal 13FOLQLGTE 13mm/2925 NON-CATALOG Seal 20FOLQTE 20mm/2925 Bl BAG Assembly, 50L Mixing w/ AQG Fitting BAG Assembly, 100L Mixing w/ AQG Fitting BAG Assembly, 200L Mixing w/ AQG Fitting BAG Assembly, 500L Mixing w/ AQG Fitting BAG Assembly,1000L Mixing w/ AQG Fitting FILTER OPTICAP XL10 ASEPTIC CON&MANIFOLD Filter Viresolve Pro Magnus 2.1 Shield H Column Prepacked - OPUS POROS HS50 - ZW1 Column Prepacked-OPUS Mabselect Sure ZW1 Column Prepacked - OPUS POROS HQ50 - ZW1 COLUMN PREPACKED POROS 80CM 50HS Manganese Sulfate Monohydrate ZW1 SENSOR - Visiferm DO ECS 225 HO(Optical) FRAME PAK CELSIUS 16.6 L Media BalanCD CHO Growth A Powder BOTTLE - 20L Mixing Vessel Water, LAL Reagent, 30mL Tubing Manifold, Charter Medical, 21 x 2 MVP VF Viresolve Pump Head MVP VF Viresolve Filter Manifold MVP VF Viresolve Outlet Manifold MVP VF Viresolve Feed Manifold MVP VF Viresolve Jumper Manifold BAG PAK CELSIUS 2 L FIlter, Millipak, 0.22um Sterile, 200 9/ Aseptiquick G, Bod, 3/4\", High T Aseptiquick G, Bod, 1/2\", High T Aseptiquick G, Bod, 3/8\", High T Non-Catalog Disposable Non-Woven Steri NON-CATALOG Disp. Non-Woven Sterile Co Disp. Non-Woven Sterile Coverall, 4 XL Disp. Non-Woven Sterile Coverall, XL Disp. Non-Woven Sterile Coverall, LG Disp. Non-Woven Sterile Coverall, MED AKTA Ready Low Flow Kit Tube Asem - Sta-Pure Loadsure 19mm ID Gasket - UF/DF Membrane NON-CATALOG Filter Millipore 3P Millif Sight Glass - Oring NON-CATALOG Bottles Spray Sterile 16oz BAG-SUB 20L Cellbag BPC Bioclear 10w/AQG BAG-SUB 2L Cellbag BPC Bioclear 11 w/AQG BAG-SUB 10L Cellbag BPC Bioclear 11w/AQG BAG-SUB 20L Cellbag BPC Bioclear 11w/AQG BAG-SUB 50L Cellbag BPC Bioclear 11w/AQG BAG - 2000L SUM ASI w/AQG NON-CATALOG CAT4 Donkey Anti-Rabbit Ig Medium 1L Dulbecco's Modified Eagle 1X L ViaCheck 100% Viability Cnt Single Shots Sensor, SciPres Pressure, Disposable, St SUB - 50L XDR Custom w/ AQG SUB - 500L XDR Custom w/ AQG SUB - 2000L XDR Custom w/ AQG Pipets Tips, 20uL, Rainin Pipets Tips, 200uL, Rainin Pipets Tips, 300uL, Rainin Non-Catalog Pipets Tips, 1000uL, Raini Test, Asahi Gold Particle, Medium Test, Asahi Gold Particle, Small DR - 10N Sodium Hydroxide Proteinase K, 10mL L-Histidine (FF) - DR NON-CATALOG Trash Bags Clear 38\"x38\" 2 Tubing Assy, Segment, 8ft. with V-Shaped Tubing Assy, MPC Body Filtration (6.4mm Tubing Assy, MPX Insert Upstream, Platin PH Probe - DSP Skid VWR CryoPro Fiberboard Storage Boxes and Actipro without Iron - DR2 5 Branch Fill Manifold 1/2\"ID CPAK AQG Non-Catalog Sensor, SciPres Pressure, Kit, Elisa, PRAAV9 Titration NON-CATALOG Swiffer WetJet Refills AMMONIUM CHLORIDE PELLICON 2 MAXI ULTRAFILTRATION MODULE Actipro, Dry Powder Medium, ADCF Air Detector Assembly (BP 100 + 300/400) NON-CATALOG VWR Frock Irradiated 4X-La Pottasium Sensor Bioprofile 400 Reagent Pack Bioprofile Control Level 4 -30/Box Bioprofile Control Level 3 -30/Box Bioprofile Control Level 1 - 30/Box NON-CATALOG Swiffer Sweeper Cleaning S Bioprofile Control Level 2 - 30/Box Reference Sensor (BP 100 / 400 Series) PH Sensor (200 / 250 / 400 Series) PO2 Sensor PO2 Pre Filled Membrane Cap kit - 6/Box Sodium Sensor (BP 100+/300/400 Series) Ammonium Sensor (BP 100+/300/400 Series) Locate Sensor(BP100/+/300/400 BASIC SER) Glucose Membrane Kit - 3/Box Glutamine Sensor (BP100 /+ 400 Basic) Bag, XRS 20L Biocontainer, Pall Glutamine Membrane Kit - 3/Box Glutamate Sensor (BP100 /+/400 Basic) Glutamate Membrane Kit - 3/Box Bioprofile Control Level 5 - 30/Box Sodium Caprylate Lactate Membrane Kit - 3/box PC02 Prefilled Membrane Kit - 3/Kit PC02 Sensor High Temp Kleenpak Male Connector 3/8\" CPAK 16.6L AQG Vial, EZ-Fill 2R Glass, 3mL Schott Glass Rupture Disk - 2\" - Ohm Rupture Disk - 1.5\" - Ohm Vial, EZ-Fill, 10R Glass, 10mL NON-CATALOG Rodac Plate TSA w/ Lecithi TRIS Hydrochloride Biotech Reagent 500g Bioprofile Flex/Flex2 FlushFixture 6Port Bioprofile Flex/Flex2 FlushFixture 4Port Bioprofile Flex2 Chemistry Refrnc Sensor Osm 48 Microtubes BioProfile Flex2 Bioprofile Flex2 pH/Gas MicroSnsr CardLV Tubing MFlex C-Flex #73 25 ft Bioprofil Flex2 Chemist MicroSnsr CardLV Bioprofile Flex2 pH/Gas Reference Sensor NON-CATALOG TSA 3P-Lombard LockSure (1 Bioprofile Flex2 pH/Gas Deproteiniz Card Bprofile Flex2 Chemistr Mod Deprot Card 4-Way Fill it Tube Set Optical Probe Tip Sodium Chloride, Granular, USP 500g Tromethamine U.S.P. 500g Multi-Compendia Tubing-MSTRFLX Puriflx size91- 3/4x1-1/4 Sodium Phosphate Dibasic Anhydrous 500g DIMETHYL SULFOXIDE DMSO Bellow, Allegro STR Probes Supplement, Kolliphor P 188, Bio, 5 kg Sodium Bicarbonate, Powder, USP 2.5kg Celsius FFT Clip Tube Holder 100mL Disposable Square Weighing Boats FILTER Super ECV 30 PES0.45/0.2 UM w/AQG Fltr Supr ECV30PES0.45/0.2UMAutoclavable BRX-1w/o L-Glutaminew/o SodiumBicarb-EU1 MACH-1 w/o L-Glutamne w/o NAHCO3-EU1 Mixer - 2500L Pall Allegro Mixer - 2000L Pall Allegro Transducer, Pressure SU Spectrum TFF Temptale - Mendel Transducer 1/2\" Pressure SU Spectrum TFF Trehalose Dihydrate FF Temptale Ultra Dry Ice Temptale Ultra 16K MES Sodium Salt Ortho-Phosphoric Acid 85% - FF Men Protein, Baculovirus, VP39 Zeta Plus SP Filter SODIUM BICARBONATE Streptavidin/HRP 1mL L-Arginine(FF) - Mendel L-Arginine(FF) - Mendel Cryogenic Sterile Vial Q Sepharose XL Primer, Reverse, Saturn V Factor 8 BioWelder TC blades (Non-RMS) Buffer Solution, PH 1.68 SZ1 Pro A Column Filter XL4 Durapore 0.1 μM Stir Bar PVDF Gamma Irradiated 10 x 38mm Flexifit Bio In/Out O-Ring Kit Pellicon3 Ultracell 30kDa DScreen 1.14m2 13mm Serum Stoppers, SBB bag 20mm Serum Stoppers, SBB bag XS - 11 Medium XJEM Ex - Cell 302 (modified) XJEM Feed Zeta Plus Capsule Assembly 16\"-05SP01A Zeta Plus Capsule Assembly EZP7 Cell Bis-Tris Propane, Pharmagrade 1KG Potassium Chloride, Crystal, U.S.P, 500G Sensor pCo2 InPro 50001/12/220 Sodium dihydrogen phosphate dihydrate Peek Bushings - 500L SS Reactor NON-CATALOG Tryp. Soy Broth 10L Stir Bar PVDF Gamma Irradiated 10 x 80mm Tube Centrifuge 50ml Sterile - 4 COLUMN PP MABSELECT SURE 80CM Sampling Asmbly-2x50mLPP&2x15mL PS Tubes AAV2 Titration ELISA Kit EPDM Black O-Ring 16.25\"0.275\" EPDM Black O-Ring 20.25\"*0.275\" EPDM Black O-Ring 18\" Probe Cell Density - ABER Bag, 200L STR Jacketed Biocontainer Pall Beaker, Sterile, 1L Beaker, Sterile, 4L Beaker, Sterile, 600mL Beaker, Sterile, 2L Graduated Cylinder, Sterile, 1L Tube 15ml Polystyrene Sterile Graduated Cylinder, Sterile, 4L BIOTAINR 10L PC W/SILICONE LINE CAP IRR Cartridges, DG32 Automated Droplet Gener System Suitability set- At line TOC Pierceable Foil Heat Seal Actipro Liquid Medium ddPCR� Supermix for Probes (No dUTP) Connector, Kleenpak HT, 9.6mm HB Male Connector, Kleenpak HT, 13mm HB Male 1.5\" SAN ASEPT X INSERT HT AKTA Ready XL Flow Kit 3/4 In 3/4 In Gradient Section ,AKTA Ready XL Automated Droplet Generation Oil for Pro Droplet Reader Oil Pipet Tips for the AutoDG System Steris VHP Chemical Indicators Steris VHP Biological Indicators NA333 Pall 1000L Allegro Mixer Bag Pall 200L Allegro Mixer Bag Pall 500L Allegra Mixer Bag Pall 100L Allegro Mixer Bag Settling Plate (120 Plates) ICR/ICR Plus Vesta-Syde SQ Tri-Clamp, Plastic, 1.5\" Tri-Clamp, Plastic 3/4� Tri-Clamp, Plastic, 1.5\" Tri-Clamp, Plastic 3/4� Filling Assembly #1, Production Unit Acetic Acid Glacial USP FCC 500mL SIUS Proscreen 30kDA EP screen 2.5 Tris HCl - Avantor Only Antibody, Anti-AAV, VP1/VP2/VP3 (B1) BOTTLE PETG 500 ML STERILE *NON-CATALOG Simple Green Cleaner 1 gal Amsphere A3 Resin Non-Catalog PureFit TC Tubing Clamp 3/ Sensor, SciPres Pressure 3/8\" Barb Dispo GS SUPPLEMENT 50X EX-CELL ADVANCED CHO POWDER MEDIUM PELICON 3 BIOMAX 30kDa D-SCREEN 1.14m2 L-Asparagine Monohydrate-TLV1 Sample Diluent Buffer for HCP 500mL TOYOPEARL NH2-750F RESIN OPUS PREPACKED COLUMN POROS XQ 79.9X20 Sodium Chloride 500g USP, EP/BP,JP Granu Sodium Phosphate Dibasic Heptahydrate, 13mm Flip-Off CCS Seal, Blue 20mm Flip-Off CCS Seal, Blue KLEENPAK NOVA PROFILE II 30' 0.5um HEPES SODIUM SALT Filtration/Filling Assembly 2L 1.6mm ID TEMPTALE ULTRA DRY ICE 3M PROBE 500G Sodium Phosphate Dibasic Heptahydra Filter, Millipack-60, 0.45 um Non-Catalog Extansion for Media Change [ASL1] L-TRYPTOPHAN FF, USP/EP/JP MVP Outlet Manifold Base Manifold 125mL MVP Inlet Manifold (QF) MIXER 3000L PALL CUBICAL MIXER 2000L PALL CUBICAL ILC pH PROBE NON-CATALOG Bag 500mL Small Flexboy Lu L-HISTIDINE HCL FF - EP/JP DR NON-CATALOG Bag 2L Small Flexboy Luer CAPTO MMC RESIN Non-Catalog CAT4 Optiscale Durapore 0. Tubing, Puriflex Size 16 Masterflex, Non CLARISOLVE 60μm POD DEPTH FILTER 0.55m^2 SODIUM ACETATE TRIHYDRATE FF USP/EP/JP SODIUM CHLORIDE FF USP/EP/JP TRACE ELEMENT B 1000X TLV1 Trace Element E 1000x TLV1 CELLVENTO MODIFEED PRIME COMP FRACTOGEL EMD TMAE Hicap (M) RESIN AKTApilot pH electrode L-CYSTINE DIHYDROCHLORIDE TVL1 SPERMINE TETRAHYDROCHLORIDE- TLV1 F30 LOW B12 NO HYDROCORTISONE-TLV1 IRON (II)SULFATE HEPTAHYDRATE CRYST-TLV1 IRON (II)SULFATE HEPTAHYDRATE CRYST-TLV1 GLUTATHIONE-TLV1 Filter, Sartofluor, 0.2um, Sterile, 0.2 L-SERINE USP/EP-TLV1 L-VALINE, USP/EP-TLV1 R34 LOW B12 MEDIA-TLV1 R37 NO HYDROCORTISONE-TLV1 GS2-N LOW B12 NO HYDROCORT-TLV1 NON-CATALOG CAT4 Autoclavable Breather POLY VINYL ALCOHOL-TLV1 L-AsparticAcid MonosodiumSaltHydrateTLV1 PELLICON 3 ULTRACEL 10KPA CSCREEN 1.14M2 L-TYROSINE, DISODIUM-TLV1 GLYCINE HYDROCHLORIDE-TLV1 INSULIN, RECOMBINANT HUMAN NON-CATALOG Bag Mobius Gold 50L PF Mix OPUS COLUMN TOSOH TOYOPEARL 25X10 Vaprox 59 Hydrogen Peroxide Sterilant OPUS Pre-Packed Column TMAE HiCap Tubes 1.5mL Eppendorf Protein Lobind Mic Non-Catalog Multiplate 48-Well PCR Pla OPUS Pre-Packed Column MabSelect SuRe LX Sodium Chloride, Granular USP/EP/JP 12kg KOLLIPHOR P188, BIO, FF, USP/EP GEN2 CELSIUS 12L FFT HUMAN RECOMBINANT INSULIN 5MG/ML HUMAN RECOMBINANT INSULIN 5MG/ML 55 GALLON CLOSED - TOP BARRELS 55 GALLON CLOSED - TOP BARRELS PUTRESCINE DIHYDROCHLORIDE CELLUFINE MAX GS OPUS PRE-PACK COLUMN OPUS PRE-PACKED CAPTO MMC COLUMN OPUS PRE-PACKED AMSPHERE COLUMN OPUS PRE-PACKED CAPTO ADHERE COLUMN CELLUFINE MAX Q-H OPUS PRE-PACK COLUMN KANEKA KANCAPA OPUS PRE-PACK COLUMN 125ML SAMPLING BOTTLE MANIFOLD Filter, Midisart 2000 Venting Unit 25pk 60ML SAMPLING BOTTLE MANIFOLD B-GLYCEROPHOS DISODIUM SALT HYDRATE-TLV1 ETHANOLAMINE HCL-TLV1 Kleenpak Nova Supor UEAV 0,2 m TUBING-CFLEX 3/8' ID x 5/8\" OD [DR] POLY 80; USP/EP/JP;FF Mustang Q XT5 (5ml) capsule 5L Retentate Assembly Tubing, L/S 16 Masterflex Platinum-cured Tubing, I/P 73 Masterflex Platinum-cured Tubing, I/P 82 Masterflex Platinum-cured OPUS PP Column MS PrismA 59.9x20cm OPUS PP COLUMN POROS XQ, 45.7*20CM EZ BIOPAC 10L BAG 4 INCH WELOC, GAMMA pH Washers PCO2 Washers BioProfile Flex 2 Syringe Bioprofile FLEX 2 Chemistry Calibrator a pH/Gas Module Tubing Harness S-Line Probe Assembly pH/Gas Auto QC Cartridge Chemistry Auto QC Cartridge pH/Gas MicroSensor Card HV (425 samples) ChemistryMicroSensorCard HV (550Samples) EFlex 2 Flush Fixture 2 Port Bioprofile Flex2 pH/Gas Calibration Cart Chemistry Calibrator and Reagent Cartrid CAL STANDARDS 100 + 900 OSM48 FLEX2 EZ BioPac 4 in to 3 in reducer, Gamma EZ BIOPAC 10L BAG 3 INCH WELOC, GAMMA Sucrose, NF, EP, JP, High Purity, Low En NON-CATALOG Pure Water Density Standar Filter, Kleenpak Mini Emflon II, Sterile Orion™ Conductivity Standards, Solutions NON-CATALOG Medium Hink'S Tnm-Fh (1L) Clipster Aseptic Disconnector size S VWR Maximum Protection Lab Coats - 4XL Sensor, Pressure, PendoTECH Single Use Concentric Reducer 1 1/2\" x 3/4\" mini Sa NON-CATALOG Liner Pall PD2 5L 2\" Sanit NON-CATALOG Liner Pall PD2 5 L 4\" Sani Kleenpak Presto Sterile 1/2\" Connector BRAMMER ITR2 FORWARD PRIME BRAMMER ITR2 REVERSE PRIME Brammer ITR2 Probe Connector, AsepticQuik G 3/8\" HB Connector, AsepticQuik G 1/2\" HB Primer, E1A Forward Primer, E1A Reverse CITRIC ACID MONOHYDRATE USP/EP FF Filter, Millipak 100, 0.22 Bag 1000L Pall Allegro Single Use System CELSIUS BAG SAMPLE COVER 12L OPUS PP Column POROS 50HQ 30x20cm AQG STC CONNCT 3/4\" x 1 1/2\" SANI HIGH T CDM4MAB LIQUID MED WITHOUT L-GLUTAMINE Filter, Opticap XL5 Durapore Capsule NON-CATALOG Filter Pall Supor EKV 0.2u Non-Catalog Bag Flexboy 1L w/C Flex Ou Bottle Assembly System, 60mL BioSimplex Bottle Assembly System, 125mL BioSimplex Bottle Assembly System, 250mL BioSimplex Bottle Assembly System, 500mL BioSimplex Bottle Assembly System, 1 L BioSimplex Bottle Assembly System, 2 L BioSimplex Filter, Sartobran P MaxiCap Sterile Caps NON-CATALOG Seal 20FO LQ TE (6-B) 3767 SPOR-KLENZ RTU Spor-Klenz RTU 4x850mL Plastic Bottles' metadata={'source': '/content/text_data.docx'}\n"
          ]
        }
      ],
      "source": [
        "from langchain_community.document_loaders import Docx2txtLoader\n",
        "\n",
        "# Initialize the document loader\n",
        "loader = Docx2txtLoader(\"/content/text_data.docx\")\n",
        "\n",
        "# Load the document\n",
        "docs = loader.load()\n",
        "\n",
        "# Print the number of documents\n",
        "print(f\"Document Count: {len(docs)}\\n\")\n",
        "\n",
        "# Print the type of the loader\n",
        "print(f\"Type of loader: {type(loader)}\\n\")\n",
        "\n",
        "# Print the metadata of the document\n",
        "print(f\"Document Metadata: {docs[0].metadata}\\n\")\n",
        "\n",
        "# Note: The entire docx file is converted into a single document.\n",
        "# It needs to be split into smaller parts using a text splitter.\n",
        "print(\"Document Content\")\n",
        "print(docs[0])"
      ]
    },
    {
      "cell_type": "markdown",
      "id": "15224002-af08-479f-89ee-87613b342a0f",
      "metadata": {
        "id": "15224002-af08-479f-89ee-87613b342a0f"
      },
      "source": [
        "## UnstructuredWordDocumentLoader\n",
        "\n",
        "**Used Library** : A comprehensive document analysis library called `unstructured` .\n",
        "\n",
        "**Key Features** :\n",
        "- Capable of understanding the structure of a document, such as titles and body, and separating them into distinct elements.\n",
        "- Allows hierarchical representation and detailed processing of documents.\n",
        "- Extracts meaningful information from unstructured data and transforms it into structured formats.\n",
        "\n",
        "**Use Case** :\n",
        "- When you need to extract text while preserving the document's structure, formatting, and metadata.\n",
        "- Suitable for handling complex document structures or converting unstructured data into structured formats."
      ]
    },
    {
      "cell_type": "markdown",
      "id": "a58e1912-590b-41c2-a3b6-54053568a7a8",
      "metadata": {
        "id": "a58e1912-590b-41c2-a3b6-54053568a7a8"
      },
      "source": [
        "| **Parameter**           | **Option**              | **Description**                                                                               |\n",
        "|-------------------------|-------------------------|---------------------------------------------------------------------------------------------|\n",
        "| `mode`                  | `single` (default)      | Returns the entire document as a single `Document` object.                                  |\n",
        "|                         | `elements`              | Splits the document into elements (e.g., title, body) and returns each as a `Document` object. |\n",
        "| `strategy`              | `None` (default)        | No specific strategy is applied.                                                           |\n",
        "|                         | `fast`                  | Prioritizes speed (may reduce accuracy).                                                    |\n",
        "|                         | `hi_res`                | Prioritizes high accuracy (slower processing).                                              |\n",
        "| `include_page_breaks`   | `True` (default)        | Detects page breaks and adds `PageBreak` elements.                                          |\n",
        "|                         | `False`                 | Ignores page breaks.                                                                        |\n",
        "| `infer_table_structure` | `True` (default)        | Infers table structure and includes it in HTML format.                                      |\n",
        "|                         | `False`                 | Does not infer table structure.                                                            |\n",
        "| `starting_page_number`  | `1` (default)           | Specifies the starting page number of the document.                                         |"
      ]
    },
    {
      "cell_type": "markdown",
      "id": "22842498",
      "metadata": {
        "id": "22842498"
      },
      "source": [
        "### mode: Single (default)\n",
        "\n",
        "\n",
        "In this mode, the entire document is returned as a single LangChain Document object. In other words, all the content of the document is contained within a single object."
      ]
    },
    {
      "cell_type": "code",
      "execution_count": 7,
      "id": "2847a1c2-3c5e-4487-9577-c25607983cc5",
      "metadata": {
        "scrolled": true,
        "colab": {
          "base_uri": "https://localhost:8080/"
        },
        "id": "2847a1c2-3c5e-4487-9577-c25607983cc5",
        "outputId": "67d8d680-227b-4f31-820a-be3058ab188f"
      },
      "outputs": [
        {
          "output_type": "stream",
          "name": "stdout",
          "text": [
            "Document Count: 1\n",
            "\n",
            "Type of loader: <class 'langchain_community.document_loaders.word_document.UnstructuredWordDocumentLoader'>\n",
            "\n",
            "Document Metadata: {'source': '/content/text_data.docx'}\n",
            "\n",
            "Document Content\n",
            "page_content='KLERCIDE 70/30 STERILE IPA SPRAY 1LX6/pk KLERCIDE 70/30 STERILE IPA SPRAY 1LX6/pk SEROLOGICAL PIPETTES 25mL CORNING 250mL STERILE CONTAINERS CORNING 125mL STERILE CONTAINERS R2A MEDIUM 10 PLATES SHARPS BIN SQUARE 4.5L SHARPS BIN SQUARE 4.5L SHARPS BIN SQUARE 12.5L SHARPS BIN SQUARE 12.5L sodium hydrogen carbonate ENDOSAFE PTS CARTIDGE, 0.05-5.0EU/mL ENDOSAFE PTS CARTIDGE, 0.01-1.0 EU/mL CARBON DIOXIDE MEDICAL G SIZE Not Provided ACETIC ACID GLACIAL DRW CITRIC ACID MONOHYDRATE DRW SODIUM ACETATE TRIHYDRATE DRW SODIUM ACETATE TRIHYDRATE DRW Sodium Hydroxide Pellets DRW SODIUM PHOSPHATE DIBASIC DIHYDRATE DRW Sodium Chloride DRW RESIN CAPTO Q AKTA READY GRADIENT HIGH FLOW SECTION SUCROSE (FF) NON-CATALOG Medium Dulbecco's Modified SENSOR IRRADIATED SINGLE USE - 1\" Tubing, Silicone Platinum-cured size 16 Tubing, Silicone (Platinum-cured), NON-CATALOG Cartridges Endosafe PTS/MC BAG ASSEMBLY, 500L MIXING W/REINFORCED DOUBLE PUMP LINE L24 COLUMN PREPACKED POROS 50HS - DRW Hemostats, Sterile, Double Pouched 5.5\" Scissors, Double Pouched, Sterile 5.5\" N Vial, Crystal Zenith, 2mL, E-Beam Irrad Vial, Crystal Zenith, 5mL, E-Beam Irrad Vial, Crystal Zenith, 10mL, E-Beam Irrad FILTER VIRAL PLANOVA BIOEX 1.0 M2 GALACTOSE, PLANT-DERIVED-DR STEP DOWN LINE W/DAC FILTER ASSEMBLY DOUBLE XLT10 0.4/0.22 Connector, 3/8\" Coupling Body (250 pk) Connector, 3/8\" Coupling Body (250 pk) Y-SAMPLING ASSEMBLY 10% ADCF Antifoam Solution Irradiated T84 Chemical Resistant Resin Ribbon Chemical Resistant Polyester Labels Libero Temperature Logger - Drew Farusa Shipment Box - Drew MED - Cellca Choko Feed Medium A MED - Cellca Choko Feed Medium B MED - Cellca Choko Production Medium Laser Cryo-Tags 1.69x0.75\", 1040/pk, Whi MEDIUM CELLCA CHOKO PRECULTURE Diaphragm - Radial 0.5\" EPDM ASEPCO Diaphragm - DN10 EPDM HPV-AQ Hydrogen Peroxide Solution, 5L Kit, ELISA, Insect Cell Host Cell Protei Reagent, Bovine Serum Albumin-30% in DPB Standard, SF9, HCP Antigen Concentrate Cable Tie, 3.9 In, Black, Pk100 Filter Opticap XLT20 Durapore 0.1µm Cable Tie, 7.9 In, Black, Pk100 Cable Tie, 11 In, Natural, Pk100 Filter Millistak+ HC ProPod XOSP, 1.1m2 Filter Millistak+ HC ProPod DOSP, 0.77m2 Filter Millistak+ HC ProPod DOSP, 0.77m2 ASSEMBLY JUMPER 4 DAC MANIFOLD Hose Clamp, Turn Key, SS 1/2\" x 1-1/4\" Hose Clamp, Turn Key, SS 1/4\" x 5/8\" Anit-Fog Spray, BioClean BAFS-601 Clipster Aseptic Disconnector Size XS NON-CATALOG Filter Sterile CultiBag ST ReadyMate DAC 500 1/2\" barb, 10pk Sensor - Sumoflo, 1\" TC, Mass, Gamma Irr Sensor - Sumoflo, 1\" TC, Mass, Gamma Irr Media, BioCapt Single-Use, Tryptone Soya SCD Wafers SARTOBIND STIC PA AE MEMBRANE TRIS HCL TRIS HCL SORBITOL \"FF\" SORBITOL \"FF\" Long R3IGF-I Sartopure GF Plus 30\" Sodium Acetate Anhydrous Disodium Hydrogen Phosphate Dodechyd Filter Unit Bottletop 500mL Nylon, Ster. BalanCD CHO Growth A, 1L Liquid L-Glutamic Acid SODIUM HYDROXIDE PELLETS L-METHIONINE FF DR-1 Sodium Sulphate - DR1 Succinic Acid Crystal FF Sodium Dihyd Phosphate MonoHydrate Di-SodiumHydrogenPhospHeptahydrate - DR1 D(+) - Glucose anhydrous - DR1 FILTER 30\" Supor EX ECV 1L PET PHARMATAINER Poloxamer 188 Expert Cell Culture Optimi L-Alanyl -L-Glutamine XCell ATF 10 Single Use Tube Set Kit XCell ATF 10 SingleUse .2Um PES Hollow FILTER OPTICAP XLT20\" Capsule Durapore FILTER OPTICAP XLT30\" Capsule Durapore DI-SODIUM HYDROGEN PHOSPHATE DIHYDRATE Filter Sartopore 2 XLG Sz 2 1.5\" Tri-Cla Filter, 50-mL Steriflip Sodium Succinate Anhydrous ZW1 (FF) BAG BIOREACTOR XDR-500 CUSTOM Perfusion Manifold Kit StaxDistributionPlates1 1/2 Filter Planova 35N 0.3m� Filter Planova 35N 0.12m� NON-CATALOG Stopper B2-40 RUV 20mm Stopper, B2-40 RUV 13mm Vial, Crystal Zenith, 0.5mL, E-Beam Irra NON-CATALOG Seal 13FOLQLGTE 13mm/2925 NON-CATALOG Seal 20FOLQTE 20mm/2925 Bl BAG Assembly, 50L Mixing w/ AQG Fitting BAG Assembly, 100L Mixing w/ AQG Fitting BAG Assembly, 200L Mixing w/ AQG Fitting BAG Assembly, 500L Mixing w/ AQG Fitting BAG Assembly,1000L Mixing w/ AQG Fitting FILTER OPTICAP XL10 ASEPTIC CON&MANIFOLD Filter Viresolve Pro Magnus 2.1 Shield H Column Prepacked - OPUS POROS HS50 - ZW1 Column Prepacked-OPUS Mabselect Sure ZW1 Column Prepacked - OPUS POROS HQ50 - ZW1 COLUMN PREPACKED POROS 80CM 50HS Manganese Sulfate Monohydrate ZW1 SENSOR - Visiferm DO ECS 225 HO(Optical) FRAME PAK CELSIUS 16.6 L Media \n",
            "\n",
            "\n",
            "\n",
            "BalanCD CHO Growth A Powder BOTTLE - 20L Mixing Vessel Water, LAL Reagent, 30mL Tubing Manifold, Charter Medical, 21 x 2 MVP VF Viresolve Pump Head MVP VF Viresolve Filter Manifold MVP VF Viresolve Outlet Manifold MVP VF Viresolve Feed Manifold MVP VF Viresolve Jumper Manifold BAG PAK CELSIUS 2 L FIlter, Millipak, 0.22um Sterile, 200 9/ Aseptiquick G, Bod, 3/4\", High T Aseptiquick G, Bod, 1/2\", High T Aseptiquick G, Bod, 3/8\", High T Non-Catalog Disposable Non-Woven Steri NON-CATALOG Disp. Non-Woven Sterile Co Disp. Non-Woven Sterile Coverall, 4 XL Disp. Non-Woven Sterile Coverall, XL Disp. Non-Woven Sterile Coverall, LG Disp. Non-Woven Sterile Coverall, MED AKTA Ready Low Flow Kit Tube Asem - Sta-Pure Loadsure 19mm ID Gasket - UF/DF Membrane NON-CATALOG Filter Millipore 3P Millif Sight Glass - Oring NON-CATALOG Bottles Spray Sterile 16oz BAG-SUB 20L Cellbag BPC Bioclear 10w/AQG BAG-SUB 2L Cellbag BPC Bioclear 11 w/AQG BAG-SUB 10L Cellbag BPC Bioclear 11w/AQG BAG-SUB 20L Cellbag BPC Bioclear 11w/AQG BAG-SUB 50L Cellbag BPC Bioclear 11w/AQG BAG - 2000L SUM ASI w/AQG NON-CATALOG CAT4 Donkey Anti-Rabbit Ig Medium 1L Dulbecco's Modified Eagle 1X L ViaCheck 100% Viability Cnt Single Shots Sensor, SciPres Pressure, Disposable, St SUB - 50L XDR Custom w/ AQG SUB - 500L XDR Custom w/ AQG SUB - 2000L XDR Custom w/ AQG Pipets Tips, 20uL, Rainin Pipets Tips, 200uL, Rainin Pipets Tips, 300uL, Rainin Non-Catalog Pipets Tips, 1000uL, Raini Test, Asahi Gold Particle, Medium Test, Asahi Gold Particle, Small DR - 10N Sodium Hydroxide Proteinase K, 10mL L-Histidine (FF) - DR NON-CATALOG Trash Bags Clear 38\"x38\" 2 Tubing Assy, Segment, 8ft. with V-Shaped Tubing Assy, MPC Body Filtration (6.4mm Tubing Assy, MPX Insert Upstream, Platin PH Probe - DSP Skid VWR CryoPro Fiberboard Storage Boxes and Actipro without Iron - DR2 5 Branch Fill Manifold 1/2\"ID CPAK AQG Non-Catalog Sensor, SciPres Pressure, Kit, Elisa, PRAAV9 Titration NON-CATALOG Swiffer WetJet Refills AMMONIUM CHLORIDE PELLICON 2 MAXI ULTRAFILTRATION MODULE Actipro, Dry Powder Medium, ADCF Air Detector Assembly (BP 100 + 300/400) NON-CATALOG VWR Frock Irradiated 4X-La Pottasium Sensor Bioprofile 400 Reagent Pack Bioprofile Control Level 4 -30/Box Bioprofile Control Level 3 -30/Box Bioprofile Control Level 1 - 30/Box NON-CATALOG Swiffer Sweeper Cleaning S Bioprofile Control Level 2 - 30/Box Reference Sensor (BP 100 / 400 Series) PH Sensor (200 / 250 / 400 Series) PO2 Sensor PO2 Pre Filled Membrane Cap kit - 6/Box Sodium Sensor (BP 100+/300/400 Series) Ammonium Sensor (BP 100+/300/400 Series) Locate Sensor(BP100/+/300/400 BASIC SER) Glucose Membrane Kit - 3/Box Glutamine Sensor (BP100 /+ 400 Basic) Bag, XRS 20L Biocontainer, Pall Glutamine Membrane Kit - 3/Box Glutamate Sensor (BP100 /+/400 Basic) Glutamate Membrane Kit - 3/Box Bioprofile Control Level 5 - 30/Box Sodium Caprylate Lactate Membrane Kit - 3/box PC02 Prefilled Membrane Kit - 3/Kit PC02 Sensor High Temp Kleenpak Male Connector 3/8\" CPAK 16.6L AQG Vial, EZ-Fill 2R Glass, 3mL Schott Glass Rupture Disk - 2\" - Ohm Rupture Disk - 1.5\" - Ohm Vial, EZ-Fill, 10R Glass, 10mL NON-CATALOG Rodac Plate TSA w/ Lecithi TRIS Hydrochloride Biotech Reagent 500g Bioprofile Flex/Flex2 FlushFixture 6Port Bioprofile Flex/Flex2 FlushFixture 4Port Bioprofile Flex2 Chemistry Refrnc Sensor Osm 48 Microtubes BioProfile Flex2 Bioprofile Flex2 pH/Gas MicroSnsr CardLV Tubing MFlex C-Flex #73 25 ft Bioprofil Flex2 Chemist MicroSnsr CardLV Bioprofile Flex2 pH/Gas Reference Sensor NON-CATALOG TSA 3P-Lombard LockSure (1 Bioprofile Flex2 pH/Gas Deproteiniz Card Bprofile Flex2 Chemistr Mod Deprot Card 4-Way Fill it Tube Set Optical Probe Tip Sodium Chloride, Granular, USP 500g Tromethamine U.S.P. 500g Multi-Compendia Tubing-MSTRFLX Puriflx size91- 3/4x1-1/4 Sodium Phosphate Dibasic Anhydrous 500g DIMETHYL SULFOXIDE DMSO Bellow, Allegro STR Probes Supplement, Kolliphor P 188, Bio, 5 kg Sodium Bicarbonate, Powder, USP 2.5kg Celsius FFT Clip Tube Holder 100mL Disposable Square Weighing Boats FILTER Super ECV 30 PES0.45/0.2 UM w/AQG Fltr Supr ECV30PES0.45/0.2UMAutoclavable BRX-1w/o L-Glutaminew/o SodiumBicarb-EU1 MACH-1 w/o L-Glutamne w/o NAHCO3-EU1 Mixer - 2500L Pall Allegro Mixer - 2000L Pall Allegro Transducer, Pressure SU Spectrum TFF Temptale - Mendel Transducer 1/2\" Pressure SU Spectrum TFF Trehalose Dihydrate FF Temptale Ultra Dry Ice Temptale Ultra 16K MES Sodium Salt Ortho-Phosphoric Acid 85% - FF Men Protein, Baculovirus, VP39 Zeta Plus SP Filter \n",
            "\n",
            "\n",
            "\n",
            "SODIUM BICARBONATE Streptavidin/HRP 1mL L-Arginine(FF) - Mendel L-Arginine(FF) - Mendel Cryogenic Sterile Vial Q Sepharose XL Primer, Reverse, Saturn V Factor 8 BioWelder TC blades (Non-RMS) Buffer Solution, PH 1.68 SZ1 Pro A Column Filter XL4 Durapore 0.1 μM Stir Bar PVDF Gamma Irradiated 10 x 38mm Flexifit Bio In/Out O-Ring Kit Pellicon3 Ultracell 30kDa DScreen 1.14m2 13mm Serum Stoppers, SBB bag 20mm Serum Stoppers, SBB bag XS - 11 Medium XJEM Ex - Cell 302 (modified) XJEM Feed Zeta Plus Capsule Assembly 16\"-05SP01A Zeta Plus Capsule Assembly EZP7 Cell Bis-Tris Propane, Pharmagrade 1KG Potassium Chloride, Crystal, U.S.P, 500G Sensor pCo2 InPro 50001/12/220 Sodium dihydrogen phosphate dihydrate Peek Bushings - 500L SS Reactor NON-CATALOG Tryp. Soy Broth 10L Stir Bar PVDF Gamma Irradiated 10 x 80mm Tube Centrifuge 50ml Sterile - 4 COLUMN PP MABSELECT SURE 80CM Sampling Asmbly-2x50mLPP&2x15mL PS Tubes AAV2 Titration ELISA Kit EPDM Black O-Ring 16.25\"0.275\" EPDM Black O-Ring 20.25\"*0.275\" EPDM Black O-Ring 18\" Probe Cell Density - ABER Bag, 200L STR Jacketed Biocontainer Pall Beaker, Sterile, 1L Beaker, Sterile, 4L Beaker, Sterile, 600mL Beaker, Sterile, 2L Graduated Cylinder, Sterile, 1L Tube 15ml Polystyrene Sterile Graduated Cylinder, Sterile, 4L BIOTAINR 10L PC W/SILICONE LINE CAP IRR Cartridges, DG32 Automated Droplet Gener System Suitability set- At line TOC Pierceable Foil Heat Seal Actipro Liquid Medium ddPCR� Supermix for Probes (No dUTP) Connector, Kleenpak HT, 9.6mm HB Male Connector, Kleenpak HT, 13mm HB Male 1.5\" SAN ASEPT X INSERT HT AKTA Ready XL Flow Kit 3/4 In 3/4 In Gradient Section ,AKTA Ready XL Automated Droplet Generation Oil for Pro Droplet Reader Oil Pipet Tips for the AutoDG System Steris VHP Chemical Indicators Steris VHP Biological Indicators NA333 Pall 1000L Allegro Mixer Bag Pall 200L Allegro Mixer Bag Pall 500L Allegra Mixer Bag Pall 100L Allegro Mixer Bag Settling Plate (120 Plates) ICR/ICR Plus Vesta-Syde SQ Tri-Clamp, Plastic, 1.5\" Tri-Clamp, Plastic 3/4� Tri-Clamp, Plastic, 1.5\" Tri-Clamp, Plastic 3/4� Filling Assembly #1, Production Unit Acetic Acid Glacial USP FCC 500mL SIUS Proscreen 30kDA EP screen 2.5 Tris HCl - Avantor Only Antibody, Anti-AAV, VP1/VP2/VP3 (B1) BOTTLE PETG 500 ML STERILE *NON-CATALOG Simple Green Cleaner 1 gal Amsphere A3 Resin Non-Catalog PureFit TC Tubing Clamp 3/ Sensor, SciPres Pressure 3/8\" Barb Dispo GS SUPPLEMENT 50X EX-CELL ADVANCED CHO POWDER MEDIUM PELICON 3 BIOMAX 30kDa D-SCREEN 1.14m2 L-Asparagine Monohydrate-TLV1 Sample Diluent Buffer for HCP 500mL TOYOPEARL NH2-750F RESIN OPUS PREPACKED COLUMN POROS XQ 79.9X20 Sodium Chloride 500g USP, EP/BP,JP Granu Sodium Phosphate Dibasic Heptahydrate, 13mm Flip-Off CCS Seal, Blue 20mm Flip-Off CCS Seal, Blue KLEENPAK NOVA PROFILE II 30' 0.5um HEPES SODIUM SALT Filtration/Filling Assembly 2L 1.6mm ID TEMPTALE ULTRA DRY ICE 3M PROBE 500G Sodium Phosphate Dibasic Heptahydra Filter, Millipack-60, 0.45 um Non-Catalog Extansion for Media Change [ASL1] L-TRYPTOPHAN FF, USP/EP/JP MVP Outlet Manifold Base Manifold 125mL MVP Inlet Manifold (QF) MIXER 3000L PALL CUBICAL MIXER 2000L PALL CUBICAL ILC pH PROBE NON-CATALOG Bag 500mL Small Flexboy Lu L-HISTIDINE HCL FF - EP/JP DR NON-CATALOG Bag 2L Small Flexboy Luer CAPTO MMC RESIN Non-Catalog CAT4 Optiscale Durapore 0. Tubing, Puriflex Size 16 Masterflex, Non CLARISOLVE 60μm POD DEPTH FILTER 0.55m^2 SODIUM ACETATE TRIHYDRATE FF USP/EP/JP SODIUM CHLORIDE FF USP/EP/JP TRACE ELEMENT B 1000X TLV1 Trace Element E 1000x TLV1 CELLVENTO MODIFEED PRIME COMP FRACTOGEL EMD TMAE Hicap (M) RESIN AKTApilot pH electrode L-CYSTINE DIHYDROCHLORIDE TVL1 SPERMINE TETRAHYDROCHLORIDE- TLV1 F30 LOW B12 NO HYDROCORTISONE-TLV1 IRON (II)SULFATE HEPTAHYDRATE CRYST-TLV1 IRON (II)SULFATE HEPTAHYDRATE CRYST-TLV1 GLUTATHIONE-TLV1 Filter, Sartofluor, 0.2um, Sterile, 0.2 L-SERINE USP/EP-TLV1 L-VALINE, USP/EP-TLV1 R34 LOW B12 MEDIA-TLV1 R37 NO HYDROCORTISONE-TLV1 GS2-N LOW B12 NO HYDROCORT-TLV1 NON-CATALOG CAT4 Autoclavable Breather POLY VINYL ALCOHOL-TLV1 L-AsparticAcid MonosodiumSaltHydrateTLV1 PELLICON 3 ULTRACEL 10KPA CSCREEN 1.14M2 L-TYROSINE, DISODIUM-TLV1 GLYCINE HYDROCHLORIDE-TLV1 INSULIN, RECOMBINANT HUMAN NON-CATALOG Bag Mobius Gold 50L PF Mix OPUS COLUMN TOSOH TOYOPEARL 25X10 Vaprox 59 Hydrogen Peroxide Sterilant OPUS Pre-Packed Column TMAE HiCap Tubes 1.5mL \n",
            "\n",
            "\n",
            "\n",
            "Eppendorf Protein Lobind Mic Non-Catalog Multiplate 48-Well PCR Pla OPUS Pre-Packed Column MabSelect SuRe LX Sodium Chloride, Granular USP/EP/JP 12kg KOLLIPHOR P188, BIO, FF, USP/EP GEN2 CELSIUS 12L FFT HUMAN RECOMBINANT INSULIN 5MG/ML HUMAN RECOMBINANT INSULIN 5MG/ML 55 GALLON CLOSED - TOP BARRELS 55 GALLON CLOSED - TOP BARRELS PUTRESCINE DIHYDROCHLORIDE CELLUFINE MAX GS OPUS PRE-PACK COLUMN OPUS PRE-PACKED CAPTO MMC COLUMN OPUS PRE-PACKED AMSPHERE COLUMN OPUS PRE-PACKED CAPTO ADHERE COLUMN CELLUFINE MAX Q-H OPUS PRE-PACK COLUMN KANEKA KANCAPA OPUS PRE-PACK COLUMN 125ML SAMPLING BOTTLE MANIFOLD Filter, Midisart 2000 Venting Unit 25pk 60ML SAMPLING BOTTLE MANIFOLD B-GLYCEROPHOS DISODIUM SALT HYDRATE-TLV1 ETHANOLAMINE HCL-TLV1 Kleenpak Nova Supor UEAV 0,2 m TUBING-CFLEX 3/8' ID x 5/8\" OD [DR] POLY 80; USP/EP/JP;FF Mustang Q XT5 (5ml) capsule 5L Retentate Assembly Tubing, L/S 16 Masterflex Platinum-cured Tubing, I/P 73 Masterflex Platinum-cured Tubing, I/P 82 Masterflex Platinum-cured OPUS PP Column MS PrismA 59.9x20cm OPUS PP COLUMN POROS XQ, 45.7*20CM EZ BIOPAC 10L BAG 4 INCH WELOC, GAMMA pH Washers PCO2 Washers BioProfile Flex 2 Syringe Bioprofile FLEX 2 Chemistry Calibrator a pH/Gas Module Tubing Harness S-Line Probe Assembly pH/Gas Auto QC Cartridge Chemistry Auto QC Cartridge pH/Gas MicroSensor Card HV (425 samples) ChemistryMicroSensorCard HV (550Samples) EFlex 2 Flush Fixture 2 Port Bioprofile Flex2 pH/Gas Calibration Cart Chemistry Calibrator and Reagent Cartrid CAL STANDARDS 100 + 900 OSM48 FLEX2 EZ BioPac 4 in to 3 in reducer, Gamma EZ BIOPAC 10L BAG 3 INCH WELOC, GAMMA Sucrose, NF, EP, JP, High Purity, Low En NON-CATALOG Pure Water Density Standar Filter, Kleenpak Mini Emflon II, Sterile Orion™ Conductivity Standards, Solutions NON-CATALOG Medium Hink'S Tnm-Fh (1L) Clipster Aseptic Disconnector size S VWR Maximum Protection Lab Coats - 4XL Sensor, Pressure, PendoTECH Single Use Concentric Reducer 1 1/2\" x 3/4\" mini Sa NON-CATALOG Liner Pall PD2 5L 2\" Sanit NON-CATALOG Liner Pall PD2 5 L 4\" Sani Kleenpak Presto Sterile 1/2\" Connector BRAMMER ITR2 FORWARD PRIME BRAMMER ITR2 REVERSE PRIME Brammer ITR2 Probe Connector, AsepticQuik G 3/8\" HB Connector, AsepticQuik G 1/2\" HB Primer, E1A Forward Primer, E1A Reverse CITRIC ACID MONOHYDRATE USP/EP FF Filter, Millipak 100, 0.22 Bag 1000L Pall Allegro Single Use System CELSIUS BAG SAMPLE COVER 12L OPUS PP Column POROS 50HQ 30x20cm AQG STC CONNCT 3/4\" x 1 1/2\" SANI HIGH T CDM4MAB LIQUID MED WITHOUT L-GLUTAMINE Filter, Opticap XL5 Durapore Capsule NON-CATALOG Filter Pall Supor EKV 0.2u Non-Catalog Bag Flexboy 1L w/C Flex Ou Bottle Assembly System, 60mL BioSimplex Bottle Assembly System, 125mL BioSimplex Bottle Assembly System, 250mL BioSimplex Bottle Assembly System, 500mL BioSimplex Bottle Assembly System, 1 L BioSimplex Bottle Assembly System, 2 L BioSimplex Filter, Sartobran P MaxiCap Sterile Caps NON-CATALOG Seal 20FO LQ TE (6-B) 3767 SPOR-KLENZ RTU Spor-Klenz RTU 4x850mL Plastic Bottles' metadata={'source': '/content/text_data.docx'}\n"
          ]
        }
      ],
      "source": [
        "from langchain_community.document_loaders import UnstructuredWordDocumentLoader\n",
        "\n",
        "# Initialize the document loader\n",
        "loader = UnstructuredWordDocumentLoader(\"/content/text_data.docx\")\n",
        "\n",
        "# Load the document\n",
        "docs = loader.load()\n",
        "\n",
        "# Print the number of documents\n",
        "print(f\"Document Count: {len(docs)}\\n\")\n",
        "\n",
        "# Print the type of the loader\n",
        "print(f\"Type of loader: {type(loader)}\\n\")\n",
        "\n",
        "# Print the metadata of the document\n",
        "print(f\"Document Metadata: {docs[0].metadata}\\n\")\n",
        "\n",
        "# Note: The entire docx file is converted into a single document.\n",
        "# It needs to be split into smaller parts using a text splitter.\n",
        "print(\"Document Content\")\n",
        "print(docs[0])"
      ]
    },
    {
      "cell_type": "markdown",
      "id": "2f25678c-9318-493a-93b9-8faf0a3800da",
      "metadata": {
        "id": "2f25678c-9318-493a-93b9-8faf0a3800da"
      },
      "source": [
        "### mode: elements\n",
        "\n",
        "\n",
        "The document is divided into individual elements, such as Title and NarrativeText. Each element is returned as a separate Document object, allowing for more detailed analysis or processing of the document's structure."
      ]
    },
    {
      "cell_type": "code",
      "execution_count": 1,
      "id": "9e7e773c-8eb8-445b-87b9-6f1a042ff67e",
      "metadata": {
        "scrolled": true,
        "colab": {
          "base_uri": "https://localhost:8080/"
        },
        "id": "9e7e773c-8eb8-445b-87b9-6f1a042ff67e",
        "outputId": "2836f832-740d-4a86-e0b1-7eb84cea7a58"
      },
      "outputs": [
        {
          "output_type": "stream",
          "name": "stdout",
          "text": [
            "Document Count: 7\n",
            "\n",
            "Type of loader: <class 'langchain_community.document_loaders.word_document.UnstructuredWordDocumentLoader'>\n",
            "\n",
            "Document Metadata: {'source': '/content/text_data.docx', 'category_depth': 0, 'file_directory': '/content', 'filename': 'text_data.docx', 'last_modified': '2025-02-27T08:57:08', 'page_number': 1, 'languages': ['eng'], 'filetype': 'application/vnd.openxmlformats-officedocument.wordprocessingml.document', 'category': 'NarrativeText', 'element_id': '86094d379d5752796dc6927ec33cce34'}\n",
            "\n",
            "Document Content\n",
            "[Document(metadata={'source': '/content/text_data.docx', 'category_depth': 0, 'file_directory': '/content', 'filename': 'text_data.docx', 'last_modified': '2025-02-27T08:57:08', 'page_number': 1, 'languages': ['eng'], 'filetype': 'application/vnd.openxmlformats-officedocument.wordprocessingml.document', 'category': 'NarrativeText', 'element_id': '86094d379d5752796dc6927ec33cce34'}, page_content='KLERCIDE 70/30 STERILE IPA SPRAY 1LX6/pk KLERCIDE 70/30 STERILE IPA SPRAY 1LX6/pk SEROLOGICAL PIPETTES 25mL CORNING 250mL STERILE CONTAINERS CORNING 125mL STERILE CONTAINERS R2A MEDIUM 10 PLATES SHARPS BIN SQUARE 4.5L SHARPS BIN SQUARE 4.5L SHARPS BIN SQUARE 12.5L SHARPS BIN SQUARE 12.5L sodium hydrogen carbonate ENDOSAFE PTS CARTIDGE, 0.05-5.0EU/mL ENDOSAFE PTS CARTIDGE, 0.01-1.0 EU/mL CARBON DIOXIDE MEDICAL G SIZE Not Provided ACETIC ACID GLACIAL DRW CITRIC ACID MONOHYDRATE DRW SODIUM ACETATE TRIHYDRATE DRW SODIUM ACETATE TRIHYDRATE DRW Sodium Hydroxide Pellets DRW SODIUM PHOSPHATE DIBASIC DIHYDRATE DRW Sodium Chloride DRW RESIN CAPTO Q AKTA READY GRADIENT HIGH FLOW SECTION SUCROSE (FF) NON-CATALOG Medium Dulbecco\\'s Modified SENSOR IRRADIATED SINGLE USE - 1\" Tubing, Silicone Platinum-cured size 16 Tubing, Silicone (Platinum-cured), NON-CATALOG Cartridges Endosafe PTS/MC BAG ASSEMBLY, 500L MIXING W/REINFORCED DOUBLE PUMP LINE L24 COLUMN PREPACKED POROS 50HS - DRW Hemostats, Sterile, Double Pouched 5.5\" Scissors, Double Pouched, Sterile 5.5\" N Vial, Crystal Zenith, 2mL, E-Beam Irrad Vial, Crystal Zenith, 5mL, E-Beam Irrad Vial, Crystal Zenith, 10mL, E-Beam Irrad FILTER VIRAL PLANOVA BIOEX 1.0 M2 GALACTOSE, PLANT-DERIVED-DR STEP DOWN LINE W/DAC FILTER ASSEMBLY DOUBLE XLT10 0.4/0.22 Connector, 3/8\" Coupling Body (250 pk) Connector, 3/8\" Coupling Body (250 pk) Y-SAMPLING ASSEMBLY 10% ADCF Antifoam Solution Irradiated T84 Chemical Resistant Resin Ribbon Chemical Resistant Polyester Labels Libero Temperature Logger - Drew Farusa Shipment Box - Drew MED - Cellca Choko Feed Medium A MED - Cellca Choko Feed Medium B MED - Cellca Choko Production Medium Laser Cryo-Tags 1.69x0.75\", 1040/pk, Whi MEDIUM CELLCA CHOKO PRECULTURE Diaphragm - Radial 0.5\" EPDM ASEPCO Diaphragm - DN10 EPDM HPV-AQ Hydrogen Peroxide Solution, 5L Kit, ELISA, Insect Cell Host Cell Protei Reagent, Bovine Serum Albumin-30% in DPB Standard, SF9, HCP Antigen Concentrate Cable Tie, 3.9 In, Black, Pk100 Filter Opticap XLT20 Durapore 0.1µm Cable Tie, 7.9 In, Black, Pk100 Cable Tie, 11 In, Natural, Pk100 Filter Millistak+ HC ProPod XOSP, 1.1m2 Filter Millistak+ HC ProPod DOSP, 0.77m2 Filter Millistak+ HC ProPod DOSP, 0.77m2 ASSEMBLY JUMPER 4 DAC MANIFOLD Hose Clamp, Turn Key, SS 1/2\" x 1-1/4\" Hose Clamp, Turn Key, SS 1/4\" x 5/8\" Anit-Fog Spray, BioClean BAFS-601 Clipster Aseptic Disconnector Size XS NON-CATALOG Filter Sterile CultiBag ST ReadyMate DAC 500 1/2\" barb, 10pk Sensor - Sumoflo, 1\" TC, Mass, Gamma Irr Sensor - Sumoflo, 1\" TC, Mass, Gamma Irr Media, BioCapt Single-Use, Tryptone Soya SCD Wafers SARTOBIND STIC PA AE MEMBRANE TRIS HCL TRIS HCL SORBITOL \"FF\" SORBITOL \"FF\" Long R3IGF-I Sartopure GF Plus 30\" Sodium Acetate Anhydrous Disodium Hydrogen Phosphate Dodechyd Filter Unit Bottletop 500mL Nylon, Ster. BalanCD CHO Growth A, 1L Liquid L-Glutamic Acid SODIUM HYDROXIDE PELLETS L-METHIONINE FF DR-1 Sodium Sulphate - DR1 Succinic Acid Crystal FF Sodium Dihyd Phosphate MonoHydrate Di-SodiumHydrogenPhospHeptahydrate - DR1 D(+) - Glucose anhydrous - DR1 FILTER 30\" Supor EX ECV 1L PET PHARMATAINER Poloxamer 188 Expert Cell Culture Optimi L-Alanyl -L-Glutamine XCell ATF 10 Single Use Tube Set Kit XCell ATF 10 SingleUse .2Um PES Hollow FILTER OPTICAP XLT20\" Capsule Durapore FILTER OPTICAP XLT30\" Capsule Durapore DI-SODIUM HYDROGEN PHOSPHATE DIHYDRATE Filter Sartopore 2 XLG Sz 2 1.5\" Tri-Cla Filter, 50-mL Steriflip Sodium Succinate Anhydrous ZW1 (FF) BAG BIOREACTOR XDR-500 CUSTOM Perfusion Manifold Kit StaxDistributionPlates1 1/2 Filter Planova 35N 0.3m� Filter Planova 35N 0.12m� NON-CATALOG Stopper B2-40 RUV 20mm Stopper, B2-40 RUV 13mm Vial, Crystal Zenith, 0.5mL, E-Beam Irra NON-CATALOG Seal 13FOLQLGTE 13mm/2925 NON-CATALOG Seal 20FOLQTE 20mm/2925 Bl BAG Assembly, 50L Mixing w/ AQG Fitting BAG Assembly, 100L Mixing w/ AQG Fitting BAG Assembly, 200L Mixing w/ AQG Fitting BAG Assembly, 500L Mixing w/ AQG Fitting BAG Assembly,1000L Mixing w/ AQG Fitting FILTER OPTICAP XL10 ASEPTIC CON&MANIFOLD Filter Viresolve Pro Magnus 2.1 Shield H Column Prepacked - OPUS POROS HS50 - ZW1 Column Prepacked-OPUS Mabselect Sure ZW1 Column Prepacked - OPUS POROS HQ50 - ZW1 COLUMN PREPACKED POROS 80CM 50HS Manganese Sulfate Monohydrate ZW1 SENSOR - Visiferm DO ECS 225 HO(Optical) FRAME PAK CELSIUS 16.6 L Media '), Document(metadata={'source': '/content/text_data.docx', 'languages': ['eng'], 'file_directory': '/content', 'filename': 'text_data.docx', 'filetype': 'application/vnd.openxmlformats-officedocument.wordprocessingml.document', 'category': 'PageBreak', 'element_id': '6668ced28af4493f9333a7917bae80a0'}, page_content=''), Document(metadata={'source': '/content/text_data.docx', 'category_depth': 0, 'file_directory': '/content', 'filename': 'text_data.docx', 'last_modified': '2025-02-27T08:57:08', 'page_number': 2, 'languages': ['eng'], 'filetype': 'application/vnd.openxmlformats-officedocument.wordprocessingml.document', 'category': 'NarrativeText', 'element_id': 'b504260d58b6a7f82ba8eb4ebbff2dd1'}, page_content='BalanCD CHO Growth A Powder BOTTLE - 20L Mixing Vessel Water, LAL Reagent, 30mL Tubing Manifold, Charter Medical, 21 x 2 MVP VF Viresolve Pump Head MVP VF Viresolve Filter Manifold MVP VF Viresolve Outlet Manifold MVP VF Viresolve Feed Manifold MVP VF Viresolve Jumper Manifold BAG PAK CELSIUS 2 L FIlter, Millipak, 0.22um Sterile, 200 9/ Aseptiquick G, Bod, 3/4\", High T Aseptiquick G, Bod, 1/2\", High T Aseptiquick G, Bod, 3/8\", High T Non-Catalog Disposable Non-Woven Steri NON-CATALOG Disp. Non-Woven Sterile Co Disp. Non-Woven Sterile Coverall, 4 XL Disp. Non-Woven Sterile Coverall, XL Disp. Non-Woven Sterile Coverall, LG Disp. Non-Woven Sterile Coverall, MED AKTA Ready Low Flow Kit Tube Asem - Sta-Pure Loadsure 19mm ID Gasket - UF/DF Membrane NON-CATALOG Filter Millipore 3P Millif Sight Glass - Oring NON-CATALOG Bottles Spray Sterile 16oz BAG-SUB 20L Cellbag BPC Bioclear 10w/AQG BAG-SUB 2L Cellbag BPC Bioclear 11 w/AQG BAG-SUB 10L Cellbag BPC Bioclear 11w/AQG BAG-SUB 20L Cellbag BPC Bioclear 11w/AQG BAG-SUB 50L Cellbag BPC Bioclear 11w/AQG BAG - 2000L SUM ASI w/AQG NON-CATALOG CAT4 Donkey Anti-Rabbit Ig Medium 1L Dulbecco\\'s Modified Eagle 1X L ViaCheck 100% Viability Cnt Single Shots Sensor, SciPres Pressure, Disposable, St SUB - 50L XDR Custom w/ AQG SUB - 500L XDR Custom w/ AQG SUB - 2000L XDR Custom w/ AQG Pipets Tips, 20uL, Rainin Pipets Tips, 200uL, Rainin Pipets Tips, 300uL, Rainin Non-Catalog Pipets Tips, 1000uL, Raini Test, Asahi Gold Particle, Medium Test, Asahi Gold Particle, Small DR - 10N Sodium Hydroxide Proteinase K, 10mL L-Histidine (FF) - DR NON-CATALOG Trash Bags Clear 38\"x38\" 2 Tubing Assy, Segment, 8ft. with V-Shaped Tubing Assy, MPC Body Filtration (6.4mm Tubing Assy, MPX Insert Upstream, Platin PH Probe - DSP Skid VWR CryoPro Fiberboard Storage Boxes and Actipro without Iron - DR2 5 Branch Fill Manifold 1/2\"ID CPAK AQG Non-Catalog Sensor, SciPres Pressure, Kit, Elisa, PRAAV9 Titration NON-CATALOG Swiffer WetJet Refills AMMONIUM CHLORIDE PELLICON 2 MAXI ULTRAFILTRATION MODULE Actipro, Dry Powder Medium, ADCF Air Detector Assembly (BP 100 + 300/400) NON-CATALOG VWR Frock Irradiated 4X-La Pottasium Sensor Bioprofile 400 Reagent Pack Bioprofile Control Level 4 -30/Box Bioprofile Control Level 3 -30/Box Bioprofile Control Level 1 - 30/Box NON-CATALOG Swiffer Sweeper Cleaning S Bioprofile Control Level 2 - 30/Box Reference Sensor (BP 100 / 400 Series) PH Sensor (200 / 250 / 400 Series) PO2 Sensor PO2 Pre Filled Membrane Cap kit - 6/Box Sodium Sensor (BP 100+/300/400 Series) Ammonium Sensor (BP 100+/300/400 Series) Locate Sensor(BP100/+/300/400 BASIC SER) Glucose Membrane Kit - 3/Box Glutamine Sensor (BP100 /+ 400 Basic) Bag, XRS 20L Biocontainer, Pall Glutamine Membrane Kit - 3/Box Glutamate Sensor (BP100 /+/400 Basic) Glutamate Membrane Kit - 3/Box Bioprofile Control Level 5 - 30/Box Sodium Caprylate Lactate Membrane Kit - 3/box PC02 Prefilled Membrane Kit - 3/Kit PC02 Sensor High Temp Kleenpak Male Connector 3/8\" CPAK 16.6L AQG Vial, EZ-Fill 2R Glass, 3mL Schott Glass Rupture Disk - 2\" - Ohm Rupture Disk - 1.5\" - Ohm Vial, EZ-Fill, 10R Glass, 10mL NON-CATALOG Rodac Plate TSA w/ Lecithi TRIS Hydrochloride Biotech Reagent 500g Bioprofile Flex/Flex2 FlushFixture 6Port Bioprofile Flex/Flex2 FlushFixture 4Port Bioprofile Flex2 Chemistry Refrnc Sensor Osm 48 Microtubes BioProfile Flex2 Bioprofile Flex2 pH/Gas MicroSnsr CardLV Tubing MFlex C-Flex #73 25 ft Bioprofil Flex2 Chemist MicroSnsr CardLV Bioprofile Flex2 pH/Gas Reference Sensor NON-CATALOG TSA 3P-Lombard LockSure (1 Bioprofile Flex2 pH/Gas Deproteiniz Card Bprofile Flex2 Chemistr Mod Deprot Card 4-Way Fill it Tube Set Optical Probe Tip Sodium Chloride, Granular, USP 500g Tromethamine U.S.P. 500g Multi-Compendia Tubing-MSTRFLX Puriflx size91- 3/4x1-1/4 Sodium Phosphate Dibasic Anhydrous 500g DIMETHYL SULFOXIDE DMSO Bellow, Allegro STR Probes Supplement, Kolliphor P 188, Bio, 5 kg Sodium Bicarbonate, Powder, USP 2.5kg Celsius FFT Clip Tube Holder 100mL Disposable Square Weighing Boats FILTER Super ECV 30 PES0.45/0.2 UM w/AQG Fltr Supr ECV30PES0.45/0.2UMAutoclavable BRX-1w/o L-Glutaminew/o SodiumBicarb-EU1 MACH-1 w/o L-Glutamne w/o NAHCO3-EU1 Mixer - 2500L Pall Allegro Mixer - 2000L Pall Allegro Transducer, Pressure SU Spectrum TFF Temptale - Mendel Transducer 1/2\" Pressure SU Spectrum TFF Trehalose Dihydrate FF Temptale Ultra Dry Ice Temptale Ultra 16K MES Sodium Salt Ortho-Phosphoric Acid 85% - FF Men Protein, Baculovirus, VP39 Zeta Plus SP Filter '), Document(metadata={'source': '/content/text_data.docx', 'languages': ['eng'], 'file_directory': '/content', 'filename': 'text_data.docx', 'filetype': 'application/vnd.openxmlformats-officedocument.wordprocessingml.document', 'category': 'PageBreak', 'element_id': '6668ced28af4493f9333a7917bae80a0'}, page_content=''), Document(metadata={'source': '/content/text_data.docx', 'category_depth': 0, 'file_directory': '/content', 'filename': 'text_data.docx', 'last_modified': '2025-02-27T08:57:08', 'page_number': 3, 'languages': ['eng'], 'filetype': 'application/vnd.openxmlformats-officedocument.wordprocessingml.document', 'category': 'NarrativeText', 'element_id': '69b819d4466c05e730c8bd8336338dea'}, page_content='SODIUM BICARBONATE Streptavidin/HRP 1mL L-Arginine(FF) - Mendel L-Arginine(FF) - Mendel Cryogenic Sterile Vial Q Sepharose XL Primer, Reverse, Saturn V Factor 8 BioWelder TC blades (Non-RMS) Buffer Solution, PH 1.68 SZ1 Pro A Column Filter XL4 Durapore 0.1 μM Stir Bar PVDF Gamma Irradiated 10 x 38mm Flexifit Bio In/Out O-Ring Kit Pellicon3 Ultracell 30kDa DScreen 1.14m2 13mm Serum Stoppers, SBB bag 20mm Serum Stoppers, SBB bag XS - 11 Medium XJEM Ex - Cell 302 (modified) XJEM Feed Zeta Plus Capsule Assembly 16\"-05SP01A Zeta Plus Capsule Assembly EZP7 Cell Bis-Tris Propane, Pharmagrade 1KG Potassium Chloride, Crystal, U.S.P, 500G Sensor pCo2 InPro 50001/12/220 Sodium dihydrogen phosphate dihydrate Peek Bushings - 500L SS Reactor NON-CATALOG Tryp. Soy Broth 10L Stir Bar PVDF Gamma Irradiated 10 x 80mm Tube Centrifuge 50ml Sterile - 4 COLUMN PP MABSELECT SURE 80CM Sampling Asmbly-2x50mLPP&2x15mL PS Tubes AAV2 Titration ELISA Kit EPDM Black O-Ring 16.25\"0.275\" EPDM Black O-Ring 20.25\"*0.275\" EPDM Black O-Ring 18\" Probe Cell Density - ABER Bag, 200L STR Jacketed Biocontainer Pall Beaker, Sterile, 1L Beaker, Sterile, 4L Beaker, Sterile, 600mL Beaker, Sterile, 2L Graduated Cylinder, Sterile, 1L Tube 15ml Polystyrene Sterile Graduated Cylinder, Sterile, 4L BIOTAINR 10L PC W/SILICONE LINE CAP IRR Cartridges, DG32 Automated Droplet Gener System Suitability set- At line TOC Pierceable Foil Heat Seal Actipro Liquid Medium ddPCR� Supermix for Probes (No dUTP) Connector, Kleenpak HT, 9.6mm HB Male Connector, Kleenpak HT, 13mm HB Male 1.5\" SAN ASEPT X INSERT HT AKTA Ready XL Flow Kit 3/4 In 3/4 In Gradient Section ,AKTA Ready XL Automated Droplet Generation Oil for Pro Droplet Reader Oil Pipet Tips for the AutoDG System Steris VHP Chemical Indicators Steris VHP Biological Indicators NA333 Pall 1000L Allegro Mixer Bag Pall 200L Allegro Mixer Bag Pall 500L Allegra Mixer Bag Pall 100L Allegro Mixer Bag Settling Plate (120 Plates) ICR/ICR Plus Vesta-Syde SQ Tri-Clamp, Plastic, 1.5\" Tri-Clamp, Plastic 3/4� Tri-Clamp, Plastic, 1.5\" Tri-Clamp, Plastic 3/4� Filling Assembly #1, Production Unit Acetic Acid Glacial USP FCC 500mL SIUS Proscreen 30kDA EP screen 2.5 Tris HCl - Avantor Only Antibody, Anti-AAV, VP1/VP2/VP3 (B1) BOTTLE PETG 500 ML STERILE *NON-CATALOG Simple Green Cleaner 1 gal Amsphere A3 Resin Non-Catalog PureFit TC Tubing Clamp 3/ Sensor, SciPres Pressure 3/8\" Barb Dispo GS SUPPLEMENT 50X EX-CELL ADVANCED CHO POWDER MEDIUM PELICON 3 BIOMAX 30kDa D-SCREEN 1.14m2 L-Asparagine Monohydrate-TLV1 Sample Diluent Buffer for HCP 500mL TOYOPEARL NH2-750F RESIN OPUS PREPACKED COLUMN POROS XQ 79.9X20 Sodium Chloride 500g USP, EP/BP,JP Granu Sodium Phosphate Dibasic Heptahydrate, 13mm Flip-Off CCS Seal, Blue 20mm Flip-Off CCS Seal, Blue KLEENPAK NOVA PROFILE II 30\\' 0.5um HEPES SODIUM SALT Filtration/Filling Assembly 2L 1.6mm ID TEMPTALE ULTRA DRY ICE 3M PROBE 500G Sodium Phosphate Dibasic Heptahydra Filter, Millipack-60, 0.45 um Non-Catalog Extansion for Media Change [ASL1] L-TRYPTOPHAN FF, USP/EP/JP MVP Outlet Manifold Base Manifold 125mL MVP Inlet Manifold (QF) MIXER 3000L PALL CUBICAL MIXER 2000L PALL CUBICAL ILC pH PROBE NON-CATALOG Bag 500mL Small Flexboy Lu L-HISTIDINE HCL FF - EP/JP DR NON-CATALOG Bag 2L Small Flexboy Luer CAPTO MMC RESIN Non-Catalog CAT4 Optiscale Durapore 0. Tubing, Puriflex Size 16 Masterflex, Non CLARISOLVE 60μm POD DEPTH FILTER 0.55m^2 SODIUM ACETATE TRIHYDRATE FF USP/EP/JP SODIUM CHLORIDE FF USP/EP/JP TRACE ELEMENT B 1000X TLV1 Trace Element E 1000x TLV1 CELLVENTO MODIFEED PRIME COMP FRACTOGEL EMD TMAE Hicap (M) RESIN AKTApilot pH electrode L-CYSTINE DIHYDROCHLORIDE TVL1 SPERMINE TETRAHYDROCHLORIDE- TLV1 F30 LOW B12 NO HYDROCORTISONE-TLV1 IRON (II)SULFATE HEPTAHYDRATE CRYST-TLV1 IRON (II)SULFATE HEPTAHYDRATE CRYST-TLV1 GLUTATHIONE-TLV1 Filter, Sartofluor, 0.2um, Sterile, 0.2 L-SERINE USP/EP-TLV1 L-VALINE, USP/EP-TLV1 R34 LOW B12 MEDIA-TLV1 R37 NO HYDROCORTISONE-TLV1 GS2-N LOW B12 NO HYDROCORT-TLV1 NON-CATALOG CAT4 Autoclavable Breather POLY VINYL ALCOHOL-TLV1 L-AsparticAcid MonosodiumSaltHydrateTLV1 PELLICON 3 ULTRACEL 10KPA CSCREEN 1.14M2 L-TYROSINE, DISODIUM-TLV1 GLYCINE HYDROCHLORIDE-TLV1 INSULIN, RECOMBINANT HUMAN NON-CATALOG Bag Mobius Gold 50L PF Mix OPUS COLUMN TOSOH TOYOPEARL 25X10 Vaprox 59 Hydrogen Peroxide Sterilant OPUS Pre-Packed Column TMAE HiCap Tubes 1.5mL '), Document(metadata={'source': '/content/text_data.docx', 'languages': ['eng'], 'file_directory': '/content', 'filename': 'text_data.docx', 'filetype': 'application/vnd.openxmlformats-officedocument.wordprocessingml.document', 'category': 'PageBreak', 'element_id': '6668ced28af4493f9333a7917bae80a0'}, page_content=''), Document(metadata={'source': '/content/text_data.docx', 'category_depth': 0, 'file_directory': '/content', 'filename': 'text_data.docx', 'last_modified': '2025-02-27T08:57:08', 'page_number': 4, 'languages': ['eng'], 'filetype': 'application/vnd.openxmlformats-officedocument.wordprocessingml.document', 'category': 'UncategorizedText', 'element_id': '3c7e7f82e0e19a5c7634b8cbc7a86ba1'}, page_content='Eppendorf Protein Lobind Mic Non-Catalog Multiplate 48-Well PCR Pla OPUS Pre-Packed Column MabSelect SuRe LX Sodium Chloride, Granular USP/EP/JP 12kg KOLLIPHOR P188, BIO, FF, USP/EP GEN2 CELSIUS 12L FFT HUMAN RECOMBINANT INSULIN 5MG/ML HUMAN RECOMBINANT INSULIN 5MG/ML 55 GALLON CLOSED - TOP BARRELS 55 GALLON CLOSED - TOP BARRELS PUTRESCINE DIHYDROCHLORIDE CELLUFINE MAX GS OPUS PRE-PACK COLUMN OPUS PRE-PACKED CAPTO MMC COLUMN OPUS PRE-PACKED AMSPHERE COLUMN OPUS PRE-PACKED CAPTO ADHERE COLUMN CELLUFINE MAX Q-H OPUS PRE-PACK COLUMN KANEKA KANCAPA OPUS PRE-PACK COLUMN 125ML SAMPLING BOTTLE MANIFOLD Filter, Midisart 2000 Venting Unit 25pk 60ML SAMPLING BOTTLE MANIFOLD B-GLYCEROPHOS DISODIUM SALT HYDRATE-TLV1 ETHANOLAMINE HCL-TLV1 Kleenpak Nova Supor UEAV 0,2 m TUBING-CFLEX 3/8\\' ID x 5/8\" OD [DR] POLY 80; USP/EP/JP;FF Mustang Q XT5 (5ml) capsule 5L Retentate Assembly Tubing, L/S 16 Masterflex Platinum-cured Tubing, I/P 73 Masterflex Platinum-cured Tubing, I/P 82 Masterflex Platinum-cured OPUS PP Column MS PrismA 59.9x20cm OPUS PP COLUMN POROS XQ, 45.7*20CM EZ BIOPAC 10L BAG 4 INCH WELOC, GAMMA pH Washers PCO2 Washers BioProfile Flex 2 Syringe Bioprofile FLEX 2 Chemistry Calibrator a pH/Gas Module Tubing Harness S-Line Probe Assembly pH/Gas Auto QC Cartridge Chemistry Auto QC Cartridge pH/Gas MicroSensor Card HV (425 samples) ChemistryMicroSensorCard HV (550Samples) EFlex 2 Flush Fixture 2 Port Bioprofile Flex2 pH/Gas Calibration Cart Chemistry Calibrator and Reagent Cartrid CAL STANDARDS 100 + 900 OSM48 FLEX2 EZ BioPac 4 in to 3 in reducer, Gamma EZ BIOPAC 10L BAG 3 INCH WELOC, GAMMA Sucrose, NF, EP, JP, High Purity, Low En NON-CATALOG Pure Water Density Standar Filter, Kleenpak Mini Emflon II, Sterile Orion™ Conductivity Standards, Solutions NON-CATALOG Medium Hink\\'S Tnm-Fh (1L) Clipster Aseptic Disconnector size S VWR Maximum Protection Lab Coats - 4XL Sensor, Pressure, PendoTECH Single Use Concentric Reducer 1 1/2\" x 3/4\" mini Sa NON-CATALOG Liner Pall PD2 5L 2\" Sanit NON-CATALOG Liner Pall PD2 5 L 4\" Sani Kleenpak Presto Sterile 1/2\" Connector BRAMMER ITR2 FORWARD PRIME BRAMMER ITR2 REVERSE PRIME Brammer ITR2 Probe Connector, AsepticQuik G 3/8\" HB Connector, AsepticQuik G 1/2\" HB Primer, E1A Forward Primer, E1A Reverse CITRIC ACID MONOHYDRATE USP/EP FF Filter, Millipak 100, 0.22 Bag 1000L Pall Allegro Single Use System CELSIUS BAG SAMPLE COVER 12L OPUS PP Column POROS 50HQ 30x20cm AQG STC CONNCT 3/4\" x 1 1/2\" SANI HIGH T CDM4MAB LIQUID MED WITHOUT L-GLUTAMINE Filter, Opticap XL5 Durapore Capsule NON-CATALOG Filter Pall Supor EKV 0.2u Non-Catalog Bag Flexboy 1L w/C Flex Ou Bottle Assembly System, 60mL BioSimplex Bottle Assembly System, 125mL BioSimplex Bottle Assembly System, 250mL BioSimplex Bottle Assembly System, 500mL BioSimplex Bottle Assembly System, 1 L BioSimplex Bottle Assembly System, 2 L BioSimplex Filter, Sartobran P MaxiCap Sterile Caps NON-CATALOG Seal 20FO LQ TE (6-B) 3767 SPOR-KLENZ RTU Spor-Klenz RTU 4x850mL Plastic Bottles')]\n"
          ]
        }
      ],
      "source": [
        "from langchain_community.document_loaders import UnstructuredWordDocumentLoader\n",
        "\n",
        "# Initialize the document loader with \"elements\" mode\n",
        "loader = UnstructuredWordDocumentLoader(\n",
        "    \"/content/text_data.docx\", mode=\"elements\"\n",
        ")\n",
        "\n",
        "# Load the document\n",
        "docs = loader.load()\n",
        "\n",
        "# Print the number of documents\n",
        "print(\n",
        "    f\"Document Count: {len(docs)}\\n\"\n",
        ")  # Using \"elements\" mode, each element is converted into a separate Document object\n",
        "\n",
        "# Print the type of the loader\n",
        "print(f\"Type of loader: {type(loader)}\\n\")\n",
        "\n",
        "# Print the metadata of the first document element\n",
        "print(f\"Document Metadata: {docs[0].metadata}\\n\")\n",
        "\n",
        "# Print the content of the first document element\n",
        "print(\"Document Content\")\n",
        "print(docs)"
      ]
    },
    {
      "cell_type": "code",
      "source": [
        "docs[2].page_content"
      ],
      "metadata": {
        "colab": {
          "base_uri": "https://localhost:8080/",
          "height": 162
        },
        "id": "kbZMMdH_o8BD",
        "outputId": "9cf049c4-28ce-445d-acb3-b833d8f70c00"
      },
      "id": "kbZMMdH_o8BD",
      "execution_count": 22,
      "outputs": [
        {
          "output_type": "execute_result",
          "data": {
            "text/plain": [
              "'BalanCD CHO Growth A Powder BOTTLE - 20L Mixing Vessel Water, LAL Reagent, 30mL Tubing Manifold, Charter Medical, 21 x 2 MVP VF Viresolve Pump Head MVP VF Viresolve Filter Manifold MVP VF Viresolve Outlet Manifold MVP VF Viresolve Feed Manifold MVP VF Viresolve Jumper Manifold BAG PAK CELSIUS 2 L FIlter, Millipak, 0.22um Sterile, 200 9/ Aseptiquick G, Bod, 3/4\", High T Aseptiquick G, Bod, 1/2\", High T Aseptiquick G, Bod, 3/8\", High T Non-Catalog Disposable Non-Woven Steri NON-CATALOG Disp. Non-Woven Sterile Co Disp. Non-Woven Sterile Coverall, 4 XL Disp. Non-Woven Sterile Coverall, XL Disp. Non-Woven Sterile Coverall, LG Disp. Non-Woven Sterile Coverall, MED AKTA Ready Low Flow Kit Tube Asem - Sta-Pure Loadsure 19mm ID Gasket - UF/DF Membrane NON-CATALOG Filter Millipore 3P Millif Sight Glass - Oring NON-CATALOG Bottles Spray Sterile 16oz BAG-SUB 20L Cellbag BPC Bioclear 10w/AQG BAG-SUB 2L Cellbag BPC Bioclear 11 w/AQG BAG-SUB 10L Cellbag BPC Bioclear 11w/AQG BAG-SUB 20L Cellbag BPC Bioclear 11w/AQG BAG-SUB 50L Cellbag BPC Bioclear 11w/AQG BAG - 2000L SUM ASI w/AQG NON-CATALOG CAT4 Donkey Anti-Rabbit Ig Medium 1L Dulbecco\\'s Modified Eagle 1X L ViaCheck 100% Viability Cnt Single Shots Sensor, SciPres Pressure, Disposable, St SUB - 50L XDR Custom w/ AQG SUB - 500L XDR Custom w/ AQG SUB - 2000L XDR Custom w/ AQG Pipets Tips, 20uL, Rainin Pipets Tips, 200uL, Rainin Pipets Tips, 300uL, Rainin Non-Catalog Pipets Tips, 1000uL, Raini Test, Asahi Gold Particle, Medium Test, Asahi Gold Particle, Small DR - 10N Sodium Hydroxide Proteinase K, 10mL L-Histidine (FF) - DR NON-CATALOG Trash Bags Clear 38\"x38\" 2 Tubing Assy, Segment, 8ft. with V-Shaped Tubing Assy, MPC Body Filtration (6.4mm Tubing Assy, MPX Insert Upstream, Platin PH Probe - DSP Skid VWR CryoPro Fiberboard Storage Boxes and Actipro without Iron - DR2 5 Branch Fill Manifold 1/2\"ID CPAK AQG Non-Catalog Sensor, SciPres Pressure, Kit, Elisa, PRAAV9 Titration NON-CATALOG Swiffer WetJet Refills AMMONIUM CHLORIDE PELLICON 2 MAXI ULTRAFILTRATION MODULE Actipro, Dry Powder Medium, ADCF Air Detector Assembly (BP 100 + 300/400) NON-CATALOG VWR Frock Irradiated 4X-La Pottasium Sensor Bioprofile 400 Reagent Pack Bioprofile Control Level 4 -30/Box Bioprofile Control Level 3 -30/Box Bioprofile Control Level 1 - 30/Box NON-CATALOG Swiffer Sweeper Cleaning S Bioprofile Control Level 2 - 30/Box Reference Sensor (BP 100 / 400 Series) PH Sensor (200 / 250 / 400 Series) PO2 Sensor PO2 Pre Filled Membrane Cap kit - 6/Box Sodium Sensor (BP 100+/300/400 Series) Ammonium Sensor (BP 100+/300/400 Series) Locate Sensor(BP100/+/300/400 BASIC SER) Glucose Membrane Kit - 3/Box Glutamine Sensor (BP100 /+ 400 Basic) Bag, XRS 20L Biocontainer, Pall Glutamine Membrane Kit - 3/Box Glutamate Sensor (BP100 /+/400 Basic) Glutamate Membrane Kit - 3/Box Bioprofile Control Level 5 - 30/Box Sodium Caprylate Lactate Membrane Kit - 3/box PC02 Prefilled Membrane Kit - 3/Kit PC02 Sensor High Temp Kleenpak Male Connector 3/8\" CPAK 16.6L AQG Vial, EZ-Fill 2R Glass, 3mL Schott Glass Rupture Disk - 2\" - Ohm Rupture Disk - 1.5\" - Ohm Vial, EZ-Fill, 10R Glass, 10mL NON-CATALOG Rodac Plate TSA w/ Lecithi TRIS Hydrochloride Biotech Reagent 500g Bioprofile Flex/Flex2 FlushFixture 6Port Bioprofile Flex/Flex2 FlushFixture 4Port Bioprofile Flex2 Chemistry Refrnc Sensor Osm 48 Microtubes BioProfile Flex2 Bioprofile Flex2 pH/Gas MicroSnsr CardLV Tubing MFlex C-Flex #73 25 ft Bioprofil Flex2 Chemist MicroSnsr CardLV Bioprofile Flex2 pH/Gas Reference Sensor NON-CATALOG TSA 3P-Lombard LockSure (1 Bioprofile Flex2 pH/Gas Deproteiniz Card Bprofile Flex2 Chemistr Mod Deprot Card 4-Way Fill it Tube Set Optical Probe Tip Sodium Chloride, Granular, USP 500g Tromethamine U.S.P. 500g Multi-Compendia Tubing-MSTRFLX Puriflx size91- 3/4x1-1/4 Sodium Phosphate Dibasic Anhydrous 500g DIMETHYL SULFOXIDE DMSO Bellow, Allegro STR Probes Supplement, Kolliphor P 188, Bio, 5 kg Sodium Bicarbonate, Powder, USP 2.5kg Celsius FFT Clip Tube Holder 100mL Disposable Square Weighing Boats FILTER Super ECV 30 PES0.45/0.2 UM w/AQG Fltr Supr ECV30PES0.45/0.2UMAutoclavable BRX-1w/o L-Glutaminew/o SodiumBicarb-EU1 MACH-1 w/o L-Glutamne w/o NAHCO3-EU1 Mixer - 2500L Pall Allegro Mixer - 2000L Pall Allegro Transducer, Pressure SU Spectrum TFF Temptale - Mendel Transducer 1/2\" Pressure SU Spectrum TFF Trehalose Dihydrate FF Temptale Ultra Dry Ice Temptale Ultra 16K MES Sodium Salt Ortho-Phosphoric Acid 85% - FF Men Protein, Baculovirus, VP39 Zeta Plus SP Filter '"
            ],
            "application/vnd.google.colaboratory.intrinsic+json": {
              "type": "string"
            }
          },
          "metadata": {},
          "execution_count": 22
        }
      ]
    },
    {
      "cell_type": "markdown",
      "id": "82f3edcf-e0cd-4bbd-a253-5d91038b3bd8",
      "metadata": {
        "id": "82f3edcf-e0cd-4bbd-a253-5d91038b3bd8"
      },
      "source": [
        "### Efficient Document Loader Configuration with Various Parameter Combinations\n",
        "\n",
        "By combining various parameters, you can configure a document loader that fits your specific needs efficiently. Adjusting settings such as `mode` , `strategy` , and `include_page_breaks` allows for tailored handling of different document structures and processing requirements.\n"
      ]
    },
    {
      "cell_type": "code",
      "execution_count": 8,
      "id": "c139bd1c-8e54-484e-9679-be1dd0582ae2",
      "metadata": {
        "scrolled": true,
        "colab": {
          "base_uri": "https://localhost:8080/"
        },
        "id": "c139bd1c-8e54-484e-9679-be1dd0582ae2",
        "outputId": "5c124cd2-d8d7-469a-e96c-1ece9f8636a1"
      },
      "outputs": [
        {
          "output_type": "stream",
          "name": "stdout",
          "text": [
            "Document Count: 1\n",
            "\n",
            "Type of loader: <class 'langchain_community.document_loaders.word_document.UnstructuredWordDocumentLoader'>\n",
            "\n",
            "Document Metadata: {'source': '/content/text_data.docx'}\n",
            "\n",
            "Document Content\n",
            "page_content='KLERCIDE 70/30 STERILE IPA SPRAY 1LX6/pk KLERCIDE 70/30 STERILE IPA SPRAY 1LX6/pk SEROLOGICAL PIPETTES 25mL CORNING 250mL STERILE CONTAINERS CORNING 125mL STERILE CONTAINERS R2A MEDIUM 10 PLATES SHARPS BIN SQUARE 4.5L SHARPS BIN SQUARE 4.5L SHARPS BIN SQUARE 12.5L SHARPS BIN SQUARE 12.5L sodium hydrogen carbonate ENDOSAFE PTS CARTIDGE, 0.05-5.0EU/mL ENDOSAFE PTS CARTIDGE, 0.01-1.0 EU/mL CARBON DIOXIDE MEDICAL G SIZE Not Provided ACETIC ACID GLACIAL DRW CITRIC ACID MONOHYDRATE DRW SODIUM ACETATE TRIHYDRATE DRW SODIUM ACETATE TRIHYDRATE DRW Sodium Hydroxide Pellets DRW SODIUM PHOSPHATE DIBASIC DIHYDRATE DRW Sodium Chloride DRW RESIN CAPTO Q AKTA READY GRADIENT HIGH FLOW SECTION SUCROSE (FF) NON-CATALOG Medium Dulbecco's Modified SENSOR IRRADIATED SINGLE USE - 1\" Tubing, Silicone Platinum-cured size 16 Tubing, Silicone (Platinum-cured), NON-CATALOG Cartridges Endosafe PTS/MC BAG ASSEMBLY, 500L MIXING W/REINFORCED DOUBLE PUMP LINE L24 COLUMN PREPACKED POROS 50HS - DRW Hemostats, Sterile, Double Pouched 5.5\" Scissors, Double Pouched, Sterile 5.5\" N Vial, Crystal Zenith, 2mL, E-Beam Irrad Vial, Crystal Zenith, 5mL, E-Beam Irrad Vial, Crystal Zenith, 10mL, E-Beam Irrad FILTER VIRAL PLANOVA BIOEX 1.0 M2 GALACTOSE, PLANT-DERIVED-DR STEP DOWN LINE W/DAC FILTER ASSEMBLY DOUBLE XLT10 0.4/0.22 Connector, 3/8\" Coupling Body (250 pk) Connector, 3/8\" Coupling Body (250 pk) Y-SAMPLING ASSEMBLY 10% ADCF Antifoam Solution Irradiated T84 Chemical Resistant Resin Ribbon Chemical Resistant Polyester Labels Libero Temperature Logger - Drew Farusa Shipment Box - Drew MED - Cellca Choko Feed Medium A MED - Cellca Choko Feed Medium B MED - Cellca Choko Production Medium Laser Cryo-Tags 1.69x0.75\", 1040/pk, Whi MEDIUM CELLCA CHOKO PRECULTURE Diaphragm - Radial 0.5\" EPDM ASEPCO Diaphragm - DN10 EPDM HPV-AQ Hydrogen Peroxide Solution, 5L Kit, ELISA, Insect Cell Host Cell Protei Reagent, Bovine Serum Albumin-30% in DPB Standard, SF9, HCP Antigen Concentrate Cable Tie, 3.9 In, Black, Pk100 Filter Opticap XLT20 Durapore 0.1µm Cable Tie, 7.9 In, Black, Pk100 Cable Tie, 11 In, Natural, Pk100 Filter Millistak+ HC ProPod XOSP, 1.1m2 Filter Millistak+ HC ProPod DOSP, 0.77m2 Filter Millistak+ HC ProPod DOSP, 0.77m2 ASSEMBLY JUMPER 4 DAC MANIFOLD Hose Clamp, Turn Key, SS 1/2\" x 1-1/4\" Hose Clamp, Turn Key, SS 1/4\" x 5/8\" Anit-Fog Spray, BioClean BAFS-601 Clipster Aseptic Disconnector Size XS NON-CATALOG Filter Sterile CultiBag ST ReadyMate DAC 500 1/2\" barb, 10pk Sensor - Sumoflo, 1\" TC, Mass, Gamma Irr Sensor - Sumoflo, 1\" TC, Mass, Gamma Irr Media, BioCapt Single-Use, Tryptone Soya SCD Wafers SARTOBIND STIC PA AE MEMBRANE TRIS HCL TRIS HCL SORBITOL \"FF\" SORBITOL \"FF\" Long R3IGF-I Sartopure GF Plus 30\" Sodium Acetate Anhydrous Disodium Hydrogen Phosphate Dodechyd Filter Unit Bottletop 500mL Nylon, Ster. BalanCD CHO Growth A, 1L Liquid L-Glutamic Acid SODIUM HYDROXIDE PELLETS L-METHIONINE FF DR-1 Sodium Sulphate - DR1 Succinic Acid Crystal FF Sodium Dihyd Phosphate MonoHydrate Di-SodiumHydrogenPhospHeptahydrate - DR1 D(+) - Glucose anhydrous - DR1 FILTER 30\" Supor EX ECV 1L PET PHARMATAINER Poloxamer 188 Expert Cell Culture Optimi L-Alanyl -L-Glutamine XCell ATF 10 Single Use Tube Set Kit XCell ATF 10 SingleUse .2Um PES Hollow FILTER OPTICAP XLT20\" Capsule Durapore FILTER OPTICAP XLT30\" Capsule Durapore DI-SODIUM HYDROGEN PHOSPHATE DIHYDRATE Filter Sartopore 2 XLG Sz 2 1.5\" Tri-Cla Filter, 50-mL Steriflip Sodium Succinate Anhydrous ZW1 (FF) BAG BIOREACTOR XDR-500 CUSTOM Perfusion Manifold Kit StaxDistributionPlates1 1/2 Filter Planova 35N 0.3m� Filter Planova 35N 0.12m� NON-CATALOG Stopper B2-40 RUV 20mm Stopper, B2-40 RUV 13mm Vial, Crystal Zenith, 0.5mL, E-Beam Irra NON-CATALOG Seal 13FOLQLGTE 13mm/2925 NON-CATALOG Seal 20FOLQTE 20mm/2925 Bl BAG Assembly, 50L Mixing w/ AQG Fitting BAG Assembly, 100L Mixing w/ AQG Fitting BAG Assembly, 200L Mixing w/ AQG Fitting BAG Assembly, 500L Mixing w/ AQG Fitting BAG Assembly,1000L Mixing w/ AQG Fitting FILTER OPTICAP XL10 ASEPTIC CON&MANIFOLD Filter Viresolve Pro Magnus 2.1 Shield H Column Prepacked - OPUS POROS HS50 - ZW1 Column Prepacked-OPUS Mabselect Sure ZW1 Column Prepacked - OPUS POROS HQ50 - ZW1 COLUMN PREPACKED POROS 80CM 50HS Manganese Sulfate Monohydrate ZW1 SENSOR - Visiferm DO ECS 225 HO(Optical) FRAME PAK CELSIUS 16.6 L Media \n",
            "\n",
            "\n",
            "\n",
            "BalanCD CHO Growth A Powder BOTTLE - 20L Mixing Vessel Water, LAL Reagent, 30mL Tubing Manifold, Charter Medical, 21 x 2 MVP VF Viresolve Pump Head MVP VF Viresolve Filter Manifold MVP VF Viresolve Outlet Manifold MVP VF Viresolve Feed Manifold MVP VF Viresolve Jumper Manifold BAG PAK CELSIUS 2 L FIlter, Millipak, 0.22um Sterile, 200 9/ Aseptiquick G, Bod, 3/4\", High T Aseptiquick G, Bod, 1/2\", High T Aseptiquick G, Bod, 3/8\", High T Non-Catalog Disposable Non-Woven Steri NON-CATALOG Disp. Non-Woven Sterile Co Disp. Non-Woven Sterile Coverall, 4 XL Disp. Non-Woven Sterile Coverall, XL Disp. Non-Woven Sterile Coverall, LG Disp. Non-Woven Sterile Coverall, MED AKTA Ready Low Flow Kit Tube Asem - Sta-Pure Loadsure 19mm ID Gasket - UF/DF Membrane NON-CATALOG Filter Millipore 3P Millif Sight Glass - Oring NON-CATALOG Bottles Spray Sterile 16oz BAG-SUB 20L Cellbag BPC Bioclear 10w/AQG BAG-SUB 2L Cellbag BPC Bioclear 11 w/AQG BAG-SUB 10L Cellbag BPC Bioclear 11w/AQG BAG-SUB 20L Cellbag BPC Bioclear 11w/AQG BAG-SUB 50L Cellbag BPC Bioclear 11w/AQG BAG - 2000L SUM ASI w/AQG NON-CATALOG CAT4 Donkey Anti-Rabbit Ig Medium 1L Dulbecco's Modified Eagle 1X L ViaCheck 100% Viability Cnt Single Shots Sensor, SciPres Pressure, Disposable, St SUB - 50L XDR Custom w/ AQG SUB - 500L XDR Custom w/ AQG SUB - 2000L XDR Custom w/ AQG Pipets Tips, 20uL, Rainin Pipets Tips, 200uL, Rainin Pipets Tips, 300uL, Rainin Non-Catalog Pipets Tips, 1000uL, Raini Test, Asahi Gold Particle, Medium Test, Asahi Gold Particle, Small DR - 10N Sodium Hydroxide Proteinase K, 10mL L-Histidine (FF) - DR NON-CATALOG Trash Bags Clear 38\"x38\" 2 Tubing Assy, Segment, 8ft. with V-Shaped Tubing Assy, MPC Body Filtration (6.4mm Tubing Assy, MPX Insert Upstream, Platin PH Probe - DSP Skid VWR CryoPro Fiberboard Storage Boxes and Actipro without Iron - DR2 5 Branch Fill Manifold 1/2\"ID CPAK AQG Non-Catalog Sensor, SciPres Pressure, Kit, Elisa, PRAAV9 Titration NON-CATALOG Swiffer WetJet Refills AMMONIUM CHLORIDE PELLICON 2 MAXI ULTRAFILTRATION MODULE Actipro, Dry Powder Medium, ADCF Air Detector Assembly (BP 100 + 300/400) NON-CATALOG VWR Frock Irradiated 4X-La Pottasium Sensor Bioprofile 400 Reagent Pack Bioprofile Control Level 4 -30/Box Bioprofile Control Level 3 -30/Box Bioprofile Control Level 1 - 30/Box NON-CATALOG Swiffer Sweeper Cleaning S Bioprofile Control Level 2 - 30/Box Reference Sensor (BP 100 / 400 Series) PH Sensor (200 / 250 / 400 Series) PO2 Sensor PO2 Pre Filled Membrane Cap kit - 6/Box Sodium Sensor (BP 100+/300/400 Series) Ammonium Sensor (BP 100+/300/400 Series) Locate Sensor(BP100/+/300/400 BASIC SER) Glucose Membrane Kit - 3/Box Glutamine Sensor (BP100 /+ 400 Basic) Bag, XRS 20L Biocontainer, Pall Glutamine Membrane Kit - 3/Box Glutamate Sensor (BP100 /+/400 Basic) Glutamate Membrane Kit - 3/Box Bioprofile Control Level 5 - 30/Box Sodium Caprylate Lactate Membrane Kit - 3/box PC02 Prefilled Membrane Kit - 3/Kit PC02 Sensor High Temp Kleenpak Male Connector 3/8\" CPAK 16.6L AQG Vial, EZ-Fill 2R Glass, 3mL Schott Glass Rupture Disk - 2\" - Ohm Rupture Disk - 1.5\" - Ohm Vial, EZ-Fill, 10R Glass, 10mL NON-CATALOG Rodac Plate TSA w/ Lecithi TRIS Hydrochloride Biotech Reagent 500g Bioprofile Flex/Flex2 FlushFixture 6Port Bioprofile Flex/Flex2 FlushFixture 4Port Bioprofile Flex2 Chemistry Refrnc Sensor Osm 48 Microtubes BioProfile Flex2 Bioprofile Flex2 pH/Gas MicroSnsr CardLV Tubing MFlex C-Flex #73 25 ft Bioprofil Flex2 Chemist MicroSnsr CardLV Bioprofile Flex2 pH/Gas Reference Sensor NON-CATALOG TSA 3P-Lombard LockSure (1 Bioprofile Flex2 pH/Gas Deproteiniz Card Bprofile Flex2 Chemistr Mod Deprot Card 4-Way Fill it Tube Set Optical Probe Tip Sodium Chloride, Granular, USP 500g Tromethamine U.S.P. 500g Multi-Compendia Tubing-MSTRFLX Puriflx size91- 3/4x1-1/4 Sodium Phosphate Dibasic Anhydrous 500g DIMETHYL SULFOXIDE DMSO Bellow, Allegro STR Probes Supplement, Kolliphor P 188, Bio, 5 kg Sodium Bicarbonate, Powder, USP 2.5kg Celsius FFT Clip Tube Holder 100mL Disposable Square Weighing Boats FILTER Super ECV 30 PES0.45/0.2 UM w/AQG Fltr Supr ECV30PES0.45/0.2UMAutoclavable BRX-1w/o L-Glutaminew/o SodiumBicarb-EU1 MACH-1 w/o L-Glutamne w/o NAHCO3-EU1 Mixer - 2500L Pall Allegro Mixer - 2000L Pall Allegro Transducer, Pressure SU Spectrum TFF Temptale - Mendel Transducer 1/2\" Pressure SU Spectrum TFF Trehalose Dihydrate FF Temptale Ultra Dry Ice Temptale Ultra 16K MES Sodium Salt Ortho-Phosphoric Acid 85% - FF Men Protein, Baculovirus, VP39 Zeta Plus SP Filter \n",
            "\n",
            "\n",
            "\n",
            "SODIUM BICARBONATE Streptavidin/HRP 1mL L-Arginine(FF) - Mendel L-Arginine(FF) - Mendel Cryogenic Sterile Vial Q Sepharose XL Primer, Reverse, Saturn V Factor 8 BioWelder TC blades (Non-RMS) Buffer Solution, PH 1.68 SZ1 Pro A Column Filter XL4 Durapore 0.1 μM Stir Bar PVDF Gamma Irradiated 10 x 38mm Flexifit Bio In/Out O-Ring Kit Pellicon3 Ultracell 30kDa DScreen 1.14m2 13mm Serum Stoppers, SBB bag 20mm Serum Stoppers, SBB bag XS - 11 Medium XJEM Ex - Cell 302 (modified) XJEM Feed Zeta Plus Capsule Assembly 16\"-05SP01A Zeta Plus Capsule Assembly EZP7 Cell Bis-Tris Propane, Pharmagrade 1KG Potassium Chloride, Crystal, U.S.P, 500G Sensor pCo2 InPro 50001/12/220 Sodium dihydrogen phosphate dihydrate Peek Bushings - 500L SS Reactor NON-CATALOG Tryp. Soy Broth 10L Stir Bar PVDF Gamma Irradiated 10 x 80mm Tube Centrifuge 50ml Sterile - 4 COLUMN PP MABSELECT SURE 80CM Sampling Asmbly-2x50mLPP&2x15mL PS Tubes AAV2 Titration ELISA Kit EPDM Black O-Ring 16.25\"0.275\" EPDM Black O-Ring 20.25\"*0.275\" EPDM Black O-Ring 18\" Probe Cell Density - ABER Bag, 200L STR Jacketed Biocontainer Pall Beaker, Sterile, 1L Beaker, Sterile, 4L Beaker, Sterile, 600mL Beaker, Sterile, 2L Graduated Cylinder, Sterile, 1L Tube 15ml Polystyrene Sterile Graduated Cylinder, Sterile, 4L BIOTAINR 10L PC W/SILICONE LINE CAP IRR Cartridges, DG32 Automated Droplet Gener System Suitability set- At line TOC Pierceable Foil Heat Seal Actipro Liquid Medium ddPCR� Supermix for Probes (No dUTP) Connector, Kleenpak HT, 9.6mm HB Male Connector, Kleenpak HT, 13mm HB Male 1.5\" SAN ASEPT X INSERT HT AKTA Ready XL Flow Kit 3/4 In 3/4 In Gradient Section ,AKTA Ready XL Automated Droplet Generation Oil for Pro Droplet Reader Oil Pipet Tips for the AutoDG System Steris VHP Chemical Indicators Steris VHP Biological Indicators NA333 Pall 1000L Allegro Mixer Bag Pall 200L Allegro Mixer Bag Pall 500L Allegra Mixer Bag Pall 100L Allegro Mixer Bag Settling Plate (120 Plates) ICR/ICR Plus Vesta-Syde SQ Tri-Clamp, Plastic, 1.5\" Tri-Clamp, Plastic 3/4� Tri-Clamp, Plastic, 1.5\" Tri-Clamp, Plastic 3/4� Filling Assembly #1, Production Unit Acetic Acid Glacial USP FCC 500mL SIUS Proscreen 30kDA EP screen 2.5 Tris HCl - Avantor Only Antibody, Anti-AAV, VP1/VP2/VP3 (B1) BOTTLE PETG 500 ML STERILE *NON-CATALOG Simple Green Cleaner 1 gal Amsphere A3 Resin Non-Catalog PureFit TC Tubing Clamp 3/ Sensor, SciPres Pressure 3/8\" Barb Dispo GS SUPPLEMENT 50X EX-CELL ADVANCED CHO POWDER MEDIUM PELICON 3 BIOMAX 30kDa D-SCREEN 1.14m2 L-Asparagine Monohydrate-TLV1 Sample Diluent Buffer for HCP 500mL TOYOPEARL NH2-750F RESIN OPUS PREPACKED COLUMN POROS XQ 79.9X20 Sodium Chloride 500g USP, EP/BP,JP Granu Sodium Phosphate Dibasic Heptahydrate, 13mm Flip-Off CCS Seal, Blue 20mm Flip-Off CCS Seal, Blue KLEENPAK NOVA PROFILE II 30' 0.5um HEPES SODIUM SALT Filtration/Filling Assembly 2L 1.6mm ID TEMPTALE ULTRA DRY ICE 3M PROBE 500G Sodium Phosphate Dibasic Heptahydra Filter, Millipack-60, 0.45 um Non-Catalog Extansion for Media Change [ASL1] L-TRYPTOPHAN FF, USP/EP/JP MVP Outlet Manifold Base Manifold 125mL MVP Inlet Manifold (QF) MIXER 3000L PALL CUBICAL MIXER 2000L PALL CUBICAL ILC pH PROBE NON-CATALOG Bag 500mL Small Flexboy Lu L-HISTIDINE HCL FF - EP/JP DR NON-CATALOG Bag 2L Small Flexboy Luer CAPTO MMC RESIN Non-Catalog CAT4 Optiscale Durapore 0. Tubing, Puriflex Size 16 Masterflex, Non CLARISOLVE 60μm POD DEPTH FILTER 0.55m^2 SODIUM ACETATE TRIHYDRATE FF USP/EP/JP SODIUM CHLORIDE FF USP/EP/JP TRACE ELEMENT B 1000X TLV1 Trace Element E 1000x TLV1 CELLVENTO MODIFEED PRIME COMP FRACTOGEL EMD TMAE Hicap (M) RESIN AKTApilot pH electrode L-CYSTINE DIHYDROCHLORIDE TVL1 SPERMINE TETRAHYDROCHLORIDE- TLV1 F30 LOW B12 NO HYDROCORTISONE-TLV1 IRON (II)SULFATE HEPTAHYDRATE CRYST-TLV1 IRON (II)SULFATE HEPTAHYDRATE CRYST-TLV1 GLUTATHIONE-TLV1 Filter, Sartofluor, 0.2um, Sterile, 0.2 L-SERINE USP/EP-TLV1 L-VALINE, USP/EP-TLV1 R34 LOW B12 MEDIA-TLV1 R37 NO HYDROCORTISONE-TLV1 GS2-N LOW B12 NO HYDROCORT-TLV1 NON-CATALOG CAT4 Autoclavable Breather POLY VINYL ALCOHOL-TLV1 L-AsparticAcid MonosodiumSaltHydrateTLV1 PELLICON 3 ULTRACEL 10KPA CSCREEN 1.14M2 L-TYROSINE, DISODIUM-TLV1 GLYCINE HYDROCHLORIDE-TLV1 INSULIN, RECOMBINANT HUMAN NON-CATALOG Bag Mobius Gold 50L PF Mix OPUS COLUMN TOSOH TOYOPEARL 25X10 Vaprox 59 Hydrogen Peroxide Sterilant OPUS Pre-Packed Column TMAE HiCap Tubes 1.5mL \n",
            "\n",
            "\n",
            "\n",
            "Eppendorf Protein Lobind Mic Non-Catalog Multiplate 48-Well PCR Pla OPUS Pre-Packed Column MabSelect SuRe LX Sodium Chloride, Granular USP/EP/JP 12kg KOLLIPHOR P188, BIO, FF, USP/EP GEN2 CELSIUS 12L FFT HUMAN RECOMBINANT INSULIN 5MG/ML HUMAN RECOMBINANT INSULIN 5MG/ML 55 GALLON CLOSED - TOP BARRELS 55 GALLON CLOSED - TOP BARRELS PUTRESCINE DIHYDROCHLORIDE CELLUFINE MAX GS OPUS PRE-PACK COLUMN OPUS PRE-PACKED CAPTO MMC COLUMN OPUS PRE-PACKED AMSPHERE COLUMN OPUS PRE-PACKED CAPTO ADHERE COLUMN CELLUFINE MAX Q-H OPUS PRE-PACK COLUMN KANEKA KANCAPA OPUS PRE-PACK COLUMN 125ML SAMPLING BOTTLE MANIFOLD Filter, Midisart 2000 Venting Unit 25pk 60ML SAMPLING BOTTLE MANIFOLD B-GLYCEROPHOS DISODIUM SALT HYDRATE-TLV1 ETHANOLAMINE HCL-TLV1 Kleenpak Nova Supor UEAV 0,2 m TUBING-CFLEX 3/8' ID x 5/8\" OD [DR] POLY 80; USP/EP/JP;FF Mustang Q XT5 (5ml) capsule 5L Retentate Assembly Tubing, L/S 16 Masterflex Platinum-cured Tubing, I/P 73 Masterflex Platinum-cured Tubing, I/P 82 Masterflex Platinum-cured OPUS PP Column MS PrismA 59.9x20cm OPUS PP COLUMN POROS XQ, 45.7*20CM EZ BIOPAC 10L BAG 4 INCH WELOC, GAMMA pH Washers PCO2 Washers BioProfile Flex 2 Syringe Bioprofile FLEX 2 Chemistry Calibrator a pH/Gas Module Tubing Harness S-Line Probe Assembly pH/Gas Auto QC Cartridge Chemistry Auto QC Cartridge pH/Gas MicroSensor Card HV (425 samples) ChemistryMicroSensorCard HV (550Samples) EFlex 2 Flush Fixture 2 Port Bioprofile Flex2 pH/Gas Calibration Cart Chemistry Calibrator and Reagent Cartrid CAL STANDARDS 100 + 900 OSM48 FLEX2 EZ BioPac 4 in to 3 in reducer, Gamma EZ BIOPAC 10L BAG 3 INCH WELOC, GAMMA Sucrose, NF, EP, JP, High Purity, Low En NON-CATALOG Pure Water Density Standar Filter, Kleenpak Mini Emflon II, Sterile Orion™ Conductivity Standards, Solutions NON-CATALOG Medium Hink'S Tnm-Fh (1L) Clipster Aseptic Disconnector size S VWR Maximum Protection Lab Coats - 4XL Sensor, Pressure, PendoTECH Single Use Concentric Reducer 1 1/2\" x 3/4\" mini Sa NON-CATALOG Liner Pall PD2 5L 2\" Sanit NON-CATALOG Liner Pall PD2 5 L 4\" Sani Kleenpak Presto Sterile 1/2\" Connector BRAMMER ITR2 FORWARD PRIME BRAMMER ITR2 REVERSE PRIME Brammer ITR2 Probe Connector, AsepticQuik G 3/8\" HB Connector, AsepticQuik G 1/2\" HB Primer, E1A Forward Primer, E1A Reverse CITRIC ACID MONOHYDRATE USP/EP FF Filter, Millipak 100, 0.22 Bag 1000L Pall Allegro Single Use System CELSIUS BAG SAMPLE COVER 12L OPUS PP Column POROS 50HQ 30x20cm AQG STC CONNCT 3/4\" x 1 1/2\" SANI HIGH T CDM4MAB LIQUID MED WITHOUT L-GLUTAMINE Filter, Opticap XL5 Durapore Capsule NON-CATALOG Filter Pall Supor EKV 0.2u Non-Catalog Bag Flexboy 1L w/C Flex Ou Bottle Assembly System, 60mL BioSimplex Bottle Assembly System, 125mL BioSimplex Bottle Assembly System, 250mL BioSimplex Bottle Assembly System, 500mL BioSimplex Bottle Assembly System, 1 L BioSimplex Bottle Assembly System, 2 L BioSimplex Filter, Sartobran P MaxiCap Sterile Caps NON-CATALOG Seal 20FO LQ TE (6-B) 3767 SPOR-KLENZ RTU Spor-Klenz RTU 4x850mL Plastic Bottles' metadata={'source': '/content/text_data.docx'}\n"
          ]
        }
      ],
      "source": [
        "from langchain_community.document_loaders import UnstructuredWordDocumentLoader\n",
        "\n",
        "# Initialize the document loader with specific parameters\n",
        "loader = UnstructuredWordDocumentLoader(\n",
        "    \"/content/text_data.docx\",\n",
        "    strategy=\"fast\",  # Prioritize fast processing\n",
        "    include_page_breaks=True,  # Include page breaks as PageBreak elements\n",
        "    infer_table_structure=True,  # Infer table structures and include in HTML format\n",
        "    starting_page_number=1,  # Start page numbering from 1\n",
        ")\n",
        "\n",
        "# Load the document\n",
        "docs = loader.load()\n",
        "\n",
        "# Print the number of documents\n",
        "print(f\"Document Count: {len(docs)}\\n\")\n",
        "\n",
        "# Print the type of the loader\n",
        "print(f\"Type of loader: {type(loader)}\\n\")\n",
        "\n",
        "# Print the metadata of the first document\n",
        "print(f\"Document Metadata: {docs[0].metadata}\\n\")\n",
        "\n",
        "# Print the content of the first document\n",
        "print(\"Document Content\")\n",
        "print(docs[0])"
      ]
    },
    {
      "cell_type": "code",
      "source": [],
      "metadata": {
        "id": "XUihNfLWt0aA"
      },
      "id": "XUihNfLWt0aA",
      "execution_count": null,
      "outputs": []
    }
  ],
  "metadata": {
    "kernelspec": {
      "display_name": "Python 3 (ipykernel)",
      "language": "python",
      "name": "python3"
    },
    "language_info": {
      "codemirror_mode": {
        "name": "ipython",
        "version": 3
      },
      "file_extension": ".py",
      "mimetype": "text/x-python",
      "name": "python",
      "nbconvert_exporter": "python",
      "pygments_lexer": "ipython3",
      "version": "3.11.9"
    },
    "colab": {
      "provenance": []
    }
  },
  "nbformat": 4,
  "nbformat_minor": 5
}