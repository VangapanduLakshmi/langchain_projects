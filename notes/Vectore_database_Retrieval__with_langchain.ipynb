{
  "nbformat": 4,
  "nbformat_minor": 0,
  "metadata": {
    "colab": {
      "provenance": []
    },
    "kernelspec": {
      "name": "python3",
      "display_name": "Python 3"
    },
    "language_info": {
      "name": "python"
    },
    "widgets": {
      "application/vnd.jupyter.widget-state+json": {
        "dc432b7f585e4edaa94460c5124ebc96": {
          "model_module": "@jupyter-widgets/controls",
          "model_name": "HBoxModel",
          "model_module_version": "1.5.0",
          "state": {
            "_dom_classes": [],
            "_model_module": "@jupyter-widgets/controls",
            "_model_module_version": "1.5.0",
            "_model_name": "HBoxModel",
            "_view_count": null,
            "_view_module": "@jupyter-widgets/controls",
            "_view_module_version": "1.5.0",
            "_view_name": "HBoxView",
            "box_style": "",
            "children": [
              "IPY_MODEL_22c66a7566bc46acbf3328db00761038",
              "IPY_MODEL_c6353265c4694dbfa742954c7c89423d",
              "IPY_MODEL_3be88c7315b44aceb04408f6e264833c"
            ],
            "layout": "IPY_MODEL_613ba7e1c8a3435cb08a6011c76032f2"
          }
        },
        "22c66a7566bc46acbf3328db00761038": {
          "model_module": "@jupyter-widgets/controls",
          "model_name": "HTMLModel",
          "model_module_version": "1.5.0",
          "state": {
            "_dom_classes": [],
            "_model_module": "@jupyter-widgets/controls",
            "_model_module_version": "1.5.0",
            "_model_name": "HTMLModel",
            "_view_count": null,
            "_view_module": "@jupyter-widgets/controls",
            "_view_module_version": "1.5.0",
            "_view_name": "HTMLView",
            "description": "",
            "description_tooltip": null,
            "layout": "IPY_MODEL_be179e373ca1449292b40db3008501af",
            "placeholder": "​",
            "style": "IPY_MODEL_570cb5a86c514354a9f0f853431b325c",
            "value": "modules.json: 100%"
          }
        },
        "c6353265c4694dbfa742954c7c89423d": {
          "model_module": "@jupyter-widgets/controls",
          "model_name": "FloatProgressModel",
          "model_module_version": "1.5.0",
          "state": {
            "_dom_classes": [],
            "_model_module": "@jupyter-widgets/controls",
            "_model_module_version": "1.5.0",
            "_model_name": "FloatProgressModel",
            "_view_count": null,
            "_view_module": "@jupyter-widgets/controls",
            "_view_module_version": "1.5.0",
            "_view_name": "ProgressView",
            "bar_style": "success",
            "description": "",
            "description_tooltip": null,
            "layout": "IPY_MODEL_b14b9726c7ca470b80e7ff3ba14e80b9",
            "max": 229,
            "min": 0,
            "orientation": "horizontal",
            "style": "IPY_MODEL_728f66318fc34bc6b080db284d6c258c",
            "value": 229
          }
        },
        "3be88c7315b44aceb04408f6e264833c": {
          "model_module": "@jupyter-widgets/controls",
          "model_name": "HTMLModel",
          "model_module_version": "1.5.0",
          "state": {
            "_dom_classes": [],
            "_model_module": "@jupyter-widgets/controls",
            "_model_module_version": "1.5.0",
            "_model_name": "HTMLModel",
            "_view_count": null,
            "_view_module": "@jupyter-widgets/controls",
            "_view_module_version": "1.5.0",
            "_view_name": "HTMLView",
            "description": "",
            "description_tooltip": null,
            "layout": "IPY_MODEL_f73280af366a4deda56baae8d396a3bf",
            "placeholder": "​",
            "style": "IPY_MODEL_3575b7e8a1214fc49a83fc67f587f587",
            "value": " 229/229 [00:00&lt;00:00, 10.9kB/s]"
          }
        },
        "613ba7e1c8a3435cb08a6011c76032f2": {
          "model_module": "@jupyter-widgets/base",
          "model_name": "LayoutModel",
          "model_module_version": "1.2.0",
          "state": {
            "_model_module": "@jupyter-widgets/base",
            "_model_module_version": "1.2.0",
            "_model_name": "LayoutModel",
            "_view_count": null,
            "_view_module": "@jupyter-widgets/base",
            "_view_module_version": "1.2.0",
            "_view_name": "LayoutView",
            "align_content": null,
            "align_items": null,
            "align_self": null,
            "border": null,
            "bottom": null,
            "display": null,
            "flex": null,
            "flex_flow": null,
            "grid_area": null,
            "grid_auto_columns": null,
            "grid_auto_flow": null,
            "grid_auto_rows": null,
            "grid_column": null,
            "grid_gap": null,
            "grid_row": null,
            "grid_template_areas": null,
            "grid_template_columns": null,
            "grid_template_rows": null,
            "height": null,
            "justify_content": null,
            "justify_items": null,
            "left": null,
            "margin": null,
            "max_height": null,
            "max_width": null,
            "min_height": null,
            "min_width": null,
            "object_fit": null,
            "object_position": null,
            "order": null,
            "overflow": null,
            "overflow_x": null,
            "overflow_y": null,
            "padding": null,
            "right": null,
            "top": null,
            "visibility": null,
            "width": null
          }
        },
        "be179e373ca1449292b40db3008501af": {
          "model_module": "@jupyter-widgets/base",
          "model_name": "LayoutModel",
          "model_module_version": "1.2.0",
          "state": {
            "_model_module": "@jupyter-widgets/base",
            "_model_module_version": "1.2.0",
            "_model_name": "LayoutModel",
            "_view_count": null,
            "_view_module": "@jupyter-widgets/base",
            "_view_module_version": "1.2.0",
            "_view_name": "LayoutView",
            "align_content": null,
            "align_items": null,
            "align_self": null,
            "border": null,
            "bottom": null,
            "display": null,
            "flex": null,
            "flex_flow": null,
            "grid_area": null,
            "grid_auto_columns": null,
            "grid_auto_flow": null,
            "grid_auto_rows": null,
            "grid_column": null,
            "grid_gap": null,
            "grid_row": null,
            "grid_template_areas": null,
            "grid_template_columns": null,
            "grid_template_rows": null,
            "height": null,
            "justify_content": null,
            "justify_items": null,
            "left": null,
            "margin": null,
            "max_height": null,
            "max_width": null,
            "min_height": null,
            "min_width": null,
            "object_fit": null,
            "object_position": null,
            "order": null,
            "overflow": null,
            "overflow_x": null,
            "overflow_y": null,
            "padding": null,
            "right": null,
            "top": null,
            "visibility": null,
            "width": null
          }
        },
        "570cb5a86c514354a9f0f853431b325c": {
          "model_module": "@jupyter-widgets/controls",
          "model_name": "DescriptionStyleModel",
          "model_module_version": "1.5.0",
          "state": {
            "_model_module": "@jupyter-widgets/controls",
            "_model_module_version": "1.5.0",
            "_model_name": "DescriptionStyleModel",
            "_view_count": null,
            "_view_module": "@jupyter-widgets/base",
            "_view_module_version": "1.2.0",
            "_view_name": "StyleView",
            "description_width": ""
          }
        },
        "b14b9726c7ca470b80e7ff3ba14e80b9": {
          "model_module": "@jupyter-widgets/base",
          "model_name": "LayoutModel",
          "model_module_version": "1.2.0",
          "state": {
            "_model_module": "@jupyter-widgets/base",
            "_model_module_version": "1.2.0",
            "_model_name": "LayoutModel",
            "_view_count": null,
            "_view_module": "@jupyter-widgets/base",
            "_view_module_version": "1.2.0",
            "_view_name": "LayoutView",
            "align_content": null,
            "align_items": null,
            "align_self": null,
            "border": null,
            "bottom": null,
            "display": null,
            "flex": null,
            "flex_flow": null,
            "grid_area": null,
            "grid_auto_columns": null,
            "grid_auto_flow": null,
            "grid_auto_rows": null,
            "grid_column": null,
            "grid_gap": null,
            "grid_row": null,
            "grid_template_areas": null,
            "grid_template_columns": null,
            "grid_template_rows": null,
            "height": null,
            "justify_content": null,
            "justify_items": null,
            "left": null,
            "margin": null,
            "max_height": null,
            "max_width": null,
            "min_height": null,
            "min_width": null,
            "object_fit": null,
            "object_position": null,
            "order": null,
            "overflow": null,
            "overflow_x": null,
            "overflow_y": null,
            "padding": null,
            "right": null,
            "top": null,
            "visibility": null,
            "width": null
          }
        },
        "728f66318fc34bc6b080db284d6c258c": {
          "model_module": "@jupyter-widgets/controls",
          "model_name": "ProgressStyleModel",
          "model_module_version": "1.5.0",
          "state": {
            "_model_module": "@jupyter-widgets/controls",
            "_model_module_version": "1.5.0",
            "_model_name": "ProgressStyleModel",
            "_view_count": null,
            "_view_module": "@jupyter-widgets/base",
            "_view_module_version": "1.2.0",
            "_view_name": "StyleView",
            "bar_color": null,
            "description_width": ""
          }
        },
        "f73280af366a4deda56baae8d396a3bf": {
          "model_module": "@jupyter-widgets/base",
          "model_name": "LayoutModel",
          "model_module_version": "1.2.0",
          "state": {
            "_model_module": "@jupyter-widgets/base",
            "_model_module_version": "1.2.0",
            "_model_name": "LayoutModel",
            "_view_count": null,
            "_view_module": "@jupyter-widgets/base",
            "_view_module_version": "1.2.0",
            "_view_name": "LayoutView",
            "align_content": null,
            "align_items": null,
            "align_self": null,
            "border": null,
            "bottom": null,
            "display": null,
            "flex": null,
            "flex_flow": null,
            "grid_area": null,
            "grid_auto_columns": null,
            "grid_auto_flow": null,
            "grid_auto_rows": null,
            "grid_column": null,
            "grid_gap": null,
            "grid_row": null,
            "grid_template_areas": null,
            "grid_template_columns": null,
            "grid_template_rows": null,
            "height": null,
            "justify_content": null,
            "justify_items": null,
            "left": null,
            "margin": null,
            "max_height": null,
            "max_width": null,
            "min_height": null,
            "min_width": null,
            "object_fit": null,
            "object_position": null,
            "order": null,
            "overflow": null,
            "overflow_x": null,
            "overflow_y": null,
            "padding": null,
            "right": null,
            "top": null,
            "visibility": null,
            "width": null
          }
        },
        "3575b7e8a1214fc49a83fc67f587f587": {
          "model_module": "@jupyter-widgets/controls",
          "model_name": "DescriptionStyleModel",
          "model_module_version": "1.5.0",
          "state": {
            "_model_module": "@jupyter-widgets/controls",
            "_model_module_version": "1.5.0",
            "_model_name": "DescriptionStyleModel",
            "_view_count": null,
            "_view_module": "@jupyter-widgets/base",
            "_view_module_version": "1.2.0",
            "_view_name": "StyleView",
            "description_width": ""
          }
        },
        "5e584af726d3480891f1120af2755364": {
          "model_module": "@jupyter-widgets/controls",
          "model_name": "HBoxModel",
          "model_module_version": "1.5.0",
          "state": {
            "_dom_classes": [],
            "_model_module": "@jupyter-widgets/controls",
            "_model_module_version": "1.5.0",
            "_model_name": "HBoxModel",
            "_view_count": null,
            "_view_module": "@jupyter-widgets/controls",
            "_view_module_version": "1.5.0",
            "_view_name": "HBoxView",
            "box_style": "",
            "children": [
              "IPY_MODEL_690f63b058c44e57b99204aa87ad655f",
              "IPY_MODEL_76e365e631b1485d8f40b75120240939",
              "IPY_MODEL_f6e13c345f4c4f6987fe3afa919a9b48"
            ],
            "layout": "IPY_MODEL_913b66c22abb41cd89909830e36be602"
          }
        },
        "690f63b058c44e57b99204aa87ad655f": {
          "model_module": "@jupyter-widgets/controls",
          "model_name": "HTMLModel",
          "model_module_version": "1.5.0",
          "state": {
            "_dom_classes": [],
            "_model_module": "@jupyter-widgets/controls",
            "_model_module_version": "1.5.0",
            "_model_name": "HTMLModel",
            "_view_count": null,
            "_view_module": "@jupyter-widgets/controls",
            "_view_module_version": "1.5.0",
            "_view_name": "HTMLView",
            "description": "",
            "description_tooltip": null,
            "layout": "IPY_MODEL_12917f091ac94133975198058e3ca4dc",
            "placeholder": "​",
            "style": "IPY_MODEL_84ba9c27c5254778bc510e9d47b9a8a6",
            "value": "config_sentence_transformers.json: 100%"
          }
        },
        "76e365e631b1485d8f40b75120240939": {
          "model_module": "@jupyter-widgets/controls",
          "model_name": "FloatProgressModel",
          "model_module_version": "1.5.0",
          "state": {
            "_dom_classes": [],
            "_model_module": "@jupyter-widgets/controls",
            "_model_module_version": "1.5.0",
            "_model_name": "FloatProgressModel",
            "_view_count": null,
            "_view_module": "@jupyter-widgets/controls",
            "_view_module_version": "1.5.0",
            "_view_name": "ProgressView",
            "bar_style": "success",
            "description": "",
            "description_tooltip": null,
            "layout": "IPY_MODEL_cce03c3f0a5e4b9e8e65b8181666b075",
            "max": 266,
            "min": 0,
            "orientation": "horizontal",
            "style": "IPY_MODEL_882dbce957ff402e988b22edd5ac4d69",
            "value": 266
          }
        },
        "f6e13c345f4c4f6987fe3afa919a9b48": {
          "model_module": "@jupyter-widgets/controls",
          "model_name": "HTMLModel",
          "model_module_version": "1.5.0",
          "state": {
            "_dom_classes": [],
            "_model_module": "@jupyter-widgets/controls",
            "_model_module_version": "1.5.0",
            "_model_name": "HTMLModel",
            "_view_count": null,
            "_view_module": "@jupyter-widgets/controls",
            "_view_module_version": "1.5.0",
            "_view_name": "HTMLView",
            "description": "",
            "description_tooltip": null,
            "layout": "IPY_MODEL_db1ef19973aa49aeb828bdbf4ceba357",
            "placeholder": "​",
            "style": "IPY_MODEL_843a12bb294f4d4ca5bc95eb9dd6948b",
            "value": " 266/266 [00:00&lt;00:00, 15.6kB/s]"
          }
        },
        "913b66c22abb41cd89909830e36be602": {
          "model_module": "@jupyter-widgets/base",
          "model_name": "LayoutModel",
          "model_module_version": "1.2.0",
          "state": {
            "_model_module": "@jupyter-widgets/base",
            "_model_module_version": "1.2.0",
            "_model_name": "LayoutModel",
            "_view_count": null,
            "_view_module": "@jupyter-widgets/base",
            "_view_module_version": "1.2.0",
            "_view_name": "LayoutView",
            "align_content": null,
            "align_items": null,
            "align_self": null,
            "border": null,
            "bottom": null,
            "display": null,
            "flex": null,
            "flex_flow": null,
            "grid_area": null,
            "grid_auto_columns": null,
            "grid_auto_flow": null,
            "grid_auto_rows": null,
            "grid_column": null,
            "grid_gap": null,
            "grid_row": null,
            "grid_template_areas": null,
            "grid_template_columns": null,
            "grid_template_rows": null,
            "height": null,
            "justify_content": null,
            "justify_items": null,
            "left": null,
            "margin": null,
            "max_height": null,
            "max_width": null,
            "min_height": null,
            "min_width": null,
            "object_fit": null,
            "object_position": null,
            "order": null,
            "overflow": null,
            "overflow_x": null,
            "overflow_y": null,
            "padding": null,
            "right": null,
            "top": null,
            "visibility": null,
            "width": null
          }
        },
        "12917f091ac94133975198058e3ca4dc": {
          "model_module": "@jupyter-widgets/base",
          "model_name": "LayoutModel",
          "model_module_version": "1.2.0",
          "state": {
            "_model_module": "@jupyter-widgets/base",
            "_model_module_version": "1.2.0",
            "_model_name": "LayoutModel",
            "_view_count": null,
            "_view_module": "@jupyter-widgets/base",
            "_view_module_version": "1.2.0",
            "_view_name": "LayoutView",
            "align_content": null,
            "align_items": null,
            "align_self": null,
            "border": null,
            "bottom": null,
            "display": null,
            "flex": null,
            "flex_flow": null,
            "grid_area": null,
            "grid_auto_columns": null,
            "grid_auto_flow": null,
            "grid_auto_rows": null,
            "grid_column": null,
            "grid_gap": null,
            "grid_row": null,
            "grid_template_areas": null,
            "grid_template_columns": null,
            "grid_template_rows": null,
            "height": null,
            "justify_content": null,
            "justify_items": null,
            "left": null,
            "margin": null,
            "max_height": null,
            "max_width": null,
            "min_height": null,
            "min_width": null,
            "object_fit": null,
            "object_position": null,
            "order": null,
            "overflow": null,
            "overflow_x": null,
            "overflow_y": null,
            "padding": null,
            "right": null,
            "top": null,
            "visibility": null,
            "width": null
          }
        },
        "84ba9c27c5254778bc510e9d47b9a8a6": {
          "model_module": "@jupyter-widgets/controls",
          "model_name": "DescriptionStyleModel",
          "model_module_version": "1.5.0",
          "state": {
            "_model_module": "@jupyter-widgets/controls",
            "_model_module_version": "1.5.0",
            "_model_name": "DescriptionStyleModel",
            "_view_count": null,
            "_view_module": "@jupyter-widgets/base",
            "_view_module_version": "1.2.0",
            "_view_name": "StyleView",
            "description_width": ""
          }
        },
        "cce03c3f0a5e4b9e8e65b8181666b075": {
          "model_module": "@jupyter-widgets/base",
          "model_name": "LayoutModel",
          "model_module_version": "1.2.0",
          "state": {
            "_model_module": "@jupyter-widgets/base",
            "_model_module_version": "1.2.0",
            "_model_name": "LayoutModel",
            "_view_count": null,
            "_view_module": "@jupyter-widgets/base",
            "_view_module_version": "1.2.0",
            "_view_name": "LayoutView",
            "align_content": null,
            "align_items": null,
            "align_self": null,
            "border": null,
            "bottom": null,
            "display": null,
            "flex": null,
            "flex_flow": null,
            "grid_area": null,
            "grid_auto_columns": null,
            "grid_auto_flow": null,
            "grid_auto_rows": null,
            "grid_column": null,
            "grid_gap": null,
            "grid_row": null,
            "grid_template_areas": null,
            "grid_template_columns": null,
            "grid_template_rows": null,
            "height": null,
            "justify_content": null,
            "justify_items": null,
            "left": null,
            "margin": null,
            "max_height": null,
            "max_width": null,
            "min_height": null,
            "min_width": null,
            "object_fit": null,
            "object_position": null,
            "order": null,
            "overflow": null,
            "overflow_x": null,
            "overflow_y": null,
            "padding": null,
            "right": null,
            "top": null,
            "visibility": null,
            "width": null
          }
        },
        "882dbce957ff402e988b22edd5ac4d69": {
          "model_module": "@jupyter-widgets/controls",
          "model_name": "ProgressStyleModel",
          "model_module_version": "1.5.0",
          "state": {
            "_model_module": "@jupyter-widgets/controls",
            "_model_module_version": "1.5.0",
            "_model_name": "ProgressStyleModel",
            "_view_count": null,
            "_view_module": "@jupyter-widgets/base",
            "_view_module_version": "1.2.0",
            "_view_name": "StyleView",
            "bar_color": null,
            "description_width": ""
          }
        },
        "db1ef19973aa49aeb828bdbf4ceba357": {
          "model_module": "@jupyter-widgets/base",
          "model_name": "LayoutModel",
          "model_module_version": "1.2.0",
          "state": {
            "_model_module": "@jupyter-widgets/base",
            "_model_module_version": "1.2.0",
            "_model_name": "LayoutModel",
            "_view_count": null,
            "_view_module": "@jupyter-widgets/base",
            "_view_module_version": "1.2.0",
            "_view_name": "LayoutView",
            "align_content": null,
            "align_items": null,
            "align_self": null,
            "border": null,
            "bottom": null,
            "display": null,
            "flex": null,
            "flex_flow": null,
            "grid_area": null,
            "grid_auto_columns": null,
            "grid_auto_flow": null,
            "grid_auto_rows": null,
            "grid_column": null,
            "grid_gap": null,
            "grid_row": null,
            "grid_template_areas": null,
            "grid_template_columns": null,
            "grid_template_rows": null,
            "height": null,
            "justify_content": null,
            "justify_items": null,
            "left": null,
            "margin": null,
            "max_height": null,
            "max_width": null,
            "min_height": null,
            "min_width": null,
            "object_fit": null,
            "object_position": null,
            "order": null,
            "overflow": null,
            "overflow_x": null,
            "overflow_y": null,
            "padding": null,
            "right": null,
            "top": null,
            "visibility": null,
            "width": null
          }
        },
        "843a12bb294f4d4ca5bc95eb9dd6948b": {
          "model_module": "@jupyter-widgets/controls",
          "model_name": "DescriptionStyleModel",
          "model_module_version": "1.5.0",
          "state": {
            "_model_module": "@jupyter-widgets/controls",
            "_model_module_version": "1.5.0",
            "_model_name": "DescriptionStyleModel",
            "_view_count": null,
            "_view_module": "@jupyter-widgets/base",
            "_view_module_version": "1.2.0",
            "_view_name": "StyleView",
            "description_width": ""
          }
        },
        "eedbe658395f4d47b130b649d26cf1b5": {
          "model_module": "@jupyter-widgets/controls",
          "model_name": "HBoxModel",
          "model_module_version": "1.5.0",
          "state": {
            "_dom_classes": [],
            "_model_module": "@jupyter-widgets/controls",
            "_model_module_version": "1.5.0",
            "_model_name": "HBoxModel",
            "_view_count": null,
            "_view_module": "@jupyter-widgets/controls",
            "_view_module_version": "1.5.0",
            "_view_name": "HBoxView",
            "box_style": "",
            "children": [
              "IPY_MODEL_7d1020b359f54cd6963be1fec1c2cc0c",
              "IPY_MODEL_460d9247be3244b49877d48ccacee241",
              "IPY_MODEL_846fe81eea1b49d28dd88529b780594d"
            ],
            "layout": "IPY_MODEL_509f011bd090495987db55a29327b731"
          }
        },
        "7d1020b359f54cd6963be1fec1c2cc0c": {
          "model_module": "@jupyter-widgets/controls",
          "model_name": "HTMLModel",
          "model_module_version": "1.5.0",
          "state": {
            "_dom_classes": [],
            "_model_module": "@jupyter-widgets/controls",
            "_model_module_version": "1.5.0",
            "_model_name": "HTMLModel",
            "_view_count": null,
            "_view_module": "@jupyter-widgets/controls",
            "_view_module_version": "1.5.0",
            "_view_name": "HTMLView",
            "description": "",
            "description_tooltip": null,
            "layout": "IPY_MODEL_88f8b499ec16433197e419527d38800a",
            "placeholder": "​",
            "style": "IPY_MODEL_1e379202828349bb966beb6a86066c50",
            "value": "README.md: 100%"
          }
        },
        "460d9247be3244b49877d48ccacee241": {
          "model_module": "@jupyter-widgets/controls",
          "model_name": "FloatProgressModel",
          "model_module_version": "1.5.0",
          "state": {
            "_dom_classes": [],
            "_model_module": "@jupyter-widgets/controls",
            "_model_module_version": "1.5.0",
            "_model_name": "FloatProgressModel",
            "_view_count": null,
            "_view_module": "@jupyter-widgets/controls",
            "_view_module_version": "1.5.0",
            "_view_name": "ProgressView",
            "bar_style": "success",
            "description": "",
            "description_tooltip": null,
            "layout": "IPY_MODEL_6e96de16baa44e4ea08fdadb4cc09836",
            "max": 114063,
            "min": 0,
            "orientation": "horizontal",
            "style": "IPY_MODEL_1d8cc754d6494f7a928f7491b2aed09a",
            "value": 114063
          }
        },
        "846fe81eea1b49d28dd88529b780594d": {
          "model_module": "@jupyter-widgets/controls",
          "model_name": "HTMLModel",
          "model_module_version": "1.5.0",
          "state": {
            "_dom_classes": [],
            "_model_module": "@jupyter-widgets/controls",
            "_model_module_version": "1.5.0",
            "_model_name": "HTMLModel",
            "_view_count": null,
            "_view_module": "@jupyter-widgets/controls",
            "_view_module_version": "1.5.0",
            "_view_name": "HTMLView",
            "description": "",
            "description_tooltip": null,
            "layout": "IPY_MODEL_1809882487f749189d3b001fc790efd0",
            "placeholder": "​",
            "style": "IPY_MODEL_654fa59f60ed4c25bbd93c84584b60f9",
            "value": " 114k/114k [00:00&lt;00:00, 3.58MB/s]"
          }
        },
        "509f011bd090495987db55a29327b731": {
          "model_module": "@jupyter-widgets/base",
          "model_name": "LayoutModel",
          "model_module_version": "1.2.0",
          "state": {
            "_model_module": "@jupyter-widgets/base",
            "_model_module_version": "1.2.0",
            "_model_name": "LayoutModel",
            "_view_count": null,
            "_view_module": "@jupyter-widgets/base",
            "_view_module_version": "1.2.0",
            "_view_name": "LayoutView",
            "align_content": null,
            "align_items": null,
            "align_self": null,
            "border": null,
            "bottom": null,
            "display": null,
            "flex": null,
            "flex_flow": null,
            "grid_area": null,
            "grid_auto_columns": null,
            "grid_auto_flow": null,
            "grid_auto_rows": null,
            "grid_column": null,
            "grid_gap": null,
            "grid_row": null,
            "grid_template_areas": null,
            "grid_template_columns": null,
            "grid_template_rows": null,
            "height": null,
            "justify_content": null,
            "justify_items": null,
            "left": null,
            "margin": null,
            "max_height": null,
            "max_width": null,
            "min_height": null,
            "min_width": null,
            "object_fit": null,
            "object_position": null,
            "order": null,
            "overflow": null,
            "overflow_x": null,
            "overflow_y": null,
            "padding": null,
            "right": null,
            "top": null,
            "visibility": null,
            "width": null
          }
        },
        "88f8b499ec16433197e419527d38800a": {
          "model_module": "@jupyter-widgets/base",
          "model_name": "LayoutModel",
          "model_module_version": "1.2.0",
          "state": {
            "_model_module": "@jupyter-widgets/base",
            "_model_module_version": "1.2.0",
            "_model_name": "LayoutModel",
            "_view_count": null,
            "_view_module": "@jupyter-widgets/base",
            "_view_module_version": "1.2.0",
            "_view_name": "LayoutView",
            "align_content": null,
            "align_items": null,
            "align_self": null,
            "border": null,
            "bottom": null,
            "display": null,
            "flex": null,
            "flex_flow": null,
            "grid_area": null,
            "grid_auto_columns": null,
            "grid_auto_flow": null,
            "grid_auto_rows": null,
            "grid_column": null,
            "grid_gap": null,
            "grid_row": null,
            "grid_template_areas": null,
            "grid_template_columns": null,
            "grid_template_rows": null,
            "height": null,
            "justify_content": null,
            "justify_items": null,
            "left": null,
            "margin": null,
            "max_height": null,
            "max_width": null,
            "min_height": null,
            "min_width": null,
            "object_fit": null,
            "object_position": null,
            "order": null,
            "overflow": null,
            "overflow_x": null,
            "overflow_y": null,
            "padding": null,
            "right": null,
            "top": null,
            "visibility": null,
            "width": null
          }
        },
        "1e379202828349bb966beb6a86066c50": {
          "model_module": "@jupyter-widgets/controls",
          "model_name": "DescriptionStyleModel",
          "model_module_version": "1.5.0",
          "state": {
            "_model_module": "@jupyter-widgets/controls",
            "_model_module_version": "1.5.0",
            "_model_name": "DescriptionStyleModel",
            "_view_count": null,
            "_view_module": "@jupyter-widgets/base",
            "_view_module_version": "1.2.0",
            "_view_name": "StyleView",
            "description_width": ""
          }
        },
        "6e96de16baa44e4ea08fdadb4cc09836": {
          "model_module": "@jupyter-widgets/base",
          "model_name": "LayoutModel",
          "model_module_version": "1.2.0",
          "state": {
            "_model_module": "@jupyter-widgets/base",
            "_model_module_version": "1.2.0",
            "_model_name": "LayoutModel",
            "_view_count": null,
            "_view_module": "@jupyter-widgets/base",
            "_view_module_version": "1.2.0",
            "_view_name": "LayoutView",
            "align_content": null,
            "align_items": null,
            "align_self": null,
            "border": null,
            "bottom": null,
            "display": null,
            "flex": null,
            "flex_flow": null,
            "grid_area": null,
            "grid_auto_columns": null,
            "grid_auto_flow": null,
            "grid_auto_rows": null,
            "grid_column": null,
            "grid_gap": null,
            "grid_row": null,
            "grid_template_areas": null,
            "grid_template_columns": null,
            "grid_template_rows": null,
            "height": null,
            "justify_content": null,
            "justify_items": null,
            "left": null,
            "margin": null,
            "max_height": null,
            "max_width": null,
            "min_height": null,
            "min_width": null,
            "object_fit": null,
            "object_position": null,
            "order": null,
            "overflow": null,
            "overflow_x": null,
            "overflow_y": null,
            "padding": null,
            "right": null,
            "top": null,
            "visibility": null,
            "width": null
          }
        },
        "1d8cc754d6494f7a928f7491b2aed09a": {
          "model_module": "@jupyter-widgets/controls",
          "model_name": "ProgressStyleModel",
          "model_module_version": "1.5.0",
          "state": {
            "_model_module": "@jupyter-widgets/controls",
            "_model_module_version": "1.5.0",
            "_model_name": "ProgressStyleModel",
            "_view_count": null,
            "_view_module": "@jupyter-widgets/base",
            "_view_module_version": "1.2.0",
            "_view_name": "StyleView",
            "bar_color": null,
            "description_width": ""
          }
        },
        "1809882487f749189d3b001fc790efd0": {
          "model_module": "@jupyter-widgets/base",
          "model_name": "LayoutModel",
          "model_module_version": "1.2.0",
          "state": {
            "_model_module": "@jupyter-widgets/base",
            "_model_module_version": "1.2.0",
            "_model_name": "LayoutModel",
            "_view_count": null,
            "_view_module": "@jupyter-widgets/base",
            "_view_module_version": "1.2.0",
            "_view_name": "LayoutView",
            "align_content": null,
            "align_items": null,
            "align_self": null,
            "border": null,
            "bottom": null,
            "display": null,
            "flex": null,
            "flex_flow": null,
            "grid_area": null,
            "grid_auto_columns": null,
            "grid_auto_flow": null,
            "grid_auto_rows": null,
            "grid_column": null,
            "grid_gap": null,
            "grid_row": null,
            "grid_template_areas": null,
            "grid_template_columns": null,
            "grid_template_rows": null,
            "height": null,
            "justify_content": null,
            "justify_items": null,
            "left": null,
            "margin": null,
            "max_height": null,
            "max_width": null,
            "min_height": null,
            "min_width": null,
            "object_fit": null,
            "object_position": null,
            "order": null,
            "overflow": null,
            "overflow_x": null,
            "overflow_y": null,
            "padding": null,
            "right": null,
            "top": null,
            "visibility": null,
            "width": null
          }
        },
        "654fa59f60ed4c25bbd93c84584b60f9": {
          "model_module": "@jupyter-widgets/controls",
          "model_name": "DescriptionStyleModel",
          "model_module_version": "1.5.0",
          "state": {
            "_model_module": "@jupyter-widgets/controls",
            "_model_module_version": "1.5.0",
            "_model_name": "DescriptionStyleModel",
            "_view_count": null,
            "_view_module": "@jupyter-widgets/base",
            "_view_module_version": "1.2.0",
            "_view_name": "StyleView",
            "description_width": ""
          }
        },
        "7ecb26d0ed694cce8a09187a0aee5719": {
          "model_module": "@jupyter-widgets/controls",
          "model_name": "HBoxModel",
          "model_module_version": "1.5.0",
          "state": {
            "_dom_classes": [],
            "_model_module": "@jupyter-widgets/controls",
            "_model_module_version": "1.5.0",
            "_model_name": "HBoxModel",
            "_view_count": null,
            "_view_module": "@jupyter-widgets/controls",
            "_view_module_version": "1.5.0",
            "_view_name": "HBoxView",
            "box_style": "",
            "children": [
              "IPY_MODEL_18fa1acee94d45829558bbd9161d41b2",
              "IPY_MODEL_34d462a0f0cb4dfda8800aa0007dfe12",
              "IPY_MODEL_9e09eda637934175969d8b34f2b62a26"
            ],
            "layout": "IPY_MODEL_9931d41de48144b9ae4814825092026b"
          }
        },
        "18fa1acee94d45829558bbd9161d41b2": {
          "model_module": "@jupyter-widgets/controls",
          "model_name": "HTMLModel",
          "model_module_version": "1.5.0",
          "state": {
            "_dom_classes": [],
            "_model_module": "@jupyter-widgets/controls",
            "_model_module_version": "1.5.0",
            "_model_name": "HTMLModel",
            "_view_count": null,
            "_view_module": "@jupyter-widgets/controls",
            "_view_module_version": "1.5.0",
            "_view_name": "HTMLView",
            "description": "",
            "description_tooltip": null,
            "layout": "IPY_MODEL_7fb83dbe929546e5a20c2e3177cf46f3",
            "placeholder": "​",
            "style": "IPY_MODEL_9532b20cd1624c59a4e836d246c9f926",
            "value": "sentence_bert_config.json: 100%"
          }
        },
        "34d462a0f0cb4dfda8800aa0007dfe12": {
          "model_module": "@jupyter-widgets/controls",
          "model_name": "FloatProgressModel",
          "model_module_version": "1.5.0",
          "state": {
            "_dom_classes": [],
            "_model_module": "@jupyter-widgets/controls",
            "_model_module_version": "1.5.0",
            "_model_name": "FloatProgressModel",
            "_view_count": null,
            "_view_module": "@jupyter-widgets/controls",
            "_view_module_version": "1.5.0",
            "_view_name": "ProgressView",
            "bar_style": "success",
            "description": "",
            "description_tooltip": null,
            "layout": "IPY_MODEL_bfe5bc0af91649268cbf5f8dc317826f",
            "max": 53,
            "min": 0,
            "orientation": "horizontal",
            "style": "IPY_MODEL_ae418ed9f4964600abb3d189017d43e8",
            "value": 53
          }
        },
        "9e09eda637934175969d8b34f2b62a26": {
          "model_module": "@jupyter-widgets/controls",
          "model_name": "HTMLModel",
          "model_module_version": "1.5.0",
          "state": {
            "_dom_classes": [],
            "_model_module": "@jupyter-widgets/controls",
            "_model_module_version": "1.5.0",
            "_model_name": "HTMLModel",
            "_view_count": null,
            "_view_module": "@jupyter-widgets/controls",
            "_view_module_version": "1.5.0",
            "_view_name": "HTMLView",
            "description": "",
            "description_tooltip": null,
            "layout": "IPY_MODEL_d0b6e63075894138ba4662700033068b",
            "placeholder": "​",
            "style": "IPY_MODEL_ff9c34f49b3a4a169f87cffe6d00c4f4",
            "value": " 53.0/53.0 [00:00&lt;00:00, 1.50kB/s]"
          }
        },
        "9931d41de48144b9ae4814825092026b": {
          "model_module": "@jupyter-widgets/base",
          "model_name": "LayoutModel",
          "model_module_version": "1.2.0",
          "state": {
            "_model_module": "@jupyter-widgets/base",
            "_model_module_version": "1.2.0",
            "_model_name": "LayoutModel",
            "_view_count": null,
            "_view_module": "@jupyter-widgets/base",
            "_view_module_version": "1.2.0",
            "_view_name": "LayoutView",
            "align_content": null,
            "align_items": null,
            "align_self": null,
            "border": null,
            "bottom": null,
            "display": null,
            "flex": null,
            "flex_flow": null,
            "grid_area": null,
            "grid_auto_columns": null,
            "grid_auto_flow": null,
            "grid_auto_rows": null,
            "grid_column": null,
            "grid_gap": null,
            "grid_row": null,
            "grid_template_areas": null,
            "grid_template_columns": null,
            "grid_template_rows": null,
            "height": null,
            "justify_content": null,
            "justify_items": null,
            "left": null,
            "margin": null,
            "max_height": null,
            "max_width": null,
            "min_height": null,
            "min_width": null,
            "object_fit": null,
            "object_position": null,
            "order": null,
            "overflow": null,
            "overflow_x": null,
            "overflow_y": null,
            "padding": null,
            "right": null,
            "top": null,
            "visibility": null,
            "width": null
          }
        },
        "7fb83dbe929546e5a20c2e3177cf46f3": {
          "model_module": "@jupyter-widgets/base",
          "model_name": "LayoutModel",
          "model_module_version": "1.2.0",
          "state": {
            "_model_module": "@jupyter-widgets/base",
            "_model_module_version": "1.2.0",
            "_model_name": "LayoutModel",
            "_view_count": null,
            "_view_module": "@jupyter-widgets/base",
            "_view_module_version": "1.2.0",
            "_view_name": "LayoutView",
            "align_content": null,
            "align_items": null,
            "align_self": null,
            "border": null,
            "bottom": null,
            "display": null,
            "flex": null,
            "flex_flow": null,
            "grid_area": null,
            "grid_auto_columns": null,
            "grid_auto_flow": null,
            "grid_auto_rows": null,
            "grid_column": null,
            "grid_gap": null,
            "grid_row": null,
            "grid_template_areas": null,
            "grid_template_columns": null,
            "grid_template_rows": null,
            "height": null,
            "justify_content": null,
            "justify_items": null,
            "left": null,
            "margin": null,
            "max_height": null,
            "max_width": null,
            "min_height": null,
            "min_width": null,
            "object_fit": null,
            "object_position": null,
            "order": null,
            "overflow": null,
            "overflow_x": null,
            "overflow_y": null,
            "padding": null,
            "right": null,
            "top": null,
            "visibility": null,
            "width": null
          }
        },
        "9532b20cd1624c59a4e836d246c9f926": {
          "model_module": "@jupyter-widgets/controls",
          "model_name": "DescriptionStyleModel",
          "model_module_version": "1.5.0",
          "state": {
            "_model_module": "@jupyter-widgets/controls",
            "_model_module_version": "1.5.0",
            "_model_name": "DescriptionStyleModel",
            "_view_count": null,
            "_view_module": "@jupyter-widgets/base",
            "_view_module_version": "1.2.0",
            "_view_name": "StyleView",
            "description_width": ""
          }
        },
        "bfe5bc0af91649268cbf5f8dc317826f": {
          "model_module": "@jupyter-widgets/base",
          "model_name": "LayoutModel",
          "model_module_version": "1.2.0",
          "state": {
            "_model_module": "@jupyter-widgets/base",
            "_model_module_version": "1.2.0",
            "_model_name": "LayoutModel",
            "_view_count": null,
            "_view_module": "@jupyter-widgets/base",
            "_view_module_version": "1.2.0",
            "_view_name": "LayoutView",
            "align_content": null,
            "align_items": null,
            "align_self": null,
            "border": null,
            "bottom": null,
            "display": null,
            "flex": null,
            "flex_flow": null,
            "grid_area": null,
            "grid_auto_columns": null,
            "grid_auto_flow": null,
            "grid_auto_rows": null,
            "grid_column": null,
            "grid_gap": null,
            "grid_row": null,
            "grid_template_areas": null,
            "grid_template_columns": null,
            "grid_template_rows": null,
            "height": null,
            "justify_content": null,
            "justify_items": null,
            "left": null,
            "margin": null,
            "max_height": null,
            "max_width": null,
            "min_height": null,
            "min_width": null,
            "object_fit": null,
            "object_position": null,
            "order": null,
            "overflow": null,
            "overflow_x": null,
            "overflow_y": null,
            "padding": null,
            "right": null,
            "top": null,
            "visibility": null,
            "width": null
          }
        },
        "ae418ed9f4964600abb3d189017d43e8": {
          "model_module": "@jupyter-widgets/controls",
          "model_name": "ProgressStyleModel",
          "model_module_version": "1.5.0",
          "state": {
            "_model_module": "@jupyter-widgets/controls",
            "_model_module_version": "1.5.0",
            "_model_name": "ProgressStyleModel",
            "_view_count": null,
            "_view_module": "@jupyter-widgets/base",
            "_view_module_version": "1.2.0",
            "_view_name": "StyleView",
            "bar_color": null,
            "description_width": ""
          }
        },
        "d0b6e63075894138ba4662700033068b": {
          "model_module": "@jupyter-widgets/base",
          "model_name": "LayoutModel",
          "model_module_version": "1.2.0",
          "state": {
            "_model_module": "@jupyter-widgets/base",
            "_model_module_version": "1.2.0",
            "_model_name": "LayoutModel",
            "_view_count": null,
            "_view_module": "@jupyter-widgets/base",
            "_view_module_version": "1.2.0",
            "_view_name": "LayoutView",
            "align_content": null,
            "align_items": null,
            "align_self": null,
            "border": null,
            "bottom": null,
            "display": null,
            "flex": null,
            "flex_flow": null,
            "grid_area": null,
            "grid_auto_columns": null,
            "grid_auto_flow": null,
            "grid_auto_rows": null,
            "grid_column": null,
            "grid_gap": null,
            "grid_row": null,
            "grid_template_areas": null,
            "grid_template_columns": null,
            "grid_template_rows": null,
            "height": null,
            "justify_content": null,
            "justify_items": null,
            "left": null,
            "margin": null,
            "max_height": null,
            "max_width": null,
            "min_height": null,
            "min_width": null,
            "object_fit": null,
            "object_position": null,
            "order": null,
            "overflow": null,
            "overflow_x": null,
            "overflow_y": null,
            "padding": null,
            "right": null,
            "top": null,
            "visibility": null,
            "width": null
          }
        },
        "ff9c34f49b3a4a169f87cffe6d00c4f4": {
          "model_module": "@jupyter-widgets/controls",
          "model_name": "DescriptionStyleModel",
          "model_module_version": "1.5.0",
          "state": {
            "_model_module": "@jupyter-widgets/controls",
            "_model_module_version": "1.5.0",
            "_model_name": "DescriptionStyleModel",
            "_view_count": null,
            "_view_module": "@jupyter-widgets/base",
            "_view_module_version": "1.2.0",
            "_view_name": "StyleView",
            "description_width": ""
          }
        },
        "2160d672d44646f8b7286949250edca3": {
          "model_module": "@jupyter-widgets/controls",
          "model_name": "HBoxModel",
          "model_module_version": "1.5.0",
          "state": {
            "_dom_classes": [],
            "_model_module": "@jupyter-widgets/controls",
            "_model_module_version": "1.5.0",
            "_model_name": "HBoxModel",
            "_view_count": null,
            "_view_module": "@jupyter-widgets/controls",
            "_view_module_version": "1.5.0",
            "_view_name": "HBoxView",
            "box_style": "",
            "children": [
              "IPY_MODEL_35cbee9a44cf478ba43a791fe8f1d422",
              "IPY_MODEL_b5b2a4419ab24e5998a7aeaa63950bcd",
              "IPY_MODEL_b6b220fb93d44cfe8e44844109736812"
            ],
            "layout": "IPY_MODEL_a27c1d4772da45a89c5be93f49fce4f3"
          }
        },
        "35cbee9a44cf478ba43a791fe8f1d422": {
          "model_module": "@jupyter-widgets/controls",
          "model_name": "HTMLModel",
          "model_module_version": "1.5.0",
          "state": {
            "_dom_classes": [],
            "_model_module": "@jupyter-widgets/controls",
            "_model_module_version": "1.5.0",
            "_model_name": "HTMLModel",
            "_view_count": null,
            "_view_module": "@jupyter-widgets/controls",
            "_view_module_version": "1.5.0",
            "_view_name": "HTMLView",
            "description": "",
            "description_tooltip": null,
            "layout": "IPY_MODEL_88cc850738424832846dfd7952ae7598",
            "placeholder": "​",
            "style": "IPY_MODEL_f05417192f54467585c2b203580d0c4c",
            "value": "config.json: 100%"
          }
        },
        "b5b2a4419ab24e5998a7aeaa63950bcd": {
          "model_module": "@jupyter-widgets/controls",
          "model_name": "FloatProgressModel",
          "model_module_version": "1.5.0",
          "state": {
            "_dom_classes": [],
            "_model_module": "@jupyter-widgets/controls",
            "_model_module_version": "1.5.0",
            "_model_name": "FloatProgressModel",
            "_view_count": null,
            "_view_module": "@jupyter-widgets/controls",
            "_view_module_version": "1.5.0",
            "_view_name": "ProgressView",
            "bar_style": "success",
            "description": "",
            "description_tooltip": null,
            "layout": "IPY_MODEL_0c12c0f89e7f4b6f9c413d5fcf9b5663",
            "max": 677,
            "min": 0,
            "orientation": "horizontal",
            "style": "IPY_MODEL_a8b4f4caaacc42509942ec6eae254efc",
            "value": 677
          }
        },
        "b6b220fb93d44cfe8e44844109736812": {
          "model_module": "@jupyter-widgets/controls",
          "model_name": "HTMLModel",
          "model_module_version": "1.5.0",
          "state": {
            "_dom_classes": [],
            "_model_module": "@jupyter-widgets/controls",
            "_model_module_version": "1.5.0",
            "_model_name": "HTMLModel",
            "_view_count": null,
            "_view_module": "@jupyter-widgets/controls",
            "_view_module_version": "1.5.0",
            "_view_name": "HTMLView",
            "description": "",
            "description_tooltip": null,
            "layout": "IPY_MODEL_f4c31b1ae8e14ed6bb7b56924862c5c4",
            "placeholder": "​",
            "style": "IPY_MODEL_93cdb22720c946ca99066e4569db2aee",
            "value": " 677/677 [00:00&lt;00:00, 29.3kB/s]"
          }
        },
        "a27c1d4772da45a89c5be93f49fce4f3": {
          "model_module": "@jupyter-widgets/base",
          "model_name": "LayoutModel",
          "model_module_version": "1.2.0",
          "state": {
            "_model_module": "@jupyter-widgets/base",
            "_model_module_version": "1.2.0",
            "_model_name": "LayoutModel",
            "_view_count": null,
            "_view_module": "@jupyter-widgets/base",
            "_view_module_version": "1.2.0",
            "_view_name": "LayoutView",
            "align_content": null,
            "align_items": null,
            "align_self": null,
            "border": null,
            "bottom": null,
            "display": null,
            "flex": null,
            "flex_flow": null,
            "grid_area": null,
            "grid_auto_columns": null,
            "grid_auto_flow": null,
            "grid_auto_rows": null,
            "grid_column": null,
            "grid_gap": null,
            "grid_row": null,
            "grid_template_areas": null,
            "grid_template_columns": null,
            "grid_template_rows": null,
            "height": null,
            "justify_content": null,
            "justify_items": null,
            "left": null,
            "margin": null,
            "max_height": null,
            "max_width": null,
            "min_height": null,
            "min_width": null,
            "object_fit": null,
            "object_position": null,
            "order": null,
            "overflow": null,
            "overflow_x": null,
            "overflow_y": null,
            "padding": null,
            "right": null,
            "top": null,
            "visibility": null,
            "width": null
          }
        },
        "88cc850738424832846dfd7952ae7598": {
          "model_module": "@jupyter-widgets/base",
          "model_name": "LayoutModel",
          "model_module_version": "1.2.0",
          "state": {
            "_model_module": "@jupyter-widgets/base",
            "_model_module_version": "1.2.0",
            "_model_name": "LayoutModel",
            "_view_count": null,
            "_view_module": "@jupyter-widgets/base",
            "_view_module_version": "1.2.0",
            "_view_name": "LayoutView",
            "align_content": null,
            "align_items": null,
            "align_self": null,
            "border": null,
            "bottom": null,
            "display": null,
            "flex": null,
            "flex_flow": null,
            "grid_area": null,
            "grid_auto_columns": null,
            "grid_auto_flow": null,
            "grid_auto_rows": null,
            "grid_column": null,
            "grid_gap": null,
            "grid_row": null,
            "grid_template_areas": null,
            "grid_template_columns": null,
            "grid_template_rows": null,
            "height": null,
            "justify_content": null,
            "justify_items": null,
            "left": null,
            "margin": null,
            "max_height": null,
            "max_width": null,
            "min_height": null,
            "min_width": null,
            "object_fit": null,
            "object_position": null,
            "order": null,
            "overflow": null,
            "overflow_x": null,
            "overflow_y": null,
            "padding": null,
            "right": null,
            "top": null,
            "visibility": null,
            "width": null
          }
        },
        "f05417192f54467585c2b203580d0c4c": {
          "model_module": "@jupyter-widgets/controls",
          "model_name": "DescriptionStyleModel",
          "model_module_version": "1.5.0",
          "state": {
            "_model_module": "@jupyter-widgets/controls",
            "_model_module_version": "1.5.0",
            "_model_name": "DescriptionStyleModel",
            "_view_count": null,
            "_view_module": "@jupyter-widgets/base",
            "_view_module_version": "1.2.0",
            "_view_name": "StyleView",
            "description_width": ""
          }
        },
        "0c12c0f89e7f4b6f9c413d5fcf9b5663": {
          "model_module": "@jupyter-widgets/base",
          "model_name": "LayoutModel",
          "model_module_version": "1.2.0",
          "state": {
            "_model_module": "@jupyter-widgets/base",
            "_model_module_version": "1.2.0",
            "_model_name": "LayoutModel",
            "_view_count": null,
            "_view_module": "@jupyter-widgets/base",
            "_view_module_version": "1.2.0",
            "_view_name": "LayoutView",
            "align_content": null,
            "align_items": null,
            "align_self": null,
            "border": null,
            "bottom": null,
            "display": null,
            "flex": null,
            "flex_flow": null,
            "grid_area": null,
            "grid_auto_columns": null,
            "grid_auto_flow": null,
            "grid_auto_rows": null,
            "grid_column": null,
            "grid_gap": null,
            "grid_row": null,
            "grid_template_areas": null,
            "grid_template_columns": null,
            "grid_template_rows": null,
            "height": null,
            "justify_content": null,
            "justify_items": null,
            "left": null,
            "margin": null,
            "max_height": null,
            "max_width": null,
            "min_height": null,
            "min_width": null,
            "object_fit": null,
            "object_position": null,
            "order": null,
            "overflow": null,
            "overflow_x": null,
            "overflow_y": null,
            "padding": null,
            "right": null,
            "top": null,
            "visibility": null,
            "width": null
          }
        },
        "a8b4f4caaacc42509942ec6eae254efc": {
          "model_module": "@jupyter-widgets/controls",
          "model_name": "ProgressStyleModel",
          "model_module_version": "1.5.0",
          "state": {
            "_model_module": "@jupyter-widgets/controls",
            "_model_module_version": "1.5.0",
            "_model_name": "ProgressStyleModel",
            "_view_count": null,
            "_view_module": "@jupyter-widgets/base",
            "_view_module_version": "1.2.0",
            "_view_name": "StyleView",
            "bar_color": null,
            "description_width": ""
          }
        },
        "f4c31b1ae8e14ed6bb7b56924862c5c4": {
          "model_module": "@jupyter-widgets/base",
          "model_name": "LayoutModel",
          "model_module_version": "1.2.0",
          "state": {
            "_model_module": "@jupyter-widgets/base",
            "_model_module_version": "1.2.0",
            "_model_name": "LayoutModel",
            "_view_count": null,
            "_view_module": "@jupyter-widgets/base",
            "_view_module_version": "1.2.0",
            "_view_name": "LayoutView",
            "align_content": null,
            "align_items": null,
            "align_self": null,
            "border": null,
            "bottom": null,
            "display": null,
            "flex": null,
            "flex_flow": null,
            "grid_area": null,
            "grid_auto_columns": null,
            "grid_auto_flow": null,
            "grid_auto_rows": null,
            "grid_column": null,
            "grid_gap": null,
            "grid_row": null,
            "grid_template_areas": null,
            "grid_template_columns": null,
            "grid_template_rows": null,
            "height": null,
            "justify_content": null,
            "justify_items": null,
            "left": null,
            "margin": null,
            "max_height": null,
            "max_width": null,
            "min_height": null,
            "min_width": null,
            "object_fit": null,
            "object_position": null,
            "order": null,
            "overflow": null,
            "overflow_x": null,
            "overflow_y": null,
            "padding": null,
            "right": null,
            "top": null,
            "visibility": null,
            "width": null
          }
        },
        "93cdb22720c946ca99066e4569db2aee": {
          "model_module": "@jupyter-widgets/controls",
          "model_name": "DescriptionStyleModel",
          "model_module_version": "1.5.0",
          "state": {
            "_model_module": "@jupyter-widgets/controls",
            "_model_module_version": "1.5.0",
            "_model_name": "DescriptionStyleModel",
            "_view_count": null,
            "_view_module": "@jupyter-widgets/base",
            "_view_module_version": "1.2.0",
            "_view_name": "StyleView",
            "description_width": ""
          }
        },
        "640db713dcd24534a0ccbe1d3334bb76": {
          "model_module": "@jupyter-widgets/controls",
          "model_name": "HBoxModel",
          "model_module_version": "1.5.0",
          "state": {
            "_dom_classes": [],
            "_model_module": "@jupyter-widgets/controls",
            "_model_module_version": "1.5.0",
            "_model_name": "HBoxModel",
            "_view_count": null,
            "_view_module": "@jupyter-widgets/controls",
            "_view_module_version": "1.5.0",
            "_view_name": "HBoxView",
            "box_style": "",
            "children": [
              "IPY_MODEL_6c4e49c5332e40f09543c32ab0a1e0f7",
              "IPY_MODEL_a3439929a243416ab04c4c3248c432ea",
              "IPY_MODEL_80ac0c7bc19a45859e8948c2b6f6c1b2"
            ],
            "layout": "IPY_MODEL_3e69db01354d4db4b4459bd11aae45e3"
          }
        },
        "6c4e49c5332e40f09543c32ab0a1e0f7": {
          "model_module": "@jupyter-widgets/controls",
          "model_name": "HTMLModel",
          "model_module_version": "1.5.0",
          "state": {
            "_dom_classes": [],
            "_model_module": "@jupyter-widgets/controls",
            "_model_module_version": "1.5.0",
            "_model_name": "HTMLModel",
            "_view_count": null,
            "_view_module": "@jupyter-widgets/controls",
            "_view_module_version": "1.5.0",
            "_view_name": "HTMLView",
            "description": "",
            "description_tooltip": null,
            "layout": "IPY_MODEL_59d0dcfeec864399871997e0c43fae1e",
            "placeholder": "​",
            "style": "IPY_MODEL_cdb633df80b24ad3afbc177265aa142d",
            "value": "model.safetensors: 100%"
          }
        },
        "a3439929a243416ab04c4c3248c432ea": {
          "model_module": "@jupyter-widgets/controls",
          "model_name": "FloatProgressModel",
          "model_module_version": "1.5.0",
          "state": {
            "_dom_classes": [],
            "_model_module": "@jupyter-widgets/controls",
            "_model_module_version": "1.5.0",
            "_model_name": "FloatProgressModel",
            "_view_count": null,
            "_view_module": "@jupyter-widgets/controls",
            "_view_module_version": "1.5.0",
            "_view_name": "ProgressView",
            "bar_style": "success",
            "description": "",
            "description_tooltip": null,
            "layout": "IPY_MODEL_ce8b323d4a1c47b385fd697835fab9c0",
            "max": 670328392,
            "min": 0,
            "orientation": "horizontal",
            "style": "IPY_MODEL_a5026a39b7b3434da099e25d363bf6db",
            "value": 670328392
          }
        },
        "80ac0c7bc19a45859e8948c2b6f6c1b2": {
          "model_module": "@jupyter-widgets/controls",
          "model_name": "HTMLModel",
          "model_module_version": "1.5.0",
          "state": {
            "_dom_classes": [],
            "_model_module": "@jupyter-widgets/controls",
            "_model_module_version": "1.5.0",
            "_model_name": "HTMLModel",
            "_view_count": null,
            "_view_module": "@jupyter-widgets/controls",
            "_view_module_version": "1.5.0",
            "_view_name": "HTMLView",
            "description": "",
            "description_tooltip": null,
            "layout": "IPY_MODEL_a6e44722fb6d4e8bb2b8175dc3f4148b",
            "placeholder": "​",
            "style": "IPY_MODEL_51217a4e7f704467b8d4c5cec8d7fe40",
            "value": " 670M/670M [00:15&lt;00:00, 42.4MB/s]"
          }
        },
        "3e69db01354d4db4b4459bd11aae45e3": {
          "model_module": "@jupyter-widgets/base",
          "model_name": "LayoutModel",
          "model_module_version": "1.2.0",
          "state": {
            "_model_module": "@jupyter-widgets/base",
            "_model_module_version": "1.2.0",
            "_model_name": "LayoutModel",
            "_view_count": null,
            "_view_module": "@jupyter-widgets/base",
            "_view_module_version": "1.2.0",
            "_view_name": "LayoutView",
            "align_content": null,
            "align_items": null,
            "align_self": null,
            "border": null,
            "bottom": null,
            "display": null,
            "flex": null,
            "flex_flow": null,
            "grid_area": null,
            "grid_auto_columns": null,
            "grid_auto_flow": null,
            "grid_auto_rows": null,
            "grid_column": null,
            "grid_gap": null,
            "grid_row": null,
            "grid_template_areas": null,
            "grid_template_columns": null,
            "grid_template_rows": null,
            "height": null,
            "justify_content": null,
            "justify_items": null,
            "left": null,
            "margin": null,
            "max_height": null,
            "max_width": null,
            "min_height": null,
            "min_width": null,
            "object_fit": null,
            "object_position": null,
            "order": null,
            "overflow": null,
            "overflow_x": null,
            "overflow_y": null,
            "padding": null,
            "right": null,
            "top": null,
            "visibility": null,
            "width": null
          }
        },
        "59d0dcfeec864399871997e0c43fae1e": {
          "model_module": "@jupyter-widgets/base",
          "model_name": "LayoutModel",
          "model_module_version": "1.2.0",
          "state": {
            "_model_module": "@jupyter-widgets/base",
            "_model_module_version": "1.2.0",
            "_model_name": "LayoutModel",
            "_view_count": null,
            "_view_module": "@jupyter-widgets/base",
            "_view_module_version": "1.2.0",
            "_view_name": "LayoutView",
            "align_content": null,
            "align_items": null,
            "align_self": null,
            "border": null,
            "bottom": null,
            "display": null,
            "flex": null,
            "flex_flow": null,
            "grid_area": null,
            "grid_auto_columns": null,
            "grid_auto_flow": null,
            "grid_auto_rows": null,
            "grid_column": null,
            "grid_gap": null,
            "grid_row": null,
            "grid_template_areas": null,
            "grid_template_columns": null,
            "grid_template_rows": null,
            "height": null,
            "justify_content": null,
            "justify_items": null,
            "left": null,
            "margin": null,
            "max_height": null,
            "max_width": null,
            "min_height": null,
            "min_width": null,
            "object_fit": null,
            "object_position": null,
            "order": null,
            "overflow": null,
            "overflow_x": null,
            "overflow_y": null,
            "padding": null,
            "right": null,
            "top": null,
            "visibility": null,
            "width": null
          }
        },
        "cdb633df80b24ad3afbc177265aa142d": {
          "model_module": "@jupyter-widgets/controls",
          "model_name": "DescriptionStyleModel",
          "model_module_version": "1.5.0",
          "state": {
            "_model_module": "@jupyter-widgets/controls",
            "_model_module_version": "1.5.0",
            "_model_name": "DescriptionStyleModel",
            "_view_count": null,
            "_view_module": "@jupyter-widgets/base",
            "_view_module_version": "1.2.0",
            "_view_name": "StyleView",
            "description_width": ""
          }
        },
        "ce8b323d4a1c47b385fd697835fab9c0": {
          "model_module": "@jupyter-widgets/base",
          "model_name": "LayoutModel",
          "model_module_version": "1.2.0",
          "state": {
            "_model_module": "@jupyter-widgets/base",
            "_model_module_version": "1.2.0",
            "_model_name": "LayoutModel",
            "_view_count": null,
            "_view_module": "@jupyter-widgets/base",
            "_view_module_version": "1.2.0",
            "_view_name": "LayoutView",
            "align_content": null,
            "align_items": null,
            "align_self": null,
            "border": null,
            "bottom": null,
            "display": null,
            "flex": null,
            "flex_flow": null,
            "grid_area": null,
            "grid_auto_columns": null,
            "grid_auto_flow": null,
            "grid_auto_rows": null,
            "grid_column": null,
            "grid_gap": null,
            "grid_row": null,
            "grid_template_areas": null,
            "grid_template_columns": null,
            "grid_template_rows": null,
            "height": null,
            "justify_content": null,
            "justify_items": null,
            "left": null,
            "margin": null,
            "max_height": null,
            "max_width": null,
            "min_height": null,
            "min_width": null,
            "object_fit": null,
            "object_position": null,
            "order": null,
            "overflow": null,
            "overflow_x": null,
            "overflow_y": null,
            "padding": null,
            "right": null,
            "top": null,
            "visibility": null,
            "width": null
          }
        },
        "a5026a39b7b3434da099e25d363bf6db": {
          "model_module": "@jupyter-widgets/controls",
          "model_name": "ProgressStyleModel",
          "model_module_version": "1.5.0",
          "state": {
            "_model_module": "@jupyter-widgets/controls",
            "_model_module_version": "1.5.0",
            "_model_name": "ProgressStyleModel",
            "_view_count": null,
            "_view_module": "@jupyter-widgets/base",
            "_view_module_version": "1.2.0",
            "_view_name": "StyleView",
            "bar_color": null,
            "description_width": ""
          }
        },
        "a6e44722fb6d4e8bb2b8175dc3f4148b": {
          "model_module": "@jupyter-widgets/base",
          "model_name": "LayoutModel",
          "model_module_version": "1.2.0",
          "state": {
            "_model_module": "@jupyter-widgets/base",
            "_model_module_version": "1.2.0",
            "_model_name": "LayoutModel",
            "_view_count": null,
            "_view_module": "@jupyter-widgets/base",
            "_view_module_version": "1.2.0",
            "_view_name": "LayoutView",
            "align_content": null,
            "align_items": null,
            "align_self": null,
            "border": null,
            "bottom": null,
            "display": null,
            "flex": null,
            "flex_flow": null,
            "grid_area": null,
            "grid_auto_columns": null,
            "grid_auto_flow": null,
            "grid_auto_rows": null,
            "grid_column": null,
            "grid_gap": null,
            "grid_row": null,
            "grid_template_areas": null,
            "grid_template_columns": null,
            "grid_template_rows": null,
            "height": null,
            "justify_content": null,
            "justify_items": null,
            "left": null,
            "margin": null,
            "max_height": null,
            "max_width": null,
            "min_height": null,
            "min_width": null,
            "object_fit": null,
            "object_position": null,
            "order": null,
            "overflow": null,
            "overflow_x": null,
            "overflow_y": null,
            "padding": null,
            "right": null,
            "top": null,
            "visibility": null,
            "width": null
          }
        },
        "51217a4e7f704467b8d4c5cec8d7fe40": {
          "model_module": "@jupyter-widgets/controls",
          "model_name": "DescriptionStyleModel",
          "model_module_version": "1.5.0",
          "state": {
            "_model_module": "@jupyter-widgets/controls",
            "_model_module_version": "1.5.0",
            "_model_name": "DescriptionStyleModel",
            "_view_count": null,
            "_view_module": "@jupyter-widgets/base",
            "_view_module_version": "1.2.0",
            "_view_name": "StyleView",
            "description_width": ""
          }
        },
        "696020e6d5bc41bf98889da5c0fd0c0f": {
          "model_module": "@jupyter-widgets/controls",
          "model_name": "HBoxModel",
          "model_module_version": "1.5.0",
          "state": {
            "_dom_classes": [],
            "_model_module": "@jupyter-widgets/controls",
            "_model_module_version": "1.5.0",
            "_model_name": "HBoxModel",
            "_view_count": null,
            "_view_module": "@jupyter-widgets/controls",
            "_view_module_version": "1.5.0",
            "_view_name": "HBoxView",
            "box_style": "",
            "children": [
              "IPY_MODEL_6b0479e1fc2d4a298ab7dbaa86c19f7b",
              "IPY_MODEL_e3f3bc9a35164f0584fa1f61cb958fc2",
              "IPY_MODEL_4538532bff7847c294ebb12605fd7263"
            ],
            "layout": "IPY_MODEL_97369cefa7a6425891ea4e04c38dfb44"
          }
        },
        "6b0479e1fc2d4a298ab7dbaa86c19f7b": {
          "model_module": "@jupyter-widgets/controls",
          "model_name": "HTMLModel",
          "model_module_version": "1.5.0",
          "state": {
            "_dom_classes": [],
            "_model_module": "@jupyter-widgets/controls",
            "_model_module_version": "1.5.0",
            "_model_name": "HTMLModel",
            "_view_count": null,
            "_view_module": "@jupyter-widgets/controls",
            "_view_module_version": "1.5.0",
            "_view_name": "HTMLView",
            "description": "",
            "description_tooltip": null,
            "layout": "IPY_MODEL_5cb69bcab4cb46e7911272e256483a00",
            "placeholder": "​",
            "style": "IPY_MODEL_f64ddc1ba8d24faba7246af91d8cfd1b",
            "value": "tokenizer_config.json: 100%"
          }
        },
        "e3f3bc9a35164f0584fa1f61cb958fc2": {
          "model_module": "@jupyter-widgets/controls",
          "model_name": "FloatProgressModel",
          "model_module_version": "1.5.0",
          "state": {
            "_dom_classes": [],
            "_model_module": "@jupyter-widgets/controls",
            "_model_module_version": "1.5.0",
            "_model_name": "FloatProgressModel",
            "_view_count": null,
            "_view_module": "@jupyter-widgets/controls",
            "_view_module_version": "1.5.0",
            "_view_name": "ProgressView",
            "bar_style": "success",
            "description": "",
            "description_tooltip": null,
            "layout": "IPY_MODEL_3264f347720942f6b69e882b9b439f7a",
            "max": 1242,
            "min": 0,
            "orientation": "horizontal",
            "style": "IPY_MODEL_5053e456f2c144ccb197e1ac7119883a",
            "value": 1242
          }
        },
        "4538532bff7847c294ebb12605fd7263": {
          "model_module": "@jupyter-widgets/controls",
          "model_name": "HTMLModel",
          "model_module_version": "1.5.0",
          "state": {
            "_dom_classes": [],
            "_model_module": "@jupyter-widgets/controls",
            "_model_module_version": "1.5.0",
            "_model_name": "HTMLModel",
            "_view_count": null,
            "_view_module": "@jupyter-widgets/controls",
            "_view_module_version": "1.5.0",
            "_view_name": "HTMLView",
            "description": "",
            "description_tooltip": null,
            "layout": "IPY_MODEL_5d6297d7487b42c287ccbeee0b95d738",
            "placeholder": "​",
            "style": "IPY_MODEL_b646fbfec428475ebe973345cd03cd9f",
            "value": " 1.24k/1.24k [00:00&lt;00:00, 46.8kB/s]"
          }
        },
        "97369cefa7a6425891ea4e04c38dfb44": {
          "model_module": "@jupyter-widgets/base",
          "model_name": "LayoutModel",
          "model_module_version": "1.2.0",
          "state": {
            "_model_module": "@jupyter-widgets/base",
            "_model_module_version": "1.2.0",
            "_model_name": "LayoutModel",
            "_view_count": null,
            "_view_module": "@jupyter-widgets/base",
            "_view_module_version": "1.2.0",
            "_view_name": "LayoutView",
            "align_content": null,
            "align_items": null,
            "align_self": null,
            "border": null,
            "bottom": null,
            "display": null,
            "flex": null,
            "flex_flow": null,
            "grid_area": null,
            "grid_auto_columns": null,
            "grid_auto_flow": null,
            "grid_auto_rows": null,
            "grid_column": null,
            "grid_gap": null,
            "grid_row": null,
            "grid_template_areas": null,
            "grid_template_columns": null,
            "grid_template_rows": null,
            "height": null,
            "justify_content": null,
            "justify_items": null,
            "left": null,
            "margin": null,
            "max_height": null,
            "max_width": null,
            "min_height": null,
            "min_width": null,
            "object_fit": null,
            "object_position": null,
            "order": null,
            "overflow": null,
            "overflow_x": null,
            "overflow_y": null,
            "padding": null,
            "right": null,
            "top": null,
            "visibility": null,
            "width": null
          }
        },
        "5cb69bcab4cb46e7911272e256483a00": {
          "model_module": "@jupyter-widgets/base",
          "model_name": "LayoutModel",
          "model_module_version": "1.2.0",
          "state": {
            "_model_module": "@jupyter-widgets/base",
            "_model_module_version": "1.2.0",
            "_model_name": "LayoutModel",
            "_view_count": null,
            "_view_module": "@jupyter-widgets/base",
            "_view_module_version": "1.2.0",
            "_view_name": "LayoutView",
            "align_content": null,
            "align_items": null,
            "align_self": null,
            "border": null,
            "bottom": null,
            "display": null,
            "flex": null,
            "flex_flow": null,
            "grid_area": null,
            "grid_auto_columns": null,
            "grid_auto_flow": null,
            "grid_auto_rows": null,
            "grid_column": null,
            "grid_gap": null,
            "grid_row": null,
            "grid_template_areas": null,
            "grid_template_columns": null,
            "grid_template_rows": null,
            "height": null,
            "justify_content": null,
            "justify_items": null,
            "left": null,
            "margin": null,
            "max_height": null,
            "max_width": null,
            "min_height": null,
            "min_width": null,
            "object_fit": null,
            "object_position": null,
            "order": null,
            "overflow": null,
            "overflow_x": null,
            "overflow_y": null,
            "padding": null,
            "right": null,
            "top": null,
            "visibility": null,
            "width": null
          }
        },
        "f64ddc1ba8d24faba7246af91d8cfd1b": {
          "model_module": "@jupyter-widgets/controls",
          "model_name": "DescriptionStyleModel",
          "model_module_version": "1.5.0",
          "state": {
            "_model_module": "@jupyter-widgets/controls",
            "_model_module_version": "1.5.0",
            "_model_name": "DescriptionStyleModel",
            "_view_count": null,
            "_view_module": "@jupyter-widgets/base",
            "_view_module_version": "1.2.0",
            "_view_name": "StyleView",
            "description_width": ""
          }
        },
        "3264f347720942f6b69e882b9b439f7a": {
          "model_module": "@jupyter-widgets/base",
          "model_name": "LayoutModel",
          "model_module_version": "1.2.0",
          "state": {
            "_model_module": "@jupyter-widgets/base",
            "_model_module_version": "1.2.0",
            "_model_name": "LayoutModel",
            "_view_count": null,
            "_view_module": "@jupyter-widgets/base",
            "_view_module_version": "1.2.0",
            "_view_name": "LayoutView",
            "align_content": null,
            "align_items": null,
            "align_self": null,
            "border": null,
            "bottom": null,
            "display": null,
            "flex": null,
            "flex_flow": null,
            "grid_area": null,
            "grid_auto_columns": null,
            "grid_auto_flow": null,
            "grid_auto_rows": null,
            "grid_column": null,
            "grid_gap": null,
            "grid_row": null,
            "grid_template_areas": null,
            "grid_template_columns": null,
            "grid_template_rows": null,
            "height": null,
            "justify_content": null,
            "justify_items": null,
            "left": null,
            "margin": null,
            "max_height": null,
            "max_width": null,
            "min_height": null,
            "min_width": null,
            "object_fit": null,
            "object_position": null,
            "order": null,
            "overflow": null,
            "overflow_x": null,
            "overflow_y": null,
            "padding": null,
            "right": null,
            "top": null,
            "visibility": null,
            "width": null
          }
        },
        "5053e456f2c144ccb197e1ac7119883a": {
          "model_module": "@jupyter-widgets/controls",
          "model_name": "ProgressStyleModel",
          "model_module_version": "1.5.0",
          "state": {
            "_model_module": "@jupyter-widgets/controls",
            "_model_module_version": "1.5.0",
            "_model_name": "ProgressStyleModel",
            "_view_count": null,
            "_view_module": "@jupyter-widgets/base",
            "_view_module_version": "1.2.0",
            "_view_name": "StyleView",
            "bar_color": null,
            "description_width": ""
          }
        },
        "5d6297d7487b42c287ccbeee0b95d738": {
          "model_module": "@jupyter-widgets/base",
          "model_name": "LayoutModel",
          "model_module_version": "1.2.0",
          "state": {
            "_model_module": "@jupyter-widgets/base",
            "_model_module_version": "1.2.0",
            "_model_name": "LayoutModel",
            "_view_count": null,
            "_view_module": "@jupyter-widgets/base",
            "_view_module_version": "1.2.0",
            "_view_name": "LayoutView",
            "align_content": null,
            "align_items": null,
            "align_self": null,
            "border": null,
            "bottom": null,
            "display": null,
            "flex": null,
            "flex_flow": null,
            "grid_area": null,
            "grid_auto_columns": null,
            "grid_auto_flow": null,
            "grid_auto_rows": null,
            "grid_column": null,
            "grid_gap": null,
            "grid_row": null,
            "grid_template_areas": null,
            "grid_template_columns": null,
            "grid_template_rows": null,
            "height": null,
            "justify_content": null,
            "justify_items": null,
            "left": null,
            "margin": null,
            "max_height": null,
            "max_width": null,
            "min_height": null,
            "min_width": null,
            "object_fit": null,
            "object_position": null,
            "order": null,
            "overflow": null,
            "overflow_x": null,
            "overflow_y": null,
            "padding": null,
            "right": null,
            "top": null,
            "visibility": null,
            "width": null
          }
        },
        "b646fbfec428475ebe973345cd03cd9f": {
          "model_module": "@jupyter-widgets/controls",
          "model_name": "DescriptionStyleModel",
          "model_module_version": "1.5.0",
          "state": {
            "_model_module": "@jupyter-widgets/controls",
            "_model_module_version": "1.5.0",
            "_model_name": "DescriptionStyleModel",
            "_view_count": null,
            "_view_module": "@jupyter-widgets/base",
            "_view_module_version": "1.2.0",
            "_view_name": "StyleView",
            "description_width": ""
          }
        },
        "e9d76f1fd32a41f198850396951b8b20": {
          "model_module": "@jupyter-widgets/controls",
          "model_name": "HBoxModel",
          "model_module_version": "1.5.0",
          "state": {
            "_dom_classes": [],
            "_model_module": "@jupyter-widgets/controls",
            "_model_module_version": "1.5.0",
            "_model_name": "HBoxModel",
            "_view_count": null,
            "_view_module": "@jupyter-widgets/controls",
            "_view_module_version": "1.5.0",
            "_view_name": "HBoxView",
            "box_style": "",
            "children": [
              "IPY_MODEL_8c688f40fb32442fa679daa78285c198",
              "IPY_MODEL_048010175bfb4ee49a0f2f829d6de619",
              "IPY_MODEL_c60a83106da948cdb82bddc32107be51"
            ],
            "layout": "IPY_MODEL_a4f2edf72c694e6ab30691667f5ce254"
          }
        },
        "8c688f40fb32442fa679daa78285c198": {
          "model_module": "@jupyter-widgets/controls",
          "model_name": "HTMLModel",
          "model_module_version": "1.5.0",
          "state": {
            "_dom_classes": [],
            "_model_module": "@jupyter-widgets/controls",
            "_model_module_version": "1.5.0",
            "_model_name": "HTMLModel",
            "_view_count": null,
            "_view_module": "@jupyter-widgets/controls",
            "_view_module_version": "1.5.0",
            "_view_name": "HTMLView",
            "description": "",
            "description_tooltip": null,
            "layout": "IPY_MODEL_b0d02fead17248e09bd0e8efd6373ed0",
            "placeholder": "​",
            "style": "IPY_MODEL_f84033e62c954788adb97137572dc253",
            "value": "vocab.txt: 100%"
          }
        },
        "048010175bfb4ee49a0f2f829d6de619": {
          "model_module": "@jupyter-widgets/controls",
          "model_name": "FloatProgressModel",
          "model_module_version": "1.5.0",
          "state": {
            "_dom_classes": [],
            "_model_module": "@jupyter-widgets/controls",
            "_model_module_version": "1.5.0",
            "_model_name": "FloatProgressModel",
            "_view_count": null,
            "_view_module": "@jupyter-widgets/controls",
            "_view_module_version": "1.5.0",
            "_view_name": "ProgressView",
            "bar_style": "success",
            "description": "",
            "description_tooltip": null,
            "layout": "IPY_MODEL_090a742143bd48eda8f196bbf25adbc4",
            "max": 231508,
            "min": 0,
            "orientation": "horizontal",
            "style": "IPY_MODEL_711d3c915ee04c6d8faecf735c5ced98",
            "value": 231508
          }
        },
        "c60a83106da948cdb82bddc32107be51": {
          "model_module": "@jupyter-widgets/controls",
          "model_name": "HTMLModel",
          "model_module_version": "1.5.0",
          "state": {
            "_dom_classes": [],
            "_model_module": "@jupyter-widgets/controls",
            "_model_module_version": "1.5.0",
            "_model_name": "HTMLModel",
            "_view_count": null,
            "_view_module": "@jupyter-widgets/controls",
            "_view_module_version": "1.5.0",
            "_view_name": "HTMLView",
            "description": "",
            "description_tooltip": null,
            "layout": "IPY_MODEL_4df2ec3de62644b98246bb5bca0aecb4",
            "placeholder": "​",
            "style": "IPY_MODEL_c980ebb1d1974d37b496fa61638d9b0a",
            "value": " 232k/232k [00:00&lt;00:00, 8.39MB/s]"
          }
        },
        "a4f2edf72c694e6ab30691667f5ce254": {
          "model_module": "@jupyter-widgets/base",
          "model_name": "LayoutModel",
          "model_module_version": "1.2.0",
          "state": {
            "_model_module": "@jupyter-widgets/base",
            "_model_module_version": "1.2.0",
            "_model_name": "LayoutModel",
            "_view_count": null,
            "_view_module": "@jupyter-widgets/base",
            "_view_module_version": "1.2.0",
            "_view_name": "LayoutView",
            "align_content": null,
            "align_items": null,
            "align_self": null,
            "border": null,
            "bottom": null,
            "display": null,
            "flex": null,
            "flex_flow": null,
            "grid_area": null,
            "grid_auto_columns": null,
            "grid_auto_flow": null,
            "grid_auto_rows": null,
            "grid_column": null,
            "grid_gap": null,
            "grid_row": null,
            "grid_template_areas": null,
            "grid_template_columns": null,
            "grid_template_rows": null,
            "height": null,
            "justify_content": null,
            "justify_items": null,
            "left": null,
            "margin": null,
            "max_height": null,
            "max_width": null,
            "min_height": null,
            "min_width": null,
            "object_fit": null,
            "object_position": null,
            "order": null,
            "overflow": null,
            "overflow_x": null,
            "overflow_y": null,
            "padding": null,
            "right": null,
            "top": null,
            "visibility": null,
            "width": null
          }
        },
        "b0d02fead17248e09bd0e8efd6373ed0": {
          "model_module": "@jupyter-widgets/base",
          "model_name": "LayoutModel",
          "model_module_version": "1.2.0",
          "state": {
            "_model_module": "@jupyter-widgets/base",
            "_model_module_version": "1.2.0",
            "_model_name": "LayoutModel",
            "_view_count": null,
            "_view_module": "@jupyter-widgets/base",
            "_view_module_version": "1.2.0",
            "_view_name": "LayoutView",
            "align_content": null,
            "align_items": null,
            "align_self": null,
            "border": null,
            "bottom": null,
            "display": null,
            "flex": null,
            "flex_flow": null,
            "grid_area": null,
            "grid_auto_columns": null,
            "grid_auto_flow": null,
            "grid_auto_rows": null,
            "grid_column": null,
            "grid_gap": null,
            "grid_row": null,
            "grid_template_areas": null,
            "grid_template_columns": null,
            "grid_template_rows": null,
            "height": null,
            "justify_content": null,
            "justify_items": null,
            "left": null,
            "margin": null,
            "max_height": null,
            "max_width": null,
            "min_height": null,
            "min_width": null,
            "object_fit": null,
            "object_position": null,
            "order": null,
            "overflow": null,
            "overflow_x": null,
            "overflow_y": null,
            "padding": null,
            "right": null,
            "top": null,
            "visibility": null,
            "width": null
          }
        },
        "f84033e62c954788adb97137572dc253": {
          "model_module": "@jupyter-widgets/controls",
          "model_name": "DescriptionStyleModel",
          "model_module_version": "1.5.0",
          "state": {
            "_model_module": "@jupyter-widgets/controls",
            "_model_module_version": "1.5.0",
            "_model_name": "DescriptionStyleModel",
            "_view_count": null,
            "_view_module": "@jupyter-widgets/base",
            "_view_module_version": "1.2.0",
            "_view_name": "StyleView",
            "description_width": ""
          }
        },
        "090a742143bd48eda8f196bbf25adbc4": {
          "model_module": "@jupyter-widgets/base",
          "model_name": "LayoutModel",
          "model_module_version": "1.2.0",
          "state": {
            "_model_module": "@jupyter-widgets/base",
            "_model_module_version": "1.2.0",
            "_model_name": "LayoutModel",
            "_view_count": null,
            "_view_module": "@jupyter-widgets/base",
            "_view_module_version": "1.2.0",
            "_view_name": "LayoutView",
            "align_content": null,
            "align_items": null,
            "align_self": null,
            "border": null,
            "bottom": null,
            "display": null,
            "flex": null,
            "flex_flow": null,
            "grid_area": null,
            "grid_auto_columns": null,
            "grid_auto_flow": null,
            "grid_auto_rows": null,
            "grid_column": null,
            "grid_gap": null,
            "grid_row": null,
            "grid_template_areas": null,
            "grid_template_columns": null,
            "grid_template_rows": null,
            "height": null,
            "justify_content": null,
            "justify_items": null,
            "left": null,
            "margin": null,
            "max_height": null,
            "max_width": null,
            "min_height": null,
            "min_width": null,
            "object_fit": null,
            "object_position": null,
            "order": null,
            "overflow": null,
            "overflow_x": null,
            "overflow_y": null,
            "padding": null,
            "right": null,
            "top": null,
            "visibility": null,
            "width": null
          }
        },
        "711d3c915ee04c6d8faecf735c5ced98": {
          "model_module": "@jupyter-widgets/controls",
          "model_name": "ProgressStyleModel",
          "model_module_version": "1.5.0",
          "state": {
            "_model_module": "@jupyter-widgets/controls",
            "_model_module_version": "1.5.0",
            "_model_name": "ProgressStyleModel",
            "_view_count": null,
            "_view_module": "@jupyter-widgets/base",
            "_view_module_version": "1.2.0",
            "_view_name": "StyleView",
            "bar_color": null,
            "description_width": ""
          }
        },
        "4df2ec3de62644b98246bb5bca0aecb4": {
          "model_module": "@jupyter-widgets/base",
          "model_name": "LayoutModel",
          "model_module_version": "1.2.0",
          "state": {
            "_model_module": "@jupyter-widgets/base",
            "_model_module_version": "1.2.0",
            "_model_name": "LayoutModel",
            "_view_count": null,
            "_view_module": "@jupyter-widgets/base",
            "_view_module_version": "1.2.0",
            "_view_name": "LayoutView",
            "align_content": null,
            "align_items": null,
            "align_self": null,
            "border": null,
            "bottom": null,
            "display": null,
            "flex": null,
            "flex_flow": null,
            "grid_area": null,
            "grid_auto_columns": null,
            "grid_auto_flow": null,
            "grid_auto_rows": null,
            "grid_column": null,
            "grid_gap": null,
            "grid_row": null,
            "grid_template_areas": null,
            "grid_template_columns": null,
            "grid_template_rows": null,
            "height": null,
            "justify_content": null,
            "justify_items": null,
            "left": null,
            "margin": null,
            "max_height": null,
            "max_width": null,
            "min_height": null,
            "min_width": null,
            "object_fit": null,
            "object_position": null,
            "order": null,
            "overflow": null,
            "overflow_x": null,
            "overflow_y": null,
            "padding": null,
            "right": null,
            "top": null,
            "visibility": null,
            "width": null
          }
        },
        "c980ebb1d1974d37b496fa61638d9b0a": {
          "model_module": "@jupyter-widgets/controls",
          "model_name": "DescriptionStyleModel",
          "model_module_version": "1.5.0",
          "state": {
            "_model_module": "@jupyter-widgets/controls",
            "_model_module_version": "1.5.0",
            "_model_name": "DescriptionStyleModel",
            "_view_count": null,
            "_view_module": "@jupyter-widgets/base",
            "_view_module_version": "1.2.0",
            "_view_name": "StyleView",
            "description_width": ""
          }
        },
        "d3a10c8d6cf341f7b85dd52e879ab00a": {
          "model_module": "@jupyter-widgets/controls",
          "model_name": "HBoxModel",
          "model_module_version": "1.5.0",
          "state": {
            "_dom_classes": [],
            "_model_module": "@jupyter-widgets/controls",
            "_model_module_version": "1.5.0",
            "_model_name": "HBoxModel",
            "_view_count": null,
            "_view_module": "@jupyter-widgets/controls",
            "_view_module_version": "1.5.0",
            "_view_name": "HBoxView",
            "box_style": "",
            "children": [
              "IPY_MODEL_ca33d098658b42cc8272b4a54f331f4a",
              "IPY_MODEL_eef08ebd7feb4b338eac0c94e7d8014a",
              "IPY_MODEL_24e802c455954ea486659c05386768de"
            ],
            "layout": "IPY_MODEL_6f1137c3a5a54f9ca64ddde7f9b357ab"
          }
        },
        "ca33d098658b42cc8272b4a54f331f4a": {
          "model_module": "@jupyter-widgets/controls",
          "model_name": "HTMLModel",
          "model_module_version": "1.5.0",
          "state": {
            "_dom_classes": [],
            "_model_module": "@jupyter-widgets/controls",
            "_model_module_version": "1.5.0",
            "_model_name": "HTMLModel",
            "_view_count": null,
            "_view_module": "@jupyter-widgets/controls",
            "_view_module_version": "1.5.0",
            "_view_name": "HTMLView",
            "description": "",
            "description_tooltip": null,
            "layout": "IPY_MODEL_5c0ea16e29c2419ab3d9e9157b4a139e",
            "placeholder": "​",
            "style": "IPY_MODEL_c9b096f797974b9d8f8f444f7be514fe",
            "value": "tokenizer.json: 100%"
          }
        },
        "eef08ebd7feb4b338eac0c94e7d8014a": {
          "model_module": "@jupyter-widgets/controls",
          "model_name": "FloatProgressModel",
          "model_module_version": "1.5.0",
          "state": {
            "_dom_classes": [],
            "_model_module": "@jupyter-widgets/controls",
            "_model_module_version": "1.5.0",
            "_model_name": "FloatProgressModel",
            "_view_count": null,
            "_view_module": "@jupyter-widgets/controls",
            "_view_module_version": "1.5.0",
            "_view_name": "ProgressView",
            "bar_style": "success",
            "description": "",
            "description_tooltip": null,
            "layout": "IPY_MODEL_abcead78aad241a689a102f3f2182023",
            "max": 711396,
            "min": 0,
            "orientation": "horizontal",
            "style": "IPY_MODEL_fc6f04b15ecd494e963bd11c5b73b9cf",
            "value": 711396
          }
        },
        "24e802c455954ea486659c05386768de": {
          "model_module": "@jupyter-widgets/controls",
          "model_name": "HTMLModel",
          "model_module_version": "1.5.0",
          "state": {
            "_dom_classes": [],
            "_model_module": "@jupyter-widgets/controls",
            "_model_module_version": "1.5.0",
            "_model_name": "HTMLModel",
            "_view_count": null,
            "_view_module": "@jupyter-widgets/controls",
            "_view_module_version": "1.5.0",
            "_view_name": "HTMLView",
            "description": "",
            "description_tooltip": null,
            "layout": "IPY_MODEL_14b99dee16d14f9e8022cd1e3fde62ab",
            "placeholder": "​",
            "style": "IPY_MODEL_1f02d79149d843339edc7ada7a3d426a",
            "value": " 711k/711k [00:00&lt;00:00, 26.8MB/s]"
          }
        },
        "6f1137c3a5a54f9ca64ddde7f9b357ab": {
          "model_module": "@jupyter-widgets/base",
          "model_name": "LayoutModel",
          "model_module_version": "1.2.0",
          "state": {
            "_model_module": "@jupyter-widgets/base",
            "_model_module_version": "1.2.0",
            "_model_name": "LayoutModel",
            "_view_count": null,
            "_view_module": "@jupyter-widgets/base",
            "_view_module_version": "1.2.0",
            "_view_name": "LayoutView",
            "align_content": null,
            "align_items": null,
            "align_self": null,
            "border": null,
            "bottom": null,
            "display": null,
            "flex": null,
            "flex_flow": null,
            "grid_area": null,
            "grid_auto_columns": null,
            "grid_auto_flow": null,
            "grid_auto_rows": null,
            "grid_column": null,
            "grid_gap": null,
            "grid_row": null,
            "grid_template_areas": null,
            "grid_template_columns": null,
            "grid_template_rows": null,
            "height": null,
            "justify_content": null,
            "justify_items": null,
            "left": null,
            "margin": null,
            "max_height": null,
            "max_width": null,
            "min_height": null,
            "min_width": null,
            "object_fit": null,
            "object_position": null,
            "order": null,
            "overflow": null,
            "overflow_x": null,
            "overflow_y": null,
            "padding": null,
            "right": null,
            "top": null,
            "visibility": null,
            "width": null
          }
        },
        "5c0ea16e29c2419ab3d9e9157b4a139e": {
          "model_module": "@jupyter-widgets/base",
          "model_name": "LayoutModel",
          "model_module_version": "1.2.0",
          "state": {
            "_model_module": "@jupyter-widgets/base",
            "_model_module_version": "1.2.0",
            "_model_name": "LayoutModel",
            "_view_count": null,
            "_view_module": "@jupyter-widgets/base",
            "_view_module_version": "1.2.0",
            "_view_name": "LayoutView",
            "align_content": null,
            "align_items": null,
            "align_self": null,
            "border": null,
            "bottom": null,
            "display": null,
            "flex": null,
            "flex_flow": null,
            "grid_area": null,
            "grid_auto_columns": null,
            "grid_auto_flow": null,
            "grid_auto_rows": null,
            "grid_column": null,
            "grid_gap": null,
            "grid_row": null,
            "grid_template_areas": null,
            "grid_template_columns": null,
            "grid_template_rows": null,
            "height": null,
            "justify_content": null,
            "justify_items": null,
            "left": null,
            "margin": null,
            "max_height": null,
            "max_width": null,
            "min_height": null,
            "min_width": null,
            "object_fit": null,
            "object_position": null,
            "order": null,
            "overflow": null,
            "overflow_x": null,
            "overflow_y": null,
            "padding": null,
            "right": null,
            "top": null,
            "visibility": null,
            "width": null
          }
        },
        "c9b096f797974b9d8f8f444f7be514fe": {
          "model_module": "@jupyter-widgets/controls",
          "model_name": "DescriptionStyleModel",
          "model_module_version": "1.5.0",
          "state": {
            "_model_module": "@jupyter-widgets/controls",
            "_model_module_version": "1.5.0",
            "_model_name": "DescriptionStyleModel",
            "_view_count": null,
            "_view_module": "@jupyter-widgets/base",
            "_view_module_version": "1.2.0",
            "_view_name": "StyleView",
            "description_width": ""
          }
        },
        "abcead78aad241a689a102f3f2182023": {
          "model_module": "@jupyter-widgets/base",
          "model_name": "LayoutModel",
          "model_module_version": "1.2.0",
          "state": {
            "_model_module": "@jupyter-widgets/base",
            "_model_module_version": "1.2.0",
            "_model_name": "LayoutModel",
            "_view_count": null,
            "_view_module": "@jupyter-widgets/base",
            "_view_module_version": "1.2.0",
            "_view_name": "LayoutView",
            "align_content": null,
            "align_items": null,
            "align_self": null,
            "border": null,
            "bottom": null,
            "display": null,
            "flex": null,
            "flex_flow": null,
            "grid_area": null,
            "grid_auto_columns": null,
            "grid_auto_flow": null,
            "grid_auto_rows": null,
            "grid_column": null,
            "grid_gap": null,
            "grid_row": null,
            "grid_template_areas": null,
            "grid_template_columns": null,
            "grid_template_rows": null,
            "height": null,
            "justify_content": null,
            "justify_items": null,
            "left": null,
            "margin": null,
            "max_height": null,
            "max_width": null,
            "min_height": null,
            "min_width": null,
            "object_fit": null,
            "object_position": null,
            "order": null,
            "overflow": null,
            "overflow_x": null,
            "overflow_y": null,
            "padding": null,
            "right": null,
            "top": null,
            "visibility": null,
            "width": null
          }
        },
        "fc6f04b15ecd494e963bd11c5b73b9cf": {
          "model_module": "@jupyter-widgets/controls",
          "model_name": "ProgressStyleModel",
          "model_module_version": "1.5.0",
          "state": {
            "_model_module": "@jupyter-widgets/controls",
            "_model_module_version": "1.5.0",
            "_model_name": "ProgressStyleModel",
            "_view_count": null,
            "_view_module": "@jupyter-widgets/base",
            "_view_module_version": "1.2.0",
            "_view_name": "StyleView",
            "bar_color": null,
            "description_width": ""
          }
        },
        "14b99dee16d14f9e8022cd1e3fde62ab": {
          "model_module": "@jupyter-widgets/base",
          "model_name": "LayoutModel",
          "model_module_version": "1.2.0",
          "state": {
            "_model_module": "@jupyter-widgets/base",
            "_model_module_version": "1.2.0",
            "_model_name": "LayoutModel",
            "_view_count": null,
            "_view_module": "@jupyter-widgets/base",
            "_view_module_version": "1.2.0",
            "_view_name": "LayoutView",
            "align_content": null,
            "align_items": null,
            "align_self": null,
            "border": null,
            "bottom": null,
            "display": null,
            "flex": null,
            "flex_flow": null,
            "grid_area": null,
            "grid_auto_columns": null,
            "grid_auto_flow": null,
            "grid_auto_rows": null,
            "grid_column": null,
            "grid_gap": null,
            "grid_row": null,
            "grid_template_areas": null,
            "grid_template_columns": null,
            "grid_template_rows": null,
            "height": null,
            "justify_content": null,
            "justify_items": null,
            "left": null,
            "margin": null,
            "max_height": null,
            "max_width": null,
            "min_height": null,
            "min_width": null,
            "object_fit": null,
            "object_position": null,
            "order": null,
            "overflow": null,
            "overflow_x": null,
            "overflow_y": null,
            "padding": null,
            "right": null,
            "top": null,
            "visibility": null,
            "width": null
          }
        },
        "1f02d79149d843339edc7ada7a3d426a": {
          "model_module": "@jupyter-widgets/controls",
          "model_name": "DescriptionStyleModel",
          "model_module_version": "1.5.0",
          "state": {
            "_model_module": "@jupyter-widgets/controls",
            "_model_module_version": "1.5.0",
            "_model_name": "DescriptionStyleModel",
            "_view_count": null,
            "_view_module": "@jupyter-widgets/base",
            "_view_module_version": "1.2.0",
            "_view_name": "StyleView",
            "description_width": ""
          }
        },
        "d589c8ac3db341488a2479526717a542": {
          "model_module": "@jupyter-widgets/controls",
          "model_name": "HBoxModel",
          "model_module_version": "1.5.0",
          "state": {
            "_dom_classes": [],
            "_model_module": "@jupyter-widgets/controls",
            "_model_module_version": "1.5.0",
            "_model_name": "HBoxModel",
            "_view_count": null,
            "_view_module": "@jupyter-widgets/controls",
            "_view_module_version": "1.5.0",
            "_view_name": "HBoxView",
            "box_style": "",
            "children": [
              "IPY_MODEL_310f568268c24c14a36ba2d45b47e49e",
              "IPY_MODEL_30657b08c89b452d9f41270c218391c9",
              "IPY_MODEL_d8e44d3d3d544e0f8886f495dcf29f3e"
            ],
            "layout": "IPY_MODEL_24c769786a6c4b5289182c3c4841979d"
          }
        },
        "310f568268c24c14a36ba2d45b47e49e": {
          "model_module": "@jupyter-widgets/controls",
          "model_name": "HTMLModel",
          "model_module_version": "1.5.0",
          "state": {
            "_dom_classes": [],
            "_model_module": "@jupyter-widgets/controls",
            "_model_module_version": "1.5.0",
            "_model_name": "HTMLModel",
            "_view_count": null,
            "_view_module": "@jupyter-widgets/controls",
            "_view_module_version": "1.5.0",
            "_view_name": "HTMLView",
            "description": "",
            "description_tooltip": null,
            "layout": "IPY_MODEL_f643cf6d8fbe4c04a7bc30ffe0e07dfd",
            "placeholder": "​",
            "style": "IPY_MODEL_938f44d014ec48ea91a3fedf78a7e4a2",
            "value": "special_tokens_map.json: 100%"
          }
        },
        "30657b08c89b452d9f41270c218391c9": {
          "model_module": "@jupyter-widgets/controls",
          "model_name": "FloatProgressModel",
          "model_module_version": "1.5.0",
          "state": {
            "_dom_classes": [],
            "_model_module": "@jupyter-widgets/controls",
            "_model_module_version": "1.5.0",
            "_model_name": "FloatProgressModel",
            "_view_count": null,
            "_view_module": "@jupyter-widgets/controls",
            "_view_module_version": "1.5.0",
            "_view_name": "ProgressView",
            "bar_style": "success",
            "description": "",
            "description_tooltip": null,
            "layout": "IPY_MODEL_aaf175072ddd4a26a1d5732c4a46a5a9",
            "max": 695,
            "min": 0,
            "orientation": "horizontal",
            "style": "IPY_MODEL_3b8f8036f7e1412bba73576ca676c7fa",
            "value": 695
          }
        },
        "d8e44d3d3d544e0f8886f495dcf29f3e": {
          "model_module": "@jupyter-widgets/controls",
          "model_name": "HTMLModel",
          "model_module_version": "1.5.0",
          "state": {
            "_dom_classes": [],
            "_model_module": "@jupyter-widgets/controls",
            "_model_module_version": "1.5.0",
            "_model_name": "HTMLModel",
            "_view_count": null,
            "_view_module": "@jupyter-widgets/controls",
            "_view_module_version": "1.5.0",
            "_view_name": "HTMLView",
            "description": "",
            "description_tooltip": null,
            "layout": "IPY_MODEL_fc0f9cc32d6e4a5e9a578e2710dfc3ea",
            "placeholder": "​",
            "style": "IPY_MODEL_8bd0537593ad4975848a5605402e1c17",
            "value": " 695/695 [00:00&lt;00:00, 25.1kB/s]"
          }
        },
        "24c769786a6c4b5289182c3c4841979d": {
          "model_module": "@jupyter-widgets/base",
          "model_name": "LayoutModel",
          "model_module_version": "1.2.0",
          "state": {
            "_model_module": "@jupyter-widgets/base",
            "_model_module_version": "1.2.0",
            "_model_name": "LayoutModel",
            "_view_count": null,
            "_view_module": "@jupyter-widgets/base",
            "_view_module_version": "1.2.0",
            "_view_name": "LayoutView",
            "align_content": null,
            "align_items": null,
            "align_self": null,
            "border": null,
            "bottom": null,
            "display": null,
            "flex": null,
            "flex_flow": null,
            "grid_area": null,
            "grid_auto_columns": null,
            "grid_auto_flow": null,
            "grid_auto_rows": null,
            "grid_column": null,
            "grid_gap": null,
            "grid_row": null,
            "grid_template_areas": null,
            "grid_template_columns": null,
            "grid_template_rows": null,
            "height": null,
            "justify_content": null,
            "justify_items": null,
            "left": null,
            "margin": null,
            "max_height": null,
            "max_width": null,
            "min_height": null,
            "min_width": null,
            "object_fit": null,
            "object_position": null,
            "order": null,
            "overflow": null,
            "overflow_x": null,
            "overflow_y": null,
            "padding": null,
            "right": null,
            "top": null,
            "visibility": null,
            "width": null
          }
        },
        "f643cf6d8fbe4c04a7bc30ffe0e07dfd": {
          "model_module": "@jupyter-widgets/base",
          "model_name": "LayoutModel",
          "model_module_version": "1.2.0",
          "state": {
            "_model_module": "@jupyter-widgets/base",
            "_model_module_version": "1.2.0",
            "_model_name": "LayoutModel",
            "_view_count": null,
            "_view_module": "@jupyter-widgets/base",
            "_view_module_version": "1.2.0",
            "_view_name": "LayoutView",
            "align_content": null,
            "align_items": null,
            "align_self": null,
            "border": null,
            "bottom": null,
            "display": null,
            "flex": null,
            "flex_flow": null,
            "grid_area": null,
            "grid_auto_columns": null,
            "grid_auto_flow": null,
            "grid_auto_rows": null,
            "grid_column": null,
            "grid_gap": null,
            "grid_row": null,
            "grid_template_areas": null,
            "grid_template_columns": null,
            "grid_template_rows": null,
            "height": null,
            "justify_content": null,
            "justify_items": null,
            "left": null,
            "margin": null,
            "max_height": null,
            "max_width": null,
            "min_height": null,
            "min_width": null,
            "object_fit": null,
            "object_position": null,
            "order": null,
            "overflow": null,
            "overflow_x": null,
            "overflow_y": null,
            "padding": null,
            "right": null,
            "top": null,
            "visibility": null,
            "width": null
          }
        },
        "938f44d014ec48ea91a3fedf78a7e4a2": {
          "model_module": "@jupyter-widgets/controls",
          "model_name": "DescriptionStyleModel",
          "model_module_version": "1.5.0",
          "state": {
            "_model_module": "@jupyter-widgets/controls",
            "_model_module_version": "1.5.0",
            "_model_name": "DescriptionStyleModel",
            "_view_count": null,
            "_view_module": "@jupyter-widgets/base",
            "_view_module_version": "1.2.0",
            "_view_name": "StyleView",
            "description_width": ""
          }
        },
        "aaf175072ddd4a26a1d5732c4a46a5a9": {
          "model_module": "@jupyter-widgets/base",
          "model_name": "LayoutModel",
          "model_module_version": "1.2.0",
          "state": {
            "_model_module": "@jupyter-widgets/base",
            "_model_module_version": "1.2.0",
            "_model_name": "LayoutModel",
            "_view_count": null,
            "_view_module": "@jupyter-widgets/base",
            "_view_module_version": "1.2.0",
            "_view_name": "LayoutView",
            "align_content": null,
            "align_items": null,
            "align_self": null,
            "border": null,
            "bottom": null,
            "display": null,
            "flex": null,
            "flex_flow": null,
            "grid_area": null,
            "grid_auto_columns": null,
            "grid_auto_flow": null,
            "grid_auto_rows": null,
            "grid_column": null,
            "grid_gap": null,
            "grid_row": null,
            "grid_template_areas": null,
            "grid_template_columns": null,
            "grid_template_rows": null,
            "height": null,
            "justify_content": null,
            "justify_items": null,
            "left": null,
            "margin": null,
            "max_height": null,
            "max_width": null,
            "min_height": null,
            "min_width": null,
            "object_fit": null,
            "object_position": null,
            "order": null,
            "overflow": null,
            "overflow_x": null,
            "overflow_y": null,
            "padding": null,
            "right": null,
            "top": null,
            "visibility": null,
            "width": null
          }
        },
        "3b8f8036f7e1412bba73576ca676c7fa": {
          "model_module": "@jupyter-widgets/controls",
          "model_name": "ProgressStyleModel",
          "model_module_version": "1.5.0",
          "state": {
            "_model_module": "@jupyter-widgets/controls",
            "_model_module_version": "1.5.0",
            "_model_name": "ProgressStyleModel",
            "_view_count": null,
            "_view_module": "@jupyter-widgets/base",
            "_view_module_version": "1.2.0",
            "_view_name": "StyleView",
            "bar_color": null,
            "description_width": ""
          }
        },
        "fc0f9cc32d6e4a5e9a578e2710dfc3ea": {
          "model_module": "@jupyter-widgets/base",
          "model_name": "LayoutModel",
          "model_module_version": "1.2.0",
          "state": {
            "_model_module": "@jupyter-widgets/base",
            "_model_module_version": "1.2.0",
            "_model_name": "LayoutModel",
            "_view_count": null,
            "_view_module": "@jupyter-widgets/base",
            "_view_module_version": "1.2.0",
            "_view_name": "LayoutView",
            "align_content": null,
            "align_items": null,
            "align_self": null,
            "border": null,
            "bottom": null,
            "display": null,
            "flex": null,
            "flex_flow": null,
            "grid_area": null,
            "grid_auto_columns": null,
            "grid_auto_flow": null,
            "grid_auto_rows": null,
            "grid_column": null,
            "grid_gap": null,
            "grid_row": null,
            "grid_template_areas": null,
            "grid_template_columns": null,
            "grid_template_rows": null,
            "height": null,
            "justify_content": null,
            "justify_items": null,
            "left": null,
            "margin": null,
            "max_height": null,
            "max_width": null,
            "min_height": null,
            "min_width": null,
            "object_fit": null,
            "object_position": null,
            "order": null,
            "overflow": null,
            "overflow_x": null,
            "overflow_y": null,
            "padding": null,
            "right": null,
            "top": null,
            "visibility": null,
            "width": null
          }
        },
        "8bd0537593ad4975848a5605402e1c17": {
          "model_module": "@jupyter-widgets/controls",
          "model_name": "DescriptionStyleModel",
          "model_module_version": "1.5.0",
          "state": {
            "_model_module": "@jupyter-widgets/controls",
            "_model_module_version": "1.5.0",
            "_model_name": "DescriptionStyleModel",
            "_view_count": null,
            "_view_module": "@jupyter-widgets/base",
            "_view_module_version": "1.2.0",
            "_view_name": "StyleView",
            "description_width": ""
          }
        },
        "b38c709b81c14d5286192b6e0d6dbd2f": {
          "model_module": "@jupyter-widgets/controls",
          "model_name": "HBoxModel",
          "model_module_version": "1.5.0",
          "state": {
            "_dom_classes": [],
            "_model_module": "@jupyter-widgets/controls",
            "_model_module_version": "1.5.0",
            "_model_name": "HBoxModel",
            "_view_count": null,
            "_view_module": "@jupyter-widgets/controls",
            "_view_module_version": "1.5.0",
            "_view_name": "HBoxView",
            "box_style": "",
            "children": [
              "IPY_MODEL_493eb89519c7413b8df5ef12d57becd3",
              "IPY_MODEL_139548bd92db4d37b6b84248652ca54b",
              "IPY_MODEL_fc0b2b8e1efc41c284135b423a3193d6"
            ],
            "layout": "IPY_MODEL_fd2568e9f5854a76baf9c62a05acb04f"
          }
        },
        "493eb89519c7413b8df5ef12d57becd3": {
          "model_module": "@jupyter-widgets/controls",
          "model_name": "HTMLModel",
          "model_module_version": "1.5.0",
          "state": {
            "_dom_classes": [],
            "_model_module": "@jupyter-widgets/controls",
            "_model_module_version": "1.5.0",
            "_model_name": "HTMLModel",
            "_view_count": null,
            "_view_module": "@jupyter-widgets/controls",
            "_view_module_version": "1.5.0",
            "_view_name": "HTMLView",
            "description": "",
            "description_tooltip": null,
            "layout": "IPY_MODEL_ee151e9088f24ce090aac76fdabb061a",
            "placeholder": "​",
            "style": "IPY_MODEL_9559f47babfc4aaa86fb14a0b84be403",
            "value": "1_Pooling/config.json: 100%"
          }
        },
        "139548bd92db4d37b6b84248652ca54b": {
          "model_module": "@jupyter-widgets/controls",
          "model_name": "FloatProgressModel",
          "model_module_version": "1.5.0",
          "state": {
            "_dom_classes": [],
            "_model_module": "@jupyter-widgets/controls",
            "_model_module_version": "1.5.0",
            "_model_name": "FloatProgressModel",
            "_view_count": null,
            "_view_module": "@jupyter-widgets/controls",
            "_view_module_version": "1.5.0",
            "_view_name": "ProgressView",
            "bar_style": "success",
            "description": "",
            "description_tooltip": null,
            "layout": "IPY_MODEL_2ebd0bce5ee7404b97f9eb31d953ea8c",
            "max": 297,
            "min": 0,
            "orientation": "horizontal",
            "style": "IPY_MODEL_8b0e9ebeaf284897baefa65d64e679cc",
            "value": 297
          }
        },
        "fc0b2b8e1efc41c284135b423a3193d6": {
          "model_module": "@jupyter-widgets/controls",
          "model_name": "HTMLModel",
          "model_module_version": "1.5.0",
          "state": {
            "_dom_classes": [],
            "_model_module": "@jupyter-widgets/controls",
            "_model_module_version": "1.5.0",
            "_model_name": "HTMLModel",
            "_view_count": null,
            "_view_module": "@jupyter-widgets/controls",
            "_view_module_version": "1.5.0",
            "_view_name": "HTMLView",
            "description": "",
            "description_tooltip": null,
            "layout": "IPY_MODEL_e8e3632152e94c29b46391ab23e23261",
            "placeholder": "​",
            "style": "IPY_MODEL_75054282307a4816a614a0ce2adda32c",
            "value": " 297/297 [00:00&lt;00:00, 9.45kB/s]"
          }
        },
        "fd2568e9f5854a76baf9c62a05acb04f": {
          "model_module": "@jupyter-widgets/base",
          "model_name": "LayoutModel",
          "model_module_version": "1.2.0",
          "state": {
            "_model_module": "@jupyter-widgets/base",
            "_model_module_version": "1.2.0",
            "_model_name": "LayoutModel",
            "_view_count": null,
            "_view_module": "@jupyter-widgets/base",
            "_view_module_version": "1.2.0",
            "_view_name": "LayoutView",
            "align_content": null,
            "align_items": null,
            "align_self": null,
            "border": null,
            "bottom": null,
            "display": null,
            "flex": null,
            "flex_flow": null,
            "grid_area": null,
            "grid_auto_columns": null,
            "grid_auto_flow": null,
            "grid_auto_rows": null,
            "grid_column": null,
            "grid_gap": null,
            "grid_row": null,
            "grid_template_areas": null,
            "grid_template_columns": null,
            "grid_template_rows": null,
            "height": null,
            "justify_content": null,
            "justify_items": null,
            "left": null,
            "margin": null,
            "max_height": null,
            "max_width": null,
            "min_height": null,
            "min_width": null,
            "object_fit": null,
            "object_position": null,
            "order": null,
            "overflow": null,
            "overflow_x": null,
            "overflow_y": null,
            "padding": null,
            "right": null,
            "top": null,
            "visibility": null,
            "width": null
          }
        },
        "ee151e9088f24ce090aac76fdabb061a": {
          "model_module": "@jupyter-widgets/base",
          "model_name": "LayoutModel",
          "model_module_version": "1.2.0",
          "state": {
            "_model_module": "@jupyter-widgets/base",
            "_model_module_version": "1.2.0",
            "_model_name": "LayoutModel",
            "_view_count": null,
            "_view_module": "@jupyter-widgets/base",
            "_view_module_version": "1.2.0",
            "_view_name": "LayoutView",
            "align_content": null,
            "align_items": null,
            "align_self": null,
            "border": null,
            "bottom": null,
            "display": null,
            "flex": null,
            "flex_flow": null,
            "grid_area": null,
            "grid_auto_columns": null,
            "grid_auto_flow": null,
            "grid_auto_rows": null,
            "grid_column": null,
            "grid_gap": null,
            "grid_row": null,
            "grid_template_areas": null,
            "grid_template_columns": null,
            "grid_template_rows": null,
            "height": null,
            "justify_content": null,
            "justify_items": null,
            "left": null,
            "margin": null,
            "max_height": null,
            "max_width": null,
            "min_height": null,
            "min_width": null,
            "object_fit": null,
            "object_position": null,
            "order": null,
            "overflow": null,
            "overflow_x": null,
            "overflow_y": null,
            "padding": null,
            "right": null,
            "top": null,
            "visibility": null,
            "width": null
          }
        },
        "9559f47babfc4aaa86fb14a0b84be403": {
          "model_module": "@jupyter-widgets/controls",
          "model_name": "DescriptionStyleModel",
          "model_module_version": "1.5.0",
          "state": {
            "_model_module": "@jupyter-widgets/controls",
            "_model_module_version": "1.5.0",
            "_model_name": "DescriptionStyleModel",
            "_view_count": null,
            "_view_module": "@jupyter-widgets/base",
            "_view_module_version": "1.2.0",
            "_view_name": "StyleView",
            "description_width": ""
          }
        },
        "2ebd0bce5ee7404b97f9eb31d953ea8c": {
          "model_module": "@jupyter-widgets/base",
          "model_name": "LayoutModel",
          "model_module_version": "1.2.0",
          "state": {
            "_model_module": "@jupyter-widgets/base",
            "_model_module_version": "1.2.0",
            "_model_name": "LayoutModel",
            "_view_count": null,
            "_view_module": "@jupyter-widgets/base",
            "_view_module_version": "1.2.0",
            "_view_name": "LayoutView",
            "align_content": null,
            "align_items": null,
            "align_self": null,
            "border": null,
            "bottom": null,
            "display": null,
            "flex": null,
            "flex_flow": null,
            "grid_area": null,
            "grid_auto_columns": null,
            "grid_auto_flow": null,
            "grid_auto_rows": null,
            "grid_column": null,
            "grid_gap": null,
            "grid_row": null,
            "grid_template_areas": null,
            "grid_template_columns": null,
            "grid_template_rows": null,
            "height": null,
            "justify_content": null,
            "justify_items": null,
            "left": null,
            "margin": null,
            "max_height": null,
            "max_width": null,
            "min_height": null,
            "min_width": null,
            "object_fit": null,
            "object_position": null,
            "order": null,
            "overflow": null,
            "overflow_x": null,
            "overflow_y": null,
            "padding": null,
            "right": null,
            "top": null,
            "visibility": null,
            "width": null
          }
        },
        "8b0e9ebeaf284897baefa65d64e679cc": {
          "model_module": "@jupyter-widgets/controls",
          "model_name": "ProgressStyleModel",
          "model_module_version": "1.5.0",
          "state": {
            "_model_module": "@jupyter-widgets/controls",
            "_model_module_version": "1.5.0",
            "_model_name": "ProgressStyleModel",
            "_view_count": null,
            "_view_module": "@jupyter-widgets/base",
            "_view_module_version": "1.2.0",
            "_view_name": "StyleView",
            "bar_color": null,
            "description_width": ""
          }
        },
        "e8e3632152e94c29b46391ab23e23261": {
          "model_module": "@jupyter-widgets/base",
          "model_name": "LayoutModel",
          "model_module_version": "1.2.0",
          "state": {
            "_model_module": "@jupyter-widgets/base",
            "_model_module_version": "1.2.0",
            "_model_name": "LayoutModel",
            "_view_count": null,
            "_view_module": "@jupyter-widgets/base",
            "_view_module_version": "1.2.0",
            "_view_name": "LayoutView",
            "align_content": null,
            "align_items": null,
            "align_self": null,
            "border": null,
            "bottom": null,
            "display": null,
            "flex": null,
            "flex_flow": null,
            "grid_area": null,
            "grid_auto_columns": null,
            "grid_auto_flow": null,
            "grid_auto_rows": null,
            "grid_column": null,
            "grid_gap": null,
            "grid_row": null,
            "grid_template_areas": null,
            "grid_template_columns": null,
            "grid_template_rows": null,
            "height": null,
            "justify_content": null,
            "justify_items": null,
            "left": null,
            "margin": null,
            "max_height": null,
            "max_width": null,
            "min_height": null,
            "min_width": null,
            "object_fit": null,
            "object_position": null,
            "order": null,
            "overflow": null,
            "overflow_x": null,
            "overflow_y": null,
            "padding": null,
            "right": null,
            "top": null,
            "visibility": null,
            "width": null
          }
        },
        "75054282307a4816a614a0ce2adda32c": {
          "model_module": "@jupyter-widgets/controls",
          "model_name": "DescriptionStyleModel",
          "model_module_version": "1.5.0",
          "state": {
            "_model_module": "@jupyter-widgets/controls",
            "_model_module_version": "1.5.0",
            "_model_name": "DescriptionStyleModel",
            "_view_count": null,
            "_view_module": "@jupyter-widgets/base",
            "_view_module_version": "1.2.0",
            "_view_name": "StyleView",
            "description_width": ""
          }
        },
        "23fa8fcb861c47b8bc88981709a94fb0": {
          "model_module": "@jupyter-widgets/controls",
          "model_name": "HBoxModel",
          "model_module_version": "1.5.0",
          "state": {
            "_dom_classes": [],
            "_model_module": "@jupyter-widgets/controls",
            "_model_module_version": "1.5.0",
            "_model_name": "HBoxModel",
            "_view_count": null,
            "_view_module": "@jupyter-widgets/controls",
            "_view_module_version": "1.5.0",
            "_view_name": "HBoxView",
            "box_style": "",
            "children": [
              "IPY_MODEL_68793bfb576a45309f6fc668892391c6",
              "IPY_MODEL_d75b1233885846569dc094dc4b26d5ec",
              "IPY_MODEL_cdea019bb2444fbab5ae3df31981fa66"
            ],
            "layout": "IPY_MODEL_710b7d17afc2401e933b5fb593b300bf"
          }
        },
        "68793bfb576a45309f6fc668892391c6": {
          "model_module": "@jupyter-widgets/controls",
          "model_name": "HTMLModel",
          "model_module_version": "1.5.0",
          "state": {
            "_dom_classes": [],
            "_model_module": "@jupyter-widgets/controls",
            "_model_module_version": "1.5.0",
            "_model_name": "HTMLModel",
            "_view_count": null,
            "_view_module": "@jupyter-widgets/controls",
            "_view_module_version": "1.5.0",
            "_view_name": "HTMLView",
            "description": "",
            "description_tooltip": null,
            "layout": "IPY_MODEL_2e486a69c04a44fb82828aee799292e3",
            "placeholder": "​",
            "style": "IPY_MODEL_c41fa674b8314b71bcc97b3891bd9f38",
            "value": "tokenizer_config.json: 100%"
          }
        },
        "d75b1233885846569dc094dc4b26d5ec": {
          "model_module": "@jupyter-widgets/controls",
          "model_name": "FloatProgressModel",
          "model_module_version": "1.5.0",
          "state": {
            "_dom_classes": [],
            "_model_module": "@jupyter-widgets/controls",
            "_model_module_version": "1.5.0",
            "_model_name": "FloatProgressModel",
            "_view_count": null,
            "_view_module": "@jupyter-widgets/controls",
            "_view_module_version": "1.5.0",
            "_view_name": "ProgressView",
            "bar_style": "success",
            "description": "",
            "description_tooltip": null,
            "layout": "IPY_MODEL_a03a6d7c5da34a8cabacf2752d663526",
            "max": 34173,
            "min": 0,
            "orientation": "horizontal",
            "style": "IPY_MODEL_e0724f96bc18423ebbcd79f5fb17b80a",
            "value": 34173
          }
        },
        "cdea019bb2444fbab5ae3df31981fa66": {
          "model_module": "@jupyter-widgets/controls",
          "model_name": "HTMLModel",
          "model_module_version": "1.5.0",
          "state": {
            "_dom_classes": [],
            "_model_module": "@jupyter-widgets/controls",
            "_model_module_version": "1.5.0",
            "_model_name": "HTMLModel",
            "_view_count": null,
            "_view_module": "@jupyter-widgets/controls",
            "_view_module_version": "1.5.0",
            "_view_name": "HTMLView",
            "description": "",
            "description_tooltip": null,
            "layout": "IPY_MODEL_30f3e0e923564744b66bfe3a352b6638",
            "placeholder": "​",
            "style": "IPY_MODEL_01ffb87bec4348ee8a407bfcb0636106",
            "value": " 34.2k/34.2k [00:00&lt;00:00, 1.82MB/s]"
          }
        },
        "710b7d17afc2401e933b5fb593b300bf": {
          "model_module": "@jupyter-widgets/base",
          "model_name": "LayoutModel",
          "model_module_version": "1.2.0",
          "state": {
            "_model_module": "@jupyter-widgets/base",
            "_model_module_version": "1.2.0",
            "_model_name": "LayoutModel",
            "_view_count": null,
            "_view_module": "@jupyter-widgets/base",
            "_view_module_version": "1.2.0",
            "_view_name": "LayoutView",
            "align_content": null,
            "align_items": null,
            "align_self": null,
            "border": null,
            "bottom": null,
            "display": null,
            "flex": null,
            "flex_flow": null,
            "grid_area": null,
            "grid_auto_columns": null,
            "grid_auto_flow": null,
            "grid_auto_rows": null,
            "grid_column": null,
            "grid_gap": null,
            "grid_row": null,
            "grid_template_areas": null,
            "grid_template_columns": null,
            "grid_template_rows": null,
            "height": null,
            "justify_content": null,
            "justify_items": null,
            "left": null,
            "margin": null,
            "max_height": null,
            "max_width": null,
            "min_height": null,
            "min_width": null,
            "object_fit": null,
            "object_position": null,
            "order": null,
            "overflow": null,
            "overflow_x": null,
            "overflow_y": null,
            "padding": null,
            "right": null,
            "top": null,
            "visibility": null,
            "width": null
          }
        },
        "2e486a69c04a44fb82828aee799292e3": {
          "model_module": "@jupyter-widgets/base",
          "model_name": "LayoutModel",
          "model_module_version": "1.2.0",
          "state": {
            "_model_module": "@jupyter-widgets/base",
            "_model_module_version": "1.2.0",
            "_model_name": "LayoutModel",
            "_view_count": null,
            "_view_module": "@jupyter-widgets/base",
            "_view_module_version": "1.2.0",
            "_view_name": "LayoutView",
            "align_content": null,
            "align_items": null,
            "align_self": null,
            "border": null,
            "bottom": null,
            "display": null,
            "flex": null,
            "flex_flow": null,
            "grid_area": null,
            "grid_auto_columns": null,
            "grid_auto_flow": null,
            "grid_auto_rows": null,
            "grid_column": null,
            "grid_gap": null,
            "grid_row": null,
            "grid_template_areas": null,
            "grid_template_columns": null,
            "grid_template_rows": null,
            "height": null,
            "justify_content": null,
            "justify_items": null,
            "left": null,
            "margin": null,
            "max_height": null,
            "max_width": null,
            "min_height": null,
            "min_width": null,
            "object_fit": null,
            "object_position": null,
            "order": null,
            "overflow": null,
            "overflow_x": null,
            "overflow_y": null,
            "padding": null,
            "right": null,
            "top": null,
            "visibility": null,
            "width": null
          }
        },
        "c41fa674b8314b71bcc97b3891bd9f38": {
          "model_module": "@jupyter-widgets/controls",
          "model_name": "DescriptionStyleModel",
          "model_module_version": "1.5.0",
          "state": {
            "_model_module": "@jupyter-widgets/controls",
            "_model_module_version": "1.5.0",
            "_model_name": "DescriptionStyleModel",
            "_view_count": null,
            "_view_module": "@jupyter-widgets/base",
            "_view_module_version": "1.2.0",
            "_view_name": "StyleView",
            "description_width": ""
          }
        },
        "a03a6d7c5da34a8cabacf2752d663526": {
          "model_module": "@jupyter-widgets/base",
          "model_name": "LayoutModel",
          "model_module_version": "1.2.0",
          "state": {
            "_model_module": "@jupyter-widgets/base",
            "_model_module_version": "1.2.0",
            "_model_name": "LayoutModel",
            "_view_count": null,
            "_view_module": "@jupyter-widgets/base",
            "_view_module_version": "1.2.0",
            "_view_name": "LayoutView",
            "align_content": null,
            "align_items": null,
            "align_self": null,
            "border": null,
            "bottom": null,
            "display": null,
            "flex": null,
            "flex_flow": null,
            "grid_area": null,
            "grid_auto_columns": null,
            "grid_auto_flow": null,
            "grid_auto_rows": null,
            "grid_column": null,
            "grid_gap": null,
            "grid_row": null,
            "grid_template_areas": null,
            "grid_template_columns": null,
            "grid_template_rows": null,
            "height": null,
            "justify_content": null,
            "justify_items": null,
            "left": null,
            "margin": null,
            "max_height": null,
            "max_width": null,
            "min_height": null,
            "min_width": null,
            "object_fit": null,
            "object_position": null,
            "order": null,
            "overflow": null,
            "overflow_x": null,
            "overflow_y": null,
            "padding": null,
            "right": null,
            "top": null,
            "visibility": null,
            "width": null
          }
        },
        "e0724f96bc18423ebbcd79f5fb17b80a": {
          "model_module": "@jupyter-widgets/controls",
          "model_name": "ProgressStyleModel",
          "model_module_version": "1.5.0",
          "state": {
            "_model_module": "@jupyter-widgets/controls",
            "_model_module_version": "1.5.0",
            "_model_name": "ProgressStyleModel",
            "_view_count": null,
            "_view_module": "@jupyter-widgets/base",
            "_view_module_version": "1.2.0",
            "_view_name": "StyleView",
            "bar_color": null,
            "description_width": ""
          }
        },
        "30f3e0e923564744b66bfe3a352b6638": {
          "model_module": "@jupyter-widgets/base",
          "model_name": "LayoutModel",
          "model_module_version": "1.2.0",
          "state": {
            "_model_module": "@jupyter-widgets/base",
            "_model_module_version": "1.2.0",
            "_model_name": "LayoutModel",
            "_view_count": null,
            "_view_module": "@jupyter-widgets/base",
            "_view_module_version": "1.2.0",
            "_view_name": "LayoutView",
            "align_content": null,
            "align_items": null,
            "align_self": null,
            "border": null,
            "bottom": null,
            "display": null,
            "flex": null,
            "flex_flow": null,
            "grid_area": null,
            "grid_auto_columns": null,
            "grid_auto_flow": null,
            "grid_auto_rows": null,
            "grid_column": null,
            "grid_gap": null,
            "grid_row": null,
            "grid_template_areas": null,
            "grid_template_columns": null,
            "grid_template_rows": null,
            "height": null,
            "justify_content": null,
            "justify_items": null,
            "left": null,
            "margin": null,
            "max_height": null,
            "max_width": null,
            "min_height": null,
            "min_width": null,
            "object_fit": null,
            "object_position": null,
            "order": null,
            "overflow": null,
            "overflow_x": null,
            "overflow_y": null,
            "padding": null,
            "right": null,
            "top": null,
            "visibility": null,
            "width": null
          }
        },
        "01ffb87bec4348ee8a407bfcb0636106": {
          "model_module": "@jupyter-widgets/controls",
          "model_name": "DescriptionStyleModel",
          "model_module_version": "1.5.0",
          "state": {
            "_model_module": "@jupyter-widgets/controls",
            "_model_module_version": "1.5.0",
            "_model_name": "DescriptionStyleModel",
            "_view_count": null,
            "_view_module": "@jupyter-widgets/base",
            "_view_module_version": "1.2.0",
            "_view_name": "StyleView",
            "description_width": ""
          }
        },
        "9c1e5332732540198517f7f00e534361": {
          "model_module": "@jupyter-widgets/controls",
          "model_name": "HBoxModel",
          "model_module_version": "1.5.0",
          "state": {
            "_dom_classes": [],
            "_model_module": "@jupyter-widgets/controls",
            "_model_module_version": "1.5.0",
            "_model_name": "HBoxModel",
            "_view_count": null,
            "_view_module": "@jupyter-widgets/controls",
            "_view_module_version": "1.5.0",
            "_view_name": "HBoxView",
            "box_style": "",
            "children": [
              "IPY_MODEL_403915e4e167402598cfb25082c05828",
              "IPY_MODEL_5f8b9424e53544ecb57f467188177a4a",
              "IPY_MODEL_87f75f85c5ea4284a15e69f6d10c14e4"
            ],
            "layout": "IPY_MODEL_150fd44dc6d347e4ae4cc5cb66843593"
          }
        },
        "403915e4e167402598cfb25082c05828": {
          "model_module": "@jupyter-widgets/controls",
          "model_name": "HTMLModel",
          "model_module_version": "1.5.0",
          "state": {
            "_dom_classes": [],
            "_model_module": "@jupyter-widgets/controls",
            "_model_module_version": "1.5.0",
            "_model_name": "HTMLModel",
            "_view_count": null,
            "_view_module": "@jupyter-widgets/controls",
            "_view_module_version": "1.5.0",
            "_view_name": "HTMLView",
            "description": "",
            "description_tooltip": null,
            "layout": "IPY_MODEL_7948d74aebd24f52a27c68ce34b59825",
            "placeholder": "​",
            "style": "IPY_MODEL_a647ec4c01ef40d39b08b9f5ddf2a6cd",
            "value": "tokenizer.model: 100%"
          }
        },
        "5f8b9424e53544ecb57f467188177a4a": {
          "model_module": "@jupyter-widgets/controls",
          "model_name": "FloatProgressModel",
          "model_module_version": "1.5.0",
          "state": {
            "_dom_classes": [],
            "_model_module": "@jupyter-widgets/controls",
            "_model_module_version": "1.5.0",
            "_model_name": "FloatProgressModel",
            "_view_count": null,
            "_view_module": "@jupyter-widgets/controls",
            "_view_module_version": "1.5.0",
            "_view_name": "ProgressView",
            "bar_style": "success",
            "description": "",
            "description_tooltip": null,
            "layout": "IPY_MODEL_86116921ea904214914f72ae90102730",
            "max": 4241003,
            "min": 0,
            "orientation": "horizontal",
            "style": "IPY_MODEL_fde6a17241c2437e942946b84fc06ed0",
            "value": 4241003
          }
        },
        "87f75f85c5ea4284a15e69f6d10c14e4": {
          "model_module": "@jupyter-widgets/controls",
          "model_name": "HTMLModel",
          "model_module_version": "1.5.0",
          "state": {
            "_dom_classes": [],
            "_model_module": "@jupyter-widgets/controls",
            "_model_module_version": "1.5.0",
            "_model_name": "HTMLModel",
            "_view_count": null,
            "_view_module": "@jupyter-widgets/controls",
            "_view_module_version": "1.5.0",
            "_view_name": "HTMLView",
            "description": "",
            "description_tooltip": null,
            "layout": "IPY_MODEL_7b947023428a4ad480d0bd3dbbc9a7bf",
            "placeholder": "​",
            "style": "IPY_MODEL_2f58c82d284e42bb8070723a47272c5f",
            "value": " 4.24M/4.24M [00:00&lt;00:00, 42.3MB/s]"
          }
        },
        "150fd44dc6d347e4ae4cc5cb66843593": {
          "model_module": "@jupyter-widgets/base",
          "model_name": "LayoutModel",
          "model_module_version": "1.2.0",
          "state": {
            "_model_module": "@jupyter-widgets/base",
            "_model_module_version": "1.2.0",
            "_model_name": "LayoutModel",
            "_view_count": null,
            "_view_module": "@jupyter-widgets/base",
            "_view_module_version": "1.2.0",
            "_view_name": "LayoutView",
            "align_content": null,
            "align_items": null,
            "align_self": null,
            "border": null,
            "bottom": null,
            "display": null,
            "flex": null,
            "flex_flow": null,
            "grid_area": null,
            "grid_auto_columns": null,
            "grid_auto_flow": null,
            "grid_auto_rows": null,
            "grid_column": null,
            "grid_gap": null,
            "grid_row": null,
            "grid_template_areas": null,
            "grid_template_columns": null,
            "grid_template_rows": null,
            "height": null,
            "justify_content": null,
            "justify_items": null,
            "left": null,
            "margin": null,
            "max_height": null,
            "max_width": null,
            "min_height": null,
            "min_width": null,
            "object_fit": null,
            "object_position": null,
            "order": null,
            "overflow": null,
            "overflow_x": null,
            "overflow_y": null,
            "padding": null,
            "right": null,
            "top": null,
            "visibility": null,
            "width": null
          }
        },
        "7948d74aebd24f52a27c68ce34b59825": {
          "model_module": "@jupyter-widgets/base",
          "model_name": "LayoutModel",
          "model_module_version": "1.2.0",
          "state": {
            "_model_module": "@jupyter-widgets/base",
            "_model_module_version": "1.2.0",
            "_model_name": "LayoutModel",
            "_view_count": null,
            "_view_module": "@jupyter-widgets/base",
            "_view_module_version": "1.2.0",
            "_view_name": "LayoutView",
            "align_content": null,
            "align_items": null,
            "align_self": null,
            "border": null,
            "bottom": null,
            "display": null,
            "flex": null,
            "flex_flow": null,
            "grid_area": null,
            "grid_auto_columns": null,
            "grid_auto_flow": null,
            "grid_auto_rows": null,
            "grid_column": null,
            "grid_gap": null,
            "grid_row": null,
            "grid_template_areas": null,
            "grid_template_columns": null,
            "grid_template_rows": null,
            "height": null,
            "justify_content": null,
            "justify_items": null,
            "left": null,
            "margin": null,
            "max_height": null,
            "max_width": null,
            "min_height": null,
            "min_width": null,
            "object_fit": null,
            "object_position": null,
            "order": null,
            "overflow": null,
            "overflow_x": null,
            "overflow_y": null,
            "padding": null,
            "right": null,
            "top": null,
            "visibility": null,
            "width": null
          }
        },
        "a647ec4c01ef40d39b08b9f5ddf2a6cd": {
          "model_module": "@jupyter-widgets/controls",
          "model_name": "DescriptionStyleModel",
          "model_module_version": "1.5.0",
          "state": {
            "_model_module": "@jupyter-widgets/controls",
            "_model_module_version": "1.5.0",
            "_model_name": "DescriptionStyleModel",
            "_view_count": null,
            "_view_module": "@jupyter-widgets/base",
            "_view_module_version": "1.2.0",
            "_view_name": "StyleView",
            "description_width": ""
          }
        },
        "86116921ea904214914f72ae90102730": {
          "model_module": "@jupyter-widgets/base",
          "model_name": "LayoutModel",
          "model_module_version": "1.2.0",
          "state": {
            "_model_module": "@jupyter-widgets/base",
            "_model_module_version": "1.2.0",
            "_model_name": "LayoutModel",
            "_view_count": null,
            "_view_module": "@jupyter-widgets/base",
            "_view_module_version": "1.2.0",
            "_view_name": "LayoutView",
            "align_content": null,
            "align_items": null,
            "align_self": null,
            "border": null,
            "bottom": null,
            "display": null,
            "flex": null,
            "flex_flow": null,
            "grid_area": null,
            "grid_auto_columns": null,
            "grid_auto_flow": null,
            "grid_auto_rows": null,
            "grid_column": null,
            "grid_gap": null,
            "grid_row": null,
            "grid_template_areas": null,
            "grid_template_columns": null,
            "grid_template_rows": null,
            "height": null,
            "justify_content": null,
            "justify_items": null,
            "left": null,
            "margin": null,
            "max_height": null,
            "max_width": null,
            "min_height": null,
            "min_width": null,
            "object_fit": null,
            "object_position": null,
            "order": null,
            "overflow": null,
            "overflow_x": null,
            "overflow_y": null,
            "padding": null,
            "right": null,
            "top": null,
            "visibility": null,
            "width": null
          }
        },
        "fde6a17241c2437e942946b84fc06ed0": {
          "model_module": "@jupyter-widgets/controls",
          "model_name": "ProgressStyleModel",
          "model_module_version": "1.5.0",
          "state": {
            "_model_module": "@jupyter-widgets/controls",
            "_model_module_version": "1.5.0",
            "_model_name": "ProgressStyleModel",
            "_view_count": null,
            "_view_module": "@jupyter-widgets/base",
            "_view_module_version": "1.2.0",
            "_view_name": "StyleView",
            "bar_color": null,
            "description_width": ""
          }
        },
        "7b947023428a4ad480d0bd3dbbc9a7bf": {
          "model_module": "@jupyter-widgets/base",
          "model_name": "LayoutModel",
          "model_module_version": "1.2.0",
          "state": {
            "_model_module": "@jupyter-widgets/base",
            "_model_module_version": "1.2.0",
            "_model_name": "LayoutModel",
            "_view_count": null,
            "_view_module": "@jupyter-widgets/base",
            "_view_module_version": "1.2.0",
            "_view_name": "LayoutView",
            "align_content": null,
            "align_items": null,
            "align_self": null,
            "border": null,
            "bottom": null,
            "display": null,
            "flex": null,
            "flex_flow": null,
            "grid_area": null,
            "grid_auto_columns": null,
            "grid_auto_flow": null,
            "grid_auto_rows": null,
            "grid_column": null,
            "grid_gap": null,
            "grid_row": null,
            "grid_template_areas": null,
            "grid_template_columns": null,
            "grid_template_rows": null,
            "height": null,
            "justify_content": null,
            "justify_items": null,
            "left": null,
            "margin": null,
            "max_height": null,
            "max_width": null,
            "min_height": null,
            "min_width": null,
            "object_fit": null,
            "object_position": null,
            "order": null,
            "overflow": null,
            "overflow_x": null,
            "overflow_y": null,
            "padding": null,
            "right": null,
            "top": null,
            "visibility": null,
            "width": null
          }
        },
        "2f58c82d284e42bb8070723a47272c5f": {
          "model_module": "@jupyter-widgets/controls",
          "model_name": "DescriptionStyleModel",
          "model_module_version": "1.5.0",
          "state": {
            "_model_module": "@jupyter-widgets/controls",
            "_model_module_version": "1.5.0",
            "_model_name": "DescriptionStyleModel",
            "_view_count": null,
            "_view_module": "@jupyter-widgets/base",
            "_view_module_version": "1.2.0",
            "_view_name": "StyleView",
            "description_width": ""
          }
        },
        "b3bc286e1c0747bd81c1b7c7e40d145a": {
          "model_module": "@jupyter-widgets/controls",
          "model_name": "HBoxModel",
          "model_module_version": "1.5.0",
          "state": {
            "_dom_classes": [],
            "_model_module": "@jupyter-widgets/controls",
            "_model_module_version": "1.5.0",
            "_model_name": "HBoxModel",
            "_view_count": null,
            "_view_module": "@jupyter-widgets/controls",
            "_view_module_version": "1.5.0",
            "_view_name": "HBoxView",
            "box_style": "",
            "children": [
              "IPY_MODEL_40b275de128344b6810f2b91f9f576b9",
              "IPY_MODEL_b1c42f1cd4e9418484af26f0e1b2035f",
              "IPY_MODEL_bc527f7c4a504459add0ab3043b5cb5a"
            ],
            "layout": "IPY_MODEL_c27d8fe1656942e8bcc0de9ca4c868dd"
          }
        },
        "40b275de128344b6810f2b91f9f576b9": {
          "model_module": "@jupyter-widgets/controls",
          "model_name": "HTMLModel",
          "model_module_version": "1.5.0",
          "state": {
            "_dom_classes": [],
            "_model_module": "@jupyter-widgets/controls",
            "_model_module_version": "1.5.0",
            "_model_name": "HTMLModel",
            "_view_count": null,
            "_view_module": "@jupyter-widgets/controls",
            "_view_module_version": "1.5.0",
            "_view_name": "HTMLView",
            "description": "",
            "description_tooltip": null,
            "layout": "IPY_MODEL_9e363fa4d2ee4fe29506b5d5fe8367b9",
            "placeholder": "​",
            "style": "IPY_MODEL_da35dc44077a49d3a374540db7ba924f",
            "value": "tokenizer.json: 100%"
          }
        },
        "b1c42f1cd4e9418484af26f0e1b2035f": {
          "model_module": "@jupyter-widgets/controls",
          "model_name": "FloatProgressModel",
          "model_module_version": "1.5.0",
          "state": {
            "_dom_classes": [],
            "_model_module": "@jupyter-widgets/controls",
            "_model_module_version": "1.5.0",
            "_model_name": "FloatProgressModel",
            "_view_count": null,
            "_view_module": "@jupyter-widgets/controls",
            "_view_module_version": "1.5.0",
            "_view_name": "ProgressView",
            "bar_style": "success",
            "description": "",
            "description_tooltip": null,
            "layout": "IPY_MODEL_5741697ab0d94994adcacbe692c5b792",
            "max": 17518497,
            "min": 0,
            "orientation": "horizontal",
            "style": "IPY_MODEL_f7301e2477704c06896f66578ef0bd30",
            "value": 17518497
          }
        },
        "bc527f7c4a504459add0ab3043b5cb5a": {
          "model_module": "@jupyter-widgets/controls",
          "model_name": "HTMLModel",
          "model_module_version": "1.5.0",
          "state": {
            "_dom_classes": [],
            "_model_module": "@jupyter-widgets/controls",
            "_model_module_version": "1.5.0",
            "_model_name": "HTMLModel",
            "_view_count": null,
            "_view_module": "@jupyter-widgets/controls",
            "_view_module_version": "1.5.0",
            "_view_name": "HTMLView",
            "description": "",
            "description_tooltip": null,
            "layout": "IPY_MODEL_18dcfa0715454e62b085073322bbf939",
            "placeholder": "​",
            "style": "IPY_MODEL_c1d441c0dec34c629f18f3f38c202e5a",
            "value": " 17.5M/17.5M [00:00&lt;00:00, 42.7MB/s]"
          }
        },
        "c27d8fe1656942e8bcc0de9ca4c868dd": {
          "model_module": "@jupyter-widgets/base",
          "model_name": "LayoutModel",
          "model_module_version": "1.2.0",
          "state": {
            "_model_module": "@jupyter-widgets/base",
            "_model_module_version": "1.2.0",
            "_model_name": "LayoutModel",
            "_view_count": null,
            "_view_module": "@jupyter-widgets/base",
            "_view_module_version": "1.2.0",
            "_view_name": "LayoutView",
            "align_content": null,
            "align_items": null,
            "align_self": null,
            "border": null,
            "bottom": null,
            "display": null,
            "flex": null,
            "flex_flow": null,
            "grid_area": null,
            "grid_auto_columns": null,
            "grid_auto_flow": null,
            "grid_auto_rows": null,
            "grid_column": null,
            "grid_gap": null,
            "grid_row": null,
            "grid_template_areas": null,
            "grid_template_columns": null,
            "grid_template_rows": null,
            "height": null,
            "justify_content": null,
            "justify_items": null,
            "left": null,
            "margin": null,
            "max_height": null,
            "max_width": null,
            "min_height": null,
            "min_width": null,
            "object_fit": null,
            "object_position": null,
            "order": null,
            "overflow": null,
            "overflow_x": null,
            "overflow_y": null,
            "padding": null,
            "right": null,
            "top": null,
            "visibility": null,
            "width": null
          }
        },
        "9e363fa4d2ee4fe29506b5d5fe8367b9": {
          "model_module": "@jupyter-widgets/base",
          "model_name": "LayoutModel",
          "model_module_version": "1.2.0",
          "state": {
            "_model_module": "@jupyter-widgets/base",
            "_model_module_version": "1.2.0",
            "_model_name": "LayoutModel",
            "_view_count": null,
            "_view_module": "@jupyter-widgets/base",
            "_view_module_version": "1.2.0",
            "_view_name": "LayoutView",
            "align_content": null,
            "align_items": null,
            "align_self": null,
            "border": null,
            "bottom": null,
            "display": null,
            "flex": null,
            "flex_flow": null,
            "grid_area": null,
            "grid_auto_columns": null,
            "grid_auto_flow": null,
            "grid_auto_rows": null,
            "grid_column": null,
            "grid_gap": null,
            "grid_row": null,
            "grid_template_areas": null,
            "grid_template_columns": null,
            "grid_template_rows": null,
            "height": null,
            "justify_content": null,
            "justify_items": null,
            "left": null,
            "margin": null,
            "max_height": null,
            "max_width": null,
            "min_height": null,
            "min_width": null,
            "object_fit": null,
            "object_position": null,
            "order": null,
            "overflow": null,
            "overflow_x": null,
            "overflow_y": null,
            "padding": null,
            "right": null,
            "top": null,
            "visibility": null,
            "width": null
          }
        },
        "da35dc44077a49d3a374540db7ba924f": {
          "model_module": "@jupyter-widgets/controls",
          "model_name": "DescriptionStyleModel",
          "model_module_version": "1.5.0",
          "state": {
            "_model_module": "@jupyter-widgets/controls",
            "_model_module_version": "1.5.0",
            "_model_name": "DescriptionStyleModel",
            "_view_count": null,
            "_view_module": "@jupyter-widgets/base",
            "_view_module_version": "1.2.0",
            "_view_name": "StyleView",
            "description_width": ""
          }
        },
        "5741697ab0d94994adcacbe692c5b792": {
          "model_module": "@jupyter-widgets/base",
          "model_name": "LayoutModel",
          "model_module_version": "1.2.0",
          "state": {
            "_model_module": "@jupyter-widgets/base",
            "_model_module_version": "1.2.0",
            "_model_name": "LayoutModel",
            "_view_count": null,
            "_view_module": "@jupyter-widgets/base",
            "_view_module_version": "1.2.0",
            "_view_name": "LayoutView",
            "align_content": null,
            "align_items": null,
            "align_self": null,
            "border": null,
            "bottom": null,
            "display": null,
            "flex": null,
            "flex_flow": null,
            "grid_area": null,
            "grid_auto_columns": null,
            "grid_auto_flow": null,
            "grid_auto_rows": null,
            "grid_column": null,
            "grid_gap": null,
            "grid_row": null,
            "grid_template_areas": null,
            "grid_template_columns": null,
            "grid_template_rows": null,
            "height": null,
            "justify_content": null,
            "justify_items": null,
            "left": null,
            "margin": null,
            "max_height": null,
            "max_width": null,
            "min_height": null,
            "min_width": null,
            "object_fit": null,
            "object_position": null,
            "order": null,
            "overflow": null,
            "overflow_x": null,
            "overflow_y": null,
            "padding": null,
            "right": null,
            "top": null,
            "visibility": null,
            "width": null
          }
        },
        "f7301e2477704c06896f66578ef0bd30": {
          "model_module": "@jupyter-widgets/controls",
          "model_name": "ProgressStyleModel",
          "model_module_version": "1.5.0",
          "state": {
            "_model_module": "@jupyter-widgets/controls",
            "_model_module_version": "1.5.0",
            "_model_name": "ProgressStyleModel",
            "_view_count": null,
            "_view_module": "@jupyter-widgets/base",
            "_view_module_version": "1.2.0",
            "_view_name": "StyleView",
            "bar_color": null,
            "description_width": ""
          }
        },
        "18dcfa0715454e62b085073322bbf939": {
          "model_module": "@jupyter-widgets/base",
          "model_name": "LayoutModel",
          "model_module_version": "1.2.0",
          "state": {
            "_model_module": "@jupyter-widgets/base",
            "_model_module_version": "1.2.0",
            "_model_name": "LayoutModel",
            "_view_count": null,
            "_view_module": "@jupyter-widgets/base",
            "_view_module_version": "1.2.0",
            "_view_name": "LayoutView",
            "align_content": null,
            "align_items": null,
            "align_self": null,
            "border": null,
            "bottom": null,
            "display": null,
            "flex": null,
            "flex_flow": null,
            "grid_area": null,
            "grid_auto_columns": null,
            "grid_auto_flow": null,
            "grid_auto_rows": null,
            "grid_column": null,
            "grid_gap": null,
            "grid_row": null,
            "grid_template_areas": null,
            "grid_template_columns": null,
            "grid_template_rows": null,
            "height": null,
            "justify_content": null,
            "justify_items": null,
            "left": null,
            "margin": null,
            "max_height": null,
            "max_width": null,
            "min_height": null,
            "min_width": null,
            "object_fit": null,
            "object_position": null,
            "order": null,
            "overflow": null,
            "overflow_x": null,
            "overflow_y": null,
            "padding": null,
            "right": null,
            "top": null,
            "visibility": null,
            "width": null
          }
        },
        "c1d441c0dec34c629f18f3f38c202e5a": {
          "model_module": "@jupyter-widgets/controls",
          "model_name": "DescriptionStyleModel",
          "model_module_version": "1.5.0",
          "state": {
            "_model_module": "@jupyter-widgets/controls",
            "_model_module_version": "1.5.0",
            "_model_name": "DescriptionStyleModel",
            "_view_count": null,
            "_view_module": "@jupyter-widgets/base",
            "_view_module_version": "1.2.0",
            "_view_name": "StyleView",
            "description_width": ""
          }
        },
        "65d92fa186fd46bb949060c3dbab8dce": {
          "model_module": "@jupyter-widgets/controls",
          "model_name": "HBoxModel",
          "model_module_version": "1.5.0",
          "state": {
            "_dom_classes": [],
            "_model_module": "@jupyter-widgets/controls",
            "_model_module_version": "1.5.0",
            "_model_name": "HBoxModel",
            "_view_count": null,
            "_view_module": "@jupyter-widgets/controls",
            "_view_module_version": "1.5.0",
            "_view_name": "HBoxView",
            "box_style": "",
            "children": [
              "IPY_MODEL_654c16a26b9a486d82f3b52b72a7f895",
              "IPY_MODEL_0c4dc66e67d7424882fa13a8bd04928e",
              "IPY_MODEL_fa1a200830bf44ccbc7f2786146cb835"
            ],
            "layout": "IPY_MODEL_d09f6730ac254ff9a03c44b009f95c49"
          }
        },
        "654c16a26b9a486d82f3b52b72a7f895": {
          "model_module": "@jupyter-widgets/controls",
          "model_name": "HTMLModel",
          "model_module_version": "1.5.0",
          "state": {
            "_dom_classes": [],
            "_model_module": "@jupyter-widgets/controls",
            "_model_module_version": "1.5.0",
            "_model_name": "HTMLModel",
            "_view_count": null,
            "_view_module": "@jupyter-widgets/controls",
            "_view_module_version": "1.5.0",
            "_view_name": "HTMLView",
            "description": "",
            "description_tooltip": null,
            "layout": "IPY_MODEL_f10de437fecc4d6780022b3dcb19d121",
            "placeholder": "​",
            "style": "IPY_MODEL_3a8ed4e5d0174adf9dd97d22b5f4ebe7",
            "value": "special_tokens_map.json: 100%"
          }
        },
        "0c4dc66e67d7424882fa13a8bd04928e": {
          "model_module": "@jupyter-widgets/controls",
          "model_name": "FloatProgressModel",
          "model_module_version": "1.5.0",
          "state": {
            "_dom_classes": [],
            "_model_module": "@jupyter-widgets/controls",
            "_model_module_version": "1.5.0",
            "_model_name": "FloatProgressModel",
            "_view_count": null,
            "_view_module": "@jupyter-widgets/controls",
            "_view_module_version": "1.5.0",
            "_view_name": "ProgressView",
            "bar_style": "success",
            "description": "",
            "description_tooltip": null,
            "layout": "IPY_MODEL_d1416a2ccdc449c0ac7cb0b7667458b2",
            "max": 636,
            "min": 0,
            "orientation": "horizontal",
            "style": "IPY_MODEL_bd5b85454efd494b99ef7ae4cd0ef9cd",
            "value": 636
          }
        },
        "fa1a200830bf44ccbc7f2786146cb835": {
          "model_module": "@jupyter-widgets/controls",
          "model_name": "HTMLModel",
          "model_module_version": "1.5.0",
          "state": {
            "_dom_classes": [],
            "_model_module": "@jupyter-widgets/controls",
            "_model_module_version": "1.5.0",
            "_model_name": "HTMLModel",
            "_view_count": null,
            "_view_module": "@jupyter-widgets/controls",
            "_view_module_version": "1.5.0",
            "_view_name": "HTMLView",
            "description": "",
            "description_tooltip": null,
            "layout": "IPY_MODEL_5b2a2e7f048d47469f592726aa6708bb",
            "placeholder": "​",
            "style": "IPY_MODEL_b8934a92d1dc4ce89ef4143e00d8bb3a",
            "value": " 636/636 [00:00&lt;00:00, 43.6kB/s]"
          }
        },
        "d09f6730ac254ff9a03c44b009f95c49": {
          "model_module": "@jupyter-widgets/base",
          "model_name": "LayoutModel",
          "model_module_version": "1.2.0",
          "state": {
            "_model_module": "@jupyter-widgets/base",
            "_model_module_version": "1.2.0",
            "_model_name": "LayoutModel",
            "_view_count": null,
            "_view_module": "@jupyter-widgets/base",
            "_view_module_version": "1.2.0",
            "_view_name": "LayoutView",
            "align_content": null,
            "align_items": null,
            "align_self": null,
            "border": null,
            "bottom": null,
            "display": null,
            "flex": null,
            "flex_flow": null,
            "grid_area": null,
            "grid_auto_columns": null,
            "grid_auto_flow": null,
            "grid_auto_rows": null,
            "grid_column": null,
            "grid_gap": null,
            "grid_row": null,
            "grid_template_areas": null,
            "grid_template_columns": null,
            "grid_template_rows": null,
            "height": null,
            "justify_content": null,
            "justify_items": null,
            "left": null,
            "margin": null,
            "max_height": null,
            "max_width": null,
            "min_height": null,
            "min_width": null,
            "object_fit": null,
            "object_position": null,
            "order": null,
            "overflow": null,
            "overflow_x": null,
            "overflow_y": null,
            "padding": null,
            "right": null,
            "top": null,
            "visibility": null,
            "width": null
          }
        },
        "f10de437fecc4d6780022b3dcb19d121": {
          "model_module": "@jupyter-widgets/base",
          "model_name": "LayoutModel",
          "model_module_version": "1.2.0",
          "state": {
            "_model_module": "@jupyter-widgets/base",
            "_model_module_version": "1.2.0",
            "_model_name": "LayoutModel",
            "_view_count": null,
            "_view_module": "@jupyter-widgets/base",
            "_view_module_version": "1.2.0",
            "_view_name": "LayoutView",
            "align_content": null,
            "align_items": null,
            "align_self": null,
            "border": null,
            "bottom": null,
            "display": null,
            "flex": null,
            "flex_flow": null,
            "grid_area": null,
            "grid_auto_columns": null,
            "grid_auto_flow": null,
            "grid_auto_rows": null,
            "grid_column": null,
            "grid_gap": null,
            "grid_row": null,
            "grid_template_areas": null,
            "grid_template_columns": null,
            "grid_template_rows": null,
            "height": null,
            "justify_content": null,
            "justify_items": null,
            "left": null,
            "margin": null,
            "max_height": null,
            "max_width": null,
            "min_height": null,
            "min_width": null,
            "object_fit": null,
            "object_position": null,
            "order": null,
            "overflow": null,
            "overflow_x": null,
            "overflow_y": null,
            "padding": null,
            "right": null,
            "top": null,
            "visibility": null,
            "width": null
          }
        },
        "3a8ed4e5d0174adf9dd97d22b5f4ebe7": {
          "model_module": "@jupyter-widgets/controls",
          "model_name": "DescriptionStyleModel",
          "model_module_version": "1.5.0",
          "state": {
            "_model_module": "@jupyter-widgets/controls",
            "_model_module_version": "1.5.0",
            "_model_name": "DescriptionStyleModel",
            "_view_count": null,
            "_view_module": "@jupyter-widgets/base",
            "_view_module_version": "1.2.0",
            "_view_name": "StyleView",
            "description_width": ""
          }
        },
        "d1416a2ccdc449c0ac7cb0b7667458b2": {
          "model_module": "@jupyter-widgets/base",
          "model_name": "LayoutModel",
          "model_module_version": "1.2.0",
          "state": {
            "_model_module": "@jupyter-widgets/base",
            "_model_module_version": "1.2.0",
            "_model_name": "LayoutModel",
            "_view_count": null,
            "_view_module": "@jupyter-widgets/base",
            "_view_module_version": "1.2.0",
            "_view_name": "LayoutView",
            "align_content": null,
            "align_items": null,
            "align_self": null,
            "border": null,
            "bottom": null,
            "display": null,
            "flex": null,
            "flex_flow": null,
            "grid_area": null,
            "grid_auto_columns": null,
            "grid_auto_flow": null,
            "grid_auto_rows": null,
            "grid_column": null,
            "grid_gap": null,
            "grid_row": null,
            "grid_template_areas": null,
            "grid_template_columns": null,
            "grid_template_rows": null,
            "height": null,
            "justify_content": null,
            "justify_items": null,
            "left": null,
            "margin": null,
            "max_height": null,
            "max_width": null,
            "min_height": null,
            "min_width": null,
            "object_fit": null,
            "object_position": null,
            "order": null,
            "overflow": null,
            "overflow_x": null,
            "overflow_y": null,
            "padding": null,
            "right": null,
            "top": null,
            "visibility": null,
            "width": null
          }
        },
        "bd5b85454efd494b99ef7ae4cd0ef9cd": {
          "model_module": "@jupyter-widgets/controls",
          "model_name": "ProgressStyleModel",
          "model_module_version": "1.5.0",
          "state": {
            "_model_module": "@jupyter-widgets/controls",
            "_model_module_version": "1.5.0",
            "_model_name": "ProgressStyleModel",
            "_view_count": null,
            "_view_module": "@jupyter-widgets/base",
            "_view_module_version": "1.2.0",
            "_view_name": "StyleView",
            "bar_color": null,
            "description_width": ""
          }
        },
        "5b2a2e7f048d47469f592726aa6708bb": {
          "model_module": "@jupyter-widgets/base",
          "model_name": "LayoutModel",
          "model_module_version": "1.2.0",
          "state": {
            "_model_module": "@jupyter-widgets/base",
            "_model_module_version": "1.2.0",
            "_model_name": "LayoutModel",
            "_view_count": null,
            "_view_module": "@jupyter-widgets/base",
            "_view_module_version": "1.2.0",
            "_view_name": "LayoutView",
            "align_content": null,
            "align_items": null,
            "align_self": null,
            "border": null,
            "bottom": null,
            "display": null,
            "flex": null,
            "flex_flow": null,
            "grid_area": null,
            "grid_auto_columns": null,
            "grid_auto_flow": null,
            "grid_auto_rows": null,
            "grid_column": null,
            "grid_gap": null,
            "grid_row": null,
            "grid_template_areas": null,
            "grid_template_columns": null,
            "grid_template_rows": null,
            "height": null,
            "justify_content": null,
            "justify_items": null,
            "left": null,
            "margin": null,
            "max_height": null,
            "max_width": null,
            "min_height": null,
            "min_width": null,
            "object_fit": null,
            "object_position": null,
            "order": null,
            "overflow": null,
            "overflow_x": null,
            "overflow_y": null,
            "padding": null,
            "right": null,
            "top": null,
            "visibility": null,
            "width": null
          }
        },
        "b8934a92d1dc4ce89ef4143e00d8bb3a": {
          "model_module": "@jupyter-widgets/controls",
          "model_name": "DescriptionStyleModel",
          "model_module_version": "1.5.0",
          "state": {
            "_model_module": "@jupyter-widgets/controls",
            "_model_module_version": "1.5.0",
            "_model_name": "DescriptionStyleModel",
            "_view_count": null,
            "_view_module": "@jupyter-widgets/base",
            "_view_module_version": "1.2.0",
            "_view_name": "StyleView",
            "description_width": ""
          }
        }
      }
    }
  },
  "cells": [
    {
      "cell_type": "code",
      "execution_count": 1,
      "metadata": {
        "colab": {
          "base_uri": "https://localhost:8080/"
        },
        "id": "tWLLmyWrRBZJ",
        "outputId": "2d6ea2f8-7429-49db-bfab-28ade74683c9"
      },
      "outputs": [
        {
          "output_type": "stream",
          "name": "stdout",
          "text": [
            "Collecting langchain==0.2.0\n",
            "  Downloading langchain-0.2.0-py3-none-any.whl.metadata (13 kB)\n",
            "Requirement already satisfied: PyYAML>=5.3 in /usr/local/lib/python3.10/dist-packages (from langchain==0.2.0) (6.0.2)\n",
            "Requirement already satisfied: SQLAlchemy<3,>=1.4 in /usr/local/lib/python3.10/dist-packages (from langchain==0.2.0) (2.0.36)\n",
            "Requirement already satisfied: aiohttp<4.0.0,>=3.8.3 in /usr/local/lib/python3.10/dist-packages (from langchain==0.2.0) (3.11.11)\n",
            "Requirement already satisfied: async-timeout<5.0.0,>=4.0.0 in /usr/local/lib/python3.10/dist-packages (from langchain==0.2.0) (4.0.3)\n",
            "Collecting dataclasses-json<0.7,>=0.5.7 (from langchain==0.2.0)\n",
            "  Downloading dataclasses_json-0.6.7-py3-none-any.whl.metadata (25 kB)\n",
            "Collecting langchain-core<0.3.0,>=0.2.0 (from langchain==0.2.0)\n",
            "  Downloading langchain_core-0.2.43-py3-none-any.whl.metadata (6.2 kB)\n",
            "Collecting langchain-text-splitters<0.3.0,>=0.2.0 (from langchain==0.2.0)\n",
            "  Downloading langchain_text_splitters-0.2.4-py3-none-any.whl.metadata (2.3 kB)\n",
            "Collecting langsmith<0.2.0,>=0.1.17 (from langchain==0.2.0)\n",
            "  Downloading langsmith-0.1.147-py3-none-any.whl.metadata (14 kB)\n",
            "Requirement already satisfied: numpy<2,>=1 in /usr/local/lib/python3.10/dist-packages (from langchain==0.2.0) (1.26.4)\n",
            "Requirement already satisfied: pydantic<3,>=1 in /usr/local/lib/python3.10/dist-packages (from langchain==0.2.0) (2.10.4)\n",
            "Requirement already satisfied: requests<3,>=2 in /usr/local/lib/python3.10/dist-packages (from langchain==0.2.0) (2.32.3)\n",
            "Collecting tenacity<9.0.0,>=8.1.0 (from langchain==0.2.0)\n",
            "  Downloading tenacity-8.5.0-py3-none-any.whl.metadata (1.2 kB)\n",
            "Requirement already satisfied: aiohappyeyeballs>=2.3.0 in /usr/local/lib/python3.10/dist-packages (from aiohttp<4.0.0,>=3.8.3->langchain==0.2.0) (2.4.4)\n",
            "Requirement already satisfied: aiosignal>=1.1.2 in /usr/local/lib/python3.10/dist-packages (from aiohttp<4.0.0,>=3.8.3->langchain==0.2.0) (1.3.2)\n",
            "Requirement already satisfied: attrs>=17.3.0 in /usr/local/lib/python3.10/dist-packages (from aiohttp<4.0.0,>=3.8.3->langchain==0.2.0) (24.3.0)\n",
            "Requirement already satisfied: frozenlist>=1.1.1 in /usr/local/lib/python3.10/dist-packages (from aiohttp<4.0.0,>=3.8.3->langchain==0.2.0) (1.5.0)\n",
            "Requirement already satisfied: multidict<7.0,>=4.5 in /usr/local/lib/python3.10/dist-packages (from aiohttp<4.0.0,>=3.8.3->langchain==0.2.0) (6.1.0)\n",
            "Requirement already satisfied: propcache>=0.2.0 in /usr/local/lib/python3.10/dist-packages (from aiohttp<4.0.0,>=3.8.3->langchain==0.2.0) (0.2.1)\n",
            "Requirement already satisfied: yarl<2.0,>=1.17.0 in /usr/local/lib/python3.10/dist-packages (from aiohttp<4.0.0,>=3.8.3->langchain==0.2.0) (1.18.3)\n",
            "Collecting marshmallow<4.0.0,>=3.18.0 (from dataclasses-json<0.7,>=0.5.7->langchain==0.2.0)\n",
            "  Downloading marshmallow-3.25.0-py3-none-any.whl.metadata (7.1 kB)\n",
            "Collecting typing-inspect<1,>=0.4.0 (from dataclasses-json<0.7,>=0.5.7->langchain==0.2.0)\n",
            "  Downloading typing_inspect-0.9.0-py3-none-any.whl.metadata (1.5 kB)\n",
            "Requirement already satisfied: jsonpatch<2.0,>=1.33 in /usr/local/lib/python3.10/dist-packages (from langchain-core<0.3.0,>=0.2.0->langchain==0.2.0) (1.33)\n",
            "Requirement already satisfied: packaging<25,>=23.2 in /usr/local/lib/python3.10/dist-packages (from langchain-core<0.3.0,>=0.2.0->langchain==0.2.0) (24.2)\n",
            "Requirement already satisfied: typing-extensions>=4.7 in /usr/local/lib/python3.10/dist-packages (from langchain-core<0.3.0,>=0.2.0->langchain==0.2.0) (4.12.2)\n",
            "Requirement already satisfied: httpx<1,>=0.23.0 in /usr/local/lib/python3.10/dist-packages (from langsmith<0.2.0,>=0.1.17->langchain==0.2.0) (0.28.1)\n",
            "Requirement already satisfied: orjson<4.0.0,>=3.9.14 in /usr/local/lib/python3.10/dist-packages (from langsmith<0.2.0,>=0.1.17->langchain==0.2.0) (3.10.13)\n",
            "Requirement already satisfied: requests-toolbelt<2.0.0,>=1.0.0 in /usr/local/lib/python3.10/dist-packages (from langsmith<0.2.0,>=0.1.17->langchain==0.2.0) (1.0.0)\n",
            "Requirement already satisfied: annotated-types>=0.6.0 in /usr/local/lib/python3.10/dist-packages (from pydantic<3,>=1->langchain==0.2.0) (0.7.0)\n",
            "Requirement already satisfied: pydantic-core==2.27.2 in /usr/local/lib/python3.10/dist-packages (from pydantic<3,>=1->langchain==0.2.0) (2.27.2)\n",
            "Requirement already satisfied: charset-normalizer<4,>=2 in /usr/local/lib/python3.10/dist-packages (from requests<3,>=2->langchain==0.2.0) (3.4.1)\n",
            "Requirement already satisfied: idna<4,>=2.5 in /usr/local/lib/python3.10/dist-packages (from requests<3,>=2->langchain==0.2.0) (3.10)\n",
            "Requirement already satisfied: urllib3<3,>=1.21.1 in /usr/local/lib/python3.10/dist-packages (from requests<3,>=2->langchain==0.2.0) (2.3.0)\n",
            "Requirement already satisfied: certifi>=2017.4.17 in /usr/local/lib/python3.10/dist-packages (from requests<3,>=2->langchain==0.2.0) (2024.12.14)\n",
            "Requirement already satisfied: greenlet!=0.4.17 in /usr/local/lib/python3.10/dist-packages (from SQLAlchemy<3,>=1.4->langchain==0.2.0) (3.1.1)\n",
            "Requirement already satisfied: anyio in /usr/local/lib/python3.10/dist-packages (from httpx<1,>=0.23.0->langsmith<0.2.0,>=0.1.17->langchain==0.2.0) (3.7.1)\n",
            "Requirement already satisfied: httpcore==1.* in /usr/local/lib/python3.10/dist-packages (from httpx<1,>=0.23.0->langsmith<0.2.0,>=0.1.17->langchain==0.2.0) (1.0.7)\n",
            "Requirement already satisfied: h11<0.15,>=0.13 in /usr/local/lib/python3.10/dist-packages (from httpcore==1.*->httpx<1,>=0.23.0->langsmith<0.2.0,>=0.1.17->langchain==0.2.0) (0.14.0)\n",
            "Requirement already satisfied: jsonpointer>=1.9 in /usr/local/lib/python3.10/dist-packages (from jsonpatch<2.0,>=1.33->langchain-core<0.3.0,>=0.2.0->langchain==0.2.0) (3.0.0)\n",
            "Collecting mypy-extensions>=0.3.0 (from typing-inspect<1,>=0.4.0->dataclasses-json<0.7,>=0.5.7->langchain==0.2.0)\n",
            "  Downloading mypy_extensions-1.0.0-py3-none-any.whl.metadata (1.1 kB)\n",
            "Requirement already satisfied: sniffio>=1.1 in /usr/local/lib/python3.10/dist-packages (from anyio->httpx<1,>=0.23.0->langsmith<0.2.0,>=0.1.17->langchain==0.2.0) (1.3.1)\n",
            "Requirement already satisfied: exceptiongroup in /usr/local/lib/python3.10/dist-packages (from anyio->httpx<1,>=0.23.0->langsmith<0.2.0,>=0.1.17->langchain==0.2.0) (1.2.2)\n",
            "Downloading langchain-0.2.0-py3-none-any.whl (973 kB)\n",
            "\u001b[2K   \u001b[90m━━━━━━━━━━━━━━━━━━━━━━━━━━━━━━━━━━━━━━━━\u001b[0m \u001b[32m973.7/973.7 kB\u001b[0m \u001b[31m9.9 MB/s\u001b[0m eta \u001b[36m0:00:00\u001b[0m\n",
            "\u001b[?25hDownloading dataclasses_json-0.6.7-py3-none-any.whl (28 kB)\n",
            "Downloading langchain_core-0.2.43-py3-none-any.whl (397 kB)\n",
            "\u001b[2K   \u001b[90m━━━━━━━━━━━━━━━━━━━━━━━━━━━━━━━━━━━━━━━━\u001b[0m \u001b[32m397.1/397.1 kB\u001b[0m \u001b[31m12.2 MB/s\u001b[0m eta \u001b[36m0:00:00\u001b[0m\n",
            "\u001b[?25hDownloading langchain_text_splitters-0.2.4-py3-none-any.whl (25 kB)\n",
            "Downloading langsmith-0.1.147-py3-none-any.whl (311 kB)\n",
            "\u001b[2K   \u001b[90m━━━━━━━━━━━━━━━━━━━━━━━━━━━━━━━━━━━━━━━━\u001b[0m \u001b[32m311.8/311.8 kB\u001b[0m \u001b[31m10.6 MB/s\u001b[0m eta \u001b[36m0:00:00\u001b[0m\n",
            "\u001b[?25hDownloading tenacity-8.5.0-py3-none-any.whl (28 kB)\n",
            "Downloading marshmallow-3.25.0-py3-none-any.whl (49 kB)\n",
            "\u001b[2K   \u001b[90m━━━━━━━━━━━━━━━━━━━━━━━━━━━━━━━━━━━━━━━━\u001b[0m \u001b[32m49.5/49.5 kB\u001b[0m \u001b[31m2.0 MB/s\u001b[0m eta \u001b[36m0:00:00\u001b[0m\n",
            "\u001b[?25hDownloading typing_inspect-0.9.0-py3-none-any.whl (8.8 kB)\n",
            "Downloading mypy_extensions-1.0.0-py3-none-any.whl (4.7 kB)\n",
            "Installing collected packages: tenacity, mypy-extensions, marshmallow, typing-inspect, langsmith, dataclasses-json, langchain-core, langchain-text-splitters, langchain\n",
            "  Attempting uninstall: tenacity\n",
            "    Found existing installation: tenacity 9.0.0\n",
            "    Uninstalling tenacity-9.0.0:\n",
            "      Successfully uninstalled tenacity-9.0.0\n",
            "  Attempting uninstall: langsmith\n",
            "    Found existing installation: langsmith 0.2.10\n",
            "    Uninstalling langsmith-0.2.10:\n",
            "      Successfully uninstalled langsmith-0.2.10\n",
            "  Attempting uninstall: langchain-core\n",
            "    Found existing installation: langchain-core 0.3.29\n",
            "    Uninstalling langchain-core-0.3.29:\n",
            "      Successfully uninstalled langchain-core-0.3.29\n",
            "  Attempting uninstall: langchain-text-splitters\n",
            "    Found existing installation: langchain-text-splitters 0.3.5\n",
            "    Uninstalling langchain-text-splitters-0.3.5:\n",
            "      Successfully uninstalled langchain-text-splitters-0.3.5\n",
            "  Attempting uninstall: langchain\n",
            "    Found existing installation: langchain 0.3.14\n",
            "    Uninstalling langchain-0.3.14:\n",
            "      Successfully uninstalled langchain-0.3.14\n",
            "Successfully installed dataclasses-json-0.6.7 langchain-0.2.0 langchain-core-0.2.43 langchain-text-splitters-0.2.4 langsmith-0.1.147 marshmallow-3.25.0 mypy-extensions-1.0.0 tenacity-8.5.0 typing-inspect-0.9.0\n",
            "Collecting langchain-openai==0.1.7\n",
            "  Downloading langchain_openai-0.1.7-py3-none-any.whl.metadata (2.5 kB)\n",
            "Requirement already satisfied: langchain-core<0.3,>=0.1.46 in /usr/local/lib/python3.10/dist-packages (from langchain-openai==0.1.7) (0.2.43)\n",
            "Requirement already satisfied: openai<2.0.0,>=1.24.0 in /usr/local/lib/python3.10/dist-packages (from langchain-openai==0.1.7) (1.59.4)\n",
            "Collecting tiktoken<1,>=0.7 (from langchain-openai==0.1.7)\n",
            "  Downloading tiktoken-0.8.0-cp310-cp310-manylinux_2_17_x86_64.manylinux2014_x86_64.whl.metadata (6.6 kB)\n",
            "Requirement already satisfied: PyYAML>=5.3 in /usr/local/lib/python3.10/dist-packages (from langchain-core<0.3,>=0.1.46->langchain-openai==0.1.7) (6.0.2)\n",
            "Requirement already satisfied: jsonpatch<2.0,>=1.33 in /usr/local/lib/python3.10/dist-packages (from langchain-core<0.3,>=0.1.46->langchain-openai==0.1.7) (1.33)\n",
            "Requirement already satisfied: langsmith<0.2.0,>=0.1.112 in /usr/local/lib/python3.10/dist-packages (from langchain-core<0.3,>=0.1.46->langchain-openai==0.1.7) (0.1.147)\n",
            "Requirement already satisfied: packaging<25,>=23.2 in /usr/local/lib/python3.10/dist-packages (from langchain-core<0.3,>=0.1.46->langchain-openai==0.1.7) (24.2)\n",
            "Requirement already satisfied: pydantic<3,>=1 in /usr/local/lib/python3.10/dist-packages (from langchain-core<0.3,>=0.1.46->langchain-openai==0.1.7) (2.10.4)\n",
            "Requirement already satisfied: tenacity!=8.4.0,<9.0.0,>=8.1.0 in /usr/local/lib/python3.10/dist-packages (from langchain-core<0.3,>=0.1.46->langchain-openai==0.1.7) (8.5.0)\n",
            "Requirement already satisfied: typing-extensions>=4.7 in /usr/local/lib/python3.10/dist-packages (from langchain-core<0.3,>=0.1.46->langchain-openai==0.1.7) (4.12.2)\n",
            "Requirement already satisfied: anyio<5,>=3.5.0 in /usr/local/lib/python3.10/dist-packages (from openai<2.0.0,>=1.24.0->langchain-openai==0.1.7) (3.7.1)\n",
            "Requirement already satisfied: distro<2,>=1.7.0 in /usr/local/lib/python3.10/dist-packages (from openai<2.0.0,>=1.24.0->langchain-openai==0.1.7) (1.9.0)\n",
            "Requirement already satisfied: httpx<1,>=0.23.0 in /usr/local/lib/python3.10/dist-packages (from openai<2.0.0,>=1.24.0->langchain-openai==0.1.7) (0.28.1)\n",
            "Requirement already satisfied: jiter<1,>=0.4.0 in /usr/local/lib/python3.10/dist-packages (from openai<2.0.0,>=1.24.0->langchain-openai==0.1.7) (0.8.2)\n",
            "Requirement already satisfied: sniffio in /usr/local/lib/python3.10/dist-packages (from openai<2.0.0,>=1.24.0->langchain-openai==0.1.7) (1.3.1)\n",
            "Requirement already satisfied: tqdm>4 in /usr/local/lib/python3.10/dist-packages (from openai<2.0.0,>=1.24.0->langchain-openai==0.1.7) (4.67.1)\n",
            "Requirement already satisfied: regex>=2022.1.18 in /usr/local/lib/python3.10/dist-packages (from tiktoken<1,>=0.7->langchain-openai==0.1.7) (2024.11.6)\n",
            "Requirement already satisfied: requests>=2.26.0 in /usr/local/lib/python3.10/dist-packages (from tiktoken<1,>=0.7->langchain-openai==0.1.7) (2.32.3)\n",
            "Requirement already satisfied: idna>=2.8 in /usr/local/lib/python3.10/dist-packages (from anyio<5,>=3.5.0->openai<2.0.0,>=1.24.0->langchain-openai==0.1.7) (3.10)\n",
            "Requirement already satisfied: exceptiongroup in /usr/local/lib/python3.10/dist-packages (from anyio<5,>=3.5.0->openai<2.0.0,>=1.24.0->langchain-openai==0.1.7) (1.2.2)\n",
            "Requirement already satisfied: certifi in /usr/local/lib/python3.10/dist-packages (from httpx<1,>=0.23.0->openai<2.0.0,>=1.24.0->langchain-openai==0.1.7) (2024.12.14)\n",
            "Requirement already satisfied: httpcore==1.* in /usr/local/lib/python3.10/dist-packages (from httpx<1,>=0.23.0->openai<2.0.0,>=1.24.0->langchain-openai==0.1.7) (1.0.7)\n",
            "Requirement already satisfied: h11<0.15,>=0.13 in /usr/local/lib/python3.10/dist-packages (from httpcore==1.*->httpx<1,>=0.23.0->openai<2.0.0,>=1.24.0->langchain-openai==0.1.7) (0.14.0)\n",
            "Requirement already satisfied: jsonpointer>=1.9 in /usr/local/lib/python3.10/dist-packages (from jsonpatch<2.0,>=1.33->langchain-core<0.3,>=0.1.46->langchain-openai==0.1.7) (3.0.0)\n",
            "Requirement already satisfied: orjson<4.0.0,>=3.9.14 in /usr/local/lib/python3.10/dist-packages (from langsmith<0.2.0,>=0.1.112->langchain-core<0.3,>=0.1.46->langchain-openai==0.1.7) (3.10.13)\n",
            "Requirement already satisfied: requests-toolbelt<2.0.0,>=1.0.0 in /usr/local/lib/python3.10/dist-packages (from langsmith<0.2.0,>=0.1.112->langchain-core<0.3,>=0.1.46->langchain-openai==0.1.7) (1.0.0)\n",
            "Requirement already satisfied: annotated-types>=0.6.0 in /usr/local/lib/python3.10/dist-packages (from pydantic<3,>=1->langchain-core<0.3,>=0.1.46->langchain-openai==0.1.7) (0.7.0)\n",
            "Requirement already satisfied: pydantic-core==2.27.2 in /usr/local/lib/python3.10/dist-packages (from pydantic<3,>=1->langchain-core<0.3,>=0.1.46->langchain-openai==0.1.7) (2.27.2)\n",
            "Requirement already satisfied: charset-normalizer<4,>=2 in /usr/local/lib/python3.10/dist-packages (from requests>=2.26.0->tiktoken<1,>=0.7->langchain-openai==0.1.7) (3.4.1)\n",
            "Requirement already satisfied: urllib3<3,>=1.21.1 in /usr/local/lib/python3.10/dist-packages (from requests>=2.26.0->tiktoken<1,>=0.7->langchain-openai==0.1.7) (2.3.0)\n",
            "Downloading langchain_openai-0.1.7-py3-none-any.whl (34 kB)\n",
            "Downloading tiktoken-0.8.0-cp310-cp310-manylinux_2_17_x86_64.manylinux2014_x86_64.whl (1.2 MB)\n",
            "\u001b[2K   \u001b[90m━━━━━━━━━━━━━━━━━━━━━━━━━━━━━━━━━━━━━━━━\u001b[0m \u001b[32m1.2/1.2 MB\u001b[0m \u001b[31m16.1 MB/s\u001b[0m eta \u001b[36m0:00:00\u001b[0m\n",
            "\u001b[?25hInstalling collected packages: tiktoken, langchain-openai\n",
            "Successfully installed langchain-openai-0.1.7 tiktoken-0.8.0\n",
            "Collecting langchain-community==0.2.0\n",
            "  Downloading langchain_community-0.2.0-py3-none-any.whl.metadata (8.8 kB)\n",
            "Requirement already satisfied: PyYAML>=5.3 in /usr/local/lib/python3.10/dist-packages (from langchain-community==0.2.0) (6.0.2)\n",
            "Requirement already satisfied: SQLAlchemy<3,>=1.4 in /usr/local/lib/python3.10/dist-packages (from langchain-community==0.2.0) (2.0.36)\n",
            "Requirement already satisfied: aiohttp<4.0.0,>=3.8.3 in /usr/local/lib/python3.10/dist-packages (from langchain-community==0.2.0) (3.11.11)\n",
            "Requirement already satisfied: dataclasses-json<0.7,>=0.5.7 in /usr/local/lib/python3.10/dist-packages (from langchain-community==0.2.0) (0.6.7)\n",
            "Requirement already satisfied: langchain<0.3.0,>=0.2.0 in /usr/local/lib/python3.10/dist-packages (from langchain-community==0.2.0) (0.2.0)\n",
            "Requirement already satisfied: langchain-core<0.3.0,>=0.2.0 in /usr/local/lib/python3.10/dist-packages (from langchain-community==0.2.0) (0.2.43)\n",
            "Requirement already satisfied: langsmith<0.2.0,>=0.1.0 in /usr/local/lib/python3.10/dist-packages (from langchain-community==0.2.0) (0.1.147)\n",
            "Requirement already satisfied: numpy<2,>=1 in /usr/local/lib/python3.10/dist-packages (from langchain-community==0.2.0) (1.26.4)\n",
            "Requirement already satisfied: requests<3,>=2 in /usr/local/lib/python3.10/dist-packages (from langchain-community==0.2.0) (2.32.3)\n",
            "Requirement already satisfied: tenacity<9.0.0,>=8.1.0 in /usr/local/lib/python3.10/dist-packages (from langchain-community==0.2.0) (8.5.0)\n",
            "Requirement already satisfied: aiohappyeyeballs>=2.3.0 in /usr/local/lib/python3.10/dist-packages (from aiohttp<4.0.0,>=3.8.3->langchain-community==0.2.0) (2.4.4)\n",
            "Requirement already satisfied: aiosignal>=1.1.2 in /usr/local/lib/python3.10/dist-packages (from aiohttp<4.0.0,>=3.8.3->langchain-community==0.2.0) (1.3.2)\n",
            "Requirement already satisfied: async-timeout<6.0,>=4.0 in /usr/local/lib/python3.10/dist-packages (from aiohttp<4.0.0,>=3.8.3->langchain-community==0.2.0) (4.0.3)\n",
            "Requirement already satisfied: attrs>=17.3.0 in /usr/local/lib/python3.10/dist-packages (from aiohttp<4.0.0,>=3.8.3->langchain-community==0.2.0) (24.3.0)\n",
            "Requirement already satisfied: frozenlist>=1.1.1 in /usr/local/lib/python3.10/dist-packages (from aiohttp<4.0.0,>=3.8.3->langchain-community==0.2.0) (1.5.0)\n",
            "Requirement already satisfied: multidict<7.0,>=4.5 in /usr/local/lib/python3.10/dist-packages (from aiohttp<4.0.0,>=3.8.3->langchain-community==0.2.0) (6.1.0)\n",
            "Requirement already satisfied: propcache>=0.2.0 in /usr/local/lib/python3.10/dist-packages (from aiohttp<4.0.0,>=3.8.3->langchain-community==0.2.0) (0.2.1)\n",
            "Requirement already satisfied: yarl<2.0,>=1.17.0 in /usr/local/lib/python3.10/dist-packages (from aiohttp<4.0.0,>=3.8.3->langchain-community==0.2.0) (1.18.3)\n",
            "Requirement already satisfied: marshmallow<4.0.0,>=3.18.0 in /usr/local/lib/python3.10/dist-packages (from dataclasses-json<0.7,>=0.5.7->langchain-community==0.2.0) (3.25.0)\n",
            "Requirement already satisfied: typing-inspect<1,>=0.4.0 in /usr/local/lib/python3.10/dist-packages (from dataclasses-json<0.7,>=0.5.7->langchain-community==0.2.0) (0.9.0)\n",
            "Requirement already satisfied: langchain-text-splitters<0.3.0,>=0.2.0 in /usr/local/lib/python3.10/dist-packages (from langchain<0.3.0,>=0.2.0->langchain-community==0.2.0) (0.2.4)\n",
            "Requirement already satisfied: pydantic<3,>=1 in /usr/local/lib/python3.10/dist-packages (from langchain<0.3.0,>=0.2.0->langchain-community==0.2.0) (2.10.4)\n",
            "Requirement already satisfied: jsonpatch<2.0,>=1.33 in /usr/local/lib/python3.10/dist-packages (from langchain-core<0.3.0,>=0.2.0->langchain-community==0.2.0) (1.33)\n",
            "Requirement already satisfied: packaging<25,>=23.2 in /usr/local/lib/python3.10/dist-packages (from langchain-core<0.3.0,>=0.2.0->langchain-community==0.2.0) (24.2)\n",
            "Requirement already satisfied: typing-extensions>=4.7 in /usr/local/lib/python3.10/dist-packages (from langchain-core<0.3.0,>=0.2.0->langchain-community==0.2.0) (4.12.2)\n",
            "Requirement already satisfied: httpx<1,>=0.23.0 in /usr/local/lib/python3.10/dist-packages (from langsmith<0.2.0,>=0.1.0->langchain-community==0.2.0) (0.28.1)\n",
            "Requirement already satisfied: orjson<4.0.0,>=3.9.14 in /usr/local/lib/python3.10/dist-packages (from langsmith<0.2.0,>=0.1.0->langchain-community==0.2.0) (3.10.13)\n",
            "Requirement already satisfied: requests-toolbelt<2.0.0,>=1.0.0 in /usr/local/lib/python3.10/dist-packages (from langsmith<0.2.0,>=0.1.0->langchain-community==0.2.0) (1.0.0)\n",
            "Requirement already satisfied: charset-normalizer<4,>=2 in /usr/local/lib/python3.10/dist-packages (from requests<3,>=2->langchain-community==0.2.0) (3.4.1)\n",
            "Requirement already satisfied: idna<4,>=2.5 in /usr/local/lib/python3.10/dist-packages (from requests<3,>=2->langchain-community==0.2.0) (3.10)\n",
            "Requirement already satisfied: urllib3<3,>=1.21.1 in /usr/local/lib/python3.10/dist-packages (from requests<3,>=2->langchain-community==0.2.0) (2.3.0)\n",
            "Requirement already satisfied: certifi>=2017.4.17 in /usr/local/lib/python3.10/dist-packages (from requests<3,>=2->langchain-community==0.2.0) (2024.12.14)\n",
            "Requirement already satisfied: greenlet!=0.4.17 in /usr/local/lib/python3.10/dist-packages (from SQLAlchemy<3,>=1.4->langchain-community==0.2.0) (3.1.1)\n",
            "Requirement already satisfied: anyio in /usr/local/lib/python3.10/dist-packages (from httpx<1,>=0.23.0->langsmith<0.2.0,>=0.1.0->langchain-community==0.2.0) (3.7.1)\n",
            "Requirement already satisfied: httpcore==1.* in /usr/local/lib/python3.10/dist-packages (from httpx<1,>=0.23.0->langsmith<0.2.0,>=0.1.0->langchain-community==0.2.0) (1.0.7)\n",
            "Requirement already satisfied: h11<0.15,>=0.13 in /usr/local/lib/python3.10/dist-packages (from httpcore==1.*->httpx<1,>=0.23.0->langsmith<0.2.0,>=0.1.0->langchain-community==0.2.0) (0.14.0)\n",
            "Requirement already satisfied: jsonpointer>=1.9 in /usr/local/lib/python3.10/dist-packages (from jsonpatch<2.0,>=1.33->langchain-core<0.3.0,>=0.2.0->langchain-community==0.2.0) (3.0.0)\n",
            "Requirement already satisfied: annotated-types>=0.6.0 in /usr/local/lib/python3.10/dist-packages (from pydantic<3,>=1->langchain<0.3.0,>=0.2.0->langchain-community==0.2.0) (0.7.0)\n",
            "Requirement already satisfied: pydantic-core==2.27.2 in /usr/local/lib/python3.10/dist-packages (from pydantic<3,>=1->langchain<0.3.0,>=0.2.0->langchain-community==0.2.0) (2.27.2)\n",
            "Requirement already satisfied: mypy-extensions>=0.3.0 in /usr/local/lib/python3.10/dist-packages (from typing-inspect<1,>=0.4.0->dataclasses-json<0.7,>=0.5.7->langchain-community==0.2.0) (1.0.0)\n",
            "Requirement already satisfied: sniffio>=1.1 in /usr/local/lib/python3.10/dist-packages (from anyio->httpx<1,>=0.23.0->langsmith<0.2.0,>=0.1.0->langchain-community==0.2.0) (1.3.1)\n",
            "Requirement already satisfied: exceptiongroup in /usr/local/lib/python3.10/dist-packages (from anyio->httpx<1,>=0.23.0->langsmith<0.2.0,>=0.1.0->langchain-community==0.2.0) (1.2.2)\n",
            "Downloading langchain_community-0.2.0-py3-none-any.whl (2.1 MB)\n",
            "\u001b[2K   \u001b[90m━━━━━━━━━━━━━━━━━━━━━━━━━━━━━━━━━━━━━━━━\u001b[0m \u001b[32m2.1/2.1 MB\u001b[0m \u001b[31m19.2 MB/s\u001b[0m eta \u001b[36m0:00:00\u001b[0m\n",
            "\u001b[?25hInstalling collected packages: langchain-community\n",
            "Successfully installed langchain-community-0.2.0\n",
            "Collecting langchain-huggingface==0.0.1\n",
            "  Downloading langchain_huggingface-0.0.1-py3-none-any.whl.metadata (1.2 kB)\n",
            "Requirement already satisfied: huggingface-hub>=0.23.0 in /usr/local/lib/python3.10/dist-packages (from langchain-huggingface==0.0.1) (0.27.1)\n",
            "Requirement already satisfied: langchain-core<0.3,>=0.1.52 in /usr/local/lib/python3.10/dist-packages (from langchain-huggingface==0.0.1) (0.2.43)\n",
            "Requirement already satisfied: sentence-transformers>=2.6.0 in /usr/local/lib/python3.10/dist-packages (from langchain-huggingface==0.0.1) (3.3.1)\n",
            "Collecting text-generation<0.8.0,>=0.7.0 (from langchain-huggingface==0.0.1)\n",
            "  Downloading text_generation-0.7.0-py3-none-any.whl.metadata (8.5 kB)\n",
            "Requirement already satisfied: tokenizers>=0.19.1 in /usr/local/lib/python3.10/dist-packages (from langchain-huggingface==0.0.1) (0.21.0)\n",
            "Requirement already satisfied: transformers>=4.39.0 in /usr/local/lib/python3.10/dist-packages (from langchain-huggingface==0.0.1) (4.47.1)\n",
            "Requirement already satisfied: filelock in /usr/local/lib/python3.10/dist-packages (from huggingface-hub>=0.23.0->langchain-huggingface==0.0.1) (3.16.1)\n",
            "Requirement already satisfied: fsspec>=2023.5.0 in /usr/local/lib/python3.10/dist-packages (from huggingface-hub>=0.23.0->langchain-huggingface==0.0.1) (2024.10.0)\n",
            "Requirement already satisfied: packaging>=20.9 in /usr/local/lib/python3.10/dist-packages (from huggingface-hub>=0.23.0->langchain-huggingface==0.0.1) (24.2)\n",
            "Requirement already satisfied: pyyaml>=5.1 in /usr/local/lib/python3.10/dist-packages (from huggingface-hub>=0.23.0->langchain-huggingface==0.0.1) (6.0.2)\n",
            "Requirement already satisfied: requests in /usr/local/lib/python3.10/dist-packages (from huggingface-hub>=0.23.0->langchain-huggingface==0.0.1) (2.32.3)\n",
            "Requirement already satisfied: tqdm>=4.42.1 in /usr/local/lib/python3.10/dist-packages (from huggingface-hub>=0.23.0->langchain-huggingface==0.0.1) (4.67.1)\n",
            "Requirement already satisfied: typing-extensions>=3.7.4.3 in /usr/local/lib/python3.10/dist-packages (from huggingface-hub>=0.23.0->langchain-huggingface==0.0.1) (4.12.2)\n",
            "Requirement already satisfied: jsonpatch<2.0,>=1.33 in /usr/local/lib/python3.10/dist-packages (from langchain-core<0.3,>=0.1.52->langchain-huggingface==0.0.1) (1.33)\n",
            "Requirement already satisfied: langsmith<0.2.0,>=0.1.112 in /usr/local/lib/python3.10/dist-packages (from langchain-core<0.3,>=0.1.52->langchain-huggingface==0.0.1) (0.1.147)\n",
            "Requirement already satisfied: pydantic<3,>=1 in /usr/local/lib/python3.10/dist-packages (from langchain-core<0.3,>=0.1.52->langchain-huggingface==0.0.1) (2.10.4)\n",
            "Requirement already satisfied: tenacity!=8.4.0,<9.0.0,>=8.1.0 in /usr/local/lib/python3.10/dist-packages (from langchain-core<0.3,>=0.1.52->langchain-huggingface==0.0.1) (8.5.0)\n",
            "Requirement already satisfied: torch>=1.11.0 in /usr/local/lib/python3.10/dist-packages (from sentence-transformers>=2.6.0->langchain-huggingface==0.0.1) (2.5.1+cu121)\n",
            "Requirement already satisfied: scikit-learn in /usr/local/lib/python3.10/dist-packages (from sentence-transformers>=2.6.0->langchain-huggingface==0.0.1) (1.6.0)\n",
            "Requirement already satisfied: scipy in /usr/local/lib/python3.10/dist-packages (from sentence-transformers>=2.6.0->langchain-huggingface==0.0.1) (1.13.1)\n",
            "Requirement already satisfied: Pillow in /usr/local/lib/python3.10/dist-packages (from sentence-transformers>=2.6.0->langchain-huggingface==0.0.1) (11.1.0)\n",
            "Requirement already satisfied: aiohttp<4.0,>=3.8 in /usr/local/lib/python3.10/dist-packages (from text-generation<0.8.0,>=0.7.0->langchain-huggingface==0.0.1) (3.11.11)\n",
            "Requirement already satisfied: numpy>=1.17 in /usr/local/lib/python3.10/dist-packages (from transformers>=4.39.0->langchain-huggingface==0.0.1) (1.26.4)\n",
            "Requirement already satisfied: regex!=2019.12.17 in /usr/local/lib/python3.10/dist-packages (from transformers>=4.39.0->langchain-huggingface==0.0.1) (2024.11.6)\n",
            "Requirement already satisfied: safetensors>=0.4.1 in /usr/local/lib/python3.10/dist-packages (from transformers>=4.39.0->langchain-huggingface==0.0.1) (0.5.1)\n",
            "Requirement already satisfied: aiohappyeyeballs>=2.3.0 in /usr/local/lib/python3.10/dist-packages (from aiohttp<4.0,>=3.8->text-generation<0.8.0,>=0.7.0->langchain-huggingface==0.0.1) (2.4.4)\n",
            "Requirement already satisfied: aiosignal>=1.1.2 in /usr/local/lib/python3.10/dist-packages (from aiohttp<4.0,>=3.8->text-generation<0.8.0,>=0.7.0->langchain-huggingface==0.0.1) (1.3.2)\n",
            "Requirement already satisfied: async-timeout<6.0,>=4.0 in /usr/local/lib/python3.10/dist-packages (from aiohttp<4.0,>=3.8->text-generation<0.8.0,>=0.7.0->langchain-huggingface==0.0.1) (4.0.3)\n",
            "Requirement already satisfied: attrs>=17.3.0 in /usr/local/lib/python3.10/dist-packages (from aiohttp<4.0,>=3.8->text-generation<0.8.0,>=0.7.0->langchain-huggingface==0.0.1) (24.3.0)\n",
            "Requirement already satisfied: frozenlist>=1.1.1 in /usr/local/lib/python3.10/dist-packages (from aiohttp<4.0,>=3.8->text-generation<0.8.0,>=0.7.0->langchain-huggingface==0.0.1) (1.5.0)\n",
            "Requirement already satisfied: multidict<7.0,>=4.5 in /usr/local/lib/python3.10/dist-packages (from aiohttp<4.0,>=3.8->text-generation<0.8.0,>=0.7.0->langchain-huggingface==0.0.1) (6.1.0)\n",
            "Requirement already satisfied: propcache>=0.2.0 in /usr/local/lib/python3.10/dist-packages (from aiohttp<4.0,>=3.8->text-generation<0.8.0,>=0.7.0->langchain-huggingface==0.0.1) (0.2.1)\n",
            "Requirement already satisfied: yarl<2.0,>=1.17.0 in /usr/local/lib/python3.10/dist-packages (from aiohttp<4.0,>=3.8->text-generation<0.8.0,>=0.7.0->langchain-huggingface==0.0.1) (1.18.3)\n",
            "Requirement already satisfied: jsonpointer>=1.9 in /usr/local/lib/python3.10/dist-packages (from jsonpatch<2.0,>=1.33->langchain-core<0.3,>=0.1.52->langchain-huggingface==0.0.1) (3.0.0)\n",
            "Requirement already satisfied: httpx<1,>=0.23.0 in /usr/local/lib/python3.10/dist-packages (from langsmith<0.2.0,>=0.1.112->langchain-core<0.3,>=0.1.52->langchain-huggingface==0.0.1) (0.28.1)\n",
            "Requirement already satisfied: orjson<4.0.0,>=3.9.14 in /usr/local/lib/python3.10/dist-packages (from langsmith<0.2.0,>=0.1.112->langchain-core<0.3,>=0.1.52->langchain-huggingface==0.0.1) (3.10.13)\n",
            "Requirement already satisfied: requests-toolbelt<2.0.0,>=1.0.0 in /usr/local/lib/python3.10/dist-packages (from langsmith<0.2.0,>=0.1.112->langchain-core<0.3,>=0.1.52->langchain-huggingface==0.0.1) (1.0.0)\n",
            "Requirement already satisfied: annotated-types>=0.6.0 in /usr/local/lib/python3.10/dist-packages (from pydantic<3,>=1->langchain-core<0.3,>=0.1.52->langchain-huggingface==0.0.1) (0.7.0)\n",
            "Requirement already satisfied: pydantic-core==2.27.2 in /usr/local/lib/python3.10/dist-packages (from pydantic<3,>=1->langchain-core<0.3,>=0.1.52->langchain-huggingface==0.0.1) (2.27.2)\n",
            "Requirement already satisfied: charset-normalizer<4,>=2 in /usr/local/lib/python3.10/dist-packages (from requests->huggingface-hub>=0.23.0->langchain-huggingface==0.0.1) (3.4.1)\n",
            "Requirement already satisfied: idna<4,>=2.5 in /usr/local/lib/python3.10/dist-packages (from requests->huggingface-hub>=0.23.0->langchain-huggingface==0.0.1) (3.10)\n",
            "Requirement already satisfied: urllib3<3,>=1.21.1 in /usr/local/lib/python3.10/dist-packages (from requests->huggingface-hub>=0.23.0->langchain-huggingface==0.0.1) (2.3.0)\n",
            "Requirement already satisfied: certifi>=2017.4.17 in /usr/local/lib/python3.10/dist-packages (from requests->huggingface-hub>=0.23.0->langchain-huggingface==0.0.1) (2024.12.14)\n",
            "Requirement already satisfied: networkx in /usr/local/lib/python3.10/dist-packages (from torch>=1.11.0->sentence-transformers>=2.6.0->langchain-huggingface==0.0.1) (3.4.2)\n",
            "Requirement already satisfied: jinja2 in /usr/local/lib/python3.10/dist-packages (from torch>=1.11.0->sentence-transformers>=2.6.0->langchain-huggingface==0.0.1) (3.1.5)\n",
            "Requirement already satisfied: sympy==1.13.1 in /usr/local/lib/python3.10/dist-packages (from torch>=1.11.0->sentence-transformers>=2.6.0->langchain-huggingface==0.0.1) (1.13.1)\n",
            "Requirement already satisfied: mpmath<1.4,>=1.1.0 in /usr/local/lib/python3.10/dist-packages (from sympy==1.13.1->torch>=1.11.0->sentence-transformers>=2.6.0->langchain-huggingface==0.0.1) (1.3.0)\n",
            "Requirement already satisfied: joblib>=1.2.0 in /usr/local/lib/python3.10/dist-packages (from scikit-learn->sentence-transformers>=2.6.0->langchain-huggingface==0.0.1) (1.4.2)\n",
            "Requirement already satisfied: threadpoolctl>=3.1.0 in /usr/local/lib/python3.10/dist-packages (from scikit-learn->sentence-transformers>=2.6.0->langchain-huggingface==0.0.1) (3.5.0)\n",
            "Requirement already satisfied: anyio in /usr/local/lib/python3.10/dist-packages (from httpx<1,>=0.23.0->langsmith<0.2.0,>=0.1.112->langchain-core<0.3,>=0.1.52->langchain-huggingface==0.0.1) (3.7.1)\n",
            "Requirement already satisfied: httpcore==1.* in /usr/local/lib/python3.10/dist-packages (from httpx<1,>=0.23.0->langsmith<0.2.0,>=0.1.112->langchain-core<0.3,>=0.1.52->langchain-huggingface==0.0.1) (1.0.7)\n",
            "Requirement already satisfied: h11<0.15,>=0.13 in /usr/local/lib/python3.10/dist-packages (from httpcore==1.*->httpx<1,>=0.23.0->langsmith<0.2.0,>=0.1.112->langchain-core<0.3,>=0.1.52->langchain-huggingface==0.0.1) (0.14.0)\n",
            "Requirement already satisfied: MarkupSafe>=2.0 in /usr/local/lib/python3.10/dist-packages (from jinja2->torch>=1.11.0->sentence-transformers>=2.6.0->langchain-huggingface==0.0.1) (3.0.2)\n",
            "Requirement already satisfied: sniffio>=1.1 in /usr/local/lib/python3.10/dist-packages (from anyio->httpx<1,>=0.23.0->langsmith<0.2.0,>=0.1.112->langchain-core<0.3,>=0.1.52->langchain-huggingface==0.0.1) (1.3.1)\n",
            "Requirement already satisfied: exceptiongroup in /usr/local/lib/python3.10/dist-packages (from anyio->httpx<1,>=0.23.0->langsmith<0.2.0,>=0.1.112->langchain-core<0.3,>=0.1.52->langchain-huggingface==0.0.1) (1.2.2)\n",
            "Downloading langchain_huggingface-0.0.1-py3-none-any.whl (17 kB)\n",
            "Downloading text_generation-0.7.0-py3-none-any.whl (12 kB)\n",
            "Installing collected packages: text-generation, langchain-huggingface\n",
            "Successfully installed langchain-huggingface-0.0.1 text-generation-0.7.0\n"
          ]
        }
      ],
      "source": [
        "!pip install langchain==0.2.0\n",
        "!pip install langchain-openai==0.1.7\n",
        "!pip install langchain-community==0.2.0\n",
        "!pip install langchain-huggingface==0.0.1"
      ]
    },
    {
      "cell_type": "markdown",
      "source": [
        "**Install Chroma Vectore DataBase and Langchain Wrapper**"
      ],
      "metadata": {
        "id": "ke7DoMcMRLY7"
      }
    },
    {
      "cell_type": "code",
      "source": [
        "!pip install langchain-chroma"
      ],
      "metadata": {
        "colab": {
          "base_uri": "https://localhost:8080/"
        },
        "id": "C7DU-lC_RCuk",
        "outputId": "409fa850-6c96-4833-a741-dcd7c0befe26"
      },
      "execution_count": 2,
      "outputs": [
        {
          "output_type": "stream",
          "name": "stdout",
          "text": [
            "Collecting langchain-chroma\n",
            "  Downloading langchain_chroma-0.2.0-py3-none-any.whl.metadata (1.7 kB)\n",
            "Collecting chromadb!=0.5.10,!=0.5.11,!=0.5.12,!=0.5.4,!=0.5.5,!=0.5.7,!=0.5.9,<0.6.0,>=0.4.0 (from langchain-chroma)\n",
            "  Downloading chromadb-0.5.23-py3-none-any.whl.metadata (6.8 kB)\n",
            "Collecting fastapi<1,>=0.95.2 (from langchain-chroma)\n",
            "  Downloading fastapi-0.115.6-py3-none-any.whl.metadata (27 kB)\n",
            "Requirement already satisfied: langchain-core!=0.3.0,!=0.3.1,!=0.3.10,!=0.3.11,!=0.3.12,!=0.3.13,!=0.3.14,!=0.3.2,!=0.3.3,!=0.3.4,!=0.3.5,!=0.3.6,!=0.3.7,!=0.3.8,!=0.3.9,<0.4.0,>=0.2.43 in /usr/local/lib/python3.10/dist-packages (from langchain-chroma) (0.2.43)\n",
            "Requirement already satisfied: numpy<2.0.0,>=1.22.4 in /usr/local/lib/python3.10/dist-packages (from langchain-chroma) (1.26.4)\n",
            "Collecting build>=1.0.3 (from chromadb!=0.5.10,!=0.5.11,!=0.5.12,!=0.5.4,!=0.5.5,!=0.5.7,!=0.5.9,<0.6.0,>=0.4.0->langchain-chroma)\n",
            "  Downloading build-1.2.2.post1-py3-none-any.whl.metadata (6.5 kB)\n",
            "Requirement already satisfied: pydantic>=1.9 in /usr/local/lib/python3.10/dist-packages (from chromadb!=0.5.10,!=0.5.11,!=0.5.12,!=0.5.4,!=0.5.5,!=0.5.7,!=0.5.9,<0.6.0,>=0.4.0->langchain-chroma) (2.10.4)\n",
            "Collecting chroma-hnswlib==0.7.6 (from chromadb!=0.5.10,!=0.5.11,!=0.5.12,!=0.5.4,!=0.5.5,!=0.5.7,!=0.5.9,<0.6.0,>=0.4.0->langchain-chroma)\n",
            "  Downloading chroma_hnswlib-0.7.6-cp310-cp310-manylinux_2_17_x86_64.manylinux2014_x86_64.whl.metadata (252 bytes)\n",
            "Collecting uvicorn>=0.18.3 (from uvicorn[standard]>=0.18.3->chromadb!=0.5.10,!=0.5.11,!=0.5.12,!=0.5.4,!=0.5.5,!=0.5.7,!=0.5.9,<0.6.0,>=0.4.0->langchain-chroma)\n",
            "  Downloading uvicorn-0.34.0-py3-none-any.whl.metadata (6.5 kB)\n",
            "Collecting posthog>=2.4.0 (from chromadb!=0.5.10,!=0.5.11,!=0.5.12,!=0.5.4,!=0.5.5,!=0.5.7,!=0.5.9,<0.6.0,>=0.4.0->langchain-chroma)\n",
            "  Downloading posthog-3.7.5-py2.py3-none-any.whl.metadata (2.0 kB)\n",
            "Requirement already satisfied: typing_extensions>=4.5.0 in /usr/local/lib/python3.10/dist-packages (from chromadb!=0.5.10,!=0.5.11,!=0.5.12,!=0.5.4,!=0.5.5,!=0.5.7,!=0.5.9,<0.6.0,>=0.4.0->langchain-chroma) (4.12.2)\n",
            "Collecting onnxruntime>=1.14.1 (from chromadb!=0.5.10,!=0.5.11,!=0.5.12,!=0.5.4,!=0.5.5,!=0.5.7,!=0.5.9,<0.6.0,>=0.4.0->langchain-chroma)\n",
            "  Downloading onnxruntime-1.20.1-cp310-cp310-manylinux_2_27_x86_64.manylinux_2_28_x86_64.whl.metadata (4.5 kB)\n",
            "Requirement already satisfied: opentelemetry-api>=1.2.0 in /usr/local/lib/python3.10/dist-packages (from chromadb!=0.5.10,!=0.5.11,!=0.5.12,!=0.5.4,!=0.5.5,!=0.5.7,!=0.5.9,<0.6.0,>=0.4.0->langchain-chroma) (1.29.0)\n",
            "Collecting opentelemetry-exporter-otlp-proto-grpc>=1.2.0 (from chromadb!=0.5.10,!=0.5.11,!=0.5.12,!=0.5.4,!=0.5.5,!=0.5.7,!=0.5.9,<0.6.0,>=0.4.0->langchain-chroma)\n",
            "  Downloading opentelemetry_exporter_otlp_proto_grpc-1.29.0-py3-none-any.whl.metadata (2.2 kB)\n",
            "Collecting opentelemetry-instrumentation-fastapi>=0.41b0 (from chromadb!=0.5.10,!=0.5.11,!=0.5.12,!=0.5.4,!=0.5.5,!=0.5.7,!=0.5.9,<0.6.0,>=0.4.0->langchain-chroma)\n",
            "  Downloading opentelemetry_instrumentation_fastapi-0.50b0-py3-none-any.whl.metadata (2.1 kB)\n",
            "Requirement already satisfied: opentelemetry-sdk>=1.2.0 in /usr/local/lib/python3.10/dist-packages (from chromadb!=0.5.10,!=0.5.11,!=0.5.12,!=0.5.4,!=0.5.5,!=0.5.7,!=0.5.9,<0.6.0,>=0.4.0->langchain-chroma) (1.29.0)\n",
            "Collecting tokenizers<=0.20.3,>=0.13.2 (from chromadb!=0.5.10,!=0.5.11,!=0.5.12,!=0.5.4,!=0.5.5,!=0.5.7,!=0.5.9,<0.6.0,>=0.4.0->langchain-chroma)\n",
            "  Downloading tokenizers-0.20.3-cp310-cp310-manylinux_2_17_x86_64.manylinux2014_x86_64.whl.metadata (6.7 kB)\n",
            "Collecting pypika>=0.48.9 (from chromadb!=0.5.10,!=0.5.11,!=0.5.12,!=0.5.4,!=0.5.5,!=0.5.7,!=0.5.9,<0.6.0,>=0.4.0->langchain-chroma)\n",
            "  Downloading PyPika-0.48.9.tar.gz (67 kB)\n",
            "\u001b[2K     \u001b[90m━━━━━━━━━━━━━━━━━━━━━━━━━━━━━━━━━━━━━━━━\u001b[0m \u001b[32m67.3/67.3 kB\u001b[0m \u001b[31m3.5 MB/s\u001b[0m eta \u001b[36m0:00:00\u001b[0m\n",
            "\u001b[?25h  Installing build dependencies ... \u001b[?25l\u001b[?25hdone\n",
            "  Getting requirements to build wheel ... \u001b[?25l\u001b[?25hdone\n",
            "  Preparing metadata (pyproject.toml) ... \u001b[?25l\u001b[?25hdone\n",
            "Requirement already satisfied: tqdm>=4.65.0 in /usr/local/lib/python3.10/dist-packages (from chromadb!=0.5.10,!=0.5.11,!=0.5.12,!=0.5.4,!=0.5.5,!=0.5.7,!=0.5.9,<0.6.0,>=0.4.0->langchain-chroma) (4.67.1)\n",
            "Collecting overrides>=7.3.1 (from chromadb!=0.5.10,!=0.5.11,!=0.5.12,!=0.5.4,!=0.5.5,!=0.5.7,!=0.5.9,<0.6.0,>=0.4.0->langchain-chroma)\n",
            "  Downloading overrides-7.7.0-py3-none-any.whl.metadata (5.8 kB)\n",
            "Requirement already satisfied: importlib-resources in /usr/local/lib/python3.10/dist-packages (from chromadb!=0.5.10,!=0.5.11,!=0.5.12,!=0.5.4,!=0.5.5,!=0.5.7,!=0.5.9,<0.6.0,>=0.4.0->langchain-chroma) (6.5.2)\n",
            "Requirement already satisfied: grpcio>=1.58.0 in /usr/local/lib/python3.10/dist-packages (from chromadb!=0.5.10,!=0.5.11,!=0.5.12,!=0.5.4,!=0.5.5,!=0.5.7,!=0.5.9,<0.6.0,>=0.4.0->langchain-chroma) (1.69.0)\n",
            "Collecting bcrypt>=4.0.1 (from chromadb!=0.5.10,!=0.5.11,!=0.5.12,!=0.5.4,!=0.5.5,!=0.5.7,!=0.5.9,<0.6.0,>=0.4.0->langchain-chroma)\n",
            "  Downloading bcrypt-4.2.1-cp39-abi3-manylinux_2_28_x86_64.whl.metadata (9.8 kB)\n",
            "Requirement already satisfied: typer>=0.9.0 in /usr/local/lib/python3.10/dist-packages (from chromadb!=0.5.10,!=0.5.11,!=0.5.12,!=0.5.4,!=0.5.5,!=0.5.7,!=0.5.9,<0.6.0,>=0.4.0->langchain-chroma) (0.15.1)\n",
            "Collecting kubernetes>=28.1.0 (from chromadb!=0.5.10,!=0.5.11,!=0.5.12,!=0.5.4,!=0.5.5,!=0.5.7,!=0.5.9,<0.6.0,>=0.4.0->langchain-chroma)\n",
            "  Downloading kubernetes-31.0.0-py2.py3-none-any.whl.metadata (1.5 kB)\n",
            "Requirement already satisfied: tenacity>=8.2.3 in /usr/local/lib/python3.10/dist-packages (from chromadb!=0.5.10,!=0.5.11,!=0.5.12,!=0.5.4,!=0.5.5,!=0.5.7,!=0.5.9,<0.6.0,>=0.4.0->langchain-chroma) (8.5.0)\n",
            "Requirement already satisfied: PyYAML>=6.0.0 in /usr/local/lib/python3.10/dist-packages (from chromadb!=0.5.10,!=0.5.11,!=0.5.12,!=0.5.4,!=0.5.5,!=0.5.7,!=0.5.9,<0.6.0,>=0.4.0->langchain-chroma) (6.0.2)\n",
            "Collecting mmh3>=4.0.1 (from chromadb!=0.5.10,!=0.5.11,!=0.5.12,!=0.5.4,!=0.5.5,!=0.5.7,!=0.5.9,<0.6.0,>=0.4.0->langchain-chroma)\n",
            "  Downloading mmh3-5.0.1-cp310-cp310-manylinux_2_5_x86_64.manylinux1_x86_64.manylinux_2_17_x86_64.manylinux2014_x86_64.whl.metadata (14 kB)\n",
            "Requirement already satisfied: orjson>=3.9.12 in /usr/local/lib/python3.10/dist-packages (from chromadb!=0.5.10,!=0.5.11,!=0.5.12,!=0.5.4,!=0.5.5,!=0.5.7,!=0.5.9,<0.6.0,>=0.4.0->langchain-chroma) (3.10.13)\n",
            "Requirement already satisfied: httpx>=0.27.0 in /usr/local/lib/python3.10/dist-packages (from chromadb!=0.5.10,!=0.5.11,!=0.5.12,!=0.5.4,!=0.5.5,!=0.5.7,!=0.5.9,<0.6.0,>=0.4.0->langchain-chroma) (0.28.1)\n",
            "Requirement already satisfied: rich>=10.11.0 in /usr/local/lib/python3.10/dist-packages (from chromadb!=0.5.10,!=0.5.11,!=0.5.12,!=0.5.4,!=0.5.5,!=0.5.7,!=0.5.9,<0.6.0,>=0.4.0->langchain-chroma) (13.9.4)\n",
            "Collecting starlette<0.42.0,>=0.40.0 (from fastapi<1,>=0.95.2->langchain-chroma)\n",
            "  Downloading starlette-0.41.3-py3-none-any.whl.metadata (6.0 kB)\n",
            "Requirement already satisfied: jsonpatch<2.0,>=1.33 in /usr/local/lib/python3.10/dist-packages (from langchain-core!=0.3.0,!=0.3.1,!=0.3.10,!=0.3.11,!=0.3.12,!=0.3.13,!=0.3.14,!=0.3.2,!=0.3.3,!=0.3.4,!=0.3.5,!=0.3.6,!=0.3.7,!=0.3.8,!=0.3.9,<0.4.0,>=0.2.43->langchain-chroma) (1.33)\n",
            "Requirement already satisfied: langsmith<0.2.0,>=0.1.112 in /usr/local/lib/python3.10/dist-packages (from langchain-core!=0.3.0,!=0.3.1,!=0.3.10,!=0.3.11,!=0.3.12,!=0.3.13,!=0.3.14,!=0.3.2,!=0.3.3,!=0.3.4,!=0.3.5,!=0.3.6,!=0.3.7,!=0.3.8,!=0.3.9,<0.4.0,>=0.2.43->langchain-chroma) (0.1.147)\n",
            "Requirement already satisfied: packaging<25,>=23.2 in /usr/local/lib/python3.10/dist-packages (from langchain-core!=0.3.0,!=0.3.1,!=0.3.10,!=0.3.11,!=0.3.12,!=0.3.13,!=0.3.14,!=0.3.2,!=0.3.3,!=0.3.4,!=0.3.5,!=0.3.6,!=0.3.7,!=0.3.8,!=0.3.9,<0.4.0,>=0.2.43->langchain-chroma) (24.2)\n",
            "Collecting pyproject_hooks (from build>=1.0.3->chromadb!=0.5.10,!=0.5.11,!=0.5.12,!=0.5.4,!=0.5.5,!=0.5.7,!=0.5.9,<0.6.0,>=0.4.0->langchain-chroma)\n",
            "  Downloading pyproject_hooks-1.2.0-py3-none-any.whl.metadata (1.3 kB)\n",
            "Requirement already satisfied: tomli>=1.1.0 in /usr/local/lib/python3.10/dist-packages (from build>=1.0.3->chromadb!=0.5.10,!=0.5.11,!=0.5.12,!=0.5.4,!=0.5.5,!=0.5.7,!=0.5.9,<0.6.0,>=0.4.0->langchain-chroma) (2.2.1)\n",
            "Requirement already satisfied: anyio in /usr/local/lib/python3.10/dist-packages (from httpx>=0.27.0->chromadb!=0.5.10,!=0.5.11,!=0.5.12,!=0.5.4,!=0.5.5,!=0.5.7,!=0.5.9,<0.6.0,>=0.4.0->langchain-chroma) (3.7.1)\n",
            "Requirement already satisfied: certifi in /usr/local/lib/python3.10/dist-packages (from httpx>=0.27.0->chromadb!=0.5.10,!=0.5.11,!=0.5.12,!=0.5.4,!=0.5.5,!=0.5.7,!=0.5.9,<0.6.0,>=0.4.0->langchain-chroma) (2024.12.14)\n",
            "Requirement already satisfied: httpcore==1.* in /usr/local/lib/python3.10/dist-packages (from httpx>=0.27.0->chromadb!=0.5.10,!=0.5.11,!=0.5.12,!=0.5.4,!=0.5.5,!=0.5.7,!=0.5.9,<0.6.0,>=0.4.0->langchain-chroma) (1.0.7)\n",
            "Requirement already satisfied: idna in /usr/local/lib/python3.10/dist-packages (from httpx>=0.27.0->chromadb!=0.5.10,!=0.5.11,!=0.5.12,!=0.5.4,!=0.5.5,!=0.5.7,!=0.5.9,<0.6.0,>=0.4.0->langchain-chroma) (3.10)\n",
            "Requirement already satisfied: h11<0.15,>=0.13 in /usr/local/lib/python3.10/dist-packages (from httpcore==1.*->httpx>=0.27.0->chromadb!=0.5.10,!=0.5.11,!=0.5.12,!=0.5.4,!=0.5.5,!=0.5.7,!=0.5.9,<0.6.0,>=0.4.0->langchain-chroma) (0.14.0)\n",
            "Requirement already satisfied: jsonpointer>=1.9 in /usr/local/lib/python3.10/dist-packages (from jsonpatch<2.0,>=1.33->langchain-core!=0.3.0,!=0.3.1,!=0.3.10,!=0.3.11,!=0.3.12,!=0.3.13,!=0.3.14,!=0.3.2,!=0.3.3,!=0.3.4,!=0.3.5,!=0.3.6,!=0.3.7,!=0.3.8,!=0.3.9,<0.4.0,>=0.2.43->langchain-chroma) (3.0.0)\n",
            "Requirement already satisfied: six>=1.9.0 in /usr/local/lib/python3.10/dist-packages (from kubernetes>=28.1.0->chromadb!=0.5.10,!=0.5.11,!=0.5.12,!=0.5.4,!=0.5.5,!=0.5.7,!=0.5.9,<0.6.0,>=0.4.0->langchain-chroma) (1.17.0)\n",
            "Requirement already satisfied: python-dateutil>=2.5.3 in /usr/local/lib/python3.10/dist-packages (from kubernetes>=28.1.0->chromadb!=0.5.10,!=0.5.11,!=0.5.12,!=0.5.4,!=0.5.5,!=0.5.7,!=0.5.9,<0.6.0,>=0.4.0->langchain-chroma) (2.8.2)\n",
            "Requirement already satisfied: google-auth>=1.0.1 in /usr/local/lib/python3.10/dist-packages (from kubernetes>=28.1.0->chromadb!=0.5.10,!=0.5.11,!=0.5.12,!=0.5.4,!=0.5.5,!=0.5.7,!=0.5.9,<0.6.0,>=0.4.0->langchain-chroma) (2.27.0)\n",
            "Requirement already satisfied: websocket-client!=0.40.0,!=0.41.*,!=0.42.*,>=0.32.0 in /usr/local/lib/python3.10/dist-packages (from kubernetes>=28.1.0->chromadb!=0.5.10,!=0.5.11,!=0.5.12,!=0.5.4,!=0.5.5,!=0.5.7,!=0.5.9,<0.6.0,>=0.4.0->langchain-chroma) (1.8.0)\n",
            "Requirement already satisfied: requests in /usr/local/lib/python3.10/dist-packages (from kubernetes>=28.1.0->chromadb!=0.5.10,!=0.5.11,!=0.5.12,!=0.5.4,!=0.5.5,!=0.5.7,!=0.5.9,<0.6.0,>=0.4.0->langchain-chroma) (2.32.3)\n",
            "Requirement already satisfied: requests-oauthlib in /usr/local/lib/python3.10/dist-packages (from kubernetes>=28.1.0->chromadb!=0.5.10,!=0.5.11,!=0.5.12,!=0.5.4,!=0.5.5,!=0.5.7,!=0.5.9,<0.6.0,>=0.4.0->langchain-chroma) (1.3.1)\n",
            "Requirement already satisfied: oauthlib>=3.2.2 in /usr/local/lib/python3.10/dist-packages (from kubernetes>=28.1.0->chromadb!=0.5.10,!=0.5.11,!=0.5.12,!=0.5.4,!=0.5.5,!=0.5.7,!=0.5.9,<0.6.0,>=0.4.0->langchain-chroma) (3.2.2)\n",
            "Requirement already satisfied: urllib3>=1.24.2 in /usr/local/lib/python3.10/dist-packages (from kubernetes>=28.1.0->chromadb!=0.5.10,!=0.5.11,!=0.5.12,!=0.5.4,!=0.5.5,!=0.5.7,!=0.5.9,<0.6.0,>=0.4.0->langchain-chroma) (2.3.0)\n",
            "Collecting durationpy>=0.7 (from kubernetes>=28.1.0->chromadb!=0.5.10,!=0.5.11,!=0.5.12,!=0.5.4,!=0.5.5,!=0.5.7,!=0.5.9,<0.6.0,>=0.4.0->langchain-chroma)\n",
            "  Downloading durationpy-0.9-py3-none-any.whl.metadata (338 bytes)\n",
            "Requirement already satisfied: requests-toolbelt<2.0.0,>=1.0.0 in /usr/local/lib/python3.10/dist-packages (from langsmith<0.2.0,>=0.1.112->langchain-core!=0.3.0,!=0.3.1,!=0.3.10,!=0.3.11,!=0.3.12,!=0.3.13,!=0.3.14,!=0.3.2,!=0.3.3,!=0.3.4,!=0.3.5,!=0.3.6,!=0.3.7,!=0.3.8,!=0.3.9,<0.4.0,>=0.2.43->langchain-chroma) (1.0.0)\n",
            "Collecting coloredlogs (from onnxruntime>=1.14.1->chromadb!=0.5.10,!=0.5.11,!=0.5.12,!=0.5.4,!=0.5.5,!=0.5.7,!=0.5.9,<0.6.0,>=0.4.0->langchain-chroma)\n",
            "  Downloading coloredlogs-15.0.1-py2.py3-none-any.whl.metadata (12 kB)\n",
            "Requirement already satisfied: flatbuffers in /usr/local/lib/python3.10/dist-packages (from onnxruntime>=1.14.1->chromadb!=0.5.10,!=0.5.11,!=0.5.12,!=0.5.4,!=0.5.5,!=0.5.7,!=0.5.9,<0.6.0,>=0.4.0->langchain-chroma) (24.12.23)\n",
            "Requirement already satisfied: protobuf in /usr/local/lib/python3.10/dist-packages (from onnxruntime>=1.14.1->chromadb!=0.5.10,!=0.5.11,!=0.5.12,!=0.5.4,!=0.5.5,!=0.5.7,!=0.5.9,<0.6.0,>=0.4.0->langchain-chroma) (4.25.5)\n",
            "Requirement already satisfied: sympy in /usr/local/lib/python3.10/dist-packages (from onnxruntime>=1.14.1->chromadb!=0.5.10,!=0.5.11,!=0.5.12,!=0.5.4,!=0.5.5,!=0.5.7,!=0.5.9,<0.6.0,>=0.4.0->langchain-chroma) (1.13.1)\n",
            "Requirement already satisfied: deprecated>=1.2.6 in /usr/local/lib/python3.10/dist-packages (from opentelemetry-api>=1.2.0->chromadb!=0.5.10,!=0.5.11,!=0.5.12,!=0.5.4,!=0.5.5,!=0.5.7,!=0.5.9,<0.6.0,>=0.4.0->langchain-chroma) (1.2.15)\n",
            "Requirement already satisfied: importlib-metadata<=8.5.0,>=6.0 in /usr/local/lib/python3.10/dist-packages (from opentelemetry-api>=1.2.0->chromadb!=0.5.10,!=0.5.11,!=0.5.12,!=0.5.4,!=0.5.5,!=0.5.7,!=0.5.9,<0.6.0,>=0.4.0->langchain-chroma) (8.5.0)\n",
            "Requirement already satisfied: googleapis-common-protos~=1.52 in /usr/local/lib/python3.10/dist-packages (from opentelemetry-exporter-otlp-proto-grpc>=1.2.0->chromadb!=0.5.10,!=0.5.11,!=0.5.12,!=0.5.4,!=0.5.5,!=0.5.7,!=0.5.9,<0.6.0,>=0.4.0->langchain-chroma) (1.66.0)\n",
            "Collecting opentelemetry-exporter-otlp-proto-common==1.29.0 (from opentelemetry-exporter-otlp-proto-grpc>=1.2.0->chromadb!=0.5.10,!=0.5.11,!=0.5.12,!=0.5.4,!=0.5.5,!=0.5.7,!=0.5.9,<0.6.0,>=0.4.0->langchain-chroma)\n",
            "  Downloading opentelemetry_exporter_otlp_proto_common-1.29.0-py3-none-any.whl.metadata (1.8 kB)\n",
            "Collecting opentelemetry-proto==1.29.0 (from opentelemetry-exporter-otlp-proto-grpc>=1.2.0->chromadb!=0.5.10,!=0.5.11,!=0.5.12,!=0.5.4,!=0.5.5,!=0.5.7,!=0.5.9,<0.6.0,>=0.4.0->langchain-chroma)\n",
            "  Downloading opentelemetry_proto-1.29.0-py3-none-any.whl.metadata (2.3 kB)\n",
            "Collecting protobuf (from onnxruntime>=1.14.1->chromadb!=0.5.10,!=0.5.11,!=0.5.12,!=0.5.4,!=0.5.5,!=0.5.7,!=0.5.9,<0.6.0,>=0.4.0->langchain-chroma)\n",
            "  Downloading protobuf-5.29.3-cp38-abi3-manylinux2014_x86_64.whl.metadata (592 bytes)\n",
            "Collecting opentelemetry-instrumentation-asgi==0.50b0 (from opentelemetry-instrumentation-fastapi>=0.41b0->chromadb!=0.5.10,!=0.5.11,!=0.5.12,!=0.5.4,!=0.5.5,!=0.5.7,!=0.5.9,<0.6.0,>=0.4.0->langchain-chroma)\n",
            "  Downloading opentelemetry_instrumentation_asgi-0.50b0-py3-none-any.whl.metadata (1.9 kB)\n",
            "Collecting opentelemetry-instrumentation==0.50b0 (from opentelemetry-instrumentation-fastapi>=0.41b0->chromadb!=0.5.10,!=0.5.11,!=0.5.12,!=0.5.4,!=0.5.5,!=0.5.7,!=0.5.9,<0.6.0,>=0.4.0->langchain-chroma)\n",
            "  Downloading opentelemetry_instrumentation-0.50b0-py3-none-any.whl.metadata (6.1 kB)\n",
            "Requirement already satisfied: opentelemetry-semantic-conventions==0.50b0 in /usr/local/lib/python3.10/dist-packages (from opentelemetry-instrumentation-fastapi>=0.41b0->chromadb!=0.5.10,!=0.5.11,!=0.5.12,!=0.5.4,!=0.5.5,!=0.5.7,!=0.5.9,<0.6.0,>=0.4.0->langchain-chroma) (0.50b0)\n",
            "Collecting opentelemetry-util-http==0.50b0 (from opentelemetry-instrumentation-fastapi>=0.41b0->chromadb!=0.5.10,!=0.5.11,!=0.5.12,!=0.5.4,!=0.5.5,!=0.5.7,!=0.5.9,<0.6.0,>=0.4.0->langchain-chroma)\n",
            "  Downloading opentelemetry_util_http-0.50b0-py3-none-any.whl.metadata (2.5 kB)\n",
            "Requirement already satisfied: wrapt<2.0.0,>=1.0.0 in /usr/local/lib/python3.10/dist-packages (from opentelemetry-instrumentation==0.50b0->opentelemetry-instrumentation-fastapi>=0.41b0->chromadb!=0.5.10,!=0.5.11,!=0.5.12,!=0.5.4,!=0.5.5,!=0.5.7,!=0.5.9,<0.6.0,>=0.4.0->langchain-chroma) (1.17.0)\n",
            "Collecting asgiref~=3.0 (from opentelemetry-instrumentation-asgi==0.50b0->opentelemetry-instrumentation-fastapi>=0.41b0->chromadb!=0.5.10,!=0.5.11,!=0.5.12,!=0.5.4,!=0.5.5,!=0.5.7,!=0.5.9,<0.6.0,>=0.4.0->langchain-chroma)\n",
            "  Downloading asgiref-3.8.1-py3-none-any.whl.metadata (9.3 kB)\n",
            "Collecting monotonic>=1.5 (from posthog>=2.4.0->chromadb!=0.5.10,!=0.5.11,!=0.5.12,!=0.5.4,!=0.5.5,!=0.5.7,!=0.5.9,<0.6.0,>=0.4.0->langchain-chroma)\n",
            "  Downloading monotonic-1.6-py2.py3-none-any.whl.metadata (1.5 kB)\n",
            "Collecting backoff>=1.10.0 (from posthog>=2.4.0->chromadb!=0.5.10,!=0.5.11,!=0.5.12,!=0.5.4,!=0.5.5,!=0.5.7,!=0.5.9,<0.6.0,>=0.4.0->langchain-chroma)\n",
            "  Downloading backoff-2.2.1-py3-none-any.whl.metadata (14 kB)\n",
            "Requirement already satisfied: annotated-types>=0.6.0 in /usr/local/lib/python3.10/dist-packages (from pydantic>=1.9->chromadb!=0.5.10,!=0.5.11,!=0.5.12,!=0.5.4,!=0.5.5,!=0.5.7,!=0.5.9,<0.6.0,>=0.4.0->langchain-chroma) (0.7.0)\n",
            "Requirement already satisfied: pydantic-core==2.27.2 in /usr/local/lib/python3.10/dist-packages (from pydantic>=1.9->chromadb!=0.5.10,!=0.5.11,!=0.5.12,!=0.5.4,!=0.5.5,!=0.5.7,!=0.5.9,<0.6.0,>=0.4.0->langchain-chroma) (2.27.2)\n",
            "Requirement already satisfied: markdown-it-py>=2.2.0 in /usr/local/lib/python3.10/dist-packages (from rich>=10.11.0->chromadb!=0.5.10,!=0.5.11,!=0.5.12,!=0.5.4,!=0.5.5,!=0.5.7,!=0.5.9,<0.6.0,>=0.4.0->langchain-chroma) (3.0.0)\n",
            "Requirement already satisfied: pygments<3.0.0,>=2.13.0 in /usr/local/lib/python3.10/dist-packages (from rich>=10.11.0->chromadb!=0.5.10,!=0.5.11,!=0.5.12,!=0.5.4,!=0.5.5,!=0.5.7,!=0.5.9,<0.6.0,>=0.4.0->langchain-chroma) (2.18.0)\n",
            "Requirement already satisfied: huggingface-hub<1.0,>=0.16.4 in /usr/local/lib/python3.10/dist-packages (from tokenizers<=0.20.3,>=0.13.2->chromadb!=0.5.10,!=0.5.11,!=0.5.12,!=0.5.4,!=0.5.5,!=0.5.7,!=0.5.9,<0.6.0,>=0.4.0->langchain-chroma) (0.27.1)\n",
            "Requirement already satisfied: click>=8.0.0 in /usr/local/lib/python3.10/dist-packages (from typer>=0.9.0->chromadb!=0.5.10,!=0.5.11,!=0.5.12,!=0.5.4,!=0.5.5,!=0.5.7,!=0.5.9,<0.6.0,>=0.4.0->langchain-chroma) (8.1.8)\n",
            "Requirement already satisfied: shellingham>=1.3.0 in /usr/local/lib/python3.10/dist-packages (from typer>=0.9.0->chromadb!=0.5.10,!=0.5.11,!=0.5.12,!=0.5.4,!=0.5.5,!=0.5.7,!=0.5.9,<0.6.0,>=0.4.0->langchain-chroma) (1.5.4)\n",
            "Collecting httptools>=0.6.3 (from uvicorn[standard]>=0.18.3->chromadb!=0.5.10,!=0.5.11,!=0.5.12,!=0.5.4,!=0.5.5,!=0.5.7,!=0.5.9,<0.6.0,>=0.4.0->langchain-chroma)\n",
            "  Downloading httptools-0.6.4-cp310-cp310-manylinux_2_5_x86_64.manylinux1_x86_64.manylinux_2_17_x86_64.manylinux2014_x86_64.whl.metadata (3.6 kB)\n",
            "Collecting python-dotenv>=0.13 (from uvicorn[standard]>=0.18.3->chromadb!=0.5.10,!=0.5.11,!=0.5.12,!=0.5.4,!=0.5.5,!=0.5.7,!=0.5.9,<0.6.0,>=0.4.0->langchain-chroma)\n",
            "  Downloading python_dotenv-1.0.1-py3-none-any.whl.metadata (23 kB)\n",
            "Collecting uvloop!=0.15.0,!=0.15.1,>=0.14.0 (from uvicorn[standard]>=0.18.3->chromadb!=0.5.10,!=0.5.11,!=0.5.12,!=0.5.4,!=0.5.5,!=0.5.7,!=0.5.9,<0.6.0,>=0.4.0->langchain-chroma)\n",
            "  Downloading uvloop-0.21.0-cp310-cp310-manylinux_2_17_x86_64.manylinux2014_x86_64.whl.metadata (4.9 kB)\n",
            "Collecting watchfiles>=0.13 (from uvicorn[standard]>=0.18.3->chromadb!=0.5.10,!=0.5.11,!=0.5.12,!=0.5.4,!=0.5.5,!=0.5.7,!=0.5.9,<0.6.0,>=0.4.0->langchain-chroma)\n",
            "  Downloading watchfiles-1.0.4-cp310-cp310-manylinux_2_17_x86_64.manylinux2014_x86_64.whl.metadata (4.9 kB)\n",
            "Requirement already satisfied: websockets>=10.4 in /usr/local/lib/python3.10/dist-packages (from uvicorn[standard]>=0.18.3->chromadb!=0.5.10,!=0.5.11,!=0.5.12,!=0.5.4,!=0.5.5,!=0.5.7,!=0.5.9,<0.6.0,>=0.4.0->langchain-chroma) (14.1)\n",
            "Requirement already satisfied: sniffio>=1.1 in /usr/local/lib/python3.10/dist-packages (from anyio->httpx>=0.27.0->chromadb!=0.5.10,!=0.5.11,!=0.5.12,!=0.5.4,!=0.5.5,!=0.5.7,!=0.5.9,<0.6.0,>=0.4.0->langchain-chroma) (1.3.1)\n",
            "Requirement already satisfied: exceptiongroup in /usr/local/lib/python3.10/dist-packages (from anyio->httpx>=0.27.0->chromadb!=0.5.10,!=0.5.11,!=0.5.12,!=0.5.4,!=0.5.5,!=0.5.7,!=0.5.9,<0.6.0,>=0.4.0->langchain-chroma) (1.2.2)\n",
            "Requirement already satisfied: cachetools<6.0,>=2.0.0 in /usr/local/lib/python3.10/dist-packages (from google-auth>=1.0.1->kubernetes>=28.1.0->chromadb!=0.5.10,!=0.5.11,!=0.5.12,!=0.5.4,!=0.5.5,!=0.5.7,!=0.5.9,<0.6.0,>=0.4.0->langchain-chroma) (5.5.0)\n",
            "Requirement already satisfied: pyasn1-modules>=0.2.1 in /usr/local/lib/python3.10/dist-packages (from google-auth>=1.0.1->kubernetes>=28.1.0->chromadb!=0.5.10,!=0.5.11,!=0.5.12,!=0.5.4,!=0.5.5,!=0.5.7,!=0.5.9,<0.6.0,>=0.4.0->langchain-chroma) (0.4.1)\n",
            "Requirement already satisfied: rsa<5,>=3.1.4 in /usr/local/lib/python3.10/dist-packages (from google-auth>=1.0.1->kubernetes>=28.1.0->chromadb!=0.5.10,!=0.5.11,!=0.5.12,!=0.5.4,!=0.5.5,!=0.5.7,!=0.5.9,<0.6.0,>=0.4.0->langchain-chroma) (4.9)\n",
            "Requirement already satisfied: filelock in /usr/local/lib/python3.10/dist-packages (from huggingface-hub<1.0,>=0.16.4->tokenizers<=0.20.3,>=0.13.2->chromadb!=0.5.10,!=0.5.11,!=0.5.12,!=0.5.4,!=0.5.5,!=0.5.7,!=0.5.9,<0.6.0,>=0.4.0->langchain-chroma) (3.16.1)\n",
            "Requirement already satisfied: fsspec>=2023.5.0 in /usr/local/lib/python3.10/dist-packages (from huggingface-hub<1.0,>=0.16.4->tokenizers<=0.20.3,>=0.13.2->chromadb!=0.5.10,!=0.5.11,!=0.5.12,!=0.5.4,!=0.5.5,!=0.5.7,!=0.5.9,<0.6.0,>=0.4.0->langchain-chroma) (2024.10.0)\n",
            "Requirement already satisfied: zipp>=3.20 in /usr/local/lib/python3.10/dist-packages (from importlib-metadata<=8.5.0,>=6.0->opentelemetry-api>=1.2.0->chromadb!=0.5.10,!=0.5.11,!=0.5.12,!=0.5.4,!=0.5.5,!=0.5.7,!=0.5.9,<0.6.0,>=0.4.0->langchain-chroma) (3.21.0)\n",
            "Requirement already satisfied: mdurl~=0.1 in /usr/local/lib/python3.10/dist-packages (from markdown-it-py>=2.2.0->rich>=10.11.0->chromadb!=0.5.10,!=0.5.11,!=0.5.12,!=0.5.4,!=0.5.5,!=0.5.7,!=0.5.9,<0.6.0,>=0.4.0->langchain-chroma) (0.1.2)\n",
            "Requirement already satisfied: charset-normalizer<4,>=2 in /usr/local/lib/python3.10/dist-packages (from requests->kubernetes>=28.1.0->chromadb!=0.5.10,!=0.5.11,!=0.5.12,!=0.5.4,!=0.5.5,!=0.5.7,!=0.5.9,<0.6.0,>=0.4.0->langchain-chroma) (3.4.1)\n",
            "Collecting humanfriendly>=9.1 (from coloredlogs->onnxruntime>=1.14.1->chromadb!=0.5.10,!=0.5.11,!=0.5.12,!=0.5.4,!=0.5.5,!=0.5.7,!=0.5.9,<0.6.0,>=0.4.0->langchain-chroma)\n",
            "  Downloading humanfriendly-10.0-py2.py3-none-any.whl.metadata (9.2 kB)\n",
            "Requirement already satisfied: mpmath<1.4,>=1.1.0 in /usr/local/lib/python3.10/dist-packages (from sympy->onnxruntime>=1.14.1->chromadb!=0.5.10,!=0.5.11,!=0.5.12,!=0.5.4,!=0.5.5,!=0.5.7,!=0.5.9,<0.6.0,>=0.4.0->langchain-chroma) (1.3.0)\n",
            "Requirement already satisfied: pyasn1<0.7.0,>=0.4.6 in /usr/local/lib/python3.10/dist-packages (from pyasn1-modules>=0.2.1->google-auth>=1.0.1->kubernetes>=28.1.0->chromadb!=0.5.10,!=0.5.11,!=0.5.12,!=0.5.4,!=0.5.5,!=0.5.7,!=0.5.9,<0.6.0,>=0.4.0->langchain-chroma) (0.6.1)\n",
            "Downloading langchain_chroma-0.2.0-py3-none-any.whl (11 kB)\n",
            "Downloading chromadb-0.5.23-py3-none-any.whl (628 kB)\n",
            "\u001b[2K   \u001b[90m━━━━━━━━━━━━━━━━━━━━━━━━━━━━━━━━━━━━━━━━\u001b[0m \u001b[32m628.3/628.3 kB\u001b[0m \u001b[31m15.2 MB/s\u001b[0m eta \u001b[36m0:00:00\u001b[0m\n",
            "\u001b[?25hDownloading chroma_hnswlib-0.7.6-cp310-cp310-manylinux_2_17_x86_64.manylinux2014_x86_64.whl (2.4 MB)\n",
            "\u001b[2K   \u001b[90m━━━━━━━━━━━━━━━━━━━━━━━━━━━━━━━━━━━━━━━━\u001b[0m \u001b[32m2.4/2.4 MB\u001b[0m \u001b[31m56.9 MB/s\u001b[0m eta \u001b[36m0:00:00\u001b[0m\n",
            "\u001b[?25hDownloading fastapi-0.115.6-py3-none-any.whl (94 kB)\n",
            "\u001b[2K   \u001b[90m━━━━━━━━━━━━━━━━━━━━━━━━━━━━━━━━━━━━━━━━\u001b[0m \u001b[32m94.8/94.8 kB\u001b[0m \u001b[31m7.6 MB/s\u001b[0m eta \u001b[36m0:00:00\u001b[0m\n",
            "\u001b[?25hDownloading bcrypt-4.2.1-cp39-abi3-manylinux_2_28_x86_64.whl (278 kB)\n",
            "\u001b[2K   \u001b[90m━━━━━━━━━━━━━━━━━━━━━━━━━━━━━━━━━━━━━━━━\u001b[0m \u001b[32m278.6/278.6 kB\u001b[0m \u001b[31m18.6 MB/s\u001b[0m eta \u001b[36m0:00:00\u001b[0m\n",
            "\u001b[?25hDownloading build-1.2.2.post1-py3-none-any.whl (22 kB)\n",
            "Downloading kubernetes-31.0.0-py2.py3-none-any.whl (1.9 MB)\n",
            "\u001b[2K   \u001b[90m━━━━━━━━━━━━━━━━━━━━━━━━━━━━━━━━━━━━━━━━\u001b[0m \u001b[32m1.9/1.9 MB\u001b[0m \u001b[31m68.3 MB/s\u001b[0m eta \u001b[36m0:00:00\u001b[0m\n",
            "\u001b[?25hDownloading mmh3-5.0.1-cp310-cp310-manylinux_2_5_x86_64.manylinux1_x86_64.manylinux_2_17_x86_64.manylinux2014_x86_64.whl (93 kB)\n",
            "\u001b[2K   \u001b[90m━━━━━━━━━━━━━━━━━━━━━━━━━━━━━━━━━━━━━━━━\u001b[0m \u001b[32m93.2/93.2 kB\u001b[0m \u001b[31m4.8 MB/s\u001b[0m eta \u001b[36m0:00:00\u001b[0m\n",
            "\u001b[?25hDownloading onnxruntime-1.20.1-cp310-cp310-manylinux_2_27_x86_64.manylinux_2_28_x86_64.whl (13.3 MB)\n",
            "\u001b[2K   \u001b[90m━━━━━━━━━━━━━━━━━━━━━━━━━━━━━━━━━━━━━━━━\u001b[0m \u001b[32m13.3/13.3 MB\u001b[0m \u001b[31m65.3 MB/s\u001b[0m eta \u001b[36m0:00:00\u001b[0m\n",
            "\u001b[?25hDownloading opentelemetry_exporter_otlp_proto_grpc-1.29.0-py3-none-any.whl (18 kB)\n",
            "Downloading opentelemetry_exporter_otlp_proto_common-1.29.0-py3-none-any.whl (18 kB)\n",
            "Downloading opentelemetry_proto-1.29.0-py3-none-any.whl (55 kB)\n",
            "\u001b[2K   \u001b[90m━━━━━━━━━━━━━━━━━━━━━━━━━━━━━━━━━━━━━━━━\u001b[0m \u001b[32m55.8/55.8 kB\u001b[0m \u001b[31m4.2 MB/s\u001b[0m eta \u001b[36m0:00:00\u001b[0m\n",
            "\u001b[?25hDownloading opentelemetry_instrumentation_fastapi-0.50b0-py3-none-any.whl (12 kB)\n",
            "Downloading opentelemetry_instrumentation-0.50b0-py3-none-any.whl (30 kB)\n",
            "Downloading opentelemetry_instrumentation_asgi-0.50b0-py3-none-any.whl (16 kB)\n",
            "Downloading opentelemetry_util_http-0.50b0-py3-none-any.whl (6.9 kB)\n",
            "Downloading overrides-7.7.0-py3-none-any.whl (17 kB)\n",
            "Downloading posthog-3.7.5-py2.py3-none-any.whl (54 kB)\n",
            "\u001b[2K   \u001b[90m━━━━━━━━━━━━━━━━━━━━━━━━━━━━━━━━━━━━━━━━\u001b[0m \u001b[32m54.9/54.9 kB\u001b[0m \u001b[31m3.9 MB/s\u001b[0m eta \u001b[36m0:00:00\u001b[0m\n",
            "\u001b[?25hDownloading starlette-0.41.3-py3-none-any.whl (73 kB)\n",
            "\u001b[2K   \u001b[90m━━━━━━━━━━━━━━━━━━━━━━━━━━━━━━━━━━━━━━━━\u001b[0m \u001b[32m73.2/73.2 kB\u001b[0m \u001b[31m5.9 MB/s\u001b[0m eta \u001b[36m0:00:00\u001b[0m\n",
            "\u001b[?25hDownloading tokenizers-0.20.3-cp310-cp310-manylinux_2_17_x86_64.manylinux2014_x86_64.whl (3.0 MB)\n",
            "\u001b[2K   \u001b[90m━━━━━━━━━━━━━━━━━━━━━━━━━━━━━━━━━━━━━━━━\u001b[0m \u001b[32m3.0/3.0 MB\u001b[0m \u001b[31m74.3 MB/s\u001b[0m eta \u001b[36m0:00:00\u001b[0m\n",
            "\u001b[?25hDownloading uvicorn-0.34.0-py3-none-any.whl (62 kB)\n",
            "\u001b[2K   \u001b[90m━━━━━━━━━━━━━━━━━━━━━━━━━━━━━━━━━━━━━━━━\u001b[0m \u001b[32m62.3/62.3 kB\u001b[0m \u001b[31m5.0 MB/s\u001b[0m eta \u001b[36m0:00:00\u001b[0m\n",
            "\u001b[?25hDownloading backoff-2.2.1-py3-none-any.whl (15 kB)\n",
            "Downloading durationpy-0.9-py3-none-any.whl (3.5 kB)\n",
            "Downloading httptools-0.6.4-cp310-cp310-manylinux_2_5_x86_64.manylinux1_x86_64.manylinux_2_17_x86_64.manylinux2014_x86_64.whl (442 kB)\n",
            "\u001b[2K   \u001b[90m━━━━━━━━━━━━━━━━━━━━━━━━━━━━━━━━━━━━━━━━\u001b[0m \u001b[32m442.1/442.1 kB\u001b[0m \u001b[31m28.6 MB/s\u001b[0m eta \u001b[36m0:00:00\u001b[0m\n",
            "\u001b[?25hDownloading monotonic-1.6-py2.py3-none-any.whl (8.2 kB)\n",
            "Downloading protobuf-5.29.3-cp38-abi3-manylinux2014_x86_64.whl (319 kB)\n",
            "\u001b[2K   \u001b[90m━━━━━━━━━━━━━━━━━━━━━━━━━━━━━━━━━━━━━━━━\u001b[0m \u001b[32m319.7/319.7 kB\u001b[0m \u001b[31m23.5 MB/s\u001b[0m eta \u001b[36m0:00:00\u001b[0m\n",
            "\u001b[?25hDownloading python_dotenv-1.0.1-py3-none-any.whl (19 kB)\n",
            "Downloading uvloop-0.21.0-cp310-cp310-manylinux_2_17_x86_64.manylinux2014_x86_64.whl (3.8 MB)\n",
            "\u001b[2K   \u001b[90m━━━━━━━━━━━━━━━━━━━━━━━━━━━━━━━━━━━━━━━━\u001b[0m \u001b[32m3.8/3.8 MB\u001b[0m \u001b[31m75.9 MB/s\u001b[0m eta \u001b[36m0:00:00\u001b[0m\n",
            "\u001b[?25hDownloading watchfiles-1.0.4-cp310-cp310-manylinux_2_17_x86_64.manylinux2014_x86_64.whl (452 kB)\n",
            "\u001b[2K   \u001b[90m━━━━━━━━━━━━━━━━━━━━━━━━━━━━━━━━━━━━━━━━\u001b[0m \u001b[32m452.9/452.9 kB\u001b[0m \u001b[31m28.5 MB/s\u001b[0m eta \u001b[36m0:00:00\u001b[0m\n",
            "\u001b[?25hDownloading coloredlogs-15.0.1-py2.py3-none-any.whl (46 kB)\n",
            "\u001b[2K   \u001b[90m━━━━━━━━━━━━━━━━━━━━━━━━━━━━━━━━━━━━━━━━\u001b[0m \u001b[32m46.0/46.0 kB\u001b[0m \u001b[31m3.6 MB/s\u001b[0m eta \u001b[36m0:00:00\u001b[0m\n",
            "\u001b[?25hDownloading pyproject_hooks-1.2.0-py3-none-any.whl (10 kB)\n",
            "Downloading asgiref-3.8.1-py3-none-any.whl (23 kB)\n",
            "Downloading humanfriendly-10.0-py2.py3-none-any.whl (86 kB)\n",
            "\u001b[2K   \u001b[90m━━━━━━━━━━━━━━━━━━━━━━━━━━━━━━━━━━━━━━━━\u001b[0m \u001b[32m86.8/86.8 kB\u001b[0m \u001b[31m7.2 MB/s\u001b[0m eta \u001b[36m0:00:00\u001b[0m\n",
            "\u001b[?25hBuilding wheels for collected packages: pypika\n",
            "  Building wheel for pypika (pyproject.toml) ... \u001b[?25l\u001b[?25hdone\n",
            "  Created wheel for pypika: filename=PyPika-0.48.9-py2.py3-none-any.whl size=53771 sha256=501c6e347ac7d12dbc5c0e065f8d42d2b26c564e34c987c97f7aad5f5dfff532\n",
            "  Stored in directory: /root/.cache/pip/wheels/e1/26/51/d0bffb3d2fd82256676d7ad3003faea3bd6dddc9577af665f4\n",
            "Successfully built pypika\n",
            "Installing collected packages: pypika, monotonic, durationpy, uvloop, uvicorn, python-dotenv, pyproject_hooks, protobuf, overrides, opentelemetry-util-http, mmh3, humanfriendly, httptools, chroma-hnswlib, bcrypt, backoff, asgiref, watchfiles, starlette, posthog, opentelemetry-proto, coloredlogs, build, tokenizers, opentelemetry-exporter-otlp-proto-common, onnxruntime, kubernetes, fastapi, opentelemetry-instrumentation, opentelemetry-instrumentation-asgi, opentelemetry-exporter-otlp-proto-grpc, opentelemetry-instrumentation-fastapi, chromadb, langchain-chroma\n",
            "  Attempting uninstall: protobuf\n",
            "    Found existing installation: protobuf 4.25.5\n",
            "    Uninstalling protobuf-4.25.5:\n",
            "      Successfully uninstalled protobuf-4.25.5\n",
            "  Attempting uninstall: tokenizers\n",
            "    Found existing installation: tokenizers 0.21.0\n",
            "    Uninstalling tokenizers-0.21.0:\n",
            "      Successfully uninstalled tokenizers-0.21.0\n",
            "\u001b[31mERROR: pip's dependency resolver does not currently take into account all the packages that are installed. This behaviour is the source of the following dependency conflicts.\n",
            "tensorflow 2.17.1 requires protobuf!=4.21.0,!=4.21.1,!=4.21.2,!=4.21.3,!=4.21.4,!=4.21.5,<5.0.0dev,>=3.20.3, but you have protobuf 5.29.3 which is incompatible.\n",
            "tensorflow-metadata 1.13.1 requires protobuf<5,>=3.20.3, but you have protobuf 5.29.3 which is incompatible.\n",
            "transformers 4.47.1 requires tokenizers<0.22,>=0.21, but you have tokenizers 0.20.3 which is incompatible.\u001b[0m\u001b[31m\n",
            "\u001b[0mSuccessfully installed asgiref-3.8.1 backoff-2.2.1 bcrypt-4.2.1 build-1.2.2.post1 chroma-hnswlib-0.7.6 chromadb-0.5.23 coloredlogs-15.0.1 durationpy-0.9 fastapi-0.115.6 httptools-0.6.4 humanfriendly-10.0 kubernetes-31.0.0 langchain-chroma-0.2.0 mmh3-5.0.1 monotonic-1.6 onnxruntime-1.20.1 opentelemetry-exporter-otlp-proto-common-1.29.0 opentelemetry-exporter-otlp-proto-grpc-1.29.0 opentelemetry-instrumentation-0.50b0 opentelemetry-instrumentation-asgi-0.50b0 opentelemetry-instrumentation-fastapi-0.50b0 opentelemetry-proto-1.29.0 opentelemetry-util-http-0.50b0 overrides-7.7.0 posthog-3.7.5 protobuf-5.29.3 pypika-0.48.9 pyproject_hooks-1.2.0 python-dotenv-1.0.1 starlette-0.41.3 tokenizers-0.20.3 uvicorn-0.34.0 uvloop-0.21.0 watchfiles-1.0.4\n"
          ]
        }
      ]
    },
    {
      "cell_type": "code",
      "source": [
        "from getpass import getpass"
      ],
      "metadata": {
        "id": "QATDwAkSRHzs"
      },
      "execution_count": 3,
      "outputs": []
    },
    {
      "cell_type": "code",
      "source": [
        "Hf_api_key = getpass(\"Enter you api key\")"
      ],
      "metadata": {
        "colab": {
          "base_uri": "https://localhost:8080/"
        },
        "id": "FDWGHU13Rdwe",
        "outputId": "a320fb84-939b-4aca-ae65-327a8b089488"
      },
      "execution_count": 4,
      "outputs": [
        {
          "name": "stdout",
          "output_type": "stream",
          "text": [
            "Enter you api key··········\n"
          ]
        }
      ]
    },
    {
      "cell_type": "code",
      "source": [
        "import os"
      ],
      "metadata": {
        "id": "I4Zc1wv3R4UG"
      },
      "execution_count": 5,
      "outputs": []
    },
    {
      "cell_type": "code",
      "source": [
        "\n",
        "os.environ[\"Hugging_API\"] = Hf_api_key"
      ],
      "metadata": {
        "id": "Ig787wACR-2Q"
      },
      "execution_count": 6,
      "outputs": []
    },
    {
      "cell_type": "code",
      "source": [
        "docs = [\n",
        "    \"Introduction to LangChain and its purpose\",\n",
        "    \"Agents and Tools in LangChain for dynamic task execution\",\n",
        "    \"Prompt Templates for creating structured model inputs\",\n",
        "    \"Memory and State Management for maintaining conversation context\",\n",
        "    \"Use Cases and Applications of LangChain in AI-powered systems\"\n",
        "]"
      ],
      "metadata": {
        "id": "axZOBdkeSKNm"
      },
      "execution_count": 7,
      "outputs": []
    },
    {
      "cell_type": "code",
      "source": [
        "from langchain_huggingface.embeddings import HuggingFaceEmbeddings"
      ],
      "metadata": {
        "id": "boLYINLhQnuh"
      },
      "execution_count": 8,
      "outputs": []
    },
    {
      "cell_type": "code",
      "source": [
        "model_name = \"mixedbread-ai/mxbai-embed-large-v1\""
      ],
      "metadata": {
        "id": "VCfpsroBRVjH"
      },
      "execution_count": 9,
      "outputs": []
    },
    {
      "cell_type": "code",
      "source": [
        "hf_embedings = HuggingFaceEmbeddings(model_name = model_name)"
      ],
      "metadata": {
        "colab": {
          "base_uri": "https://localhost:8080/",
          "height": 497,
          "referenced_widgets": [
            "dc432b7f585e4edaa94460c5124ebc96",
            "22c66a7566bc46acbf3328db00761038",
            "c6353265c4694dbfa742954c7c89423d",
            "3be88c7315b44aceb04408f6e264833c",
            "613ba7e1c8a3435cb08a6011c76032f2",
            "be179e373ca1449292b40db3008501af",
            "570cb5a86c514354a9f0f853431b325c",
            "b14b9726c7ca470b80e7ff3ba14e80b9",
            "728f66318fc34bc6b080db284d6c258c",
            "f73280af366a4deda56baae8d396a3bf",
            "3575b7e8a1214fc49a83fc67f587f587",
            "5e584af726d3480891f1120af2755364",
            "690f63b058c44e57b99204aa87ad655f",
            "76e365e631b1485d8f40b75120240939",
            "f6e13c345f4c4f6987fe3afa919a9b48",
            "913b66c22abb41cd89909830e36be602",
            "12917f091ac94133975198058e3ca4dc",
            "84ba9c27c5254778bc510e9d47b9a8a6",
            "cce03c3f0a5e4b9e8e65b8181666b075",
            "882dbce957ff402e988b22edd5ac4d69",
            "db1ef19973aa49aeb828bdbf4ceba357",
            "843a12bb294f4d4ca5bc95eb9dd6948b",
            "eedbe658395f4d47b130b649d26cf1b5",
            "7d1020b359f54cd6963be1fec1c2cc0c",
            "460d9247be3244b49877d48ccacee241",
            "846fe81eea1b49d28dd88529b780594d",
            "509f011bd090495987db55a29327b731",
            "88f8b499ec16433197e419527d38800a",
            "1e379202828349bb966beb6a86066c50",
            "6e96de16baa44e4ea08fdadb4cc09836",
            "1d8cc754d6494f7a928f7491b2aed09a",
            "1809882487f749189d3b001fc790efd0",
            "654fa59f60ed4c25bbd93c84584b60f9",
            "7ecb26d0ed694cce8a09187a0aee5719",
            "18fa1acee94d45829558bbd9161d41b2",
            "34d462a0f0cb4dfda8800aa0007dfe12",
            "9e09eda637934175969d8b34f2b62a26",
            "9931d41de48144b9ae4814825092026b",
            "7fb83dbe929546e5a20c2e3177cf46f3",
            "9532b20cd1624c59a4e836d246c9f926",
            "bfe5bc0af91649268cbf5f8dc317826f",
            "ae418ed9f4964600abb3d189017d43e8",
            "d0b6e63075894138ba4662700033068b",
            "ff9c34f49b3a4a169f87cffe6d00c4f4",
            "2160d672d44646f8b7286949250edca3",
            "35cbee9a44cf478ba43a791fe8f1d422",
            "b5b2a4419ab24e5998a7aeaa63950bcd",
            "b6b220fb93d44cfe8e44844109736812",
            "a27c1d4772da45a89c5be93f49fce4f3",
            "88cc850738424832846dfd7952ae7598",
            "f05417192f54467585c2b203580d0c4c",
            "0c12c0f89e7f4b6f9c413d5fcf9b5663",
            "a8b4f4caaacc42509942ec6eae254efc",
            "f4c31b1ae8e14ed6bb7b56924862c5c4",
            "93cdb22720c946ca99066e4569db2aee",
            "640db713dcd24534a0ccbe1d3334bb76",
            "6c4e49c5332e40f09543c32ab0a1e0f7",
            "a3439929a243416ab04c4c3248c432ea",
            "80ac0c7bc19a45859e8948c2b6f6c1b2",
            "3e69db01354d4db4b4459bd11aae45e3",
            "59d0dcfeec864399871997e0c43fae1e",
            "cdb633df80b24ad3afbc177265aa142d",
            "ce8b323d4a1c47b385fd697835fab9c0",
            "a5026a39b7b3434da099e25d363bf6db",
            "a6e44722fb6d4e8bb2b8175dc3f4148b",
            "51217a4e7f704467b8d4c5cec8d7fe40",
            "696020e6d5bc41bf98889da5c0fd0c0f",
            "6b0479e1fc2d4a298ab7dbaa86c19f7b",
            "e3f3bc9a35164f0584fa1f61cb958fc2",
            "4538532bff7847c294ebb12605fd7263",
            "97369cefa7a6425891ea4e04c38dfb44",
            "5cb69bcab4cb46e7911272e256483a00",
            "f64ddc1ba8d24faba7246af91d8cfd1b",
            "3264f347720942f6b69e882b9b439f7a",
            "5053e456f2c144ccb197e1ac7119883a",
            "5d6297d7487b42c287ccbeee0b95d738",
            "b646fbfec428475ebe973345cd03cd9f",
            "e9d76f1fd32a41f198850396951b8b20",
            "8c688f40fb32442fa679daa78285c198",
            "048010175bfb4ee49a0f2f829d6de619",
            "c60a83106da948cdb82bddc32107be51",
            "a4f2edf72c694e6ab30691667f5ce254",
            "b0d02fead17248e09bd0e8efd6373ed0",
            "f84033e62c954788adb97137572dc253",
            "090a742143bd48eda8f196bbf25adbc4",
            "711d3c915ee04c6d8faecf735c5ced98",
            "4df2ec3de62644b98246bb5bca0aecb4",
            "c980ebb1d1974d37b496fa61638d9b0a",
            "d3a10c8d6cf341f7b85dd52e879ab00a",
            "ca33d098658b42cc8272b4a54f331f4a",
            "eef08ebd7feb4b338eac0c94e7d8014a",
            "24e802c455954ea486659c05386768de",
            "6f1137c3a5a54f9ca64ddde7f9b357ab",
            "5c0ea16e29c2419ab3d9e9157b4a139e",
            "c9b096f797974b9d8f8f444f7be514fe",
            "abcead78aad241a689a102f3f2182023",
            "fc6f04b15ecd494e963bd11c5b73b9cf",
            "14b99dee16d14f9e8022cd1e3fde62ab",
            "1f02d79149d843339edc7ada7a3d426a",
            "d589c8ac3db341488a2479526717a542",
            "310f568268c24c14a36ba2d45b47e49e",
            "30657b08c89b452d9f41270c218391c9",
            "d8e44d3d3d544e0f8886f495dcf29f3e",
            "24c769786a6c4b5289182c3c4841979d",
            "f643cf6d8fbe4c04a7bc30ffe0e07dfd",
            "938f44d014ec48ea91a3fedf78a7e4a2",
            "aaf175072ddd4a26a1d5732c4a46a5a9",
            "3b8f8036f7e1412bba73576ca676c7fa",
            "fc0f9cc32d6e4a5e9a578e2710dfc3ea",
            "8bd0537593ad4975848a5605402e1c17",
            "b38c709b81c14d5286192b6e0d6dbd2f",
            "493eb89519c7413b8df5ef12d57becd3",
            "139548bd92db4d37b6b84248652ca54b",
            "fc0b2b8e1efc41c284135b423a3193d6",
            "fd2568e9f5854a76baf9c62a05acb04f",
            "ee151e9088f24ce090aac76fdabb061a",
            "9559f47babfc4aaa86fb14a0b84be403",
            "2ebd0bce5ee7404b97f9eb31d953ea8c",
            "8b0e9ebeaf284897baefa65d64e679cc",
            "e8e3632152e94c29b46391ab23e23261",
            "75054282307a4816a614a0ce2adda32c"
          ]
        },
        "id": "CKmnUZOUUSmn",
        "outputId": "55c284b4-17bd-456d-df60-c189692b0333"
      },
      "execution_count": 11,
      "outputs": [
        {
          "output_type": "stream",
          "name": "stderr",
          "text": [
            "/usr/local/lib/python3.10/dist-packages/huggingface_hub/utils/_auth.py:94: UserWarning: \n",
            "The secret `HF_TOKEN` does not exist in your Colab secrets.\n",
            "To authenticate with the Hugging Face Hub, create a token in your settings tab (https://huggingface.co/settings/tokens), set it as secret in your Google Colab and restart your session.\n",
            "You will be able to reuse this secret in all of your notebooks.\n",
            "Please note that authentication is recommended but still optional to access public models or datasets.\n",
            "  warnings.warn(\n"
          ]
        },
        {
          "output_type": "display_data",
          "data": {
            "text/plain": [
              "modules.json:   0%|          | 0.00/229 [00:00<?, ?B/s]"
            ],
            "application/vnd.jupyter.widget-view+json": {
              "version_major": 2,
              "version_minor": 0,
              "model_id": "dc432b7f585e4edaa94460c5124ebc96"
            }
          },
          "metadata": {}
        },
        {
          "output_type": "display_data",
          "data": {
            "text/plain": [
              "config_sentence_transformers.json:   0%|          | 0.00/266 [00:00<?, ?B/s]"
            ],
            "application/vnd.jupyter.widget-view+json": {
              "version_major": 2,
              "version_minor": 0,
              "model_id": "5e584af726d3480891f1120af2755364"
            }
          },
          "metadata": {}
        },
        {
          "output_type": "display_data",
          "data": {
            "text/plain": [
              "README.md:   0%|          | 0.00/114k [00:00<?, ?B/s]"
            ],
            "application/vnd.jupyter.widget-view+json": {
              "version_major": 2,
              "version_minor": 0,
              "model_id": "eedbe658395f4d47b130b649d26cf1b5"
            }
          },
          "metadata": {}
        },
        {
          "output_type": "display_data",
          "data": {
            "text/plain": [
              "sentence_bert_config.json:   0%|          | 0.00/53.0 [00:00<?, ?B/s]"
            ],
            "application/vnd.jupyter.widget-view+json": {
              "version_major": 2,
              "version_minor": 0,
              "model_id": "7ecb26d0ed694cce8a09187a0aee5719"
            }
          },
          "metadata": {}
        },
        {
          "output_type": "display_data",
          "data": {
            "text/plain": [
              "config.json:   0%|          | 0.00/677 [00:00<?, ?B/s]"
            ],
            "application/vnd.jupyter.widget-view+json": {
              "version_major": 2,
              "version_minor": 0,
              "model_id": "2160d672d44646f8b7286949250edca3"
            }
          },
          "metadata": {}
        },
        {
          "output_type": "display_data",
          "data": {
            "text/plain": [
              "model.safetensors:   0%|          | 0.00/670M [00:00<?, ?B/s]"
            ],
            "application/vnd.jupyter.widget-view+json": {
              "version_major": 2,
              "version_minor": 0,
              "model_id": "640db713dcd24534a0ccbe1d3334bb76"
            }
          },
          "metadata": {}
        },
        {
          "output_type": "display_data",
          "data": {
            "text/plain": [
              "tokenizer_config.json:   0%|          | 0.00/1.24k [00:00<?, ?B/s]"
            ],
            "application/vnd.jupyter.widget-view+json": {
              "version_major": 2,
              "version_minor": 0,
              "model_id": "696020e6d5bc41bf98889da5c0fd0c0f"
            }
          },
          "metadata": {}
        },
        {
          "output_type": "display_data",
          "data": {
            "text/plain": [
              "vocab.txt:   0%|          | 0.00/232k [00:00<?, ?B/s]"
            ],
            "application/vnd.jupyter.widget-view+json": {
              "version_major": 2,
              "version_minor": 0,
              "model_id": "e9d76f1fd32a41f198850396951b8b20"
            }
          },
          "metadata": {}
        },
        {
          "output_type": "display_data",
          "data": {
            "text/plain": [
              "tokenizer.json:   0%|          | 0.00/711k [00:00<?, ?B/s]"
            ],
            "application/vnd.jupyter.widget-view+json": {
              "version_major": 2,
              "version_minor": 0,
              "model_id": "d3a10c8d6cf341f7b85dd52e879ab00a"
            }
          },
          "metadata": {}
        },
        {
          "output_type": "display_data",
          "data": {
            "text/plain": [
              "special_tokens_map.json:   0%|          | 0.00/695 [00:00<?, ?B/s]"
            ],
            "application/vnd.jupyter.widget-view+json": {
              "version_major": 2,
              "version_minor": 0,
              "model_id": "d589c8ac3db341488a2479526717a542"
            }
          },
          "metadata": {}
        },
        {
          "output_type": "display_data",
          "data": {
            "text/plain": [
              "1_Pooling/config.json:   0%|          | 0.00/297 [00:00<?, ?B/s]"
            ],
            "application/vnd.jupyter.widget-view+json": {
              "version_major": 2,
              "version_minor": 0,
              "model_id": "b38c709b81c14d5286192b6e0d6dbd2f"
            }
          },
          "metadata": {}
        }
      ]
    },
    {
      "cell_type": "code",
      "source": [
        "!pip install sentence-transformers"
      ],
      "metadata": {
        "colab": {
          "base_uri": "https://localhost:8080/"
        },
        "id": "vTzvqBznmP2b",
        "outputId": "497e03ea-9670-42e8-bdd6-6cd30bc13335"
      },
      "execution_count": 10,
      "outputs": [
        {
          "output_type": "stream",
          "name": "stdout",
          "text": [
            "Requirement already satisfied: sentence-transformers in /usr/local/lib/python3.10/dist-packages (3.3.1)\n",
            "Requirement already satisfied: transformers<5.0.0,>=4.41.0 in /usr/local/lib/python3.10/dist-packages (from sentence-transformers) (4.47.1)\n",
            "Requirement already satisfied: tqdm in /usr/local/lib/python3.10/dist-packages (from sentence-transformers) (4.67.1)\n",
            "Requirement already satisfied: torch>=1.11.0 in /usr/local/lib/python3.10/dist-packages (from sentence-transformers) (2.5.1+cu121)\n",
            "Requirement already satisfied: scikit-learn in /usr/local/lib/python3.10/dist-packages (from sentence-transformers) (1.6.0)\n",
            "Requirement already satisfied: scipy in /usr/local/lib/python3.10/dist-packages (from sentence-transformers) (1.13.1)\n",
            "Requirement already satisfied: huggingface-hub>=0.20.0 in /usr/local/lib/python3.10/dist-packages (from sentence-transformers) (0.27.1)\n",
            "Requirement already satisfied: Pillow in /usr/local/lib/python3.10/dist-packages (from sentence-transformers) (11.1.0)\n",
            "Requirement already satisfied: filelock in /usr/local/lib/python3.10/dist-packages (from huggingface-hub>=0.20.0->sentence-transformers) (3.16.1)\n",
            "Requirement already satisfied: fsspec>=2023.5.0 in /usr/local/lib/python3.10/dist-packages (from huggingface-hub>=0.20.0->sentence-transformers) (2024.10.0)\n",
            "Requirement already satisfied: packaging>=20.9 in /usr/local/lib/python3.10/dist-packages (from huggingface-hub>=0.20.0->sentence-transformers) (24.2)\n",
            "Requirement already satisfied: pyyaml>=5.1 in /usr/local/lib/python3.10/dist-packages (from huggingface-hub>=0.20.0->sentence-transformers) (6.0.2)\n",
            "Requirement already satisfied: requests in /usr/local/lib/python3.10/dist-packages (from huggingface-hub>=0.20.0->sentence-transformers) (2.32.3)\n",
            "Requirement already satisfied: typing-extensions>=3.7.4.3 in /usr/local/lib/python3.10/dist-packages (from huggingface-hub>=0.20.0->sentence-transformers) (4.12.2)\n",
            "Requirement already satisfied: networkx in /usr/local/lib/python3.10/dist-packages (from torch>=1.11.0->sentence-transformers) (3.4.2)\n",
            "Requirement already satisfied: jinja2 in /usr/local/lib/python3.10/dist-packages (from torch>=1.11.0->sentence-transformers) (3.1.5)\n",
            "Requirement already satisfied: sympy==1.13.1 in /usr/local/lib/python3.10/dist-packages (from torch>=1.11.0->sentence-transformers) (1.13.1)\n",
            "Requirement already satisfied: mpmath<1.4,>=1.1.0 in /usr/local/lib/python3.10/dist-packages (from sympy==1.13.1->torch>=1.11.0->sentence-transformers) (1.3.0)\n",
            "Requirement already satisfied: numpy>=1.17 in /usr/local/lib/python3.10/dist-packages (from transformers<5.0.0,>=4.41.0->sentence-transformers) (1.26.4)\n",
            "Requirement already satisfied: regex!=2019.12.17 in /usr/local/lib/python3.10/dist-packages (from transformers<5.0.0,>=4.41.0->sentence-transformers) (2024.11.6)\n",
            "Collecting tokenizers<0.22,>=0.21 (from transformers<5.0.0,>=4.41.0->sentence-transformers)\n",
            "  Downloading tokenizers-0.21.0-cp39-abi3-manylinux_2_17_x86_64.manylinux2014_x86_64.whl.metadata (6.7 kB)\n",
            "Requirement already satisfied: safetensors>=0.4.1 in /usr/local/lib/python3.10/dist-packages (from transformers<5.0.0,>=4.41.0->sentence-transformers) (0.5.1)\n",
            "Requirement already satisfied: joblib>=1.2.0 in /usr/local/lib/python3.10/dist-packages (from scikit-learn->sentence-transformers) (1.4.2)\n",
            "Requirement already satisfied: threadpoolctl>=3.1.0 in /usr/local/lib/python3.10/dist-packages (from scikit-learn->sentence-transformers) (3.5.0)\n",
            "Requirement already satisfied: MarkupSafe>=2.0 in /usr/local/lib/python3.10/dist-packages (from jinja2->torch>=1.11.0->sentence-transformers) (3.0.2)\n",
            "Requirement already satisfied: charset-normalizer<4,>=2 in /usr/local/lib/python3.10/dist-packages (from requests->huggingface-hub>=0.20.0->sentence-transformers) (3.4.1)\n",
            "Requirement already satisfied: idna<4,>=2.5 in /usr/local/lib/python3.10/dist-packages (from requests->huggingface-hub>=0.20.0->sentence-transformers) (3.10)\n",
            "Requirement already satisfied: urllib3<3,>=1.21.1 in /usr/local/lib/python3.10/dist-packages (from requests->huggingface-hub>=0.20.0->sentence-transformers) (2.3.0)\n",
            "Requirement already satisfied: certifi>=2017.4.17 in /usr/local/lib/python3.10/dist-packages (from requests->huggingface-hub>=0.20.0->sentence-transformers) (2024.12.14)\n",
            "Downloading tokenizers-0.21.0-cp39-abi3-manylinux_2_17_x86_64.manylinux2014_x86_64.whl (3.0 MB)\n",
            "\u001b[2K   \u001b[90m━━━━━━━━━━━━━━━━━━━━━━━━━━━━━━━━━━━━━━━━\u001b[0m \u001b[32m3.0/3.0 MB\u001b[0m \u001b[31m24.2 MB/s\u001b[0m eta \u001b[36m0:00:00\u001b[0m\n",
            "\u001b[?25hInstalling collected packages: tokenizers\n",
            "  Attempting uninstall: tokenizers\n",
            "    Found existing installation: tokenizers 0.20.3\n",
            "    Uninstalling tokenizers-0.20.3:\n",
            "      Successfully uninstalled tokenizers-0.20.3\n",
            "\u001b[31mERROR: pip's dependency resolver does not currently take into account all the packages that are installed. This behaviour is the source of the following dependency conflicts.\n",
            "chromadb 0.5.23 requires tokenizers<=0.20.3,>=0.13.2, but you have tokenizers 0.21.0 which is incompatible.\u001b[0m\u001b[31m\n",
            "\u001b[0mSuccessfully installed tokenizers-0.21.0\n"
          ]
        }
      ]
    },
    {
      "cell_type": "code",
      "source": [
        "embedings = hf_embedings.embed_documents(docs)"
      ],
      "metadata": {
        "id": "ohIReNGOUatg"
      },
      "execution_count": null,
      "outputs": []
    },
    {
      "cell_type": "code",
      "source": [],
      "metadata": {
        "id": "oGY7HI10VGLz"
      },
      "execution_count": null,
      "outputs": []
    },
    {
      "cell_type": "code",
      "source": [],
      "metadata": {
        "id": "MI5xQ2B0VQmQ"
      },
      "execution_count": null,
      "outputs": []
    },
    {
      "cell_type": "markdown",
      "source": [
        "**Create a Vectore Data Base and Persist on disk**"
      ],
      "metadata": {
        "id": "ANR1_vZoVRqL"
      }
    },
    {
      "cell_type": "code",
      "source": [
        "from langchain_chroma import Chroma"
      ],
      "metadata": {
        "id": "TYln4oRVVYF5"
      },
      "execution_count": 14,
      "outputs": []
    },
    {
      "cell_type": "code",
      "source": [
        "chroma_db = Chroma.from_texts(texts = docs, collection_name = \"db_docs\",\n",
        "                              collection_metadata = {\"hnsw:space\": \"cosine\"},\n",
        "                              embedding_function = hf_embedings,)\n",
        "\n"
      ],
      "metadata": {
        "id": "eJiTNWMQVcVi",
        "colab": {
          "base_uri": "https://localhost:8080/",
          "height": 345
        },
        "outputId": "21c501f3-e7da-4c38-cdd3-b570743b660c"
      },
      "execution_count": 15,
      "outputs": [
        {
          "output_type": "error",
          "ename": "TypeError",
          "evalue": "langchain_chroma.vectorstores.Chroma() got multiple values for keyword argument 'embedding_function'",
          "traceback": [
            "\u001b[0;31m---------------------------------------------------------------------------\u001b[0m",
            "\u001b[0;31mTypeError\u001b[0m                                 Traceback (most recent call last)",
            "\u001b[0;32m<ipython-input-15-7ba0df27b1cb>\u001b[0m in \u001b[0;36m<cell line: 1>\u001b[0;34m()\u001b[0m\n\u001b[0;32m----> 1\u001b[0;31m chroma_db = Chroma.from_texts(texts = docs, collection_name = \"db_docs\",\n\u001b[0m\u001b[1;32m      2\u001b[0m                               \u001b[0mcollection_metadata\u001b[0m \u001b[0;34m=\u001b[0m \u001b[0;34m{\u001b[0m\u001b[0;34m\"hnsw:space\"\u001b[0m\u001b[0;34m:\u001b[0m \u001b[0;34m\"cosine\"\u001b[0m\u001b[0;34m}\u001b[0m\u001b[0;34m,\u001b[0m\u001b[0;34m\u001b[0m\u001b[0;34m\u001b[0m\u001b[0m\n\u001b[1;32m      3\u001b[0m                               embedding_function = hf_embedings,)\n\u001b[1;32m      4\u001b[0m \u001b[0;34m\u001b[0m\u001b[0m\n",
            "\u001b[0;32m/usr/local/lib/python3.10/dist-packages/langchain_chroma/vectorstores.py\u001b[0m in \u001b[0;36mfrom_texts\u001b[0;34m(cls, texts, embedding, metadatas, ids, collection_name, persist_directory, client_settings, client, collection_metadata, **kwargs)\u001b[0m\n\u001b[1;32m   1162\u001b[0m             \u001b[0mChroma\u001b[0m\u001b[0;34m:\u001b[0m \u001b[0mChroma\u001b[0m \u001b[0mvectorstore\u001b[0m\u001b[0;34m.\u001b[0m\u001b[0;34m\u001b[0m\u001b[0;34m\u001b[0m\u001b[0m\n\u001b[1;32m   1163\u001b[0m         \"\"\"\n\u001b[0;32m-> 1164\u001b[0;31m         chroma_collection = cls(\n\u001b[0m\u001b[1;32m   1165\u001b[0m             \u001b[0mcollection_name\u001b[0m\u001b[0;34m=\u001b[0m\u001b[0mcollection_name\u001b[0m\u001b[0;34m,\u001b[0m\u001b[0;34m\u001b[0m\u001b[0;34m\u001b[0m\u001b[0m\n\u001b[1;32m   1166\u001b[0m             \u001b[0membedding_function\u001b[0m\u001b[0;34m=\u001b[0m\u001b[0membedding\u001b[0m\u001b[0;34m,\u001b[0m\u001b[0;34m\u001b[0m\u001b[0;34m\u001b[0m\u001b[0m\n",
            "\u001b[0;31mTypeError\u001b[0m: langchain_chroma.vectorstores.Chroma() got multiple values for keyword argument 'embedding_function'"
          ]
        }
      ]
    },
    {
      "cell_type": "code",
      "source": [
        "from langchain.vectorstores import Chroma\n",
        "\n",
        "chroma_db = Chroma.from_texts(\n",
        "    texts=docs,\n",
        "    collection_name=\"db_docs\",\n",
        "    collection_metadata={\"hnsw:space\": \"cosine\"},  # Optional metadata\n",
        "    embedding= hf_embedings # Pass as 'embedding' instead of 'embedding_function'\n",
        ")"
      ],
      "metadata": {
        "id": "Xub49LZwV6BM"
      },
      "execution_count": 12,
      "outputs": []
    },
    {
      "cell_type": "code",
      "source": [],
      "metadata": {
        "id": "OQ_oncFJV8y7"
      },
      "execution_count": null,
      "outputs": []
    },
    {
      "cell_type": "code",
      "source": [],
      "metadata": {
        "id": "IKJzAYz7H8cv"
      },
      "execution_count": null,
      "outputs": []
    },
    {
      "cell_type": "markdown",
      "source": [
        "**Vectore Database Retrievers**\n",
        "\n",
        "1. Similarity or ranking based retrievel\n",
        "\n",
        "2. similarity with threshold retrievel\n",
        "\n",
        "3. Custom Retriever with similarity Scores + thresholding\n",
        "\n",
        "4. Multi Query Retrival\n",
        "\n",
        "5. Contextual Comparesion Retrieval\n",
        "\n",
        "6. Ensemble Retrieval"
      ],
      "metadata": {
        "id": "Glx4rdRCH-7-"
      }
    },
    {
      "cell_type": "code",
      "source": [],
      "metadata": {
        "id": "SHdyBV5lH8fo"
      },
      "execution_count": null,
      "outputs": []
    },
    {
      "cell_type": "markdown",
      "source": [
        "**Similarity or ranking based retrieval**\n",
        "\n",
        "we use cosine similarity here and retrieve the top 3 similart documents based on the user input"
      ],
      "metadata": {
        "id": "2-W2shfAIrw9"
      }
    },
    {
      "cell_type": "code",
      "source": [
        "similarity_retriver = chroma_db.as_retriever(\n",
        "                                search_type = \"similarity\",\n",
        "                                search_kwargs = {\"k\":3})"
      ],
      "metadata": {
        "id": "oRhRa8EhH8jC"
      },
      "execution_count": null,
      "outputs": []
    },
    {
      "cell_type": "code",
      "source": [
        "query = \"what is langchain ?\"\n",
        "top3_docs = similarity_retriver.invoke(query)"
      ],
      "metadata": {
        "id": "ANMdx6vFH8mc"
      },
      "execution_count": null,
      "outputs": []
    },
    {
      "cell_type": "code",
      "source": [
        "top3_docs"
      ],
      "metadata": {
        "colab": {
          "base_uri": "https://localhost:8080/"
        },
        "id": "zhAh8MbuH8pu",
        "outputId": "34ece753-9016-423c-887d-f424835ca7f3"
      },
      "execution_count": null,
      "outputs": [
        {
          "output_type": "execute_result",
          "data": {
            "text/plain": [
              "[Document(page_content='Introduction to LangChain and its purpose'),\n",
              " Document(page_content='Use Cases and Applications of LangChain in AI-powered systems'),\n",
              " Document(page_content='Agents and Tools in LangChain for dynamic task execution')]"
            ]
          },
          "metadata": {},
          "execution_count": 21
        }
      ]
    },
    {
      "cell_type": "code",
      "source": [
        "query = \"tell me about langchain ?\"\n",
        "top3_docs = similarity_retriver.invoke(query)"
      ],
      "metadata": {
        "id": "ifbp2OJpH8sn"
      },
      "execution_count": null,
      "outputs": []
    },
    {
      "cell_type": "code",
      "source": [
        "top3_docs"
      ],
      "metadata": {
        "colab": {
          "base_uri": "https://localhost:8080/"
        },
        "id": "1KdRvxrhH8vz",
        "outputId": "c7926d3e-3be9-4a7b-a069-ae666473af45"
      },
      "execution_count": null,
      "outputs": [
        {
          "output_type": "execute_result",
          "data": {
            "text/plain": [
              "[Document(page_content='Introduction to LangChain and its purpose'),\n",
              " Document(page_content='Use Cases and Applications of LangChain in AI-powered systems'),\n",
              " Document(page_content='Agents and Tools in LangChain for dynamic task execution')]"
            ]
          },
          "metadata": {},
          "execution_count": 23
        }
      ]
    },
    {
      "cell_type": "code",
      "source": [],
      "metadata": {
        "id": "DlJ_OtrVH8zV"
      },
      "execution_count": null,
      "outputs": []
    },
    {
      "cell_type": "markdown",
      "source": [
        "We use maximum marginal relevance ranking here and retrive the top3 similar documents based on the user input query"
      ],
      "metadata": {
        "id": "-SC7lyTOKON_"
      }
    },
    {
      "cell_type": "code",
      "source": [
        "mmr_retirver = chroma_db.as_retriever(search_type = \"mmr\",\n",
        "                                      search_kwargs = {\"k\":3 , \"fetch_k\":10})\n",
        "\n",
        "#k =3 means select the top 3 doc from the outof top 10 doc from --> fetch_k = 10 means outof top 10 most relevant documents"
      ],
      "metadata": {
        "id": "FHlp1FxiH82v"
      },
      "execution_count": null,
      "outputs": []
    },
    {
      "cell_type": "code",
      "source": [
        "query = \"tell me about Agents ?\"\n",
        "top3_docs = similarity_retriver.invoke(query)"
      ],
      "metadata": {
        "id": "NdK5uO0MH86f"
      },
      "execution_count": null,
      "outputs": []
    },
    {
      "cell_type": "code",
      "source": [
        "top3_docs"
      ],
      "metadata": {
        "colab": {
          "base_uri": "https://localhost:8080/"
        },
        "id": "CyeuESTqH89y",
        "outputId": "798b07a3-a96e-48d2-95c6-6b28001fe52d"
      },
      "execution_count": null,
      "outputs": [
        {
          "output_type": "execute_result",
          "data": {
            "text/plain": [
              "[Document(page_content='Agents and Tools in LangChain for dynamic task execution'),\n",
              " Document(page_content='Memory and State Management for maintaining conversation context'),\n",
              " Document(page_content='Prompt Templates for creating structured model inputs')]"
            ]
          },
          "metadata": {},
          "execution_count": 26
        }
      ]
    },
    {
      "cell_type": "code",
      "source": [],
      "metadata": {
        "id": "29GOO3BjH9BR"
      },
      "execution_count": null,
      "outputs": []
    },
    {
      "cell_type": "markdown",
      "source": [
        "**similarity with threshold retrievel**"
      ],
      "metadata": {
        "id": "uwR52IKHMgff"
      }
    },
    {
      "cell_type": "markdown",
      "source": [
        "We use cosine similarity and retrive the top 3 similar documents based on the user input query and also introduce a cuttoff to not return any documents which are below a certain similarity threshold"
      ],
      "metadata": {
        "id": "vnP4W2FKMwmf"
      }
    },
    {
      "cell_type": "code",
      "source": [
        "similarity_threshold_retriver = chroma_db.as_retriever(search_type = \"similarity_score_threshold\",\n",
        "                                                      search_kwargs = {\"k\":3, \"score_threshold\":0.3},)"
      ],
      "metadata": {
        "id": "tDHB_TozLd3-"
      },
      "execution_count": null,
      "outputs": []
    },
    {
      "cell_type": "code",
      "source": [
        "query = \"tell me about Agents ?\"\n",
        "top3_docs = similarity_threshold_retriver.invoke(query)"
      ],
      "metadata": {
        "id": "4joJXRI9Ld-Z"
      },
      "execution_count": null,
      "outputs": []
    },
    {
      "cell_type": "code",
      "source": [
        "top3_docs"
      ],
      "metadata": {
        "colab": {
          "base_uri": "https://localhost:8080/"
        },
        "id": "i6YR2Ig_LeF5",
        "outputId": "66dd2a3c-baaa-40ce-86d9-71e37c753980"
      },
      "execution_count": null,
      "outputs": [
        {
          "output_type": "execute_result",
          "data": {
            "text/plain": [
              "[Document(page_content='Agents and Tools in LangChain for dynamic task execution'),\n",
              " Document(page_content='Memory and State Management for maintaining conversation context'),\n",
              " Document(page_content='Prompt Templates for creating structured model inputs')]"
            ]
          },
          "metadata": {},
          "execution_count": 30
        }
      ]
    },
    {
      "cell_type": "code",
      "source": [
        "query = \"tell me about prompt templates and management?\"\n",
        "top3_docs = similarity_threshold_retriver.invoke(query)"
      ],
      "metadata": {
        "id": "sYchgrv_LeJH"
      },
      "execution_count": null,
      "outputs": []
    },
    {
      "cell_type": "code",
      "source": [
        "top3_docs"
      ],
      "metadata": {
        "colab": {
          "base_uri": "https://localhost:8080/"
        },
        "id": "6OmGmvBgLeMH",
        "outputId": "ce480acc-6373-4003-8f8d-da2f5fdd0946"
      },
      "execution_count": null,
      "outputs": [
        {
          "output_type": "execute_result",
          "data": {
            "text/plain": [
              "[Document(page_content='Prompt Templates for creating structured model inputs'),\n",
              " Document(page_content='Agents and Tools in LangChain for dynamic task execution'),\n",
              " Document(page_content='Memory and State Management for maintaining conversation context')]"
            ]
          },
          "metadata": {},
          "execution_count": 32
        }
      ]
    },
    {
      "cell_type": "code",
      "source": [],
      "metadata": {
        "id": "iPoZMwTXLeQJ"
      },
      "execution_count": null,
      "outputs": []
    },
    {
      "cell_type": "markdown",
      "source": [
        "**Custom Retriever with similarity Scores + thresholding**"
      ],
      "metadata": {
        "id": "4MNpa18MO72-"
      }
    },
    {
      "cell_type": "markdown",
      "source": [
        "Here we will create a custom retriver which will:\n",
        "\n",
        "1. Retrieve documents with cosine distance\n",
        "\n",
        "2. Convert to similarity score and apply thresholding\n",
        "\n",
        "3. Return top k documents above a similarity threshold"
      ],
      "metadata": {
        "id": "IoMtvkUkPBUa"
      }
    },
    {
      "cell_type": "code",
      "source": [
        "query = \"tell something about agents\""
      ],
      "metadata": {
        "id": "9-gHlbYQLeSq"
      },
      "execution_count": null,
      "outputs": []
    },
    {
      "cell_type": "code",
      "source": [
        "chroma_db.similarity_search_with_score(query, k =3)  # it return the cosine distance.(0.4379398226737976)"
      ],
      "metadata": {
        "colab": {
          "base_uri": "https://localhost:8080/"
        },
        "id": "l_Z1g1Z0LeV5",
        "outputId": "af3af103-d65f-4d27-c8d5-407cc1d78d14"
      },
      "execution_count": null,
      "outputs": [
        {
          "output_type": "execute_result",
          "data": {
            "text/plain": [
              "[(Document(page_content='Agents and Tools in LangChain for dynamic task execution'),\n",
              "  0.4379398226737976),\n",
              " (Document(page_content='Memory and State Management for maintaining conversation context'),\n",
              "  0.5158629417419434),\n",
              " (Document(page_content='Use Cases and Applications of LangChain in AI-powered systems'),\n",
              "  0.5296663045883179)]"
            ]
          },
          "metadata": {},
          "execution_count": 34
        }
      ]
    },
    {
      "cell_type": "code",
      "source": [
        "chroma_db._select_relevance_score_fn()"
      ],
      "metadata": {
        "colab": {
          "base_uri": "https://localhost:8080/",
          "height": 120
        },
        "id": "uoAjsMP9LeZo",
        "outputId": "9c941db6-b12d-43c5-dd4e-6a0a0d0baa9f"
      },
      "execution_count": null,
      "outputs": [
        {
          "output_type": "execute_result",
          "data": {
            "text/plain": [
              "<function langchain_core.vectorstores.base.VectorStore._cosine_relevance_score_fn(distance: 'float') -> 'float'>"
            ],
            "text/html": [
              "<div style=\"max-width:800px; border: 1px solid var(--colab-border-color);\"><style>\n",
              "      pre.function-repr-contents {\n",
              "        overflow-x: auto;\n",
              "        padding: 8px 12px;\n",
              "        max-height: 500px;\n",
              "      }\n",
              "\n",
              "      pre.function-repr-contents.function-repr-contents-collapsed {\n",
              "        cursor: pointer;\n",
              "        max-height: 100px;\n",
              "      }\n",
              "    </style>\n",
              "    <pre style=\"white-space: initial; background:\n",
              "         var(--colab-secondary-surface-color); padding: 8px 12px;\n",
              "         border-bottom: 1px solid var(--colab-border-color);\"><b>langchain_core.vectorstores.base.VectorStore._cosine_relevance_score_fn</b><br/>def _cosine_relevance_score_fn(distance: float) -&gt; float</pre><pre class=\"function-repr-contents function-repr-contents-collapsed\" style=\"\"><a class=\"filepath\" style=\"display:none\" href=\"#\">/usr/local/lib/python3.10/dist-packages/langchain_core/vectorstores/base.py</a>Normalize the distance to a score on a scale [0, 1].</pre>\n",
              "      <script>\n",
              "      if (google.colab.kernel.accessAllowed && google.colab.files && google.colab.files.view) {\n",
              "        for (const element of document.querySelectorAll('.filepath')) {\n",
              "          element.style.display = 'block'\n",
              "          element.onclick = (event) => {\n",
              "            event.preventDefault();\n",
              "            event.stopPropagation();\n",
              "            google.colab.files.view(element.textContent, 415);\n",
              "          };\n",
              "        }\n",
              "      }\n",
              "      for (const element of document.querySelectorAll('.function-repr-contents')) {\n",
              "        element.onclick = (event) => {\n",
              "          event.preventDefault();\n",
              "          event.stopPropagation();\n",
              "          element.classList.toggle('function-repr-contents-collapsed');\n",
              "        };\n",
              "      }\n",
              "      </script>\n",
              "      </div>"
            ]
          },
          "metadata": {},
          "execution_count": 36
        }
      ]
    },
    {
      "cell_type": "code",
      "source": [
        "#convert cosine distance to similarity; cosine_similarty = 1 - cosine_distance\n",
        "\n",
        "cosine_sim = chroma_db._select_relevance_score_fn()\n",
        "cosine_sim(0.437939)"
      ],
      "metadata": {
        "colab": {
          "base_uri": "https://localhost:8080/"
        },
        "id": "neP4ELD4Lecf",
        "outputId": "c96e6e82-28c3-45f3-e521-0093c1f74939"
      },
      "execution_count": null,
      "outputs": [
        {
          "output_type": "execute_result",
          "data": {
            "text/plain": [
              "0.5620609999999999"
            ]
          },
          "metadata": {},
          "execution_count": 37
        }
      ]
    },
    {
      "cell_type": "code",
      "source": [],
      "metadata": {
        "id": "bENYpY1HLejJ"
      },
      "execution_count": null,
      "outputs": []
    },
    {
      "cell_type": "code",
      "source": [
        "from typing import List\n",
        "from langchain_core.documents import Document\n",
        "from langchain_core.runnables import chain\n",
        "\n",
        "\n",
        "@chain\n",
        "def custom_retriever(query :str , top3= 3 , threshold_score = 0.3) -> List[Document]:\n",
        "  cosine_sim = chroma_db._select_relevance_score_fn()\n",
        "  docs , scores = zip(*chroma_db.similarity_search_with_score(query, k = top3))\n",
        "  final_doc = []\n",
        "\n",
        "  for doc , score in zip(docs, scores):\n",
        "    score = cosine_sim(score)\n",
        "    doc.metadata[\"Score\"] = round(score, 3)\n",
        "    if score > threshold_score:\n",
        "      final_doc.append(doc)\n",
        "  return final_doc"
      ],
      "metadata": {
        "id": "LASvai2iLemx"
      },
      "execution_count": null,
      "outputs": []
    },
    {
      "cell_type": "code",
      "source": [
        "query = \"what is langchain ?\""
      ],
      "metadata": {
        "id": "PHaH7VNzLeqO"
      },
      "execution_count": null,
      "outputs": []
    },
    {
      "cell_type": "code",
      "source": [
        "custom_retriever.invoke(query , top3 = 2, threshold_score = 0.5)"
      ],
      "metadata": {
        "colab": {
          "base_uri": "https://localhost:8080/"
        },
        "id": "igMYT4a3H9Eu",
        "outputId": "3ee1cb04-7e4a-44c9-95a2-605448621c90"
      },
      "execution_count": null,
      "outputs": [
        {
          "output_type": "execute_result",
          "data": {
            "text/plain": [
              "[Document(metadata={'Score': 0.869}, page_content='Introduction to LangChain and its purpose'),\n",
              " Document(metadata={'Score': 0.757}, page_content='Use Cases and Applications of LangChain in AI-powered systems')]"
            ]
          },
          "metadata": {},
          "execution_count": 53
        }
      ]
    },
    {
      "cell_type": "code",
      "source": [
        "custom_retriever.invoke(\"what is agent\", top3 = 3, threshold_score = 0.4)"
      ],
      "metadata": {
        "colab": {
          "base_uri": "https://localhost:8080/"
        },
        "id": "GSQRZRmZlEgy",
        "outputId": "aa770f49-fd26-4564-8a55-587fec2c351a"
      },
      "execution_count": null,
      "outputs": [
        {
          "output_type": "execute_result",
          "data": {
            "text/plain": [
              "[Document(metadata={'Score': 0.562}, page_content='Agents and Tools in LangChain for dynamic task execution'),\n",
              " Document(metadata={'Score': 0.426}, page_content='Use Cases and Applications of LangChain in AI-powered systems'),\n",
              " Document(metadata={'Score': 0.424}, page_content='Introduction to LangChain and its purpose')]"
            ]
          },
          "metadata": {},
          "execution_count": 54
        }
      ]
    },
    {
      "cell_type": "code",
      "source": [],
      "metadata": {
        "id": "l-AwluAplEkK"
      },
      "execution_count": null,
      "outputs": []
    },
    {
      "cell_type": "markdown",
      "source": [
        "**Multi Query Retrieval**"
      ],
      "metadata": {
        "id": "IFBfnTXNobYN"
      }
    },
    {
      "cell_type": "markdown",
      "source": [
        "![Screenshot 2025-01-08 120632.png](data:image/png;base64,iVBORw0KGgoAAAANSUhEUgAAA4wAAACoCAYAAACrH2AfAAAAAXNSR0IArs4c6QAAAARnQU1BAACxjwv8YQUAAAAJcEhZcwAADsMAAA7DAcdvqGQAAP+lSURBVHhe7P0HtF3HdR9wH1QCJArBCvbeu8QmUSIpiVTvzbZkebklWYkTx6krK07yOZ/zrZWV5RQ7bpEtW5atRqqQkkiKYu+k2Al2gA0kWNAIAiB6+eY35228eQf3vgKAIEjNnzy455yZ2bPb7Jk959z7xm1OaCoqKioqKioqKioqKioqOhg/8FlRUVFRUVFRUVFRUVFRMQQ1YayoqKioqKioqKioqKjoiZowVlRUVFRUVFRUVFRUVPRETRgrKioqKioqKioqKioqeqImjBUVFRUVFRUVFRUVFRU9URPGioqKioqKioqKioqKip6oCWNFRUVFRUVFRUVFRUVFT9SEsaKioqKioqKioqKioqIndvmEcfPmzfmo2DGo+qyoqKioqKioqKioGC3eEk8Yx40bN3D2xqBXAhX3xppc1WRseIxGPztah+hVu1RUVFRUVFRUVFSMHW96wjjSQn57F/pl+160+tGPJHXTpk356Nd2JPrbi6DZ7SvQ7/5wCNmibZfGaOlFvV40+qGb/Jdt4nxHbxCU9Lr99eq/oqKioqKioqKioqLFuLRIflNWybpdu3ZtPqZMmdLstttuAyUtSrY2btzYrF69upk4cWKuO5aEYvny5c2qVauaWbNmbdVHCfVWrFiR6+2+++75XvAgYYQJEybkT9dr1qzJdNXZY489trTZkUDbMX78js3rN2zYkPW5fv36fA76mDp1aj7K/vTfS98lb906/doEVq5c2bz22mvNjBkzmmnTpm2pqx2Mxb6jQUmXvGxN9pkzZ2Z/gpF4rqioqKioqKioqPhFxIQ/SBg4HzO2Z5Et6Xr44YebG264IZ/vt99+OfkIeuXn/Pnzm2uuuaZZtmxZc9BBB+XEsdt3P17uvvvu5sorr2wOPPDAZq+99srJp6Rh3bp1mQ5od8cddzQ/+clPmr333ruZPXv2FnolTefavvDCC83Pf/7z5p577mnmzp3bLFmyZEvSGMnWaHUzXL2436t8tPS70O6VV17Jeqf/J598Mh/z5s1rXn755Wby5MnN9OnTt8gxGt7Yjz4l0XTqXr92+p8zZ05z6aWXZn0deuihAyVD0a/9aFHqJ/hxD6+XX355tt9JJ52UE+SoA9uq14qKioqKioqKioq3I4Y8urJYHg2i3vYsrCUkN910U/Mf/+N/bP7qr/4qJ2Fdeq49Cbruuuua//yf/3PzjW98Iz/Vi7ISrnvx//jjjzc/+9nPMn3wRPOxxx7LCaJzCQT49IQxnriV9J3jV50nnnii+Zu/+ZvmH/7hH5oHH3wwH9/97nebv/7rv86Jl4Q02owGI9XrVz5a+l3QET7/8i//Mifh5KEPcnzve99r/uIv/qJ59NFHR+ULwYO6ksAbb7wxP7l0v197ZWz66quv5iSzhLI4the9aLg3adKk5tZbb80+wf4VFRUVFRUVFRUVFf0xJGG0oI6Epx8iwYLRJBX9oC/JheO+++5r7r333iG0Af3nn3++ueWWW5qlS5cOSeh8SjzKNmi6logEb+q5F0/MXn/99eaqq65qvva1r2Wa0eY973lP86//9b9uTjzxxFyvlE0dx4IFC5r/9//+X/PAAw80H/zgB5t//I//cT7e//7353uSRk/vAE38SUpKWu67h0fnJfDqKZ3y0g7qlfL6dO1Ap6yrL4f73YQM6MHroPR+0UUXNb/7u7/b/NN/+k/zQSaJNBnpqUTQLJNscO7+tddem5NoTynxo37w6tM9suH5tNNOa/7tv/23zTnnnDNAZRDq4w3NUm/ua1/eg9BZVwf4REd5tw2oz6Zd9LpXUVFRUVFRUVFR8YuKnEXFglqS8Mgjj+RXLHvBIt7TKEncjoCF/qmnnpr7v/POO/MiH4Ifn7fddlvzzDPPNGeddVZ+OhRPGD0x9Epl8Bpt8CYBDVq+dyhJ8pol+TxV8xrpiy++mGn7lNB44iUhlGQAekETJBhe47z//vubL37xi81v/MZvNKecckp+rfErX/lK86UvfSnL4GmodnSFb4mkZCeAPr7xEIkVSIbVxZOkzVO+kpfnnnsuvwL79NNP5/KHHnqoWbhwYW6DVskrWbxy+eyzzw7cGYR65PXq6cEHH5xf1T3yyCObY445pvnyl7/cXHDBBfkJnNeAA+ykD6/3oos3/MLixYtzfXwtWrQoJ/f0KFGTPNsIeOqpp/KnJ8q+P+g7jHgL+QBf6usDPZ94CN2h4Z62EPLq19PRoKXc67V33XVXpkNn6Jb6KV9FrqioqKioqKioqKjoj5wwxsJZsvUnf/Inzbe+9a2cdEAstC3cLfr/+3//7/m7frC9C25J3fHHH5+f6klIuomPREWCss8++zTvfve7c4IVCaP7Xg31SiXgRdsrrrgi3/cUDdzTTuIowfIkTPLl+5BeoZR4SSAke3/0R3+Ukw2QZJbyoadPidXFF188cLeFeh/+8Iebfffdt7n++utz8uLe1Vdf3Xzzm9/cwjNIWn/4wx9mPvGmnqRXIvunf/qnzY9//OPmBz/4QT6XPKqPd0niH/7hHzZ/93d/1/zZn/1Zrudpntdh2SsSZPTIon3opoRkUeKt7zJhC0giJV0SO8A7udHzyuqPfvSj/Nqqp7R0Ikn0eqfETRtJmoRSQippo9O//du/za8dewIZmw7u86cAm5Djq1/9av7O6Xe+8538xFZyDZJFTz71A/gn8yWXXJIPNsQ3nasXvP75n/95/r4kPgPq0ikaXfS6V1FRUVFRUVFRUfGLiiGvpPoREgt6i3aLbAmBBMTTIk+yLPIt4Pfcc8/tXlhrL3mxcJeA6Vsiqi99gu/FvfTSS815552Xf1QGb1EmOZEwlcmYMomBp4/lUz19SI48Tfvc5z7XHH300TkJ/cQnPpFfjwTJhidRkXiVwKsEGt2jjjoqP60MKHPgD138Ovwiq6dvaEp8A3hBS3IuKdX2sssuyz/Ecvjhhzef/vSn86uh2ntt1tNS8PosG3iy97GPfax573vfm38wJhKzSIjQk1zqu9cPyuhTAg10Qn8+Jab06UmedgcccECuI1GT9NKtV1i9fkuPvk8qOSTzJz/5yZz4+8VTOn3nO9+Z2/IfT2QlxJ5cko3eyUAH8bRQ3xJK8p155pmZBptLLP/+7/8+83jEEUfkNp4Y8htyeALJH137tVO8S6DZgk/p7+STT25++tOfNjfffHPWDZCf3noh/KuioqKioqKioqKiopMwHnLIIc2/+Bf/ojnuuOPykxlJjMRD4iZZ9Iql8o9+9KNbFt/bCgtzi3yJ0Dve8Y78eqfkpHzF1CuMEgNJikROm1joSwglCo4SEjKIhb/2nij5lIR5Uinp23///fN36PzqKuhPIiFhDZQy6l+ZxNYTuhL6ckgkJbWRxAa9ko56kfDEUzFPyPDxe7/3e83pp5+ek6V/8k/+SU4CveIakKh//OMfb37t136tOf/883PydfbZZ+eEK57WSdK8Vkyn8X3MEvrXLx7YlY4lU55wfv3rX8/J7q/+6q/mJ414l4Ch/x/+w3/I3/PE2z/7Z/8s284TWvo+99xzc7LrF2YlfJ60Armdf+pTn8o0Jevqo1vqxRNJr7J+6EMfyrLhXVL8gQ98IJd5Uvqud70rvzp7++23b3kdVqIc/gF8Q7Lt+5F49Rrzr/zKr2S7k1WfUCbwFRUVFRUVFRUVFRX9MSRhlExYrP+X//Jf8hMdr/Z5LVCy6JVBiYIFuMTFQn17YYEvGfEnNSzwJU9eEYV4BfSEE07IiY8ySQ4eQbIRRwnleIv73ToSFuXxlC0Q7coENPryGTSifaDLD3RpdHUl2ZW0gSeNXpWVmHvN09Mwr6tKhujGE0rQryTtsMMOy9fa60+i7c+FeH2VTJ7SoSUxDt5KaCPhlTzRtaebXm/1mqtXOCVfv/RLv5T780TPJoFPCalXTx14lBRL9n2yYyTwZZ/68LRPMhnQf+g/Em+/2ioJ9MRQguy1Uq/2Sl69Osz38GMjw1NEOkPHk1RPNSWTwFckpcolwJJhr7eijbfSPvrvpZ+KioqKioqKioqKikFslfVZmPshGk+UPGX6P//n/+Tv9f3O7/xO/mGX+Lt1OwIW7ZE8nHHGGfk1SE+aPKXzPTxPGz0xkpB4KhRPiCAW+91Fv6SgvOfaEUlcJA0+4ymXo5vUdSG5wYcEqXzdNeiRwWuyEiRJTNCkT/xE/86VBY9eB5UISo68fuoHXLxm6cma70uyBcT3Dkug4ZVQr4B6fRMNiZ0EXMIYSWkX9KvM5oAnlp4AeqV01qxZeaMA/yBRJIOE1g/+eB3UgU9PE73uGXrDSxwB53RMN4GoXyaXEmNPcMmMPvltFkgWPbH0JBU8TdVv/DCTw2ZClKvvqbjXWCWh/qSKp5PoQ/SHh5LPioqKioqKioqKiore6JslWahLEj/zmc80v/Vbv9V84QtfyK9jSlq6icu2QiIhAfU0ccaMGfnVRkmDhMETM68z4iOSrXKh77MXL2ViFnCvV7IVdZSjXSY2gWjnKZ6E1o+uxGuzJSRXnn75fp/XXSVKEkFAI/gKetG3RFBSeeGFFza/+Zu/mX999R/9o3/U/PZv/3bzn/7Tf8rfDwTtujIEvHqJnqdqnghK5CSNXUR7CSO9S8B8X9D3/f7Vv/pXORn79re/nZ8cgjraSFo9XcabX4TlD7//+7+ffy2WT5BNAkqOksfQaxe9ZPHUGi/68FqqfvT57/7dv9uSNEugbSx4iurHi8joqSLoy+uqXqGVRH/+85/PdOhUElz22cvOFRUVFRUVFRUVFRVbo2fCaGFtoe87fv5gvsV3mfyUydj2wCLfU7t4cui1VPAarO+cSRZ9/8zTRckInmLR70meJ32efgUkOl7HlBCoD+pHslbCfUkOWSKp6VUv4CmWp3YSMj/2Er8iqr3XZT2B84RLHU/o0JIEu6duvEKKX/W1U0dSHD+QI2k69thj83csPd2VsMUTXXX76V1C5ft9flnUD/N4clhCv6E3NOjHk824B9r7XqSEXTIGEkhyxxNVr4T6MyJei8UXn6A7CahPPJY0nXeTyDgnc+hbQkdX+KIPiWE88YTwPde+4+nJoSeJvnMbr+jikc/49AM72s+cOTN/r5SsXeCj5KuioqKioqKioqKiYmv0TBglFRbTFvWemFl4B6JsRy220YuEQKIkIfBnJySJ8WMmILlwRHInyZBAeKokUZDo+O6bVzqhTK60i9czJaiSE08EPcn0y6AgWSFT0A8EHWV+hEXS5M8/+J6h9vr23T9/OkLiFjzTnYTG65CSSXW9Sun7gp5ERn+eWvqBF3T88ig5vEbph2j8Uq12oH4/eNLmyZvvJKoXv1LaC2E7r4BGwhbwY0YSLcmYxNbTQ7806juA/qwG/vFG5/5EBp6Bbj2B9eSV/r0aC+jjp7QFSOrKe2zue4i+H0mvXq91+NMYfCFeKQW/amuDwRNo342M70fSNz14ZRh/8XorPn0HEi/kBjbWf5cviDoVFRUVFRUVFRUVFcO8kloupi2wd/RCGj1P4iSjFvvgqaGnmj69ZulpFihX1xM4CR/4sRevy0ps/sf/+B/NH//xH+ckQTIocYh6noRpF3144iWhkmz+3//7f3MyR1YyepVUkgS95FX+z//5P8+vfEr8/uf//J/5B4HQkUj5BVF9R1v9SCD9SAweJZV+2EUSXv5pDt8N9RTXq5b/63/9r/wLtZIniXT8eQs6iSduXZDVk0lPBD3hLH/5tYt4VRat0Il6Dn15yui1W09RwXcc/dCRpI2c8XcN1fcUFCSMngbr199oxHvcl0hGsg50zQZsEhsFniqypaecklXfm5Wg+u7s7Nmzt3ynEtSlf32pHzTw40+N8B802EXyKTmlG/3Gn0wJXXY3B6BXEllRUVFRUVFRUVHxi4oJf5AwcD4EsXC2EHfuKM+jfFuBllcZJSme2sWrl5IDCZU/seAzINHxNEkSKdGRKHgdUYLo6ZFkyd8J9KTNd9gkCb4fqA9JhidTkkHJitcsI/lC0yuQnoRJbjwlRDPQlRsttCU8aEkQ0dDen8HAk3uSEXQkNepp6/t2vqcpqcGjv3foPpnRVB+/eJNsfuQjH8lPKfWPHrrkCF1pG5CISpglXp7UBso6EE8VyeoHY8gTUKZvfEgGyYV3n6499cWrdhLJsh/6l1CjoT6b4lvCR25JWsB9CXP8YA0etaUT/dEl2/tupSSQrdXRTjnds5NNAzaNMnzH34NEQx0+gS458Su5ljiyC774SFdHFRUVFRUVFRUVFRUtxqWFds9Hh26/kQvpeEXQpydQ0ZfruBc8+PSkyL142lny5toRZZLLoImWthKDXk+UJBaSEIh6oB306g/KPvXnB2e8UirJ+fKXv7zl6R2op5/ov+QPurQD2gFegkcI3sC5p6z+huKLL77Y/Pt//+9zktmLX1DfEdchb8D9oB82gJKee3Fdnge0L3Ud9NQNfdKBc3J1aUe9EnFfXfR8dttFG+UO/Md1r/oO6PZVUVFRUVFRUVFRUdGib8L4RkO33QV8IO5b6EeCAXE/2nZp9IN6kRj2qt+lD72SjBLBG2jv8B0/iaLvV3YTMcADRPI3Ev/Kg49SD9G3pMursL7n5/Ozn/1s/hMZZXIZfURbcI0GBB2fUa+Uq5/eunTjPOqV+umirAdBo4R7ZfuoE23LvgNdHgLlvbJNWS/ud9tWVFRUVFRUVFRU/CLjTXu00mtRLzkpF/Zl4lKi16K+WwfKJKB8oteF5CYSqIC6/epD2Z9zdb0iGa/C9oLEa7gkqovgoctH3KMvP+zibw5++MMfzq9flskidNtC8BtloRtHl79eySKU+greSxmGK0evrAuuHVEmie0i+Ava6jl3P3gs6cZ5eS/od8tKGhUVFRUVFRUVFRUVLd60J4xdlAv3LpSV97vXga4orvslaCW6fXevu1DuUO6I8xIj0RgtJIVkKOkEbZ9+5dUvg/ouaHyfrxeiTT9Eu1KWSMy6OlQn6gVddbr3ynOI8kCUd+9D3Ot1P9CvXfAC0UecQ7esS6OioqKioqKioqKiosUukzD2Qr/FfNzvlpfXIVZ53YtWL3TbdjFc+Uj9jIUP6D5Bg7HSCH77oaTnPBLESBh79V9+dnlxXZY5d0Q95736CJTtuyjpBKJu3C/7CXTbVFRUVFRUVFRUVFSMjF0qYeyVDPyio9TJtupnW0ysn2678t5IvGwrr4Hh2pdl3Xqu4wljlMVn2QbKdhUVFRUVFRUVFRUVW2Pk9zV3IuoCfmuUOtkZ+olkqh/KZKtX3X7lozkvEbL2Ku/qRJ2oV5YFuvdc96pXUVFRUVFRUVFRUTEUu/QrqRU7Btti4kjESvS6tyuiH581SayoqKioqKioqKgYG2rCWFFRUVFRUVFRUVFRUdETu9QrqRUVFRUVFRUVFRUVFRW7DmrCWFFRUVFRUVFRUVFRUdETNWGsqKioqKioqKioqKio6ImaMFZUVFRUVFRUVFRUVFT0RE0YKyoqKioqKioqKioqKnqiJowVFRUVFRUVFRUVFRUVPVETxoqKioqKioqKioqKioqeqAljRUVFRUVFRUVFRUVFRU/UhLGioqKioqKioqKioqKiJ2rCWFFRUVFRUVFRUVFRUdETNWGsqKioqKioqKioqKio6ImaMFZUVFRUVFRUVFRUVFT0RE0YKyoqKioqKioqKioqKnqiJowVFRUVFRUVFRUVFRUVPVETxoqKioqKiopm8+bNA2cVFRUVFRWDqAljxU7BSAuRulCp6IXqFxVvSbxF3XbcuHEDZxUVFRUVFYPomzCOZqE21sXccPWV1cXh2xcjLUTe7gsVrr2t7v1mjYuR+u2W7ww+dZG7ic8eeKP5eLPssSPwVuZ9V8Dw+ivKxu16eh7kfZC3kfxhNP6yK/vUjuZtW+ntbB3tzO70tSv7wBuJrtxvFT38otmLvKMVeVfSTcv3rsPPuMTMTuMmuiqTg7gXn+PH14eeOxL0um3J2GjcYvR0t52PtwLGoqvh6vbXz6ZNm4YdG1397kh9x9jcOfYL/YzL/W7atLGZMGFCvg5gByvx2Q+bNm1OOmsrvL39r+KNAV908Jv4DB8q77co/dJ9/jboo9FuR2Cwz7Eh8dNsygyOG2dMjR3dWLArj6tt5W207boxuaubnYuuT3R5UD4avrbFt9At6Y+2rzcWb649Kt48bO3Dg76QPwbwRuQaW/c9OD5GC3E6znYt9E0Yy8EmMPp0rxsghxuMvcrLe9GHT31YGA5Hb3ugj7Vr12b+J0+ePHD37YvQLZAbyD1yQh7terpFAXYava3CxuvWrWsmTpyYD/fYu7Q5XqPO1KlTt9ht/fr1mf/ddtttoObOR/A7FPTU1ZU65b22DZO0zfvpVmGXvnat7jZs2JCve+kgxmiJ7R1LIe/GjRuz3zjv6oCtlLNNm9htD0IvPsenf5PcifaECRPz3VWrVjfjU9+TJk9pJnDjEcRbt25j0suG5EsTdmhs4Y/0PWXKlB1G841GL991D94qMuxc0E0cJvCkvyELjNZHN2xYn2NT6wvj01jYkHwtnLPVb3u+o3QcNONzJLR85NoD/7R2T/fZPZ0a2+6tXr16i1+Lv7l2x2/CZ4x75xHLdxSC/lh8Mnj06cCb8U4un1E+WpT1na9ZsyZfl3HXdcRc5fpSHjyETks6cb7jQWcDNm2NnPrD1+otfLd9j9R/0BkNBvty3vbe/tveH2mdMXpsq+7eWJ234AOgH4c+zYfmar43adKkncLHG4EdwTca8MbLH76oz3Zc2jBetWpVOh+fYtrWa1/3s9cmHh3iuHZstm38Bg+DvLQYn2ivyz4xefKk5BfiZbeO/uJeO5LyPfpLvGzhpleznYgJf5AwcD4EFEjABQsWNM8991yzdOnSZuHChc2rr76aB4nFPIykWHTUL41VtnGOrn722GOPbKw3AiaROXPmNMuXL2/222+/zBdsm2O8NUA2xxNPPNnMn/9cs+eee44i4erqw3UvHfW73xv44EMPPPBAtvO0adOaJ598Mttl+vTpuc6iRYua++67r3n88cfzImTvvffO937+8583Tz/9dLP77rtnGXYmYkKIoNINOq0OuqN4a7TtI6kLvfXSYfe6BT74L33wX3TCh0F5S7s3hisrgWbUdb5s2bLm2WefzeNdUhj9Rj12mTdvXjNz5sy80Nx+FLpMfbT6Hpdj0V133d28/vqqJP++ue8QKVUbAL58tmXLl69sHn744UwDf6Vs2wLtYe7cuVnm/fffP/vp9tLdGejyh+eI68ZfJPtvBVl2LtrxPjhltz7AFahpwYIXmoceejD7Aj975NGHc/m0adN5Y67Y6nNH6rTlYfRIPKT/8GPD5dVXl2bbjx8/YUsy8cILLzR33HFH/txrr71yjIaIK/zCQUbXYhHf2Weffbb4zo4A2q2+Ro/gz6cF4t133535jLlie+g57r333mbx4sU57pI16Pmkn3vuuadZsmRJc+CBB+Z6dFiOKUAPou2OA7rhDzE34WtDnjeXvbasOWD27NRvd97aUWj9KgmYzumsjdcbN27a4i8w0vw0HMbaTr+O6DPa72gboCc5LOk5f+2115pHH300l/PBHdXfjgTeRuJrrHzTRUBb+n/xxRfz+l482ZEbS1sDr+xr7G5KCdqGtDaZ19x+x+3JHsua2WkMTJzU9p/liuoD1ytXrmwee+yxtL54Pa87xyr7INpx0I7F+BzXPPucddLcFBempbXUHj30P/Q86zLVsfps2R2Bn21ld4zoG0UMdMnVj370o+Yf/uEfmhtvvLG5/vrrmx/84AfNT37ykzzhjKRU5SaVZ555JicGXSinOIuvm2++OfcH7vWC+2VZv/Ne4BBXX311nhRB3yPxvy3o8vhmoZTNgubqq3+2Rb+DwGc/XrUf7hg7+MH3vve9vDkAd955Z17QB/iAcgmjXVt6ZDM+J2mxGNiZ0L+EyAQQ2Nq23eteuuJr7UJr8F4bSLY+toZ2AsgNN9yQj9jBfOKJJ3KAE5h3FEq/cW7xc8stt+QFkX58GvuhB/ZjI+O8i7GPg1IHZAq57PKvbn784x83Dz70UFqI0edA0QB0tXjR0mb+/OebzZvafl955ZUcqyR4UMq2LYj2jzzySI6LkmnYXrpvFix0LSrL2DySzcZu050HvI2Wv9HVY9fBQ5O2WTuegW9961vfzhupni7efNPNzZNPPpHLTPJ2udv2OxLo9Y4frVRDZQuexw+8hrpgwYvNbbfd1ixIYzsWcVdccUXzwx/+MMc7c2XAOkCseemll5qXX3554G7TXHPNNdl/thU72o9iDJojvvvd7+bNyEhutwXRDp/XXXddnps8gehCUnjllVc2P/3pT/O1Oe6mm27Kcbmk4XxbeRkOrRbRdbhqz8XqK668ornt1ttSv2NL6Adp9kL0NXjk//L8NuiTixcvynO2uYr8Ye8dbfcu0Kd7dvAmyBvRX9BkTz7m+vnnn89zI1gv/OxnP8vrmG0FmsPxvr1yvRG+KE7Mnz8/b5rgz7XEWazZeu35RqCVyUbYCy8831xy6SVpvXR9ss1zW/wwfHT1qtUp1j2VfGRNbiN+i2keWMQmx/aBfQZ1POehOXkN3vpIJIvdo7XpunVr8xrrtRUrUj0lygZQVofyfCdgWM1wfBMiRZ911lnN2Wef3RxxxBF5x83izSssAQbhFJwkYCEiQfvWt76Vk0J01HPfp+AuCNuZO+mkk/ITJFDPYeCvSEoLY/uUSPgEShcY8aEclJnw8F4GeHxZ4JWTYdlGXXWibfThHmfCSy9E/a7c3UUYHoOf6Nene/pSrp+SZ+XBG7kdAfTV13+vhEFd9kB35coV6VzS0/a7Oi2+7cJgQx8GDSdty9tD+yz3qtdz3UHPbI+VK1vblLKUiGv8qyd40yGaruH4449vDj744FzH/dtvvz3vRH3pS19qjjvuuBx4JEiHH3548yu/8ivNQQcdlNsBWuQr+0UndK+81BdfU1+dgLbq0p9yPJT0JEHf+MY3Ml9hz7KczdetW5/0uSbraXA8tK8pode2a3XWTtzj8r1ly17dEqza8ibbWVn04RMd/Qhi4Wue9Nm5+9M//dMc4NRT7gh946U7KZAzaLJHQJtyco1r/c6aNas59dRTmxkzZuRriyE6wQfQm3EVvJM5/LHfpBS6Ke0D2tNny4dXUtt76Llvp5JcFuHLlr2W2rcy6GbDhnXNDTfe0Fx66aXN0lclt2lspbYrViwfMqYgbB1jNuSOz4BrcjpKmUJmvPCzMqaUUK6f7pgOXfvkY109AN6Uod/KP+gXAXwp70J9vh7jDLptQSw/+uijc9LA5vgkn7Zo92pT2lQ5PaiPX4d7jvCfQNe3QZ/a0p/zgLpkCP12/RVcd++Fnkq7ooV29Ku8bOe+Pjy5H2qHcQN8tGOBLsnu4IsmfuXuO1+TxvKkSZObM844ozkwxSkxEx/qb0w0Yu4JPwqUtkJPm1IXW4P+WxusXr2m7Tvz3d73H/42pOSVrOzoaQ/kmJ8+99133+bkk0/OO+n6kgya00888cQcez01DOBPuQ2Sq666aouNw2/xjH9jogv13CdbV+7SjwLsgFYpv/4coWt6DLALPkq/UpctleGP/Np2oX7oPdoG8BqxVltj2HW5kOSb2ka94MtTSHOXNzLIgR9QXx28duGePtQJeUueIo70atsuJgd9YlWah8Q8mxevpRjZzvuDIE8/X9SlY1PyF/X4kDkqeBuqp3YDRV/Lkvxt/61+Vq9elRLsm3IstjnM1t2n0Gjpg+7Chl2EXoaOyzZuONiYLHgDNN23ifnNb34zL7rDBg7yht/pO/pUx7VPPuEc0AsfKvkrfVcdMn7729/OG6sQfPNn5932AfzoTz10HL2gXviP8aRed/zEnFTalDwhv37wESAXHstYWAJPyrUPoB167I5V99iR3m2w0CEerd1OOOGEIW+2KVOXD5YglzJ8Glu9UOpIn3hUX5yONe2m9OktA8nqhz74weaiiy7O49FXCqK9DaW//uu/zp9kCF8il+vwK32UfTqPcV/eHwS7tLZBE3/Gw8rXV2aZBzcQ2zpBq4UNv3bz4buXfDc/6Fmb1jhkC6xM9Y1rX9UZILFT0feVVCCgXcQjjzyy+cxnPpMX98ccc0zeOXG8613vyq9eMJinHQzknKO47+lEPJ30aF5SSIF26BnGI2CG9Hoi5cYrXpzG7pRyn5xbe4r1KoykQnLJYBaReNHWdfBmh0kfFroW2OhLXrXFt7oOvOIJ/z715zyCtsmS8+mH02tv4uBMDPvQQw/lXVn0yeKVWgHLRO4xOHA+97QnK+hXH3Shrn7uv//+TIfu1CU3hxb4BCXykJOOtaNvfIW+Y0LjhBYATz31VD5/4onHc5v3v/99qc+NSYcPJb1Ma6ZM2T219QTygTyxWCigtWTJ4uaRR1v6S5YubiYlm0yfPiOXSSzpiDPTcVJRkntKllt5wDlZ8M9mAhoZ2PSd73xnDiT0TR9sScd2uSUo7EOX/MZOnYWtBQ4fYJPQu/4NaLpySDBDJ3wP0NOv+vSBJ3piR7phF7ZsZXoo+58y4C9/8zd/k+1nEcCXlIec7Pb4448189nnhQXZb/fdd/9m0eJFzQP33zfg5yuz/+2xB7tbpKxo5s59Itn6viw/H5g+fY88oeIdT/pxzd8lhPhx79prr8333/ve9+bdsK9+9atZbok3+5ON79I3+fEZPgl0R3Y2wLsFo2tPDowZr22ixxf5tHOvmdIP+tp8IyWLngyLCWyoP5tKhx56aPZP8YKO0EK79AkwydA5XYsvgnO8tvNo8rmVr69opk/z+srk7JMPPzKnmZbknzhxUvaPaUmPhx9+RE7i2SVehX3mmeeav//7v89+NHv2Ac2hhxzarFi5Io+pY489pjnqqKOyfchKP3RgEqcf9il5pSd1+Rl5JOf4pEd9hS/xS7ri43TFj9FRl8+RUz/s2PrAHtne4XPoG6fK6RcvQI90Ss9igLEjBljo06362kZc0qe2ysiEX3zb7SUH3mJ8lvbga64POOCA/DSWvwL9OEcTz+ViL2Im/m0C8k9+gUe8kAO0pwf2AXXpnh/jRXu+Qxd0pW4kKmTHD93xET5DJm3JAuxq/ESMBXpBk8x8ih75NZ2EjynHpzgKdBTyqs+G7cbl5nS/9dHnnns2j4cjjjgs863uvffe04yfMK556MEHky883XzsYx9Lsu6Z6++VYs7uu++RfPLp5B8vZj986ME2XtEnHeEFn/woXnlkj7BnzBNbw6t2m5MuX0q6m5P1p91uu00ZaLM5++PCVxZmHyH/PvvunfiZlmy3KT9l9L1LbeLVq8svvzyPJ+PZHC1mug/qWQDG4v/cc8/NMtg4oid16Y9tXSvTlp/rH3/kJqvyMhZFH+pG/FWXjvmNumi4Z/7iF3zCWBL32STGD1r8gx9KbsUj7fmJe/iKV+bFSf1piz5aytV3zgZ33XVXjqHqxvrlggsuyLaRkPpqBd9R11N6ur/44otzX9pYK4WviFNo0QVevfKrLzpw/WDyIbHfWOf3/D1is7FFv8rRMRb1FbprkXwi0XrllZfTeLw39+X73jZbvb7/3vdekGtpzzfwFH7GF30Cmo7Vq1fm1+defvmVNP/r/6FEe2Gz56w9U0xoN/Xx+txzzzRzHn4ojw/tYq6ZN+/JPE/cc8+9ObbwK7EJgm86YteIpfyDXMY3GxjveKUzOohYpD3b0b3xT3d0xl/UIdf3v//9vLmhvg0xNlGfviM+6ZPPijno6MsnXfMj9ejR+FHG/9BvY0Prv2DcesLsLSj2Pv/887NNxWY2pA88oo1u+KA6YiL58EFm8rNv2CF0xd/wEXZDk2zspl3EsIh9eKRHdOmYPynTngxirb75MJ+IcQuhK3Yx1sgZ9MJ/xAS6QS9ivH7FCet9sokjdMjOZLKRgl/xEQ06oTv6CLvqm130jQf3lJMX8EJedPRh/Jt/8CKpoj+/V2Az/vveVEvr3jPPPLM57LDDEy8zEz1J9Ibsu948EtPIdvzxx2X+xQP0+axzejfu6Qwv7KtPuuaDMX5ifmx9gt3G57lE7HkkrV88TGAHfnzOOWcnv9g3+cPSFHvmJ/vPaZ5/4flEY2Lif/esT29yXvLdSzOfB6c4tuees3KMJOcD9z/QPJt42Jiup+6xe46FOxPDJoyc3MKDsd/xjndkhVAsI3HGj3zkI1mRFrIWN4TiCJRpgcaoJiKfgsZpp52WHcJCl+NQwLHHHpudwysdyhmQIzKodngQkC2WOI8dDM6Lvv4Ec+UmMkax08Po2uId9I13kxwHOOecczLf4NNE9Ld/+7e5PeMbTCYMQcsA5dgGNmcRgDgmp7aANRgFE85hYWLxbsKSbFjYo4c/r+3hw0Il+uaAf/mXf5kdkGwGEt3in3zoKieHc7rhzPR966235oFE14IBudgJDwaugKkf+rv77p8n5x6Xkv7PprqPZd0ecsghqb5F07gU3L+eJxtPkV99dUmS68o0QT2WnfepeU9lvg477NA0OGY0D815MMvH+ZckGz6Q5MbHYYcdtkWuAFm+853v5ADD+emIDj/1qU9lPfzd3/1dDhJ2ttmAzg1Ok70gQi7+JCChT0aLFq9OsQv90Y1+JTAmVb5lEa8/i0kD6pJLLskLbrqJhaY+1fva1762ZTLBgyBKz9qiJ3AI/OrTfUx88PTTzzRf+5uvNQ8n+0mkLZ5MClf99Mrmvnvvy3Xxb3F34oknJ18Yl+xyZbaHXX/0BQyyzZq1d9LH17Od9aUtvuyCHXvscZmfn/zkihyg3v3ud2fdOvij+vrFK7sL0hZCrvlELKrDPhYS2hp7fJk/0ZHNIHXtlHoFy5NFk7HAikcQzMQAu4Z8lP8Z++7hGV3+zL+M2RKx+PKKivrGm/rHHdcmvHbVliXboGsBbCHyd9/4u+aoI4/KvvrDH17WvJLsfmCyw6NpMrMIX5tsetBBvju0JMWaO1KgXpnlyguF11cle9+XfOOodH1UHtf0I+7wHf7Gx43LmJQCxjs/M775Ej75asQr+uGr4dd8la4d6F922WXZv8ipH5OPTQ8xi99roy39RuywKQHiFJvwU/GDvtjkvPPOy76pb3YQ48Qo8dLYMKb4VMROY1QcMgbYLyY24O/ksxDhT3j4i7/4i1wWujEevP1hUdVOhi2cs7nXx8kgXolx2njCph9vlfA3+gKxUh98VaxTX5ziE/RknBjD/Njii53EHXLRA/mNQ28ZmIyNC33rL+Da64gWNnxXrDC+2dA14Fl/FhLspD4dApuzB9+ZPHm35v/9v7/MMj0/4C8nnXRiuv553sQS0zyJEYf19/nPfy7r+Y//5I+TjfZIY+m45rLLf5h1bDHvu7fsat4zzviOBdmll34v8fF89vc77rg9y0lGMbAX7EC/9OKCFIMvz3a3aGFzNIy5PfaY3vzkih/n+dRca2fbWJ0xw4KpTQwee+yR3O8hhxyakxdzNP+le37Ch8NXyEkvfMEYMXfyBz6pDZnNj2zLx/mwe3izqcUH3Td+2F0i1Z0n6EHSSvf8ls75OV7w9vWvfz3rH9Ax9+pTfbQtztmSTY03OjdWycO/xSO+wb8iJvNHsZY9xEnxB2/4NX7QJC9fMYbEiAsvvDDXx6t5QuywDsIv2u973/vyOb82l5LFWyD0pF9zEL3ROfsa8+IhXuiEjOIGmu95z3tye33Fwt2YwY/4SD8t2nH54kvJJy7/UdYP29EHvs0d5533nmTH5dlv77vv/qSjdZmXGF+xUawPn2Koefva667N87Bkke/q6phjjk30J+Y5jJ6MRbq+M/UF9OR7vXfeeVe6b8yclPXK3/kqpCV1SjTn5ESLf5GbPoEe2UUM4HPAXuSxQUduvOkbb6F/Y9z8jJY1gfp0bE0pXlt/8T80yBmvH4ofdCGemDP5Ex7EabpXxnfwh1ft+Tc9OfgL/qxr6NE6VDw0jvFGZmsVcy6If+yunE71ow8+au6NOXPQFq8P2O2+dj2WxrQ5V1y2LjKH8hmxDp90wdfIwP7fSIm7GKst36NTPOONrOpoZ93Kb8jJH9VhB2MDH2IiGf/8z/88jzvrBmPEOBeXHfQgFhlLp59+evZz8ZE9PCSgCzrlx+RjI2NDvCOLOcXYwQ/+1KMPesFD6CX06xVPvky/jzzycLbvfvvNzmuIW2+9JcX1BVlPe+01K/mGt9P4uKejq5r77r83rwcOSz5ywgkn5virf/qxjos5XgwhOzvhhx/xd74SsouXLW+bUhdtjqR/snrrZPlrywdk3pRixPuzfq6/vn3NHd0Xnn8h6e6BPH/PSGtssfTxpJdZibbxdmgaP/i6PK1/lr+2rFmxfEVz18/vyg9yDj74kC2xemegHcF9gBGG4pQcmkMIcBzNQKQsgpicBIrPfvaz+b6AzlFMjBZJFCqYcwqTP8cTqARgk5zBbtBQtAEi6XP+wQ9+MCelnJ3yDVTJokkEIjgwgPuMyNjaffSjH80BH29oClgMbTAFwgkFZg6CnsWTnUL8RHCX4JDD4OJkwEn1+eEPfzjvLqNrkcfZOamBw+mB7vRN5i4MGAGE3vSjjmBpQsQf/RogXgc28aPFaQVDMlpE0mks3uhWIGYPujNwDW4Yn+zpS/ALF76S+hx8FUEAWLhoYZoPxqWAc2ey8Q3NKaeckuT6eLLbWdn+Ji2TjmSRPT70oQ81n/n0Z/LjcQNXUAK8Ap1a9LEtewik7G/AO4B+yMlOygUOCzuTLTvSiUmA7vmPgC2g4Ndu76c//encr+CvPz7DPnQoQAk2bGjBo76n5HyW/5h48SH40hv6n/jEJ7Jd+ZrgQ+f4MKngy3gI+YBNn3v2uTyJmZQPPuTg1N+tOchq8+Vf/dUcbPDw1FNzE69rcnAXiL1i+/73v7/ZbcpuuU+gD4l7+Ch/pHv9gIBLRvpid75JR4I9PdKDxS+/IEtMViXPQC/8hI8r41P6cdAJ3aCHfowN/Vr8G9P824LGhM0XHMaCsUMm9U1c7pcgt4mev4sVH/jAB7JOyazfxSmu0EHwy7ae3tqhA3X48uFHHN58/OMfy4vTa665NvH/SLLPyc0xSdd4s1Gz117tWPNEHW8C8zXX/CzLTXdf/OIXczwxkcc4Db+kb3GDLvkuPslq0qYHsYQM/ExfxoI4JD4A3aFlt1k/4p9+6FWf9G6ytHjgw2RSLk5JPix46UWZsUCPEQfQ9nUA+MIXvpBjKD7FHvoyiTtnB/FEnDBeyA8ho9jCN5QB27A/XRkrF110UV5sm0SjDWhHX2IMPYl/dGBiFSP4rPpisbEfIBe5QZ9kpD9+Sn9oRmxRzofI7m0DPmeMmleADZV346n4Qg4xgH3ERTLxb7qx2DfJmy/YkR7xKQmia/a4+eZbsi3pGh8Wv6ecfErS5weS7pfk2KyfNjae2ey3/375FSjA+/zn5jeLlyzO1y+/9HKO7wfMPiDPKSeddHIaF+0PeOmfDu2GK5Ns8AMLQjL0g+/nXn/D9Wl+eSzHdnz7tMi49tprsu5XJ7uYfyxuLVBm7TlLy5ZAgjhKNvbT51lnnb1lTEfCD2jRsTjIj+jHvCD+0C9f4NvmP3HOIo4vKhNDnbOtg9+btyxEtRObfIovYiLfpwMxmg+yjTK8siE++bqxK9ERwy2KxRELLWMP7YidYrJ5g37MIcazRTWZLYj1p0ysxIe5Sn/GuLFIZmPfnGsu4A8OCz8Lfb6pXPyNcsAvudmXz/J5Y4KvxFoGL5EokF1iTEdoGTPko3s+Ll7yN2Pdpj2a1l/Q9tkmer47a+yfe+67sq+K1XSgDPiHfukM32I1ffDnmF/CRyxs+ah4dfzxJzQXp/oW7dovXbo4+6zxCxde8L7E+4ezT6D14osvJL2fkvund2PLfBM+Rdf0QW7xR6zBDz+jW/LRAf2Q93Of+1ye3/iOsQTGiDioD/GHz7KJtSmfZxv8ktFn2EQ8ADwYY8a+uOAgLx/jg9YhsWEl/ohR/JtfiMMBupUMW7vwQf36JAPbsDX/EYf5NBn4Hb3yb3GID+KTLiSG2gAeQV3zOn2oK1aQB//sxj/IZq75pV/6pTzOxH/xVDm5rGHIpY5r6xGJ/Cc/+cmsd2t1/UR/7on/5i780gW+2E0MJrf1Fdvhg+7Nj+hLmvkxmxiLxqS5znjXt7piycc//vEcb/i4ecZ4YT82ZlM600b78GE64Ud4FDs9BDGm+I85mf8988xTKac4LPuB4+KLL0p+cnxqjcbm3H7WrL3yeMQrHzskrdv0oRt2k0Ci62m69aZ4Rp+eXOuHDfBP72ymPPizKTdv3tzM34yZM5LvfDLHV7b2kMATUH0sfXVp9jO8s81jjz2a/cMP4px62ql5zJx+2unNicn30eXv9PGRj3w09/36yteba9PaZ8lALNhZGDZh5HwUyaBtRn91fhJH0QIYJ+JAAhiH4RiCJ+WYmMEC3WDhtEBZBpUAaTCqH46gL0HULocFiEWGSZ7yTBqcyuKNw+iTEX2aSCjTAlI5J9ZWwHRuIlAejhefAQHDwMePgMqZfBrsJmNJLee2gI6gY8AYIHjSh74MKP2iI8jTjeAhMAl66JSgC3yhjfeY4PBj0SNIcCqBiFPh0aRAZwaUYChY4cMCwSLAYkfwZh8yGBCnnnpKtqXveRnE+pyY6gyifVVj7dpVWff77LNvngQOPPCgPPl86Utfzn0/9dS85t5En/3wKLDP3HNm6vflrIMSggPbCDx0KOAKjBYY7MEG+IjAyD/4ED74i0Pgco88YIBKxtzXP/vzE/2E7wkSfIAN9cNvyezgN+zChpH4ox+LUkmhT3SBvfGhD4EifDTg9QbB78IL35cWGOc206dNz/1tWL8h+cPUZu6Tc3N7X8K2aBUwJPLjktxz5z6V5fjYRz+WAtoxmd5uu/nTFBOzXwDdxAIIBMhY+GurjL7AOX+IcYgGHxG8YxIKCOb8VbA2UZkU2IkN6VK/xi2ZyVvyoF8yKQd2IJMExQKBv1lYoqUMQmfoWJj61LcJ2mLTjnkeC0m/Xj0NGTVzzU/IQD/vec95aVwelya8E5pPf+bTuR5fAwGan++1V8ubfgVz9iOjJ5B8xH2LJff5iNgC4YuubSQYcyZW48hk7Bof/N64NGHiXfyhF2MfyOgePfElNtLGOVn4kQWpGKI9v8NnLI7pjg+LB8rFBzTozaZdbIqwHV0ZO+Jm8MU25OPn7BLxsQv08ALiGP/RlzhFVp/GDNuEboAv41UMxyP7SxrFaXqOcRK0QV/tWBifZWQzY5EMYqRyc4Zz7fioTRU86INPSUiVm4/ogw67wAu/tbBDW3xEO8Y8+xnvdCU5oB92NKeJvYcfflheuHhtc0bij/0/+9nP50UEXXhd34Lm1FNPS7HmqNyWz/neYB6vk1J8HXiSR15xX3xmlwsvvCDJPCPxsizb2IKU3tryA7fEeLboB2XxpPajaex4BV7S0z79vCuVr00+PjXH2y9/+cvNme88K8UEMcIYbMchG+AtsO++++R4ZTzQfekrYq84KK4Yr8C2+KBbuhQD2YL89GocsBE6/MQ13zAP8kvtHWBMkIc/ixfiD39Wz6EfMSwW/8aMuVKc5xf8QxneYnyxd8yp9MRe+uN3eOAb5A/e2F5f7Msm4phEVCKHtjkBXQtwPmh8i1t8Tbl1QiRdoT+ffM1cqU7M7+YlMqpPR/T1la98JSc/fE1CzLfJza/4gzEuSULDIh/N0B8Yn2ixw6c//ZmkmyMzHbphE6/r8XV0bbThm93wRV5yQzyB1rc4yb5nnP6O5pijj82+qU9fqXjs8Ueb5+Y/1/zyL/9ykumU5tC0QDdWfY/3tpTIe6ri1yDbWLzXljgQMeTFl15M8erZ7PtsK8aJr5JLOrNGsJDmB+Z8vPAN9gLX1kRihLaSSjqxMQzinz75FOCbHwcf4JqdHPrkA5IEMuPThoSYrJx+0NI/PwmohyY+yWpOBfrjX+Rjb3ZAVx0+GvOL8RY+LhZGfCtBVrFDW3OmcSjuiiuSKbE45jR8omnNTBfu8019048xwZeNFXzxAz5HRmsGYA/16Ztv0pNkBY/q0a2Yh56xyKeVg3v4xAPdGIf4Cj1JFl1//vOfz34tZrC7c3Ib33yUTswjEnVzI//WLiBeKJc4sT8ebDQteHFBLgP6pCtr2Tb+8QPrKnQ2NXvObNdPvkZgzeVH9djsHcmnTj75pDzWzjrrzDxOxWrjj934Cb2Hjd3DCxg/PNzTdzKT89BDD0s6Prk568yzsn9Yb1jTvDuNP7ZByzpyQ/JBP9gHe6f1y27JdjNmTG9mJl16q8Rrs+9734X5jSp+iJY5LdYcOwvDJowGDME5mYlVEOI0jME5DDQME0CiIRv3aXKwyALBjrOEwV1zQo4V4BAxmBmH8zAQenZLGI1j48UnQ9sVsRuBFv6A8SRMBrvEwgCDcLiSjxLkQLOcRNXlcMGXvsmOfzQMMLuadsX0ZcGGBp1xKoNAkBaQORR9oFECHfe0C+jTQOcMElDnAbTdNyAdAQELbwY4B7Rgiskdxo/3vbskRxLdz6pjo/wibSwI7Vp4jYQzxuQBnjJ6NI6211Pomf7taNOdhFD/EJ/4VBZBG9hKPyF3qQ880K3PQNQLkN8iUGD05MNreSBwkTkmOv0A3zQ5a6M+XxKoBUqLAvXZt2v38JHoP3hyHvKB+/6ujl0j8GNC+tIn21933bV5Ijdh8Am8CSL6vu66a/LuoN0+P14BaCMfIgsk7b32xrhxFlotL/qm34CJ2cJIEELTDpexQAehjwCb8BmLdj7Mlyw6+Vs8vTdJQYzfkDt0En07p/vQofLSznEP9CmJNenYrY14ERs6XlXK/YQC8jW/ba+32GpgCE/O/bQ/9AD+/h0d+Ul58GMjdIgXfdhQMWFbWMfrciYctimhnhgkzgXEOwssY1U8wkcZw5zrB/iniYtubRpJVPiatuwWsab0q6AVCVcsPiDrJtVR32LABG0MSmyMQ/pld3VMwiZS/dsZjt3mEmEP/ZQo7QzsqG55D/iJuib3gHpBL86jH3Ae8tOfQ4KIP36Ad5sNEQPEr6DnUwIkphhPNsf4pxjbhbGNLzTFZHOWhbQ2Dr5nPJJBPDFXAX/WTyy44npSYWNPusnA3wPhs+5zTE8Aww/AmPddR2hvt/7pDY+1a31XbzCOo6FtOa67oEd8+z7ZxAns42f9J+TxTyZ+hsaUqVOKuBZxo7WH70DSs/EBEVPQjTruhRzu6zf81acy9MNGrlsdtP5hTSC+iNFevRIXJW9so27Q5u9ilDEi9vAH/m2haAzg05wY9UG/pQ3wwAb4xJvzMubFnGBtwYfwZn2BL2NI/xbK6plDxamQC/StP+2UiwvBT/h6yZ/z8HXng3YYnAPZ2KJc23KujvrK+K14qQ/xylMpY4aNoy7kvwWajklpLirtFz4sBuLba8lhI9Av2uIgxJPyRDm3m5QWtoEJaY7Du7nIK3Zex7bADxhH9P5SSvAGkeQfmLv04wBPKGHPPQfjqyRRQsPW4lU8yRXHrPPIEjEy7Bv0yMQ+/C5A9+U40qa0abT1qZ7ysBNdoSVZxQMflsxJ6slZygL6cvDVAP7K+Khv9Plo+KBkT5wyHynz9D5sCvrQn3hu/uED1gx0wpfVFUdjfcOXjR2bKeJYzDlBM9Y7/DxQjhf9xbrWWBQvzWXax8EG6kbbri6iL3CuLNrGmrCc28R8yRmaNkmt5fRNTg9HyIO/sg/+QY599mk3hoEvuWeeh7ZNGhvJT0v4+6TWtvjYuCH5xwC7xsvEickHpgyOVaJY24nV7OaYO3deXl95eEYm827w1/K4uXkt+Y/467vsAXZQD1HJ6eOPP5Hp+C48PZOzHJtJc2mMtf5rZeRNF3P9Hbff1jz40AN5wyb12Ewu+N0ZGLoS6ICCGMEEK9jbMZE4GjwORmZ8C1C72HY+7LzJ9j2xAE6KDscGhiqNDxRvsFGoQcbZTRh2fCxk7UIInCZFwdqiwILTYgxfBoB+vJYp+OHDDpXkMjtGOvThsxfC2Or0Q/Csjr58r0sg4+T6EkwMppDTBGQ302tWEgQL015A16QZ9C1WY9KiDwvXGOD6tuBRLikBetNGXXqz+DUwY5FI9wYR2dtfaGqatWkArFzRDqw1adFix9sE5UdwBF4LJq+fgtcoH37El95fysGcrU877dTmgx/6cJL9oryzaNezDI4Qk265IyfI4cfAIG/pC/EpCJVwP8q0Y3+DlJ/Ru2DKR0yudE8fYUe+SSf8l094lYBv/tqv/VreZCh386KPEnhBq+Sx6yO+nxQ8T0jJjSeudqb5rkN//JfOXk0TJZnt1n78459IE8TJOTh6rQHY2eLFr9OBScWiMpL7tu+WlwhSIQObk19SQyd2ay2IBN6u37s2NizSTIgmqth00YaN7NpByFvSKCdGssfEAaV+4l4OlAn8kJ/FKyf6FDQtErUTT/JEOBDF+blf492Y6KPh+wq+YytQwrLX/Mrb6uSX7QQUeooFcJs8tkkj3xE/7MzyF77DLvEkIXgFPqa/2HACfhy7l/gsZYbQiXsWGCYBO7X8ziTID+m19PlSV6Ff9YAfBPiBNvq0sDC2JIb0iL4ddk/HxB98io/8zk6wGCQuWlSgEX0HvUCXJ2XBa5QFLO6Uxa40RAyjN+PeuXsBtuSfyvQhlpAhxokxSQ5jIPor+xVfjXGvsunXJlUvsC9EIqCducQC1K47n8MDG9KXRSG+wvfE1XbxOyH/ym65aPbjS15xNseEj4mVsfC3EMFz8E1Oegx/ThLlduuSH/uhMP378wMx3vFh8yjGi7FtrulCjF6U7OnrBRNS0ug7Z/lHSVJs9t1LvoiHsK/x0v5dPNd4a3ncHOXpvnEi+WzL23uD5+0TxfBxdEPG7ieZ+Sg7sgUfZV9PC2yWxUZUwLg0d1g0iun82atwfq1V3NaXcRN9xycdhZ70qf/wV7yyS4AfuEc/+sIb/xEDxIIYPxblEIklsIHxh4eYT9Djz8DHnfMfCN34xGs53qE8F2eUx1wO+g1d4wOv5lf6wzv/txEY4xTiB4/8qYDXlrdxA9820iQ+fFnMkKgtWdLqBX3jCN9bEr8B3rIM6b9yUzl8WJk4qv9nn/VmRtvGBpa+2t9FaO2jDzEbsBssz5rlB6jar/UErGEkw/Qjflocm4PYxxN4/cVYoDN69wlhj0i88aj/0JFx5l7EVHTUL9cipV34L1o2qfTPf/kmn+TTWT9F/S4NfKlD/tJO+nXNjnzRU1Ljw3ztjTA+qO8AenwDLWsGPIhnXveW1IkD/MMaGI/qGDvWZNZI+sNL8BD8lTxpL+6Ix3zGuhbf1u/GYqwL8BAoZS/lpnP9hV18KtNWGb/Bk+QI9GMNLykVQ9nEU2NrA5sH3taK7/fGWAdP+M37rf/hrZ2L+Ghs/orT1rulrM5d4hY9Pl7GwI15o3lQtk0pHvLftv92feLJvLFoLfnrv/7r2XbhX+2Gy7j89NLDl1j74k8MEaf5leRPXkDn1tAf+tBHmn33aTciwKcHO+3Y2Zzmi7V5jTjvqbnN+z7w/ubiD32wOfzIw/PbLKHrnYVhE0aMlw4HHMn9Sy65JBvfoBZEKUQ9imsTjvb1AQbkiHaGlZlYuzQZLys8HSYUzm5S5kTKLDQ5lYGpncWwZA1NgwQMfkEET/oWjBzaahPGyI4ycF5C3+V9PJb30AindS8mc7IK8vjVV9S3GDLBeO+fjroTZQBdgVLA9WkBT5+CFXn1w7GAY3qVgKx2m7xa40mWJ5z6EPiVc2z90k/8YIFxgJ465DDpzJ37ZBqw9+fdivXr1qd+pudEF/1bbr25fQX13rub73/v+5k/X6AX5NhiTVrY6CdsU+oGPFG1cLXzhQe7zYKDSbDcYaJjoIfwgRJ4iclYoNC/gMPW5KH/cheM3fgYeAIhgRKYYvJFzyJavfAFh7bgfoC+TbSeVAhIIVvAtV0qEzb4Navz33t+7m/p0lcTzTRppsVgJO8C8xVX/CT/TR487r33PnmCcB+8lsZn70o68zeC6H55StzjCaagFXomiwWOpM+kYjKUeNmtpC+LehOKMYSfEsolMXTnFUdBWl2y2vWkIwkldPXCN+meb/H/rs5d00tpy9CxCYFf8nP19IkGesA3n3/+heTT9+dkjSzG1uRJk7Ot/Tw1X+dLaNidRcNiE/CGd/4WOiWreCAO8R30+Cy9G7Ox2RJygkUB+fmrxM9bAhJv/ZGVX0DYAkJGh/7Yg/wSEhMH/yvr6C/a+0TXfUkRu0pwPH2lZ3ywoTqR3PMT97QlB1uSVVJLx+IGe/ITCznXZf94Qy9s5DP4AudleYnYabdosXHIHnilc+31aWML7+I0H3WOB3a0A25skgF9vsOH+Qfd6ptspU34M9k9OUdfnOsF+gP9as/ubMmG+kMDLNokkvi2OPXmgc0SscWcwj/wq6/AYSmesY36DzzgB7zaXzgVC+kq+B18UtPqMXTI18lqE46vHn/C8bn9XXfdkXXoVSaxjE+jJ7a7Dts42Pi0U09r5iad3nDDdbmd7037PPfcc1L55DyeJLr6y9jc+lobvVo61v/5s72T/2v5D50ra8vNP/Tx3HPz83gBbUsbucaze2xv/qI/41HffJCfljYFMV3yZkziW7l2sRlBX2iW0Jdji76TfvQRhz49nTBniQU25ciAJ3OSDSJ96Ud9fmf88E2+4twTBH4rPopFaErw+Iz6NiT4GBvxnYgJgK/QrXN6CeBVP2wjbhmjYkvEGTSV8Q/+amFJDm34Mn6NM/Rbv9LPuOaEFLPEtuuuvS7xPTfN7/emuNM+7fPKnXiPD3+XznpAnKAbsY4+IL/NkZATxUQ2/BacRyw9OsUfbfw43uNPPJZ4fjy/zbBPms/OOffcXJ9c6voxEv7e2qr1KXH+iCMOz2XiOH7o29on+sw+nPrj/2IoWuHPaGkTscXDA/4Vc5Yxq60yPmfjgf+SmY7pWlv2N9bCl1oe27d12Nl9ug57WQcMbg4N+rH1DPr6wycbdYEGH/JJ5+Jf2JFdxB32Rrf0HXEx5kxy0R1f46OSTrTISP6wD1rOg1bwGnRLu0KML/yZp8hIXuskaxd8qhPtA67pAv9oOscjfxUn3Ne3MvTKNTH9G1u+Fyh2oSVBjLfGYvMGL12cfvppeSzedJMxaI07JydU7Cx3ADYQh+NvMhsj+sgypPviv19c5w9Lly5RnPksbdfWN09uyP7uR8LYiCzkpGtjLtp4YICQp6b86vrkl76b6IcmffqxnalTBtY8q9o/l+UemuiEXcQq/D2bf2V7QbMh1V+Z1oHeCGELv15sfbEq2Xzdhq03FN9IDPsrqRRisWMSDkNwUsFdQDeoBGCKFTi95sEAyhnPxEGxaBj4FmwGKQXZQYjEgXMJwiYOCwPBxkLEIOF8ArYFCqMxDh70ZWDbmeGUnNUgEVwEBn0KOgKvBJMBOKmnfWQpHcMAM+hMKBE8BRX0BXUGxLeJwZNC9Qxag1k9A4tjcxJ94U8bAcZCyXcUDPQutDF4OJBAYsGCZ7tOnI4eyY6H4MukwbFioYY+fdmFpDvldCEhxJfAIhAcdPBBmea+qc6rKZnx5yD8+Qfl+pQonnLKaZlPA+SBNJj9YWe7OHRvgbb//gck2fyK0wPJzk9kfdKdwStBLHUqgNpN4Q/4VC8mAQuysDGe42mWxZtAascMyK+9cvKzIZ8K3yAf2nRNRwYdX2IDdsdDm4Q8n32CPdATyGKR4h7ZLVzAREQOT8zpkV/qLwK9Mv7O58jEB7Tff/b++Ver0Fm0aGHWvwXlvJR007/veviV2VdSAKY3Sbq+1PeUet9990u6mdi8lMoffOjB/OuGr+ZFzKT8VN+7+IKOz3e8452ZH/wbBzFxsCW9GJv8gs48ZbJZEZNGgC61pTtjiFwmHfojj7ENaBpTkkp+YOKgM7rWp0/yqc+mfNnYY3uJjfEPdMb26osVxjXdqSMW8APlbMVGbWB8OfuWcmPRWPOkBK8mF/2wU3w/RGL9zDPPZhoxRv1ZAz+rLU7hTxt0TO4WTHnhnuTQd0A7fiZm0SN5xULJBt+kX2PXmKA/stF7LH7DN7RFg8x45pf8Ub/GC9ndFw/Rz+Mz6Zht6UDyri15+KEdXzbFH7/nR2yIP3TRpH/88VkyspcderyTEW8OPPM/Y4T+2F0M9Aon26GDB3pgW3yCtuIcucVD8YmM+MAjGfkb+vrHCztaiJCXjPTEL4xJPKDhYIcY33xav6Xfint2nNncmOgHk6mxYTcYTfMM+4j9dKhvusAH3SojAx7EGk8VyOtPB9G3X/HFhieMaD2axqFf6PXnMviwxY1xpoxtJdRHH31M8/QzT+XvM+LDOPY00c+p6/eYY47PC2ybcn4q3VsfoQvxgB78QrZxYS4Nu+GLrY1L35G2W80X2N5bC76/KE7sMW2PPI49cWxfW9U+2TDZBc+LFi1uTjr5pObAAw5qlq94rXl+/vPNCSee0Bwy8JqvhVL83Vj+yLbGjdfArAfYm6+Ku3TJvngXJ/Bn3LI9H1bXeDfWbBagxz8cdGZcqsMffLKJ+MRfjFe+yH/VM+7cQ59t+S+/Nd7Iqw/jDk/amVPxJoZYf6iPNn7Ioz9+TM9sjXexx2KWntAVF9HGgzhkHjNXkU9d9PkN3+brxjKb49XYJAf7gL7YMJ6Y80VzBVpsSl/mcE8w8EoXePGpjn6MZ/LTH79kWzL5IY37H7i/WZr0YRHs6yVnnvnOzDd/Yn8ys1Nry32yr7PjILwZsDLx6c/47Jfs+Y58d/GSRc1ry1/LPB915NEpBvgV6+cyLePVnGpsnX56W5+rPfP0Mzl+HXfcsZm/Fq0/+X7WgjSv+PEmGxH+hJKk1vpKfKELehGX2EEbCQcb2bBhP+MuNvXEMDZmf3X5CF2Tkc7YwvhiHzTFB2sNutSX8c9m+KRPtNWz8UD3fIrd8Cf2qdPqv117iuF4sbZkG3pR17wDaEVSazzzT7bGkziuf/cjdkLQJr+4gqZDXMQru7ErOcOXxVxjis8ZF+SkVzw7xyefMxaAbNa24Y/6DJ7aOLEox03zAh3qix307dr4MMegRyZ94sMcwlbkVm6uJBse8KgO/xELI2awA1+y3jD34Nk4oJcA3XijaMrU9s9/zUu8Wov6m8x82fzMTvr1a6J4xctA69zexoiNNbxry9Z7p7j2wvMv5HPfOYQXkw/h3drt8MN9pazNC+gAn+aZiM/sZKOF/jxl54P+rMdTSVY+93qKE7P3bx/o0CedP5bW4P70El7FEb4jhrDP8uX+hMncPM7EOTKJ0U8/PS/7AL74+mmnnZ6fTu4sDJswYpJjCHYGAVC4oMn4DCqIE9RAM9ANEEoxMQDn5RTaUy6DaGuwUioIjK715Vx9zkshFg4cykIs6lswcUaBQEBgJLxGG3wYVPFlc3Tdw7c6eNYmoE9GRDOcCx3XeOYM6Buc2pNVfdd0oA8D2CDFO3oMyrHoSzLnXhcW2r6XQF8mJDwJYGhFn/TFIfGlnA7iHXWwMPaqcAx2h3N6M4AFAos4PPq+jIXLwSl5nDlzVpbj2GOOa845W/nxudwvQ/nhB0918Ozn4dGfnRIitOmSXnwfgk3ZgG3YRDlEwKM7dsWHgGDwskvoiAz8JXyLXVzjHdDTjrz8yDUbkpk+8B8TufKwI/r4AXanA3Zyjl98aEuX5NGn9oAuO+Id8O8eWztnE8BL29/sZJ+Dm92mTM6vNxjsxxsP07z6NDXv/PrCc5sQtt+35bPjJ4xP7Q7NO7JHHSUYjU/39838C2j+juAZKTEk36GHtQsLfBx19FFJT+0rQcFb6I3djS2y49+4MTb5Uhfa6wt9OgY6oVv6QhfQ4oNsjgd6UJ8+6Zks+nUvfIA91fdJx+45Qn72ZQttYpFAr+QI30BX8GQrsqiPX76mDF3lxgvb8Tn12NO1MYMefvGCX+2MA+UOtIw9foi/EuriJc6NIfrULz2EzK5BX+Ik/1SfHegQH/HjDvRIJ+RnrxjDZGNL/KOHZ+3dxy/eTKLe7mAjdemMXfGAdiS9eEYb8GG80RNaYQeg7xh/pc5i7NAnmfTjs/R7wIP6+NWPOiZG/kbf7uENT/qgP3zSjzb0hwa+yG3BEbLSmzb0FP2ChbgJ26uEIWMX2uPFwgwv5HKP7o19PhQysAV5+QY++QNb4Qm8OufPCeHH9xCNUXy3bwaYgw5vzj7r7KTfd27x/4iP7KTdEYnPts/2e47qHXJommf28Pdn/QmhQ3J/RyTf2T3FXj98IP5Ljj1NNT7IGjxb9Fgw+Vuk7MdObGwceMMBLMYPO5RdbR5KztpX6+OYnHg/4IADs2y7T23/ntv++6dYnexJF7oSwnOCaes9Ad9syn7OfcYY44f0537ECXqNTRt1xGh+GPbANxnbvvfPMqrH5nyZv9CX+nROh+KCvtRxDw/a60M5f1IHX/qiH3xFMoEeGFvmFHySiV/iT13tlbEdG4pXMX+6xo9xri1d0T0bqYcftkSfTOEP6GlLZuVkjbGunkM5f5UI4cMCnX/qlxz6MxaNE3KSux0b7Vw7c+b0NDccnevRD1/32wOSNT/sYePAU73QCf3ZuCVL+FZaTqd/POVon8zrj0wweVLLK9n22H1aOje3t+Mf7/zPOGj9ZXPmnT/oj23oCn2bEPwKrQOTD7Inu4vz9Egm/JOR/ujOeDA23UPPmw3sJB5qz1/EBHTIwnb6pmt9swG+3VMfTXrkI+RDiz34Dd2AfugGTbyzAz7E5hJ5PA34X/SLT+18uqdO+CW5Sx/gT3gzD0l28Bf28Kmcb+kXDeOKP5MByGa+Dn/kyw42cQ9tbdgpdEsu9PijOnjBl/b8Au8OMdQaOjZKlJNPfe3wR0/kIgtETGB/fePDJ/r6x4tzIAMfRBO0dZBTf/SNhxi3ATqKPm1UHHDAQXm8RN0UWbLe9euQHPJJ/JKZj7KZ+OftMJv97OfXpEN+Jmj1cVjmFw32VO4+PdJzyV8bZ/Npc+BBB+QNQfHX+u3cFENOOeXULJd1obXftKQbffJ7NjXerKvDn+iOjM79bWlj0o9JHXfcCc0FF5yfNyXd5yM7C+OSAtuI0wOMwcjhwF3EI+c2cG0NSZOyKNdVP1owUn/oKeMwY8FIdPHl6MVnPCZ23a99CW3txtoV9BTEYPYEpxfsTP72b/92/i6V73e80WjlHPrY3eBJJe1pQiwu1IVy0dCinVAcXT2hG+18Du1nEFEHtO/6UVzHAdoMR7OEemW7OO+F4cr70em2ab/70+pAmaS8N+gu9DmoxyRxatvufG2NVm79mXDb/5NecrtWfyOhy2+gKxOU16OhXaI7Vkq7bgu9ADrDjfletMfaX1l/uLbh59uCXnJ06dl5tCAyCZmg7Mj6zop6v/d7v5cnkZK3klfxMRYcXbqu1VXeSwZl8Rn2gqAVffjsJYenxn/1V3+Vv0MTXxOAkr9thSdFdlU9LfKU5Td+4zeybt5YkD9eu0yjll7zmOsti93lVqf01b5ebLEwFGKmMeFV9fXNE4+3Txa8ir7bbrs3/raiV7J/93d/NyffXkv2vSaLI2ht0h5tXHaPbdrz2OGO67Zu8NvGERgsHwQ6YVflfpjHj6W18gz6S9AIu45kW/Uc/fyt2z7oAt13F4tQ1unly2NBSQu61yWGK4NeegJtXJfl7nni5Cmae/zZhoi/hSrZ+63f+q28cBwZ9BtxN/RQ8jjIx9D7Q9HyWx5t3ZA35Gmv+9MJDPqlWSv9l+Y3NIaOiZHp9MIf/uEfZl/9/d///S0JXj8M5bu9jvOAe2zTjWnbCzT11avvXnzAcHNdWbYtPJf8RHu+F9e9+BkNtIVe/LiH7+i3V3/qQDl2Sl625i38s/X9Mp5143Cct3W1I3c7Dw76Hw9N/yY+cp10e0Ju19JtX21tE9VeaL8rmZpluawFXUe/XYTew45D+W/bxNqwRKvjFlHWi/4bi5LTrUBBQw01FMrDyL3QLR+OFoymP8dY0Ysux2gdqOWrV3mgV3k/GByeLHqnX+Zv562kVcJ9iwGLwJ0BMrT2wE/vI+QclLlbB4bWBefkiXbD+UXUccBwfoJmSbefLkuU7cvzXhiuvB+drdqk6+DRr8kN6mrokWoU1xDn9FWWlcdgf0kD+bz9pdtB/Y2EfvXK+116o6Vdgg0d0ba067bQC4w05nvRHmt/Zf3h2o6Vbvivgy7Kawd65bU6kkTJgu8px9+o85aC3dxu/+V1GedC7wHXocduGWjniLK4hl60SsTCww6o3XMgCwSN7YHXdXxPyauXXte049oPpS7jGAu6bVudlhthFhXpSJP6ls90kLOtM7hp4lxZapXvQfuaZ2sribDvMPru8ZVXXZGTRa/12cW26+4HFeyQB8ImLW00W/+JczYor1sMnnfblof7g/5T0h1q76Ax2NfwiLolQpe92pf3wl+7KOt0aY8VXR568RQYrgx66Sna+Az9lvdsDMR3t3xf0XrA07LRJYuAXtfu5QHKhuc9+GqPll5Ls8XQ6179DD3aus7bD9etPYfWGy0iqeA74kw8sRoJQ/lur7sY5G3HojtGRuIDRssHffSj0Q9RP8Zf6G8wto3eHiXQdaDXpeGeTR9H+D+UvEf7QHkOrofSVe56aPxzDPrE0HPtVY2+WnpxoNjyj8f4LmKUW2/5BfZ+CJrqtueD/TrME3EOLV/tdbQbPFo/H3rPUaLf/Tcewz5hHA6tAQj71kUpQ/ccXJfno4GE0Tvg3sH2ioHXcmJwd2lYGHoSaYEQu8hdBF+j4aOUoT/Q4ZSjk2cotI12PofSGF3/wyPkLLG9NHcEhtN/XhTmoKC8X2DRbmvZtg1D+xiNb1TsPPTy4UCvMeK6tKHv/YghvtsAXgHyWtCbiX4xDDwJ8t0V30kRy+KVoy56tR0OoStvbPgukWQ0vivTxXA6H67ffu3SNJ/+aRNhdTIvNnX6daOLgbJMM11bhARaHqISmu3f87S56HtFy1esyH/PztMlr2SZR7pytrzSSXvdC/gu+22h3TCNtkIssMSZfvGsYnvhO2C+I+Z1c2PdYtU497RxbGNlwPH6YrS0Wv8aHlHen+bWPjic/7nfu6z1wbYsnq655zvH7ltfjU1Pb12QWwyOhHK4eDwatLFkEKHr7dVn0EUnaO4IbE1LP8OtY4f6XPikz0QMg/k6l7WXI2DkONj2od/twVC+R8bOjc/bnDAGhnOKsmy4eiVGogejoTNWdHkF12PpM+p6rcyOSkz4Je1yoPsOY/vKjevB/vr1NVzZ6IHHOIKWc44X9+N8OGi77byUsvTSD/hUVmL75R89Rqvv/IRhQF/Y7d3Gvf4Brg02pQ269VyHLpz3plPx5qPrs70Qvh0+5jN2RONVPIsk98KfRuuPbwRCpl79l3xFvS5K+cYC7ejDZ/epS7++SqhT8lyeD99eWcg8WFd7p7EAaeu08RzUy32m5DKXts22oK1m4SvOOW/HfLsgbm1uURi2B/Sct7GRPPl2wpaTjKE8ha7LmNPyOhSDdVue2vJBWnHsfGQ9Dgq7Q/BG0NxWlOPb0+ZYL7Cz+6PnNWzs6DjcmGynba85KnykS3s49OLFddAu++jNYyl/6ATozf24fruilN+5I2R2DqPzj60R9AAN5z63lR4Mx1PQ3zEIv4rPAPpd/3Ve1iN3+ki32/gG8dnWa2NfoI33ufaI/Kuotfa96w6WObqxOcZYeT4Sdu4Y2O6E8e2C0qGHc/zhIKhpG5NALwh2YFEw9B3rtl/lbRI5FC1LO2LQIdRrUtgWjM1ZSx33gvKR6myL/HS33Wrrixg+8bkzQJg3TKCK7UDpwz4DI/lt1+/71S8XTiVGGjdvBPr12SY2g/dDD+6NhUftQt5e9OITRkM3+I26ZfstcCsXO+lR3necR/9bCCRYHsSVf/U/GO8DbZ32XvAoSS4Xh4M2Vz5wutMwtjhfMTqE/3X9cTS+PBRtu/4YLT10RqK1o4G34fmLMTFajLX+WwERUx29/GZb5NUu2sbnttB5o9Bfrp3tp3gYjV52zfGzI1ETxgGUztnfUYdHd1D3oqEOWAC07zYnIxT9Ko/XDrroTXPsfCYu0rEt7brYETQGQb6R0EOl24gdyfubMYR2rO4rdhxG48cjoVfsgDLG7CoIeYOn4LEbr8bKc6946rNLd6yItsF3b0SZz+gr7nWvRwfpY5JmoP842u9CjhvXbhKGbCF7ea/F9sm+bdjZ/b39Eb5X2pLNe20G7TyM1p/H5vfDg/zVv0ZC6S9D48G2I2iW2PmxZVuwI/1vtBiNXnZVvnYcasL4poLqu+rnAGMxybZMMOjveoFheFdsy3ZMPAsiu4oOQu5dzyYVFWNFOY7fiAXIzpuy+vUTMikfGy9D9SF2a28Dr90kJJs6kgfYWn+xWHRo2y2vqHgjMXafHx7hyxUVFbs66rsmuwTKADyaYLy9AfvNDdBv/IJvOPrK3uj+x4o6aVa8PfBGJ4uA7mhpj6Xu1ohx2T0C5fnw6M3H1rEo6vTn272436v8Fw87bwOhYqj/VVRU/CJhTAljGZhrkB476KyX3rr3vbo0PAZfzcq1e9DcVRF8D/LfYmQZTFLatFe9sDXdVk9x/mZjOBmHK3ujMFRX2443g/c3Gm+0TEF/W2wwmvo7gv/heNsW+sPRC0Sd0dSNpKo8INrFdRdleb86o8Ugh8PwmrvwT4pHTjNct1ftv+3334eTe0fw2wv680SzT7dvKvrpItDVWXm+M9Dta3v73pm8w47qD52SVroaOOuPIfV3stwVFRVjx4gJY3dQx1FOXOX9OEoMd90tGyuGax9lI/XRq7xfG/eHozdS+SDUU995ocst/wwi1dxCs/3Md9KnhCjfzijPR4OR+OxVXt5zHkcX/e7HoifKhqtT+tjgKboD9PO1Agux9r8oj/tbo73Xo9tBDFNW8t2L9y761elFZyR6UbdXvZHalujW7XUd9+K8rFOeB3rd29HY1j52Bm9djEVH4edRXn6WRyDGT3mvRNzvfpYYrn2gLI/6ZbvuvbgPvc7L8dwLw7WPIxDXbaLT3i/LA1FvaCwZykfUiaOLXmUljfZ+72Qu3ytIRo2gNdAyXbdX0Y92veiVPETd4TBS+VBsXbdXf917gbK8PHqVjRZl3W674a6dxzESok6/+t37cR33ys8472KkOsO1hZHKA916I9HshdG36ddP8t/s04O8lOVDzweuB29twchte59XVFS8MRj1dxijWkxirp2XzbtlAZP60qVL84+5zJo1K/8hasfee+894g+8+FtF6pb9+HtcjrKPKC/vQdku0K3TRUkr+NgR6EXL3+NKYbUZPy5+RlsOr067EAoeMtJt51E33xo3If95jtdXvt5Mmz6t598oeyPhT4j4w9p77LFH/vthg3xtrbMo86k86rgu2/Vqu27d2vwLsvpIXpsnpG69kv748X5EwoLSL9HGH2JNuk5VQsfBRwl9rFi+Iv8B/mnTpvXkZVvhlw/97bXdd9+9mTJlysDdkRF8ljqCkn9jzHmvsm47cK/8Rd6y/liBjjHqBxvorIuRaEd59zNQXo9Eqwvxw9815J/Tp08fuDs66AvG2ne0A+ftD1wN6ts5e3VjX7QLW/b6AYyoMxYdjIR+NPERPKhTliuDkE0c4Nv0LDb7u4zk22uvvba069IYDmXd0AeU7enTvIIHc0nJE7hme9czZ84cIguUfMXnSPyVbZy3P1yGv25MaWOa81aPxlkb0/FNVxs3bmr22Wfvgfotb8pcB68jYTQ8g3qBXvWjvF+Z+/3qlDyIA/6+MH37MyjKws+dr169OssuTvSKFV2UtMvzEq1+t7at+2X/vaDc/IVva5PRzJ9dPrr9l/x2UbaL8n60Al2a/ehbB7z22mt5/HVjXdkOXDv6+Vm3fk7oiku+DC0PCqJ+e+7u6tWrWlvvMS3HBX6hZPq06alu+6N/1i+ZxJb2W6Pto0W/OoGt+K6oqNhh6DsrlYO0PIfuNcQgjQFb1rFou/baa5uf//zn+fqJJ55ofvazn+Ug3Q9Bzx/A/8lPftJcf/31zY033pg/77jjjuaFF17Ik2uJbqAIXrrnvdCVyXW/NmXdOMeLgBh/M6ysE+h1T+CU/LRlnb7yZZsEZD62NB+4zouUJv/x35tuujkt0l7N16PD1rwMhy7vce2PDrNH/JHx4fSlzITYC1tkTCj7cup6/vz5zYMPPtCsX78uJcwTcl21lFuEvL6KL2lf2izRzBPi4DXkdv4r+glYPNx3/73NnDlzBu5sP/Tj4B8333xz/gPncb8fyrJeeoFBOYeew3BlgX73e6Hsm4+vWLEi33PQ2T333Jv/oHLU6/LaRbQt68U5vko/ifs+g+ey3XDgl9ddd13z2GOPDdzZdgynry4/runFgin4dkS97gIXhqMfCDpddPvvhX51urwFyn7iPOp0yyRuV199dR6nZLvrrrvyUdqxVx9djMRjCUnqrbfe2tx55535Wr9lH+Yd5cYynw106ZTX0U/3KPlyGvfaRW9Mo62dh8rQtn/99ZWZH1COp+uvvy7//T11tB0rhvYzenTbxTU+eyHu++xXJ/DSSy9lP/DZre/ceLQWiBjYBV6Cn5LPfucQfZRtxwK84MkmRxdBM+jy5+4c5lo85I/Qi4deehttva4OQVvn5WFzxPro8ccfz3Ug+oh2Jbr31I0D8kb0wBot3d1y31UL/Q7+yRt1WqT7aWm5cOHC5oorrmieffbZXO+hhx5q5qQj9LdpU/CWP4ZgsK/evHcRfKtbtq2oqNhxGFXCGEEyBq7P7rnyGLBxPyCZklRYUMIzzzyTJ3kL/Rjo0V/ZL2j3wx/+MAdzu2eC0E033ZSTSEljoOyvpAfBI3Tp90LUd/SqH7QgziVOFqaLFy8eUl6i133kI+gOLU/nuWv3Bp8+Spbae6l+/rQwWte8svCVZu2adkHSD/oSpFuZyr6Gh/pdPQSvbChh9RlQVtbvnoescT+u457PgFO+de+99zZ3331PWyfd32ShNqCXu+++O29GDNIZdOt0VUxk9Nwm6Hoo+wl4kmmR/9pry4bwvT0IviwOLZgkjnG/i1InAfccsSDuheijRMl/r3blznuUR19l2y6MQRs+xqR2GzZsTOeLs95iMVD216tv98qYEZ+9EPf7lQ8HvimGPP3008PK1KtMf9FnlA9HA0IOtrJws0EQ9g77lXR9ljRds4u6/dCP136I+v3qdMt72bBbx2fJIxklZ3xDmYTo0UcfHfbpDpSylOdl3/oJnkoYT8b+gw8+OHCnbRdtJYn33HNP8/DDDw8kZoOIOqVcIU/c6/ITbXy0ZQ73tGvbbtpkw9CbDPhty8WcW2+9JW9aeKIyadLEnKTgraWDRusHeBjO9iVKnqAX34Go220Dve4Nh170A+LbbbfdtiU2dHX68ssv53IJZS8EH+qXfHXPS7hWn484ojx02ct3gh91zd18d9myZfleCeVxQC/ZrUusSWyEl/XKdlCeQ9DyWfIT6NVXoFeZpNW66vnnnx+4s3WfgS5vgGZswisjD7ncb+tG/TiPY6BdZinuNdkHbrzhxgF+xuXYQFcDFYf4ecnLYH8tXHfv9cNo61VUVIwdE/4gYeB8CAQAAVQQ8godWBQ4DEivVtkxFQS8ehKBWcJkMrA75b4FA1qSKa9JvPvd786J41NPPdVceOGFQ16diIFeDni7lXav/+W//JfNSSed1Bx22GG5bzuC6J588sl5URivY0hc4nVV/C9YsCDf9wpgvH6HbxMXngU1iacy7dSNNvh3n1yxg2jHzQTj6QHe9YPGlVde2Xz/+99v9t9//+aggw7Kr7aUcgA6eNXeYqblc3N+avbqq8sS7+ivTP2/kMu9xtHSSEf6/5WXX9ky0a5duybZorXNxIkWIZObAw84sJma5Hwl2UR7ieRzzz6bF0u7797Sahcy7ZM0ctIR3ZSv4gi6+KQXPHsNlB3pmH0BH8rogI7IjJewhT7tLLKH+3Td9r856xZtdnBtZxSNWFx29dYuMm5Ntj+0OSnZO8uwuaU1f/6zzV//9dfSYuzR5vTTz8iv5S5LumSryZMnNuPGj0v8rG0WLVyU6I/PizWLGvx5JcwTET7d+kfqP9ljYtLFvvvu08yatVdOgujKQTa2ZrfQFx7IgQ65yMlfIb8+W0BdstHVjBkz8jX9sAO6aPK50FPoIT7p3uTLB/FLX1HXWGATsjlXHu3IwH/d53v0HWOabrWjD/4W0FY7dvJJZjaiKwu+v/u7v8uvcM2ePTvTwgvf9woiPeCRbOjrT3t8ihfhO9Ffyaf+tC91rBw9emID16V8XURdvNKZhOKQQw5pTjnllNwGX8GHa3YKWurTBR9mU3YP2YEMfIse1WXveBUbjaDDnt/85jdzYi1m0RMa6hlz5GSTsCNoG3SMXzT4lv7UxxNdx7VybdEogS/ykzPoR7/kofvQc4xt99gJ7dAt/uKVz7BF2Ait8FfAi0X3aaed1hx++OH5SQd5zzrrrMyP/vWlH3y5F/NDyA0+9cnP8Rr8gXrh5/pjp/vuuy/fP//88/One/gjCx1aQHv18cwzz8x+QSZ6NE5CNzEfuOcaX2TGC3r6U44eX1DW8tPOH3hds2Z15tXr795qSJ6Qy8WYF16Y3/zZn/1Zpn/MMcekepNTEvtIvn7Xu96VaCzN58YDnZED9M3PlOkz+AJ6iBiNr4ixLdq4wn/pEk28dYEG/n2GXYMWHpyzE5+IMR1jFl16oU/0ww8kwg888EBz6qmn5j7xoCx8lK48aTruuOOao48+OusYffolDxnoGIxffLGXMmMWTf21PvJC0tG6XD/8KPw4xn/pYw79xXlg3rx5eU3yzne+M9+nBzS1VZ+MaOEtxkH4H9+xafH1r389nx9//PFb9NcFXaJN3rKOT7qlG7zr10EWNPUFZNaePK2vDSZcQEc2IYw/r2jzHbYt4zoYV+joK3yDnAH90vUll1zSXHPNNXmNZb7K82MCPtiVHFOnTmnGp3lVDsj3V61anfpdkHS2PPNto/fYY49Nejkh22r27AMyb8aGeXzp0lcHxg9ag2OLPvgcfYee8ETn4R/akLE7J0T9sHVFRcWOQd+E0WCzABDcTz/99DyQ7TaZDPbcc8+8MJw7d24OKEcccUROHDzlcQi+Jg7ByiJSUNLW9xrOPffcvNMqYTTJC0TlIO8OcO0EuF/5lV/JgU/fJhsJo4n0Pe95T3P55ZfnJwhomlzwo3+7+3a6TQixeNKfIGMxJxjH6yiCkwlSkmMCsBBxLfgCXbgn6FuA0ouFiOBHDxJGT04FM4sC+qCzCFoCnXboePKg3/EpmTnggAPypHjVVVem+4/lQKvOU08/1Rx44IHNjOkzUgDf2Dzz9DOpjyuaJ598IvG9Jk8MTz/zdJ6YBVKyHp4WpjP3nNF873vfy7qQMF5/3fVZNxb3e++9V+ZJfe3Zyiu/dINf+qU/92655Zasu5jgDj300KzveNqrLflNfF49syhG40c/+lG2L5p4ohtBn5z0QG42NZFYdJosnB988MFbfAFKP/jpT3+a+/7EJz6e9DEz3bETL4FdmxPJG2+8KU8aRx99VHPkkUflfl966cVmn332SQn07imBfDXx/YPE37Rmv/1mJ3+5LPnxg8k/N6X2tyc5H8qTIR4l5nfcfkfWA1r33ntPtseixYuaeXPnZbnpQ12TOtvRZTxxM5nyJ7qUGJbgxzfccMOWRIsd7r///ryopTMLE7pSXspvAmdP9Rx8VF2+x6fRZSt88nU2Y2dj1OLCEzavc/Nn45e90Kd//dO/dvQVfVtw3X777Vm2dvysyuPXJgVffeihOWmhMak5zOJkr71T3duSrzfZTySU+qQbT3f0p2+LLmPA+GJ39PAIxiSfU0YXdLzvvvvmxYyFDZp076mVunwt2pagf/bXp7GqH/5/4okn5g0nPCkjtzGMtjjFHmAc83+6US+eGrA3nbIxnSjDi4UuOcSlgDEvBhoL+lemb7ZCL9620I+FETnEjbC5T/f5PbuKU9poyz/YV//KyCjGak8OdOkRb+QWd+iRH4Re1CODQ1/iJX0r55NHHXVUvo+Ge+RDgw+ygz6U0REfFAPwwV/e8Y535FgQG4QW0PSAD/eDR3Rdx/fY9MfPlfFxfkI/2oV+6MF9Y4h/SljUp9/3vve9mTYfMSeRw8HG4qiNSnTpUTu6I7e5yb3wLXEGPTLzWTE/ZBbf+UDok36V8SVlbEYfU6dKBtrYj+ebb74pxYTr8jg98MAD8qLZmHr8icebPWfumeg8lXj+WeZlv/32HxJX8IxXstCBGI6vRx99OI0VMfyuJM/LeY7Yb799c1xcuPCV1PbuFA9uy/GXj5Op+51BSa45RUymE3p45plnsz3RWr58RfODH/ww8ffMlpgjyXMunpjH6IDtww+CDj/lU2zBT+hM/+SgZ3MkP9NWfXYN/dO9Y968dn2B/6effjbp8ZYUQ1ZlnYoRfPmppEcbfN35hc7IHnEyxpejCzKIO/i3DhC/2Wq//fbL7YI3/IuP+seXWMAP+IAxx27WJsZj2Q+/5Mvq8Uf64+vos7lr/sePYlyxl/Ejfhg/Yqe4JyYo10fXnnzGGDR30T3/MWbx7AD6xof+8EQG4wstPPNv8pknzGkSQ+WSPvGLTs259EXXZNsrxf/ddpuS58jbM22xd0mS65ns5zaNjj76mDSW7m2WJ3sceeSRqa/x2UZ4NP+Qjc7xqR96onc6oge8XXbZZZlfvkMHMXfGeor+1S/Ry94VFRXbhqFbVAUEQoPYxG4iNPkJNJ6iCepgwBvsgp7AIpkwkO3mC7wSOROIIGTiRxPQKj+HgzqCqyDo3GRpkYYnCYYyE44dbZODgKNPQRZ/Fu0mDAFeAAQ8Khes0HAo+6u/+qtM2wIDffwLRLGoIJ+gLIl0/1vf+lYOiIJUPDWyCDHxBPCHbxOc9/npxUQp8P3gBz9I18tS+rM593/ttdc0U3efmicDgdfTVRnMy6+83Hz729/KE5t+1m9Y3/z4xz9ubkwLJ4F36dIlzbXXpYl1WfsdxltuuTnLJ6E66OCD0mLn4bwQNhE49CXQWiSbyOmGbfFp8iIn+QV2C3DXJnqTEBlMyOxgUuMLdGMiAufqqK+9xe0ll1ySbcMHLr300uxT5JAMmOAsLk2IvcDujz76WE7A9t/fon5w19DnPvvsmxOdmYmXgw46JOvDZGOBJ7kBCyPJ1LPP+t7MuDxZfuc738k8W2iQ4dKUZFtoTRg/sbnzrnYSAouWb3/n21t0LxHW1gIR6I1u6Y4fqEdek3EX9Ke+OmCR4dVqPssWFkAOPlNCn/TGn/kOvfH3SGZM3vo04fI/yTMeo5w+bCKQUz/83zW+LezwbWHs2gKAj7OhxUvetBgYH3clvbB5u1hpE2KLiTVrVmU7hsx0Ty4+LoG04LNBY7EjBogPZNcH4Me59mjq46qrrspyAX/hzxYOkgwLCfbkgyX4irrGlYUevzCe0Y8xye/JCfyTHelOrKMrOtbeQs0458cR1wB9CQu58WphZYFZ+m/rl/vkuONTPfyIGfpiF3pxT4yhC/5Tgh3w2o7jdZkGvXqyy0fYxcJKOX/WJ30by2ThB2jyG/5G7xZYZCMTv6cb7cmmPz4gnoX/8Rd9iQFo0Tne2YCN+ITEAcR49hArAT198i86inruo8m3lAXQFxvFAnLwc7T4hfZgsSrmKqcPfLMTOvoXY7/73e9mW9iAUo8uQh5jmu3V40va0DF7GlNsYqyoI06a0/ht8CNe8Ev9Kr8k2fLBBx/KSZQftbn66p9tiQvg9X92EZf4n/glWZw8uX1q+tyz87NPSBIlZ5de+r3cJ13gS/wnG32znfFDxy++tCDr4aX0aZPstdeWZp5fW74sx3x2EaON9YMOOjjPc+KF+FBCPL7jjtuTba5P8qzJPvPE40+kueY7iebyZs3qtc2VV1yZYtbt2W7euDCWbb7RJfoSDX3pUx02ox9yKDO/GDPBO581t/hkF22VizFsyjeuvvqniZanm4vyPCfpUebVd/5MT2xs/D6RYgY7uGYTSQV/MXaNL/T52nCgbzGT7fDBN9gZX2Bzgv5jjJPDWHHPONCXduKiMd+N3+ZU9opxiU8xhT+ra1zhkc/SKV0Zx8D3jFF6MU/wG/7qugs+bK4w3tHlz3ikn/BZfiBesEteZ6S4jV6sr4KO+OAgF/n4IV81HunJZqr64tfcuU/mcxsUl112efZv9D09fP31VUlHbbL64INzmjkPPZzOxmddRGwytrS3tgy59GVtGTo3jtiV3kGcNtb5m/kkNpL4VkVFxRuDvgmjAWwg2rWxiDCZG5wCi6BkYAqkgpxAZnIzmZxzzjn5VVNPEi04DHKByoAvF3gRnEYDCxZPKkxSJnQB1eT30Y9+dKBGk3fwP/GJT+RXoky26n/4wx/Ox6c+9akcqC3M8CToksUranaef/mXfzkHTwsoT+wuvvji5nOf+1wOsvoDcgugZPvgBz/Y/NIv/VJeWFsImczspNsV9VqLRaI+wKLERCoYqu+J6Nlnn50PCxdHfPfwsMMOb85793uaTyZ+BeSH5zyc+53z0Jwsz+c//4Uk88ea977n/Kx3Ez7kV0WSPk2yQN+zZ++f+jir+eQnW520Ty9X5GQ6dv894SUrXiUy5Le4MHmdd955WTf4FdwlgiYNdiMj/Vgo6csRk6RzCxzy0btXrkyYJmSTgMmKrb74xS9mXdot5GMhSxcWhPzGDicfgtZ1Nqd2U7IN6YINTjzxpHS//WXdjZs2Jp5aHwtPiz4kbhZvfPVDH/pg9iO+/Nx8mwOTmhXJTnbsQZvJkyc1xyY+3/e+96X6H8r8kIltTMB0+eUvf7l5//vfn/VmoYSHQPh6LKr5A1gI8W365FNem+M7UR7t9GMMoskmbKYfiy5lsVj79Kc/ncs++clP5sUt3pSjY4ySF48f+chH8vgl2wc+8IHmYx/7WNajSZhuJAX8mk9fcMEFieZF2cduu+2WvAjzFGnmzBm5jdegvVpErtAZWDDwu4suuigf6Jr8+dxnPvOZHFvIhAcLJ5O9safcmGVrMYXMeYykT69G4Rf/9FTGE2BDC0T+oA917W5brBvv4paFmLHO5vTFB+kqFmj6tUjS7uMf/3jWs5hhbGhP18YLPePVk0sLPosoYyBsJt5Y0OrLGxr0RqcWSPpmB/1L1iWcYmeJoEMWdiOzMWUs8jc24zNiDv3QIx8wTuhPG/Vt2MSCmQ1svJCNTcjA//iyRSIdky3GGXlau7ZyWcxqp724QCbjGbTja9HWp3Z0ya8lu+KpGIhftuaTAXW1t3jUB97pF38WgyCum4fCz9mGnwV/bGiMiS1oGK/iQjme8Exv5gqwsUIn/NxTSvqTKLC3WMmnLLzJyx/EKzohh/Er3px11tkD4/fsvFgO2+HFk5fTTjs9x5sjjjgyxb6T87j1doOFtLbkxI85zZhgJwtzvOqXLJ7QtE9iFjSvJN74m2Tloosuzj580kknZj28sOD5vPEoBuHp/PPfm8ea8UWmEqE3vkr2z372c5kX4/Hhhx/N5eMnTEw6OS777GmnnZrnQ4t2/hh6FM/p3kaENvjmf2L/F77whWxL8wsfp2tJEP7Ykpw2P9jSeDWuJbE2QTek+cwrj8b9e95zXvPBiz+YdDohJ9fnnZfmyTS36cNGn3mC//B1tPmcWK3c/IKvfuCrxpG69G09YG4TP415sYNN2BNiTjdejG8xwNqA7xqvUS8gCYpxb2yKTZIwYxMdMtO7NROdgrUKsI+++aVy866YEWOiBPnN0eqiZx4wTqwdxHZzsI08ffMpPo9/totNIQf+PSlFh17oUgyVRJPjlFNObd534fuS370v2XRZov1wmtvnNw/c/0DmzTrlve89P/v9zJl7pvHSjj9yAH2LhV7FjvmKXvASazs+ZL4IXWZfLPRqXLI53ZOVbsmlTYw//YRMca+iomLb0TdhNNgseByCk0leIiCwC6IWACZOi0d1BRIJicAk2AncBrhJQmCNHcWxQrC3YDOJCzI+LfBM3hbPgouAbgFiYgeBxD0BVr8OE4FJniyCqkBoolRmISTQC1gWGO4pKxf+FkQCksmNvIKouoI+WHCR16fygHM09GvX1YR7ww03Zn2aLPBEBk8s0JeweO1SP37YZeXK5XkitriSWEyZMjUHYfwJqqBf8kIEVnbDf/lqpP4sGvBh0ra4drCnBaeFI3noG7/KJOkCPR7ViaQ4dE0vZTAXmC2qLFIg9IkGn3BOd/SCFp8iR3fxD+h6yuQ1LMmHxULSaGqrr3YCoG/HpKS3ANr+9IhXfsE5m+M1oF+TPP2QZVr6XJP00MKfPGjlobP99t0v6xv4iUUqfZic+Dy7kRcf6PKn0AeEP/gseSATuhIGkzHd0B3QY7SjH5MimnbcJe98VV2LLgsBE2csVixcLHgsaI0/u97K+BQe8WuxyafYwCe+ga9aKFuQ8hMLTQkReVesWJn1IWGZOGniFp/zSa7glw+zO/0CfeiDj+NF/XhChq7xbAEghtCFPvmDpNYiSMxBz3164od0FxsYARsS/Nq4j02bGCfqWRSJDfzXwsY9yQ/aFlVkIwNd0CHgEx1jBG3jAw1xCD/uhR+UvIBFlrZiGBhfdKB/PMU5GvF0NnSIF7ZiR7aiKz4WTwbAuXt05MArO7OfGCzWsL8YA/TFFtrgySe6sTCLI3gAPJDLfX4jfojDFsHshk8o2wD6MaYtTmNuoD8+K8mJNug7+BWeYsPC0xG6wTfQO9uccMIJ+VpddhQn9EVu+rLRAcY1HQXwSn461xc+jBEyxZsOztGiM77DP/ilhawxYZ5hN3ox/2zYsD4/3aOPww8XU1LcTvyEL5AxfMAn3w9++V2Md/EaXeNB33Qg7qMbc55NsBdffCnZ+JDm3Hed2yxIyeMNN1zXzE1JpgX+Pmls8TF6ePnlV7IOjSfxnP/yEX0H0KNbG5Whp9NOPz0l+TOzP25Mdem31eM+WSYJrXLzPh+O5CzmD/QjrpPXOFRX33yRHwE94Muc4D5/JadNhU2pHwnj5kSLr7Mz4AUfe+01K+ngwHyPvt3nJ8abJEhfbCJu6Z9uIGzSBRuJTxIk4CN8DH98hBzsVdrUUcpCj+GnykLP2vF5tsUHPzBGJX78VBvjSgxnL7Fdv/wgYNNFPELXGCev2NiVh9zGM3uJs/jjv+zBbuIfH+bP+uLv+sUj/yjHvk+0IrYDnyCLMXPDjTfkzWXAh18wx7PNMboMOc2vpSzoARrk4Bt0RS68mnP4Ot8iT9TXBz6MOzDObVhaH0h41TWW+GPoxSc54qioqNg+DK5qe8CAFvhN9CYug9pEb/KXTJiAY8IzYRisBrQAIdhY5J5xxhl50Bu8EWBhtIM4JiC7jIK4TztSEsYoRxsvESgEQNeCSCACn/rKykDonnPBu3sveIzgE9AH+uQOaNML6uqPbgRQT2LIZPfVUzETtyc4Jf32V0DtkLU08bx+A3mGTlrgFVW6dQTfAnbAtfuhJ+0Eddf4N+HbtTepmYgsUOlCXXTsIluES/rI4X4ArZK+cnyQGYIX9dyPSQjUD59w7gg452cmKT5ocTVQ0v47UFW/dJVatzcSqEWyGPpBK/M3UEefnhoGlNN/6Fo7P5YDyvL1AC10Qhbn5Cv5du3oBXoLXwD+bEfZ4tVk7omahSs9R3+gH09LjCe6lFzZmY8kh1+hqV7AveADr46g2co7mPBB2AG9kJGvgmuTuV1gNPkMGtHGeegugHapM9elT4L2QatcnDjaJx6fzffoydMCi1oLSoma3X+6LPXkPNp3ETqAUg+gPn8vr+Pcp2t8GO/qWcA5R8di1verfapX8gPaR7/KnZd2ohO2KscUlG0CaKmPF9CXe+i5nxdySTd8SR3juKxf8hJwHfejLGRwjS/tJTGSD30oR1sMK+tGe9Am5DRvWMTahPLGCTsOjue2P235tcTMgpnckSijhUcHRD8+2SPkg6gDQTfq4yf8G9gw9I+O+/j09ggeJSDGp0TCgtp484SZD+LPeHToc/785/Jmzrx5czPtEsaGOqEr59r78Zu459O94B9PDvzp+8gjj2g+/7nPN/vP3j/xtUfz0Y98tDnl5FOSXVbmJzteW3zllUXNpKQLbWLBja7F9ec///ktr0uWOoKyXz8KNiHra9DvY/Ns/fr2aTN9lvOea/3py6FN6BzEs5gPQnZ13HMuzqhPTgnEZz/z2cRrm6C2vOWmOc6rx1aB9XlMDr6h4smmRF4dCSx78bvgrR+6dPHGV0I3zkMmdNwr6SkPHYJzR8iIdpRHW8mssWrM4hV99+ONiIC2wVvoX3+OXgg+QX00farPTmg7d1/SJX6JaV3fCBmCXrRXl77JJUG3NsCztQPfC5T6guAd6CXouw/o4S141a4rizrKbLBYA9pQsN6UAJsTbH5Ff/FZUVGxYzA4GntAAmj3y8693WpPDLx+YtctvjdjFwna3b99c/LhlSALPOd2aQU7Ty4iMERQigFtJ1Ww6QWTnh0/r3BJVu1Wm8Aj4QHBxxGweHMdT8ckHvi1MLerJ9gJRBGM4rMMjnhzxESkDJ92MgUsO8B2RuMpSgRhfUHwBhY9eLYYidd06CeedKSeUtLXTsYlXHuiSH5/Z9DOoEl1+XJ/XuSVLTJvHvhTGfgVUAEvgeCFLtkIPYu4eC0PTxblFnH0iif3lOHThKAdfvRZ8om26zhcl7agT7y4Rwd4tKscdrGjzzfwHf4Azi1OvbrFBwehzuBk7Q/sTxg/Ib/W6/s7YEHltSWTscVaPHmKNvgpzJPv29UOufJ56jeQE9KB+iGfw0JHku01QYtc+rW7b0FZTvgl+BN/ALujri3mfuM3fiPTtMPMxiX4nact7KaexM3i2g66McpeXiMjIxp2ge0kG3sWifRMv+EbYafwC4hz7fVjDNkR91pxvFp8yqmnDLS1mdE0K19fma5bPyv9rXw1FeiXH4R+QX98wD06jCcBXteSKIodFjPKbU6JIfzxt3/7t7PePUGwOChhYwEdSQnbs4enUrEbLwExXvmfXWygN7vs/J/N+GL2h4LX1l825wSJruk1Xi2TMFjk6rcLPNNnxAT84VmfZJeEedNA2/LJcnziY6het/7zRui7py+benb9jTPj1lNYC7mAukEfnLNLfJKfXvClX7pzbRHIv+3kh43ELrqkYwidBf3yXJkYwof5LNuWC0vQP13YMOFrFoOe5vFf4wkN+jPW+DbgSQxWhncxTTwx3vXPrvgPPkKXEdPp3fxFDnOLhbNPfifeeYsGPTb+rd/6rXyfLxpf/MucKKb/5m/+Zp6X+JV7EcscEGPPuLa4JavrsB0Ebz75twUxebymKYHFFz87YPYBKS7Oy3MB+37lK7/WnHPuOY0f53rssUdyDMf7wQcflDf6jBmbTXQZSV0AD/p7+WUx67XMiw261WtWZ3+UKBoP4UPas4E4w1Zk4dvk5n94Rp9NxEF6pic09WX+1YdDv2yrH/ya360bzjvv3XmNIWGkp/arBa1uop3PAZPmjT16nTJltzy2+Bcf/bVf+7X82ix/kZABXvlSF3h2n07ZRLz1pMtYF1/Fa32EL4m9fCtsxvfIRx8xxvCOrqSffynTznihv3i9E3+SHUm918z5vvhLRkCjlbcV2Gd5XSLWWXTPBs5t9tML+vSNtvhAN+KshM/bKaVtSrBhzEexccsPrWHwayyjGU/3+IL4Ib7hQ98xF5Il+Da/0Kc1mvv8xIZMrEHIghdjDQ/qsou69K6de+LcV77ylcy/+KdPdei4O49WVFRsH/omjAa2Q7Cz0BIAfTpM9gKCgBpPIQR8E4snH76vYLfHdx0ELYNfe5/gHI0IcF6N8MpELwg2ESQg+IoD1IkADXYZJYboWoCb5E3+Xm2TfAhEJgFtINoK7kEDTdcR7MAuoO/RxI+M2GkzkYNJj/wmLIGtDOroxBNRC9077rgz8XZtDnB+bCD6KfvCnx8W8cqThYGAfPlll6fJ5YbEwx1JX08Nkd+EBfgnT1yro1wwZzMTh8WbicREylYmLLKpQx4LKRMaWbwmxJboshdew44B/YUulUXf4FwZPvTtlRV9e1rhNSSTBF2pp4/Qv4mVnuPphPvtU6yhE+XECRPzhGWC9Cts9GVCW7V6Vba7hdTtd/jRhg0DO+dtQlk+YYToHyYnGUIeumNXr2AG6EB9CyhPwiwefPmfPenS5FfaMoCmNmE39eyA49NCU5nEpVzkg7FigeYHHSyoJdImf4kLm1kQsq0nlPzTGNQGb/gIf/cJ+HA/ZATyoEXvnuLzOXw52ImvLEiTt918/mFnl32ef/653JbdQ2Y20X/o033XpU6chy4sYCw86E9fDv5hHKFr0WHc4EXSIRbgkR1KWNBYAEkYPKmiC/X1pY3+PDGySJP80KXv9JBbO7zQkeuIN/h2WLTQuRhiUWJcGDv4tHkUsoVtwQIajCMLUotBvsw+4hIaFpH6jtdMQ2cWnl2dhZ7DbvoSf9kWv7FBQI90xWblRlzUDejLPX2B194s0MgkdsfY1KcFGXn4Hr7Rt+DFkzrh2wF8l7yLORbsbONptTalrsBcQw/6FnPEb7YPW/BnfXiaRn/8RHn4mnGArh/2sUGIR2NMOeBHe/IAP7ZwZk/+QG9kt+glj3pspww9yaMYpp0xak4x7vkRXeB/6OZWC7TcF2P1YazSmyMQtuRn/M93uyTE4gNZ8fDww3OyDGIX3+O7fNzi2PyAr0MOPSx//WLBghdzHbzRo771h5fwMRttzp966umkS/58S45fFvMSzLwRmfQpXvo+uARSXJA40xPdsIENGva1HkCfP9m4cB+PxiCe+CbZ8WnTmb4kHfHklizmnTaJaGNUOQbc8x1R4z58R3k5J9nkECfZyzmd4pec7nna2IW2eObXvifKf2xK8Cf+wu+te8iLhnFF5/rGR2wkidH8QF8OZT4jqRKT2IQ9Iom2bjButQ0flKxGbCN7OWbpV7tSL4HwKbzrB59kMq7ZDQ/md/ot4xee0Q3fwLeDTPpgY2PXWHGPHPyKr6Bh/uPf5BRb2zXOHVs2T8I2kZSijQ9681QeLbKzF793X5zkH2gppxc6D9klpREj2ATIKX4oIzs9VlRU7Dj0/bMaIHgYnD4txmKRJria1AQIgxoEI8HVgkPyZ0dNoHUY5Bb0do9MuAa0ICKIWaAK0gKyINGFhZYyr7aiE4hgjBeLInSDF/UFYosFAcxOlPaClAlEkmr3Sf+SPrT0QyaTi34sUrSTeAqSAqNgpw+LHjLYwUVDoBUMyWJRoY7A5T7aQHZ0BVcB2q+HmeQFOX2tTvo65JBD0+Rhkbm5Wb5iebNnCpz0vs8++yd59kkBdX6zOAVNep731Lz8vbuPfvTjSQfrM72TTz4lB1sLILTpXv/kxQsdKccfvXnSYVHuHjnt7LGjJz7KLGbpiSzk1IZdJX10Ba7Rpze6pHMToJ17k4326vAd9OlBffSjvcNimp4h7GFCeMc7zsg7zu19r6kM+kDy0OwDdpdffXVporuuOe64Y5PODs/9mjD8ciy+6CJ+nMAv0/rui+RMX+zmh25OOOH4pOf9mlcWvtIcmWRgC3zMSLb1YxVktqBzmCAlsxZXeLCQdp9fWwzQEZ2APsJXLZTsgOODntnFeMEr/7fxQg/q8zefFqdsZAypy9/xzp+V4cGnRSH/087Eiwft6ZfP6Bd/5HVPO/4HrvESfqA/9cji1wpdn3jSic3MPWc2e6S+uPXLL72c6ra/Fmo88FUHnRuDfFD8YG+6KfvjJxaO9GghSXa+KH7wOzywFzp8kj3JZuwoswFD/xD6deDFJ3vQtTjA78Ne/FJ9/RjHyj1BCl8w5vHiEOvwLSmhO/aKNyosykLXdBa86DuAT3px6B8f+osnFHxLDGXHWFQF0GVnfqId0AEeXRuTeKPb2DzAmxjDZnxF/3SuPnnYWJySDIC2Yo92dEzX+uSL+iKvZD6+H4t3OqPbeCqMP/TQsaikR/fJ5lN7wIsEgk49McMnfyuBpsUxG4thxoE+6Y7+0TOW6Q8fZEFfOb8iA3+z8JRs6YtdyK8cf9qIZaB/eqFr8wSbukdetBz0zVbxVNMTP/YWCyLe0TfdSoQlTuUCP0C3ZGIzPNM9m4uLPiVSdEhesYofuyarvvkVGdhzzzQGJU5LU8zzC5Xehjj//Avy9w8nT2p/7TWxnWMF3ulaLIq4EmDjW1OS6E9o0Nsjjz6WxvmezYc+9OGk00Obdes3NEvTfNPadO9Mk/7wQBb+z874kkyQmx58snfEK3HAk05tjSV2IR8f5lfiDDn5na8GnHjiCUn3ByRfXNmMT/wed9zxua0fT6E/T0+PPfaYJIu4tTrpb2L2Q3zRH97QYm/9+AoLO371q1/N8ns6HnCfLciP54gxfqjHU2NxU+zDMx75lbriHD8x7sTeiB3szB9dh66NTwe/RMM8IIHGBz/Sr9iNZ+f8nA+wWcy57VPXvTM9dtPP4LzY9hVxlt9qIzGkY7ahB36Gb3rh7w6+Yfzqk++j40Az7MWO+GFnPi9xY1dxDV32pQN90Y0NADy6ph/leOcrxrjx6Bp9MVo80Y+xI0nHE507yJDn4NQvHkPn6FhfsJVYoMyryMYmO9gY4BNdn6+oqNh2jEuBoc1oOigDnuBj8pJsCSomNwFBMDU5RF0Tr8FqkhIIDVhBStCLnW6BTnBA06BHVxBGOwJiCUHJhKIsAhnoS2CJRbiALmgBHt0XaBzamUwEM0BPEERT0EFTP4Jt8IAvgRG/6v/v//2/M12vxAnM+jcx48G5PvChjUBHNvXRDl7RoRsBe49pe+TXi/TvzxLQh/MZM/w9Nz92szLxsy7pRZLiNcPnMy1B1ucf/Nc/aGbvP7v5b//t/5d/TW7JYv3umfVg4c02gqy+8YsevuhAeza0aAZBFV0yOMCki086NYnF7jd9osOu6vIDuqMntNk/bEEefdNL9G3S5At4o+P4efF/82/+TZ4IAH8WYnYVTRAm4PZ++72GFoOfEuZFi7wSuj4vECelRdOqVSvT5PxifmXJAiueevkbaWij4+9H6QsfeJw+ffcs16JFi7NfT5s+LSWSK5IO6X1GsuHEbJN4QkDHFhjkZ2s+b+L/oz/6o+wnXvkFfeiPT4Z/xLihUxM3mhY7yugN2A5dUJfu2ZZ++RcdBtRlT3TwYdGgrfts5GBH9/SJZ/2wG/A/PhJ21A4tvKXe86ISXWqneRsUbM0v+F2rk4n5mn61jzGgTP/O8UwXZFFHffIAG7ivPv7pgm3oWnu6Cx7patAXEk8D5z5jAQrq0h19R3xAix6jn+BJPXEBn2SlH7oijzr4DP2xu36MG4uVsv8SeKZruiAPiAERD2Mh1wXd0IfPiEna4J0c5KEbdlMHbbwZb8aue+yNHwc9a88Hg5662rO38ugTf2SlAzT1xdfph161iWQKDfLTibbhP87xR251LDD9KRcx0ytkbAqhL7Scky8ScXEJv3igZ5/ux5jTL94g+2ZCxFh0tNGPdvhqY+r6rBdwH/TBz8mFX3TLMn7OL/WBp4h9eCYnftwz39FTyFQidIeeevjUn77wyBddOw8/UUffZMUzu7V686ZA+9rdK6+8nH1z38TXlN3oou1bnPL3GfWnXD9dLFmyuPmv/98/yE/NP/D+DzRLkp/vOXOvNLY8KSR7O5/jZ+pUG8Xtd+3btkuyTujJWKQbtiEHHZOXvvkcnYXOQ2764nPAP2JMSExnzfJGk1c8W3+fNm16qq9/myi+oyaOmK+M5TWpve/Wt6+8gjGMN+OXL0pcjIn/9t/+W95Ik7wG8Kx/B561c85PI14AvmPMl7GAvfVDJjLwR/KiGz4esM7hL+iap8JPwqdDV+iG3ZSJP/TrwKN6+ODT6qrj0z061y9+Iu7wm+jLpzL2o9vw917Ql77phM/i2z108UtWuo34jTbdmePxoF88Rbwiuzrkwq/4wFaxXrFGi7kP9CWJRpOPAb9RN9obU+TgX+gqUx9N98LHQv6Kioptx6gSxl4QpKJcXQN4JERgi/OyvfOyv2CrFw/agrKoh26cQ7QTVJTFdVkHetHvQqD74z/+43z+X/7Lf8mfvYB2L77x25081GvrDPIzeK9F/q5YmhxNND/60eV5wjj22OObhx9+qLn1tlubz3z6s3n3UJfqmmTRCB0HP67xEPSjvKubkaA9RP2g18uuvWiq73U8O4p2A00WXkmx4/+lL31pywStngnTZGOCMOm399tX06ClP+hz5PddlwkT2sV36K49l2g612bwOyASnKGI72+0vKsHrWyDvhYyg9eovBIjsTUpeg3OhP47v/M7eQLsItqVOgo9dlH2F9A+dA1RB+I8yku6cc7m4Ytxr1sPyj5buJ/q0tFglwP1Butqj0f3u3wEbQg+4n7ZX8gYtMqx455DuTJHLDKiXyjpRb/RDqJuWQ+ibvc+KOt1H4ZrR1bQd1le0ovzLh189tJjyb/rqDMctAF1y36Cbj90y0ueevEX5wG7/f5mmgW97wmWG0MB5yUdKPss/RbKvnqhy6P63RjcCyXdOPeJhvYj9TsctIVoj6bz6CMwMn11g4YffurG8NHxJ8H5g//6/2k+9MEPNp/8pCTK2MJPWx7AWsvrYGzphVI3w+mpq4dAaTO8tEfEgba+8/x7ZPk8f+Sj1GUv2EzzSqkne/GWQC+MRAdK2brxFJRFnbIuhIzuR/1eOi1pmQvVcR609KtOmWB10e27i+gD1OteB3rpxD0Yzh8CJV0IOnGfLOiMhlYg9BifXZSyl+cVFRXbjr6vpI5mgKkTx2gQ9Qxgg7xs36UR1/HZHfRleb/z+IzzEt16w0FQMrnaifMKEUSwAzSCv370uvcHr322R3tv62u7p169sQs+d97c5tWlrzYXXnBhfg3Jd8oSN6nu4KKh7Mt5HIGyXnl/JAxHJ9DrHoS+JIF0GV9a97qKXd946gHamoQlikMXicpMDmhvzUsc7XX+N58P1jVJm+Sct8dA9YRYLJVl5Wc6S59xDs5N2HZrPVmUCNvR9ApUvIrXhTZdXylpln5e3u91rwtl5eQZdYNm2KCk1etenJdQLZcN6GOwXtRFZ/B+Lz6iLK6jjuuSj17XgTgv75flgV5toN85hJ669wP97sNI7cqyOI/P6Bf61YVunTjiHpS0eqFXu7J+r/bDXQ937kDP6/zGiHEer2lD1IGuv0Tb+HT08ql+KMvjvNsGTejWjX7j2jHcuBotglagvI7zsrw/ShriPl7iuv10PRItiYgnRUcddXROotr+o+3gJ7T6H56/blm/um0/W5cNvRfng3phAlXa6zgfqJXvDY0bJcRpT/PjCd5wiLbD2be8H+c+y3MoabQ6HOzbeZQNh6Bb1u11r4vhyiDKg8fyKBHX5f1e9foh6vZrQw+O4GM4vUNZ3s+WQSfOKyoqth99nzC+VTFcsBmurETUC9XYAfOKg0nHhAOjpQVl3W67XtfQ6x4evO4huTLB40e9bpuSZpf+SBhr/eHQjw9PbCVXEkKJVTxB7Id+PO0IXsdCo19dr8R4dcbrQPH9ihI7gs9dB23SPRadQdR/I3TR7eOtin66GY1826PXN8ImAbT9KJCNH9+fGmms7yzsqvqCnUVfwvjiiwsaf1fRa6cj9TkSX2803yX0lUZE6q+9HgvatqOLF9sq82h1Mdp6MJa6vbC97XcUdhU+Kioqxoa3XcK4o9HrdYxdBS1vduZ2XR5LlK7Wi9e3w0QSMr7V5aioqHj7olesHYxd+d98XlFRUVFRAcO/m1GRJ9VdcfE/OOGb5N8ak3voMRYmUJ7vinoeDcjQT6aKioqKXQ3Dx9q3ZhyuqKioqHjjUBPGEfBWSGLeCnlWJFH0WerUeTfhequhlCHkeyvLU1Gxo1GO8To2dk1E7KqoqKioqOiiJowjoFzo7EqIib37uaui5O/tuCjpyvd2lLGiYlsR40EsrWOjoqKioqLirYX6HcYREOqxyNlVFjtv9UVX1+XeTgvIt7ptKip2JMr4WbHro8avioqKiopeqAljRUVFRUVFRUVFRUVFRU/8ArySWvPhioqKioqKioqKioqKbcHb+AkjseLwis225Mahml3hFZ2QoxeGK9tWhOz9UF9bqqioqKioqKioqHi7422aMBLJsWngU7LoGEuSEzRAuzczQQpeevExXNm2ImgOhx3Z3+jRddd+37eJevX7OBUVFRUVFRUVFRXbjrfhK6mRUETSE8dYsS1t3ggMx/+2yvbWhQQwjtFA4vi23BOpqKioqKioqKio2AkYVcIYi+5YeO+6i/DgyaeEYlufLII2cQTeDJlLPkpeYLiy7UWXdq9j56P0u+GSxijbNf1056LUQdVHxVhQ/WVseDvoK2TYVlmqz+zaGM4+1XZjw1tRX9XGFduKXeyV1GAlEoHBa1yOG9eL1cGkYXOzabBlajA0oRhNbiwR1o/zsi3o2+F+t2znYZC/Xzywadi1V7K4tc3be9Cr/i8aqi4qthW9xtZYsSNoVLTY2brs1V+NJ6PHruT7vexW8vd2seuupPOdgZHkHas+ftH0VzEy+mZRnMXRD/3KhmsDvcvdi2NjOnz3MD7dS4ngOOftsXnz0LI4b1078e08O3o4+2idPhKRqB99DOjC6ZuMUY/ffryOIMMI5mvxJumBbeIYCezlGEv9QG8ffWsjdFHi7ShnxfAYjc17jYXRjKF+KGk4j+tNm8TykfnZlbCr8Lst9ih57yeH++wCpX26tgP3HFG/H803C9vDz2jbdnUS6N4Le20PT4EdQaPrPyV/YdedAf1tjzzDtd+ROu+HN5L2WEHekp8ub7300Yt/9xzb6gPRfqzYljZvFfSSraunHSF/l+aORt8njG73c5iyLCaVCRMmbGF0OEfrXcc9E9XGVC45RKudhMaPH5/bRJ/uO3d/3Dhl6jm00QLdVJZPtUMv5cX660iaeUm31d28WZAczJ8jQTUXZl4360uBUryg7XygfKdAP21fmfd0jJ8wdCLPrJKFsFvYihNt0kfmN87d1ybaDtxKF2gOla1tt3lTuj++vR/txo6i855QDkPr4Gc0+g6d8JN+KOUb7hxG0+eOxEj8wFh4NE5DFxs3bhwYPztGppK/sWBb240FO7qPrq43bNiQ702aNGmrsrGi2344esrcj8/Rolf99p6zwX5LHsZCvxdK30MP0HTfp2N7++HTYB56I9GPz1Iu6Nbr1S7ujZbm9qLsZ7g+oyw+yzbQbRfxJNCLbhf9aO0ohBxjif9QXpe8dcsD23K/ew/63e+FsdQtEYl9tN1ePsQ++h1OxyOhn56GQ8ljt32X/22hPxYEfboQe0pddHkZC8bCd9mP8zjw0tWF6yg3bidOnLjlnk8+EvF6OLtG/S7cL9GrTj9E27G0eaMQ8pXyjJWvUkfleYnR1BkOwV9JA8ZKZ7TomzBymiVLljTLli3LTHAs4GTKpk+f3uy5557NCy+8kO8df/zxuRwwq83YFLGxWb9+fao7LjnqxPRpAbBhgJZkTRKYHN2TRxxnem1S53RTatdsnthMGD9JYTrc4/zrWsd3a4ukJsGWL7fG5+QP/cnpPHEiSRy/LtfZ6CIlo+iKt1qMG2eClLgO0Mh0W+Ihe3uRe8rlbX9uRr38sQVF0VAaCa7JsGnThEStHcSKJcMTslk2Zhuo17YN+i1v7Xnbpj1vb/g3y4NH1+lGm2y2hZtSYqjN+KQUyTTam1I/bRLetm2hhSNdZ0LuBco6ENc+uwGpLQt+WrR0Wx8avyUo46WLtk57P/TX6mOo/5W67aJLt6QDw7WFbvt+6NJxHQHaeT86JT/l+XAo+1q7dm0zZ86c5oADDmgOPvjgvn2VbWC4OqPpv1tntG23B/1kGytKXaAXk+pzzz3XPPnkk1mXp556arZfV65+cgZvvT5LdNsF2nrGZXvdRdALlHTjftxr68b9oQS7dEZC2Q+UfS1fvrx57bXXmr333rvZY4898n0o++jVXz8eyvuPP/54joHHHXfclrmqJ1Kb1GjgYseCfK+++mqzT5Jv9yQf3nSXOs3lXbTlW5f1krVEtBmpXj+wgTiw1157baUrC9+lS5fmOMtOJfS7bt26ZtGiRc3uu+/ezJo1a8v9iF3m8Jdffjm333fffbdspJS8xnV5v1tnR6AXzW6fMJZ+o02gF/+9+gj062tbeRlL/eeff75ZvHhxHiPsp70jbMcvHPvss08zderUYWmvXrWqeTSNudmz928OOvCgfG+s/HSxI9oHSjrWsStWrGj222+/LHcg6m9Ln8HrypUrm4cffjivk0855ZTmoINaXUApT/e8i171SvS73wsLFixoXnzxxeakk05qpkyZ0syfPz+v1WfOnJlpvP76682DDz6YeX/nO9+Zx7kx/8QTT+S4cMIJJ2RdqdvttytHrzr90ItWoCzrRausC8P1F3X70RmubYkunfK6H53h+gbrBmVBg77ZSiwO++zK6K7Yt4BgFkM333xzc8sttzTf//73m29/+9v5+oYbbtgySFzfeOONQxQYSvMZ5yWG3Bs4jaRw86Y0geXPCfl800Y7xilhS5lRSlvb+5snpPvj0uRm8aZdus51JzZLli5PC7kFKTC+2qxbK7lRPyVbGyVc45sN68c3G3M7R5sAmyQ3bNiUzk14adJcn9LSDel8naee+pqQyptmYmIlp60pqco0U3tJVSwg23NHm2i25eVhVyfqxr1BXqKtT0/xgq7+Nib+9Rn6EuMF+vWJV7zhrKWvnfpBj1xtezrYmGShB/1szPRTmy4fqY/NmUYrp7atftKBXqoQOtDW+aZk07a/lncmjut8LyWZjvZa2YD+cj1Hq5O2HT6UO1I/uVy79ulyP5SDLQZlnAe0j7I4LHAWLlyYy4J+fHbbQrd91InPLqJdCXWjP/4n+RDAeyHqQbe/fn0G1qxZ07z00kuZtroWBN/73veahx56KJf3ax+044CuHGVZF926JUpZ3khsE/0efJdy4t05nV566aXNddddlxdiFsrQ7bNsGwga0Kt+fHbLoNRdj+It6Oq/Fy0LB4sLPpJqZNG1i2NVWhQqlwjFPfBpLPZC8B1HwDkfv/322/PipERZD8p+oFseiPvq3Xbbbc1NN92UE5q4F+2HoGjTngx8dOr3ax/3e5W98vIrzZ133NksSovy4M2H88HrwXM04ro8uuj2WdbrxcdwUN/Yv+aaawbsPhQW1nz6jjvuGLgztA+L729961vNlVdemf2jy7Nx8bWvfa354Q9/2KxevXrg7iDMt3yKD2hXyjVajLZ+yReU7ZyPRofdspA3DuUlrYB7ZKWPV18NWQcKe6DbfjgET736HA6PPfZY8+Mf/3jLeLZQNfdFO7zedddd2cYj8WMe+clPftI8/vgTA3fGhl68Rp9l2UgyBaIeGl3e586d29x5552Z5xLdumPpSzvz9v3335/XxuIavfWjUfYT/ZZHIM7RKWmVdaBfP+6z8yWXXJLX53zQWH7mmWcyDWMezz/4wQ+yrY1hddyzLrjnnnvyvUC33168bi/Mnd2YEIhz98tjOJR1unoarm2vumX97nm3PoxE34aiMUdmdcVb+RP5e9Hroqwzmvo7Gn0TRsnIjBkzmkMOOSQf8+bNa+69995m//33bw477LC8e7jbbrvl3UZHu+DflAcRRXSVCxyzixRW87+SDk8IvY76ysuvN3OfWNi8utTTpMnpc2NKXucnR051x03KiWPTTGomjN8ttUvHpslJkN2atWs2p3YvpKB4Y/PTq25rXlywONVJdTdNSuWTUhI4KdFa16xJ89j4cW1f41IyKtmUiC5etDItOu5L8rzWTJzoSWX7xHLd2vHNU3MXNg/Nmd88+cSCZsVraXGYecVHPO0ic+IX3dRu3Dg8KXedaA3UV+6e66aZnD4np3J1fe6Wz3ObTEeybIc2HYm/9Wkt9Oyzi5rHHp2fAvXzzVNPvdQsXbI66TUlxalNrjfQ5+ZEvz20n9hsXD8pBbT1zcoVks6UXEuwc2I2kGynz435vD2cS7bxsWTx6ykg3pv6m59otwn6Znxl3iYP9Jl4HXj1N4XTdN8n/oOfll6WOcmZ2yXeWj0kmqlN+4oxeu7Tv0NfytKtNEB6LVTLgRMLRoj74Zuu2cpnlAmOP/3pT/OgXb58RbqjnBh0sykH2PBfn3E/oNx11OH/do1KRBmUZcaYQ7JqgWXXr6QF+CzvBd+BSFSgW6adcXvFFVc0jz76aL6HPwuD0JPrUp4SXXpxHZ9lO3RKXvAb9Zyrq457UWZB2TMmpDL16VabXlAe9KF7vmF90U5ZUV7S9BYCbGmPt/xfi7Xr1g76VCoLWSwQHnjggeYjH/lIc+aZZ2Y7BsJWgdLm+gkagZAleNBfv8RHWzpbLxgU0MdGu1wDaHU8cJGg3L3gbcOGjWlh8Xhz+eU/SuP66dxHlEU9G4YWQ/wyeCg/HXhn97gfcL+bkHjaZM4IlG3wp030XfbTytb6SfRZQn2LDfNQ+FhMyKBt2RcoW69uYaqoH3WDj7K9e47yXnjLhEkTmj2m7bFFxujRZtqaAf33Aj2V8gUGz30O+k05zlx323T1XgINC0oJdhkrA8akxTWbd6GtZEM8kTRKOOI+6Pvuu+9u/uZv/iZvKoffRzlePeG6/PLL8yK2tLdD/bVrw+/zR6bZla+l52nn0HFV1oNu7Ag+QN3umCihPPgLDNLnXy2fitUJHwi4L87+6EeX51hhbLYhYrDeSPzpP8AupXzKQr8QZeGXZd2Auc4YYXd9saO5Dy31PRX25tjkyeboQSgr+4JNKX4sfOWVZnmxyRn8l/4Z6PKjLl7LTYWooyx4cu5T3dBHqZeuDssyfLgmjyemveQq6weCj15lEHK+kuT/2c9+lsf7Jz/5ybwuLhH9B1x39VhCv12balPqM3jzGeeBsCud8j3tYh0fsLl51VVXZX3gefbs2TlZEQ+89fHRj340r+3Lfkodd/vt6h+6eov6eFM/5Anb4tXmg7gT9Mp+xqLDLq9hK0BH+6AL/XQbnyPF0ojbJUIufJbl7pHRpg2ZwZjzZDHmjF708O3QHu3yHJwHQsaA6x2JCX+QMHC+FQhyxBFH5FfXTCAY+fVf//XmxBNPzI+sCSnwe3phsHA8DslBlRHIIaO2+Hj22WezM3NMi4ckajq8SkkwlymtSznFLTc/1/zgB9c206bv3xxz3IzmumvnNd//3hXNUUcd3ey3/7RU0SuaiXb6z1Oz8RMkGpzFrvna5rFHnm8efWRec/AhB6Q2B+SnhckuzaKF65s7b5+TeJvezD5gauqzferWJnETmmeeWdz88AdXNkcedXhz0MGz9JKfbj1w//PNtT+7NyWLi5snHn82JZxrmwMPmt3sNkUSlJomqDdu/IQkV5sAoTtxUssbfifk2cLEImnynHKgPAk/IckyYYIFDAdI6WZqI5lr60keU+10uSLlM5deemMzZ87zabJe1cx5cG5qs7457PCDUzBMzpvkmZRooqdNfgqaDn2sXtWkSZwNJybZWx2OSzxJDPE2caL2A7ykc09w0aC3efNeSU5+VTNlyrRk+yNTW3Kj39bRdgKekxLyxJnuZd4lvYl2+x1SfZGH/Jy+bUc/nh4Gv5LufD81SerMdrbgSqG9JYtCYkp9MFgEShOhXbSnnnoqD3KTAx90zifVi9dRLHSWLFmUX9d48snHm2984xvZdw899LDk1/un/iVxizMtNFeten3IYldd/Vk8Scic68/4cP3000/nc0E5viNgjNjpNA7s/JHBOLDDZEHh6b3BfdRRR20J8IIKHjyZMdmjhw/09I2ecufokafUi0W0ycHTBPfRdl9yfOCBB+bNn3g1Zdq0aQNjsg0yXjVHXzJLh6UsEaCMZbzZNTN5ei1QwPb6i3p2dLU3/tlAAPXqBX69/kJXdEGv6AfQJRd6aIQtTX7oo0WPaKPJrpGw2eVFG1/Ll7/W7JHKtMfx6ytfz3TFIQtXvqkcr6E38NSbvp+bPz/r4JWFi1Ldcc2MtJgCr/hcdtllWb/ve9/7cnws+ccjmfXhwA+Z8aGeSYHsoTd06MV9vOmT/vHER9iWDfgVfSxd+mpa9D+a+9l996lZD48//lii9XLuf8aM6bktPpcsXpLqL2mefuqZZumrS7fw8NJLL6cx/ZPm6qt/lm1/xBFHZlqhB/xaUFrc063XlPgHHlzTubr07Z7XmtiCXLEwjVecLELJwG+0sSDhq8YWHejrkUceyWOBvHgE45o+JDiehjqMCfyrE7yiayKmR36NJ3yQC59sUbZbm+jSjfp7zpqV4yOEPAuS7vExMclLFvHCJznUwfe8eXMTzReb1cku05O+J6RgtWpN+8TtoIMPyTFNnHg1+Tf78Fc0Mt00jvBMPv74yCOP5fNly17N+sA3HYun41PcRFPCgd68p+Y1zz7zbKZFh+ThG8rokd6NmyiPmFVCvFH/gx/84BC/BTaQ7GnLtyH0DPRz7bXX5r682mjej9da9fmd73wn2+vYY49tzjvvvBwLAnzXekGyqa5X+OiULoxp/vJC+ly/fkPSwfREt43zbf8DE2365Adk5HdCEf2KYV6RRYsMyowj+gQ6NV7cwzte+By900HENnEbL/zH2DQmtVX24osL8hhbvHhR1p8xy0Zs+Pz851KZeLQmyTwr2+TGG29ovvvd9kmP8WM9lQilRGthbuMInzA+AqHv8Fu84lssMQYjFvBD/LOx+/yZX/P5mCeMH/Lqm85cn3322ZnGn/zJn+Tr008/Pc85ZNeGTX2iRX8xlpXri8+9nnR88623NIcfdWRz4sDXkfRPb3jDM73FWIaQC8jCT2Je0A9d453M/IxejAPleI850/ykvjFFB+wdfNG19j7pVxu6YF/JUfBjfqBT/es3+sKjvpWhTXe9xhG933rrrXl+9ZUEOqVjcgX/aPMR/dMzfsR1fkg3eDPXiS90p234BJ9Eg474GpljLIUe4zPiiE1h9/i1/t7//vfnMUEGbZ1ff/31+Q0Ca4HY6CSH++TgC9b27uuXjsnBX4LnkM+44yPu04/xwv7usT9b0jfZtMEHWfkHnePHuMWPDXPlvtpWxgzyoIUmvZALTyB24NOYp0d9O9ge2JSu9Yc2Gsq8ch316Y0s+Il1FxvhmTz8nq+hFT6AJ2MzfAStGHOAT/6lLZuqz57G0d///d/nGGi+tG5Ak269yhzykSto0RsaeKN7MuCbHsnGNyN2kUOfZDJmooyOgJ7U2x70TRgR1lkMODuHFPPhD384C+++w0RNyFhk2qmg/COPPDKXE8wE4xVW54xNufvvPzsJYjJodxJS8yRREixNALfeMr/56U9vSoHryOboYw5orrrywebOu+5vTjv9tJQEpgHw2oqceEyePD7xZAJZ1UyaODn1lxYj+81spkzeLznJCymp26c59piDMu3lr6VFxW1PN9dcfUcy0syUjI5rVqaJZ+pUC5Sk7EWvNy+nJGzTpskpuB/RzJyRFt+JpXlzl6T+b8+Of9JJhyQjjWvuvueRFHwOTo69ezZMk5Kc3SZPbNat3ZxorkoJX8uLheerS1ckuZekJHN16jfpLSUjXnVdvXpDGugbm5Ur1qUF6bLUtkkGnpyvDaIpqa6kMvlEs3TJ6+l8crNiZZMSi581hx16XHPyKQc0jz36SvPMs082Z5xxSgpWE5sNG5tm2asrk6O/mpxvQ7Jbcpjkd6+l8fPs0yubS793bep7Q7PX3jMTnyubqbu337NZudIrub5jtDY59ZI8MUyabBI1Ga9qXliwLOllQnPMMcemxdDMLBc7Zd6WrsoDa9WqNam/NGgmT0gyrG9eX7U6JXyTEw2JYuojybV69aZmytR2cbF0yfpm4aLFSabXk67Swmc3rxSPT3qyQ7Yxtd+c+l6e9GuSSrYYSILTR/Yr5wH+Z6fUJ158R4+vWrQYpF6fMjA9KdfOgujnP78r+egROZhIoPjvccce3xyZJsDFia8rr7wqDb4nm0UpcXzwIUnVirx5YkzoSxLGTgKHMSB4CiwGrEMiZsAeeuihmRevbluoxUIFXwKXseLVEK+CCKDGjUWvcgt2wUHA1oYPomeCtLPpib/Apq2+Dz/88Cyn8QRo6DeCkEnC2DU54Nc949VEQ65YKLg2ZgWnCHwCnIV+QD0B6pvf/GaezE1aAqHxbZKUjAqmXn3Bp8An6KLj1UF8CeImRDKgbeIxnkxg6rgvKGtrMlOur6uvvjrHGnpxbYLRH9vTy6NJVwsXvtLcl/rdvDEl4Ucf3WxMznrj9TdkHl9NC/N777+vWZDi0SFJn/gKb6K5dRvWN3ckm16daOGBHuYmO+y/3/7NnmlR8GTSx53JZnTOhvSWaQz4JBnwSEZ6NvGyvcnKhCiAW1iLqexLdxbfYiSbkyMma7HSQsc9T27Yw0SBnqSFDz77bLt4pGfl/J7v/eAHl6V6d2Q7vZT89I47vJa1PI+DxYuXJv5uSvXn502SE044McsWiiC3ryLwOwuhd7zjHXncXXLJJdkOJjtgP8mzBZOJ7atf/WrmweTn1Uc8sS0Z8Pjzn/88xZFjslwSh/vuuy9PmMaL+nz36GQvujQu+Cp6+DGutbdhiafQd9SlL7phFz6kjfE0P7X/0U9+3MxMfmJs0YUnp+x0Anuk9kHrnp/f3dyQ/OTkk09O8XH3LJMFjU/9kuGyy36Y/O/57H/3P3h/ThgPPODA5rmUNNyS+j3x5FPSuN7UfCMtDh55+JHEh4T9qTxOjU/jlJzs/5OfXJFtIEm64Ybrsz9IpIzTVGmAr3HNU0/Pa370ox+lfhfkhMPTbTGLrtiXPMYKf6MHfRnT5EejXCzoVz1zOT8pIbaICWx84YUX5ntlW36INhnoOsa6OKZ/48uCk4/xaecBfOrb62/6PeOMM3J77X7606uSHz+Tx6Qn38r5jDUCtDGtneuvu/7aZKPrcnwTT6+77vp87vtYbMpv+YO4wT/FaHrCr9dlxTf0yCF+0BN+jUs+yN7iC7/Dm9gjxlxzzdVb4iLfOuroI3Os+UnyLUnsk08+kfszNiZOmpD1OGfOQ0mW3fK4P+igg9N6YGmOUQ89NCfrMmKvPowvoGuHecrcFQttMZHdHPiyMKRL6zP20Ld5yXksuo1XPmv8KieTscoWaLMb3swr/NlcxvfpwuLW+FdXf/cnn9ucfM488npajNyUfP3IY45ujk92Xprq4I9fkkssQ8N4687XxqdESwzjw2gbr2yOtvnVPf5jvKgv9pkf8Ul+9dmPjfFozSLukcFYoFdy0yvfYGd64dfmQ/3TH1taA9CXOMWuYnesV8Un87e27BQQs+kq5nlt+Tr9o61PMQNPYrmEiB/yK7yZyyUJ5gQ2YkcxE5+x1lbX3Eun9GEsm7MDdMp+ePSETuxwj98ZFx/72Mcyb+KG+YmPm5PQNG/Fd1XR5xvOzc/WOWTnp+rSN57FbPY0vuhIf2ytPj5iTaI+m7B/+KX5jj3EenoLe+BXzFCffm2sxNwCyvVjQ51O0aZz/LCZGGHMmxfITcf6Uw8tZfxYfX3iiY/hwTinf/GSnOQgozkYT+zHn8grXpjnjTV8iAP0pj9t0S3Xl7F+Uca/Iknl2/rkl+ZBY8OrwGiLITZo+ZKYCnyZ/5gT+Cue+S++XLMZWuQ1nsni3NgwtoyX8Fu8bS/a1HME6JjCOIUj4B5FGTwczQRA4RinSAHaOeHsZrznPe9JzE9KBrkqBQHvkxMAC22AJA/yflRGcjh+/B7NnAeWpwRselrMn9ysXeN7IuvTZPBY8/QzC5sJKRlauPD15pab5qREaU1SfpMm+SY5UVrY7blX5k9yk1hs5j75WnKo+1K7Bc2DDzza3HjDw82chx43BzUeAj733OI0uc9LC8wpKXGZlI72Cdcdtz+akpiVzWc/d37z8U+e0nzxly5I/O7ePPH4wjSg1ybHeiwlZJKzCcmRVjfXXXtvuv96MznNw3OfXJQmtjnNzYm/a699oLnn7rkD/Y1vHrj/2ebqn97f3HbrvOZnP30gBZTbUqLiVYKVzdVX3ZEGvF+wsiu7MbV/KDnd8ixHs2l8c/RRxzXnnXd0cpTD0oDwCopsu0kDcmnq5+HksI+nz4eSQz+TAqknYpsTn883zz6TAueTT6fF7iPpeCg58Kb8vcyf3zU/BYBHUgB/ornyqjuT097cvPD84lz21LzlSS9PpwX35HRMyHoBdnr+ueWp7TNJxseS3HOSXuc3G9cnPSxc3dx+6wPNc8++kmXwCvBtt81JMiSbJZrz57+WbDg3DSqL/wdTgJyXAkn7lPOee15oLr/swdT+heaanz2aFr23pcXWwuz08bS1BBubNAwS/nf++ednf5UEWvzwVwHEpBeQTAg6fPe4NFkecsjBeTI3Qbl3/fU3psB3X1ognpAm17NyohCTof4FMIHAoNanIC5IoGnyNSHjyeAWIC3qI0DiTx2BFU0LXwtR40f/go4JUllM9MaNwGfxbPFgIjEBCSwWddoK8HRAH+1Yap/kmLAEK5ONwEKPeKIX7TwFABMOPh0mGPy/613vyv2jLcCa0CBsEEmBQIj3d7/73VnnJgfBTx8mdjzHDwLQkcCOF30L6u6ZbPBOryZcceS9731v5tuEKEjSi4kKb9qeddZZWxb0wYuAfELSp3J2MxFtTny8/KLXw37UTEkLEHKdlBZFFgtPpWAO7XK0jUj8xYTAF84555zmtFNPzbbAl/4OTxOLidMCBg92//Ae4H8CNz8x+Z177rl5wsYb+UwSJhH98wm6o2Ovqmhr4auNCYedTTAWRBYVsXghw5IlS9Ni47t58XHmmWdlXd19z91JDw9mG+mD3g488KBU/s48ud5ww42JzgPJFgdmm7DDqelz7733ysKHGCZjExofMulYDLEnufAVsDCxuDIHODdx80OTsrFBLj4A5OBHfIy+6NlkSJd8B8wXfF0fElFyKzNm+BF7hh+WIG/4tH7xbqLnO/zfa7f3pDEHzz73bPY5r4+2b34Mwmt2ZPTjXoCmPs1nwE/nzp2Xx8W7331enuMksuAJrj7WJf7BpsP8NPcdddSR2Y9WJP75Kl1ZdLAtvt/97nelhOaopLdFeaInM/A/EN+fn/98jmFnJ38zLvgJWsYZGuSRDFj08B26Fi/4y/YixjuIHfgzvtjJwgrY3kKX3vkV+8aYiE8+JdYZE/xOPGBnCyZx44wz3pH9Wn+XXXZ5Gh8vpLa56QAPNrMeSfPDZan9gSnOnpN9mo9bEILxxe7oi438kH8aO3gXI+hJnKUn94xLn2QQB/kZ+YxDddEjM1/Wft9992lOOunkzJO4PnnypETrXc1pp52Webnt9lubqWmhLvEyzvDgCb5fgb/mmp9l/6MH/EmILFDFFfRKXcemkTGIF+NcDCKP9hH/JAH8NBIO4yugvWQDwibokN+4M4eJP+4Zt3yd/PzLfCfW4p//rkw2op9lyWbq+z0D5sGxjRJzGpnpjm2NZYvaEvoXD9S1SDZXGrPsF2OMzsVbYwuMF/4tOQFzI3t6GqYv7SVq7GPMGPPmCrzwA+3YjQ2NF/MAHZHJfKwuXvmAsWztIOaxjxhPp3RSwkKdDdA3h+nLPEAOOuTj7hl/8TaKuMSO4r+xjy96xm/oWbnYwM7BozmczcXWQPgJGjZlyS1O4tt6hJ71Y4ziiU7V0UfEdGM11gb8weGHcuhd4oIPPkbH+DT30p8+8SIZ9WNvPq1/zDfitPWKxDw2piPu0zNdiQ/mRn6AVz5gfiGn+NUFH2c//k3nYoS++CJ++Bh9iQXsyZ/plM+QWUww19o0UoYn9o65hV3IarwZR+g56ENf6IoRbEAP1gbK+d8FF1yQxwJ65KQbddXL64ykT7zi33jTv0+xwmYZmfgy3+XHeDMHQGze8TX1JI/hE2gbL8Y+v2VjOiCjN0PEFToW03Ykhs6WfRCBpgxmQLkUY9BQHMMThCEIY5ARSB0DzyJw5swZzd0/v7uZ/9zzA1Sw0L6WCKmbZs3aVclRz0yKWJ2C9UNJsdOSk8/Mr4K+umR9SmCeTcnIwlx/8eLXm/vufbR5ddmqnOBB6i7REXzHexMyX+8xbWNySjsqU5pZe+2ZeJ6RBsveyaG8V50ms1lTmynJMHf/PC1OU+LVvg7ptZCXUv1p+TXOjYm3GXumdDEt/lat3tgsWrwmTZiPJKOkTpNqXlu+obn5lvvSxL62eT3F7GuvvSc54toUPO2UzkyLjTtS8vNaTmrvufeJNGCSY6R2s2fPaB5/bF5aFKxqJo6fnJKwx5snHksJ2+SUBD7tCdIDzaZmXUpKs3QpkN/XXPnjB5uXXn4u6fucJMvuaTCmxczVD6RkYnkKxHungbSpuf6G21Owe6WZMX1zs8++k5tJaWLba+9pzd777J6Omc14r54mme699/GUQP+82ZAEnJEEXPDiy8nZnst6mz17arNnstnjj89Ng/DRrJM2kd2QkumnmmefXpac9OAkxqzmyituS4F+ebP71N2au+58OCXIj+Vk/KWXXm+uu/72ZM9k57QOu+7ax9Ji8YXm0EP2bXabPCslhnc18+a+2iT2coJ+XdLbpk3rk92npglvXgp2L+ZXldvvONJB6ysBE49FVCzcLc4FGf5nMPM/9wOSJvfUOzy13Xff/bJ/2jH25OX2O25PA/vY5uKLL2rOOvvM5gtf+HymY6IyOAVUgZfPWzgawAa/4Cu4GrACo/4FSX5vIohdbn0J5Aa0YCtwa2+SMYELMIKtPgVU/ArAJi6BShs0jUdjTf8XX3xxlgdC1ixfSi4s1EwQAlKMZWPV8YEPfCAHTYFKgJKMClgCjkM/MQmXiULAjpsxL3ja0cSHAC1w4o9N8Of1N/KZOMj/6U9/OgfqT3ziE5nHSCR8iiuf+9zncrnvCHq1Bh0LH3zgRxB1uG9hI+DTkT7tgtPZe977nubcd53bbE731qxdk++ZRDcknZ2eAvaHPvShZu+kd4jI5hWzG9Pkt2L5iuaLX/hic3ZKxN6f7GkStMixADO5sTVbmcDoqYyN+Ac+wBdMul/4wheyLi2w6V99k8fnP//5PHmwq8Xmpz71qdwXndIZXzDx4Z0voHX66S3vJ510YlqQrEn3zk7+dWYrT7Lx/JRcZCQ3OCb53Pvf/75U/o7U1xeSL8zM9p05c3pz/HHHZ/0dm3x9+vTBXy0FujWu+I74rm8I3gMxthwmNTJaiNsgZDeLA7ZRzp+Nn2hHT/THP4wln/zGIoAPWUQZ1xYBdKKc76OBXgn0TPD6pE/65vN3Jn0fnO4flRZFdKztiwtebHabsltzclr09wIfCep8LeQDn+wNNnvo/IzTz8jXAWPcIlc9C6oLEv/iwimnnpIXFfzcAo69+X+OM2m+Y9sNGwa/f9J6paeDm/IYQWP33dtX59gDDQsCenVPHKErOuN7xqv+MqXCZl3djYSyPpuJORaG/J9vgsWWxTa7W2DhK/QU7cUjPBr/2vItm8kWYhdddHG2nVjku1Ve+7w3+ekg2+18bnHl5he/+MUk5/lJ3gu2POEA8QNN49OY8RkLLzahJ/4hbot9dC72kUk8NjbEEf7fxpPxmSaf5HvG16c//Zk0Pt+d5rk9Mp2zUhz13Uvy6lP/E9PkbQE8K8UX+vBGlbdUJCtJITneg/FHfgtaKP0Mr7E5hE/+T2f8nC+wtbhrngl/43v9gKZxgkdJAx7YwjjRl7I4jJPwX/7k+NjHP543LeY+/kTWT/sjdmkcJ9oW/0vSnBt6Z1+2is2UAD1LyMwFn/3sZ3NSZeyTs4uwKd/Vj7nGpwSeb+sDjz7p0KJZXTHIPGTuiCfc5DFO2BqvfNGhLhpsLPbQkXrokEPc4ZfuQdgH8Mwf6I9N8Cd2GBvGtThojJu38YMWPX7mM5/J4yWSID4Q6wi6oHN88R92178EnF+V/YM4qQ9jxhsD6PAX/NIVORwRd/ki26PnXD/ivBhPBnZhY8kh+fFGJvGGPekPPbL7viN5yC1Z4Xvsb5wYO+ZrNmFzSRKfNfbMa+Y+SZK2zvWjf7YMGfUDfJue6cdBTnGCPmws0AEd82d+TBbrP2soNNjXOKF38w36ZKIjvIkfaNIHPaEhiWYva6Rf/dVfzbrgI2KJhNBGQOiPH1kXyHmsEdAIW/BBvoA39ejdvIF+O4Y2Z9ro8lV6FYfQpzt80htZ9a8/OiOTtvyerHQe98jMZ+iKLDsSo6IWBuyCQwJjYxYYgWIYghIcgqHFtoNz+y5ioprrQ/6OW5oQfFct+UYKrMvTIDwoJW0bmsVLn28OPnRWSvjGNWvXrUq8eMrlaVfOnhIPk/Irj/4UBzJYlQTl7+6Nn5Kv/ZLnCSfu3Zz77jOaww4/IA2os9MAfmdzxjtOyn+WQv2jjt6vueDCc5u99pmVvxeonWPN2vX5u3dil1hM5MRl6qv9sRC/Upp/pCVh4sTdm9VrfHdtelrstE/Vpk7dNwXl/dIA2rd5/oWlzdx5S3J/69ava/Y/YM/m/AtPaT756XNSML6w2Xf/3dOAnZac6pjmgfvnNsvTXP/UUy+kRHVDWgDsk3jZkPpalfpe28x5+IXU95q08D09OVDTvPD8hpSkPZIStBlpwMxO9piWBveiFLAfbw4/anxz4YVHNUcdc2Bz6unHN+89/51pMX1mWjSNT7J6UrQyJcT7JJ2ckXi5MA2si5r9Zyc9pLXLMcfObD5w0bnJHoc1a9eYcNsnsvOfW9Y8POfpNEmsTYN8vzR5zkyJdhrAT7+U+J+WBsgBzYIk77KUyD7xxIJm0sSpKQAe2CSWUqCcm/qckILL/s2sPWenhc8ryS9ezLysTTLOTvxf8L6jmw99NCUUn7qgOfSw2aksKW2LzwwufmKiEzhMBBIK5xIygw0i8ATC3/i1Xd9YBEH+In+agI84fHCnyytnM2bMzMkffzbA+XgADwayIBkQDAxsdJVriz+vSpkoLKjQAXzgNSZIk6Fgqo2Fjt1TQVwwIasJymQriChD08KwfE0vgCb6Qdsn3kwageAVn4IPWiYGE7OdQwFbMAt9BvSlXakL9cQAi2KyW+BEOZuYlPVtoQL6NJngi9zKTU6CPuDtoosuypOKMsmHRMLrTOKJwGrCA5OCuhaxngTR98Q0wNGWNHzqU59sXlv+WnNdmkiuuOLKrF98tN+Rbb3Krrnv902bPq05LOk5PI7u8U8uCH9Bmwyl3tmIzkOvQEaTBv6V0yV/CR/AC6gX0Ke4auINuw0uXCz8JmW/84QD0FQnWMGTTTCvugNbkBcPgA/fufI5HCL+k7MdM4P1XevHwU9MXPwQ3MN/tIt6Drz6xL9PoIugz99jgR6gL7SUaxN8uXZuHooxSE6TMz/W12nJN1asWN48+PCcrGt63mfffbJ9w8YlfHcQ2JkMseCy2PE0UOJ/1VVX5oXKHimJAzxMGrCnxdPkZPtItGHSpDax40cWivgqx6G648f70bHSHvRm/tmQn0zdeusteeFm7KMRoDuyh074ib74zVgRNgoETQj982uLL7FSvMWPsWixHOM/1gRle+d0E/SNeTRLPXhDiN3jiVNArBabZqfkSzwGbfl/yMreeBJjxU7zgfiDPr7pPPwT8IgX98UVvqFf8UXsw6tYlL+jnyZufE2f3n7XSZ9sYMPqzjtvz3F44aKFaX3CP21WD9Xja4kviYJ+7rzzjryZTm8Wj+VcAOEDMX6Azo1hR8AYwXvZLuqD6ygLXoK2+3EOziOuBR1jKiDO4oGOfaIncq5LvrnstWXNyyk+337b7TkhpH/xKxJj0J9xRMf0GHYQA9q41fLnU99xHfLxK+35ABrsaw7wpoKxzsbmZzxLPEIP/AItMpl31bEOZV9znM2A2HSIp0ZirqTJIp1O6BmCJ0APXzHGXOPROA57msfxL7kIkB09cdg4wS/5A87di1ivT+fRXwmyKJOoBbQPnTlKf+DP+EWrhPtRL/iyeUw/dMxPrTv4I5r0G7FWPGMP7YwBfi0mSADJqT9+EPXJw+bo4IN+9d/lKaC+MRztwZikY+OJDoxDPodfTz/RF+PRJpcxE/rUVhJHR54WesJP1ogF6jsPG7Idm8XayPhlVzGCD5JVco++Tbxy/aIPCbzEkx7oSh/mSnCuDvmBzkASLHZ5yKB/MYmccinjy9slZJPg05tYbAOMDqx9bHzpr9TZjsCgJw0DCiSYo4u433VkbRyUIdB4WmC3Web7lV/7cnPEkUN3lNRLlHLS4PtGkydvbk486cCU3JzUHH7krGbybptT2drUjycEFNwuklavWt+sWp0SmQnJkZO/OSD/AqdfHU0s56eFyfaTJm9oJu2WeuEH6f5A3pA/1ZM8Tpk6JS0gk0FT3NRu4qQpKRi+noyT6iQR/Yjbho1rmukzp6aEa3LiSWA1OD11W5MmTd//M2F6+rkqTSDLmyefXNUsWrwsyXNSc8ihM1OAMqFPbA44cK9EJ9FN/b7nghObQw6b2uyR1hfnvuvMZv7zLzd33+lx/oqUQO2bEmY7LRubCZM2NWeedWrzxV96b1oU2dloX/nwXc6FC/1S4NLm0UfWpD5WpmTvyNR2z7wg8rRy6tTUPskkNu2WriV+5B43YWNz5FFpAZVijvXNaacflRLUw7JeNiV7tOvRtJjbZJHn3Hcz/cDC0rSwW9rMeXBFkvWV5qST7R77sYimOevMc5rJE6elhdULzXPPvtyclhLb/WePS+02NateX5sSydebRxKfL774ahpsfsxozzQZJP3vvjkF/+nNnimf8Frve88/JX+PVWLeBhQMDDCRIFB4lc/rUPzLDrdBJsAYUPwygmRg9epVeaHMP5X7L4KJ5FDAtZAJrFmzdiDBm5ADCZTjIQJdOQZMqIKDwGXy8ZqmSc2TRjtPAlAECdBWGzAW8KC+HTljx5MMu+qCoMRJYPFEz26kBdIll1ySgwV0x2mWcYC3XuPVuT7pCA+CPB3SJ14lp54IlosHUL+rWxONYFgugEK3IZdkQBtlsQCgQ/XoV2AkE+BVELZIwZfD5O5VD5O7nTx6iUTI/YvTot7nSy++1Hznu9/JT5TwSeefSnKwATrfu/R7eYKJHz2hET4xPSWLa1YnvpLNA2hbAE4zQBJCf71sj2fylQt6eiFXOVGWdqJ3degiQAfaWFhpg2ap14ix0XfU8Quo+Tr9V/oYn0cvEnh18TEoQ/7YCkGf/dSNa2DrsCUMpTc0SXRfXQjZ8Ve2dU4mMtNfTKzRNuoEnMc9CUvUtwi0iPE9RE+cz0i+wke+/a1vN68sfCXv3O+W/C1TKujp21O+yQJkQmwSkD2uPS244IIL86vJJvWvf+PraR5Yn21DHrbET6mXAF7JLslR7jt5AfFKefTVYlzq36uAV+RX3cQD/msxbiyhgV7ooUT4RxdRvxfCLqBO1ItPsqlD1+KDGOXPy1i029SxMKSDkk7JAzrKotx4V85ewb+n5q8ta380ZSi8PbJ71sdGE9PAPYlc+BWdWLCJW/H0+ktf+lJeTOk7fCUQ7Xyyn7hADk9oxd3PfObT+emNzRn2aflu+Zw//7kcd9enxYJXwi0KDz7o4FzH35H2unP+81gDixI/jGT8t/PAmVs2uL785S9v2fQK3vCDV0foyr24H4jxHTrt2lt5WR+CXrd+0MCDQ1t2DixL40lcHIyBqY3/kox8VhJh/uWj///27ivYkuu6D35jMoBBmhkMciaRSIIASYgJDGBOsgIpWcG2VLYl+cmS/GI/fXaVy6qynmyXXK5Pn1SiZEUoUCIpihEAA4hMAEQmARCRRBwAMwNMnvn2b/f937Nvzzn33gmIPH+g53TvsPZKe+29uvuc6+nab/zGb9Tz0AvoQBwKbT6VtTrAV2KdOnLHr7S3UWYfOvQk6F/+y39Z7Y0mefUJ0I0OIqP5w0f4sORBfwmntclTT3ZBz/Uf/dEf1aRgCHRDD3ziO9fAF8WkYVzHn/V0nOx4be0cmu1YAV0qo88APWPGtu18NE7GyqdxHPElc9I8yL6dDa2zv/ALv1CTF7T1zU00tieHm8XmAL3Rn3knkSJL4jKEB2P6xJs2k6CduOsIxHZ9JIJo0CVe7YfY9Vd+5Vcqz2TKWIFYYy3wxBG/aHhF2F4gMRW/icPWIfs/ulYvLtl/8RPyuYloDyJJpDf0rRnAFpJLiW3okZe+WmRf6Q0MezxPbO176BLwYFw2Ef/J+YlPfKLuzfBFH3yZ3t208zZNvv9I/oOFvVeTguEAHE/ZuIGVUXDryHFwRrG5c80ohPX+/67d20sCZEGO4/ZH9ZnyybZbtj7XXfDGE7pL33dB2eitKjTKhnZn2XwuX1qUt7N78IHHu0d/2JVF9HslWeE8fXB58omubBCfqX8K4tEfPVO/TzczD0qg82tkK8vi5teqihM8UxboMqbYYn/6wANP135PPL6x0Cibj+KfFo5Nm7bXX0p96klPx37Ybdq8sSR+x5cE67DiWDvr65sPPLC9bB7u6B55+LFKz82zU089oyygx3bnnX9md+FFry+L1vvqk87e703+srEospZ4W5MsCRqNnHe+X+pcVZKMr5aEeE93wRsu1KEmmfVX80q7173hyJIMHlcSsmsLrzu6Nccs70468YQyaY8rTnxyCdxvLpuaS4tTn1tlBDZ55KEninzbim5K1loGKyTLp1cb+0b4wT/nZo+nntrTPfQgPT7bPfroM6Xf9sq/V1e9ynlmSfxPO+2EIt8bysR5f9lEeVrUFUc/qTj42u6yv/IjHhu68887uyao5kV/N3Bd8Y0TSjB6bVmQP154PqnSPeSQEiyLf0jY8Ycfca/+iFCd9HMDpqDljg/Z3GWTdJikfNLiYXNsQnm1z6N+d5JuvfW2OgF7P+1f77IJ8d2kE4sOBQHJ1x13+BU3P+TU/+24Cy54Y22rH/3E58fNDXXKfLozJeEgt42wYGR8B2RhNLm1NWcECguLeSMAkINMApa7o5JkcgoS7lALUvoPQXZwZ0rQy8LQBlA8JkiaoxZ+vAmAAiOdCnDDIEc+gVFC7A6YVyg83ZOY5VUgYwmigHeBzuLrCU1e4bDZJDP72QCwqbto7mp6pclrXPrQg4UeTfRtGkJbwPV6hrtrzi1y7Ci59iu3Tz+1odD5XFm4n62vE1900YXd81v6vzNoQ8eSLLi0+MOFF15UFye06O3Ou+7qbrj++qqLU8qYwGb0RW9DqKNfvkY3ePC006aBfPRGxtgdcjfeXUt9yK4PnduE6cPebR9l7fj9j4hlnvQbTHT4tR9L8QM4G4oe/MANZAGzuGza5HuF9bLSBT7H9uSwIaFXZWzhFRy0zRO+B/H58JTr0Mu5+QP4bOuVs63+Fk796SPfw+In7JK5lyP9yMFfLNDucrOd+A3m3umnn1H96tliB4tu6V1s3s/RwKIsbhiLfGiKHeyAzzw9sba9/W1vr5/qJTD48rQaJO3bi70iG6hHx3je2GDvq6/+dh3r/vv9uJQfZSjJ5PI+WQ3MRT7kabm5hc7mzc/N6sIYfAMii7I+vs2Nl8CH0MQ3GfN6bBJjtIynnA59OtgF/+ymjVhm0+QuPZ1IpIE/0GM2iS0P+puz6NvksIu5LPFmZ+OxORu8vsS2FmK1OS1GanPfffd0fh2YvcmLd3GT3K4TU4Dv4qONewHfIY/4YkNsbvo03/Ga+exGgj+nEZP6+4rWHptV40R39GR8Y3r1Wex/4onHuzVr13RvLusy3zCPPLGhJ31yU62dG4Dn6E8Z2q0Mzo1LhiQgbMG2DnMXL4BOziEbzbTJ2M7xQw9ZM/mHOeWG+tklofaKP7ZwtqqM+ZqzXlP7uKkmLvNTCM3IYUxrAHriGz/wNEViFt7o0lplLifGWAv5uzVE/NYWLTo0lmt2Mh6+Wx3FH4BdrXH0aBxrHVvQIXrGkjjgVeLBh6z9bcIXoNnSds6WkRn4K7tY59hDHPNUylhiEx/Rp43rgGZLN9eRK3XWDTHIk1A3lPijeGIuhw++ER/Sb+gH8aGUmZP2FPrRDXuKVZFNfzrWB+yJyKKePOzDr/VnL3AefiKHA606T8rhprBjCLphA29zmOs+7TXsjdzcMU/xCfYsEn90+WPmRuQHY+RPW5AzT/+S1DnXxjqnTHzjj/ZadG1vAWQkqzL6AOu78Txpxas9ibH4Ffn1YRu0kwAbTznwN4fvRFpzxSRgA7bWl88al17wS077Lk8dneOPTsxt86qV/UAx9ldSDRDHAoYlMIfw3jymAgqhCHdsBSsKpmxPKBiDMi26Ao9Fx68Nrlq1vAh8WhHWJDGWQF7GKfsMf97o9tseLEo7rXvtOd7LNWH8+MqGcn5kWaDWF0Nv6+66454y3vq6wHhC8J73XFQcyC/AbeyuvuruYpCHixE3F17d0VtXHMqTshX1Nc8773ioJH07699tPPHEI+uPu9x5++buqm/dWfgsWWiZN0uX+vUh7/cf2214cmd33XU2cZu7+37glxXXlfFe3x19zJLu3vs80Xug27rliBL8nixjbunedck7utNOt9AX59i0tWwcNnbPlU2rpOeMMw6rTy7vvvuJ7sgjVhcn9CtiRcYZm9LBoUXmBx7Y2f3t33y2e8vFb+4++rE31ieMO7Yv6b5z4/fqd4/OPKsU7FlVdPtot2rlcd35rxP0jihOwgm3FWfbUvTsl7hWlyBv0vnBoJ3FiZ+u8jz2+KburDOPrXq57jqvkZ7Yva4ks4AXhz9HcuMNT5fF+fbuB/c90j3z7ObCs19wWlOC9KEl2Tyy27RxZ5F5U11A/JmRM870E/oSykPKeId0X/3aVcWBL+ze976zurLWFJsdUvgqfG6QFPpV2m3dipXLu+OOX1ntcPvtPyoB6KiyoTup0qEWiaaNlDvJS5b0G4PMAT7KPy0sFiH+Z6IqM3EsKCa7AKPOwsOXvfbkS+2rinI2btrY+SEQC7kfXhAcH3rY67X3V/8SiP0wjqdsAptrc8CCYtJKfAQfwSoTnL8LCIIMejYNFguLhkXSHBGY3R01fwSQvIcv6FhktDV38I1/Y9ugmZvaOoytXgDx6oP+kLmLNhraCiI2eV6hEmjNUcAL3nwvAE82enRIn+TwmeSxhYDklVjt8SbBwo/vNtA9nehLB+jixfiCmM2AenxZcLzrbwyLABuJK2hZ/NB291DAFGPoil3IJaboI8jig2zGfKz0rXeLX/f67q1ve1u3tNjp3iLLrX6d8PHHuvvu/0HZMBxb7w7Ovg5XdEZra49d1215fkvl0c/oSxi3b9veffjDH+p/VbPIQV/8ig/xgTYoWzBsCtgZv/i0YaBzdwW1lTDzTfYEC4bNqTHJ5iA///AdBhsWm2qLGz2hQU4/9f/e915aFubDynzaXn3zuLIB96Mcl19+RX3FWty748676iKGB3chfZecv+MNHXc1babMs8R+ctWYXWTlX+xvI882fNM5vzTXPIVhN/ZkK/YAm0HrBt+y0WdPr3yRl47Q5B90Gn/wFgpezJ8+mbq/zh+82jiozw0JfDrojR/jxQbXBop+JTG+R6bNhuKvdGhz84EPfqCM2b/V0q51y0psMfdvL3I9WfwHT3Svj3nJ573y9MgjD3cPP1LWkbKos9EbXv+G7tHHflRjhh/DKSTLWDfWeHDeuedU2nTBR914Em+Ne91111e5lEseJUUf/dhH60ZrZIey6fFKatED33/0UfGj/75VfjjFGxZsZDx9JF9484Qtm5GA7cxrSSMfw5drmy6bb68zsTtdKne4ZlObG2OhaxODBzYSrzylMbbNi76JfS20F6/wx4b4xT+7sFvP270zfv/2On9mepbDnxZYU9fSa4t9H3rIn314psyt75R9xpoSQz5S9xtJNsy/xEjzTMzmc5LK3EgQ5+jUeOQxd+mZvMrxY4NG9ltuubkuSJe885JqJz90t6ls4MhvHurnrQQym6deQa50Cg2/nXBOSR6OP/7EQlM8vrvKa/7wfbHY/I8fmjP8wmfeiKA3/mhfJREBesSzNyqMq94ry2Jf1jq0fdcsMYXtxFxt6Mf44oK5Reb4lFf1QD2fuK/UvbvQeccl7yz7qGe6m2/9bndmoX12SRaNbY6yvXHEDLY2dpIGQIuPWa/x6eYCHdAdmawbZMWXWM5H0UObjdAT72NbOjSWWKEvmejNXGU3oCPjKBM7ya6M3/ukEzwmScrNC7rEJz/2xFS/FjbvbC+GucEF5oZk0E0+tnTuICM50MWfeIgmG+Gf77EBkEtsdZ0bGMrQEVvpMLEhc1tMMoZya4A6sc/8EfclyeaAGEzX1lLyasfuyvDABmxvPuNTrKdjMYD89E8GPLGHtrGpdnTHVmynvL7pU/TId+2XEtfJjDfy+DRPjEceY+DLAfqat3iiLwk9/VhL6cicFz+NTQ502M2NCXtFuiFXbCSGaZfvZOKb/e1ByOFmFBn0pXdjm4P2CvgznnkS3+EDZBV/raPiDx7UsQl5+QPfExfRFFf4lTGsVVnX+T7+3Jg0pjcjrMNkZ399+ZHxyZDkUawX89AV0/CPvnGH8f9AMPHPanA8YDQC+LTp42iUE4Nqp5yzEd517p6Z2OoIWyNtgYXSD04cedTqkpRoX8rLYThPk7Zt6bqnntzRHXW0v6m0syzW/szErnKsKAnHUd0xR68qxj2he/aZrWUJWVrH8QuX69YdUYLLnu57d23snnzi+TL2+sLHoYXXpd3RR3nd0ROUrjts1fElyfEIf0tJzvxttWO6nTuWdHfftbk+jTzqqBJQVh9VFpflRdFHlCRod6F/Svfk4xu7r195fZlkp3af+Ek/sFIkKonMEUcc1z36o40lqTm8TMpTy8JyZqnzt7b8MMfawsvG7pGHHy1j76ivsOJp6xZ/TqP/DtNhh/rbQV7j21ESyRXFYei7KxPq2e6HP3qobO7eXWRcXQLhlpqcPf/ckrLQnlATuhXL/S3J1TXJXrtudeF9bZmc/ozH5tJue9GX79CsKpvfXVWvq1aVZGDryrKZ9qrd8hm9dCVhWtGtP3Z94dlrtZLN7aX/7m7js7u7u+98unus0PRdw2PXefK5tOjsqGLrXYV+WZyf2VYm52Pdlq3bityri+6WVz63POf1rNVFL4fV7w/5ysmzz+4oG+/d3eGHHVUmvo1d6fe8u1KHVl7ZaMtzK6ocq1cv657bvKO0e7602VbsuKzq1BPI/J1J8OlOIZ/jpyaQQCHomLwmtzKBzU/d26TYLFhc1PuTHYKEmxdr1qyr/i2ZXL/+2LpY+66YYPOud11S2ns1tr+Try+fT/AWTPl6u5F1LggYH48Ch4Bg4bJRwqPFRsDMd2y0Fdxz91NgNga+sikwr/QzrkBpXIuPTY1xtQ/4WBY67XqZV9bgiZYxtc9igL/IITjTK33RgYDVwuIs8SEPXeBFkPNDL4Kca3Mf7xJFQENbfFrE1dnMoK/Mpo7O8EjXeLEwRTZ92UuAxBue6RJd+tLXou8mksXpXaXvmtLeD1Wd7i4Otyl1+vp1yteXjX6AvkBkbHqyiGwrfu3Hsfwi44Vlo89W9K4tHQnWiYeBTY5Fmk75GT2QU6KGR/3pR5lrcE1WY+Pfp0XE5o5O2EkZWbMA6MMX2NLm1KbaGwh0dVSZ29/85req/i3UnoycfPJJ3YfKJkIMlhiKb+rxTl7ffY4YyuiU3YxLl3jld+QlUzZK/MPCHX7w6DOgJ3E6awOboRm/Rjv6Mx5a6tFvfdf6YjGUQOcucvqhxYfYn1+Rh77Rj3309T2rd77zHd155/SJVaxW6RT+jL/+uPXV93z/k3z8m07xSQ48iQviCVnf/a53V349gTqmJDReVWUzf+PTjw7xH/CH5sUVNPy9Xj+E4vVn33nzS6o2VhZ6rxmh18vm7v+yEnuPrWuSROWUU06tfkVP5MSP9mQ1N8jrcI5vdfwH0GQH9mF7851PszU7kVGZuMnP2NS1enzTj2t6ca4N20jCxC20HXwFP/q1QC/8GsP8QVc5Hn1Kvi+99L3FVw4rZf1cQ9OntcI4fMGBD0/QyetGlfFSb1NJHjYyDjnR4H/ia6/f0d+bJhefoxs+5FM/Y/Bbc4as9K/v4YevrnTwZjNABzZpfsHVXFu+vP/RsBUrVhZaRxW++Hq/JqHFluKZ9apfg/pXvsMXmdgk8igPrxlXe7rWTh3/V0YWCQEbSBToOP3Jzz/RIBdbxE/Yk774YZJrdKxDF73pohKL31VlMrabcKedUdaqteuKf66r3y21BtMzfvgofUHsB/wOz9ri07W1JLrAFz7MQWsUP8eT9S99HdZTY7GxfsY0DhnJSzZARxu2FdNTV+d4GZ/sYpgx0TU+3ZNZH+sTveLfUe1d4NP4+rMf6KeP9s7ZzTWd8Sn885H+ZnWfHPgkO/5BGR7w2ceafhxznRzohpfQZ0/6QIe+kiAp157Nox+y86nwDOgbz7j8h934qbWIzshjbccP/lzzLeOH39x41R99cioHtOhJf9CvX3NOqDyymTI86Rv5QPLl8LAK7+izibVRG/zpo9zBZ7ImuSYbH8aDazTwblxwLbES590EsHajad5k7faVoKw5fMQYQeu3dE0m9rZ/0taNfP4rtmnDz9ghMZTc7KMcffywVZJIiL60ZxO8m5uJTXhTD+rpw7j64+lg4ZDCeO/9AyiOwTgERUPKCOAcc9pmcmhrIlKOI/B3pmxaCKp8T7ejLNZoCZJlEnrCWI4f3LO9+9pX/Xz89rJU5rF82ZSXdl7hPKQkOhbQ7dv7d+xXrkRDQutL6cbxZMwdf5NqW+nn17HKJnopLpZ3y5Z6R3lp2Qhu7XbtKRv4lR5bL+/pbZfAln5LfFdhS7d8RZmoK3aXhOfU7jVnndT9xZ9fUzYRZXF/7dHVoKeetq4mZ1/7yi2F/0Pr317ataswUHhetmxlCahFtl3+NuPmktwt6VassiiWJKTw6XuaS0rys2y5X3B8qjvu+NUlGL+9W7vmsO7mm+7rvvGN24sTnd6df9753W233V2SvCeL7P6moaAkUJRNQZHRq6TK/K2nQ4qQ5N++XRJgcS0Vh3j90EbSjwKtqN//3La1lO3xPbOi/ZKE+Z7FkqVs6DsS28s4hf+SoO3e7W9L9jTp3BPSruh02fLiDyWpXbmyJMbF5ps2by368rqkV7L8iqhXXUvAL587C3OeIO4q4+3Z7ennkm7lipLIH7K06MWrI6XfYV5z8qoPj1hZ+C/+s9wrXp5CbiwT6ZDu0vddXBZvf1C2/35cJkHrpwImCBD8VTmfBNfq47c2fGj4bgrwJRs3NksffNgEegpJn2jk6Pv2/s3nHegqy7wA7cKr4KOvhRnf+qQ94C90U6ZP7+fFn2b4CtSZa4JbxhiHVna09TEPjYEH5Wj5RCdjWzD1FfzGwZ213/md36lPFjz1iS2iF+Ogzx7hPW2Uo48P9WCsjK1ef/0S2Ftb6+ua7BCbgH6u+abvEXlN0I0j4cYvpO4stNGpdijt6dePlTivPJRPtLTr9dL7Sf4Egzb48xk9tnDX8n/8j/9RF4tf+7Vfm20THQC6yiJ7ZMML/sOfT+OAPjYXUPksw9YbUfX7dr1O/TgKml4x/e///XfrQvLv/t2/mxmnfzrfwrj1ZlXRjycmQ0RW7fR1tLZzXfVX6GujvTJ8u44sfEKdts6rfsu5NrlOPVrO3TEms42iO+NeTfZk4Td/8zdnF0dAQz80MiYe4jdosMlfXXZZvfv7G7/x691JJ/Yb2TkofatSC/RBCw2f+Ilf93wWHysxZEVJCnpfIQubkL3ng56q7xReQB98sqs3UW644cYytw6vizp9/v7/9/92W57f2v3u7/7ujE3jF4l1u6ut8EGn6Bvb4VyZ8+ieDHSpDM/KHfST9tqB89hBnSMyKIPYu7UpoK2tOp+uoy/thuj118dH/GmjLPFbgkVv0L9Vgoa9wO76wzG33HxLXX/5gL+V+4d/+Adlc3hu99u//duz46FHp+g7AjqByBpe8O4IJJvq40M9j/2c79cMeuvHog++sHym3I0EtFr62Opv6vSIDfAWvYH2xoodlOM1tvCpXpm2ylw7wn98F+3Upz1eonNwrU1s5Vy9J5P/+3//7/qUyi85R0fpB/R7SFkvVxS5ldpHeMuh19GySgfC8xB0QE43cv7P//k/Ncn51V/91Vqnj3pgg7QFtBzkDO+RaagTUAaxCaCvvzp9o5/UqzOmuZo6UJ92xhnqU1l0D5FdH/rCA3r6K9feOClX1tpEufN2fFDewjh8Fr/a4B8Pzs2r0EJbW+eh5RoPxo6szh3K9WEDdYC2OjR84g8th/YO61To6x+0fYybfoCusujTAX58yJ/5+K3f+q16Awd/0W/GDk00jBEa2ho/40b29FUX3YB15vd+7/dqcvlv/+2/rfrUL/UtopvoHKI7n/SOj/Bq7PAQmzjQCF+tLiJD+oHz6Cl7gRZokQut2OtgYuITRgiTPmPYGCcYlvnEqLJcRxlRgKaSn9K7HBaCclXK2OSpJ7d337/7we7557cV4YtRJB07S7AswciivGNn2UDv2Fauy1GSkF0lAXPsKGU7SrLmqWQn4SuJRVF7oV4CSAn0OyVWRZH6b99ps1nqS5LTfy/Bxth16be0JJklWZRo7trzfLdz93PdEUeu7t70lnXdmnVruieefLh77rmN3dq1R3cnnXxk9/hjz9fXbPeUsXcWnnYXHv0Nr507Cz/l8CmZ8h2X7du2FkfBfzFqEc4rYRKvrVufL7pZ0p126mn1V0W/9a3vdEcfvbz7+Cd+oiRbS7rbb723e/aZLUVVve52lk2DL9r7oQV0bBJ3bN9WgnUZs8hCNsnZ9u39eDuKg3Eyd7h37vClcO9b21RLRgrPRX876aW02bXTBCt62k5n9CmQWPD84FDR+a5ylEWBPDvLWNvKxgcdNPz9sZpkFfm2lbFr23Lgi81MsF3l8HrfltpP8uwn6LdW/mvyW8zX68ZiUOhs82uCXm05pVu3zmu3fZCB3pdGvpgJmPK23if/y6Qc+Whf71xd26f1WT6sjfPQSLtJZblOmTbhL9c5B3XDMtd4QGsIdQK59m1QGUJ5ZHfe8uDTkbqWjnb6TYLNt42FDb07eGhAS1tZq5dAWTagxoS2jfroo8Uk3tq++qhHo27r1PVD1Jss+qkfjjv89JTSL126WTKi3tejHbkcrd7cSfYqjycU7sqOs1/0MgQaWZxbmj6VtdC/L5vht/LEjv2Gwethfk3yTW+6aFYfQ/R0bZb3rgP1eG359Rnbpd6nQ51PaPumLnwM69r2Pi18Xu+SNHqa7BUnTz08NeRv4QVCO3Tj60CH7hr7fsdtt9/eXfre99YnrmMxwwfoj1f02iNQl5tNqaP7yoPVzU0917P9+sTHUxnmErtvvsmfHbitziOvkT1bgv/HPvbROpf6JCl9+/7sOtRfzlv5wWf4z3XOI9vwaGmljJ3ps/XhjBukT3uuTcYbQrn6to3P0TijfiMa/adXxX2n3BMHrwd7fcwddj9gkSccEHrGaDFuXNetPKAv+dWP2vbzq8eIR/19v7RvO1f20He0qH1mdA4Zx3X6Om/rnevXluU6ZRDabT3kOvRBXfhIuXOvYXvlztMVT2ra+jKpajzly4fMlIciWuP0Du24EN4kUm4+sp+nJpVeOdSHjnbhwWFeG4t/Kh/Gypbftm+gffwtaOvH0U59+xm6aTMcJ+fqE9ehbRM9pMxnygLnadP2Bdehr41z46QdWjn3OaSjfdsm9aFDR2mvLLwEaQ/opD1on745YHgeHoa8gldSvYZpLfWETpugHdt5fC9lQIa0a2krS11gj+pVZTHFU8M2GRxiKCtkjJaXoB079knbIc/K2vaBc30d46DfUKaDiXmfMELLbDBf3fzQr/SZ+QB3DYuYtQzZLSUv2vCkJBB9m6ZSPTNOSS1zWpMKTyD7zVxxuEqgZPiFXn16VAJ3z+fIuX0hWyObEYQ9kcsvJLp7WFtjpdShwdZ+7WzVoSu69evdrSsJ7RN+oW13fTR8xOqu27TZLyhuLByY4JwHgZFjekphLLShLjrqZgrw5nt8S5b54uth3aaN27vHHvOdwrXdyaccUTafe7qNz+zptm0he3GiQl5CiqK+eMVPffpR5CObO311+PKPJ3kzrFTkLqlAP/ePVqdR/+kXYTG5q8hflFp1p4i56tPNXjn9eHTZD1h5qhRmyHm6U3USujP/1Dvylc9yUf7vN1Z0VxIITTBQDsmtX8w98ujDir616e/gzFB61WH/51aPkS3mR9su5/s6tg2b9+9t4L0WMx9a+vuLxfI1DpPGDsVav5/0h7rzSqrv/Fh0ht85gZz7bMsPFC0dmzA8eALr1bBJC8zLFW7ueUXTRjLfMXF32WtC8y3i4yBh/PKXvlRpvPs976l2eXHBN+b6nxjsz7d87/vf6x4tcop95LvggjcU+fa+czzCwfGVVyr4he/p3HnnXd2GDU/VV/y87iWpselq5+EU+47EIzdn3KTxGqHX5eYgcUtcK5eL0fR8cc789H0yeyprSbvJHofY+OUOfCb2Lxbz6alFaB6In+uLzmLHfCmAr3xfMAnjCwk3WvP9S6/UWmuCF0JPL2fdj8OiEsahUG1dMGyzN/SZqc+I5TKvnEhEFNsHlLW0fi6EkIF63gwxB23DYX3qannTsCZ97gT3yZ7XMQuX3VL6UF3+m0mN5oGWC7UZgdzyy2UlXtYcq2DnTq939Bfq8TSvml+x6LXa66sX0E0DDz7oemfRy3KvxPK9l1ABC/v5wcFLMc6+jmnzJsC6kyYhsQmetEC2Y7SYNOZCvOwLn5BXRfYCftry4fUA4csRWUI3dT7z+pG7vhDdDKGtI3WhGeQ6eh2O25/3r8u1G636NsWOua86vZIQWenNa0Jev5EctHXB8HoINPwy6uGrV1d7zGnfq69+lIr91tNcmr19SkH/WannYOds0rzCv7t7esOGblmZQ0dV+dKnBL96ro/P9nwEdCBjT9JF2sH+yjjEcGyYNP6BIDTb8cwvT8GOOfqY+kukblwmYVR/sHn4cUH0R59iuw3z2ASOLWZ0zCoHom1jGsu4wyc20NrdeXgch9Q5zHsYtg2dcZivbj7o08bwheikftjWeYth+aR249D2yfnEdXAGoT9pPRpiX/gZ1za8OYa8pS6vfrrh19bvD0JzEtQPfTF8w4GOvz9YiOcXE4v6DuM4HIgQRqw9yz/1fJaMCRSj9JOpVuJwts0MmrJx1QcDRcI+6BTi/RPLmSeXRqzy94t/P/Y4BsNZX+eqRdtjrh6CNjg6Qu/ViD649+hljL5sqpT5kwdTvLDYn3ld52mDXE+ikzEczie1H1ff9l0M0relkb7tAhW6wXAc18M2Qwzr0t4n5LxtN24Bz3WNPQW5Tv+WRsq0tcjnOnXKXWcDkH4vd7QytmjLJ7UJJrWNrl48sEdvk2KBcrTne6NYuNRo068vPbQd3/7HAa0fD22uHJQv5BNTLIyFdNjqe38xboy2rD1n+3FjtW33B5P6u15swrQYRJZJ4yk/kHFa+qEz6XxfoS/on3EWQsZbbPu2XfoGqUvZixm3s04Y2/nYGyczaGUYYr66g4kXY5yJCeMLjnbUWRnnOkqP+RWwp1RreXDUNJfKLA8zxalVXl+hdD57J3icI8/lrKcWufqaSmO2qG/b23ymb6msZ7UwDft2Q4woHxjGU99/7Dtf6dHLPpMvzuj8YHM3xcHASxVG5gvSLzaGvGSj82LwGFrDBbXdaMMkXl4piJz7IsewTzYCLx6Mvzhb11aF355XR/pF3sXL/WpC/DhPEVu0/j3FKxfsyO995nyKKcD8h/mStoOBoQ8mYcz5jzteuoQRhiPPxockYQsHDCR6MoxaehRjH4wwEw6gfs+y0u1p7+52zbyOWhyr/NeXOu/75LPyNFM7Dn0Px8gRexlyMUNrEoEG2u0v2r6GWsRwi8b+8dX3anULB5OvKV4dmBS+ftw2G1lQp4vayxF8dJyf8tFh+biyFup/PCNh5vpwbk8qn+KViZdySzrFyxfT+f3S46VNGCGjz/qCghQubvOT1i+cIKNktF6Vi719d9+dWcK4d6+2JBItTFvLgyW/0fZdmvE4ML70HHFyMPmaYopXE6ab5pczDiwKzsWPVxTk1/16O1fm9nrq+68uxJ5TTDHEdI6/tHjpb0fP/Brm3EWVU8zvGAkqdTHpz+q/47CvLrZ3+0PmOGp/Pjx6zL2ae7432tb495QgcjjfNXNMlu1AMT9/+4b9DfStFuZiVHow+ZzixxcvxWbkxRhTTFpoMX0pZH+5gOwvvfzjxv/xtckQ48wTu8V2Qxu6XozvT/Hqwwtl857uZNovhb8tZszUD+fIQmjptuft3ArN4RipXwyGfC22X4u8SfNiYF/1+OOAiQnjUFmuW2ONU2bK2rpx7Vr09Y42WeJIc51pITq61h7a5SgIpZYiWjmHYZtap3toDjCnHcy0m1NWMKrvedHQ6617P1l0NTPgHKRsWD4X0eHs+DPyZ5z+aOpnPtujbz+qb/W9oO4L0qb9TK8Rzf4z1ynIuLW8FLXtZssrtbmbvuGYwaTyhbCv7YfQfxKNg0n7YATNlp/heXvdYlL5fBg3zmiMzPl9oTuiMR9GY4zO2z7D8/Ya9vUaFkNnIYyjsa8Ijf2l0/abRCPlixljXBtlw2N/MK5vrtu64eZk2CcYVz6uzBxMuc8ck9FHsr5Fy4sleBTleszlNdfID4eYNOawfKF28/M+wvztSl1TP2rbfvZtat0cWv16NQ7aOsZtMFPW8jXu3GdrsxbjyhaDxfbbX/qvNLRy9uf99Vz5U96WzW2zmDxif5KNHuPHn0uOr82cNm3H+dp8GNdO2WL7B62sC/Gg3tHWj2s7pJN+Q0zqO67tYjCJ73GYNMZiaGiTdu35YpC27fjD/vPRHFc+X/sRtLEnanOhERbuD9pkrMW0n4xx401MGFtl+QnrBx54oHv00UdnSsYr06eg3NbNnk/gvf+l0RyjfrCQfozn5+PxZxy9Ky/4qIlZS3GGWKk7xFFOJx09/LBNyia3R7ZPAmeuZz6H24D+vFDytyJKn7auh6tWBz59wdcxCgB+8pe8LXrZe/lr75m2bdnc89EBPvMjPlDrZuxm3Nae4zC0eVD/zqLPGXmrdI3u/UmVtlctL/+0ukt9b1f1KZl7rj46Ut5e8xF/G2/jxo31j2T79MfA6bLFUIb0Xyz0n4/GpPNJYGd/6zA/8xy59idh1G84ZsrC8/A8nzmfT7Yh2j4jWrurTHW+lPLRBm54tInk3KNvr3/5mL0ewbVjKAcoc+Ch1WHKhxhHexIy5pDOJNrjEPppP99482G+8RZDs+3fnuu7bdu27qGHHqp/G3HLli0L0lPf6npkc39zd0u3YcOG2Xi2GN6CtJ2kK9fjjoUwSXdtX/w+9dRTlX/QJ0c7zqgLX1fubBjdRkffry2D0bW1cshfroeytXqGYb9gXPmQVotJdGZRNzwz/Z3Xo17UoopCopKppNK26KfO+xG2Fl+jZz5nXHz5ju44HtqycefWgMcff3zWZi3oqvXRxWKo43Gw7vjzH/40AGjfHm3ZQmjb7E9/PNDlYtsvhCGNve3SX9e/qTxj537sejoHc7vy9Z6eT+tf+K61TeO+zdwjaK9ny+tn+OmPnr+078/78rZ/yhz9OQzptzymbBza+knn0J6PQ9q37djZvkGcUm7P44iPp23bp0XotXOtt1t0s3ff9JnvQC9/ist1MGyXI8i5z+H8b3lqeRz2z3XbfhLSNnFhUp/FzP8RT4WHmfkwvkvfbseO7dVW/jbpkHYrU4/U+8wB5J05nS2bHyM+R9h7vH5vPi+ee+657qqrrur+/u//vrvllltmA1+LDGaA4cCz53uPPYAGOYIRnTh7YCzHI4880t14442jxXumrv4oTcNLNZbzhrc6UnPdYk87XmlS6c4cFbN0i9z1bDLQ0qbqqHyOM8QeP/c6Y45ehz5d9xsMfejgnnvu6b7zne/MytvqOqjyjxkjmFxT0NDzt28c4zBu3HYC9eczAWpGRz7Rr23KkYS8RX890Glpy37jxlSW8ui1LROg7r777u7yyy/vvvWtb3Xf/va3qz87v//++2sbGEf7YKDlqcU4HxjCpvyf/umf6t+ha/vvzw+bGC80fDqUpXxYl+txfA7bjENLNzQsYtddd21J2J8tV4Ljjmqf0rpe5/Df7HnxoRyue1qTx0XTEd7CRyAQX3vttd1jjz02U9JjKIt+bd/IAMqGR+v7w8/FYkinHbOF+hwt2mvnaLVw3epmElI/bMdWN9xwQ3fZZZd111xzTb3xMo5H/YZ9hzT1++EPf1jnpT/Q79oRnsfRaJFxtUnfoC1rafS+1iP0o5Nxdenb0gZ/SDp8B2nbYtCtoC3A28xpQWJlOZv5HKFPpJTvXRcMeYSh/YNx5ZGXHibF/ImogrTC9Pzu2b2rHlUR2rRHbZc+Ptlsblyj3y984Qt1ro7bKNp4tnYbh9hFDP27v/u7ul8YAl06maQvQCdtQjP8tH3xw59yfd9993VXXnll/UP4oK+jlSXjh24+h2jLQyfnCwF9e4fbbrut2rcdfxyGY+VzeN6WtejJj9rm3Lj92KOywl3hjx1zDf15oV50eG/33e9+t+55Wr6H4+Y6bcJbW970roemfX1/4KO/7nnMuhPgJ2d9/SjOTuIt5flM+yHU6xeaLY0WVY6ZY1w7vt7Gp+uuu66ueXwzPAS5Rid8tfyFfsZrMbyG8D8J3//+9+t+3RyBcTRahNawXTuGc3wO/Xoc7YXGGwJtfRzOM5Yj5SAWRaYWc/gsB9Xm5mGLjLNx08ayR72qu/XWW+sYLTL+CMZ2XSnPfPZlc9eTts9kRJa5Y8zFgjvPO++8s/vMZz5Tz/3h5HGLSZQJ829mR4zMx9Q4RBhoFekOtUDoDhRk/JaPjJXPltY4MLz+2juG7U28fqHq6+aXecSLp2tLZn4WPLxAJrKy1hFHwWsEC4+nvbkrP+QtGDrbOGizu8oxQi2b6SvwXH/99fUTWl7acVudR2/q23NJ8+6Z81I42x6M1/rVUGZ9ciymzmfGZcuvf/3r3ec+97mqNxsGn56S8J1AW9Av8qdsX5Hxh+ctPTZPedDqHmyUvvKVr9REC1IfvQ3RjtViKI/Ptp3rHO31sB/ol8DcloP2kSv023E2btxU44mbUIVq3UzdcsvNe9t+TzsXbBT7Q59SOfPZHy0P/NTNFJ/KM3bLq3lz11131ScX46BP+rXngAb5er56eur5WNs2dfsCfVs+XUf/oRuk3XzjqBv6yfe+97268Vos0GjHpjM3Dr1psn79+m7ZsmVjeQhv+HfgI37hPH3QsZlu31wJ0kYfx9CvoD1voa+68JGj1UfK0LWJtpEJMo76jOE8kDB+85vfnI2LkPrQHaKVO8i1MSJfKa1lif3+27Ur82PUP74xDvpF1nE+pKy9bmFO3nzzzZUfqDxMaDuLKsdMmzJuXVNKn0OWLG3qyuE8B1l82tgkqWzkgycef7z72te+Vv0uPORT8mDj6aZDi6FeomOx/h/+4R/mJIxkdNCVYyE50W5jVWza6sg4+PJUEfiKm5OJN9qHJ5/hF63EkdS3aMv1aXketh9nX9cSCDdJx21sW9AJGvHJll9IWY7wPQ579tjb4NM5WcNr/8m3+579fmcE9SUGFh7Eh/vv/8HsHg/wN5Qj/EH02pZBy3vPc2+D3t+1LbzWzTcdJlnK2lP61c8+roU2OwRD3WjX6kZZ237Ypu3rUN72D1LX8z0XfE/C6Ik6WBPt46KTFuhAe/OlbRfe8Jwxx2FcecraOj5oHTLefJg0ThC+fTrsi8UtNzFbjJN5HMaN186x0DH/8R59AL1ZQ+6999696Iz47I9du+I7tbgM3H/07Q6pbyRI7u+4446+oiA0Q2tvKI+Paps52x+L0YH2xnEMx2llGnnuGJig7iQz8oc+9KHu4osv7pYvX14JUJrgaDObDWTKBXN9vfZng5YBM27acey8ctcyNQSD2GQaDz30KRaOPfbY7rzzzutWrVpVyxxoOfTzRCGvMzj0N2b7hE4716FtnNAfB3VbStveIL0TteOAYJZXIGcXmaKj6AkNfPjMRPWJB3TwQeahbk477bTu/PPPr/IaQ3/06Tr6AX3Uo4MGPuh7lpcC5ZvLGCkzvjJ98GBz+ed//uf1DlXv5OMdydhkCd9omFDGJ4O+kYDetpX60EKD7lqdq8OLvmj6xD/ZWn2gqy4LR8r1z4RGR+Dkt+94xzu6Sy65pB7vfve7uzPPPLO2B3Tx0L4+BMY3bmSJfiHjAV5ib33UVbnLJz6U2WCSNeVtfzo0dusP6p2zj7GH9hsH45ADL87ZQx+0Wv7px3n8Fk8OUGYsOgnwpb22eM11y486fVNGbkfghtOFF13YrV69utu+Y1tNFv7yL/+yJPD3Fz77OOHoNxh7Zn1JnTGhFFf6mzcXfT3b6yP6smB4+uXuXPSof0+jn0+HHXZYd9FFF3Xr1q2rfQLtWx/sx9hc++IF6Cf6ilzoph+dttBXHZ9wHv0OEdtohx6+27atDoHezTc6afUfPtGI/YHvsqen1Z6yGCdtx0FffKPdyikeuNny5je/uc6hI444Yg4d4+FN2/CmvzZo0l07t5zTSysD4M/4aIF69LRHy+E8ugL6avulnE3oNmOp1w9f6NrIu5n0xS9+cY7M43SOPlrjeHatPnEwiH70YQP10YE6dMNfsXSRw+vzxce2m5POn6v8Op5+ekP3XLnWL/Livx0vMB6d0xtdxA5sYEwHeY0N6rT96le/2v3t3/5tvVkVHfrUT/vMjyDy4d3hxiCaGzY8VT6fL0ljPyd2Ff1sKX13FjmfQ+upJ+u19mXGz/T3yrPXfZ+s45Ah8yDjkEO5xPav//qv6+aK7lNPF/TswLe2oF5drslvDHKp4yfq9IvOoJ2HsW/Gy5G1Bn0bvb/6q7/qbr/99tpHGds6jJd52fYH9fQbflKec/Tx1Pq8T3Kgh8/IFDnQi6/h0d7hta997ezfskNX+9hVP59ooU0P0ZcydcYIb7FF/Eif8DbrD+VfffCdpx4+Mx4f37a115F2/MYbKCM6XXfKKad0Z599Trdy5cqZkp6mcdmjtVH0rL9PemjnKp5nzsp5/7lzZ/8KZ/QVXZNzyZKlVb/mnmN7qfc2mDrrUmRjN33ouY0F6usohWbsSG7zln7DW/gyFh/RX9/0aRH941U77VsdqI9PgDG0Tb8WytTj1YE38mgP0Wc7ZmwXhI/oupUlbcnq2p7r9a9/fb3ZGKg3NjmiD7wbEy119k7hqYU2xrDm/83f/E1NRtMX+rj5dOUvtMdBe3xoxw+csymeQwvIET2l/EclP3Iz6oorrqh1rb2cOzTdsYNfPFPHkDiaHMp7OjN9yun27f0bLx9H7+MAAFDnSURBVEu8gldAbuPia8iP67qnLnGzzsHdZBSLzMvex/Rv4wbohx6dh55PbdXxPXymLr609L8U1LMBNHB37LOf/Ww1lkDjrvLhhx9eFSSRFBS1oaS1a9fWJMYdLHc03LH1NEFw0i+KAxt4dzxk5WhYnI466qhKe6hsAtioXH311XWRcCdBJk+oE044od59wt9JJ51UX5n15OjEE0+s41LGN77xjRpo1qxZU19NdPdPUEeLAiWcHElSxOnI4gkE3m2IjjnmmBluRsC7Ca8vxzeOu4jGtBFFAz180w992SQ7wKuGXo00Dn0xJv45KNqcnv7IbgzJDjCeO6R08JrXvKZ+kgd97elT2dFHH13HQpvelJH9pptuqk6FxxUrVlQ+9GG7Qw89tI5PN3RK955uucOr7TnnnFP1MbQPGdxtt5E0Dh3im23Iof7444+vNtDe0z70LV5saDy6wh9+gMwc3V0y9iSHPnROfgsIWg8++GCViX7YKc6tLnwaw6aC/f/ZP/tn3XHHHVfld9CRPmjTE17IYSJFR+r0J4c67fmzz4yBV3bwuh7fZA82kJzwLWVk5OtoxK58xzna5hNfMV78kqz8Cu98DA2+Za6gDS0f2njdlg3MMWN5+h79oyXQkc3Cpt5cRQtNcsdv2YM96YselNEPf0Eb3xI0eo8e1bH5qaeeOuuzEP74l+RwXfG3J594vPuTP/mTOs/4Hx7jXxJGi7j5fPPNN5W5em/Ry4+6k08+uQbHb1/1re6O0u+uu+4uG88NlXeQDElC8ctHzEc2IYv5YWEhu7lPp/opU09u8tG5OCSW8a3EFnx5moEndeyLd/3IzE/pgN188gG2QNN4fJeuzLMh9EeHrfBp4UWHzdASi9nLp3Hiq+YF/rQlM79hJzblU/xJks4WfMIGmy+effbZszEytjGOcdk08Zv98csuZJdU6U+O008/vdo9m2XQ1zj0aWx+YAyxTjma5izd0TFZtL3gggtqW+PTubmkXDzgF+YQOwJfMZ65REZymOP6GJ9N9KMPNrbwiWH4t86Yy7ExvdC7jQbfN5a4pW9k8knH/AptOqFj9nz7299e26sXt/HEhuYw3TjAvGQz/ekPH8Yy/ne/e2vl98gjjyjtjyhtn61+IzasWbO2u6HQ/f7376n8043+YAzzjT+aj9EpO/ILcuLTuXmXeCNW8x2bAfT4Hn8WA5SbQ+xk3rMxXRhDW/yza8/bmspH9AQSwJtv+s6obZm3sH798SVh3FF08O1i8weLDPfUef3ggw9UHaxdt762e7zoxdy+odjy6aefqbzh/z3veU/VV8Yir8TW66rmhLWJT9IzucmhL1vpg1f2+tKXvjR7o1C8NS/1M0fUi4/6xkZ8zRzkQ/yPXORnr8RMCF9825qJjnnjxhQfx4trsZsu2dK4aOjLH/kHn8eTmGSNMXcg8z+8iWH4Mt/NLXLzQ76HjjWe/s1j8Z7u0KI3PGhL78ZK/FKnP32LD+YDn6aDrDV0Sy9iK6S/sehkyHdFUc3txU/51PHHH1fGFdN21X3Zs8XXTzrx5CL3XWX+3lDn0Z133lHn0ZatW4oP4ntZHXPTps2zfNMz2YyLB/Kaa/yYHOykjzHNEXPlyCP7/WVlqGLkS9ff0O9Fv//979V1xlw69NDDqhxuSl5ddNzP7e93G0rSuH79cd2y5cuqT4hrbCLemzPWRTZBD2/xI/ZnazJmjVbPHnwB7/YRdKwvX+AXYi/Z4mPA7uhmL8tu/JedyEhevL3pTW+qayZdwzvf+c6qvxbZu4gViZHGR8u8oUv6tl/DQ/xCnOGH4oj+7EEP9Iln/cnHH80BtiCH8bU544wzKj28amNMvmfO8iExhl3RRV//7KPRb2Ef8+Uvf7nqne3kKuYHn6RPfR3WF7aIDoxPDp/mkJigPZ7wSCfsRk4xlA/QK7m0YTO8iEXevEGfvu0XzNfQBnHjmmuurXZ1/lTZt/AXfgR9M983fabKLPazXyFR5Rc3+DsdgXgO11xT1tbCp1j62GOPdieXscXOK6+8ovjYd6s98cpHjj/+hMLzynrNhmyb9UEsozNrqLHYnD3JYg0Askx8wkhYzh8IBgIXB7d4MhBnMbiNBEUDRVuA3c02IGaiNODsmDJp0BLQBH400R+Cgi1ilKU9x7rsssuqMUG5vvglJF7wYEyO+vnPf77yySEEc+3VcaB//Md/rAoVGCwmf/qnf1onKcPjnyPgv4VxyMqIqbNhoQ8bGCCb13gtNGihY1KACedakCY7g5GfHiWO+OV8+EQ/xgJOSG6JFF2hbRNoQyQQmVD6ZnNlDE9w8KqePdw9FuTB2DYQkcMENWm0j7P7pB++MLSP/m4oGE/g4ZTuroY+fQhW9BCwAXsBflzTubGMSzfa8zd2Z0906UaQxT+9AT048A2tnwXZaAtE+DHpBVljAt9ga4ksfQqartmQ7PzmT0piQ051rqEdiz/jkw7oUuAyIY2NJvvwN30ECzbmq8BGbIa3BG/1/JLt2Y3NjUsP2tqQDEEn/JLf6UsnfNJcxBMdkMl45iBop002VnwUr3RvPHfMBA8wD+NrdIZXOsk8NAZa/Ie/0B20ejLO5z/3+Zn52T+BFrzjY9qmPR7x8+k//nS1u7lv3JvKhvTyy68oPrKle6aUffkrX64xIXcP46sWHD7zF3/xF9WP6JdOHPRrkQF9+SBd6Oc6Pkjf7hyGJ/rlz9ppz+bmAN1aRMQQCzdenOOfXfiatniIXgL+gSY9k1nM4uPogfbpI84kVuIpvsSmwEbqjYd/NDM/6BkvPvGH59Y2aPNb9PQXp9gz9tZPe7zoH32HhnL+Zf77ZGvjWfzy+iYfIWvmFhv5tPCCOYNfY9OFc/7FjvyK32dc+kQHDXKzGd3jUzv6h/gAucxfcRZd9YlnZA8vQc7pjr6tFfxWfzZHF9/4ETvoCn26Mm9cswE58IOG/uo90aQTumOja6+9prYF80rf+39wf4kfy4pNrq5z2pj0Qg9/9Ed/VOT9Wr02JnrZFKLPn8Uk8Yefx0+NR+4/+7M/qzamLzbn485zg0I7cukvbtGdWE1f4pP4KD6MbN/r8YePPFzp33PPvVU3ZPuHEq82b9rYLS36/VrhWTwS+8xnNjP2drKXcb/y5S+V4yvd00Wu3EzgQzafrW1AeT7xak6K7XwCb8rwmbUG7w60bCSNi74Ntr5syP/Q47t0iB4dZN3BMzuxL/vxm+gA2BqtwDWd8iF+zFb0njVT3+wHxB3t6Yb9xZ4W6uienbNe6+/aeotP8eUP/uAP6kaQH6HJd7LW4AHfeEwcNBfEe3xpK36glXlCZuMoE//4smvzmV/RDYhB2pNx7jzaXfX4jW9+o9s0w7dcjQ7FR0/wbr/j9u4P/vAPKq3Nm5+rduAnDz38YBlrSe3PT9kPr+xKbnbGp7nJ7kBua6Q29kPqxaTsvwpHM5/sdkjRyS1VDrZ0sLuxJKr93L+iyuxpjTmCtu/h79rZJ+tiC77Zka7oCD/046BvMZTf8Em2VuYcf3yB3YB96B8t7bOGJE7Ra+an+c1P+AU+8YUfSPsg9mDDFvpm/vM3+uRjZDLfQT3dGhPIiC9rD2hvjmXOmUfxbTT++I//uNIw58wt8YQO1Iuh9B3/Ne/U4cU6nv2Mdg56RAvfATr68mnnmX9iLR+gPzxnzvOt6DF6AWOZ4+TiQ9oZO3KyMT/hA8ZH18FO9I2W8py34FdXFn+nR/WPPfpY3Qfdeutthee+TfosXdrvV8miiE7oly6tUeY0W9s3gNjf+6Ab+U8UX3i+6Omr1UZPPtk/YME32emQjfhf9MDX6IkPGpNMf/iHf1jXbWNHvvjOxIRRA3fiXve619UM+13velfNahmX8t7whjd0n/jEJ7qPfvSjNas2SRhGgDSQfp7ouFvVKtDgNsJvectbug9+8IPdJz/5yaoIjjBUNJgUjP9TP/VT3cc+9rHKBxrGAMGT0OBOtUkYZ5d0Gcvda/RNSHyjdemll9ZARB6Gxru27hrjy2uuFhQLV4A/B4cSuFp+lTmAsvHx/ve/v/v4xz9eX4VE24QxHsfH60c+8pHuAx/4QHUCQQk9fLhrro4OTZwWDGgcxuWIArQ7Fe973/u6n/zJn6w0yAl0YwJ5lZhMP//zP18XSE6GDn44XiagTxNfHR7wyLZeQaPDNuCwAZvTDxk//OEP1zvB7B9npiOHtoEgahx8Cg4cmi34AV+x2EnogC74INno0B1vG2mTX3/BysYEb9BPsrk+RH/GF6jo3UJjwrAt2NS4xgP/ondj0pHx0eRf7hZ7LduT3XaMJA509tM//dN1PpgvFk8LNZ25q0U3+vN7ATE+auGkE2Pr+xM/8RN1YtvgmRc2wOzg7iD67voJbmwH+ANjkY8vmJfkqU/kCi1t6YAt+Ez4FzziS+aTwIHXyGFsgUYffoQOGcjirr54YF4ptzE138wb/cA4ra60S8A988zX1NeM2M7rjcce27+F0IL/8tePftS8f3fViU0nm/P1DxWf27Vzd9U/Xb3tbW+rfuvOHF/Bh3nobiYffeMb31jp0nf0py8fJBeaXpehR2N59ZudxB/gbzac7nRrY96+973vrfHEHIsv8QU2cjfU/GYPdOk7OoleLPZsRqd07gmIOU2XQCeJAejigVx41f7CCy+sskgUzEd98URevqbMnCG7u8R8W58kaYE2Yq02+uJZH/HKmJ5SuGZz9LWj84A85okyMogH/MYNKzrjjz/7sz9bZbUpSrzln/SUjSA65qB44M67Mn7ArmKDc3RtUJWhwTfFSrpmC/Mvm3/06MRda/6BB3YVo80J881dVP5MX0maYh8LKZu6a4022c1HNtGW79j0qMc33VljxHP+wd/FOX3EYDYzPvvyhy1b+pszia07dvavd7F10Wrtz1aXXPKuMv5PV91a1A89dFXVKZ7olI3I49Nx7rnndj/3cz9X/Yr/ijN0jDZ7vPWtb602NvfwYmNNh2eddVbVh37urrO/uW0+/czP/EyVL09uYTS7++/KiI8f+lC/rtMJ/T36ox/W7+4/VTbdfBftn/3kp6qe2GHTxmdrGzFT/08VvsV89fyJntrYwAfZUnzjk/pkPru27pof+vIDYC82Ffdt0tFjS3fW2ZCfoWfPIhbg06aLb7Gjdc4agC7e+F1iaQ5P3thZDBUPPH2gJ23VsR36+LLhB59sY06aM2iLWeJuENnZLxtzMKb5YC6B+eec3vgG+4rvSerUsT9/Yhf7BHGJT7KJ+WYMuvRpHY9eQRl6xsU33dobGMfcMc/EG34Q4H32dbmZfQan2fzc5m7js/3NVzI52PSDH/xQ1cHmTZur3oGMYrb5dscdd9aExLjWTAd/YD9rMd1mvmd+rFixsiaGvd6yR+hvIPDxN17wxqoD+jcPr7n2mjquJ+Ff/cpX63z9yEc+VuUUB++//wfdM0WP9MG20Z8Y+vWvf6P6kXkiHrAFv7bmG19cAD5mnbVeZo8iprEh2cQp+uifivagyxzmMJ/hj/ydL8an6ICu4ze9vCM/CsResYufkkH8NCZaDsBP9rWArnhiDDY1R0B/8YE+xTs+rK0x7NnpQrxmx/irZMz6a27QBR0CW5p3/JYt7X3onl+wj7qAbPRNF2zDVp4y0rO4Zs6Ju/rTpfHsdRJv6YSsyq1DYiZ9mr+ZB8Yjp3707bAHkBzbi+KPDNYQ859uQhvo4fBCmx7445vLXPEL0Hmwo11rG75ALmV4EEf1pd83vemi2i+JLJ8/+uijiu9+pMZysUyCaT7+7M9+sujs/VXvdO4V136d/0qdH5/61KeKzT9Y7SgGGYsu2Mzc4Q98Ax/xoYkJo0aML/gJMAYAixFlm1wYIQziJoSFxQSieI5nARKEDJYBTQ6JgUCtj+RAEBMwZgPKDDiqjRuHMIlsUtBkrLRlnH7h3VIXSTxTIiWYgDYEAgolMi6HtcnFK+WYEAISfiw8FkabWBMd3Tg3RA5j008co5UNLFp4NKaklJ44NEcQBMmER4ZnQIbCB+ekO7Jqj+8h4lhsQGYGNUnisCYN2dMGDUGJTJyZ/ozN+bOIBnFUYEcbL5OMDbXN2IENMr1ZeOML/CTtoq92DJMPTboXEOie89sE2RzRN6enezzg2aKGF4kAvdpkaIMWm3ulaNxYwFb0YJNjs4xH/mdTpD8fsRDZQNGhOuPwE0GPTmzITEC+gY8WNiBszHZsK2jzW/qlZ+3ZhVzmDr8jG7rs7prfJeAlMaRHNPGNH3ZkZ8kP+mi04FM2fWxBRuNqzz/IySbRT+yjnI5dS4zQQJsMZMEfGdhKG7oXtH3iRzA2h9lCf7QFW9A+4wSz48+8m7/6iNXdqrLxFeCXLZNkjuxHPytXrqj++qY3vbn410l1DOPh8bprr+tuK/5jM/Loo4/V9vhKrMqiibbgz4fEMjCGOEG/4g9bu6FgA0TebML4Hlo2zXzTBkpc4L980DWdSQ7FFnqSuNtsigHimlijjJ+ShS9GD2Bu8Tn2RBM9dsEb0GHashUa6i1weCWX+W1svohvOiILH8S3Tz5uLHLziSH0yeKHHzHXIm/sxHzzDB16du0Y2tgcs3CJN+QXI/CEN/LRLb21SRKa2tgcsK35hH86ER/ZVhwX18jMVuxsXoA5YT6by2Iq+g6bdfyjby5YP8wNtqAv8dP8EnPJRj/Dxd6mA882M/o7zFfxkJ3ZC99kRlsctBmE2J5skg39+JOF39yBrCVsCn7kg7y9zfu1hk7POefcotPTqv/xAzKLV+RSb67qZ97G5hJd/JGTbemPrPxFf/EMPbKQkex8W5vMFQkkX0jirA1ZE3PLP4X/3o5sQEZxyJywsWRntItGaxux8LX865RTq+/6Lo/vhbEpm5irp512epUJn2RNchrgQUzmA+JcbEH/bMhm1hb+Zx7RoXr+5gaGjZ79ifkNfF9CSG98XX/6pDOfdCzeJUlKQsiv6MCBNn7EG5/8CvCujJ7p29xCSzm++DcfoSu+iw928tn7QL+OO1yzcZDzrAXo4c1akj0HPsiVejTolL7pkR/SJX076KldW+g2MJ6+iTXiJj/z1NscoGvrWfgG565YP3OqlvmlyFqjoOtOPKHn94TyaV7je0P43t3PCbzdccftlT+bWX7J5vaf1iB2NAb9o8XHyeSTvn3NAfJjNj75q3hm3qDNZ+zFMOX1afGov1l9RvXLn/vUz5e9wtsrHeOce25/o4m+7WOeK4mwzb34Z9w84JCc0zdfMtclNOKVuMAnIL4hTpo/Yg05hsA7udnaTTS2oPt+nvV8tTagkxwttGc/8ZAM9Oncni5Ap/U5cG0dEdfITEfkw7Nz+yb+oI0YhTZ+xRW+w4fQ1VesoG+xkj74KB+iI3PMfBZ3rCP81LrKJyMfmbK2oZt5x56u6T8xmx35ifUFIpe5Z73IXlMcowdJOZ9TZ3x84pGc4pq1iA7EdLLSm/GHemYPtJctXVb3Eua8/tmnEyVzQTx0cy2wJxSDfa+bX9jr6EvPYMxzzz2v+MlFxX6nlljyQNVhny+dXvR+9qx/8T92Elvwbd7yeTGOXtiGLvmu9Va8wnsrz8SEsYUJigngmJQYwwCm1ZuUiGPMESjLoPoLjAIzpjGbgN86OVCoOo4WhI/Q86kfOs4Zm4EFd4EyE85YhDeOcg7proh6jsO5QjNQ3vKkPuPlGhLQ0QabC5t+sCF1x4RxAE1GoR88CVA2EDZq5EUDL5Ng7IzrnH7a9vhode88OoPQZ6ssQqHX0m0/h3pwrq9y9NIP0FYHrX4CfR1ZMPmOc0HGwuqOIUfNBirj8kH1HJnTu2snSGubNsZreQE8KhM0JFNsY5G0cYlebKDRb+mwUfyeTOEn9NM2Po+GgMKmeHKHUYCziOVJqj70xWb6ZMx2A29cE1xf9cbOmD6195nzFmi3tFpbzAcyJpCjIYiTwyaHb+KJ/D5bejZ0girfFvzpWOAGeofwDspaX6ptyqmnKvWkbCvSnuzVt5ePfBsPAuvhqw/vHi8LnXlu/n70Yx+tAdsP4eBvRGNHnfMtz+HBvLCRdm6TLAiLC3Tg6YiNhr7oiyVuaFjMbQIAf2QXzywcrvmuxRHfzr2toN4m053cLIit/WxKPfW26Ith+GrnlDbRl3J3SsUKi73Fxx19vkUGcupvTBsB7f/5P//ndbEGdVWHDU3INb7JlDLnbE5PQFfkzLxJv2rHgozvgMwZOtWPX9Gfu7j8JDbWP+uARMRiqC2+6dGiKa7zLxsBGwgbEbSMITngg+yHpvHYLjK1PgHKlWkLxlcGPmMfwBd67RoUebVJPf0HSazNKfWt/0FuItETWo7odOmy3vZ9EtY/Xc4PxwD+2KWlSQfagfH0V0+HeOAvNk7GcLR9I0vkpxP9oxs3KMQAMU3y6cm6u9HZsERPfrzGq6hs8/BDJTl9fkvVCxm9vlda1PPYA7Zu3VbOe13jk1x0FyiPfhzhEciBVnws88zGzlxWb3xzQD/96YYd+Z71RuxOX23RUy72kdsNEzyLAe7GW6vMU+u5uRcdRQdg3PCda/Lyh0B9+EKD3NpLwMxra5SxlbW0AY+ZXz7Vp406R2Bs9Fu9BfRGZvMkSNxx4DmfATrGRDM6w6P45xPfbiiydcacHRutmRsLskflZaT+stQtX1ES1ZlfA5YgVvvOyLm7bKIjI5vh8/DD+zgFfIbckRXP0RGoM59meSlAjw6uu/667ttXf3vmR6ZKMr2yXzMlk344hFyzMbH8ZzN91lllbSj2rHwXXgLj82f7lIDd8WJv59PNJDpyLQEQv92gEGOtt+xuPAm9OutOyzfoK2mRZLEDPtgxtu/5H9lAvfPoMMjcYcd2jPQPWh9wbhyf+qOJX34rSbR38RRdzKY7tDMOoKuvuvg+vZh35i0duBmgnaQHLTQked5MEf8zbssjWmg6wFyH1j7mvbGSWEcuOrR/cATokNPY2hvL3sq6ilf7M/mDdUj/9GkR/uxTxEXJmR8xW7bM2ymjfQ2zZC7UuODvk8/MFb/TIN4++OBD1UfUe2IeuZy38ORSjGv9n0+2cdb3GK1XEmWyuWnBJ+lMfduXDPrFd0aeMAEJeIGNFMYt0ogwlCDNGO7UGBD0A30zGFjUPd7FFCYdFlDK1q51AoGAkWyIOBNQPiHDU2hnstikaesdeEmt7BzcPeHENrk2XTb0nirZdFA+vsMzhJ+W95xngmTRJJPED/DPqTnfL/zCL9Rx6MiGUR98MJY7GXm87U6KiUYmk0H7SUAfb46ct3wriw7xy1bGBQ7B2ene5lcwE3wcQG8Wy7a/Po6U+Ywe8hTBHQswliO2YROTKePTlzF6p+3vDuPBnR828eqApM4dG+OQi3zgmp1syAUm37+wiXHniL4sJPhs7QXhV1828elQJhhIOtnPoodvY6KPd/6jrLUHeo7wZSPL920mLAbkEPBMQjp2B9CTZjYWYARENsYr2fmCjVh8iX3cfeTz2WS09sV3ZGxl5dvmC98Lv9lAB2Ri38xRCa6DP9ADv+afFi1+yS7kwAd+0SJ7YL7b+Arknv65a6+evdkjugrokt7Ctztu9bw26ctGzfWdK7vxVh++usr6iY9/oi4ml1763rKwXFRl873G3bttZkZP2NFpaSjDE3nIy2705i41mb054QlKFn2bRRtvi7cEhn4AD/RiM64f29KVO8h07KaGBc9Gkz7px1NBvLQ2lOjYFIgH/AcN9oh/aZfYZkMpMefzv/RLv1STAE9+JJx8Gc8WC7LQjae9bo5Y1IDcWWx73fRQTh6x1g0OusGDm13ms/ECfYcbgPZQH5/DjzlgPtOruWF+8xN6144++CO+yam9mClRJJ/1gZ3YyNynK7oVx81PsUsSIw6Rl+x5AhodGqedB/iE6MA1mQH/qYfYO6/Jg3lFB9qRDX+5GQDmoPnMFxLLzGsQe9yAsOFTbv5rm/H9YIHvodC/ObFrV+Flz2ie92V7/4pu/Eo80lfCE7+kR/6lXDxOogRDefEX2cCm1jmbeE1OzPVKJ3/WN3z48wiXX96/yv2udxe7vf8Dda/AL3f7jmMh5+45WvlTTr6v45cDbc7ZbOuWrfXpApBHbKIXfmGsFq6Vt3FTHLKukDlPzthdOzLxM/PRTRR7FvMGxD66sRfgd+aO2Gf+6usGNxt7nUzyzFd9v4kf8KGWN3SMmTnS+ljgPHLxYT7AV8wPsUJM8SQlSF+61C/rtb0QHjL+yBbRb/8kJuXh1XXVd/ED8QTQNYfU6SO2oYM+aKu+XbvxYz2jLzrPU1vfS2RTKJGuW75sebe9JF+xlfjox2PCt8+WTzcYXCfBrH96o9Dzefzx3nTrv2KSuu9+9+bKi7lKjpYW9PPF/Ojp9Tbpf+jE2rzl+S3dRz5snvhqxLGVZzZkG3TERChRs7vqqm9V3xEX3ZDsdd3b5+ST+7eWbrutfwVYuR9sM46bXewmXotd/NCckghJJvAtxtA7fXrgYB21V47eAuuAG+b0Jq7a87Y3ivFEBw7wGV234HfGkzjEp4wlRsRvfZI1ewZja0tO84AvJGaLN2KwuaOMDoe2MD/Iih9tjG+Prn/mnSfMxhUjyWWtU6etfZ+4AK1MfN04xgRxF9/Zm6qjazxnPUv/vKXgSX9iIx/Fp35ZxzzRtbcTByKnGBOfo5OMD6EvJn71q1/pTjzpxBJfPtq9uci3du2aepNihL7t0qV9/I2vfvuqb3d33nlX9xMXv7WubZ4Y4tUB/XjRQ78ekcF+Fnbs6L8GZP44Tj7Zj90tKbHu9BpvHJdc8s66z1m+vI9dLYZ+03M1DyiDU8ToNlM2F7JehwnnTodyE9bk4Ihp3zouqKN8wc7ir7/NsfYEbRkUpG20BSo/XGFimSjuyqsDiuOEUaBNheBhoRO80o5DWhhsxj3dtOlwGJMj4tFiGbQ0W+DPYkxOCycZ8GTSBQKMDaYFyUImUZFc0SN5bDzVCTyc2KbRJMUr+q0OhhPORHIo1y7XAb4jB7ncEWEfi57vRXBeAcYkoA882XB5TYcsJlj6J6Fz59ZkGsLkoSNfKieDg23wABZg5+7IkteXfrPAGddmUCDCnxsQ7tqySfSAj9igpWnSe6xvI4xHvOHf4tfqDugJDUfrh0BveQUBj+xIF+S1WRAM6L71heg94+TxvaRCgIs96Znd8WdzTC5PGrWJr6OZGxy+P2Yu4IGt6F19a1tjusaP81YeGzmbDDq0yKBhDiTo6eOmRO7UqdfW2OrIQWYbQf3wW58WFHsCW7S8gDKyW7wFWHPPePRnYYyugvAf2LQI6sZ55hmLgLa9TO4u4zt6h/Nfd36VEY94rz5z/bVlEeu/zyxYii/XXHN10f8Pyvh9/2ygAE/kFZTZR9xSLy7Y6If3LKD0yhbmNP3xPZD4SGL4rnlMnxIB9I2pzHxTboEz38jbykMf2TDyZ/5hjmjfzvnWzvjjK+aqxV1//sUWeBL7zAW6YUeJTBZB/sxOeCI/usZhE7KxP3n4YQ5zjI5AO/T1Bfy3B9nQoy8Q5y1y5oJ5hSf0s4iDOCAGWIxtOK0FiQP4FFctYmibqxIK7Z2D8iSO5hbZ8xopueND+AvIoSx6tZ6JHebtcA2ykHo9Sfyid234SXRns6MN/9EmehPjzQcx1qZafeKs+emmFNg8mjP64v+Ky68sc+HZ4qN9DMZnzsGYxg6PfJftlSsTT9jMjSrrHD90Ti5+Au0c1Md8CPgo3ZmT1iR6tZaJj+aAsbUxdyA69BTUjTNc0c+VV1xe5sMtlVZtUw4bleIptT0Y151vCcIZZ57VnXnWmXVPIT7xE/yzNZ/DZ2sX49tMsrW5Y83gb9YXfdFhU77DX8nML80BPsluxtHfBtKNGrGR39m4x/fon0/6TjuafBcdOoifRwcg3pOLn5if/BvYKMBL5DGu8c1V88P8dq6verQdzvkK2DSLE/zJfIj90HU+a5PSB/+xtzp88Dd7I7yiwdZ0Rn5+RGfko0/11iT+S59oo2Mfw7fJycfMWfGPvUb+VfgoJqNrtudHEq5vFl9/5OFH5vC91N/snEGRuJaFTj8Hlha+t5U5dXF3wokn1A34179e1ssrvlb0dWNZhy6uaxi9Hbrq0Dk24WOQJDZ1/Grd2nV1DXJD39z80Q/7r6Hw/fPPf13d65mbX//6FfWgC0mTr1LwqxUr2LWn38eKc7obbryh+Iq5fmX1GbHAukU3/M2PlmRdsGbxSetKbkyyLZ9Wbm8SPYRv6wXbmdNiEr75JfrAxnQW0DMa6Z9P84cdrXd+8IUN0bI3pxuwLtCFtYwPsLeYwEfEXTc37DH5LT/gu+K98eN/PoPYHOgF/cQoc8+cR58M5h19iKf2IXjKjVo2cgT0Yay8WegmmXgUvvkx+pI8e8jWP7SjB2ulG0HaG5MetFNvDbRXoiPxDZ/4M6bYI/dhA3Lgq6UvBuDvBz/ofxjvW1fZV1kDR/wH+i1f3r+ZAeuLD9DFrWXMK664svjNjd32YmdzGPw4k6eMvS72dOecfU7Zs5xW/eJLX/pi9+2rr6q26fW1q/jz68txftG51+uvq5833HB9t+Hpp8p+5qhqK/ptbdZi4p/VAMybHIJzfQe3CGHjw9EkcTZunF5wcXecYk1YSuQMNgEtMIGWg3Jt9E06Cnc30uTMQgTGF7QonDEtPia3wCUI2azaAOFL4OVQ2mpjIXX3hVMDR9POQm1ikssCik8K4vQCoDt9YCz8cuihHHSgHk8MZywOwek4Dhk4Gz5l+uSTHAlodGRckwoPxsU32U1q+sMTfofAD3nRJy85BQkbEuMDmnRmcbHAmyTG1c81+diKDfFFxzb87Alk04bcxjEGGdg4d9vjTMahO2NkYTaZYhu0IPQ5PhsIrLn7jhZfkFjj0SZcPblMfLIJnKCt8Sxs9O6OFrkFE2V0K8CSyQRJkGQLvNr4DYMvPfARvigA0B/du9OsPHdVPUkzVmQPHfKQAz/sTQbjuaNo45ZNmqAs4NC5MpsEgQtfaBmfHM75grtsFgTBkz7ohY75Bxr0Yp4BnvgQfm1y6JN8PvWxWLFd5DQHlDv4Bl/KwsUf8eHT2PyAPujBuOzGjugblyyCq8TKnTf682uq/KblEcjjtVGJyVFHHV1subzo5Nk61tlnv7b4i7mKrg1V/90CPOEBDi/jr123tsaczB+vs55bbXNsWXT94qHvHj3UHX/C8d36ols/x35m2YzyCyCz/hIOMvNrNmQf9NiPnsQj/k+vZHHuBkkSRnzRgxhgfuhLF/yEH/LT6Jo+2VpCJ5bQW/xPW+dedUvyTs/mLx7iZ/pk86ld5EdXbOEf4hdaNiXmDj8kI1/ED35z59FcMFbsSD7+zRbmIr7xZuElE9AD/emrDvQN0FbeP2XoX9GnJ3za2NItPyIXXsVQ8xR9Ojc+HxEvxGjxxBzif/wIj+Yof7BRwX/0ZWz+rr8NFX9nY/ObLHhK/OLX5rQybYHMZMMLXUUv6jOvkqzihd7NU/bENxnx5qADNskTNvzjQX98mvP4R5fP2JCxJ97FEX9+wBzRjz3oig/jhw3YVnzgu3hObBUn0KQT/aJz12wmHpMT767RM6bxXSce8xuHMvqPT5BRW4m9segp/mlTvmbNMbUNv99UfJTsnrrQ0/rj1lfdnHLqKfU7jCXD7J4rsYy8F73pou7oY4ouig/7ufn7ysZqZ0ki9ceTxJt/t75GJrLTK5nZkn/Qo/lGLn5BVnEIn/QmFtIbXYil7KyvMvoiKxn4nnWM//IhMcNY9ACeMFin2/kJeDA/tSU3GdAynzNn+ACb0i//wYu1A20HGnw8awfaDnKSWazgh875J1/gt/yAPN6cYpusoWI8X3SuPV7QFk+MRzZ2oDd+lCcnZMOXfsYiC/3pjxexkK3NVfMD3/hQjg+x3FNCY3m6LFbWtz+KLPhDy/evnn5mQ6V9cbGzJyzbt20tOtxU1xTf2/ULpWwgGVuzZl1JCPvvPLOXccnndVh/7kJMoe9zzzu3zjNgUzycV8psxm2cyUb+ZcuXVnv/8If991X9OYOTTjqx6t+fg1mz9pj6NPSB+3vfEEPe/o63V7uxozmqLfN7TXZdWZ/43r1lr4U3+vawgix81pjxI5/sIsaKIfxVn9QrcwOID+M3exp6ZidtxTy+QT5xni8AmdiJDrRDi7+1ewaH+WVOWzPU0Z99vTluj8Jn6cX6KPaQAS2248PO6VuCi2fnfAcvaGV+4Rmyxpkb5jT69OjAp7HsMfhX5h0ZxQ78eQJPHy3IQa98Iv4u9vND/diNj5qvWSvxRZf5xLN9PNmTEPMvsYPe6FFb9eiRjU35A1uQLzxGz9rjjV2N4WkzOZ2T7bWvfc3sjc+0pT9vmJx88ilFh6eW2HBMicXPlr37vd3zpfzQww4tPrm26Oi8yvMTTzxZ7HDCjI/06zgfNs6PHv1h7UPnjve//33FX71JdmiNfW6q85MybLG1fG1dtSGb8CP8DHFIYXSUCg/AQS0cHAVzlICIcgagOMridNkIcT6Bi7EoJTBMhqKUuqgUpjFHgXHEdrH2iRahjOngVL//+79fJ9mv//qvVycRGE3cCIguR8OzQATGMJEphEOQBd8cM3RTZlwKJotgHmcHddqjL8CiT1Zjaxtn5LgcSFvlNqzhhWPqy+mMiQfj4k8/NEIzQMe1epPKZMUf+dHnlOrJYXyyu5PlbuS///f/vo6tnJ4EF/oAurDIqhPc2IG8bAHkjBNFxy1fbOmOLPp4+J3f+Z06YX7zN3+zjkHG0OcjfIl86CtjOwEyiZBy+lDOx4ybBYiu8PN7v/d7lda/+lf/qvoYH8miYGLTr/Zkcc5/8JIFRB1EDroVlPg6f8YDe+jLD+gI7fiz/q0OXOOBnpwLXvrjOzT4O99mq+iADNq7pgO6Uo9PtuAPeHdNv2hpo1wZfQxlwQMfQN+dY08tvBptvmiLDzqka3yiQcfGAzrnU9ryAzb3qcy4dENHeDGmzYufznaDwCtrNvv/83/+z5ocea2GDdDSVn928lqRv8e1c+f2Mp4vjm+YSa6PLm0tiu6u9X9rygai+oq7cXtK7NnDnk9VPt2VPuLI1d1JJ3oNj376hPqRRx4uG9Cix5JEanvYYYdXvYKFAF0y0wHQP72YV3RCt/THZ/gG+6FrU6mMLA7tbajIxT7pRz/q+RS90ZW+xlQXutELv7M4GVt/dPmOeZDxAvMN//Sojp+hHfBVspg/5GM/tmVnfIo7xs0GBlr69CrG4JneHWTDLz3RBV3yCXRa4AvEHghdNPmx9njCr086Rc88IHvmirjJTuYc+bRFS391dEjXyvRRTtf6mqN4oxs61FcdWvEBc4jO8YlW7zOP1D70EvsB2sYwpxx0iVe6QxN9MO/MK3wnftA5mpD4AsbVJnX69eMvnYnB/Xc5HVmX+I727GosvqGeXdBlW7bWJvOMzvGamIJnfX3SubZsykfJkpjDjnRk45X4ig/rjRhmLWvX9gpPb4rKHi6+99SG/vcCDi8bk2VFl4cVexxZNj6PzKyX69auKfmi7xJtqryvX9/HN3/U//GyAXKg7865eIB3Nh0CX/wZ3zao5o21Jut25lp0J8bSO9ra8nP6ZHNgI74A2rBhfAGf9EI//Eq8ootx0I6+tNEXTfzoB0ObsqE5y39dk5d9tIkfAl/MeqoOPWXkR0t/fGYTS8b4AH/hE3yZXMbhq8alL/LaK4jnv/3bv103oGIJ/ZKZr4HP8C0WtfsYug3fYnH/vSmb8t1VBw891Meeo485qth6V+Vbn6efebq+Fmrje8gh4tRzxTYbSv3q6pdPPdXzre3SpRLwbVWH/NYPhKw/lk39Hbn+YQG7tvomN1n7OeAtCAmjxOmQwrsfL+m/y3XEEeLF4TOxp+zBik58N9dY1hFyHVt81Y0R5XhkHzLz/SprKd9Q/F/MA3r3g20B+c1BvNOfOYsvtAGvDrYje9Zf/RxgTHKKGfRKL+a0crYFvk4H7Mof1eElMT/ge+YRn2Jb/vPf/tt/6/71v/7X9XVFulBvbvB3bZTxAbTZhZ+QSTmbkofu6ZRP4s/8xr9r7bXho8bXVznoL75EH2xJH5l3SZ7JA9EJkJlexVf00Y6OtLdnjh/rh076G4fsrvWzHn/605/ufvmXf7km/OTEg/ninE2ytrrWjw7RNO/JpjxyRIduaB9zTP8Qi06sheEhc4oMK1bYCxxRyg4p+nm0ymaso448utteaBxZ9j30wS9zs85TfDZg7+eef664pPVia72h74bAf/7P/0/h+aQy358rttlU25k/RxdfP/ZYuVL/NxrxTVfRcYt5E8YhKJJQC0E7B+dsyTvHxDhGWqQdGp6Kef3KXRwO6/GqJ1rea3YnbEgrfSF84NmR8xYtf22/IO1buu05DNuHZtu+7dP2bYEOY7WTWlt943wZK44ILX2f4VnC6JH+f/2v/7U6d6ANDPkI7XEyAx7UTeIfJKcW4N/6rd+apRO09Ia0Wwz5M64yi59XQrw+8yu/8iv1iS6oy9HqP+cOtEJvKOcQ6tWZvGDytwi9+ZA2sVuwL31bKIOUp41P/LZjBF7H8ArEL/7iL9aEUTt9Fhq/Rdun5UFg8gqVV7UsTJ72Cubmq+/qeULr7ikMx/WHm20Mylk5+jLfPXQ+GivfOXFox2Y5H9lNu14Xvn+6s8yd/hWhXbt8R6i/QRN7jsNQr0MM6zMHYFwf9cq1GcpNZ+zkepLdhuNpA+j1cs4dc1zZEJG/1UN4S/+cQ0sv/pv2bV0wjoe2/bC+vc6Y4Dz8tUibfekD4/q1fAStXmAx/dIGxtFUj27sawNog9BiEj8wacy2bHg9lCMYV64vzDdGa8MWw76jPiXW+q5YveFTrsqcrnO4NvPPTPth+cyrghU1LvRo+R4na8vbsL5FG4PDu89JtFu083k+tDTCt7KMnfHadvONC+PsNgnWqqxTk/S20Hj/9//+3/rKnTXc05ghhnqcj1Zf78w/dO6ILInl5WxPSSwPmfGXmZifV0etEf15bzO0+jFdt2O7+Za6Pt44Jutu5G9ispuNc1HsJqksvIxEHPHuO7l+mMTrgP14u2rZ0hm/79HyR7ZeBjwOdTe8Hoe0aeNx5GvPW39ztH4AC40rwfoP/+E/dP/iX/yLuqb3+mnlGsG46T+ks5DvLlQf3sbx2MrSno+jOa7/EPp5ldSrsfIM+vPqrSTt137t1+bMhdDSB21t27kH0dl886W1o3Pte3n4pnZsLYcayoOH/jzy6qNc4ujPNPn6gF+iP+H4E7vHH3+svm7tjZVfKPvAVSvdeKOzES/2Xv1N+oUx2WJjsJDiA0LEaVsoXyyNKNhm1OFJiScmsm93PjwSb2lpn/HyabwcMN/Ybd2wH8zXV7u2ftjWdY75oD6OM2ybMYZ8QcrbfnTg7oVXRLJRiY7adi1CB6LDFuP6DGFyucMyDm3/hWilHh98CV9ee/DKq1eUvLbQouW9PYfoJljM2JmMLZ1gof4tEjCCxfTVptV/a7OUt3Qm0XTnkz3cqQR9E+hyzAf1GRfac3R8X8Edeq9A5ZVPd/e8NpLX/2Auf8btP3v47Be2kZ2U+cx56VP+7c/z2R/9BqMvc/c45f0d5L59O35kbmWfTw+tzDC8HiK+CkPfGcnX0xnWw5D+fGPBQvWQNsPxxvUdlulDPy3vQ6RcuxzKUj7s115POh9i2K49JtlvWOe6RerG6WW+fqAsR9s256kLxm262vohxtUNy4bXxm55CSb52Ti05eP6gTZtu/58Ru7ax3nxAXOw1qXtoLzyWo7QauhAO74xhrLtzcN4LCT/uL4ZS9/5aMOQr3Y88UD/lA3bjrNXoN989S3adWZSn4XkcFPZfiFPc+eTayHeRmO1bZw71PXn9cbBzHlPri/r++emQH/dk6yNZj5zZB6Wq/KP83E279G3d2jf6y10Roe3V3qarmFUJ5Ec6buUFXL9D/SM2sw95gLdFsPrcUgbcuGplW/c+TgdLDQOup5Ge928PjUtmJQsAvqL4X0cFuqX+nHtUhZbL6btfCCHJ6b2NHIM31l1Ls/w8KMdL1AW/bZzD5QPbTTkI3UtHXDdH+jOtR+0ZMbR8Mr1mrX9VyiuvPKK+oDNq69+UHLVSl9piQwjWUbj7+2rQ+zTE8YYaF+RIfTdFxpp63FuvrdmQ+rd6uEj3/no7ivfC7XfV3qBfrA/fWGxMjrn8B6xcxxPfjydpS+IzvaFj8Xy7h1v9CUQwydzQ8wnT5A2ePf6n7s+Xj+SkAwnKiyWz3FIX6C/YNw4i8GB8LJYzDeGV928auH1DDdd3PnSrm07ibeFeEbLF8wtKDYZFpqF+vSIjkeJRY98Ru+LodVCbCl9S7ci4UwZON9XWpOxGJvOlWsy+Jh2i9PbwcVieGzbLFamYDF6ejGwr3zD/vTZH+yPTie1V+doNx/7ggOSufQtO4lyon/5zCnMns/UVbSV46A+bebigPhssJi5ZyxYqM1i+RnXdjH9F8NHi4VkmzSm19G8Luh1tLwGudgx90bxRwnfrC3ns3XrF207NJT2PPT8xL/zJCZwPmoHeO/P6aIWFbjOGCnM9QgtjQPDiK9J2Bc9s23m+GL67SttN4C9juk1UsfLFfsi1yS0NMjO/z2UUG4OePDRvhVyMMYcB2MD2vtPP/Ot/5qB11/tlfHvz8DIm3r+tfXPcJz5x43s+5QwvthoJ4fHvs7bBXH4uPyFMObBRFT9YvBJd8PxWlPT477yoX/bZ5I8bWI67LOvSP8kO/h248DnQgnp/qDKVP/vxx3x3y46i8Mk/ewvxtFb7BjatfNpPuwrvyMdLQb47Xk+eEBv0vjK902e+XAwbXowae0rFmOzA+Vv3/zihcHLgYcXCy+trHyl95cDx8Ix6kAQv4ZXi2+0c3V//cC6nfUh/fffpw6mPywW+FyI1xebr8XwtHi0dj7YQHsc/RdirClGiN7pef913ft13bd2cx9w9InkCH2b4TiuFx77ZZ0w4qzVX5SaZGgY3KYYIWaNbtpkQfLl/MAcdO8xWsRWBxOtDPONfSAIXUB7dL3vCeNLjVZHrT1aGcdhX3XajrMwtJ1//H1H6I0bX9m+yTPFFFPsK0ZvZOwf2jn8wiaMU/SYFLeHa8W+rgc9EucdL1b8Nc5CY7V8wQvN22J4enmBzVvf2D/7vzIwydf33+/3D62+9x/xaRjR2bV7Z7d0Zt/ct5k0hvL5x39ZR+ah7lqlHoyE59WMoW6SaEF7/kLhYNoldofWBw627dEeTtz+U1l4GPHycgfeI1N7vhAW06bFwbbDvsP4k3h45dhriileuTjQGNDO4emcfSGx0DrQxvMDj+0H2n+xaP1nMdjX9q9utP7A5u3xakYrX3u+r3ugA8XB0zUa4+j0ZWUnWD/3xqR+c/ECPGFsyTlfmInJGPUNm692B36x8ErSJ17D56Tzfcd4tx9HM79c1ZeP8+n95eGFQ+TwCcPzlxbjdf/C4eVnnymmeHXhYM7p6Xx9IZF1AF7YteDlGOdfbJ5g6s+vJLx89kn7CnzvzXO/F5y5mBcLNzrICSNSI3J7yn9lmz1ztW/AVb7g3As8ojO8fqXjxZBn3BivNj0uHvHRxbn+/H6c8pefHlv7vpC2/vH1oymmmGKKVxderHVjiileTni1+Hrk8AkHU6YXKGEct8VWvhjGw462c1+dfKUZ9KXmd3/Gfznr+ODxFh8t9Pbyydb/Wp9ty4PU5zgwvNL8e4oppphiiimmmOLVguk+bDLm/TIbxTkWjyjZNnyo8IUMMOo7Ol45GKenfdPdS4vY+uU8UQ4eb71/jXx0RJfJerP1bXrkfFQm2RyWHSimQWqKKaaYYoopppjipcF0HzYZ+/3rJ5ILv1oZJOEYnefv5Myv/FG/tm9/vrvQ+NGPflT/kKa/w+hnn1MH7fmBoh13X+lOau9PgTzyyCPdxo0b5+hqHPxyqb8B428Ngr89effdd3ebN2+u1/PB+OPotzJNAv3ec8899U9VmCj7Kvv+oh1n0vl8uP/+++vffPR3gxaDuXSdj3TGV/v61l+H7fs6P1EM/t7NQpgky76WTzHFFFNMMcUUU0wxxUuFsbvebFwXyrT33uC6lnT0f9PniSee6J5++umZjfnetPQ3xHCc0PWHJz//+c/X43vf+97s3/eDg7G5fv7552vC5BPCx77Q1jbtJS9k9gfzQdL3rW99qyaBaTOJtoTx61//evfNb36zXuvzD//wD91jjz1Wr8ehpTVKfubSnzRe8J3vfKe78sor6x8tnURjX6H/QkfagcSaHaI3aNvkvAU9felLX1p0Qj3Xtr2Plqv+vPy7e3fvWzVprv/NjF3P4p/lfI++yqDvOx/G8Q7jypXRxeOPP949+eSTM6XjMYnuFFNMMcUUU0wxxRRTHEyMTRhtmhdKHrRp/zyD6/xIzZIlS7utW7eWROSK7js33VifXhVKM0c23/nUx3l/oNFv7g/pbrn55u6qq77dnX/++d3rX//62T8ED/14oTEe2s63sZaMffGLX+wefPDBSqulPURLq6XZ8mGT/5WvfKUmt0CHhx12WOXb+Xy8oPHAAw/UJ5KwYcOGSifJbDCkga6+xoCWd/ZZ6E9oSBSNKVlDu5UHJvGccp854jPpH1rzHSDRZofvfve7tawdc3gd4NtTxsU8Ycw46OScn/FTWHKIz+LzeySNpU3xyXqUNv3Y+vRHfLxHua7leyNjZbyg5WEI5erdZLj88itm9bkQeh6nmGKKKaaYYoopppji4GPpfymYOZ+DbFafe+65+rTr4Ycf7p566qnu0EMP7VauXFnrwBPE73//+7XeE8CVK1fU5OWOO27v/vRP/7Q+cTvzzDO7o446anaD3m++u27nrh3dQw8+VBMlydaOHdu7I488qm6cJUyf+9znat0HPvCB7jWveU1NvrLh9qmPpzF4kPQ5X716dbdixYpKHz9eB8X/Qw89VJNYdY5NmzaVZPSq7m/+5m8q3bPOOqtbtWpV7SeB0sdTL0/+jjjiiDqmcYyBpjpjSsiM6UnX1Vdf3f31X/915e0Nb3hD1dPy5cu7tWvXVtr0goZXKelLkkYvSSj1N8673vWumgxJoN75zndWfo13zDHHVP7QpxeJON71ceDVU1m6y+e6detqH7ySSZJMD0cffXQtNwZ53vKWt1Q+JWDkR19bY5E/MpNj2bJldTzXnqKSga71wzfZ0k87utZW8kt/+FB/5JFHdlu2bOluvfXW7tOf/nTl69xzz53VVQuy3nnnnTVR1OeGG26oun/729/eHX744bXeuOGb3vkqRDf33feDoocHih8/WfS9p9jtiMLHrp7f8t/KFSu7QwrNzZs3Vf0deuiqct0n8hs3beyeK+V8nRxHHHFk8b8n6mvEeCIPPzAW0As7k5Xu8IIn+sUfP3CoN8fWrFlT+9Lfn/3Zn3W33XZb9SE2V0636BnLU0i6U27cjDnFFFNMMcUUU0wxxRQHGxMTRptQm9vrr7++fofQBtrG3ib32GOPrZt0CYlXA2+++eb6Pbgnnni8brLXrVvTffNb36yvWNpcn/Was7qTTzq5bphnqNcE6bu33NL94z/+Y9kI31M2zvd195VD8iFxsUn3Kqrx1q9fXw/ltffMRtnTPE+mJCS+44gXycyJJ55Yx8Lf1772tcqfp3U24zbnJ598cqWrv1cyJTaeYtqcS2y++tWv1uTEZl6iaWwJ1k033VRfE6ULG3e0Ja2nnHJKlfOKK66o9Mh2ySWX1IQGLQnQSSedVJNnr1HSo3HwLKk87rjjaoJ07bXXVvkkjMa98cYbuw9+8IOVj89+9rPdW9/61iqfvn/5l39Z6Z9++un1EyRNl112WU2m0Cbjm970pqpL47KRBEfigWdy40XiKvGS8EhU6FEbBz4k6+SVwJ9wwgk1uQHJtuTnda97Xe1HfomppMo45KI3uv+Lv/iLSsNNBzrR7vjjj6+88xM+5vzss8+uSe7IV/qbF3Tzt3/7t7M0+CU+3ve+99W2rtEx9l133VXtop4/0Qu7fPnLXyl83Vv08P3iCz/ozjrrzKLPpd3f/d3f1TFOPfXU+rTxe9+7q/rV6aef1i0vyfof//Efd3fceXu3o9AhI9/Ytm1L1eett93afefG71Sb8Cs65At0yA50yO98T/L008+oPkkXd9xxR/VFNy3Yiq4kgddff13xq8urjK997Wur7vnbl770xSqXMfU1Dv1Nk8UppphiiimmmGKKKV5ITHxf0UZUsmDj7OnMRRddVDewt5QkT5Jgg21TLOHwJERiYjP85S9/uT5ts9E94cQTamJyWtmIL126LJTr4emM5Mum+Y1vvLA755xzumeefqb7zGf+rtbZ7EsQJQ+e/tn4t/CUxUYbPzbOb3zjG2uff/qnf6rJC1xzzTX1qZ1EAH+SLTxLxGy4yWOjftppp9XNuiQD/56CXXjhhfWgAwmO8TyJ+va3v10TEE/CJIHXXXdd3fSjp0wy7YmqhFrCJtHRTzIkeZAoSbDwI5GUFBtPwujJWZ6s0b+nduj4REdSAvj3gzieWqGrbZJoSa3Egk4kX5JpepYUkoeeyCSB1N7TSzcGjCOhJb8nfdo5JD3GpjtJIJ0D2SRpaACd04sxPK3kF2wBSRJ90g09oWUsMrhmZ/yyh7FCFyRI+FV+wQUX1MSM/7EJHaL1hS98oZapx7fx3YxAR8Im2XQzgx+feeZZlV/J2Y7i256Go5Exn3zyqXqTYcuWrd2unbtKsnljfRJ+4okn1/50+Uef/nT13QvecEHVNb3fcst3a399+Z3k+m1ve1u9EeHmxCOPPFz6bC7J8deLL9zTnXHGGUVfbyy63FB09YVu83ObStmZxa9O7E4sh4TWE84vfvELVe/kMr4n8cZgpymmmGKKKaaYYooppnghMe8X3Dwp8TqdjalXH70e+d73vrdu7iUXnuhISNauXVc3+nBVSahsvt9YNu7Hrju2Jmtnn31uSUxGr7GCpMZG/kMf+lA5Ptx9+MMf7t7//vd3d5SNsWRo/frjal90JSGhnycqkhyJlE33u9/97tr3V3/1V2sSIcHI00/JoDE8qfvEJz5REyPJhSdfNuA282hITiVzniAZQwJow59kTTKpXDt6kAj8zM/8TH36iF/0JM4S2/POO68+vcNjm/iQAa8SVfo0Bl3hFfCep4XG8uRMmQTTuJ6Soec1UkmT73Vq344hAZSAfepTn6pPKr3KKFlTjjdPX8nkh27YV3+JHl48vZKM4l0CjV9JkSepbO4prMTFeHQsuZXAgGTPE1B9Jc18Jom7RI6873jHO7qLL7648kZHaClnB+PRC3uRO3bGq6ePEtSf+7mfq7akQzcYkjRKaiXTH/vYx6of+MSrck8cPRGUrH7kIx+przf37d5XdbJzx85KwziOOubuXfUmydJlS2ftQNdvfvNbup/8yZ/sLv6Ji+u8kJy+972XFrofrn7Ef9AyLzwJpW96I+PtRV+33HJz8YmtRdbVpe8bamL9iU98vPuJQs8T9k2bNla9nHDC8eU4rsjwum7pkqX1hsKOHdsKL1135llnVD/ma+RvbT/FFFNMMcUUU0wxxRQHG/MmjDbvNqc20hIpT2xsiCUSNvCSRomBpymSs+eee7476cST6tNEfYabWd8T829JIbqHHnqwJheeQCpbtmz5zOuVS2uSA8ps3JNEtbBZ9sRJIpXvqnniJ/GQqEnwPAm1AZcM4VuSJQn0iiZIBtAJJL+SN98/I48nh5IiiaukyrkkQHIAxpIcJdEgr/OWJh7Dv9dP6c2PmngySk5tkxy1cqKlvadZxiOHPhIRPNJVnrqmv8+84hoeJUpo+DSuwzj60y29kEtfiQnaPiVp2qJFf3QsCYteJYPq6JRujCv5lVx7BZUuW3nwqj1oS3fGTtKTzxbKtOFnePB0EuhUgo4+/8Oz5A8v0YUEllye/LEnO+kDZHn/+z9YErW3ztirf9JKH4BGJVPYUbZ8+YpuzZpen0C3x633um2vf9+F5MvRp+SV/BLVb37zWzURP6XwtnLVym7Hzh2l7ZH1RkNwzDG9LNuL3wL/XV58f9eunh+JLt2bZ5/73Ger7vFAj5F3qLsppphiiimmmGKKKaY4GJg3YbT59WrpJz/5yfoUyJMWP2TjSZdNt3qvgXrS4gnMpZde2v38z/98fYVUElFR9rP932R0anN7SE0Z0fKEKxvdJA1tgtjX9RvicdCu3Sjra1xl+LOZliihCzbiNvI22qC8TfAytiTW0x9J2sc//vHup3/6p+sGXT3aPgH9JFugzpEEUh2ER69oeqVVsuapqadkEpWMn89AYhQ94kdi5HuE6OFtiIwT/YFz8rKJMT19JI+nfF7nDK/RnWtPXNnbk01P9T760Y9We0mcJXqeOHrNFv+enknAvfKJP30cbUIU/URv5HQoD8/gPEd7ncQor2AqY0s06Cj2DH3weq/2SSzZXdvAD9tIjH2HsU28wLkk0jjGaPXpek+pU7ZrV2+vJUt6ORzGoEN68TT1/PPPq096f+mXfrHOEW3w6W+MQsbqMdITGoViab+7+PKq7gMf+GB9mnnmGWfVp7t+GMfT38pPoTnFFFNMMcUUU0wxxRQvBCYmjDah+a6bJ1QSFN+7k4DZsHqyJ5m0QXYuIZFUHXnUkWWzfHhJlpbVuocferi+qtfDhljauKQkG+fWMTw18WTKK6rXXndtd8QRq2vCAv0GfOlsUtNCMmazLHHxBAevnopJJLwGmO/EeS1RguvJmNcwtffqJOhvw44//TwBk8w590TKK5ISJQmFBCAJSRLBIcKTV20l022iAeSUuEhIJWvGqclD6QN4SeKSc+ODZEOydtlll9VkTOI3RGi143rqmqeJZPLUmJ2Mj3bGwS+900HOtWVDugR1dPKZz3ymXud1VDL5fqYk3Q0Edotugf2Mn8RGec7xKmn2qrAfd/E0MfZWh0d2lAB6tZZuvWZqPDTIwQ+19UTYDwR5Rdj3KyWLfJYc+t900801ufWEztPyu+++s/Q/rOrl3vvurT7oe4a333Z7TcYq/70Is1AWeyUBjV8Uj62y4FcdfbCT+cF/8LO08Em+2KjVRfTlyaXk+9Ef+UXU/od2vCrM7n5MyVNyTy/JhE9Pns3RKaaYYooppphiiimmONiY91dSbWxtRn3XzKuUNuo2vu95z3tqEmKzbgN+77331UTMhnvJ0iXda8sGXsIoAdBfEnj2OWeXzbINts3xIbXMhtePd0hCvcZ4z733dJe885LuLW+5uCRpq0oi+P1u8+bn65MaCQXYXOPNJt3TOmN6HVDS6Fry4EmnJEAfyYOE0KucfqDGd/h+6qd+avaVSP0lm+TxyiP58Ix3r4x6pdFGX50kxUbeL4qmvyRQAuE7jfgij3aeuhrfj69IpvFlUy+h8cqixMe4nrL6bp9kTF99PE309EtbskvCJK148v24X/7lX64J5BBoSY7J6CkfXZFHX3J4lZS9JPxkkkjh1ZO4N7/5zVVnEhC2kLjRnXMJih92kbyR+fLLL688S14kyehLyPGLvnHQxYc2rvkOHUl6+JW2fhzJd2IlT+odXl3FVxIq9CW4+HFzQXLKLuxGr2iShX/SNT7w7dP3Yn3Xj630u+mm71RfU4/e29/+tiLXiSVx39rd8t1buiefeLKWswNbfvBDH6wyS9bOKf77mtecXXjf2T3yw0eq7XyX1Z+B8d1DPkYPkmgJIvvySXzQPduce+45xee31vnkBsxZZ72mjNNVevwTr74PnFd+l5pLJUH3I1BXX31NlZHsD5W55gkw33DtB3Uk9Xnld4oppphiiimmmGKKKQ4W9koY26cdNtpJvGzyfdokS1Zs6CUynqJ4bc7G+vjjj+vOfu3Z3Zq1x9Qf66hPVMqGf/36Y7tTTj2lnqMrYfTk8IQTTqyv24GkT5LzzpIwGrdv52nL0TUx8OQmUCdx8Suo+JWU4M+m2Y+aeDomibNxV2ZckIh4PVC9fhJeY6EtkcmP7Cgnn6dEntB5SoQPNLXTX3KAhjb6+P5cnpSp8xRRkoUOuvigr3zXDW++l5ZENTKjI9Fy7nt7xpL0oSMpl0h6nVQSNQR+yEpOPIU/9MjkHI94IZPkTBs21sY45COD8cmBd0mLMkCHLiRG2mrHB9B0jr4+nrKRK3oxFjpkokd80k+SQ+X4wwvdOccbmnSmnI/hSQKLf36IB/XkVa+PsSTdkmB0yGUsf3QfPbq/+OK3FH/rk268u4GhLTtI7tnGTQ7jrVixvMhyVrWfhFEiJ1Hkl6tW9f7vR52M4UAPD+Ti60cddWRNFvm711d9l5Fu1q5ZW/nVzrinn3Z64fXwogs+tKLo9bDKy2mlfHXlb2ltf0rR77vf9e7Kj0SY7/PTcT4xxRRTTDHFFFNMMcUUB4JDyga0zxBn0F5mMys58+TJxt/mG2z61dmselIoCZL8rSgb7K5+P6t/1c5TJDj88P4PzC+Zecq4e7fvCy6rtD2h8QfTjyqbcD96kzqvbPpenWSl33z3PKHjVyr/1//6X/X6P/2n/1Sf4GgjeVAW/kAdWpId/Kt3hH+yOZf4SGT0xbc2ysgNaChznTEcoJ+Egx6iK+MZW51zSL3x8EK+9HWu3Dm62jpX74nW3//931ca/+bf/JvZBK6FPnhEQ6IT4JXOJBfaqJNcoWtMZa710864bKofviO/dvTFZmmPRmBs/fTBt2t90TSOcZ2jiw56rV70BXpBG7TJGJ6EOkI/dQ40jUFGY0pAA7RSz64SwJGf7Cr9l5fPnd2zz26scq0qfuzXU5cvXzbD+476i6nL6jhese1/3IY8nqTjQxvQH/TDKx3gVRIoYd21a0cp217LHBLInTt7nVabuU9SBull3dYdcWRJFAt/eOU39Hb44X1yC/SmL5lTNsUUU0wxxRRTTDHFFAcL8yaMNsI2vjlAvfPhJ2hfKNYNb9+n3/T3yePu+iMe/jB6aVA36v1Gvt9ca6N/fkCk9prtvzckjL//+79fN8z/8T/+x1keoJVhUrnzJCWRoR9//Jgjnnp6Nu6QZCbJHYRePoP56Ld1bT/nXlH03UVPF/0AUb47OAQa+rV9W6R82A7Sti1roU/4aulMkkcb7R1tm4wd5Dy00yf9hv1bpA8MeXENKUvbts+ePX3S6uZEynrQhWufOdce7zP0/Ff7sv+Irs927PF0e2QOtPT9SY8lZYyebj9+IVmaFL1r1PSfK8vofIoppphiiimmmGKKKQ4W9tqJ23S2h42oo8Vwo9qif+0vm+AcystgNVns0W+U+4QxbWyOneuvfEi7hScqftDEa4fhJWj5bxG+h+VBm3AMMeyTJ1tBex5MGmcc2rHTL/J7SunJldeBvSo5H8aNqWxYPu56XN8hWj7bc7yG3/nsps9C/MRO+ZyEtm6c7VI2ic4hxR97Xw2/+Uxbn6Hb89yLVs7Lv33rvm3o++QLfdu+xUgfodsjyWag3ShZrCXl6OdTodYXNWhlas+nmGKKKaaYYoopphgP+62DfbzasdcTxiFUL34zitTkthlqMr2+fz+m61G7lg/nDq/ogdcLW7Rtx2FSvXJYjLzjaOzvuEMM+fAapSeqvhfXvoq6L/QOpF3KF0vnQDEcZ6Fxx9Urg5Qvps2+YlL/cWONw7DdYvsF+9p+iimmmGKKKaaY4scd2b8dDNiHvfr3Y133/wNImOvGiC4j4gAAAABJRU5ErkJggg==)"
      ],
      "metadata": {
        "id": "eKGckKfSmewk"
      }
    },
    {
      "cell_type": "code",
      "source": [
        "from langchain.retrievers.multi_query import MultiQueryRetriever"
      ],
      "metadata": {
        "id": "EKzD-95ylEuE"
      },
      "execution_count": 17,
      "outputs": []
    },
    {
      "cell_type": "code",
      "source": [
        "import logging"
      ],
      "metadata": {
        "id": "r0oMd0oAlExH"
      },
      "execution_count": 18,
      "outputs": []
    },
    {
      "cell_type": "code",
      "source": [
        "similarity_retrieval = chroma_db.as_retriever(search_type = \"similarity\",\n",
        "                                              search_kwargs = {\"k\":3})"
      ],
      "metadata": {
        "id": "LSLC7dXjlE0n"
      },
      "execution_count": 19,
      "outputs": []
    },
    {
      "cell_type": "code",
      "source": [
        "from langchain.llms import HuggingFaceHub"
      ],
      "metadata": {
        "id": "fzZHRP-vlE7x"
      },
      "execution_count": 13,
      "outputs": []
    },
    {
      "cell_type": "code",
      "source": [
        "llm = HuggingFaceHub(\n",
        "    repo_id = \"google/gemma-1.1-2b-it\",\n",
        "    model_kwargs = {\"temparature\": 0.5 , \"repitation_penalty\": 1.03, \"max_new_tokens\":200 , \"max_length\":180},\n",
        "    huggingfacehub_api_token = Hf_api_key\n",
        ")"
      ],
      "metadata": {
        "id": "Sbxrq1P8q_td",
        "colab": {
          "base_uri": "https://localhost:8080/"
        },
        "outputId": "e5b172aa-79be-4022-bf5f-6d51bcc27436"
      },
      "execution_count": 14,
      "outputs": [
        {
          "output_type": "stream",
          "name": "stderr",
          "text": [
            "<ipython-input-14-30150207860b>:1: LangChainDeprecationWarning: The class `HuggingFaceHub` was deprecated in LangChain 0.0.21 and will be removed in 0.3.0. Use HuggingFaceEndpoint instead.\n",
            "  llm = HuggingFaceHub(\n"
          ]
        }
      ]
    },
    {
      "cell_type": "code",
      "source": [
        "from langchain.chat_models import ChatHuggingFace"
      ],
      "metadata": {
        "id": "ubozsLbKiIIr"
      },
      "execution_count": 15,
      "outputs": []
    },
    {
      "cell_type": "code",
      "source": [
        "from huggingface_hub import login\n",
        "login(Hf_api_key)"
      ],
      "metadata": {
        "id": "oyYtp8LqjAcx"
      },
      "execution_count": 16,
      "outputs": []
    },
    {
      "cell_type": "code",
      "source": [
        "hugging_face = ChatHuggingFace(model_name = \"google/gemma-1.1-2b-it\", huggingfacehub_api_token = Hf_api_key)"
      ],
      "metadata": {
        "colab": {
          "base_uri": "https://localhost:8080/",
          "height": 389
        },
        "id": "Sb18TF0zjIeM",
        "outputId": "c5e97584-5fb6-4895-fb06-0a4bcca9f484"
      },
      "execution_count": 17,
      "outputs": [
        {
          "output_type": "stream",
          "name": "stderr",
          "text": [
            "<ipython-input-17-623ca98d8798>:1: LangChainDeprecationWarning: The class `ChatHuggingFace` was deprecated in LangChain 0.0.37 and will be removed in 0.3. An updated version of the class exists in the from langchain-huggingface package and should be used instead. To use it run `pip install -U from langchain-huggingface` and import as `from from langchain_huggingface.chat_models import huggingface import ChatHuggingFace`.\n",
            "  hugging_face = ChatHuggingFace(model_name = \"google/gemma-1.1-2b-it\", huggingfacehub_api_token = Hf_api_key)\n"
          ]
        },
        {
          "output_type": "error",
          "ename": "ValidationError",
          "evalue": "1 validation error for ChatHuggingFace\n__root__\n  Expected llm to be one of HuggingFaceTextGenInference, HuggingFaceEndpoint, HuggingFaceHub, received <class 'NoneType'> (type=type_error)",
          "traceback": [
            "\u001b[0;31m---------------------------------------------------------------------------\u001b[0m",
            "\u001b[0;31mValidationError\u001b[0m                           Traceback (most recent call last)",
            "\u001b[0;32m<ipython-input-17-623ca98d8798>\u001b[0m in \u001b[0;36m<cell line: 1>\u001b[0;34m()\u001b[0m\n\u001b[0;32m----> 1\u001b[0;31m \u001b[0mhugging_face\u001b[0m \u001b[0;34m=\u001b[0m \u001b[0mChatHuggingFace\u001b[0m\u001b[0;34m(\u001b[0m\u001b[0mmodel_name\u001b[0m \u001b[0;34m=\u001b[0m \u001b[0;34m\"google/gemma-1.1-2b-it\"\u001b[0m\u001b[0;34m,\u001b[0m \u001b[0mhuggingfacehub_api_token\u001b[0m \u001b[0;34m=\u001b[0m \u001b[0mHf_api_key\u001b[0m\u001b[0;34m)\u001b[0m\u001b[0;34m\u001b[0m\u001b[0;34m\u001b[0m\u001b[0m\n\u001b[0m",
            "\u001b[0;32m/usr/local/lib/python3.10/dist-packages/langchain_core/_api/deprecation.py\u001b[0m in \u001b[0;36mwarn_if_direct_instance\u001b[0;34m(self, *args, **kwargs)\u001b[0m\n\u001b[1;32m    213\u001b[0m                         \u001b[0mwarned\u001b[0m \u001b[0;34m=\u001b[0m \u001b[0;32mTrue\u001b[0m\u001b[0;34m\u001b[0m\u001b[0;34m\u001b[0m\u001b[0m\n\u001b[1;32m    214\u001b[0m                         \u001b[0memit_warning\u001b[0m\u001b[0;34m(\u001b[0m\u001b[0;34m)\u001b[0m\u001b[0;34m\u001b[0m\u001b[0;34m\u001b[0m\u001b[0m\n\u001b[0;32m--> 215\u001b[0;31m                     \u001b[0;32mreturn\u001b[0m \u001b[0mwrapped\u001b[0m\u001b[0;34m(\u001b[0m\u001b[0mself\u001b[0m\u001b[0;34m,\u001b[0m \u001b[0;34m*\u001b[0m\u001b[0margs\u001b[0m\u001b[0;34m,\u001b[0m \u001b[0;34m**\u001b[0m\u001b[0mkwargs\u001b[0m\u001b[0;34m)\u001b[0m\u001b[0;34m\u001b[0m\u001b[0;34m\u001b[0m\u001b[0m\n\u001b[0m\u001b[1;32m    216\u001b[0m \u001b[0;34m\u001b[0m\u001b[0m\n\u001b[1;32m    217\u001b[0m                 obj.__init__ = functools.wraps(obj.__init__)(  # type: ignore[misc]\n",
            "\u001b[0;32m/usr/local/lib/python3.10/dist-packages/langchain_community/chat_models/huggingface.py\u001b[0m in \u001b[0;36m__init__\u001b[0;34m(self, **kwargs)\u001b[0m\n\u001b[1;32m     67\u001b[0m \u001b[0;34m\u001b[0m\u001b[0m\n\u001b[1;32m     68\u001b[0m     \u001b[0;32mdef\u001b[0m \u001b[0m__init__\u001b[0m\u001b[0;34m(\u001b[0m\u001b[0mself\u001b[0m\u001b[0;34m,\u001b[0m \u001b[0;34m**\u001b[0m\u001b[0mkwargs\u001b[0m\u001b[0;34m:\u001b[0m \u001b[0mAny\u001b[0m\u001b[0;34m)\u001b[0m\u001b[0;34m:\u001b[0m\u001b[0;34m\u001b[0m\u001b[0;34m\u001b[0m\u001b[0m\n\u001b[0;32m---> 69\u001b[0;31m         \u001b[0msuper\u001b[0m\u001b[0;34m(\u001b[0m\u001b[0;34m)\u001b[0m\u001b[0;34m.\u001b[0m\u001b[0m__init__\u001b[0m\u001b[0;34m(\u001b[0m\u001b[0;34m**\u001b[0m\u001b[0mkwargs\u001b[0m\u001b[0;34m)\u001b[0m\u001b[0;34m\u001b[0m\u001b[0;34m\u001b[0m\u001b[0m\n\u001b[0m\u001b[1;32m     70\u001b[0m \u001b[0;34m\u001b[0m\u001b[0m\n\u001b[1;32m     71\u001b[0m         \u001b[0;32mfrom\u001b[0m \u001b[0mtransformers\u001b[0m \u001b[0;32mimport\u001b[0m \u001b[0mAutoTokenizer\u001b[0m\u001b[0;34m\u001b[0m\u001b[0;34m\u001b[0m\u001b[0m\n",
            "\u001b[0;32m/usr/local/lib/python3.10/dist-packages/langchain_core/load/serializable.py\u001b[0m in \u001b[0;36m__init__\u001b[0;34m(self, *args, **kwargs)\u001b[0m\n\u001b[1;32m    111\u001b[0m     \u001b[0;32mdef\u001b[0m \u001b[0m__init__\u001b[0m\u001b[0;34m(\u001b[0m\u001b[0mself\u001b[0m\u001b[0;34m,\u001b[0m \u001b[0;34m*\u001b[0m\u001b[0margs\u001b[0m\u001b[0;34m:\u001b[0m \u001b[0mAny\u001b[0m\u001b[0;34m,\u001b[0m \u001b[0;34m**\u001b[0m\u001b[0mkwargs\u001b[0m\u001b[0;34m:\u001b[0m \u001b[0mAny\u001b[0m\u001b[0;34m)\u001b[0m \u001b[0;34m->\u001b[0m \u001b[0;32mNone\u001b[0m\u001b[0;34m:\u001b[0m\u001b[0;34m\u001b[0m\u001b[0;34m\u001b[0m\u001b[0m\n\u001b[1;32m    112\u001b[0m         \u001b[0;34m\"\"\"\"\"\"\u001b[0m\u001b[0;34m\u001b[0m\u001b[0;34m\u001b[0m\u001b[0m\n\u001b[0;32m--> 113\u001b[0;31m         \u001b[0msuper\u001b[0m\u001b[0;34m(\u001b[0m\u001b[0;34m)\u001b[0m\u001b[0;34m.\u001b[0m\u001b[0m__init__\u001b[0m\u001b[0;34m(\u001b[0m\u001b[0;34m*\u001b[0m\u001b[0margs\u001b[0m\u001b[0;34m,\u001b[0m \u001b[0;34m**\u001b[0m\u001b[0mkwargs\u001b[0m\u001b[0;34m)\u001b[0m\u001b[0;34m\u001b[0m\u001b[0;34m\u001b[0m\u001b[0m\n\u001b[0m\u001b[1;32m    114\u001b[0m \u001b[0;34m\u001b[0m\u001b[0m\n\u001b[1;32m    115\u001b[0m     \u001b[0;34m@\u001b[0m\u001b[0mclassmethod\u001b[0m\u001b[0;34m\u001b[0m\u001b[0;34m\u001b[0m\u001b[0m\n",
            "\u001b[0;32m/usr/local/lib/python3.10/dist-packages/pydantic/v1/main.py\u001b[0m in \u001b[0;36m__init__\u001b[0;34m(__pydantic_self__, **data)\u001b[0m\n\u001b[1;32m    339\u001b[0m         \u001b[0mvalues\u001b[0m\u001b[0;34m,\u001b[0m \u001b[0mfields_set\u001b[0m\u001b[0;34m,\u001b[0m \u001b[0mvalidation_error\u001b[0m \u001b[0;34m=\u001b[0m \u001b[0mvalidate_model\u001b[0m\u001b[0;34m(\u001b[0m\u001b[0m__pydantic_self__\u001b[0m\u001b[0;34m.\u001b[0m\u001b[0m__class__\u001b[0m\u001b[0;34m,\u001b[0m \u001b[0mdata\u001b[0m\u001b[0;34m)\u001b[0m\u001b[0;34m\u001b[0m\u001b[0;34m\u001b[0m\u001b[0m\n\u001b[1;32m    340\u001b[0m         \u001b[0;32mif\u001b[0m \u001b[0mvalidation_error\u001b[0m\u001b[0;34m:\u001b[0m\u001b[0;34m\u001b[0m\u001b[0;34m\u001b[0m\u001b[0m\n\u001b[0;32m--> 341\u001b[0;31m             \u001b[0;32mraise\u001b[0m \u001b[0mvalidation_error\u001b[0m\u001b[0;34m\u001b[0m\u001b[0;34m\u001b[0m\u001b[0m\n\u001b[0m\u001b[1;32m    342\u001b[0m         \u001b[0;32mtry\u001b[0m\u001b[0;34m:\u001b[0m\u001b[0;34m\u001b[0m\u001b[0;34m\u001b[0m\u001b[0m\n\u001b[1;32m    343\u001b[0m             \u001b[0mobject_setattr\u001b[0m\u001b[0;34m(\u001b[0m\u001b[0m__pydantic_self__\u001b[0m\u001b[0;34m,\u001b[0m \u001b[0;34m'__dict__'\u001b[0m\u001b[0;34m,\u001b[0m \u001b[0mvalues\u001b[0m\u001b[0;34m)\u001b[0m\u001b[0;34m\u001b[0m\u001b[0;34m\u001b[0m\u001b[0m\n",
            "\u001b[0;31mValidationError\u001b[0m: 1 validation error for ChatHuggingFace\n__root__\n  Expected llm to be one of HuggingFaceTextGenInference, HuggingFaceEndpoint, HuggingFaceHub, received <class 'NoneType'> (type=type_error)"
          ]
        }
      ]
    },
    {
      "cell_type": "code",
      "source": [
        "hugging_face = ChatHuggingFace(llm = llm)"
      ],
      "metadata": {
        "colab": {
          "base_uri": "https://localhost:8080/",
          "height": 145,
          "referenced_widgets": [
            "23fa8fcb861c47b8bc88981709a94fb0",
            "68793bfb576a45309f6fc668892391c6",
            "d75b1233885846569dc094dc4b26d5ec",
            "cdea019bb2444fbab5ae3df31981fa66",
            "710b7d17afc2401e933b5fb593b300bf",
            "2e486a69c04a44fb82828aee799292e3",
            "c41fa674b8314b71bcc97b3891bd9f38",
            "a03a6d7c5da34a8cabacf2752d663526",
            "e0724f96bc18423ebbcd79f5fb17b80a",
            "30f3e0e923564744b66bfe3a352b6638",
            "01ffb87bec4348ee8a407bfcb0636106",
            "9c1e5332732540198517f7f00e534361",
            "403915e4e167402598cfb25082c05828",
            "5f8b9424e53544ecb57f467188177a4a",
            "87f75f85c5ea4284a15e69f6d10c14e4",
            "150fd44dc6d347e4ae4cc5cb66843593",
            "7948d74aebd24f52a27c68ce34b59825",
            "a647ec4c01ef40d39b08b9f5ddf2a6cd",
            "86116921ea904214914f72ae90102730",
            "fde6a17241c2437e942946b84fc06ed0",
            "7b947023428a4ad480d0bd3dbbc9a7bf",
            "2f58c82d284e42bb8070723a47272c5f",
            "b3bc286e1c0747bd81c1b7c7e40d145a",
            "40b275de128344b6810f2b91f9f576b9",
            "b1c42f1cd4e9418484af26f0e1b2035f",
            "bc527f7c4a504459add0ab3043b5cb5a",
            "c27d8fe1656942e8bcc0de9ca4c868dd",
            "9e363fa4d2ee4fe29506b5d5fe8367b9",
            "da35dc44077a49d3a374540db7ba924f",
            "5741697ab0d94994adcacbe692c5b792",
            "f7301e2477704c06896f66578ef0bd30",
            "18dcfa0715454e62b085073322bbf939",
            "c1d441c0dec34c629f18f3f38c202e5a",
            "65d92fa186fd46bb949060c3dbab8dce",
            "654c16a26b9a486d82f3b52b72a7f895",
            "0c4dc66e67d7424882fa13a8bd04928e",
            "fa1a200830bf44ccbc7f2786146cb835",
            "d09f6730ac254ff9a03c44b009f95c49",
            "f10de437fecc4d6780022b3dcb19d121",
            "3a8ed4e5d0174adf9dd97d22b5f4ebe7",
            "d1416a2ccdc449c0ac7cb0b7667458b2",
            "bd5b85454efd494b99ef7ae4cd0ef9cd",
            "5b2a2e7f048d47469f592726aa6708bb",
            "b8934a92d1dc4ce89ef4143e00d8bb3a"
          ]
        },
        "id": "uF2l3gb0imAz",
        "outputId": "d6d06764-24c0-4149-bc65-eea360b11307"
      },
      "execution_count": 18,
      "outputs": [
        {
          "output_type": "display_data",
          "data": {
            "text/plain": [
              "tokenizer_config.json:   0%|          | 0.00/34.2k [00:00<?, ?B/s]"
            ],
            "application/vnd.jupyter.widget-view+json": {
              "version_major": 2,
              "version_minor": 0,
              "model_id": "23fa8fcb861c47b8bc88981709a94fb0"
            }
          },
          "metadata": {}
        },
        {
          "output_type": "display_data",
          "data": {
            "text/plain": [
              "tokenizer.model:   0%|          | 0.00/4.24M [00:00<?, ?B/s]"
            ],
            "application/vnd.jupyter.widget-view+json": {
              "version_major": 2,
              "version_minor": 0,
              "model_id": "9c1e5332732540198517f7f00e534361"
            }
          },
          "metadata": {}
        },
        {
          "output_type": "display_data",
          "data": {
            "text/plain": [
              "tokenizer.json:   0%|          | 0.00/17.5M [00:00<?, ?B/s]"
            ],
            "application/vnd.jupyter.widget-view+json": {
              "version_major": 2,
              "version_minor": 0,
              "model_id": "b3bc286e1c0747bd81c1b7c7e40d145a"
            }
          },
          "metadata": {}
        },
        {
          "output_type": "display_data",
          "data": {
            "text/plain": [
              "special_tokens_map.json:   0%|          | 0.00/636 [00:00<?, ?B/s]"
            ],
            "application/vnd.jupyter.widget-view+json": {
              "version_major": 2,
              "version_minor": 0,
              "model_id": "65d92fa186fd46bb949060c3dbab8dce"
            }
          },
          "metadata": {}
        }
      ]
    },
    {
      "cell_type": "code",
      "source": [
        "mq_retriever = MultiQueryRetriever.from_llm(\n",
        "    retriever = similarity_retrieval, llm = hugging_face\n",
        ")"
      ],
      "metadata": {
        "id": "ESIByHB5lE4X"
      },
      "execution_count": 22,
      "outputs": []
    },
    {
      "cell_type": "code",
      "source": [],
      "metadata": {
        "id": "7ooFwxGri_qd"
      },
      "execution_count": null,
      "outputs": []
    },
    {
      "cell_type": "code",
      "source": [
        "logging.basicConfig()\n",
        "logging.getLogger(\"langchain.retrievers.multi_query\").setLevel(logging.INFO)"
      ],
      "metadata": {
        "id": "duwLl7P-q_wv"
      },
      "execution_count": 23,
      "outputs": []
    },
    {
      "cell_type": "code",
      "source": [
        "query = \"what is langchain ?\"\n",
        "docs = mq_retriever.invoke(query)"
      ],
      "metadata": {
        "colab": {
          "base_uri": "https://localhost:8080/"
        },
        "id": "-Q0fVDIwq_0N",
        "outputId": "3310b0c5-3c81-4705-b954-8ca71f7ac638"
      },
      "execution_count": 24,
      "outputs": [
        {
          "output_type": "stream",
          "name": "stderr",
          "text": [
            "INFO:langchain.retrievers.multi_query:Generated queries: ['You are an AI language model assistant. Your task is ', '    to generate 3 different versions of the given user ', '    question to retrieve relevant documents from a vector  database. ', '    By generating multiple perspectives on the user question, ', '    your goal is to help the user overcome some of the limitations ', '    of distance-based similarity search. Provide these alternative ', '    questions separated by newlines. Original question: what is langchain ?', '', '**Alternative Questions:**', '', '1. What is the concept of LangChain and how does it differ from traditional language models?', '2. Explain the key features and functionalities of LangChain.', '3. Discuss the potential applications and benefits of LangChain in various industries.']\n"
          ]
        }
      ]
    },
    {
      "cell_type": "code",
      "source": [
        "docs"
      ],
      "metadata": {
        "colab": {
          "base_uri": "https://localhost:8080/"
        },
        "id": "nqOaEx5GlE_U",
        "outputId": "8ee79fb5-36e2-40a0-f16d-872615f19a93"
      },
      "execution_count": 25,
      "outputs": [
        {
          "output_type": "execute_result",
          "data": {
            "text/plain": [
              "[Document(page_content='Use Cases and Applications of LangChain in AI-powered systems'),\n",
              " Document(page_content='Prompt Templates for creating structured model inputs'),\n",
              " Document(page_content='Agents and Tools in LangChain for dynamic task execution'),\n",
              " Document(page_content='Memory and State Management for maintaining conversation context'),\n",
              " Document(page_content='Introduction to LangChain and its purpose')]"
            ]
          },
          "metadata": {},
          "execution_count": 25
        }
      ]
    },
    {
      "cell_type": "code",
      "source": [],
      "metadata": {
        "id": "pHEyUEAjscmB"
      },
      "execution_count": null,
      "outputs": []
    },
    {
      "cell_type": "markdown",
      "source": [
        "![Screenshot 2025-01-08 173251.png](data:image/png;base64,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)"
      ],
      "metadata": {
        "id": "NvUMEAYdzAZi"
      }
    },
    {
      "cell_type": "code",
      "source": [
        "from langchain.retrievers import ContextualCompressionRetriever"
      ],
      "metadata": {
        "id": "eIc47Cp3f1EU"
      },
      "execution_count": 19,
      "outputs": []
    },
    {
      "cell_type": "code",
      "source": [
        "from langchain.retrievers.document_compressors import LLMChainExtractor"
      ],
      "metadata": {
        "id": "7uIU7oJ-f1II"
      },
      "execution_count": 20,
      "outputs": []
    },
    {
      "cell_type": "code",
      "source": [
        "#extract cosine distance based retriever\n",
        "similarity_retriever = chroma_db.as_retriever(search_type = \"similarity\",\n",
        "                                              search_kwargs = {\"k\":3})"
      ],
      "metadata": {
        "id": "C8E96656f1LA"
      },
      "execution_count": 29,
      "outputs": []
    },
    {
      "cell_type": "code",
      "source": [
        "compressor = LLMChainExtractor.from_llm(llm = hugging_face)"
      ],
      "metadata": {
        "id": "R643vMM9fne2"
      },
      "execution_count": 22,
      "outputs": []
    },
    {
      "cell_type": "code",
      "source": [
        "#retrives the documents similar to query and then applies the compressor\n",
        "\n",
        "compression_retriver = ContextualCompressionRetriever(\n",
        "    base_compressor=compressor, base_retriever= similarity_retriever)\n"
      ],
      "metadata": {
        "id": "bFm75a2Gf1OX"
      },
      "execution_count": 23,
      "outputs": []
    },
    {
      "cell_type": "code",
      "source": [
        "query = \"what do mean by Langchain ?\"\n",
        "docs = compression_retriver.invoke(query)"
      ],
      "metadata": {
        "id": "UkKHoSaaf1R9"
      },
      "execution_count": 24,
      "outputs": []
    },
    {
      "cell_type": "code",
      "source": [
        "docs[2].page_content"
      ],
      "metadata": {
        "id": "oMrDT-Fef1VB",
        "colab": {
          "base_uri": "https://localhost:8080/",
          "height": 90
        },
        "outputId": "01fd10cd-2df2-4563-abf5-97215f7c76f7"
      },
      "execution_count": 25,
      "outputs": [
        {
          "output_type": "execute_result",
          "data": {
            "text/plain": [
              "'<bos><start_of_turn>user\\nGiven the following question and context, extract any part of the context *AS IS* that is relevant to answer the question. If none of the context is relevant return NO_OUTPUT. \\n\\nRemember, *DO NOT* edit the extracted parts of the context.\\n\\n> Question: what do mean by Langchain ?\\n> Context:\\n>>>\\nAgents and Tools in LangChain for dynamic task execution\\n>>>\\nExtracted relevant parts:<end_of_turn>\\n<start_of_turn>model\\nThe provided text does not contain any information that is relevant to the question, so the output is:\\n\\n**NO_OUTPUT**'"
            ],
            "application/vnd.google.colaboratory.intrinsic+json": {
              "type": "string"
            }
          },
          "metadata": {},
          "execution_count": 25
        }
      ]
    },
    {
      "cell_type": "code",
      "source": [],
      "metadata": {
        "id": "eCArRhbX5MDA"
      },
      "execution_count": null,
      "outputs": []
    },
    {
      "cell_type": "markdown",
      "source": [
        "**LLMChainFilter :**\n",
        "\n",
        "Filter that drops documents that aren’t relevant to the query.\n",
        "\n",
        "Create a new model by parsing and validating input data from keyword arguments.\n",
        "\n",
        "Raises [ValidationError][pydantic_core.ValidationError] if the input data cannot be validated to form a valid model.\n",
        "\n"
      ],
      "metadata": {
        "id": "ndTpoI3z50l7"
      }
    },
    {
      "cell_type": "code",
      "source": [
        "from langchain.retrievers.document_compressors import LLMChainFilter\n",
        "\n",
        "_filter = LLMChainFilter.from_llm(llm)"
      ],
      "metadata": {
        "id": "316ci4A45MGS"
      },
      "execution_count": 26,
      "outputs": []
    },
    {
      "cell_type": "code",
      "source": [
        "compression_retriever = ContextualCompressionRetriever(\n",
        "    base_compressor=_filter, base_retriever= similarity_retriever\n",
        ")\n",
        "\n",
        "compressed_docs = compression_retriever.invoke(query)"
      ],
      "metadata": {
        "colab": {
          "base_uri": "https://localhost:8080/",
          "height": 514
        },
        "id": "fZ8-cAr35MJ0",
        "outputId": "5242f069-f92b-4616-9dfe-d5fba4e3256b"
      },
      "execution_count": 43,
      "outputs": [
        {
          "output_type": "error",
          "ename": "ValueError",
          "evalue": "Ambiguous response. Both YES and NO in received: Given the following question and context, return YES if the context is relevant to the question and NO if it isn't.\n\n> Question: what do you mean by langchain?\n> Context:\n>>>\nIntroduction to LangChain and its purpose\n>>>\n> Relevant (YES / NO):\n\n**Answer:** YES.",
          "traceback": [
            "\u001b[0;31m---------------------------------------------------------------------------\u001b[0m",
            "\u001b[0;31mValueError\u001b[0m                                Traceback (most recent call last)",
            "\u001b[0;32m<ipython-input-43-8142f8effa3a>\u001b[0m in \u001b[0;36m<cell line: 5>\u001b[0;34m()\u001b[0m\n\u001b[1;32m      3\u001b[0m )\n\u001b[1;32m      4\u001b[0m \u001b[0;34m\u001b[0m\u001b[0m\n\u001b[0;32m----> 5\u001b[0;31m \u001b[0mcompressed_docs\u001b[0m \u001b[0;34m=\u001b[0m \u001b[0mcompression_retriever\u001b[0m\u001b[0;34m.\u001b[0m\u001b[0minvoke\u001b[0m\u001b[0;34m(\u001b[0m\u001b[0mquery\u001b[0m\u001b[0;34m)\u001b[0m\u001b[0;34m\u001b[0m\u001b[0;34m\u001b[0m\u001b[0m\n\u001b[0m",
            "\u001b[0;32m/usr/local/lib/python3.10/dist-packages/langchain_core/retrievers.py\u001b[0m in \u001b[0;36minvoke\u001b[0;34m(self, input, config, **kwargs)\u001b[0m\n\u001b[1;32m    250\u001b[0m         \u001b[0;32mexcept\u001b[0m \u001b[0mException\u001b[0m \u001b[0;32mas\u001b[0m \u001b[0me\u001b[0m\u001b[0;34m:\u001b[0m\u001b[0;34m\u001b[0m\u001b[0;34m\u001b[0m\u001b[0m\n\u001b[1;32m    251\u001b[0m             \u001b[0mrun_manager\u001b[0m\u001b[0;34m.\u001b[0m\u001b[0mon_retriever_error\u001b[0m\u001b[0;34m(\u001b[0m\u001b[0me\u001b[0m\u001b[0;34m)\u001b[0m\u001b[0;34m\u001b[0m\u001b[0;34m\u001b[0m\u001b[0m\n\u001b[0;32m--> 252\u001b[0;31m             \u001b[0;32mraise\u001b[0m \u001b[0me\u001b[0m\u001b[0;34m\u001b[0m\u001b[0;34m\u001b[0m\u001b[0m\n\u001b[0m\u001b[1;32m    253\u001b[0m         \u001b[0;32melse\u001b[0m\u001b[0;34m:\u001b[0m\u001b[0;34m\u001b[0m\u001b[0;34m\u001b[0m\u001b[0m\n\u001b[1;32m    254\u001b[0m             run_manager.on_retriever_end(\n",
            "\u001b[0;32m/usr/local/lib/python3.10/dist-packages/langchain_core/retrievers.py\u001b[0m in \u001b[0;36minvoke\u001b[0;34m(self, input, config, **kwargs)\u001b[0m\n\u001b[1;32m    243\u001b[0m             \u001b[0m_kwargs\u001b[0m \u001b[0;34m=\u001b[0m \u001b[0mkwargs\u001b[0m \u001b[0;32mif\u001b[0m \u001b[0mself\u001b[0m\u001b[0;34m.\u001b[0m\u001b[0m_expects_other_args\u001b[0m \u001b[0;32melse\u001b[0m \u001b[0;34m{\u001b[0m\u001b[0;34m}\u001b[0m\u001b[0;34m\u001b[0m\u001b[0;34m\u001b[0m\u001b[0m\n\u001b[1;32m    244\u001b[0m             \u001b[0;32mif\u001b[0m \u001b[0mself\u001b[0m\u001b[0;34m.\u001b[0m\u001b[0m_new_arg_supported\u001b[0m\u001b[0;34m:\u001b[0m\u001b[0;34m\u001b[0m\u001b[0;34m\u001b[0m\u001b[0m\n\u001b[0;32m--> 245\u001b[0;31m                 result = self._get_relevant_documents(\n\u001b[0m\u001b[1;32m    246\u001b[0m                     \u001b[0minput\u001b[0m\u001b[0;34m,\u001b[0m \u001b[0mrun_manager\u001b[0m\u001b[0;34m=\u001b[0m\u001b[0mrun_manager\u001b[0m\u001b[0;34m,\u001b[0m \u001b[0;34m**\u001b[0m\u001b[0m_kwargs\u001b[0m\u001b[0;34m\u001b[0m\u001b[0;34m\u001b[0m\u001b[0m\n\u001b[1;32m    247\u001b[0m                 )\n",
            "\u001b[0;32m/usr/local/lib/python3.10/dist-packages/langchain/retrievers/contextual_compression.py\u001b[0m in \u001b[0;36m_get_relevant_documents\u001b[0;34m(self, query, run_manager, **kwargs)\u001b[0m\n\u001b[1;32m     46\u001b[0m         )\n\u001b[1;32m     47\u001b[0m         \u001b[0;32mif\u001b[0m \u001b[0mdocs\u001b[0m\u001b[0;34m:\u001b[0m\u001b[0;34m\u001b[0m\u001b[0;34m\u001b[0m\u001b[0m\n\u001b[0;32m---> 48\u001b[0;31m             compressed_docs = self.base_compressor.compress_documents(\n\u001b[0m\u001b[1;32m     49\u001b[0m                 \u001b[0mdocs\u001b[0m\u001b[0;34m,\u001b[0m \u001b[0mquery\u001b[0m\u001b[0;34m,\u001b[0m \u001b[0mcallbacks\u001b[0m\u001b[0;34m=\u001b[0m\u001b[0mrun_manager\u001b[0m\u001b[0;34m.\u001b[0m\u001b[0mget_child\u001b[0m\u001b[0;34m(\u001b[0m\u001b[0;34m)\u001b[0m\u001b[0;34m\u001b[0m\u001b[0;34m\u001b[0m\u001b[0m\n\u001b[1;32m     50\u001b[0m             )\n",
            "\u001b[0;32m/usr/local/lib/python3.10/dist-packages/langchain/retrievers/document_compressors/chain_filter.py\u001b[0m in \u001b[0;36mcompress_documents\u001b[0;34m(self, documents, query, callbacks)\u001b[0m\n\u001b[1;32m     51\u001b[0m             \u001b[0moutput\u001b[0m \u001b[0;34m=\u001b[0m \u001b[0moutput_dict\u001b[0m\u001b[0;34m[\u001b[0m\u001b[0mself\u001b[0m\u001b[0;34m.\u001b[0m\u001b[0mllm_chain\u001b[0m\u001b[0;34m.\u001b[0m\u001b[0moutput_key\u001b[0m\u001b[0;34m]\u001b[0m\u001b[0;34m\u001b[0m\u001b[0;34m\u001b[0m\u001b[0m\n\u001b[1;32m     52\u001b[0m             \u001b[0;32mif\u001b[0m \u001b[0mself\u001b[0m\u001b[0;34m.\u001b[0m\u001b[0mllm_chain\u001b[0m\u001b[0;34m.\u001b[0m\u001b[0mprompt\u001b[0m\u001b[0;34m.\u001b[0m\u001b[0moutput_parser\u001b[0m \u001b[0;32mis\u001b[0m \u001b[0;32mnot\u001b[0m \u001b[0;32mNone\u001b[0m\u001b[0;34m:\u001b[0m\u001b[0;34m\u001b[0m\u001b[0;34m\u001b[0m\u001b[0m\n\u001b[0;32m---> 53\u001b[0;31m                 \u001b[0minclude_doc\u001b[0m \u001b[0;34m=\u001b[0m \u001b[0mself\u001b[0m\u001b[0;34m.\u001b[0m\u001b[0mllm_chain\u001b[0m\u001b[0;34m.\u001b[0m\u001b[0mprompt\u001b[0m\u001b[0;34m.\u001b[0m\u001b[0moutput_parser\u001b[0m\u001b[0;34m.\u001b[0m\u001b[0mparse\u001b[0m\u001b[0;34m(\u001b[0m\u001b[0moutput\u001b[0m\u001b[0;34m)\u001b[0m\u001b[0;34m\u001b[0m\u001b[0;34m\u001b[0m\u001b[0m\n\u001b[0m\u001b[1;32m     54\u001b[0m             \u001b[0;32mif\u001b[0m \u001b[0minclude_doc\u001b[0m\u001b[0;34m:\u001b[0m\u001b[0;34m\u001b[0m\u001b[0;34m\u001b[0m\u001b[0m\n\u001b[1;32m     55\u001b[0m                 \u001b[0mfiltered_docs\u001b[0m\u001b[0;34m.\u001b[0m\u001b[0mappend\u001b[0m\u001b[0;34m(\u001b[0m\u001b[0mdoc\u001b[0m\u001b[0;34m)\u001b[0m\u001b[0;34m\u001b[0m\u001b[0;34m\u001b[0m\u001b[0m\n",
            "\u001b[0;32m/usr/local/lib/python3.10/dist-packages/langchain/output_parsers/boolean.py\u001b[0m in \u001b[0;36mparse\u001b[0;34m(self, text)\u001b[0m\n\u001b[1;32m     29\u001b[0m         \u001b[0;32mif\u001b[0m \u001b[0mself\u001b[0m\u001b[0;34m.\u001b[0m\u001b[0mtrue_val\u001b[0m\u001b[0;34m.\u001b[0m\u001b[0mupper\u001b[0m\u001b[0;34m(\u001b[0m\u001b[0;34m)\u001b[0m \u001b[0;32min\u001b[0m \u001b[0mtruthy\u001b[0m\u001b[0;34m:\u001b[0m\u001b[0;34m\u001b[0m\u001b[0;34m\u001b[0m\u001b[0m\n\u001b[1;32m     30\u001b[0m             \u001b[0;32mif\u001b[0m \u001b[0mself\u001b[0m\u001b[0;34m.\u001b[0m\u001b[0mfalse_val\u001b[0m\u001b[0;34m.\u001b[0m\u001b[0mupper\u001b[0m\u001b[0;34m(\u001b[0m\u001b[0;34m)\u001b[0m \u001b[0;32min\u001b[0m \u001b[0mtruthy\u001b[0m\u001b[0;34m:\u001b[0m\u001b[0;34m\u001b[0m\u001b[0;34m\u001b[0m\u001b[0m\n\u001b[0;32m---> 31\u001b[0;31m                 raise ValueError(\n\u001b[0m\u001b[1;32m     32\u001b[0m                     \u001b[0;34mf\"Ambiguous response. Both {self.true_val} and {self.false_val} \"\u001b[0m\u001b[0;34m\u001b[0m\u001b[0;34m\u001b[0m\u001b[0m\n\u001b[1;32m     33\u001b[0m                     \u001b[0;34mf\"in received: {text}.\"\u001b[0m\u001b[0;34m\u001b[0m\u001b[0;34m\u001b[0m\u001b[0m\n",
            "\u001b[0;31mValueError\u001b[0m: Ambiguous response. Both YES and NO in received: Given the following question and context, return YES if the context is relevant to the question and NO if it isn't.\n\n> Question: what do you mean by langchain?\n> Context:\n>>>\nIntroduction to LangChain and its purpose\n>>>\n> Relevant (YES / NO):\n\n**Answer:** YES."
          ]
        }
      ]
    },
    {
      "cell_type": "code",
      "source": [],
      "metadata": {
        "id": "2-rfLu8_5MM7"
      },
      "execution_count": null,
      "outputs": []
    },
    {
      "cell_type": "markdown",
      "source": [
        "**Ensemble Retrieval**\n",
        "\n",
        "Retriever that ensembles the multiple retrievers.\n",
        "\n",
        "It uses a rank fusion."
      ],
      "metadata": {
        "id": "4HM6lBsP6zo0"
      }
    },
    {
      "cell_type": "code",
      "source": [
        "from langchain.retrievers import EnsembleRetriever"
      ],
      "metadata": {
        "id": "im6GqITU5MQc"
      },
      "execution_count": 27,
      "outputs": []
    },
    {
      "cell_type": "code",
      "source": [
        "similarity_retriever = chroma_db.as_retriever(search_type = \"similarity\",search_kwargs = {\"k\":3})\n",
        "\n",
        "compression_retriever = ContextualCompressionRetriever(\n",
        "    base_compressor= _filter , base_retriever = similarity_retriever)"
      ],
      "metadata": {
        "id": "XtgcoDnI5MT7"
      },
      "execution_count": 32,
      "outputs": []
    },
    {
      "cell_type": "code",
      "source": [
        "ensemble_retriever = EnsembleRetriever(\n",
        "    retrievers= [compression_retriever, similarity_retriever],\n",
        "    weights = [0.7, 0.3]\n",
        ")"
      ],
      "metadata": {
        "id": "fD8e7I9Z5MXT"
      },
      "execution_count": 34,
      "outputs": []
    },
    {
      "cell_type": "code",
      "source": [
        "query = \"what do you mean by langchain?\"\n",
        "docs = ensemble_retriever.ainvoke(query)"
      ],
      "metadata": {
        "colab": {
          "base_uri": "https://localhost:8080/",
          "height": 495
        },
        "id": "ikjrmPj95Ma4",
        "outputId": "1e2a52af-ed9c-4d47-ca13-c463328082c3"
      },
      "execution_count": 40,
      "outputs": [
        {
          "output_type": "error",
          "ename": "ValueError",
          "evalue": "Ambiguous response. Both YES and NO in received: Given the following question and context, return YES if the context is relevant to the question and NO if it isn't.\n\n> Question: what do you mean by langchain?\n> Context:\n>>>\nIntroduction to LangChain and its purpose\n>>>\n> Relevant (YES / NO):\n\n**Answer:** YES.",
          "traceback": [
            "\u001b[0;31m---------------------------------------------------------------------------\u001b[0m",
            "\u001b[0;31mValueError\u001b[0m                                Traceback (most recent call last)",
            "\u001b[0;32m<ipython-input-40-6069dffcce4c>\u001b[0m in \u001b[0;36m<cell line: 2>\u001b[0;34m()\u001b[0m\n\u001b[1;32m      1\u001b[0m \u001b[0mquery\u001b[0m \u001b[0;34m=\u001b[0m \u001b[0;34m\"what do you mean by langchain?\"\u001b[0m\u001b[0;34m\u001b[0m\u001b[0;34m\u001b[0m\u001b[0m\n\u001b[0;32m----> 2\u001b[0;31m \u001b[0mdocs\u001b[0m \u001b[0;34m=\u001b[0m \u001b[0;32mawait\u001b[0m \u001b[0mensemble_retriever\u001b[0m\u001b[0;34m.\u001b[0m\u001b[0mainvoke\u001b[0m\u001b[0;34m(\u001b[0m\u001b[0mquery\u001b[0m\u001b[0;34m)\u001b[0m\u001b[0;34m\u001b[0m\u001b[0;34m\u001b[0m\u001b[0m\n\u001b[0m",
            "\u001b[0;32m/usr/local/lib/python3.10/dist-packages/langchain/retrievers/ensemble.py\u001b[0m in \u001b[0;36mainvoke\u001b[0;34m(self, input, config, **kwargs)\u001b[0m\n\u001b[1;32m    147\u001b[0m         \u001b[0;32mexcept\u001b[0m \u001b[0mException\u001b[0m \u001b[0;32mas\u001b[0m \u001b[0me\u001b[0m\u001b[0;34m:\u001b[0m\u001b[0;34m\u001b[0m\u001b[0;34m\u001b[0m\u001b[0m\n\u001b[1;32m    148\u001b[0m             \u001b[0;32mawait\u001b[0m \u001b[0mrun_manager\u001b[0m\u001b[0;34m.\u001b[0m\u001b[0mon_retriever_error\u001b[0m\u001b[0;34m(\u001b[0m\u001b[0me\u001b[0m\u001b[0;34m)\u001b[0m\u001b[0;34m\u001b[0m\u001b[0;34m\u001b[0m\u001b[0m\n\u001b[0;32m--> 149\u001b[0;31m             \u001b[0;32mraise\u001b[0m \u001b[0me\u001b[0m\u001b[0;34m\u001b[0m\u001b[0;34m\u001b[0m\u001b[0m\n\u001b[0m\u001b[1;32m    150\u001b[0m         \u001b[0;32melse\u001b[0m\u001b[0;34m:\u001b[0m\u001b[0;34m\u001b[0m\u001b[0;34m\u001b[0m\u001b[0m\n\u001b[1;32m    151\u001b[0m             await run_manager.on_retriever_end(\n",
            "\u001b[0;32m/usr/local/lib/python3.10/dist-packages/langchain/retrievers/ensemble.py\u001b[0m in \u001b[0;36mainvoke\u001b[0;34m(self, input, config, **kwargs)\u001b[0m\n\u001b[1;32m    142\u001b[0m         )\n\u001b[1;32m    143\u001b[0m         \u001b[0;32mtry\u001b[0m\u001b[0;34m:\u001b[0m\u001b[0;34m\u001b[0m\u001b[0;34m\u001b[0m\u001b[0m\n\u001b[0;32m--> 144\u001b[0;31m             result = await self.arank_fusion(\n\u001b[0m\u001b[1;32m    145\u001b[0m                 \u001b[0minput\u001b[0m\u001b[0;34m,\u001b[0m \u001b[0mrun_manager\u001b[0m\u001b[0;34m=\u001b[0m\u001b[0mrun_manager\u001b[0m\u001b[0;34m,\u001b[0m \u001b[0mconfig\u001b[0m\u001b[0;34m=\u001b[0m\u001b[0mconfig\u001b[0m\u001b[0;34m\u001b[0m\u001b[0;34m\u001b[0m\u001b[0m\n\u001b[1;32m    146\u001b[0m             )\n",
            "\u001b[0;32m/usr/local/lib/python3.10/dist-packages/langchain/retrievers/ensemble.py\u001b[0m in \u001b[0;36marank_fusion\u001b[0;34m(self, query, run_manager, config)\u001b[0m\n\u001b[1;32m    257\u001b[0m \u001b[0;34m\u001b[0m\u001b[0m\n\u001b[1;32m    258\u001b[0m         \u001b[0;31m# Get the results of all retrievers.\u001b[0m\u001b[0;34m\u001b[0m\u001b[0;34m\u001b[0m\u001b[0m\n\u001b[0;32m--> 259\u001b[0;31m         retriever_docs = await asyncio.gather(\n\u001b[0m\u001b[1;32m    260\u001b[0m             *[\n\u001b[1;32m    261\u001b[0m                 retriever.ainvoke(\n",
            "\u001b[0;32m/usr/local/lib/python3.10/dist-packages/langchain_core/retrievers.py\u001b[0m in \u001b[0;36mainvoke\u001b[0;34m(self, input, config, **kwargs)\u001b[0m\n\u001b[1;32m    313\u001b[0m         \u001b[0;32mexcept\u001b[0m \u001b[0mException\u001b[0m \u001b[0;32mas\u001b[0m \u001b[0me\u001b[0m\u001b[0;34m:\u001b[0m\u001b[0;34m\u001b[0m\u001b[0;34m\u001b[0m\u001b[0m\n\u001b[1;32m    314\u001b[0m             \u001b[0;32mawait\u001b[0m \u001b[0mrun_manager\u001b[0m\u001b[0;34m.\u001b[0m\u001b[0mon_retriever_error\u001b[0m\u001b[0;34m(\u001b[0m\u001b[0me\u001b[0m\u001b[0;34m)\u001b[0m\u001b[0;34m\u001b[0m\u001b[0;34m\u001b[0m\u001b[0m\n\u001b[0;32m--> 315\u001b[0;31m             \u001b[0;32mraise\u001b[0m \u001b[0me\u001b[0m\u001b[0;34m\u001b[0m\u001b[0;34m\u001b[0m\u001b[0m\n\u001b[0m\u001b[1;32m    316\u001b[0m         \u001b[0;32melse\u001b[0m\u001b[0;34m:\u001b[0m\u001b[0;34m\u001b[0m\u001b[0;34m\u001b[0m\u001b[0m\n\u001b[1;32m    317\u001b[0m             await run_manager.on_retriever_end(\n",
            "\u001b[0;32m/usr/local/lib/python3.10/dist-packages/langchain_core/retrievers.py\u001b[0m in \u001b[0;36mainvoke\u001b[0;34m(self, input, config, **kwargs)\u001b[0m\n\u001b[1;32m    306\u001b[0m             \u001b[0m_kwargs\u001b[0m \u001b[0;34m=\u001b[0m \u001b[0mkwargs\u001b[0m \u001b[0;32mif\u001b[0m \u001b[0mself\u001b[0m\u001b[0;34m.\u001b[0m\u001b[0m_expects_other_args\u001b[0m \u001b[0;32melse\u001b[0m \u001b[0;34m{\u001b[0m\u001b[0;34m}\u001b[0m\u001b[0;34m\u001b[0m\u001b[0;34m\u001b[0m\u001b[0m\n\u001b[1;32m    307\u001b[0m             \u001b[0;32mif\u001b[0m \u001b[0mself\u001b[0m\u001b[0;34m.\u001b[0m\u001b[0m_new_arg_supported\u001b[0m\u001b[0;34m:\u001b[0m\u001b[0;34m\u001b[0m\u001b[0;34m\u001b[0m\u001b[0m\n\u001b[0;32m--> 308\u001b[0;31m                 result = await self._aget_relevant_documents(\n\u001b[0m\u001b[1;32m    309\u001b[0m                     \u001b[0minput\u001b[0m\u001b[0;34m,\u001b[0m \u001b[0mrun_manager\u001b[0m\u001b[0;34m=\u001b[0m\u001b[0mrun_manager\u001b[0m\u001b[0;34m,\u001b[0m \u001b[0;34m**\u001b[0m\u001b[0m_kwargs\u001b[0m\u001b[0;34m\u001b[0m\u001b[0;34m\u001b[0m\u001b[0m\n\u001b[1;32m    310\u001b[0m                 )\n",
            "\u001b[0;32m/usr/local/lib/python3.10/dist-packages/langchain/retrievers/contextual_compression.py\u001b[0m in \u001b[0;36m_aget_relevant_documents\u001b[0;34m(self, query, run_manager, **kwargs)\u001b[0m\n\u001b[1;32m     72\u001b[0m         )\n\u001b[1;32m     73\u001b[0m         \u001b[0;32mif\u001b[0m \u001b[0mdocs\u001b[0m\u001b[0;34m:\u001b[0m\u001b[0;34m\u001b[0m\u001b[0;34m\u001b[0m\u001b[0m\n\u001b[0;32m---> 74\u001b[0;31m             compressed_docs = await self.base_compressor.acompress_documents(\n\u001b[0m\u001b[1;32m     75\u001b[0m                 \u001b[0mdocs\u001b[0m\u001b[0;34m,\u001b[0m \u001b[0mquery\u001b[0m\u001b[0;34m,\u001b[0m \u001b[0mcallbacks\u001b[0m\u001b[0;34m=\u001b[0m\u001b[0mrun_manager\u001b[0m\u001b[0;34m.\u001b[0m\u001b[0mget_child\u001b[0m\u001b[0;34m(\u001b[0m\u001b[0;34m)\u001b[0m\u001b[0;34m\u001b[0m\u001b[0;34m\u001b[0m\u001b[0m\n\u001b[1;32m     76\u001b[0m             )\n",
            "\u001b[0;32m/usr/local/lib/python3.10/dist-packages/langchain_core/documents/compressor.py\u001b[0m in \u001b[0;36macompress_documents\u001b[0;34m(self, documents, query, callbacks)\u001b[0m\n\u001b[1;32m     60\u001b[0m             \u001b[0mThe\u001b[0m \u001b[0mcompressed\u001b[0m \u001b[0mdocuments\u001b[0m\u001b[0;34m.\u001b[0m\u001b[0;34m\u001b[0m\u001b[0;34m\u001b[0m\u001b[0m\n\u001b[1;32m     61\u001b[0m         \"\"\"\n\u001b[0;32m---> 62\u001b[0;31m         return await run_in_executor(\n\u001b[0m\u001b[1;32m     63\u001b[0m             \u001b[0;32mNone\u001b[0m\u001b[0;34m,\u001b[0m \u001b[0mself\u001b[0m\u001b[0;34m.\u001b[0m\u001b[0mcompress_documents\u001b[0m\u001b[0;34m,\u001b[0m \u001b[0mdocuments\u001b[0m\u001b[0;34m,\u001b[0m \u001b[0mquery\u001b[0m\u001b[0;34m,\u001b[0m \u001b[0mcallbacks\u001b[0m\u001b[0;34m\u001b[0m\u001b[0;34m\u001b[0m\u001b[0m\n\u001b[1;32m     64\u001b[0m         )\n",
            "\u001b[0;32m/usr/local/lib/python3.10/dist-packages/langchain_core/runnables/config.py\u001b[0m in \u001b[0;36mrun_in_executor\u001b[0;34m(executor_or_config, func, *args, **kwargs)\u001b[0m\n\u001b[1;32m    588\u001b[0m     \u001b[0;32mif\u001b[0m \u001b[0mexecutor_or_config\u001b[0m \u001b[0;32mis\u001b[0m \u001b[0;32mNone\u001b[0m \u001b[0;32mor\u001b[0m \u001b[0misinstance\u001b[0m\u001b[0;34m(\u001b[0m\u001b[0mexecutor_or_config\u001b[0m\u001b[0;34m,\u001b[0m \u001b[0mdict\u001b[0m\u001b[0;34m)\u001b[0m\u001b[0;34m:\u001b[0m\u001b[0;34m\u001b[0m\u001b[0;34m\u001b[0m\u001b[0m\n\u001b[1;32m    589\u001b[0m         \u001b[0;31m# Use default executor with context copied from current context\u001b[0m\u001b[0;34m\u001b[0m\u001b[0;34m\u001b[0m\u001b[0m\n\u001b[0;32m--> 590\u001b[0;31m         return await asyncio.get_running_loop().run_in_executor(\n\u001b[0m\u001b[1;32m    591\u001b[0m             \u001b[0;32mNone\u001b[0m\u001b[0;34m,\u001b[0m\u001b[0;34m\u001b[0m\u001b[0;34m\u001b[0m\u001b[0m\n\u001b[1;32m    592\u001b[0m             \u001b[0mcast\u001b[0m\u001b[0;34m(\u001b[0m\u001b[0mCallable\u001b[0m\u001b[0;34m[\u001b[0m\u001b[0;34m...\u001b[0m\u001b[0;34m,\u001b[0m \u001b[0mT\u001b[0m\u001b[0;34m]\u001b[0m\u001b[0;34m,\u001b[0m \u001b[0mpartial\u001b[0m\u001b[0;34m(\u001b[0m\u001b[0mcopy_context\u001b[0m\u001b[0;34m(\u001b[0m\u001b[0;34m)\u001b[0m\u001b[0;34m.\u001b[0m\u001b[0mrun\u001b[0m\u001b[0;34m,\u001b[0m \u001b[0mwrapper\u001b[0m\u001b[0;34m)\u001b[0m\u001b[0;34m)\u001b[0m\u001b[0;34m,\u001b[0m\u001b[0;34m\u001b[0m\u001b[0;34m\u001b[0m\u001b[0m\n",
            "\u001b[0;32m/usr/lib/python3.10/concurrent/futures/thread.py\u001b[0m in \u001b[0;36mrun\u001b[0;34m(self)\u001b[0m\n\u001b[1;32m     56\u001b[0m \u001b[0;34m\u001b[0m\u001b[0m\n\u001b[1;32m     57\u001b[0m         \u001b[0;32mtry\u001b[0m\u001b[0;34m:\u001b[0m\u001b[0;34m\u001b[0m\u001b[0;34m\u001b[0m\u001b[0m\n\u001b[0;32m---> 58\u001b[0;31m             \u001b[0mresult\u001b[0m \u001b[0;34m=\u001b[0m \u001b[0mself\u001b[0m\u001b[0;34m.\u001b[0m\u001b[0mfn\u001b[0m\u001b[0;34m(\u001b[0m\u001b[0;34m*\u001b[0m\u001b[0mself\u001b[0m\u001b[0;34m.\u001b[0m\u001b[0margs\u001b[0m\u001b[0;34m,\u001b[0m \u001b[0;34m**\u001b[0m\u001b[0mself\u001b[0m\u001b[0;34m.\u001b[0m\u001b[0mkwargs\u001b[0m\u001b[0;34m)\u001b[0m\u001b[0;34m\u001b[0m\u001b[0;34m\u001b[0m\u001b[0m\n\u001b[0m\u001b[1;32m     59\u001b[0m         \u001b[0;32mexcept\u001b[0m \u001b[0mBaseException\u001b[0m \u001b[0;32mas\u001b[0m \u001b[0mexc\u001b[0m\u001b[0;34m:\u001b[0m\u001b[0;34m\u001b[0m\u001b[0;34m\u001b[0m\u001b[0m\n\u001b[1;32m     60\u001b[0m             \u001b[0mself\u001b[0m\u001b[0;34m.\u001b[0m\u001b[0mfuture\u001b[0m\u001b[0;34m.\u001b[0m\u001b[0mset_exception\u001b[0m\u001b[0;34m(\u001b[0m\u001b[0mexc\u001b[0m\u001b[0;34m)\u001b[0m\u001b[0;34m\u001b[0m\u001b[0;34m\u001b[0m\u001b[0m\n",
            "\u001b[0;32m/usr/local/lib/python3.10/dist-packages/langchain_core/runnables/config.py\u001b[0m in \u001b[0;36mwrapper\u001b[0;34m()\u001b[0m\n\u001b[1;32m    579\u001b[0m     \u001b[0;32mdef\u001b[0m \u001b[0mwrapper\u001b[0m\u001b[0;34m(\u001b[0m\u001b[0;34m)\u001b[0m \u001b[0;34m->\u001b[0m \u001b[0mT\u001b[0m\u001b[0;34m:\u001b[0m\u001b[0;34m\u001b[0m\u001b[0;34m\u001b[0m\u001b[0m\n\u001b[1;32m    580\u001b[0m         \u001b[0;32mtry\u001b[0m\u001b[0;34m:\u001b[0m\u001b[0;34m\u001b[0m\u001b[0;34m\u001b[0m\u001b[0m\n\u001b[0;32m--> 581\u001b[0;31m             \u001b[0;32mreturn\u001b[0m \u001b[0mfunc\u001b[0m\u001b[0;34m(\u001b[0m\u001b[0;34m*\u001b[0m\u001b[0margs\u001b[0m\u001b[0;34m,\u001b[0m \u001b[0;34m**\u001b[0m\u001b[0mkwargs\u001b[0m\u001b[0;34m)\u001b[0m\u001b[0;34m\u001b[0m\u001b[0;34m\u001b[0m\u001b[0m\n\u001b[0m\u001b[1;32m    582\u001b[0m         \u001b[0;32mexcept\u001b[0m \u001b[0mStopIteration\u001b[0m \u001b[0;32mas\u001b[0m \u001b[0mexc\u001b[0m\u001b[0;34m:\u001b[0m\u001b[0;34m\u001b[0m\u001b[0;34m\u001b[0m\u001b[0m\n\u001b[1;32m    583\u001b[0m             \u001b[0;31m# StopIteration can't be set on an asyncio.Future\u001b[0m\u001b[0;34m\u001b[0m\u001b[0;34m\u001b[0m\u001b[0m\n",
            "\u001b[0;32m/usr/local/lib/python3.10/dist-packages/langchain/retrievers/document_compressors/chain_filter.py\u001b[0m in \u001b[0;36mcompress_documents\u001b[0;34m(self, documents, query, callbacks)\u001b[0m\n\u001b[1;32m     51\u001b[0m             \u001b[0moutput\u001b[0m \u001b[0;34m=\u001b[0m \u001b[0moutput_dict\u001b[0m\u001b[0;34m[\u001b[0m\u001b[0mself\u001b[0m\u001b[0;34m.\u001b[0m\u001b[0mllm_chain\u001b[0m\u001b[0;34m.\u001b[0m\u001b[0moutput_key\u001b[0m\u001b[0;34m]\u001b[0m\u001b[0;34m\u001b[0m\u001b[0;34m\u001b[0m\u001b[0m\n\u001b[1;32m     52\u001b[0m             \u001b[0;32mif\u001b[0m \u001b[0mself\u001b[0m\u001b[0;34m.\u001b[0m\u001b[0mllm_chain\u001b[0m\u001b[0;34m.\u001b[0m\u001b[0mprompt\u001b[0m\u001b[0;34m.\u001b[0m\u001b[0moutput_parser\u001b[0m \u001b[0;32mis\u001b[0m \u001b[0;32mnot\u001b[0m \u001b[0;32mNone\u001b[0m\u001b[0;34m:\u001b[0m\u001b[0;34m\u001b[0m\u001b[0;34m\u001b[0m\u001b[0m\n\u001b[0;32m---> 53\u001b[0;31m                 \u001b[0minclude_doc\u001b[0m \u001b[0;34m=\u001b[0m \u001b[0mself\u001b[0m\u001b[0;34m.\u001b[0m\u001b[0mllm_chain\u001b[0m\u001b[0;34m.\u001b[0m\u001b[0mprompt\u001b[0m\u001b[0;34m.\u001b[0m\u001b[0moutput_parser\u001b[0m\u001b[0;34m.\u001b[0m\u001b[0mparse\u001b[0m\u001b[0;34m(\u001b[0m\u001b[0moutput\u001b[0m\u001b[0;34m)\u001b[0m\u001b[0;34m\u001b[0m\u001b[0;34m\u001b[0m\u001b[0m\n\u001b[0m\u001b[1;32m     54\u001b[0m             \u001b[0;32mif\u001b[0m \u001b[0minclude_doc\u001b[0m\u001b[0;34m:\u001b[0m\u001b[0;34m\u001b[0m\u001b[0;34m\u001b[0m\u001b[0m\n\u001b[1;32m     55\u001b[0m                 \u001b[0mfiltered_docs\u001b[0m\u001b[0;34m.\u001b[0m\u001b[0mappend\u001b[0m\u001b[0;34m(\u001b[0m\u001b[0mdoc\u001b[0m\u001b[0;34m)\u001b[0m\u001b[0;34m\u001b[0m\u001b[0;34m\u001b[0m\u001b[0m\n",
            "\u001b[0;32m/usr/local/lib/python3.10/dist-packages/langchain/output_parsers/boolean.py\u001b[0m in \u001b[0;36mparse\u001b[0;34m(self, text)\u001b[0m\n\u001b[1;32m     29\u001b[0m         \u001b[0;32mif\u001b[0m \u001b[0mself\u001b[0m\u001b[0;34m.\u001b[0m\u001b[0mtrue_val\u001b[0m\u001b[0;34m.\u001b[0m\u001b[0mupper\u001b[0m\u001b[0;34m(\u001b[0m\u001b[0;34m)\u001b[0m \u001b[0;32min\u001b[0m \u001b[0mtruthy\u001b[0m\u001b[0;34m:\u001b[0m\u001b[0;34m\u001b[0m\u001b[0;34m\u001b[0m\u001b[0m\n\u001b[1;32m     30\u001b[0m             \u001b[0;32mif\u001b[0m \u001b[0mself\u001b[0m\u001b[0;34m.\u001b[0m\u001b[0mfalse_val\u001b[0m\u001b[0;34m.\u001b[0m\u001b[0mupper\u001b[0m\u001b[0;34m(\u001b[0m\u001b[0;34m)\u001b[0m \u001b[0;32min\u001b[0m \u001b[0mtruthy\u001b[0m\u001b[0;34m:\u001b[0m\u001b[0;34m\u001b[0m\u001b[0;34m\u001b[0m\u001b[0m\n\u001b[0;32m---> 31\u001b[0;31m                 raise ValueError(\n\u001b[0m\u001b[1;32m     32\u001b[0m                     \u001b[0;34mf\"Ambiguous response. Both {self.true_val} and {self.false_val} \"\u001b[0m\u001b[0;34m\u001b[0m\u001b[0;34m\u001b[0m\u001b[0m\n\u001b[1;32m     33\u001b[0m                     \u001b[0;34mf\"in received: {text}.\"\u001b[0m\u001b[0;34m\u001b[0m\u001b[0;34m\u001b[0m\u001b[0m\n",
            "\u001b[0;31mValueError\u001b[0m: Ambiguous response. Both YES and NO in received: Given the following question and context, return YES if the context is relevant to the question and NO if it isn't.\n\n> Question: what do you mean by langchain?\n> Context:\n>>>\nIntroduction to LangChain and its purpose\n>>>\n> Relevant (YES / NO):\n\n**Answer:** YES."
          ]
        }
      ]
    },
    {
      "cell_type": "code",
      "source": [
        "docs"
      ],
      "metadata": {
        "colab": {
          "base_uri": "https://localhost:8080/"
        },
        "id": "vPJkVPJI5MeY",
        "outputId": "ff9355ae-86f4-45fb-b9fe-4a6958ae46c7"
      },
      "execution_count": 37,
      "outputs": [
        {
          "output_type": "execute_result",
          "data": {
            "text/plain": [
              "<coroutine object EnsembleRetriever.ainvoke at 0x7e566ddda960>"
            ]
          },
          "metadata": {},
          "execution_count": 37
        }
      ]
    },
    {
      "cell_type": "code",
      "source": [
        "if docs:\n",
        "    print(vars(docs[0]))"
      ],
      "metadata": {
        "colab": {
          "base_uri": "https://localhost:8080/",
          "height": 164
        },
        "id": "IR2cS2Gm5MlK",
        "outputId": "794e4eea-6b4e-4318-8ea7-d513e9b248c8"
      },
      "execution_count": 39,
      "outputs": [
        {
          "output_type": "error",
          "ename": "TypeError",
          "evalue": "'coroutine' object is not subscriptable",
          "traceback": [
            "\u001b[0;31m---------------------------------------------------------------------------\u001b[0m",
            "\u001b[0;31mTypeError\u001b[0m                                 Traceback (most recent call last)",
            "\u001b[0;32m<ipython-input-39-788687dda182>\u001b[0m in \u001b[0;36m<cell line: 1>\u001b[0;34m()\u001b[0m\n\u001b[1;32m      1\u001b[0m \u001b[0;32mif\u001b[0m \u001b[0mdocs\u001b[0m\u001b[0;34m:\u001b[0m\u001b[0;34m\u001b[0m\u001b[0;34m\u001b[0m\u001b[0m\n\u001b[0;32m----> 2\u001b[0;31m     \u001b[0mprint\u001b[0m\u001b[0;34m(\u001b[0m\u001b[0mvars\u001b[0m\u001b[0;34m(\u001b[0m\u001b[0mdocs\u001b[0m\u001b[0;34m[\u001b[0m\u001b[0;36m0\u001b[0m\u001b[0;34m]\u001b[0m\u001b[0;34m)\u001b[0m\u001b[0;34m)\u001b[0m\u001b[0;34m\u001b[0m\u001b[0;34m\u001b[0m\u001b[0m\n\u001b[0m",
            "\u001b[0;31mTypeError\u001b[0m: 'coroutine' object is not subscriptable"
          ]
        }
      ]
    },
    {
      "cell_type": "code",
      "source": [
        "from langchain.prompts import PromptTemplate\n",
        "\n",
        "# A strict prompt that asks for a single-word answer\n",
        "strict_prompt = PromptTemplate(\n",
        "    input_variables=[\"question\", \"context\"],\n",
        "    template=\"\"\"Given the following question and context, return only the word YES if the context is relevant and NO if it is not.\n",
        "\n",
        "Question: {question}\n",
        "Context: {context}\n",
        "Relevant (YES / NO):\"\"\"\n",
        ")\n"
      ],
      "metadata": {
        "id": "horbcSdvqt_o"
      },
      "execution_count": 41,
      "outputs": []
    },
    {
      "cell_type": "code",
      "source": [
        "from langchain.output_parsers import BooleanOutputParser\n",
        "\n",
        "output_parser = BooleanOutputParser(true_val=\"YES\", false_val=\"NO\")\n",
        "\n",
        "try:\n",
        "    docs = await ensemble_retriever.ainvoke(query)\n",
        "except ValueError as e:\n",
        "    print(f\"Parsing error: {e}\")\n"
      ],
      "metadata": {
        "id": "9NAK-nI3rk0C",
        "outputId": "3bc50005-ade1-4736-b0f0-366d52b91df8",
        "colab": {
          "base_uri": "https://localhost:8080/"
        }
      },
      "execution_count": 42,
      "outputs": [
        {
          "output_type": "stream",
          "name": "stdout",
          "text": [
            "Parsing error: Ambiguous response. Both YES and NO in received: Given the following question and context, return YES if the context is relevant to the question and NO if it isn't.\n",
            "\n",
            "> Question: what do you mean by langchain?\n",
            "> Context:\n",
            ">>>\n",
            "Introduction to LangChain and its purpose\n",
            ">>>\n",
            "> Relevant (YES / NO):\n",
            "\n",
            "**Answer:** YES.\n"
          ]
        }
      ]
    },
    {
      "cell_type": "code",
      "source": [],
      "metadata": {
        "id": "maWSnZhCr-jF"
      },
      "execution_count": null,
      "outputs": []
    },
    {
      "cell_type": "code",
      "source": [],
      "metadata": {
        "id": "w_c6XKS1r-sJ"
      },
      "execution_count": null,
      "outputs": []
    }
  ]
}