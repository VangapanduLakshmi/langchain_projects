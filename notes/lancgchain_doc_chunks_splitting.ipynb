{
  "cells": [
    {
      "cell_type": "code",
      "execution_count": 1,
      "metadata": {
        "colab": {
          "base_uri": "https://localhost:8080/"
        },
        "id": "9LEnVrNLX_3i",
        "outputId": "b5f2f689-46b9-4aea-c0ae-daf47362319a"
      },
      "outputs": [
        {
          "output_type": "stream",
          "name": "stdout",
          "text": [
            "Collecting langchain==0.2.0\n",
            "  Downloading langchain-0.2.0-py3-none-any.whl.metadata (13 kB)\n",
            "Requirement already satisfied: PyYAML>=5.3 in /usr/local/lib/python3.10/dist-packages (from langchain==0.2.0) (6.0.2)\n",
            "Requirement already satisfied: SQLAlchemy<3,>=1.4 in /usr/local/lib/python3.10/dist-packages (from langchain==0.2.0) (2.0.36)\n",
            "Requirement already satisfied: aiohttp<4.0.0,>=3.8.3 in /usr/local/lib/python3.10/dist-packages (from langchain==0.2.0) (3.11.10)\n",
            "Requirement already satisfied: async-timeout<5.0.0,>=4.0.0 in /usr/local/lib/python3.10/dist-packages (from langchain==0.2.0) (4.0.3)\n",
            "Collecting dataclasses-json<0.7,>=0.5.7 (from langchain==0.2.0)\n",
            "  Downloading dataclasses_json-0.6.7-py3-none-any.whl.metadata (25 kB)\n",
            "Collecting langchain-core<0.3.0,>=0.2.0 (from langchain==0.2.0)\n",
            "  Downloading langchain_core-0.2.43-py3-none-any.whl.metadata (6.2 kB)\n",
            "Collecting langchain-text-splitters<0.3.0,>=0.2.0 (from langchain==0.2.0)\n",
            "  Downloading langchain_text_splitters-0.2.4-py3-none-any.whl.metadata (2.3 kB)\n",
            "Collecting langsmith<0.2.0,>=0.1.17 (from langchain==0.2.0)\n",
            "  Downloading langsmith-0.1.147-py3-none-any.whl.metadata (14 kB)\n",
            "Requirement already satisfied: numpy<2,>=1 in /usr/local/lib/python3.10/dist-packages (from langchain==0.2.0) (1.26.4)\n",
            "Requirement already satisfied: pydantic<3,>=1 in /usr/local/lib/python3.10/dist-packages (from langchain==0.2.0) (2.10.3)\n",
            "Requirement already satisfied: requests<3,>=2 in /usr/local/lib/python3.10/dist-packages (from langchain==0.2.0) (2.32.3)\n",
            "Collecting tenacity<9.0.0,>=8.1.0 (from langchain==0.2.0)\n",
            "  Downloading tenacity-8.5.0-py3-none-any.whl.metadata (1.2 kB)\n",
            "Requirement already satisfied: aiohappyeyeballs>=2.3.0 in /usr/local/lib/python3.10/dist-packages (from aiohttp<4.0.0,>=3.8.3->langchain==0.2.0) (2.4.4)\n",
            "Requirement already satisfied: aiosignal>=1.1.2 in /usr/local/lib/python3.10/dist-packages (from aiohttp<4.0.0,>=3.8.3->langchain==0.2.0) (1.3.2)\n",
            "Requirement already satisfied: attrs>=17.3.0 in /usr/local/lib/python3.10/dist-packages (from aiohttp<4.0.0,>=3.8.3->langchain==0.2.0) (24.3.0)\n",
            "Requirement already satisfied: frozenlist>=1.1.1 in /usr/local/lib/python3.10/dist-packages (from aiohttp<4.0.0,>=3.8.3->langchain==0.2.0) (1.5.0)\n",
            "Requirement already satisfied: multidict<7.0,>=4.5 in /usr/local/lib/python3.10/dist-packages (from aiohttp<4.0.0,>=3.8.3->langchain==0.2.0) (6.1.0)\n",
            "Requirement already satisfied: propcache>=0.2.0 in /usr/local/lib/python3.10/dist-packages (from aiohttp<4.0.0,>=3.8.3->langchain==0.2.0) (0.2.1)\n",
            "Requirement already satisfied: yarl<2.0,>=1.17.0 in /usr/local/lib/python3.10/dist-packages (from aiohttp<4.0.0,>=3.8.3->langchain==0.2.0) (1.18.3)\n",
            "Collecting marshmallow<4.0.0,>=3.18.0 (from dataclasses-json<0.7,>=0.5.7->langchain==0.2.0)\n",
            "  Downloading marshmallow-3.23.2-py3-none-any.whl.metadata (7.1 kB)\n",
            "Collecting typing-inspect<1,>=0.4.0 (from dataclasses-json<0.7,>=0.5.7->langchain==0.2.0)\n",
            "  Downloading typing_inspect-0.9.0-py3-none-any.whl.metadata (1.5 kB)\n",
            "Requirement already satisfied: jsonpatch<2.0,>=1.33 in /usr/local/lib/python3.10/dist-packages (from langchain-core<0.3.0,>=0.2.0->langchain==0.2.0) (1.33)\n",
            "Requirement already satisfied: packaging<25,>=23.2 in /usr/local/lib/python3.10/dist-packages (from langchain-core<0.3.0,>=0.2.0->langchain==0.2.0) (24.2)\n",
            "Requirement already satisfied: typing-extensions>=4.7 in /usr/local/lib/python3.10/dist-packages (from langchain-core<0.3.0,>=0.2.0->langchain==0.2.0) (4.12.2)\n",
            "Requirement already satisfied: httpx<1,>=0.23.0 in /usr/local/lib/python3.10/dist-packages (from langsmith<0.2.0,>=0.1.17->langchain==0.2.0) (0.28.1)\n",
            "Requirement already satisfied: orjson<4.0.0,>=3.9.14 in /usr/local/lib/python3.10/dist-packages (from langsmith<0.2.0,>=0.1.17->langchain==0.2.0) (3.10.12)\n",
            "Requirement already satisfied: requests-toolbelt<2.0.0,>=1.0.0 in /usr/local/lib/python3.10/dist-packages (from langsmith<0.2.0,>=0.1.17->langchain==0.2.0) (1.0.0)\n",
            "Requirement already satisfied: annotated-types>=0.6.0 in /usr/local/lib/python3.10/dist-packages (from pydantic<3,>=1->langchain==0.2.0) (0.7.0)\n",
            "Requirement already satisfied: pydantic-core==2.27.1 in /usr/local/lib/python3.10/dist-packages (from pydantic<3,>=1->langchain==0.2.0) (2.27.1)\n",
            "Requirement already satisfied: charset-normalizer<4,>=2 in /usr/local/lib/python3.10/dist-packages (from requests<3,>=2->langchain==0.2.0) (3.4.0)\n",
            "Requirement already satisfied: idna<4,>=2.5 in /usr/local/lib/python3.10/dist-packages (from requests<3,>=2->langchain==0.2.0) (3.10)\n",
            "Requirement already satisfied: urllib3<3,>=1.21.1 in /usr/local/lib/python3.10/dist-packages (from requests<3,>=2->langchain==0.2.0) (2.2.3)\n",
            "Requirement already satisfied: certifi>=2017.4.17 in /usr/local/lib/python3.10/dist-packages (from requests<3,>=2->langchain==0.2.0) (2024.12.14)\n",
            "Requirement already satisfied: greenlet!=0.4.17 in /usr/local/lib/python3.10/dist-packages (from SQLAlchemy<3,>=1.4->langchain==0.2.0) (3.1.1)\n",
            "Requirement already satisfied: anyio in /usr/local/lib/python3.10/dist-packages (from httpx<1,>=0.23.0->langsmith<0.2.0,>=0.1.17->langchain==0.2.0) (3.7.1)\n",
            "Requirement already satisfied: httpcore==1.* in /usr/local/lib/python3.10/dist-packages (from httpx<1,>=0.23.0->langsmith<0.2.0,>=0.1.17->langchain==0.2.0) (1.0.7)\n",
            "Requirement already satisfied: h11<0.15,>=0.13 in /usr/local/lib/python3.10/dist-packages (from httpcore==1.*->httpx<1,>=0.23.0->langsmith<0.2.0,>=0.1.17->langchain==0.2.0) (0.14.0)\n",
            "Requirement already satisfied: jsonpointer>=1.9 in /usr/local/lib/python3.10/dist-packages (from jsonpatch<2.0,>=1.33->langchain-core<0.3.0,>=0.2.0->langchain==0.2.0) (3.0.0)\n",
            "Collecting mypy-extensions>=0.3.0 (from typing-inspect<1,>=0.4.0->dataclasses-json<0.7,>=0.5.7->langchain==0.2.0)\n",
            "  Downloading mypy_extensions-1.0.0-py3-none-any.whl.metadata (1.1 kB)\n",
            "Requirement already satisfied: sniffio>=1.1 in /usr/local/lib/python3.10/dist-packages (from anyio->httpx<1,>=0.23.0->langsmith<0.2.0,>=0.1.17->langchain==0.2.0) (1.3.1)\n",
            "Requirement already satisfied: exceptiongroup in /usr/local/lib/python3.10/dist-packages (from anyio->httpx<1,>=0.23.0->langsmith<0.2.0,>=0.1.17->langchain==0.2.0) (1.2.2)\n",
            "Downloading langchain-0.2.0-py3-none-any.whl (973 kB)\n",
            "\u001b[2K   \u001b[90m━━━━━━━━━━━━━━━━━━━━━━━━━━━━━━━━━━━━━━━━\u001b[0m \u001b[32m973.7/973.7 kB\u001b[0m \u001b[31m33.2 MB/s\u001b[0m eta \u001b[36m0:00:00\u001b[0m\n",
            "\u001b[?25hDownloading dataclasses_json-0.6.7-py3-none-any.whl (28 kB)\n",
            "Downloading langchain_core-0.2.43-py3-none-any.whl (397 kB)\n",
            "\u001b[2K   \u001b[90m━━━━━━━━━━━━━━━━━━━━━━━━━━━━━━━━━━━━━━━━\u001b[0m \u001b[32m397.1/397.1 kB\u001b[0m \u001b[31m26.8 MB/s\u001b[0m eta \u001b[36m0:00:00\u001b[0m\n",
            "\u001b[?25hDownloading langchain_text_splitters-0.2.4-py3-none-any.whl (25 kB)\n",
            "Downloading langsmith-0.1.147-py3-none-any.whl (311 kB)\n",
            "\u001b[2K   \u001b[90m━━━━━━━━━━━━━━━━━━━━━━━━━━━━━━━━━━━━━━━━\u001b[0m \u001b[32m311.8/311.8 kB\u001b[0m \u001b[31m22.0 MB/s\u001b[0m eta \u001b[36m0:00:00\u001b[0m\n",
            "\u001b[?25hDownloading tenacity-8.5.0-py3-none-any.whl (28 kB)\n",
            "Downloading marshmallow-3.23.2-py3-none-any.whl (49 kB)\n",
            "\u001b[2K   \u001b[90m━━━━━━━━━━━━━━━━━━━━━━━━━━━━━━━━━━━━━━━━\u001b[0m \u001b[32m49.3/49.3 kB\u001b[0m \u001b[31m3.2 MB/s\u001b[0m eta \u001b[36m0:00:00\u001b[0m\n",
            "\u001b[?25hDownloading typing_inspect-0.9.0-py3-none-any.whl (8.8 kB)\n",
            "Downloading mypy_extensions-1.0.0-py3-none-any.whl (4.7 kB)\n",
            "Installing collected packages: tenacity, mypy-extensions, marshmallow, typing-inspect, langsmith, dataclasses-json, langchain-core, langchain-text-splitters, langchain\n",
            "  Attempting uninstall: tenacity\n",
            "    Found existing installation: tenacity 9.0.0\n",
            "    Uninstalling tenacity-9.0.0:\n",
            "      Successfully uninstalled tenacity-9.0.0\n",
            "  Attempting uninstall: langsmith\n",
            "    Found existing installation: langsmith 0.2.3\n",
            "    Uninstalling langsmith-0.2.3:\n",
            "      Successfully uninstalled langsmith-0.2.3\n",
            "  Attempting uninstall: langchain-core\n",
            "    Found existing installation: langchain-core 0.3.25\n",
            "    Uninstalling langchain-core-0.3.25:\n",
            "      Successfully uninstalled langchain-core-0.3.25\n",
            "  Attempting uninstall: langchain-text-splitters\n",
            "    Found existing installation: langchain-text-splitters 0.3.3\n",
            "    Uninstalling langchain-text-splitters-0.3.3:\n",
            "      Successfully uninstalled langchain-text-splitters-0.3.3\n",
            "  Attempting uninstall: langchain\n",
            "    Found existing installation: langchain 0.3.12\n",
            "    Uninstalling langchain-0.3.12:\n",
            "      Successfully uninstalled langchain-0.3.12\n",
            "Successfully installed dataclasses-json-0.6.7 langchain-0.2.0 langchain-core-0.2.43 langchain-text-splitters-0.2.4 langsmith-0.1.147 marshmallow-3.23.2 mypy-extensions-1.0.0 tenacity-8.5.0 typing-inspect-0.9.0\n",
            "Collecting langchain-community==0.2.0\n",
            "  Downloading langchain_community-0.2.0-py3-none-any.whl.metadata (8.8 kB)\n",
            "Requirement already satisfied: PyYAML>=5.3 in /usr/local/lib/python3.10/dist-packages (from langchain-community==0.2.0) (6.0.2)\n",
            "Requirement already satisfied: SQLAlchemy<3,>=1.4 in /usr/local/lib/python3.10/dist-packages (from langchain-community==0.2.0) (2.0.36)\n",
            "Requirement already satisfied: aiohttp<4.0.0,>=3.8.3 in /usr/local/lib/python3.10/dist-packages (from langchain-community==0.2.0) (3.11.10)\n",
            "Requirement already satisfied: dataclasses-json<0.7,>=0.5.7 in /usr/local/lib/python3.10/dist-packages (from langchain-community==0.2.0) (0.6.7)\n",
            "Requirement already satisfied: langchain<0.3.0,>=0.2.0 in /usr/local/lib/python3.10/dist-packages (from langchain-community==0.2.0) (0.2.0)\n",
            "Requirement already satisfied: langchain-core<0.3.0,>=0.2.0 in /usr/local/lib/python3.10/dist-packages (from langchain-community==0.2.0) (0.2.43)\n",
            "Requirement already satisfied: langsmith<0.2.0,>=0.1.0 in /usr/local/lib/python3.10/dist-packages (from langchain-community==0.2.0) (0.1.147)\n",
            "Requirement already satisfied: numpy<2,>=1 in /usr/local/lib/python3.10/dist-packages (from langchain-community==0.2.0) (1.26.4)\n",
            "Requirement already satisfied: requests<3,>=2 in /usr/local/lib/python3.10/dist-packages (from langchain-community==0.2.0) (2.32.3)\n",
            "Requirement already satisfied: tenacity<9.0.0,>=8.1.0 in /usr/local/lib/python3.10/dist-packages (from langchain-community==0.2.0) (8.5.0)\n",
            "Requirement already satisfied: aiohappyeyeballs>=2.3.0 in /usr/local/lib/python3.10/dist-packages (from aiohttp<4.0.0,>=3.8.3->langchain-community==0.2.0) (2.4.4)\n",
            "Requirement already satisfied: aiosignal>=1.1.2 in /usr/local/lib/python3.10/dist-packages (from aiohttp<4.0.0,>=3.8.3->langchain-community==0.2.0) (1.3.2)\n",
            "Requirement already satisfied: async-timeout<6.0,>=4.0 in /usr/local/lib/python3.10/dist-packages (from aiohttp<4.0.0,>=3.8.3->langchain-community==0.2.0) (4.0.3)\n",
            "Requirement already satisfied: attrs>=17.3.0 in /usr/local/lib/python3.10/dist-packages (from aiohttp<4.0.0,>=3.8.3->langchain-community==0.2.0) (24.3.0)\n",
            "Requirement already satisfied: frozenlist>=1.1.1 in /usr/local/lib/python3.10/dist-packages (from aiohttp<4.0.0,>=3.8.3->langchain-community==0.2.0) (1.5.0)\n",
            "Requirement already satisfied: multidict<7.0,>=4.5 in /usr/local/lib/python3.10/dist-packages (from aiohttp<4.0.0,>=3.8.3->langchain-community==0.2.0) (6.1.0)\n",
            "Requirement already satisfied: propcache>=0.2.0 in /usr/local/lib/python3.10/dist-packages (from aiohttp<4.0.0,>=3.8.3->langchain-community==0.2.0) (0.2.1)\n",
            "Requirement already satisfied: yarl<2.0,>=1.17.0 in /usr/local/lib/python3.10/dist-packages (from aiohttp<4.0.0,>=3.8.3->langchain-community==0.2.0) (1.18.3)\n",
            "Requirement already satisfied: marshmallow<4.0.0,>=3.18.0 in /usr/local/lib/python3.10/dist-packages (from dataclasses-json<0.7,>=0.5.7->langchain-community==0.2.0) (3.23.2)\n",
            "Requirement already satisfied: typing-inspect<1,>=0.4.0 in /usr/local/lib/python3.10/dist-packages (from dataclasses-json<0.7,>=0.5.7->langchain-community==0.2.0) (0.9.0)\n",
            "Requirement already satisfied: langchain-text-splitters<0.3.0,>=0.2.0 in /usr/local/lib/python3.10/dist-packages (from langchain<0.3.0,>=0.2.0->langchain-community==0.2.0) (0.2.4)\n",
            "Requirement already satisfied: pydantic<3,>=1 in /usr/local/lib/python3.10/dist-packages (from langchain<0.3.0,>=0.2.0->langchain-community==0.2.0) (2.10.3)\n",
            "Requirement already satisfied: jsonpatch<2.0,>=1.33 in /usr/local/lib/python3.10/dist-packages (from langchain-core<0.3.0,>=0.2.0->langchain-community==0.2.0) (1.33)\n",
            "Requirement already satisfied: packaging<25,>=23.2 in /usr/local/lib/python3.10/dist-packages (from langchain-core<0.3.0,>=0.2.0->langchain-community==0.2.0) (24.2)\n",
            "Requirement already satisfied: typing-extensions>=4.7 in /usr/local/lib/python3.10/dist-packages (from langchain-core<0.3.0,>=0.2.0->langchain-community==0.2.0) (4.12.2)\n",
            "Requirement already satisfied: httpx<1,>=0.23.0 in /usr/local/lib/python3.10/dist-packages (from langsmith<0.2.0,>=0.1.0->langchain-community==0.2.0) (0.28.1)\n",
            "Requirement already satisfied: orjson<4.0.0,>=3.9.14 in /usr/local/lib/python3.10/dist-packages (from langsmith<0.2.0,>=0.1.0->langchain-community==0.2.0) (3.10.12)\n",
            "Requirement already satisfied: requests-toolbelt<2.0.0,>=1.0.0 in /usr/local/lib/python3.10/dist-packages (from langsmith<0.2.0,>=0.1.0->langchain-community==0.2.0) (1.0.0)\n",
            "Requirement already satisfied: charset-normalizer<4,>=2 in /usr/local/lib/python3.10/dist-packages (from requests<3,>=2->langchain-community==0.2.0) (3.4.0)\n",
            "Requirement already satisfied: idna<4,>=2.5 in /usr/local/lib/python3.10/dist-packages (from requests<3,>=2->langchain-community==0.2.0) (3.10)\n",
            "Requirement already satisfied: urllib3<3,>=1.21.1 in /usr/local/lib/python3.10/dist-packages (from requests<3,>=2->langchain-community==0.2.0) (2.2.3)\n",
            "Requirement already satisfied: certifi>=2017.4.17 in /usr/local/lib/python3.10/dist-packages (from requests<3,>=2->langchain-community==0.2.0) (2024.12.14)\n",
            "Requirement already satisfied: greenlet!=0.4.17 in /usr/local/lib/python3.10/dist-packages (from SQLAlchemy<3,>=1.4->langchain-community==0.2.0) (3.1.1)\n",
            "Requirement already satisfied: anyio in /usr/local/lib/python3.10/dist-packages (from httpx<1,>=0.23.0->langsmith<0.2.0,>=0.1.0->langchain-community==0.2.0) (3.7.1)\n",
            "Requirement already satisfied: httpcore==1.* in /usr/local/lib/python3.10/dist-packages (from httpx<1,>=0.23.0->langsmith<0.2.0,>=0.1.0->langchain-community==0.2.0) (1.0.7)\n",
            "Requirement already satisfied: h11<0.15,>=0.13 in /usr/local/lib/python3.10/dist-packages (from httpcore==1.*->httpx<1,>=0.23.0->langsmith<0.2.0,>=0.1.0->langchain-community==0.2.0) (0.14.0)\n",
            "Requirement already satisfied: jsonpointer>=1.9 in /usr/local/lib/python3.10/dist-packages (from jsonpatch<2.0,>=1.33->langchain-core<0.3.0,>=0.2.0->langchain-community==0.2.0) (3.0.0)\n",
            "Requirement already satisfied: annotated-types>=0.6.0 in /usr/local/lib/python3.10/dist-packages (from pydantic<3,>=1->langchain<0.3.0,>=0.2.0->langchain-community==0.2.0) (0.7.0)\n",
            "Requirement already satisfied: pydantic-core==2.27.1 in /usr/local/lib/python3.10/dist-packages (from pydantic<3,>=1->langchain<0.3.0,>=0.2.0->langchain-community==0.2.0) (2.27.1)\n",
            "Requirement already satisfied: mypy-extensions>=0.3.0 in /usr/local/lib/python3.10/dist-packages (from typing-inspect<1,>=0.4.0->dataclasses-json<0.7,>=0.5.7->langchain-community==0.2.0) (1.0.0)\n",
            "Requirement already satisfied: sniffio>=1.1 in /usr/local/lib/python3.10/dist-packages (from anyio->httpx<1,>=0.23.0->langsmith<0.2.0,>=0.1.0->langchain-community==0.2.0) (1.3.1)\n",
            "Requirement already satisfied: exceptiongroup in /usr/local/lib/python3.10/dist-packages (from anyio->httpx<1,>=0.23.0->langsmith<0.2.0,>=0.1.0->langchain-community==0.2.0) (1.2.2)\n",
            "Downloading langchain_community-0.2.0-py3-none-any.whl (2.1 MB)\n",
            "\u001b[2K   \u001b[90m━━━━━━━━━━━━━━━━━━━━━━━━━━━━━━━━━━━━━━━━\u001b[0m \u001b[32m2.1/2.1 MB\u001b[0m \u001b[31m57.8 MB/s\u001b[0m eta \u001b[36m0:00:00\u001b[0m\n",
            "\u001b[?25hInstalling collected packages: langchain-community\n",
            "Successfully installed langchain-community-0.2.0\n"
          ]
        }
      ],
      "source": [
        "!pip install langchain==0.2.0\n",
        "!pip install langchain-community==0.2.0"
      ]
    },
    {
      "cell_type": "code",
      "execution_count": 1,
      "metadata": {
        "colab": {
          "base_uri": "https://localhost:8080/"
        },
        "id": "9bh91aHiYNaz",
        "outputId": "d3e9c8ac-9630-4d30-d33f-e5e615b3936f"
      },
      "outputs": [
        {
          "output_type": "stream",
          "name": "stdout",
          "text": [
            "Requirement already satisfied: unstructured==0.14.0 in /usr/local/lib/python3.10/dist-packages (from unstructured[all-docs]==0.14.0) (0.14.0)\n",
            "Requirement already satisfied: chardet in /usr/local/lib/python3.10/dist-packages (from unstructured==0.14.0->unstructured[all-docs]==0.14.0) (5.2.0)\n",
            "Requirement already satisfied: filetype in /usr/local/lib/python3.10/dist-packages (from unstructured==0.14.0->unstructured[all-docs]==0.14.0) (1.2.0)\n",
            "Requirement already satisfied: python-magic in /usr/local/lib/python3.10/dist-packages (from unstructured==0.14.0->unstructured[all-docs]==0.14.0) (0.4.27)\n",
            "Requirement already satisfied: lxml in /usr/local/lib/python3.10/dist-packages (from unstructured==0.14.0->unstructured[all-docs]==0.14.0) (5.3.0)\n",
            "Requirement already satisfied: nltk in /usr/local/lib/python3.10/dist-packages (from unstructured==0.14.0->unstructured[all-docs]==0.14.0) (3.9.1)\n",
            "Requirement already satisfied: tabulate in /usr/local/lib/python3.10/dist-packages (from unstructured==0.14.0->unstructured[all-docs]==0.14.0) (0.9.0)\n",
            "Requirement already satisfied: requests in /usr/local/lib/python3.10/dist-packages (from unstructured==0.14.0->unstructured[all-docs]==0.14.0) (2.32.3)\n",
            "Requirement already satisfied: beautifulsoup4 in /usr/local/lib/python3.10/dist-packages (from unstructured==0.14.0->unstructured[all-docs]==0.14.0) (4.12.3)\n",
            "Requirement already satisfied: emoji in /usr/local/lib/python3.10/dist-packages (from unstructured==0.14.0->unstructured[all-docs]==0.14.0) (2.14.0)\n",
            "Requirement already satisfied: dataclasses-json in /usr/local/lib/python3.10/dist-packages (from unstructured==0.14.0->unstructured[all-docs]==0.14.0) (0.6.7)\n",
            "Requirement already satisfied: python-iso639 in /usr/local/lib/python3.10/dist-packages (from unstructured==0.14.0->unstructured[all-docs]==0.14.0) (2024.10.22)\n",
            "Requirement already satisfied: langdetect in /usr/local/lib/python3.10/dist-packages (from unstructured==0.14.0->unstructured[all-docs]==0.14.0) (1.0.9)\n",
            "Requirement already satisfied: numpy in /usr/local/lib/python3.10/dist-packages (from unstructured==0.14.0->unstructured[all-docs]==0.14.0) (1.26.4)\n",
            "Requirement already satisfied: rapidfuzz in /usr/local/lib/python3.10/dist-packages (from unstructured==0.14.0->unstructured[all-docs]==0.14.0) (3.11.0)\n",
            "Requirement already satisfied: backoff in /usr/local/lib/python3.10/dist-packages (from unstructured==0.14.0->unstructured[all-docs]==0.14.0) (2.2.1)\n",
            "Requirement already satisfied: typing-extensions in /usr/local/lib/python3.10/dist-packages (from unstructured==0.14.0->unstructured[all-docs]==0.14.0) (4.12.2)\n",
            "Requirement already satisfied: unstructured-client in /usr/local/lib/python3.10/dist-packages (from unstructured==0.14.0->unstructured[all-docs]==0.14.0) (0.28.1)\n",
            "Requirement already satisfied: wrapt in /usr/local/lib/python3.10/dist-packages (from unstructured==0.14.0->unstructured[all-docs]==0.14.0) (1.17.0)\n",
            "Requirement already satisfied: pikepdf in /usr/local/lib/python3.10/dist-packages (from unstructured[all-docs]==0.14.0) (9.5.0)\n",
            "Requirement already satisfied: pdfminer.six in /usr/local/lib/python3.10/dist-packages (from unstructured[all-docs]==0.14.0) (20231228)\n",
            "Requirement already satisfied: python-pptx<=0.6.23 in /usr/local/lib/python3.10/dist-packages (from unstructured[all-docs]==0.14.0) (0.6.23)\n",
            "Requirement already satisfied: networkx in /usr/local/lib/python3.10/dist-packages (from unstructured[all-docs]==0.14.0) (3.4.2)\n",
            "Requirement already satisfied: pdf2image in /usr/local/lib/python3.10/dist-packages (from unstructured[all-docs]==0.14.0) (1.17.0)\n",
            "Requirement already satisfied: pypandoc in /usr/local/lib/python3.10/dist-packages (from unstructured[all-docs]==0.14.0) (1.14)\n",
            "Requirement already satisfied: onnx in /usr/local/lib/python3.10/dist-packages (from unstructured[all-docs]==0.14.0) (1.17.0)\n",
            "Requirement already satisfied: unstructured.pytesseract>=0.3.12 in /usr/local/lib/python3.10/dist-packages (from unstructured[all-docs]==0.14.0) (0.3.13)\n",
            "Requirement already satisfied: google-cloud-vision in /usr/local/lib/python3.10/dist-packages (from unstructured[all-docs]==0.14.0) (3.9.0)\n",
            "Requirement already satisfied: python-docx in /usr/local/lib/python3.10/dist-packages (from unstructured[all-docs]==0.14.0) (1.1.2)\n",
            "Requirement already satisfied: pypdf in /usr/local/lib/python3.10/dist-packages (from unstructured[all-docs]==0.14.0) (5.1.0)\n",
            "Requirement already satisfied: pandas in /usr/local/lib/python3.10/dist-packages (from unstructured[all-docs]==0.14.0) (2.2.2)\n",
            "Requirement already satisfied: pillow-heif in /usr/local/lib/python3.10/dist-packages (from unstructured[all-docs]==0.14.0) (0.21.0)\n",
            "Requirement already satisfied: markdown in /usr/local/lib/python3.10/dist-packages (from unstructured[all-docs]==0.14.0) (3.7)\n",
            "Requirement already satisfied: msg-parser in /usr/local/lib/python3.10/dist-packages (from unstructured[all-docs]==0.14.0) (1.2.0)\n",
            "Requirement already satisfied: unstructured-inference==0.7.31 in /usr/local/lib/python3.10/dist-packages (from unstructured[all-docs]==0.14.0) (0.7.31)\n",
            "Requirement already satisfied: openpyxl in /usr/local/lib/python3.10/dist-packages (from unstructured[all-docs]==0.14.0) (3.1.5)\n",
            "Requirement already satisfied: xlrd in /usr/local/lib/python3.10/dist-packages (from unstructured[all-docs]==0.14.0) (2.0.1)\n",
            "Requirement already satisfied: layoutparser[layoutmodels,tesseract] in /usr/local/lib/python3.10/dist-packages (from unstructured-inference==0.7.31->unstructured[all-docs]==0.14.0) (0.3.4)\n",
            "Requirement already satisfied: python-multipart in /usr/local/lib/python3.10/dist-packages (from unstructured-inference==0.7.31->unstructured[all-docs]==0.14.0) (0.0.20)\n",
            "Requirement already satisfied: huggingface-hub in /usr/local/lib/python3.10/dist-packages (from unstructured-inference==0.7.31->unstructured[all-docs]==0.14.0) (0.27.0)\n",
            "Requirement already satisfied: opencv-python!=4.7.0.68 in /usr/local/lib/python3.10/dist-packages (from unstructured-inference==0.7.31->unstructured[all-docs]==0.14.0) (4.10.0.84)\n",
            "Requirement already satisfied: onnxruntime>=1.17.0 in /usr/local/lib/python3.10/dist-packages (from unstructured-inference==0.7.31->unstructured[all-docs]==0.14.0) (1.20.1)\n",
            "Requirement already satisfied: transformers>=4.25.1 in /usr/local/lib/python3.10/dist-packages (from unstructured-inference==0.7.31->unstructured[all-docs]==0.14.0) (4.47.1)\n",
            "Requirement already satisfied: Pillow>=3.3.2 in /usr/local/lib/python3.10/dist-packages (from python-pptx<=0.6.23->unstructured[all-docs]==0.14.0) (11.0.0)\n",
            "Requirement already satisfied: XlsxWriter>=0.5.7 in /usr/local/lib/python3.10/dist-packages (from python-pptx<=0.6.23->unstructured[all-docs]==0.14.0) (3.2.0)\n",
            "Requirement already satisfied: packaging>=21.3 in /usr/local/lib/python3.10/dist-packages (from unstructured.pytesseract>=0.3.12->unstructured[all-docs]==0.14.0) (24.2)\n",
            "Requirement already satisfied: soupsieve>1.2 in /usr/local/lib/python3.10/dist-packages (from beautifulsoup4->unstructured==0.14.0->unstructured[all-docs]==0.14.0) (2.6)\n",
            "Requirement already satisfied: marshmallow<4.0.0,>=3.18.0 in /usr/local/lib/python3.10/dist-packages (from dataclasses-json->unstructured==0.14.0->unstructured[all-docs]==0.14.0) (3.23.2)\n",
            "Requirement already satisfied: typing-inspect<1,>=0.4.0 in /usr/local/lib/python3.10/dist-packages (from dataclasses-json->unstructured==0.14.0->unstructured[all-docs]==0.14.0) (0.9.0)\n",
            "Requirement already satisfied: google-api-core!=2.0.*,!=2.1.*,!=2.10.*,!=2.2.*,!=2.3.*,!=2.4.*,!=2.5.*,!=2.6.*,!=2.7.*,!=2.8.*,!=2.9.*,<3.0.0dev,>=1.34.1 in /usr/local/lib/python3.10/dist-packages (from google-api-core[grpc]!=2.0.*,!=2.1.*,!=2.10.*,!=2.2.*,!=2.3.*,!=2.4.*,!=2.5.*,!=2.6.*,!=2.7.*,!=2.8.*,!=2.9.*,<3.0.0dev,>=1.34.1->google-cloud-vision->unstructured[all-docs]==0.14.0) (2.19.2)\n",
            "Requirement already satisfied: google-auth!=2.24.0,!=2.25.0,<3.0.0dev,>=2.14.1 in /usr/local/lib/python3.10/dist-packages (from google-cloud-vision->unstructured[all-docs]==0.14.0) (2.27.0)\n",
            "Requirement already satisfied: proto-plus<2.0.0dev,>=1.22.3 in /usr/local/lib/python3.10/dist-packages (from google-cloud-vision->unstructured[all-docs]==0.14.0) (1.25.0)\n",
            "Requirement already satisfied: protobuf!=4.21.0,!=4.21.1,!=4.21.2,!=4.21.3,!=4.21.4,!=4.21.5,<6.0.0dev,>=3.20.2 in /usr/local/lib/python3.10/dist-packages (from google-cloud-vision->unstructured[all-docs]==0.14.0) (4.25.5)\n",
            "Requirement already satisfied: six in /usr/local/lib/python3.10/dist-packages (from langdetect->unstructured==0.14.0->unstructured[all-docs]==0.14.0) (1.17.0)\n",
            "Requirement already satisfied: olefile>=0.46 in /usr/local/lib/python3.10/dist-packages (from msg-parser->unstructured[all-docs]==0.14.0) (0.47)\n",
            "Requirement already satisfied: click in /usr/local/lib/python3.10/dist-packages (from nltk->unstructured==0.14.0->unstructured[all-docs]==0.14.0) (8.1.7)\n",
            "Requirement already satisfied: joblib in /usr/local/lib/python3.10/dist-packages (from nltk->unstructured==0.14.0->unstructured[all-docs]==0.14.0) (1.4.2)\n",
            "Requirement already satisfied: regex>=2021.8.3 in /usr/local/lib/python3.10/dist-packages (from nltk->unstructured==0.14.0->unstructured[all-docs]==0.14.0) (2024.11.6)\n",
            "Requirement already satisfied: tqdm in /usr/local/lib/python3.10/dist-packages (from nltk->unstructured==0.14.0->unstructured[all-docs]==0.14.0) (4.67.1)\n",
            "Requirement already satisfied: et-xmlfile in /usr/local/lib/python3.10/dist-packages (from openpyxl->unstructured[all-docs]==0.14.0) (2.0.0)\n",
            "Requirement already satisfied: python-dateutil>=2.8.2 in /usr/local/lib/python3.10/dist-packages (from pandas->unstructured[all-docs]==0.14.0) (2.8.2)\n",
            "Requirement already satisfied: pytz>=2020.1 in /usr/local/lib/python3.10/dist-packages (from pandas->unstructured[all-docs]==0.14.0) (2024.2)\n",
            "Requirement already satisfied: tzdata>=2022.7 in /usr/local/lib/python3.10/dist-packages (from pandas->unstructured[all-docs]==0.14.0) (2024.2)\n",
            "Requirement already satisfied: charset-normalizer>=2.0.0 in /usr/local/lib/python3.10/dist-packages (from pdfminer.six->unstructured[all-docs]==0.14.0) (3.4.0)\n",
            "Requirement already satisfied: cryptography>=36.0.0 in /usr/local/lib/python3.10/dist-packages (from pdfminer.six->unstructured[all-docs]==0.14.0) (43.0.3)\n",
            "Requirement already satisfied: Deprecated in /usr/local/lib/python3.10/dist-packages (from pikepdf->unstructured[all-docs]==0.14.0) (1.2.15)\n",
            "Requirement already satisfied: idna<4,>=2.5 in /usr/local/lib/python3.10/dist-packages (from requests->unstructured==0.14.0->unstructured[all-docs]==0.14.0) (3.10)\n",
            "Requirement already satisfied: urllib3<3,>=1.21.1 in /usr/local/lib/python3.10/dist-packages (from requests->unstructured==0.14.0->unstructured[all-docs]==0.14.0) (2.2.3)\n",
            "Requirement already satisfied: certifi>=2017.4.17 in /usr/local/lib/python3.10/dist-packages (from requests->unstructured==0.14.0->unstructured[all-docs]==0.14.0) (2024.12.14)\n",
            "Requirement already satisfied: aiofiles>=24.1.0 in /usr/local/lib/python3.10/dist-packages (from unstructured-client->unstructured==0.14.0->unstructured[all-docs]==0.14.0) (24.1.0)\n",
            "Requirement already satisfied: eval-type-backport<0.3.0,>=0.2.0 in /usr/local/lib/python3.10/dist-packages (from unstructured-client->unstructured==0.14.0->unstructured[all-docs]==0.14.0) (0.2.0)\n",
            "Requirement already satisfied: httpx>=0.27.0 in /usr/local/lib/python3.10/dist-packages (from unstructured-client->unstructured==0.14.0->unstructured[all-docs]==0.14.0) (0.28.1)\n",
            "Requirement already satisfied: jsonpath-python<2.0.0,>=1.0.6 in /usr/local/lib/python3.10/dist-packages (from unstructured-client->unstructured==0.14.0->unstructured[all-docs]==0.14.0) (1.0.6)\n",
            "Requirement already satisfied: nest-asyncio>=1.6.0 in /usr/local/lib/python3.10/dist-packages (from unstructured-client->unstructured==0.14.0->unstructured[all-docs]==0.14.0) (1.6.0)\n",
            "Requirement already satisfied: pydantic<2.10.0,>=2.9.2 in /usr/local/lib/python3.10/dist-packages (from unstructured-client->unstructured==0.14.0->unstructured[all-docs]==0.14.0) (2.9.2)\n",
            "Requirement already satisfied: requests-toolbelt>=1.0.0 in /usr/local/lib/python3.10/dist-packages (from unstructured-client->unstructured==0.14.0->unstructured[all-docs]==0.14.0) (1.0.0)\n",
            "Requirement already satisfied: cffi>=1.12 in /usr/local/lib/python3.10/dist-packages (from cryptography>=36.0.0->pdfminer.six->unstructured[all-docs]==0.14.0) (1.17.1)\n",
            "Requirement already satisfied: googleapis-common-protos<2.0.dev0,>=1.56.2 in /usr/local/lib/python3.10/dist-packages (from google-api-core!=2.0.*,!=2.1.*,!=2.10.*,!=2.2.*,!=2.3.*,!=2.4.*,!=2.5.*,!=2.6.*,!=2.7.*,!=2.8.*,!=2.9.*,<3.0.0dev,>=1.34.1->google-api-core[grpc]!=2.0.*,!=2.1.*,!=2.10.*,!=2.2.*,!=2.3.*,!=2.4.*,!=2.5.*,!=2.6.*,!=2.7.*,!=2.8.*,!=2.9.*,<3.0.0dev,>=1.34.1->google-cloud-vision->unstructured[all-docs]==0.14.0) (1.66.0)\n",
            "Requirement already satisfied: grpcio<2.0dev,>=1.33.2 in /usr/local/lib/python3.10/dist-packages (from google-api-core[grpc]!=2.0.*,!=2.1.*,!=2.10.*,!=2.2.*,!=2.3.*,!=2.4.*,!=2.5.*,!=2.6.*,!=2.7.*,!=2.8.*,!=2.9.*,<3.0.0dev,>=1.34.1->google-cloud-vision->unstructured[all-docs]==0.14.0) (1.68.1)\n",
            "Requirement already satisfied: grpcio-status<2.0.dev0,>=1.33.2 in /usr/local/lib/python3.10/dist-packages (from google-api-core[grpc]!=2.0.*,!=2.1.*,!=2.10.*,!=2.2.*,!=2.3.*,!=2.4.*,!=2.5.*,!=2.6.*,!=2.7.*,!=2.8.*,!=2.9.*,<3.0.0dev,>=1.34.1->google-cloud-vision->unstructured[all-docs]==0.14.0) (1.62.3)\n",
            "Requirement already satisfied: cachetools<6.0,>=2.0.0 in /usr/local/lib/python3.10/dist-packages (from google-auth!=2.24.0,!=2.25.0,<3.0.0dev,>=2.14.1->google-cloud-vision->unstructured[all-docs]==0.14.0) (5.5.0)\n",
            "Requirement already satisfied: pyasn1-modules>=0.2.1 in /usr/local/lib/python3.10/dist-packages (from google-auth!=2.24.0,!=2.25.0,<3.0.0dev,>=2.14.1->google-cloud-vision->unstructured[all-docs]==0.14.0) (0.4.1)\n",
            "Requirement already satisfied: rsa<5,>=3.1.4 in /usr/local/lib/python3.10/dist-packages (from google-auth!=2.24.0,!=2.25.0,<3.0.0dev,>=2.14.1->google-cloud-vision->unstructured[all-docs]==0.14.0) (4.9)\n",
            "Requirement already satisfied: anyio in /usr/local/lib/python3.10/dist-packages (from httpx>=0.27.0->unstructured-client->unstructured==0.14.0->unstructured[all-docs]==0.14.0) (3.7.1)\n",
            "Requirement already satisfied: httpcore==1.* in /usr/local/lib/python3.10/dist-packages (from httpx>=0.27.0->unstructured-client->unstructured==0.14.0->unstructured[all-docs]==0.14.0) (1.0.7)\n",
            "Requirement already satisfied: h11<0.15,>=0.13 in /usr/local/lib/python3.10/dist-packages (from httpcore==1.*->httpx>=0.27.0->unstructured-client->unstructured==0.14.0->unstructured[all-docs]==0.14.0) (0.14.0)\n",
            "Requirement already satisfied: coloredlogs in /usr/local/lib/python3.10/dist-packages (from onnxruntime>=1.17.0->unstructured-inference==0.7.31->unstructured[all-docs]==0.14.0) (15.0.1)\n",
            "Requirement already satisfied: flatbuffers in /usr/local/lib/python3.10/dist-packages (from onnxruntime>=1.17.0->unstructured-inference==0.7.31->unstructured[all-docs]==0.14.0) (24.3.25)\n",
            "Requirement already satisfied: sympy in /usr/local/lib/python3.10/dist-packages (from onnxruntime>=1.17.0->unstructured-inference==0.7.31->unstructured[all-docs]==0.14.0) (1.13.1)\n",
            "Requirement already satisfied: annotated-types>=0.6.0 in /usr/local/lib/python3.10/dist-packages (from pydantic<2.10.0,>=2.9.2->unstructured-client->unstructured==0.14.0->unstructured[all-docs]==0.14.0) (0.7.0)\n",
            "Requirement already satisfied: pydantic-core==2.23.4 in /usr/local/lib/python3.10/dist-packages (from pydantic<2.10.0,>=2.9.2->unstructured-client->unstructured==0.14.0->unstructured[all-docs]==0.14.0) (2.23.4)\n",
            "Requirement already satisfied: filelock in /usr/local/lib/python3.10/dist-packages (from transformers>=4.25.1->unstructured-inference==0.7.31->unstructured[all-docs]==0.14.0) (3.16.1)\n",
            "Requirement already satisfied: pyyaml>=5.1 in /usr/local/lib/python3.10/dist-packages (from transformers>=4.25.1->unstructured-inference==0.7.31->unstructured[all-docs]==0.14.0) (6.0.2)\n",
            "Requirement already satisfied: tokenizers<0.22,>=0.21 in /usr/local/lib/python3.10/dist-packages (from transformers>=4.25.1->unstructured-inference==0.7.31->unstructured[all-docs]==0.14.0) (0.21.0)\n",
            "Requirement already satisfied: safetensors>=0.4.1 in /usr/local/lib/python3.10/dist-packages (from transformers>=4.25.1->unstructured-inference==0.7.31->unstructured[all-docs]==0.14.0) (0.4.5)\n",
            "Requirement already satisfied: fsspec>=2023.5.0 in /usr/local/lib/python3.10/dist-packages (from huggingface-hub->unstructured-inference==0.7.31->unstructured[all-docs]==0.14.0) (2024.10.0)\n",
            "Requirement already satisfied: mypy-extensions>=0.3.0 in /usr/local/lib/python3.10/dist-packages (from typing-inspect<1,>=0.4.0->dataclasses-json->unstructured==0.14.0->unstructured[all-docs]==0.14.0) (1.0.0)\n",
            "Requirement already satisfied: scipy in /usr/local/lib/python3.10/dist-packages (from layoutparser[layoutmodels,tesseract]->unstructured-inference==0.7.31->unstructured[all-docs]==0.14.0) (1.13.1)\n",
            "Requirement already satisfied: iopath in /usr/local/lib/python3.10/dist-packages (from layoutparser[layoutmodels,tesseract]->unstructured-inference==0.7.31->unstructured[all-docs]==0.14.0) (0.1.10)\n",
            "Requirement already satisfied: pdfplumber in /usr/local/lib/python3.10/dist-packages (from layoutparser[layoutmodels,tesseract]->unstructured-inference==0.7.31->unstructured[all-docs]==0.14.0) (0.11.5)\n",
            "Requirement already satisfied: pytesseract in /usr/local/lib/python3.10/dist-packages (from layoutparser[layoutmodels,tesseract]->unstructured-inference==0.7.31->unstructured[all-docs]==0.14.0) (0.3.13)\n",
            "Requirement already satisfied: torch in /usr/local/lib/python3.10/dist-packages (from layoutparser[layoutmodels,tesseract]->unstructured-inference==0.7.31->unstructured[all-docs]==0.14.0) (2.5.1+cu121)\n",
            "Requirement already satisfied: torchvision in /usr/local/lib/python3.10/dist-packages (from layoutparser[layoutmodels,tesseract]->unstructured-inference==0.7.31->unstructured[all-docs]==0.14.0) (0.20.1+cu121)\n",
            "Requirement already satisfied: effdet in /usr/local/lib/python3.10/dist-packages (from layoutparser[layoutmodels,tesseract]->unstructured-inference==0.7.31->unstructured[all-docs]==0.14.0) (0.4.1)\n",
            "Requirement already satisfied: pycparser in /usr/local/lib/python3.10/dist-packages (from cffi>=1.12->cryptography>=36.0.0->pdfminer.six->unstructured[all-docs]==0.14.0) (2.22)\n",
            "Requirement already satisfied: pyasn1<0.7.0,>=0.4.6 in /usr/local/lib/python3.10/dist-packages (from pyasn1-modules>=0.2.1->google-auth!=2.24.0,!=2.25.0,<3.0.0dev,>=2.14.1->google-cloud-vision->unstructured[all-docs]==0.14.0) (0.6.1)\n",
            "Requirement already satisfied: sniffio>=1.1 in /usr/local/lib/python3.10/dist-packages (from anyio->httpx>=0.27.0->unstructured-client->unstructured==0.14.0->unstructured[all-docs]==0.14.0) (1.3.1)\n",
            "Requirement already satisfied: exceptiongroup in /usr/local/lib/python3.10/dist-packages (from anyio->httpx>=0.27.0->unstructured-client->unstructured==0.14.0->unstructured[all-docs]==0.14.0) (1.2.2)\n",
            "Requirement already satisfied: humanfriendly>=9.1 in /usr/local/lib/python3.10/dist-packages (from coloredlogs->onnxruntime>=1.17.0->unstructured-inference==0.7.31->unstructured[all-docs]==0.14.0) (10.0)\n",
            "Requirement already satisfied: timm>=0.9.2 in /usr/local/lib/python3.10/dist-packages (from effdet->layoutparser[layoutmodels,tesseract]->unstructured-inference==0.7.31->unstructured[all-docs]==0.14.0) (1.0.12)\n",
            "Requirement already satisfied: pycocotools>=2.0.2 in /usr/local/lib/python3.10/dist-packages (from effdet->layoutparser[layoutmodels,tesseract]->unstructured-inference==0.7.31->unstructured[all-docs]==0.14.0) (2.0.8)\n",
            "Requirement already satisfied: omegaconf>=2.0 in /usr/local/lib/python3.10/dist-packages (from effdet->layoutparser[layoutmodels,tesseract]->unstructured-inference==0.7.31->unstructured[all-docs]==0.14.0) (2.3.0)\n",
            "Requirement already satisfied: jinja2 in /usr/local/lib/python3.10/dist-packages (from torch->layoutparser[layoutmodels,tesseract]->unstructured-inference==0.7.31->unstructured[all-docs]==0.14.0) (3.1.4)\n",
            "Requirement already satisfied: mpmath<1.4,>=1.1.0 in /usr/local/lib/python3.10/dist-packages (from sympy->onnxruntime>=1.17.0->unstructured-inference==0.7.31->unstructured[all-docs]==0.14.0) (1.3.0)\n",
            "Requirement already satisfied: portalocker in /usr/local/lib/python3.10/dist-packages (from iopath->layoutparser[layoutmodels,tesseract]->unstructured-inference==0.7.31->unstructured[all-docs]==0.14.0) (3.1.1)\n",
            "Requirement already satisfied: pypdfium2>=4.18.0 in /usr/local/lib/python3.10/dist-packages (from pdfplumber->layoutparser[layoutmodels,tesseract]->unstructured-inference==0.7.31->unstructured[all-docs]==0.14.0) (4.30.1)\n",
            "Requirement already satisfied: antlr4-python3-runtime==4.9.* in /usr/local/lib/python3.10/dist-packages (from omegaconf>=2.0->effdet->layoutparser[layoutmodels,tesseract]->unstructured-inference==0.7.31->unstructured[all-docs]==0.14.0) (4.9.3)\n",
            "Requirement already satisfied: matplotlib>=2.1.0 in /usr/local/lib/python3.10/dist-packages (from pycocotools>=2.0.2->effdet->layoutparser[layoutmodels,tesseract]->unstructured-inference==0.7.31->unstructured[all-docs]==0.14.0) (3.8.0)\n",
            "Requirement already satisfied: MarkupSafe>=2.0 in /usr/local/lib/python3.10/dist-packages (from jinja2->torch->layoutparser[layoutmodels,tesseract]->unstructured-inference==0.7.31->unstructured[all-docs]==0.14.0) (3.0.2)\n",
            "Requirement already satisfied: contourpy>=1.0.1 in /usr/local/lib/python3.10/dist-packages (from matplotlib>=2.1.0->pycocotools>=2.0.2->effdet->layoutparser[layoutmodels,tesseract]->unstructured-inference==0.7.31->unstructured[all-docs]==0.14.0) (1.3.1)\n",
            "Requirement already satisfied: cycler>=0.10 in /usr/local/lib/python3.10/dist-packages (from matplotlib>=2.1.0->pycocotools>=2.0.2->effdet->layoutparser[layoutmodels,tesseract]->unstructured-inference==0.7.31->unstructured[all-docs]==0.14.0) (0.12.1)\n",
            "Requirement already satisfied: fonttools>=4.22.0 in /usr/local/lib/python3.10/dist-packages (from matplotlib>=2.1.0->pycocotools>=2.0.2->effdet->layoutparser[layoutmodels,tesseract]->unstructured-inference==0.7.31->unstructured[all-docs]==0.14.0) (4.55.3)\n",
            "Requirement already satisfied: kiwisolver>=1.0.1 in /usr/local/lib/python3.10/dist-packages (from matplotlib>=2.1.0->pycocotools>=2.0.2->effdet->layoutparser[layoutmodels,tesseract]->unstructured-inference==0.7.31->unstructured[all-docs]==0.14.0) (1.4.7)\n",
            "Requirement already satisfied: pyparsing>=2.3.1 in /usr/local/lib/python3.10/dist-packages (from matplotlib>=2.1.0->pycocotools>=2.0.2->effdet->layoutparser[layoutmodels,tesseract]->unstructured-inference==0.7.31->unstructured[all-docs]==0.14.0) (3.2.0)\n"
          ]
        }
      ],
      "source": [
        "!pip install \"unstructured[all-docs]==0.14.0\""
      ]
    },
    {
      "cell_type": "code",
      "execution_count": 1,
      "metadata": {
        "colab": {
          "base_uri": "https://localhost:8080/"
        },
        "id": "Ssmv-i7JYsnj",
        "outputId": "88055401-c677-4a86-823c-79597a267211"
      },
      "outputs": [
        {
          "output_type": "stream",
          "name": "stdout",
          "text": [
            "Reading package lists... Done\n",
            "Building dependency tree... Done\n",
            "Reading state information... Done\n",
            "The following additional packages will be installed:\n",
            "  tesseract-ocr-eng tesseract-ocr-osd\n",
            "The following NEW packages will be installed:\n",
            "  tesseract-ocr tesseract-ocr-eng tesseract-ocr-osd\n",
            "0 upgraded, 3 newly installed, 0 to remove and 0 not upgraded.\n",
            "Need to get 4,816 kB of archives.\n",
            "After this operation, 15.6 MB of additional disk space will be used.\n",
            "Get:1 http://archive.ubuntu.com/ubuntu jammy/universe amd64 tesseract-ocr-eng all 1:4.00~git30-7274cfa-1.1 [1,591 kB]\n",
            "Get:2 http://archive.ubuntu.com/ubuntu jammy/universe amd64 tesseract-ocr-osd all 1:4.00~git30-7274cfa-1.1 [2,990 kB]\n",
            "Get:3 http://archive.ubuntu.com/ubuntu jammy/universe amd64 tesseract-ocr amd64 4.1.1-2.1build1 [236 kB]\n",
            "Fetched 4,816 kB in 1s (3,722 kB/s)\n",
            "debconf: unable to initialize frontend: Dialog\n",
            "debconf: (No usable dialog-like program is installed, so the dialog based frontend cannot be used. at /usr/share/perl5/Debconf/FrontEnd/Dialog.pm line 78, <> line 3.)\n",
            "debconf: falling back to frontend: Readline\n",
            "debconf: unable to initialize frontend: Readline\n",
            "debconf: (This frontend requires a controlling tty.)\n",
            "debconf: falling back to frontend: Teletype\n",
            "dpkg-preconfigure: unable to re-open stdin: \n",
            "Selecting previously unselected package tesseract-ocr-eng.\n",
            "(Reading database ... 119669 files and directories currently installed.)\n",
            "Preparing to unpack .../tesseract-ocr-eng_1%3a4.00~git30-7274cfa-1.1_all.deb ...\n",
            "Unpacking tesseract-ocr-eng (1:4.00~git30-7274cfa-1.1) ...\n",
            "Selecting previously unselected package tesseract-ocr-osd.\n",
            "Preparing to unpack .../tesseract-ocr-osd_1%3a4.00~git30-7274cfa-1.1_all.deb ...\n",
            "Unpacking tesseract-ocr-osd (1:4.00~git30-7274cfa-1.1) ...\n",
            "Selecting previously unselected package tesseract-ocr.\n",
            "Preparing to unpack .../tesseract-ocr_4.1.1-2.1build1_amd64.deb ...\n",
            "Unpacking tesseract-ocr (4.1.1-2.1build1) ...\n",
            "Setting up tesseract-ocr-eng (1:4.00~git30-7274cfa-1.1) ...\n",
            "Setting up tesseract-ocr-osd (1:4.00~git30-7274cfa-1.1) ...\n",
            "Setting up tesseract-ocr (4.1.1-2.1build1) ...\n",
            "Processing triggers for man-db (2.10.2-1) ...\n",
            "Reading package lists... Done\n",
            "Building dependency tree... Done\n",
            "Reading state information... Done\n",
            "poppler-utils is already the newest version (22.02.0-2ubuntu0.5).\n",
            "0 upgraded, 0 newly installed, 0 to remove and 0 not upgraded.\n"
          ]
        }
      ],
      "source": [
        "!sudo apt-get install tesseract-ocr\n",
        "!sudo apt-get install poppler-utils"
      ]
    },
    {
      "cell_type": "code",
      "execution_count": 6,
      "metadata": {
        "id": "EwQ0BNvwZH-C"
      },
      "outputs": [],
      "source": [
        "from langchain_community.document_loaders import TextLoader\n",
        "loader = TextLoader(\"/content/drive/MyDrive/README.md\")\n",
        "dec = loader.load()"
      ]
    },
    {
      "cell_type": "code",
      "execution_count": 7,
      "metadata": {
        "colab": {
          "base_uri": "https://localhost:8080/"
        },
        "id": "xYP7Lie1c8Vo",
        "outputId": "6a88e299-3f77-4c12-bca4-f8d83c51e1d0"
      },
      "outputs": [
        {
          "output_type": "execute_result",
          "data": {
            "text/plain": [
              "1"
            ]
          },
          "metadata": {},
          "execution_count": 7
        }
      ],
      "source": [
        "len(dec)"
      ]
    },
    {
      "cell_type": "code",
      "execution_count": 8,
      "metadata": {
        "colab": {
          "base_uri": "https://localhost:8080/",
          "height": 186
        },
        "id": "V4KvypptdYJr",
        "outputId": "ac107c2d-2288-46da-c999-d83aace1c13a"
      },
      "outputs": [
        {
          "output_type": "execute_result",
          "data": {
            "text/plain": [
              "langchain_core.documents.base.Document"
            ],
            "text/html": [
              "<div style=\"max-width:800px; border: 1px solid var(--colab-border-color);\"><style>\n",
              "      pre.function-repr-contents {\n",
              "        overflow-x: auto;\n",
              "        padding: 8px 12px;\n",
              "        max-height: 500px;\n",
              "      }\n",
              "\n",
              "      pre.function-repr-contents.function-repr-contents-collapsed {\n",
              "        cursor: pointer;\n",
              "        max-height: 100px;\n",
              "      }\n",
              "    </style>\n",
              "    <pre style=\"white-space: initial; background:\n",
              "         var(--colab-secondary-surface-color); padding: 8px 12px;\n",
              "         border-bottom: 1px solid var(--colab-border-color);\"><b>langchain_core.documents.base.Document</b><br/>def __init__(page_content: str, **kwargs: Any) -&gt; None</pre><pre class=\"function-repr-contents function-repr-contents-collapsed\" style=\"\"><a class=\"filepath\" style=\"display:none\" href=\"#\">/usr/local/lib/python3.10/dist-packages/langchain_core/documents/base.py</a>Class for storing a piece of text and associated metadata.\n",
              "\n",
              "Example:\n",
              "\n",
              "    .. code-block:: python\n",
              "\n",
              "        from langchain_core.documents import Document\n",
              "\n",
              "        document = Document(\n",
              "            page_content=&quot;Hello, world!&quot;,\n",
              "            metadata={&quot;source&quot;: &quot;https://example.com&quot;}\n",
              "        )</pre>\n",
              "      <script>\n",
              "      if (google.colab.kernel.accessAllowed && google.colab.files && google.colab.files.view) {\n",
              "        for (const element of document.querySelectorAll('.filepath')) {\n",
              "          element.style.display = 'block'\n",
              "          element.onclick = (event) => {\n",
              "            event.preventDefault();\n",
              "            event.stopPropagation();\n",
              "            google.colab.files.view(element.textContent, 247);\n",
              "          };\n",
              "        }\n",
              "      }\n",
              "      for (const element of document.querySelectorAll('.function-repr-contents')) {\n",
              "        element.onclick = (event) => {\n",
              "          event.preventDefault();\n",
              "          event.stopPropagation();\n",
              "          element.classList.toggle('function-repr-contents-collapsed');\n",
              "        };\n",
              "      }\n",
              "      </script>\n",
              "      </div>"
            ]
          },
          "metadata": {},
          "execution_count": 8
        }
      ],
      "source": [
        "type(dec[0])"
      ]
    },
    {
      "cell_type": "code",
      "execution_count": 9,
      "metadata": {
        "colab": {
          "base_uri": "https://localhost:8080/",
          "height": 139
        },
        "id": "Y9r8FwqRdb6A",
        "outputId": "ac43039c-e630-46a5-c902-928a42f24998"
      },
      "outputs": [
        {
          "output_type": "execute_result",
          "data": {
            "text/plain": [
              "\"# Introduction to Deep Learning\\n\\nHuman Intelligence has always been fascinating for scientist. Understanding how brain works can answer a lot of important questions. Because of a lot of research in the area of neuro science, there is a vague understanding on how the brain works. We know that there is something called as **BIOLOGICAL NEURON** which acts as abasic building block. \\n\\n![BIOLOGICAL_NEURON](img/5.jpg)\\n\\n---\\n\\n## History\\n\\n![DEEP_LEARNING](img/turing_award.png)\\n\\n---\\n- 1957 - Perceptron based model by Rosenblatt\\n- 1960's to 1980's - Attempts at creating the network of artificial neurons\\n- 1986 - Back Propogation using chain rule of differentiation by Geoffery Hinton\\n- 1990's - Winter for DL - Not enough compute power \\n- 1995 - 2006 - SVM, GBD, RF models became powerful\\n- 2006 - How to train Deep Neural Network by Geoffery Hinton\\n- 2012 - Come back of DL in ImageNet Competition (Detect objects in images). A team used deep neural network and won the competition by very huge margin.\\n- 2014 - Dropouts by Nitish Srivastava (To prevent Overfitting problem)\\n\\n![CASE_STUDY](img/7.png)\\n\\n---\\n\\n## Notation\\n- Input Layer\\n- Hidden Layer\\n- Output Layer\\n\\n![DEEP_NETWORK](img/8.png)\\n\\n## How biological neuron works?\\n- Neuron activates or fires when there is enough input\\n- Activation function\\n\\n$$ O = f(\\\\sum_{i=1}^{d} w_i*x_i) $$\\n\\n\\n![NEURON_PERCEPTRON](img/6.png)\\n\\n---\\n\\n## Specifications of Neural Network\\n\\n1. Topology (i.e. Structure) - Nodes(i.e. Neurons) and Edges(i.e. Interconnections)\\n2. Input Layer (Depends on the number of features), Hidden Layers and Output Layer (For regression - One neuron and for classification - Number of neurons is equal to number of classes)\\n3. Weights and Bias\\n4. Activation Functions\\n\\n---\\n\\n## Activation function\\n- Sigmoid - Vanishing Gradient Problem (Convergence is slow)\\n- Tanh - Vanishing Gradient Problem (Convergence is slow)\\n- ReLU (Rectified Linear Unit)\\n\\n\\n![ACTIVATION_FUNCTION](img/9.jpg)\\n\\n---\\n\\n## Assumptions of Neural Network\\n\\n1. Neurons are arranged in layers.\\n2. Multiple layers of neurons exists and these layers are arranged sequentially.\\n3. Neurons which belong to same layer won't interact.\\n4. Neurons are densely connected with the adjacent layer neurons.\\n5. Every edge will have a weight associated with it.\\n6. All neurons will have the same activation function.\\n\\n**NOTE - All the neurons are arranged in layers and the layers are arranged in the sequence with the first layer being the input layer and last layer being the output layer and everything in between are the hidden layers. There are interconnections between the pairs of consecutive layers.**\\n\\n## Notations\\n\\n---\\n\\n**Add an image to demonstrate.**\\n\\n---\\n\\n**Activation Function**  \\n$$ f_{ij} \\\\rightarrow O_{ij} \\\\\\\\\\ni: Layer Number \\\\\\\\\\nj: Neuron Number $$  \\n\\n**Weights**  \\n$$ W_{ij}^{k} \\\\\\\\\\ni: From \\\\ j: To \\\\\\\\\\nk: To Layer Number $$  \\n\\n**Weight Matrix:**  \\n$ W^1 $  \\n\\n\\\\begin{pmatrix}\\nw_{11} & w_{12} & w_{13}\\\\\\\\\\nw_{21} & w_{22} & w_{23}\\\\\\\\\\nw_{31} & w_{32} & w_{33}\\\\\\\\\\nw_{41} & w_{42} & w_{43}\\\\\\\\\\n\\\\end{pmatrix}\\n\\n## Training a Neural Network\\n\\n1. Randomly initialize $ W_{ij}^{k} $.\\n2. **Forward Propogation** - Feed forward ith datapoint.\\n3. Computer loss for ith data point.  \\n$$ L(y_i', y_i) $$  \\n4. **Backward Propogation** - Compute the derivatives using chain rule of derivation and memoization. \\n5. Update the weights from end of the network to start.  \\n$$ (W_{ij}^{k})_{new} = (W_{ij}^{k})_{old} - r*\\\\frac{\\\\partial L}{\\\\partial W} $$  \\n6. Repeat step 2 to 5 until convergence.\\n\\n---\\n\\n**Epoch** - One epoch of training means you have inputed all the training datapointsonce through the neural network. In real time, we run training for multiple epochs.\\n\\n**Mini-Batch** - Instead of 1 point at a time, pass a minibatch of size 32, 64, 128, 256, etc through the network.\\n\""
            ],
            "application/vnd.google.colaboratory.intrinsic+json": {
              "type": "string"
            }
          },
          "metadata": {},
          "execution_count": 9
        }
      ],
      "source": [
        "dec[0].page_content[:10000]"
      ]
    },
    {
      "cell_type": "code",
      "execution_count": 7,
      "metadata": {
        "colab": {
          "base_uri": "https://localhost:8080/"
        },
        "id": "cackj2BQdkfV",
        "outputId": "aab52bcf-fd8d-4d11-9c9d-e5a03d20abf7"
      },
      "outputs": [
        {
          "output_type": "stream",
          "name": "stdout",
          "text": [
            "# Introduction to Deep Learning\n",
            "\n",
            "Human Intelligence has always been fascinating for scientist. Understanding how brain works can answer a lot of important questions. Because of a lot of research in the area of neuro science, there is a vague understanding on how the brain works. We know that there is something called as **BIOLOGICAL NEURON** which acts as abasic building block. \n",
            "\n",
            "![BIOLOGICAL_NEURON](img/5.jpg)\n",
            "\n",
            "---\n",
            "\n",
            "## History\n",
            "\n",
            "![DEEP_LEARNING](img/turing_award.png)\n",
            "\n",
            "---\n",
            "- 1957 - Perceptron based model by Rosenblatt\n",
            "- 1960's to 1980's - Attempts at creating the network of artificial neurons\n",
            "- 1986 - Back Propogation using chain rule of differentiation by Geoffery Hinton\n",
            "- 1990's - Winter for DL - Not enough compute power \n",
            "- 1995 - 2006 - SVM, GBD, RF models became powerful\n",
            "- 2006 - How to train Deep Neural Network by Geoffery Hinton\n",
            "- 2012 - Come back of DL in ImageNet Competition (Detect objects in images). A team used deep neural network and won the competition by very huge margin.\n",
            "- 2014 - Dropouts by Nitish Srivastava (To prevent Overfitting problem)\n",
            "\n",
            "![CASE_STUDY](img/7.png)\n",
            "\n",
            "---\n",
            "\n",
            "## Notation\n",
            "- Input Layer\n",
            "- Hidden Layer\n",
            "- Output Layer\n",
            "\n",
            "![DEEP_NETWORK](img/8.png)\n",
            "\n",
            "## How biological neuron works?\n",
            "- Neuron activates or fires when there is enough input\n",
            "- Activation function\n",
            "\n",
            "$$ O = f(\\sum_{i=1}^{d} w_i*x_i) $$\n",
            "\n",
            "\n",
            "![NEURON_PERCEPTRON](img/6.png)\n",
            "\n",
            "---\n",
            "\n",
            "## Specifications of Neural Network\n",
            "\n",
            "1. Topology (i.e. Structure) - Nodes(i.e. Neurons) and Edges(i.e. Interconnections)\n",
            "2. Input Layer (Depends on the number of features), Hidden Layers and Output Layer (For regression - One neuron and for classification - Number of neurons is equal to number of classes)\n",
            "3. Weights and Bias\n",
            "4. Activation Functions\n",
            "\n",
            "---\n",
            "\n",
            "## Activation function\n",
            "- Sigmoid - Vanishing Gradient Problem (Convergence is slow)\n",
            "- Tanh - Vanishing Gradient Problem (Convergence is slow)\n",
            "- ReLU (Rectified Linear Unit)\n",
            "\n",
            "\n",
            "![ACTIVATION_FUNCTION](img/9.jpg)\n",
            "\n",
            "---\n",
            "\n",
            "## Assumptions of Neural Network\n",
            "\n",
            "1. Neurons are arranged in layers.\n",
            "2. Multiple layers of neurons exists and these layers are arranged sequentially.\n",
            "3. Neurons which belong to same layer won't interact.\n",
            "4. Neurons are densely connected with the adjacent layer neurons.\n",
            "5. Every edge will have a weight associated with it.\n",
            "6. All neurons will have the same activation function.\n",
            "\n",
            "**NOTE - All the neurons are arranged in layers and the layers are arranged in the sequence with the first layer being the input layer and last layer being the output layer and everything in between are the hidden layers. There are interconnections between the pairs of consecutive layers.**\n",
            "\n",
            "## Notations\n",
            "\n",
            "---\n",
            "\n",
            "**Add an image to demonstrate.**\n",
            "\n",
            "---\n",
            "\n",
            "**Activation Function**  \n",
            "$$ f_{ij} \\rightarrow O_{ij} \\\\\n",
            "i: Layer Number \\\\\n",
            "j: Neuron Number $$  \n",
            "\n",
            "**Weights**  \n",
            "$$ W_{ij}^{k} \\\\\n",
            "i: From \\ j: To \\\\\n",
            "k: To Layer Number $$  \n",
            "\n",
            "**Weight Matrix:**  \n",
            "$ W^1 $  \n",
            "\n",
            "\\begin{pmatrix}\n",
            "w_{11} & w_{12} & w_{13}\\\\\n",
            "w_{21} & w_{22} & w_{23}\\\\\n",
            "w_{31} & w_{32} & w_{33}\\\\\n",
            "w_{41} & w_{42} & w_{43}\\\\\n",
            "\\end{pmatrix}\n",
            "\n",
            "## Training a Neural Network\n",
            "\n",
            "1. Randomly initialize $ W_{ij}^{k} $.\n",
            "2. **Forward Propogation** - Feed forward ith datapoint.\n",
            "3. Computer loss for ith data point.  \n",
            "$$ L(y_i', y_i) $$  \n",
            "4. **Backward Propogation** - Compute the derivatives using chain rule of derivation and memoization. \n",
            "5. Update the weights from end of the network to start.  \n",
            "$$ (W_{ij}^{k})_{new} = (W_{ij}^{k})_{old} - r*\\frac{\\partial L}{\\partial W} $$  \n",
            "6. Repeat step 2 to 5 until convergence.\n",
            "\n",
            "---\n",
            "\n",
            "**Epoch** - One epoch of training means you have inputed all the training datapointsonce through the neural network. In real time, we run training for multiple epochs.\n",
            "\n",
            "**Mini-Batch** - Instead of 1 point at a time, pass a minibatch of size 32, 64, 128, 256, etc through the network.\n",
            "\n"
          ]
        }
      ],
      "source": [
        "print(dec[0].page_content[:10000])"
      ]
    },
    {
      "cell_type": "code",
      "execution_count": 13,
      "metadata": {
        "id": "ndlpMJRRdoox"
      },
      "outputs": [],
      "source": [
        "from langchain_community.document_loaders import UnstructuredMarkdownLoader"
      ]
    },
    {
      "cell_type": "code",
      "execution_count": 1,
      "metadata": {
        "id": "7yJomeEwL_UO"
      },
      "outputs": [],
      "source": [
        "from langchain_community.document_loaders import UnstructuredMarkdownLoader"
      ]
    },
    {
      "cell_type": "code",
      "execution_count": 2,
      "metadata": {
        "id": "NGNbiFZgL_YE"
      },
      "outputs": [],
      "source": [
        "loder = UnstructuredMarkdownLoader(\"/content/drive/MyDrive/README.md\")"
      ]
    },
    {
      "cell_type": "code",
      "execution_count": 7,
      "metadata": {
        "id": "0IK3KjW4L_bM"
      },
      "outputs": [],
      "source": [
        "doc = loder.load()"
      ]
    },
    {
      "cell_type": "code",
      "source": [
        "import nltk\n",
        "nltk.download('punkt_tab')"
      ],
      "metadata": {
        "colab": {
          "base_uri": "https://localhost:8080/"
        },
        "id": "525qOkkSqZMf",
        "outputId": "bd6cb070-1150-46f3-a8be-a3fdc5f3b0f5"
      },
      "execution_count": 4,
      "outputs": [
        {
          "output_type": "stream",
          "name": "stderr",
          "text": [
            "[nltk_data] Downloading package punkt_tab to /root/nltk_data...\n",
            "[nltk_data]   Unzipping tokenizers/punkt_tab.zip.\n"
          ]
        },
        {
          "output_type": "execute_result",
          "data": {
            "text/plain": [
              "True"
            ]
          },
          "metadata": {},
          "execution_count": 4
        }
      ]
    },
    {
      "cell_type": "code",
      "source": [],
      "metadata": {
        "id": "w2lE6KhCqcEr"
      },
      "execution_count": null,
      "outputs": []
    },
    {
      "cell_type": "code",
      "source": [
        "import nltk\n",
        "nltk.download('averaged_perceptron_tagger_eng')"
      ],
      "metadata": {
        "colab": {
          "base_uri": "https://localhost:8080/"
        },
        "id": "2X3-Z4dg7nO1",
        "outputId": "9ab626e4-afaa-4464-98df-9ee622a8b7e4"
      },
      "execution_count": 6,
      "outputs": [
        {
          "output_type": "stream",
          "name": "stderr",
          "text": [
            "[nltk_data] Downloading package averaged_perceptron_tagger_eng to\n",
            "[nltk_data]     /root/nltk_data...\n",
            "[nltk_data]   Unzipping taggers/averaged_perceptron_tagger_eng.zip.\n"
          ]
        },
        {
          "output_type": "execute_result",
          "data": {
            "text/plain": [
              "True"
            ]
          },
          "metadata": {},
          "execution_count": 6
        }
      ]
    },
    {
      "cell_type": "code",
      "source": [
        "len(doc)"
      ],
      "metadata": {
        "colab": {
          "base_uri": "https://localhost:8080/"
        },
        "id": "Ek6v5tkJqbeZ",
        "outputId": "3abeb2fc-a926-4ebb-bf9c-42ef3b22b05f"
      },
      "execution_count": 8,
      "outputs": [
        {
          "output_type": "execute_result",
          "data": {
            "text/plain": [
              "1"
            ]
          },
          "metadata": {},
          "execution_count": 8
        }
      ]
    },
    {
      "cell_type": "code",
      "source": [
        "doc[:10000]"
      ],
      "metadata": {
        "colab": {
          "base_uri": "https://localhost:8080/"
        },
        "id": "hGhZ1v-ArZdR",
        "outputId": "ae7315e0-f73f-49c1-ce25-9c83cd5c5a5f"
      },
      "execution_count": 9,
      "outputs": [
        {
          "output_type": "execute_result",
          "data": {
            "text/plain": [
              "[Document(metadata={'source': '/content/drive/MyDrive/README.md'}, page_content=\"Introduction to Deep Learning\\n\\nHuman Intelligence has always been fascinating for scientist. Understanding how brain works can answer a lot of important questions. Because of a lot of research in the area of neuro science, there is a vague understanding on how the brain works. We know that there is something called as BIOLOGICAL NEURON which acts as abasic building block.\\n\\nHistory\\n\\n1957 - Perceptron based model by Rosenblatt\\n\\n1960's to 1980's - Attempts at creating the network of artificial neurons\\n\\n1986 - Back Propogation using chain rule of differentiation by Geoffery Hinton\\n\\n1990's - Winter for DL - Not enough compute power\\n\\n1995 - 2006 - SVM, GBD, RF models became powerful\\n\\n2006 - How to train Deep Neural Network by Geoffery Hinton\\n\\n2012 - Come back of DL in ImageNet Competition (Detect objects in images). A team used deep neural network and won the competition by very huge margin.\\n\\n2014 - Dropouts by Nitish Srivastava (To prevent Overfitting problem)\\n\\nNotation\\n\\nInput Layer\\n\\nHidden Layer\\n\\nOutput Layer\\n\\nHow biological neuron works?\\n\\nNeuron activates or fires when there is enough input\\n\\nActivation function\\n\\n$$ O = f(\\\\sum_{i=1}^{d} w_i*x_i) $$\\n\\nSpecifications of Neural Network\\n\\nTopology (i.e. Structure) - Nodes(i.e. Neurons) and Edges(i.e. Interconnections)\\n\\nInput Layer (Depends on the number of features), Hidden Layers and Output Layer (For regression - One neuron and for classification - Number of neurons is equal to number of classes)\\n\\nWeights and Bias\\n\\nActivation Functions\\n\\nActivation function\\n\\nSigmoid - Vanishing Gradient Problem (Convergence is slow)\\n\\nTanh - Vanishing Gradient Problem (Convergence is slow)\\n\\nReLU (Rectified Linear Unit)\\n\\nAssumptions of Neural Network\\n\\nNeurons are arranged in layers.\\n\\nMultiple layers of neurons exists and these layers are arranged sequentially.\\n\\nNeurons which belong to same layer won't interact.\\n\\nNeurons are densely connected with the adjacent layer neurons.\\n\\nEvery edge will have a weight associated with it.\\n\\nAll neurons will have the same activation function.\\n\\nNOTE - All the neurons are arranged in layers and the layers are arranged in the sequence with the first layer being the input layer and last layer being the output layer and everything in between are the hidden layers. There are interconnections between the pairs of consecutive layers.\\n\\nNotations\\n\\nAdd an image to demonstrate.\\n\\nActivation Function\\n\\n$$ f_{ij} \\\\rightarrow O_{ij} \\\\\\ni: Layer Number \\\\\\nj: Neuron Number $$\\n\\nWeights\\n\\n$$ W_{ij}^{k} \\\\\\ni: From \\\\ j: To \\\\\\nk: To Layer Number $$\\n\\nWeight Matrix:\\n\\n$ W^1 $\\n\\n\\\\begin{pmatrix}\\nw_{11} & w_{12} & w_{13}\\\\\\nw_{21} & w_{22} & w_{23}\\\\\\nw_{31} & w_{32} & w_{33}\\\\\\nw_{41} & w_{42} & w_{43}\\\\\\n\\\\end{pmatrix}\\n\\nTraining a Neural Network\\n\\nRandomly initialize $ W_{ij}^{k} $.\\n\\nForward Propogation - Feed forward ith datapoint.\\n\\nComputer loss for ith data point.\\n$$ L(y_i', y_i) $$\\n\\nBackward Propogation - Compute the derivatives using chain rule of derivation and memoization.\\n\\nUpdate the weights from end of the network to start.\\n$$ (W_{ij}^{k}){new} = (W{ij}^{k})_{old} - r*\\\\frac{\\\\partial L}{\\\\partial W} $$\\n\\nRepeat step 2 to 5 until convergence.\\n\\nEpoch - One epoch of training means you have inputed all the training datapointsonce through the neural network. In real time, we run training for multiple epochs.\\n\\nMini-Batch - Instead of 1 point at a time, pass a minibatch of size 32, 64, 128, 256, etc through the network.\")]"
            ]
          },
          "metadata": {},
          "execution_count": 9
        }
      ]
    },
    {
      "cell_type": "code",
      "source": [
        "loder = UnstructuredMarkdownLoader(\"/content/drive/MyDrive/README.md\", mode = \"elements\")"
      ],
      "metadata": {
        "id": "6Vyu9BaXrg9x"
      },
      "execution_count": 10,
      "outputs": []
    },
    {
      "cell_type": "code",
      "source": [
        "doc = loder.load()"
      ],
      "metadata": {
        "id": "L7nIs6hqruls"
      },
      "execution_count": 12,
      "outputs": []
    },
    {
      "cell_type": "code",
      "source": [
        "len(doc)"
      ],
      "metadata": {
        "colab": {
          "base_uri": "https://localhost:8080/"
        },
        "id": "MZCdUzI9rzcY",
        "outputId": "780ce142-6222-4420-b5bd-352824c6aa94"
      },
      "execution_count": 13,
      "outputs": [
        {
          "output_type": "execute_result",
          "data": {
            "text/plain": [
              "54"
            ]
          },
          "metadata": {},
          "execution_count": 13
        }
      ]
    },
    {
      "cell_type": "code",
      "execution_count": 14,
      "metadata": {
        "id": "ncjIhBG42kyM",
        "colab": {
          "base_uri": "https://localhost:8080/"
        },
        "outputId": "bd799032-2f7e-4567-98da-1312253779ab"
      },
      "outputs": [
        {
          "output_type": "execute_result",
          "data": {
            "text/plain": [
              "[Document(metadata={'source': '/content/drive/MyDrive/README.md', 'last_modified': '2024-12-24T06:54:12', 'languages': ['eng'], 'filetype': 'text/markdown', 'file_directory': '/content/drive/MyDrive', 'filename': 'README.md', 'category': 'Title'}, page_content='Introduction to Deep Learning'),\n",
              " Document(metadata={'source': '/content/drive/MyDrive/README.md', 'last_modified': '2024-12-24T06:54:12', 'languages': ['eng'], 'parent_id': '6cd249a90511da47eb7403945e8b1afa', 'filetype': 'text/markdown', 'file_directory': '/content/drive/MyDrive', 'filename': 'README.md', 'category': 'NarrativeText'}, page_content='Human Intelligence has always been fascinating for scientist. Understanding how brain works can answer a lot of important questions. Because of a lot of research in the area of neuro science, there is a vague understanding on how the brain works. We know that there is something called as BIOLOGICAL NEURON which acts as abasic building block.'),\n",
              " Document(metadata={'source': '/content/drive/MyDrive/README.md', 'last_modified': '2024-12-24T06:54:12', 'languages': ['eng'], 'filetype': 'text/markdown', 'file_directory': '/content/drive/MyDrive', 'filename': 'README.md', 'category': 'Title'}, page_content='History'),\n",
              " Document(metadata={'source': '/content/drive/MyDrive/README.md', 'last_modified': '2024-12-24T06:54:12', 'languages': ['eng'], 'parent_id': '387072dbb26fbd72be1c680162e423f4', 'filetype': 'text/markdown', 'file_directory': '/content/drive/MyDrive', 'filename': 'README.md', 'category': 'ListItem'}, page_content='1957 - Perceptron based model by Rosenblatt'),\n",
              " Document(metadata={'source': '/content/drive/MyDrive/README.md', 'last_modified': '2024-12-24T06:54:12', 'languages': ['eng'], 'parent_id': '387072dbb26fbd72be1c680162e423f4', 'filetype': 'text/markdown', 'file_directory': '/content/drive/MyDrive', 'filename': 'README.md', 'category': 'ListItem'}, page_content=\"1960's to 1980's - Attempts at creating the network of artificial neurons\")]"
            ]
          },
          "metadata": {},
          "execution_count": 14
        }
      ],
      "source": [
        "doc[:5]"
      ]
    },
    {
      "cell_type": "code",
      "source": [
        "from unstructured.partition.md import partition_md"
      ],
      "metadata": {
        "id": "J5PSkUVDseIr"
      },
      "execution_count": 16,
      "outputs": []
    },
    {
      "cell_type": "code",
      "source": [
        "docs = partition_md(filename = \"/content/drive/MyDrive/README.md\")"
      ],
      "metadata": {
        "id": "vJq6vekBsxEZ"
      },
      "execution_count": 18,
      "outputs": []
    },
    {
      "cell_type": "code",
      "source": [
        "len(docs)"
      ],
      "metadata": {
        "colab": {
          "base_uri": "https://localhost:8080/"
        },
        "id": "FwpI1X16s7EN",
        "outputId": "a9306bff-f7e9-4516-a5e6-2531ed7461ff"
      },
      "execution_count": 19,
      "outputs": [
        {
          "output_type": "execute_result",
          "data": {
            "text/plain": [
              "54"
            ]
          },
          "metadata": {},
          "execution_count": 19
        }
      ]
    },
    {
      "cell_type": "code",
      "source": [
        "docs[0:5]"
      ],
      "metadata": {
        "colab": {
          "base_uri": "https://localhost:8080/"
        },
        "id": "utulkgUXtCbw",
        "outputId": "0f4761e8-7c04-45e3-94e1-aed4a065c665"
      },
      "execution_count": 21,
      "outputs": [
        {
          "output_type": "execute_result",
          "data": {
            "text/plain": [
              "[<unstructured.documents.elements.Title at 0x7c0f30293910>,\n",
              " <unstructured.documents.elements.NarrativeText at 0x7c0f30292dd0>,\n",
              " <unstructured.documents.elements.Title at 0x7c0f30291360>,\n",
              " <unstructured.documents.elements.ListItem at 0x7c0f30291ba0>,\n",
              " <unstructured.documents.elements.ListItem at 0x7c0f302902b0>]"
            ]
          },
          "metadata": {},
          "execution_count": 21
        }
      ]
    },
    {
      "cell_type": "code",
      "source": [
        "docs[0].to_dict()"
      ],
      "metadata": {
        "colab": {
          "base_uri": "https://localhost:8080/"
        },
        "id": "PInoqUF7tD84",
        "outputId": "89462883-678e-477d-8278-a89bc4146510"
      },
      "execution_count": 22,
      "outputs": [
        {
          "output_type": "execute_result",
          "data": {
            "text/plain": [
              "{'type': 'Title',\n",
              " 'element_id': '6cd249a90511da47eb7403945e8b1afa',\n",
              " 'text': 'Introduction to Deep Learning',\n",
              " 'metadata': {'last_modified': '2024-12-24T06:54:12',\n",
              "  'languages': ['eng'],\n",
              "  'filetype': 'text/markdown',\n",
              "  'file_directory': '/content/drive/MyDrive',\n",
              "  'filename': 'README.md'}}"
            ]
          },
          "metadata": {},
          "execution_count": 22
        }
      ]
    },
    {
      "cell_type": "code",
      "source": [
        "docs[1].to_dict()"
      ],
      "metadata": {
        "colab": {
          "base_uri": "https://localhost:8080/"
        },
        "id": "on8148LDtHl8",
        "outputId": "87986236-be03-408f-c9d8-f00146b4692a"
      },
      "execution_count": 23,
      "outputs": [
        {
          "output_type": "execute_result",
          "data": {
            "text/plain": [
              "{'type': 'NarrativeText',\n",
              " 'element_id': '25e0d194db895074526ba72c7c94cf12',\n",
              " 'text': 'Human Intelligence has always been fascinating for scientist. Understanding how brain works can answer a lot of important questions. Because of a lot of research in the area of neuro science, there is a vague understanding on how the brain works. We know that there is something called as BIOLOGICAL NEURON which acts as abasic building block.',\n",
              " 'metadata': {'last_modified': '2024-12-24T06:54:12',\n",
              "  'languages': ['eng'],\n",
              "  'parent_id': '6cd249a90511da47eb7403945e8b1afa',\n",
              "  'filetype': 'text/markdown',\n",
              "  'file_directory': '/content/drive/MyDrive',\n",
              "  'filename': 'README.md'}}"
            ]
          },
          "metadata": {},
          "execution_count": 23
        }
      ]
    },
    {
      "cell_type": "code",
      "source": [],
      "metadata": {
        "id": "Q1afCy7ftNBy"
      },
      "execution_count": null,
      "outputs": []
    },
    {
      "cell_type": "code",
      "source": [],
      "metadata": {
        "id": "NMVd6e4AtPA3"
      },
      "execution_count": null,
      "outputs": []
    },
    {
      "cell_type": "code",
      "source": [
        "from langchain_core.documents import Document\n",
        "lc_doc = [Document(page_content= doc.text ,\n",
        "                   metadata = doc.metadata.to_dict()) for doc in docs]"
      ],
      "metadata": {
        "id": "2PYd5EUntPD7"
      },
      "execution_count": 25,
      "outputs": []
    },
    {
      "cell_type": "code",
      "source": [
        "lc_doc[:5]"
      ],
      "metadata": {
        "colab": {
          "base_uri": "https://localhost:8080/"
        },
        "id": "Qd3N5gDztuJb",
        "outputId": "77a34f6c-882d-4362-999d-246f2a8cdf19"
      },
      "execution_count": 27,
      "outputs": [
        {
          "output_type": "execute_result",
          "data": {
            "text/plain": [
              "[Document(metadata={'last_modified': '2024-12-24T06:54:12', 'languages': ['eng'], 'filetype': 'text/markdown', 'file_directory': '/content/drive/MyDrive', 'filename': 'README.md'}, page_content='Introduction to Deep Learning'),\n",
              " Document(metadata={'last_modified': '2024-12-24T06:54:12', 'languages': ['eng'], 'parent_id': '6cd249a90511da47eb7403945e8b1afa', 'filetype': 'text/markdown', 'file_directory': '/content/drive/MyDrive', 'filename': 'README.md'}, page_content='Human Intelligence has always been fascinating for scientist. Understanding how brain works can answer a lot of important questions. Because of a lot of research in the area of neuro science, there is a vague understanding on how the brain works. We know that there is something called as BIOLOGICAL NEURON which acts as abasic building block.'),\n",
              " Document(metadata={'last_modified': '2024-12-24T06:54:12', 'languages': ['eng'], 'filetype': 'text/markdown', 'file_directory': '/content/drive/MyDrive', 'filename': 'README.md'}, page_content='History'),\n",
              " Document(metadata={'last_modified': '2024-12-24T06:54:12', 'languages': ['eng'], 'parent_id': '387072dbb26fbd72be1c680162e423f4', 'filetype': 'text/markdown', 'file_directory': '/content/drive/MyDrive', 'filename': 'README.md'}, page_content='1957 - Perceptron based model by Rosenblatt'),\n",
              " Document(metadata={'last_modified': '2024-12-24T06:54:12', 'languages': ['eng'], 'parent_id': '387072dbb26fbd72be1c680162e423f4', 'filetype': 'text/markdown', 'file_directory': '/content/drive/MyDrive', 'filename': 'README.md'}, page_content=\"1960's to 1980's - Attempts at creating the network of artificial neurons\")]"
            ]
          },
          "metadata": {},
          "execution_count": 27
        }
      ]
    },
    {
      "cell_type": "code",
      "source": [],
      "metadata": {
        "id": "7BR6QVEpt4R5"
      },
      "execution_count": null,
      "outputs": []
    },
    {
      "cell_type": "code",
      "source": [],
      "metadata": {
        "id": "0ddj37GeuIPF"
      },
      "execution_count": null,
      "outputs": []
    },
    {
      "cell_type": "code",
      "source": [],
      "metadata": {
        "id": "EJz9jJ3LuITl"
      },
      "execution_count": null,
      "outputs": []
    },
    {
      "cell_type": "markdown",
      "source": [
        "**CSV LOADER**"
      ],
      "metadata": {
        "id": "5gd40RLquItO"
      }
    },
    {
      "cell_type": "code",
      "source": [
        "from langchain_community.document_loaders.csv_loader import CSVLoader"
      ],
      "metadata": {
        "id": "H1EZFoMcuLOu"
      },
      "execution_count": 6,
      "outputs": []
    },
    {
      "cell_type": "code",
      "source": [
        "loder = CSVLoader(file_path= \"/content/pokemon_data.csv\")"
      ],
      "metadata": {
        "id": "5i4Tv0mz4W2F"
      },
      "execution_count": 7,
      "outputs": []
    },
    {
      "cell_type": "code",
      "source": [
        "doc = loder.load()"
      ],
      "metadata": {
        "id": "QElMQP0G4soy"
      },
      "execution_count": 8,
      "outputs": []
    },
    {
      "cell_type": "code",
      "source": [
        "doc[0]"
      ],
      "metadata": {
        "colab": {
          "base_uri": "https://localhost:8080/"
        },
        "id": "Qs2qf2l54wOq",
        "outputId": "9b815673-8be9-433b-d689-0d25c197249c"
      },
      "execution_count": 9,
      "outputs": [
        {
          "output_type": "execute_result",
          "data": {
            "text/plain": [
              "Document(metadata={'source': '/content/pokemon_data.csv', 'row': 0}, page_content='dexnum: 0001\\nname: Bulbasaur\\ngeneration: 1\\ntype1: Grass\\ntype2: Poison\\nspecies: Seed Pokémon\\nheight: 0.7\\nweight: 6.9\\nability1: Overgrow\\nability2: Chlorophyll\\nhidden_ability: \\nhp: 45\\nattack: 49\\ndefense: 49\\nsp_atk: 65\\nsp_def: 65\\nspeed: 45\\ntotal: 318\\nev_yield: 1 Sp. Atk\\ncatch_rate: 45\\nbase_friendship: 50\\nbase_exp: 64\\ngrowth_rate: Medium Slow\\negg_group1: Grass\\negg_group2: Monster\\npercent_male: 87.5\\npercent_female: 12.5\\negg_cycles: 20\\nspecial_group: Ordinary')"
            ]
          },
          "metadata": {},
          "execution_count": 9
        }
      ]
    },
    {
      "cell_type": "code",
      "source": [
        "print(doc[0].page_content)"
      ],
      "metadata": {
        "colab": {
          "base_uri": "https://localhost:8080/"
        },
        "id": "jw-axtHW4xVc",
        "outputId": "e26faae9-006d-4f2c-9708-c5039e90707f"
      },
      "execution_count": 10,
      "outputs": [
        {
          "output_type": "stream",
          "name": "stdout",
          "text": [
            "dexnum: 0001\n",
            "name: Bulbasaur\n",
            "generation: 1\n",
            "type1: Grass\n",
            "type2: Poison\n",
            "species: Seed Pokémon\n",
            "height: 0.7\n",
            "weight: 6.9\n",
            "ability1: Overgrow\n",
            "ability2: Chlorophyll\n",
            "hidden_ability: \n",
            "hp: 45\n",
            "attack: 49\n",
            "defense: 49\n",
            "sp_atk: 65\n",
            "sp_def: 65\n",
            "speed: 45\n",
            "total: 318\n",
            "ev_yield: 1 Sp. Atk\n",
            "catch_rate: 45\n",
            "base_friendship: 50\n",
            "base_exp: 64\n",
            "growth_rate: Medium Slow\n",
            "egg_group1: Grass\n",
            "egg_group2: Monster\n",
            "percent_male: 87.5\n",
            "percent_female: 12.5\n",
            "egg_cycles: 20\n",
            "special_group: Ordinary\n"
          ]
        }
      ]
    },
    {
      "cell_type": "code",
      "source": [
        "len(doc)"
      ],
      "metadata": {
        "colab": {
          "base_uri": "https://localhost:8080/"
        },
        "id": "tVJVY1zB47MF",
        "outputId": "43698c54-359e-4690-dac7-f1ca82c16182"
      },
      "execution_count": 33,
      "outputs": [
        {
          "output_type": "execute_result",
          "data": {
            "text/plain": [
              "1025"
            ]
          },
          "metadata": {},
          "execution_count": 33
        }
      ]
    },
    {
      "cell_type": "code",
      "source": [
        "# if you want to access few features (required features)\n",
        "loder = CSVLoader(file_path = \"/content/pokemon_data.csv\" ,\n",
        "                csv_args = {\"fieldnames\" : \"type1\"})\n",
        "docs =loder.load()"
      ],
      "metadata": {
        "id": "51wRby-b61om"
      },
      "execution_count": 31,
      "outputs": []
    },
    {
      "cell_type": "code",
      "source": [],
      "metadata": {
        "id": "YfM_5YNc72Hg"
      },
      "execution_count": 31,
      "outputs": []
    },
    {
      "cell_type": "code",
      "source": [
        "#entire csv file into single file\n",
        "from langchain_community.document_loaders import UnstructuredMarkdownLoader"
      ],
      "metadata": {
        "id": "RiLzp3Hpfgyi"
      },
      "execution_count": 1,
      "outputs": []
    },
    {
      "cell_type": "code",
      "source": [
        "loader = UnstructuredMarkdownLoader(\"/content/pokemon_data.csv\")"
      ],
      "metadata": {
        "id": "FEJaplzKjsz0"
      },
      "execution_count": 2,
      "outputs": []
    },
    {
      "cell_type": "code",
      "source": [
        "docs = loader.load()"
      ],
      "metadata": {
        "id": "sHUtwAhXj6Cy"
      },
      "execution_count": 5,
      "outputs": []
    },
    {
      "cell_type": "code",
      "source": [
        "import nltk\n",
        "nltk.download('punkt_tab')"
      ],
      "metadata": {
        "colab": {
          "base_uri": "https://localhost:8080/"
        },
        "id": "2G02ducMlXOg",
        "outputId": "911d3231-c3f1-497f-d685-daf4f0f456c0"
      },
      "execution_count": 4,
      "outputs": [
        {
          "output_type": "stream",
          "name": "stderr",
          "text": [
            "[nltk_data] Downloading package punkt_tab to /root/nltk_data...\n",
            "[nltk_data]   Unzipping tokenizers/punkt_tab.zip.\n"
          ]
        },
        {
          "output_type": "execute_result",
          "data": {
            "text/plain": [
              "True"
            ]
          },
          "metadata": {},
          "execution_count": 4
        }
      ]
    },
    {
      "cell_type": "code",
      "source": [
        "len(docs)"
      ],
      "metadata": {
        "colab": {
          "base_uri": "https://localhost:8080/"
        },
        "id": "ENkaE-gIldOi",
        "outputId": "a2ff10e5-cb7c-488d-a253-e8a89e3d0938"
      },
      "execution_count": 6,
      "outputs": [
        {
          "output_type": "execute_result",
          "data": {
            "text/plain": [
              "1"
            ]
          },
          "metadata": {},
          "execution_count": 6
        }
      ]
    },
    {
      "cell_type": "code",
      "source": [
        "docs[0]"
      ],
      "metadata": {
        "colab": {
          "base_uri": "https://localhost:8080/"
        },
        "id": "qvzK-oEklg09",
        "outputId": "6d2e7208-b528-4061-e7ce-1379d154a72a"
      },
      "execution_count": 7,
      "outputs": [
        {
          "output_type": "execute_result",
          "data": {
            "text/plain": [
              "Document(metadata={'source': '/content/pokemon_data.csv'}, page_content='dexnum,name,generation,type1,type2,species,height,weight,ability1,ability2,hidden_ability,hp,attack,defense,sp_atk,sp_def,speed,total,ev_yield,catch_rate,base_friendship,base_exp,growth_rate,egg_group1,egg_group2,percent_male,percent_female,egg_cycles,special_group\\n0001,Bulbasaur,1,Grass,Poison,Seed Pokémon,0.7,6.9,Overgrow,Chlorophyll,,45,49,49,65,65,45,318,1 Sp. Atk,45,50,64,Medium Slow,Grass ,Monster,87.5,12.5,20,Ordinary\\n0002,Ivysaur,1,Grass,Poison,Seed Pokémon,1.0,13.0,Overgrow,Chlorophyll,,60,62,63,80,80,60,405,\"1 Sp. Atk, 1 Sp. Def\",45,50,142,Medium Slow,Grass ,Monster,87.5,12.5,20,Ordinary\\n0003,Venusaur,1,Grass,Poison,Seed Pokémon,2.0,100.0,Overgrow,Chlorophyll,,80,82,83,100,100,80,525,\"2 Sp. Atk, 1 Sp. Def\",45,50,236,Medium Slow,Grass ,Monster,87.5,12.5,20,Ordinary\\n0004,Charmander,1,Fire,,Lizard Pokémon,0.6,8.5,Blaze,Solar Power,,39,52,43,60,50,65,309,1 Speed,45,50,62,Medium Slow,Dragon ,Monster,87.5,12.5,20,Ordinary\\n0005,Charmeleon,1,Fire,,Flame Pokémon,1.1,19.0,Blaze,Solar Power,,58,64,58,80,65,80,405,\"1 Sp. Atk, 1 Speed\",45,50,142,Medium Slow,Dragon ,Monster,87.5,12.5,20,Ordinary\\n0006,Charizard,1,Fire,Flying,Flame Pokémon,1.7,90.5,Blaze,Solar Power,,78,84,78,109,85,100,534,3 Sp. Atk,45,50,267,Medium Slow,Dragon ,Monster,87.5,12.5,20,Ordinary\\n0007,Squirtle,1,Water,,Tiny Turtle Pokémon,0.5,9.0,Torrent,Rain Dish,,44,48,65,50,64,43,314,1 Defense,45,50,63,Medium Slow,Monster ,Water 1,87.5,12.5,20,Ordinary\\n0008,Wartortle,1,Water,,Turtle Pokémon,1.0,22.5,Torrent,Rain Dish,,59,63,80,65,80,58,405,\"1 Defense, 1 Sp. Def\",45,50,142,Medium Slow,Monster ,Water 1,87.5,12.5,20,Ordinary\\n0009,Blastoise,1,Water,,Shellfish Pokémon,1.6,85.5,Torrent,Rain Dish,,79,83,100,85,105,78,530,3 Sp. Def,45,50,239,Medium Slow,Monster ,Water 1,87.5,12.5,20,Ordinary\\n0010,Caterpie,1,Bug,,Worm Pokémon,0.3,2.9,Shield Dust,Run Away,,45,30,35,20,20,45,195,1 HP,255,50,39,Medium Fast,Bug,,50.0,50.0,15,Ordinary\\n0011,Metapod,1,Bug,,Cocoon Pokémon,0.7,9.9,Shed Skin,,,50,20,55,25,25,30,205,2 Defense,120,50,72,Medium Fast,Bug,,50.0,50.0,15,Ordinary\\n0012,Butterfree,1,Bug,Flying,Butterfly Pokémon,1.1,32.0,Compound Eyes,Tinted Lens,,60,45,50,90,80,70,395,\"2 Sp. Atk, 1 Sp. Def\",45,50,178,Medium Fast,Bug,,50.0,50.0,15,Ordinary\\n0013,Weedle,1,Bug,Poison,Hairy Bug Pokémon,0.3,3.2,Shield Dust,Run Away,,40,35,30,20,20,50,195,1 Speed,255,50,39,Medium Fast,Bug,,50.0,50.0,15,Ordinary\\n0014,Kakuna,1,Bug,Poison,Cocoon Pokémon,0.6,10.0,Shed Skin,,,45,25,50,25,25,35,205,2 Defense,120,50,72,Medium Fast,Bug,,50.0,50.0,15,Ordinary\\n0015,Beedrill,1,Bug,Poison,Poison Bee Pokémon,1.0,29.5,Swarm,Sniper,,65,90,40,45,80,75,395,\"2 Attack, 1 Sp. Def\",45,50,178,Medium Fast,Bug,,50.0,50.0,15,Ordinary\\n0016,Pidgey,1,Normal,Flying,Tiny Bird Pokémon,0.3,1.8,Keen Eye,Tangled Feet,Big Pecks,40,45,40,35,35,56,251,1 Speed,255,50,50,Medium Slow,Flying,,50.0,50.0,15,Ordinary\\n0017,Pidgeotto,1,Normal,Flying,Bird Pokémon,1.1,30.0,Keen Eye,Tangled Feet,Big Pecks,63,60,55,50,50,71,349,2 Speed,120,50,122,Medium Slow,Flying,,50.0,50.0,15,Ordinary\\n0018,Pidgeot,1,Normal,Flying,Bird Pokémon,1.5,39.5,Keen Eye,Tangled Feet,Big Pecks,83,80,75,70,70,101,479,3 Speed,45,50,216,Medium Slow,Flying,,50.0,50.0,15,Ordinary\\n0019,Rattata,1,Normal,,Mouse Pokémon,0.3,3.5,Run Away,Guts,Hustle,30,56,35,25,35,72,253,1 Speed,255,50,51,Medium Fast,Field,,50.0,50.0,15,Ordinary\\n0020,Raticate,1,Normal,,Mouse Pokémon,0.7,18.5,Run Away,Guts,Hustle,55,81,60,50,70,97,413,2 Speed,127,50,145,Medium Fast,Field,,50.0,50.0,15,Ordinary\\n0021,Spearow,1,Normal,Flying,Tiny Bird Pokémon,0.3,2.0,Keen Eye,Sniper,,40,60,30,31,31,70,262,1 Speed,255,50,52,Medium Fast,Flying,,50.0,50.0,15,Ordinary\\n0022,Fearow,1,Normal,Flying,Beak Pokémon,1.2,38.0,Keen Eye,Sniper,,65,90,65,61,61,100,442,2 Speed,90,50,155,Medium Fast,Flying,,50.0,50.0,15,Ordinary\\n0023,Ekans,1,Poison,,Snake Pokémon,2.0,6.9,Intimidate,Shed Skin,Unnerve,35,60,44,40,54,55,288,1 Attack,255,50,58,Medium Fast,Dragon ,Field,50.0,50.0,20,Ordinary\\n0024,Arbok,1,Poison,,Cobra Pokémon,3.5,65.0,Intimidate,Shed Skin,Unnerve,60,95,69,65,79,80,448,2 Attack,90,50,157,Medium Fast,Dragon ,Field,50.0,50.0,20,Ordinary\\n0025,Pikachu,1,Electric,,Mouse Pokémon,0.4,6.0,Static,Lightning Rod,,35,55,40,50,50,90,320,2 Speed,190,50,112,Medium Fast,Fairy ,Field,50.0,50.0,10,Ordinary\\n0026,Raichu,1,Electric,,Mouse Pokémon,0.8,30.0,Static,Lightning Rod,,60,90,55,90,80,110,485,3 Speed,75,50,243,Medium Fast,Fairy ,Field,50.0,50.0,10,Ordinary\\n0027,Sandshrew,1,Ground,,Mouse Pokémon,0.6,12.0,Sand Veil,Sand Rush,,50,75,85,20,30,40,300,1 Defense,255,50,60,Medium Fast,Field,,50.0,50.0,20,Ordinary\\n0028,Sandslash,1,Ground,,Mouse Pokémon,1.0,29.5,Sand Veil,Sand Rush,,75,100,110,45,55,65,450,2 Defense,90,50,158,Medium Fast,Field,,50.0,50.0,20,Ordinary\\n0029,Nidoran♀ (female),1,Poison,,Poison Pin Pokémon,0.4,7.0,Poison Point,Rivalry,Hustle,55,47,52,40,40,41,275,1 HP,235,50,55,Medium Slow,Field ,Monster,0.0,100.0,20,Ordinary\\n0030,Nidorina,1,Poison,,Poison Pin Pokémon,0.8,20.0,Poison Point,Rivalry,Hustle,70,62,67,55,55,56,365,2 HP,120,50,128,Medium Slow,Undiscovered,,0.0,100.0,20,Ordinary\\n0031,Nidoqueen,1,Poison,Ground,Drill Pokémon,1.3,60.0,Poison Point,Rivalry,Sheer Force,90,92,87,75,85,76,505,3 HP,45,50,227,Medium Slow,Undiscovered,,0.0,100.0,20,Ordinary\\n0032,Nidoran♂ (male),1,Poison,,Poison Pin Pokémon,0.5,9.0,Poison Point,Rivalry,Hustle,46,57,40,40,40,50,273,1 Attack,235,50,55,Medium Slow,Field ,Monster,100.0,0.0,20,Ordinary\\n0033,Nidorino,1,Poison,,Poison Pin Pokémon,0.9,19.5,Poison Point,Rivalry,Hustle,61,72,57,55,55,65,365,2 Attack,120,50,128,Medium Slow,Field ,Monster,100.0,0.0,20,Ordinary\\n0034,Nidoking,1,Poison,Ground,Drill Pokémon,1.4,62.0,Poison Point,Rivalry,Sheer Force,81,102,77,85,75,85,505,3 Attack,45,50,227,Medium Slow,Field ,Monster,100.0,0.0,20,Ordinary\\n0035,Clefairy,1,Fairy,,Fairy Pokémon,0.6,7.5,Cute Charm,Magic Guard,Friend Guard,70,45,48,60,65,35,323,2 HP,150,140,113,Fast,Fairy,,25.0,75.0,10,Ordinary\\n0036,Clefable,1,Fairy,,Fairy Pokémon,1.3,40.0,Cute Charm,Magic Guard,Unaware,95,70,73,95,90,60,483,3 HP,25,140,217,Fast,Fairy,,25.0,75.0,10,Ordinary\\n0037,Vulpix,1,Fire,,Fox Pokémon,0.6,9.9,Flash Fire,Drought,,38,41,40,50,65,65,299,1 Speed,190,50,60,Medium Fast,Field,,25.0,75.0,20,Ordinary\\n0038,Ninetales,1,Fire,,Fox Pokémon,1.1,19.9,Flash Fire,Drought,,73,76,75,81,100,100,505,\"1 Sp. Def, 1 Speed\",75,50,177,Medium Fast,Field,,25.0,75.0,20,Ordinary\\n0039,Jigglypuff,1,Normal,Fairy,Balloon Pokémon,0.5,5.5,Cute Charm,Competitive,Friend Guard,115,45,20,45,25,20,270,2 HP,170,50,95,Fast,Fairy,,25.0,75.0,10,Ordinary\\n0040,Wigglytuff,1,Normal,Fairy,Balloon Pokémon,1.0,12.0,Cute Charm,Competitive,Frisk,140,70,45,85,50,45,435,3 HP,50,50,218,Fast,Fairy,,25.0,75.0,10,Ordinary\\n0041,Zubat,1,Poison,Flying,Bat Pokémon,0.8,7.5,Inner Focus,Infiltrator,,40,45,35,30,40,55,245,1 Speed,255,50,49,Medium Fast,Flying,,50.0,50.0,15,Ordinary\\n0042,Golbat,1,Poison,Flying,Bat Pokémon,1.6,55.0,Inner Focus,Infiltrator,,75,80,70,65,75,90,455,2 Speed,90,50,159,Medium Fast,Flying,,50.0,50.0,15,Ordinary\\n0043,Oddish,1,Grass,Poison,Weed Pokémon,0.5,5.4,Chlorophyll,Run Away,,45,50,55,75,65,30,320,1 Sp. Atk,255,50,64,Medium Slow,Grass,,50.0,50.0,20,Ordinary\\n0044,Gloom,1,Grass,Poison,Weed Pokémon,0.8,8.6,Chlorophyll,Stench,,60,65,70,85,75,40,395,2 Sp. Atk,120,50,138,Medium Slow,Grass,,50.0,50.0,20,Ordinary\\n0045,Vileplume,1,Grass,Poison,Flower Pokémon,1.2,18.6,Chlorophyll,Effect Spore,,75,80,85,110,90,50,490,3 Sp. Atk,45,50,221,Medium Slow,Grass,,50.0,50.0,20,Ordinary\\n0046,Paras,1,Bug,Grass,Mushroom Pokémon,0.3,5.4,Effect Spore,Dry Skin,Damp,35,70,55,45,55,25,285,1 Attack,190,50,57,Medium Fast,Bug ,Grass,50.0,50.0,20,Ordinary\\n0047,Parasect,1,Bug,Grass,Mushroom Pokémon,1.0,29.5,Effect Spore,Dry Skin,Damp,60,95,80,60,80,30,405,\"2 Attack, 1 Defense\",75,50,142,Medium Fast,Bug ,Grass,50.0,50.0,20,Ordinary\\n0048,Venonat,1,Bug,Poison,Insect Pokémon,1.0,30.0,Compound Eyes,Tinted Lens,Run Away,60,55,50,40,55,45,305,1 Sp. Def,190,50,61,Medium Fast,Bug,,50.0,50.0,20,Ordinary\\n0049,Venomoth,1,Bug,Poison,Poison Moth Pokémon,1.5,12.5,Shield Dust,Tinted Lens,Wonder Skin,70,65,60,90,75,90,450,\"1 Sp. Atk, 1 Speed\",75,50,158,Medium Fast,Bug,,50.0,50.0,20,Ordinary\\n0050,Diglett,1,Ground,,Mole Pokémon,0.2,0.8,Sand Veil,Arena Trap,Sand Force,10,55,25,35,45,95,265,1 Speed,255,50,53,Medium Fast,Field,,50.0,50.0,20,Ordinary\\n0051,Dugtrio,1,Ground,,Mole Pokémon,0.7,33.3,Sand Veil,Arena Trap,Sand Force,35,100,50,50,70,120,425,2 Speed,50,50,149,Medium Fast,Field,,50.0,50.0,20,Ordinary\\n0052,Meowth,1,Normal,,Scratch Cat Pokémon,0.4,4.2,Pickup,Technician,Unnerve,40,45,35,40,40,90,290,1 Speed,255,50,58,Medium Fast,Field,,50.0,50.0,20,Ordinary\\n0053,Persian,1,Normal,,Classy Cat Pokémon,1.0,32.0,Limber,Technician,Unnerve,65,70,60,65,65,115,440,2 Speed,90,50,154,Medium Fast,Field,,50.0,50.0,20,Ordinary\\n0054,Psyduck,1,Water,,Duck Pokémon,0.8,19.6,Damp,Cloud Nine,Swift Swim,50,52,48,65,50,55,320,1 Sp. Atk,190,50,64,Medium Fast,Field ,Water 1,50.0,50.0,20,Ordinary\\n0055,Golduck,1,Water,,Duck Pokémon,1.7,76.6,Damp,Cloud Nine,Swift Swim,80,82,78,95,80,85,500,2 Sp. Atk,75,50,175,Medium Fast,Field ,Water 1,50.0,50.0,20,Ordinary\\n0056,Mankey,1,Fighting,,Pig Monkey Pokémon,0.5,28.0,Vital Spirit,Anger Point,Defiant,40,80,35,35,45,70,305,1 Attack,190,50,61,Medium Fast,Field,,50.0,50.0,20,Ordinary\\n0057,Primeape,1,Fighting,,Pig Monkey Pokémon,1.0,32.0,Vital Spirit,Anger Point,Defiant,65,105,60,60,70,95,455,2 Attack,75,50,159,Medium Fast,Field,,50.0,50.0,20,Ordinary\\n0058,Growlithe,1,Fire,,Puppy Pokémon,0.7,19.0,Intimidate,Flash Fire,Justified,55,70,45,70,50,60,350,1 Attack,190,50,70,Slow,Field,,75.0,25.0,20,Ordinary\\n0059,Arcanine,1,Fire,,Legendary Pokémon,1.9,155.0,Intimidate,Flash Fire,Justified,90,110,80,100,80,95,555,2 Attack,75,50,194,Slow,Field,,75.0,25.0,20,Ordinary\\n0060,Poliwag,1,Water,,Tadpole Pokémon,0.6,12.4,Water Absorb,Damp,Swift Swim,40,50,40,40,40,90,300,1 Speed,255,50,60,Medium Slow,Water 1,,50.0,50.0,20,Ordinary\\n0061,Poliwhirl,1,Water,,Tadpole Pokémon,1.0,20.0,Water Absorb,Damp,Swift Swim,65,65,65,50,50,90,385,2 Speed,120,50,135,Medium Slow,Water 1,,50.0,50.0,20,Ordinary\\n0062,Poliwrath,1,Water,Fighting,Tadpole Pokémon,1.3,54.0,Water Absorb,Damp,Swift Swim,90,95,95,70,90,70,510,3 Defense,45,50,230,Medium Slow,Water 1,,50.0,50.0,20,Ordinary\\n0063,Abra,1,Psychic,,Psi Pokémon,0.9,19.5,Synchronize,Inner Focus,Magic Guard,25,20,15,105,55,90,310,1 Sp. Atk,200,50,62,Medium Slow,Human-Like,,75.0,25.0,20,Ordinary\\n0064,Kadabra,1,Psychic,,Psi Pokémon,1.3,56.5,Synchronize,Inner Focus,Magic Guard,40,35,30,120,70,105,400,2 Sp. Atk,100,50,140,Medium Slow,Human-Like,,75.0,25.0,20,Ordinary\\n0065,Alakazam,1,Psychic,,Psi Pokémon,1.5,48.0,Synchronize,Inner Focus,Magic Guard,55,50,45,135,95,120,500,3 Sp. Atk,50,50,225,Medium Slow,Human-Like,,75.0,25.0,20,Ordinary\\n0066,Machop,1,Fighting,,Superpower Pokémon,0.8,19.5,Guts,No Guard,Steadfast,70,80,50,35,35,35,305,1 Attack,180,50,61,Medium Slow,Human-Like,,75.0,25.0,20,Ordinary\\n0067,Machoke,1,Fighting,,Superpower Pokémon,1.5,70.5,Guts,No Guard,Steadfast,80,100,70,50,60,45,405,2 Attack,90,50,142,Medium Slow,Human-Like,,75.0,25.0,20,Ordinary\\n0068,Machamp,1,Fighting,,Superpower Pokémon,1.6,130.0,Guts,No Guard,Steadfast,90,130,80,65,85,55,505,3 Attack,45,50,227,Medium Slow,Human-Like,,75.0,25.0,20,Ordinary\\n0069,Bellsprout,1,Grass,Poison,Flower Pokémon,0.7,4.0,Chlorophyll,Gluttony,,50,75,35,70,30,40,300,1 Attack,255,50,60,Medium Slow,Grass,,50.0,50.0,20,Ordinary\\n0070,Weepinbell,1,Grass,Poison,Flycatcher Pokémon,1.0,6.4,Chlorophyll,Gluttony,,65,90,50,85,45,55,390,2 Attack,120,50,137,Medium Slow,Grass,,50.0,50.0,20,Ordinary\\n0071,Victreebel,1,Grass,Poison,Flycatcher Pokémon,1.7,15.5,Chlorophyll,Gluttony,,80,105,65,100,70,70,490,3 Attack,45,50,221,Medium Slow,Grass,,50.0,50.0,20,Ordinary\\n0072,Tentacool,1,Water,Poison,Jellyfish Pokémon,0.9,45.5,Clear Body,Liquid Ooze,Rain Dish,40,40,35,50,100,70,335,1 Sp. Def,190,50,67,Slow,Water 3,,50.0,50.0,20,Ordinary\\n0073,Tentacruel,1,Water,Poison,Jellyfish Pokémon,1.6,55.0,Clear Body,Liquid Ooze,Rain Dish,80,70,65,80,120,100,515,2 Sp. Def,60,50,180,Slow,Water 3,,50.0,50.0,20,Ordinary\\n0074,Geodude,1,Rock,Ground,Rock Pokémon,0.4,20.0,Rock Head,Sturdy,Sand Veil,40,80,100,30,30,20,300,1 Defense,255,50,60,Medium Slow,Mineral,,50.0,50.0,15,Ordinary\\n0075,Graveler,1,Rock,Ground,Rock Pokémon,1.0,105.0,Rock Head,Sturdy,Sand Veil,55,95,115,45,45,35,390,2 Defense,120,50,137,Medium Slow,Mineral,,50.0,50.0,15,Ordinary\\n0076,Golem,1,Rock,Ground,Megaton Pokémon,1.4,300.0,Rock Head,Sturdy,Sand Veil,80,120,130,55,65,45,495,3 Defense,45,50,223,Medium Slow,Mineral,,50.0,50.0,15,Ordinary\\n0077,Ponyta,1,Fire,,Fire Horse Pokémon,1.0,30.0,Run Away,Flash Fire,Flame Body,50,85,55,65,65,90,410,1 Speed,190,50,82,Medium Fast,Field,,50.0,50.0,20,Ordinary\\n0078,Rapidash,1,Fire,,Fire Horse Pokémon,1.7,95.0,Run Away,Flash Fire,Flame Body,65,100,70,80,80,105,500,2 Speed,60,50,175,Medium Fast,Field,,50.0,50.0,20,Ordinary\\n0079,Slowpoke,1,Water,Psychic,Dopey Pokémon,1.2,36.0,Oblivious,Own Tempo,Regenerator,90,65,65,40,40,15,315,1 HP,190,50,63,Medium Fast,Monster ,Water 1,50.0,50.0,20,Ordinary\\n0080,Slowbro,1,Water,Psychic,Hermit Crab Pokémon,1.6,78.5,Oblivious,Own Tempo,Regenerator,95,75,110,100,80,30,490,2 Defense,75,50,172,Medium Fast,Monster ,Water 1,50.0,50.0,20,Ordinary\\n0081,Magnemite,1,Electric,Steel,Magnet Pokémon,0.3,6.0,Magnet Pull,Sturdy,Analytic,25,35,70,95,55,45,325,1 Sp. Atk,190,50,65,Medium Fast,Mineral,,,,20,Ordinary\\n0082,Magneton,1,Electric,Steel,Magnet Pokémon,1.0,60.0,Magnet Pull,Sturdy,Analytic,50,60,95,120,70,70,465,2 Sp. Atk,60,50,163,Medium Fast,Mineral,,,,20,Ordinary\\n0083,Farfetch\\'d,1,Normal,Flying,Wild Duck Pokémon,0.8,15.0,Keen Eye,Inner Focus,Defiant,52,90,55,58,62,60,377,1 Attack,45,50,132,Medium Fast,Field ,Flying,50.0,50.0,20,Ordinary\\n0084,Doduo,1,Normal,Flying,Twin Bird Pokémon,1.4,39.2,Run Away,Early Bird,Tangled Feet,35,85,45,35,35,75,310,1 Attack,190,50,62,Medium Fast,Flying,,50.0,50.0,20,Ordinary\\n0085,Dodrio,1,Normal,Flying,Triple Bird Pokémon,1.8,85.2,Run Away,Early Bird,Tangled Feet,60,110,70,60,60,110,470,2 Attack,45,50,165,Medium Fast,Flying,,50.0,50.0,20,Ordinary\\n0086,Seel,1,Water,,Sea Lion Pokémon,1.1,90.0,Thick Fat,Hydration,Ice Body,65,45,55,45,70,45,325,1 Sp. Def,190,50,65,Medium Fast,Field ,Water 1,50.0,50.0,20,Ordinary\\n0087,Dewgong,1,Water,Ice,Sea Lion Pokémon,1.7,120.0,Thick Fat,Hydration,Ice Body,90,70,80,70,95,70,475,2 Sp. Def,75,50,166,Medium Fast,Field ,Water 1,50.0,50.0,20,Ordinary\\n0088,Grimer,1,Poison,,Sludge Pokémon,0.9,30.0,Stench,Sticky Hold,Poison Touch,80,80,50,40,50,25,325,1 HP,190,50,65,Medium Fast,Amorphous,,50.0,50.0,20,Ordinary\\n0089,Muk,1,Poison,,Sludge Pokémon,1.2,30.0,Stench,Sticky Hold,Poison Touch,105,105,75,65,100,50,500,\"1 HP, 1 Attack\",75,50,175,Medium Fast,Amorphous,,50.0,50.0,20,Ordinary\\n0090,Shellder,1,Water,,Bivalve Pokémon,0.3,4.0,Shell Armor,Skill Link,Overcoat,30,65,100,45,25,40,305,1 Defense,190,50,61,Slow,Water 3,,50.0,50.0,20,Ordinary\\n0091,Cloyster,1,Water,Ice,Bivalve Pokémon,1.5,132.5,Shell Armor,Skill Link,Overcoat,50,95,180,85,45,70,525,2 Defense,60,50,184,Slow,Water 3,,50.0,50.0,20,Ordinary\\n0092,Gastly,1,Ghost,Poison,Gas Pokémon,1.3,0.1,Levitate,,,30,35,30,100,35,80,310,1 Sp. Atk,190,50,62,Medium Slow,Amorphous,,50.0,50.0,20,Ordinary\\n0093,Haunter,1,Ghost,Poison,Gas Pokémon,1.6,0.1,Levitate,,,45,50,45,115,55,95,405,2 Sp. Atk,90,50,142,Medium Slow,Amorphous,,50.0,50.0,20,Ordinary\\n0094,Gengar,1,Ghost,Poison,Shadow Pokémon,1.5,40.5,Cursed Body,,,60,65,60,130,75,110,500,3 Sp. Atk,45,50,250,Medium Slow,Amorphous,,50.0,50.0,20,Ordinary\\n0095,Onix,1,Rock,Ground,Rock Snake Pokémon,8.8,210.0,Rock Head,Sturdy,Weak Armor,35,45,160,30,45,70,385,1 Defense,45,50,77,Medium Fast,Mineral,,50.0,50.0,25,Ordinary\\n0096,Drowzee,1,Psychic,,Hypnosis Pokémon,1.0,32.4,Insomnia,Forewarn,Inner Focus,60,48,45,43,90,42,328,1 Sp. Def,190,50,66,Medium Fast,Human-Like,,50.0,50.0,20,Ordinary\\n0097,Hypno,1,Psychic,,Hypnosis Pokémon,1.6,75.6,Insomnia,Forewarn,Inner Focus,85,73,70,73,115,67,483,2 Sp. Def,75,50,169,Medium Fast,Human-Like,,50.0,50.0,20,Ordinary\\n0098,Krabby,1,Water,,River Crab Pokémon,0.4,6.5,Hyper Cutter,Shell Armor,Sheer Force,30,105,90,25,25,50,325,1 Attack,225,50,65,Medium Fast,Water 3,,50.0,50.0,20,Ordinary\\n0099,Kingler,1,Water,,Pincer Pokémon,1.3,60.0,Hyper Cutter,Shell Armor,Sheer Force,55,130,115,50,50,75,475,2 Attack,60,50,166,Medium Fast,Water 3,,50.0,50.0,20,Ordinary\\n0100,Voltorb,1,Electric,,Ball Pokémon,0.5,10.4,Soundproof,Static,Aftermath,40,30,50,55,55,100,330,1 Speed,190,50,66,Medium Fast,Mineral,,,,20,Ordinary\\n0101,Electrode,1,Electric,,Ball Pokémon,1.2,66.6,Soundproof,Static,Aftermath,60,50,70,80,80,150,490,2 Speed,60,50,172,Medium Fast,Mineral,,,,20,Ordinary\\n0102,Exeggcute,1,Grass,Psychic,Egg Pokémon,0.4,2.5,Chlorophyll,Harvest,,60,40,80,60,45,40,325,1 Defense,90,50,65,Slow,Grass,,50.0,50.0,20,Ordinary\\n0103,Exeggutor,1,Grass,Psychic,Coconut Pokémon,2.0,120.0,Chlorophyll,Harvest,,95,95,85,125,75,55,530,2 Sp. Atk,45,50,186,Slow,Grass,,50.0,50.0,20,Ordinary\\n0104,Cubone,1,Ground,,Lonely Pokémon,0.4,6.5,Rock Head,Lightning Rod,Battle Armor,50,50,95,40,50,35,320,1 Defense,190,50,64,Medium Fast,Monster,,50.0,50.0,20,Ordinary\\n0105,Marowak,1,Ground,,Bone Keeper Pokémon,1.0,45.0,Rock Head,Lightning Rod,Battle Armor,60,80,110,50,80,45,425,2 Defense,75,50,149,Medium Fast,Monster,,50.0,50.0,20,Ordinary\\n0106,Hitmonlee,1,Fighting,,Kicking Pokémon,1.5,49.8,Limber,Reckless,Unburden,50,120,53,35,110,87,455,2 Attack,45,50,159,Medium Fast,Human-Like,,100.0,0.0,25,Ordinary\\n0107,Hitmonchan,1,Fighting,,Punching Pokémon,1.4,50.2,Keen Eye,Iron Fist,Inner Focus,50,105,79,35,110,76,455,2 Sp. Def,45,50,159,Medium Fast,Human-Like,,100.0,0.0,25,Ordinary\\n0108,Lickitung,1,Normal,,Licking Pokémon,1.2,65.5,Own Tempo,Oblivious,Cloud Nine,90,55,75,60,75,30,385,2 HP,45,50,77,Medium Fast,Monster,,50.0,50.0,20,Ordinary\\n0109,Koffing,1,Poison,,Poison Gas Pokémon,0.6,1.0,Levitate,Neutralizing Gas,Stench,40,65,95,60,45,35,340,1 Defense,190,50,68,Medium Fast,Amorphous,,50.0,50.0,20,Ordinary\\n0110,Weezing,1,Poison,,Poison Gas Pokémon,1.2,9.5,Levitate,Neutralizing Gas,Stench,65,90,120,85,70,60,490,2 Defense,60,50,172,Medium Fast,Amorphous,,50.0,50.0,20,Ordinary\\n0111,Rhyhorn,1,Ground,Rock,Spikes Pokémon,1.0,115.0,Lightning Rod,Rock Head,Reckless,80,85,95,30,30,25,345,1 Defense,120,50,69,Slow,Field ,Monster,50.0,50.0,20,Ordinary\\n0112,Rhydon,1,Ground,Rock,Drill Pokémon,1.9,120.0,Lightning Rod,Rock Head,Reckless,105,130,120,45,45,40,485,2 Attack,60,50,170,Slow,Field ,Monster,50.0,50.0,20,Ordinary\\n0113,Chansey,1,Normal,,Egg Pokémon,1.1,34.6,Natural Cure,Serene Grace,Healer,250,5,5,35,105,50,450,2 HP,30,140,395,Fast,Fairy,,0.0,100.0,40,Ordinary\\n0114,Tangela,1,Grass,,Vine Pokémon,1.0,35.0,Chlorophyll,Leaf Guard,Regenerator,65,55,115,100,40,60,435,1 Defense,45,50,87,Medium Fast,Grass,,50.0,50.0,20,Ordinary\\n0115,Kangaskhan,1,Normal,,Parent Pokémon,2.2,80.0,Early Bird,Scrappy,Inner Focus,105,95,80,40,80,90,490,2 HP,45,50,172,Medium Fast,Monster,,0.0,100.0,20,Ordinary\\n0116,Horsea,1,Water,,Dragon Pokémon,0.4,8.0,Swift Swim,Sniper,Damp,30,40,70,70,25,60,295,1 Sp. Atk,225,50,59,Medium Fast,Dragon ,Water 1,50.0,50.0,20,Ordinary\\n0117,Seadra,1,Water,,Dragon Pokémon,1.2,25.0,Poison Point,Sniper,Damp,55,65,95,95,45,85,440,\"1 Defense, 1 Sp. Atk\",75,50,154,Medium Fast,Dragon ,Water 1,50.0,50.0,20,Ordinary\\n0118,Goldeen,1,Water,,Goldfish Pokémon,0.6,15.0,Swift Swim,Water Veil,Lightning Rod,45,67,60,35,50,63,320,1 Attack,225,50,64,Medium Fast,Water 2,,50.0,50.0,20,Ordinary\\n0119,Seaking,1,Water,,Goldfish Pokémon,1.3,39.0,Swift Swim,Water Veil,Lightning Rod,80,92,65,65,80,68,450,2 Attack,60,50,158,Medium Fast,Water 2,,50.0,50.0,20,Ordinary\\n0120,Staryu,1,Water,,Star Shape Pokémon,0.8,34.5,Illuminate,Natural Cure,Analytic,30,45,55,70,55,85,340,1 Speed,225,50,68,Slow,Water 3,,,,20,Ordinary\\n0121,Starmie,1,Water,Psychic,Mysterious Pokémon,1.1,80.0,Illuminate,Natural Cure,Analytic,60,75,85,100,85,115,520,2 Speed,60,50,182,Slow,Water 3,,,,20,Ordinary\\n0122,Mr. Mime,1,Psychic,Fairy,Barrier Pokémon,1.3,54.5,Soundproof,Filter,Technician,40,45,65,100,120,90,460,2 Sp. Def,45,50,161,Medium Fast,Human-Like,,50.0,50.0,25,Ordinary\\n0123,Scyther,1,Bug,Flying,Mantis Pokémon,1.5,56.0,Swarm,Technician,Steadfast,70,110,80,55,80,105,500,1 Attack,45,50,100,Medium Fast,Bug,,50.0,50.0,25,Ordinary\\n0124,Jynx,1,Ice,Psychic,Human Shape Pokémon,1.4,40.6,Oblivious,Forewarn,Dry Skin,65,50,35,115,95,95,455,2 Sp. Atk,45,50,159,Medium Fast,Human-Like,,0.0,100.0,25,Ordinary\\n0125,Electabuzz,1,Electric,,Electric Pokémon,1.1,30.0,Static,Vital Spirit,,65,83,57,95,85,105,490,2 Speed,45,50,172,Medium Fast,Human-Like,,75.0,25.0,25,Ordinary\\n0126,Magmar,1,Fire,,Spitfire Pokémon,1.3,44.5,Flame Body,Vital Spirit,,65,95,57,100,85,93,495,2 Sp. Atk,45,50,173,Medium Fast,Human-Like,,75.0,25.0,25,Ordinary\\n0127,Pinsir,1,Bug,,Stag Beetle Pokémon,1.5,55.0,Hyper Cutter,Mold Breaker,Moxie,65,125,100,55,70,85,500,2 Attack,45,50,175,Slow,Bug,,50.0,50.0,25,Ordinary\\n0128,Tauros,1,Normal,,Wild Bull Pokémon,1.4,88.4,Intimidate,Anger Point,Sheer Force,75,100,95,40,70,110,490,\"1 Attack, 1 Speed\",45,50,172,Slow,Field,,100.0,0.0,20,Ordinary\\n0129,Magikarp,1,Water,,Fish Pokémon,0.9,10.0,Swift Swim,Rattled,,20,10,55,15,20,80,200,1 Speed,255,50,40,Slow,Dragon ,Water 2,50.0,50.0,5,Ordinary\\n0130,Gyarados,1,Water,Flying,Atrocious Pokémon,6.5,235.0,Intimidate,Moxie,,95,125,79,60,100,81,540,2 Attack,45,50,189,Slow,Dragon ,Water 2,50.0,50.0,5,Ordinary\\n0131,Lapras,1,Water,Ice,Transport Pokémon,2.5,220.0,Water Absorb,Shell Armor,Hydration,130,85,80,85,95,60,535,2 HP,45,50,187,Slow,Monster ,Water 1,50.0,50.0,40,Ordinary\\n0132,Ditto,1,Normal,,Transform Pokémon,0.3,4.0,Limber,Imposter,,48,48,48,48,48,48,288,1 HP,35,50,101,Medium Fast,Ditto,,,,20,Ordinary\\n0133,Eevee,1,Normal,,Evolution Pokémon,0.3,6.5,Run Away,Adaptability,Anticipation,55,55,50,45,65,55,325,1 Sp. Def,45,50,65,Medium Fast,Field,,87.5,12.5,35,Ordinary\\n0134,Vaporeon,1,Water,,Bubble Jet Pokémon,1.0,29.0,Water Absorb,Hydration,,130,65,60,110,95,65,525,2 HP,45,50,184,Medium Fast,Field,,87.5,12.5,35,Ordinary\\n0135,Jolteon,1,Electric,,Lightning Pokémon,0.8,24.5,Volt Absorb,Quick Feet,,65,65,60,110,95,130,525,2 Speed,45,50,184,Medium Fast,Field,,87.5,12.5,35,Ordinary\\n0136,Flareon,1,Fire,,Flame Pokémon,0.9,25.0,Flash Fire,Guts,,65,130,60,95,110,65,525,2 Attack,45,50,184,Medium Fast,Field,,87.5,12.5,35,Ordinary\\n0137,Porygon,1,Normal,,Virtual Pokémon,0.8,36.5,Trace,Download,Analytic,65,60,70,85,75,40,395,1 Sp. Atk,45,50,79,Medium Fast,Mineral,,,,20,Ordinary\\n0138,Omanyte,1,Rock,Water,Spiral Pokémon,0.4,7.5,Swift Swim,Shell Armor,Weak Armor,35,40,100,90,55,35,355,1 Defense,45,50,71,Medium Fast,Water 1 ,Water 3,87.5,12.5,30,Fossil\\n0139,Omastar,1,Rock,Water,Spiral Pokémon,1.0,35.0,Swift Swim,Shell Armor,Weak Armor,70,60,125,115,70,55,495,2 Defense,45,50,173,Medium Fast,Water 1 ,Water 3,87.5,12.5,30,Fossil\\n0140,Kabuto,1,Rock,Water,Shellfish Pokémon,0.5,11.5,Swift Swim,Battle Armor,Weak Armor,30,80,90,55,45,55,355,1 Defense,45,50,71,Medium Fast,Water 1 ,Water 3,87.5,12.5,30,Fossil\\n0141,Kabutops,1,Rock,Water,Shellfish Pokémon,1.3,40.5,Swift Swim,Battle Armor,Weak Armor,60,115,105,65,70,80,495,2 Attack,45,50,173,Medium Fast,Water 1 ,Water 3,87.5,12.5,30,Fossil\\n0142,Aerodactyl,1,Rock,Flying,Fossil Pokémon,1.8,59.0,Rock Head,Pressure,Unnerve,80,105,65,60,75,130,515,2 Speed,45,50,180,Slow,Flying,,87.5,12.5,35,Fossil\\n0143,Snorlax,1,Normal,,Sleeping Pokémon,2.1,460.0,Immunity,Thick Fat,Gluttony,160,110,65,65,110,30,540,2 HP,25,50,189,Slow,Monster,,87.5,12.5,40,Ordinary\\n0144,Articuno,1,Ice,Flying,Freeze Pokémon,1.7,55.4,Pressure,Snow Cloak,,90,85,100,95,125,85,580,3 Sp. Def,3,35,290,Slow,Undiscovered,,,,80,Legendary\\n0145,Zapdos,1,Electric,Flying,Electric Pokémon,1.6,52.6,Pressure,Static,,90,90,85,125,90,100,580,3 Sp. Atk,3,35,290,Slow,Undiscovered,,,,80,Legendary\\n0146,Moltres,1,Fire,Flying,Flame Pokémon,2.0,60.0,Pressure,Flame Body,,90,100,90,125,85,90,580,3 Sp. Atk,3,35,290,Slow,Undiscovered,,,,80,Legendary\\n0147,Dratini,1,Dragon,,Dragon Pokémon,1.8,3.3,Shed Skin,Marvel Scale,,41,64,45,50,50,50,300,1 Attack,45,35,60,Slow,Dragon ,Water 1,50.0,50.0,40,Ordinary\\n0148,Dragonair,1,Dragon,,Dragon Pokémon,4.0,16.5,Shed Skin,Marvel Scale,,61,84,65,70,70,70,420,2 Attack,45,35,147,Slow,Dragon ,Water 1,50.0,50.0,40,Ordinary\\n0149,Dragonite,1,Dragon,Flying,Dragon Pokémon,2.2,210.0,Inner Focus,Multiscale,,91,134,95,100,100,80,600,3 Attack,45,35,300,Slow,Dragon ,Water 1,50.0,50.0,40,Ordinary\\n0150,Mewtwo,1,Psychic,,Genetic Pokémon,2.0,122.0,Pressure,Unnerve,,106,110,90,154,90,130,680,3 Sp. Atk,3,0,340,Slow,Undiscovered,,,,120,Legendary\\n0151,Mew,1,Psychic,,New Species Pokémon,0.4,4.0,Synchronize,,,100,100,100,100,100,100,600,3 HP,45,100,300,Medium Slow,Undiscovered,,,,120,Mythical\\n0152,Chikorita,2,Grass,,Leaf Pokémon,0.9,6.4,Overgrow,Leaf Guard,,45,49,65,49,65,45,318,1 Sp. Def,45,50,64,Medium Slow,Grass ,Monster,87.5,12.5,20,Ordinary\\n0153,Bayleef,2,Grass,,Leaf Pokémon,1.2,15.8,Overgrow,Leaf Guard,,60,62,80,63,80,60,405,\"1 Defense, 1 Sp. Def\",45,50,142,Medium Slow,Grass ,Monster,87.5,12.5,20,Ordinary\\n0154,Meganium,2,Grass,,Herb Pokémon,1.8,100.5,Overgrow,Leaf Guard,,80,82,100,83,100,80,525,\"1 Defense, 2 Sp. Def\",45,50,236,Medium Slow,Grass ,Monster,87.5,12.5,20,Ordinary\\n0155,Cyndaquil,2,Fire,,Fire Mouse Pokémon,0.5,7.9,Blaze,Flash Fire,,39,52,43,60,50,65,309,1 Speed,45,50,62,Medium Slow,Field,,87.5,12.5,20,Ordinary\\n0156,Quilava,2,Fire,,Volcano Pokémon,0.9,19.0,Blaze,Flash Fire,,58,64,58,80,65,80,405,\"1 Sp. Atk, 1 Speed\",45,50,142,Medium Slow,Field,,87.5,12.5,20,Ordinary\\n0157,Typhlosion,2,Fire,,Volcano Pokémon,1.7,79.5,Blaze,Flash Fire,,78,84,78,109,85,100,534,3 Sp. Atk,45,50,267,Medium Slow,Field,,87.5,12.5,20,Ordinary\\n0158,Totodile,2,Water,,Big Jaw Pokémon,0.6,9.5,Torrent,Sheer Force,,50,65,64,44,48,43,314,1 Attack,45,50,63,Medium Slow,Monster ,Water 1,87.5,12.5,20,Ordinary\\n0159,Croconaw,2,Water,,Big Jaw Pokémon,1.1,25.0,Torrent,Sheer Force,,65,80,80,59,63,58,405,\"1 Attack, 1 Defense\",45,50,142,Medium Slow,Monster ,Water 1,87.5,12.5,20,Ordinary\\n0160,Feraligatr,2,Water,,Big Jaw Pokémon,2.3,88.8,Torrent,Sheer Force,,85,105,100,79,83,78,530,\"2 Attack, 1 Defense\",45,50,239,Medium Slow,Monster ,Water 1,87.5,12.5,20,Ordinary\\n0161,Sentret,2,Normal,,Scout Pokémon,0.8,6.0,Run Away,Keen Eye,Frisk,35,46,34,35,45,20,215,1 Attack,255,50,43,Medium Fast,Field,,50.0,50.0,15,Ordinary\\n0162,Furret,2,Normal,,Long Body Pokémon,1.8,32.5,Run Away,Keen Eye,Frisk,85,76,64,45,55,90,415,2 Speed,90,50,145,Medium Fast,Field,,50.0,50.0,15,Ordinary\\n0163,Hoothoot,2,Normal,Flying,Owl Pokémon,0.7,21.2,Insomnia,Keen Eye,Tinted Lens,60,30,30,36,56,50,262,1 HP,255,50,52,Medium Fast,Flying,,50.0,50.0,15,Ordinary\\n0164,Noctowl,2,Normal,Flying,Owl Pokémon,1.6,40.8,Insomnia,Keen Eye,Tinted Lens,100,50,50,86,96,70,452,2 HP,90,50,158,Medium Fast,Flying,,50.0,50.0,15,Ordinary\\n0165,Ledyba,2,Bug,Flying,Five Star Pokémon,1.0,10.8,Swarm,Early Bird,Rattled,40,20,30,40,80,55,265,1 Sp. Def,255,50,53,Fast,Bug,,50.0,50.0,15,Ordinary\\n0166,Ledian,2,Bug,Flying,Five Star Pokémon,1.4,35.6,Swarm,Early Bird,Iron Fist,55,35,50,55,110,85,390,2 Sp. Def,90,50,137,Fast,Bug,,50.0,50.0,15,Ordinary\\n0167,Spinarak,2,Bug,Poison,String Spit Pokémon,0.5,8.5,Swarm,Insomnia,Sniper,40,60,40,40,40,30,250,1 Attack,255,50,50,Fast,Bug,,50.0,50.0,15,Ordinary\\n0168,Ariados,2,Bug,Poison,Long Leg Pokémon,1.1,33.5,Swarm,Insomnia,Sniper,70,90,70,60,70,40,400,2 Attack,90,50,140,Fast,Bug,,50.0,50.0,15,Ordinary\\n0169,Crobat,2,Poison,Flying,Bat Pokémon,1.8,75.0,Inner Focus,Infiltrator,,85,90,80,70,80,130,535,3 Speed,90,50,241,Medium Fast,Flying,,50.0,50.0,15,Ordinary\\n0170,Chinchou,2,Water,Electric,Angler Pokémon,0.5,12.0,Volt Absorb,Illuminate,Water Absorb,75,38,38,56,56,67,330,1 HP,190,50,66,Slow,Water 2,,50.0,50.0,20,Ordinary\\n0171,Lanturn,2,Water,Electric,Light Pokémon,1.2,22.5,Volt Absorb,Illuminate,Water Absorb,125,58,58,76,76,67,460,2 HP,75,50,161,Slow,Water 2,,50.0,50.0,20,Ordinary\\n0172,Pichu,2,Electric,,Tiny Mouse Pokémon,0.3,2.0,Static,Lightning Rod,,20,40,15,35,35,60,205,1 Speed,190,50,41,Medium Fast,Undiscovered,,50.0,50.0,10,Baby Pokemon\\n0173,Cleffa,2,Fairy,,Star Shape Pokémon,0.3,3.0,Cute Charm,Magic Guard,Friend Guard,50,25,28,45,55,15,218,1 Sp. Def,150,140,44,Fast,Undiscovered,,25.0,75.0,10,Baby Pokemon\\n0174,Igglybuff,2,Normal,Fairy,Balloon Pokémon,0.3,1.0,Cute Charm,Competitive,Friend Guard,90,30,15,40,20,15,210,1 HP,170,50,42,Fast,Undiscovered,,25.0,75.0,10,Baby Pokemon\\n0175,Togepi,2,Fairy,,Spike Ball Pokémon,0.3,1.5,Hustle,Serene Grace,Super Luck,35,20,65,40,65,20,245,1 Sp. Def,190,50,49,Fast,Undiscovered,,87.5,12.5,10,Baby Pokemon\\n0176,Togetic,2,Fairy,Flying,Happiness Pokémon,0.6,3.2,Hustle,Serene Grace,Super Luck,55,40,85,80,105,40,405,2 Sp. Def,75,50,142,Fast,Fairy ,Flying,87.5,12.5,10,Ordinary\\n0177,Natu,2,Psychic,Flying,Tiny Bird Pokémon,0.2,2.0,Synchronize,Early Bird,Magic Bounce,40,50,45,70,45,70,320,1 Sp. Atk,190,50,64,Medium Fast,Flying,,50.0,50.0,20,Ordinary\\n0178,Xatu,2,Psychic,Flying,Mystic Pokémon,1.5,15.0,Synchronize,Early Bird,Magic Bounce,65,75,70,95,70,95,470,\"1 Sp. Atk, 1 Speed\",75,50,165,Medium Fast,Flying,,50.0,50.0,20,Ordinary\\n0179,Mareep,2,Electric,,Wool Pokémon,0.6,7.8,Static,Plus,,55,40,40,65,45,35,280,1 Sp. Atk,235,50,56,Medium Slow,Field ,Monster,50.0,50.0,20,Ordinary\\n0180,Flaaffy,2,Electric,,Wool Pokémon,0.8,13.3,Static,Plus,,70,55,55,80,60,45,365,2 Sp. Atk,120,50,128,Medium Slow,Field ,Monster,50.0,50.0,20,Ordinary\\n0181,Ampharos,2,Electric,,Light Pokémon,1.4,61.5,Static,Plus,,90,75,85,115,90,55,510,3 Sp. Atk,45,50,255,Medium Slow,Field ,Monster,50.0,50.0,20,Ordinary\\n0182,Bellossom,2,Grass,,Flower Pokémon,0.4,5.8,Chlorophyll,Healer,,75,80,95,90,100,50,490,3 Sp. Def,45,50,221,Medium Slow,Grass,,50.0,50.0,20,Ordinary\\n0183,Marill,2,Water,Fairy,Aqua Mouse Pokémon,0.4,8.5,Thick Fat,Huge Power,Sap Sipper,70,20,50,20,50,40,250,2 HP,190,50,88,Fast,Fairy ,Water 1,50.0,50.0,10,Ordinary\\n0184,Azumarill,2,Water,Fairy,Aqua Rabbit Pokémon,0.8,28.5,Thick Fat,Huge Power,Sap Sipper,100,50,80,60,80,50,420,3 HP,75,50,210,Fast,Fairy ,Water 1,50.0,50.0,10,Ordinary\\n0185,Sudowoodo,2,Rock,,Imitation Pokémon,1.2,38.0,Sturdy,Rock Head,Rattled,70,100,115,30,65,30,410,2 Defense,65,50,144,Medium Fast,Mineral,,50.0,50.0,20,Ordinary\\n0186,Politoed,2,Water,,Frog Pokémon,1.1,33.9,Water Absorb,Damp,Drizzle,90,75,75,90,100,70,500,3 Sp. Def,45,50,225,Medium Slow,Water 1,,50.0,50.0,20,Ordinary\\n0187,Hoppip,2,Grass,Flying,Cottonweed Pokémon,0.4,0.5,Chlorophyll,Leaf Guard,Infiltrator,35,35,40,35,55,50,250,1 Sp. Def,255,50,50,Medium Slow,Fairy ,Grass,50.0,50.0,20,Ordinary\\n0188,Skiploom,2,Grass,Flying,Cottonweed Pokémon,0.6,1.0,Chlorophyll,Leaf Guard,Infiltrator,55,45,50,45,65,80,340,2 Speed,120,50,119,Medium Slow,Fairy ,Grass,50.0,50.0,20,Ordinary\\n0189,Jumpluff,2,Grass,Flying,Cottonweed Pokémon,0.8,3.0,Chlorophyll,Leaf Guard,Infiltrator,75,55,70,55,95,110,460,3 Speed,45,50,230,Medium Slow,Fairy ,Grass,50.0,50.0,20,Ordinary\\n0190,Aipom,2,Normal,,Long Tail Pokémon,0.8,11.5,Run Away,Pickup,Skill Link,55,70,55,40,55,85,360,1 Speed,45,50,72,Fast,Field,,50.0,50.0,20,Ordinary\\n0191,Sunkern,2,Grass,,Seed Pokémon,0.3,1.8,Chlorophyll,Solar Power,Early Bird,30,30,30,30,30,30,180,1 Sp. Atk,235,50,36,Medium Slow,Grass,,50.0,50.0,20,Ordinary\\n0192,Sunflora,2,Grass,,Sun Pokémon,0.8,8.5,Chlorophyll,Solar Power,Early Bird,75,75,55,105,85,30,425,2 Sp. Atk,120,50,149,Medium Slow,Grass,,50.0,50.0,20,Ordinary\\n0193,Yanma,2,Bug,Flying,Clear Wing Pokémon,1.2,38.0,Speed Boost,Compound Eyes,Frisk,65,65,45,75,45,95,390,1 Speed,75,50,78,Medium Fast,Bug,,50.0,50.0,20,Ordinary\\n0194,Wooper,2,Water,Ground,Water Fish Pokémon,0.4,8.5,Damp,Water Absorb,Unaware,55,45,45,25,25,15,210,1 HP,255,50,42,Medium Fast,Field ,Water 1,50.0,50.0,20,Ordinary\\n0195,Quagsire,2,Water,Ground,Water Fish Pokémon,1.4,75.0,Damp,Water Absorb,Unaware,95,85,85,65,65,35,430,2 HP,90,50,151,Medium Fast,Field ,Water 1,50.0,50.0,20,Ordinary\\n0196,Espeon,2,Psychic,,Sun Pokémon,0.9,26.5,Synchronize,Magic Bounce,,65,65,60,130,95,110,525,2 Sp. Atk,45,50,184,Medium Fast,Field,,87.5,12.5,35,Ordinary\\n0197,Umbreon,2,Dark,,Moonlight Pokémon,1.0,27.0,Synchronize,Inner Focus,,95,65,110,60,130,65,525,2 Sp. Def,45,35,184,Medium Fast,Field,,87.5,12.5,35,Ordinary\\n0198,Murkrow,2,Dark,Flying,Darkness Pokémon,0.5,2.1,Insomnia,Super Luck,Prankster,60,85,42,85,42,91,405,1 Speed,30,35,81,Medium Slow,Flying,,50.0,50.0,20,Ordinary\\n0199,Slowking,2,Water,Psychic,Royal Pokémon,2.0,79.5,Oblivious,Own Tempo,Regenerator,95,75,80,100,110,30,490,2 Sp. Def,70,50,172,Medium Fast,Monster ,Water 1,50.0,50.0,20,Ordinary\\n0200,Misdreavus,2,Ghost,,Screech Pokémon,0.7,1.0,Levitate,,,60,60,60,85,85,85,435,1 Sp. Def,45,35,87,Fast,Amorphous,,50.0,50.0,25,Ordinary\\n0201,Unown,2,Psychic,,Symbol Pokémon,0.5,5.0,Levitate,,,48,72,48,72,48,48,336,\"1 Attack, 1 Sp. Atk\",225,50,118,Medium Fast,Undiscovered,,,,40,Ordinary\\n0202,Wobbuffet,2,Psychic,,Patient Pokémon,1.3,28.5,Shadow Tag,Telepathy,,190,33,58,33,58,33,405,2 HP,45,50,142,Medium Fast,Amorphous,,50.0,50.0,20,Ordinary\\n0203,Girafarig,2,Normal,Psychic,Long Neck Pokémon,1.5,41.5,Inner Focus,Early Bird,Sap Sipper,70,80,65,90,65,85,455,2 Sp. Atk,60,50,159,Medium Fast,Field,,50.0,50.0,20,Ordinary\\n0204,Pineco,2,Bug,,Bagworm Pokémon,0.6,7.2,Sturdy,Overcoat,,50,65,90,35,35,15,290,1 Defense,190,50,58,Medium Fast,Bug,,50.0,50.0,20,Ordinary\\n0205,Forretress,2,Bug,Steel,Bagworm Pokémon,1.2,125.8,Sturdy,Overcoat,,75,90,140,60,60,40,465,2 Defense,75,50,163,Medium Fast,Bug,,50.0,50.0,20,Ordinary\\n0206,Dunsparce,2,Normal,,Land Snake Pokémon,1.5,14.0,Serene Grace,Run Away,Rattled,100,70,70,65,65,45,415,1 HP,190,50,145,Medium Fast,Field,,50.0,50.0,20,Ordinary\\n0207,Gligar,2,Ground,Flying,FlyScorpion Pokémon,1.1,64.8,Hyper Cutter,Sand Veil,Immunity,65,75,105,35,65,85,430,1 Defense,60,50,86,Medium Slow,Bug,,50.0,50.0,20,Ordinary\\n0208,Steelix,2,Steel,Ground,Iron Snake Pokémon,9.2,400.0,Rock Head,Sturdy,Sheer Force,75,85,200,55,65,30,510,2 Defense,25,50,179,Medium Fast,Mineral,,50.0,50.0,25,Ordinary\\n0209,Snubbull,2,Fairy,,Fairy Pokémon,0.6,7.8,Intimidate,Run Away,Rattled,60,80,50,40,40,30,300,1 Attack,190,50,60,Fast,Fairy ,Field,25.0,75.0,20,Ordinary\\n0210,Granbull,2,Fairy,,Fairy Pokémon,1.4,48.7,Intimidate,Quick Feet,Rattled,90,120,75,60,60,45,450,2 Attack,75,50,158,Fast,Fairy ,Field,25.0,75.0,20,Ordinary\\n0211,Qwilfish,2,Water,Poison,Balloon Pokémon,0.5,3.9,Poison Point,Swift Swim,Intimidate,65,95,85,55,55,85,440,1 Attack,45,50,88,Medium Fast,Water 2,,50.0,50.0,20,Ordinary\\n0212,Scizor,2,Bug,Steel,Pincer Pokémon,1.8,118.0,Swarm,Technician,Light Metal,70,130,100,55,80,65,500,2 Attack,25,50,175,Medium Fast,Bug,,50.0,50.0,25,Ordinary\\n0213,Shuckle,2,Bug,Rock,Mold Pokémon,0.6,20.5,Sturdy,Gluttony,Contrary,20,10,230,10,230,5,505,\"1 Defense, 1 Sp. Def\",190,50,177,Medium Slow,Bug,,50.0,50.0,20,Ordinary\\n0214,Heracross,2,Bug,Fighting,Single Horn Pokémon,1.5,54.0,Swarm,Guts,Moxie,80,125,75,40,95,85,500,2 Attack,45,50,175,Slow,Bug,,50.0,50.0,25,Ordinary\\n0215,Sneasel,2,Dark,Ice,Sharp Claw Pokémon,0.9,28.0,Inner Focus,Keen Eye,Pickpocket,55,95,55,35,75,115,430,1 Speed,60,35,86,Medium Slow,Field,,50.0,50.0,20,Ordinary\\n0216,Teddiursa,2,Normal,,Little Bear Pokémon,0.6,8.8,Pickup,Quick Feet,Honey Gather,60,80,50,50,50,40,330,1 Attack,120,50,66,Medium Fast,Field,,50.0,50.0,20,Ordinary\\n0217,Ursaring,2,Normal,,Hibernator Pokémon,1.8,125.8,Guts,Quick Feet,Unnerve,90,130,75,75,75,55,500,2 Attack,60,50,175,Medium Fast,Field,,50.0,50.0,20,Ordinary\\n0218,Slugma,2,Fire,,Lava Pokémon,0.7,35.0,Magma Armor,Flame Body,Weak Armor,40,40,40,70,40,20,250,1 Sp. Atk,190,50,50,Medium Fast,Amorphous,,50.0,50.0,20,Ordinary\\n0219,Magcargo,2,Fire,Rock,Lava Pokémon,0.8,55.0,Magma Armor,Flame Body,Weak Armor,60,50,120,90,80,30,430,2 Defense,75,50,151,Medium Fast,Amorphous,,50.0,50.0,20,Ordinary\\n0220,Swinub,2,Ice,Ground,Pig Pokémon,0.4,6.5,Oblivious,Snow Cloak,Thick Fat,50,50,40,30,30,50,250,1 Attack,225,50,50,Slow,Field,,50.0,50.0,20,Ordinary\\n0221,Piloswine,2,Ice,Ground,Swine Pokémon,1.1,55.8,Oblivious,Snow Cloak,Thick Fat,100,100,80,60,60,50,450,\"1 HP, 1 Attack\",75,50,158,Slow,Field,,50.0,50.0,20,Ordinary\\n0222,Corsola,2,Water,Rock,Coral Pokémon,0.6,5.0,Hustle,Natural Cure,Regenerator,65,55,95,65,95,35,410,\"1 Defense, 1 Sp. Def\",60,50,144,Fast,Water 1 ,Water 3,25.0,75.0,20,Ordinary\\n0223,Remoraid,2,Water,,Jet Pokémon,0.6,12.0,Hustle,Sniper,Moody,35,65,35,65,35,65,300,1 Sp. Atk,190,50,60,Medium Fast,Water 1 ,Water 2,50.0,50.0,20,Ordinary\\n0224,Octillery,2,Water,,Jet Pokémon,0.9,28.5,Suction Cups,Sniper,Moody,75,105,75,105,75,45,480,\"1 Attack, 1 Sp. Atk\",75,50,168,Medium Fast,Water 1 ,Water 2,50.0,50.0,20,Ordinary\\n0225,Delibird,2,Ice,Flying,Delivery Pokémon,0.9,16.0,Vital Spirit,Hustle,Insomnia,45,55,45,65,45,75,330,1 Speed,45,50,116,Fast,Field ,Water 1,50.0,50.0,20,Ordinary\\n0226,Mantine,2,Water,Flying,Kite Pokémon,2.1,220.0,Swift Swim,Water Absorb,Water Veil,85,40,70,80,140,70,485,2 Sp. Def,25,50,170,Slow,Water 1,,50.0,50.0,25,Ordinary\\n0227,Skarmory,2,Steel,Flying,Armor Bird Pokémon,1.7,50.5,Keen Eye,Sturdy,Weak Armor,65,80,140,40,70,70,465,2 Defense,25,50,163,Slow,Flying,,50.0,50.0,25,Ordinary\\n0228,Houndour,2,Dark,Fire,Dark Pokémon,0.6,10.8,Early Bird,Flash Fire,Unnerve,45,60,30,80,50,65,330,1 Sp. Atk,120,35,66,Slow,Field,,50.0,50.0,20,Ordinary\\n0229,Houndoom,2,Dark,Fire,Dark Pokémon,1.4,35.0,Early Bird,Flash Fire,Unnerve,75,90,50,110,80,95,500,2 Sp. Atk,45,35,175,Slow,Field,,50.0,50.0,20,Ordinary\\n0230,Kingdra,2,Water,Dragon,Dragon Pokémon,1.8,152.0,Swift Swim,Sniper,Damp,75,95,95,95,95,85,540,\"1 Attack, 1 Sp. Atk, 1 Sp. Def\",45,50,243,Medium Fast,Dragon ,Water 1,50.0,50.0,20,Ordinary\\n0231,Phanpy,2,Ground,,Long Nose Pokémon,0.5,33.5,Pickup,Sand Veil,,90,60,60,40,40,40,330,1 HP,120,50,66,Medium Fast,Field,,50.0,50.0,20,Ordinary\\n0232,Donphan,2,Ground,,Armor Pokémon,1.1,120.0,Sturdy,Sand Veil,,90,120,120,60,60,50,500,\"1 Attack, 1 Defense\",60,50,175,Medium Fast,Field,,50.0,50.0,20,Ordinary\\n0233,Porygon2,2,Normal,,Virtual Pokémon,0.6,32.5,Trace,Download,Analytic,85,80,90,105,95,60,515,2 Sp. Atk,45,50,180,Medium Fast,Mineral,,,,20,Ordinary\\n0234,Stantler,2,Normal,,Big Horn Pokémon,1.4,71.2,Intimidate,Frisk,Sap Sipper,73,95,62,85,65,85,465,1 Attack,45,50,163,Slow,Field,,50.0,50.0,20,Ordinary\\n0235,Smeargle,2,Normal,,Painter Pokémon,1.2,58.0,Own Tempo,Technician,Moody,55,20,35,20,45,75,250,1 Speed,45,50,88,Fast,Field,,50.0,50.0,20,Ordinary\\n0236,Tyrogue,2,Fighting,,Scuffle Pokémon,0.7,21.0,Guts,Steadfast,Vital Spirit,35,35,35,35,35,35,210,1 Attack,75,50,42,Medium Fast,Undiscovered,,100.0,0.0,25,Baby Pokemon\\n0237,Hitmontop,2,Fighting,,Handstand Pokémon,1.4,48.0,Intimidate,Technician,Steadfast,50,95,95,35,110,70,455,2 Sp. Def,45,50,159,Medium Fast,Human-Like,,100.0,0.0,25,Ordinary\\n0238,Smoochum,2,Ice,Psychic,Kiss Pokémon,0.4,6.0,Oblivious,Forewarn,Hydration,45,30,15,85,65,65,305,1 Sp. Atk,45,50,61,Medium Fast,Undiscovered,,0.0,100.0,25,Baby Pokemon\\n0239,Elekid,2,Electric,,Electric Pokémon,0.6,23.5,Static,Vital Spirit,,45,63,37,65,55,95,360,1 Speed,45,50,72,Medium Fast,Undiscovered,,75.0,25.0,25,Baby Pokemon\\n0240,Magby,2,Fire,,Live Coal Pokémon,0.7,21.4,Flame Body,Vital Spirit,,45,75,37,70,55,83,365,1 Speed,45,50,73,Medium Fast,Undiscovered,,75.0,25.0,25,Baby Pokemon\\n0241,Miltank,2,Normal,,Milk Cow Pokémon,1.2,75.5,Thick Fat,Scrappy,Sap Sipper,95,80,105,40,70,100,490,2 Defense,45,50,172,Slow,Field,,0.0,100.0,20,Ordinary\\n0242,Blissey,2,Normal,,Happiness Pokémon,1.5,46.8,Natural Cure,Serene Grace,Healer,255,10,10,75,135,55,540,3 HP,30,140,635,Fast,Fairy,,0.0,100.0,40,Ordinary\\n0243,Raikou,2,Electric,,Thunder Pokémon,1.9,178.0,Pressure,Inner Focus,,90,85,75,115,100,115,580,\"1 Sp. Atk, 2 Speed\",3,35,261,Slow,Undiscovered,,,,80,Legendary\\n0244,Entei,2,Fire,,Volcano Pokémon,2.1,198.0,Pressure,Inner Focus,,115,115,85,90,75,100,580,\"1 HP, 2 Attack\",3,35,261,Slow,Undiscovered,,,,80,Legendary\\n0245,Suicune,2,Water,,Aurora Pokémon,2.0,187.0,Pressure,Inner Focus,,100,75,115,90,115,85,580,\"1 Defense, 2 Sp. Def\",3,35,261,Slow,Undiscovered,,,,80,Legendary\\n0246,Larvitar,2,Rock,Ground,Rock Skin Pokémon,0.6,72.0,Guts,Sand Veil,,50,64,50,45,50,41,300,1 Attack,45,35,60,Slow,Monster,,50.0,50.0,40,Ordinary\\n0247,Pupitar,2,Rock,Ground,Hard Shell Pokémon,1.2,152.0,Shed Skin,,,70,84,70,65,70,51,410,2 Attack,45,35,144,Slow,Monster,,50.0,50.0,40,Ordinary\\n0248,Tyranitar,2,Rock,Dark,Armor Pokémon,2.0,202.0,Sand Stream,Unnerve,,100,134,110,95,100,61,600,3 Attack,45,35,300,Slow,Monster,,50.0,50.0,40,Ordinary\\n0249,Lugia,2,Psychic,Flying,Diving Pokémon,5.2,216.0,Pressure,Multiscale,,106,90,130,90,154,110,680,3 Sp. Def,3,0,306,Slow,Undiscovered,,,,120,Legendary\\n0250,Ho-oh,2,Fire,Flying,Rainbow Pokémon,3.8,199.0,Pressure,Regenerator,,106,130,90,110,154,90,680,3 Sp. Def,3,0,306,Slow,Undiscovered,,,,120,Ordinary\\n0251,Celebi,2,Psychic,Grass,Time Travel Pokémon,0.6,5.0,Natural Cure,,,100,100,100,100,100,100,600,3 HP,45,100,270,Medium Slow,Undiscovered,,,,120,Mythical\\n0252,Treecko,3,Grass,,Wood Gecko Pokémon,0.5,5.0,Overgrow,Unburden,,40,45,35,65,55,70,310,1 Speed,45,50,62,Medium Slow,Dragon ,Monster,87.5,12.5,20,Ordinary\\n0253,Grovyle,3,Grass,,Wood Gecko Pokémon,0.9,21.6,Overgrow,Unburden,,50,65,45,85,65,95,405,2 Speed,45,50,142,Medium Slow,Dragon ,Monster,87.5,12.5,20,Ordinary\\n0254,Sceptile,3,Grass,,Forest Pokémon,1.7,52.2,Overgrow,Unburden,,70,85,65,105,85,120,530,3 Speed,45,50,239,Medium Slow,Dragon ,Monster,87.5,12.5,20,Ordinary\\n0255,Torchic,3,Fire,,Chick Pokémon,0.4,2.5,Blaze,Speed Boost,,45,60,40,70,50,45,310,1 Sp. Atk,45,50,62,Medium Slow,Field,,87.5,12.5,20,Ordinary\\n0256,Combusken,3,Fire,Fighting,Young Fowl Pokémon,0.9,19.5,Blaze,Speed Boost,,60,85,60,85,60,55,405,\"1 Attack, 1 Sp. Atk\",45,50,142,Medium Slow,Field,,87.5,12.5,20,Ordinary\\n0257,Blaziken,3,Fire,Fighting,Blaze Pokémon,1.9,52.0,Blaze,Speed Boost,,80,120,70,110,70,80,530,3 Attack,45,50,239,Medium Slow,Field,,87.5,12.5,20,Ordinary\\n0258,Mudkip,3,Water,,Mud Fish Pokémon,0.4,7.6,Torrent,Damp,,50,70,50,50,50,40,310,1 Attack,45,50,62,Medium Slow,Monster ,Water 1,87.5,12.5,20,Ordinary\\n0259,Marshtomp,3,Water,Ground,Mud Fish Pokémon,0.7,28.0,Torrent,Damp,,70,85,70,60,70,50,405,2 Attack,45,50,142,Medium Slow,Monster ,Water 1,87.5,12.5,20,Ordinary\\n0260,Swampert,3,Water,Ground,Mud Fish Pokémon,1.5,81.9,Torrent,Damp,,100,110,90,85,90,60,535,3 Attack,45,50,241,Medium Slow,Monster ,Water 1,87.5,12.5,20,Ordinary\\n0261,Poochyena,3,Dark,,Bite Pokémon,0.5,13.6,Run Away,Quick Feet,Rattled,35,55,35,30,30,35,220,1 Attack,255,50,56,Medium Fast,Field,,50.0,50.0,15,Ordinary\\n0262,Mightyena,3,Dark,,Bite Pokémon,1.0,37.0,Intimidate,Quick Feet,Moxie,70,90,70,60,60,70,420,2 Attack,127,50,147,Medium Fast,Field,,50.0,50.0,15,Ordinary\\n0263,Zigzagoon,3,Normal,,TinyRaccoon Pokémon,0.4,17.5,Pickup,Gluttony,Quick Feet,38,30,41,30,41,60,240,1 Speed,255,50,56,Medium Fast,Field,,50.0,50.0,15,Ordinary\\n0264,Linoone,3,Normal,,Rushing Pokémon,0.5,32.5,Pickup,Gluttony,Quick Feet,78,70,61,50,61,100,420,2 Speed,90,50,147,Medium Fast,Field,,50.0,50.0,15,Ordinary\\n0265,Wurmple,3,Bug,,Worm Pokémon,0.3,3.6,Shield Dust,Run Away,,45,45,35,20,30,20,195,1 HP,255,50,56,Medium Fast,Bug,,50.0,50.0,15,Ordinary\\n0266,Silcoon,3,Bug,,Cocoon Pokémon,0.6,10.0,Shed Skin,,,50,35,55,25,25,15,205,2 Defense,120,50,72,Medium Fast,Bug,,50.0,50.0,15,Ordinary\\n0267,Beautifly,3,Bug,Flying,Butterfly Pokémon,1.0,28.4,Swarm,Rivalry,,60,70,50,100,50,65,395,3 Sp. Atk,45,50,178,Medium Fast,Bug,,50.0,50.0,15,Ordinary\\n0268,Cascoon,3,Bug,,Cocoon Pokémon,0.7,11.5,Shed Skin,,,50,35,55,25,25,15,205,2 Defense,120,50,72,Medium Fast,Bug,,50.0,50.0,15,Ordinary\\n0269,Dustox,3,Bug,Poison,Poison Moth Pokémon,1.2,31.6,Shield Dust,Compound Eyes,,60,50,70,50,90,65,385,3 Sp. Def,45,50,173,Medium Fast,Bug,,50.0,50.0,15,Ordinary\\n0270,Lotad,3,Water,Grass,Water Weed Pokémon,0.5,2.6,Swift Swim,Rain Dish,Own Tempo,40,30,30,40,50,30,220,1 Sp. Def,255,50,44,Medium Slow,Grass ,Water 1,50.0,50.0,15,Ordinary\\n0271,Lombre,3,Water,Grass,Jolly Pokémon,1.2,32.5,Swift Swim,Rain Dish,Own Tempo,60,50,50,60,70,50,340,2 Sp. Def,120,50,119,Medium Slow,Grass ,Water 1,50.0,50.0,15,Ordinary\\n0272,Ludicolo,3,Water,Grass,Carefree Pokémon,1.5,55.0,Swift Swim,Rain Dish,Own Tempo,80,70,70,90,100,70,480,3 Sp. Def,45,50,216,Medium Slow,Grass ,Water 1,50.0,50.0,15,Ordinary\\n0273,Seedot,3,Grass,,Acorn Pokémon,0.5,4.0,Chlorophyll,Early Bird,Pickpocket,40,40,50,30,30,30,220,1 Defense,255,50,44,Medium Slow,Field ,Grass,50.0,50.0,15,Ordinary\\n0274,Nuzleaf,3,Grass,Dark,Wily Pokémon,1.0,28.0,Chlorophyll,Early Bird,Pickpocket,70,70,40,60,40,60,340,2 Attack,120,50,119,Medium Slow,Field ,Grass,50.0,50.0,15,Ordinary\\n0275,Shiftry,3,Grass,Dark,Wicked Pokémon,1.3,59.6,Chlorophyll,Early Bird,Pickpocket,90,100,60,90,60,80,480,3 Attack,45,50,216,Medium Slow,Field ,Grass,50.0,50.0,15,Ordinary\\n0276,Taillow,3,Normal,Flying,TinySwallow Pokémon,0.3,2.3,Guts,Scrappy,,40,55,30,30,30,85,270,1 Speed,200,50,54,Medium Slow,Flying,,50.0,50.0,15,Ordinary\\n0277,Swellow,3,Normal,Flying,Swallow Pokémon,0.7,19.8,Guts,Scrappy,,60,85,60,75,50,125,455,2 Speed,45,50,159,Medium Slow,Flying,,50.0,50.0,15,Ordinary\\n0278,Wingull,3,Water,Flying,Seagull Pokémon,0.6,9.5,Keen Eye,Hydration,Rain Dish,40,30,30,55,30,85,270,1 Speed,190,50,54,Medium Fast,Flying ,Water 1,50.0,50.0,20,Ordinary\\n0279,Pelipper,3,Water,Flying,Water Bird Pokémon,1.2,28.0,Keen Eye,Drizzle,Rain Dish,60,50,100,95,70,65,440,2 Defense,45,50,154,Medium Fast,Flying ,Water 1,50.0,50.0,20,Ordinary\\n0280,Ralts,3,Psychic,Fairy,Feeling Pokémon,0.4,6.6,Synchronize,Trace,Telepathy,28,25,25,45,35,40,198,1 Sp. Atk,235,35,40,Slow,Amorphous ,Human-Like,50.0,50.0,20,Ordinary\\n0281,Kirlia,3,Psychic,Fairy,Emotion Pokémon,0.8,20.2,Synchronize,Trace,Telepathy,38,35,35,65,55,50,278,2 Sp. Atk,120,35,97,Slow,Amorphous ,Human-Like,50.0,50.0,20,Ordinary\\n0282,Gardevoir,3,Psychic,Fairy,Embrace Pokémon,1.6,48.4,Synchronize,Trace,Telepathy,68,65,65,125,115,80,518,3 Sp. Atk,45,35,259,Slow,Amorphous ,Human-Like,50.0,50.0,20,Ordinary\\n0283,Surskit,3,Bug,Water,Pond Skater Pokémon,0.5,1.7,Swift Swim,Rain Dish,,40,30,32,50,52,65,269,1 Speed,200,50,54,Medium Fast,Bug ,Water 1,50.0,50.0,15,Ordinary\\n0284,Masquerain,3,Bug,Flying,Eyeball Pokémon,0.8,3.6,Intimidate,Unnerve,,70,60,62,100,82,80,454,\"1 Sp. Atk, 1 Sp. Def\",75,50,159,Medium Fast,Bug ,Water 1,50.0,50.0,15,Ordinary\\n0285,Shroomish,3,Grass,,Mushroom Pokémon,0.4,4.5,Effect Spore,Poison Heal,Quick Feet,60,40,60,40,60,35,295,1 HP,255,50,59,Fluctuating,Fairy ,Grass,50.0,50.0,15,Ordinary\\n0286,Breloom,3,Grass,Fighting,Mushroom Pokémon,1.2,39.2,Effect Spore,Poison Heal,Technician,60,130,80,60,60,70,460,2 Attack,90,50,161,Fluctuating,Fairy ,Grass,50.0,50.0,15,Ordinary\\n0287,Slakoth,3,Normal,,Slacker Pokémon,0.8,24.0,Truant,,,60,60,60,35,35,30,280,1 HP,255,50,56,Slow,Field,,50.0,50.0,15,Ordinary\\n0288,Vigoroth,3,Normal,,Wild Monkey Pokémon,1.4,46.5,Vital Spirit,,,80,80,80,55,55,90,440,2 Speed,120,50,154,Slow,Field,,50.0,50.0,15,Ordinary\\n0289,Slaking,3,Normal,,Lazy Pokémon,2.0,130.5,Truant,,,150,160,100,95,65,100,670,3 HP,45,50,285,Slow,Field,,50.0,50.0,15,Ordinary\\n0290,Nincada,3,Bug,Ground,Trainee Pokémon,0.5,5.5,Compound Eyes,Run Away,,31,45,90,30,30,40,266,1 Defense,255,50,53,Erratic,Bug,,50.0,50.0,15,Ordinary\\n0291,Ninjask,3,Bug,Flying,Ninja Pokémon,0.8,12.0,Speed Boost,Infiltrator,,61,90,45,50,50,160,456,2 Speed,120,50,160,Erratic,Bug,,50.0,50.0,15,Ordinary\\n0292,Shedinja,3,Bug,Ghost,Shed Pokémon,0.8,1.2,Wonder Guard,,,1,90,45,30,30,40,236,2 HP,45,50,83,Erratic,Mineral,,,,15,Ordinary\\n0293,Whismur,3,Normal,,Whisper Pokémon,0.6,16.3,Soundproof,Rattled,,64,51,23,51,23,28,240,1 HP,190,50,48,Medium Slow,Field ,Monster,50.0,50.0,20,Ordinary\\n0294,Loudred,3,Normal,,Big Voice Pokémon,1.0,40.5,Soundproof,Scrappy,,84,71,43,71,43,48,360,2 HP,120,50,126,Medium Slow,Field ,Monster,50.0,50.0,20,Ordinary\\n0295,Exploud,3,Normal,,Loud Noise Pokémon,1.5,84.0,Soundproof,Scrappy,,104,91,63,91,73,68,490,3 HP,45,50,221,Medium Slow,Field ,Monster,50.0,50.0,20,Ordinary\\n0296,Makuhita,3,Fighting,,Guts Pokémon,1.0,86.4,Thick Fat,Guts,Sheer Force,72,60,30,20,30,25,237,1 HP,180,50,47,Fluctuating,Human-Like,,75.0,25.0,20,Ordinary\\n0297,Hariyama,3,Fighting,,Arm Thrust Pokémon,2.3,253.8,Thick Fat,Guts,Sheer Force,144,120,60,40,60,50,474,2 HP,200,50,166,Fluctuating,Human-Like,,75.0,25.0,20,Ordinary\\n0298,Azurill,3,Normal,Fairy,Polka Dot Pokémon,0.2,2.0,Thick Fat,Huge Power,Sap Sipper,50,20,40,20,40,20,190,1 HP,150,50,38,Fast,Undiscovered,,25.0,75.0,10,Baby Pokemon\\n0299,Nosepass,3,Rock,,Compass Pokémon,1.0,97.0,Sturdy,Magnet Pull,Sand Force,30,45,135,45,90,30,375,1 Defense,255,50,75,Medium Fast,Mineral,,50.0,50.0,20,Ordinary\\n0300,Skitty,3,Normal,,Kitten Pokémon,0.6,11.0,Cute Charm,Normalize,Wonder Skin,50,45,45,35,35,50,260,1 Speed,255,50,52,Fast,Fairy ,Field,25.0,75.0,15,Ordinary\\n0301,Delcatty,3,Normal,,Prim Pokémon,1.1,32.6,Cute Charm,Normalize,Wonder Skin,70,65,65,55,55,90,400,\"1 HP, 1 Speed\",60,50,140,Fast,Fairy ,Field,25.0,75.0,15,Ordinary\\n0302,Sableye,3,Dark,Ghost,Darkness Pokémon,0.5,11.0,Keen Eye,Stall,Prankster,50,75,75,65,65,50,380,\"1 Attack, 1 Defense\",45,35,133,Medium Slow,Human-Like,,50.0,50.0,25,Ordinary\\n0303,Mawile,3,Steel,Fairy,Deceiver Pokémon,0.6,11.5,Hyper Cutter,Intimidate,Sheer Force,50,85,85,55,55,50,380,\"1 Attack, 1 Defense\",45,50,133,Fast,Fairy ,Field,50.0,50.0,20,Ordinary\\n0304,Aron,3,Steel,Rock,Iron Armor Pokémon,0.4,60.0,Sturdy,Rock Head,Heavy Metal,50,70,100,40,40,30,330,1 Defense,180,35,66,Slow,Monster,,50.0,50.0,35,Ordinary\\n0305,Lairon,3,Steel,Rock,Iron Armor Pokémon,0.9,120.0,Sturdy,Rock Head,Heavy Metal,60,90,140,50,50,40,430,2 Defense,90,35,151,Slow,Monster,,50.0,50.0,35,Ordinary\\n0306,Aggron,3,Steel,Rock,Iron Armor Pokémon,2.1,360.0,Sturdy,Rock Head,Heavy Metal,70,110,180,60,60,50,530,3 Defense,45,35,239,Slow,Monster,,50.0,50.0,35,Ordinary\\n0307,Meditite,3,Fighting,Psychic,Meditate Pokémon,0.6,11.2,Pure Power,Telepathy,,30,40,55,40,55,60,280,1 Speed,180,50,56,Medium Fast,Human-Like,,50.0,50.0,20,Ordinary\\n0308,Medicham,3,Fighting,Psychic,Meditate Pokémon,1.3,31.5,Pure Power,Telepathy,,60,60,75,60,75,80,410,2 Speed,90,50,144,Medium Fast,Human-Like,,50.0,50.0,20,Ordinary\\n0309,Electrike,3,Electric,,Lightning Pokémon,0.6,15.2,Static,Lightning Rod,Minus,40,45,40,65,40,65,295,1 Speed,120,50,59,Slow,Field,,50.0,50.0,20,Ordinary\\n0310,Manectric,3,Electric,,Discharge Pokémon,1.5,40.2,Static,Lightning Rod,Minus,70,75,60,105,60,105,475,2 Speed,45,50,166,Slow,Field,,50.0,50.0,20,Ordinary\\n0311,Plusle,3,Electric,,Cheering Pokémon,0.4,4.2,Plus,Lightning Rod,,60,50,40,85,75,95,405,1 Speed,200,50,142,Medium Fast,Fairy,,50.0,50.0,20,Ordinary\\n0312,Minun,3,Electric,,Cheering Pokémon,0.4,4.2,Minus,Volt Absorb,,60,40,50,75,85,95,405,1 Speed,200,50,142,Medium Fast,Fairy,,50.0,50.0,20,Ordinary\\n0313,Volbeat,3,Bug,,Firefly Pokémon,0.7,17.7,Illuminate,Swarm,Prankster,65,73,75,47,85,85,430,1 Speed,150,50,151,Erratic,Bug ,Human-Like,100.0,0.0,15,Ordinary\\n0314,Illumise,3,Bug,,Firefly Pokémon,0.6,17.7,Oblivious,Tinted Lens,Prankster,65,47,75,73,85,85,430,1 Speed,150,50,151,Fluctuating,Bug ,Human-Like,0.0,100.0,15,Ordinary\\n0315,Roselia,3,Grass,Poison,Thorn Pokémon,0.3,2.0,Natural Cure,Poison Point,Leaf Guard,50,60,45,100,80,65,400,2 Sp. Atk,150,50,140,Medium Slow,Fairy ,Grass,50.0,50.0,20,Ordinary\\n0316,Gulpin,3,Poison,,Stomach Pokémon,0.4,10.3,Liquid Ooze,Sticky Hold,Gluttony,70,43,53,43,53,40,302,1 HP,225,50,60,Fluctuating,Amorphous,,50.0,50.0,20,Ordinary\\n0317,Swalot,3,Poison,,Poison Bag Pokémon,1.7,80.0,Liquid Ooze,Sticky Hold,Gluttony,100,73,83,73,83,55,467,2 HP,75,50,163,Fluctuating,Amorphous,,50.0,50.0,20,Ordinary\\n0318,Carvanha,3,Water,Dark,Savage Pokémon,0.8,20.8,Rough Skin,Speed Boost,,45,90,20,65,20,65,305,1 Attack,225,35,61,Slow,Water 2,,50.0,50.0,20,Ordinary\\n0319,Sharpedo,3,Water,Dark,Brutal Pokémon,1.8,88.8,Rough Skin,Speed Boost,,70,120,40,95,40,95,460,2 Attack,60,35,161,Slow,Water 2,,50.0,50.0,20,Ordinary\\n0320,Wailmer,3,Water,,Ball Whale Pokémon,2.0,130.0,Water Veil,Oblivious,Pressure,130,70,35,70,35,60,400,1 HP,125,50,80,Fluctuating,Field ,Water 2,50.0,50.0,40,Ordinary\\n0321,Wailord,3,Water,,Float Whale Pokémon,14.5,398.0,Water Veil,Oblivious,Pressure,170,90,45,90,45,60,500,2 HP,60,50,175,Fluctuating,Field ,Water 2,50.0,50.0,40,Ordinary\\n0322,Numel,3,Fire,Ground,Numb Pokémon,0.7,24.0,Oblivious,Simple,Own Tempo,60,60,40,65,45,35,305,1 Sp. Atk,255,50,61,Medium Fast,Field,,50.0,50.0,20,Ordinary\\n0323,Camerupt,3,Fire,Ground,Eruption Pokémon,1.9,220.0,Magma Armor,Solid Rock,Anger Point,70,100,70,105,75,40,460,\"1 Attack, 1 Sp. Atk\",150,50,161,Medium Fast,Field,,50.0,50.0,20,Ordinary\\n0324,Torkoal,3,Fire,,Coal Pokémon,0.5,80.4,White Smoke,Drought,Shell Armor,70,85,140,85,70,20,470,2 Defense,90,50,165,Medium Fast,Field,,50.0,50.0,20,Ordinary\\n0325,Spoink,3,Psychic,,Bounce Pokémon,0.7,30.6,Thick Fat,Own Tempo,Gluttony,60,25,35,70,80,60,330,1 Sp. Def,255,50,66,Fast,Field,,50.0,50.0,20,Ordinary\\n0326,Grumpig,3,Psychic,,Manipulate Pokémon,0.9,71.5,Thick Fat,Own Tempo,Gluttony,80,45,65,90,110,80,470,2 Sp. Def,60,50,165,Fast,Field,,50.0,50.0,20,Ordinary\\n0327,Spinda,3,Normal,,Spot Panda Pokémon,1.1,5.0,Own Tempo,Tangled Feet,Contrary,60,60,60,60,60,60,360,1 Sp. Atk,255,50,126,Fast,Field ,Human-Like,50.0,50.0,15,Ordinary\\n0328,Trapinch,3,Ground,,Ant Pit Pokémon,0.7,15.0,Hyper Cutter,Arena Trap,Sheer Force,45,100,45,45,45,10,290,1 Attack,255,50,58,Medium Slow,Bug ,Dragon,50.0,50.0,20,Ordinary\\n0329,Vibrava,3,Ground,Dragon,Vibration Pokémon,1.1,15.3,Levitate,,,50,70,50,50,50,70,340,\"1 Attack, 1 Speed\",120,50,119,Medium Slow,Bug ,Dragon,50.0,50.0,20,Ordinary\\n0330,Flygon,3,Ground,Dragon,Mystic Pokémon,2.0,82.0,Levitate,,,80,100,80,80,80,100,520,\"1 Attack, 2 Speed\",45,50,234,Medium Slow,Bug ,Dragon,50.0,50.0,20,Ordinary\\n0331,Cacnea,3,Grass,,Cactus Pokémon,0.4,51.3,Sand Veil,Water Absorb,,50,85,40,85,40,35,335,1 Sp. Atk,190,35,67,Medium Slow,Grass ,Human-Like,50.0,50.0,20,Ordinary\\n0332,Cacturne,3,Grass,Dark,Scarecrow Pokémon,1.3,77.4,Sand Veil,Water Absorb,,70,115,60,115,60,55,475,\"1 Attack, 1 Sp. Atk\",60,35,166,Medium Slow,Grass ,Human-Like,50.0,50.0,20,Ordinary\\n0333,Swablu,3,Normal,Flying,Cotton Bird Pokémon,0.4,1.2,Natural Cure,Cloud Nine,,45,40,60,40,75,50,310,1 Sp. Def,255,50,62,Erratic,Dragon ,Flying,50.0,50.0,20,Ordinary\\n0334,Altaria,3,Dragon,Flying,Humming Pokémon,1.1,20.6,Natural Cure,Cloud Nine,,75,70,90,70,105,80,490,2 Sp. Def,45,50,172,Erratic,Dragon ,Flying,50.0,50.0,20,Ordinary\\n0335,Zangoose,3,Normal,,Cat Ferret Pokémon,1.3,40.3,Immunity,Toxic Boost,,73,115,60,60,60,90,458,2 Attack,90,50,160,Erratic,Field,,50.0,50.0,20,Ordinary\\n0336,Seviper,3,Poison,,Fang Snake Pokémon,2.7,52.5,Shed Skin,Infiltrator,,73,100,60,100,60,65,458,\"1 Attack, 1 Sp. Atk\",90,50,160,Fluctuating,Dragon ,Field,50.0,50.0,20,Ordinary\\n0337,Lunatone,3,Rock,Psychic,Meteorite Pokémon,1.0,168.0,Levitate,,,90,55,65,95,85,70,460,2 Sp. Atk,45,50,161,Fast,Mineral,,,,25,Ordinary\\n0338,Solrock,3,Rock,Psychic,Meteorite Pokémon,1.2,154.0,Levitate,,,90,95,85,55,65,70,460,2 Attack,45,50,161,Fast,Mineral,,,,25,Ordinary\\n0339,Barboach,3,Water,Ground,Whiskers Pokémon,0.4,1.9,Oblivious,Anticipation,Hydration,50,48,43,46,41,60,288,1 HP,190,50,58,Medium Fast,Water 2,,50.0,50.0,20,Ordinary\\n0340,Whiscash,3,Water,Ground,Whiskers Pokémon,0.9,23.6,Oblivious,Anticipation,Hydration,110,78,73,76,71,60,468,2 HP,75,50,164,Medium Fast,Water 2,,50.0,50.0,20,Ordinary\\n0341,Corphish,3,Water,,Ruffian Pokémon,0.6,11.5,Hyper Cutter,Shell Armor,Adaptability,43,80,65,50,35,35,308,1 Attack,205,50,62,Fluctuating,Water 1 ,Water 3,50.0,50.0,15,Ordinary\\n0342,Crawdaunt,3,Water,Dark,Rogue Pokémon,1.1,32.8,Hyper Cutter,Shell Armor,Adaptability,63,120,85,90,55,55,468,2 Attack,155,50,164,Fluctuating,Water 1 ,Water 3,50.0,50.0,15,Ordinary\\n0343,Baltoy,3,Ground,Psychic,Clay Doll Pokémon,0.5,21.5,Levitate,,,40,40,55,40,70,55,300,1 Sp. Def,255,50,60,Medium Fast,Mineral,,,,20,Ordinary\\n0344,Claydol,3,Ground,Psychic,Clay Doll Pokémon,1.5,108.0,Levitate,,,60,70,105,70,120,75,500,2 Sp. Def,90,50,175,Medium Fast,Mineral,,,,20,Ordinary\\n0345,Lileep,3,Rock,Grass,Sea Lily Pokémon,1.0,23.8,Suction Cups,Storm Drain,,66,41,77,61,87,23,355,1 Sp. Def,45,50,71,Erratic,Water 3,,87.5,12.5,30,Fossil\\n0346,Cradily,3,Rock,Grass,Barnacle Pokémon,1.5,60.4,Suction Cups,Storm Drain,,86,81,97,81,107,43,495,2 Sp. Def,45,50,173,Erratic,Water 3,,87.5,12.5,30,Fossil\\n0347,Anorith,3,Rock,Bug,Old Shrimp Pokémon,0.7,12.5,Battle Armor,Swift Swim,,45,95,50,40,50,75,355,1 Attack,45,50,71,Erratic,Water 3,,87.5,12.5,30,Fossil\\n0348,Armaldo,3,Rock,Bug,Plate Pokémon,1.5,68.2,Battle Armor,Swift Swim,,75,125,100,70,80,45,495,2 Attack,45,50,173,Erratic,Water 3,,87.5,12.5,30,Fossil\\n0349,Feebas,3,Water,,Fish Pokémon,0.6,7.4,Swift Swim,Oblivious,Adaptability,20,15,20,10,55,80,200,1 Speed,255,50,40,Erratic,Dragon ,Water 1,50.0,50.0,20,Ordinary\\n0350,Milotic,3,Water,,Tender Pokémon,6.2,162.0,Marvel Scale,Competitive,Cute Charm,95,60,79,100,125,81,540,2 Sp. Def,60,50,189,Erratic,Dragon ,Water 1,50.0,50.0,20,Ordinary\\n0351,Castform,3,Normal,,Weather Pokémon,0.3,0.8,Forecast,,,70,70,70,70,70,70,420,1 HP,45,50,147,Medium Fast,Amorphous ,Fairy,50.0,50.0,25,Ordinary\\n0352,Kecleon,3,Normal,,Color Swap Pokémon,1.0,22.0,Color Change,Protean,,60,90,70,60,120,40,440,1 Sp. Def,200,50,154,Medium Slow,Field,,50.0,50.0,20,Ordinary\\n0353,Shuppet,3,Ghost,,Puppet Pokémon,0.6,2.3,Insomnia,Frisk,Cursed Body,44,75,35,63,33,45,295,1 Attack,225,35,59,Fast,Amorphous,,50.0,50.0,25,Ordinary\\n0354,Banette,3,Ghost,,Marionette Pokémon,1.1,12.5,Insomnia,Frisk,Cursed Body,64,115,65,83,63,65,455,2 Attack,45,35,159,Fast,Amorphous,,50.0,50.0,25,Ordinary\\n0355,Duskull,3,Ghost,,Requiem Pokémon,0.8,15.0,Levitate,Frisk,,20,40,90,30,90,25,295,1 Sp. Def,190,35,59,Fast,Amorphous,,50.0,50.0,25,Ordinary\\n0356,Dusclops,3,Ghost,,Beckon Pokémon,1.6,30.6,Pressure,Frisk,,40,70,130,60,130,25,455,\"1 Defense, 1 Sp. Def\",90,35,159,Fast,Amorphous,,50.0,50.0,25,Ordinary\\n0357,Tropius,3,Grass,Flying,Fruit Pokémon,2.0,100.0,Chlorophyll,Solar Power,Harvest,99,68,83,72,87,51,460,2 HP,200,50,161,Slow,Grass ,Monster,50.0,50.0,25,Ordinary\\n0358,Chimecho,3,Psychic,,Wind Chime Pokémon,0.6,1.0,Levitate,,,75,50,80,95,90,65,455,\"1 Sp. Atk, 1 Sp. Def\",45,50,159,Fast,Amorphous,,50.0,50.0,25,Ordinary\\n0359,Absol,3,Dark,,Disaster Pokémon,1.2,47.0,Pressure,Super Luck,Justified,65,130,60,75,60,75,465,2 Attack,30,35,163,Medium Slow,Field,,50.0,50.0,25,Ordinary\\n0360,Wynaut,3,Psychic,,Bright Pokémon,0.6,14.0,Shadow Tag,Telepathy,,95,23,48,23,48,23,260,1 HP,125,50,52,Medium Fast,Undiscovered,,50.0,50.0,20,Baby Pokemon\\n0361,Snorunt,3,Ice,,Snow Hat Pokémon,0.7,16.8,Inner Focus,Ice Body,Moody,50,50,50,50,50,50,300,1 HP,190,50,60,Medium Fast,Fairy ,Mineral,50.0,50.0,20,Ordinary\\n0362,Glalie,3,Ice,,Face Pokémon,1.5,256.5,Inner Focus,Ice Body,Moody,80,80,80,80,80,80,480,2 HP,75,50,168,Medium Fast,Fairy ,Mineral,50.0,50.0,20,Ordinary\\n0363,Spheal,3,Ice,Water,Clap Pokémon,0.8,39.5,Thick Fat,Ice Body,Oblivious,70,40,50,55,50,25,290,1 HP,255,50,58,Medium Slow,Field ,Water 1,50.0,50.0,20,Ordinary\\n0364,Sealeo,3,Ice,Water,Ball Roll Pokémon,1.1,87.6,Thick Fat,Ice Body,Oblivious,90,60,70,75,70,45,410,2 HP,120,50,144,Medium Slow,Field ,Water 1,50.0,50.0,20,Ordinary\\n0365,Walrein,3,Ice,Water,Ice Break Pokémon,1.4,150.6,Thick Fat,Ice Body,Oblivious,110,80,90,95,90,65,530,3 HP,45,50,239,Medium Slow,Field ,Water 1,50.0,50.0,20,Ordinary\\n0366,Clamperl,3,Water,,Bivalve Pokémon,0.4,52.5,Shell Armor,Rattled,,35,64,85,74,55,32,345,1 Defense,255,50,69,Erratic,Water 1,,50.0,50.0,20,Ordinary\\n0367,Huntail,3,Water,,Deep Sea Pokémon,1.7,27.0,Swift Swim,Water Veil,,55,104,105,94,75,52,485,\"1 Attack, 1 Defense\",60,50,170,Erratic,Water 1,,50.0,50.0,20,Ordinary\\n0368,Gorebyss,3,Water,,South Sea Pokémon,1.8,22.6,Swift Swim,Hydration,,55,84,105,114,75,52,485,2 Sp. Atk,60,50,170,Erratic,Water 1,,50.0,50.0,20,Ordinary\\n0369,Relicanth,3,Water,Rock,Longevity Pokémon,1.0,23.4,Swift Swim,Rock Head,Sturdy,100,90,130,45,65,55,485,\"1 HP, 1 Defense\",25,50,170,Slow,Water 1 ,Water 2,87.5,12.5,40,Ordinary\\n0370,Luvdisc,3,Water,,Rendezvous Pokémon,0.6,8.7,Swift Swim,Hydration,,43,30,55,40,65,97,330,1 Speed,225,50,116,Fast,Water 2,,25.0,75.0,20,Ordinary\\n0371,Bagon,3,Dragon,,Rock Head Pokémon,0.6,42.1,Rock Head,Sheer Force,,45,75,60,40,30,50,300,1 Attack,45,35,60,Slow,Dragon,,50.0,50.0,40,Ordinary\\n0372,Shelgon,3,Dragon,,Endurance Pokémon,1.1,110.5,Rock Head,Overcoat,,65,95,100,60,50,50,420,2 Defense,45,35,147,Slow,Dragon,,50.0,50.0,40,Ordinary\\n0373,Salamence,3,Dragon,Flying,Dragon Pokémon,1.5,102.6,Intimidate,Moxie,,95,135,80,110,80,100,600,3 Attack,45,35,300,Slow,Dragon,,50.0,50.0,40,Ordinary\\n0374,Beldum,3,Steel,Psychic,Iron Ball Pokémon,0.6,95.2,Clear Body,Light Metal,,40,55,80,35,60,30,300,1 Defense,3,35,60,Slow,Mineral,,,,40,Ordinary\\n0375,Metang,3,Steel,Psychic,Iron Claw Pokémon,1.2,202.5,Clear Body,Light Metal,,60,75,100,55,80,50,420,2 Defense,3,35,147,Slow,Mineral,,,,40,Ordinary\\n0376,Metagross,3,Steel,Psychic,Iron Leg Pokémon,1.6,550.0,Clear Body,Light Metal,,80,135,130,95,90,70,600,3 Defense,3,35,270,Slow,Mineral,,,,40,Ordinary\\n0377,Regirock,3,Rock,,Rock Peak Pokémon,1.7,230.0,Clear Body,Sturdy,,80,100,200,50,100,50,580,3 Defense,3,35,261,Slow,Undiscovered,,,,80,Legendary\\n0378,Regice,3,Ice,,Iceberg Pokémon,1.8,175.0,Clear Body,Ice Body,,80,50,100,100,200,50,580,3 Sp. Def,3,35,261,Slow,Undiscovered,,,,80,Legendary\\n0379,Registeel,3,Steel,,Iron Pokémon,1.9,205.0,Clear Body,Light Metal,,80,75,150,75,150,50,580,\"2 Defense, 1 Sp. Def\",3,35,261,Slow,Undiscovered,,,,80,Legendary\\n0380,Latias,3,Dragon,Psychic,Eon Pokémon,1.4,40.0,Levitate,,,80,80,90,110,130,110,600,3 Sp. Def,3,90,270,Slow,Undiscovered,,0.0,100.0,120,Legendary\\n0381,Latios,3,Dragon,Psychic,Eon Pokémon,2.0,60.0,Levitate,,,80,90,80,130,110,110,600,3 Sp. Atk,3,90,270,Slow,Undiscovered,,100.0,0.0,120,Legendary\\n0382,Kyogre,3,Water,,Sea Basin Pokémon,4.5,352.0,Drizzle,,,100,100,90,150,140,90,670,3 Sp. Atk,3,0,335,Slow,Undiscovered,,,,120,Legendary\\n0383,Groudon,3,Ground,,Continent Pokémon,3.5,950.0,Drought,,,100,150,140,100,90,90,670,3 Attack,3,0,335,Slow,Undiscovered,,,,120,Legendary\\n0384,Rayquaza,3,Dragon,Flying,Sky High Pokémon,7.0,206.5,Air Lock,,,105,150,90,150,90,95,680,\"2 Attack, 1 Sp. Atk\",45,0,340,Slow,Undiscovered,,,,120,Legendary\\n0385,Jirachi,3,Steel,Psychic,Wish Pokémon,0.3,1.1,Serene Grace,,,100,100,100,100,100,100,600,3 HP,3,100,270,Slow,Undiscovered,,,,120,Mythical\\n0386,Deoxys,3,Psychic,,DNA Pokémon,1.7,60.8,Pressure,,,50,150,50,150,50,150,600,\"1 Attack, 1 Sp. Atk, 1 Speed\",3,0,270,Slow,Undiscovered,,,,120,Mythical\\n0387,Turtwig,4,Grass,,Tiny Leaf Pokémon,0.4,10.2,Overgrow,Shell Armor,,55,68,64,45,55,31,318,1 Attack,45,50,64,Medium Slow,Grass ,Monster,87.5,12.5,20,Ordinary\\n0388,Grotle,4,Grass,,Grove Pokémon,1.1,97.0,Overgrow,Shell Armor,,75,89,85,55,65,36,405,\"1 Attack, 1 Defense\",45,50,142,Medium Slow,Grass ,Monster,87.5,12.5,20,Ordinary\\n0389,Torterra,4,Grass,Ground,Continent Pokémon,2.2,310.0,Overgrow,Shell Armor,,95,109,105,75,85,56,525,\"2 Attack, 1 Defense\",45,50,236,Medium Slow,Grass ,Monster,87.5,12.5,20,Ordinary\\n0390,Chimchar,4,Fire,,Chimp Pokémon,0.5,6.2,Blaze,Iron Fist,,44,58,44,58,44,61,309,1 Speed,45,50,62,Medium Slow,Field ,Human-Like,87.5,12.5,20,Ordinary\\n0391,Monferno,4,Fire,Fighting,Playful Pokémon,0.9,22.0,Blaze,Iron Fist,,64,78,52,78,52,81,405,\"1 Sp. Atk, 1 Speed\",45,50,142,Medium Slow,Field ,Human-Like,87.5,12.5,20,Ordinary\\n0392,Infernape,4,Fire,Fighting,Flame Pokémon,1.2,55.0,Blaze,Iron Fist,,76,104,71,104,71,108,534,\"1 Attack, 1 Sp. Atk, 1 Speed\",45,50,240,Medium Slow,Field ,Human-Like,87.5,12.5,20,Ordinary\\n0393,Piplup,4,Water,,Penguin Pokémon,0.4,5.2,Torrent,Defiant,,53,51,53,61,56,40,314,1 Sp. Atk,45,50,63,Medium Slow,Field ,Water 1,87.5,12.5,20,Ordinary\\n0394,Prinplup,4,Water,,Penguin Pokémon,0.8,23.0,Torrent,Defiant,,64,66,68,81,76,50,405,2 Sp. Atk,45,50,142,Medium Slow,Field ,Water 1,87.5,12.5,20,Ordinary\\n0395,Empoleon,4,Water,Steel,Emperor Pokémon,1.7,84.5,Torrent,Defiant,,84,86,88,111,101,60,530,3 Sp. Atk,45,50,239,Medium Slow,Field ,Water 1,87.5,12.5,20,Ordinary\\n0396,Starly,4,Normal,Flying,Starling Pokémon,0.3,2.0,Keen Eye,Reckless,,40,55,30,30,30,60,245,1 Speed,255,50,49,Medium Slow,Flying,,50.0,50.0,15,Ordinary\\n0397,Staravia,4,Normal,Flying,Starling Pokémon,0.6,15.5,Intimidate,Reckless,,55,75,50,40,40,80,340,2 Speed,120,50,119,Medium Slow,Flying,,50.0,50.0,15,Ordinary\\n0398,Staraptor,4,Normal,Flying,Predator Pokémon,1.2,24.9,Intimidate,Reckless,,85,120,70,50,60,100,485,3 Attack,45,50,243,Medium Slow,Flying,,50.0,50.0,15,Ordinary\\n0399,Bidoof,4,Normal,,Plump Mouse Pokémon,0.5,20.0,Simple,Unaware,Moody,59,45,40,35,40,31,250,1 HP,255,50,50,Medium Fast,Field ,Water 1,50.0,50.0,15,Ordinary\\n0400,Bibarel,4,Normal,Water,Beaver Pokémon,1.0,31.5,Simple,Unaware,Moody,79,85,60,55,60,71,410,2 Attack,127,50,144,Medium Fast,Field ,Water 1,50.0,50.0,15,Ordinary\\n0401,Kricketot,4,Bug,,Cricket Pokémon,0.3,2.2,Shed Skin,Run Away,,37,25,41,25,41,25,194,1 Defense,255,50,39,Medium Slow,Bug,,50.0,50.0,15,Ordinary\\n0402,Kricketune,4,Bug,,Cricket Pokémon,1.0,25.5,Swarm,Technician,,77,85,51,55,51,65,384,2 Attack,45,50,134,Medium Slow,Bug,,50.0,50.0,15,Ordinary\\n0403,Shinx,4,Electric,,Flash Pokémon,0.5,9.5,Rivalry,Intimidate,Guts,45,65,34,40,34,45,263,1 Attack,235,50,53,Medium Slow,Field,,50.0,50.0,20,Ordinary\\n0404,Luxio,4,Electric,,Spark Pokémon,0.9,30.5,Rivalry,Intimidate,Guts,60,85,49,60,49,60,363,2 Attack,120,100,127,Medium Slow,Field,,50.0,50.0,20,Ordinary\\n0405,Luxray,4,Electric,,Gleam Eyes Pokémon,1.4,42.0,Rivalry,Intimidate,Guts,80,120,79,95,79,70,523,3 Attack,45,50,262,Medium Slow,Field,,50.0,50.0,20,Ordinary\\n0406,Budew,4,Grass,Poison,Bud Pokémon,0.2,1.2,Natural Cure,Poison Point,Leaf Guard,40,30,35,50,70,55,280,1 Sp. Atk,255,50,56,Medium Slow,Undiscovered,,50.0,50.0,20,Baby Pokemon\\n0407,Roserade,4,Grass,Poison,Bouquet Pokémon,0.9,14.5,Natural Cure,Poison Point,Technician,60,70,65,125,105,90,515,3 Sp. Atk,75,50,232,Medium Slow,Fairy ,Grass,50.0,50.0,20,Ordinary\\n0408,Cranidos,4,Rock,,Head Butt Pokémon,0.9,31.5,Mold Breaker,Sheer Force,,67,125,40,30,30,58,350,1 Attack,45,50,70,Erratic,Monster,,87.5,12.5,30,Fossil\\n0409,Rampardos,4,Rock,,Head Butt Pokémon,1.6,102.5,Mold Breaker,Sheer Force,,97,165,60,65,50,58,495,2 Attack,45,50,173,Erratic,Monster,,87.5,12.5,30,Fossil\\n0410,Shieldon,4,Rock,Steel,Shield Pokémon,0.5,57.0,Sturdy,Soundproof,,30,42,118,42,88,30,350,1 Defense,45,50,70,Erratic,Monster,,87.5,12.5,30,Fossil\\n0411,Bastiodon,4,Rock,Steel,Shield Pokémon,1.3,149.5,Sturdy,Soundproof,,60,52,168,47,138,30,495,2 Defense,45,50,173,Erratic,Monster,,87.5,12.5,30,Fossil\\n0412,Burmy,4,Bug,,Bagworm Pokémon,0.2,3.4,Shed Skin,Overcoat,,40,29,45,29,45,36,224,1 Sp. Def,120,50,45,Medium Fast,Bug,,50.0,50.0,15,Ordinary\\n0413,Wormadam,4,Bug,Grass,Bagworm Pokémon,0.5,6.5,Anticipation,Overcoat,,60,59,85,79,105,36,424,2 Sp. Def,45,50,148,Medium Fast,Bug,,0.0,100.0,15,Ordinary\\n0414,Mothim,4,Bug,Flying,Moth Pokémon,0.9,23.3,Swarm,Tinted Lens,,70,94,50,94,50,66,424,\"1 Attack, 1 Sp. Atk\",45,50,148,Medium Fast,Bug,,100.0,0.0,15,Ordinary\\n0415,Combee,4,Bug,Flying,Tiny Bee Pokémon,0.3,5.5,Honey Gather,Hustle,,30,30,42,30,42,70,244,1 Speed,120,50,49,Medium Slow,Bug,,87.5,12.5,15,Ordinary\\n0416,Vespiquen,4,Bug,Flying,Beehive Pokémon,1.2,38.5,Pressure,Unnerve,,70,80,102,80,102,40,474,\"1 Defense, 1 Sp. Def\",45,50,166,Medium Slow,Bug,,0.0,100.0,15,Ordinary\\n0417,Pachirisu,4,Electric,,EleSquirrel Pokémon,0.4,3.9,Run Away,Pickup,Volt Absorb,60,45,70,45,90,95,405,1 Speed,200,100,142,Medium Fast,Fairy ,Field,50.0,50.0,10,Ordinary\\n0418,Buizel,4,Water,,Sea Weasel Pokémon,0.7,29.5,Swift Swim,Water Veil,,55,65,35,60,30,85,330,1 Speed,190,50,66,Medium Fast,Field ,Water 1,50.0,50.0,20,Ordinary\\n0419,Floatzel,4,Water,,Sea Weasel Pokémon,1.1,33.5,Swift Swim,Water Veil,,85,105,55,85,50,115,495,2 Speed,75,50,173,Medium Fast,Field ,Water 1,50.0,50.0,20,Ordinary\\n0420,Cherubi,4,Grass,,Cherry Pokémon,0.4,3.3,Chlorophyll,,,45,35,45,62,53,35,275,1 Sp. Atk,190,50,55,Medium Fast,Fairy ,Grass,50.0,50.0,20,Ordinary\\n0421,Cherrim,4,Grass,,Blossom Pokémon,0.5,9.3,Flower Gift,,,70,60,70,87,78,85,450,2 Sp. Atk,75,50,158,Medium Fast,Fairy ,Grass,50.0,50.0,20,Ordinary\\n0422,Shellos,4,Water,,Sea Slug Pokémon,0.3,6.3,Sticky Hold,Storm Drain,Sand Force,76,48,48,57,62,34,325,1 HP,190,50,65,Medium Fast,Amorphous ,Water 1,50.0,50.0,20,Ordinary\\n0423,Gastrodon,4,Water,Ground,Sea Slug Pokémon,0.9,29.9,Sticky Hold,Storm Drain,Sand Force,111,83,68,92,82,39,475,2 HP,75,50,166,Medium Fast,Amorphous ,Water 1,50.0,50.0,20,Ordinary\\n0424,Ambipom,4,Normal,,Long Tail Pokémon,1.2,20.3,Technician,Pickup,Skill Link,75,100,66,60,66,115,482,2 Speed,45,100,169,Fast,Field,,50.0,50.0,20,Ordinary\\n0425,Drifloon,4,Ghost,Flying,Balloon Pokémon,0.4,1.2,Aftermath,Unburden,Flare Boost,90,50,34,60,44,70,348,1 HP,125,50,70,Fluctuating,Amorphous,,50.0,50.0,30,Ordinary\\n0426,Drifblim,4,Ghost,Flying,Blimp Pokémon,1.2,15.0,Aftermath,Unburden,Flare Boost,150,80,44,90,54,80,498,2 HP,60,50,174,Fluctuating,Amorphous,,50.0,50.0,30,Ordinary\\n0427,Buneary,4,Normal,,Rabbit Pokémon,0.4,5.5,Run Away,Klutz,Limber,55,66,44,44,56,85,350,1 Speed,190,0,70,Medium Fast,Field ,Human-Like,50.0,50.0,20,Ordinary\\n0428,Lopunny,4,Normal,,Rabbit Pokémon,1.2,33.3,Cute Charm,Klutz,Limber,65,76,84,54,96,105,480,2 Speed,60,140,168,Medium Fast,Field ,Human-Like,50.0,50.0,20,Ordinary\\n0429,Mismagius,4,Ghost,,Magical Pokémon,0.9,4.4,Levitate,,,60,60,60,105,105,105,495,\"1 Sp. Atk, 1 Sp. Def\",45,35,173,Fast,Amorphous,,50.0,50.0,25,Ordinary\\n0430,Honchkrow,4,Dark,Flying,Big Boss Pokémon,0.9,27.3,Insomnia,Super Luck,Moxie,100,125,52,105,52,71,505,2 Attack,30,35,177,Medium Slow,Flying,,50.0,50.0,20,Ordinary\\n0431,Glameow,4,Normal,,Catty Pokémon,0.5,3.9,Limber,Own Tempo,Keen Eye,49,55,42,42,37,85,310,1 Speed,190,50,62,Fast,Field,,25.0,75.0,20,Ordinary\\n0432,Purugly,4,Normal,,Tiger Cat Pokémon,1.0,43.8,Thick Fat,Own Tempo,Defiant,71,82,64,64,59,112,452,2 Speed,75,50,158,Fast,Field,,25.0,75.0,20,Ordinary\\n0433,Chingling,4,Psychic,,Bell Pokémon,0.2,0.6,Levitate,,,45,30,50,65,50,45,285,1 Sp. Atk,120,50,57,Fast,Undiscovered,,50.0,50.0,25,Baby Pokemon\\n0434,Stunky,4,Poison,Dark,Skunk Pokémon,0.4,19.2,Stench,Aftermath,Keen Eye,63,63,47,41,41,74,329,1 Speed,225,50,66,Medium Fast,Field,,50.0,50.0,20,Ordinary\\n0435,Skuntank,4,Poison,Dark,Skunk Pokémon,1.0,38.0,Stench,Aftermath,Keen Eye,103,93,67,71,61,84,479,2 HP,60,50,168,Medium Fast,Field,,50.0,50.0,20,Ordinary\\n0436,Bronzor,4,Steel,Psychic,Bronze Pokémon,0.5,60.5,Levitate,Heatproof,Heavy Metal,57,24,86,24,86,23,300,1 Defense,255,50,60,Medium Fast,Mineral,,,,20,Ordinary\\n0437,Bronzong,4,Steel,Psychic,Bronze Bell Pokémon,1.3,187.0,Levitate,Heatproof,Heavy Metal,67,89,116,79,116,33,500,\"1 Defense, 1 Sp. Def\",90,50,175,Medium Fast,Mineral,,,,20,Ordinary\\n0438,Bonsly,4,Rock,,Bonsai Pokémon,0.5,15.0,Sturdy,Rock Head,Rattled,50,80,95,10,45,10,290,1 Defense,255,50,58,Medium Fast,Undiscovered,,50.0,50.0,20,Baby Pokemon\\n0439,Mime Jr.,4,Psychic,Fairy,Mime Pokémon,0.6,13.0,Soundproof,Filter,Technician,20,25,45,70,90,60,310,1 Sp. Def,145,50,62,Medium Fast,Undiscovered,,50.0,50.0,25,Baby Pokemon\\n0440,Happiny,4,Normal,,Playhouse Pokémon,0.6,24.4,Natural Cure,Serene Grace,Friend Guard,100,5,5,15,65,30,220,1 HP,130,140,110,Fast,Undiscovered,,0.0,100.0,40,Baby Pokemon\\n0441,Chatot,4,Normal,Flying,Music Note Pokémon,0.5,1.9,Keen Eye,Tangled Feet,Big Pecks,76,65,45,92,42,91,411,1 Attack,30,35,144,Medium Slow,Flying,,50.0,50.0,20,Ordinary\\n0442,Spiritomb,4,Ghost,Dark,Forbidden Pokémon,1.0,108.0,Pressure,Infiltrator,,50,92,108,92,108,35,485,\"1 Defense, 1 Sp. Def\",100,50,170,Medium Fast,Amorphous,,50.0,50.0,30,Ordinary\\n0443,Gible,4,Dragon,Ground,Land Shark Pokémon,0.7,20.5,Sand Veil,Rough Skin,,58,70,45,40,45,42,300,1 Attack,45,50,60,Slow,Dragon ,Monster,50.0,50.0,40,Ordinary\\n0444,Gabite,4,Dragon,Ground,Cave Pokémon,1.4,56.0,Sand Veil,Rough Skin,,68,90,65,50,55,82,410,2 Attack,45,50,144,Slow,Dragon ,Monster,50.0,50.0,40,Ordinary\\n0445,Garchomp,4,Dragon,Ground,Mach Pokémon,1.9,95.0,Sand Veil,Rough Skin,,108,130,95,80,85,102,600,3 Attack,45,50,300,Slow,Dragon ,Monster,50.0,50.0,40,Ordinary\\n0446,Munchlax,4,Normal,,Big Eater Pokémon,0.6,105.0,Pickup,Thick Fat,Gluttony,135,85,40,40,85,5,390,1 HP,50,50,78,Slow,Undiscovered,,87.5,12.5,40,Baby Pokemon\\n0447,Riolu,4,Fighting,,Emanation Pokémon,0.7,20.2,Steadfast,Inner Focus,Prankster,40,70,40,35,40,60,285,1 Attack,75,50,57,Medium Slow,Undiscovered,,87.5,12.5,25,Baby Pokemon\\n0448,Lucario,4,Fighting,Steel,Aura Pokémon,1.2,54.0,Steadfast,Inner Focus,Justified,70,110,70,115,70,90,525,\"1 Attack, 1 Sp. Atk\",45,50,184,Medium Slow,Field ,Human-Like,87.5,12.5,25,Ordinary\\n0449,Hippopotas,4,Ground,,Hippo Pokémon,0.8,49.5,Sand Stream,Sand Force,,68,72,78,38,42,32,330,1 Defense,140,50,66,Slow,Field,,50.0,50.0,30,Ordinary\\n0450,Hippowdon,4,Ground,,Heavyweight Pokémon,2.0,300.0,Sand Stream,Sand Force,,108,112,118,68,72,47,525,2 Defense,60,50,184,Slow,Field,,50.0,50.0,30,Ordinary\\n0451,Skorupi,4,Poison,Bug,Scorpion Pokémon,0.8,12.0,Battle Armor,Sniper,Keen Eye,40,50,90,30,55,65,330,1 Defense,120,50,66,Slow,Bug ,Water 3,50.0,50.0,20,Ordinary\\n0452,Drapion,4,Poison,Dark,Ogre Scorp Pokémon,1.3,61.5,Battle Armor,Sniper,Keen Eye,70,90,110,60,75,95,500,2 Defense,45,50,175,Slow,Bug ,Water 3,50.0,50.0,20,Ordinary\\n0453,Croagunk,4,Poison,Fighting,Toxic Mouth Pokémon,0.7,23.0,Anticipation,Dry Skin,Poison Touch,48,61,40,61,40,50,300,1 Attack,140,100,60,Medium Fast,Human-Like,,50.0,50.0,10,Ordinary\\n0454,Toxicroak,4,Poison,Fighting,Toxic Mouth Pokémon,1.3,44.4,Anticipation,Dry Skin,Poison Touch,83,106,65,86,65,85,490,2 Attack,75,50,172,Medium Fast,Human-Like,,50.0,50.0,20,Ordinary\\n0455,Carnivine,4,Grass,,Bug Catcher Pokémon,1.4,27.0,Levitate,,,74,100,72,90,72,46,454,2 Attack,200,50,159,Slow,Grass,,50.0,50.0,25,Ordinary\\n0456,Finneon,4,Water,,Wing Fish Pokémon,0.4,7.0,Swift Swim,Storm Drain,Water Veil,49,49,56,49,61,66,330,1 Speed,190,50,66,Erratic,Water 2,,50.0,50.0,20,Ordinary\\n0457,Lumineon,4,Water,,Neon Pokémon,1.2,24.0,Swift Swim,Storm Drain,Water Veil,69,69,76,69,86,91,460,2 Speed,75,50,161,Erratic,Water 2,,50.0,50.0,20,Ordinary\\n0458,Mantyke,4,Water,Flying,Kite Pokémon,1.0,65.0,Swift Swim,Water Absorb,Water Veil,45,20,50,60,120,50,345,1 Sp. Def,25,50,69,Slow,Undiscovered,,50.0,50.0,25,Baby Pokemon\\n0459,Snover,4,Grass,Ice,Frost Tree Pokémon,1.0,50.5,Snow Warning,Soundproof,,60,62,50,62,60,40,334,1 Attack,120,50,67,Slow,Grass ,Monster,50.0,50.0,20,Ordinary\\n0460,Abomasnow,4,Grass,Ice,Frost Tree Pokémon,2.2,135.5,Snow Warning,Soundproof,,90,92,75,92,85,60,494,\"1 Attack, 1 Sp. Atk\",60,50,173,Slow,Grass ,Monster,50.0,50.0,20,Ordinary\\n0461,Weavile,4,Dark,Ice,Sharp Claw Pokémon,1.1,34.0,Pressure,Pickpocket,,70,120,65,45,85,125,510,\"1 Attack, 1 Speed\",45,35,179,Medium Slow,Field,,50.0,50.0,20,Ordinary\\n0462,Magnezone,4,Electric,Steel,Magnet Area Pokémon,1.2,180.0,Magnet Pull,Sturdy,Analytic,70,70,115,130,90,60,535,3 Sp. Atk,30,50,268,Medium Fast,Mineral,,,,20,Ordinary\\n0463,Lickilicky,4,Normal,,Licking Pokémon,1.7,140.0,Own Tempo,Oblivious,Cloud Nine,110,85,95,80,95,50,515,3 HP,30,50,180,Medium Fast,Monster,,50.0,50.0,20,Ordinary\\n0464,Rhyperior,4,Ground,Rock,Drill Pokémon,2.4,282.8,Lightning Rod,Solid Rock,Reckless,115,140,130,55,55,40,535,3 Attack,30,50,241,Slow,Field ,Monster,50.0,50.0,20,Ordinary\\n0465,Tangrowth,4,Grass,,Vine Pokémon,2.0,128.6,Chlorophyll,Leaf Guard,Regenerator,100,100,125,110,50,50,535,2 Defense,30,50,187,Medium Fast,Grass,,50.0,50.0,20,Ordinary\\n0466,Electivire,4,Electric,,Thunderbolt Pokémon,1.8,138.6,Motor Drive,Vital Spirit,,75,123,67,95,85,95,540,3 Attack,30,50,243,Medium Fast,Human-Like,,75.0,25.0,25,Ordinary\\n0467,Magmortar,4,Fire,,Blast Pokémon,1.6,68.0,Flame Body,Vital Spirit,,75,95,67,125,95,83,540,3 Sp. Atk,30,50,243,Medium Fast,Human-Like,,75.0,25.0,25,Ordinary\\n0468,Togekiss,4,Fairy,Flying,Jubilee Pokémon,1.5,38.0,Hustle,Serene Grace,Super Luck,85,50,95,120,115,80,545,\"2 Sp. Atk, 1 Sp. Def\",30,50,245,Fast,Fairy ,Flying,87.5,12.5,10,Ordinary\\n0469,Yanmega,4,Bug,Flying,Ogre Darner Pokémon,1.9,51.5,Speed Boost,Tinted Lens,Frisk,86,76,86,116,56,95,515,2 Attack,30,50,180,Medium Fast,Bug,,50.0,50.0,20,Ordinary\\n0470,Leafeon,4,Grass,,Verdant Pokémon,1.0,25.5,Leaf Guard,Chlorophyll,,65,110,130,60,65,95,525,2 Defense,45,35,184,Medium Fast,Field,,87.5,12.5,35,Ordinary\\n0471,Glaceon,4,Ice,,Fresh Snow Pokémon,0.8,25.9,Snow Cloak,Ice Body,,65,60,110,130,95,65,525,2 Sp. Atk,45,35,184,Medium Fast,Field,,87.5,12.5,35,Ordinary\\n0472,Gliscor,4,Ground,Flying,Fang Scorp Pokémon,2.0,42.5,Hyper Cutter,Sand Veil,Poison Heal,75,95,125,45,75,95,510,2 Defense,30,50,179,Medium Slow,Bug,,50.0,50.0,20,Ordinary\\n0473,Mamoswine,4,Ice,Ground,Twin Tusk Pokémon,2.5,291.0,Oblivious,Snow Cloak,Thick Fat,110,130,80,70,60,80,530,3 Attack,50,50,239,Slow,Field,,50.0,50.0,20,Ordinary\\n0474,Porygon-Z,4,Normal,,Virtual Pokémon,0.9,34.0,Adaptability,Download,Analytic,85,80,70,135,75,90,535,3 Sp. Atk,30,50,241,Medium Fast,Mineral,,,,20,Ordinary\\n0475,Gallade,4,Psychic,Fighting,Blade Pokémon,1.6,52.0,Steadfast,Sharpness,Justified,68,125,65,65,115,80,518,3 Attack,45,35,259,Slow,Amorphous ,Human-Like,100.0,0.0,20,Ordinary\\n0476,Probopass,4,Rock,Steel,Compass Pokémon,1.4,340.0,Sturdy,Magnet Pull,Sand Force,60,55,145,75,150,40,525,\"1 Defense, 2 Sp. Def\",60,50,184,Medium Fast,Mineral,,50.0,50.0,20,Ordinary\\n0477,Dusknoir,4,Ghost,,Gripper Pokémon,2.2,106.6,Pressure,Frisk,,45,100,135,65,135,45,525,\"1 Defense, 2 Sp. Def\",45,35,236,Fast,Amorphous,,50.0,50.0,25,Ordinary\\n0478,Froslass,4,Ice,Ghost,Snow Land Pokémon,1.3,26.6,Snow Cloak,Cursed Body,,70,80,70,80,70,110,480,2 Speed,75,50,168,Medium Fast,Fairy ,Mineral,0.0,100.0,20,Ordinary\\n0479,Rotom,4,Electric,Ghost,Plasma Pokémon,0.3,0.3,Levitate,,,50,50,77,95,77,91,440,\"1 Sp. Atk, 1 Speed\",45,50,154,Medium Fast,Amorphous,,,,20,Ordinary\\n0480,Uxie,4,Psychic,,Knowledge Pokémon,0.3,0.3,Levitate,,,75,75,130,75,130,95,580,\"2 Defense, 1 Sp. Def\",3,140,290,Slow,Undiscovered,,,,80,Legendary\\n0481,Mesprit,4,Psychic,,Emotion Pokémon,0.3,0.3,Levitate,,,80,105,105,105,105,80,580,\"1 Attack, 1 Sp. Atk, 1 Sp. Def\",3,140,290,Slow,Undiscovered,,,,80,Legendary\\n0482,Azelf,4,Psychic,,Willpower Pokémon,0.3,0.3,Levitate,,,75,125,70,125,70,115,580,\"2 Attack, 1 Sp. Atk\",3,140,290,Slow,Undiscovered,,,,80,Legendary\\n0483,Dialga,4,Steel,Dragon,Temporal Pokémon,5.4,683.0,Pressure,Telepathy,,100,120,120,150,100,90,680,3 Sp. Atk,3,0,340,Slow,Undiscovered,,,,120,Legendary\\n0484,Palkia,4,Water,Dragon,Spatial Pokémon,4.2,336.0,Pressure,Telepathy,,90,120,100,150,120,100,680,3 Sp. Atk,3,0,340,Slow,Undiscovered,,,,120,Legendary\\n0485,Heatran,4,Fire,Steel,Lava Dome Pokémon,1.7,430.0,Flash Fire,Flame Body,,91,90,106,130,106,77,600,3 Sp. Atk,3,100,300,Slow,Undiscovered,,50.0,50.0,10,Legendary\\n0486,Regigigas,4,Normal,,Colossal Pokémon,3.7,420.0,Slow Start,,,110,160,110,80,110,100,670,3 Attack,3,0,302,Slow,Undiscovered,,,,120,Legendary\\n0487,Giratina,4,Ghost,Dragon,Renegade Pokémon,4.5,750.0,Pressure,Telepathy,,150,100,120,100,120,90,680,3 HP,3,0,340,Slow,Undiscovered,,,,120,Legendary\\n0488,Cresselia,4,Psychic,,Lunar Pokémon,1.5,85.6,Levitate,,,120,70,110,75,120,85,580,3 Sp. Def,3,100,290,Slow,Undiscovered,,0.0,100.0,120,Legendary\\n0489,Phione,4,Water,,Sea Drifter Pokémon,0.4,3.1,Hydration,,,80,80,80,80,80,80,480,1 HP,30,50,216,Slow,Fairy ,Water 1,,,40,Mythical\\n0490,Manaphy,4,Water,,Seafaring Pokémon,0.3,1.4,Hydration,,,100,100,100,100,100,100,600,3 HP,3,50,270,Slow,Fairy ,Water 1,,,10,Mythical\\n0491,Darkrai,4,Dark,,Pitch-Black Pokémon,1.5,50.5,Bad Dreams,,,70,90,90,135,90,125,600,\"2 Sp. Atk, 1 Speed\",3,0,270,Slow,Undiscovered,,,,120,Mythical\\n0492,Shaymin,4,Grass,,Gratitude Pokémon,0.2,2.1,Natural Cure,,,100,100,100,100,100,100,600,3 HP,45,100,270,Medium Slow,Undiscovered,,,,120,Mythical\\n0493,Arceus,4,Normal,,Alpha Pokémon,3.2,320.0,Multitype,,,120,120,120,120,120,120,720,3 HP,3,0,360,Slow,Undiscovered,,,,120,Mythical\\n0494,Victini,5,Psychic,Fire,Victory Pokémon,0.4,4.0,Victory Star,,,100,100,100,100,100,100,600,3 HP,3,100,270,Slow,Undiscovered,,,,120,Mythical\\n0495,Snivy,5,Grass,,Grass Snake Pokémon,0.6,8.1,Overgrow,Contrary,,45,45,55,45,55,63,308,1 Speed,45,50,62,Medium Slow,Field ,Grass,87.5,12.5,20,Ordinary\\n0496,Servine,5,Grass,,Grass Snake Pokémon,0.8,16.0,Overgrow,Contrary,,60,60,75,60,75,83,413,2 Speed,45,50,145,Medium Slow,Field ,Grass,87.5,12.5,20,Ordinary\\n0497,Serperior,5,Grass,,Regal Pokémon,3.3,63.0,Overgrow,Contrary,,75,75,95,75,95,113,528,3 Speed,45,50,238,Medium Slow,Field ,Grass,87.5,12.5,20,Ordinary\\n0498,Tepig,5,Fire,,Fire Pig Pokémon,0.5,9.9,Blaze,Thick Fat,,65,63,45,45,45,45,308,1 HP,45,50,62,Medium Slow,Field,,87.5,12.5,20,Ordinary\\n0499,Pignite,5,Fire,Fighting,Fire Pig Pokémon,1.0,55.5,Blaze,Thick Fat,,90,93,55,70,55,55,418,2 Attack,45,50,146,Medium Slow,Field,,87.5,12.5,20,Ordinary\\n0500,Emboar,5,Fire,Fighting,Mega Fire Pig Pokémon,1.6,150.0,Blaze,Reckless,,110,123,65,100,65,65,528,3 Attack,45,50,238,Medium Slow,Field,,87.5,12.5,20,Ordinary\\n0501,Oshawott,5,Water,,Sea Otter Pokémon,0.5,5.9,Torrent,Shell Armor,,55,55,45,63,45,45,308,1 Sp. Atk,45,50,62,Medium Slow,Field,,87.5,12.5,20,Ordinary\\n0502,Dewott,5,Water,,Discipline Pokémon,0.8,24.5,Torrent,Shell Armor,,75,75,60,83,60,60,413,2 Sp. Atk,45,50,145,Medium Slow,Field,,87.5,12.5,20,Ordinary\\n0503,Samurott,5,Water,,Formidable Pokémon,1.5,94.6,Torrent,Shell Armor,,95,100,85,108,70,70,528,3 Sp. Atk,45,50,264,Medium Slow,Field,,87.5,12.5,20,Ordinary\\n0504,Patrat,5,Normal,,Scout Pokémon,0.5,11.6,Run Away,Keen Eye,Analytic,45,55,39,35,39,42,255,1 Attack,255,50,51,Medium Fast,Field,,50.0,50.0,15,Ordinary\\n0505,Watchog,5,Normal,,Lookout Pokémon,1.1,27.0,Illuminate,Keen Eye,Analytic,60,85,69,60,69,77,420,2 Attack,255,50,147,Medium Fast,Field,,50.0,50.0,20,Ordinary\\n0506,Lillipup,5,Normal,,Puppy Pokémon,0.4,4.1,Vital Spirit,Pickup,Run Away,45,60,45,25,45,55,275,1 Attack,255,50,55,Medium Slow,Field,,50.0,50.0,15,Ordinary\\n0507,Herdier,5,Normal,,Loyal Dog Pokémon,0.9,14.7,Intimidate,Sand Rush,Scrappy,65,80,65,35,65,60,370,2 Attack,120,50,130,Medium Slow,Field,,50.0,50.0,15,Ordinary\\n0508,Stoutland,5,Normal,,Big-Hearted Pokémon,1.2,61.0,Intimidate,Sand Rush,Scrappy,85,110,90,45,90,80,500,3 Attack,45,50,225,Medium Slow,Field,,50.0,50.0,15,Ordinary\\n0509,Purrloin,5,Dark,,Devious Pokémon,0.4,10.1,Limber,Unburden,Prankster,41,50,37,50,37,66,281,1 Speed,255,50,56,Medium Fast,Field,,50.0,50.0,20,Ordinary\\n0510,Liepard,5,Dark,,Cruel Pokémon,1.1,37.5,Limber,Unburden,Prankster,64,88,50,88,50,106,446,2 Speed,90,50,156,Medium Fast,Field,,50.0,50.0,20,Ordinary\\n0511,Pansage,5,Grass,,Grass Monkey Pokémon,0.6,10.5,Gluttony,Overgrow,,50,53,48,53,48,64,316,1 Speed,190,50,63,Medium Fast,Field,,87.5,12.5,20,Ordinary\\n0512,Simisage,5,Grass,,Thorn Monkey Pokémon,1.1,30.5,Gluttony,Overgrow,,75,98,63,98,63,101,498,2 Speed,75,50,174,Medium Fast,Field,,87.5,12.5,20,Ordinary\\n0513,Pansear,5,Fire,,High Temp Pokémon,0.6,11.0,Gluttony,Blaze,,50,53,48,53,48,64,316,1 Speed,190,50,63,Medium Fast,Field,,87.5,12.5,20,Ordinary\\n0514,Simisear,5,Fire,,Ember Pokémon,1.0,28.0,Gluttony,Blaze,,75,98,63,98,63,101,498,2 Speed,75,50,174,Medium Fast,Field,,87.5,12.5,20,Ordinary\\n0515,Panpour,5,Water,,Spray Pokémon,0.6,13.5,Gluttony,Torrent,,50,53,48,53,48,64,316,1 Speed,190,50,63,Medium Fast,Field,,87.5,12.5,20,Ordinary\\n0516,Simipour,5,Water,,Geyser Pokémon,1.0,29.0,Gluttony,Torrent,,75,98,63,98,63,101,498,2 Speed,75,50,174,Medium Fast,Field,,87.5,12.5,20,Ordinary\\n0517,Munna,5,Psychic,,Dream Eater Pokémon,0.6,23.3,Forewarn,Synchronize,Telepathy,76,25,45,67,55,24,292,1 HP,190,50,58,Fast,Field,,50.0,50.0,10,Ordinary\\n0518,Musharna,5,Psychic,,Drowsing Pokémon,1.1,60.5,Forewarn,Synchronize,Telepathy,116,55,85,107,95,29,487,2 HP,75,50,170,Fast,Field,,50.0,50.0,10,Ordinary\\n0519,Pidove,5,Normal,Flying,Tiny Pigeon Pokémon,0.3,2.1,Big Pecks,Super Luck,Rivalry,50,55,50,36,30,43,264,1 Attack,255,50,53,Medium Slow,Flying,,50.0,50.0,15,Ordinary\\n0520,Tranquill,5,Normal,Flying,Wild Pigeon Pokémon,0.6,15.0,Big Pecks,Super Luck,Rivalry,62,77,62,50,42,65,358,2 Attack,120,50,125,Medium Slow,Flying,,50.0,50.0,15,Ordinary\\n0521,Unfezant,5,Normal,Flying,Proud Pokémon,1.2,29.0,Big Pecks,Super Luck,Rivalry,80,115,80,65,55,93,488,3 Attack,45,50,220,Medium Slow,Flying,,50.0,50.0,15,Ordinary\\n0522,Blitzle,5,Electric,,Electrified Pokémon,0.8,29.8,Lightning Rod,Motor Drive,Sap Sipper,45,60,32,50,32,76,295,1 Speed,190,50,59,Medium Fast,Field,,50.0,50.0,20,Ordinary\\n0523,Zebstrika,5,Electric,,Thunderbolt Pokémon,1.6,79.5,Lightning Rod,Motor Drive,Sap Sipper,75,100,63,80,63,116,497,2 Speed,75,50,174,Medium Fast,Field,,50.0,50.0,20,Ordinary\\n0524,Roggenrola,5,Rock,,Mantle Pokémon,0.4,18.0,Sturdy,Weak Armor,Sand Force,55,75,85,25,25,15,280,1 Defense,255,50,56,Medium Slow,Mineral,,50.0,50.0,15,Ordinary\\n0525,Boldore,5,Rock,,Ore Pokémon,0.9,102.0,Sturdy,Weak Armor,Sand Force,70,105,105,50,40,20,390,\"1 Attack, 1 Defense\",120,50,137,Medium Slow,Mineral,,50.0,50.0,15,Ordinary\\n0526,Gigalith,5,Rock,,Compressed Pokémon,1.7,260.0,Sturdy,Sand Stream,Sand Force,85,135,130,60,80,25,515,3 Attack,45,50,232,Medium Slow,Mineral,,50.0,50.0,15,Ordinary\\n0527,Woobat,5,Psychic,Flying,Bat Pokémon,0.4,2.1,Unaware,Klutz,Simple,65,45,43,55,43,72,323,1 Speed,190,50,65,Medium Fast,Field ,Flying,50.0,50.0,15,Ordinary\\n0528,Swoobat,5,Psychic,Flying,Courting Pokémon,0.9,10.5,Unaware,Klutz,Simple,67,57,55,77,55,114,425,2 Speed,45,50,149,Medium Fast,Field ,Flying,50.0,50.0,15,Ordinary\\n0529,Drilbur,5,Ground,,Mole Pokémon,0.3,8.5,Sand Rush,Sand Force,Mold Breaker,60,85,40,30,45,68,328,1 Attack,120,50,66,Medium Fast,Field,,50.0,50.0,20,Ordinary\\n0530,Excadrill,5,Ground,Steel,Subterrene Pokémon,0.7,40.4,Sand Rush,Sand Force,Mold Breaker,110,135,60,50,65,88,508,2 Attack,60,50,178,Medium Fast,Field,,50.0,50.0,20,Ordinary\\n0531,Audino,5,Normal,,Hearing Pokémon,1.1,31.0,Healer,Regenerator,Klutz,103,60,86,60,86,50,445,2 HP,255,50,390,Fast,Fairy,,50.0,50.0,20,Ordinary\\n0532,Timburr,5,Fighting,,Muscular Pokémon,0.6,12.5,Guts,Sheer Force,Iron Fist,75,80,55,25,35,35,305,1 Attack,180,70,61,Medium Slow,Human-Like,,75.0,25.0,20,Ordinary\\n0533,Gurdurr,5,Fighting,,Muscular Pokémon,1.2,40.0,Guts,Sheer Force,Iron Fist,85,105,85,40,50,40,405,2 Attack,90,50,142,Medium Slow,Human-Like,,75.0,25.0,20,Ordinary\\n0534,Conkeldurr,5,Fighting,,Muscular Pokémon,1.4,87.0,Guts,Sheer Force,Iron Fist,105,140,95,55,65,45,505,3 Attack,45,50,227,Medium Slow,Human-Like,,75.0,25.0,20,Ordinary\\n0535,Tympole,5,Water,,Tadpole Pokémon,0.5,4.5,Swift Swim,Hydration,Water Absorb,50,50,40,50,40,64,294,1 Speed,255,50,59,Medium Slow,Water 1,,50.0,50.0,20,Ordinary\\n0536,Palpitoad,5,Water,Ground,Vibration Pokémon,0.8,17.0,Swift Swim,Hydration,Water Absorb,75,65,55,65,55,69,384,2 HP,120,50,134,Medium Slow,Water 1,,50.0,50.0,20,Ordinary\\n0537,Seismitoad,5,Water,Ground,Vibration Pokémon,1.5,62.0,Swift Swim,Poison Touch,Water Absorb,105,95,75,85,75,74,509,3 HP,45,50,229,Medium Slow,Water 1,,50.0,50.0,20,Ordinary\\n0538,Throh,5,Fighting,,Judo Pokémon,1.3,55.5,Guts,Inner Focus,Mold Breaker,120,100,85,30,85,45,465,2 HP,45,50,163,Medium Fast,Human-Like,,100.0,0.0,20,Ordinary\\n0539,Sawk,5,Fighting,,Karate Pokémon,1.4,51.0,Sturdy,Inner Focus,Mold Breaker,75,125,75,30,75,85,465,2 Attack,45,50,163,Medium Fast,Human-Like,,100.0,0.0,20,Ordinary\\n0540,Sewaddle,5,Bug,Grass,Sewing Pokémon,0.3,2.5,Swarm,Chlorophyll,Overcoat,45,53,70,40,60,42,310,1 Defense,255,50,62,Medium Slow,Bug,,50.0,50.0,15,Ordinary\\n0541,Swadloon,5,Bug,Grass,Leaf-Wrapped Pokémon,0.5,7.3,Leaf Guard,Chlorophyll,Overcoat,55,63,90,50,80,42,380,2 Defense,120,50,133,Medium Slow,Bug,,50.0,50.0,15,Ordinary\\n0542,Leavanny,5,Bug,Grass,Nurturing Pokémon,1.2,20.5,Swarm,Chlorophyll,Overcoat,75,103,80,70,80,92,500,3 Attack,45,50,225,Medium Slow,Bug,,50.0,50.0,15,Ordinary\\n0543,Venipede,5,Bug,Poison,Centipede Pokémon,0.4,5.3,Poison Point,Swarm,Speed Boost,30,45,59,30,39,57,260,1 Defense,255,50,52,Medium Slow,Bug,,50.0,50.0,15,Ordinary\\n0544,Whirlipede,5,Bug,Poison,Curlipede Pokémon,1.2,58.5,Poison Point,Swarm,Speed Boost,40,55,99,40,79,47,360,2 Defense,120,50,126,Medium Slow,Bug,,50.0,50.0,15,Ordinary\\n0545,Scolipede,5,Bug,Poison,Megapede Pokémon,2.5,200.5,Poison Point,Swarm,Speed Boost,60,100,89,55,69,112,485,3 Speed,45,50,218,Medium Slow,Bug,,50.0,50.0,20,Ordinary\\n0546,Cottonee,5,Grass,Fairy,Cotton Puff Pokémon,0.3,0.6,Prankster,Infiltrator,Chlorophyll,40,27,60,37,50,66,280,1 Speed,190,50,56,Medium Fast,Fairy ,Grass,50.0,50.0,20,Ordinary\\n0547,Whimsicott,5,Grass,Fairy,Windveiled Pokémon,0.7,6.6,Prankster,Infiltrator,Chlorophyll,60,67,85,77,75,116,480,2 Speed,75,50,168,Medium Fast,Fairy ,Grass,50.0,50.0,20,Ordinary\\n0548,Petilil,5,Grass,,Bulb Pokémon,0.5,6.6,Chlorophyll,Own Tempo,Leaf Guard,45,35,50,70,50,30,280,1 Sp. Atk,190,50,56,Medium Fast,Grass,,0.0,100.0,20,Ordinary\\n0549,Lilligant,5,Grass,,Flowering Pokémon,1.1,16.3,Chlorophyll,Own Tempo,Leaf Guard,70,60,75,110,75,90,480,2 Sp. Atk,75,50,168,Medium Fast,Grass,,0.0,100.0,20,Ordinary\\n0550,Basculin,5,Water,,Hostile Pokémon,1.0,18.0,Reckless,Adaptability,Mold Breaker,70,92,65,80,55,98,460,2 Speed,25,50,161,Medium Fast,Water 2,,50.0,50.0,40,Ordinary\\n0551,Sandile,5,Ground,Dark,Desert Croc Pokémon,0.7,15.2,Intimidate,Moxie,Anger Point,50,72,35,35,35,65,292,1 Attack,180,50,58,Medium Slow,Field,,50.0,50.0,20,Ordinary\\n0552,Krokorok,5,Ground,Dark,Desert Croc Pokémon,1.0,33.4,Intimidate,Moxie,Anger Point,60,82,45,45,45,74,351,2 Attack,90,50,123,Medium Slow,Field,,50.0,50.0,20,Ordinary\\n0553,Krookodile,5,Ground,Dark,Intimidation Pokémon,1.5,96.3,Intimidate,Moxie,Anger Point,95,117,80,65,70,92,519,3 Attack,45,50,260,Medium Slow,Field,,50.0,50.0,20,Ordinary\\n0554,Darumaka,5,Fire,,Zen Charm Pokémon,0.6,37.5,Hustle,Inner Focus,,70,90,45,15,45,50,315,1 Attack,120,50,63,Medium Slow,Field,,50.0,50.0,20,Ordinary\\n0555,Darmanitan,5,Fire,,Blazing Pokémon,1.3,92.9,Sheer Force,Zen Mode,,105,140,55,30,55,95,480,2 Attack,60,50,168,Medium Slow,Field,,50.0,50.0,20,Ordinary\\n0556,Maractus,5,Grass,,Cactus Pokémon,1.0,28.0,Water Absorb,Chlorophyll,Storm Drain,75,86,67,106,67,60,461,2 Sp. Atk,255,50,161,Medium Fast,Grass,,50.0,50.0,20,Ordinary\\n0557,Dwebble,5,Bug,Rock,Rock Inn Pokémon,0.3,14.5,Sturdy,Shell Armor,Weak Armor,50,65,85,35,35,55,325,1 Defense,190,50,65,Medium Fast,Bug ,Mineral,50.0,50.0,20,Ordinary\\n0558,Crustle,5,Bug,Rock,Stone Home Pokémon,1.4,200.0,Sturdy,Shell Armor,Weak Armor,70,105,125,65,75,45,485,2 Defense,75,50,170,Medium Fast,Bug ,Mineral,50.0,50.0,20,Ordinary\\n0559,Scraggy,5,Dark,Fighting,Shedding Pokémon,0.6,11.8,Shed Skin,Moxie,Intimidate,50,75,70,35,70,48,348,1 Attack,180,35,70,Medium Fast,Dragon ,Field,50.0,50.0,15,Ordinary\\n0560,Scrafty,5,Dark,Fighting,Hoodlum Pokémon,1.1,30.0,Shed Skin,Moxie,Intimidate,65,90,115,45,115,58,488,\"1 Defense, 1 Sp. Def\",90,50,171,Medium Fast,Dragon ,Field,50.0,50.0,15,Ordinary\\n0561,Sigilyph,5,Psychic,Flying,Avianoid Pokémon,1.4,14.0,Wonder Skin,Magic Guard,Tinted Lens,72,58,80,103,80,97,490,2 Sp. Atk,45,50,172,Medium Fast,Flying,,50.0,50.0,20,Ordinary\\n0562,Yamask,5,Ghost,,Spirit Pokémon,0.5,1.5,Mummy,,,38,30,85,55,65,30,303,1 Defense,190,50,61,Medium Fast,Amorphous ,Mineral,50.0,50.0,25,Ordinary\\n0563,Cofagrigus,5,Ghost,,Coffin Pokémon,1.7,76.5,Mummy,,,58,50,145,95,105,30,483,2 Defense,90,50,169,Medium Fast,Amorphous ,Mineral,50.0,50.0,25,Ordinary\\n0564,Tirtouga,5,Water,Rock,Prototurtle Pokémon,0.7,16.5,Solid Rock,Sturdy,Swift Swim,54,78,103,53,45,22,355,1 Defense,45,50,71,Medium Fast,Water 1 ,Water 3,87.5,12.5,30,Fossil\\n0565,Carracosta,5,Water,Rock,Prototurtle Pokémon,1.2,81.0,Solid Rock,Sturdy,Swift Swim,74,108,133,83,65,32,495,2 Defense,45,50,173,Medium Fast,Water 1 ,Water 3,87.5,12.5,30,Fossil\\n0566,Archen,5,Rock,Flying,First Bird Pokémon,0.5,9.5,Defeatist,,,55,112,45,74,45,70,401,1 Attack,45,50,71,Medium Fast,Flying ,Water 3,87.5,12.5,30,Fossil\\n0567,Archeops,5,Rock,Flying,First Bird Pokémon,1.4,32.0,Defeatist,,,75,140,65,112,65,110,567,2 Attack,45,50,177,Medium Fast,Flying ,Water 3,87.5,12.5,30,Fossil\\n0568,Trubbish,5,Poison,,Trash Bag Pokémon,0.6,31.0,Stench,Sticky Hold,Aftermath,50,50,62,40,62,65,329,1 Speed,190,50,66,Medium Fast,Mineral,,50.0,50.0,20,Ordinary\\n0569,Garbodor,5,Poison,,Trash Heap Pokémon,1.9,107.3,Stench,Weak Armor,Aftermath,80,95,82,60,82,75,474,2 Attack,60,50,166,Medium Fast,Mineral,,50.0,50.0,20,Ordinary\\n0570,Zorua,5,Dark,,Tricky Fox Pokémon,0.7,12.5,Illusion,,,40,65,40,80,40,65,330,1 Sp. Atk,75,50,66,Medium Slow,Field,,87.5,12.5,25,Ordinary\\n0571,Zoroark,5,Dark,,Illusion Fox Pokémon,1.6,81.1,Illusion,,,60,105,60,120,60,105,510,2 Sp. Atk,45,50,179,Medium Slow,Field,,87.5,12.5,20,Ordinary\\n0572,Minccino,5,Normal,,Chinchilla Pokémon,0.4,5.8,Cute Charm,Technician,Skill Link,55,50,40,40,40,75,300,1 Speed,255,50,60,Fast,Field,,25.0,75.0,15,Ordinary\\n0573,Cinccino,5,Normal,,Scarf Pokémon,0.5,7.5,Cute Charm,Technician,Skill Link,75,95,60,65,60,115,470,2 Speed,60,50,165,Fast,Field,,25.0,75.0,15,Ordinary\\n0574,Gothita,5,Psychic,,Fixation Pokémon,0.4,5.8,Frisk,Competitive,Shadow Tag,45,30,50,55,65,45,290,1 Sp. Def,200,50,58,Medium Slow,Human-Like,,25.0,75.0,20,Ordinary\\n0575,Gothorita,5,Psychic,,Manipulate Pokémon,0.7,18.0,Frisk,Competitive,Shadow Tag,60,45,70,75,85,55,390,2 Sp. Def,100,50,137,Medium Slow,Human-Like,,25.0,75.0,20,Ordinary\\n0576,Gothitelle,5,Psychic,,Astral Body Pokémon,1.5,44.0,Frisk,Competitive,Shadow Tag,70,55,95,95,110,65,490,3 Sp. Def,50,50,245,Medium Slow,Human-Like,,25.0,75.0,20,Ordinary\\n0577,Solosis,5,Psychic,,Cell Pokémon,0.3,1.0,Overcoat,Magic Guard,Regenerator,45,30,40,105,50,20,290,1 Sp. Atk,200,50,58,Medium Slow,Amorphous,,50.0,50.0,20,Ordinary\\n0578,Duosion,5,Psychic,,Mitosis Pokémon,0.6,8.0,Overcoat,Magic Guard,Regenerator,65,40,50,125,60,30,370,2 Sp. Atk,100,50,130,Medium Slow,Amorphous,,50.0,50.0,20,Ordinary\\n0579,Reuniclus,5,Psychic,,Multiplying Pokémon,1.0,20.1,Overcoat,Magic Guard,Regenerator,110,65,75,125,85,30,490,3 Sp. Atk,50,50,221,Medium Slow,Amorphous,,50.0,50.0,20,Ordinary\\n0580,Ducklett,5,Water,Flying,Water Bird Pokémon,0.5,5.5,Keen Eye,Big Pecks,Hydration,62,44,50,44,50,55,305,1 HP,190,50,61,Medium Fast,Flying ,Water 1,50.0,50.0,20,Ordinary\\n0581,Swanna,5,Water,Flying,White Bird Pokémon,1.3,24.2,Keen Eye,Big Pecks,Hydration,75,87,63,87,63,98,473,2 Speed,45,50,166,Medium Fast,Flying ,Water 1,50.0,50.0,20,Ordinary\\n0582,Vanillite,5,Ice,,Fresh Snow Pokémon,0.4,5.7,Ice Body,Snow Cloak,Weak Armor,36,50,50,65,60,44,305,1 Sp. Atk,255,50,61,Slow,Mineral,,50.0,50.0,20,Ordinary\\n0583,Vanillish,5,Ice,,Icy Snow Pokémon,1.1,41.0,Ice Body,Snow Cloak,Weak Armor,51,65,65,80,75,59,395,2 Sp. Atk,120,50,138,Slow,Mineral,,50.0,50.0,20,Ordinary\\n0584,Vanilluxe,5,Ice,,Snowstorm Pokémon,1.3,57.5,Ice Body,Snow Warning,Weak Armor,71,95,85,110,95,79,535,3 Sp. Atk,45,50,241,Slow,Mineral,,50.0,50.0,20,Ordinary\\n0585,Deerling,5,Normal,Grass,Season Pokémon,0.6,19.5,Chlorophyll,Sap Sipper,Serene Grace,60,60,50,40,50,75,335,1 Speed,190,50,67,Medium Fast,Field,,50.0,50.0,20,Ordinary\\n0586,Sawsbuck,5,Normal,Grass,Season Pokémon,1.9,92.5,Chlorophyll,Sap Sipper,Serene Grace,80,100,70,60,70,95,475,2 Attack,75,50,166,Medium Fast,Field,,50.0,50.0,20,Ordinary\\n0587,Emolga,5,Electric,Flying,Sky Squirrel Pokémon,0.4,5.0,Static,Motor Drive,,55,75,60,75,60,103,428,2 Speed,200,50,150,Medium Fast,Field,,50.0,50.0,20,Ordinary\\n0588,Karrablast,5,Bug,,Clamping Pokémon,0.5,5.9,Swarm,Shed Skin,No Guard,50,75,45,40,45,60,315,1 Attack,200,50,63,Medium Fast,Bug,,50.0,50.0,15,Ordinary\\n0589,Escavalier,5,Bug,Steel,Cavalry Pokémon,1.0,33.0,Swarm,Shell Armor,Overcoat,70,135,105,60,105,20,495,2 Attack,75,50,173,Medium Fast,Bug,,50.0,50.0,15,Ordinary\\n0590,Foongus,5,Grass,Poison,Mushroom Pokémon,0.2,1.0,Effect Spore,Regenerator,,69,55,45,55,55,15,294,1 HP,190,50,59,Medium Fast,Grass,,50.0,50.0,20,Ordinary\\n0591,Amoonguss,5,Grass,Poison,Mushroom Pokémon,0.6,10.5,Effect Spore,Regenerator,,114,85,70,85,80,30,464,2 HP,75,50,162,Medium Fast,Grass,,50.0,50.0,20,Ordinary\\n0592,Frillish,5,Water,Ghost,Floating Pokémon,1.2,33.0,Water Absorb,Cursed Body,Damp,55,40,50,65,85,40,335,1 Sp. Def,190,50,67,Medium Fast,Amorphous,,50.0,50.0,20,Ordinary\\n0593,Jellicent,5,Water,Ghost,Floating Pokémon,2.2,135.0,Water Absorb,Cursed Body,Damp,100,60,70,85,105,60,480,2 Sp. Def,60,50,168,Medium Fast,Amorphous,,50.0,50.0,20,Ordinary\\n0594,Alomomola,5,Water,,Caring Pokémon,1.2,31.6,Healer,Hydration,Regenerator,165,75,80,40,45,65,470,2 HP,75,50,165,Fast,Water 1 ,Water 2,50.0,50.0,40,Ordinary\\n0595,Joltik,5,Bug,Electric,Attaching Pokémon,0.1,0.6,Compound Eyes,Unnerve,Swarm,50,47,50,57,50,65,319,1 Speed,190,50,64,Medium Fast,Bug,,50.0,50.0,20,Ordinary\\n0596,Galvantula,5,Bug,Electric,EleSpider Pokémon,0.8,14.3,Compound Eyes,Unnerve,Swarm,70,77,60,97,60,108,472,2 Speed,75,50,165,Medium Fast,Bug,,50.0,50.0,20,Ordinary\\n0597,Ferroseed,5,Grass,Steel,Thorn Seed Pokémon,0.6,18.8,Iron Barbs,,,44,50,91,24,86,10,305,1 Defense,255,50,61,Medium Fast,Grass ,Mineral,50.0,50.0,20,Ordinary\\n0598,Ferrothorn,5,Grass,Steel,Thorn Pod Pokémon,1.0,110.0,Iron Barbs,Anticipation,,74,94,131,54,116,20,489,2 Defense,90,50,171,Medium Fast,Grass ,Mineral,50.0,50.0,20,Ordinary\\n0599,Klink,5,Steel,,Gear Pokémon,0.3,21.0,Plus,Minus,Clear Body,40,55,70,45,60,30,300,1 Defense,130,50,60,Medium Slow,Mineral,,,,20,Ordinary\\n0600,Klang,5,Steel,,Gear Pokémon,0.6,51.0,Plus,Minus,Clear Body,60,80,95,70,85,50,440,2 Defense,60,50,154,Medium Slow,Mineral,,,,20,Ordinary\\n0601,Klinklang,5,Steel,,Gear Pokémon,0.6,81.0,Plus,Minus,Clear Body,60,100,115,70,85,90,520,3 Defense,30,50,234,Medium Slow,Mineral,,,,20,Ordinary\\n0602,Tynamo,5,Electric,,EleFish Pokémon,0.2,0.3,Levitate,,,35,55,40,45,40,60,275,1 Speed,190,50,55,Slow,Amorphous,,50.0,50.0,20,Ordinary\\n0603,Eelektrik,5,Electric,,EleFish Pokémon,1.2,22.0,Levitate,,,65,85,70,75,70,40,405,2 Attack,60,50,142,Slow,Amorphous,,50.0,50.0,20,Ordinary\\n0604,Eelektross,5,Electric,,EleFish Pokémon,2.1,80.5,Levitate,,,85,115,80,105,80,50,515,3 Attack,30,50,258,Slow,Amorphous,,50.0,50.0,20,Ordinary\\n0605,Elgyem,5,Psychic,,Cerebral Pokémon,0.5,9.0,Telepathy,Synchronize,Analytic,55,55,55,85,55,30,335,1 Sp. Atk,255,50,67,Medium Fast,Human-Like,,50.0,50.0,20,Ordinary\\n0606,Beheeyem,5,Psychic,,Cerebral Pokémon,1.0,34.5,Telepathy,Synchronize,Analytic,75,75,75,125,95,40,485,2 Sp. Atk,90,50,170,Medium Fast,Human-Like,,50.0,50.0,20,Ordinary\\n0607,Litwick,5,Ghost,Fire,Candle Pokémon,0.3,3.1,Flash Fire,Flame Body,Infiltrator,50,30,55,65,55,20,275,1 Sp. Atk,190,50,55,Medium Slow,Amorphous,,50.0,50.0,20,Ordinary\\n0608,Lampent,5,Ghost,Fire,Lamp Pokémon,0.6,13.0,Flash Fire,Flame Body,Infiltrator,60,40,60,95,60,55,370,2 Sp. Atk,90,50,130,Medium Slow,Amorphous,,50.0,50.0,20,Ordinary\\n0609,Chandelure,5,Ghost,Fire,Luring Pokémon,1.0,34.3,Flash Fire,Flame Body,Infiltrator,60,55,90,145,90,80,520,3 Sp. Atk,45,50,234,Medium Slow,Amorphous,,50.0,50.0,20,Ordinary\\n0610,Axew,5,Dragon,,Tusk Pokémon,0.6,18.0,Rivalry,Mold Breaker,Unnerve,46,87,60,30,40,57,320,1 Attack,75,35,64,Slow,Dragon ,Monster,50.0,50.0,40,Ordinary\\n0611,Fraxure,5,Dragon,,Axe Jaw Pokémon,1.0,36.0,Rivalry,Mold Breaker,Unnerve,66,117,70,40,50,67,410,2 Attack,60,35,144,Slow,Dragon ,Monster,50.0,50.0,40,Ordinary\\n0612,Haxorus,5,Dragon,,Axe Jaw Pokémon,1.8,105.5,Rivalry,Mold Breaker,Unnerve,76,147,90,60,70,97,540,3 Attack,45,35,270,Slow,Dragon ,Monster,50.0,50.0,40,Ordinary\\n0613,Cubchoo,5,Ice,,Chill Pokémon,0.5,8.5,Snow Cloak,Slush Rush,Rattled,55,70,40,60,40,40,305,1 Attack,120,50,61,Medium Fast,Field,,50.0,50.0,20,Ordinary\\n0614,Beartic,5,Ice,,Freezing Pokémon,2.6,260.0,Snow Cloak,Slush Rush,Swift Swim,95,130,80,70,80,50,505,2 Attack,60,50,177,Medium Fast,Field,,50.0,50.0,20,Ordinary\\n0615,Cryogonal,5,Ice,,Crystallizing Pokémon,1.1,148.0,Levitate,,,80,50,50,95,135,105,515,2 Sp. Def,25,50,180,Medium Fast,Mineral,,,,25,Ordinary\\n0616,Shelmet,5,Bug,,Snail Pokémon,0.4,7.7,Hydration,Shell Armor,Overcoat,50,40,85,40,65,25,305,1 Defense,200,50,61,Medium Fast,Bug,,50.0,50.0,15,Ordinary\\n0617,Accelgor,5,Bug,,Shell Out Pokémon,0.8,25.3,Hydration,Sticky Hold,Unburden,80,70,40,100,60,145,495,2 Speed,75,50,173,Medium Fast,Bug,,50.0,50.0,15,Ordinary\\n0618,Stunfisk,5,Ground,Electric,Trap Pokémon,0.7,11.0,Static,Limber,Sand Veil,109,66,84,81,99,32,471,2 HP,75,70,165,Medium Fast,Amorphous ,Water 1,50.0,50.0,20,Ordinary\\n0619,Mienfoo,5,Fighting,,Martial Arts Pokémon,0.9,20.0,Inner Focus,Regenerator,Reckless,45,85,50,55,50,65,350,1 Attack,180,50,70,Medium Slow,Field ,Human-Like,50.0,50.0,25,Ordinary\\n0620,Mienshao,5,Fighting,,Martial Arts Pokémon,1.4,35.5,Inner Focus,Regenerator,Reckless,65,125,60,95,60,105,510,2 Attack,45,50,179,Medium Slow,Field ,Human-Like,50.0,50.0,25,Ordinary\\n0621,Druddigon,5,Dragon,,Cave Pokémon,1.6,139.0,Rough Skin,Sheer Force,Mold Breaker,77,120,90,60,90,48,485,2 Attack,45,50,170,Medium Fast,Dragon ,Monster,50.0,50.0,30,Ordinary\\n0622,Golett,5,Ground,Ghost,Automaton Pokémon,1.0,92.0,Iron Fist,Klutz,No Guard,59,74,50,35,50,35,303,1 Attack,190,50,61,Medium Fast,Mineral,,,,25,Ordinary\\n0623,Golurk,5,Ground,Ghost,Automaton Pokémon,2.8,330.0,Iron Fist,Klutz,No Guard,89,124,80,55,80,55,483,2 Attack,90,50,169,Medium Fast,Mineral,,,,25,Ordinary\\n0624,Pawniard,5,Dark,Steel,Sharp Blade Pokémon,0.5,10.2,Defiant,Inner Focus,Pressure,45,85,70,40,40,60,340,1 Attack,120,35,68,Medium Fast,Human-Like,,50.0,50.0,20,Ordinary\\n0625,Bisharp,5,Dark,Steel,Sword Blade Pokémon,1.6,70.0,Defiant,Inner Focus,Pressure,65,125,100,60,70,70,490,2 Attack,45,35,172,Medium Fast,Human-Like,,50.0,50.0,20,Ordinary\\n0626,Bouffalant,5,Normal,,Bash Buffalo Pokémon,1.6,94.6,Reckless,Sap Sipper,Soundproof,95,110,95,40,95,55,490,2 Attack,45,50,172,Medium Fast,Field,,50.0,50.0,20,Ordinary\\n0627,Rufflet,5,Normal,Flying,Eaglet Pokémon,0.5,10.5,Keen Eye,Sheer Force,Hustle,70,83,50,37,50,60,350,1 Attack,190,50,70,Slow,Flying,,100.0,0.0,20,Ordinary\\n0628,Braviary,5,Normal,Flying,Valiant Pokémon,1.5,41.0,Keen Eye,Sheer Force,Defiant,100,123,75,57,75,80,510,2 Attack,60,50,179,Slow,Flying,,100.0,0.0,20,Ordinary\\n0629,Vullaby,5,Dark,Flying,Diapered Pokémon,0.5,9.0,Big Pecks,Overcoat,Weak Armor,70,55,75,45,65,60,370,1 Defense,190,35,74,Slow,Flying,,0.0,100.0,20,Ordinary\\n0630,Mandibuzz,5,Dark,Flying,Bone Vulture Pokémon,1.2,39.5,Big Pecks,Overcoat,Weak Armor,110,65,105,55,95,80,510,2 Sp. Atk,60,35,179,Slow,Flying,,0.0,100.0,20,Ordinary\\n0631,Heatmor,5,Fire,,Anteater Pokémon,1.4,58.0,Gluttony,Flash Fire,White Smoke,85,97,66,105,66,65,484,2 Sp. Atk,90,50,169,Medium Fast,Field,,50.0,50.0,20,Ordinary\\n0632,Durant,5,Bug,Steel,Iron Ant Pokémon,0.3,33.0,Swarm,Hustle,Truant,58,109,112,48,48,109,484,2 Defense,90,50,169,Medium Fast,Bug,,50.0,50.0,20,Ordinary\\n0633,Deino,5,Dark,Dragon,Irate Pokémon,0.8,17.3,Hustle,,,52,65,50,45,50,38,300,1 Attack,45,35,60,Slow,Dragon,,50.0,50.0,40,Ordinary\\n0634,Zweilous,5,Dark,Dragon,Hostile Pokémon,1.4,50.0,Hustle,,,72,85,70,65,70,58,420,2 Attack,45,35,147,Slow,Dragon,,50.0,50.0,40,Ordinary\\n0635,Hydreigon,5,Dark,Dragon,Brutal Pokémon,1.8,160.0,Levitate,,,92,105,90,125,90,98,600,3 Sp. Atk,45,35,300,Slow,Dragon,,50.0,50.0,40,Ordinary\\n0636,Larvesta,5,Bug,Fire,Torch Pokémon,1.1,28.8,Flame Body,Swarm,,55,85,55,50,55,60,360,1 Attack,45,50,72,Slow,Bug,,50.0,50.0,40,Ordinary\\n0637,Volcarona,5,Bug,Fire,Sun Pokémon,1.6,46.0,Flame Body,Swarm,,85,60,65,135,105,100,550,3 Sp. Atk,15,50,275,Slow,Bug,,50.0,50.0,40,Ordinary\\n0638,Cobalion,5,Steel,Fighting,Iron Will Pokémon,2.1,250.0,Justified,,,91,90,129,90,72,108,580,3 Defense,3,35,261,Slow,Undiscovered,,,,80,Legendary\\n0639,Terrakion,5,Rock,Fighting,Cavern Pokémon,1.9,260.0,Justified,,,91,129,90,72,90,108,580,3 Attack,3,35,261,Slow,Undiscovered,,,,80,Legendary\\n0640,Virizion,5,Grass,Fighting,Grassland Pokémon,2.0,200.0,Justified,,,91,90,72,90,129,108,580,3 Sp. Def,3,35,261,Slow,Undiscovered,,,,80,Legendary\\n0641,Tornadus,5,Flying,,Cyclone Pokémon,1.5,63.0,Prankster,Defiant,,79,115,70,125,80,111,580,3 Attack,3,90,290,Slow,Undiscovered,,100.0,0.0,120,Legendary\\n0642,Thundurus,5,Electric,Flying,Bolt Strike Pokémon,1.5,61.0,Prankster,Defiant,,79,115,70,125,80,111,580,3 Attack,3,90,290,Slow,Undiscovered,,100.0,0.0,120,Legendary\\n0643,Reshiram,5,Dragon,Fire,Vast White Pokémon,3.2,330.0,Turboblaze,,,100,120,100,150,120,90,680,3 Sp. Atk,3,0,306,Slow,Undiscovered,,,,120,Legendary\\n0644,Zekrom,5,Dragon,Electric,Deep Black Pokémon,2.9,345.0,Teravolt,,,100,150,120,120,100,90,680,3 Attack,3,0,306,Slow,Undiscovered,,,,120,Legendary\\n0645,Landorus,5,Ground,Flying,Abundance Pokémon,1.5,68.0,Sand Force,Sheer Force,,89,125,90,115,80,101,600,3 Sp. Atk,3,90,300,Slow,Undiscovered,,100.0,0.0,120,Legendary\\n0646,Kyurem,5,Dragon,Ice,Boundary Pokémon,3.0,325.0,Pressure,,,125,130,90,130,90,95,660,\"1 HP, 1 Attack, 1 Sp. Atk\",3,0,297,Slow,Undiscovered,,,,120,Legendary\\n0647,Keldeo,5,Water,Fighting,Colt Pokémon,1.4,48.5,Justified,,,91,72,90,129,90,108,580,3 Sp. Atk,3,35,261,Slow,Undiscovered,,,,80,Mythical\\n0648,Meloetta,5,Normal,Psychic,Melody Pokémon,0.6,6.5,Serene Grace,,,100,77,77,128,128,90,600,\"1 Sp. Atk, 1 Sp. Def, 1 Speed\",3,100,300,Slow,Undiscovered,,,,120,Mythical\\n0649,Genesect,5,Bug,Steel,Paleozoic Pokémon,1.5,82.5,Download,,,71,120,95,120,95,99,600,\"1 Attack, 1 Sp. Atk, 1 Speed\",3,0,270,Slow,Undiscovered,,,,120,Mythical\\n0650,Chespin,6,Grass,,Spiny Nut Pokémon,0.4,9.0,Overgrow,Bulletproof,,56,61,65,48,45,38,313,1 Defense,45,50,63,Medium Slow,Field,,87.5,12.5,20,Ordinary\\n0651,Quilladin,6,Grass,,Spiny Armor Pokémon,0.7,29.0,Overgrow,Bulletproof,,61,78,95,56,58,57,405,2 Defense,45,50,142,Medium Slow,Field,,87.5,12.5,20,Ordinary\\n0652,Chesnaught,6,Grass,Fighting,Spiny Armor Pokémon,1.6,90.0,Overgrow,Bulletproof,,88,107,122,74,75,64,530,3 Defense,45,50,265,Medium Slow,Field,,87.5,12.5,20,Ordinary\\n0653,Fennekin,6,Fire,,Fox Pokémon,0.4,9.4,Blaze,Magician,,40,45,40,62,60,60,307,1 Sp. Atk,45,50,61,Medium Slow,Field,,87.5,12.5,20,Ordinary\\n0654,Braixen,6,Fire,,Fox Pokémon,1.0,14.5,Blaze,Magician,,59,59,58,90,70,73,409,2 Sp. Atk,45,50,143,Medium Slow,Field,,87.5,12.5,20,Ordinary\\n0655,Delphox,6,Fire,Psychic,Fox Pokémon,1.5,39.0,Blaze,Magician,,75,69,72,114,100,104,534,3 Sp. Atk,45,50,267,Medium Slow,Field,,87.5,12.5,20,Ordinary\\n0656,Froakie,6,Water,,Bubble Frog Pokémon,0.3,7.0,Torrent,Protean,,41,56,40,62,44,71,314,1 Speed,45,50,63,Medium Slow,Water 1,,87.5,12.5,20,Ordinary\\n0657,Frogadier,6,Water,,Bubble Frog Pokémon,0.6,10.9,Torrent,Protean,,54,63,52,83,56,97,405,2 Speed,45,50,142,Medium Slow,Water 1,,87.5,12.5,20,Ordinary\\n0658,Greninja,6,Water,Dark,Ninja Pokémon,1.5,40.0,Torrent,Protean,,72,95,67,103,71,122,530,3 Speed,45,50,265,Medium Slow,Water 1,,87.5,12.5,20,Ordinary\\n0659,Bunnelby,6,Normal,,Digging Pokémon,0.4,5.0,Pickup,Cheek Pouch,Huge Power,38,36,38,32,36,57,237,1 Speed,255,50,47,Medium Fast,Field,,50.0,50.0,15,Ordinary\\n0660,Diggersby,6,Normal,Ground,Digging Pokémon,1.0,42.4,Pickup,Cheek Pouch,Huge Power,85,56,77,50,77,78,423,2 HP,127,50,148,Medium Fast,Field,,50.0,50.0,15,Ordinary\\n0661,Fletchling,6,Normal,Flying,Tiny Robin Pokémon,0.3,1.7,Big Pecks,Gale Wings,,45,50,43,40,38,62,278,1 Speed,255,50,56,Medium Slow,Flying,,50.0,50.0,15,Ordinary\\n0662,Fletchinder,6,Fire,Flying,Ember Pokémon,0.7,16.0,Flame Body,Gale Wings,,62,73,55,56,52,84,382,2 Speed,120,50,134,Medium Slow,Flying,,50.0,50.0,15,Ordinary\\n0663,Talonflame,6,Fire,Flying,Scorching Pokémon,1.2,24.5,Flame Body,Gale Wings,,78,81,71,74,69,126,499,3 Speed,45,50,175,Medium Slow,Flying,,50.0,50.0,15,Ordinary\\n0664,Scatterbug,6,Bug,,Scatterdust Pokémon,0.3,2.5,Shield Dust,Compound Eyes,Friend Guard,38,35,40,27,25,35,200,1 Defense,255,50,40,Medium Fast,Bug,,50.0,50.0,15,Ordinary\\n0665,Spewpa,6,Bug,,Scatterdust Pokémon,0.3,8.4,Shed Skin,Friend Guard,,45,22,60,27,30,29,213,2 Defense,120,50,75,Medium Fast,Bug,,50.0,50.0,15,Ordinary\\n0666,Vivillon,6,Bug,Flying,Scale Pokémon,1.2,17.0,Shield Dust,Compound Eyes,Friend Guard,80,52,50,90,50,89,411,\"1 HP, 1 Sp. Atk, 1 Speed\",45,50,206,Medium Fast,Bug,,50.0,50.0,15,Ordinary\\n0667,Litleo,6,Fire,Normal,Lion Cub Pokémon,0.6,13.5,Rivalry,Unnerve,Moxie,62,50,58,73,54,72,369,1 Sp. Atk,220,50,74,Medium Slow,Field,,12.5,87.5,20,Ordinary\\n0668,Pyroar,6,Fire,Normal,Royal Pokémon,1.5,81.5,Rivalry,Unnerve,Moxie,86,68,72,109,66,106,507,2 Sp. Atk,65,50,177,Medium Slow,Field,,12.5,87.5,20,Ordinary\\n0669,Flabébé,6,Fairy,,Single Bloom Pokémon,0.1,0.1,Flower Veil,Symbiosis,,44,38,39,61,79,42,303,1 Sp. Def,225,50,61,Medium Fast,Fairy,,0.0,100.0,20,Ordinary\\n0670,Floette,6,Fairy,,Single Bloom Pokémon,0.2,0.9,Flower Veil,Symbiosis,,54,45,47,75,98,52,371,2 Sp. Def,120,50,130,Medium Fast,Fairy,,0.0,100.0,20,Ordinary\\n0671,Florges,6,Fairy,,Garden Pokémon,1.1,10.0,Flower Veil,Symbiosis,,78,65,68,112,154,75,552,3 Sp. Def,45,50,276,Medium Fast,Fairy,,0.0,100.0,20,Ordinary\\n0672,Skiddo,6,Grass,,Mount Pokémon,0.9,31.0,Sap Sipper,Grass Pelt,,66,65,48,62,57,52,350,1 HP,200,50,70,Medium Fast,Field,,50.0,50.0,20,Ordinary\\n0673,Gogoat,6,Grass,,Mount Pokémon,1.7,91.0,Sap Sipper,Grass Pelt,,123,100,62,97,81,68,531,2 HP,45,50,186,Medium Fast,Field,,50.0,50.0,20,Ordinary\\n0674,Pancham,6,Fighting,,Playful Pokémon,0.6,8.0,Iron Fist,Mold Breaker,Scrappy,67,82,62,46,48,43,348,1 Attack,220,50,70,Medium Fast,Field ,Human-Like,50.0,50.0,25,Ordinary\\n0675,Pangoro,6,Fighting,Dark,Daunting Pokémon,2.1,136.0,Iron Fist,Mold Breaker,Scrappy,95,124,78,69,71,58,495,2 Attack,65,50,173,Medium Fast,Field ,Human-Like,50.0,50.0,25,Ordinary\\n0676,Furfrou,6,Normal,,Poodle Pokémon,1.2,28.0,Fur Coat,,,75,80,60,65,90,102,472,1 Speed,160,50,165,Medium Fast,Field,,50.0,50.0,20,Ordinary\\n0677,Espurr,6,Psychic,,Restraint Pokémon,0.3,3.5,Keen Eye,Infiltrator,Own Tempo,62,48,54,63,60,68,355,1 Speed,190,50,71,Medium Fast,Field,,50.0,50.0,20,Ordinary\\n0678,Meowstic,6,Psychic,,Constraint Pokémon,0.6,8.5,Keen Eye,Infiltrator,Prankster,74,48,76,83,81,104,466,2 Speed,75,50,163,Medium Fast,Field,,100.0,0.0,20,Ordinary\\n0679,Honedge,6,Steel,Ghost,Sword Pokémon,0.8,2.0,No Guard,,,45,80,100,35,37,28,325,1 Defense,180,50,65,Medium Fast,Mineral,,50.0,50.0,20,Ordinary\\n0680,Doublade,6,Steel,Ghost,Sword Pokémon,0.8,4.5,No Guard,,,59,110,150,45,49,35,448,2 Defense,90,50,157,Medium Fast,Mineral,,50.0,50.0,20,Ordinary\\n0681,Aegislash,6,Steel,Ghost,Royal Sword Pokémon,1.7,53.0,Stance Change,,,60,50,140,50,140,60,500,\"2 Defense, 1 Sp. Def\",45,50,234,Medium Fast,Mineral,,50.0,50.0,20,Ordinary\\n0682,Spritzee,6,Fairy,,Perfume Pokémon,0.2,0.5,Healer,Aroma Veil,,78,52,60,63,65,23,341,1 HP,200,50,68,Medium Fast,Fairy,,50.0,50.0,20,Ordinary\\n0683,Aromatisse,6,Fairy,,Fragrance Pokémon,0.8,15.5,Healer,Aroma Veil,,101,72,72,99,89,29,462,2 HP,140,50,162,Medium Fast,Fairy,,50.0,50.0,20,Ordinary\\n0684,Swirlix,6,Fairy,,Cotton Candy Pokémon,0.4,3.5,Sweet Veil,Unburden,,62,48,66,59,57,49,341,1 Defense,200,50,68,Medium Fast,Fairy,,50.0,50.0,20,Ordinary\\n0685,Slurpuff,6,Fairy,,Meringue Pokémon,0.8,5.0,Sweet Veil,Unburden,,82,80,86,85,75,72,480,2 Defense,140,50,168,Medium Fast,Fairy,,50.0,50.0,20,Ordinary\\n0686,Inkay,6,Dark,Psychic,Revolving Pokémon,0.4,3.5,Contrary,Suction Cups,Infiltrator,53,54,53,37,46,45,288,1 Attack,190,50,58,Medium Fast,Water 1 ,Water 2,50.0,50.0,20,Ordinary\\n0687,Malamar,6,Dark,Psychic,Overturning Pokémon,1.5,47.0,Contrary,Suction Cups,Infiltrator,86,92,88,68,75,73,482,2 Attack,80,50,169,Medium Fast,Water 1 ,Water 2,50.0,50.0,20,Ordinary\\n0688,Binacle,6,Rock,Water,Two-Handed Pokémon,0.5,31.0,Sniper,Tough Claws,Pickpocket,42,52,67,39,56,50,306,1 Attack,120,50,61,Medium Fast,Water 3,,50.0,50.0,20,Ordinary\\n0689,Barbaracle,6,Rock,Water,Collective Pokémon,1.3,96.0,Sniper,Tough Claws,Pickpocket,72,105,115,54,86,68,500,2 Attack,45,50,175,Medium Fast,Water 3,,50.0,50.0,20,Ordinary\\n0690,Skrelp,6,Poison,Water,Mock Kelp Pokémon,0.5,7.3,Poison Point,Poison Touch,Adaptability,50,60,60,60,60,30,320,1 Sp. Def,225,50,64,Medium Fast,Dragon ,Water 1,50.0,50.0,20,Ordinary\\n0691,Dragalge,6,Poison,Dragon,Mock Kelp Pokémon,1.8,81.5,Poison Point,Poison Touch,Adaptability,65,75,90,97,123,44,494,2 Sp. Def,55,50,173,Medium Fast,Dragon ,Water 1,50.0,50.0,20,Ordinary\\n0692,Clauncher,6,Water,,Water Gun Pokémon,0.5,8.3,Mega Launcher,,,50,53,62,58,63,44,330,1 Sp. Atk,225,50,66,Slow,Water 1 ,Water 3,50.0,50.0,15,Ordinary\\n0693,Clawitzer,6,Water,,Howitzer Pokémon,1.3,35.3,Mega Launcher,,,71,73,88,120,89,59,500,2 Sp. Atk,55,50,100,Slow,Water 1 ,Water 3,50.0,50.0,15,Ordinary\\n0694,Helioptile,6,Electric,Normal,Generator Pokémon,0.5,6.0,Dry Skin,Sand Veil,Solar Power,44,38,33,61,43,70,289,1 Speed,190,50,58,Medium Fast,Dragon ,Monster,50.0,50.0,20,Ordinary\\n0695,Heliolisk,6,Electric,Normal,Generator Pokémon,1.0,21.0,Dry Skin,Sand Veil,Solar Power,62,55,52,109,94,109,481,\"1 Sp. Atk, 1 Speed\",75,50,168,Medium Fast,Dragon ,Monster,50.0,50.0,20,Ordinary\\n0696,Tyrunt,6,Rock,Dragon,Royal Heir Pokémon,0.8,26.0,Strong Jaw,Sturdy,,58,89,77,45,45,48,362,1 Attack,45,50,72,Medium Fast,Dragon ,Monster,87.5,12.5,30,Fossil\\n0697,Tyrantrum,6,Rock,Dragon,Despot Pokémon,2.5,270.0,Strong Jaw,Rock Head,,82,121,119,69,59,71,521,2 Attack,45,50,182,Medium Fast,Dragon ,Monster,87.5,12.5,30,Fossil\\n0698,Amaura,6,Rock,Ice,Tundra Pokémon,1.3,25.2,Refrigerate,Snow Warning,,77,59,50,67,63,46,362,1 HP,45,50,72,Medium Fast,Monster,,87.5,12.5,30,Fossil\\n0699,Aurorus,6,Rock,Ice,Tundra Pokémon,2.7,225.0,Refrigerate,Snow Warning,,123,77,72,99,92,58,521,2 HP,45,50,104,Medium Fast,Monster,,87.5,12.5,30,Fossil\\n0700,Sylveon,6,Fairy,,Intertwining Pokémon,1.0,23.5,Cute Charm,Pixilate,,95,65,65,110,130,60,525,2 Sp. Def,45,50,184,Medium Fast,Field,,87.5,12.5,35,Ordinary\\n0701,Hawlucha,6,Fighting,Flying,Wrestling Pokémon,0.8,21.5,Limber,Unburden,Mold Breaker,78,92,75,74,63,118,500,2 Attack,100,50,175,Medium Fast,Flying ,Human-Like,50.0,50.0,20,Ordinary\\n0702,Dedenne,6,Electric,Fairy,Antenna Pokémon,0.2,2.2,Cheek Pouch,Pickup,Plus,67,58,57,81,67,101,431,2 Speed,180,50,151,Medium Fast,Fairy ,Field,50.0,50.0,20,Ordinary\\n0703,Carbink,6,Rock,Fairy,Jewel Pokémon,0.3,5.7,Clear Body,Sturdy,,50,50,150,50,150,50,500,\"1 Defense, 1 Sp. Def\",60,50,100,Slow,Fairy ,Mineral,,,25,Ordinary\\n0704,Goomy,6,Dragon,,Soft Tissue Pokémon,0.3,2.8,Sap Sipper,Hydration,Gooey,45,50,35,55,75,40,300,1 Sp. Def,45,35,60,Slow,Dragon,,50.0,50.0,40,Ordinary\\n0705,Sliggoo,6,Dragon,,Soft Tissue Pokémon,0.8,17.5,Sap Sipper,Hydration,Gooey,68,75,53,83,113,60,452,2 Sp. Def,45,35,158,Slow,Dragon,,50.0,50.0,40,Ordinary\\n0706,Goodra,6,Dragon,,Dragon Pokémon,2.0,150.5,Sap Sipper,Hydration,Gooey,90,100,70,110,150,80,600,3 Sp. Def,45,35,300,Slow,Dragon,,50.0,50.0,40,Ordinary\\n0707,Klefki,6,Steel,Fairy,Key Ring Pokémon,0.2,3.0,Prankster,Magician,,57,80,91,80,87,75,470,1 Defense,75,50,165,Fast,Mineral,,50.0,50.0,20,Ordinary\\n0708,Phantump,6,Ghost,Grass,Stump Pokémon,0.4,7.0,Natural Cure,Frisk,Harvest,43,70,48,50,60,38,309,1 Attack,120,50,62,Medium Fast,Amorphous ,Grass,50.0,50.0,20,Ordinary\\n0709,Trevenant,6,Ghost,Grass,Elder Tree Pokémon,1.5,71.0,Natural Cure,Frisk,Harvest,85,110,76,65,82,56,474,2 Attack,60,50,166,Medium Fast,Amorphous ,Grass,50.0,50.0,20,Ordinary\\n0710,Pumpkaboo,6,Ghost,Grass,Pumpkin Pokémon,0.4,5.0,Pickup,Frisk,Insomnia,49,66,70,44,55,51,335,1 Defense,120,50,67,Medium Fast,Amorphous,,50.0,50.0,20,Ordinary\\n0711,Gourgeist,6,Ghost,Grass,Pumpkin Pokémon,0.9,12.5,Pickup,Frisk,Insomnia,65,90,122,58,75,84,494,2 Defense,60,50,173,Medium Fast,Amorphous,,50.0,50.0,20,Ordinary\\n0712,Bergmite,6,Ice,,Ice Chunk Pokémon,1.0,99.5,Own Tempo,Ice Body,Sturdy,55,69,85,32,35,28,304,1 Defense,190,50,61,Medium Fast,Mineral ,Monster,50.0,50.0,20,Ordinary\\n0713,Avalugg,6,Ice,,Iceberg Pokémon,2.0,505.0,Own Tempo,Ice Body,Sturdy,95,117,184,44,46,28,514,2 Defense,55,50,180,Medium Fast,Mineral ,Monster,50.0,50.0,20,Ordinary\\n0714,Noibat,6,Flying,Dragon,Sound Wave Pokémon,0.5,8.0,Frisk,Infiltrator,Telepathy,40,30,35,45,40,55,245,1 Speed,190,50,49,Medium Fast,Dragon ,Flying,50.0,50.0,20,Ordinary\\n0715,Noivern,6,Flying,Dragon,Sound Wave Pokémon,1.5,85.0,Frisk,Infiltrator,Telepathy,85,70,80,97,80,123,535,2 Speed,45,50,187,Medium Fast,Dragon ,Flying,50.0,50.0,20,Ordinary\\n0716,Xerneas,6,Fairy,,Life Pokémon,3.0,215.0,Fairy Aura,,,126,131,95,131,98,99,680,3 HP,45,0,306,Slow,Undiscovered,,,,120,Legendary\\n0717,Yveltal,6,Dark,Flying,Destruction Pokémon,5.8,203.0,Dark Aura,,,126,131,95,131,98,99,680,3 HP,45,0,306,Slow,Undiscovered,,,,120,Legendary\\n0718,Zygarde,6,Dragon,Ground,Order Pokémon,5.0,305.0,Aura Break,Power Construct,,108,100,121,81,95,95,600,3 HP,3,0,270,Slow,Undiscovered,,,,120,Legendary\\n0719,Diancie,6,Rock,Fairy,Jewel Pokémon,0.7,8.8,Clear Body,,,50,100,150,100,150,50,600,\"1 Defense, 2 Sp. Def\",3,50,300,Slow,Undiscovered,,,,25,Mythical\\n0720,Hoopa,6,Psychic,Ghost,Mischief Pokémon,0.5,9.0,Magician,,,80,110,60,150,130,70,600,3 Sp. Atk,3,100,300,Slow,Undiscovered,,,,120,Mythical\\n0721,Volcanion,6,Fire,Water,Steam Pokémon,1.7,195.0,Water Absorb,,,80,110,120,130,90,70,600,3 Sp. Atk,3,100,300,Slow,Undiscovered,,,,120,Mythical\\n0722,Rowlet,7,Grass,Flying,Grass Quill Pokémon,0.3,1.5,Overgrow,Long Reach,,68,55,55,50,50,42,320,1 HP,45,50,64,Medium Slow,Flying,,87.5,12.5,15,Ordinary\\n0723,Dartrix,7,Grass,Flying,Blade Quill Pokémon,0.7,16.0,Overgrow,Long Reach,,78,75,75,70,70,52,420,2 HP,45,50,147,Medium Slow,Flying,,87.5,12.5,15,Ordinary\\n0724,Decidueye,7,Grass,Ghost,Arrow Quill Pokémon,1.6,36.6,Overgrow,Long Reach,,78,107,75,100,100,70,530,3 Attack,45,50,265,Medium Slow,Flying,,87.5,12.5,15,Ordinary\\n0725,Litten,7,Fire,,Fire Cat Pokémon,0.4,4.3,Blaze,Intimidate,,45,65,40,60,40,70,320,1 Speed,45,50,64,Medium Slow,Field,,87.5,12.5,15,Ordinary\\n0726,Torracat,7,Fire,,Fire Cat Pokémon,0.7,25.0,Blaze,Intimidate,,65,85,50,80,50,90,420,2 Speed,45,50,147,Medium Slow,Field,,87.5,12.5,15,Ordinary\\n0727,Incineroar,7,Fire,Dark,Heel Pokémon,1.8,83.0,Blaze,Intimidate,,95,115,90,80,90,60,530,3 Attack,45,50,239,Medium Slow,Field,,87.5,12.5,15,Ordinary\\n0728,Popplio,7,Water,,Sea Lion Pokémon,0.4,7.5,Torrent,Liquid Voice,,50,54,54,66,56,40,320,1 Sp. Atk,45,50,64,Medium Slow,Field ,Water 1,87.5,12.5,15,Ordinary\\n0729,Brionne,7,Water,,Pop Star Pokémon,0.6,17.5,Torrent,Liquid Voice,,60,69,69,91,81,50,420,2 Sp. Atk,45,50,147,Medium Slow,Field ,Water 1,87.5,12.5,15,Ordinary\\n0730,Primarina,7,Water,Fairy,Soloist Pokémon,1.8,44.0,Torrent,Liquid Voice,,80,74,74,126,116,60,530,3 Sp. Atk,45,50,239,Medium Slow,Field ,Water 1,87.5,12.5,15,Ordinary\\n0731,Pikipek,7,Normal,Flying,Woodpecker Pokémon,0.3,1.2,Keen Eye,Skill Link,Pickup,35,75,30,30,30,65,265,1 Attack,255,50,53,Medium Fast,Flying,,50.0,50.0,15,Ordinary\\n0732,Trumbeak,7,Normal,Flying,Bugle Beak Pokémon,0.6,14.8,Keen Eye,Skill Link,Pickup,55,85,50,40,50,75,355,2 Attack,120,50,124,Medium Fast,Flying,,50.0,50.0,15,Ordinary\\n0733,Toucannon,7,Normal,Flying,Cannon Pokémon,1.1,26.0,Keen Eye,Skill Link,Sheer Force,80,120,75,75,75,60,485,3 Attack,45,50,218,Medium Fast,Flying,,50.0,50.0,15,Ordinary\\n0734,Yungoos,7,Normal,,Loitering Pokémon,0.4,6.0,Strong Jaw,Stakeout,Adaptability,48,70,30,30,30,45,253,1 Attack,255,50,51,Medium Fast,Field,,50.0,50.0,15,Ordinary\\n0735,Gumshoos,7,Normal,,Stakeout Pokémon,0.7,14.2,Strong Jaw,Stakeout,Adaptability,88,110,60,55,60,45,418,2 Attack,127,50,146,Medium Fast,Field,,50.0,50.0,15,Ordinary\\n0736,Grubbin,7,Bug,,Larva Pokémon,0.4,4.4,Swarm,,,47,62,45,55,45,46,300,1 Attack,255,50,60,Medium Fast,Bug,,50.0,50.0,15,Ordinary\\n0737,Charjabug,7,Bug,Electric,Battery Pokémon,0.5,10.5,Battery,,,57,82,95,55,75,36,400,2 Defense,120,50,140,Medium Fast,Bug,,50.0,50.0,15,Ordinary\\n0738,Vikavolt,7,Bug,Electric,Stag Beetle Pokémon,1.5,45.0,Levitate,,,77,70,90,145,75,43,500,3 Sp. Atk,45,50,225,Medium Fast,Bug,,50.0,50.0,15,Ordinary\\n0739,Crabrawler,7,Fighting,,Boxing Pokémon,0.6,7.0,Hyper Cutter,Iron Fist,Anger Point,47,82,57,42,47,63,338,1 Attack,225,50,68,Medium Fast,Water 3,,50.0,50.0,20,Ordinary\\n0740,Crabominable,7,Fighting,Ice,Woolly Crab Pokémon,1.7,180.0,Hyper Cutter,Iron Fist,Anger Point,97,132,77,62,67,43,478,2 Attack,60,50,167,Medium Fast,Water 3,,50.0,50.0,20,Ordinary\\n0741,Oricorio,7,Fire,Flying,Dancing Pokémon,0.6,3.4,Dancer,,,75,70,70,98,70,93,476,2 Sp. Atk,45,50,167,Medium Fast,Flying,,25.0,75.0,20,Ordinary\\n0742,Cutiefly,7,Bug,Fairy,Bee Fly Pokémon,0.1,0.2,Honey Gather,Shield Dust,Sweet Veil,40,45,40,55,40,84,304,1 Speed,190,50,61,Medium Fast,Bug ,Fairy,50.0,50.0,20,Ordinary\\n0743,Ribombee,7,Bug,Fairy,Bee Fly Pokémon,0.2,0.5,Honey Gather,Shield Dust,Sweet Veil,60,55,60,95,70,124,464,2 Speed,75,50,162,Medium Fast,Bug ,Fairy,50.0,50.0,20,Ordinary\\n0744,Rockruff,7,Rock,,Puppy Pokémon,0.5,9.2,Keen Eye,Vital Spirit,Steadfast,45,65,40,30,40,60,280,1 Attack,190,50,56,Medium Fast,Field,,50.0,50.0,15,Ordinary\\n0745,Lycanroc,7,Rock,,Wolf Pokémon,0.8,25.0,Keen Eye,Sand Rush,Steadfast,75,115,65,55,65,112,487,2 Attack,90,50,170,Medium Fast,Field,,50.0,50.0,15,Ordinary\\n0746,Wishiwashi,7,Water,,Small Fry Pokémon,0.2,0.3,Schooling,,,45,20,20,25,25,40,175,1 HP,60,50,61,Fast,Water 2,,50.0,50.0,15,Ordinary\\n0747,Mareanie,7,Poison,Water,Brutal Star Pokémon,0.4,8.0,Merciless,Limber,Regenerator,50,53,62,43,52,45,305,1 Defense,190,50,61,Medium Fast,Water 1,,50.0,50.0,20,Ordinary\\n0748,Toxapex,7,Poison,Water,Brutal Star Pokémon,0.7,14.5,Merciless,Limber,Regenerator,50,63,152,53,142,35,495,2 Defense,75,50,173,Medium Fast,Water 1,,50.0,50.0,20,Ordinary\\n0749,Mudbray,7,Ground,,Donkey Pokémon,1.0,110.0,Own Tempo,Stamina,Inner Focus,70,100,70,45,55,45,385,1 Attack,190,50,77,Medium Fast,Field,,50.0,50.0,20,Ordinary\\n0750,Mudsdale,7,Ground,,Draft Horse Pokémon,2.5,920.0,Own Tempo,Stamina,Inner Focus,100,125,100,55,85,35,500,2 Attack,60,50,175,Medium Fast,Field,,50.0,50.0,20,Ordinary\\n0751,Dewpider,7,Water,Bug,Water Bubble Pokémon,0.3,4.0,Water Bubble,Water Absorb,,38,40,52,40,72,27,269,1 Sp. Def,200,50,54,Medium Fast,Bug ,Water 1,50.0,50.0,15,Ordinary\\n0752,Araquanid,7,Water,Bug,Water Bubble Pokémon,1.8,82.0,Water Bubble,Water Absorb,,68,70,92,50,132,42,454,2 Sp. Def,100,50,159,Medium Fast,Bug ,Water 1,50.0,50.0,15,Ordinary\\n0753,Fomantis,7,Grass,,Sickle Grass Pokémon,0.3,1.5,Leaf Guard,Contrary,,40,55,35,50,35,35,250,1 Attack,190,50,50,Medium Fast,Grass,,50.0,50.0,20,Ordinary\\n0754,Lurantis,7,Grass,,Bloom Sickle Pokémon,0.9,18.5,Leaf Guard,Contrary,,70,105,90,80,90,45,480,2 Attack,75,50,168,Medium Fast,Grass,,50.0,50.0,20,Ordinary\\n0755,Morelull,7,Grass,Fairy,Illuminating Pokémon,0.2,1.5,Illuminate,Effect Spore,Rain Dish,40,35,55,65,75,15,285,1 Sp. Def,190,50,57,Medium Fast,Grass,,50.0,50.0,20,Ordinary\\n0756,Shiinotic,7,Grass,Fairy,Illuminating Pokémon,1.0,11.5,Illuminate,Effect Spore,Rain Dish,60,45,80,90,100,30,405,2 Sp. Def,75,50,142,Medium Fast,Grass,,50.0,50.0,20,Ordinary\\n0757,Salandit,7,Poison,Fire,Toxic Lizard Pokémon,0.6,4.8,Corrosion,Oblivious,,48,44,40,71,40,77,320,1 Speed,120,50,64,Medium Fast,Dragon ,Monster,87.5,12.5,20,Ordinary\\n0758,Salazzle,7,Poison,Fire,Toxic Lizard Pokémon,1.2,22.2,Corrosion,Oblivious,,68,64,60,111,60,117,480,2 Speed,45,50,168,Medium Fast,Dragon ,Monster,0.0,100.0,20,Ordinary\\n0759,Stufful,7,Normal,Fighting,Flailing Pokémon,0.5,6.8,Fluffy,Klutz,Cute Charm,70,75,50,45,50,50,340,1 Attack,140,50,68,Medium Fast,Field,,50.0,50.0,15,Ordinary\\n0760,Bewear,7,Normal,Fighting,Strong Arm Pokémon,2.1,135.0,Fluffy,Klutz,Unnerve,120,125,80,55,60,60,500,2 Attack,70,50,175,Medium Fast,Field,,50.0,50.0,15,Ordinary\\n0761,Bounsweet,7,Grass,,Fruit Pokémon,0.3,3.2,Leaf Guard,Oblivious,Sweet Veil,42,30,38,30,38,32,210,1 HP,235,50,42,Medium Slow,Grass,,0.0,100.0,20,Ordinary\\n0762,Steenee,7,Grass,,Fruit Pokémon,0.7,8.2,Leaf Guard,Oblivious,Sweet Veil,52,40,48,40,48,62,290,2 Speed,120,50,102,Medium Slow,Grass,,0.0,100.0,20,Ordinary\\n0763,Tsareena,7,Grass,,Fruit Pokémon,1.2,21.4,Leaf Guard,Queenly Majesty,Sweet Veil,72,120,98,50,98,72,510,3 Attack,45,50,255,Medium Slow,Grass,,0.0,100.0,20,Ordinary\\n0764,Comfey,7,Fairy,,Posy Picker Pokémon,0.1,0.3,Flower Veil,Triage,Natural Cure,51,52,90,82,110,100,485,2 Sp. Def,60,50,170,Fast,Grass,,25.0,75.0,20,Ordinary\\n0765,Oranguru,7,Normal,Psychic,Sage Pokémon,1.5,76.0,Inner Focus,Telepathy,Symbiosis,90,60,80,90,110,60,490,2 Sp. Def,45,50,172,Slow,Field,,50.0,50.0,20,Ordinary\\n0766,Passimian,7,Fighting,,Teamwork Pokémon,2.0,82.8,Receiver,Defiant,,100,120,90,40,60,80,490,2 Attack,45,50,172,Slow,Field,,50.0,50.0,20,Ordinary\\n0767,Wimpod,7,Bug,Water,Turn Tail Pokémon,0.5,12.0,Wimp Out,,,25,35,40,20,30,80,230,1 Speed,90,50,46,Medium Fast,Bug ,Water 3,50.0,50.0,20,Ordinary\\n0768,Golisopod,7,Bug,Water,Hard Scale Pokémon,2.0,108.0,Emergency Exit,,,75,125,140,60,90,40,530,2 Defense,45,50,186,Medium Fast,Bug ,Water 3,50.0,50.0,20,Ordinary\\n0769,Sandygast,7,Ghost,Ground,Sand Heap Pokémon,0.5,70.0,Water Compaction,Sand Veil,,55,55,80,70,45,15,320,1 Defense,140,50,64,Medium Fast,Amorphous,,50.0,50.0,15,Ordinary\\n0770,Palossand,7,Ghost,Ground,Sand Castle Pokémon,1.3,250.0,Water Compaction,Sand Veil,,85,75,110,100,75,35,480,2 Defense,60,50,168,Medium Fast,Amorphous,,50.0,50.0,15,Ordinary\\n0771,Pyukumuku,7,Water,,Sea Cucumber Pokémon,0.3,1.2,Innards Out,Unaware,,55,60,130,30,130,5,410,2 Sp. Def,60,50,144,Fast,Water 1,,50.0,50.0,15,Ordinary\\n0772,Type: Null,7,Normal,,Synthetic Pokémon,1.9,120.5,Battle Armor,,,95,95,95,95,95,59,534,2 HP,3,0,107,Slow,Undiscovered,,,,120,Legendary\\n0773,Silvally,7,Normal,,Synthetic Pokémon,2.3,100.5,RKS System,,,95,95,95,95,95,95,570,3 HP,3,0,257,Slow,Undiscovered,,,,120,Legendary\\n0774,Minior,7,Rock,Flying,Meteor Pokémon,0.3,40.0,Shields Down,,,60,60,100,60,100,60,440,\"1 Defense, 1 Sp. Def\",30,50,154,Medium Slow,Mineral,,,,25,Ordinary\\n0775,Komala,7,Normal,,Drowsing Pokémon,0.4,19.9,Comatose,,,65,115,65,75,95,65,480,2 Attack,45,50,168,Slow,Field,,50.0,50.0,20,Ordinary\\n0776,Turtonator,7,Fire,Dragon,Blast Turtle Pokémon,2.0,212.0,Shell Armor,,,60,78,135,91,85,36,485,2 Defense,70,50,170,Medium Fast,Dragon ,Monster,50.0,50.0,20,Ordinary\\n0777,Togedemaru,7,Electric,Steel,Roly-Poly Pokémon,0.3,3.3,Iron Barbs,Lightning Rod,Sturdy,65,98,63,40,73,96,435,2 Attack,180,50,152,Medium Fast,Fairy ,Field,50.0,50.0,10,Ordinary\\n0778,Mimikyu,7,Ghost,Fairy,Disguise Pokémon,0.2,0.7,Disguise,,,55,90,80,50,105,96,476,2 Sp. Def,45,50,167,Medium Fast,Amorphous,,50.0,50.0,20,Ordinary\\n0779,Bruxish,7,Water,Psychic,Gnash Teeth Pokémon,0.9,19.0,Dazzling,Strong Jaw,Wonder Skin,68,105,70,70,70,92,475,2 Attack,80,50,166,Medium Fast,Water 2,,50.0,50.0,15,Ordinary\\n0780,Drampa,7,Normal,Dragon,Placid Pokémon,3.0,185.0,Berserk,Sap Sipper,Cloud Nine,78,60,85,135,91,36,485,2 Sp. Atk,70,50,170,Medium Fast,Dragon ,Monster,50.0,50.0,20,Ordinary\\n0781,Dhelmise,7,Ghost,Grass,Sea Creeper Pokémon,3.9,210.0,Steelworker,,,70,131,100,86,90,40,517,2 Attack,25,50,181,Medium Fast,Mineral,,,,25,Ordinary\\n0782,Jangmo-o,7,Dragon,,Scaly Pokémon,0.6,29.7,Bulletproof,Soundproof,Overcoat,45,55,65,45,45,45,300,1 Defense,45,50,60,Slow,Dragon,,50.0,50.0,40,Ordinary\\n0783,Hakamo-o,7,Dragon,Fighting,Scaly Pokémon,1.2,47.0,Bulletproof,Soundproof,Overcoat,55,75,90,65,70,65,420,2 Defense,45,50,147,Slow,Dragon,,50.0,50.0,40,Ordinary\\n0784,Kommo-o,7,Dragon,Fighting,Scaly Pokémon,1.6,78.2,Bulletproof,Soundproof,Overcoat,75,110,125,100,105,85,600,3 Defense,45,50,270,Slow,Dragon,,50.0,50.0,40,Ordinary\\n0785,Tapu Koko,7,Electric,Fairy,Land Spirit Pokémon,1.8,20.5,Electric Surge,Telepathy,,70,115,85,95,75,130,570,3 Speed,3,50,257,Slow,Undiscovered,,,,15,Legendary\\n0786,Tapu Lele,7,Psychic,Fairy,Land Spirit Pokémon,1.2,18.6,Psychic Surge,Telepathy,,70,85,75,130,115,95,570,3 Sp. Atk,3,50,257,Slow,Undiscovered,,,,15,Legendary\\n0787,Tapu Bulu,7,Grass,Fairy,Land Spirit Pokémon,1.9,45.5,Grassy Surge,Telepathy,,70,130,115,85,95,75,570,3 Attack,3,50,257,Slow,Undiscovered,,,,15,Legendary\\n0788,Tapu Fini,7,Water,Fairy,Land Spirit Pokémon,1.3,21.2,Misty Surge,Telepathy,,70,75,115,95,130,85,570,3 Sp. Def,3,50,257,Slow,Undiscovered,,,,15,Legendary\\n0789,Cosmog,7,Psychic,,Nebula Pokémon,0.2,0.1,Unaware,,,43,29,31,29,31,37,200,1 HP,45,0,40,Slow,Undiscovered,,,,120,Legendary\\n0790,Cosmoem,7,Psychic,,Protostar Pokémon,0.1,999.9,Sturdy,,,43,29,131,29,131,37,400,\"1 Defense, 1 Sp. Def\",45,0,140,Slow,Undiscovered,,,,120,Legendary\\n0791,Solgaleo,7,Psychic,Steel,Sunne Pokémon,3.4,230.0,Full Metal Body,,,137,137,107,113,89,97,680,3 Attack,45,0,306,Slow,Undiscovered,,,,120,Legendary\\n0792,Lunala,7,Psychic,Ghost,Moone Pokémon,4.0,120.0,Shadow Shield,,,137,113,89,137,107,97,680,3 Sp. Atk,45,0,306,Slow,Undiscovered,,,,120,Legendary\\n0793,Nihilego,7,Rock,Poison,Parasite Pokémon,1.2,55.5,Beast Boost,,,109,53,47,127,131,103,570,3 Sp. Def,45,0,257,Slow,Undiscovered,,,,120,Ultra Beast\\n0794,Buzzwole,7,Bug,Fighting,Swollen Pokémon,2.4,333.6,Beast Boost,,,107,139,139,53,53,79,570,\"1 Attack, 2 Defense\",45,0,257,Slow,Undiscovered,,,,120,Ultra Beast\\n0795,Pheromosa,7,Bug,Fighting,Lissome Pokémon,1.8,25.0,Beast Boost,,,71,137,37,137,37,151,570,3 Speed,45,0,257,Slow,Undiscovered,,,,120,Ultra Beast\\n0796,Xurkitree,7,Electric,,Glowing Pokémon,3.8,100.0,Beast Boost,,,83,89,71,173,71,83,570,3 Sp. Atk,45,0,257,Slow,Undiscovered,,,,120,Ultra Beast\\n0797,Celesteela,7,Steel,Flying,Launch Pokémon,9.2,999.9,Beast Boost,,,97,101,103,107,101,61,570,\"1 Attack, 1 Defense, 1 Sp. Atk\",45,0,257,Slow,Undiscovered,,,,120,Ultra Beast\\n0798,Kartana,7,Grass,Steel,Drawn Sword Pokémon,0.3,0.1,Beast Boost,,,59,181,131,59,31,109,570,3 Attack,45,0,257,Slow,Undiscovered,,,,120,Ultra Beast\\n0799,Guzzlord,7,Dark,Dragon,Junkivore Pokémon,5.5,888.0,Beast Boost,,,223,101,53,97,53,43,570,3 HP,45,0,257,Slow,Undiscovered,,,,120,Ultra Beast\\n0800,Necrozma,7,Psychic,,Prism Pokémon,2.4,230.0,Prism Armor,,,97,107,101,127,89,79,600,\"1 Attack, 2 Sp. Atk\",255,0,270,Slow,Undiscovered,,,,120,Legendary\\n0801,Magearna,7,Steel,Fairy,Artificial Pokémon,1.0,80.5,Soul-Heart,,,80,95,115,130,115,65,600,3 Sp. Atk,3,0,300,Slow,Undiscovered,,,,120,Mythical\\n0802,Marshadow,7,Fighting,Ghost,Gloomdweller Pokémon,0.7,22.2,Technician,,,90,125,80,90,90,125,600,\"2 Attack, 1 Speed\",3,0,270,Slow,Undiscovered,,,,120,Mythical\\n0803,Poipole,7,Poison,,Poison Pin Pokémon,0.6,1.8,Beast Boost,,,67,73,67,73,67,73,420,1 Speed,45,0,189,Slow,Undiscovered,,,,120,Ultra Beast\\n0804,Naganadel,7,Poison,Dragon,Poison Pin Pokémon,3.6,150.0,Beast Boost,,,73,73,73,127,73,121,540,3 Sp. Atk,45,0,243,Slow,Undiscovered,,,,120,Ultra Beast\\n0805,Stakataka,7,Rock,Steel,Rampart Pokémon,5.5,820.0,Beast Boost,,,61,131,211,53,101,13,570,3 Defense,30,0,257,Slow,Undiscovered,,,,120,Ultra Beast\\n0806,Blacephalon,7,Fire,Ghost,Fireworks Pokémon,1.8,13.0,Beast Boost,,,53,127,53,151,79,107,570,3 Sp. Atk,30,0,257,Slow,Undiscovered,,,,120,Ultra Beast\\n0807,Zeraora,7,Electric,,Thunderclap Pokémon,1.5,44.5,Volt Absorb,,,88,112,75,102,80,143,600,3 Speed,3,0,270,Slow,Undiscovered,,,,120,Mythical\\n0808,Meltan,7,Steel,,Hex Nut Pokémon,0.2,8.0,Magnet Pull,,,46,65,65,55,35,34,300,1 Attack,3,0,150,Slow,Undiscovered,,,,120,Mythical\\n0809,Melmetal,7,Steel,,Hex Nut Pokémon,2.5,800.0,Iron Fist,,,135,143,143,80,65,34,600,3 Attack,3,0,300,Slow,Undiscovered,,,,120,Mythical\\n0810,Grookey,8,Grass,,Chimp Pokémon,0.3,5.0,Overgrow,Grassy Surge,,50,65,50,40,40,65,310,1 Attack,45,50,62,Medium Slow,Field ,Grass,87.5,12.5,20,Ordinary\\n0811,Thwackey,8,Grass,,Beat Pokémon,0.7,14.0,Overgrow,Grassy Surge,,70,85,70,55,60,80,420,2 Attack,45,50,147,Medium Slow,Field ,Grass,87.5,12.5,20,Ordinary\\n0812,Rillaboom,8,Grass,,Drummer Pokémon,2.1,90.0,Overgrow,Grassy Surge,,100,125,90,60,70,85,530,3 Attack,45,50,265,Medium Slow,Field ,Grass,87.5,12.5,20,Ordinary\\n0813,Scorbunny,8,Fire,,Rabbit Pokémon,0.3,4.5,Blaze,Libero,,50,71,40,40,40,69,310,1 Speed,45,50,62,Medium Slow,Field ,Human-Like,87.5,12.5,20,Ordinary\\n0814,Raboot,8,Fire,,Rabbit Pokémon,0.6,9.0,Blaze,Libero,,65,86,60,55,60,94,420,2 Speed,45,50,147,Medium Slow,Field ,Human-Like,87.5,12.5,20,Ordinary\\n0815,Cinderace,8,Fire,,Striker Pokémon,1.4,33.0,Blaze,Libero,,80,116,75,65,75,119,530,3 Speed,45,50,265,Medium Slow,Field ,Human-Like,87.5,12.5,20,Ordinary\\n0816,Sobble,8,Water,,Water Lizard Pokémon,0.3,4.0,Torrent,Sniper,,50,40,40,70,40,70,310,\"1 Sp. Def, 1 Speed\",45,50,62,Medium Slow,Field ,Water 1,87.5,12.5,20,Ordinary\\n0817,Drizzile,8,Water,,Water lizard Pokémon,0.7,11.5,Torrent,Sniper,,65,60,55,95,55,90,420,2 Sp. Atk,45,50,147,Medium Slow,Field ,Water 1,87.5,12.5,20,Ordinary\\n0818,Inteleon,8,Water,,Secret Agent Pokémon,1.9,45.2,Torrent,Sniper,,70,85,65,125,65,120,530,3 Speed,45,50,265,Medium Slow,Field ,Water 1,87.5,12.5,20,Ordinary\\n0819,Skwovet,8,Normal,,Cheeky Pokémon,0.3,2.5,Cheek Pouch,Gluttony,,70,55,55,35,35,25,275,1 HP,255,50,55,Medium Fast,Field,,50.0,50.0,20,Ordinary\\n0820,Greedent,8,Normal,,Greedy Pokémon,0.6,6.0,Cheek Pouch,Gluttony,,120,95,95,55,75,20,460,2 HP,90,50,161,Medium Fast,Field,,50.0,50.0,20,Ordinary\\n0821,Rookidee,8,Flying,,Tiny Bird Pokémon,0.2,1.8,Keen Eye,Unnerve,Big Pecks,38,47,35,33,35,57,245,1 Speed,255,50,49,Medium Slow,Flying,,50.0,50.0,15,Ordinary\\n0822,Corvisquire,8,Flying,,Raven Pokémon,0.8,16.0,Keen Eye,Unnerve,Big Pecks,68,67,55,43,55,77,365,2 Speed,120,50,128,Medium Slow,Flying,,50.0,50.0,15,Ordinary\\n0823,Corviknight,8,Flying,Steel,Raven Pokémon,2.2,75.0,Pressure,Unnerve,Mirror Armor,98,87,105,53,85,67,495,3 Defense,45,50,248,Medium Slow,Flying,,50.0,50.0,15,Ordinary\\n0824,Blipbug,8,Bug,,Larva Pokémon,0.4,8.0,Swarm,Compound Eyes,Telepathy,25,20,20,25,45,45,180,1 Sp. Def,255,50,36,Medium Fast,Bug,,50.0,50.0,15,Ordinary\\n0825,Dottler,8,Bug,Psychic,Radome Pokémon,0.4,19.5,Swarm,Compound Eyes,Telepathy,50,35,80,50,90,30,335,2 Sp. Def,120,50,117,Medium Fast,Bug,,50.0,50.0,15,Ordinary\\n0826,Orbeetle,8,Bug,Psychic,Seven Spot Pokémon,0.4,40.8,Swarm,Frisk,Telepathy,60,45,110,80,120,90,505,3 Sp. Def,45,50,253,Medium Fast,Bug,,50.0,50.0,15,Ordinary\\n0827,Nickit,8,Dark,,Fox Pokémon,0.6,8.9,Run Away,Unburden,Stakeout,40,28,28,47,52,50,245,1 Sp. Def,255,50,49,Fast,Field,,50.0,50.0,15,Ordinary\\n0828,Thievul,8,Dark,,Fox Pokémon,1.2,19.9,Run Away,Unburden,Stakeout,70,58,58,87,92,90,455,2 Sp. Def,127,50,159,Fast,Field,,50.0,50.0,15,Ordinary\\n0829,Gossifleur,8,Grass,,Flowering Pokémon,0.4,2.2,Cotton Down,Regenerator,Effect Spore,40,40,60,40,60,10,250,1 Sp. Def,190,50,50,Medium Fast,Grass,,50.0,50.0,20,Ordinary\\n0830,Eldegoss,8,Grass,,Cotton Bloom Pokémon,0.5,2.5,Cotton Down,Regenerator,Effect Spore,60,50,90,80,120,60,460,2 Sp. Def,75,50,161,Medium Fast,Grass,,50.0,50.0,20,Ordinary\\n0831,Wooloo,8,Normal,,Sheep Pokémon,0.6,6.0,Fluffy,Run Away,Bulletproof,42,40,55,40,45,48,270,1 Defense,255,50,122,Medium Fast,Field,,50.0,50.0,15,Ordinary\\n0832,Dubwool,8,Normal,,Sheep Pokémon,1.3,43.0,Fluffy,Steadfast,Bulletproof,72,80,100,60,90,88,490,2 Defense,127,50,172,Medium Fast,Field,,50.0,50.0,15,Ordinary\\n0833,Chewtle,8,Water,,Snapping Pokémon,0.3,8.5,Strong Jaw,Shell Armor,Swift Swim,50,64,50,38,38,44,284,1 Attack,255,50,57,Medium Fast,Monster ,Water 1,50.0,50.0,20,Ordinary\\n0834,Drednaw,8,Water,Rock,Bite Pokémon,1.0,115.5,Strong Jaw,Shell Armor,Swift Swim,90,115,90,48,68,74,485,2 Attack,75,50,170,Medium Fast,Monster ,Water 1,50.0,50.0,20,Ordinary\\n0835,Yamper,8,Electric,,Puppy Pokémon,0.3,13.5,Ball Fetch,Rattled,,59,45,50,40,50,26,270,1 HP,255,50,54,Fast,Field,,50.0,50.0,20,Ordinary\\n0836,Boltund,8,Electric,,Dog Pokémon,1.0,34.0,Strong Jaw,Competitive,,69,90,60,90,60,121,490,2 Speed,45,50,172,Fast,Field,,50.0,50.0,20,Ordinary\\n0837,Rolycoly,8,Rock,,Coal Pokémon,0.3,12.0,Steam Engine,Heatproof,Flash Fire,30,40,50,40,50,30,240,1 Defense,255,50,48,Medium Slow,Mineral,,50.0,50.0,15,Ordinary\\n0838,Carkol,8,Rock,Fire,Coal Pokémon,1.1,78.0,Steam Engine,Flame Body,Flash Fire,80,60,90,60,70,50,410,2 Defense,120,50,144,Medium Slow,Mineral,,50.0,50.0,15,Ordinary\\n0839,Coalossal,8,Rock,Fire,Coal Pokémon,2.8,310.5,Steam Engine,Flame Body,Flash Fire,110,80,120,80,90,30,510,3 Defense,45,50,255,Medium Slow,Mineral,,50.0,50.0,15,Ordinary\\n0840,Applin,8,Grass,Dragon,Apple Core Pokémon,0.2,0.5,Ripen,Gluttony,Bulletproof,40,40,80,40,40,20,260,1 Defense,255,50,52,Erratic,Dragon ,Grass,50.0,50.0,20,Ordinary\\n0841,Flapple,8,Grass,Dragon,Apple Wing Pokémon,0.3,1.0,Ripen,Gluttony,Hustle,70,110,80,95,60,70,485,2 Attack,45,50,170,Erratic,Dragon ,Grass,50.0,50.0,20,Ordinary\\n0842,Appletun,8,Grass,Dragon,Apple Nectar Pokémon,0.4,13.0,Ripen,Gluttony,Thick Fat,110,85,80,100,80,30,485,2 HP,45,50,170,Erratic,Dragon ,Grass,50.0,50.0,20,Ordinary\\n0843,Silicobra,8,Ground,,Sand Snake Pokémon,2.2,7.6,Sand Spit,Shed Skin,Sand Veil,52,57,75,35,50,46,315,1 Defense,255,50,63,Medium Fast,Dragon ,Field,50.0,50.0,20,Ordinary\\n0844,Sandaconda,8,Ground,,Sand Snake Pokémon,3.8,65.5,Sand Spit,Shed Skin,Sand Veil,72,107,125,65,70,71,510,2 Defense,120,50,179,Medium Fast,Dragon ,Field,50.0,50.0,20,Ordinary\\n0845,Cramorant,8,Flying,Water,Gulp Pokémon,0.8,18.0,Gulp Missile,,,70,85,55,85,95,85,475,2 Sp. Def,45,50,166,Medium Fast,Flying ,Water 1,50.0,50.0,20,Ordinary\\n0846,Arrokuda,8,Water,,Rush Pokémon,0.5,1.0,Swift Swim,Propeller Tail,,41,63,40,40,30,66,280,1 Speed,255,50,56,Slow,Water 2,,50.0,50.0,20,Ordinary\\n0847,Barraskewda,8,Water,,Skewer Pokémon,1.3,30.0,Swift Swim,Propeller Tail,,61,123,60,60,50,136,490,2 Speed,60,50,172,Slow,Water 2,,50.0,50.0,20,Ordinary\\n0848,Toxel,8,Electric,Poison,Baby Pokémon,0.4,11.0,Rattled,Static,Klutz,40,38,35,54,35,40,242,1 Sp. Atk,75,50,48,Medium Slow,Undiscovered,,50.0,50.0,25,Baby Pokemon\\n0849,Toxtricity,8,Electric,Poison,Punk Pokémon,1.6,40.0,Punk Rock,Plus,Technician,75,98,70,114,70,75,502,2 Sp. Atk,45,50,176,Medium Slow,Human-Like,,50.0,50.0,25,Ordinary\\n0850,Sizzlipede,8,Fire,Bug,Radiator Pokémon,0.7,1.0,Flash Fire,White Smoke,Flame Body,50,65,45,50,50,45,305,1 Attack,190,50,61,Medium Fast,Bug,,50.0,50.0,20,Ordinary\\n0851,Centiskorch,8,Fire,Bug,Radiator Pokémon,3.0,120.0,Flash Fire,White Smoke,Flame Body,100,115,65,90,90,65,525,2 Attack,75,50,184,Medium Fast,Bug,,50.0,50.0,20,Ordinary\\n0852,Clobbopus,8,Fighting,,Tantrum Pokémon,0.6,4.0,Limber,Technician,,50,68,60,50,50,32,310,1 Attack,180,50,62,Medium Slow,Human-Like ,Water 1,50.0,50.0,25,Ordinary\\n0853,Grapploct,8,Fighting,,Tantrum Pokémon,1.6,39.0,Limber,Technician,,80,118,90,70,80,42,480,2 Attack,45,50,168,Medium Slow,Human-Like ,Water 1,50.0,50.0,25,Ordinary\\n0854,Sinistea,8,Ghost,,Black Tea Pokémon,0.1,0.2,Weak Armor,Cursed Body,,40,45,45,74,54,50,308,1 Sp. Atk,120,50,62,Medium Fast,Amorphous ,Mineral,,,20,Ordinary\\n0855,Polteageist,8,Ghost,,Black Tea Pokémon,0.2,0.4,Weak Armor,Cursed Body,,60,65,65,134,114,70,508,2 Sp. Atk,60,50,178,Medium Fast,Amorphous ,Mineral,,,20,Ordinary\\n0856,Hatenna,8,Psychic,,Calm Pokémon,0.4,3.4,Healer,Anticipation,Magic Bounce,42,30,45,56,53,39,265,1 Sp. Atk,235,50,53,Slow,Fairy,,0.0,100.0,20,Ordinary\\n0857,Hattrem,8,Psychic,,Serene Pokémon,0.6,4.8,Healer,Anticipation,Magic Bounce,57,40,65,86,73,49,370,2 Sp. Atk,120,50,130,Slow,Fairy,,0.0,100.0,20,Ordinary\\n0858,Hatterene,8,Psychic,Fairy,Silent Pokémon,2.1,5.1,Healer,Anticipation,Magic Bounce,57,90,95,136,103,29,510,3 Sp. Atk,45,50,255,Slow,Fairy,,0.0,100.0,20,Ordinary\\n0859,Impidimp,8,Dark,Fairy,Wily Pokémon,0.4,5.5,Prankster,Frisk,Pickpocket,45,45,30,55,40,50,265,1 Sp. Atk,255,50,53,Medium Fast,Fairy ,Human-Like,100.0,0.0,20,Ordinary\\n0860,Morgrem,8,Dark,Fairy,Devious Pokémon,0.8,12.5,Prankster,Frisk,Pickpocket,65,60,45,75,55,70,370,2 Sp. Atk,120,50,130,Medium Fast,Fairy ,Human-Like,100.0,0.0,20,Ordinary\\n0861,Grimmsnarl,8,Dark,Fairy,Bulk Up Pokémon,1.5,61.0,Prankster,Frisk,Pickpocket,95,120,65,95,75,60,510,3 Attack,45,50,255,Medium Fast,Fairy ,Human-Like,100.0,0.0,20,Ordinary\\n0862,Obstagoon,8,Dark,Normal,Blocking Pokémon,1.6,46.0,Reckless,Guts,Defiant,93,90,101,60,81,95,520,3 Defense,45,50,260,Medium Fast,Field,,50.0,50.0,15,Ordinary\\n0863,Perrserker,8,Steel,,Viking Pokémon,0.8,28.0,Battle Armor,Tough Claws,Steely Spirit,70,110,100,50,60,50,440,2 Attack,90,50,154,Medium Fast,Field,,50.0,50.0,20,Ordinary\\n0864,Cursola,8,Ghost,,Coral Pokémon,1.0,0.4,Weak Armor,Perish Body,,60,95,50,145,130,30,510,2 Sp. Atk,30,50,179,Fast,Water 1 ,Water 3,25.0,75.0,20,Ordinary\\n0865,Sirfetch\\'d,8,Fighting,,Wild Duck Pokémon,0.8,117.0,Steadfast,Scrappy,,62,135,95,68,82,65,507,2 Attack,45,50,177,Medium Fast,Field ,Flying,50.0,50.0,20,Ordinary\\n0866,Mr. Rime,8,Ice,Psychic,Comedian Pokémon,1.5,58.2,Tangled Feet,Screen Cleaner,Ice Body,80,85,75,110,100,70,520,3 Sp. Atk,45,50,182,Medium Fast,Human-Like,,50.0,50.0,25,Ordinary\\n0867,Runerigus,8,Ground,Ghost,Grudge Pokémon,1.6,66.6,Wandering Spirit,,,58,95,145,50,105,30,483,2 Defense,90,50,169,Medium Fast,Amorphous ,Mineral,50.0,50.0,25,Ordinary\\n0868,Milcery,8,Fairy,,Cream Pokémon,0.2,0.3,Sweet Veil,Aroma Veil,,45,40,40,50,61,34,270,1 Sp. Def,200,50,54,Medium Fast,Amorphous ,Fairy,0.0,100.0,20,Ordinary\\n0869,Alcremie,8,Fairy,,Cream Pokémon,0.3,0.5,Sweet Veil,Aroma Veil,,65,60,75,110,121,64,495,2 Sp. Def,100,50,173,Medium Fast,Amorphous ,Fairy,0.0,100.0,20,Ordinary\\n0870,Falinks,8,Fighting,,Formation Pokémon,3.0,62.0,Battle Armor,Defiant,,65,100,100,70,60,75,470,\"2 Attack, 1 Sp. Def\",45,50,165,Medium Fast,Fairy ,Mineral,,,25,Ordinary\\n0871,Pincurchin,8,Electric,,Sea Urchin Pokémon,0.3,1.0,Lightning Rod,Electric Surge,,48,101,95,91,85,15,435,2 Attack,75,50,152,Medium Fast,Amorphous ,Water 1,50.0,50.0,20,Ordinary\\n0872,Snom,8,Ice,Bug,Worm Pokémon,0.3,3.8,Shield Dust,Ice Scales,,30,25,35,45,30,20,185,1 Sp. Atk,190,50,37,Medium Fast,Bug,,50.0,50.0,20,Ordinary\\n0873,Frosmoth,8,Ice,Bug,Frost Moth Pokémon,1.3,42.0,Shield Dust,Ice Scales,,70,65,60,125,90,65,475,2 Sp. Atk,75,50,166,Medium Fast,Bug,,50.0,50.0,20,Ordinary\\n0874,Stonjourner,8,Rock,,Big Rock Pokémon,2.5,520.0,Power Spot,,,100,125,135,20,20,70,470,2 Defense,60,50,165,Slow,Mineral,,50.0,50.0,25,Ordinary\\n0875,Eiscue,8,Ice,,Penguin Pokémon,1.4,89.0,Ice Face,,,75,80,110,65,90,50,470,2 Defense,60,50,165,Slow,Field ,Water 1,50.0,50.0,25,Ordinary\\n0876,Indeedee,8,Psychic,Normal,Emotion Pokémon,0.9,28.0,Inner Focus,Synchronize,Psychic Surge,60,65,55,105,95,95,475,2 Sp. Atk,30,140,166,Fast,Fairy,,100.0,0.0,40,Ordinary\\n0877,Morpeko,8,Electric,Dark,Two-Sided Pokémon,0.3,3.0,Hunger Switch,,,58,95,58,70,58,97,436,2 Speed,180,50,153,Medium Fast,Fairy ,Field,50.0,50.0,10,Ordinary\\n0878,Cufant,8,Steel,,Copperderm Pokémon,1.2,100.0,Sheer Force,Heavy Metal,,72,80,49,40,49,40,330,1 Attack,190,50,66,Medium Fast,Field ,Mineral,50.0,50.0,25,Ordinary\\n0879,Copperajah,8,Steel,,Copperderm Pokémon,3.0,650.0,Sheer Force,Heavy Metal,,122,130,69,80,69,30,500,2 Attack,90,50,175,Medium Fast,Field ,Mineral,50.0,50.0,25,Ordinary\\n0880,Dracozolt,8,Electric,Dragon,Fossil Pokémon,1.8,190.0,Volt Absorb,Hustle,Sand Rush,90,100,90,80,70,75,505,2 Attack,45,50,177,Slow,Undiscovered,,,,35,Fossil\\n0881,Arctozolt,8,Electric,Ice,Fossil Pokémon,2.3,150.0,Volt Absorb,Static,Slush Rush,90,100,90,90,80,55,505,2 Attack,45,50,177,Slow,Undiscovered,,,,35,Fossil\\n0882,Dracovish,8,Water,Dragon,Fossil Pokémon,2.3,215.0,Water Absorb,Strong Jaw,Sand Rush,90,90,100,70,80,75,505,2 Defense,45,50,177,Slow,Undiscovered,,,,35,Fossil\\n0883,Arctovish,8,Water,Ice,Fossil Pokémon,2.0,175.0,Water Absorb,Ice Body,Slush Rush,90,90,100,80,90,55,505,2 Defense,45,50,177,Slow,Undiscovered,,,,35,Fossil\\n0884,Duraludon,8,Steel,Dragon,Alloy Pokémon,1.8,40.0,Light Metal,Heavy Metal,Stalwart,70,95,115,120,50,85,535,2 Sp. Atk,45,50,187,Medium Fast,Dragon ,Mineral,50.0,50.0,30,Ordinary\\n0885,Dreepy,8,Dragon,Ghost,Lingering Pokémon,0.5,2.0,Clear Body,Infiltrator,Cursed Body,28,60,30,40,30,82,270,1 Speed,45,50,54,Slow,Amorphous ,Dragon,50.0,50.0,40,Ordinary\\n0886,Drakloak,8,Dragon,Ghost,Caretaker Pokémon,1.4,11.0,Clear Body,Infiltrator,Cursed Body,68,80,50,60,50,102,410,2 Speed,45,50,144,Slow,Amorphous ,Dragon,50.0,50.0,40,Ordinary\\n0887,Dragapult,8,Dragon,Ghost,Stealth Pokémon,3.0,50.0,Clear Body,Infiltrator,Cursed Body,88,120,75,100,75,142,600,3 Speed,45,50,300,Slow,Amorphous ,Dragon,50.0,50.0,40,Ordinary\\n0888,Zacian,8,Fairy,,Warrior Pokémon,2.8,110.0,Intrepid Sword,,,92,120,115,80,115,138,660,3 Speed,10,0,330,Slow,Undiscovered,,,,120,Legendary\\n0889,Zamazenta,8,Fighting,,Warrior Pokémon,2.9,210.0,Dauntless Shield,,,92,120,115,80,115,138,660,3 Speed,10,0,330,Slow,Undiscovered,,,,120,Legendary\\n0890,Eternatus,8,Poison,Dragon,Gigantic Pokémon,20.0,950.0,Pressure,,,140,85,95,145,95,130,690,3 HP,255,0,345,Slow,Undiscovered,,,,120,Legendary\\n0891,Kubfu,8,Fighting,,Wushu Pokémon,0.6,12.0,Inner Focus,,,60,90,60,53,50,72,385,1 Attack,3,50,77,Slow,Undiscovered,,87.5,12.5,120,Legendary\\n0892,Urshifu,8,Fighting,Dark,Wushu Pokémon,1.9,105.0,Unseen Fist,,,100,130,100,63,60,97,550,3 Attack,3,50,275,Slow,Undiscovered,,87.5,12.5,120,Legendary\\n0893,Zarude,8,Dark,Grass,Rogue Monkey Pokémon,1.8,70.0,Leaf Guard,,,105,120,105,70,95,105,600,3 Attack,3,0,300,Slow,Undiscovered,,,,120,Mythical\\n0894,Regieleki,8,Electric,,Electron Pokémon,1.2,145.0,Transistor,,,80,100,50,100,50,200,580,3 Speed,3,35,290,Slow,Undiscovered,,,,120,Legendary\\n0895,Regidrago,8,Dragon,,Dragon Orb Pokémon,2.1,200.0,Dragon\\'s Maw,,,200,100,50,100,50,80,580,3 HP,3,35,290,Slow,Undiscovered,,,,120,Legendary\\n0896,Glastrier,8,Ice,,Wild Horse Pokémon,2.2,800.0,Chilling Neigh,,,100,145,130,65,110,30,580,3 Attack,3,35,290,Slow,Undiscovered,,,,120,Legendary\\n0897,Spectrier,8,Ghost,,Swift Horse Pokémon,2.0,44.5,Grim Neigh,,,100,65,60,145,80,130,580,3 Sp. Atk,3,35,290,Slow,Undiscovered,,,,120,Legendary\\n0898,Calyrex,8,Psychic,Grass,King Pokémon,1.1,7.7,Unnerve,,,100,80,80,80,80,80,500,3 HP,3,100,250,Slow,Undiscovered,,,,120,Legendary\\n0899,Wyrdeer,8,Normal,Psychic,Big Horn Pokémon,1.8,95.1,Intimidate,Frisk,Sap Sipper,103,105,72,105,75,65,525,\"1 Attack, 1 Sp. Atk\",45,50,263,Slow,Field,,50.0,50.0,20,Ordinary\\n0900,Kleavor,8,Bug,Rock,Axe Pokémon,1.8,89.0,Swarm,Sheer Force,Sharpness,70,135,95,45,70,85,500,3 Attack,15,50,175,Medium Fast,Bug,,50.0,50.0,20,Ordinary\\n0901,Ursaluna,8,Ground,Normal,Peat Pokémon,2.4,290.0,Guts,Bulletproof,Unnerve,130,140,105,45,80,50,550,3 Attack,20,50,275,Medium Fast,Field,,50.0,50.0,20,Ordinary\\n0902,Basculegion,8,Water,Ghost,Big Fish Pokémon,3.0,110.0,Swift Swim,Adaptability,Mold Breaker,120,112,65,80,75,78,530,3 HP,45,50,265,Medium Fast,Water 2,,100.0,0.0,20,Ordinary\\n0903,Sneasler,8,Fighting,Poison,Free Climb Pokémon,1.3,43.0,Pressure,Unburden,Poison Touch,80,130,60,40,80,120,510,2 Attack,20,50,102,Medium Slow,Field,,50.0,50.0,20,Ordinary\\n0904,Overqwil,8,Dark,Poison,Pin Cluster Pokémon,2.5,60.5,Poison Point,Swift Swim,Intimidate,85,115,95,65,65,85,510,2 Attack,45,50,179,Medium Fast,Water 2,,50.0,50.0,20,Ordinary\\n0905,Enamorus,8,Fairy,Flying,Love-Hate Pokémon,1.6,48.0,Cute Charm,Contrary,,74,115,70,135,80,106,580,3 Sp. Atk,3,50,116,Slow,Undiscovered,,0.0,100.0,20,Legendary\\n0906,Sprigatito,9,Grass,,Grass Cat Pokémon,0.4,4.1,Overgrow,Protean,,40,61,54,45,45,65,310,1 Speed,45,50,62,Medium Slow,Field ,Grass,87.5,12.5,20,Ordinary\\n0907,Floragato,9,Grass,,Grass Cat Pokémon,0.9,12.2,Overgrow,Protean,,61,80,63,60,63,83,410,2 Speed,45,50,144,Medium Slow,Field ,Grass,87.5,12.5,20,Ordinary\\n0908,Meowscarada,9,Grass,Dark,Magician Pokémon,1.5,31.2,Overgrow,Protean,,76,110,70,81,70,123,530,3 Speed,45,50,265,Medium Slow,Field ,Grass,87.5,12.5,20,Ordinary\\n0909,Fuecoco,9,Fire,,Fire Croc Pokémon,0.4,9.8,Blaze,Unaware,,67,45,59,63,40,36,310,1 HP,45,50,62,Medium Slow,Field,,87.5,12.5,20,Ordinary\\n0910,Crocalor,9,Fire,,Fire Croc Pokémon,1.0,30.7,Blaze,Unaware,,81,55,78,90,58,49,411,2 Sp. Atk,45,50,144,Medium Slow,Field,,87.5,12.5,20,Ordinary\\n0911,Skeledirge,9,Fire,Ghost,Singer Pokémon,1.6,326.5,Blaze,Unaware,,104,75,100,110,75,66,530,3 Sp. Atk,45,50,265,Medium Slow,Field,,87.5,12.5,20,Ordinary\\n0912,Quaxly,9,Water,,Duckling Pokémon,0.5,6.1,Torrent,Moxie,,55,65,45,50,45,50,310,1 Attack,45,50,62,Medium Slow,Flying ,Water 1,87.5,12.5,20,Ordinary\\n0913,Quaxwell,9,Water,,Practicing Pokémon,1.2,21.5,Torrent,Moxie,,70,85,65,65,60,65,410,2 Attack,45,50,144,Medium Slow,Flying ,Water 1,87.5,12.5,20,Ordinary\\n0914,Quaquaval,9,Water,Fighting,Dancer Pokémon,1.8,61.9,Torrent,Moxie,,85,120,80,85,75,85,530,3 Attack,45,50,265,Medium Slow,Flying ,Water 1,87.5,12.5,20,Ordinary\\n0915,Lechonk,9,Normal,,Hog Pokémon,0.5,10.2,Aroma Veil,Gluttony,Thick Fat,54,45,40,35,45,35,254,1 HP,255,50,51,Medium Fast,Field,,50.0,50.0,15,Ordinary\\n0916,Oinkologne,9,Normal,,Hog Pokémon,1.0,120.0,Lingering Aroma,Gluttony,Thick Fat,110,100,75,59,80,65,489,2 HP,100,50,171,Medium Fast,Field,,100.0,0.0,15,Ordinary\\n0917,Tarountula,9,Bug,,String Ball Pokémon,0.3,4.0,Insomnia,Stakeout,,35,41,45,29,40,20,210,1 Defense,255,50,42,Erratic,Bug,,50.0,50.0,15,Ordinary\\n0918,Spidops,9,Bug,,Trap Pokémon,1.0,16.5,Insomnia,Stakeout,,60,79,92,52,86,35,404,2 Defense,120,50,141,Erratic,Bug,,50.0,50.0,15,Ordinary\\n0919,Nymble,9,Bug,,Grasshopper Pokémon,0.2,1.0,Swarm,Tinted Lens,,33,46,40,21,25,45,210,1 Attack,190,20,42,Medium Fast,Bug,,50.0,50.0,20,Ordinary\\n0920,Lokix,9,Bug,Dark,Grasshopper Pokémon,1.0,17.5,Swarm,Tinted Lens,,71,102,78,52,55,92,450,2 Attack,30,0,158,Medium Fast,Bug,,50.0,50.0,20,Ordinary\\n0921,Pawmi,9,Electric,,Mouse Pokémon,0.3,2.5,Static,Natural Cure,Iron Fist,45,50,20,40,25,60,240,1 Speed,190,50,48,Medium Fast,Field,,50.0,50.0,15,Ordinary\\n0922,Pawmo,9,Electric,Fighting,Mouse Pokémon,0.4,6.5,Volt Absorb,Natural Cure,Iron Fist,60,75,40,50,40,85,350,2 Speed,80,50,123,Medium Fast,Field,,50.0,50.0,15,Ordinary\\n0923,Pawmot,9,Electric,Fighting,Hands-On Pokémon,0.9,41.0,Volt Absorb,Natural Cure,Iron Fist,70,115,70,70,60,105,490,3 Attack,45,50,245,Medium Fast,Field,,50.0,50.0,15,Ordinary\\n0924,Tandemaus,9,Normal,,Couple Pokémon,0.3,1.8,Run Away,Pickup,Own Tempo,50,50,45,40,45,75,305,1 Speed,150,50,61,Fast,Fairy ,Field,,,10,Ordinary\\n0925,Maushold,9,Normal,,Family Pokémon,0.3,2.8,Friend Guard,Cheek Pouch,Technician,74,75,70,65,75,111,470,2 Speed,75,50,165,Fast,Fairy ,Field,,,10,Ordinary\\n0926,Fidough,9,Fairy,,Puppy Pokémon,0.3,10.9,Own Tempo,Klutz,,37,55,70,30,55,65,312,1 Speed,190,50,62,Medium Slow,Field ,Mineral,50.0,50.0,20,Ordinary\\n0927,Dachsbun,9,Fairy,,Dog Pokémon,0.5,14.9,Well-Baked Body,Aroma Veil,,57,80,115,50,80,95,477,2 Speed,90,50,167,Medium Slow,Field ,Mineral,50.0,50.0,20,Ordinary\\n0928,Smoliv,9,Grass,Normal,Olive Pokémon,0.3,6.5,Early Bird,Harvest,,41,35,45,58,51,30,260,1 Sp. Atk,255,50,52,Medium Slow,Grass,,50.0,50.0,20,Ordinary\\n0929,Dolliv,9,Grass,Normal,Olive Pokémon,0.6,11.9,Early Bird,Harvest,,52,53,60,78,78,33,354,2 Sp. Atk,120,50,124,Medium Slow,Grass,,50.0,50.0,20,Ordinary\\n0930,Arboliva,9,Grass,Normal,Olive Pokémon,1.4,48.2,Seed Sower,Harvest,,78,69,90,125,109,39,510,3 Sp. Atk,45,50,255,Medium Slow,Grass,,50.0,50.0,20,Ordinary\\n0931,Squawkabilly,9,Normal,Flying,Parrot Pokémon,0.6,2.4,Intimidate,Hustle,Guts,82,96,51,45,51,92,417,1 Attack,190,50,146,Erratic,Flying,,50.0,50.0,15,Ordinary\\n0932,Nacli,9,Rock,,Rock Salt Pokémon,0.4,16.0,Purifying Salt,Sturdy,Clear Body,55,55,75,35,35,25,280,1 Defense,255,50,56,Medium Slow,Mineral,,50.0,50.0,20,Ordinary\\n0933,Naclstack,9,Rock,,Rock Salt Pokémon,0.6,105.0,Purifying Salt,Sturdy,Clear Body,60,60,100,35,65,35,355,2 Defense,120,50,124,Medium Slow,Mineral,,50.0,50.0,20,Ordinary\\n0934,Garganacl,9,Rock,,Rock Salt Pokémon,2.3,240.0,Purifying Salt,Sturdy,Clear Body,100,100,130,45,90,35,500,3 Defense,45,50,250,Medium Slow,Mineral,,50.0,50.0,20,Ordinary\\n0935,Charcadet,9,Fire,,Fire Child Pokémon,0.6,10.5,Flash Fire,Flame Body,,40,50,40,50,40,35,255,1 Sp. Atk,90,50,51,Slow,Human-Like,,50.0,50.0,35,Ordinary\\n0936,Armarouge,9,Fire,Psychic,Fire Warrior Pokémon,1.5,85.0,Flash Fire,Weak Armor,,85,60,100,125,80,75,525,2 Sp. Atk,25,20,263,Slow,Human-Like,,50.0,50.0,35,Ordinary\\n0937,Ceruledge,9,Fire,Ghost,Fire Blades Pokémon,1.6,62.0,Flash Fire,Weak Armor,,75,125,80,60,100,85,525,2 Attack,25,20,263,Slow,Human-Like,,50.0,50.0,35,Ordinary\\n0938,Tadbulb,9,Electric,,EleTadpole Pokémon,0.3,0.4,Own Tempo,Static,Damp,61,31,41,59,35,45,272,1 HP,190,50,54,Medium Fast,Water 1,,50.0,50.0,20,Ordinary\\n0939,Bellibolt,9,Electric,,EleFrog Pokémon,1.2,113.0,Electromorphosis,Static,Damp,109,64,91,103,83,45,495,2 HP,50,50,173,Medium Fast,Water 1,,50.0,50.0,20,Ordinary\\n0940,Wattrel,9,Electric,Flying,Storm Petrel Pokémon,0.4,3.6,Wind Power,Volt Absorb,Competitive,40,40,35,55,40,70,280,1 Speed,180,50,56,Medium Slow,Flying ,Water 1,50.0,50.0,20,Ordinary\\n0941,Kilowattrel,9,Electric,Flying,Frigatebird Pokémon,1.4,38.6,Wind Power,Volt Absorb,Competitive,70,70,60,105,60,125,490,2 Speed,90,50,172,Medium Slow,Flying ,Water 1,50.0,50.0,20,Ordinary\\n0942,Maschiff,9,Dark,,Rascal Pokémon,0.5,16.0,Intimidate,Run Away,Stakeout,60,78,60,40,51,51,340,1 Attack,150,50,68,Medium Slow,Field,,50.0,50.0,20,Ordinary\\n0943,Mabosstiff,9,Dark,,Boss Pokémon,1.1,61.0,Intimidate,Guard Dog,Stakeout,80,120,90,60,70,85,505,2 Attack,75,50,177,Medium Slow,Field,,50.0,50.0,20,Ordinary\\n0944,Shroodle,9,Poison,Normal,Toxic Mouse Pokémon,0.2,0.7,Unburden,Pickpocket,Prankster,40,65,35,40,35,75,290,1 Speed,190,50,58,Medium Slow,Field,,50.0,50.0,20,Ordinary\\n0945,Grafaiai,9,Poison,Normal,Toxic Monkey Pokémon,0.7,27.2,Unburden,Poison Touch,Prankster,63,95,65,80,72,110,485,2 Speed,90,50,170,Medium Slow,Field,,50.0,50.0,20,Ordinary\\n0946,Bramblin,9,Grass,Ghost,Tumbleweed Pokémon,0.6,0.6,Wind Rider,Infiltrator,,40,65,30,45,35,60,275,1 Attack,190,50,55,Medium Fast,Grass,,50.0,50.0,20,Ordinary\\n0947,Brambleghast,9,Grass,Ghost,Tumbleweed Pokémon,1.2,6.0,Wind Rider,Infiltrator,,55,115,70,80,70,90,480,2 Attack,45,50,168,Medium Fast,Grass,,50.0,50.0,20,Ordinary\\n0948,Toedscool,9,Ground,Grass,Woodear Pokémon,0.9,33.0,Mycelium Might,,,40,40,35,50,100,70,335,1 Sp. Def,190,50,67,Medium Slow,Grass,,50.0,50.0,20,Ordinary\\n0949,Toedscruel,9,Ground,Grass,Woodear Pokémon,1.9,58.0,Mycelium Might,,,80,70,65,80,120,100,515,2 Sp. Def,90,50,180,Medium Slow,Grass,,50.0,50.0,20,Ordinary\\n0950,Klawf,9,Rock,,Ambush Pokémon,1.3,79.0,Anger Shell,Shell Armor,Regenerator,70,100,115,35,55,75,450,2 Defense,120,50,158,Medium Fast,Water 3,,50.0,50.0,35,Ordinary\\n0951,Capsakid,9,Grass,,Spicy Pepper Pokémon,0.3,3.0,Chlorophyll,Insomnia,Klutz,50,62,40,62,40,50,304,1 Attack,190,50,61,Medium Fast,Grass,,50.0,50.0,20,Ordinary\\n0952,Scovillain,9,Grass,Fire,Spicy Pepper Pokémon,0.9,15.0,Chlorophyll,Insomnia,Moody,65,108,65,108,65,75,486,2 Attack,75,50,170,Medium Fast,Grass,,50.0,50.0,20,Ordinary\\n0953,Rellor,9,Bug,,Rolling Pokémon,0.2,1.0,Compound Eyes,Shed Skin,,41,50,60,31,58,30,270,1 Defense,190,50,54,Fast,Bug,,50.0,50.0,20,Ordinary\\n0954,Rabsca,9,Bug,Psychic,Rolling Pokémon,0.3,3.5,Synchronize,Telepathy,,75,50,85,115,100,45,470,2 Sp. Atk,45,50,165,Fast,Bug,,50.0,50.0,20,Ordinary\\n0955,Flittle,9,Psychic,,Frill Pokémon,0.2,1.5,Anticipation,Frisk,Speed Boost,30,35,30,55,30,75,255,1 Speed,120,50,51,Medium Slow,Flying,,50.0,50.0,20,Ordinary\\n0956,Espathra,9,Psychic,,Ostrich Pokémon,1.9,90.0,Opportunist,Frisk,Speed Boost,95,60,60,101,60,105,481,2 Speed,60,50,168,Medium Slow,Flying,,50.0,50.0,20,Ordinary\\n0957,Tinkatink,9,Fairy,Steel,Metalsmith Pokémon,0.4,8.9,Mold Breaker,Own Tempo,Pickpocket,50,45,45,35,64,58,297,1 Sp. Def,190,50,59,Medium Slow,Fairy,,0.0,100.0,20,Ordinary\\n0958,Tinkatuff,9,Fairy,Steel,Hammer Pokémon,0.7,59.1,Mold Breaker,Own Tempo,Pickpocket,65,55,55,45,82,78,380,2 Sp. Def,90,50,133,Medium Slow,Fairy,,0.0,100.0,20,Ordinary\\n0959,Tinkaton,9,Fairy,Steel,Hammer Pokémon,0.7,112.8,Mold Breaker,Own Tempo,Pickpocket,85,75,77,70,105,94,506,3 Sp. Def,45,50,253,Medium Slow,Fairy,,0.0,100.0,20,Ordinary\\n0960,Wiglett,9,Water,,Garden Eel Pokémon,1.2,1.8,Gooey,Rattled,Sand Veil,10,55,25,35,25,95,245,1 Speed,255,50,49,Medium Fast,Water 3,,50.0,50.0,20,Ordinary\\n0961,Wugtrio,9,Water,,Garden Eel Pokémon,1.2,5.4,Gooey,Rattled,Sand Veil,35,100,50,50,70,120,425,2 Speed,50,50,149,Medium Fast,Water 3,,50.0,50.0,20,Ordinary\\n0962,Bombirdier,9,Flying,Dark,Item Drop Pokémon,1.5,42.9,Big Pecks,Keen Eye,Rocky Payload,70,103,85,60,85,82,485,2 Attack,25,50,243,Slow,Flying,,50.0,50.0,35,Ordinary\\n0963,Finizen,9,Water,,Dolphin Pokémon,1.3,60.2,Water Veil,,,70,45,40,45,40,75,315,1 Speed,200,50,63,Slow,Field ,Water 2,50.0,50.0,40,Ordinary\\n0964,Palafin,9,Water,,Dolphin Pokémon,1.3,60.2,Zero to Hero,,,100,70,72,53,62,100,457,2 HP,45,50,160,Slow,Field ,Water 2,50.0,50.0,40,Ordinary\\n0965,Varoom,9,Steel,Poison,Single-Cyl Pokémon,1.0,35.0,Overcoat,Slow Start,,45,70,63,30,45,47,300,1 Attack,190,50,60,Medium Fast,Mineral,,50.0,50.0,20,Ordinary\\n0966,Revavroom,9,Steel,Poison,Multi-Cyl Pokémon,1.8,120.0,Overcoat,Filter,,80,119,90,54,67,90,500,2 Attack,75,50,175,Medium Fast,Mineral,,50.0,50.0,20,Ordinary\\n0967,Cyclizar,9,Dragon,Normal,Mount Pokémon,1.6,63.0,Shed Skin,Regenerator,,70,95,65,85,65,121,501,2 Speed,190,50,175,Medium Slow,Field,,50.0,50.0,30,Ordinary\\n0968,Orthworm,9,Steel,,Earthworm Pokémon,2.5,310.0,Earth Eater,Sand Veil,,70,85,145,60,55,65,480,2 Defense,25,50,240,Slow,Field,,50.0,50.0,35,Ordinary\\n0969,Glimmet,9,Rock,Poison,Ore Pokémon,0.7,8.0,Toxic Debris,Corrosion,,48,35,42,105,60,60,350,1 Sp. Atk,70,50,70,Medium Slow,Mineral,,50.0,50.0,30,Ordinary\\n0970,Glimmora,9,Rock,Poison,Ore Pokémon,1.5,45.0,Toxic Debris,Corrosion,,83,55,90,130,81,86,525,2 Sp. Atk,25,50,184,Medium Slow,Mineral,,50.0,50.0,30,Ordinary\\n0971,Greavard,9,Ghost,,Ghost Dog Pokémon,0.6,35.0,Pickup,Fluffy,,50,61,60,30,55,34,290,1 Attack,120,50,58,Medium Slow,Field,,50.0,50.0,20,Ordinary\\n0972,Houndstone,9,Ghost,,Ghost Dog Pokémon,2.0,15.0,Sand Rush,Fluffy,,72,101,100,50,97,68,488,2 Attack,60,50,171,Medium Slow,Field,,50.0,50.0,20,Ordinary\\n0973,Flamigo,9,Flying,Fighting,Synchronize Pokémon,1.6,37.0,Scrappy,Tangled Feet,Costar,82,115,74,75,64,90,500,2 Attack,100,50,175,Medium Slow,Flying,,50.0,50.0,20,Ordinary\\n0974,Cetoddle,9,Ice,,Terra Whale Pokémon,1.2,45.0,Thick Fat,Snow Cloak,Sheer Force,108,68,45,30,40,43,334,1 HP,150,50,67,Medium Slow,Field,,50.0,50.0,25,Ordinary\\n0975,Cetitan,9,Ice,,Terra Whale Pokémon,4.5,700.0,Thick Fat,Slush Rush,Sheer Force,170,113,65,45,55,73,521,2 HP,50,50,182,Medium Slow,Field,,50.0,50.0,25,Ordinary\\n0976,Veluza,9,Water,Psychic,Jettison Pokémon,2.5,90.0,Mold Breaker,Sharpness,,90,102,73,78,65,70,478,2 Attack,100,50,167,Fast,Water 2,,50.0,50.0,20,Ordinary\\n0977,Dondozo,9,Water,,Big Catfish Pokémon,12.0,220.0,Unaware,Oblivious,Water Veil,150,100,115,65,65,35,530,3 HP,25,50,265,Slow,Water 2,,50.0,50.0,40,Ordinary\\n0978,Tatsugiri,9,Dragon,Water,Mimicry Pokémon,0.3,8.0,Commander,Storm Drain,,68,50,60,120,95,82,475,2 Sp. Atk,100,50,166,Medium Slow,Water 2,,50.0,50.0,35,Ordinary\\n0979,Annihilape,9,Fighting,Ghost,Rage Monkey Pokémon,1.2,56.0,Vital Spirit,Inner Focus,Defiant,110,115,80,50,90,90,535,3 Attack,45,50,268,Medium Fast,Field,,50.0,50.0,20,Ordinary\\n0980,Clodsire,9,Poison,Ground,Spiny Fish Pokémon,1.8,223.0,Poison Point,Water Absorb,Unaware,130,75,60,45,100,20,430,2 HP,90,50,151,Medium Fast,Field ,Water 1,50.0,50.0,20,Ordinary\\n0981,Farigiraf,9,Normal,Psychic,Long Neck Pokémon,3.2,160.0,Cud Chew,Armor Tail,Sap Sipper,120,90,70,110,70,60,520,3 HP,45,50,260,Medium Fast,Field,,50.0,50.0,20,Ordinary\\n0982,Dudunsparce,9,Normal,,Land Snake Pokémon,3.6,39.2,Serene Grace,Run Away,Rattled,125,100,80,85,75,55,520,2 HP,45,50,182,Medium Fast,Field,,50.0,50.0,20,Ordinary\\n0983,Kingambit,9,Dark,Steel,Big Blade Pokémon,2.0,120.0,Defiant,Supreme Overlord,Pressure,100,135,120,60,85,50,550,3 Attack,25,50,275,Medium Fast,Human-Like,,50.0,50.0,20,Ordinary\\n0984,Great Tusk,9,Ground,Fighting,Paradox Pokémon,2.2,320.0,Protosynthesis,,,115,131,131,53,53,87,570,3 Attack,30,0,285,Slow,Undiscovered,,,,50,Ancient Paradox\\n0985,Scream Tail,9,Fairy,Psychic,Paradox Pokémon,1.2,8.0,Protosynthesis,,,115,65,99,65,115,111,570,3 HP,50,0,285,Slow,Undiscovered,,,,50,Ancient Paradox\\n0986,Brute Bonnet,9,Grass,Dark,Paradox Pokémon,1.2,21.0,Protosynthesis,,,111,127,99,79,99,55,570,3 Attack,50,0,285,Slow,Undiscovered,,,,50,Ancient Paradox\\n0987,Flutter Mane,9,Ghost,Fairy,Paradox Pokémon,1.4,4.0,Protosynthesis,,,55,55,55,135,135,135,570,\"1 Sp. Atk, 1 Sp. Def, 1 Speed\",30,0,285,Slow,Undiscovered,,,,50,Ancient Paradox\\n0988,Slither Wing,9,Bug,Fighting,Paradox Pokémon,3.2,92.0,Protosynthesis,,,85,135,79,85,105,81,570,3 Attack,30,0,285,Slow,Undiscovered,,,,50,Ancient Paradox\\n0989,Sandy Shocks,9,Electric,Ground,Paradox Pokémon,2.3,60.0,Protosynthesis,,,85,81,97,121,85,101,570,3 Sp. Atk,30,0,285,Slow,Undiscovered,,,,50,Ancient Paradox\\n0990,Iron Treads,9,Ground,Steel,Paradox Pokémon,0.9,240.0,Quark Drive,,,90,112,120,72,70,106,570,3 Defense,30,0,285,Slow,Undiscovered,,,,50,Future Paradox\\n0991,Iron Bundle,9,Ice,Water,Paradox Pokémon,0.6,11.0,Quark Drive,,,56,80,114,124,60,136,570,3 Speed,50,0,285,Slow,Undiscovered,,,,50,Future Paradox\\n0992,Iron Hands,9,Fighting,Electric,Paradox Pokémon,1.8,380.7,Quark Drive,,,154,140,108,50,68,50,570,3 Attack,50,0,285,Slow,Undiscovered,,,,50,Future Paradox\\n0993,Iron Jugulis,9,Dark,Flying,Paradox Pokémon,1.3,111.0,Quark Drive,,,94,80,86,122,80,108,570,3 Sp. Atk,30,0,285,Slow,Undiscovered,,,,50,Future Paradox\\n0994,Iron Moth,9,Fire,Poison,Paradox Pokémon,1.2,36.0,Quark Drive,,,80,70,60,140,110,110,570,3 Sp. Atk,30,0,285,Slow,Undiscovered,,,,50,Future Paradox\\n0995,Iron Thorns,9,Rock,Electric,Paradox Pokémon,1.6,303.0,Quark Drive,,,100,134,110,70,84,72,570,3 Attack,30,0,285,Slow,Undiscovered,,,,50,Future Paradox\\n0996,Frigibax,9,Dragon,Ice,Ice Fin Pokémon,0.5,17.0,Thermal Exchange,Ice Body,,65,75,45,35,45,55,320,1 Attack,45,50,64,Slow,Dragon ,Mineral,50.0,50.0,40,Ordinary\\n0997,Arctibax,9,Dragon,Ice,Ice Fin Pokémon,0.8,30.0,Thermal Exchange,Ice Body,,90,95,66,45,65,62,423,2 Attack,25,50,148,Slow,Dragon ,Mineral,50.0,50.0,40,Ordinary\\n0998,Baxcalibur,9,Dragon,Ice,Ice Dragon Pokémon,2.1,210.0,Thermal Exchange,Ice Body,,115,145,92,75,86,87,600,3 Attack,10,50,300,Slow,Dragon ,Mineral,50.0,50.0,40,Ordinary\\n0999,Gimmighoul,9,Ghost,,Coin Chest Pokémon,0.3,5.0,Rattled,,,45,30,70,75,70,10,300,1 Sp. Atk,45,50,60,Slow,Undiscovered,,,,50,Ordinary\\n1000,Gholdengo,9,Steel,Ghost,Coin Entity Pokémon,1.2,30.0,Good as Gold,,,87,60,95,133,91,84,550,2 Sp. Atk,45,50,275,Slow,Undiscovered,,,,50,Ordinary\\n1001,Wo-Chien,9,Dark,Grass,Ruinous Pokémon,1.5,74.2,Tablets of Ruin,,,85,85,100,95,135,70,570,3 Sp. Def,6,0,285,Slow,Undiscovered,,,,50,Legendary\\n1002,Chien-Pao,9,Dark,Ice,Ruinous Pokémon,1.9,152.2,Sword of Ruin,,,80,120,80,90,65,135,570,3 Speed,6,0,285,Slow,Undiscovered,,,,50,Legendary\\n1003,Ting-Lu,9,Dark,Ground,Ruinous Pokémon,2.7,699.7,Vessel of Ruin,,,155,110,125,55,80,45,570,3 Defense,6,0,285,Slow,Undiscovered,,,,50,Legendary\\n1004,Chi-Yu,9,Dark,Fire,Ruinous Pokémon,0.4,4.9,Beads of Ruin,,,55,80,80,135,120,100,570,3 Sp. Atk,6,0,285,Slow,Undiscovered,,,,50,Legendary\\n1005,Roaring Moon,9,Dragon,Dark,Paradox Pokémon,2.0,380.0,Protosynthesis,,,105,139,71,55,101,119,590,3 Attack,10,0,295,Slow,Undiscovered,,,,50,Ancient Paradox\\n1006,Iron Valiant,9,Fairy,Fighting,Paradox Pokémon,1.4,35.0,Quark Drive,,,74,130,90,120,60,116,590,3 Attack,10,0,295,Slow,Undiscovered,,,,50,Future Paradox\\n1007,Koraidon,9,Fighting,Dragon,Paradox Pokémon,2.5,303.0,Orichalcum Pulse,,,100,135,115,85,100,135,670,3 Attack,3,0,335,Slow,Undiscovered,,,,50,Legendary\\n1008,Miraidon,9,Electric,Dragon,Paradox Pokémon,3.5,240.0,Hadron Engine,,,100,85,100,135,115,135,670,3 Sp. Atk,3,0,335,Slow,Undiscovered,,,,50,Legendary\\n1009,Walking Wake,9,Water,Dragon,Paradox Pokémon,3.5,280.0,Protosynthesis,,,99,83,91,125,83,109,590,3 Sp. Atk,5,—,—,Slow,Undiscovered,,,,—,Ancient Paradox\\n1010,Iron Leaves,9,Grass,Psychic,Paradox Pokémon,1.5,125.0,Quark Drive,,,90,130,88,70,108,104,590,3 Attack,5,—,—,Slow,Undiscovered,,,,—,Future Paradox\\n1011,Dipplin,9,Grass,Dragon,Candy Apple Pokémon,0.4,4.4,Supersweet Syrup,Gluttony,Sticky Hold,80,80,110,95,80,40,485,2 Defense,45,—,—,Erratic,Dragon ,Grass,50.0,50.0,—,Ordinary\\n1012,Poltchageist,9,Grass,Ghost,Matcha Pokémon,0.1,1.1,Hospitality,Heatproof,,40,45,45,74,54,50,308,1 Sp. Atk,120,—,—,Medium Fast,Amorphous ,Mineral,,,—,Ordinary\\n1013,Sinistcha,9,Grass,Ghost,Matcha Pokémon,0.2,2.2,Hospitality,Heatproof,,71,60,106,121,80,70,508,2 Sp. Atk,60,—,—,Medium Fast,Amorphous ,Mineral,,,—,Ordinary\\n1014,Okidogi,9,Poison,Fighting,Retainer Pokémon,1.8,92.0,Toxic Chain,Guard Dog,,88,128,115,58,86,80,555,3 Attack,3,—,—,Slow,Undiscovered,,100.0,0.0,—,Legendary\\n1015,Munkidori,9,Poison,Psychic,Retainer Pokémon,1.0,12.2,Toxic Chain,Frisk,,88,75,66,130,90,106,555,3 Sp. Atk,3,—,—,Slow,Undiscovered,,100.0,0.0,—,Legendary\\n1016,Fezandipiti,9,Poison,Fairy,Retainer Pokémon,1.4,30.1,Toxic Chain,Technician,,88,91,82,70,125,99,555,3 Sp. Def,3,—,—,Slow,Undiscovered,,100.0,0.0,—,Legendary\\n1017,Ogerpon,9,Grass,,Mask Pokémon,1.2,39.8,Defiant,Embody Aspect,,80,120,84,60,96,110,550,3 Attack,5,—,—,Slow,Undiscovered,,0.0,100.0,—,Legendary\\n1018,Archaludon,9,Steel,Dragon,Alloy Pokémon,2.0,60.0,Stamina,Sturdy,Stalwart,90,105,130,125,65,85,600,3 Defense,10,—,—,Medium Fast,Dragon ,Mineral,50.0,50.0,—,Ordinary\\n1019,Hydrapple,9,Grass,Dragon,—,1.8,93.0,Supersweet Syrup,Regenerator,Sticky Hold,106,80,110,120,80,44,540,3 Sp. Atk,10,—,—,Erratic,Dragon ,Grass,50.0,50.0,—,Ordinary\\n1020,Gouging Fire,9,Fire,Dragon,Paradox Pokémon,3.5,590.0,Protosynthesis,,,105,115,121,65,93,91,590,3 Defense,10,—,—,Slow,Undiscovered,,,,—,Ancient Paradox\\n1021,Raging Bolt,9,Electric,Dragon,Paradox Pokémon,5.2,480.0,Protosynthesis,,,125,73,91,137,89,75,590,3 Sp. Atk,10,—,—,Slow,Undiscovered,,,,—,Ancient Paradox\\n1022,Iron Boulder,9,Rock,Psychic,Paradox Pokémon,1.5,162.5,Quark Drive,,,90,120,80,68,108,124,590,3 Speed,10,—,—,Slow,Undiscovered,,,,—,Future Paradox\\n1023,Iron Crown,9,Steel,Psychic,Paradox Pokémon,1.6,156.0,Quark Drive,,,90,72,100,122,108,98,590,3 Sp. Atk,10,—,—,Slow,Undiscovered,,,,—,Future Paradox\\n1024,Terapagos,9,Normal,,Tera Pokémon,0.2,6.5,Tera Shift,,,90,65,85,65,85,60,450,1 Defense,255,—,—,Slow,Undiscovered,,50.0,50.0,—,Legendary\\n1025,Pecharunt,9,Poison,Ghost,Subjugation Pokémon,0.3,0.3,Poison Puppeteer,,,88,88,160,88,88,88,600,3 Defense,3,—,—,Slow,Undiscovered,,,,—,Mythical')"
            ]
          },
          "metadata": {},
          "execution_count": 7
        }
      ]
    },
    {
      "cell_type": "code",
      "source": [
        "data = {\n",
        "     \"messageas\": [\n",
        "         {\n",
        "            \"content\":\"hii\",\n",
        "           \"sender_name\": \"user_a\",\n",
        "          },\n",
        "         {\n",
        "             \"content\":\"hello\",\n",
        "             \"sender_name\": \"user_b\"\n",
        "         }\n",
        "     ]\n",
        "}"
      ],
      "metadata": {
        "id": "rdI9-kkish97"
      },
      "execution_count": 16,
      "outputs": []
    },
    {
      "cell_type": "code",
      "source": [
        "from langchain_community.document_loaders import JSONLoader"
      ],
      "metadata": {
        "id": "1NLLMkw0ljts"
      },
      "execution_count": 8,
      "outputs": []
    },
    {
      "cell_type": "code",
      "source": [
        "loader = JSONLoader(file_path= \"path\",\n",
        "                    jq_schema = \".\",  # it takes all the data from the file\n",
        "                    rext_content = False)\n",
        "\n",
        "docs = loader.load()"
      ],
      "metadata": {
        "id": "tidO3r-8rQT2"
      },
      "execution_count": null,
      "outputs": []
    },
    {
      "cell_type": "code",
      "source": [
        "loader = JSONLoader(file_path= \"path\",\n",
        "                    jq_schema = \"messages[]\",  # if we are intrested to extracting the values under the \"message\" key of the JSON data\n",
        "                    rext_content = False)"
      ],
      "metadata": {
        "id": "ZZHsxwwrrQW7"
      },
      "execution_count": null,
      "outputs": []
    },
    {
      "cell_type": "code",
      "source": [
        "loader = JSONLoader(file_path= \"path\",\n",
        "                    jq_schema = \"messages[].content\",  # if we are intrested to extracting the values under the content field within the  \"message\" key of the JSON data\n",
        "                    rext_content = False)"
      ],
      "metadata": {
        "id": "FBjc-x7ssIHS"
      },
      "execution_count": null,
      "outputs": []
    },
    {
      "cell_type": "code",
      "source": [],
      "metadata": {
        "id": "Pf5nxxyXsVMm"
      },
      "execution_count": null,
      "outputs": []
    },
    {
      "cell_type": "markdown",
      "source": [
        "**PDF Loader**"
      ],
      "metadata": {
        "id": "7Lqkbkvz0sOR"
      }
    },
    {
      "cell_type": "code",
      "source": [
        "from langchain_community.document_loaders import PyPDFLoader"
      ],
      "metadata": {
        "id": "9kyBNfYr0u4S"
      },
      "execution_count": 1,
      "outputs": []
    },
    {
      "cell_type": "code",
      "source": [
        "loader = PyPDFLoader(\"/content/DBMS_Notes_SQL_1.pdf\")"
      ],
      "metadata": {
        "id": "d3mjkLl81ZsD"
      },
      "execution_count": 3,
      "outputs": []
    },
    {
      "cell_type": "code",
      "source": [
        "pages = loader.load()"
      ],
      "metadata": {
        "id": "o06HzN9d1e8Y"
      },
      "execution_count": 4,
      "outputs": []
    },
    {
      "cell_type": "code",
      "source": [
        "len(pages)"
      ],
      "metadata": {
        "colab": {
          "base_uri": "https://localhost:8080/"
        },
        "id": "dAUnjh2Y1hbc",
        "outputId": "50836b4d-b82c-4170-a139-909f123d1718"
      },
      "execution_count": 5,
      "outputs": [
        {
          "output_type": "execute_result",
          "data": {
            "text/plain": [
              "48"
            ]
          },
          "metadata": {},
          "execution_count": 5
        }
      ]
    },
    {
      "cell_type": "code",
      "source": [
        "pages[0]"
      ],
      "metadata": {
        "colab": {
          "base_uri": "https://localhost:8080/"
        },
        "id": "nh21wHYA1jyO",
        "outputId": "027e3c83-2200-4de1-933d-132d1ab90234"
      },
      "execution_count": 6,
      "outputs": [
        {
          "output_type": "execute_result",
          "data": {
            "text/plain": [
              "Document(metadata={'source': '/content/DBMS_Notes_SQL_1.pdf', 'page': 0}, page_content='DBMS \\nNotes \\n \\n \\n \\n \\n')"
            ]
          },
          "metadata": {},
          "execution_count": 6
        }
      ]
    },
    {
      "cell_type": "code",
      "source": [
        "print(pages[0].page_content)"
      ],
      "metadata": {
        "colab": {
          "base_uri": "https://localhost:8080/"
        },
        "id": "aACgf9uQ1k2q",
        "outputId": "c21b5205-3f7a-486c-a1a3-a41a4b58786b"
      },
      "execution_count": 7,
      "outputs": [
        {
          "output_type": "stream",
          "name": "stdout",
          "text": [
            "DBMS \n",
            "Notes \n",
            " \n",
            " \n",
            " \n",
            " \n",
            "\n"
          ]
        }
      ]
    },
    {
      "cell_type": "code",
      "source": [],
      "metadata": {
        "id": "H0_50XM51o4y"
      },
      "execution_count": null,
      "outputs": []
    },
    {
      "cell_type": "markdown",
      "source": [
        "**PyMuPDFLoader**"
      ],
      "metadata": {
        "id": "6yKWT8Jp1trM"
      }
    },
    {
      "cell_type": "code",
      "source": [
        "from langchain_community.document_loaders import PyMuPDFLoader"
      ],
      "metadata": {
        "id": "8jL5G-JS1x5W"
      },
      "execution_count": 1,
      "outputs": []
    },
    {
      "cell_type": "code",
      "source": [
        "loader = PyMuPDFLoader(\"/content/DBMS_Notes_SQL_1.pdf\")"
      ],
      "metadata": {
        "id": "Il83s4At2BtI"
      },
      "execution_count": 11,
      "outputs": []
    },
    {
      "cell_type": "code",
      "source": [
        "!pip install pymupdf"
      ],
      "metadata": {
        "colab": {
          "base_uri": "https://localhost:8080/"
        },
        "id": "KYGMzqz32Jdf",
        "outputId": "26a73800-6546-4195-8ae9-6186556f3f21"
      },
      "execution_count": 10,
      "outputs": [
        {
          "output_type": "stream",
          "name": "stdout",
          "text": [
            "Collecting pymupdf\n",
            "  Downloading pymupdf-1.25.1-cp39-abi3-manylinux2014_x86_64.manylinux_2_17_x86_64.whl.metadata (3.4 kB)\n",
            "Downloading pymupdf-1.25.1-cp39-abi3-manylinux2014_x86_64.manylinux_2_17_x86_64.whl (20.0 MB)\n",
            "\u001b[2K   \u001b[90m━━━━━━━━━━━━━━━━━━━━━━━━━━━━━━━━━━━━━━━━\u001b[0m \u001b[32m20.0/20.0 MB\u001b[0m \u001b[31m81.0 MB/s\u001b[0m eta \u001b[36m0:00:00\u001b[0m\n",
            "\u001b[?25hInstalling collected packages: pymupdf\n",
            "Successfully installed pymupdf-1.25.1\n"
          ]
        }
      ]
    },
    {
      "cell_type": "code",
      "source": [
        "pages = loader.load()"
      ],
      "metadata": {
        "id": "5w2NTCme2xYY"
      },
      "execution_count": 12,
      "outputs": []
    },
    {
      "cell_type": "code",
      "source": [
        "pages[0]"
      ],
      "metadata": {
        "colab": {
          "base_uri": "https://localhost:8080/"
        },
        "id": "mLZ_-Fqu24eq",
        "outputId": "8b414b6f-3de2-4fb0-88cb-ab0794ced592"
      },
      "execution_count": 13,
      "outputs": [
        {
          "output_type": "execute_result",
          "data": {
            "text/plain": [
              "Document(metadata={'source': '/content/DBMS_Notes_SQL_1.pdf', 'file_path': '/content/DBMS_Notes_SQL_1.pdf', 'page': 0, 'total_pages': 48, 'format': 'PDF 1.7', 'title': '', 'author': '', 'subject': '', 'keywords': '', 'creator': '', 'producer': '', 'creationDate': '', 'modDate': '', 'trapped': ''}, page_content='DBMS \\nNotes \\n \\n \\n \\n \\n')"
            ]
          },
          "metadata": {},
          "execution_count": 13
        }
      ]
    },
    {
      "cell_type": "code",
      "source": [
        "pages[0].page_content"
      ],
      "metadata": {
        "colab": {
          "base_uri": "https://localhost:8080/",
          "height": 87
        },
        "id": "9MA2KxIX25_V",
        "outputId": "5c52ffa2-d0a6-43fb-a147-2c6472c33aa2"
      },
      "execution_count": 34,
      "outputs": [
        {
          "output_type": "execute_result",
          "data": {
            "text/plain": [
              "'City-Dataset:https://docs.google.com/spreadsheets/d/1dk9kRwcMxj5USuJqxtITD05S-aOUD6fzNzV\\nW41dcpgc/edit?usp=sharing\\nQ1. Query all columns for all American cities in the CITY table with populations larger than 100000.\\nThe CountryCode for America is USA.\\nThe CITY table is described as follows:\\nQ2. Query the NAME field for all American cities in the CITY table with populations larger than 120000.\\nThe CountryCode for America is USA.\\nThe CITY table is described as follows:\\n'"
            ],
            "application/vnd.google.colaboratory.intrinsic+json": {
              "type": "string"
            }
          },
          "metadata": {},
          "execution_count": 34
        }
      ]
    },
    {
      "cell_type": "code",
      "source": [
        "pages[0].metadata"
      ],
      "metadata": {
        "colab": {
          "base_uri": "https://localhost:8080/"
        },
        "id": "eOucVMPi29WT",
        "outputId": "7e98fa6c-d9d0-4824-a0c3-18df2ebe077d"
      },
      "execution_count": 35,
      "outputs": [
        {
          "output_type": "execute_result",
          "data": {
            "text/plain": [
              "{'source': '/content/SQL-questions-set1pdf.pdf',\n",
              " 'file_path': '/content/SQL-questions-set1pdf.pdf',\n",
              " 'page': 0,\n",
              " 'total_pages': 52,\n",
              " 'format': 'PDF 1.4',\n",
              " 'title': 'SQL-questions-set1-final',\n",
              " 'author': '',\n",
              " 'subject': '',\n",
              " 'keywords': '',\n",
              " 'creator': '',\n",
              " 'producer': 'Skia/PDF m109 Google Docs Renderer',\n",
              " 'creationDate': '',\n",
              " 'modDate': '',\n",
              " 'trapped': ''}"
            ]
          },
          "metadata": {},
          "execution_count": 35
        }
      ]
    },
    {
      "cell_type": "code",
      "source": [],
      "metadata": {
        "id": "dfjz9Mh13pVF"
      },
      "execution_count": null,
      "outputs": []
    },
    {
      "cell_type": "markdown",
      "source": [
        "**UnstructuredPDFLoader**"
      ],
      "metadata": {
        "id": "QaRVKgq83vSt"
      }
    },
    {
      "cell_type": "code",
      "source": [
        "from langchain_community.document_loaders import UnstructuredPDFLoader"
      ],
      "metadata": {
        "id": "K6aCjhXm3y7O"
      },
      "execution_count": 2,
      "outputs": []
    },
    {
      "cell_type": "code",
      "source": [
        "loader = UnstructuredPDFLoader(\"/content/150_Python_Programs_1704563207 (1).pdf\")"
      ],
      "metadata": {
        "id": "647PBJcu39eT"
      },
      "execution_count": 3,
      "outputs": []
    },
    {
      "cell_type": "code",
      "source": [
        "page = loader.load()"
      ],
      "metadata": {
        "id": "S77WY5du4GPV"
      },
      "execution_count": 4,
      "outputs": []
    },
    {
      "cell_type": "code",
      "source": [
        "import nltk\n",
        "nltk.download('averaged_perceptron_tagger_eng')\n",
        "nltk.download('punkt_tab')"
      ],
      "metadata": {
        "colab": {
          "base_uri": "https://localhost:8080/"
        },
        "id": "VufKT5u24Ikr",
        "outputId": "361514c9-eeca-4bd2-f854-b8ef6cd639b3"
      },
      "execution_count": 4,
      "outputs": [
        {
          "output_type": "stream",
          "name": "stderr",
          "text": [
            "[nltk_data] Downloading package averaged_perceptron_tagger_eng to\n",
            "[nltk_data]     /root/nltk_data...\n",
            "[nltk_data]   Unzipping taggers/averaged_perceptron_tagger_eng.zip.\n",
            "[nltk_data] Downloading package punkt_tab to /root/nltk_data...\n",
            "[nltk_data]   Unzipping tokenizers/punkt_tab.zip.\n"
          ]
        },
        {
          "output_type": "execute_result",
          "data": {
            "text/plain": [
              "True"
            ]
          },
          "metadata": {},
          "execution_count": 4
        }
      ]
    },
    {
      "cell_type": "code",
      "source": [
        "page[0]"
      ],
      "metadata": {
        "colab": {
          "base_uri": "https://localhost:8080/"
        },
        "id": "TSoX7lKT4NGf",
        "outputId": "7c91f31e-459c-4511-e738-07e970050345"
      },
      "execution_count": 20,
      "outputs": [
        {
          "output_type": "execute_result",
          "data": {
            "text/plain": [
              "Document(metadata={'source': '/content/DBMS_Notes_SQL_1.pdf'}, page_content='DBMS Notes\\n\\nWhat is Database\\n\\nThe database is a collection of inter-related data which is used to retrieve, insert and delete the data efficiently. It is also used to organize the data in the form of a table, schema, views, and reports, etc.\\n\\nFor example: The college Database organizes the data about the admin, staff, students and faculty etc.\\n\\nUsing the database, you can easily retrieve, insert, and delete the information.\\n\\nInstapdf.in\\n\\nDatabase Management System\\n\\no Database management system is a software which is used to manage the database. For example: MySQL, Oracle, etc are a very popular commercial database which is used in different applications.\\n\\no DBMS provides an interface to perform various operations like database creation, storing data in it, updating data, creating a table in the database and a lot more.\\n\\no It provides protection and security to the database. In the case of multiple users,\\n\\nit also maintains data consistency.\\n\\nDBMS allows users the following tasks:\\n\\no Data Definition: It is used for creation, modification, and removal of definition\\n\\nthat defines the organization of data in the database.\\n\\no Data Updation: It is used for the insertion, modification, and deletion of the\\n\\nactual data in the database.\\n\\no Data Retrieval: It is used to retrieve the data from the database which can be\\n\\nused by applications for various purposes.\\n\\no User Administration: It is used for registering and monitoring users, maintain data integrity, enforcing data security, dealing with concurrency control, monitoring performance and recovering information corrupted by unexpected failure.\\n\\nCharacteristics of DBMS\\n\\no It uses a digital repository established on a server to store and manage the\\n\\ninformation.\\n\\no It can provide a clear and logical view of the process that manipulates data.\\n\\no DBMS contains automatic backup and recovery procedures.\\n\\nInstapdf.in\\n\\no It contains ACID properties which maintain data in a healthy state in case of\\n\\nfailure.\\n\\no It can reduce the complex relationship between data.\\n\\no It is used to support manipulation and processing of data.\\n\\no It is used to provide security of data.\\n\\no It can view the database from different viewpoints according to the\\n\\nrequirements of the user.\\n\\nAdvantages of DBMS\\n\\no Controls database redundancy: It can control data redundancy because it stores all the data in one single database file and that recorded data is placed in the database.\\n\\no Data sharing: In DBMS, the authorized users of an organization can share the\\n\\ndata among multiple users.\\n\\no Easily Maintenance: It can be easily maintainable due to the centralized nature\\n\\nof the database system.\\n\\no Reduce time: It reduces development time and maintenance need.\\n\\no Backup: It provides backup and recovery subsystems which create automatic backup of data from hardware and software failures and restores the data if required.\\n\\no multiple user interface: It provides different types of user interfaces like\\n\\ngraphical user interfaces, application program interfaces\\n\\nDisadvantages of DBMS\\n\\no Cost of Hardware and Software: It requires a high speed of data processor and\\n\\nlarge memory size to run DBMS software.\\n\\no Size: It occupies a large space of disks and large memory to run them\\n\\nInstapdf.in\\n\\nefficiently.\\n\\no Complexity: Database system creates additional complexity and requirements.\\n\\no Higher impact of failure: Failure is highly impacted the database because in most of the organization, all the data stored in a single database and if the database is damaged due to electric failure or database corruption then the data may be lost forever.\\n\\nDATABASE\\n\\nWhat is Data?\\n\\nData is a collection of a distinct small unit of information. It can be used in a variety of forms like text, numbers, media, bytes, etc. it can be stored in pieces of paper or electronic memory, etc.\\n\\nWord \\'Data\\' is originated from the word \\'datum\\' that means \\'single piece of information.\\' It is plural of the word datum.\\n\\nIn computing, Data is information that can be translated into a form for efficient movement and processing. Data is interchangeable.\\n\\nWhat is Database?\\n\\nA database is an organized collection of data, so that it can be easily accessed and managed.\\n\\nYou can organize data into tables, rows, columns, and index it to make it easier to find relevant information.\\n\\nDatabase handlers create a database in such a way that only one set of software program provides access of data to all the users.\\n\\nInstapdf.in\\n\\nThe main purpose of the database is to operate a large amount of information by storing, retrieving, and managing data.\\n\\nThere are many dynamic websites on the World Wide Web nowadays which are handled through databases. For example, a model that checks the availability of rooms in a hotel. It is an example of a dynamic website that uses a database.\\n\\nThere are many databases available like MySQL, Sybase, Oracle, MongoDB, Informix, PostgreSQL, SQL Server, etc.\\n\\nModern databases are managed by the database management system (DBMS).\\n\\nSQL or Structured Query Language is used to operate on the data stored in a database. SQL depends on relational algebra and tuple relational calculus.\\n\\nA cylindrical structure is used to display the image of a database.\\n\\nEvolution of Databases\\n\\nThe database has completed more than 50 years of journey of its evolution from flat- file system to relational and objects relational systems. It has gone through several generations.\\n\\nThe Evolution\\n\\nFile-Based\\n\\n1968 was the year when File-Based database were introduced. In file-based databases, data was maintained in a flat file. Though files have many advantages, there are several limitations.\\n\\nInstapdf.in\\n\\nOne of the major advantages is that the file system has various access methods, e.g., sequential, indexed, and random.\\n\\nIt requires extensive programming in a third-generation language such as COBOL, BASIC.\\n\\nHierarchical Data Model\\n\\n1968-1980 was the era of the Hierarchical Database. Prominent hierarchical database model was IBM\\'s first DBMS. It was called IMS (Information Management System).\\n\\nIn this model, files are related in a parent/child manner.\\n\\nBelow diagram represents Hierarchical Data Model. Small circle represents objects.\\n\\nInstapdf.in\\n\\nLike file system, this model also had some limitations like complex implementation, lack structural independence, can\\'t easily handle a many-many relationship, etc.\\n\\nNetwork data model\\n\\nCharles Bachman developed the first DBMS at Honeywell called Integrated Data Store (IDS). It was developed in the early 1960s, but it was standardized in 1971 by the CODASYL group (Conference on Data Systems Languages).\\n\\nIn this model, files are related as owners and members, like to the common network model.\\n\\nNetwork data model identified the following components:\\n\\no Network schema (Database organization)\\n\\no Sub-schema (views of database per user)\\n\\no Data management language (procedural)\\n\\nThis model also had some limitations like system complexity and difficult to design and maintain.\\n\\nRelational Database\\n\\n1970 - Present: It is the era of Relational Database and Database Management. In 1970, the relational model was proposed by E.F. Codd.\\n\\nInstapdf.in\\n\\nRelational database model has two main terminologies called instance and schema.\\n\\nThe instance is a table with rows or columns\\n\\nSchema specifies the structure like name of the relation, type of each column and name.\\n\\nThis model uses some mathematical concept like set theory and predicate logic.\\n\\nThe first internet database application had been created in 1995.\\n\\nDuring the era of the relational database, many more models had introduced like object-oriented model, object-relational model, etc.\\n\\nCloud database\\n\\nCloud database facilitates you to store, manage, and retrieve their structured, unstructured data via a cloud platform. This data is accessible over the Internet. Cloud databases are also called a database as service (DBaaS) because they are offered as a managed service.\\n\\nSome best cloud options are:\\n\\no AWS (Amazon Web Services)\\n\\no Snowflake Computing\\n\\no Oracle Database Cloud Services\\n\\no Microsoft SQL server\\n\\no Google cloud spanner\\n\\nAdvantages of cloud database\\n\\nLower costs\\n\\nInstapdf.in\\n\\nGenerally, company provider does not have to invest in databases. It can maintain and support one or more data centers.\\n\\nAutomated\\n\\nCloud databases are enriched with a variety of automated processes such as recovery, failover, and auto-scaling.\\n\\nIncreased accessibility\\n\\nYou can access your cloud-based database from any location, anytime. All you need is just an internet connection.\\n\\nNoSQL Database\\n\\nA NoSQL database is an approach to design such databases that can accommodate a wide variety of data models. NoSQL stands for \"not only SQL.\" It is an alternative to traditional relational databases in which data is placed in tables, and data schema is perfectly designed before the database is built.\\n\\nNoSQL databases are useful for a large set of distributed data.\\n\\nSome examples of NoSQL database system with their category are:\\n\\no MongoDB, CouchDB, Cloudant (Document-based)\\n\\no Memcached, Redis, Coherence (key-value store)\\n\\no HBase, Big Table, Accumulo (Tabular)\\n\\nAdvantage of NoSQL\\n\\nHigh Scalability\\n\\nNoSQL can handle an extensive amount of data because of scalability. If the data grows, NoSQL database scale it to handle that data in an efficient manner.\\n\\nInstapdf.in\\n\\nHigh Availability\\n\\nNoSQL supports auto replication. Auto replication makes it highly available because, in case of any failure, data replicates itself to the previous consistent state.\\n\\nDisadvantage of NoSQL\\n\\nOpen source\\n\\nNoSQL is an open-source database, so there is no reliable standard for NoSQL yet.\\n\\nManagement challenge\\n\\nData management in NoSQL is much more complicated than relational databases. It is very challenging to install and even more hectic to manage daily.\\n\\nGUI is not available\\n\\nGUI tools for NoSQL database are not easily available in the market.\\n\\nBackup\\n\\nBackup is a great weak point for NoSQL databases. Some databases, like MongoDB, have no powerful approaches for data backup.\\n\\nThe Object-Oriented Databases\\n\\nThe object-oriented databases contain data in the form of object and classes. Objects are the real-world entity, and types are the collection of objects. An object-oriented database is a combination of relational model features with objects oriented principles. It is an alternative implementation to that of the relational model.\\n\\nObject-oriented databases hold the rules of object-oriented programming. An object- oriented database management system is a hybrid application.\\n\\nThe object-oriented database model contains the following properties.\\n\\nInstapdf.in\\n\\nObject-oriented programming properties\\n\\no Objects\\n\\no Classes\\n\\no Inheritance\\n\\no Polymorphism\\n\\no Encapsulation\\n\\nRelational database properties\\n\\no Atomicity\\n\\no Consistency\\n\\no Integrity\\n\\no Durability\\n\\no Concurrency\\n\\no Query processing\\n\\nGraph Databases\\n\\no A graph database is a NoSQL database. It is a graphical representation of data. It contains nodes and edges. A node represents an entity, and each edge represents a relationship between two edges. Every node in a graph database represents a unique identifier.\\n\\no Graph databases are beneficial for searching the relationship between data\\n\\nbecause they highlight the relationship between relevant data.\\n\\nInstapdf.in\\n\\no\\n\\no Graph databases are very useful when the database contains a complex\\n\\nrelationship and dynamic schema.\\n\\no It is mostly used in supply chain management, identifying the source of IP\\n\\ntelephony.\\n\\no\\n\\nDBMS (Data Base Management System)\\n\\no Database management System is software which is used to store and retrieve the database. For example, Oracle, MySQL, etc.; these are some popular DBMS tools.\\n\\no DBMS provides the interface to perform the various operations like creation,\\n\\ndeletion, modification, etc.\\n\\no DBMS allows the user to create their databases as per their requirement.\\n\\no DBMS accepts the request from the application and provides specific data\\n\\nthrough the operating system.\\n\\no DBMS contains the group of programs which acts according to the user\\n\\ninstruction.\\n\\no It provides security to the database.\\n\\nAdvantage of DBMS\\n\\no Controls redundancy\\n\\no It stores all the data in a single database file, so it can control data redundancy.\\n\\no Data sharing\\n\\no An authorized user can share the data among multiple users.\\n\\no Backup\\n\\no It providesBackup and recovery subsystem. This recovery system creates\\n\\nautomatic data from system failure and restores data if required.\\n\\no Multiple user interfaces\\n\\nInstapdf.in\\n\\no It provides a different type of user interfaces like GUI, application interfaces.\\n\\nDisadvantage of DBMS\\n\\nSize\\n\\nIt occupies large disk space and large memory to run efficiently.\\n\\nCost\\n\\nDBMS requires a high-speed data processor and larger memory to run DBMS software, so it is costly.\\n\\nComplexity\\n\\nDBMS creates additional complexity and requirements.\\n\\nRDBMS (Relational Database Management System)\\n\\nThe word RDBMS is termed as \\'Relational Database Management System.\\' It is represented as a table that contains rows and column.\\n\\nRDBMS is based on the Relational model; it was introduced by E. F. Codd.\\n\\nA relational database contains the following components:\\n\\no Table\\n\\no Record/ Tuple\\n\\no Field/Column name /Attribute\\n\\no Instance\\n\\no Schema\\n\\no Keys\\n\\nAn RDBMS is a tabular DBMS that maintains the security, integrity, accuracy, and consistency of the data.\\n\\nInstapdf.in\\n\\nTypes of Databases\\n\\nThere are various types of databases used for storing different varieties of data:\\n\\n1) Centralized Database\\n\\nIt is the type of database that stores data at a centralized database system. It comforts the users to access the stored data from different locations through several applications. These applications contain the authentication process to let users access data securely. An example of a Centralized database can be Central Library that carries a central database of each library in a college/university.\\n\\nAdvantages of Centralized Database\\n\\no It has decreased the risk of data management, i.e., manipulation of data will\\n\\nnot affect the core data.\\n\\no Data consistency is maintained as it manages data in a central repository.\\n\\no It provides better data quality, which enables organizations to establish data\\n\\nstandards.\\n\\no It is less costly because fewer vendors are required to handle the data sets.\\n\\nDisadvantages of Centralized Database\\n\\no The size of the centralized database is large, which increases the response time\\n\\nfor fetching the data.\\n\\nInstapdf.in\\n\\no It is not easy to update such an extensive database system.\\n\\no If any server failure occurs, entire data will be lost, which could be a huge loss.\\n\\no\\n\\n2) Distributed Database\\n\\nUnlike a centralized database system, in distributed systems, data is distributed among different database systems of an organization. These database systems are connected via communication links. Such links help the end-users to access the data easily. Examples of the Distributed database are Apache Cassandra, HBase, Ignite, etc.\\n\\nWe can further divide a distributed database system into:\\n\\no Homogeneous DDB: Those database systems which execute on the same operating system and use the same application process and carry the same hardware devices.\\n\\no Heterogeneous DDB: Those database systems which execute on different operating systems under different application procedures, and carries different hardware devices.\\n\\nAdvantages of Distributed Database\\n\\no Modular development is possible in a distributed database, i.e., the system can be expanded by including new computers and connecting them to the distributed system.\\n\\nInstapdf.in\\n\\no One server failure will not affect the entire data set.\\n\\n3) Relational Database\\n\\nThis database is based on the relational data model, which stores data in the form of rows(tuple) and columns(attributes), and together forms a table(relation). A relational database uses SQL for storing, manipulating, as well as maintaining the data. E.F. Codd invented the database in 1970. Each table in the database carries a key that makes the data unique from others. Examples of Relational databases are MySQL, Microsoft SQL Server, Oracle, etc.\\n\\nProperties of Relational Database\\n\\nThere are following four commonly known properties of a relational model known as ACID properties, where:\\n\\nA means Atomicity: This ensures the data operation will complete either with success or with failure. It follows the \\'all or nothing\\' strategy. For example, a transaction will either be committed or will abort.\\n\\nC means Consistency: If we perform any operation over the data, its value before and after the operation should be preserved. For example, the account balance before and after the transaction should be correct, i.e., it should remain conserved.\\n\\nI means Isolation: There can be concurrent users for accessing data at the same time from the database. Thus, isolation between the data should remain isolated. For example, when multiple transactions occur at the same time, one transaction effects should not be visible to the other transactions in the database.\\n\\nD means Durability: It ensures that once it completes the operation and commits the data, data changes should remain permanent.\\n\\nInstapdf.in\\n\\n4) NoSQL Database\\n\\nNon-SQL/Not Only SQL is a type of database that is used for storing a wide range of data sets. It is not a relational database as it stores data not only in tabular form but in several different ways. It came into existence when the demand for building modern applications increased. Thus, NoSQL presented a wide variety of database technologies in response to the demands. We can further divide a NoSQL database into the following four types:\\n\\na. every single item as a key (or attribute name) holding its value, together.\\n\\nKey-value storage: It is the simplest type of database storage where it stores\\n\\nb. Document-oriented Database: A type of database used to store data as JSON- like document. It helps developers in storing data by using the same document- model format as used in the application code.\\n\\nc. Graph Databases: It is used for storing vast amounts of data in a graph-like structure. Most commonly, social networking websites use the graph database.\\n\\nd. Wide-column stores: It is similar to the data represented in relational databases. Here, data is stored in large columns together, instead of storing in rows.\\n\\nInstapdf.in\\n\\nAdvantages of NoSQL Database\\n\\no It enables good productivity in the application development as it is not required\\n\\nto store data in a structured format.\\n\\no It is a better option for managing and handling large data sets.\\n\\no It provides high scalability.\\n\\no Users can quickly access data from the database through key-value.\\n\\n5) Cloud Database\\n\\nA type of database where data is stored in a virtual environment and executes over the cloud computing platform. It provides users with various cloud computing services (SaaS, PaaS, IaaS, etc.) for accessing the database. There are numerous cloud platforms, but the best options are:\\n\\no Amazon Web Services(AWS)\\n\\no Microsoft Azure\\n\\no Kamatera\\n\\no PhonixNAP\\n\\no ScienceSoft\\n\\no Google Cloud SQL, etc.\\n\\n6) Object-oriented Databases\\n\\nThe type of database that uses the object-based data model approach for storing data in the database system. The data is represented and stored as objects which are similar to the objects used in the object-oriented programming language.\\n\\n7) Hierarchical Databases\\n\\nIt is the type of database that stores data in the form of parent-children relationship nodes. Here, it organizes data in a tree-like structure.\\n\\nInstapdf.in\\n\\nData get stored in the form of records that are connected via links. Each child record in the tree will contain only one parent. On the other hand, each parent record can have multiple child records.\\n\\n8) Network Databases\\n\\nIt is the database that typically follows the network data model. Here, the representation of data is in the form of nodes connected via links between them. Unlike the hierarchical database, it allows each record to have multiple children and parent nodes to form a generalized graph structure.\\n\\n9) Personal Database\\n\\nCollecting and storing data on the user\\'s system defines a Personal Database. This database is basically designed for a single user.\\n\\nAdvantage of Personal Database\\n\\no It is simple and easy to handle.\\n\\no It occupies less storage space as it is small in size.\\n\\n10) Operational Database\\n\\nThe type of database which creates and updates the database in real-time. It is basically designed for executing and handling the daily data operations in several businesses. For example, An organization uses operational databases for managing per day transactions.\\n\\nInstapdf.in\\n\\n11) Enterprise Database\\n\\nLarge organizations or enterprises use this database for managing a massive amount of data. It helps organizations to increase and improve their efficiency. Such a database allows simultaneous access to users.\\n\\nAdvantages of Enterprise Database:\\n\\no Multi processes are supportable over the Enterprise database.\\n\\no It allows executing parallel queries on the system.\\n\\nWhat is RDBMS\\n\\nRDBMS stands for Relational Database Management Systems..\\n\\nAll modern database management systems like SQL, MS SQL Server, IBM DB2, ORACLE, My-SQL and Microsoft Access are based on RDBMS.\\n\\nIt is called Relational Data Base Management System (RDBMS) because it is based on relational model introduced by E.F. Codd.\\n\\nHow it works\\n\\nData is represented in terms of tuples (rows) in RDBMS.\\n\\nRelational database is most commonly used database. It contains number of tables and each table has its own primary key.\\n\\nDue to a collection of organized set of tables, data can be accessed easily in RDBMS.\\n\\nBrief History of RDBMS\\n\\nDuring 1970 to 1972, E.F. Codd published a paper to propose the use of relational database model.\\n\\nInstapdf.in\\n\\nRDBMS is originally based on that E.F. Codd\\'s relational model invention.\\n\\nWhat is table\\n\\nThe RDBMS database uses tables to store data. A table is a collection of related data entries and contains rows and columns to store data.\\n\\nA table is the simplest example of data storage in RDBMS.\\n\\nLet\\'s see the example of student table.\\n\\nID\\n\\nName\\n\\nAGE\\n\\nCOURSE\\n\\n1\\n\\nAjeet\\n\\n24\\n\\nB.Tech\\n\\n2\\n\\naryan\\n\\n20\\n\\nC.A\\n\\n3\\n\\nMahesh\\n\\n21\\n\\nBCA\\n\\n4\\n\\nRatan\\n\\n22\\n\\nMCA\\n\\n5\\n\\nVimal\\n\\n26\\n\\nBSC\\n\\nWhat is field\\n\\nField is a smaller entity of the table which contains specific information about every record in the table. In the above example, the field in the student table consist of id, name, age, course.\\n\\nInstapdf.in\\n\\nWhat is row or record\\n\\nA row of a table is also called record. It contains the specific information of each individual entry in the table. It is a horizontal entity in the table. For example: The above table contains 5 records.\\n\\nLet\\'s see one record/row in the table.\\n\\n1\\n\\nAjeet\\n\\n24\\n\\nB.Tech\\n\\nWhat is column\\n\\nA column is a vertical entity in the table which contains all information associated with a specific field in a table. For example: \"name\" is a column in the above table which contains all information about student\\'s name.\\n\\nAjeet\\n\\nAryan\\n\\nMahesh\\n\\nRatan\\n\\nVimal\\n\\nNULL Values\\n\\nInstapdf.in\\n\\nThe NULL value of the table specifies that the field has been left blank during record creation. It is totally different from the value filled with zero or a field that contains space.\\n\\nData Integrity\\n\\nThere are the following categories of data integrity exist with each RDBMS:\\n\\nEntity integrity: It specifies that there should be no duplicate rows in a table.\\n\\nDomain integrity: It enforces valid entries for a given column by restricting the type, the format, or the range of values.\\n\\nReferential integrity: It specifies that rows cannot be deleted, which are used by other records.\\n\\nUser-defined integrity: It enforces some specific business rules that are defined by users. These rules are different from entity, domain or referential integrity.\\n\\nDifference between DBMS and RDBMS\\n\\nAlthough DBMS and RDBMS both are used to store information in physical database but there are some remarkable differences between them.\\n\\nThe main differences between DBMS and RDBMS are given below:\\n\\nNo. DBMS\\n\\nRDBMS\\n\\n1)\\n\\n2)\\n\\n3)\\n\\n4)\\n\\nDBMS applications store\\n\\nRDBMS applications store\\n\\nInstapdf.in\\n\\ndata as file.\\n\\ndata in a tabular form.\\n\\nIn DBMS, data is generally stored in either a hierarchical form or a navigational form.\\n\\nIn RDBMS, the tables have an identifier called primary key and the data values are stored in the form of tables.\\n\\nis not present\\n\\nNormalization is present in RDBMS.\\n\\nin\\n\\nNormalization DBMS.\\n\\nRDBMS defines the integrity constraint any to data\\n\\ndoes not\\n\\napply\\n\\nDBMS security with manipulation.\\n\\nregards\\n\\nfor the purpose of ACID\\n\\n(Atomocity, Consistency, Isolation and Durability) property.\\n\\n5)\\n\\nDBMS uses file system to store data, so there will be no relation between the tables.\\n\\nin RDBMS, data values are stored in the form of tables, so a relationship between these data values will be stored in the form of a table as well.\\n\\n6)\\n\\nDBMS has to provide some uniform methods the stored information.\\n\\nRDBMS system supports a tabular structure of the data and a relationship between them to access the stored information.\\n\\nto access\\n\\n7)\\n\\nDBMS does not distributed database.\\n\\nRDBMS supports distributed database.\\n\\nsupport\\n\\n8)\\n\\nDBMS is meant to be for small organization and deal with small data. it supports single user.\\n\\nRDBMS is designed to handle large\\n\\namount of data. it supports multiple users.\\n\\nInstapdf.in\\n\\n9)\\n\\nExamples of DBMS are systems, xml etc.\\n\\nExample of RDBMS are\\n\\nfile\\n\\nmysql, postgre, sql server, oracle etc.\\n\\nAfter observing the differences between DBMS and RDBMS, you can say that RDBMS is an extension of DBMS. There are many software products in the market today who are compatible for both DBMS and RDBMS. Means today a RDBMS application is DBMS application and vice-versa.\\n\\nDBMS vs. File System\\n\\nFile System Approach\\n\\nFile based systems were an early attempt to computerize the manual system. It is also called a traditional based approach in which a decentralized approach was taken where each department stored and controlled its own data with the help of a data processing specialist. The main role of a data processing specialist was to create the necessary computer file structures, and also manage the data within structures and design some application programs that create reports based on file data.\\n\\nIn the above figure:\\n\\nInstapdf.in\\n\\nConsider an example of a student\\'s file system. The student file will contain information regarding the student (i.e. roll no, student name, course etc.). Similarly, we have a subject file that contains information about the subject and the result file which contains the information regarding the result.\\n\\nSome fields are duplicated in more than one file, which leads to data redundancy. So to overcome this problem, we need to create a centralized system, i.e. DBMS approach.\\n\\nDBMS:\\n\\nA database approach is a well-organized collection of data that are related in a meaningful way which can be accessed by different users but stored only once in a system. The various operations performed by the DBMS system are: Insertion, deletion, selection, sorting etc.\\n\\nInstapdf.in\\n\\nIn the above figure,\\n\\nIn the above figure, duplication of data is reduced due to centralization of data.\\n\\nThere are the following differences between DBMS and File systems:\\n\\nBasis\\n\\nDBMS Approach\\n\\nFile System Approach\\n\\nMeaning\\n\\nDBMS is a collection of\\n\\nThe file system is a collection of\\n\\ndata. In DBMS, the user is not required to write the\\n\\ndata. In this system, the user\\n\\nhas to write the procedures for\\n\\nprocedures.\\n\\nmanaging the database.\\n\\nSharing of data Due to the centralized\\n\\nData is distributed in many files,\\n\\napproach, data sharing is\\n\\nand it may be of different\\n\\neasy.\\n\\nformats, so it isn\\'t easy to share\\n\\ndata.\\n\\nData Abstraction DBMS gives an abstract\\n\\nThe file system provides the\\n\\nview of data that hides the\\n\\ndetail of the data\\n\\ndetails.\\n\\nrepresentation and storage of data.\\n\\nSecurity and Protection DBMS provides a good\\n\\nIt isn\\'t easy to protect a file under\\n\\nprotection mechanism.\\n\\nthe file system.\\n\\nRecovery Mechanism DBMS provides a crash\\n\\nThe file system doesn\\'t have a\\n\\nInstapdf.in\\n\\nrecovery mechanism, i.e.,\\n\\ncrash mechanism, i.e., if the\\n\\nDBMS protects the user from system failure.\\n\\nsystem crashes while entering some data, then the content of the file\\n\\nwill be lost.\\n\\nManipulation Techniques\\n\\nDBMS contains a wide\\n\\nThe file system can\\'t efficiently store and retrieve the data.\\n\\nvariety of sophisticated\\n\\ntechniques to store and\\n\\nretrieve the data.\\n\\nConcurrency\\n\\nDBMS takes care of\\n\\nIn the File system, concurrent\\n\\nProblems\\n\\nConcurrent access of data using some form of locking.\\n\\naccess has many problems redirecting the file while\\n\\nlike\\n\\ndeleting some information or\\n\\nupdating some information.\\n\\nWhere to use\\n\\nDatabase approach used in large systems which interrelate many files.\\n\\nFile system approach used\\n\\nin large systems which\\n\\ninterrelate many files.\\n\\nCost\\n\\nThe database system is\\n\\nThe file system approach is\\n\\nexpensive to design.\\n\\ncheaper to design.\\n\\nDataRedundancy and Inconsistency\\n\\nDue to the centralization\\n\\nof the database, the\\n\\nIn this, the files and\\n\\napplication programs are\\n\\nStructure\\n\\nData\\n\\nIndependence\\n\\nInstapdf.in\\n\\nproblems of data\\n\\ncreated by different\\n\\nredundancy and\\n\\nprogrammers so that there\\n\\ninconsistency is controlled.\\n\\nexists a lot of duplication\\n\\nof data which\\n\\nmay lead to inconsistency.\\n\\nThe database structure is\\n\\nThe file system approach has a\\n\\ncomplex to design.\\n\\nsimple structure.\\n\\nIn this system, Data\\n\\nIn the File system approach, there exists no Data Independence.\\n\\nIndependence exists, and it\\n\\ncan be of two types.\\n\\nLogical Data Independence\\n\\nPhysical Data Independence\\n\\nIntegrity\\n\\nIntegrity Constraints are\\n\\nIntegrity Constraints are\\n\\nConstraints\\n\\neasy to apply.\\n\\ndifficult to implement in file system.\\n\\nData Models\\n\\nIn the database approach,\\n\\n3 types of data models exist:\\n\\nIn the file system approach, there is no concept of data models exists.\\n\\no Hierarchal data models\\n\\no Network data models\\n\\no Relational data models\\n\\nFlexibility\\n\\nChanges are often a\\n\\nThe flexibility of the system is\\n\\nnecessity to the content of\\n\\nless as compared to the\\n\\nthe data stored in any\\n\\nDBMS approach.\\n\\nInstapdf.in\\n\\nsystem, and these\\n\\nchanges are more easily\\n\\nwith a database approach.\\n\\nExamples\\n\\nOracle, SQL Server, Sybase etc. Cobol, C++ etc.\\n\\nDBMS Architecture\\n\\no The DBMS design depends upon its architecture. The basic client/server architecture is used to deal with a large number of PCs, web servers, database servers and other components that are connected with networks.\\n\\no The client/server architecture consists of many PCs and a workstation which\\n\\nare connected via the network.\\n\\no DBMS architecture depends upon how users are connected to the database to\\n\\nget their request done.\\n\\nTypes of DBMS Architecture\\n\\nInstapdf.in\\n\\nDatabase architecture can be seen as a single tier or multi-tier. But logically, database architecture is of two types like: 2-tier architecture and 3-tier architecture.\\n\\n1-Tier Architecture\\n\\no In this architecture, the database is directly available to the user. It means the\\n\\nuser can directly sit on the DBMS and uses it.\\n\\no Any changes done here will directly be done on the database itself. It doesn\\'t\\n\\nprovide a handy tool for end users.\\n\\no The 1-Tier architecture is used for development of the local application, where programmers can directly communicate with the database for the quick response.\\n\\n2-Tier Architecture\\n\\no The 2-Tier architecture is same as basic client-server. In the two-tier architecture, applications on the client end can directly communicate with the database at the server side. For this interaction, API\\'s like: ODBC, JDBC are used.\\n\\no The user interfaces and application programs are run on the client-side.\\n\\no The server side is responsible to provide the functionalities like: query\\n\\nprocessing and transaction management.\\n\\no To communicate with the DBMS, client-side application establishes a\\n\\nconnection with the server side.\\n\\nInstapdf.in\\n\\nFig: 2-tier Architecture\\n\\n3-Tier Architecture\\n\\no The 3-Tier architecture contains another layer between the client and server. In\\n\\nthis architecture, client can\\'t directly communicate with the server.\\n\\no The application on the client-end interacts with an application server which\\n\\nfurther communicates with the database system.\\n\\no End user has no idea about the existence of the database beyond the application server. The database also has no idea about any other user beyond the application.\\n\\no The 3-Tier architecture is used in case of large web application.\\n\\nInstapdf.in\\n\\nThree schema Architecture\\n\\no The three schema architecture is also called ANSI/SPARC architecture or\\n\\nthree-level architecture.\\n\\no This framework is used to describe the structure of a specific database system.\\n\\no The three schema architecture is also used to separate the user applications and\\n\\nphysical database.\\n\\no The three schema architecture contains three-levels. It breaks the database\\n\\ndown into three different categories.\\n\\nThe three-schema architecture is as follows:\\n\\nIn the above diagram:\\n\\no It shows the DBMS architecture.\\n\\no Mapping is used to transform the request and response between various\\n\\ndatabase levels of architecture.\\n\\no Mapping is not good for small DBMS because it takes more time.\\n\\no In External / Conceptual mapping, it is necessary to transform the request from\\n\\nexternal level to conceptual schema.\\n\\no In Conceptual / Internal mapping, DBMS transform the request from the\\n\\nconceptual to internal level.\\n\\nInstapdf.in\\n\\nObjectives of Three schema Architecture\\n\\nThe main objective of three level architecture is to enable multiple users to access the same data with a personalized view while storing the underlying data only once. Thus it separates the user\\'s view from the physical structure of the database. This separation is desirable for the following reasons:\\n\\no Different users need different views of the same data.\\n\\no The approach in which a particular user needs to see the data may change over\\n\\ntime.\\n\\no The users of the database should not worry about the physical implementation and internal workings of the database such as data compression and encryption techniques, hashing, optimization of the internal structures etc.\\n\\no All users should be able to access the same data according to their\\n\\nrequirements.\\n\\no DBA should be able to change the conceptual structure of the database without\\n\\naffecting the user\\'s\\n\\no Internal structure of the database should be unaffected by changes to physical\\n\\naspects of the storage.\\n\\n1. Internal Level\\n\\no The internal level has an internal schema which describes the physical storage\\n\\nInstapdf.in\\n\\nstructure of the database.\\n\\no The internal schema is also known as a physical schema.\\n\\no It uses the physical data model. It is used to define that how the data will be\\n\\nstored in a block.\\n\\no The physical level is used to describe complex low-level data structures in\\n\\ndetail.\\n\\nThe internal level is generally is concerned with the following activities:\\n\\no Storage\\n\\nspace\\n\\nallocations.\\n\\nFor Example: B-Trees, Hashing etc.\\n\\no Access\\n\\npaths. For Example: Specification of primary and secondary keys, indexes, pointers and sequencing.\\n\\no Data compression and encryption techniques.\\n\\no Optimization of internal structures.\\n\\no Representation of stored fields.\\n\\n2. Conceptual Level\\n\\no The conceptual schema describes the design of a database at the conceptual\\n\\nlevel. Conceptual level is also known as logical level.\\n\\nInstapdf.in\\n\\no The conceptual schema describes the structure of the whole database.\\n\\no The conceptual level describes what data are to be stored in the database and\\n\\nalso describes what relationship exists among those data.\\n\\no In the conceptual level, internal details such as an implementation of the data\\n\\nstructure are hidden.\\n\\no Programmers and database administrators work at this level.\\n\\n3. External Level\\n\\no At the external level, a database contains several schemas that sometimes called as subschema. The subschema is used to describe the different view of the database.\\n\\no An external schema is also known as view schema.\\n\\no Each view schema describes the database part that a particular user group is\\n\\ninterested and hides the remaining database from that user group.\\n\\no The view schema describes the end user interaction with database systems.\\n\\nMapping between Views\\n\\no The three levels of DBMS architecture don\\'t exist independently of each other. There must be correspondence between the three levels i.e. how they actually correspond with each other. DBMS is responsible for correspondence between the three types of schema. This correspondence is called Mapping.\\n\\no There are basically two types of mapping in the database architecture:\\n\\no Conceptual/ Internal Mapping\\n\\no External / Conceptual Mapping\\n\\nInstapdf.in\\n\\no Conceptual/ Internal Mapping\\n\\no The Conceptual/ Internal Mapping lies between the conceptual level and the internal level. Its role is to define the correspondence between the records and fields of the conceptual level and files and data structures of the internal level.\\n\\no External/ Conceptual Mapping\\n\\no The external/Conceptual Mapping lies between the external level and the Conceptual level. Its role is to define the correspondence between a particular external and the conceptual view.\\n\\nData Models\\n\\nData Model is the modeling of the data description, data semantics, and consistency constraints of the data. It provides the conceptual tools for describing the design of a database at each level of data abstraction. Therefore, there are following four data models used for understanding the structure of the database:\\n\\n1) Relational Data Model: This type of model designs the data in the form of rows and columns within a table. Thus, a relational model uses tables for representing data and in-between relationships. Tables are also called relations. This model was initially described by Edgar F. Codd, in 1969. The relational data model is the widely used model which is primarily used by commercial data processing applications.\\n\\nInstapdf.in\\n\\n2) Entity-Relationship Data Model: An ER model is the logical representation of data as objects and relationships among them. These objects are known as entities, and relationship is an association among these entities. This model was designed by Peter Chen and published in 1976 papers. It was widely used in database designing. A set of attributes describe the entities. For example, student_name, student_id describes the \\'student\\' entity. A set of the same type of entities is known as an \\'Entity set\\', and the set of the same type of relationships is known as \\'relationship set\\'.\\n\\n3) Object-based Data Model: An extension of the ER model with notions of functions, encapsulation, and object identity, as well. This model supports a rich type system that includes structured and collection types. Thus, in 1980s, various database systems following the object-oriented approach were developed. Here, the objects are nothing but the data carrying its properties.\\n\\n4) Semistructured Data Model: This type of data model is different from the other three data models (explained above). The semistructured data model allows the data specifications at places where the individual data items of the same type may have different attributes sets. The Extensible Markup Language, also known as XML, is widely used for representing the semistructured data. Although XML was initially\\n\\ndesigned for including the markup information to the text document, it gains importance because of its application in the exchange of data.\\n\\nData model Schema and Instance\\n\\no The data which is stored in the database at a particular moment of time is called\\n\\nan instance of the database.\\n\\no The overall design of a database is called schema.\\n\\no A database schema is the skeleton structure of the database. It represents the\\n\\nlogical view of the entire database.\\n\\nInstapdf.in\\n\\no A schema contains schema objects like table, foreign key, primary key, views,\\n\\ncolumns, data types, stored procedure, etc.\\n\\no A database schema can be represented by using the visual diagram. That\\n\\ndiagram shows the database objects and relationship with each other.\\n\\no A database schema is designed by the database designers to help programmers whose software will interact with the database. The process of database creation is called data modeling.\\n\\nA schema diagram can display only some aspects of a schema like the name of record type, data type, and constraints. Other aspects can\\'t be specified through the schema diagram. For example, the given figure neither show the data type of each data item nor the relationship among various files.\\n\\nIn the database, actual data changes quite frequently. For example, in the given figure, the database changes whenever we add a new grade or add a student. The data at a particular moment of time is called the instance of the database.\\n\\nInstapdf.in\\n\\nData Independence\\n\\no Data independence can be explained using the three-schema architecture.\\n\\no Data independence refers characteristic of being able to modify the schema at one level of the database system without altering the schema at the next higher level.\\n\\nThere are two types of data independence:\\n\\n1. Logical Data Independence\\n\\no Logical data independence refers characteristic of being able to change the\\n\\nconceptual schema without having to change the external schema.\\n\\no Logical data independence is used to separate the external level from the\\n\\nconceptual view.\\n\\no If we do any changes in the conceptual view of the data, then the user view of\\n\\nthe data would not be affected.\\n\\no Logical data independence occurs at the user interface level.\\n\\n2. Physical Data Independence\\n\\no Physical data independence can be defined as the capacity to change the\\n\\ninternal schema without having to change the conceptual schema.\\n\\no If we do any changes in the storage size of the database system server, then the\\n\\nConceptual structure of the database will not be affected.\\n\\no Physical data independence is used to separate conceptual levels from the\\n\\ninternal levels.\\n\\no Physical data independence occurs at the logical interface level.\\n\\nInstapdf.in\\n\\nFig: Data Independence\\n\\nDatabase Language\\n\\no A DBMS has appropriate languages and interfaces to express database queries\\n\\nand updates.\\n\\no Database languages can be used to read, store and update the data in the\\n\\ndatabase.\\n\\nTypes of Database Language\\n\\nInstapdf.in\\n\\n1. Data Definition Language\\n\\no DDL stands for Data Definition Language. It is used to define database structure\\n\\nor pattern.\\n\\no It is used to create schema, tables, indexes, constraints, etc. in the database.\\n\\no Using the DDL statements, you can create the skeleton of the database.\\n\\no Data definition language is used to store the information of metadata like the number of tables and schemas, their names, indexes, columns in each table, constraints, etc.\\n\\nHere are some tasks that come under DDL:\\n\\no Create: It is used to create objects in the database.\\n\\no Alter: It is used to alter the structure of the database.\\n\\no Drop: It is used to delete objects from the database.\\n\\no Truncate: It is used to remove all records from a table.\\n\\no Rename: It is used to rename an object.\\n\\no Comment: It is used to comment on the data dictionary.\\n\\nThese commands are used to update the database schema that\\'s why they come under Data definition language.\\n\\n2. Data Manipulation Language\\n\\nDML stands for Data Manipulation Language. It is used for accessing and manipulating data in a database. It handles user requests.\\n\\nHere are some tasks that come under DML:\\n\\nInstapdf.in\\n\\no Select: It is used to retrieve data from a database.\\n\\nInsert: It is used to insert data into a table.\\n\\no\\n\\no Update: It is used to update existing data within a table.\\n\\no Delete: It is used to delete all records from a table.\\n\\no Merge: It performs UPSERT operation, i.e., insert or update operations.\\n\\no Call: It is used to call a structured query language or a Java subprogram.\\n\\no Explain Plan: It has the parameter of explaining data.\\n\\no Lock Table: It controls concurrency.\\n\\n3. Data Control Language\\n\\no DCL stands for Data Control Language. It is used to retrieve the stored or saved\\n\\ndata.\\n\\no The DCL execution is transactional. It also has rollback parameters.\\n\\n(But in Oracle database, the execution of data control language does not have the feature of rolling back.)\\n\\nHere are some tasks that come under DCL:\\n\\no Grant: It is used to give user access privileges to a database.\\n\\no Revoke: It is used to take back permissions from the user.\\n\\nThere are the following operations which have the authorization of Revoke:\\n\\nCONNECT, INSERT, USAGE, EXECUTE, DELETE, UPDATE and SELECT.\\n\\n4. Transaction Control Language\\n\\nTCL is used to run the changes made by the DML statement. TCL can be grouped into a logical transaction.\\n\\nInstapdf.in\\n\\nHere are some tasks that come under TCL:\\n\\no Commit: It is used to save the transaction on the database.\\n\\no Rollback: It is used to restore the database to original since the last Commit.\\n\\no\\n\\nACID Properties in DBMS\\n\\nDBMS is the management of data that should remain integrated when any changes are done in it. It is because if the integrity of the data is affected, whole data will get disturbed and corrupted. Therefore, to maintain the integrity of the data, there are four properties described in the database management system, which are known as the ACID properties. The ACID properties are meant for the transaction that goes through a different group of tasks, and there we come to see the role of the ACID properties.\\n\\nIn this section, we will learn and understand about the ACID properties. We will learn what these properties stand for and what does each property is used for. We will also understand the ACID properties with the help of some examples.\\n\\nACID Properties\\n\\nThe expansion of the term ACID defines for:\\n\\nInstapdf.in\\n\\n1) Atomicity: The term atomicity defines that the data remains atomic. It means if any operation is performed on the data, either it should be performed or executed completely or should not be executed at all. It further means that the operation should not break in between or execute partially. In the case of executing operations on the transaction, the operation should be completely executed and not partially. Example: If Remo has account A having $30 in his account from which he wishes to send $10 to Sheero\\'s account, which is B. In account B, a sum of $ 100 is already present. When $10 will be transferred to account B, the sum will become $110. Now, there will be two operations that will take place. One is the amount of $10 that Remo wants to transfer will be debited from his account A, and the same amount will get credited to account B, i.e., into Sheero\\'s account. Now, what happens - the first operation of debit executes successfully, but the credit operation, however, fails. Thus, in Remo\\'s account A, the value becomes $20, and to that of Sheero\\'s account, it remains $100 as it was previously present.\\n\\nIn the above diagram, it can be seen that after crediting $10, the amount is still $100 in account B. So, it is not an atomic transaction.\\n\\nInstapdf.in\\n\\nThe below image shows that both debit and credit operations are done successfully. Thus the transaction is atomic.\\n\\nThus, when the amount loses atomicity, then in the bank systems, this becomes a huge issue, and so the atomicity is the main focus in the bank systems.\\n\\n2) Consistency: The word consistency means that the value should remain preserved always. In DBMS, the integrity of the data should be maintained, which means if a change in the database is made, it should remain preserved always. In the case of transactions, the integrity of the data is very essential so that the database remains consistent before and after the transaction. The data should always be correct. Example:\\n\\nIn the above figure, there are three accounts, A, B, and C, where A is making a transaction T one by one to both B & C. There are two operations that take place, i.e., Debit and Credit. Account A firstly debits $50 to account B, and the amount in account A is read $300 by B before the transaction.\\n\\nInstapdf.in\\n\\nAfter the successful transaction T, the available amount in B becomes $150. Now, A debits $20 to account C, and that time, the value read by C is $250 (that is correct as a debit of $50 has been successfully done to B).\\n\\nThe debit and credit operation from account A to C has been done successfully.\\n\\nWe can see that the transaction is done successfully, and the value is also read correctly. Thus, the data is consistent. In case the value read by B and C is $300, which means that data is inconsistent because when the debit operation executes, it will not be consistent.\\n\\n4) Isolation: The term \\'isolation\\' means separation. In DBMS, Isolation is the property of a database where no data should affect the other one and may occur concurrently.\\n\\nIn short, the operation on one database should begin when the operation on the first database gets complete. It means if two operations are being performed on two different databases, they may not affect the value of one another. In the case of transactions, when two or more transactions occur simultaneously, the consistency should remain maintained.\\n\\nAny changes that occur in any particular transaction will not be seen by other transactions until the change is not committed in the memory.\\n\\nExample: If two operations are concurrently running on two different accounts, then the value of both accounts should not get affected.\\n\\nThe value should remain persistent. As you can see in the below diagram, account A is making T1 and T2 transactions to account B and C, but both are executing independently without affecting each other. It is known as Isolation.\\n\\nInstapdf.in\\n\\n4) Durability: Durability ensures the permanency of something. In DBMS, the term durability ensures that the data after the successful execution of the operation becomes permanent in the database.\\n\\nThe durability of the data should be so perfect that even if the system fails or leads to a crash, the database still survives. However, if gets lost, it becomes the responsibility of the recovery manager for ensuring the durability of the database. For committing the values, the COMMIT command must be used every time we make changes.\\n\\nTherefore, the ACID property of DBMS plays a vital role in maintaining the consistency and availability of data in the database.\\n\\nThus, it was a precise introduction of ACID properties in DBMS. We have discussed these properties in the transaction section also.')"
            ]
          },
          "metadata": {},
          "execution_count": 20
        }
      ]
    },
    {
      "cell_type": "code",
      "source": [
        "len(page)"
      ],
      "metadata": {
        "colab": {
          "base_uri": "https://localhost:8080/"
        },
        "id": "8ce6TRMN4Rdk",
        "outputId": "7a551c63-c2a8-4454-8784-b66cd9c71799"
      },
      "execution_count": 42,
      "outputs": [
        {
          "output_type": "execute_result",
          "data": {
            "text/plain": [
              "1"
            ]
          },
          "metadata": {},
          "execution_count": 42
        }
      ]
    },
    {
      "cell_type": "code",
      "source": [
        "page[0].page_content"
      ],
      "metadata": {
        "colab": {
          "base_uri": "https://localhost:8080/",
          "height": 139
        },
        "id": "5Rpb_TwI4UyF",
        "outputId": "359f0a76-57f2-4598-b7af-e35ca6c992d0"
      },
      "execution_count": 45,
      "outputs": [
        {
          "output_type": "execute_result",
          "data": {
            "text/plain": [
              "'City-Dataset:https://docs.google.com/spreadsheets/d/1dk9kRwcMxj5USuJqxtITD05S-aOUD6fzNzV W41dcpgc/edit?usp=sharing\\n\\nQ1. Query all columns for all American cities in the CITY table with populations larger than 100000. The CountryCode for America is USA. The CITY table is described as follows:\\n\\nQ2. Query the NAME ﬁeld for all American cities in the CITY table with populations larger than 120000. The CountryCode for America is USA. The CITY table is described as follows:\\n\\nQ3. Query all columns (attributes) for every row in the CITY table. The CITY table is described as follows:\\n\\nQ4. Query all columns for a city in CITY with the ID 1661. The CITY table is described as follows:\\n\\nQ5. Query all attributes of every Japanese city in the CITY table. The COUNTRYCODE for Japan is JPN. The CITY table is described as follows:\\n\\nQ6. Query the names of all the Japanese cities in the CITY table. The COUNTRYCODE for Japan is JPN. The CITY table is described as follows:\\n\\nstation-table:https://docs.google.com/spreadsheets/d/1sHPhE7walQD5mL7ppFNqybyoOJY3E51N0 cWYzhp2UH4/edit?usp=sharing\\n\\nQ7. Query a list of CITY and STATE from the STATION table. The STATION table is described as follows:\\n\\nwhere LAT_N is the northern latitude and LONG_W is the western longitude.\\n\\nQ8. Query a list of CITY names from STATION for cities that have an even ID number. Print the results in any order, but exclude duplicates from the answer. The STATION table is described as follows:\\n\\nwhere LAT_N is the northern latitude and LONG_W is the western longitude\\n\\nQ9. Find the difference between the total number of CITY entries in the table and the number of distinct CITY entries in the table. The STATION table is described as follows:\\n\\nwhere LAT_N is the northern latitude and LONG_W is the western longitude.\\n\\nFor example, if there are three records in the table with CITY values \\'New York\\', \\'New York\\', \\'Bengalaru\\', there are 2 different city names: \\'New York\\' and \\'Bengalaru\\'. The query returns , because total number of records - number of unique city names = 3-2 =1\\n\\nQ10. Query the two cities in STATION with the shortest and longest CITY names, as well as their respective lengths (i.e.: number of characters in the name). If there is more than one smallest or largest city, choose the one that comes ﬁrst when ordered alphabetically. The STATION table is described as follows:\\n\\nwhere LAT_N is the northern latitude and LONG_W is the western longitude. Sample Input For example, CITY has four entries: DEF, ABC, PQRS and WXY. Sample Output\\n\\nABC 3 PQRS 4\\n\\nHint - When ordered alphabetically, the CITY names are listed as ABC, DEF, PQRS, and WXY, with lengths and. The longest name is PQRS, but there are options for shortest named city. Choose ABC, because it comes ﬁrst alphabetically. Note You can write two separate queries to get the desired output. It need not be a single query.\\n\\nQ11. Query the list of CITY names starting with vowels (i.e., a, e, i, o, or u) from STATION. Your result cannot contain duplicates. Input Format The STATION table is described as follows:\\n\\nwhere LAT_N is the northern latitude and LONG_W is the western longitude.\\n\\nQ12. Query the list of CITY names ending with vowels (a, e, i, o, u) from STATION. Your result cannot contain duplicates. Input Format The STATION table is described as follows:\\n\\nwhere LAT_N is the northern latitude and LONG_W is the western longitude.\\n\\nQ13. Query the list of CITY names from STATION that do not start with vowels. Your result cannot contain duplicates. Input Format The STATION table is described as follows:\\n\\nwhere LAT_N is the northern latitude and LONG_W is the western longitude.\\n\\nQ14. Query the list of CITY names from STATION that do not end with vowels. Your result cannot contain duplicates.\\n\\nInput Format The STATION table is described as follows:\\n\\nwhere LAT_N is the northern latitude and LONG_W is the western longitude.\\n\\nQ15. Query the list of CITY names from STATION that either do not start with vowels or do not end with vowels. Your result cannot contain duplicates. Input Format The STATION table is described as follows:\\n\\nwhere LAT_N is the northern latitude and LONG_W is the western longitude.\\n\\nQ16. Query the list of CITY names from STATION that do not start with vowels and do not end with vowels. Your result cannot contain duplicates.\\n\\nInput Format The STATION table is described as follows:\\n\\nwhere LAT_N is the northern latitude and LONG_W is the western longitude.\\n\\nQ17.\\n\\nTable: Product\\n\\nColumn Name Type\\n\\nproduct_id\\n\\nint\\n\\nproduct_name\\n\\nvarchar\\n\\nunit_price\\n\\nint\\n\\nproduct_id is the primary key of this table. Each row of this table indicates the name and the price of each product.\\n\\nTable: Sales\\n\\nColumn Name Type\\n\\nseller_id\\n\\nint\\n\\nproduct_id\\n\\nint\\n\\nbuyer_id\\n\\nint\\n\\nsale_date\\n\\ndate\\n\\nquantity\\n\\nint\\n\\nprice\\n\\nint\\n\\nThis table has no primary key, it can have repeated rows.\\n\\nproduct_id is a foreign key to the Product table. Each row of this table contains some information about one sale.\\n\\nWrite an SQL query that reports the products that were only sold in the ﬁrst quarter of 2019. That is, between 2019-01-01 and 2019-03-31 inclusive. Return the result table in any order. The query result format is in the following example.\\n\\nInput: Product table:\\n\\nproduct_id\\n\\nproduct_name\\n\\nunit_price\\n\\n1\\n\\nS8\\n\\n1000\\n\\n2\\n\\nG4\\n\\n800\\n\\n3\\n\\niPhone\\n\\n1400\\n\\nSales table:\\n\\nseller_id\\n\\nproduct_id\\n\\nbuyer_id\\n\\nsale_date\\n\\nquantity\\n\\nprice\\n\\n1\\n\\n1\\n\\n1\\n\\n2019-01-21\\n\\n2\\n\\n2000\\n\\n1\\n\\n2\\n\\n2\\n\\n2019-02-17\\n\\n1\\n\\n800\\n\\n2\\n\\n2\\n\\n3\\n\\n2019-06-02\\n\\n1\\n\\n800\\n\\n3\\n\\n3\\n\\n4\\n\\n2019-05-13\\n\\n2\\n\\n2800\\n\\nOutput:\\n\\nproduct_id\\n\\nproduct_name\\n\\n1\\n\\nS8\\n\\nExplanation: The product with id 1 was only sold in the spring of 2019. The product with id 2 was sold in the spring of 2019 but was also sold after the spring of 2019. The product with id 3 was sold after spring 2019. We return only product 1 as it is the product that was only sold in the spring of 2019.\\n\\nQ18.\\n\\nTable: Views\\n\\nColumn Name Type\\n\\narticle_id\\n\\nint\\n\\nauthor_id\\n\\nint\\n\\nviewer_id\\n\\nint\\n\\nview_date\\n\\ndate\\n\\nThere is no primary key for this table, it may have duplicate rows. Each row of this table indicates that some viewer viewed an article (written by some author) on some date. Note that equal author_id and viewer_id indicate the same person.\\n\\nWrite an SQL query to ﬁnd all the authors that viewed at least one of their own articles. Return the result table sorted by id in ascending order. The query result format is in the following example.\\n\\nInput: Views table:\\n\\narticle_id\\n\\nauthor_id\\n\\nviewer_id\\n\\nview_date\\n\\n1\\n\\n3\\n\\n5\\n\\n2019-08-01\\n\\n1\\n\\n3\\n\\n6\\n\\n2019-08-02\\n\\n2\\n\\n7\\n\\n7\\n\\n2019-08-01\\n\\n2\\n\\n7\\n\\n6\\n\\n2019-08-02\\n\\n4\\n\\n7\\n\\n1\\n\\n2019-07-22\\n\\n3\\n\\n4\\n\\n4\\n\\n2019-07-21\\n\\n3\\n\\n4\\n\\n4\\n\\n2019-07-21\\n\\nOutput:\\n\\nid\\n\\n4\\n\\n7\\n\\nQ19.\\n\\nTable: Delivery\\n\\nColumn Name\\n\\nType\\n\\ndelivery_id\\n\\nint\\n\\ncustomer_id\\n\\nint\\n\\norder_date\\n\\ndate\\n\\ncustomer_pref_delivery_date date\\n\\ndelivery_id is the primary key of this table. The table holds information about food delivery to customers that make orders at some date and specify a preferred delivery date (on the same order date or after it).\\n\\nIf the customer\\'s preferred delivery date is the same as the order date, then the order is called immediately; otherwise, it is called scheduled. Write an SQL query to ﬁnd the percentage of immediate orders in the table, rounded to 2 decimal places. The query result format is in the following example.\\n\\nInput: Delivery table:\\n\\ndelivery_id\\n\\ncustomer_id\\n\\norder_date\\n\\ncustomer_pref_ delivery_date\\n\\n1\\n\\n1\\n\\n2019-08-01\\n\\n2019-08-02\\n\\n2\\n\\n5\\n\\n2019-08-02\\n\\n2019-08-02\\n\\n3\\n\\n1\\n\\n2019-08-11\\n\\n2019-08-11\\n\\n4\\n\\n3\\n\\n2019-08-24\\n\\n2019-08-26\\n\\n5\\n\\n4\\n\\n2019-08-21\\n\\n2019-08-22\\n\\n6\\n\\n2\\n\\n2019-08-11\\n\\n2019-08-13\\n\\nOutput:\\n\\nimmediate_percentage\\n\\n33.33\\n\\nExplanation: The orders with delivery id 2 and 3 are immediate while the others are scheduled.\\n\\nQ20.\\n\\nTable: Ads\\n\\nColumn Name\\n\\nType\\n\\nad_id\\n\\nint\\n\\nuser_id\\n\\nint\\n\\naction\\n\\nenum\\n\\n(ad_id, user_id) is the primary key for this table. Each row of this table contains the ID of an Ad, the ID of a user, and the action taken by this user regarding this Ad. The action column is an ENUM type of (\\'Clicked\\', \\'Viewed\\', \\'Ignored\\').\\n\\nA company is running Ads and wants to calculate the performance of each Ad. Performance of the Ad is measured using Click-Through Rate (CTR) where:\\n\\nWrite an SQL query to ﬁnd the ctr of each Ad. Round ctr to two decimal points. Return the result table ordered by ctr in descending order and by ad_id in ascending order in case of a tie. The query result format is in the following example.\\n\\nInput: Ads table:\\n\\nad_id\\n\\nuser_id\\n\\naction\\n\\n1\\n\\n1\\n\\nClicked\\n\\n2\\n\\n2\\n\\nClicked\\n\\n3\\n\\n3\\n\\nViewed\\n\\n5\\n\\n5\\n\\nIgnored\\n\\n1\\n\\n7\\n\\nIgnored\\n\\n2\\n\\n7\\n\\nViewed\\n\\n3\\n\\n5\\n\\nClicked\\n\\n1\\n\\n4\\n\\nViewed\\n\\n2\\n\\n11\\n\\nViewed\\n\\n1\\n\\n2\\n\\nClicked\\n\\nOutput:\\n\\nad_id\\n\\nctr\\n\\n1\\n\\n66.67\\n\\n3\\n\\n50\\n\\n2\\n\\n33.33\\n\\n5\\n\\n0\\n\\nExplanation: for ad_id = 1, ctr = (2/(2+1)) * 100 = 66.67 for ad_id = 2, ctr = (1/(1+2)) * 100 = 33.33 for ad_id = 3, ctr = (1/(1+1)) * 100 = 50.00 for ad_id = 5, ctr = 0.00, Note that ad_id = 5 has no clicks or views. Note that we do not care about Ignored Ads.\\n\\nQ21.\\n\\nTable: Employee\\n\\nColumn Name\\n\\nType\\n\\nemployee_id\\n\\nint\\n\\nteam_id\\n\\nint\\n\\nemployee_id is the primary key for this table. Each row of this table contains the ID of each employee and their respective team.\\n\\nWrite an SQL query to ﬁnd the team size of each of the employees. Return result table in any order. The query result format is in the following example.\\n\\nInput: Employee Table:\\n\\nemployee_id\\n\\nteam_id\\n\\n1\\n\\n8\\n\\n2\\n\\n8\\n\\n3\\n\\n8\\n\\n4\\n\\n7\\n\\n5\\n\\n9\\n\\n6\\n\\n9\\n\\nOutput:\\n\\nemployee_id\\n\\nteam_size\\n\\n1\\n\\n3\\n\\n2\\n\\n3\\n\\n3\\n\\n3\\n\\n4\\n\\n1\\n\\n5\\n\\n2\\n\\n6\\n\\n2\\n\\nExplanation: Employees with Id 1,2,3 are part of a team with team_id = 8. An employee with Id 4 is part of a team with team_id = 7. Employees with Id 5,6 are part of a team with team_id = 9.\\n\\nQ22.\\n\\nTable: Countries\\n\\nColumn Name\\n\\nType\\n\\ncountry_id\\n\\nint\\n\\ncountry_name\\n\\nvarchar\\n\\ncountry_id is the primary key for this table. Each row of this table contains the ID and the name of one country.\\n\\nTable: Weather\\n\\nColumn Name\\n\\nType\\n\\ncountry_id\\n\\nint\\n\\nweather_state\\n\\nint\\n\\nday\\n\\ndate\\n\\n(country_id, day) is the primary key for this table. Each row of this table indicates the weather state in a country for one day.\\n\\nWrite an SQL query to ﬁnd the type of weather in each country for November 2019. The type of weather is:\\n\\nCold if the average weather_state is less than or equal 15, ● Hot if the average weather_state is greater than or equal to 25, and ● Warm otherwise. Return result table in any order. The query result format is in the following example. Input: Countries table:\\n\\ncountry_id\\n\\ncountry_name\\n\\n2\\n\\nUSA\\n\\n3\\n\\nAustralia\\n\\n7\\n\\nPeru\\n\\n5\\n\\nChina\\n\\n8\\n\\nMorocco\\n\\n9\\n\\nSpain\\n\\nWeather table:\\n\\ncountry_id\\n\\nweather_state\\n\\nday\\n\\n2\\n\\n15\\n\\n2019-11-01\\n\\n2\\n\\n12\\n\\n2019-10-28\\n\\n2\\n\\n12\\n\\n2019-10-27\\n\\n3\\n\\n2\\n\\n2019-11-10\\n\\n3\\n\\n0\\n\\n2019-11-11\\n\\n3\\n\\n3\\n\\n2019-11-12\\n\\n5\\n\\n16\\n\\n2019-11-07\\n\\n5\\n\\n18\\n\\n2019-11-09\\n\\n5\\n\\n21\\n\\n2019-11-23\\n\\n7\\n\\n25\\n\\n2019-11-28\\n\\n7\\n\\n22\\n\\n2019-12-01\\n\\n7\\n\\n20\\n\\n2019-12-02\\n\\n8\\n\\n25\\n\\n2019-11-05\\n\\n8\\n\\n27\\n\\n2019-11-15\\n\\n8\\n\\n31\\n\\n2019-11-25\\n\\n9\\n\\n7\\n\\n2019-10-23\\n\\n9\\n\\n3\\n\\n2019-12-23\\n\\nOutput:\\n\\ncountry_name\\n\\nweather_type\\n\\nUSA\\n\\nCold\\n\\nAustralia\\n\\nCold\\n\\nPeru\\n\\nHot\\n\\nMorocco\\n\\nHot\\n\\nChina\\n\\nWarm\\n\\nExplanation: Average weather_state in the USA in November is (15) / 1 = 15 so the weather type is Cold. Average weather_state in Australia in November is (-2 + 0 + 3) / 3 = 0.333 so the weather type is Cold. Average weather_state in Peru in November is (25) / 1 = 25 so the weather type is Hot. The average weather_state in China in November is (16 + 18 + 21) / 3 = 18.333 so the weather type is warm. Average weather_state in Morocco in November is (25 + 27 + 31) / 3 = 27.667 so the weather type is Hot. We know nothing about the average weather_state in Spain in November so we do not include it in the result table.\\n\\nQ23.\\n\\nTable: Prices\\n\\nColumn Name\\n\\nType\\n\\nproduct_id\\n\\nint\\n\\nstart_date\\n\\ndate\\n\\nend_date\\n\\ndate\\n\\nprice\\n\\nint\\n\\n(product_id, start_date, end_date) is the primary key for this table. Each row of this table indicates the price of the product_id in the period from start_date to end_date. For each product_id there will be no two overlapping periods. That means there will be no two intersecting periods for the same product_id.\\n\\nTable: UnitsSold\\n\\nColumn Name\\n\\nType\\n\\nproduct_id\\n\\nint\\n\\npurchase_date\\n\\ndate\\n\\nunits\\n\\nint\\n\\nThere is no primary key for this table, it may contain duplicates. Each row of this table indicates the date, units, and product_id of each product sold.\\n\\nWrite an SQL query to ﬁnd the average selling price for each product. average_price should be rounded to 2 decimal places. Return the result table in any order. The query result format is in the following example.\\n\\nInput: Prices table:\\n\\nproduct_id\\n\\nstart_date\\n\\nend_date\\n\\nprice\\n\\n1\\n\\n2019-02-17\\n\\n2019-02-28\\n\\n5\\n\\n1\\n\\n2019-03-01\\n\\n2019-03-22\\n\\n20\\n\\n2\\n\\n2019-02-01\\n\\n2019-02-20\\n\\n15\\n\\n2\\n\\n2019-02-21\\n\\n2019-03-31\\n\\n30\\n\\nUnitsSold table:\\n\\nproduct_id\\n\\npurchase_date units\\n\\n1\\n\\n2019-02-25\\n\\n100\\n\\n1\\n\\n2019-03-01\\n\\n15\\n\\n2\\n\\n2019-02-10\\n\\n200\\n\\n2\\n\\n2019-03-22\\n\\n30\\n\\nOutput:\\n\\nproduct_id\\n\\naverage_price\\n\\n1\\n\\n6.96\\n\\n2\\n\\n16.96\\n\\nExplanation: Average selling price = Total Price of Product / Number of products sold. Average selling price for product 1 = ((100 * 5) + (15 * 20)) / 115 = 6.96 Average selling price for product 2 = ((200 * 15) + (30 * 30)) / 230 = 16.96\\n\\nQ24.\\n\\nTable: Activity\\n\\nColumn Name\\n\\nType\\n\\nplayer_id\\n\\nint\\n\\ndevice_id\\n\\nint\\n\\nevent_date\\n\\ndate\\n\\ngames_played\\n\\nint\\n\\n(player_id, event_date) is the primary key of this table. This table shows the activity of players of some games. Each row is a record of a player who logged in and played a number of games (possibly 0) before logging out on someday using some device.\\n\\nWrite an SQL query to report the ﬁrst login date for each player. Return the result table in any order. The query result format is in the following example.\\n\\nInput: Activity table:\\n\\nplayer_id\\n\\ndevice_id\\n\\nevent_date\\n\\ngames_played\\n\\n1\\n\\n2\\n\\n2016-03-01\\n\\n5\\n\\n1\\n\\n2\\n\\n2016-05-02\\n\\n6\\n\\n2\\n\\n3\\n\\n2017-06-25\\n\\n1\\n\\n3\\n\\n1\\n\\n2016-03-02\\n\\n0\\n\\n3\\n\\n4\\n\\n2018-07-03\\n\\n5\\n\\nOutput:\\n\\nplayer_id\\n\\nﬁrst_login\\n\\n1\\n\\n2016-03-01\\n\\n2\\n\\n2017-06-25\\n\\n3\\n\\n2016-03-02\\n\\nQ25.\\n\\nTable: Activity\\n\\nColumn Name\\n\\nType\\n\\nplayer_id\\n\\nint\\n\\ndevice_id\\n\\nint\\n\\nevent_date\\n\\ndate\\n\\ngames_played\\n\\nint\\n\\n(player_id, event_date) is the primary key of this table. This table shows the activity of players of some games. Each row is a record of a player who logged in and played a number of games (possibly 0) before logging out on someday using some device.\\n\\nWrite an SQL query to report the device that is ﬁrst logged in for each player. Return the result table in any order. The query result format is in the following example.\\n\\nInput: Activity table:\\n\\nplayer_id\\n\\ndevice_id\\n\\nevent_date\\n\\ngames_played\\n\\n1\\n\\n2\\n\\n2016-03-01\\n\\n5\\n\\n1\\n\\n2\\n\\n2016-05-02\\n\\n6\\n\\n2\\n\\n3\\n\\n2017-06-25\\n\\n1\\n\\n3\\n\\n1\\n\\n2016-03-02\\n\\n0\\n\\n3\\n\\n4\\n\\n2018-07-03\\n\\n5\\n\\nOutput:\\n\\nplayer_id\\n\\ndevice_id\\n\\n1\\n\\n2\\n\\n2\\n\\n3\\n\\n3\\n\\n1\\n\\nQ26.\\n\\nTable: Products\\n\\nColumn Name\\n\\nType\\n\\nproduct_id\\n\\nint\\n\\nproduct_name\\n\\nvarchar\\n\\nproduct_category\\n\\nvarchar\\n\\nproduct_id is the primary key for this table. This table contains data about the company\\'s products.\\n\\nTable: Orders\\n\\nColumn Name\\n\\nType\\n\\nproduct_id\\n\\nint\\n\\norder_date\\n\\ndate\\n\\nunit\\n\\nint\\n\\nThere is no primary key for this table. It may have duplicate rows. product_id is a foreign key to the Products table. unit is the number of products ordered in order_date.\\n\\nWrite an SQL query to get the names of products that have at least 100 units ordered in February 2020 and their amount. Return result table in any order. The query result format is in the following example.\\n\\nInput: Products table:\\n\\nproduct_id\\n\\nproduct_name\\n\\nproduct_catego ry\\n\\n1\\n\\nLeetcode Solutions\\n\\nBook\\n\\n2\\n\\nJewels of Stringology\\n\\nBook\\n\\n3\\n\\nHP\\n\\nLaptop\\n\\n4\\n\\nLenovo\\n\\nLaptop\\n\\n5\\n\\nLeetcode Kit\\n\\nT-shirt\\n\\nOrders table:\\n\\nproduct_id\\n\\norder_date\\n\\nunit\\n\\n1\\n\\n2020-02-05\\n\\n60\\n\\n1\\n\\n2020-02-10\\n\\n70\\n\\n2\\n\\n2020-01-18\\n\\n30\\n\\n2\\n\\n2020-02-11\\n\\n80\\n\\n3\\n\\n2020-02-17\\n\\n2\\n\\n3\\n\\n2020-02-24\\n\\n3\\n\\n4\\n\\n2020-03-01\\n\\n20\\n\\n4\\n\\n2020-03-04\\n\\n30\\n\\n4\\n\\n2020-03-04\\n\\n60\\n\\n5\\n\\n2020-02-25\\n\\n50\\n\\n5\\n\\n2020-02-27\\n\\n50\\n\\n5\\n\\n2020-03-01\\n\\n50\\n\\nOutput:\\n\\nproduct_name\\n\\nunit\\n\\nLeetcode Solutions\\n\\n130\\n\\nLeetcode Kit\\n\\n100\\n\\nExplanation: Products with product_id = 1 is ordered in February a total of (60 + 70) = 130. Products with product_id = 2 is ordered in February a total of 80. Products with product_id = 3 is ordered in February a total of (2 + 3) = 5. Products with product_id = 4 was not ordered in February 2020. Products with product_id = 5 is ordered in February a total of (50 + 50) = 100.\\n\\nQ27.\\n\\nTable: Users\\n\\nColumn Name\\n\\nType\\n\\nuser_id\\n\\nint\\n\\nname\\n\\nvarchar\\n\\nmail\\n\\nvarchar\\n\\nuser_id is the primary key for this table. This table contains information of the users signed up in a website. Some emails are invalid.\\n\\nWrite an SQL query to ﬁnd the users who have valid emails. A valid e-mail has a preﬁx name and a domain where:\\n\\nThe preﬁx name is a string that may contain letters (upper or lower case), digits, underscore\\n\\n\\'_\\', period \\'.\\', and/or dash \\'-\\'. The preﬁx name must start with a letter.\\n\\nThe domain is \\'@leetcode.com\\'.\\n\\nReturn the result table in any order. The query result format is in the following example.\\n\\nInput: Users table:\\n\\nuser_id\\n\\nname\\n\\nmail\\n\\n1\\n\\nWinston\\n\\nwinston@leetc ode.com\\n\\n2\\n\\nJonathan\\n\\njonathanisgreat\\n\\n3\\n\\nAnnabelle\\n\\nbella-@leetcod e.com\\n\\n4\\n\\nSally\\n\\nsally.come@lee tcode.com\\n\\n5\\n\\nMarwan\\n\\nquarz#2020@le etcode.com\\n\\n6\\n\\nDavid\\n\\ndavid69@gmail .com\\n\\n7\\n\\nShapiro\\n\\n.shapo@leetco de.com\\n\\nOutput:\\n\\nuser_id\\n\\nname\\n\\nmail\\n\\n1\\n\\nWinston\\n\\nwinston@leetc ode.com\\n\\n3\\n\\nAnnabelle\\n\\nbella-@leetcod e.com\\n\\n4\\n\\nSally\\n\\nsally.come@lee tcode.com\\n\\nExplanation: The mail of user 2 does not have a domain. The mail of user 5 has the # sign which is not allowed. The mail of user 6 does not have the leetcode domain. The mail of user 7 starts with a period.\\n\\nQ28.\\n\\nTable: Customers\\n\\nColumn Name\\n\\nType\\n\\ncustomer_id\\n\\nint\\n\\nname\\n\\nvarchar\\n\\ncountry\\n\\nvarchar\\n\\ncustomer_id is the primary key for this table. This table contains information about the customers in the company.\\n\\nTable: Product\\n\\nColumn Name\\n\\nType\\n\\ncustomer_id\\n\\nint\\n\\nname\\n\\nvarchar\\n\\ncountry\\n\\nvarchar\\n\\nproduct_id is the primary key for this table. This table contains information on the products in the company. price is the product cost.\\n\\nTable: Orders\\n\\nColumn Name\\n\\nType\\n\\norder_id\\n\\nint\\n\\ncustomer_id\\n\\nint\\n\\nproduct_id\\n\\nint\\n\\norder_date\\n\\ndate\\n\\nquantity\\n\\nint\\n\\norder_id is the primary key for this table. This table contains information on customer orders. customer_id is the id of the customer who bought \"quantity\" products with id \"product_id\". Order_date is the date in format (\\'YYYY-MM-DD\\') when the order was shipped.\\n\\nWrite an SQL query to report the customer_id and customer_name of customers who have spent at least $100 in each month of June and July 2020. Return the result table in any order. The query result format is in the following example.\\n\\nInput: Customers table:\\n\\ncustomer_id\\n\\nname\\n\\ncountry\\n\\n1\\n\\nWinston\\n\\nUSA\\n\\n2\\n\\nJonathan\\n\\nPeru\\n\\n3\\n\\nMoustafa\\n\\nEgypt\\n\\nProduct table:\\n\\nproduct_id\\n\\ndescription\\n\\nprice\\n\\n10\\n\\nLC Phone\\n\\n300\\n\\n20\\n\\nLC T-Shirt\\n\\n10\\n\\n30\\n\\nLC Book\\n\\n45\\n\\n40\\n\\nLC Keychain\\n\\n2\\n\\nOrders table:\\n\\norder_id\\n\\ncustomer_id\\n\\nproduct_id\\n\\norder_date\\n\\n1\\n\\n1\\n\\n10\\n\\n2020-06-10\\n\\n2\\n\\n1\\n\\n20\\n\\n2020-07-01\\n\\n3\\n\\n1\\n\\n30\\n\\n2020-07-08\\n\\n4\\n\\n2\\n\\n10\\n\\n2020-06-15\\n\\n5\\n\\n2\\n\\n40\\n\\n2020-07-01\\n\\n6\\n\\n3\\n\\n20\\n\\n2020-06-24\\n\\n7\\n\\n3\\n\\n30\\n\\n2020-06-25\\n\\n9\\n\\n3\\n\\n30\\n\\n2020-05-08\\n\\nOutput:\\n\\ncustomer_id\\n\\nname\\n\\n1\\n\\nWinston\\n\\nExplanation: Winston spent $300 (300 * 1) in June and $100 ( 10 * 1 + 45 * 2) in July 2020. Jonathan spent $600 (300 * 2) in June and $20 ( 2 * 10) in July 2020. Moustafa spent $110 (10 * 2 + 45 * 2) in June and $0 in July 2020.\\n\\nQ29.\\n\\nTable: TVProgram\\n\\nColumn Name\\n\\nType\\n\\nprogram_date\\n\\ndate\\n\\ncontent_id\\n\\nint\\n\\nchannel\\n\\nvarchar\\n\\n(program_date, content_id) is the primary key for this table. This table contains information about the programs on the TV. content_id is the id of the program in some channel on the TV.\\n\\nTable: Content\\n\\nColumn Name\\n\\nType\\n\\ncontent_id\\n\\nvarchar\\n\\ntitle\\n\\nvarchar\\n\\nKids_content\\n\\nenum\\n\\ncontent_type\\n\\nvarchar\\n\\ncontent_id is the primary key for this table. Kids_content is an enum that takes one of the values (\\'Y\\', \\'N\\') where:\\n\\nquantity\\n\\n1\\n\\n1\\n\\n2\\n\\n2\\n\\n10\\n\\n2\\n\\n2\\n\\n3\\n\\n\\'Y\\' means content for kids, otherwise \\'N\\' is not content for kids. content_type is the category of the content as movies, series, etc.\\n\\nWrite an SQL query to report the distinct titles of the kid-friendly movies streamed in June 2020. Return the result table in any order. The query result format is in the following example.\\n\\nInput: TVProgram table:\\n\\nprogram_date\\n\\ncontent_id\\n\\nchannel\\n\\n2020-06-10 08:00\\n\\n1\\n\\nLC-Channel\\n\\n2020-05-11 12:00\\n\\n2\\n\\nLC-Channel\\n\\n2020-05-12 12:00\\n\\n3\\n\\nLC-Channel\\n\\n2020-05-13 14:00\\n\\n4\\n\\nDisney Ch\\n\\n2020-06-18 14:00\\n\\n4\\n\\nDisney Ch\\n\\n2020-07-15 16:00\\n\\n5\\n\\nDisney Ch\\n\\nContent table:\\n\\ncontent_id\\n\\ntitle\\n\\nKids_content\\n\\ncontent_type\\n\\n1\\n\\nLeetcode Movie N\\n\\nMovies\\n\\n2\\n\\nAlg. for Kids\\n\\nY\\n\\nSeries\\n\\n3\\n\\nDatabase Sols N\\n\\nSeries\\n\\n4\\n\\nAladdin\\n\\nY\\n\\nMovies\\n\\n5\\n\\nCinderella\\n\\nY\\n\\nMovies\\n\\nOutput:\\n\\ntitle\\n\\nAladdin\\n\\nExplanation: \"Leetcode Movie\" is not a content for kids. \"Alg. for Kids\" is not a movie. \"Database Sols\" is not a movie \"Alladin\" is a movie, content for kids and was streamed in June 2020. \"Cinderella\" was not streamed in June 2020.\\n\\nQ30.\\n\\nTable: NPV\\n\\nColumn Name\\n\\nType\\n\\nid\\n\\nint\\n\\nyear\\n\\nint\\n\\nnpv\\n\\nint\\n\\n(id, year) is the primary key of this table. The table has information about the id and the year of each inventory and the corresponding net present value.\\n\\nTable: Queries\\n\\nColumn Name\\n\\nType\\n\\nid\\n\\nint\\n\\nyear\\n\\nint\\n\\n(id, year) is the primary key of this table. The table has information about the id and the year of each inventory query.\\n\\nWrite an SQL query to ﬁnd the npv of each query of the Queries table. Return the result table in any order. The query result format is in the following example.\\n\\nInput: NPV table:\\n\\nid\\n\\nyear\\n\\nnpv\\n\\n1\\n\\n2018\\n\\n100\\n\\n7\\n\\n2020\\n\\n30\\n\\n13\\n\\n2019\\n\\n40\\n\\n1\\n\\n2019\\n\\n113\\n\\n2\\n\\n2008\\n\\n121\\n\\n3\\n\\n2009\\n\\n12\\n\\n11\\n\\n2020\\n\\n99\\n\\n7\\n\\n2019\\n\\n0\\n\\nQueries table:\\n\\nid\\n\\nyear\\n\\n1\\n\\n2019\\n\\n2\\n\\n2008\\n\\n3\\n\\n2009\\n\\n7\\n\\n2018\\n\\n7\\n\\n2019\\n\\n7\\n\\n2020\\n\\n13\\n\\n2019\\n\\nOutput:\\n\\nid\\n\\nyear\\n\\nnpv\\n\\n1\\n\\n2019\\n\\n113\\n\\n2\\n\\n2008\\n\\n121\\n\\n3\\n\\n2009\\n\\n12\\n\\n7\\n\\n2018\\n\\n0\\n\\n7\\n\\n2019\\n\\n0\\n\\n7\\n\\n2020\\n\\n30\\n\\n13\\n\\n2019\\n\\n40\\n\\nExplanation: The npv value of (7, 2018) is not present in the NPV table, we consider it 0. The npv values of all other queries can be found in the NPV table.\\n\\nQ31.\\n\\nTable: NPV\\n\\nColumn Name\\n\\nType\\n\\nid\\n\\nint\\n\\nyear\\n\\nint\\n\\nnpv\\n\\nint\\n\\n(id, year) is the primary key of this table. The table has information about the id and the year of each inventory and the corresponding net present value.\\n\\nTable: Queries\\n\\nColumn Name\\n\\nType\\n\\nid\\n\\nint\\n\\nyear\\n\\nint\\n\\n(id, year) is the primary key of this table. The table has information about the id and the year of each inventory query.\\n\\nWrite an SQL query to ﬁnd the npv of each query of the Queries table. Return the result table in any order. The query result format is in the following example.\\n\\nInput: NPV table:\\n\\nid\\n\\nyear\\n\\nnpv\\n\\n1\\n\\n2018\\n\\n100\\n\\n7\\n\\n2020\\n\\n30\\n\\n13\\n\\n2019\\n\\n40\\n\\n1\\n\\n2019\\n\\n113\\n\\n2\\n\\n2008\\n\\n121\\n\\n3\\n\\n2009\\n\\n12\\n\\n11\\n\\n2020\\n\\n99\\n\\n7\\n\\n2019\\n\\n0\\n\\nQueries table:\\n\\nid\\n\\nyear\\n\\n1\\n\\n2019\\n\\n2\\n\\n2008\\n\\n3\\n\\n2009\\n\\n7\\n\\n2018\\n\\n7\\n\\n2019\\n\\n7\\n\\n2020\\n\\n13\\n\\n2019\\n\\nOutput:\\n\\nid\\n\\nyear\\n\\nnpv\\n\\n1\\n\\n2019\\n\\n113\\n\\n2\\n\\n2008\\n\\n121\\n\\n3\\n\\n2009\\n\\n12\\n\\n7\\n\\n2018\\n\\n0\\n\\n7\\n\\n2019\\n\\n0\\n\\n7\\n\\n2020\\n\\n30\\n\\n13\\n\\n2019\\n\\n40\\n\\nExplanation:\\n\\nThe npv value of (7, 2018) is not present in the NPV table, we consider it 0. The npv values of all other queries can be found in the NPV table.\\n\\nQ32.\\n\\nTable: Employees\\n\\nColumn Name\\n\\nType\\n\\nid\\n\\nint\\n\\nname\\n\\nvarchar\\n\\nid is the primary key for this table. Each row of this table contains the id and the name of an employee in a company.\\n\\nTable: EmployeeUNI\\n\\nColumn Name\\n\\nType\\n\\nid\\n\\nint\\n\\nunique_id\\n\\nint\\n\\n(id, unique_id) is the primary key for this table. Each row of this table contains the id and the corresponding unique id of an employee in the company.\\n\\nWrite an SQL query to show the unique ID of each user, If a user does not have a unique ID replace just show null. Return the result table in any order. The query result format is in the following example.\\n\\nInput: Employees table:\\n\\nid\\n\\nname\\n\\n1\\n\\nAlice\\n\\n7\\n\\nBob\\n\\n11\\n\\nMeir\\n\\n90\\n\\nWinston\\n\\n3\\n\\nJonathan\\n\\nEmployeeUNI table:\\n\\nid\\n\\nunique_id\\n\\n3\\n\\n1\\n\\n11\\n\\n2\\n\\n90\\n\\n3\\n\\nOutput:\\n\\nunique_id\\n\\nname\\n\\nnull\\n\\nAlice\\n\\nnull\\n\\nBob\\n\\n2\\n\\nMeir\\n\\n3\\n\\nWinston\\n\\n1\\n\\nJonathan\\n\\nExplanation: Alice and Bob do not have a unique ID, We will show null instead. The unique ID of Meir is 2. The unique ID of Winston is 3. The unique ID of Jonathan is 1.\\n\\nQ33.\\n\\nTable: Users\\n\\nColumn Name\\n\\nType\\n\\nid\\n\\nint\\n\\nname\\n\\nvarchar\\n\\nid is the primary key for this table. name is the name of the user.\\n\\nTable: Rides\\n\\nColumn Name\\n\\nType\\n\\nid\\n\\nint\\n\\nuser_id\\n\\nint\\n\\ndistance\\n\\nint\\n\\nid is the primary key for this table. user_id is the id of the user who travelled the distance \"distance\".\\n\\nWrite an SQL query to report the distance travelled by each user. Return the result table ordered by travelled_distance in descending order, if two or more users travelled the same distance, order them by their name in ascending order. The query result format is in the following example.\\n\\nInput: Users table:\\n\\nid\\n\\nname\\n\\n1\\n\\nAlice\\n\\n2\\n\\nBob\\n\\n3\\n\\nAlex\\n\\n4\\n\\nDonald\\n\\n7\\n\\nLee\\n\\n13\\n\\nJonathan\\n\\n19\\n\\nElvis\\n\\nRides table:\\n\\nid\\n\\nuser_id\\n\\ndistance\\n\\n1\\n\\n1\\n\\n120\\n\\n2\\n\\n2\\n\\n317\\n\\n3\\n\\n3\\n\\n222\\n\\n4\\n\\n7\\n\\n100\\n\\n5\\n\\n13\\n\\n312\\n\\n6\\n\\n19\\n\\n50\\n\\n7\\n\\n7\\n\\n120\\n\\n8\\n\\n19\\n\\n400\\n\\n9\\n\\n7\\n\\n230\\n\\nOutput:\\n\\nname\\n\\ntravelled_distan ce\\n\\nElvis\\n\\n450\\n\\nLee\\n\\n450\\n\\nBob\\n\\n317\\n\\nJonathan\\n\\n312\\n\\nAlex\\n\\n222\\n\\nAlice\\n\\n120\\n\\nDonald\\n\\n0\\n\\nExplanation: Elvis and Lee travelled 450 miles, Elvis is the top traveller as his name is alphabetically smaller than Lee. Bob, Jonathan, Alex, and Alice have only one ride and we just order them by the total distances of the ride. Donald did not have any rides, the distance travelled by him is 0.\\n\\nQ34.\\n\\nTable: Products\\n\\nColumn Name\\n\\nType\\n\\nproduct_id\\n\\nint\\n\\nproduct_name\\n\\nvarchar\\n\\nproduct_category\\n\\nvarchar\\n\\nproduct_id is the primary key for this table. This table contains data about the company\\'s products.\\n\\nTable: Orders\\n\\nColumn Name\\n\\nType\\n\\nproduct_id\\n\\nint\\n\\norder_date\\n\\ndate\\n\\nunit\\n\\nint\\n\\nThere is no primary key for this table. It may have duplicate rows. product_id is a foreign key to the Products table. unit is the number of products ordered in order_date.\\n\\nWrite an SQL query to get the names of products that have at least 100 units ordered in February 2020 and their amount. Return result table in any order. The query result format is in the following example.\\n\\nInput: Products table:\\n\\nproduct_id\\n\\nproduct_name\\n\\nproduct_catego ry\\n\\n1\\n\\nLeetcode Solutions\\n\\nBook\\n\\n2\\n\\nJewels of Stringology\\n\\nBook\\n\\n3\\n\\nHP\\n\\nLaptop\\n\\n4\\n\\nLenovo\\n\\nLaptop\\n\\n5\\n\\nLeetcode Kit\\n\\nT-shirt\\n\\nQ35.\\n\\nTable: Movies\\n\\nColumn Name\\n\\nType\\n\\nmovie_id\\n\\nint\\n\\ntitle\\n\\nvarchar\\n\\nmovie_id is the primary key for this table. The title is the name of the movie.\\n\\nTable: Users\\n\\nColumn Name\\n\\nType\\n\\nuser_id\\n\\nint\\n\\nname\\n\\nvarchar\\n\\nuser_id is the primary key for this table.\\n\\nTable: MovieRating\\n\\nColumn Name\\n\\nType\\n\\nmovie_id\\n\\nint\\n\\nuser_id\\n\\nint\\n\\nrating\\n\\nint\\n\\ncreated_at\\n\\ndate\\n\\n(movie_id, user_id) is the primary key for this table. This table contains the rating of a movie by a user in their review. created_at is the user\\'s review date.\\n\\nWrite an SQL query to:\\n\\nFind the name of the user who has rated the greatest number of movies. In case of a tie,\\n\\nreturn the lexicographically smaller user name.\\n\\nFind the movie name with the highest average rating in February 2020. In case of a tie, return\\n\\nthe lexicographically smaller movie name.\\n\\nThe query result format is in the following example.\\n\\nInput:\\n\\nMovies table:\\n\\nmovie_id\\n\\ntitle\\n\\n1\\n\\nAvengers\\n\\n2\\n\\nFrozen 2\\n\\n3\\n\\nJoker\\n\\nUsers table:\\n\\nuser_id\\n\\nname\\n\\n1\\n\\nDaniel\\n\\n2\\n\\nMonica\\n\\n3\\n\\nMaria\\n\\n4\\n\\nJames\\n\\nMovieRating table:\\n\\nmovie_id\\n\\nuser_id\\n\\nrating\\n\\ncreated_at\\n\\n1\\n\\n1\\n\\n3\\n\\n2020-01-12\\n\\n1\\n\\n2\\n\\n4\\n\\n2020-02-11\\n\\n1\\n\\n3\\n\\n2\\n\\n2020-02-12\\n\\n1\\n\\n4\\n\\n1\\n\\n2020-01-01\\n\\n2\\n\\n1\\n\\n5\\n\\n2020-02-17\\n\\n2\\n\\n2\\n\\n2\\n\\n2020-02-01\\n\\n2\\n\\n3\\n\\n2\\n\\n2020-03-01\\n\\n3\\n\\n1\\n\\n3\\n\\n2020-02-22\\n\\n3\\n\\n2\\n\\n4\\n\\n2020-02-25\\n\\nOutput:\\n\\nresults\\n\\nDaniel\\n\\nFrozen 2\\n\\nExplanation: Daniel and Monica have rated 3 movies (\"Avengers\", \"Frozen 2\" and \"Joker\") but Daniel is smaller lexicographically. Frozen 2 and Joker have a rating average of 3.5 in February but Frozen 2 is smaller lexicographically.\\n\\nQ36.\\n\\nTable: Users\\n\\nColumn Name\\n\\nType\\n\\nid\\n\\nint\\n\\nname\\n\\nvarchar\\n\\nid is the primary key for this table. name is the name of the user.\\n\\nTable: Rides\\n\\nColumn Name\\n\\nType\\n\\nid\\n\\nint\\n\\nuser_id\\n\\nint\\n\\ndistance\\n\\nint\\n\\nid is the primary key for this table. user_id is the id of the user who travelled the distance \"distance\".\\n\\nWrite an SQL query to report the distance travelled by each user. Return the result table ordered by travelled_distance in descending order, if two or more users travelled the same distance, order them by their name in ascending order. The query result format is in the following example.\\n\\nInput: Users table:\\n\\nid\\n\\nname\\n\\n1\\n\\nAlice\\n\\n2\\n\\nBob\\n\\n3\\n\\nAlex\\n\\n4\\n\\nDonald\\n\\n7\\n\\nLee\\n\\n13\\n\\nJonathan\\n\\n19\\n\\nElvis\\n\\nRides table:\\n\\nid\\n\\nuser_id\\n\\ndistance\\n\\n1\\n\\n1\\n\\n120\\n\\n2\\n\\n2\\n\\n317\\n\\n3\\n\\n3\\n\\n222\\n\\n4\\n\\n7\\n\\n100\\n\\n5\\n\\n13\\n\\n312\\n\\n6\\n\\n19\\n\\n50\\n\\n7\\n\\n7\\n\\n120\\n\\n8\\n\\n19\\n\\n400\\n\\n9\\n\\n7\\n\\n230\\n\\nOutput:\\n\\nname\\n\\ntravelled_distan ce\\n\\nElvis\\n\\n450\\n\\nLee\\n\\n450\\n\\nBob\\n\\n317\\n\\nJonathan\\n\\n312\\n\\nAlex\\n\\n222\\n\\nAlice\\n\\n120\\n\\nDonald\\n\\n0\\n\\nExplanation: Elvis and Lee travelled 450 miles, Elvis is the top traveller as his name is alphabetically smaller than Lee. Bob, Jonathan, Alex, and Alice have only one ride and we just order them by the total distances of the ride. Donald did not have any rides, the distance travelled by him is 0.\\n\\nQ37.\\n\\nTable: Employees\\n\\nColumn Name\\n\\nType\\n\\nid\\n\\nint\\n\\nname\\n\\nvarchar\\n\\nid is the primary key for this table. Each row of this table contains the id and the name of an employee in a company.\\n\\nTable: EmployeeUNI\\n\\nColumn Name\\n\\nType\\n\\nid\\n\\nint\\n\\nunique_id\\n\\nint\\n\\n(id, unique_id) is the primary key for this table. Each row of this table contains the id and the corresponding unique id of an employee in the company.\\n\\nWrite an SQL query to show the unique ID of each user, If a user does not have a unique ID replace just show null. Return the result table in any order.\\n\\nThe query result format is in the following example.\\n\\nInput: Employees table:\\n\\nid\\n\\nname\\n\\n1\\n\\nAlice\\n\\n7\\n\\nBob\\n\\n11\\n\\nMeir\\n\\n90\\n\\nWinston\\n\\n3\\n\\nJonathan\\n\\nEmployeeUNI table:\\n\\nid\\n\\nunique_id\\n\\n3\\n\\n1\\n\\n11\\n\\n2\\n\\n90\\n\\n3\\n\\nOutput:\\n\\nunique_id\\n\\nname\\n\\nnull\\n\\nAlice\\n\\nnull\\n\\nBob\\n\\n2\\n\\nMeir\\n\\n3\\n\\nWinston\\n\\n1\\n\\nJonathan\\n\\nExplanation: Alice and Bob do not have a unique ID, We will show null instead. The unique ID of Meir is 2. The unique ID of Winston is 3. The unique ID of Jonathan is 1.\\n\\nQ38.\\n\\nTable: Departments\\n\\nColumn Name\\n\\nType\\n\\nid\\n\\nint\\n\\nname\\n\\nvarchar\\n\\nid is the primary key of this table. The table has information about the id of each department of a university.\\n\\nTable: Students\\n\\nColumn Name\\n\\nType\\n\\nid\\n\\nint\\n\\nname\\n\\nvarchar\\n\\ndepartment_id\\n\\nint\\n\\nid is the primary key of this table. The table has information about the id of each student at a university and the id of the department he/she studies at. Write an SQL query to ﬁnd the id and the name of all students who are enrolled in departments that no longer exist. Return the result table in any order. The query result format is in the following example.\\n\\nInput: Departments table:\\n\\nid\\n\\nname\\n\\n1\\n\\nElectrical Engineering\\n\\n7\\n\\nComputer Engineering\\n\\n13\\n\\nBusiness Administration\\n\\nStudents table:\\n\\nid\\n\\nname\\n\\ndepartment_id\\n\\n23\\n\\nAlice\\n\\n1\\n\\n1\\n\\nBob\\n\\n7\\n\\n5\\n\\nJennifer\\n\\n13\\n\\n2\\n\\nJohn\\n\\n14\\n\\n4\\n\\nJasmine\\n\\n77\\n\\n3\\n\\nSteve\\n\\n74\\n\\n6\\n\\nLuis\\n\\n1\\n\\n8\\n\\nJonathan\\n\\n7\\n\\n7\\n\\nDaiana\\n\\n33\\n\\n11\\n\\nMadelynn\\n\\n1\\n\\nOutput:\\n\\nid\\n\\nname\\n\\n2\\n\\nJohn\\n\\n7\\n\\nDaiana\\n\\n4\\n\\nJasmine\\n\\n3\\n\\nSteve\\n\\nExplanation: John, Daiana, Steve, and Jasmine are enrolled in departments 14, 33, 74, and 77 respectively. Department 14, 33, 74, and 77 do not exist in the Departments table.\\n\\nQ39.\\n\\nTable: Calls\\n\\nColumn Name Type\\n\\nfrom_id\\n\\nint\\n\\nto_id\\n\\nint\\n\\nduration\\n\\nint\\n\\nThis table does not have a primary key, it may contain duplicates. This table contains the duration of a phone call between from_id and to_id. from_id != to_id\\n\\nWrite an SQL query to report the number of calls and the total call duration between each pair of distinct persons (person1, person2) where person1 < person2. Return the result table in any order. The query result format is in the following example.\\n\\nInput: Calls table:\\n\\nfrom_id\\n\\nto_id\\n\\nduration\\n\\n1\\n\\n2\\n\\n59\\n\\n2\\n\\n1\\n\\n11\\n\\n1\\n\\n3\\n\\n20\\n\\n3\\n\\n4\\n\\n100\\n\\n3\\n\\n4\\n\\n200\\n\\n3\\n\\n4\\n\\n200\\n\\n4\\n\\n3\\n\\n499\\n\\nOutput:\\n\\nperson1\\n\\nperson2\\n\\ncall_count\\n\\ntotal_duration\\n\\n1\\n\\n2\\n\\n2\\n\\n70\\n\\n1\\n\\n3\\n\\n1\\n\\n20\\n\\n3\\n\\n4\\n\\n4\\n\\n999\\n\\nExplanation: Users 1 and 2 had 2 calls and the total duration is 70 (59 + 11). Users 1 and 3 had 1 call and the total duration is 20. Users 3 and 4 had 4 calls and the total duration is 999 (100 + 200 + 200 + 499).\\n\\nQ40.\\n\\nTable: Prices\\n\\nColumn Name Type\\n\\nproduct_id\\n\\nint\\n\\nstart_date\\n\\ndate\\n\\nend_date\\n\\ndate\\n\\nprice\\n\\nint\\n\\n(product_id, start_date, end_date) is the primary key for this table. Each row of this table indicates the price of the product_id in the period from start_date to end_date. For each product_id there will be no two overlapping periods. That means there will be no two intersecting periods for the same product_id.\\n\\nTable: UnitsSold\\n\\nColumn Name Type\\n\\nproduct_id\\n\\nint\\n\\npurchase_date date\\n\\nunits\\n\\nint\\n\\nThere is no primary key for this table, it may contain duplicates. Each row of this table indicates the date, units, and product_id of each product sold.\\n\\nWrite an SQL query to ﬁnd the average selling price for each product. average_price should be rounded to 2 decimal places. Return the result table in any order. The query result format is in the following example.\\n\\nInput: Prices table:\\n\\nproduct_id\\n\\nstart_date\\n\\nend_date\\n\\nprice\\n\\n1\\n\\n2019-02-17\\n\\n2019-02-28\\n\\n5\\n\\n1\\n\\n2019-03-01\\n\\n2019-03-22\\n\\n20\\n\\n2\\n\\n2019-02-01\\n\\n2019-02-20\\n\\n15\\n\\n2\\n\\n2019-02-21\\n\\n2019-03-31\\n\\n30\\n\\nUnitsSold table:\\n\\nproduct_id\\n\\npurchase_date units\\n\\n1\\n\\n2019-02-25\\n\\n100\\n\\n1\\n\\n2019-03-01\\n\\n15\\n\\n2\\n\\n2019-02-10\\n\\n200\\n\\n2\\n\\n2019-03-22\\n\\n30\\n\\nOutput:\\n\\nproduct_id\\n\\naverage_price\\n\\n1\\n\\n6.96\\n\\n2\\n\\n16.96\\n\\nExplanation: Average selling price = Total Price of Product / Number of products sold. Average selling price for product 1 = ((100 * 5) + (15 * 20)) / 115 = 6.96 Average selling price for product 2 = ((200 * 15) + (30 * 30)) / 230 = 16.96\\n\\nQ41.\\n\\nTable: Warehouse\\n\\nColumn Name Type\\n\\nname\\n\\nvarchar\\n\\nproduct_id\\n\\nint\\n\\nunits\\n\\nint\\n\\n(name, product_id) is the primary key for this table. Each row of this table contains the information of the products in each warehouse.\\n\\nTable: Products\\n\\nColumn Name Type\\n\\nproduct_id\\n\\nint\\n\\nproduct_name\\n\\nvarchar\\n\\nWidth\\n\\nint\\n\\nLength\\n\\nint\\n\\nHeight\\n\\nint\\n\\nproduct_id is the primary key for this table. Each row of this table contains information about the product dimensions (Width, Length, and Height) in feets of each product.\\n\\nWrite an SQL query to report the number of cubic feet of volume the inventory occupies in each warehouse. Return the result table in any order. The query result format is in the following example.\\n\\nInput: Warehouse table:\\n\\nname\\n\\nLCHouse1\\n\\nLCHouse1\\n\\nLCHouse1\\n\\nLCHouse2\\n\\nLCHouse2\\n\\nLCHouse3\\n\\nProducts table:\\n\\nproduct_id\\n\\n1\\n\\n2\\n\\n3\\n\\n4\\n\\nOutput:\\n\\nwarehouse_name\\n\\nLCHouse1\\n\\nLCHouse2\\n\\nLCHouse3\\n\\nQ42.\\n\\nproduct_id\\n\\nunits\\n\\n1\\n\\n1\\n\\n2\\n\\n10\\n\\n3\\n\\n5\\n\\n1\\n\\n2\\n\\n2\\n\\n2\\n\\n4\\n\\n1\\n\\nproduct_name Width\\n\\nLC-TV\\n\\n5\\n\\nLC-KeyChain\\n\\n5\\n\\nLC-Phone\\n\\n2\\n\\nLC-T-Shirt\\n\\n4\\n\\nvolume\\n\\n12250\\n\\n20250\\n\\n800\\n\\nLength\\n\\n50\\n\\n5\\n\\n10\\n\\n10\\n\\nHeight\\n\\n40\\n\\n5\\n\\n10\\n\\n20\\n\\nTable: Sales\\n\\nColumn Name Type\\n\\nsale_date\\n\\ndate\\n\\nfruit\\n\\nenum\\n\\nsold_num\\n\\nint\\n\\n(sale_date, fruit) is the primary key for this table. This table contains the sales of \"apples\" and \"oranges\" sold each day.\\n\\nWrite an SQL query to report the difference between the number of apples and oranges sold each day. Return the result table ordered by sale_date. The query result format is in the following example.\\n\\nInput: Sales table:\\n\\nsale_date\\n\\nfruit\\n\\nsold_num\\n\\n2020-05-01\\n\\napples\\n\\n10\\n\\n2020-05-01\\n\\noranges\\n\\n8\\n\\n2020-05-02\\n\\napples\\n\\n15\\n\\n2020-05-02\\n\\noranges\\n\\n15\\n\\n2020-05-03\\n\\napples\\n\\n20\\n\\n2020-05-03\\n\\noranges\\n\\n0\\n\\n2020-05-04\\n\\napples\\n\\n15\\n\\n2020-05-04\\n\\noranges\\n\\n16\\n\\nOutput:\\n\\nsale_date\\n\\ndiff\\n\\n2020-05-01\\n\\n2\\n\\n2020-05-02\\n\\n0\\n\\n2020-05-03\\n\\n20\\n\\n2020-05-04\\n\\n1\\n\\nExplanation: Day 2020-05-01, 10 apples and 8 oranges were sold (Difference 10 - 8 = 2). Day 2020-05-02, 15 apples and 15 oranges were sold (Difference 15 - 15 = 0). Day 2020-05-03, 20 apples and 0 oranges were sold (Difference 20 - 0 = 20). Day 2020-05-04, 15 apples and 16 oranges were sold (Difference 15 - 16 = -1).\\n\\nQ43.\\n\\nTable: Activity\\n\\nColumn Name Type\\n\\nplayer_id\\n\\nint\\n\\ndevice_id\\n\\nint\\n\\nevent_date\\n\\ndate\\n\\ngames_played int\\n\\n(player_id, event_date) is the primary key of this table. This table shows the activity of players of some games. Each row is a record of a player who logged in and played a number of games (possibly 0) before logging out on someday using some device.\\n\\nWrite an SQL query to report the fraction of players that logged in again on the day after the day they ﬁrst logged in, rounded to 2 decimal places. In other words, you need to count the number of players that logged in for at least two consecutive days starting from their ﬁrst login date, then divide that number by the total number of players. The query result format is in the following example.\\n\\nInput: Activity table:\\n\\nplayer_id\\n\\ndevice_id\\n\\nevent_date\\n\\ngames_played\\n\\n1\\n\\n2\\n\\n2016-03-01\\n\\n5\\n\\n1\\n\\n2\\n\\n2016-03-02\\n\\n6\\n\\n2\\n\\n3\\n\\n2017-06-25\\n\\n1\\n\\n3\\n\\n1\\n\\n2016-03-02\\n\\n0\\n\\n3\\n\\n4\\n\\n2018-07-03\\n\\n5\\n\\nOutput:\\n\\nfraction\\n\\n0.33\\n\\nExplanation: Only the player with id 1 logged back in after the ﬁrst day he had logged in so the answer is 1/3 = 0.33\\n\\nQ44.\\n\\nTable: Employee\\n\\nColumn Name Type\\n\\nid\\n\\nint\\n\\nname\\n\\nvarchar\\n\\ndepartment\\n\\nvarchar\\n\\nmanagerId\\n\\nint\\n\\nid is the primary key column for this table. Each row of this table indicates the name of an employee, their department, and the id of their manager. If managerId is null, then the employee does not have a manager. No employee will be the manager of themself.\\n\\nWrite an SQL query to report the managers with at least ﬁve direct reports. Return the result table in any order. The query result format is in the following example.\\n\\nInput: Employee table:\\n\\nid\\n\\nname\\n\\ndepartment\\n\\nmanagerId\\n\\n101\\n\\nJohn\\n\\nA\\n\\nNone\\n\\n102\\n\\nDan\\n\\nA\\n\\n101\\n\\n103\\n\\nJames\\n\\nA\\n\\n101\\n\\n104\\n\\nAmy\\n\\nA\\n\\n101\\n\\n105\\n\\nAnne\\n\\nA\\n\\n101\\n\\n106\\n\\nRon\\n\\nB\\n\\n101\\n\\nOutput:\\n\\nname\\n\\nJohn\\n\\nQ45.\\n\\nTable: Student\\n\\nColumn Name Type\\n\\nstudent_id\\n\\nint\\n\\nstudent_name\\n\\nvarchar\\n\\ngender\\n\\nvarchar\\n\\ndept_id\\n\\nint\\n\\nstudent_id is the primary key column for this table. dept_id is a foreign key to dept_id in the Department tables. Each row of this table indicates the name of a student, their gender, and the id of their department.\\n\\nTable: Department\\n\\nColumn Name Type\\n\\ndept_id\\n\\nint\\n\\ndept_name\\n\\nvarchar\\n\\ndept_id is the primary key column for this table. Each row of this table contains the id and the name of a department.\\n\\nWrite an SQL query to report the respective department name and number of students majoring in each department for all departments in the Department table (even ones with no current students). Return the result table ordered by student_number in descending order. In case of a tie, order them by dept_name alphabetically. The query result format is in the following example.\\n\\nInput: Student table:\\n\\nstudent_id\\n\\nstudent_name\\n\\ngender\\n\\ndept_id\\n\\n1\\n\\nJack\\n\\nM\\n\\n1\\n\\n2\\n\\nJane\\n\\nF\\n\\n1\\n\\n3\\n\\nMark\\n\\nM\\n\\n2\\n\\nDepartment table:\\n\\ndept_id\\n\\ndept_name\\n\\n1\\n\\nEngineering\\n\\n2\\n\\nScience\\n\\n3\\n\\nLaw\\n\\nOutput:\\n\\ndept_name\\n\\nstudent_numbe r\\n\\nEngineering\\n\\n2\\n\\nScience\\n\\n1\\n\\nLaw\\n\\n0\\n\\nQ46.\\n\\nTable: Customer\\n\\nColumn Name Type\\n\\ncustomer_id\\n\\nint\\n\\nproduct_key\\n\\nint\\n\\nThere is no primary key for this table. It may contain duplicates. product_key is a foreign key to the Product table.\\n\\nTable: Product\\n\\nColumn Name Type\\n\\nproduct_key\\n\\nint\\n\\nproduct_key is the primary key column for this table.\\n\\nWrite an SQL query to report the customer ids from the Customer table that bought all the products in the Product table. Return the result table in any order. The query result format is in the following example.\\n\\nInput: Customer table:\\n\\ncustomer_id\\n\\nproduct_key\\n\\n1\\n\\n5\\n\\n2\\n\\n6\\n\\n3\\n\\n5\\n\\n3\\n\\n6\\n\\n1\\n\\n6\\n\\nProduct table:\\n\\nproduct_key\\n\\n5\\n\\n6\\n\\nOutput:\\n\\ncustomer_id\\n\\n1\\n\\n3\\n\\nExplanation: The customers who bought all the products (5 and 6) are customers with IDs 1 and 3.\\\\\\n\\nQ47.\\n\\nTable: Project\\n\\nColumn Name Type\\n\\nproject_id\\n\\nint\\n\\nemployee_id\\n\\nint\\n\\n(project_id, employee_id) is the primary key of this table. employee_id is a foreign key to the Employee table. Each row of this table indicates that the employee with employee_id is working on the project with project_id.\\n\\nTable: Employee\\n\\nColumn Name Type\\n\\nemployee_id\\n\\nint\\n\\nname\\n\\nvarchar\\n\\nexperience_yea rs\\n\\nint\\n\\nemployee_id is the primary key of this table. Each row of this table contains information about one employee.\\n\\nWrite an SQL query that reports the most experienced employees in each project. In case of a tie, report all employees with the maximum number of experience years. Return the result table in any order. The query result format is in the following example.\\n\\nInput: Project table:\\n\\nproject_id\\n\\nemployee_id\\n\\n1\\n\\n1\\n\\n1\\n\\n2\\n\\n1\\n\\n3\\n\\n2\\n\\n1\\n\\n2\\n\\n4\\n\\nEmployee table:\\n\\nemployee_id\\n\\nname\\n\\nexperience_yea rs\\n\\n1\\n\\nKhaled\\n\\n3\\n\\n2\\n\\nAli\\n\\n2\\n\\n3\\n\\nJohn\\n\\n3\\n\\n4\\n\\nDoe\\n\\n2\\n\\nOutput:\\n\\nproject_id\\n\\nemployee_id\\n\\n1\\n\\n1\\n\\n1\\n\\n3\\n\\n2\\n\\n1\\n\\nExplanation: Both employees with id 1 and 3 have the most experience among the employees of the ﬁrst project. For the second project, the employee with id 1 has the most experience.\\n\\nQ48.\\n\\nTable: Books\\n\\nColumn Name Type\\n\\nbook_id\\n\\nint\\n\\nname\\n\\nvarchar\\n\\navailable_from date\\n\\nbook_id is the primary key of this table.\\n\\nTable: Orders\\n\\nColumn Name Type\\n\\norder_id\\n\\nint\\n\\nbook_id\\n\\nint\\n\\nquantity\\n\\nint\\n\\ndispatch_date\\n\\ndate\\n\\norder_id is the primary key of this table. book_id is a foreign key to the Books table.\\n\\nWrite an SQL query that reports the books that have sold less than 10 copies in the last year, excluding books that have been available for less than one month from today. Assume today is 2019-06-23. Return the result table in any order. The query result format is in the following example.\\n\\nInput:\\n\\nBooks table:\\n\\nbook_id\\n\\nname\\n\\navailable_from\\n\\n1\\n\\n\"Kalila And Demna\"\\n\\n2010-01-01\\n\\n2\\n\\n\"28 Letters\"\\n\\n2012-05-12\\n\\n3\\n\\n\"The Hobbit\"\\n\\n2019-06-10\\n\\n4\\n\\n\"13 Reasons Why\"\\n\\n2019-06-01\\n\\n5\\n\\n\"The Hunger Games\"\\n\\n2008-09-21\\n\\nQ49.\\n\\nTable: Enrollments\\n\\nColumn Name Type\\n\\nstudent_id\\n\\nint\\n\\ncourse_id\\n\\nint\\n\\ngrade\\n\\nint\\n\\n(student_id, course_id) is the primary key of this table.\\n\\nWrite a SQL query to ﬁnd the highest grade with its corresponding course for each student. In case of a tie, you should ﬁnd the course with the smallest course_id. Return the result table ordered by student_id in ascending order. The query result format is in the following example.\\n\\nInput: Enrollments table:\\n\\nstudent_id\\n\\ncourse_id\\n\\ngrade\\n\\n2\\n\\n2\\n\\n95\\n\\n2\\n\\n3\\n\\n95\\n\\n1\\n\\n1\\n\\n90\\n\\n1\\n\\n2\\n\\n99\\n\\n3\\n\\n1\\n\\n80\\n\\n3\\n\\n2\\n\\n75\\n\\n3\\n\\n3\\n\\n82\\n\\nOutput:\\n\\nstudent_id\\n\\ncourse_id\\n\\ngrade\\n\\n1\\n\\n2\\n\\n99\\n\\n2\\n\\n2\\n\\n95\\n\\n3\\n\\n3\\n\\n82\\n\\nQ50.\\n\\nTable: Teams\\n\\nColumn Name\\n\\nType\\n\\nteam_id\\n\\nint\\n\\nteam_name\\n\\nvarchar\\n\\nteam_id is the primary key of this table. Each row of this table represents a single football team.\\n\\nTable: Matches\\n\\nColumn Name\\n\\nType\\n\\nmatch_id\\n\\nint\\n\\nhost_team\\n\\nint\\n\\nguest_team\\n\\nint\\n\\nhost_goals\\n\\nint\\n\\nguest_goals\\n\\nint\\n\\nmatch_id is the primary key of this table. Each row is a record of a ﬁnished match between two different teams. Teams host_team and guest_team are represented by their IDs in the Teams table (team_id), and they scored host_goals and guest_goals goals, respectively.\\n\\nThe winner in each group is the player who scored the maximum total points within the group. In the case of a tie, the lowest player_id wins. Write an SQL query to ﬁnd the winner in each group. Return the result table in any order. The query result format is in the following example.\\n\\nInput: Players table:\\n\\nplayer_id\\n\\ngroup_id\\n\\n15\\n\\n1\\n\\n25\\n\\n1\\n\\n30\\n\\n1\\n\\n45\\n\\n1\\n\\n10\\n\\n2\\n\\n35\\n\\n2\\n\\n50\\n\\n2\\n\\n20\\n\\n3\\n\\n40\\n\\n3\\n\\nMatches table:\\n\\nmatch_id\\n\\nﬁrst_player\\n\\nsecond_player\\n\\nﬁrst_score\\n\\nsecond_score\\n\\n1\\n\\n2\\n\\n3\\n\\n4\\n\\n5\\n\\nOutput:\\n\\ngroup_id\\n\\n1\\n\\n2\\n\\n3\\n\\n15\\n\\n30\\n\\n30\\n\\n40\\n\\n35\\n\\nplayer_id\\n\\n15\\n\\n35\\n\\n40\\n\\n45\\n\\n25\\n\\n15\\n\\n20\\n\\n50\\n\\n3\\n\\n1\\n\\n2\\n\\n5\\n\\n1\\n\\n0\\n\\n2\\n\\n0\\n\\n2\\n\\n1'"
            ],
            "application/vnd.google.colaboratory.intrinsic+json": {
              "type": "string"
            }
          },
          "metadata": {},
          "execution_count": 45
        }
      ]
    },
    {
      "cell_type": "code",
      "source": [
        "loader = UnstructuredPDFLoader(\n",
        "    \"/content/150_Python_Programs_1704563207 (1).pdf\",\n",
        "    strategy = \"hi_res\",\n",
        "    extract_images_in_pdf = False,\n",
        "    infer_table_structure = True,\n",
        "    chunking_strategy = \"by_title\",\n",
        "    max_characters =4000,\n",
        "    new_after_n_chars = 3800,\n",
        "    combine_text_under_n_chars = 2000,\n",
        "    mode = \"elements\"\n",
        ")"
      ],
      "metadata": {
        "id": "eHFJLi_I4Xy8"
      },
      "execution_count": 5,
      "outputs": []
    },
    {
      "cell_type": "markdown",
      "source": [],
      "metadata": {
        "id": "3zAa2eikgLAD"
      }
    },
    {
      "cell_type": "code",
      "source": [
        "data  = loader.load()"
      ],
      "metadata": {
        "id": "b_4DtBdd6DdG"
      },
      "execution_count": null,
      "outputs": []
    },
    {
      "cell_type": "code",
      "source": [],
      "metadata": {
        "id": "XrvyoIrUG_b0"
      },
      "execution_count": null,
      "outputs": []
    },
    {
      "cell_type": "markdown",
      "source": [
        "**word doc as single document**"
      ],
      "metadata": {
        "id": "hVkO7hN5mxPd"
      }
    },
    {
      "cell_type": "code",
      "source": [
        "from langchain_community.document_loaders import UnstructuredWordDocumentLoader"
      ],
      "metadata": {
        "id": "T97_1vJTmwCD"
      },
      "execution_count": 6,
      "outputs": []
    },
    {
      "cell_type": "markdown",
      "source": [],
      "metadata": {
        "id": "bYgf1edVmwX4"
      }
    },
    {
      "cell_type": "code",
      "source": [
        "loader = UnstructuredWordDocumentLoader(\"/content/List_Tuples.docx\")"
      ],
      "metadata": {
        "id": "GazTmMqZmwFV"
      },
      "execution_count": 2,
      "outputs": []
    },
    {
      "cell_type": "code",
      "source": [
        "data = loader.load()"
      ],
      "metadata": {
        "id": "tqUFxg1AndJ5"
      },
      "execution_count": 4,
      "outputs": []
    },
    {
      "cell_type": "code",
      "source": [
        "len(data)"
      ],
      "metadata": {
        "colab": {
          "base_uri": "https://localhost:8080/"
        },
        "id": "oPAT7alonetG",
        "outputId": "73147aa8-f17a-4b65-a319-910c92dd959c"
      },
      "execution_count": 5,
      "outputs": [
        {
          "output_type": "execute_result",
          "data": {
            "text/plain": [
              "1"
            ]
          },
          "metadata": {},
          "execution_count": 5
        }
      ]
    },
    {
      "cell_type": "code",
      "source": [
        "data[0].page_content[:100]"
      ],
      "metadata": {
        "colab": {
          "base_uri": "https://localhost:8080/",
          "height": 35
        },
        "id": "bo6SxwJOnkrp",
        "outputId": "97ad1561-ab7a-4abd-d7d3-17bf5e648858"
      },
      "execution_count": 7,
      "outputs": [
        {
          "output_type": "execute_result",
          "data": {
            "text/plain": [
              "'Explain the properties of list and tuple in the markdown cell.\\n\\nCreate a list containing the numbers'"
            ],
            "application/vnd.google.colaboratory.intrinsic+json": {
              "type": "string"
            }
          },
          "metadata": {},
          "execution_count": 7
        }
      ]
    },
    {
      "cell_type": "code",
      "source": [],
      "metadata": {
        "id": "9h4Dh_fQnmV4"
      },
      "execution_count": null,
      "outputs": []
    },
    {
      "cell_type": "markdown",
      "source": [
        "**load word doc with complex parsing and section based chunks**\n"
      ],
      "metadata": {
        "id": "0UHmq0lZn7dh"
      }
    },
    {
      "cell_type": "code",
      "source": [
        "loader = UnstructuredWordDocumentLoader(\n",
        "    \"/content/DAILY CLASS TASK QUESTIONS.docx\",\n",
        "    strategy = \"fast\",\n",
        "    chunking_strategy = \"by_title\",\n",
        "    max_characters = 300,\n",
        "    new_after_n_chars = 250,\n",
        "    mode = \"elements\")"
      ],
      "metadata": {
        "id": "r3qJLScmoGr8"
      },
      "execution_count": 19,
      "outputs": []
    },
    {
      "cell_type": "code",
      "source": [
        "data = loader.load()"
      ],
      "metadata": {
        "id": "VVoFWFGtoeoD"
      },
      "execution_count": 20,
      "outputs": []
    },
    {
      "cell_type": "code",
      "source": [
        "data[0]"
      ],
      "metadata": {
        "colab": {
          "base_uri": "https://localhost:8080/"
        },
        "id": "4p11jUsbomjL",
        "outputId": "e71b28f2-56b4-4c11-acfa-1aed609e8b3f"
      },
      "execution_count": 21,
      "outputs": [
        {
          "output_type": "execute_result",
          "data": {
            "text/plain": [
              "Document(metadata={'source': '/content/DAILY CLASS TASK QUESTIONS.docx', 'emphasized_text_contents': ['DAILY CLASS TASK QUESTIONS', '24th Jan, 2024 : Variables & Rules.'], 'emphasized_text_tags': ['b', 'b'], 'file_directory': '/content', 'filename': 'DAILY CLASS TASK QUESTIONS.docx', 'languages': ['eng'], 'last_modified': '2024-12-28T09:45:39', 'orig_elements': 'eJzVlU1r3DAQhv/K4ENPkSvJ8of2lqY9pA1p090WSgjLWBrtGrz2Ymvz0dD/Xmk3JKGkIYEeuicLjcbvO49e0PltQi2tqPPzxiYTSGzOMy5zZJiXGVNSZqxSKBg6WyuZy0IoTA4gWZFHix5Dz21i0NOiH27mltZ+GbZ4OEGr9RLH5ifZuadrPzd954POGMrnyfvD45MfcHRyOJ3C7HD6Cc6+fZjOjj+fTpOLJ3o9LnZ99bbsmpbmthnI+KAabb+9+3tyV+1wRXH/7zqp7c11PN5it9jggnYC1C22Ei2Ofr7qbeMa2oKRXComJJPVjOuJyieZTn6Fg9Hf80pRxN+st35mjW8p9v3JnZeGCp1lTJSuYkrnJUNeFkwJlRnHUanK/APuUvklfMTuAOI8MIHvODRYtzTCG/i6Cd90Xy/gJaO95CZImqzKuWZYac1UZjXThbZMcWtcaSxJ8cKb+B8pnYkUjgYKdiE0ORqCG7i8J+V7GINZgpt+M0C0d7BbBuW71Rpjz7gtpvAY6SkOA/rmkmZR7Am0hdSuEq5gVWFLpkiYAFkRqw1myGvihab9RYspfBmagPOeXfoqOo5U6azTjAoT4yYdq60TTCieGckFZarcXzr1fe5WMV8PkeuILFlwfQgZvGv6ONorcyVCblQZXqlCGWSqNIppzEOuRGEyWfG6qO3+kjMpnPZXsH7I1tWybymygjgNbMamWwDW/eUjrs9l7+I3fJlvGQ==', 'filetype': 'application/vnd.openxmlformats-officedocument.wordprocessingml.document', 'category': 'CompositeElement'}, page_content='DAILY CLASS TASK QUESTIONS\\n\\n24th Jan, 2024 : Variables & Rules.\\n\\nQ1. Create different variables to store your name, your age, your parents name. \\n\\na. Print your name.\\n\\nb. Create more variables needed for a Biodata. \\n\\nc. Now print your whole Bio data using above variables.')"
            ]
          },
          "metadata": {},
          "execution_count": 21
        }
      ]
    },
    {
      "cell_type": "code",
      "source": [
        "len(data)"
      ],
      "metadata": {
        "colab": {
          "base_uri": "https://localhost:8080/"
        },
        "id": "IqL4TD_Ooq49",
        "outputId": "cf494110-3a3e-4b29-f3ae-011a3bd8abef"
      },
      "execution_count": 23,
      "outputs": [
        {
          "output_type": "execute_result",
          "data": {
            "text/plain": [
              "164"
            ]
          },
          "metadata": {},
          "execution_count": 23
        }
      ]
    },
    {
      "cell_type": "code",
      "source": [
        "data[2]"
      ],
      "metadata": {
        "colab": {
          "base_uri": "https://localhost:8080/"
        },
        "id": "PtnkQFNzot7V",
        "outputId": "e06fad97-7f43-4cba-bcb4-67c7f7c43bdd"
      },
      "execution_count": 25,
      "outputs": [
        {
          "output_type": "execute_result",
          "data": {
            "text/plain": [
              "Document(metadata={'source': '/content/DAILY CLASS TASK QUESTIONS.docx', 'file_directory': '/content', 'filename': 'DAILY CLASS TASK QUESTIONS.docx', 'languages': ['eng'], 'last_modified': '2024-12-28T09:45:39', 'orig_elements': 'eJzVlE1vGyEQhv8K4lxcYIEFSz1YbQ9WrX5oN4cqjawBZh2k/Yh2cZso6n8va/VQVTnk6iPzvjODHr1w+0yxxwHHfEyRbgk1lVMVaGCGW8WU88hAQM2ElQI6QIUY6BtCB8wQIUPpeaYBMp6m+ekY8SHflxIvji71eIxpxpCLtM5+G6Yxl1X0rzrCgGv9w25/+E7eH3ZNQ9pd84l8u/nYtPsvn5tNnMLjau9hPJ3hhEvx31IcT/TuUl3ycZhi6hJebi+5VExIJm3L3VbpbeXo72LM+JhX3W/I1zmNmeSnByRTR/I9Eo/99Iv8hDmB73HZrvtWfW1oU+5xHfE/JycNN7VzrBIiMBWiYxCNZjGqWgWorLXqejkBeUfURv9L4pCWvM84vASDl5xIYwPzEUpodFVCo1TNrNV1qEVZBuZ6YfgC48dZchH24zgNkFNYLuf4aj7YaeUxMC2NY8oEVcKiOeMmVLxGLjrlr5dPKHwE56+FYY2JQldV+WFUeTkd18x7a1g0oSByUoPl1wsjFhjtfMaXadz9AUnOnSc=', 'filetype': 'application/vnd.openxmlformats-officedocument.wordprocessingml.document', 'category': 'CompositeElement'}, page_content='b. Print type of the below variables:\\n\\na = 4.5\\n\\nb = “Innomatics”\\n\\nc = 100\\n\\nd = True')"
            ]
          },
          "metadata": {},
          "execution_count": 25
        }
      ]
    },
    {
      "cell_type": "code",
      "source": [
        "data[3]"
      ],
      "metadata": {
        "colab": {
          "base_uri": "https://localhost:8080/"
        },
        "id": "qE7yuqk0ove8",
        "outputId": "7b7e5191-b28b-4a70-add4-32e4a5a35c34"
      },
      "execution_count": 26,
      "outputs": [
        {
          "output_type": "execute_result",
          "data": {
            "text/plain": [
              "Document(metadata={'source': '/content/DAILY CLASS TASK QUESTIONS.docx', 'emphasized_text_contents': ['25th Jan, 2024 : Basic Operators'], 'emphasized_text_tags': ['b'], 'file_directory': '/content', 'filename': 'DAILY CLASS TASK QUESTIONS.docx', 'languages': ['eng'], 'last_modified': '2024-12-28T09:45:39', 'orig_elements': 'eJzVUsFunDAQ/ZUR55iCFxbYS7VtUyltlChaeoiiCA32AFYAI2zS0Kj/XkNWqhJFaY/txYd5b+Y9v5mbR49a6qi3hZLeDryokmmwwZBlGVUsCqqUpWmITMRJKaoESSaJdwJeRxYlWnQ9j55AS7Ue50LSYBtXChyDuqFBo36QLCw92ELo3jod4+Abj8e2gS/YnwAPeAQ7+OCoAi4HGtHq0Xi3r0ywWD91lytcqZYKqUYSrmNezL87anhHtMeOlvqn/dn5NXw83x8OkO8PX+Hq2+khP7u8OPhSi4eF3mJfT1jTkwD19SrRorFFp6WqFK3xLG5ZyBlP8yDbRfFuk3k/HXHxt+J/+tfCnYfVVa5sS0v3yx1UFfJsKwRLuExYlGw4S4XkLOY8CrchYfq3O/gXI7oKfbjWE5R6qhsLYQCi0UK3zr+BatQdIBhnl3w4RdH8RkFoYw3E/jaFcRqInqV5gaOLWN1Tvui8kqqUFWIkSyYEpczdubvxcrtlwj0kMpEi/49TxV7C7FKt8Z7ANgSm0cMdkTs8SIJjXj58Vo6nJwuTUX0Nw2wb7Y610d+hw34+8kCZlzNqvfCthtpFvCqVKO7ev7GB21+bqlyT', 'filetype': 'application/vnd.openxmlformats-officedocument.wordprocessingml.document', 'category': 'CompositeElement'}, page_content='25th Jan, 2024 : Basic Operators\\n\\nQ1. You bought 10 chocolates from a store. Each chocolate costs 5.68 rupees\\n\\nand you gave the shopkeeper 70 rupees. Find out using python, how many rupees is the shopkeeper going to give you back?')"
            ]
          },
          "metadata": {},
          "execution_count": 26
        }
      ]
    },
    {
      "cell_type": "code",
      "source": [
        "data[4]"
      ],
      "metadata": {
        "colab": {
          "base_uri": "https://localhost:8080/"
        },
        "id": "7Dx6NL5Cqytc",
        "outputId": "29e3a023-6bd0-48b1-92a9-7ba727660d07"
      },
      "execution_count": 27,
      "outputs": [
        {
          "output_type": "execute_result",
          "data": {
            "text/plain": [
              "Document(metadata={'source': '/content/DAILY CLASS TASK QUESTIONS.docx', 'file_directory': '/content', 'filename': 'DAILY CLASS TASK QUESTIONS.docx', 'languages': ['eng'], 'last_modified': '2024-12-28T09:45:39', 'orig_elements': 'eJzVUU1r3DAQ/SuDzpXr1dpre29L2kJoSAneHkIIy9ga2aJayVjyJkvof69kGig99N6beB+jmfee3hgZOpMNJy3ZHlhdYVmVfcl3qBQv+lzwRgriJaq866udUhtkH4CdKaDEgNHzxnoMNLj5epI0hTFCeVQobegk9Ux9iFSa/bF3NsSv2G/W4pkS/ulwe/cIN3eHtoXjof0KD98/t8fbb/dtJl3/muQG7bDgQD7qnxjZgT2vqA+ns5NaaVq3F7ko+EZwUR/zZl+U+23DfkZhoNeQ+AeRwaNbYMQLAYIyzs0QRgygPZQC4lU0ezDODoBWQl1n1Tv4oiVl8EVH2C0hugiCC2gAZ0JYvI6e6RpGZ1frNGsbx4YMIB0QrtN66z3OMwZ9oWNaKe72dwG7XDaFaiq+reqOF7Kped0p4kVZd50oeqRC/McFbDO4iXmFFP8FZ42dIejRGJLQReLHGh56rwcb01tVZiHY7DJoieAllTXiNJH1q1T9WUgc4GP+HY0JTUh84kW/t3yN3Xui7B+NPP8CBkX3aw==', 'filetype': 'application/vnd.openxmlformats-officedocument.wordprocessingml.document', 'category': 'CompositeElement'}, page_content='Q2. You have a floor that is 52 meters long and 88.7 meters wide. Find out the total area using python and print it.  \\n\\nQ3. Create a variable called break and assign it a value 16. See what happens and find out the reason behind the behavior that you see.')"
            ]
          },
          "metadata": {},
          "execution_count": 27
        }
      ]
    },
    {
      "cell_type": "code",
      "source": [
        "data[5]"
      ],
      "metadata": {
        "colab": {
          "base_uri": "https://localhost:8080/"
        },
        "id": "q39I_RGIrHeP",
        "outputId": "ae3baf58-670c-440f-bb2b-372d08e1f0f3"
      },
      "execution_count": 28,
      "outputs": [
        {
          "output_type": "execute_result",
          "data": {
            "text/plain": [
              "Document(metadata={'source': '/content/DAILY CLASS TASK QUESTIONS.docx', 'emphasized_text_contents': ['27th Jan, 2024 : Operators'], 'emphasized_text_tags': ['b'], 'file_directory': '/content', 'filename': 'DAILY CLASS TASK QUESTIONS.docx', 'languages': ['eng'], 'last_modified': '2024-12-28T09:45:39', 'orig_elements': 'eJzVld9v0zAQx/+VU57nkh92bFfawwQ8FCbG1O4Bjam6xOfWIk1K4m4rE/87dlbBhDZp4ok+OfF9z758/L34+iGhhjbU+qUzyRSSOi0VL3LLKs0zxi0Sq1RqmC6E4JkslS6r5ASSDXk06DHkPCQ1elp1/X5paOvXYSoNCtps1zi4H2SWnu79su5aH/YZQvg6yaVfwwdsTyBPcw5TuNhSj77rh+TmmVyPq8e8agxb19DSuJ7qkLGPZb85rJ4coi1uKM6/O5udf4G352fzOSzO5h/h8ur9fDG7+DSfmK6+j/IG29UOV/S4AbWrcYsGB7/cdMZZRyOYWCfLcparRaqnXEwLnfwMwljfGH/5i6Jqvx3rWTjfUMz7mzvlvM6Q54ykIMaVzpjKqoJVZEpLKQlh6tdx/x/hXGYTeIrhqj2UHo94EUXPIBEoM5MiZ4gCgxWtYErmOVNGSi3y3FiJx4tk1jrvsAkAAOEWe4dVQ3Dngovie7Mj6CyICVwNQdECDoNbtREPdAdnge8AjYEiPvg1/VkGWwPb3gVtnO5p2DV+8vQAzt3gZ542z3I3Rhd1XjKqZfgFBNSsEsGPpRFWF1lWKVTHy32Oe8DT8gSq0yydwOeR0qIPuJ2Fr7s8zRSOgwY3QEPDEBgG/gE3fd9hE1mP8boaB/NqrlIIqclIpjNeMM6tYorSkglpLDclKs3l8XK9zOEferwmK0hwxazMNONFEa8bqxmRqo22aWr1ETNZ4DcCf9f9bswhmgzbPXTt2N6hOzfRZnRL4eIIb+2hbaMhXzDWzS8qblfw', 'filetype': 'application/vnd.openxmlformats-officedocument.wordprocessingml.document', 'category': 'CompositeElement'}, page_content='27th Jan, 2024 : Operators\\n\\nQ1. \\n\\nInitialize a variable with a value of 5. Use an assignment operator to add 3 to the variable and print the result.\\n\\nSay a=6, b=10. Print True if ‘a’ is less than or equal to “b”.\\n\\nQ2 . \\n\\nTake two variables if any one of them is even, then print True.')"
            ]
          },
          "metadata": {},
          "execution_count": 28
        }
      ]
    },
    {
      "cell_type": "code",
      "source": [],
      "metadata": {
        "id": "mapP3H0xrJtM"
      },
      "execution_count": null,
      "outputs": []
    },
    {
      "cell_type": "code",
      "source": [],
      "metadata": {
        "id": "Ex4iDSCqratz"
      },
      "execution_count": null,
      "outputs": []
    },
    {
      "cell_type": "markdown",
      "source": [
        "**Directory Loader**"
      ],
      "metadata": {
        "id": "To71yqCevgSD"
      }
    },
    {
      "cell_type": "code",
      "source": [
        "loader = {\n",
        "    \".pdf\" : (PyMuPDFLoader , {} ),\n",
        "    \".docx\": (UnstructuredWordDocumentLoader ,\n",
        "                { \"strategy\" : \"fast\",\n",
        "                  \"chunking_strategy\" : \"by_title\",\n",
        "                  \"max_characters\" : 300,\n",
        "                  \"new_after_n_chars\" : 250,\n",
        "                  \"mode\" : \"elements\"\n",
        "               }\n",
        "              )\n",
        "}"
      ],
      "metadata": {
        "id": "xbDTeH5braws"
      },
      "execution_count": 7,
      "outputs": []
    },
    {
      "cell_type": "code",
      "source": [
        "from langchain_community.document_loaders import DirectoryLoader"
      ],
      "metadata": {
        "id": "ow52eXqSw3lv"
      },
      "execution_count": 8,
      "outputs": []
    },
    {
      "cell_type": "code",
      "source": [
        "def creat_directory_loader (file_type , directory_path):\n",
        "  return DirectoryLoader(\n",
        "      path = directory_path,\n",
        "      glob = f\"**/*{file_type}\",\n",
        "      loader_cls=loader[file_type][0],\n",
        "      loader_kwargs=loader[file_type][1],\n",
        "      show_progress=True\n",
        "\n",
        "  )\n"
      ],
      "metadata": {
        "id": "v6_UCe8JySrh"
      },
      "execution_count": 9,
      "outputs": []
    },
    {
      "cell_type": "code",
      "source": [
        "pdf_loader = creat_directory_loader(\".pdf\", \"/content\")\n",
        "docx_loader = creat_directory_loader(\".docx\", \"/content\")\n"
      ],
      "metadata": {
        "id": "k6c_wXXEzcKF"
      },
      "execution_count": 14,
      "outputs": []
    },
    {
      "cell_type": "code",
      "source": [
        "pdf_docs = pdf_loader.load()\n",
        "docx_doc = docx_loader.load()"
      ],
      "metadata": {
        "colab": {
          "base_uri": "https://localhost:8080/"
        },
        "id": "TotK4v5HEhk0",
        "outputId": "04b625cd-9ec1-417a-fcf8-a990808a2ef1"
      },
      "execution_count": 20,
      "outputs": [
        {
          "output_type": "stream",
          "name": "stderr",
          "text": [
            "\n",
            "\n",
            "  0%|          | 0/1 [00:00<?, ?it/s]\u001b[A\u001b[A\n",
            "\n",
            "100%|██████████| 1/1 [00:00<00:00,  9.21it/s]\n",
            "\n",
            "\n",
            "100%|██████████| 1/1 [00:39<00:00, 39.02s/it]\n",
            "\n",
            "\n",
            "100%|██████████| 1/1 [00:01<00:00,  1.69s/it]\n"
          ]
        }
      ]
    },
    {
      "cell_type": "code",
      "source": [
        "import nltk\n",
        "nltk.download('punkt_tab')\n",
        ""
      ],
      "metadata": {
        "colab": {
          "base_uri": "https://localhost:8080/"
        },
        "id": "w3U1_TLCF4LN",
        "outputId": "7f2aaecb-622a-4536-e48b-4bd908876201"
      },
      "execution_count": 17,
      "outputs": [
        {
          "output_type": "stream",
          "name": "stderr",
          "text": [
            "[nltk_data] Downloading package punkt_tab to /root/nltk_data...\n",
            "[nltk_data]   Unzipping tokenizers/punkt_tab.zip.\n"
          ]
        },
        {
          "output_type": "execute_result",
          "data": {
            "text/plain": [
              "True"
            ]
          },
          "metadata": {},
          "execution_count": 17
        }
      ]
    },
    {
      "cell_type": "code",
      "source": [
        "nltk.download('averaged_perceptron_tagger_eng')"
      ],
      "metadata": {
        "colab": {
          "base_uri": "https://localhost:8080/"
        },
        "id": "6GItAxA12AxB",
        "outputId": "f0776d9f-358b-4573-d0d4-c0da303ddb23"
      },
      "execution_count": 19,
      "outputs": [
        {
          "output_type": "stream",
          "name": "stderr",
          "text": [
            "[nltk_data] Downloading package averaged_perceptron_tagger_eng to\n",
            "[nltk_data]     /root/nltk_data...\n",
            "[nltk_data]   Unzipping taggers/averaged_perceptron_tagger_eng.zip.\n"
          ]
        },
        {
          "output_type": "execute_result",
          "data": {
            "text/plain": [
              "True"
            ]
          },
          "metadata": {},
          "execution_count": 19
        }
      ]
    },
    {
      "cell_type": "code",
      "source": [
        "len(pdf_docs)"
      ],
      "metadata": {
        "colab": {
          "base_uri": "https://localhost:8080/"
        },
        "id": "eqjn4PhZ2EV0",
        "outputId": "134d3cf9-ef15-41d8-f585-d2dd646cf6e3"
      },
      "execution_count": 21,
      "outputs": [
        {
          "output_type": "execute_result",
          "data": {
            "text/plain": [
              "52"
            ]
          },
          "metadata": {},
          "execution_count": 21
        }
      ]
    },
    {
      "cell_type": "code",
      "source": [
        "len(docx_doc)"
      ],
      "metadata": {
        "colab": {
          "base_uri": "https://localhost:8080/"
        },
        "id": "mSgprU2t2qPA",
        "outputId": "9108d603-fb7e-47b7-a251-ea75ed4e7bcc"
      },
      "execution_count": 22,
      "outputs": [
        {
          "output_type": "execute_result",
          "data": {
            "text/plain": [
              "164"
            ]
          },
          "metadata": {},
          "execution_count": 22
        }
      ]
    },
    {
      "cell_type": "code",
      "source": [
        "pdf_docs[0].page_content"
      ],
      "metadata": {
        "colab": {
          "base_uri": "https://localhost:8080/",
          "height": 87
        },
        "id": "bFh4_rWT2yZq",
        "outputId": "86f00f63-77e4-419c-a2f2-05a5a5352ebd"
      },
      "execution_count": 24,
      "outputs": [
        {
          "output_type": "execute_result",
          "data": {
            "text/plain": [
              "'City-Dataset:https://docs.google.com/spreadsheets/d/1dk9kRwcMxj5USuJqxtITD05S-aOUD6fzNzV\\nW41dcpgc/edit?usp=sharing\\nQ1. Query all columns for all American cities in the CITY table with populations larger than 100000.\\nThe CountryCode for America is USA.\\nThe CITY table is described as follows:\\nQ2. Query the NAME field for all American cities in the CITY table with populations larger than 120000.\\nThe CountryCode for America is USA.\\nThe CITY table is described as follows:\\n'"
            ],
            "application/vnd.google.colaboratory.intrinsic+json": {
              "type": "string"
            }
          },
          "metadata": {},
          "execution_count": 24
        }
      ]
    },
    {
      "cell_type": "code",
      "source": [
        "docx_doc[0].page_content"
      ],
      "metadata": {
        "colab": {
          "base_uri": "https://localhost:8080/",
          "height": 52
        },
        "id": "f2FUD-Il21Rc",
        "outputId": "2313e72b-19d6-47e8-dd55-026191b26ce9"
      },
      "execution_count": 25,
      "outputs": [
        {
          "output_type": "execute_result",
          "data": {
            "text/plain": [
              "'DAILY CLASS TASK QUESTIONS\\n\\n24th Jan, 2024 : Variables & Rules.\\n\\nQ1. Create different variables to store your name, your age, your parents name. \\n\\na. Print your name.\\n\\nb. Create more variables needed for a Biodata. \\n\\nc. Now print your whole Bio data using above variables.'"
            ],
            "application/vnd.google.colaboratory.intrinsic+json": {
              "type": "string"
            }
          },
          "metadata": {},
          "execution_count": 25
        }
      ]
    },
    {
      "cell_type": "code",
      "source": [],
      "metadata": {
        "id": "kSCjZC3_4J1W"
      },
      "execution_count": null,
      "outputs": []
    },
    {
      "cell_type": "code",
      "source": [],
      "metadata": {
        "id": "rtSq-pKQ4bcW"
      },
      "execution_count": null,
      "outputs": []
    },
    {
      "cell_type": "markdown",
      "source": [
        "**RecursiveCharacterTextSplitter**"
      ],
      "metadata": {
        "id": "oORE2cwb6m9X"
      }
    },
    {
      "cell_type": "code",
      "source": [
        "from langchain.text_splitter import RecursiveCharacterTextSplitter"
      ],
      "metadata": {
        "id": "DmnZCM_c4bgL"
      },
      "execution_count": 26,
      "outputs": []
    },
    {
      "cell_type": "code",
      "source": [
        "doc = \"\"\"Bidirectional Training: Unlike previous models, BERT processes text in\n",
        "         both forward and backward directions,capturing deeper contextual relationships between words.\n",
        "         Attention Mechanism: It allows the model to focus on the most relevant parts of the input\n",
        "         sequence when processing information.\n",
        "         Transformer Architecture: BERT utilizes the Transformer architecture,\n",
        "         which is highly efficient and effective for handling sequential data.BERT's impact is far-reaching, transforming how we\n",
        "         interact with machines and access information. As research continues to advance, we can expect even more innovative\n",
        "         applications of this groundbreaking technology.\"\"\""
      ],
      "metadata": {
        "id": "Jddu7pkW4bjt"
      },
      "execution_count": 4,
      "outputs": []
    },
    {
      "cell_type": "code",
      "source": [
        "print(doc)"
      ],
      "metadata": {
        "colab": {
          "base_uri": "https://localhost:8080/"
        },
        "id": "jErBNR5Q4bn8",
        "outputId": "5dcb1967-bab9-47b0-9c3f-0e5229c52aa2"
      },
      "execution_count": 28,
      "outputs": [
        {
          "output_type": "stream",
          "name": "stdout",
          "text": [
            "Bidirectional Training: Unlike previous models, BERT processes text in \n",
            "         both forward and backward directions,capturing deeper contextual relationships between words.\n",
            "         Attention Mechanism: It allows the model to focus on the most relevant parts of the input \n",
            "         sequence when processing information.\n",
            "         Transformer Architecture: BERT utilizes the Transformer architecture, \n",
            "         which is highly efficient and effective for handling sequential data.BERT's impact is far-reaching, transforming how we \n",
            "         interact with machines and access information. As research continues to advance, we can expect even more innovative \n",
            "         applications of this groundbreaking technology.\n"
          ]
        }
      ]
    },
    {
      "cell_type": "code",
      "source": [
        "text_splitter = RecursiveCharacterTextSplitter(\n",
        "    separators= [\"\\n\\n\", \"\\n\", \" \", \"\"],\n",
        "    chunk_size = 300,\n",
        "    chunk_overlap = 0,\n",
        ")"
      ],
      "metadata": {
        "id": "BIFo1NSj8z4z"
      },
      "execution_count": 29,
      "outputs": []
    },
    {
      "cell_type": "code",
      "source": [
        "texts = text_splitter.split_text(doc)"
      ],
      "metadata": {
        "id": "L0o0TMCH_JNm"
      },
      "execution_count": 30,
      "outputs": []
    },
    {
      "cell_type": "code",
      "source": [
        "print(len(texts))\n",
        "print(texts)"
      ],
      "metadata": {
        "colab": {
          "base_uri": "https://localhost:8080/"
        },
        "id": "qGOpSkBF_YtQ",
        "outputId": "21002c54-2d53-4f76-fe57-72025002e75a"
      },
      "execution_count": 33,
      "outputs": [
        {
          "output_type": "stream",
          "name": "stdout",
          "text": [
            "3\n",
            "['Bidirectional Training: Unlike previous models, BERT processes text in \\n         both forward and backward directions,capturing deeper contextual relationships between words.\\n         Attention Mechanism: It allows the model to focus on the most relevant parts of the input', \"sequence when processing information.\\n         Transformer Architecture: BERT utilizes the Transformer architecture, \\n         which is highly efficient and effective for handling sequential data.BERT's impact is far-reaching, transforming how we\", 'interact with machines and access information. As research continues to advance, we can expect even more innovative \\n         applications of this groundbreaking technology.']\n"
          ]
        }
      ]
    },
    {
      "cell_type": "code",
      "source": [
        "for i in texts:\n",
        "  print(i)\n",
        "  print(len(i))\n",
        "  print()"
      ],
      "metadata": {
        "colab": {
          "base_uri": "https://localhost:8080/"
        },
        "id": "vd8tx_yC_NxI",
        "outputId": "1952cd6d-1155-40a8-cf48-b7c4f85041ae"
      },
      "execution_count": 34,
      "outputs": [
        {
          "output_type": "stream",
          "name": "stdout",
          "text": [
            "Bidirectional Training: Unlike previous models, BERT processes text in \n",
            "         both forward and backward directions,capturing deeper contextual relationships between words.\n",
            "         Attention Mechanism: It allows the model to focus on the most relevant parts of the input\n",
            "273\n",
            "\n",
            "sequence when processing information.\n",
            "         Transformer Architecture: BERT utilizes the Transformer architecture, \n",
            "         which is highly efficient and effective for handling sequential data.BERT's impact is far-reaching, transforming how we\n",
            "246\n",
            "\n",
            "interact with machines and access information. As research continues to advance, we can expect even more innovative \n",
            "         applications of this groundbreaking technology.\n",
            "173\n",
            "\n"
          ]
        }
      ]
    },
    {
      "cell_type": "code",
      "source": [],
      "metadata": {
        "id": "PnHvE6GK_Thg"
      },
      "execution_count": null,
      "outputs": []
    },
    {
      "cell_type": "markdown",
      "source": [
        "**splitting with larger chunk size(total charecters) make less paragraphs**"
      ],
      "metadata": {
        "id": "iQvgGlAg_uSQ"
      }
    },
    {
      "cell_type": "code",
      "source": [
        "text_splitter = RecursiveCharacterTextSplitter(\n",
        "    separators = [ \"\\n\\n\", \"\\n\", \" \",\"\"],\n",
        "    chunk_size = 500,\n",
        "    chunk_overlap = 0\n",
        "\n",
        ")"
      ],
      "metadata": {
        "id": "g8RtQ1lpAD4I"
      },
      "execution_count": 35,
      "outputs": []
    },
    {
      "cell_type": "code",
      "source": [
        "texts = text_splitter.split_text(doc)"
      ],
      "metadata": {
        "id": "aPe1qsTpAWc3"
      },
      "execution_count": 36,
      "outputs": []
    },
    {
      "cell_type": "code",
      "source": [
        "print(texts)"
      ],
      "metadata": {
        "colab": {
          "base_uri": "https://localhost:8080/"
        },
        "id": "A9VhdIoMAbLA",
        "outputId": "891a0a59-1915-4d58-bf57-b355656a8ab8"
      },
      "execution_count": 38,
      "outputs": [
        {
          "output_type": "stream",
          "name": "stdout",
          "text": [
            "['Bidirectional Training: Unlike previous models, BERT processes text in \\n         both forward and backward directions,capturing deeper contextual relationships between words.\\n         Attention Mechanism: It allows the model to focus on the most relevant parts of the input \\n         sequence when processing information.\\n         Transformer Architecture: BERT utilizes the Transformer architecture,', \"which is highly efficient and effective for handling sequential data.BERT's impact is far-reaching, transforming how we \\n         interact with machines and access information. As research continues to advance, we can expect even more innovative \\n         applications of this groundbreaking technology.\"]\n"
          ]
        }
      ]
    },
    {
      "cell_type": "code",
      "source": [
        "print(len(texts))"
      ],
      "metadata": {
        "colab": {
          "base_uri": "https://localhost:8080/"
        },
        "id": "aGr_-_qcAc1s",
        "outputId": "f5571cf8-a2b4-4378-aedd-170bb56ddad7"
      },
      "execution_count": 39,
      "outputs": [
        {
          "output_type": "stream",
          "name": "stdout",
          "text": [
            "2\n"
          ]
        }
      ]
    },
    {
      "cell_type": "code",
      "source": [
        "for i in texts:\n",
        "  print(i)\n",
        "  print(len(i))\n",
        "  print()"
      ],
      "metadata": {
        "colab": {
          "base_uri": "https://localhost:8080/"
        },
        "id": "aiv3u6OYAhMZ",
        "outputId": "54b0db99-63af-4ceb-f4bf-e2c43ee2899a"
      },
      "execution_count": 40,
      "outputs": [
        {
          "output_type": "stream",
          "name": "stdout",
          "text": [
            "Bidirectional Training: Unlike previous models, BERT processes text in \n",
            "         both forward and backward directions,capturing deeper contextual relationships between words.\n",
            "         Attention Mechanism: It allows the model to focus on the most relevant parts of the input \n",
            "         sequence when processing information.\n",
            "         Transformer Architecture: BERT utilizes the Transformer architecture,\n",
            "400\n",
            "\n",
            "which is highly efficient and effective for handling sequential data.BERT's impact is far-reaching, transforming how we \n",
            "         interact with machines and access information. As research continues to advance, we can expect even more innovative \n",
            "         applications of this groundbreaking technology.\n",
            "303\n",
            "\n"
          ]
        }
      ]
    },
    {
      "cell_type": "code",
      "source": [],
      "metadata": {
        "id": "mevn90m1AnJ0"
      },
      "execution_count": null,
      "outputs": []
    },
    {
      "cell_type": "code",
      "source": [
        "text_splitter = RecursiveCharacterTextSplitter(\n",
        "    separators = [ \"\\n\\n\", \"\\n\", \" \",\"\"],\n",
        "    chunk_size = 300,\n",
        "    chunk_overlap = 100\n",
        "\n",
        ")"
      ],
      "metadata": {
        "id": "z0zqzlq0Eqr2"
      },
      "execution_count": 47,
      "outputs": []
    },
    {
      "cell_type": "code",
      "source": [
        "texts = text_splitter.split_text(doc)"
      ],
      "metadata": {
        "id": "5MPdj3FNEtwi"
      },
      "execution_count": 48,
      "outputs": []
    },
    {
      "cell_type": "code",
      "source": [
        "print(texts)\n",
        "print(len(texts))"
      ],
      "metadata": {
        "colab": {
          "base_uri": "https://localhost:8080/"
        },
        "id": "mej_hqSCEyzL",
        "outputId": "55cdd0aa-c580-4d0e-a347-0b55fd13f55e"
      },
      "execution_count": 49,
      "outputs": [
        {
          "output_type": "stream",
          "name": "stdout",
          "text": [
            "['Bidirectional Training: Unlike previous models, BERT processes text in \\n         both forward and backward directions,capturing deeper contextual relationships between words.\\n         Attention Mechanism: It allows the model to focus on the most relevant parts of the input', 'Attention Mechanism: It allows the model to focus on the most relevant parts of the input \\n         sequence when processing information.\\n         Transformer Architecture: BERT utilizes the Transformer architecture,', \"Transformer Architecture: BERT utilizes the Transformer architecture, \\n         which is highly efficient and effective for handling sequential data.BERT's impact is far-reaching, transforming how we\", 'interact with machines and access information. As research continues to advance, we can expect even more innovative \\n         applications of this groundbreaking technology.']\n",
            "4\n"
          ]
        }
      ]
    },
    {
      "cell_type": "code",
      "source": [
        "for i in texts:\n",
        "  print(i)\n",
        "  print(len(i))"
      ],
      "metadata": {
        "colab": {
          "base_uri": "https://localhost:8080/"
        },
        "id": "NS0wiQZCE8yH",
        "outputId": "d6e5f62c-5794-4740-cc9e-525452cfdb08"
      },
      "execution_count": 50,
      "outputs": [
        {
          "output_type": "stream",
          "name": "stdout",
          "text": [
            "Bidirectional Training: Unlike previous models, BERT processes text in \n",
            "         both forward and backward directions,capturing deeper contextual relationships between words.\n",
            "         Attention Mechanism: It allows the model to focus on the most relevant parts of the input\n",
            "273\n",
            "Attention Mechanism: It allows the model to focus on the most relevant parts of the input \n",
            "         sequence when processing information.\n",
            "         Transformer Architecture: BERT utilizes the Transformer architecture,\n",
            "216\n",
            "Transformer Architecture: BERT utilizes the Transformer architecture, \n",
            "         which is highly efficient and effective for handling sequential data.BERT's impact is far-reaching, transforming how we\n",
            "199\n",
            "interact with machines and access information. As research continues to advance, we can expect even more innovative \n",
            "         applications of this groundbreaking technology.\n",
            "173\n"
          ]
        }
      ]
    },
    {
      "cell_type": "code",
      "source": [],
      "metadata": {
        "id": "f25SUfjvGbUX"
      },
      "execution_count": null,
      "outputs": []
    },
    {
      "cell_type": "markdown",
      "source": [
        "**Create langchain Document**"
      ],
      "metadata": {
        "id": "DO40YaplHsPC"
      }
    },
    {
      "cell_type": "code",
      "source": [
        "docs = text_splitter.create_documents([doc])"
      ],
      "metadata": {
        "id": "-L4OxnTfHx3t"
      },
      "execution_count": 53,
      "outputs": []
    },
    {
      "cell_type": "code",
      "source": [
        "docs"
      ],
      "metadata": {
        "colab": {
          "base_uri": "https://localhost:8080/"
        },
        "id": "JdN2TBShH5B-",
        "outputId": "62bc5a8f-1ffe-4bee-89ea-909531010728"
      },
      "execution_count": 54,
      "outputs": [
        {
          "output_type": "execute_result",
          "data": {
            "text/plain": [
              "[Document(page_content='Bidirectional Training: Unlike previous models, BERT processes text in \\n         both forward and backward directions,capturing deeper contextual relationships between words.\\n         Attention Mechanism: It allows the model to focus on the most relevant parts of the input'),\n",
              " Document(page_content='Attention Mechanism: It allows the model to focus on the most relevant parts of the input \\n         sequence when processing information.\\n         Transformer Architecture: BERT utilizes the Transformer architecture,'),\n",
              " Document(page_content=\"Transformer Architecture: BERT utilizes the Transformer architecture, \\n         which is highly efficient and effective for handling sequential data.BERT's impact is far-reaching, transforming how we\"),\n",
              " Document(page_content='interact with machines and access information. As research continues to advance, we can expect even more innovative \\n         applications of this groundbreaking technology.')]"
            ]
          },
          "metadata": {},
          "execution_count": 54
        }
      ]
    },
    {
      "cell_type": "code",
      "source": [],
      "metadata": {
        "id": "wKPiy_UhIJ2r"
      },
      "execution_count": null,
      "outputs": []
    },
    {
      "cell_type": "markdown",
      "source": [
        "**Character TextSplitter**"
      ],
      "metadata": {
        "id": "QfW2DCHBIBrd"
      }
    },
    {
      "cell_type": "code",
      "source": [
        "from langchain_text_splitters import CharacterTextSplitter"
      ],
      "metadata": {
        "id": "aVYFpBaYH5vo"
      },
      "execution_count": 2,
      "outputs": []
    },
    {
      "cell_type": "code",
      "source": [
        "text_splitter = CharacterTextSplitter(\n",
        "    separator =\"\\n\",\n",
        "    chunk_size=300,\n",
        "    chunk_overlap=100,\n",
        "    is_separator_regex=False,\n",
        "\n",
        ")"
      ],
      "metadata": {
        "id": "DtTgXHS6Oi_E"
      },
      "execution_count": 3,
      "outputs": []
    },
    {
      "cell_type": "code",
      "source": [
        "texts = text_splitter.split_text(doc)"
      ],
      "metadata": {
        "id": "QEBFeOzYRuZn"
      },
      "execution_count": 8,
      "outputs": []
    },
    {
      "cell_type": "code",
      "source": [
        "print(texts)"
      ],
      "metadata": {
        "colab": {
          "base_uri": "https://localhost:8080/"
        },
        "id": "8Vzo4qceYbS4",
        "outputId": "ae65171c-ac38-485f-d880-b793ba9ece06"
      },
      "execution_count": 9,
      "outputs": [
        {
          "output_type": "stream",
          "name": "stdout",
          "text": [
            "['Bidirectional Training: Unlike previous models, BERT processes text in \\n         both forward and backward directions,capturing deeper contextual relationships between words.\\n         Attention Mechanism: It allows the model to focus on the most relevant parts of the input', 'Attention Mechanism: It allows the model to focus on the most relevant parts of the input \\n         sequence when processing information.\\n         Transformer Architecture: BERT utilizes the Transformer architecture,', \"Transformer Architecture: BERT utilizes the Transformer architecture, \\n         which is highly efficient and effective for handling sequential data.BERT's impact is far-reaching, transforming how we\", 'interact with machines and access information. As research continues to advance, we can expect even more innovative \\n         applications of this groundbreaking technology.']\n"
          ]
        }
      ]
    },
    {
      "cell_type": "code",
      "source": [
        "for i in texts:\n",
        "  print(i)\n",
        "  print(len(i))"
      ],
      "metadata": {
        "colab": {
          "base_uri": "https://localhost:8080/"
        },
        "id": "un59xFelYhxs",
        "outputId": "83fcb936-f805-4645-fd64-9a9da9c9f659"
      },
      "execution_count": 10,
      "outputs": [
        {
          "output_type": "stream",
          "name": "stdout",
          "text": [
            "Bidirectional Training: Unlike previous models, BERT processes text in \n",
            "         both forward and backward directions,capturing deeper contextual relationships between words.\n",
            "         Attention Mechanism: It allows the model to focus on the most relevant parts of the input\n",
            "273\n",
            "Attention Mechanism: It allows the model to focus on the most relevant parts of the input \n",
            "         sequence when processing information.\n",
            "         Transformer Architecture: BERT utilizes the Transformer architecture,\n",
            "216\n",
            "Transformer Architecture: BERT utilizes the Transformer architecture, \n",
            "         which is highly efficient and effective for handling sequential data.BERT's impact is far-reaching, transforming how we\n",
            "199\n",
            "interact with machines and access information. As research continues to advance, we can expect even more innovative \n",
            "         applications of this groundbreaking technology.\n",
            "173\n"
          ]
        }
      ]
    },
    {
      "cell_type": "code",
      "source": [
        "docs = text_splitter.create_documents([doc])"
      ],
      "metadata": {
        "id": "WDcTgfnWYla4"
      },
      "execution_count": 11,
      "outputs": []
    },
    {
      "cell_type": "code",
      "source": [
        "print(docs)"
      ],
      "metadata": {
        "colab": {
          "base_uri": "https://localhost:8080/"
        },
        "id": "4NlhwLnWYxn3",
        "outputId": "c2242b22-e885-400a-947f-f6ad032874a0"
      },
      "execution_count": 12,
      "outputs": [
        {
          "output_type": "stream",
          "name": "stdout",
          "text": [
            "[Document(metadata={}, page_content='Bidirectional Training: Unlike previous models, BERT processes text in \\n         both forward and backward directions,capturing deeper contextual relationships between words.\\n         Attention Mechanism: It allows the model to focus on the most relevant parts of the input'), Document(metadata={}, page_content='Attention Mechanism: It allows the model to focus on the most relevant parts of the input \\n         sequence when processing information.\\n         Transformer Architecture: BERT utilizes the Transformer architecture,'), Document(metadata={}, page_content=\"Transformer Architecture: BERT utilizes the Transformer architecture, \\n         which is highly efficient and effective for handling sequential data.BERT's impact is far-reaching, transforming how we\"), Document(metadata={}, page_content='interact with machines and access information. As research continues to advance, we can expect even more innovative \\n         applications of this groundbreaking technology.')]\n"
          ]
        }
      ]
    },
    {
      "cell_type": "code",
      "source": [],
      "metadata": {
        "id": "5luOpsAiY8Fp"
      },
      "execution_count": null,
      "outputs": []
    },
    {
      "cell_type": "code",
      "source": [],
      "metadata": {
        "id": "82eJAFT-RgLD"
      },
      "execution_count": null,
      "outputs": []
    },
    {
      "cell_type": "markdown",
      "source": [
        "**Markdown Splitter**"
      ],
      "metadata": {
        "id": "HACh7nbxRgfa"
      }
    },
    {
      "cell_type": "code",
      "source": [
        "markdown_document = \"\"\"\n",
        "                  # Team Instructions\n",
        "                  hi this is Lakshmi\n",
        "                  Hi this is Joe\n",
        "\n",
        "                  ## Development Team\n",
        "                  Hi this is molly , the lead developer\n",
        "                  \"\"\"\n",
        ""
      ],
      "metadata": {
        "id": "c7G14GfKRl4I"
      },
      "execution_count": 2,
      "outputs": []
    },
    {
      "cell_type": "code",
      "source": [
        "from langchain_text_splitters import MarkdownHeaderTextSplitter"
      ],
      "metadata": {
        "id": "alldJvRBSbI8"
      },
      "execution_count": 3,
      "outputs": []
    },
    {
      "cell_type": "code",
      "source": [
        "headers_to_split = [(\"#\", \"Header 1\"),\n",
        "                    (\"##\", \"Header 2\"),\n",
        "                    (\"###\", \"Header 3\")]"
      ],
      "metadata": {
        "id": "QW2A8JpASjFe"
      },
      "execution_count": 4,
      "outputs": []
    },
    {
      "cell_type": "code",
      "source": [
        "markdown_splitter = MarkdownHeaderTextSplitter(headers_to_split)"
      ],
      "metadata": {
        "id": "o01RpLm6S0SC"
      },
      "execution_count": 5,
      "outputs": []
    },
    {
      "cell_type": "code",
      "source": [
        "md_header = markdown_splitter.split_text(markdown_document)"
      ],
      "metadata": {
        "id": "UthtlfidS_6C"
      },
      "execution_count": 6,
      "outputs": []
    },
    {
      "cell_type": "code",
      "source": [
        "print(md_header)"
      ],
      "metadata": {
        "colab": {
          "base_uri": "https://localhost:8080/"
        },
        "id": "scjO00U5TLh4",
        "outputId": "85c6fb79-82a4-41d6-bf27-b86c1c23be66"
      },
      "execution_count": 7,
      "outputs": [
        {
          "output_type": "stream",
          "name": "stdout",
          "text": [
            "[Document(metadata={'Header 1': 'Team Instructions'}, page_content='hi this is Lakshmi\\nHi this is Joe'), Document(metadata={'Header 1': 'Team Instructions', 'Header 2': 'Development Team'}, page_content='Hi this is molly , the lead developer')]\n"
          ]
        }
      ]
    },
    {
      "cell_type": "code",
      "source": [
        "for i in md_header:\n",
        "  print(i)"
      ],
      "metadata": {
        "colab": {
          "base_uri": "https://localhost:8080/"
        },
        "id": "JaFGiXeOTOXT",
        "outputId": "23570845-62e8-48b7-f916-317630ab77f8"
      },
      "execution_count": 8,
      "outputs": [
        {
          "output_type": "stream",
          "name": "stdout",
          "text": [
            "page_content='hi this is Lakshmi\n",
            "Hi this is Joe' metadata={'Header 1': 'Team Instructions'}\n",
            "page_content='Hi this is molly , the lead developer' metadata={'Header 1': 'Team Instructions', 'Header 2': 'Development Team'}\n"
          ]
        }
      ]
    },
    {
      "cell_type": "code",
      "source": [],
      "metadata": {
        "id": "rF0-20-dTixQ"
      },
      "execution_count": null,
      "outputs": []
    },
    {
      "cell_type": "markdown",
      "source": [
        "**Tokenizer Splitters**"
      ],
      "metadata": {
        "id": "9uDQQLmodbMe"
      }
    },
    {
      "cell_type": "code",
      "source": [
        "doc = '''bidirectional Training: Unlike previous models, BERT processes text in\n",
        "         both forward and backward directions,capturing deeper contextual relationships between words.\n",
        "         Attention Mechanism: It allows the model to focus on the most relevant parts of the input\n",
        "         sequence when processing information.\n",
        "         Transformer Architecture: BERT utilizes the Transformer architecture,\n",
        "         which is highly efficient and effective for handling sequential data.BERT's impact is far-reaching, transforming how we\n",
        "         interact with machines and access information. As research continues to advance, we can expect even more innovative\n",
        "         applications of this groundbreaking technology.'''"
      ],
      "metadata": {
        "id": "9JLiTVSAdgh-"
      },
      "execution_count": 4,
      "outputs": []
    },
    {
      "cell_type": "code",
      "source": [
        "from langchain_text_splitters import TokenTextSplitter"
      ],
      "metadata": {
        "id": "jbp-AcbBeCwV"
      },
      "execution_count": 18,
      "outputs": []
    },
    {
      "cell_type": "code",
      "source": [
        "text_splitter = TokenTextSplitter(\n",
        "             model_name = \"gpt-3.5-turbo\",\n",
        "             chunk_size = 30 ,\n",
        "             chunk_overlap = 0\n",
        ")"
      ],
      "metadata": {
        "id": "lmx8ewkueIQG"
      },
      "execution_count": 19,
      "outputs": []
    },
    {
      "cell_type": "code",
      "source": [
        "!pip install tiktoken"
      ],
      "metadata": {
        "colab": {
          "base_uri": "https://localhost:8080/"
        },
        "id": "gmo9UQOeeXbh",
        "outputId": "f1d7e339-66cb-4809-f2e2-940b4ca148e1"
      },
      "execution_count": 12,
      "outputs": [
        {
          "output_type": "stream",
          "name": "stdout",
          "text": [
            "Collecting tiktoken\n",
            "  Downloading tiktoken-0.8.0-cp310-cp310-manylinux_2_17_x86_64.manylinux2014_x86_64.whl.metadata (6.6 kB)\n",
            "Requirement already satisfied: regex>=2022.1.18 in /usr/local/lib/python3.10/dist-packages (from tiktoken) (2024.11.6)\n",
            "Requirement already satisfied: requests>=2.26.0 in /usr/local/lib/python3.10/dist-packages (from tiktoken) (2.32.3)\n",
            "Requirement already satisfied: charset-normalizer<4,>=2 in /usr/local/lib/python3.10/dist-packages (from requests>=2.26.0->tiktoken) (3.4.0)\n",
            "Requirement already satisfied: idna<4,>=2.5 in /usr/local/lib/python3.10/dist-packages (from requests>=2.26.0->tiktoken) (3.10)\n",
            "Requirement already satisfied: urllib3<3,>=1.21.1 in /usr/local/lib/python3.10/dist-packages (from requests>=2.26.0->tiktoken) (2.2.3)\n",
            "Requirement already satisfied: certifi>=2017.4.17 in /usr/local/lib/python3.10/dist-packages (from requests>=2.26.0->tiktoken) (2024.12.14)\n",
            "Downloading tiktoken-0.8.0-cp310-cp310-manylinux_2_17_x86_64.manylinux2014_x86_64.whl (1.2 MB)\n",
            "\u001b[?25l   \u001b[90m━━━━━━━━━━━━━━━━━━━━━━━━━━━━━━━━━━━━━━━━\u001b[0m \u001b[32m0.0/1.2 MB\u001b[0m \u001b[31m?\u001b[0m eta \u001b[36m-:--:--\u001b[0m\r\u001b[2K   \u001b[91m━━━━━━━━━\u001b[0m\u001b[91m╸\u001b[0m\u001b[90m━━━━━━━━━━━━━━━━━━━━━━━━━━━━━━\u001b[0m \u001b[32m0.3/1.2 MB\u001b[0m \u001b[31m8.3 MB/s\u001b[0m eta \u001b[36m0:00:01\u001b[0m\r\u001b[2K   \u001b[91m━━━━━━━━━━━━━━━━━━━━━━━━━━━━━━━━━━━━━━━\u001b[0m\u001b[91m╸\u001b[0m \u001b[32m1.2/1.2 MB\u001b[0m \u001b[31m21.1 MB/s\u001b[0m eta \u001b[36m0:00:01\u001b[0m\r\u001b[2K   \u001b[90m━━━━━━━━━━━━━━━━━━━━━━━━━━━━━━━━━━━━━━━━\u001b[0m \u001b[32m1.2/1.2 MB\u001b[0m \u001b[31m15.9 MB/s\u001b[0m eta \u001b[36m0:00:00\u001b[0m\n",
            "\u001b[?25hInstalling collected packages: tiktoken\n",
            "Successfully installed tiktoken-0.8.0\n"
          ]
        }
      ]
    },
    {
      "cell_type": "code",
      "source": [
        "docs = text_splitter.create_documents([doc])"
      ],
      "metadata": {
        "id": "vJTAT96eeeuT"
      },
      "execution_count": 20,
      "outputs": []
    },
    {
      "cell_type": "code",
      "source": [
        "print(docs)"
      ],
      "metadata": {
        "colab": {
          "base_uri": "https://localhost:8080/"
        },
        "id": "tjn9oXUqen7j",
        "outputId": "206c17ff-727c-4559-e819-9239349c84bd"
      },
      "execution_count": 21,
      "outputs": [
        {
          "output_type": "stream",
          "name": "stdout",
          "text": [
            "[Document(page_content='bidirectional Training: Unlike previous models, BERT processes text in \\n         both forward and backward directions,capturing deeper contextual relationships between words.\\n        '), Document(page_content=' Attention Mechanism: It allows the model to focus on the most relevant parts of the input \\n         sequence when processing information.\\n         Transformer Architecture: B'), Document(page_content=\"ERT utilizes the Transformer architecture, \\n         which is highly efficient and effective for handling sequential data.BERT's impact is far-reaching, transforming how we \\n\"), Document(page_content='         interact with machines and access information. As research continues to advance, we can expect even more innovative \\n         applications of this groundbreaking technology.')]\n"
          ]
        }
      ]
    },
    {
      "cell_type": "code",
      "source": [
        "import tiktoken\n",
        "enc = tiktoken.encoding_for_model(\"gpt-3.5-turbo\")"
      ],
      "metadata": {
        "id": "GJnhmkT1epEE"
      },
      "execution_count": 23,
      "outputs": []
    },
    {
      "cell_type": "code",
      "source": [
        "for i in docs:\n",
        "  print(\"words:\", len(i.page_content.split()),\n",
        "        \"Tokens:\", len(enc.encode(i.page_content)),\n",
        "        \"Chunk:\", i.page_content)"
      ],
      "metadata": {
        "colab": {
          "base_uri": "https://localhost:8080/"
        },
        "id": "Ykh5Axy9fbYt",
        "outputId": "7bbf2305-9c76-4969-f809-5ff824c71cb0"
      },
      "execution_count": 26,
      "outputs": [
        {
          "output_type": "stream",
          "name": "stdout",
          "text": [
            "words: 19 Tokens: 30 Chunk: bidirectional Training: Unlike previous models, BERT processes text in \n",
            "         both forward and backward directions,capturing deeper contextual relationships between words.\n",
            "        \n",
            "words: 23 Tokens: 30 Chunk:  Attention Mechanism: It allows the model to focus on the most relevant parts of the input \n",
            "         sequence when processing information.\n",
            "         Transformer Architecture: B\n",
            "words: 21 Tokens: 30 Chunk: ERT utilizes the Transformer architecture, \n",
            "         which is highly efficient and effective for handling sequential data.BERT's impact is far-reaching, transforming how we \n",
            "\n",
            "words: 22 Tokens: 28 Chunk:          interact with machines and access information. As research continues to advance, we can expect even more innovative \n",
            "         applications of this groundbreaking technology.\n"
          ]
        }
      ]
    },
    {
      "cell_type": "code",
      "source": [],
      "metadata": {
        "id": "zrjczPfPf94t"
      },
      "execution_count": null,
      "outputs": []
    },
    {
      "cell_type": "markdown",
      "source": [
        "**SpaCY Splitter**"
      ],
      "metadata": {
        "id": "Hw4NzqOpvQz6"
      }
    },
    {
      "cell_type": "code",
      "source": [
        "from langchain_text_splitters import SpacyTextSplitter"
      ],
      "metadata": {
        "id": "pCte64g7vUoy"
      },
      "execution_count": 27,
      "outputs": []
    },
    {
      "cell_type": "code",
      "source": [
        "text_splitter = SpacyTextSplitter(\n",
        "    chunk_size = 500,\n",
        "    chunk_overlap = 50\n",
        ")"
      ],
      "metadata": {
        "id": "zYst_gSRvl4Y"
      },
      "execution_count": 29,
      "outputs": []
    },
    {
      "cell_type": "code",
      "source": [
        "docs = text_splitter.create_documents([doc])"
      ],
      "metadata": {
        "colab": {
          "base_uri": "https://localhost:8080/"
        },
        "id": "kesw1l1dv3ge",
        "outputId": "17c0f494-3ae3-4395-e8d2-eb1f41d19566"
      },
      "execution_count": 30,
      "outputs": [
        {
          "output_type": "stream",
          "name": "stderr",
          "text": [
            "/usr/local/lib/python3.10/dist-packages/spacy/pipeline/lemmatizer.py:211: UserWarning: [W108] The rule-based lemmatizer did not find POS annotation for one or more tokens. Check that your pipeline includes components that assign token.pos, typically 'tagger'+'attribute_ruler' or 'morphologizer'.\n",
            "  warnings.warn(Warnings.W108)\n"
          ]
        }
      ]
    },
    {
      "cell_type": "code",
      "source": [
        "len(docs)"
      ],
      "metadata": {
        "colab": {
          "base_uri": "https://localhost:8080/"
        },
        "id": "QE9iFaBFvvoY",
        "outputId": "fdb25016-7a52-4405-8749-9f560904c867"
      },
      "execution_count": 32,
      "outputs": [
        {
          "output_type": "execute_result",
          "data": {
            "text/plain": [
              "2"
            ]
          },
          "metadata": {},
          "execution_count": 32
        }
      ]
    },
    {
      "cell_type": "code",
      "source": [
        "for i in docs:\n",
        "  print(\"words:\", len(i.page_content.split(\" \")),\n",
        "        \"characters:\", len(i.page_content),\n",
        "        \"Chunk:\", i.page_content)"
      ],
      "metadata": {
        "colab": {
          "base_uri": "https://localhost:8080/"
        },
        "id": "FuKvEg08wBE7",
        "outputId": "ac7a05f6-81a8-40a0-e315-94983b7dde5e"
      },
      "execution_count": 46,
      "outputs": [
        {
          "output_type": "stream",
          "name": "stdout",
          "text": [
            "words: 99 characters: 484 Chunk: bidirectional Training: Unlike previous models, BERT processes text in \n",
            "         both forward and backward directions,capturing deeper contextual relationships between words.\n",
            "         \n",
            "\n",
            "Attention Mechanism: It allows the model to focus on the most relevant parts of the input \n",
            "         sequence when processing information.\n",
            "         \n",
            "\n",
            "Transformer Architecture: BERT utilizes the Transformer architecture, \n",
            "         which is highly efficient and effective for handling sequential data.\n",
            "words: 46 characters: 235 Chunk: BERT's impact is far-reaching, transforming how we \n",
            "         interact with machines and access information.\n",
            "\n",
            "As research continues to advance, we can expect even more innovative \n",
            "         applications of this groundbreaking technology.\n"
          ]
        }
      ]
    },
    {
      "cell_type": "code",
      "source": [],
      "metadata": {
        "id": "KnQPKbLW0B42"
      },
      "execution_count": null,
      "outputs": []
    },
    {
      "cell_type": "code",
      "source": [],
      "metadata": {
        "id": "s9Lc93ax0h46"
      },
      "execution_count": null,
      "outputs": []
    },
    {
      "cell_type": "markdown",
      "source": [
        "**Sentence Transformers**"
      ],
      "metadata": {
        "id": "ItV4VGT90iN7"
      }
    },
    {
      "cell_type": "code",
      "source": [
        "from langchain_text_splitters import SentenceTransformersTokenTextSplitter"
      ],
      "metadata": {
        "id": "qB9VnSCG0n65"
      },
      "execution_count": 1,
      "outputs": []
    },
    {
      "cell_type": "code",
      "source": [
        "splitter = SentenceTransformersTokenTextSplitter(\n",
        "    model_name = \"sentence-transformers/all-mpnet-base-v2\",\n",
        "    tokens_per_chunk = 100,\n",
        "    chunk_overlap = 30\n",
        ")"
      ],
      "metadata": {
        "colab": {
          "base_uri": "https://localhost:8080/",
          "height": 493,
          "referenced_widgets": [
            "0b9a170ef0634b62b9e28c0bb0353c08",
            "861ae152844849f48f476d13710a866c",
            "f51c2ebb99274cbf89c0e9c4ddca0b16",
            "fc50500e936b4194a3d90d38cedea997",
            "e439d35ad73c4fd28eb8ef66876a0bf3",
            "107653d6de324fc6bbea302924887099",
            "8f5775d772bf450cbac3474431cb27d3",
            "8471e1a4da56472fa588b8d23bfd1c51",
            "c83071fa27c54afcb74092f9216d22ba",
            "6e8a3eb081cf4b309912c722f52ddadb",
            "e492f5745e034bb6aa46ca961e24ac94",
            "eb2da261a07c4038b3e07fc1c37f98b2",
            "a8263dfe3e534ae0b56188f3f1819717",
            "2c4690be82e740299dbca28d260a2752",
            "2bc01d59e9564d4395a4bd37ce050039",
            "d551335e2d574475af2d8ecc32a496bd",
            "58be8c08e221446eb7645188b0da495d",
            "baee8a3da97e480291a2a12f51de4c96",
            "d43312034da84b56b7040946f43714fd",
            "f499dc97ebdf408f95f675666126146d",
            "9e0f36e39443402a81459caf805ecb0b",
            "5645669fc1094c32a0c6ffc3eb6759e9",
            "0958f3a84f994e2896db8fd894800a09",
            "fd2565b262914c6dae88eaaa8b1ee7cf",
            "fbfeb05bb7b14fd68e66fa06b8624a97",
            "8991815bee444e449e4234e3bed27166",
            "b3a3ccc5e26b4f338091f7ea658e7d96",
            "aae78306fad845199f0ef8a1762328f8",
            "33f61d0fc150430096f7071a08a59e6c",
            "6cb8fb14ca7341a8acdae76fd1a4b8b3",
            "cb9101b1677f4931b25d0bff21b9cd68",
            "4a70b2ca57a1420eb736cc759a09a4a9",
            "dc2e27f2a0bf42fe935458d30f76d392",
            "1afd05bb79af40e6895a80b3c02ec40b",
            "2e7ee40a16464d07bd8cebb4637f03f8",
            "0a600b6d575b4933b3d2cb4101bfd8fd",
            "7415b821866641ae8848aed8dafd6ec1",
            "64b6dfb0128b47de9986125c7fd982b0",
            "8d7716399c8e4940b6973b3c21d747da",
            "8bd582fc4cba4ccf8ac522a61a045180",
            "bdc8e0cf96a8465b8c3cd17954fa3179",
            "66ba9b6f4f514f99afcb6a378f3f27b6",
            "7ec8d5a0d4fa426d93c8d5d19aa83fbe",
            "c76db8a774ef4abf8be70121f3381002",
            "4d21abf856d74e80af13c4ddc12045b4",
            "e8dc628200ef4b5e8c46a87b4b507161",
            "65c3bf85678d463db17c2a5756149bac",
            "d3b98c0c2fd5478fbdf85399b763bc45",
            "dc11916140fd414fb6739bc4e9b0ec30",
            "89c500eb6db04c02aead78db491b770a",
            "4af777913f42405c9b43f21a9946d22d",
            "cd45b579cea94745b36b00aa998dac0a",
            "2cdd3feb8ce24f4ea384fc66eceaf378",
            "fea0c31668c64d2fb03a8f273c7c6545",
            "6a87ea1180584967b5545879db71801e",
            "8f6f20c6425d4192b9123118a64fda1a",
            "b3bb2848ca3044be91d84f602ad953f0",
            "6e16512a809a4ff7a3a1fe7191bf116c",
            "4b69d7f2ea5f484ab4780da716cf0795",
            "2ac398231cf84603aa12738d5539ce33",
            "33a318b447c74de48c4945f82a3815da",
            "f0d3f6dbda944974ba59907d2795bc5c",
            "4807b590c2274e5a9dfba29425016c40",
            "53c7c3b6585e49dc9688bf7bf0cc59cd",
            "42512931bc424567b5992047f398b36e",
            "831d5f9ce1e047f788567b31947ed8a3",
            "c9f211942e2347359c993ccdfea31678",
            "912851a30f6444efac9c9f3a5c0d3975",
            "b49495381eac4a569a09b975f2919321",
            "744105dbc9df4e9298ea30512e970b9c",
            "8a2208a4e85343359378222ed7f18c32",
            "56e6e4d309db4dd68655916c7127741a",
            "9d8a8ecdcd34466fa40d3610738430b9",
            "b4792e5f99214034859995bf931066ed",
            "96a409242c54423bb781ec374679e11f",
            "490913a34ade45afaf2ca95c66e93408",
            "bdbd6d25b91145c396fdec4ffcf7cc80",
            "bccba6216acc4cc9ac1f38e5ac658e3a",
            "9aa65a6c98a44d40ab3b2f916bad9d41",
            "ede283b05f4f4b0e8bcce2f8fea739cb",
            "ae1df0ec0ddf4f2fa247875d1ba15cdf",
            "bbc828fe3d604ce0af03dae325b4f899",
            "4a656d5f59534c99a36b2acd54ea8110",
            "71adb42173264f6bb1bc0d3f26378217",
            "d7523caaadd54465ba0de976d5182871",
            "634e794e356143e2b70af21d8e142749",
            "5efee3fb9ae641ccaec852b400473e52",
            "871dd427c7724031b8aaf58b821993b1",
            "0f12be63e8734306aeb4e700b1966635",
            "899b49c33fa0461eb6480455bfab98a2",
            "1e37606dbc9f4ebbbd1ea2e7571799a8",
            "072eee45b94c45dc8026fa9bdfa83d53",
            "2b69054a5522431dbf6e4c89893ba525",
            "924c6bf544534a01b4e7aa4e4bfc24af",
            "f84bd49e72854ff9abc5b830979aed11",
            "60ea9b8c8ec8477ca0ca35b1fdbf4caa",
            "d9a40af0597148588d884d2c6c17a544",
            "35c2ebb350484a65ad97d89a7eea6fbc",
            "026668cf15574663b2579f0ebc0a3d01",
            "e970691839a645f4b1472c028cf1d9f5",
            "79b7efa34bd843f1a682d7455bdb8eaa",
            "5843270b7a6c41b38c4fdc7e9ff996e7",
            "a81d454db52a42f89df37bc2b38ba2a1",
            "00ffb6b5a1534329a539083daa52c026",
            "cfb694fd923b4b158e8c801b926b61e5",
            "ba85cb48f5e24b73ab6348c56048131c",
            "8f2e1b1e140d48db88ae0e77af6324cc",
            "7a1b2f4421544c288d91518d846f9740",
            "f523960c5c2f4fa3871889c0b36ab206",
            "337c5316ff3548c282cb69a1f51126a2",
            "608606fe6bac479984d502ff5d9fb5af",
            "c92974e87e554258a30059deef034dad",
            "73951016cb7d41eb927918a9d163f631",
            "3b9d05a8d3e845b6a0badf7ec7a7c213",
            "83d2c5e407d347a688a766db9f72b665",
            "7b592a5c9b2b467ab808858cc2c68a31",
            "84db7458b65a456fa9db1e2a96d09e7d",
            "10564fdb663b4f7698d22554b3b46a45",
            "a064d196c86b425094243640f5eb6c3f",
            "264e9a791f2349088585a6ea441c37fd",
            "0d6bb1ca401c4a8ba500925b398dbc03"
          ]
        },
        "id": "9iCYyZmh1Hig",
        "outputId": "c7511076-66d9-449f-dff4-325243451159"
      },
      "execution_count": 2,
      "outputs": [
        {
          "output_type": "stream",
          "name": "stderr",
          "text": [
            "/usr/local/lib/python3.10/dist-packages/huggingface_hub/utils/_auth.py:94: UserWarning: \n",
            "The secret `HF_TOKEN` does not exist in your Colab secrets.\n",
            "To authenticate with the Hugging Face Hub, create a token in your settings tab (https://huggingface.co/settings/tokens), set it as secret in your Google Colab and restart your session.\n",
            "You will be able to reuse this secret in all of your notebooks.\n",
            "Please note that authentication is recommended but still optional to access public models or datasets.\n",
            "  warnings.warn(\n"
          ]
        },
        {
          "output_type": "display_data",
          "data": {
            "text/plain": [
              "modules.json:   0%|          | 0.00/349 [00:00<?, ?B/s]"
            ],
            "application/vnd.jupyter.widget-view+json": {
              "version_major": 2,
              "version_minor": 0,
              "model_id": "0b9a170ef0634b62b9e28c0bb0353c08"
            }
          },
          "metadata": {}
        },
        {
          "output_type": "display_data",
          "data": {
            "text/plain": [
              "config_sentence_transformers.json:   0%|          | 0.00/116 [00:00<?, ?B/s]"
            ],
            "application/vnd.jupyter.widget-view+json": {
              "version_major": 2,
              "version_minor": 0,
              "model_id": "eb2da261a07c4038b3e07fc1c37f98b2"
            }
          },
          "metadata": {}
        },
        {
          "output_type": "display_data",
          "data": {
            "text/plain": [
              "README.md:   0%|          | 0.00/10.6k [00:00<?, ?B/s]"
            ],
            "application/vnd.jupyter.widget-view+json": {
              "version_major": 2,
              "version_minor": 0,
              "model_id": "0958f3a84f994e2896db8fd894800a09"
            }
          },
          "metadata": {}
        },
        {
          "output_type": "display_data",
          "data": {
            "text/plain": [
              "sentence_bert_config.json:   0%|          | 0.00/53.0 [00:00<?, ?B/s]"
            ],
            "application/vnd.jupyter.widget-view+json": {
              "version_major": 2,
              "version_minor": 0,
              "model_id": "1afd05bb79af40e6895a80b3c02ec40b"
            }
          },
          "metadata": {}
        },
        {
          "output_type": "display_data",
          "data": {
            "text/plain": [
              "config.json:   0%|          | 0.00/571 [00:00<?, ?B/s]"
            ],
            "application/vnd.jupyter.widget-view+json": {
              "version_major": 2,
              "version_minor": 0,
              "model_id": "4d21abf856d74e80af13c4ddc12045b4"
            }
          },
          "metadata": {}
        },
        {
          "output_type": "display_data",
          "data": {
            "text/plain": [
              "model.safetensors:   0%|          | 0.00/438M [00:00<?, ?B/s]"
            ],
            "application/vnd.jupyter.widget-view+json": {
              "version_major": 2,
              "version_minor": 0,
              "model_id": "8f6f20c6425d4192b9123118a64fda1a"
            }
          },
          "metadata": {}
        },
        {
          "output_type": "display_data",
          "data": {
            "text/plain": [
              "tokenizer_config.json:   0%|          | 0.00/363 [00:00<?, ?B/s]"
            ],
            "application/vnd.jupyter.widget-view+json": {
              "version_major": 2,
              "version_minor": 0,
              "model_id": "c9f211942e2347359c993ccdfea31678"
            }
          },
          "metadata": {}
        },
        {
          "output_type": "display_data",
          "data": {
            "text/plain": [
              "vocab.txt:   0%|          | 0.00/232k [00:00<?, ?B/s]"
            ],
            "application/vnd.jupyter.widget-view+json": {
              "version_major": 2,
              "version_minor": 0,
              "model_id": "bccba6216acc4cc9ac1f38e5ac658e3a"
            }
          },
          "metadata": {}
        },
        {
          "output_type": "display_data",
          "data": {
            "text/plain": [
              "tokenizer.json:   0%|          | 0.00/466k [00:00<?, ?B/s]"
            ],
            "application/vnd.jupyter.widget-view+json": {
              "version_major": 2,
              "version_minor": 0,
              "model_id": "0f12be63e8734306aeb4e700b1966635"
            }
          },
          "metadata": {}
        },
        {
          "output_type": "display_data",
          "data": {
            "text/plain": [
              "special_tokens_map.json:   0%|          | 0.00/239 [00:00<?, ?B/s]"
            ],
            "application/vnd.jupyter.widget-view+json": {
              "version_major": 2,
              "version_minor": 0,
              "model_id": "e970691839a645f4b1472c028cf1d9f5"
            }
          },
          "metadata": {}
        },
        {
          "output_type": "display_data",
          "data": {
            "text/plain": [
              "1_Pooling/config.json:   0%|          | 0.00/190 [00:00<?, ?B/s]"
            ],
            "application/vnd.jupyter.widget-view+json": {
              "version_major": 2,
              "version_minor": 0,
              "model_id": "608606fe6bac479984d502ff5d9fb5af"
            }
          },
          "metadata": {}
        }
      ]
    },
    {
      "cell_type": "code",
      "source": [
        "docs = splitter.create_documents([doc])"
      ],
      "metadata": {
        "id": "7PWd2nRu1nV_"
      },
      "execution_count": 5,
      "outputs": []
    },
    {
      "cell_type": "code",
      "source": [
        "for i in docs:\n",
        "  print(\"words:\" , len(i.page_content.split(\" \")),\n",
        "        \"\")"
      ],
      "metadata": {
        "id": "YSZYtp8R2nFi"
      },
      "execution_count": null,
      "outputs": []
    },
    {
      "cell_type": "code",
      "source": [],
      "metadata": {
        "id": "_B7PFa0RiriP"
      },
      "execution_count": null,
      "outputs": []
    },
    {
      "cell_type": "code",
      "source": [],
      "metadata": {
        "id": "9xBoPml7XuhR"
      },
      "execution_count": null,
      "outputs": []
    },
    {
      "cell_type": "markdown",
      "source": [
        "**Section-based Splitting in Unstructured.io**"
      ],
      "metadata": {
        "id": "a-d9AQeAXuyq"
      }
    },
    {
      "cell_type": "code",
      "source": [
        "from langchain_community.document_loaders import UnstructuredPDFLoader"
      ],
      "metadata": {
        "id": "2l-ZhRraX2wM"
      },
      "execution_count": 2,
      "outputs": []
    },
    {
      "cell_type": "code",
      "source": [
        "loader = UnstructuredPDFLoader(\n",
        "    \"/content/SQL-questions-set1pdf (1).pdf\",\n",
        "    strategy = \"hi_res\",\n",
        "    extract_images_in_pdf = False,\n",
        "    infer_table_structure = True,\n",
        "    chunking_strategy = \"by_title\",\n",
        "    max_characters = 3000,\n",
        "    new_after_n_chars = 3000,\n",
        "    combine_text_under_n_chars = 2000,\n",
        "    mode = \"elements\"\n",
        ")"
      ],
      "metadata": {
        "id": "Ct9sEpy9YPV-"
      },
      "execution_count": 3,
      "outputs": []
    },
    {
      "cell_type": "code",
      "source": [],
      "metadata": {
        "id": "vZFrNVAy4Om4"
      },
      "execution_count": null,
      "outputs": []
    },
    {
      "cell_type": "code",
      "source": [
        "data = loader.load()"
      ],
      "metadata": {
        "colab": {
          "base_uri": "https://localhost:8080/",
          "height": 443
        },
        "id": "iEu9j_ouZpWD",
        "outputId": "f41a5b7b-981b-49af-d575-b2422c12da33"
      },
      "execution_count": 11,
      "outputs": [
        {
          "output_type": "error",
          "ename": "PDFInfoNotInstalledError",
          "evalue": "Unable to get page count. Is poppler installed and in PATH?",
          "traceback": [
            "\u001b[0;31m---------------------------------------------------------------------------\u001b[0m",
            "\u001b[0;31mFileNotFoundError\u001b[0m                         Traceback (most recent call last)",
            "\u001b[0;32m/usr/local/lib/python3.10/dist-packages/pdf2image/pdf2image.py\u001b[0m in \u001b[0;36mpdfinfo_from_path\u001b[0;34m(pdf_path, userpw, ownerpw, poppler_path, rawdates, timeout, first_page, last_page)\u001b[0m\n\u001b[1;32m    580\u001b[0m             \u001b[0menv\u001b[0m\u001b[0;34m[\u001b[0m\u001b[0;34m\"LD_LIBRARY_PATH\"\u001b[0m\u001b[0;34m]\u001b[0m \u001b[0;34m=\u001b[0m \u001b[0mpoppler_path\u001b[0m \u001b[0;34m+\u001b[0m \u001b[0;34m\":\"\u001b[0m \u001b[0;34m+\u001b[0m \u001b[0menv\u001b[0m\u001b[0;34m.\u001b[0m\u001b[0mget\u001b[0m\u001b[0;34m(\u001b[0m\u001b[0;34m\"LD_LIBRARY_PATH\"\u001b[0m\u001b[0;34m,\u001b[0m \u001b[0;34m\"\"\u001b[0m\u001b[0;34m)\u001b[0m\u001b[0;34m\u001b[0m\u001b[0;34m\u001b[0m\u001b[0m\n\u001b[0;32m--> 581\u001b[0;31m         \u001b[0mproc\u001b[0m \u001b[0;34m=\u001b[0m \u001b[0mPopen\u001b[0m\u001b[0;34m(\u001b[0m\u001b[0mcommand\u001b[0m\u001b[0;34m,\u001b[0m \u001b[0menv\u001b[0m\u001b[0;34m=\u001b[0m\u001b[0menv\u001b[0m\u001b[0;34m,\u001b[0m \u001b[0mstdout\u001b[0m\u001b[0;34m=\u001b[0m\u001b[0mPIPE\u001b[0m\u001b[0;34m,\u001b[0m \u001b[0mstderr\u001b[0m\u001b[0;34m=\u001b[0m\u001b[0mPIPE\u001b[0m\u001b[0;34m)\u001b[0m\u001b[0;34m\u001b[0m\u001b[0;34m\u001b[0m\u001b[0m\n\u001b[0m\u001b[1;32m    582\u001b[0m \u001b[0;34m\u001b[0m\u001b[0m\n",
            "\u001b[0;32m/usr/lib/python3.10/subprocess.py\u001b[0m in \u001b[0;36m__init__\u001b[0;34m(self, args, bufsize, executable, stdin, stdout, stderr, preexec_fn, close_fds, shell, cwd, env, universal_newlines, startupinfo, creationflags, restore_signals, start_new_session, pass_fds, user, group, extra_groups, encoding, errors, text, umask, pipesize)\u001b[0m\n\u001b[1;32m    970\u001b[0m \u001b[0;34m\u001b[0m\u001b[0m\n\u001b[0;32m--> 971\u001b[0;31m             self._execute_child(args, executable, preexec_fn, close_fds,\n\u001b[0m\u001b[1;32m    972\u001b[0m                                 \u001b[0mpass_fds\u001b[0m\u001b[0;34m,\u001b[0m \u001b[0mcwd\u001b[0m\u001b[0;34m,\u001b[0m \u001b[0menv\u001b[0m\u001b[0;34m,\u001b[0m\u001b[0;34m\u001b[0m\u001b[0;34m\u001b[0m\u001b[0m\n",
            "\u001b[0;32m/usr/lib/python3.10/subprocess.py\u001b[0m in \u001b[0;36m_execute_child\u001b[0;34m(self, args, executable, preexec_fn, close_fds, pass_fds, cwd, env, startupinfo, creationflags, shell, p2cread, p2cwrite, c2pread, c2pwrite, errread, errwrite, restore_signals, gid, gids, uid, umask, start_new_session)\u001b[0m\n\u001b[1;32m   1862\u001b[0m                         \u001b[0merr_msg\u001b[0m \u001b[0;34m=\u001b[0m \u001b[0mos\u001b[0m\u001b[0;34m.\u001b[0m\u001b[0mstrerror\u001b[0m\u001b[0;34m(\u001b[0m\u001b[0merrno_num\u001b[0m\u001b[0;34m)\u001b[0m\u001b[0;34m\u001b[0m\u001b[0;34m\u001b[0m\u001b[0m\n\u001b[0;32m-> 1863\u001b[0;31m                     \u001b[0;32mraise\u001b[0m \u001b[0mchild_exception_type\u001b[0m\u001b[0;34m(\u001b[0m\u001b[0merrno_num\u001b[0m\u001b[0;34m,\u001b[0m \u001b[0merr_msg\u001b[0m\u001b[0;34m,\u001b[0m \u001b[0merr_filename\u001b[0m\u001b[0;34m)\u001b[0m\u001b[0;34m\u001b[0m\u001b[0;34m\u001b[0m\u001b[0m\n\u001b[0m\u001b[1;32m   1864\u001b[0m                 \u001b[0;32mraise\u001b[0m \u001b[0mchild_exception_type\u001b[0m\u001b[0;34m(\u001b[0m\u001b[0merr_msg\u001b[0m\u001b[0;34m)\u001b[0m\u001b[0;34m\u001b[0m\u001b[0;34m\u001b[0m\u001b[0m\n",
            "\u001b[0;31mFileNotFoundError\u001b[0m: [Errno 2] No such file or directory: 'pdfinfo'",
            "\nDuring handling of the above exception, another exception occurred:\n",
            "\u001b[0;31mPDFInfoNotInstalledError\u001b[0m                  Traceback (most recent call last)",
            "\u001b[0;32m<ipython-input-11-c440b526cd76>\u001b[0m in \u001b[0;36m<cell line: 1>\u001b[0;34m()\u001b[0m\n\u001b[0;32m----> 1\u001b[0;31m \u001b[0mdata\u001b[0m \u001b[0;34m=\u001b[0m \u001b[0mloader\u001b[0m\u001b[0;34m.\u001b[0m\u001b[0mload\u001b[0m\u001b[0;34m(\u001b[0m\u001b[0;34m)\u001b[0m\u001b[0;34m\u001b[0m\u001b[0;34m\u001b[0m\u001b[0m\n\u001b[0m",
            "\u001b[0;32m/usr/local/lib/python3.10/dist-packages/langchain_core/document_loaders/base.py\u001b[0m in \u001b[0;36mload\u001b[0;34m(self)\u001b[0m\n\u001b[1;32m     28\u001b[0m     \u001b[0;32mdef\u001b[0m \u001b[0mload\u001b[0m\u001b[0;34m(\u001b[0m\u001b[0mself\u001b[0m\u001b[0;34m)\u001b[0m \u001b[0;34m->\u001b[0m \u001b[0mList\u001b[0m\u001b[0;34m[\u001b[0m\u001b[0mDocument\u001b[0m\u001b[0;34m]\u001b[0m\u001b[0;34m:\u001b[0m\u001b[0;34m\u001b[0m\u001b[0;34m\u001b[0m\u001b[0m\n\u001b[1;32m     29\u001b[0m         \u001b[0;34m\"\"\"Load data into Document objects.\"\"\"\u001b[0m\u001b[0;34m\u001b[0m\u001b[0;34m\u001b[0m\u001b[0m\n\u001b[0;32m---> 30\u001b[0;31m         \u001b[0;32mreturn\u001b[0m \u001b[0mlist\u001b[0m\u001b[0;34m(\u001b[0m\u001b[0mself\u001b[0m\u001b[0;34m.\u001b[0m\u001b[0mlazy_load\u001b[0m\u001b[0;34m(\u001b[0m\u001b[0;34m)\u001b[0m\u001b[0;34m)\u001b[0m\u001b[0;34m\u001b[0m\u001b[0;34m\u001b[0m\u001b[0m\n\u001b[0m\u001b[1;32m     31\u001b[0m \u001b[0;34m\u001b[0m\u001b[0m\n\u001b[1;32m     32\u001b[0m     \u001b[0;32masync\u001b[0m \u001b[0;32mdef\u001b[0m \u001b[0maload\u001b[0m\u001b[0;34m(\u001b[0m\u001b[0mself\u001b[0m\u001b[0;34m)\u001b[0m \u001b[0;34m->\u001b[0m \u001b[0mList\u001b[0m\u001b[0;34m[\u001b[0m\u001b[0mDocument\u001b[0m\u001b[0;34m]\u001b[0m\u001b[0;34m:\u001b[0m\u001b[0;34m\u001b[0m\u001b[0;34m\u001b[0m\u001b[0m\n",
            "\u001b[0;32m/usr/local/lib/python3.10/dist-packages/langchain_community/document_loaders/unstructured.py\u001b[0m in \u001b[0;36mlazy_load\u001b[0;34m(self)\u001b[0m\n\u001b[1;32m     86\u001b[0m     \u001b[0;32mdef\u001b[0m \u001b[0mlazy_load\u001b[0m\u001b[0;34m(\u001b[0m\u001b[0mself\u001b[0m\u001b[0;34m)\u001b[0m \u001b[0;34m->\u001b[0m \u001b[0mIterator\u001b[0m\u001b[0;34m[\u001b[0m\u001b[0mDocument\u001b[0m\u001b[0;34m]\u001b[0m\u001b[0;34m:\u001b[0m\u001b[0;34m\u001b[0m\u001b[0;34m\u001b[0m\u001b[0m\n\u001b[1;32m     87\u001b[0m         \u001b[0;34m\"\"\"Load file.\"\"\"\u001b[0m\u001b[0;34m\u001b[0m\u001b[0;34m\u001b[0m\u001b[0m\n\u001b[0;32m---> 88\u001b[0;31m         \u001b[0melements\u001b[0m \u001b[0;34m=\u001b[0m \u001b[0mself\u001b[0m\u001b[0;34m.\u001b[0m\u001b[0m_get_elements\u001b[0m\u001b[0;34m(\u001b[0m\u001b[0;34m)\u001b[0m\u001b[0;34m\u001b[0m\u001b[0;34m\u001b[0m\u001b[0m\n\u001b[0m\u001b[1;32m     89\u001b[0m         \u001b[0mself\u001b[0m\u001b[0;34m.\u001b[0m\u001b[0m_post_process_elements\u001b[0m\u001b[0;34m(\u001b[0m\u001b[0melements\u001b[0m\u001b[0;34m)\u001b[0m\u001b[0;34m\u001b[0m\u001b[0;34m\u001b[0m\u001b[0m\n\u001b[1;32m     90\u001b[0m         \u001b[0;32mif\u001b[0m \u001b[0mself\u001b[0m\u001b[0;34m.\u001b[0m\u001b[0mmode\u001b[0m \u001b[0;34m==\u001b[0m \u001b[0;34m\"elements\"\u001b[0m\u001b[0;34m:\u001b[0m\u001b[0;34m\u001b[0m\u001b[0;34m\u001b[0m\u001b[0m\n",
            "\u001b[0;32m/usr/local/lib/python3.10/dist-packages/langchain_community/document_loaders/pdf.py\u001b[0m in \u001b[0;36m_get_elements\u001b[0;34m(self)\u001b[0m\n\u001b[1;32m     71\u001b[0m         \u001b[0;32mfrom\u001b[0m \u001b[0munstructured\u001b[0m\u001b[0;34m.\u001b[0m\u001b[0mpartition\u001b[0m\u001b[0;34m.\u001b[0m\u001b[0mpdf\u001b[0m \u001b[0;32mimport\u001b[0m \u001b[0mpartition_pdf\u001b[0m\u001b[0;34m\u001b[0m\u001b[0;34m\u001b[0m\u001b[0m\n\u001b[1;32m     72\u001b[0m \u001b[0;34m\u001b[0m\u001b[0m\n\u001b[0;32m---> 73\u001b[0;31m         \u001b[0;32mreturn\u001b[0m \u001b[0mpartition_pdf\u001b[0m\u001b[0;34m(\u001b[0m\u001b[0mfilename\u001b[0m\u001b[0;34m=\u001b[0m\u001b[0mself\u001b[0m\u001b[0;34m.\u001b[0m\u001b[0mfile_path\u001b[0m\u001b[0;34m,\u001b[0m \u001b[0;34m**\u001b[0m\u001b[0mself\u001b[0m\u001b[0;34m.\u001b[0m\u001b[0munstructured_kwargs\u001b[0m\u001b[0;34m)\u001b[0m\u001b[0;34m\u001b[0m\u001b[0;34m\u001b[0m\u001b[0m\n\u001b[0m\u001b[1;32m     74\u001b[0m \u001b[0;34m\u001b[0m\u001b[0m\n\u001b[1;32m     75\u001b[0m \u001b[0;34m\u001b[0m\u001b[0m\n",
            "\u001b[0;32m/usr/local/lib/python3.10/dist-packages/unstructured/documents/elements.py\u001b[0m in \u001b[0;36mwrapper\u001b[0;34m(*args, **kwargs)\u001b[0m\n\u001b[1;32m    585\u001b[0m         \u001b[0;34m@\u001b[0m\u001b[0mfunctools\u001b[0m\u001b[0;34m.\u001b[0m\u001b[0mwraps\u001b[0m\u001b[0;34m(\u001b[0m\u001b[0mfunc\u001b[0m\u001b[0;34m)\u001b[0m\u001b[0;34m\u001b[0m\u001b[0;34m\u001b[0m\u001b[0m\n\u001b[1;32m    586\u001b[0m         \u001b[0;32mdef\u001b[0m \u001b[0mwrapper\u001b[0m\u001b[0;34m(\u001b[0m\u001b[0;34m*\u001b[0m\u001b[0margs\u001b[0m\u001b[0;34m:\u001b[0m \u001b[0m_P\u001b[0m\u001b[0;34m.\u001b[0m\u001b[0margs\u001b[0m\u001b[0;34m,\u001b[0m \u001b[0;34m**\u001b[0m\u001b[0mkwargs\u001b[0m\u001b[0;34m:\u001b[0m \u001b[0m_P\u001b[0m\u001b[0;34m.\u001b[0m\u001b[0mkwargs\u001b[0m\u001b[0;34m)\u001b[0m \u001b[0;34m->\u001b[0m \u001b[0mlist\u001b[0m\u001b[0;34m[\u001b[0m\u001b[0mElement\u001b[0m\u001b[0;34m]\u001b[0m\u001b[0;34m:\u001b[0m\u001b[0;34m\u001b[0m\u001b[0;34m\u001b[0m\u001b[0m\n\u001b[0;32m--> 587\u001b[0;31m             \u001b[0melements\u001b[0m \u001b[0;34m=\u001b[0m \u001b[0mfunc\u001b[0m\u001b[0;34m(\u001b[0m\u001b[0;34m*\u001b[0m\u001b[0margs\u001b[0m\u001b[0;34m,\u001b[0m \u001b[0;34m**\u001b[0m\u001b[0mkwargs\u001b[0m\u001b[0;34m)\u001b[0m\u001b[0;34m\u001b[0m\u001b[0;34m\u001b[0m\u001b[0m\n\u001b[0m\u001b[1;32m    588\u001b[0m             \u001b[0mcall_args\u001b[0m \u001b[0;34m=\u001b[0m \u001b[0mget_call_args_applying_defaults\u001b[0m\u001b[0;34m(\u001b[0m\u001b[0mfunc\u001b[0m\u001b[0;34m,\u001b[0m \u001b[0;34m*\u001b[0m\u001b[0margs\u001b[0m\u001b[0;34m,\u001b[0m \u001b[0;34m**\u001b[0m\u001b[0mkwargs\u001b[0m\u001b[0;34m)\u001b[0m\u001b[0;34m\u001b[0m\u001b[0;34m\u001b[0m\u001b[0m\n\u001b[1;32m    589\u001b[0m \u001b[0;34m\u001b[0m\u001b[0m\n",
            "\u001b[0;32m/usr/local/lib/python3.10/dist-packages/unstructured/file_utils/filetype.py\u001b[0m in \u001b[0;36mwrapper\u001b[0;34m(*args, **kwargs)\u001b[0m\n\u001b[1;32m    616\u001b[0m         \u001b[0;34m@\u001b[0m\u001b[0mfunctools\u001b[0m\u001b[0;34m.\u001b[0m\u001b[0mwraps\u001b[0m\u001b[0;34m(\u001b[0m\u001b[0mfunc\u001b[0m\u001b[0;34m)\u001b[0m\u001b[0;34m\u001b[0m\u001b[0;34m\u001b[0m\u001b[0m\n\u001b[1;32m    617\u001b[0m         \u001b[0;32mdef\u001b[0m \u001b[0mwrapper\u001b[0m\u001b[0;34m(\u001b[0m\u001b[0;34m*\u001b[0m\u001b[0margs\u001b[0m\u001b[0;34m:\u001b[0m \u001b[0m_P\u001b[0m\u001b[0;34m.\u001b[0m\u001b[0margs\u001b[0m\u001b[0;34m,\u001b[0m \u001b[0;34m**\u001b[0m\u001b[0mkwargs\u001b[0m\u001b[0;34m:\u001b[0m \u001b[0m_P\u001b[0m\u001b[0;34m.\u001b[0m\u001b[0mkwargs\u001b[0m\u001b[0;34m)\u001b[0m \u001b[0;34m->\u001b[0m \u001b[0mList\u001b[0m\u001b[0;34m[\u001b[0m\u001b[0mElement\u001b[0m\u001b[0;34m]\u001b[0m\u001b[0;34m:\u001b[0m\u001b[0;34m\u001b[0m\u001b[0;34m\u001b[0m\u001b[0m\n\u001b[0;32m--> 618\u001b[0;31m             \u001b[0melements\u001b[0m \u001b[0;34m=\u001b[0m \u001b[0mfunc\u001b[0m\u001b[0;34m(\u001b[0m\u001b[0;34m*\u001b[0m\u001b[0margs\u001b[0m\u001b[0;34m,\u001b[0m \u001b[0;34m**\u001b[0m\u001b[0mkwargs\u001b[0m\u001b[0;34m)\u001b[0m\u001b[0;34m\u001b[0m\u001b[0;34m\u001b[0m\u001b[0m\n\u001b[0m\u001b[1;32m    619\u001b[0m             \u001b[0mparams\u001b[0m \u001b[0;34m=\u001b[0m \u001b[0mget_call_args_applying_defaults\u001b[0m\u001b[0;34m(\u001b[0m\u001b[0mfunc\u001b[0m\u001b[0;34m,\u001b[0m \u001b[0;34m*\u001b[0m\u001b[0margs\u001b[0m\u001b[0;34m,\u001b[0m \u001b[0;34m**\u001b[0m\u001b[0mkwargs\u001b[0m\u001b[0;34m)\u001b[0m\u001b[0;34m\u001b[0m\u001b[0;34m\u001b[0m\u001b[0m\n\u001b[1;32m    620\u001b[0m             \u001b[0minclude_metadata\u001b[0m \u001b[0;34m=\u001b[0m \u001b[0mparams\u001b[0m\u001b[0;34m.\u001b[0m\u001b[0mget\u001b[0m\u001b[0;34m(\u001b[0m\u001b[0;34m\"include_metadata\"\u001b[0m\u001b[0;34m,\u001b[0m \u001b[0;32mTrue\u001b[0m\u001b[0;34m)\u001b[0m\u001b[0;34m\u001b[0m\u001b[0;34m\u001b[0m\u001b[0m\n",
            "\u001b[0;32m/usr/local/lib/python3.10/dist-packages/unstructured/file_utils/filetype.py\u001b[0m in \u001b[0;36mwrapper\u001b[0;34m(*args, **kwargs)\u001b[0m\n\u001b[1;32m    580\u001b[0m     \u001b[0;34m@\u001b[0m\u001b[0mfunctools\u001b[0m\u001b[0;34m.\u001b[0m\u001b[0mwraps\u001b[0m\u001b[0;34m(\u001b[0m\u001b[0mfunc\u001b[0m\u001b[0;34m)\u001b[0m\u001b[0;34m\u001b[0m\u001b[0;34m\u001b[0m\u001b[0m\n\u001b[1;32m    581\u001b[0m     \u001b[0;32mdef\u001b[0m \u001b[0mwrapper\u001b[0m\u001b[0;34m(\u001b[0m\u001b[0;34m*\u001b[0m\u001b[0margs\u001b[0m\u001b[0;34m:\u001b[0m \u001b[0m_P\u001b[0m\u001b[0;34m.\u001b[0m\u001b[0margs\u001b[0m\u001b[0;34m,\u001b[0m \u001b[0;34m**\u001b[0m\u001b[0mkwargs\u001b[0m\u001b[0;34m:\u001b[0m \u001b[0m_P\u001b[0m\u001b[0;34m.\u001b[0m\u001b[0mkwargs\u001b[0m\u001b[0;34m)\u001b[0m \u001b[0;34m->\u001b[0m \u001b[0mList\u001b[0m\u001b[0;34m[\u001b[0m\u001b[0mElement\u001b[0m\u001b[0;34m]\u001b[0m\u001b[0;34m:\u001b[0m\u001b[0;34m\u001b[0m\u001b[0;34m\u001b[0m\u001b[0m\n\u001b[0;32m--> 582\u001b[0;31m         \u001b[0melements\u001b[0m \u001b[0;34m=\u001b[0m \u001b[0mfunc\u001b[0m\u001b[0;34m(\u001b[0m\u001b[0;34m*\u001b[0m\u001b[0margs\u001b[0m\u001b[0;34m,\u001b[0m \u001b[0;34m**\u001b[0m\u001b[0mkwargs\u001b[0m\u001b[0;34m)\u001b[0m\u001b[0;34m\u001b[0m\u001b[0;34m\u001b[0m\u001b[0m\n\u001b[0m\u001b[1;32m    583\u001b[0m         \u001b[0mcall_args\u001b[0m \u001b[0;34m=\u001b[0m \u001b[0mget_call_args_applying_defaults\u001b[0m\u001b[0;34m(\u001b[0m\u001b[0mfunc\u001b[0m\u001b[0;34m,\u001b[0m \u001b[0;34m*\u001b[0m\u001b[0margs\u001b[0m\u001b[0;34m,\u001b[0m \u001b[0;34m**\u001b[0m\u001b[0mkwargs\u001b[0m\u001b[0;34m)\u001b[0m\u001b[0;34m\u001b[0m\u001b[0;34m\u001b[0m\u001b[0m\n\u001b[1;32m    584\u001b[0m         \u001b[0minclude_metadata\u001b[0m \u001b[0;34m=\u001b[0m \u001b[0mcall_args\u001b[0m\u001b[0;34m.\u001b[0m\u001b[0mget\u001b[0m\u001b[0;34m(\u001b[0m\u001b[0;34m\"include_metadata\"\u001b[0m\u001b[0;34m,\u001b[0m \u001b[0;32mTrue\u001b[0m\u001b[0;34m)\u001b[0m\u001b[0;34m\u001b[0m\u001b[0;34m\u001b[0m\u001b[0m\n",
            "\u001b[0;32m/usr/local/lib/python3.10/dist-packages/unstructured/chunking/dispatch.py\u001b[0m in \u001b[0;36mwrapper\u001b[0;34m(*args, **kwargs)\u001b[0m\n\u001b[1;32m     72\u001b[0m \u001b[0;34m\u001b[0m\u001b[0m\n\u001b[1;32m     73\u001b[0m         \u001b[0;31m# -- call the partitioning function to get the elements --\u001b[0m\u001b[0;34m\u001b[0m\u001b[0;34m\u001b[0m\u001b[0m\n\u001b[0;32m---> 74\u001b[0;31m         \u001b[0melements\u001b[0m \u001b[0;34m=\u001b[0m \u001b[0mfunc\u001b[0m\u001b[0;34m(\u001b[0m\u001b[0;34m*\u001b[0m\u001b[0margs\u001b[0m\u001b[0;34m,\u001b[0m \u001b[0;34m**\u001b[0m\u001b[0mkwargs\u001b[0m\u001b[0;34m)\u001b[0m\u001b[0;34m\u001b[0m\u001b[0;34m\u001b[0m\u001b[0m\n\u001b[0m\u001b[1;32m     75\u001b[0m \u001b[0;34m\u001b[0m\u001b[0m\n\u001b[1;32m     76\u001b[0m         \u001b[0;31m# -- look for a chunking-strategy argument --\u001b[0m\u001b[0;34m\u001b[0m\u001b[0;34m\u001b[0m\u001b[0m\n",
            "\u001b[0;32m/usr/local/lib/python3.10/dist-packages/unstructured/partition/pdf.py\u001b[0m in \u001b[0;36mpartition_pdf\u001b[0;34m(filename, file, include_page_breaks, strategy, infer_table_structure, ocr_languages, languages, include_metadata, metadata_filename, metadata_last_modified, chunking_strategy, hi_res_model_name, extract_images_in_pdf, extract_image_block_types, extract_image_block_output_dir, extract_image_block_to_payload, date_from_file_object, starting_page_number, extract_forms, form_extraction_skip_tables, **kwargs)\u001b[0m\n\u001b[1;32m    190\u001b[0m     \u001b[0mlanguages\u001b[0m \u001b[0;34m=\u001b[0m \u001b[0mcheck_language_args\u001b[0m\u001b[0;34m(\u001b[0m\u001b[0mlanguages\u001b[0m \u001b[0;32mor\u001b[0m \u001b[0;34m[\u001b[0m\u001b[0;34m]\u001b[0m\u001b[0;34m,\u001b[0m \u001b[0mocr_languages\u001b[0m\u001b[0;34m)\u001b[0m \u001b[0;32mor\u001b[0m \u001b[0;34m[\u001b[0m\u001b[0;34m\"eng\"\u001b[0m\u001b[0;34m]\u001b[0m\u001b[0;34m\u001b[0m\u001b[0;34m\u001b[0m\u001b[0m\n\u001b[1;32m    191\u001b[0m \u001b[0;34m\u001b[0m\u001b[0m\n\u001b[0;32m--> 192\u001b[0;31m     return partition_pdf_or_image(\n\u001b[0m\u001b[1;32m    193\u001b[0m         \u001b[0mfilename\u001b[0m\u001b[0;34m=\u001b[0m\u001b[0mfilename\u001b[0m\u001b[0;34m,\u001b[0m\u001b[0;34m\u001b[0m\u001b[0;34m\u001b[0m\u001b[0m\n\u001b[1;32m    194\u001b[0m         \u001b[0mfile\u001b[0m\u001b[0;34m=\u001b[0m\u001b[0mfile\u001b[0m\u001b[0;34m,\u001b[0m\u001b[0;34m\u001b[0m\u001b[0;34m\u001b[0m\u001b[0m\n",
            "\u001b[0;32m/usr/local/lib/python3.10/dist-packages/unstructured/partition/pdf.py\u001b[0m in \u001b[0;36mpartition_pdf_or_image\u001b[0;34m(filename, file, is_image, include_page_breaks, strategy, infer_table_structure, ocr_languages, languages, metadata_last_modified, hi_res_model_name, extract_images_in_pdf, extract_image_block_types, extract_image_block_output_dir, extract_image_block_to_payload, date_from_file_object, starting_page_number, extract_forms, form_extraction_skip_tables, **kwargs)\u001b[0m\n\u001b[1;32m    285\u001b[0m         \u001b[0;32mwith\u001b[0m \u001b[0mwarnings\u001b[0m\u001b[0;34m.\u001b[0m\u001b[0mcatch_warnings\u001b[0m\u001b[0;34m(\u001b[0m\u001b[0;34m)\u001b[0m\u001b[0;34m:\u001b[0m\u001b[0;34m\u001b[0m\u001b[0;34m\u001b[0m\u001b[0m\n\u001b[1;32m    286\u001b[0m             \u001b[0mwarnings\u001b[0m\u001b[0;34m.\u001b[0m\u001b[0msimplefilter\u001b[0m\u001b[0;34m(\u001b[0m\u001b[0;34m\"ignore\"\u001b[0m\u001b[0;34m)\u001b[0m\u001b[0;34m\u001b[0m\u001b[0;34m\u001b[0m\u001b[0m\n\u001b[0;32m--> 287\u001b[0;31m             elements = _partition_pdf_or_image_local(\n\u001b[0m\u001b[1;32m    288\u001b[0m                 \u001b[0mfilename\u001b[0m\u001b[0;34m=\u001b[0m\u001b[0mfilename\u001b[0m\u001b[0;34m,\u001b[0m\u001b[0;34m\u001b[0m\u001b[0;34m\u001b[0m\u001b[0m\n\u001b[1;32m    289\u001b[0m                 \u001b[0mfile\u001b[0m\u001b[0;34m=\u001b[0m\u001b[0mspooled_to_bytes_io_if_needed\u001b[0m\u001b[0;34m(\u001b[0m\u001b[0mfile\u001b[0m\u001b[0;34m)\u001b[0m\u001b[0;34m,\u001b[0m\u001b[0;34m\u001b[0m\u001b[0;34m\u001b[0m\u001b[0m\n",
            "\u001b[0;32m/usr/local/lib/python3.10/dist-packages/unstructured/utils.py\u001b[0m in \u001b[0;36mwrapper\u001b[0;34m(*args, **kwargs)\u001b[0m\n\u001b[1;32m    243\u001b[0m                     ),\n\u001b[1;32m    244\u001b[0m                 )\n\u001b[0;32m--> 245\u001b[0;31m             \u001b[0;32mreturn\u001b[0m \u001b[0mfunc\u001b[0m\u001b[0;34m(\u001b[0m\u001b[0;34m*\u001b[0m\u001b[0margs\u001b[0m\u001b[0;34m,\u001b[0m \u001b[0;34m**\u001b[0m\u001b[0mkwargs\u001b[0m\u001b[0;34m)\u001b[0m\u001b[0;34m\u001b[0m\u001b[0;34m\u001b[0m\u001b[0m\n\u001b[0m\u001b[1;32m    246\u001b[0m \u001b[0;34m\u001b[0m\u001b[0m\n\u001b[1;32m    247\u001b[0m         \u001b[0;32mreturn\u001b[0m \u001b[0mwrapper\u001b[0m\u001b[0;34m\u001b[0m\u001b[0;34m\u001b[0m\u001b[0m\n",
            "\u001b[0;32m/usr/local/lib/python3.10/dist-packages/unstructured/partition/pdf.py\u001b[0m in \u001b[0;36m_partition_pdf_or_image_local\u001b[0;34m(filename, file, is_image, infer_table_structure, include_page_breaks, languages, ocr_mode, model_name, hi_res_model_name, pdf_image_dpi, metadata_last_modified, pdf_text_extractable, extract_images_in_pdf, extract_image_block_types, extract_image_block_output_dir, extract_image_block_to_payload, analysis, analyzed_image_output_dir_path, starting_page_number, extract_forms, form_extraction_skip_tables, **kwargs)\u001b[0m\n\u001b[1;32m    534\u001b[0m \u001b[0;34m\u001b[0m\u001b[0m\n\u001b[1;32m    535\u001b[0m     \u001b[0;32mif\u001b[0m \u001b[0mfile\u001b[0m \u001b[0;32mis\u001b[0m \u001b[0;32mNone\u001b[0m\u001b[0;34m:\u001b[0m\u001b[0;34m\u001b[0m\u001b[0;34m\u001b[0m\u001b[0m\n\u001b[0;32m--> 536\u001b[0;31m         inferred_document_layout = process_file_with_model(\n\u001b[0m\u001b[1;32m    537\u001b[0m             \u001b[0mfilename\u001b[0m\u001b[0;34m,\u001b[0m\u001b[0;34m\u001b[0m\u001b[0;34m\u001b[0m\u001b[0m\n\u001b[1;32m    538\u001b[0m             \u001b[0mis_image\u001b[0m\u001b[0;34m=\u001b[0m\u001b[0mis_image\u001b[0m\u001b[0;34m,\u001b[0m\u001b[0;34m\u001b[0m\u001b[0;34m\u001b[0m\u001b[0m\n",
            "\u001b[0;32m/usr/local/lib/python3.10/dist-packages/unstructured_inference/inference/layout.py\u001b[0m in \u001b[0;36mprocess_file_with_model\u001b[0;34m(filename, model_name, is_image, fixed_layouts, pdf_image_dpi, **kwargs)\u001b[0m\n\u001b[1;32m    394\u001b[0m         )\n\u001b[1;32m    395\u001b[0m         \u001b[0;32mif\u001b[0m \u001b[0mis_image\u001b[0m\u001b[0;34m\u001b[0m\u001b[0;34m\u001b[0m\u001b[0m\n\u001b[0;32m--> 396\u001b[0;31m         else DocumentLayout.from_file(\n\u001b[0m\u001b[1;32m    397\u001b[0m             \u001b[0mfilename\u001b[0m\u001b[0;34m,\u001b[0m\u001b[0;34m\u001b[0m\u001b[0;34m\u001b[0m\u001b[0m\n\u001b[1;32m    398\u001b[0m             \u001b[0mdetection_model\u001b[0m\u001b[0;34m=\u001b[0m\u001b[0mdetection_model\u001b[0m\u001b[0;34m,\u001b[0m\u001b[0;34m\u001b[0m\u001b[0;34m\u001b[0m\u001b[0m\n",
            "\u001b[0;32m/usr/local/lib/python3.10/dist-packages/unstructured_inference/inference/layout.py\u001b[0m in \u001b[0;36mfrom_file\u001b[0;34m(cls, filename, fixed_layouts, pdf_image_dpi, **kwargs)\u001b[0m\n\u001b[1;32m     62\u001b[0m \u001b[0;34m\u001b[0m\u001b[0m\n\u001b[1;32m     63\u001b[0m         \u001b[0;32mwith\u001b[0m \u001b[0mtempfile\u001b[0m\u001b[0;34m.\u001b[0m\u001b[0mTemporaryDirectory\u001b[0m\u001b[0;34m(\u001b[0m\u001b[0;34m)\u001b[0m \u001b[0;32mas\u001b[0m \u001b[0mtemp_dir\u001b[0m\u001b[0;34m:\u001b[0m\u001b[0;34m\u001b[0m\u001b[0;34m\u001b[0m\u001b[0m\n\u001b[0;32m---> 64\u001b[0;31m             _image_paths = convert_pdf_to_image(\n\u001b[0m\u001b[1;32m     65\u001b[0m                 \u001b[0mfilename\u001b[0m\u001b[0;34m,\u001b[0m\u001b[0;34m\u001b[0m\u001b[0;34m\u001b[0m\u001b[0m\n\u001b[1;32m     66\u001b[0m                 \u001b[0mpdf_image_dpi\u001b[0m\u001b[0;34m,\u001b[0m\u001b[0;34m\u001b[0m\u001b[0;34m\u001b[0m\u001b[0m\n",
            "\u001b[0;32m/usr/local/lib/python3.10/dist-packages/unstructured_inference/inference/layout.py\u001b[0m in \u001b[0;36mconvert_pdf_to_image\u001b[0;34m(filename, dpi, output_folder, path_only)\u001b[0m\n\u001b[1;32m    431\u001b[0m \u001b[0;34m\u001b[0m\u001b[0m\n\u001b[1;32m    432\u001b[0m     \u001b[0;32mif\u001b[0m \u001b[0moutput_folder\u001b[0m \u001b[0;32mis\u001b[0m \u001b[0;32mnot\u001b[0m \u001b[0;32mNone\u001b[0m\u001b[0;34m:\u001b[0m\u001b[0;34m\u001b[0m\u001b[0;34m\u001b[0m\u001b[0m\n\u001b[0;32m--> 433\u001b[0;31m         images = pdf2image.convert_from_path(\n\u001b[0m\u001b[1;32m    434\u001b[0m             \u001b[0mfilename\u001b[0m\u001b[0;34m,\u001b[0m\u001b[0;34m\u001b[0m\u001b[0;34m\u001b[0m\u001b[0m\n\u001b[1;32m    435\u001b[0m             \u001b[0mdpi\u001b[0m\u001b[0;34m=\u001b[0m\u001b[0mdpi\u001b[0m\u001b[0;34m,\u001b[0m\u001b[0;34m\u001b[0m\u001b[0;34m\u001b[0m\u001b[0m\n",
            "\u001b[0;32m/usr/local/lib/python3.10/dist-packages/pdf2image/pdf2image.py\u001b[0m in \u001b[0;36mconvert_from_path\u001b[0;34m(pdf_path, dpi, output_folder, first_page, last_page, fmt, jpegopt, thread_count, userpw, ownerpw, use_cropbox, strict, transparent, single_file, output_file, poppler_path, grayscale, size, paths_only, use_pdftocairo, timeout, hide_annotations)\u001b[0m\n\u001b[1;32m    125\u001b[0m         \u001b[0mpoppler_path\u001b[0m \u001b[0;34m=\u001b[0m \u001b[0mpoppler_path\u001b[0m\u001b[0;34m.\u001b[0m\u001b[0mas_posix\u001b[0m\u001b[0;34m(\u001b[0m\u001b[0;34m)\u001b[0m\u001b[0;34m\u001b[0m\u001b[0;34m\u001b[0m\u001b[0m\n\u001b[1;32m    126\u001b[0m \u001b[0;34m\u001b[0m\u001b[0m\n\u001b[0;32m--> 127\u001b[0;31m     page_count = pdfinfo_from_path(\n\u001b[0m\u001b[1;32m    128\u001b[0m         \u001b[0mpdf_path\u001b[0m\u001b[0;34m,\u001b[0m \u001b[0muserpw\u001b[0m\u001b[0;34m,\u001b[0m \u001b[0mownerpw\u001b[0m\u001b[0;34m,\u001b[0m \u001b[0mpoppler_path\u001b[0m\u001b[0;34m=\u001b[0m\u001b[0mpoppler_path\u001b[0m\u001b[0;34m\u001b[0m\u001b[0;34m\u001b[0m\u001b[0m\n\u001b[1;32m    129\u001b[0m     )[\"Pages\"]\n",
            "\u001b[0;32m/usr/local/lib/python3.10/dist-packages/pdf2image/pdf2image.py\u001b[0m in \u001b[0;36mpdfinfo_from_path\u001b[0;34m(pdf_path, userpw, ownerpw, poppler_path, rawdates, timeout, first_page, last_page)\u001b[0m\n\u001b[1;32m    605\u001b[0m \u001b[0;34m\u001b[0m\u001b[0m\n\u001b[1;32m    606\u001b[0m     \u001b[0;32mexcept\u001b[0m \u001b[0mOSError\u001b[0m\u001b[0;34m:\u001b[0m\u001b[0;34m\u001b[0m\u001b[0;34m\u001b[0m\u001b[0m\n\u001b[0;32m--> 607\u001b[0;31m         raise PDFInfoNotInstalledError(\n\u001b[0m\u001b[1;32m    608\u001b[0m             \u001b[0;34m\"Unable to get page count. Is poppler installed and in PATH?\"\u001b[0m\u001b[0;34m\u001b[0m\u001b[0;34m\u001b[0m\u001b[0m\n\u001b[1;32m    609\u001b[0m         )\n",
            "\u001b[0;31mPDFInfoNotInstalledError\u001b[0m: Unable to get page count. Is poppler installed and in PATH?"
          ]
        }
      ]
    },
    {
      "cell_type": "code",
      "source": [
        "import nltk\n",
        "nltk.download('punkt_tab')"
      ],
      "metadata": {
        "colab": {
          "base_uri": "https://localhost:8080/"
        },
        "id": "4UybIZjmZtpJ",
        "outputId": "2b241d6d-7920-43a8-b387-1920d7ba0935"
      },
      "execution_count": 7,
      "outputs": [
        {
          "output_type": "stream",
          "name": "stderr",
          "text": [
            "[nltk_data] Downloading package punkt_tab to /root/nltk_data...\n",
            "[nltk_data]   Unzipping tokenizers/punkt_tab.zip.\n"
          ]
        },
        {
          "output_type": "execute_result",
          "data": {
            "text/plain": [
              "True"
            ]
          },
          "metadata": {},
          "execution_count": 7
        }
      ]
    },
    {
      "cell_type": "code",
      "source": [
        "nltk.download('averaged_perceptron_tagger_eng')"
      ],
      "metadata": {
        "colab": {
          "base_uri": "https://localhost:8080/"
        },
        "id": "Kb5RN9XvZymg",
        "outputId": "b47524b3-5e1a-4bed-9333-3fb23474af09"
      },
      "execution_count": 8,
      "outputs": [
        {
          "output_type": "stream",
          "name": "stderr",
          "text": [
            "[nltk_data] Downloading package averaged_perceptron_tagger_eng to\n",
            "[nltk_data]     /root/nltk_data...\n",
            "[nltk_data]   Unzipping taggers/averaged_perceptron_tagger_eng.zip.\n"
          ]
        },
        {
          "output_type": "execute_result",
          "data": {
            "text/plain": [
              "True"
            ]
          },
          "metadata": {},
          "execution_count": 8
        }
      ]
    },
    {
      "cell_type": "code",
      "source": [
        "!pdfinfo --version"
      ],
      "metadata": {
        "colab": {
          "base_uri": "https://localhost:8080/"
        },
        "id": "D16myHlucyA5",
        "outputId": "2b8cdba0-184e-4a04-f80f-4f77df45f1dd"
      },
      "execution_count": 12,
      "outputs": [
        {
          "output_type": "stream",
          "name": "stdout",
          "text": [
            "/bin/bash: line 1: pdfinfo: command not found\n"
          ]
        }
      ]
    },
    {
      "cell_type": "code",
      "source": [
        "!pdfinfo --version\n",
        "/bin/bash: line 1: pdfinfo: command not found"
      ],
      "metadata": {
        "colab": {
          "base_uri": "https://localhost:8080/"
        },
        "id": "x5NEQtckczpX",
        "outputId": "c6e51d96-00bd-4911-cb57-6904aed95923"
      },
      "execution_count": 1,
      "outputs": [
        {
          "output_type": "stream",
          "name": "stdout",
          "text": [
            "/bin/bash: line 1: pdfinfo: command not found\n"
          ]
        }
      ]
    },
    {
      "cell_type": "code",
      "source": [
        "!pip install pdf2image"
      ],
      "metadata": {
        "colab": {
          "base_uri": "https://localhost:8080/"
        },
        "id": "Ifh_xKGgfVZM",
        "outputId": "728c195f-0d95-4675-e01a-4cc2f48ab06b"
      },
      "execution_count": 10,
      "outputs": [
        {
          "output_type": "stream",
          "name": "stdout",
          "text": [
            "Requirement already satisfied: pdf2image in /usr/local/lib/python3.10/dist-packages (1.17.0)\n",
            "Requirement already satisfied: pillow in /usr/local/lib/python3.10/dist-packages (from pdf2image) (11.0.0)\n"
          ]
        }
      ]
    },
    {
      "cell_type": "code",
      "source": [],
      "metadata": {
        "id": "k0okULT9g9JX"
      },
      "execution_count": null,
      "outputs": []
    }
  ],
  "metadata": {
    "accelerator": "GPU",
    "colab": {
      "gpuType": "T4",
      "provenance": []
    },
    "kernelspec": {
      "display_name": "Python 3",
      "name": "python3"
    },
    "language_info": {
      "name": "python"
    },
    "widgets": {
      "application/vnd.jupyter.widget-state+json": {
        "0b9a170ef0634b62b9e28c0bb0353c08": {
          "model_module": "@jupyter-widgets/controls",
          "model_name": "HBoxModel",
          "model_module_version": "1.5.0",
          "state": {
            "_dom_classes": [],
            "_model_module": "@jupyter-widgets/controls",
            "_model_module_version": "1.5.0",
            "_model_name": "HBoxModel",
            "_view_count": null,
            "_view_module": "@jupyter-widgets/controls",
            "_view_module_version": "1.5.0",
            "_view_name": "HBoxView",
            "box_style": "",
            "children": [
              "IPY_MODEL_861ae152844849f48f476d13710a866c",
              "IPY_MODEL_f51c2ebb99274cbf89c0e9c4ddca0b16",
              "IPY_MODEL_fc50500e936b4194a3d90d38cedea997"
            ],
            "layout": "IPY_MODEL_e439d35ad73c4fd28eb8ef66876a0bf3"
          }
        },
        "861ae152844849f48f476d13710a866c": {
          "model_module": "@jupyter-widgets/controls",
          "model_name": "HTMLModel",
          "model_module_version": "1.5.0",
          "state": {
            "_dom_classes": [],
            "_model_module": "@jupyter-widgets/controls",
            "_model_module_version": "1.5.0",
            "_model_name": "HTMLModel",
            "_view_count": null,
            "_view_module": "@jupyter-widgets/controls",
            "_view_module_version": "1.5.0",
            "_view_name": "HTMLView",
            "description": "",
            "description_tooltip": null,
            "layout": "IPY_MODEL_107653d6de324fc6bbea302924887099",
            "placeholder": "​",
            "style": "IPY_MODEL_8f5775d772bf450cbac3474431cb27d3",
            "value": "modules.json: 100%"
          }
        },
        "f51c2ebb99274cbf89c0e9c4ddca0b16": {
          "model_module": "@jupyter-widgets/controls",
          "model_name": "FloatProgressModel",
          "model_module_version": "1.5.0",
          "state": {
            "_dom_classes": [],
            "_model_module": "@jupyter-widgets/controls",
            "_model_module_version": "1.5.0",
            "_model_name": "FloatProgressModel",
            "_view_count": null,
            "_view_module": "@jupyter-widgets/controls",
            "_view_module_version": "1.5.0",
            "_view_name": "ProgressView",
            "bar_style": "success",
            "description": "",
            "description_tooltip": null,
            "layout": "IPY_MODEL_8471e1a4da56472fa588b8d23bfd1c51",
            "max": 349,
            "min": 0,
            "orientation": "horizontal",
            "style": "IPY_MODEL_c83071fa27c54afcb74092f9216d22ba",
            "value": 349
          }
        },
        "fc50500e936b4194a3d90d38cedea997": {
          "model_module": "@jupyter-widgets/controls",
          "model_name": "HTMLModel",
          "model_module_version": "1.5.0",
          "state": {
            "_dom_classes": [],
            "_model_module": "@jupyter-widgets/controls",
            "_model_module_version": "1.5.0",
            "_model_name": "HTMLModel",
            "_view_count": null,
            "_view_module": "@jupyter-widgets/controls",
            "_view_module_version": "1.5.0",
            "_view_name": "HTMLView",
            "description": "",
            "description_tooltip": null,
            "layout": "IPY_MODEL_6e8a3eb081cf4b309912c722f52ddadb",
            "placeholder": "​",
            "style": "IPY_MODEL_e492f5745e034bb6aa46ca961e24ac94",
            "value": " 349/349 [00:00&lt;00:00, 13.6kB/s]"
          }
        },
        "e439d35ad73c4fd28eb8ef66876a0bf3": {
          "model_module": "@jupyter-widgets/base",
          "model_name": "LayoutModel",
          "model_module_version": "1.2.0",
          "state": {
            "_model_module": "@jupyter-widgets/base",
            "_model_module_version": "1.2.0",
            "_model_name": "LayoutModel",
            "_view_count": null,
            "_view_module": "@jupyter-widgets/base",
            "_view_module_version": "1.2.0",
            "_view_name": "LayoutView",
            "align_content": null,
            "align_items": null,
            "align_self": null,
            "border": null,
            "bottom": null,
            "display": null,
            "flex": null,
            "flex_flow": null,
            "grid_area": null,
            "grid_auto_columns": null,
            "grid_auto_flow": null,
            "grid_auto_rows": null,
            "grid_column": null,
            "grid_gap": null,
            "grid_row": null,
            "grid_template_areas": null,
            "grid_template_columns": null,
            "grid_template_rows": null,
            "height": null,
            "justify_content": null,
            "justify_items": null,
            "left": null,
            "margin": null,
            "max_height": null,
            "max_width": null,
            "min_height": null,
            "min_width": null,
            "object_fit": null,
            "object_position": null,
            "order": null,
            "overflow": null,
            "overflow_x": null,
            "overflow_y": null,
            "padding": null,
            "right": null,
            "top": null,
            "visibility": null,
            "width": null
          }
        },
        "107653d6de324fc6bbea302924887099": {
          "model_module": "@jupyter-widgets/base",
          "model_name": "LayoutModel",
          "model_module_version": "1.2.0",
          "state": {
            "_model_module": "@jupyter-widgets/base",
            "_model_module_version": "1.2.0",
            "_model_name": "LayoutModel",
            "_view_count": null,
            "_view_module": "@jupyter-widgets/base",
            "_view_module_version": "1.2.0",
            "_view_name": "LayoutView",
            "align_content": null,
            "align_items": null,
            "align_self": null,
            "border": null,
            "bottom": null,
            "display": null,
            "flex": null,
            "flex_flow": null,
            "grid_area": null,
            "grid_auto_columns": null,
            "grid_auto_flow": null,
            "grid_auto_rows": null,
            "grid_column": null,
            "grid_gap": null,
            "grid_row": null,
            "grid_template_areas": null,
            "grid_template_columns": null,
            "grid_template_rows": null,
            "height": null,
            "justify_content": null,
            "justify_items": null,
            "left": null,
            "margin": null,
            "max_height": null,
            "max_width": null,
            "min_height": null,
            "min_width": null,
            "object_fit": null,
            "object_position": null,
            "order": null,
            "overflow": null,
            "overflow_x": null,
            "overflow_y": null,
            "padding": null,
            "right": null,
            "top": null,
            "visibility": null,
            "width": null
          }
        },
        "8f5775d772bf450cbac3474431cb27d3": {
          "model_module": "@jupyter-widgets/controls",
          "model_name": "DescriptionStyleModel",
          "model_module_version": "1.5.0",
          "state": {
            "_model_module": "@jupyter-widgets/controls",
            "_model_module_version": "1.5.0",
            "_model_name": "DescriptionStyleModel",
            "_view_count": null,
            "_view_module": "@jupyter-widgets/base",
            "_view_module_version": "1.2.0",
            "_view_name": "StyleView",
            "description_width": ""
          }
        },
        "8471e1a4da56472fa588b8d23bfd1c51": {
          "model_module": "@jupyter-widgets/base",
          "model_name": "LayoutModel",
          "model_module_version": "1.2.0",
          "state": {
            "_model_module": "@jupyter-widgets/base",
            "_model_module_version": "1.2.0",
            "_model_name": "LayoutModel",
            "_view_count": null,
            "_view_module": "@jupyter-widgets/base",
            "_view_module_version": "1.2.0",
            "_view_name": "LayoutView",
            "align_content": null,
            "align_items": null,
            "align_self": null,
            "border": null,
            "bottom": null,
            "display": null,
            "flex": null,
            "flex_flow": null,
            "grid_area": null,
            "grid_auto_columns": null,
            "grid_auto_flow": null,
            "grid_auto_rows": null,
            "grid_column": null,
            "grid_gap": null,
            "grid_row": null,
            "grid_template_areas": null,
            "grid_template_columns": null,
            "grid_template_rows": null,
            "height": null,
            "justify_content": null,
            "justify_items": null,
            "left": null,
            "margin": null,
            "max_height": null,
            "max_width": null,
            "min_height": null,
            "min_width": null,
            "object_fit": null,
            "object_position": null,
            "order": null,
            "overflow": null,
            "overflow_x": null,
            "overflow_y": null,
            "padding": null,
            "right": null,
            "top": null,
            "visibility": null,
            "width": null
          }
        },
        "c83071fa27c54afcb74092f9216d22ba": {
          "model_module": "@jupyter-widgets/controls",
          "model_name": "ProgressStyleModel",
          "model_module_version": "1.5.0",
          "state": {
            "_model_module": "@jupyter-widgets/controls",
            "_model_module_version": "1.5.0",
            "_model_name": "ProgressStyleModel",
            "_view_count": null,
            "_view_module": "@jupyter-widgets/base",
            "_view_module_version": "1.2.0",
            "_view_name": "StyleView",
            "bar_color": null,
            "description_width": ""
          }
        },
        "6e8a3eb081cf4b309912c722f52ddadb": {
          "model_module": "@jupyter-widgets/base",
          "model_name": "LayoutModel",
          "model_module_version": "1.2.0",
          "state": {
            "_model_module": "@jupyter-widgets/base",
            "_model_module_version": "1.2.0",
            "_model_name": "LayoutModel",
            "_view_count": null,
            "_view_module": "@jupyter-widgets/base",
            "_view_module_version": "1.2.0",
            "_view_name": "LayoutView",
            "align_content": null,
            "align_items": null,
            "align_self": null,
            "border": null,
            "bottom": null,
            "display": null,
            "flex": null,
            "flex_flow": null,
            "grid_area": null,
            "grid_auto_columns": null,
            "grid_auto_flow": null,
            "grid_auto_rows": null,
            "grid_column": null,
            "grid_gap": null,
            "grid_row": null,
            "grid_template_areas": null,
            "grid_template_columns": null,
            "grid_template_rows": null,
            "height": null,
            "justify_content": null,
            "justify_items": null,
            "left": null,
            "margin": null,
            "max_height": null,
            "max_width": null,
            "min_height": null,
            "min_width": null,
            "object_fit": null,
            "object_position": null,
            "order": null,
            "overflow": null,
            "overflow_x": null,
            "overflow_y": null,
            "padding": null,
            "right": null,
            "top": null,
            "visibility": null,
            "width": null
          }
        },
        "e492f5745e034bb6aa46ca961e24ac94": {
          "model_module": "@jupyter-widgets/controls",
          "model_name": "DescriptionStyleModel",
          "model_module_version": "1.5.0",
          "state": {
            "_model_module": "@jupyter-widgets/controls",
            "_model_module_version": "1.5.0",
            "_model_name": "DescriptionStyleModel",
            "_view_count": null,
            "_view_module": "@jupyter-widgets/base",
            "_view_module_version": "1.2.0",
            "_view_name": "StyleView",
            "description_width": ""
          }
        },
        "eb2da261a07c4038b3e07fc1c37f98b2": {
          "model_module": "@jupyter-widgets/controls",
          "model_name": "HBoxModel",
          "model_module_version": "1.5.0",
          "state": {
            "_dom_classes": [],
            "_model_module": "@jupyter-widgets/controls",
            "_model_module_version": "1.5.0",
            "_model_name": "HBoxModel",
            "_view_count": null,
            "_view_module": "@jupyter-widgets/controls",
            "_view_module_version": "1.5.0",
            "_view_name": "HBoxView",
            "box_style": "",
            "children": [
              "IPY_MODEL_a8263dfe3e534ae0b56188f3f1819717",
              "IPY_MODEL_2c4690be82e740299dbca28d260a2752",
              "IPY_MODEL_2bc01d59e9564d4395a4bd37ce050039"
            ],
            "layout": "IPY_MODEL_d551335e2d574475af2d8ecc32a496bd"
          }
        },
        "a8263dfe3e534ae0b56188f3f1819717": {
          "model_module": "@jupyter-widgets/controls",
          "model_name": "HTMLModel",
          "model_module_version": "1.5.0",
          "state": {
            "_dom_classes": [],
            "_model_module": "@jupyter-widgets/controls",
            "_model_module_version": "1.5.0",
            "_model_name": "HTMLModel",
            "_view_count": null,
            "_view_module": "@jupyter-widgets/controls",
            "_view_module_version": "1.5.0",
            "_view_name": "HTMLView",
            "description": "",
            "description_tooltip": null,
            "layout": "IPY_MODEL_58be8c08e221446eb7645188b0da495d",
            "placeholder": "​",
            "style": "IPY_MODEL_baee8a3da97e480291a2a12f51de4c96",
            "value": "config_sentence_transformers.json: 100%"
          }
        },
        "2c4690be82e740299dbca28d260a2752": {
          "model_module": "@jupyter-widgets/controls",
          "model_name": "FloatProgressModel",
          "model_module_version": "1.5.0",
          "state": {
            "_dom_classes": [],
            "_model_module": "@jupyter-widgets/controls",
            "_model_module_version": "1.5.0",
            "_model_name": "FloatProgressModel",
            "_view_count": null,
            "_view_module": "@jupyter-widgets/controls",
            "_view_module_version": "1.5.0",
            "_view_name": "ProgressView",
            "bar_style": "success",
            "description": "",
            "description_tooltip": null,
            "layout": "IPY_MODEL_d43312034da84b56b7040946f43714fd",
            "max": 116,
            "min": 0,
            "orientation": "horizontal",
            "style": "IPY_MODEL_f499dc97ebdf408f95f675666126146d",
            "value": 116
          }
        },
        "2bc01d59e9564d4395a4bd37ce050039": {
          "model_module": "@jupyter-widgets/controls",
          "model_name": "HTMLModel",
          "model_module_version": "1.5.0",
          "state": {
            "_dom_classes": [],
            "_model_module": "@jupyter-widgets/controls",
            "_model_module_version": "1.5.0",
            "_model_name": "HTMLModel",
            "_view_count": null,
            "_view_module": "@jupyter-widgets/controls",
            "_view_module_version": "1.5.0",
            "_view_name": "HTMLView",
            "description": "",
            "description_tooltip": null,
            "layout": "IPY_MODEL_9e0f36e39443402a81459caf805ecb0b",
            "placeholder": "​",
            "style": "IPY_MODEL_5645669fc1094c32a0c6ffc3eb6759e9",
            "value": " 116/116 [00:00&lt;00:00, 500B/s]"
          }
        },
        "d551335e2d574475af2d8ecc32a496bd": {
          "model_module": "@jupyter-widgets/base",
          "model_name": "LayoutModel",
          "model_module_version": "1.2.0",
          "state": {
            "_model_module": "@jupyter-widgets/base",
            "_model_module_version": "1.2.0",
            "_model_name": "LayoutModel",
            "_view_count": null,
            "_view_module": "@jupyter-widgets/base",
            "_view_module_version": "1.2.0",
            "_view_name": "LayoutView",
            "align_content": null,
            "align_items": null,
            "align_self": null,
            "border": null,
            "bottom": null,
            "display": null,
            "flex": null,
            "flex_flow": null,
            "grid_area": null,
            "grid_auto_columns": null,
            "grid_auto_flow": null,
            "grid_auto_rows": null,
            "grid_column": null,
            "grid_gap": null,
            "grid_row": null,
            "grid_template_areas": null,
            "grid_template_columns": null,
            "grid_template_rows": null,
            "height": null,
            "justify_content": null,
            "justify_items": null,
            "left": null,
            "margin": null,
            "max_height": null,
            "max_width": null,
            "min_height": null,
            "min_width": null,
            "object_fit": null,
            "object_position": null,
            "order": null,
            "overflow": null,
            "overflow_x": null,
            "overflow_y": null,
            "padding": null,
            "right": null,
            "top": null,
            "visibility": null,
            "width": null
          }
        },
        "58be8c08e221446eb7645188b0da495d": {
          "model_module": "@jupyter-widgets/base",
          "model_name": "LayoutModel",
          "model_module_version": "1.2.0",
          "state": {
            "_model_module": "@jupyter-widgets/base",
            "_model_module_version": "1.2.0",
            "_model_name": "LayoutModel",
            "_view_count": null,
            "_view_module": "@jupyter-widgets/base",
            "_view_module_version": "1.2.0",
            "_view_name": "LayoutView",
            "align_content": null,
            "align_items": null,
            "align_self": null,
            "border": null,
            "bottom": null,
            "display": null,
            "flex": null,
            "flex_flow": null,
            "grid_area": null,
            "grid_auto_columns": null,
            "grid_auto_flow": null,
            "grid_auto_rows": null,
            "grid_column": null,
            "grid_gap": null,
            "grid_row": null,
            "grid_template_areas": null,
            "grid_template_columns": null,
            "grid_template_rows": null,
            "height": null,
            "justify_content": null,
            "justify_items": null,
            "left": null,
            "margin": null,
            "max_height": null,
            "max_width": null,
            "min_height": null,
            "min_width": null,
            "object_fit": null,
            "object_position": null,
            "order": null,
            "overflow": null,
            "overflow_x": null,
            "overflow_y": null,
            "padding": null,
            "right": null,
            "top": null,
            "visibility": null,
            "width": null
          }
        },
        "baee8a3da97e480291a2a12f51de4c96": {
          "model_module": "@jupyter-widgets/controls",
          "model_name": "DescriptionStyleModel",
          "model_module_version": "1.5.0",
          "state": {
            "_model_module": "@jupyter-widgets/controls",
            "_model_module_version": "1.5.0",
            "_model_name": "DescriptionStyleModel",
            "_view_count": null,
            "_view_module": "@jupyter-widgets/base",
            "_view_module_version": "1.2.0",
            "_view_name": "StyleView",
            "description_width": ""
          }
        },
        "d43312034da84b56b7040946f43714fd": {
          "model_module": "@jupyter-widgets/base",
          "model_name": "LayoutModel",
          "model_module_version": "1.2.0",
          "state": {
            "_model_module": "@jupyter-widgets/base",
            "_model_module_version": "1.2.0",
            "_model_name": "LayoutModel",
            "_view_count": null,
            "_view_module": "@jupyter-widgets/base",
            "_view_module_version": "1.2.0",
            "_view_name": "LayoutView",
            "align_content": null,
            "align_items": null,
            "align_self": null,
            "border": null,
            "bottom": null,
            "display": null,
            "flex": null,
            "flex_flow": null,
            "grid_area": null,
            "grid_auto_columns": null,
            "grid_auto_flow": null,
            "grid_auto_rows": null,
            "grid_column": null,
            "grid_gap": null,
            "grid_row": null,
            "grid_template_areas": null,
            "grid_template_columns": null,
            "grid_template_rows": null,
            "height": null,
            "justify_content": null,
            "justify_items": null,
            "left": null,
            "margin": null,
            "max_height": null,
            "max_width": null,
            "min_height": null,
            "min_width": null,
            "object_fit": null,
            "object_position": null,
            "order": null,
            "overflow": null,
            "overflow_x": null,
            "overflow_y": null,
            "padding": null,
            "right": null,
            "top": null,
            "visibility": null,
            "width": null
          }
        },
        "f499dc97ebdf408f95f675666126146d": {
          "model_module": "@jupyter-widgets/controls",
          "model_name": "ProgressStyleModel",
          "model_module_version": "1.5.0",
          "state": {
            "_model_module": "@jupyter-widgets/controls",
            "_model_module_version": "1.5.0",
            "_model_name": "ProgressStyleModel",
            "_view_count": null,
            "_view_module": "@jupyter-widgets/base",
            "_view_module_version": "1.2.0",
            "_view_name": "StyleView",
            "bar_color": null,
            "description_width": ""
          }
        },
        "9e0f36e39443402a81459caf805ecb0b": {
          "model_module": "@jupyter-widgets/base",
          "model_name": "LayoutModel",
          "model_module_version": "1.2.0",
          "state": {
            "_model_module": "@jupyter-widgets/base",
            "_model_module_version": "1.2.0",
            "_model_name": "LayoutModel",
            "_view_count": null,
            "_view_module": "@jupyter-widgets/base",
            "_view_module_version": "1.2.0",
            "_view_name": "LayoutView",
            "align_content": null,
            "align_items": null,
            "align_self": null,
            "border": null,
            "bottom": null,
            "display": null,
            "flex": null,
            "flex_flow": null,
            "grid_area": null,
            "grid_auto_columns": null,
            "grid_auto_flow": null,
            "grid_auto_rows": null,
            "grid_column": null,
            "grid_gap": null,
            "grid_row": null,
            "grid_template_areas": null,
            "grid_template_columns": null,
            "grid_template_rows": null,
            "height": null,
            "justify_content": null,
            "justify_items": null,
            "left": null,
            "margin": null,
            "max_height": null,
            "max_width": null,
            "min_height": null,
            "min_width": null,
            "object_fit": null,
            "object_position": null,
            "order": null,
            "overflow": null,
            "overflow_x": null,
            "overflow_y": null,
            "padding": null,
            "right": null,
            "top": null,
            "visibility": null,
            "width": null
          }
        },
        "5645669fc1094c32a0c6ffc3eb6759e9": {
          "model_module": "@jupyter-widgets/controls",
          "model_name": "DescriptionStyleModel",
          "model_module_version": "1.5.0",
          "state": {
            "_model_module": "@jupyter-widgets/controls",
            "_model_module_version": "1.5.0",
            "_model_name": "DescriptionStyleModel",
            "_view_count": null,
            "_view_module": "@jupyter-widgets/base",
            "_view_module_version": "1.2.0",
            "_view_name": "StyleView",
            "description_width": ""
          }
        },
        "0958f3a84f994e2896db8fd894800a09": {
          "model_module": "@jupyter-widgets/controls",
          "model_name": "HBoxModel",
          "model_module_version": "1.5.0",
          "state": {
            "_dom_classes": [],
            "_model_module": "@jupyter-widgets/controls",
            "_model_module_version": "1.5.0",
            "_model_name": "HBoxModel",
            "_view_count": null,
            "_view_module": "@jupyter-widgets/controls",
            "_view_module_version": "1.5.0",
            "_view_name": "HBoxView",
            "box_style": "",
            "children": [
              "IPY_MODEL_fd2565b262914c6dae88eaaa8b1ee7cf",
              "IPY_MODEL_fbfeb05bb7b14fd68e66fa06b8624a97",
              "IPY_MODEL_8991815bee444e449e4234e3bed27166"
            ],
            "layout": "IPY_MODEL_b3a3ccc5e26b4f338091f7ea658e7d96"
          }
        },
        "fd2565b262914c6dae88eaaa8b1ee7cf": {
          "model_module": "@jupyter-widgets/controls",
          "model_name": "HTMLModel",
          "model_module_version": "1.5.0",
          "state": {
            "_dom_classes": [],
            "_model_module": "@jupyter-widgets/controls",
            "_model_module_version": "1.5.0",
            "_model_name": "HTMLModel",
            "_view_count": null,
            "_view_module": "@jupyter-widgets/controls",
            "_view_module_version": "1.5.0",
            "_view_name": "HTMLView",
            "description": "",
            "description_tooltip": null,
            "layout": "IPY_MODEL_aae78306fad845199f0ef8a1762328f8",
            "placeholder": "​",
            "style": "IPY_MODEL_33f61d0fc150430096f7071a08a59e6c",
            "value": "README.md: 100%"
          }
        },
        "fbfeb05bb7b14fd68e66fa06b8624a97": {
          "model_module": "@jupyter-widgets/controls",
          "model_name": "FloatProgressModel",
          "model_module_version": "1.5.0",
          "state": {
            "_dom_classes": [],
            "_model_module": "@jupyter-widgets/controls",
            "_model_module_version": "1.5.0",
            "_model_name": "FloatProgressModel",
            "_view_count": null,
            "_view_module": "@jupyter-widgets/controls",
            "_view_module_version": "1.5.0",
            "_view_name": "ProgressView",
            "bar_style": "success",
            "description": "",
            "description_tooltip": null,
            "layout": "IPY_MODEL_6cb8fb14ca7341a8acdae76fd1a4b8b3",
            "max": 10621,
            "min": 0,
            "orientation": "horizontal",
            "style": "IPY_MODEL_cb9101b1677f4931b25d0bff21b9cd68",
            "value": 10621
          }
        },
        "8991815bee444e449e4234e3bed27166": {
          "model_module": "@jupyter-widgets/controls",
          "model_name": "HTMLModel",
          "model_module_version": "1.5.0",
          "state": {
            "_dom_classes": [],
            "_model_module": "@jupyter-widgets/controls",
            "_model_module_version": "1.5.0",
            "_model_name": "HTMLModel",
            "_view_count": null,
            "_view_module": "@jupyter-widgets/controls",
            "_view_module_version": "1.5.0",
            "_view_name": "HTMLView",
            "description": "",
            "description_tooltip": null,
            "layout": "IPY_MODEL_4a70b2ca57a1420eb736cc759a09a4a9",
            "placeholder": "​",
            "style": "IPY_MODEL_dc2e27f2a0bf42fe935458d30f76d392",
            "value": " 10.6k/10.6k [00:00&lt;00:00, 539kB/s]"
          }
        },
        "b3a3ccc5e26b4f338091f7ea658e7d96": {
          "model_module": "@jupyter-widgets/base",
          "model_name": "LayoutModel",
          "model_module_version": "1.2.0",
          "state": {
            "_model_module": "@jupyter-widgets/base",
            "_model_module_version": "1.2.0",
            "_model_name": "LayoutModel",
            "_view_count": null,
            "_view_module": "@jupyter-widgets/base",
            "_view_module_version": "1.2.0",
            "_view_name": "LayoutView",
            "align_content": null,
            "align_items": null,
            "align_self": null,
            "border": null,
            "bottom": null,
            "display": null,
            "flex": null,
            "flex_flow": null,
            "grid_area": null,
            "grid_auto_columns": null,
            "grid_auto_flow": null,
            "grid_auto_rows": null,
            "grid_column": null,
            "grid_gap": null,
            "grid_row": null,
            "grid_template_areas": null,
            "grid_template_columns": null,
            "grid_template_rows": null,
            "height": null,
            "justify_content": null,
            "justify_items": null,
            "left": null,
            "margin": null,
            "max_height": null,
            "max_width": null,
            "min_height": null,
            "min_width": null,
            "object_fit": null,
            "object_position": null,
            "order": null,
            "overflow": null,
            "overflow_x": null,
            "overflow_y": null,
            "padding": null,
            "right": null,
            "top": null,
            "visibility": null,
            "width": null
          }
        },
        "aae78306fad845199f0ef8a1762328f8": {
          "model_module": "@jupyter-widgets/base",
          "model_name": "LayoutModel",
          "model_module_version": "1.2.0",
          "state": {
            "_model_module": "@jupyter-widgets/base",
            "_model_module_version": "1.2.0",
            "_model_name": "LayoutModel",
            "_view_count": null,
            "_view_module": "@jupyter-widgets/base",
            "_view_module_version": "1.2.0",
            "_view_name": "LayoutView",
            "align_content": null,
            "align_items": null,
            "align_self": null,
            "border": null,
            "bottom": null,
            "display": null,
            "flex": null,
            "flex_flow": null,
            "grid_area": null,
            "grid_auto_columns": null,
            "grid_auto_flow": null,
            "grid_auto_rows": null,
            "grid_column": null,
            "grid_gap": null,
            "grid_row": null,
            "grid_template_areas": null,
            "grid_template_columns": null,
            "grid_template_rows": null,
            "height": null,
            "justify_content": null,
            "justify_items": null,
            "left": null,
            "margin": null,
            "max_height": null,
            "max_width": null,
            "min_height": null,
            "min_width": null,
            "object_fit": null,
            "object_position": null,
            "order": null,
            "overflow": null,
            "overflow_x": null,
            "overflow_y": null,
            "padding": null,
            "right": null,
            "top": null,
            "visibility": null,
            "width": null
          }
        },
        "33f61d0fc150430096f7071a08a59e6c": {
          "model_module": "@jupyter-widgets/controls",
          "model_name": "DescriptionStyleModel",
          "model_module_version": "1.5.0",
          "state": {
            "_model_module": "@jupyter-widgets/controls",
            "_model_module_version": "1.5.0",
            "_model_name": "DescriptionStyleModel",
            "_view_count": null,
            "_view_module": "@jupyter-widgets/base",
            "_view_module_version": "1.2.0",
            "_view_name": "StyleView",
            "description_width": ""
          }
        },
        "6cb8fb14ca7341a8acdae76fd1a4b8b3": {
          "model_module": "@jupyter-widgets/base",
          "model_name": "LayoutModel",
          "model_module_version": "1.2.0",
          "state": {
            "_model_module": "@jupyter-widgets/base",
            "_model_module_version": "1.2.0",
            "_model_name": "LayoutModel",
            "_view_count": null,
            "_view_module": "@jupyter-widgets/base",
            "_view_module_version": "1.2.0",
            "_view_name": "LayoutView",
            "align_content": null,
            "align_items": null,
            "align_self": null,
            "border": null,
            "bottom": null,
            "display": null,
            "flex": null,
            "flex_flow": null,
            "grid_area": null,
            "grid_auto_columns": null,
            "grid_auto_flow": null,
            "grid_auto_rows": null,
            "grid_column": null,
            "grid_gap": null,
            "grid_row": null,
            "grid_template_areas": null,
            "grid_template_columns": null,
            "grid_template_rows": null,
            "height": null,
            "justify_content": null,
            "justify_items": null,
            "left": null,
            "margin": null,
            "max_height": null,
            "max_width": null,
            "min_height": null,
            "min_width": null,
            "object_fit": null,
            "object_position": null,
            "order": null,
            "overflow": null,
            "overflow_x": null,
            "overflow_y": null,
            "padding": null,
            "right": null,
            "top": null,
            "visibility": null,
            "width": null
          }
        },
        "cb9101b1677f4931b25d0bff21b9cd68": {
          "model_module": "@jupyter-widgets/controls",
          "model_name": "ProgressStyleModel",
          "model_module_version": "1.5.0",
          "state": {
            "_model_module": "@jupyter-widgets/controls",
            "_model_module_version": "1.5.0",
            "_model_name": "ProgressStyleModel",
            "_view_count": null,
            "_view_module": "@jupyter-widgets/base",
            "_view_module_version": "1.2.0",
            "_view_name": "StyleView",
            "bar_color": null,
            "description_width": ""
          }
        },
        "4a70b2ca57a1420eb736cc759a09a4a9": {
          "model_module": "@jupyter-widgets/base",
          "model_name": "LayoutModel",
          "model_module_version": "1.2.0",
          "state": {
            "_model_module": "@jupyter-widgets/base",
            "_model_module_version": "1.2.0",
            "_model_name": "LayoutModel",
            "_view_count": null,
            "_view_module": "@jupyter-widgets/base",
            "_view_module_version": "1.2.0",
            "_view_name": "LayoutView",
            "align_content": null,
            "align_items": null,
            "align_self": null,
            "border": null,
            "bottom": null,
            "display": null,
            "flex": null,
            "flex_flow": null,
            "grid_area": null,
            "grid_auto_columns": null,
            "grid_auto_flow": null,
            "grid_auto_rows": null,
            "grid_column": null,
            "grid_gap": null,
            "grid_row": null,
            "grid_template_areas": null,
            "grid_template_columns": null,
            "grid_template_rows": null,
            "height": null,
            "justify_content": null,
            "justify_items": null,
            "left": null,
            "margin": null,
            "max_height": null,
            "max_width": null,
            "min_height": null,
            "min_width": null,
            "object_fit": null,
            "object_position": null,
            "order": null,
            "overflow": null,
            "overflow_x": null,
            "overflow_y": null,
            "padding": null,
            "right": null,
            "top": null,
            "visibility": null,
            "width": null
          }
        },
        "dc2e27f2a0bf42fe935458d30f76d392": {
          "model_module": "@jupyter-widgets/controls",
          "model_name": "DescriptionStyleModel",
          "model_module_version": "1.5.0",
          "state": {
            "_model_module": "@jupyter-widgets/controls",
            "_model_module_version": "1.5.0",
            "_model_name": "DescriptionStyleModel",
            "_view_count": null,
            "_view_module": "@jupyter-widgets/base",
            "_view_module_version": "1.2.0",
            "_view_name": "StyleView",
            "description_width": ""
          }
        },
        "1afd05bb79af40e6895a80b3c02ec40b": {
          "model_module": "@jupyter-widgets/controls",
          "model_name": "HBoxModel",
          "model_module_version": "1.5.0",
          "state": {
            "_dom_classes": [],
            "_model_module": "@jupyter-widgets/controls",
            "_model_module_version": "1.5.0",
            "_model_name": "HBoxModel",
            "_view_count": null,
            "_view_module": "@jupyter-widgets/controls",
            "_view_module_version": "1.5.0",
            "_view_name": "HBoxView",
            "box_style": "",
            "children": [
              "IPY_MODEL_2e7ee40a16464d07bd8cebb4637f03f8",
              "IPY_MODEL_0a600b6d575b4933b3d2cb4101bfd8fd",
              "IPY_MODEL_7415b821866641ae8848aed8dafd6ec1"
            ],
            "layout": "IPY_MODEL_64b6dfb0128b47de9986125c7fd982b0"
          }
        },
        "2e7ee40a16464d07bd8cebb4637f03f8": {
          "model_module": "@jupyter-widgets/controls",
          "model_name": "HTMLModel",
          "model_module_version": "1.5.0",
          "state": {
            "_dom_classes": [],
            "_model_module": "@jupyter-widgets/controls",
            "_model_module_version": "1.5.0",
            "_model_name": "HTMLModel",
            "_view_count": null,
            "_view_module": "@jupyter-widgets/controls",
            "_view_module_version": "1.5.0",
            "_view_name": "HTMLView",
            "description": "",
            "description_tooltip": null,
            "layout": "IPY_MODEL_8d7716399c8e4940b6973b3c21d747da",
            "placeholder": "​",
            "style": "IPY_MODEL_8bd582fc4cba4ccf8ac522a61a045180",
            "value": "sentence_bert_config.json: 100%"
          }
        },
        "0a600b6d575b4933b3d2cb4101bfd8fd": {
          "model_module": "@jupyter-widgets/controls",
          "model_name": "FloatProgressModel",
          "model_module_version": "1.5.0",
          "state": {
            "_dom_classes": [],
            "_model_module": "@jupyter-widgets/controls",
            "_model_module_version": "1.5.0",
            "_model_name": "FloatProgressModel",
            "_view_count": null,
            "_view_module": "@jupyter-widgets/controls",
            "_view_module_version": "1.5.0",
            "_view_name": "ProgressView",
            "bar_style": "success",
            "description": "",
            "description_tooltip": null,
            "layout": "IPY_MODEL_bdc8e0cf96a8465b8c3cd17954fa3179",
            "max": 53,
            "min": 0,
            "orientation": "horizontal",
            "style": "IPY_MODEL_66ba9b6f4f514f99afcb6a378f3f27b6",
            "value": 53
          }
        },
        "7415b821866641ae8848aed8dafd6ec1": {
          "model_module": "@jupyter-widgets/controls",
          "model_name": "HTMLModel",
          "model_module_version": "1.5.0",
          "state": {
            "_dom_classes": [],
            "_model_module": "@jupyter-widgets/controls",
            "_model_module_version": "1.5.0",
            "_model_name": "HTMLModel",
            "_view_count": null,
            "_view_module": "@jupyter-widgets/controls",
            "_view_module_version": "1.5.0",
            "_view_name": "HTMLView",
            "description": "",
            "description_tooltip": null,
            "layout": "IPY_MODEL_7ec8d5a0d4fa426d93c8d5d19aa83fbe",
            "placeholder": "​",
            "style": "IPY_MODEL_c76db8a774ef4abf8be70121f3381002",
            "value": " 53.0/53.0 [00:00&lt;00:00, 1.37kB/s]"
          }
        },
        "64b6dfb0128b47de9986125c7fd982b0": {
          "model_module": "@jupyter-widgets/base",
          "model_name": "LayoutModel",
          "model_module_version": "1.2.0",
          "state": {
            "_model_module": "@jupyter-widgets/base",
            "_model_module_version": "1.2.0",
            "_model_name": "LayoutModel",
            "_view_count": null,
            "_view_module": "@jupyter-widgets/base",
            "_view_module_version": "1.2.0",
            "_view_name": "LayoutView",
            "align_content": null,
            "align_items": null,
            "align_self": null,
            "border": null,
            "bottom": null,
            "display": null,
            "flex": null,
            "flex_flow": null,
            "grid_area": null,
            "grid_auto_columns": null,
            "grid_auto_flow": null,
            "grid_auto_rows": null,
            "grid_column": null,
            "grid_gap": null,
            "grid_row": null,
            "grid_template_areas": null,
            "grid_template_columns": null,
            "grid_template_rows": null,
            "height": null,
            "justify_content": null,
            "justify_items": null,
            "left": null,
            "margin": null,
            "max_height": null,
            "max_width": null,
            "min_height": null,
            "min_width": null,
            "object_fit": null,
            "object_position": null,
            "order": null,
            "overflow": null,
            "overflow_x": null,
            "overflow_y": null,
            "padding": null,
            "right": null,
            "top": null,
            "visibility": null,
            "width": null
          }
        },
        "8d7716399c8e4940b6973b3c21d747da": {
          "model_module": "@jupyter-widgets/base",
          "model_name": "LayoutModel",
          "model_module_version": "1.2.0",
          "state": {
            "_model_module": "@jupyter-widgets/base",
            "_model_module_version": "1.2.0",
            "_model_name": "LayoutModel",
            "_view_count": null,
            "_view_module": "@jupyter-widgets/base",
            "_view_module_version": "1.2.0",
            "_view_name": "LayoutView",
            "align_content": null,
            "align_items": null,
            "align_self": null,
            "border": null,
            "bottom": null,
            "display": null,
            "flex": null,
            "flex_flow": null,
            "grid_area": null,
            "grid_auto_columns": null,
            "grid_auto_flow": null,
            "grid_auto_rows": null,
            "grid_column": null,
            "grid_gap": null,
            "grid_row": null,
            "grid_template_areas": null,
            "grid_template_columns": null,
            "grid_template_rows": null,
            "height": null,
            "justify_content": null,
            "justify_items": null,
            "left": null,
            "margin": null,
            "max_height": null,
            "max_width": null,
            "min_height": null,
            "min_width": null,
            "object_fit": null,
            "object_position": null,
            "order": null,
            "overflow": null,
            "overflow_x": null,
            "overflow_y": null,
            "padding": null,
            "right": null,
            "top": null,
            "visibility": null,
            "width": null
          }
        },
        "8bd582fc4cba4ccf8ac522a61a045180": {
          "model_module": "@jupyter-widgets/controls",
          "model_name": "DescriptionStyleModel",
          "model_module_version": "1.5.0",
          "state": {
            "_model_module": "@jupyter-widgets/controls",
            "_model_module_version": "1.5.0",
            "_model_name": "DescriptionStyleModel",
            "_view_count": null,
            "_view_module": "@jupyter-widgets/base",
            "_view_module_version": "1.2.0",
            "_view_name": "StyleView",
            "description_width": ""
          }
        },
        "bdc8e0cf96a8465b8c3cd17954fa3179": {
          "model_module": "@jupyter-widgets/base",
          "model_name": "LayoutModel",
          "model_module_version": "1.2.0",
          "state": {
            "_model_module": "@jupyter-widgets/base",
            "_model_module_version": "1.2.0",
            "_model_name": "LayoutModel",
            "_view_count": null,
            "_view_module": "@jupyter-widgets/base",
            "_view_module_version": "1.2.0",
            "_view_name": "LayoutView",
            "align_content": null,
            "align_items": null,
            "align_self": null,
            "border": null,
            "bottom": null,
            "display": null,
            "flex": null,
            "flex_flow": null,
            "grid_area": null,
            "grid_auto_columns": null,
            "grid_auto_flow": null,
            "grid_auto_rows": null,
            "grid_column": null,
            "grid_gap": null,
            "grid_row": null,
            "grid_template_areas": null,
            "grid_template_columns": null,
            "grid_template_rows": null,
            "height": null,
            "justify_content": null,
            "justify_items": null,
            "left": null,
            "margin": null,
            "max_height": null,
            "max_width": null,
            "min_height": null,
            "min_width": null,
            "object_fit": null,
            "object_position": null,
            "order": null,
            "overflow": null,
            "overflow_x": null,
            "overflow_y": null,
            "padding": null,
            "right": null,
            "top": null,
            "visibility": null,
            "width": null
          }
        },
        "66ba9b6f4f514f99afcb6a378f3f27b6": {
          "model_module": "@jupyter-widgets/controls",
          "model_name": "ProgressStyleModel",
          "model_module_version": "1.5.0",
          "state": {
            "_model_module": "@jupyter-widgets/controls",
            "_model_module_version": "1.5.0",
            "_model_name": "ProgressStyleModel",
            "_view_count": null,
            "_view_module": "@jupyter-widgets/base",
            "_view_module_version": "1.2.0",
            "_view_name": "StyleView",
            "bar_color": null,
            "description_width": ""
          }
        },
        "7ec8d5a0d4fa426d93c8d5d19aa83fbe": {
          "model_module": "@jupyter-widgets/base",
          "model_name": "LayoutModel",
          "model_module_version": "1.2.0",
          "state": {
            "_model_module": "@jupyter-widgets/base",
            "_model_module_version": "1.2.0",
            "_model_name": "LayoutModel",
            "_view_count": null,
            "_view_module": "@jupyter-widgets/base",
            "_view_module_version": "1.2.0",
            "_view_name": "LayoutView",
            "align_content": null,
            "align_items": null,
            "align_self": null,
            "border": null,
            "bottom": null,
            "display": null,
            "flex": null,
            "flex_flow": null,
            "grid_area": null,
            "grid_auto_columns": null,
            "grid_auto_flow": null,
            "grid_auto_rows": null,
            "grid_column": null,
            "grid_gap": null,
            "grid_row": null,
            "grid_template_areas": null,
            "grid_template_columns": null,
            "grid_template_rows": null,
            "height": null,
            "justify_content": null,
            "justify_items": null,
            "left": null,
            "margin": null,
            "max_height": null,
            "max_width": null,
            "min_height": null,
            "min_width": null,
            "object_fit": null,
            "object_position": null,
            "order": null,
            "overflow": null,
            "overflow_x": null,
            "overflow_y": null,
            "padding": null,
            "right": null,
            "top": null,
            "visibility": null,
            "width": null
          }
        },
        "c76db8a774ef4abf8be70121f3381002": {
          "model_module": "@jupyter-widgets/controls",
          "model_name": "DescriptionStyleModel",
          "model_module_version": "1.5.0",
          "state": {
            "_model_module": "@jupyter-widgets/controls",
            "_model_module_version": "1.5.0",
            "_model_name": "DescriptionStyleModel",
            "_view_count": null,
            "_view_module": "@jupyter-widgets/base",
            "_view_module_version": "1.2.0",
            "_view_name": "StyleView",
            "description_width": ""
          }
        },
        "4d21abf856d74e80af13c4ddc12045b4": {
          "model_module": "@jupyter-widgets/controls",
          "model_name": "HBoxModel",
          "model_module_version": "1.5.0",
          "state": {
            "_dom_classes": [],
            "_model_module": "@jupyter-widgets/controls",
            "_model_module_version": "1.5.0",
            "_model_name": "HBoxModel",
            "_view_count": null,
            "_view_module": "@jupyter-widgets/controls",
            "_view_module_version": "1.5.0",
            "_view_name": "HBoxView",
            "box_style": "",
            "children": [
              "IPY_MODEL_e8dc628200ef4b5e8c46a87b4b507161",
              "IPY_MODEL_65c3bf85678d463db17c2a5756149bac",
              "IPY_MODEL_d3b98c0c2fd5478fbdf85399b763bc45"
            ],
            "layout": "IPY_MODEL_dc11916140fd414fb6739bc4e9b0ec30"
          }
        },
        "e8dc628200ef4b5e8c46a87b4b507161": {
          "model_module": "@jupyter-widgets/controls",
          "model_name": "HTMLModel",
          "model_module_version": "1.5.0",
          "state": {
            "_dom_classes": [],
            "_model_module": "@jupyter-widgets/controls",
            "_model_module_version": "1.5.0",
            "_model_name": "HTMLModel",
            "_view_count": null,
            "_view_module": "@jupyter-widgets/controls",
            "_view_module_version": "1.5.0",
            "_view_name": "HTMLView",
            "description": "",
            "description_tooltip": null,
            "layout": "IPY_MODEL_89c500eb6db04c02aead78db491b770a",
            "placeholder": "​",
            "style": "IPY_MODEL_4af777913f42405c9b43f21a9946d22d",
            "value": "config.json: 100%"
          }
        },
        "65c3bf85678d463db17c2a5756149bac": {
          "model_module": "@jupyter-widgets/controls",
          "model_name": "FloatProgressModel",
          "model_module_version": "1.5.0",
          "state": {
            "_dom_classes": [],
            "_model_module": "@jupyter-widgets/controls",
            "_model_module_version": "1.5.0",
            "_model_name": "FloatProgressModel",
            "_view_count": null,
            "_view_module": "@jupyter-widgets/controls",
            "_view_module_version": "1.5.0",
            "_view_name": "ProgressView",
            "bar_style": "success",
            "description": "",
            "description_tooltip": null,
            "layout": "IPY_MODEL_cd45b579cea94745b36b00aa998dac0a",
            "max": 571,
            "min": 0,
            "orientation": "horizontal",
            "style": "IPY_MODEL_2cdd3feb8ce24f4ea384fc66eceaf378",
            "value": 571
          }
        },
        "d3b98c0c2fd5478fbdf85399b763bc45": {
          "model_module": "@jupyter-widgets/controls",
          "model_name": "HTMLModel",
          "model_module_version": "1.5.0",
          "state": {
            "_dom_classes": [],
            "_model_module": "@jupyter-widgets/controls",
            "_model_module_version": "1.5.0",
            "_model_name": "HTMLModel",
            "_view_count": null,
            "_view_module": "@jupyter-widgets/controls",
            "_view_module_version": "1.5.0",
            "_view_name": "HTMLView",
            "description": "",
            "description_tooltip": null,
            "layout": "IPY_MODEL_fea0c31668c64d2fb03a8f273c7c6545",
            "placeholder": "​",
            "style": "IPY_MODEL_6a87ea1180584967b5545879db71801e",
            "value": " 571/571 [00:00&lt;00:00, 31.3kB/s]"
          }
        },
        "dc11916140fd414fb6739bc4e9b0ec30": {
          "model_module": "@jupyter-widgets/base",
          "model_name": "LayoutModel",
          "model_module_version": "1.2.0",
          "state": {
            "_model_module": "@jupyter-widgets/base",
            "_model_module_version": "1.2.0",
            "_model_name": "LayoutModel",
            "_view_count": null,
            "_view_module": "@jupyter-widgets/base",
            "_view_module_version": "1.2.0",
            "_view_name": "LayoutView",
            "align_content": null,
            "align_items": null,
            "align_self": null,
            "border": null,
            "bottom": null,
            "display": null,
            "flex": null,
            "flex_flow": null,
            "grid_area": null,
            "grid_auto_columns": null,
            "grid_auto_flow": null,
            "grid_auto_rows": null,
            "grid_column": null,
            "grid_gap": null,
            "grid_row": null,
            "grid_template_areas": null,
            "grid_template_columns": null,
            "grid_template_rows": null,
            "height": null,
            "justify_content": null,
            "justify_items": null,
            "left": null,
            "margin": null,
            "max_height": null,
            "max_width": null,
            "min_height": null,
            "min_width": null,
            "object_fit": null,
            "object_position": null,
            "order": null,
            "overflow": null,
            "overflow_x": null,
            "overflow_y": null,
            "padding": null,
            "right": null,
            "top": null,
            "visibility": null,
            "width": null
          }
        },
        "89c500eb6db04c02aead78db491b770a": {
          "model_module": "@jupyter-widgets/base",
          "model_name": "LayoutModel",
          "model_module_version": "1.2.0",
          "state": {
            "_model_module": "@jupyter-widgets/base",
            "_model_module_version": "1.2.0",
            "_model_name": "LayoutModel",
            "_view_count": null,
            "_view_module": "@jupyter-widgets/base",
            "_view_module_version": "1.2.0",
            "_view_name": "LayoutView",
            "align_content": null,
            "align_items": null,
            "align_self": null,
            "border": null,
            "bottom": null,
            "display": null,
            "flex": null,
            "flex_flow": null,
            "grid_area": null,
            "grid_auto_columns": null,
            "grid_auto_flow": null,
            "grid_auto_rows": null,
            "grid_column": null,
            "grid_gap": null,
            "grid_row": null,
            "grid_template_areas": null,
            "grid_template_columns": null,
            "grid_template_rows": null,
            "height": null,
            "justify_content": null,
            "justify_items": null,
            "left": null,
            "margin": null,
            "max_height": null,
            "max_width": null,
            "min_height": null,
            "min_width": null,
            "object_fit": null,
            "object_position": null,
            "order": null,
            "overflow": null,
            "overflow_x": null,
            "overflow_y": null,
            "padding": null,
            "right": null,
            "top": null,
            "visibility": null,
            "width": null
          }
        },
        "4af777913f42405c9b43f21a9946d22d": {
          "model_module": "@jupyter-widgets/controls",
          "model_name": "DescriptionStyleModel",
          "model_module_version": "1.5.0",
          "state": {
            "_model_module": "@jupyter-widgets/controls",
            "_model_module_version": "1.5.0",
            "_model_name": "DescriptionStyleModel",
            "_view_count": null,
            "_view_module": "@jupyter-widgets/base",
            "_view_module_version": "1.2.0",
            "_view_name": "StyleView",
            "description_width": ""
          }
        },
        "cd45b579cea94745b36b00aa998dac0a": {
          "model_module": "@jupyter-widgets/base",
          "model_name": "LayoutModel",
          "model_module_version": "1.2.0",
          "state": {
            "_model_module": "@jupyter-widgets/base",
            "_model_module_version": "1.2.0",
            "_model_name": "LayoutModel",
            "_view_count": null,
            "_view_module": "@jupyter-widgets/base",
            "_view_module_version": "1.2.0",
            "_view_name": "LayoutView",
            "align_content": null,
            "align_items": null,
            "align_self": null,
            "border": null,
            "bottom": null,
            "display": null,
            "flex": null,
            "flex_flow": null,
            "grid_area": null,
            "grid_auto_columns": null,
            "grid_auto_flow": null,
            "grid_auto_rows": null,
            "grid_column": null,
            "grid_gap": null,
            "grid_row": null,
            "grid_template_areas": null,
            "grid_template_columns": null,
            "grid_template_rows": null,
            "height": null,
            "justify_content": null,
            "justify_items": null,
            "left": null,
            "margin": null,
            "max_height": null,
            "max_width": null,
            "min_height": null,
            "min_width": null,
            "object_fit": null,
            "object_position": null,
            "order": null,
            "overflow": null,
            "overflow_x": null,
            "overflow_y": null,
            "padding": null,
            "right": null,
            "top": null,
            "visibility": null,
            "width": null
          }
        },
        "2cdd3feb8ce24f4ea384fc66eceaf378": {
          "model_module": "@jupyter-widgets/controls",
          "model_name": "ProgressStyleModel",
          "model_module_version": "1.5.0",
          "state": {
            "_model_module": "@jupyter-widgets/controls",
            "_model_module_version": "1.5.0",
            "_model_name": "ProgressStyleModel",
            "_view_count": null,
            "_view_module": "@jupyter-widgets/base",
            "_view_module_version": "1.2.0",
            "_view_name": "StyleView",
            "bar_color": null,
            "description_width": ""
          }
        },
        "fea0c31668c64d2fb03a8f273c7c6545": {
          "model_module": "@jupyter-widgets/base",
          "model_name": "LayoutModel",
          "model_module_version": "1.2.0",
          "state": {
            "_model_module": "@jupyter-widgets/base",
            "_model_module_version": "1.2.0",
            "_model_name": "LayoutModel",
            "_view_count": null,
            "_view_module": "@jupyter-widgets/base",
            "_view_module_version": "1.2.0",
            "_view_name": "LayoutView",
            "align_content": null,
            "align_items": null,
            "align_self": null,
            "border": null,
            "bottom": null,
            "display": null,
            "flex": null,
            "flex_flow": null,
            "grid_area": null,
            "grid_auto_columns": null,
            "grid_auto_flow": null,
            "grid_auto_rows": null,
            "grid_column": null,
            "grid_gap": null,
            "grid_row": null,
            "grid_template_areas": null,
            "grid_template_columns": null,
            "grid_template_rows": null,
            "height": null,
            "justify_content": null,
            "justify_items": null,
            "left": null,
            "margin": null,
            "max_height": null,
            "max_width": null,
            "min_height": null,
            "min_width": null,
            "object_fit": null,
            "object_position": null,
            "order": null,
            "overflow": null,
            "overflow_x": null,
            "overflow_y": null,
            "padding": null,
            "right": null,
            "top": null,
            "visibility": null,
            "width": null
          }
        },
        "6a87ea1180584967b5545879db71801e": {
          "model_module": "@jupyter-widgets/controls",
          "model_name": "DescriptionStyleModel",
          "model_module_version": "1.5.0",
          "state": {
            "_model_module": "@jupyter-widgets/controls",
            "_model_module_version": "1.5.0",
            "_model_name": "DescriptionStyleModel",
            "_view_count": null,
            "_view_module": "@jupyter-widgets/base",
            "_view_module_version": "1.2.0",
            "_view_name": "StyleView",
            "description_width": ""
          }
        },
        "8f6f20c6425d4192b9123118a64fda1a": {
          "model_module": "@jupyter-widgets/controls",
          "model_name": "HBoxModel",
          "model_module_version": "1.5.0",
          "state": {
            "_dom_classes": [],
            "_model_module": "@jupyter-widgets/controls",
            "_model_module_version": "1.5.0",
            "_model_name": "HBoxModel",
            "_view_count": null,
            "_view_module": "@jupyter-widgets/controls",
            "_view_module_version": "1.5.0",
            "_view_name": "HBoxView",
            "box_style": "",
            "children": [
              "IPY_MODEL_b3bb2848ca3044be91d84f602ad953f0",
              "IPY_MODEL_6e16512a809a4ff7a3a1fe7191bf116c",
              "IPY_MODEL_4b69d7f2ea5f484ab4780da716cf0795"
            ],
            "layout": "IPY_MODEL_2ac398231cf84603aa12738d5539ce33"
          }
        },
        "b3bb2848ca3044be91d84f602ad953f0": {
          "model_module": "@jupyter-widgets/controls",
          "model_name": "HTMLModel",
          "model_module_version": "1.5.0",
          "state": {
            "_dom_classes": [],
            "_model_module": "@jupyter-widgets/controls",
            "_model_module_version": "1.5.0",
            "_model_name": "HTMLModel",
            "_view_count": null,
            "_view_module": "@jupyter-widgets/controls",
            "_view_module_version": "1.5.0",
            "_view_name": "HTMLView",
            "description": "",
            "description_tooltip": null,
            "layout": "IPY_MODEL_33a318b447c74de48c4945f82a3815da",
            "placeholder": "​",
            "style": "IPY_MODEL_f0d3f6dbda944974ba59907d2795bc5c",
            "value": "model.safetensors: 100%"
          }
        },
        "6e16512a809a4ff7a3a1fe7191bf116c": {
          "model_module": "@jupyter-widgets/controls",
          "model_name": "FloatProgressModel",
          "model_module_version": "1.5.0",
          "state": {
            "_dom_classes": [],
            "_model_module": "@jupyter-widgets/controls",
            "_model_module_version": "1.5.0",
            "_model_name": "FloatProgressModel",
            "_view_count": null,
            "_view_module": "@jupyter-widgets/controls",
            "_view_module_version": "1.5.0",
            "_view_name": "ProgressView",
            "bar_style": "success",
            "description": "",
            "description_tooltip": null,
            "layout": "IPY_MODEL_4807b590c2274e5a9dfba29425016c40",
            "max": 437971872,
            "min": 0,
            "orientation": "horizontal",
            "style": "IPY_MODEL_53c7c3b6585e49dc9688bf7bf0cc59cd",
            "value": 437971872
          }
        },
        "4b69d7f2ea5f484ab4780da716cf0795": {
          "model_module": "@jupyter-widgets/controls",
          "model_name": "HTMLModel",
          "model_module_version": "1.5.0",
          "state": {
            "_dom_classes": [],
            "_model_module": "@jupyter-widgets/controls",
            "_model_module_version": "1.5.0",
            "_model_name": "HTMLModel",
            "_view_count": null,
            "_view_module": "@jupyter-widgets/controls",
            "_view_module_version": "1.5.0",
            "_view_name": "HTMLView",
            "description": "",
            "description_tooltip": null,
            "layout": "IPY_MODEL_42512931bc424567b5992047f398b36e",
            "placeholder": "​",
            "style": "IPY_MODEL_831d5f9ce1e047f788567b31947ed8a3",
            "value": " 438M/438M [00:05&lt;00:00, 111MB/s]"
          }
        },
        "2ac398231cf84603aa12738d5539ce33": {
          "model_module": "@jupyter-widgets/base",
          "model_name": "LayoutModel",
          "model_module_version": "1.2.0",
          "state": {
            "_model_module": "@jupyter-widgets/base",
            "_model_module_version": "1.2.0",
            "_model_name": "LayoutModel",
            "_view_count": null,
            "_view_module": "@jupyter-widgets/base",
            "_view_module_version": "1.2.0",
            "_view_name": "LayoutView",
            "align_content": null,
            "align_items": null,
            "align_self": null,
            "border": null,
            "bottom": null,
            "display": null,
            "flex": null,
            "flex_flow": null,
            "grid_area": null,
            "grid_auto_columns": null,
            "grid_auto_flow": null,
            "grid_auto_rows": null,
            "grid_column": null,
            "grid_gap": null,
            "grid_row": null,
            "grid_template_areas": null,
            "grid_template_columns": null,
            "grid_template_rows": null,
            "height": null,
            "justify_content": null,
            "justify_items": null,
            "left": null,
            "margin": null,
            "max_height": null,
            "max_width": null,
            "min_height": null,
            "min_width": null,
            "object_fit": null,
            "object_position": null,
            "order": null,
            "overflow": null,
            "overflow_x": null,
            "overflow_y": null,
            "padding": null,
            "right": null,
            "top": null,
            "visibility": null,
            "width": null
          }
        },
        "33a318b447c74de48c4945f82a3815da": {
          "model_module": "@jupyter-widgets/base",
          "model_name": "LayoutModel",
          "model_module_version": "1.2.0",
          "state": {
            "_model_module": "@jupyter-widgets/base",
            "_model_module_version": "1.2.0",
            "_model_name": "LayoutModel",
            "_view_count": null,
            "_view_module": "@jupyter-widgets/base",
            "_view_module_version": "1.2.0",
            "_view_name": "LayoutView",
            "align_content": null,
            "align_items": null,
            "align_self": null,
            "border": null,
            "bottom": null,
            "display": null,
            "flex": null,
            "flex_flow": null,
            "grid_area": null,
            "grid_auto_columns": null,
            "grid_auto_flow": null,
            "grid_auto_rows": null,
            "grid_column": null,
            "grid_gap": null,
            "grid_row": null,
            "grid_template_areas": null,
            "grid_template_columns": null,
            "grid_template_rows": null,
            "height": null,
            "justify_content": null,
            "justify_items": null,
            "left": null,
            "margin": null,
            "max_height": null,
            "max_width": null,
            "min_height": null,
            "min_width": null,
            "object_fit": null,
            "object_position": null,
            "order": null,
            "overflow": null,
            "overflow_x": null,
            "overflow_y": null,
            "padding": null,
            "right": null,
            "top": null,
            "visibility": null,
            "width": null
          }
        },
        "f0d3f6dbda944974ba59907d2795bc5c": {
          "model_module": "@jupyter-widgets/controls",
          "model_name": "DescriptionStyleModel",
          "model_module_version": "1.5.0",
          "state": {
            "_model_module": "@jupyter-widgets/controls",
            "_model_module_version": "1.5.0",
            "_model_name": "DescriptionStyleModel",
            "_view_count": null,
            "_view_module": "@jupyter-widgets/base",
            "_view_module_version": "1.2.0",
            "_view_name": "StyleView",
            "description_width": ""
          }
        },
        "4807b590c2274e5a9dfba29425016c40": {
          "model_module": "@jupyter-widgets/base",
          "model_name": "LayoutModel",
          "model_module_version": "1.2.0",
          "state": {
            "_model_module": "@jupyter-widgets/base",
            "_model_module_version": "1.2.0",
            "_model_name": "LayoutModel",
            "_view_count": null,
            "_view_module": "@jupyter-widgets/base",
            "_view_module_version": "1.2.0",
            "_view_name": "LayoutView",
            "align_content": null,
            "align_items": null,
            "align_self": null,
            "border": null,
            "bottom": null,
            "display": null,
            "flex": null,
            "flex_flow": null,
            "grid_area": null,
            "grid_auto_columns": null,
            "grid_auto_flow": null,
            "grid_auto_rows": null,
            "grid_column": null,
            "grid_gap": null,
            "grid_row": null,
            "grid_template_areas": null,
            "grid_template_columns": null,
            "grid_template_rows": null,
            "height": null,
            "justify_content": null,
            "justify_items": null,
            "left": null,
            "margin": null,
            "max_height": null,
            "max_width": null,
            "min_height": null,
            "min_width": null,
            "object_fit": null,
            "object_position": null,
            "order": null,
            "overflow": null,
            "overflow_x": null,
            "overflow_y": null,
            "padding": null,
            "right": null,
            "top": null,
            "visibility": null,
            "width": null
          }
        },
        "53c7c3b6585e49dc9688bf7bf0cc59cd": {
          "model_module": "@jupyter-widgets/controls",
          "model_name": "ProgressStyleModel",
          "model_module_version": "1.5.0",
          "state": {
            "_model_module": "@jupyter-widgets/controls",
            "_model_module_version": "1.5.0",
            "_model_name": "ProgressStyleModel",
            "_view_count": null,
            "_view_module": "@jupyter-widgets/base",
            "_view_module_version": "1.2.0",
            "_view_name": "StyleView",
            "bar_color": null,
            "description_width": ""
          }
        },
        "42512931bc424567b5992047f398b36e": {
          "model_module": "@jupyter-widgets/base",
          "model_name": "LayoutModel",
          "model_module_version": "1.2.0",
          "state": {
            "_model_module": "@jupyter-widgets/base",
            "_model_module_version": "1.2.0",
            "_model_name": "LayoutModel",
            "_view_count": null,
            "_view_module": "@jupyter-widgets/base",
            "_view_module_version": "1.2.0",
            "_view_name": "LayoutView",
            "align_content": null,
            "align_items": null,
            "align_self": null,
            "border": null,
            "bottom": null,
            "display": null,
            "flex": null,
            "flex_flow": null,
            "grid_area": null,
            "grid_auto_columns": null,
            "grid_auto_flow": null,
            "grid_auto_rows": null,
            "grid_column": null,
            "grid_gap": null,
            "grid_row": null,
            "grid_template_areas": null,
            "grid_template_columns": null,
            "grid_template_rows": null,
            "height": null,
            "justify_content": null,
            "justify_items": null,
            "left": null,
            "margin": null,
            "max_height": null,
            "max_width": null,
            "min_height": null,
            "min_width": null,
            "object_fit": null,
            "object_position": null,
            "order": null,
            "overflow": null,
            "overflow_x": null,
            "overflow_y": null,
            "padding": null,
            "right": null,
            "top": null,
            "visibility": null,
            "width": null
          }
        },
        "831d5f9ce1e047f788567b31947ed8a3": {
          "model_module": "@jupyter-widgets/controls",
          "model_name": "DescriptionStyleModel",
          "model_module_version": "1.5.0",
          "state": {
            "_model_module": "@jupyter-widgets/controls",
            "_model_module_version": "1.5.0",
            "_model_name": "DescriptionStyleModel",
            "_view_count": null,
            "_view_module": "@jupyter-widgets/base",
            "_view_module_version": "1.2.0",
            "_view_name": "StyleView",
            "description_width": ""
          }
        },
        "c9f211942e2347359c993ccdfea31678": {
          "model_module": "@jupyter-widgets/controls",
          "model_name": "HBoxModel",
          "model_module_version": "1.5.0",
          "state": {
            "_dom_classes": [],
            "_model_module": "@jupyter-widgets/controls",
            "_model_module_version": "1.5.0",
            "_model_name": "HBoxModel",
            "_view_count": null,
            "_view_module": "@jupyter-widgets/controls",
            "_view_module_version": "1.5.0",
            "_view_name": "HBoxView",
            "box_style": "",
            "children": [
              "IPY_MODEL_912851a30f6444efac9c9f3a5c0d3975",
              "IPY_MODEL_b49495381eac4a569a09b975f2919321",
              "IPY_MODEL_744105dbc9df4e9298ea30512e970b9c"
            ],
            "layout": "IPY_MODEL_8a2208a4e85343359378222ed7f18c32"
          }
        },
        "912851a30f6444efac9c9f3a5c0d3975": {
          "model_module": "@jupyter-widgets/controls",
          "model_name": "HTMLModel",
          "model_module_version": "1.5.0",
          "state": {
            "_dom_classes": [],
            "_model_module": "@jupyter-widgets/controls",
            "_model_module_version": "1.5.0",
            "_model_name": "HTMLModel",
            "_view_count": null,
            "_view_module": "@jupyter-widgets/controls",
            "_view_module_version": "1.5.0",
            "_view_name": "HTMLView",
            "description": "",
            "description_tooltip": null,
            "layout": "IPY_MODEL_56e6e4d309db4dd68655916c7127741a",
            "placeholder": "​",
            "style": "IPY_MODEL_9d8a8ecdcd34466fa40d3610738430b9",
            "value": "tokenizer_config.json: 100%"
          }
        },
        "b49495381eac4a569a09b975f2919321": {
          "model_module": "@jupyter-widgets/controls",
          "model_name": "FloatProgressModel",
          "model_module_version": "1.5.0",
          "state": {
            "_dom_classes": [],
            "_model_module": "@jupyter-widgets/controls",
            "_model_module_version": "1.5.0",
            "_model_name": "FloatProgressModel",
            "_view_count": null,
            "_view_module": "@jupyter-widgets/controls",
            "_view_module_version": "1.5.0",
            "_view_name": "ProgressView",
            "bar_style": "success",
            "description": "",
            "description_tooltip": null,
            "layout": "IPY_MODEL_b4792e5f99214034859995bf931066ed",
            "max": 363,
            "min": 0,
            "orientation": "horizontal",
            "style": "IPY_MODEL_96a409242c54423bb781ec374679e11f",
            "value": 363
          }
        },
        "744105dbc9df4e9298ea30512e970b9c": {
          "model_module": "@jupyter-widgets/controls",
          "model_name": "HTMLModel",
          "model_module_version": "1.5.0",
          "state": {
            "_dom_classes": [],
            "_model_module": "@jupyter-widgets/controls",
            "_model_module_version": "1.5.0",
            "_model_name": "HTMLModel",
            "_view_count": null,
            "_view_module": "@jupyter-widgets/controls",
            "_view_module_version": "1.5.0",
            "_view_name": "HTMLView",
            "description": "",
            "description_tooltip": null,
            "layout": "IPY_MODEL_490913a34ade45afaf2ca95c66e93408",
            "placeholder": "​",
            "style": "IPY_MODEL_bdbd6d25b91145c396fdec4ffcf7cc80",
            "value": " 363/363 [00:00&lt;00:00, 17.9kB/s]"
          }
        },
        "8a2208a4e85343359378222ed7f18c32": {
          "model_module": "@jupyter-widgets/base",
          "model_name": "LayoutModel",
          "model_module_version": "1.2.0",
          "state": {
            "_model_module": "@jupyter-widgets/base",
            "_model_module_version": "1.2.0",
            "_model_name": "LayoutModel",
            "_view_count": null,
            "_view_module": "@jupyter-widgets/base",
            "_view_module_version": "1.2.0",
            "_view_name": "LayoutView",
            "align_content": null,
            "align_items": null,
            "align_self": null,
            "border": null,
            "bottom": null,
            "display": null,
            "flex": null,
            "flex_flow": null,
            "grid_area": null,
            "grid_auto_columns": null,
            "grid_auto_flow": null,
            "grid_auto_rows": null,
            "grid_column": null,
            "grid_gap": null,
            "grid_row": null,
            "grid_template_areas": null,
            "grid_template_columns": null,
            "grid_template_rows": null,
            "height": null,
            "justify_content": null,
            "justify_items": null,
            "left": null,
            "margin": null,
            "max_height": null,
            "max_width": null,
            "min_height": null,
            "min_width": null,
            "object_fit": null,
            "object_position": null,
            "order": null,
            "overflow": null,
            "overflow_x": null,
            "overflow_y": null,
            "padding": null,
            "right": null,
            "top": null,
            "visibility": null,
            "width": null
          }
        },
        "56e6e4d309db4dd68655916c7127741a": {
          "model_module": "@jupyter-widgets/base",
          "model_name": "LayoutModel",
          "model_module_version": "1.2.0",
          "state": {
            "_model_module": "@jupyter-widgets/base",
            "_model_module_version": "1.2.0",
            "_model_name": "LayoutModel",
            "_view_count": null,
            "_view_module": "@jupyter-widgets/base",
            "_view_module_version": "1.2.0",
            "_view_name": "LayoutView",
            "align_content": null,
            "align_items": null,
            "align_self": null,
            "border": null,
            "bottom": null,
            "display": null,
            "flex": null,
            "flex_flow": null,
            "grid_area": null,
            "grid_auto_columns": null,
            "grid_auto_flow": null,
            "grid_auto_rows": null,
            "grid_column": null,
            "grid_gap": null,
            "grid_row": null,
            "grid_template_areas": null,
            "grid_template_columns": null,
            "grid_template_rows": null,
            "height": null,
            "justify_content": null,
            "justify_items": null,
            "left": null,
            "margin": null,
            "max_height": null,
            "max_width": null,
            "min_height": null,
            "min_width": null,
            "object_fit": null,
            "object_position": null,
            "order": null,
            "overflow": null,
            "overflow_x": null,
            "overflow_y": null,
            "padding": null,
            "right": null,
            "top": null,
            "visibility": null,
            "width": null
          }
        },
        "9d8a8ecdcd34466fa40d3610738430b9": {
          "model_module": "@jupyter-widgets/controls",
          "model_name": "DescriptionStyleModel",
          "model_module_version": "1.5.0",
          "state": {
            "_model_module": "@jupyter-widgets/controls",
            "_model_module_version": "1.5.0",
            "_model_name": "DescriptionStyleModel",
            "_view_count": null,
            "_view_module": "@jupyter-widgets/base",
            "_view_module_version": "1.2.0",
            "_view_name": "StyleView",
            "description_width": ""
          }
        },
        "b4792e5f99214034859995bf931066ed": {
          "model_module": "@jupyter-widgets/base",
          "model_name": "LayoutModel",
          "model_module_version": "1.2.0",
          "state": {
            "_model_module": "@jupyter-widgets/base",
            "_model_module_version": "1.2.0",
            "_model_name": "LayoutModel",
            "_view_count": null,
            "_view_module": "@jupyter-widgets/base",
            "_view_module_version": "1.2.0",
            "_view_name": "LayoutView",
            "align_content": null,
            "align_items": null,
            "align_self": null,
            "border": null,
            "bottom": null,
            "display": null,
            "flex": null,
            "flex_flow": null,
            "grid_area": null,
            "grid_auto_columns": null,
            "grid_auto_flow": null,
            "grid_auto_rows": null,
            "grid_column": null,
            "grid_gap": null,
            "grid_row": null,
            "grid_template_areas": null,
            "grid_template_columns": null,
            "grid_template_rows": null,
            "height": null,
            "justify_content": null,
            "justify_items": null,
            "left": null,
            "margin": null,
            "max_height": null,
            "max_width": null,
            "min_height": null,
            "min_width": null,
            "object_fit": null,
            "object_position": null,
            "order": null,
            "overflow": null,
            "overflow_x": null,
            "overflow_y": null,
            "padding": null,
            "right": null,
            "top": null,
            "visibility": null,
            "width": null
          }
        },
        "96a409242c54423bb781ec374679e11f": {
          "model_module": "@jupyter-widgets/controls",
          "model_name": "ProgressStyleModel",
          "model_module_version": "1.5.0",
          "state": {
            "_model_module": "@jupyter-widgets/controls",
            "_model_module_version": "1.5.0",
            "_model_name": "ProgressStyleModel",
            "_view_count": null,
            "_view_module": "@jupyter-widgets/base",
            "_view_module_version": "1.2.0",
            "_view_name": "StyleView",
            "bar_color": null,
            "description_width": ""
          }
        },
        "490913a34ade45afaf2ca95c66e93408": {
          "model_module": "@jupyter-widgets/base",
          "model_name": "LayoutModel",
          "model_module_version": "1.2.0",
          "state": {
            "_model_module": "@jupyter-widgets/base",
            "_model_module_version": "1.2.0",
            "_model_name": "LayoutModel",
            "_view_count": null,
            "_view_module": "@jupyter-widgets/base",
            "_view_module_version": "1.2.0",
            "_view_name": "LayoutView",
            "align_content": null,
            "align_items": null,
            "align_self": null,
            "border": null,
            "bottom": null,
            "display": null,
            "flex": null,
            "flex_flow": null,
            "grid_area": null,
            "grid_auto_columns": null,
            "grid_auto_flow": null,
            "grid_auto_rows": null,
            "grid_column": null,
            "grid_gap": null,
            "grid_row": null,
            "grid_template_areas": null,
            "grid_template_columns": null,
            "grid_template_rows": null,
            "height": null,
            "justify_content": null,
            "justify_items": null,
            "left": null,
            "margin": null,
            "max_height": null,
            "max_width": null,
            "min_height": null,
            "min_width": null,
            "object_fit": null,
            "object_position": null,
            "order": null,
            "overflow": null,
            "overflow_x": null,
            "overflow_y": null,
            "padding": null,
            "right": null,
            "top": null,
            "visibility": null,
            "width": null
          }
        },
        "bdbd6d25b91145c396fdec4ffcf7cc80": {
          "model_module": "@jupyter-widgets/controls",
          "model_name": "DescriptionStyleModel",
          "model_module_version": "1.5.0",
          "state": {
            "_model_module": "@jupyter-widgets/controls",
            "_model_module_version": "1.5.0",
            "_model_name": "DescriptionStyleModel",
            "_view_count": null,
            "_view_module": "@jupyter-widgets/base",
            "_view_module_version": "1.2.0",
            "_view_name": "StyleView",
            "description_width": ""
          }
        },
        "bccba6216acc4cc9ac1f38e5ac658e3a": {
          "model_module": "@jupyter-widgets/controls",
          "model_name": "HBoxModel",
          "model_module_version": "1.5.0",
          "state": {
            "_dom_classes": [],
            "_model_module": "@jupyter-widgets/controls",
            "_model_module_version": "1.5.0",
            "_model_name": "HBoxModel",
            "_view_count": null,
            "_view_module": "@jupyter-widgets/controls",
            "_view_module_version": "1.5.0",
            "_view_name": "HBoxView",
            "box_style": "",
            "children": [
              "IPY_MODEL_9aa65a6c98a44d40ab3b2f916bad9d41",
              "IPY_MODEL_ede283b05f4f4b0e8bcce2f8fea739cb",
              "IPY_MODEL_ae1df0ec0ddf4f2fa247875d1ba15cdf"
            ],
            "layout": "IPY_MODEL_bbc828fe3d604ce0af03dae325b4f899"
          }
        },
        "9aa65a6c98a44d40ab3b2f916bad9d41": {
          "model_module": "@jupyter-widgets/controls",
          "model_name": "HTMLModel",
          "model_module_version": "1.5.0",
          "state": {
            "_dom_classes": [],
            "_model_module": "@jupyter-widgets/controls",
            "_model_module_version": "1.5.0",
            "_model_name": "HTMLModel",
            "_view_count": null,
            "_view_module": "@jupyter-widgets/controls",
            "_view_module_version": "1.5.0",
            "_view_name": "HTMLView",
            "description": "",
            "description_tooltip": null,
            "layout": "IPY_MODEL_4a656d5f59534c99a36b2acd54ea8110",
            "placeholder": "​",
            "style": "IPY_MODEL_71adb42173264f6bb1bc0d3f26378217",
            "value": "vocab.txt: 100%"
          }
        },
        "ede283b05f4f4b0e8bcce2f8fea739cb": {
          "model_module": "@jupyter-widgets/controls",
          "model_name": "FloatProgressModel",
          "model_module_version": "1.5.0",
          "state": {
            "_dom_classes": [],
            "_model_module": "@jupyter-widgets/controls",
            "_model_module_version": "1.5.0",
            "_model_name": "FloatProgressModel",
            "_view_count": null,
            "_view_module": "@jupyter-widgets/controls",
            "_view_module_version": "1.5.0",
            "_view_name": "ProgressView",
            "bar_style": "success",
            "description": "",
            "description_tooltip": null,
            "layout": "IPY_MODEL_d7523caaadd54465ba0de976d5182871",
            "max": 231536,
            "min": 0,
            "orientation": "horizontal",
            "style": "IPY_MODEL_634e794e356143e2b70af21d8e142749",
            "value": 231536
          }
        },
        "ae1df0ec0ddf4f2fa247875d1ba15cdf": {
          "model_module": "@jupyter-widgets/controls",
          "model_name": "HTMLModel",
          "model_module_version": "1.5.0",
          "state": {
            "_dom_classes": [],
            "_model_module": "@jupyter-widgets/controls",
            "_model_module_version": "1.5.0",
            "_model_name": "HTMLModel",
            "_view_count": null,
            "_view_module": "@jupyter-widgets/controls",
            "_view_module_version": "1.5.0",
            "_view_name": "HTMLView",
            "description": "",
            "description_tooltip": null,
            "layout": "IPY_MODEL_5efee3fb9ae641ccaec852b400473e52",
            "placeholder": "​",
            "style": "IPY_MODEL_871dd427c7724031b8aaf58b821993b1",
            "value": " 232k/232k [00:00&lt;00:00, 2.04MB/s]"
          }
        },
        "bbc828fe3d604ce0af03dae325b4f899": {
          "model_module": "@jupyter-widgets/base",
          "model_name": "LayoutModel",
          "model_module_version": "1.2.0",
          "state": {
            "_model_module": "@jupyter-widgets/base",
            "_model_module_version": "1.2.0",
            "_model_name": "LayoutModel",
            "_view_count": null,
            "_view_module": "@jupyter-widgets/base",
            "_view_module_version": "1.2.0",
            "_view_name": "LayoutView",
            "align_content": null,
            "align_items": null,
            "align_self": null,
            "border": null,
            "bottom": null,
            "display": null,
            "flex": null,
            "flex_flow": null,
            "grid_area": null,
            "grid_auto_columns": null,
            "grid_auto_flow": null,
            "grid_auto_rows": null,
            "grid_column": null,
            "grid_gap": null,
            "grid_row": null,
            "grid_template_areas": null,
            "grid_template_columns": null,
            "grid_template_rows": null,
            "height": null,
            "justify_content": null,
            "justify_items": null,
            "left": null,
            "margin": null,
            "max_height": null,
            "max_width": null,
            "min_height": null,
            "min_width": null,
            "object_fit": null,
            "object_position": null,
            "order": null,
            "overflow": null,
            "overflow_x": null,
            "overflow_y": null,
            "padding": null,
            "right": null,
            "top": null,
            "visibility": null,
            "width": null
          }
        },
        "4a656d5f59534c99a36b2acd54ea8110": {
          "model_module": "@jupyter-widgets/base",
          "model_name": "LayoutModel",
          "model_module_version": "1.2.0",
          "state": {
            "_model_module": "@jupyter-widgets/base",
            "_model_module_version": "1.2.0",
            "_model_name": "LayoutModel",
            "_view_count": null,
            "_view_module": "@jupyter-widgets/base",
            "_view_module_version": "1.2.0",
            "_view_name": "LayoutView",
            "align_content": null,
            "align_items": null,
            "align_self": null,
            "border": null,
            "bottom": null,
            "display": null,
            "flex": null,
            "flex_flow": null,
            "grid_area": null,
            "grid_auto_columns": null,
            "grid_auto_flow": null,
            "grid_auto_rows": null,
            "grid_column": null,
            "grid_gap": null,
            "grid_row": null,
            "grid_template_areas": null,
            "grid_template_columns": null,
            "grid_template_rows": null,
            "height": null,
            "justify_content": null,
            "justify_items": null,
            "left": null,
            "margin": null,
            "max_height": null,
            "max_width": null,
            "min_height": null,
            "min_width": null,
            "object_fit": null,
            "object_position": null,
            "order": null,
            "overflow": null,
            "overflow_x": null,
            "overflow_y": null,
            "padding": null,
            "right": null,
            "top": null,
            "visibility": null,
            "width": null
          }
        },
        "71adb42173264f6bb1bc0d3f26378217": {
          "model_module": "@jupyter-widgets/controls",
          "model_name": "DescriptionStyleModel",
          "model_module_version": "1.5.0",
          "state": {
            "_model_module": "@jupyter-widgets/controls",
            "_model_module_version": "1.5.0",
            "_model_name": "DescriptionStyleModel",
            "_view_count": null,
            "_view_module": "@jupyter-widgets/base",
            "_view_module_version": "1.2.0",
            "_view_name": "StyleView",
            "description_width": ""
          }
        },
        "d7523caaadd54465ba0de976d5182871": {
          "model_module": "@jupyter-widgets/base",
          "model_name": "LayoutModel",
          "model_module_version": "1.2.0",
          "state": {
            "_model_module": "@jupyter-widgets/base",
            "_model_module_version": "1.2.0",
            "_model_name": "LayoutModel",
            "_view_count": null,
            "_view_module": "@jupyter-widgets/base",
            "_view_module_version": "1.2.0",
            "_view_name": "LayoutView",
            "align_content": null,
            "align_items": null,
            "align_self": null,
            "border": null,
            "bottom": null,
            "display": null,
            "flex": null,
            "flex_flow": null,
            "grid_area": null,
            "grid_auto_columns": null,
            "grid_auto_flow": null,
            "grid_auto_rows": null,
            "grid_column": null,
            "grid_gap": null,
            "grid_row": null,
            "grid_template_areas": null,
            "grid_template_columns": null,
            "grid_template_rows": null,
            "height": null,
            "justify_content": null,
            "justify_items": null,
            "left": null,
            "margin": null,
            "max_height": null,
            "max_width": null,
            "min_height": null,
            "min_width": null,
            "object_fit": null,
            "object_position": null,
            "order": null,
            "overflow": null,
            "overflow_x": null,
            "overflow_y": null,
            "padding": null,
            "right": null,
            "top": null,
            "visibility": null,
            "width": null
          }
        },
        "634e794e356143e2b70af21d8e142749": {
          "model_module": "@jupyter-widgets/controls",
          "model_name": "ProgressStyleModel",
          "model_module_version": "1.5.0",
          "state": {
            "_model_module": "@jupyter-widgets/controls",
            "_model_module_version": "1.5.0",
            "_model_name": "ProgressStyleModel",
            "_view_count": null,
            "_view_module": "@jupyter-widgets/base",
            "_view_module_version": "1.2.0",
            "_view_name": "StyleView",
            "bar_color": null,
            "description_width": ""
          }
        },
        "5efee3fb9ae641ccaec852b400473e52": {
          "model_module": "@jupyter-widgets/base",
          "model_name": "LayoutModel",
          "model_module_version": "1.2.0",
          "state": {
            "_model_module": "@jupyter-widgets/base",
            "_model_module_version": "1.2.0",
            "_model_name": "LayoutModel",
            "_view_count": null,
            "_view_module": "@jupyter-widgets/base",
            "_view_module_version": "1.2.0",
            "_view_name": "LayoutView",
            "align_content": null,
            "align_items": null,
            "align_self": null,
            "border": null,
            "bottom": null,
            "display": null,
            "flex": null,
            "flex_flow": null,
            "grid_area": null,
            "grid_auto_columns": null,
            "grid_auto_flow": null,
            "grid_auto_rows": null,
            "grid_column": null,
            "grid_gap": null,
            "grid_row": null,
            "grid_template_areas": null,
            "grid_template_columns": null,
            "grid_template_rows": null,
            "height": null,
            "justify_content": null,
            "justify_items": null,
            "left": null,
            "margin": null,
            "max_height": null,
            "max_width": null,
            "min_height": null,
            "min_width": null,
            "object_fit": null,
            "object_position": null,
            "order": null,
            "overflow": null,
            "overflow_x": null,
            "overflow_y": null,
            "padding": null,
            "right": null,
            "top": null,
            "visibility": null,
            "width": null
          }
        },
        "871dd427c7724031b8aaf58b821993b1": {
          "model_module": "@jupyter-widgets/controls",
          "model_name": "DescriptionStyleModel",
          "model_module_version": "1.5.0",
          "state": {
            "_model_module": "@jupyter-widgets/controls",
            "_model_module_version": "1.5.0",
            "_model_name": "DescriptionStyleModel",
            "_view_count": null,
            "_view_module": "@jupyter-widgets/base",
            "_view_module_version": "1.2.0",
            "_view_name": "StyleView",
            "description_width": ""
          }
        },
        "0f12be63e8734306aeb4e700b1966635": {
          "model_module": "@jupyter-widgets/controls",
          "model_name": "HBoxModel",
          "model_module_version": "1.5.0",
          "state": {
            "_dom_classes": [],
            "_model_module": "@jupyter-widgets/controls",
            "_model_module_version": "1.5.0",
            "_model_name": "HBoxModel",
            "_view_count": null,
            "_view_module": "@jupyter-widgets/controls",
            "_view_module_version": "1.5.0",
            "_view_name": "HBoxView",
            "box_style": "",
            "children": [
              "IPY_MODEL_899b49c33fa0461eb6480455bfab98a2",
              "IPY_MODEL_1e37606dbc9f4ebbbd1ea2e7571799a8",
              "IPY_MODEL_072eee45b94c45dc8026fa9bdfa83d53"
            ],
            "layout": "IPY_MODEL_2b69054a5522431dbf6e4c89893ba525"
          }
        },
        "899b49c33fa0461eb6480455bfab98a2": {
          "model_module": "@jupyter-widgets/controls",
          "model_name": "HTMLModel",
          "model_module_version": "1.5.0",
          "state": {
            "_dom_classes": [],
            "_model_module": "@jupyter-widgets/controls",
            "_model_module_version": "1.5.0",
            "_model_name": "HTMLModel",
            "_view_count": null,
            "_view_module": "@jupyter-widgets/controls",
            "_view_module_version": "1.5.0",
            "_view_name": "HTMLView",
            "description": "",
            "description_tooltip": null,
            "layout": "IPY_MODEL_924c6bf544534a01b4e7aa4e4bfc24af",
            "placeholder": "​",
            "style": "IPY_MODEL_f84bd49e72854ff9abc5b830979aed11",
            "value": "tokenizer.json: 100%"
          }
        },
        "1e37606dbc9f4ebbbd1ea2e7571799a8": {
          "model_module": "@jupyter-widgets/controls",
          "model_name": "FloatProgressModel",
          "model_module_version": "1.5.0",
          "state": {
            "_dom_classes": [],
            "_model_module": "@jupyter-widgets/controls",
            "_model_module_version": "1.5.0",
            "_model_name": "FloatProgressModel",
            "_view_count": null,
            "_view_module": "@jupyter-widgets/controls",
            "_view_module_version": "1.5.0",
            "_view_name": "ProgressView",
            "bar_style": "success",
            "description": "",
            "description_tooltip": null,
            "layout": "IPY_MODEL_60ea9b8c8ec8477ca0ca35b1fdbf4caa",
            "max": 466021,
            "min": 0,
            "orientation": "horizontal",
            "style": "IPY_MODEL_d9a40af0597148588d884d2c6c17a544",
            "value": 466021
          }
        },
        "072eee45b94c45dc8026fa9bdfa83d53": {
          "model_module": "@jupyter-widgets/controls",
          "model_name": "HTMLModel",
          "model_module_version": "1.5.0",
          "state": {
            "_dom_classes": [],
            "_model_module": "@jupyter-widgets/controls",
            "_model_module_version": "1.5.0",
            "_model_name": "HTMLModel",
            "_view_count": null,
            "_view_module": "@jupyter-widgets/controls",
            "_view_module_version": "1.5.0",
            "_view_name": "HTMLView",
            "description": "",
            "description_tooltip": null,
            "layout": "IPY_MODEL_35c2ebb350484a65ad97d89a7eea6fbc",
            "placeholder": "​",
            "style": "IPY_MODEL_026668cf15574663b2579f0ebc0a3d01",
            "value": " 466k/466k [00:00&lt;00:00, 9.38MB/s]"
          }
        },
        "2b69054a5522431dbf6e4c89893ba525": {
          "model_module": "@jupyter-widgets/base",
          "model_name": "LayoutModel",
          "model_module_version": "1.2.0",
          "state": {
            "_model_module": "@jupyter-widgets/base",
            "_model_module_version": "1.2.0",
            "_model_name": "LayoutModel",
            "_view_count": null,
            "_view_module": "@jupyter-widgets/base",
            "_view_module_version": "1.2.0",
            "_view_name": "LayoutView",
            "align_content": null,
            "align_items": null,
            "align_self": null,
            "border": null,
            "bottom": null,
            "display": null,
            "flex": null,
            "flex_flow": null,
            "grid_area": null,
            "grid_auto_columns": null,
            "grid_auto_flow": null,
            "grid_auto_rows": null,
            "grid_column": null,
            "grid_gap": null,
            "grid_row": null,
            "grid_template_areas": null,
            "grid_template_columns": null,
            "grid_template_rows": null,
            "height": null,
            "justify_content": null,
            "justify_items": null,
            "left": null,
            "margin": null,
            "max_height": null,
            "max_width": null,
            "min_height": null,
            "min_width": null,
            "object_fit": null,
            "object_position": null,
            "order": null,
            "overflow": null,
            "overflow_x": null,
            "overflow_y": null,
            "padding": null,
            "right": null,
            "top": null,
            "visibility": null,
            "width": null
          }
        },
        "924c6bf544534a01b4e7aa4e4bfc24af": {
          "model_module": "@jupyter-widgets/base",
          "model_name": "LayoutModel",
          "model_module_version": "1.2.0",
          "state": {
            "_model_module": "@jupyter-widgets/base",
            "_model_module_version": "1.2.0",
            "_model_name": "LayoutModel",
            "_view_count": null,
            "_view_module": "@jupyter-widgets/base",
            "_view_module_version": "1.2.0",
            "_view_name": "LayoutView",
            "align_content": null,
            "align_items": null,
            "align_self": null,
            "border": null,
            "bottom": null,
            "display": null,
            "flex": null,
            "flex_flow": null,
            "grid_area": null,
            "grid_auto_columns": null,
            "grid_auto_flow": null,
            "grid_auto_rows": null,
            "grid_column": null,
            "grid_gap": null,
            "grid_row": null,
            "grid_template_areas": null,
            "grid_template_columns": null,
            "grid_template_rows": null,
            "height": null,
            "justify_content": null,
            "justify_items": null,
            "left": null,
            "margin": null,
            "max_height": null,
            "max_width": null,
            "min_height": null,
            "min_width": null,
            "object_fit": null,
            "object_position": null,
            "order": null,
            "overflow": null,
            "overflow_x": null,
            "overflow_y": null,
            "padding": null,
            "right": null,
            "top": null,
            "visibility": null,
            "width": null
          }
        },
        "f84bd49e72854ff9abc5b830979aed11": {
          "model_module": "@jupyter-widgets/controls",
          "model_name": "DescriptionStyleModel",
          "model_module_version": "1.5.0",
          "state": {
            "_model_module": "@jupyter-widgets/controls",
            "_model_module_version": "1.5.0",
            "_model_name": "DescriptionStyleModel",
            "_view_count": null,
            "_view_module": "@jupyter-widgets/base",
            "_view_module_version": "1.2.0",
            "_view_name": "StyleView",
            "description_width": ""
          }
        },
        "60ea9b8c8ec8477ca0ca35b1fdbf4caa": {
          "model_module": "@jupyter-widgets/base",
          "model_name": "LayoutModel",
          "model_module_version": "1.2.0",
          "state": {
            "_model_module": "@jupyter-widgets/base",
            "_model_module_version": "1.2.0",
            "_model_name": "LayoutModel",
            "_view_count": null,
            "_view_module": "@jupyter-widgets/base",
            "_view_module_version": "1.2.0",
            "_view_name": "LayoutView",
            "align_content": null,
            "align_items": null,
            "align_self": null,
            "border": null,
            "bottom": null,
            "display": null,
            "flex": null,
            "flex_flow": null,
            "grid_area": null,
            "grid_auto_columns": null,
            "grid_auto_flow": null,
            "grid_auto_rows": null,
            "grid_column": null,
            "grid_gap": null,
            "grid_row": null,
            "grid_template_areas": null,
            "grid_template_columns": null,
            "grid_template_rows": null,
            "height": null,
            "justify_content": null,
            "justify_items": null,
            "left": null,
            "margin": null,
            "max_height": null,
            "max_width": null,
            "min_height": null,
            "min_width": null,
            "object_fit": null,
            "object_position": null,
            "order": null,
            "overflow": null,
            "overflow_x": null,
            "overflow_y": null,
            "padding": null,
            "right": null,
            "top": null,
            "visibility": null,
            "width": null
          }
        },
        "d9a40af0597148588d884d2c6c17a544": {
          "model_module": "@jupyter-widgets/controls",
          "model_name": "ProgressStyleModel",
          "model_module_version": "1.5.0",
          "state": {
            "_model_module": "@jupyter-widgets/controls",
            "_model_module_version": "1.5.0",
            "_model_name": "ProgressStyleModel",
            "_view_count": null,
            "_view_module": "@jupyter-widgets/base",
            "_view_module_version": "1.2.0",
            "_view_name": "StyleView",
            "bar_color": null,
            "description_width": ""
          }
        },
        "35c2ebb350484a65ad97d89a7eea6fbc": {
          "model_module": "@jupyter-widgets/base",
          "model_name": "LayoutModel",
          "model_module_version": "1.2.0",
          "state": {
            "_model_module": "@jupyter-widgets/base",
            "_model_module_version": "1.2.0",
            "_model_name": "LayoutModel",
            "_view_count": null,
            "_view_module": "@jupyter-widgets/base",
            "_view_module_version": "1.2.0",
            "_view_name": "LayoutView",
            "align_content": null,
            "align_items": null,
            "align_self": null,
            "border": null,
            "bottom": null,
            "display": null,
            "flex": null,
            "flex_flow": null,
            "grid_area": null,
            "grid_auto_columns": null,
            "grid_auto_flow": null,
            "grid_auto_rows": null,
            "grid_column": null,
            "grid_gap": null,
            "grid_row": null,
            "grid_template_areas": null,
            "grid_template_columns": null,
            "grid_template_rows": null,
            "height": null,
            "justify_content": null,
            "justify_items": null,
            "left": null,
            "margin": null,
            "max_height": null,
            "max_width": null,
            "min_height": null,
            "min_width": null,
            "object_fit": null,
            "object_position": null,
            "order": null,
            "overflow": null,
            "overflow_x": null,
            "overflow_y": null,
            "padding": null,
            "right": null,
            "top": null,
            "visibility": null,
            "width": null
          }
        },
        "026668cf15574663b2579f0ebc0a3d01": {
          "model_module": "@jupyter-widgets/controls",
          "model_name": "DescriptionStyleModel",
          "model_module_version": "1.5.0",
          "state": {
            "_model_module": "@jupyter-widgets/controls",
            "_model_module_version": "1.5.0",
            "_model_name": "DescriptionStyleModel",
            "_view_count": null,
            "_view_module": "@jupyter-widgets/base",
            "_view_module_version": "1.2.0",
            "_view_name": "StyleView",
            "description_width": ""
          }
        },
        "e970691839a645f4b1472c028cf1d9f5": {
          "model_module": "@jupyter-widgets/controls",
          "model_name": "HBoxModel",
          "model_module_version": "1.5.0",
          "state": {
            "_dom_classes": [],
            "_model_module": "@jupyter-widgets/controls",
            "_model_module_version": "1.5.0",
            "_model_name": "HBoxModel",
            "_view_count": null,
            "_view_module": "@jupyter-widgets/controls",
            "_view_module_version": "1.5.0",
            "_view_name": "HBoxView",
            "box_style": "",
            "children": [
              "IPY_MODEL_79b7efa34bd843f1a682d7455bdb8eaa",
              "IPY_MODEL_5843270b7a6c41b38c4fdc7e9ff996e7",
              "IPY_MODEL_a81d454db52a42f89df37bc2b38ba2a1"
            ],
            "layout": "IPY_MODEL_00ffb6b5a1534329a539083daa52c026"
          }
        },
        "79b7efa34bd843f1a682d7455bdb8eaa": {
          "model_module": "@jupyter-widgets/controls",
          "model_name": "HTMLModel",
          "model_module_version": "1.5.0",
          "state": {
            "_dom_classes": [],
            "_model_module": "@jupyter-widgets/controls",
            "_model_module_version": "1.5.0",
            "_model_name": "HTMLModel",
            "_view_count": null,
            "_view_module": "@jupyter-widgets/controls",
            "_view_module_version": "1.5.0",
            "_view_name": "HTMLView",
            "description": "",
            "description_tooltip": null,
            "layout": "IPY_MODEL_cfb694fd923b4b158e8c801b926b61e5",
            "placeholder": "​",
            "style": "IPY_MODEL_ba85cb48f5e24b73ab6348c56048131c",
            "value": "special_tokens_map.json: 100%"
          }
        },
        "5843270b7a6c41b38c4fdc7e9ff996e7": {
          "model_module": "@jupyter-widgets/controls",
          "model_name": "FloatProgressModel",
          "model_module_version": "1.5.0",
          "state": {
            "_dom_classes": [],
            "_model_module": "@jupyter-widgets/controls",
            "_model_module_version": "1.5.0",
            "_model_name": "FloatProgressModel",
            "_view_count": null,
            "_view_module": "@jupyter-widgets/controls",
            "_view_module_version": "1.5.0",
            "_view_name": "ProgressView",
            "bar_style": "success",
            "description": "",
            "description_tooltip": null,
            "layout": "IPY_MODEL_8f2e1b1e140d48db88ae0e77af6324cc",
            "max": 239,
            "min": 0,
            "orientation": "horizontal",
            "style": "IPY_MODEL_7a1b2f4421544c288d91518d846f9740",
            "value": 239
          }
        },
        "a81d454db52a42f89df37bc2b38ba2a1": {
          "model_module": "@jupyter-widgets/controls",
          "model_name": "HTMLModel",
          "model_module_version": "1.5.0",
          "state": {
            "_dom_classes": [],
            "_model_module": "@jupyter-widgets/controls",
            "_model_module_version": "1.5.0",
            "_model_name": "HTMLModel",
            "_view_count": null,
            "_view_module": "@jupyter-widgets/controls",
            "_view_module_version": "1.5.0",
            "_view_name": "HTMLView",
            "description": "",
            "description_tooltip": null,
            "layout": "IPY_MODEL_f523960c5c2f4fa3871889c0b36ab206",
            "placeholder": "​",
            "style": "IPY_MODEL_337c5316ff3548c282cb69a1f51126a2",
            "value": " 239/239 [00:00&lt;00:00, 10.8kB/s]"
          }
        },
        "00ffb6b5a1534329a539083daa52c026": {
          "model_module": "@jupyter-widgets/base",
          "model_name": "LayoutModel",
          "model_module_version": "1.2.0",
          "state": {
            "_model_module": "@jupyter-widgets/base",
            "_model_module_version": "1.2.0",
            "_model_name": "LayoutModel",
            "_view_count": null,
            "_view_module": "@jupyter-widgets/base",
            "_view_module_version": "1.2.0",
            "_view_name": "LayoutView",
            "align_content": null,
            "align_items": null,
            "align_self": null,
            "border": null,
            "bottom": null,
            "display": null,
            "flex": null,
            "flex_flow": null,
            "grid_area": null,
            "grid_auto_columns": null,
            "grid_auto_flow": null,
            "grid_auto_rows": null,
            "grid_column": null,
            "grid_gap": null,
            "grid_row": null,
            "grid_template_areas": null,
            "grid_template_columns": null,
            "grid_template_rows": null,
            "height": null,
            "justify_content": null,
            "justify_items": null,
            "left": null,
            "margin": null,
            "max_height": null,
            "max_width": null,
            "min_height": null,
            "min_width": null,
            "object_fit": null,
            "object_position": null,
            "order": null,
            "overflow": null,
            "overflow_x": null,
            "overflow_y": null,
            "padding": null,
            "right": null,
            "top": null,
            "visibility": null,
            "width": null
          }
        },
        "cfb694fd923b4b158e8c801b926b61e5": {
          "model_module": "@jupyter-widgets/base",
          "model_name": "LayoutModel",
          "model_module_version": "1.2.0",
          "state": {
            "_model_module": "@jupyter-widgets/base",
            "_model_module_version": "1.2.0",
            "_model_name": "LayoutModel",
            "_view_count": null,
            "_view_module": "@jupyter-widgets/base",
            "_view_module_version": "1.2.0",
            "_view_name": "LayoutView",
            "align_content": null,
            "align_items": null,
            "align_self": null,
            "border": null,
            "bottom": null,
            "display": null,
            "flex": null,
            "flex_flow": null,
            "grid_area": null,
            "grid_auto_columns": null,
            "grid_auto_flow": null,
            "grid_auto_rows": null,
            "grid_column": null,
            "grid_gap": null,
            "grid_row": null,
            "grid_template_areas": null,
            "grid_template_columns": null,
            "grid_template_rows": null,
            "height": null,
            "justify_content": null,
            "justify_items": null,
            "left": null,
            "margin": null,
            "max_height": null,
            "max_width": null,
            "min_height": null,
            "min_width": null,
            "object_fit": null,
            "object_position": null,
            "order": null,
            "overflow": null,
            "overflow_x": null,
            "overflow_y": null,
            "padding": null,
            "right": null,
            "top": null,
            "visibility": null,
            "width": null
          }
        },
        "ba85cb48f5e24b73ab6348c56048131c": {
          "model_module": "@jupyter-widgets/controls",
          "model_name": "DescriptionStyleModel",
          "model_module_version": "1.5.0",
          "state": {
            "_model_module": "@jupyter-widgets/controls",
            "_model_module_version": "1.5.0",
            "_model_name": "DescriptionStyleModel",
            "_view_count": null,
            "_view_module": "@jupyter-widgets/base",
            "_view_module_version": "1.2.0",
            "_view_name": "StyleView",
            "description_width": ""
          }
        },
        "8f2e1b1e140d48db88ae0e77af6324cc": {
          "model_module": "@jupyter-widgets/base",
          "model_name": "LayoutModel",
          "model_module_version": "1.2.0",
          "state": {
            "_model_module": "@jupyter-widgets/base",
            "_model_module_version": "1.2.0",
            "_model_name": "LayoutModel",
            "_view_count": null,
            "_view_module": "@jupyter-widgets/base",
            "_view_module_version": "1.2.0",
            "_view_name": "LayoutView",
            "align_content": null,
            "align_items": null,
            "align_self": null,
            "border": null,
            "bottom": null,
            "display": null,
            "flex": null,
            "flex_flow": null,
            "grid_area": null,
            "grid_auto_columns": null,
            "grid_auto_flow": null,
            "grid_auto_rows": null,
            "grid_column": null,
            "grid_gap": null,
            "grid_row": null,
            "grid_template_areas": null,
            "grid_template_columns": null,
            "grid_template_rows": null,
            "height": null,
            "justify_content": null,
            "justify_items": null,
            "left": null,
            "margin": null,
            "max_height": null,
            "max_width": null,
            "min_height": null,
            "min_width": null,
            "object_fit": null,
            "object_position": null,
            "order": null,
            "overflow": null,
            "overflow_x": null,
            "overflow_y": null,
            "padding": null,
            "right": null,
            "top": null,
            "visibility": null,
            "width": null
          }
        },
        "7a1b2f4421544c288d91518d846f9740": {
          "model_module": "@jupyter-widgets/controls",
          "model_name": "ProgressStyleModel",
          "model_module_version": "1.5.0",
          "state": {
            "_model_module": "@jupyter-widgets/controls",
            "_model_module_version": "1.5.0",
            "_model_name": "ProgressStyleModel",
            "_view_count": null,
            "_view_module": "@jupyter-widgets/base",
            "_view_module_version": "1.2.0",
            "_view_name": "StyleView",
            "bar_color": null,
            "description_width": ""
          }
        },
        "f523960c5c2f4fa3871889c0b36ab206": {
          "model_module": "@jupyter-widgets/base",
          "model_name": "LayoutModel",
          "model_module_version": "1.2.0",
          "state": {
            "_model_module": "@jupyter-widgets/base",
            "_model_module_version": "1.2.0",
            "_model_name": "LayoutModel",
            "_view_count": null,
            "_view_module": "@jupyter-widgets/base",
            "_view_module_version": "1.2.0",
            "_view_name": "LayoutView",
            "align_content": null,
            "align_items": null,
            "align_self": null,
            "border": null,
            "bottom": null,
            "display": null,
            "flex": null,
            "flex_flow": null,
            "grid_area": null,
            "grid_auto_columns": null,
            "grid_auto_flow": null,
            "grid_auto_rows": null,
            "grid_column": null,
            "grid_gap": null,
            "grid_row": null,
            "grid_template_areas": null,
            "grid_template_columns": null,
            "grid_template_rows": null,
            "height": null,
            "justify_content": null,
            "justify_items": null,
            "left": null,
            "margin": null,
            "max_height": null,
            "max_width": null,
            "min_height": null,
            "min_width": null,
            "object_fit": null,
            "object_position": null,
            "order": null,
            "overflow": null,
            "overflow_x": null,
            "overflow_y": null,
            "padding": null,
            "right": null,
            "top": null,
            "visibility": null,
            "width": null
          }
        },
        "337c5316ff3548c282cb69a1f51126a2": {
          "model_module": "@jupyter-widgets/controls",
          "model_name": "DescriptionStyleModel",
          "model_module_version": "1.5.0",
          "state": {
            "_model_module": "@jupyter-widgets/controls",
            "_model_module_version": "1.5.0",
            "_model_name": "DescriptionStyleModel",
            "_view_count": null,
            "_view_module": "@jupyter-widgets/base",
            "_view_module_version": "1.2.0",
            "_view_name": "StyleView",
            "description_width": ""
          }
        },
        "608606fe6bac479984d502ff5d9fb5af": {
          "model_module": "@jupyter-widgets/controls",
          "model_name": "HBoxModel",
          "model_module_version": "1.5.0",
          "state": {
            "_dom_classes": [],
            "_model_module": "@jupyter-widgets/controls",
            "_model_module_version": "1.5.0",
            "_model_name": "HBoxModel",
            "_view_count": null,
            "_view_module": "@jupyter-widgets/controls",
            "_view_module_version": "1.5.0",
            "_view_name": "HBoxView",
            "box_style": "",
            "children": [
              "IPY_MODEL_c92974e87e554258a30059deef034dad",
              "IPY_MODEL_73951016cb7d41eb927918a9d163f631",
              "IPY_MODEL_3b9d05a8d3e845b6a0badf7ec7a7c213"
            ],
            "layout": "IPY_MODEL_83d2c5e407d347a688a766db9f72b665"
          }
        },
        "c92974e87e554258a30059deef034dad": {
          "model_module": "@jupyter-widgets/controls",
          "model_name": "HTMLModel",
          "model_module_version": "1.5.0",
          "state": {
            "_dom_classes": [],
            "_model_module": "@jupyter-widgets/controls",
            "_model_module_version": "1.5.0",
            "_model_name": "HTMLModel",
            "_view_count": null,
            "_view_module": "@jupyter-widgets/controls",
            "_view_module_version": "1.5.0",
            "_view_name": "HTMLView",
            "description": "",
            "description_tooltip": null,
            "layout": "IPY_MODEL_7b592a5c9b2b467ab808858cc2c68a31",
            "placeholder": "​",
            "style": "IPY_MODEL_84db7458b65a456fa9db1e2a96d09e7d",
            "value": "1_Pooling/config.json: 100%"
          }
        },
        "73951016cb7d41eb927918a9d163f631": {
          "model_module": "@jupyter-widgets/controls",
          "model_name": "FloatProgressModel",
          "model_module_version": "1.5.0",
          "state": {
            "_dom_classes": [],
            "_model_module": "@jupyter-widgets/controls",
            "_model_module_version": "1.5.0",
            "_model_name": "FloatProgressModel",
            "_view_count": null,
            "_view_module": "@jupyter-widgets/controls",
            "_view_module_version": "1.5.0",
            "_view_name": "ProgressView",
            "bar_style": "success",
            "description": "",
            "description_tooltip": null,
            "layout": "IPY_MODEL_10564fdb663b4f7698d22554b3b46a45",
            "max": 190,
            "min": 0,
            "orientation": "horizontal",
            "style": "IPY_MODEL_a064d196c86b425094243640f5eb6c3f",
            "value": 190
          }
        },
        "3b9d05a8d3e845b6a0badf7ec7a7c213": {
          "model_module": "@jupyter-widgets/controls",
          "model_name": "HTMLModel",
          "model_module_version": "1.5.0",
          "state": {
            "_dom_classes": [],
            "_model_module": "@jupyter-widgets/controls",
            "_model_module_version": "1.5.0",
            "_model_name": "HTMLModel",
            "_view_count": null,
            "_view_module": "@jupyter-widgets/controls",
            "_view_module_version": "1.5.0",
            "_view_name": "HTMLView",
            "description": "",
            "description_tooltip": null,
            "layout": "IPY_MODEL_264e9a791f2349088585a6ea441c37fd",
            "placeholder": "​",
            "style": "IPY_MODEL_0d6bb1ca401c4a8ba500925b398dbc03",
            "value": " 190/190 [00:00&lt;00:00, 9.50kB/s]"
          }
        },
        "83d2c5e407d347a688a766db9f72b665": {
          "model_module": "@jupyter-widgets/base",
          "model_name": "LayoutModel",
          "model_module_version": "1.2.0",
          "state": {
            "_model_module": "@jupyter-widgets/base",
            "_model_module_version": "1.2.0",
            "_model_name": "LayoutModel",
            "_view_count": null,
            "_view_module": "@jupyter-widgets/base",
            "_view_module_version": "1.2.0",
            "_view_name": "LayoutView",
            "align_content": null,
            "align_items": null,
            "align_self": null,
            "border": null,
            "bottom": null,
            "display": null,
            "flex": null,
            "flex_flow": null,
            "grid_area": null,
            "grid_auto_columns": null,
            "grid_auto_flow": null,
            "grid_auto_rows": null,
            "grid_column": null,
            "grid_gap": null,
            "grid_row": null,
            "grid_template_areas": null,
            "grid_template_columns": null,
            "grid_template_rows": null,
            "height": null,
            "justify_content": null,
            "justify_items": null,
            "left": null,
            "margin": null,
            "max_height": null,
            "max_width": null,
            "min_height": null,
            "min_width": null,
            "object_fit": null,
            "object_position": null,
            "order": null,
            "overflow": null,
            "overflow_x": null,
            "overflow_y": null,
            "padding": null,
            "right": null,
            "top": null,
            "visibility": null,
            "width": null
          }
        },
        "7b592a5c9b2b467ab808858cc2c68a31": {
          "model_module": "@jupyter-widgets/base",
          "model_name": "LayoutModel",
          "model_module_version": "1.2.0",
          "state": {
            "_model_module": "@jupyter-widgets/base",
            "_model_module_version": "1.2.0",
            "_model_name": "LayoutModel",
            "_view_count": null,
            "_view_module": "@jupyter-widgets/base",
            "_view_module_version": "1.2.0",
            "_view_name": "LayoutView",
            "align_content": null,
            "align_items": null,
            "align_self": null,
            "border": null,
            "bottom": null,
            "display": null,
            "flex": null,
            "flex_flow": null,
            "grid_area": null,
            "grid_auto_columns": null,
            "grid_auto_flow": null,
            "grid_auto_rows": null,
            "grid_column": null,
            "grid_gap": null,
            "grid_row": null,
            "grid_template_areas": null,
            "grid_template_columns": null,
            "grid_template_rows": null,
            "height": null,
            "justify_content": null,
            "justify_items": null,
            "left": null,
            "margin": null,
            "max_height": null,
            "max_width": null,
            "min_height": null,
            "min_width": null,
            "object_fit": null,
            "object_position": null,
            "order": null,
            "overflow": null,
            "overflow_x": null,
            "overflow_y": null,
            "padding": null,
            "right": null,
            "top": null,
            "visibility": null,
            "width": null
          }
        },
        "84db7458b65a456fa9db1e2a96d09e7d": {
          "model_module": "@jupyter-widgets/controls",
          "model_name": "DescriptionStyleModel",
          "model_module_version": "1.5.0",
          "state": {
            "_model_module": "@jupyter-widgets/controls",
            "_model_module_version": "1.5.0",
            "_model_name": "DescriptionStyleModel",
            "_view_count": null,
            "_view_module": "@jupyter-widgets/base",
            "_view_module_version": "1.2.0",
            "_view_name": "StyleView",
            "description_width": ""
          }
        },
        "10564fdb663b4f7698d22554b3b46a45": {
          "model_module": "@jupyter-widgets/base",
          "model_name": "LayoutModel",
          "model_module_version": "1.2.0",
          "state": {
            "_model_module": "@jupyter-widgets/base",
            "_model_module_version": "1.2.0",
            "_model_name": "LayoutModel",
            "_view_count": null,
            "_view_module": "@jupyter-widgets/base",
            "_view_module_version": "1.2.0",
            "_view_name": "LayoutView",
            "align_content": null,
            "align_items": null,
            "align_self": null,
            "border": null,
            "bottom": null,
            "display": null,
            "flex": null,
            "flex_flow": null,
            "grid_area": null,
            "grid_auto_columns": null,
            "grid_auto_flow": null,
            "grid_auto_rows": null,
            "grid_column": null,
            "grid_gap": null,
            "grid_row": null,
            "grid_template_areas": null,
            "grid_template_columns": null,
            "grid_template_rows": null,
            "height": null,
            "justify_content": null,
            "justify_items": null,
            "left": null,
            "margin": null,
            "max_height": null,
            "max_width": null,
            "min_height": null,
            "min_width": null,
            "object_fit": null,
            "object_position": null,
            "order": null,
            "overflow": null,
            "overflow_x": null,
            "overflow_y": null,
            "padding": null,
            "right": null,
            "top": null,
            "visibility": null,
            "width": null
          }
        },
        "a064d196c86b425094243640f5eb6c3f": {
          "model_module": "@jupyter-widgets/controls",
          "model_name": "ProgressStyleModel",
          "model_module_version": "1.5.0",
          "state": {
            "_model_module": "@jupyter-widgets/controls",
            "_model_module_version": "1.5.0",
            "_model_name": "ProgressStyleModel",
            "_view_count": null,
            "_view_module": "@jupyter-widgets/base",
            "_view_module_version": "1.2.0",
            "_view_name": "StyleView",
            "bar_color": null,
            "description_width": ""
          }
        },
        "264e9a791f2349088585a6ea441c37fd": {
          "model_module": "@jupyter-widgets/base",
          "model_name": "LayoutModel",
          "model_module_version": "1.2.0",
          "state": {
            "_model_module": "@jupyter-widgets/base",
            "_model_module_version": "1.2.0",
            "_model_name": "LayoutModel",
            "_view_count": null,
            "_view_module": "@jupyter-widgets/base",
            "_view_module_version": "1.2.0",
            "_view_name": "LayoutView",
            "align_content": null,
            "align_items": null,
            "align_self": null,
            "border": null,
            "bottom": null,
            "display": null,
            "flex": null,
            "flex_flow": null,
            "grid_area": null,
            "grid_auto_columns": null,
            "grid_auto_flow": null,
            "grid_auto_rows": null,
            "grid_column": null,
            "grid_gap": null,
            "grid_row": null,
            "grid_template_areas": null,
            "grid_template_columns": null,
            "grid_template_rows": null,
            "height": null,
            "justify_content": null,
            "justify_items": null,
            "left": null,
            "margin": null,
            "max_height": null,
            "max_width": null,
            "min_height": null,
            "min_width": null,
            "object_fit": null,
            "object_position": null,
            "order": null,
            "overflow": null,
            "overflow_x": null,
            "overflow_y": null,
            "padding": null,
            "right": null,
            "top": null,
            "visibility": null,
            "width": null
          }
        },
        "0d6bb1ca401c4a8ba500925b398dbc03": {
          "model_module": "@jupyter-widgets/controls",
          "model_name": "DescriptionStyleModel",
          "model_module_version": "1.5.0",
          "state": {
            "_model_module": "@jupyter-widgets/controls",
            "_model_module_version": "1.5.0",
            "_model_name": "DescriptionStyleModel",
            "_view_count": null,
            "_view_module": "@jupyter-widgets/base",
            "_view_module_version": "1.2.0",
            "_view_name": "StyleView",
            "description_width": ""
          }
        }
      }
    }
  },
  "nbformat": 4,
  "nbformat_minor": 0
}